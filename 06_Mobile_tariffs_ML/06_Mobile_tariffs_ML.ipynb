{
 "cells": [
  {
   "cell_type": "markdown",
   "metadata": {
    "toc": true
   },
   "source": [
    "<h1>Содержание<span class=\"tocSkip\"></span></h1>\n",
    "<div class=\"toc\"><ul class=\"toc-item\"><li><span><a href=\"#Загрузка-и-изучение-данных\" data-toc-modified-id=\"Загрузка-и-изучение-данных-1\"><span class=\"toc-item-num\">1&nbsp;&nbsp;</span>Загрузка и изучение данных</a></span><ul class=\"toc-item\"><li><span><a href=\"#Вывод\" data-toc-modified-id=\"Вывод-1.1\"><span class=\"toc-item-num\">1.1&nbsp;&nbsp;</span>Вывод</a></span></li></ul></li><li><span><a href=\"#Разбиение-данных-на-выборки\" data-toc-modified-id=\"Разбиение-данных-на-выборки-2\"><span class=\"toc-item-num\">2&nbsp;&nbsp;</span>Разбиение данных на выборки</a></span><ul class=\"toc-item\"><li><span><a href=\"#Выводы\" data-toc-modified-id=\"Выводы-2.1\"><span class=\"toc-item-num\">2.1&nbsp;&nbsp;</span>Выводы</a></span></li></ul></li><li><span><a href=\"#Исследование-модели\" data-toc-modified-id=\"Исследование-модели-3\"><span class=\"toc-item-num\">3&nbsp;&nbsp;</span>Исследование модели</a></span><ul class=\"toc-item\"><li><span><a href=\"#Модель-«дерево-решений»\" data-toc-modified-id=\"Модель-«дерево-решений»-3.1\"><span class=\"toc-item-num\">3.1&nbsp;&nbsp;</span>Модель «дерево решений»</a></span></li><li><span><a href=\"#Модель-«случайный-лес»\" data-toc-modified-id=\"Модель-«случайный-лес»-3.2\"><span class=\"toc-item-num\">3.2&nbsp;&nbsp;</span>Модель «случайный лес»</a></span></li><li><span><a href=\"#Вывод\" data-toc-modified-id=\"Вывод-3.3\"><span class=\"toc-item-num\">3.3&nbsp;&nbsp;</span>Вывод</a></span></li></ul></li><li><span><a href=\"#Проверка-модели-на-тестовой-выборке\" data-toc-modified-id=\"Проверка-модели-на-тестовой-выборке-4\"><span class=\"toc-item-num\">4&nbsp;&nbsp;</span>Проверка модели на тестовой выборке</a></span><ul class=\"toc-item\"><li><span><a href=\"#Модель-«дерево-решений»\" data-toc-modified-id=\"Модель-«дерево-решений»-4.1\"><span class=\"toc-item-num\">4.1&nbsp;&nbsp;</span>Модель «дерево решений»</a></span></li><li><span><a href=\"#Модель-«случайный-лес»\" data-toc-modified-id=\"Модель-«случайный-лес»-4.2\"><span class=\"toc-item-num\">4.2&nbsp;&nbsp;</span>Модель «случайный лес»</a></span></li><li><span><a href=\"#Вывод\" data-toc-modified-id=\"Вывод-4.3\"><span class=\"toc-item-num\">4.3&nbsp;&nbsp;</span>Вывод</a></span></li></ul></li><li><span><a href=\"#Проверка-модели-на-адекватность\" data-toc-modified-id=\"Проверка-модели-на-адекватность-5\"><span class=\"toc-item-num\">5&nbsp;&nbsp;</span>Проверка модели на адекватность</a></span></li></ul></div>"
   ]
  },
  {
   "cell_type": "markdown",
   "metadata": {},
   "source": [
    "# Рекомендация тарифов"
   ]
  },
  {
   "cell_type": "markdown",
   "metadata": {},
   "source": [
    "**Краткое описание**\n",
    "\n",
    "Предоставлены данные о поведении клиентов, которые уже перешли на исследуемые тарифы. Нужно построить модель для задачи классификации, которая выберет подходящий тариф.\n",
    "\n",
    "Необходимо построить модель с максимально большим значением *accuracy*. Долю правильных ответов нужно довести по крайней мере до 0.75.\n",
    "\n",
    "**Цель**\n",
    "\n",
    "Получение навыков работы с библиотекой для реализации моделей машинного обучения `sklearn`.\n",
    "\n",
    "**Структура исследования**\n",
    "1. Загрузка и изучение данных\n",
    "2. Разбиение данных на выборки\n",
    "3. Исследование модели\n",
    "4. Проверка модели на тестовой выборке\n",
    "5. Проверка модели на адекватность\n",
    "\n",
    "**Использование дополнительных модулей и библиотек**\n",
    "- `pandas` – редактор баз данных  \n",
    "- `sklearn` – машинное обучение"
   ]
  },
  {
   "cell_type": "code",
   "execution_count": 1,
   "metadata": {},
   "outputs": [],
   "source": [
    "import pandas as pd\n",
    "from sklearn.model_selection import train_test_split\n",
    "from sklearn.tree import DecisionTreeClassifier\n",
    "from sklearn.ensemble import RandomForestClassifier\n",
    "from sklearn.metrics import accuracy_score\n",
    "from sklearn.dummy import DummyClassifier"
   ]
  },
  {
   "cell_type": "markdown",
   "metadata": {},
   "source": [
    "## Загрузка и изучение данных"
   ]
  },
  {
   "cell_type": "code",
   "execution_count": 2,
   "metadata": {
    "scrolled": true
   },
   "outputs": [
    {
     "data": {
      "text/html": [
       "<div>\n",
       "<style scoped>\n",
       "    .dataframe tbody tr th:only-of-type {\n",
       "        vertical-align: middle;\n",
       "    }\n",
       "\n",
       "    .dataframe tbody tr th {\n",
       "        vertical-align: top;\n",
       "    }\n",
       "\n",
       "    .dataframe thead th {\n",
       "        text-align: right;\n",
       "    }\n",
       "</style>\n",
       "<table border=\"1\" class=\"dataframe\">\n",
       "  <thead>\n",
       "    <tr style=\"text-align: right;\">\n",
       "      <th></th>\n",
       "      <th>calls</th>\n",
       "      <th>minutes</th>\n",
       "      <th>messages</th>\n",
       "      <th>mb_used</th>\n",
       "      <th>is_ultra</th>\n",
       "    </tr>\n",
       "  </thead>\n",
       "  <tbody>\n",
       "    <tr>\n",
       "      <td>0</td>\n",
       "      <td>40.0</td>\n",
       "      <td>311.90</td>\n",
       "      <td>83.0</td>\n",
       "      <td>19915.42</td>\n",
       "      <td>0</td>\n",
       "    </tr>\n",
       "    <tr>\n",
       "      <td>1</td>\n",
       "      <td>85.0</td>\n",
       "      <td>516.75</td>\n",
       "      <td>56.0</td>\n",
       "      <td>22696.96</td>\n",
       "      <td>0</td>\n",
       "    </tr>\n",
       "    <tr>\n",
       "      <td>2</td>\n",
       "      <td>77.0</td>\n",
       "      <td>467.66</td>\n",
       "      <td>86.0</td>\n",
       "      <td>21060.45</td>\n",
       "      <td>0</td>\n",
       "    </tr>\n",
       "    <tr>\n",
       "      <td>3</td>\n",
       "      <td>106.0</td>\n",
       "      <td>745.53</td>\n",
       "      <td>81.0</td>\n",
       "      <td>8437.39</td>\n",
       "      <td>1</td>\n",
       "    </tr>\n",
       "    <tr>\n",
       "      <td>4</td>\n",
       "      <td>66.0</td>\n",
       "      <td>418.74</td>\n",
       "      <td>1.0</td>\n",
       "      <td>14502.75</td>\n",
       "      <td>0</td>\n",
       "    </tr>\n",
       "  </tbody>\n",
       "</table>\n",
       "</div>"
      ],
      "text/plain": [
       "   calls  minutes  messages   mb_used  is_ultra\n",
       "0   40.0   311.90      83.0  19915.42         0\n",
       "1   85.0   516.75      56.0  22696.96         0\n",
       "2   77.0   467.66      86.0  21060.45         0\n",
       "3  106.0   745.53      81.0   8437.39         1\n",
       "4   66.0   418.74       1.0  14502.75         0"
      ]
     },
     "execution_count": 2,
     "metadata": {},
     "output_type": "execute_result"
    }
   ],
   "source": [
    "df = pd.read_csv('users_behavior.csv')\n",
    "df.head()"
   ]
  },
  {
   "cell_type": "markdown",
   "metadata": {},
   "source": [
    "Расшифровка названий столбцов:\n",
    "\n",
    "`сalls` — количество звонков  \n",
    "`minutes` — суммарная длительность звонков в минутах  \n",
    "`messages` — количество sms-сообщений  \n",
    "`mb_used` — израсходованный интернет-трафик в Мб  \n",
    "`is_ultra` — каким тарифом пользовался в течение месяца («Ультра» — 1, «Смарт» — 0)"
   ]
  },
  {
   "cell_type": "code",
   "execution_count": 3,
   "metadata": {
    "scrolled": false
   },
   "outputs": [
    {
     "name": "stdout",
     "output_type": "stream",
     "text": [
      "<class 'pandas.core.frame.DataFrame'>\n",
      "RangeIndex: 3214 entries, 0 to 3213\n",
      "Data columns (total 5 columns):\n",
      "calls       3214 non-null float64\n",
      "minutes     3214 non-null float64\n",
      "messages    3214 non-null float64\n",
      "mb_used     3214 non-null float64\n",
      "is_ultra    3214 non-null int64\n",
      "dtypes: float64(4), int64(1)\n",
      "memory usage: 125.7 KB\n"
     ]
    }
   ],
   "source": [
    "# общие сведения о датафрейме\n",
    "df.info()"
   ]
  },
  {
   "cell_type": "markdown",
   "metadata": {},
   "source": [
    "Пропуски данных в исследуемом датафрейме отсутствуют."
   ]
  },
  {
   "cell_type": "code",
   "execution_count": 4,
   "metadata": {
    "scrolled": true
   },
   "outputs": [
    {
     "data": {
      "text/html": [
       "<div>\n",
       "<style scoped>\n",
       "    .dataframe tbody tr th:only-of-type {\n",
       "        vertical-align: middle;\n",
       "    }\n",
       "\n",
       "    .dataframe tbody tr th {\n",
       "        vertical-align: top;\n",
       "    }\n",
       "\n",
       "    .dataframe thead th {\n",
       "        text-align: right;\n",
       "    }\n",
       "</style>\n",
       "<table border=\"1\" class=\"dataframe\">\n",
       "  <thead>\n",
       "    <tr style=\"text-align: right;\">\n",
       "      <th></th>\n",
       "      <th>calls</th>\n",
       "      <th>minutes</th>\n",
       "      <th>messages</th>\n",
       "      <th>mb_used</th>\n",
       "      <th>is_ultra</th>\n",
       "    </tr>\n",
       "  </thead>\n",
       "  <tbody>\n",
       "    <tr>\n",
       "      <td>count</td>\n",
       "      <td>3214.000000</td>\n",
       "      <td>3214.000000</td>\n",
       "      <td>3214.000000</td>\n",
       "      <td>3214.000000</td>\n",
       "      <td>3214.000000</td>\n",
       "    </tr>\n",
       "    <tr>\n",
       "      <td>mean</td>\n",
       "      <td>63.038892</td>\n",
       "      <td>438.208787</td>\n",
       "      <td>38.281269</td>\n",
       "      <td>17207.673836</td>\n",
       "      <td>0.306472</td>\n",
       "    </tr>\n",
       "    <tr>\n",
       "      <td>std</td>\n",
       "      <td>33.236368</td>\n",
       "      <td>234.569872</td>\n",
       "      <td>36.148326</td>\n",
       "      <td>7570.968246</td>\n",
       "      <td>0.461100</td>\n",
       "    </tr>\n",
       "    <tr>\n",
       "      <td>min</td>\n",
       "      <td>0.000000</td>\n",
       "      <td>0.000000</td>\n",
       "      <td>0.000000</td>\n",
       "      <td>0.000000</td>\n",
       "      <td>0.000000</td>\n",
       "    </tr>\n",
       "    <tr>\n",
       "      <td>25%</td>\n",
       "      <td>40.000000</td>\n",
       "      <td>274.575000</td>\n",
       "      <td>9.000000</td>\n",
       "      <td>12491.902500</td>\n",
       "      <td>0.000000</td>\n",
       "    </tr>\n",
       "    <tr>\n",
       "      <td>50%</td>\n",
       "      <td>62.000000</td>\n",
       "      <td>430.600000</td>\n",
       "      <td>30.000000</td>\n",
       "      <td>16943.235000</td>\n",
       "      <td>0.000000</td>\n",
       "    </tr>\n",
       "    <tr>\n",
       "      <td>75%</td>\n",
       "      <td>82.000000</td>\n",
       "      <td>571.927500</td>\n",
       "      <td>57.000000</td>\n",
       "      <td>21424.700000</td>\n",
       "      <td>1.000000</td>\n",
       "    </tr>\n",
       "    <tr>\n",
       "      <td>max</td>\n",
       "      <td>244.000000</td>\n",
       "      <td>1632.060000</td>\n",
       "      <td>224.000000</td>\n",
       "      <td>49745.730000</td>\n",
       "      <td>1.000000</td>\n",
       "    </tr>\n",
       "  </tbody>\n",
       "</table>\n",
       "</div>"
      ],
      "text/plain": [
       "             calls      minutes     messages       mb_used     is_ultra\n",
       "count  3214.000000  3214.000000  3214.000000   3214.000000  3214.000000\n",
       "mean     63.038892   438.208787    38.281269  17207.673836     0.306472\n",
       "std      33.236368   234.569872    36.148326   7570.968246     0.461100\n",
       "min       0.000000     0.000000     0.000000      0.000000     0.000000\n",
       "25%      40.000000   274.575000     9.000000  12491.902500     0.000000\n",
       "50%      62.000000   430.600000    30.000000  16943.235000     0.000000\n",
       "75%      82.000000   571.927500    57.000000  21424.700000     1.000000\n",
       "max     244.000000  1632.060000   224.000000  49745.730000     1.000000"
      ]
     },
     "execution_count": 4,
     "metadata": {},
     "output_type": "execute_result"
    }
   ],
   "source": [
    "# общая статистика числовых характеристик датафрейма\n",
    "df.describe()"
   ]
  },
  {
   "cell_type": "markdown",
   "metadata": {},
   "source": [
    "### Вывод\n",
    "Поскольку предварительная обработка исследуемого датафрейма была выполнена ранее, данные полностью готовы для передачи в модели машинного обучения."
   ]
  },
  {
   "cell_type": "markdown",
   "metadata": {},
   "source": [
    "## Разбиение данных на выборки"
   ]
  },
  {
   "cell_type": "code",
   "execution_count": 5,
   "metadata": {},
   "outputs": [
    {
     "data": {
      "text/plain": [
       "(1928, 643, 643)"
      ]
     },
     "execution_count": 5,
     "metadata": {},
     "output_type": "execute_result"
    }
   ],
   "source": [
    "# разделим датафрейм на полную обучающую 'df_full_train' и тестовую выборки 'df_test'\n",
    "df_full_train, df_test = train_test_split(df, test_size=0.2, random_state=12345)\n",
    "\n",
    "# разделим полную обучающую выборку на обучающую 'df_train' и валидационную 'df_val'\n",
    "df_train, df_val = train_test_split(df_full_train, test_size=0.25, random_state=12345)\n",
    "\n",
    "# извлечение 25% на валидационную выборку позволило уравнять количество строк для 'df_val' и 'df_test'\n",
    "# 20% – первое разделение\n",
    "# 20%/80% = 1/4 (или 0.25) – второе разделение\n",
    "len(df_train), len(df_val), len(df_test)"
   ]
  },
  {
   "cell_type": "code",
   "execution_count": 6,
   "metadata": {},
   "outputs": [],
   "source": [
    "# сброс счетчика индексов\n",
    "df_train = df_train.reset_index(drop=True)\n",
    "df_val = df_val.reset_index(drop=True)\n",
    "df_test = df_test.reset_index(drop=True)"
   ]
  },
  {
   "cell_type": "code",
   "execution_count": 7,
   "metadata": {},
   "outputs": [],
   "source": [
    "# разделение выборки 'df_train' на признаки 'df_train_features' и метки 'df_train_target'\n",
    "df_train_features = df_train.drop('is_ultra', axis=1)\n",
    "df_train_target = df_train['is_ultra']\n",
    "\n",
    "# разделение выборки 'df_val' на признаки 'df_val_features' и метки 'df_val_target'\n",
    "df_val_features = df_val.drop('is_ultra', axis=1)\n",
    "df_val_target = df_val['is_ultra']\n",
    "\n",
    "# разделение выборки 'df_test' на признаки 'df_test_features' и метки 'df_test_target'\n",
    "df_test_features = df_test.drop('is_ultra', axis=1)\n",
    "df_test_target = df_test['is_ultra']"
   ]
  },
  {
   "cell_type": "markdown",
   "metadata": {},
   "source": [
    "### Выводы\n",
    "Выполнена разбивка исследуемого датафрейма на три выборки: обучающую `df_train`, валидационную `df_val` и тестовую `df_test`. Далее для каждой группы выполнено деление на выборки: `признаки` и `метки`."
   ]
  },
  {
   "cell_type": "markdown",
   "metadata": {},
   "source": [
    "## Исследование модели"
   ]
  },
  {
   "cell_type": "markdown",
   "metadata": {},
   "source": [
    "### Модель «дерево решений»"
   ]
  },
  {
   "cell_type": "code",
   "execution_count": 8,
   "metadata": {},
   "outputs": [
    {
     "name": "stdout",
     "output_type": "stream",
     "text": [
      "accuracy = 0.7123\n"
     ]
    }
   ],
   "source": [
    "# базовая модель\n",
    "model_DTC = DecisionTreeClassifier(random_state=12345)\n",
    "\n",
    "model_DTC.fit(df_train_features, df_train_target)\n",
    "\n",
    "answer_DTC = model_DTC.predict(df_val_features)\n",
    "\n",
    "accuracy_DTC = accuracy_score(df_val_target, answer_DTC)\n",
    "print('accuracy =', accuracy_DTC.round(4))"
   ]
  },
  {
   "cell_type": "code",
   "execution_count": 9,
   "metadata": {},
   "outputs": [
    {
     "name": "stdout",
     "output_type": "stream",
     "text": [
      "MAX accuracy: 0.7932 \n",
      " Максимальная глубина: 10 \n",
      " Минимальное количество образцов: 2 \n",
      " Минимальное количество выборок: 14 \n",
      "\n"
     ]
    }
   ],
   "source": [
    "# модель с подбором гиперпараметров\n",
    "best_accuracy = 0.7\n",
    "best_depth = 0\n",
    "best_split = 0\n",
    "best_leaf = 0\n",
    "\n",
    "for depth in range(1, 15):\n",
    "    for split in range(2, 11):\n",
    "        for leaf in range(1, 15):\n",
    "            model_DTC_adj = DecisionTreeClassifier(random_state=12345,\n",
    "                                                   max_depth=depth,\n",
    "                                                   min_samples_split=split, \n",
    "                                                   min_samples_leaf=leaf)\n",
    "            model_DTC_adj.fit(df_train_features, df_train_target)\n",
    "            answer_DTC_adj = model_DTC_adj.predict(df_val_features)\n",
    "            accuracy_DTC_adj = accuracy_score(df_val_target, answer_DTC_adj)\n",
    "\n",
    "            if accuracy_DTC_adj > best_accuracy:\n",
    "                best_accuracy = accuracy_DTC_adj\n",
    "                best_depth = depth\n",
    "                best_split = split\n",
    "                best_leaf = leaf\n",
    "                \n",
    "            \n",
    "print('MAX accuracy:', best_accuracy.round(4), '\\n',\n",
    "      'Максимальная глубина:', best_depth, '\\n',\n",
    "      'Минимальное количество образцов:', best_split, '\\n',\n",
    "      'Минимальное количество выборок:', best_leaf, '\\n',)"
   ]
  },
  {
   "cell_type": "markdown",
   "metadata": {},
   "source": [
    "### Модель «случайный лес»"
   ]
  },
  {
   "cell_type": "code",
   "execution_count": 10,
   "metadata": {},
   "outputs": [
    {
     "name": "stdout",
     "output_type": "stream",
     "text": [
      "accuracy = 0.7449\n"
     ]
    }
   ],
   "source": [
    "# базовая модель\n",
    "model_RFC = RandomForestClassifier(random_state=12345, n_estimators=3)\n",
    "\n",
    "model_RFC.fit(df_train_features, df_train_target)\n",
    "\n",
    "answer_RFC = model_RFC.predict(df_val_features)\n",
    "\n",
    "accuracy_RFC = accuracy_score(df_val_target, answer_RFC)\n",
    "print('accuracy =', accuracy_RFC.round(4))"
   ]
  },
  {
   "cell_type": "code",
   "execution_count": 11,
   "metadata": {
    "scrolled": true
   },
   "outputs": [
    {
     "name": "stdout",
     "output_type": "stream",
     "text": [
      "MAX accuracy: 0.8056 \n",
      " Количество деревьев: 3 \n",
      " Максимальная глубина: 8 \n",
      " Минимальное количество образцов: 3 \n",
      "\n"
     ]
    }
   ],
   "source": [
    "# модель с подбором гиперпараметров\n",
    "best_accuracy = 0.7\n",
    "best_est = 0\n",
    "best_depth = 0\n",
    "best_split = 0\n",
    "\n",
    "for est in range(1, 11):\n",
    "    for depth in range(1, 11):\n",
    "        for split in range(2, 10):\n",
    "            model_RFC_adj = RandomForestClassifier(random_state=12345,\n",
    "                                                   n_estimators=est,\n",
    "                                                   max_depth=depth,\n",
    "                                                   min_samples_split=split)\n",
    "            model_RFC_adj.fit(df_train_features, df_train_target)\n",
    "            answer_RFC_adj = model_RFC_adj.predict(df_val_features)\n",
    "            accuracy_RFC_adj = accuracy_score(df_val_target, answer_RFC_adj)\n",
    "\n",
    "            if accuracy_RFC_adj > best_accuracy:\n",
    "                best_accuracy = accuracy_RFC_adj\n",
    "                best_est = est\n",
    "                best_depth = depth\n",
    "                best_split = split\n",
    "                \n",
    "            \n",
    "print('MAX accuracy:', best_accuracy.round(4), '\\n', # <- округление до 4 знаков\n",
    "      'Количество деревьев:', best_est, '\\n',\n",
    "      'Максимальная глубина:', best_depth, '\\n',\n",
    "      'Минимальное количество образцов:', best_split, '\\n',)"
   ]
  },
  {
   "cell_type": "markdown",
   "metadata": {},
   "source": [
    "### Вывод\n",
    "Подбор гиперпараметров для каждой модели позволил улучшить результаты `accuracy` по сравнению с базовыми примерами, где были использованы настройки по умолчанию.\n",
    "\n",
    "Модель «случайный лес» показала чуть лучший результат (0.8056) по сравнению с моделью «дерево решений» (0.7932) ввиду своей более лучшей приспособленности для решения задач классификации."
   ]
  },
  {
   "cell_type": "markdown",
   "metadata": {},
   "source": [
    "## Проверка модели на тестовой выборке"
   ]
  },
  {
   "cell_type": "markdown",
   "metadata": {},
   "source": [
    "### Модель «дерево решений»"
   ]
  },
  {
   "cell_type": "code",
   "execution_count": 12,
   "metadata": {},
   "outputs": [
    {
     "name": "stdout",
     "output_type": "stream",
     "text": [
      "accuracy = 0.7869\n"
     ]
    }
   ],
   "source": [
    "# проверка модели 'DecisionTreeClassifier' с лучшими гиперпараметрами\n",
    "model_DTC_best = DecisionTreeClassifier(random_state=12345, \n",
    "                                        max_depth=10, \n",
    "                                        min_samples_split=2, \n",
    "                                        min_samples_leaf=14)\n",
    "\n",
    "model_DTC_best.fit(df_train_features, df_train_target)\n",
    "\n",
    "# выполняем предсказания на тестовой выборке 'df_test_features'\n",
    "answer_DTC_best = model_DTC_best.predict(df_test_features)\n",
    "\n",
    "accuracy_DTC_best = accuracy_score(df_test_target, answer_DTC_best)\n",
    "print('accuracy =', accuracy_DTC_best.round(4))"
   ]
  },
  {
   "cell_type": "markdown",
   "metadata": {},
   "source": [
    "### Модель «случайный лес»"
   ]
  },
  {
   "cell_type": "code",
   "execution_count": 13,
   "metadata": {},
   "outputs": [
    {
     "name": "stdout",
     "output_type": "stream",
     "text": [
      "accuracy = 0.7932\n"
     ]
    }
   ],
   "source": [
    "# проверка модели 'RandomForestClassifier' с лучшими гиперпараметрами\n",
    "model_RFC_best = RandomForestClassifier(random_state=12345,\n",
    "                                       n_estimators=3,\n",
    "                                       max_depth=8,\n",
    "                                       min_samples_split=3)\n",
    "\n",
    "model_RFC_best.fit(df_train_features, df_train_target)\n",
    "\n",
    "# выполняем предсказания на тестовой выборке 'df_test_features'\n",
    "answer_RFC_best = model_RFC_best.predict(df_test_features)\n",
    "\n",
    "accuracy_RFC_best = accuracy_score(df_test_target, answer_RFC_best)\n",
    "print('accuracy =', accuracy_RFC_best.round(4))"
   ]
  },
  {
   "cell_type": "markdown",
   "metadata": {},
   "source": [
    "### Вывод\n",
    "По результатам запуска моделей с наилучшими гиперпараметрами на тестовой выборке `df_test_features` и `df_test_target` модель «случайный лес» незначительно опережает «дерево решений» на 0.0063 пункта (или $\\approx$ 0,63%)."
   ]
  },
  {
   "cell_type": "code",
   "execution_count": 14,
   "metadata": {},
   "outputs": [
    {
     "name": "stdout",
     "output_type": "stream",
     "text": [
      "Лучшая модель: RandomForestClassifier(bootstrap=True, class_weight=None, criterion='gini',\n",
      "                       max_depth=8, max_features='auto', max_leaf_nodes=None,\n",
      "                       min_impurity_decrease=0.0, min_impurity_split=None,\n",
      "                       min_samples_leaf=1, min_samples_split=3,\n",
      "                       min_weight_fraction_leaf=0.0, n_estimators=3,\n",
      "                       n_jobs=None, oob_score=False, random_state=12345,\n",
      "                       verbose=0, warm_start=False)\n",
      "Точность на валидации: 0.8056\n",
      "    Точность на тесте: 0.7932\n"
     ]
    }
   ],
   "source": [
    "# модель с подбором гиперпараметров\n",
    "best_accuracy = -1\n",
    "best_RFC_model = None\n",
    "\n",
    "for est in range(1, 11):\n",
    "    for depth in range(1, 11):\n",
    "        for split in range(2, 10):\n",
    "            model_RFC_adj = RandomForestClassifier(random_state=12345,\n",
    "                                                   n_estimators=est,\n",
    "                                                   max_depth=depth,\n",
    "                                                   min_samples_split=split)\n",
    "            model_RFC_adj.fit(df_train_features, df_train_target)\n",
    "            answer_RFC_adj = model_RFC_adj.predict(df_val_features)\n",
    "            accuracy_RFC_adj = accuracy_score(df_val_target, answer_RFC_adj)\n",
    "\n",
    "            if accuracy_RFC_adj > best_accuracy:\n",
    "                best_accuracy = accuracy_RFC_adj\n",
    "                best_RFC_model = model_RFC_adj\n",
    "                \n",
    "\n",
    "print('Лучшая модель:', best_RFC_model)\n",
    "\n",
    "print('Точность на валидации:', best_accuracy.round(4))\n",
    "\n",
    "# выполняем предсказания на тестовой выборке 'df_test_features'\n",
    "answer_RFC_best = best_RFC_model.predict(df_test_features)\n",
    "\n",
    "accuracy_RFC_best = accuracy_score(df_test_target, answer_RFC_best)\n",
    "print('    Точность на тесте:', accuracy_RFC_best.round(4))"
   ]
  },
  {
   "cell_type": "markdown",
   "metadata": {},
   "source": [
    "## Проверка модели на адекватность"
   ]
  },
  {
   "cell_type": "code",
   "execution_count": 15,
   "metadata": {},
   "outputs": [
    {
     "data": {
      "text/plain": [
       "0.5754"
      ]
     },
     "execution_count": 15,
     "metadata": {},
     "output_type": "execute_result"
    }
   ],
   "source": [
    "# запускаем простейшую модель классификации 'DummyClassifier()'\n",
    "dummy_clf = DummyClassifier(random_state=12345)\n",
    "dummy_clf.fit(df_train_features, df_train_target)\n",
    "\n",
    "dummy_clf.score(df_test_features, df_test_target).round(4)"
   ]
  },
  {
   "cell_type": "markdown",
   "metadata": {},
   "source": [
    "Точность простейшего классификатора при работе на обучающей выборке `df_train_features`, `df_train_target` и последующей проверке на тестовой выборке `df_test_features`, `df_test_target` оказалась гораздо ниже (на несколько десятков процентов), по сравнению с точностью моделей где заданы параметры по умолчанию.  \n",
    "\n",
    "Проверка на адекватность пройдена."
   ]
  }
 ],
 "metadata": {
  "ExecuteTimeLog": [
   {
    "duration": 696,
    "start_time": "2021-12-24T11:57:17.163Z"
   },
   {
    "duration": 101,
    "start_time": "2021-12-24T11:57:48.439Z"
   },
   {
    "duration": 6,
    "start_time": "2021-12-24T11:58:12.534Z"
   },
   {
    "duration": 23,
    "start_time": "2021-12-24T11:58:43.754Z"
   },
   {
    "duration": 781,
    "start_time": "2021-12-24T12:00:47.019Z"
   },
   {
    "duration": 3,
    "start_time": "2021-12-24T12:01:19.806Z"
   },
   {
    "duration": 261,
    "start_time": "2021-12-24T12:05:11.418Z"
   },
   {
    "duration": 5,
    "start_time": "2021-12-24T12:05:24.258Z"
   },
   {
    "duration": 8,
    "start_time": "2021-12-24T12:05:43.973Z"
   },
   {
    "duration": 7,
    "start_time": "2021-12-24T12:05:57.149Z"
   },
   {
    "duration": 1135,
    "start_time": "2021-12-24T12:43:29.284Z"
   },
   {
    "duration": 37,
    "start_time": "2021-12-24T12:43:30.422Z"
   },
   {
    "duration": 7,
    "start_time": "2021-12-24T12:43:30.461Z"
   },
   {
    "duration": 31,
    "start_time": "2021-12-24T12:43:30.470Z"
   },
   {
    "duration": 2,
    "start_time": "2021-12-24T12:43:30.503Z"
   },
   {
    "duration": 65,
    "start_time": "2021-12-24T12:44:37.149Z"
   },
   {
    "duration": 5,
    "start_time": "2021-12-24T12:45:42.597Z"
   },
   {
    "duration": 6,
    "start_time": "2021-12-24T12:46:55.095Z"
   },
   {
    "duration": 4,
    "start_time": "2021-12-24T12:47:27.028Z"
   },
   {
    "duration": 8,
    "start_time": "2021-12-24T12:56:24.584Z"
   },
   {
    "duration": 4,
    "start_time": "2021-12-24T13:05:24.252Z"
   },
   {
    "duration": 4,
    "start_time": "2021-12-24T13:05:53.766Z"
   },
   {
    "duration": 4,
    "start_time": "2021-12-24T13:06:33.296Z"
   },
   {
    "duration": 9,
    "start_time": "2021-12-24T13:06:44.863Z"
   },
   {
    "duration": 508,
    "start_time": "2021-12-24T13:07:10.036Z"
   },
   {
    "duration": 9,
    "start_time": "2021-12-24T13:07:17.596Z"
   },
   {
    "duration": 9,
    "start_time": "2021-12-24T13:07:24.373Z"
   },
   {
    "duration": 15,
    "start_time": "2021-12-24T13:07:29.741Z"
   },
   {
    "duration": 342,
    "start_time": "2021-12-24T13:10:09.873Z"
   },
   {
    "duration": 4,
    "start_time": "2021-12-24T13:10:22.255Z"
   },
   {
    "duration": 9,
    "start_time": "2021-12-24T13:10:36.089Z"
   },
   {
    "duration": 6,
    "start_time": "2021-12-24T13:11:00.006Z"
   },
   {
    "duration": 7,
    "start_time": "2021-12-24T13:11:58.456Z"
   },
   {
    "duration": 6,
    "start_time": "2021-12-24T13:17:01.826Z"
   },
   {
    "duration": 32,
    "start_time": "2021-12-24T13:23:35.564Z"
   },
   {
    "duration": 235,
    "start_time": "2021-12-24T13:25:11.937Z"
   },
   {
    "duration": 3,
    "start_time": "2021-12-24T13:25:30.066Z"
   },
   {
    "duration": 1028,
    "start_time": "2021-12-24T13:25:37.165Z"
   },
   {
    "duration": 31,
    "start_time": "2021-12-24T13:25:38.195Z"
   },
   {
    "duration": 9,
    "start_time": "2021-12-24T13:25:38.228Z"
   },
   {
    "duration": 49,
    "start_time": "2021-12-24T13:25:38.239Z"
   },
   {
    "duration": 13,
    "start_time": "2021-12-24T13:25:38.290Z"
   },
   {
    "duration": 18,
    "start_time": "2021-12-24T13:25:38.304Z"
   },
   {
    "duration": 38,
    "start_time": "2021-12-24T13:25:38.324Z"
   },
   {
    "duration": 3,
    "start_time": "2021-12-24T13:26:54.539Z"
   },
   {
    "duration": 16,
    "start_time": "2021-12-24T13:27:27.680Z"
   },
   {
    "duration": 14,
    "start_time": "2021-12-24T13:28:43.633Z"
   },
   {
    "duration": 4,
    "start_time": "2021-12-24T13:29:57.922Z"
   },
   {
    "duration": 3,
    "start_time": "2021-12-24T13:31:17.923Z"
   },
   {
    "duration": 4,
    "start_time": "2021-12-24T13:32:29.309Z"
   },
   {
    "duration": 5,
    "start_time": "2021-12-24T13:32:36.138Z"
   },
   {
    "duration": 14,
    "start_time": "2021-12-24T14:05:04.478Z"
   },
   {
    "duration": 3,
    "start_time": "2021-12-24T14:05:05.326Z"
   },
   {
    "duration": 5,
    "start_time": "2021-12-24T14:05:05.957Z"
   },
   {
    "duration": 316,
    "start_time": "2021-12-24T14:05:15.278Z"
   },
   {
    "duration": 3,
    "start_time": "2021-12-24T14:05:38.763Z"
   },
   {
    "duration": 4,
    "start_time": "2021-12-24T14:05:45.458Z"
   },
   {
    "duration": 1035,
    "start_time": "2021-12-24T14:05:52.437Z"
   },
   {
    "duration": 33,
    "start_time": "2021-12-24T14:05:53.473Z"
   },
   {
    "duration": 8,
    "start_time": "2021-12-24T14:05:53.508Z"
   },
   {
    "duration": 28,
    "start_time": "2021-12-24T14:05:53.518Z"
   },
   {
    "duration": 9,
    "start_time": "2021-12-24T14:05:53.549Z"
   },
   {
    "duration": 7,
    "start_time": "2021-12-24T14:05:53.559Z"
   },
   {
    "duration": 8,
    "start_time": "2021-12-24T14:05:53.567Z"
   },
   {
    "duration": 21,
    "start_time": "2021-12-24T14:05:53.577Z"
   },
   {
    "duration": 4,
    "start_time": "2021-12-24T14:05:53.599Z"
   },
   {
    "duration": 303,
    "start_time": "2021-12-24T14:05:53.604Z"
   },
   {
    "duration": -6999,
    "start_time": "2021-12-24T14:06:00.908Z"
   },
   {
    "duration": 6,
    "start_time": "2021-12-24T14:06:17.775Z"
   },
   {
    "duration": 4,
    "start_time": "2021-12-24T14:06:19.054Z"
   },
   {
    "duration": 21,
    "start_time": "2021-12-24T14:07:18.841Z"
   },
   {
    "duration": 5,
    "start_time": "2021-12-24T14:07:44.217Z"
   },
   {
    "duration": 5,
    "start_time": "2021-12-24T14:08:13.463Z"
   },
   {
    "duration": 19,
    "start_time": "2021-12-24T14:13:34.575Z"
   },
   {
    "duration": 19,
    "start_time": "2021-12-24T14:13:37.872Z"
   },
   {
    "duration": 6,
    "start_time": "2021-12-24T14:13:38.774Z"
   },
   {
    "duration": 5,
    "start_time": "2021-12-24T14:13:39.808Z"
   },
   {
    "duration": 3410,
    "start_time": "2021-12-24T14:23:18.308Z"
   },
   {
    "duration": 3369,
    "start_time": "2021-12-24T14:23:39.658Z"
   },
   {
    "duration": 6070,
    "start_time": "2021-12-24T14:23:53.113Z"
   },
   {
    "duration": 9057,
    "start_time": "2021-12-24T14:24:09.635Z"
   },
   {
    "duration": 5526,
    "start_time": "2021-12-24T14:24:32.295Z"
   },
   {
    "duration": 14,
    "start_time": "2021-12-24T14:28:39.155Z"
   },
   {
    "duration": 224,
    "start_time": "2021-12-24T14:34:56.790Z"
   },
   {
    "duration": 46179,
    "start_time": "2021-12-24T14:35:42.520Z"
   },
   {
    "duration": 41583,
    "start_time": "2021-12-24T14:48:20.166Z"
   },
   {
    "duration": 8946,
    "start_time": "2021-12-24T14:50:12.854Z"
   },
   {
    "duration": 7457,
    "start_time": "2021-12-24T14:52:05.750Z"
   },
   {
    "duration": 6927,
    "start_time": "2021-12-24T14:52:46.408Z"
   },
   {
    "duration": 7110,
    "start_time": "2021-12-24T14:53:16.065Z"
   },
   {
    "duration": 6458,
    "start_time": "2021-12-24T14:57:43.231Z"
   },
   {
    "duration": 51697,
    "start_time": "2021-12-24T16:17:37.858Z"
   },
   {
    "duration": 14888,
    "start_time": "2021-12-24T16:19:26.416Z"
   },
   {
    "duration": 13583,
    "start_time": "2021-12-24T16:19:57.295Z"
   },
   {
    "duration": 245,
    "start_time": "2021-12-24T16:26:02.599Z"
   },
   {
    "duration": 4376,
    "start_time": "2021-12-24T16:26:23.511Z"
   },
   {
    "duration": 10069,
    "start_time": "2021-12-24T16:26:44.654Z"
   },
   {
    "duration": 1036,
    "start_time": "2021-12-24T16:27:28.187Z"
   },
   {
    "duration": 34,
    "start_time": "2021-12-24T16:27:29.225Z"
   },
   {
    "duration": 6,
    "start_time": "2021-12-24T16:27:29.262Z"
   },
   {
    "duration": 31,
    "start_time": "2021-12-24T16:27:29.270Z"
   },
   {
    "duration": 10,
    "start_time": "2021-12-24T16:27:29.303Z"
   },
   {
    "duration": 29,
    "start_time": "2021-12-24T16:27:29.314Z"
   },
   {
    "duration": 9,
    "start_time": "2021-12-24T16:27:29.344Z"
   },
   {
    "duration": 17,
    "start_time": "2021-12-24T16:27:29.356Z"
   },
   {
    "duration": 9488,
    "start_time": "2021-12-24T16:27:29.375Z"
   },
   {
    "duration": 17,
    "start_time": "2021-12-24T16:27:38.865Z"
   },
   {
    "duration": 11453,
    "start_time": "2021-12-24T16:27:38.883Z"
   },
   {
    "duration": 3,
    "start_time": "2021-12-24T16:34:43.684Z"
   },
   {
    "duration": 11,
    "start_time": "2021-12-24T16:34:47.188Z"
   },
   {
    "duration": 3,
    "start_time": "2021-12-24T16:35:39.824Z"
   },
   {
    "duration": 296,
    "start_time": "2021-12-24T16:35:41.040Z"
   },
   {
    "duration": 15,
    "start_time": "2021-12-24T16:35:53.864Z"
   },
   {
    "duration": 3,
    "start_time": "2021-12-24T16:36:50.230Z"
   },
   {
    "duration": 12,
    "start_time": "2021-12-24T16:36:51.078Z"
   },
   {
    "duration": 2,
    "start_time": "2021-12-24T16:38:43.333Z"
   },
   {
    "duration": 16,
    "start_time": "2021-12-24T16:38:44.373Z"
   },
   {
    "duration": 17,
    "start_time": "2021-12-24T16:39:35.354Z"
   },
   {
    "duration": 12,
    "start_time": "2021-12-24T16:40:08.016Z"
   },
   {
    "duration": 17,
    "start_time": "2021-12-24T16:40:15.554Z"
   },
   {
    "duration": 1074,
    "start_time": "2021-12-24T16:49:18.107Z"
   },
   {
    "duration": 32,
    "start_time": "2021-12-24T16:49:19.183Z"
   },
   {
    "duration": 6,
    "start_time": "2021-12-24T16:49:19.217Z"
   },
   {
    "duration": 31,
    "start_time": "2021-12-24T16:49:19.225Z"
   },
   {
    "duration": 8,
    "start_time": "2021-12-24T16:49:19.258Z"
   },
   {
    "duration": 5,
    "start_time": "2021-12-24T16:49:19.268Z"
   },
   {
    "duration": 9,
    "start_time": "2021-12-24T16:49:19.275Z"
   },
   {
    "duration": 21,
    "start_time": "2021-12-24T16:49:19.286Z"
   },
   {
    "duration": 9683,
    "start_time": "2021-12-24T16:49:19.309Z"
   },
   {
    "duration": 19,
    "start_time": "2021-12-24T16:49:28.994Z"
   },
   {
    "duration": 11931,
    "start_time": "2021-12-24T16:49:29.015Z"
   },
   {
    "duration": 14,
    "start_time": "2021-12-24T16:49:40.948Z"
   },
   {
    "duration": 17,
    "start_time": "2021-12-24T16:49:40.964Z"
   },
   {
    "duration": 6,
    "start_time": "2021-12-24T17:07:17.559Z"
   },
   {
    "duration": 297,
    "start_time": "2021-12-24T17:18:26.555Z"
   },
   {
    "duration": 66,
    "start_time": "2021-12-24T17:19:16.162Z"
   },
   {
    "duration": 9450,
    "start_time": "2021-12-24T18:09:53.906Z"
   },
   {
    "duration": 19,
    "start_time": "2021-12-24T18:10:18.554Z"
   },
   {
    "duration": 11055,
    "start_time": "2021-12-24T18:10:31.635Z"
   },
   {
    "duration": 17,
    "start_time": "2021-12-24T18:11:31.768Z"
   },
   {
    "duration": 15,
    "start_time": "2021-12-24T18:12:04.320Z"
   },
   {
    "duration": 23,
    "start_time": "2021-12-24T18:12:45.121Z"
   },
   {
    "duration": 19,
    "start_time": "2021-12-24T18:12:53.689Z"
   },
   {
    "duration": 21,
    "start_time": "2021-12-24T18:12:57.425Z"
   },
   {
    "duration": 14,
    "start_time": "2021-12-24T18:13:04.097Z"
   },
   {
    "duration": 11,
    "start_time": "2021-12-24T18:13:38.798Z"
   },
   {
    "duration": 17,
    "start_time": "2021-12-24T18:14:09.611Z"
   },
   {
    "duration": 17,
    "start_time": "2021-12-24T18:14:23.915Z"
   },
   {
    "duration": 1113,
    "start_time": "2021-12-24T18:14:37.970Z"
   },
   {
    "duration": 31,
    "start_time": "2021-12-24T18:14:39.085Z"
   },
   {
    "duration": 6,
    "start_time": "2021-12-24T18:14:39.118Z"
   },
   {
    "duration": 29,
    "start_time": "2021-12-24T18:14:39.126Z"
   },
   {
    "duration": 8,
    "start_time": "2021-12-24T18:14:39.157Z"
   },
   {
    "duration": 4,
    "start_time": "2021-12-24T18:14:39.167Z"
   },
   {
    "duration": 7,
    "start_time": "2021-12-24T18:14:39.173Z"
   },
   {
    "duration": 14,
    "start_time": "2021-12-24T18:14:39.182Z"
   },
   {
    "duration": 9688,
    "start_time": "2021-12-24T18:14:39.198Z"
   },
   {
    "duration": 17,
    "start_time": "2021-12-24T18:14:48.888Z"
   },
   {
    "duration": 11412,
    "start_time": "2021-12-24T18:14:48.906Z"
   },
   {
    "duration": 11,
    "start_time": "2021-12-24T18:15:00.320Z"
   },
   {
    "duration": 18,
    "start_time": "2021-12-24T18:15:00.345Z"
   },
   {
    "duration": 1159,
    "start_time": "2021-12-24T18:22:57.860Z"
   },
   {
    "duration": 36,
    "start_time": "2021-12-24T18:22:59.020Z"
   },
   {
    "duration": 8,
    "start_time": "2021-12-24T18:22:59.059Z"
   },
   {
    "duration": 36,
    "start_time": "2021-12-24T18:22:59.069Z"
   },
   {
    "duration": 11,
    "start_time": "2021-12-24T18:22:59.107Z"
   },
   {
    "duration": 12,
    "start_time": "2021-12-24T18:22:59.120Z"
   },
   {
    "duration": 34,
    "start_time": "2021-12-24T18:22:59.134Z"
   },
   {
    "duration": 25,
    "start_time": "2021-12-24T18:22:59.170Z"
   },
   {
    "duration": 11027,
    "start_time": "2021-12-24T18:22:59.196Z"
   },
   {
    "duration": 31,
    "start_time": "2021-12-24T18:23:10.225Z"
   },
   {
    "duration": 11650,
    "start_time": "2021-12-24T18:23:10.260Z"
   },
   {
    "duration": 11,
    "start_time": "2021-12-24T18:23:21.912Z"
   },
   {
    "duration": 33,
    "start_time": "2021-12-24T18:23:21.924Z"
   },
   {
    "duration": 6,
    "start_time": "2021-12-24T18:24:24.365Z"
   },
   {
    "duration": 7,
    "start_time": "2021-12-24T18:34:19.404Z"
   },
   {
    "duration": 7,
    "start_time": "2021-12-24T18:36:53.172Z"
   },
   {
    "duration": 7,
    "start_time": "2021-12-24T18:39:04.675Z"
   },
   {
    "duration": 8,
    "start_time": "2021-12-24T18:42:00.356Z"
   },
   {
    "duration": 6,
    "start_time": "2021-12-24T18:44:06.122Z"
   },
   {
    "duration": 27,
    "start_time": "2021-12-24T18:54:33.628Z"
   },
   {
    "duration": 1018,
    "start_time": "2021-12-24T18:58:48.561Z"
   },
   {
    "duration": 32,
    "start_time": "2021-12-24T18:58:49.581Z"
   },
   {
    "duration": 6,
    "start_time": "2021-12-24T18:58:49.615Z"
   },
   {
    "duration": 32,
    "start_time": "2021-12-24T18:58:49.623Z"
   },
   {
    "duration": 9,
    "start_time": "2021-12-24T18:58:49.657Z"
   },
   {
    "duration": 3,
    "start_time": "2021-12-24T18:58:49.668Z"
   },
   {
    "duration": 9,
    "start_time": "2021-12-24T18:58:49.673Z"
   },
   {
    "duration": 25,
    "start_time": "2021-12-24T18:58:49.684Z"
   },
   {
    "duration": 9564,
    "start_time": "2021-12-24T18:58:49.710Z"
   },
   {
    "duration": 19,
    "start_time": "2021-12-24T18:58:59.275Z"
   },
   {
    "duration": 11411,
    "start_time": "2021-12-24T18:58:59.295Z"
   },
   {
    "duration": 13,
    "start_time": "2021-12-24T18:59:10.708Z"
   },
   {
    "duration": 37,
    "start_time": "2021-12-24T18:59:10.722Z"
   },
   {
    "duration": 7,
    "start_time": "2021-12-24T18:59:10.761Z"
   },
   {
    "duration": 359,
    "start_time": "2021-12-25T06:18:40.328Z"
   },
   {
    "duration": 1466,
    "start_time": "2021-12-25T06:18:59.552Z"
   },
   {
    "duration": 42,
    "start_time": "2021-12-25T06:19:01.020Z"
   },
   {
    "duration": 17,
    "start_time": "2021-12-25T06:19:01.065Z"
   },
   {
    "duration": 55,
    "start_time": "2021-12-25T06:19:01.085Z"
   },
   {
    "duration": 13,
    "start_time": "2021-12-25T06:19:01.143Z"
   },
   {
    "duration": 12,
    "start_time": "2021-12-25T06:19:01.158Z"
   },
   {
    "duration": 21,
    "start_time": "2021-12-25T06:19:01.173Z"
   },
   {
    "duration": 33,
    "start_time": "2021-12-25T06:19:01.197Z"
   },
   {
    "duration": 14036,
    "start_time": "2021-12-25T06:19:01.233Z"
   },
   {
    "duration": 28,
    "start_time": "2021-12-25T06:19:15.271Z"
   },
   {
    "duration": 17917,
    "start_time": "2021-12-25T06:19:15.301Z"
   },
   {
    "duration": 20,
    "start_time": "2021-12-25T06:19:33.220Z"
   },
   {
    "duration": 46,
    "start_time": "2021-12-25T06:19:33.243Z"
   },
   {
    "duration": 8,
    "start_time": "2021-12-25T06:19:33.292Z"
   },
   {
    "duration": 1326,
    "start_time": "2021-12-25T11:44:56.926Z"
   },
   {
    "duration": 40,
    "start_time": "2021-12-25T11:44:58.255Z"
   },
   {
    "duration": 125,
    "start_time": "2021-12-25T11:44:58.298Z"
   },
   {
    "duration": 31,
    "start_time": "2021-12-25T11:44:58.426Z"
   },
   {
    "duration": 13,
    "start_time": "2021-12-25T11:44:58.459Z"
   },
   {
    "duration": 6,
    "start_time": "2021-12-25T11:44:58.474Z"
   },
   {
    "duration": 41,
    "start_time": "2021-12-25T11:44:58.482Z"
   },
   {
    "duration": 28,
    "start_time": "2021-12-25T11:44:58.527Z"
   },
   {
    "duration": 14013,
    "start_time": "2021-12-25T11:44:58.557Z"
   },
   {
    "duration": 25,
    "start_time": "2021-12-25T11:45:12.573Z"
   },
   {
    "duration": 17397,
    "start_time": "2021-12-25T11:45:12.600Z"
   },
   {
    "duration": 28,
    "start_time": "2021-12-25T11:45:30.000Z"
   },
   {
    "duration": 25,
    "start_time": "2021-12-25T11:45:30.030Z"
   },
   {
    "duration": 8,
    "start_time": "2021-12-25T11:45:30.057Z"
   },
   {
    "duration": 24898,
    "start_time": "2021-12-25T11:55:38.624Z"
   },
   {
    "duration": 8563,
    "start_time": "2021-12-25T11:56:47.392Z"
   },
   {
    "duration": 13807,
    "start_time": "2021-12-25T11:57:23.336Z"
   },
   {
    "duration": 28140,
    "start_time": "2021-12-25T12:00:40.549Z"
   },
   {
    "duration": 17429,
    "start_time": "2021-12-25T12:07:13.869Z"
   },
   {
    "duration": 24,
    "start_time": "2021-12-25T12:10:20.188Z"
   },
   {
    "duration": 25,
    "start_time": "2021-12-25T12:10:22.717Z"
   },
   {
    "duration": 24,
    "start_time": "2021-12-25T12:10:25.488Z"
   },
   {
    "duration": 19055,
    "start_time": "2021-12-25T12:11:19.115Z"
   },
   {
    "duration": 1452,
    "start_time": "2021-12-25T12:14:10.638Z"
   },
   {
    "duration": 37,
    "start_time": "2021-12-25T12:14:12.092Z"
   },
   {
    "duration": 9,
    "start_time": "2021-12-25T12:14:12.132Z"
   },
   {
    "duration": 39,
    "start_time": "2021-12-25T12:14:12.143Z"
   },
   {
    "duration": 37,
    "start_time": "2021-12-25T12:14:12.185Z"
   },
   {
    "duration": 5,
    "start_time": "2021-12-25T12:14:12.225Z"
   },
   {
    "duration": 10,
    "start_time": "2021-12-25T12:14:12.232Z"
   },
   {
    "duration": 20,
    "start_time": "2021-12-25T12:14:12.245Z"
   },
   {
    "duration": 14613,
    "start_time": "2021-12-25T12:14:12.268Z"
   },
   {
    "duration": 48,
    "start_time": "2021-12-25T12:14:26.884Z"
   },
   {
    "duration": 18683,
    "start_time": "2021-12-25T12:14:26.935Z"
   },
   {
    "duration": 15,
    "start_time": "2021-12-25T12:14:45.621Z"
   },
   {
    "duration": 23,
    "start_time": "2021-12-25T12:14:45.638Z"
   },
   {
    "duration": 18279,
    "start_time": "2021-12-25T12:14:45.664Z"
   },
   {
    "duration": 9,
    "start_time": "2021-12-25T12:15:03.946Z"
   },
   {
    "duration": 19742,
    "start_time": "2021-12-25T12:26:11.110Z"
   },
   {
    "duration": 18499,
    "start_time": "2021-12-25T12:28:54.785Z"
   },
   {
    "duration": 16,
    "start_time": "2021-12-25T12:30:24.595Z"
   },
   {
    "duration": 17,
    "start_time": "2021-12-25T12:30:32.330Z"
   },
   {
    "duration": 23,
    "start_time": "2021-12-25T12:30:33.589Z"
   },
   {
    "duration": 18016,
    "start_time": "2021-12-25T12:30:37.112Z"
   },
   {
    "duration": 8,
    "start_time": "2021-12-25T12:30:55.131Z"
   },
   {
    "duration": 1314,
    "start_time": "2021-12-25T12:45:35.240Z"
   },
   {
    "duration": 42,
    "start_time": "2021-12-25T12:45:36.557Z"
   },
   {
    "duration": 16,
    "start_time": "2021-12-25T12:45:36.601Z"
   },
   {
    "duration": 37,
    "start_time": "2021-12-25T12:45:36.620Z"
   },
   {
    "duration": 12,
    "start_time": "2021-12-25T12:45:36.659Z"
   },
   {
    "duration": 4,
    "start_time": "2021-12-25T12:45:36.674Z"
   },
   {
    "duration": 8,
    "start_time": "2021-12-25T12:45:36.717Z"
   },
   {
    "duration": 24,
    "start_time": "2021-12-25T12:45:36.727Z"
   },
   {
    "duration": 13709,
    "start_time": "2021-12-25T12:45:36.756Z"
   },
   {
    "duration": 27,
    "start_time": "2021-12-25T12:45:50.467Z"
   },
   {
    "duration": 17723,
    "start_time": "2021-12-25T12:45:50.496Z"
   },
   {
    "duration": 16,
    "start_time": "2021-12-25T12:46:08.221Z"
   },
   {
    "duration": 23,
    "start_time": "2021-12-25T12:46:08.239Z"
   },
   {
    "duration": 17900,
    "start_time": "2021-12-25T12:46:08.264Z"
   },
   {
    "duration": 9,
    "start_time": "2021-12-25T12:46:26.167Z"
   },
   {
    "duration": 992,
    "start_time": "2021-12-26T15:42:20.165Z"
   },
   {
    "duration": 30,
    "start_time": "2021-12-26T15:42:21.158Z"
   },
   {
    "duration": 5,
    "start_time": "2021-12-26T15:42:21.190Z"
   },
   {
    "duration": 25,
    "start_time": "2021-12-26T15:42:21.197Z"
   },
   {
    "duration": 7,
    "start_time": "2021-12-26T15:42:21.223Z"
   },
   {
    "duration": 5,
    "start_time": "2021-12-26T15:42:21.231Z"
   },
   {
    "duration": 6,
    "start_time": "2021-12-26T15:42:21.237Z"
   },
   {
    "duration": 19,
    "start_time": "2021-12-26T15:42:21.245Z"
   },
   {
    "duration": 9656,
    "start_time": "2021-12-26T15:42:21.266Z"
   },
   {
    "duration": 32,
    "start_time": "2021-12-26T15:42:30.924Z"
   },
   {
    "duration": 10853,
    "start_time": "2021-12-26T15:42:30.957Z"
   },
   {
    "duration": 10,
    "start_time": "2021-12-26T15:42:41.811Z"
   },
   {
    "duration": 26,
    "start_time": "2021-12-26T15:42:41.822Z"
   },
   {
    "duration": 10560,
    "start_time": "2021-12-26T15:42:41.850Z"
   },
   {
    "duration": 5,
    "start_time": "2021-12-26T15:42:52.411Z"
   },
   {
    "duration": 10178,
    "start_time": "2021-12-26T15:54:35.853Z"
   },
   {
    "duration": 10448,
    "start_time": "2021-12-26T15:55:15.609Z"
   },
   {
    "duration": 14,
    "start_time": "2021-12-26T15:56:32.798Z"
   },
   {
    "duration": 14,
    "start_time": "2021-12-26T15:56:38.554Z"
   },
   {
    "duration": 11,
    "start_time": "2021-12-26T15:56:43.747Z"
   },
   {
    "duration": 18,
    "start_time": "2021-12-26T15:57:04.850Z"
   },
   {
    "duration": 13,
    "start_time": "2021-12-26T15:57:13.118Z"
   },
   {
    "duration": 9047,
    "start_time": "2021-12-26T15:57:18.815Z"
   },
   {
    "duration": 992,
    "start_time": "2021-12-26T16:13:47.086Z"
   },
   {
    "duration": 30,
    "start_time": "2021-12-26T16:13:48.080Z"
   },
   {
    "duration": 6,
    "start_time": "2021-12-26T16:13:48.112Z"
   },
   {
    "duration": 21,
    "start_time": "2021-12-26T16:13:48.120Z"
   },
   {
    "duration": 7,
    "start_time": "2021-12-26T16:13:48.143Z"
   },
   {
    "duration": 4,
    "start_time": "2021-12-26T16:13:48.151Z"
   },
   {
    "duration": 7,
    "start_time": "2021-12-26T16:13:48.156Z"
   },
   {
    "duration": 13,
    "start_time": "2021-12-26T16:13:48.165Z"
   },
   {
    "duration": 9524,
    "start_time": "2021-12-26T16:13:48.180Z"
   },
   {
    "duration": 18,
    "start_time": "2021-12-26T16:13:57.706Z"
   },
   {
    "duration": 11577,
    "start_time": "2021-12-26T16:13:57.726Z"
   },
   {
    "duration": 11,
    "start_time": "2021-12-26T16:14:09.305Z"
   },
   {
    "duration": 27,
    "start_time": "2021-12-26T16:14:09.317Z"
   },
   {
    "duration": 11525,
    "start_time": "2021-12-26T16:14:09.346Z"
   },
   {
    "duration": 7,
    "start_time": "2021-12-26T16:14:20.872Z"
   },
   {
    "duration": 1041,
    "start_time": "2021-12-26T16:17:47.521Z"
   },
   {
    "duration": 32,
    "start_time": "2021-12-26T16:17:48.564Z"
   },
   {
    "duration": 6,
    "start_time": "2021-12-26T16:17:48.598Z"
   },
   {
    "duration": 22,
    "start_time": "2021-12-26T16:17:48.606Z"
   },
   {
    "duration": 16,
    "start_time": "2021-12-26T16:17:48.630Z"
   },
   {
    "duration": 8,
    "start_time": "2021-12-26T16:17:48.647Z"
   },
   {
    "duration": 8,
    "start_time": "2021-12-26T16:17:48.656Z"
   },
   {
    "duration": 14,
    "start_time": "2021-12-26T16:17:48.666Z"
   },
   {
    "duration": 9030,
    "start_time": "2021-12-26T16:17:48.682Z"
   },
   {
    "duration": 27,
    "start_time": "2021-12-26T16:17:57.714Z"
   },
   {
    "duration": 10874,
    "start_time": "2021-12-26T16:17:57.742Z"
   },
   {
    "duration": 11,
    "start_time": "2021-12-26T16:18:08.618Z"
   },
   {
    "duration": 22,
    "start_time": "2021-12-26T16:18:08.630Z"
   },
   {
    "duration": 10439,
    "start_time": "2021-12-26T16:18:08.654Z"
   },
   {
    "duration": 6,
    "start_time": "2021-12-26T16:18:19.095Z"
   },
   {
    "duration": 1062,
    "start_time": "2021-12-26T18:28:58.320Z"
   },
   {
    "duration": 34,
    "start_time": "2021-12-26T18:28:59.385Z"
   },
   {
    "duration": 6,
    "start_time": "2021-12-26T18:28:59.421Z"
   },
   {
    "duration": 26,
    "start_time": "2021-12-26T18:28:59.429Z"
   },
   {
    "duration": 7,
    "start_time": "2021-12-26T18:28:59.457Z"
   },
   {
    "duration": 10,
    "start_time": "2021-12-26T18:28:59.466Z"
   },
   {
    "duration": 25,
    "start_time": "2021-12-26T18:28:59.478Z"
   },
   {
    "duration": 25,
    "start_time": "2021-12-26T18:28:59.509Z"
   },
   {
    "duration": 10702,
    "start_time": "2021-12-26T18:28:59.537Z"
   },
   {
    "duration": 20,
    "start_time": "2021-12-26T18:29:10.241Z"
   },
   {
    "duration": 11880,
    "start_time": "2021-12-26T18:29:10.263Z"
   },
   {
    "duration": 12,
    "start_time": "2021-12-26T18:29:22.145Z"
   },
   {
    "duration": 34,
    "start_time": "2021-12-26T18:29:22.159Z"
   },
   {
    "duration": 11851,
    "start_time": "2021-12-26T18:29:22.200Z"
   },
   {
    "duration": 6,
    "start_time": "2021-12-26T18:29:34.053Z"
   },
   {
    "duration": 4,
    "start_time": "2021-12-26T18:30:27.272Z"
   },
   {
    "duration": 4,
    "start_time": "2021-12-26T18:30:41.643Z"
   },
   {
    "duration": 3,
    "start_time": "2021-12-26T18:30:55.460Z"
   },
   {
    "duration": 4,
    "start_time": "2021-12-26T18:31:13.636Z"
   },
   {
    "duration": 1060,
    "start_time": "2021-12-26T18:33:11.272Z"
   },
   {
    "duration": 36,
    "start_time": "2021-12-26T18:33:12.334Z"
   },
   {
    "duration": 6,
    "start_time": "2021-12-26T18:33:12.373Z"
   },
   {
    "duration": 27,
    "start_time": "2021-12-26T18:33:12.381Z"
   },
   {
    "duration": 7,
    "start_time": "2021-12-26T18:33:12.410Z"
   },
   {
    "duration": 4,
    "start_time": "2021-12-26T18:33:12.418Z"
   },
   {
    "duration": 11,
    "start_time": "2021-12-26T18:33:12.423Z"
   },
   {
    "duration": 18,
    "start_time": "2021-12-26T18:33:12.436Z"
   },
   {
    "duration": 9643,
    "start_time": "2021-12-26T18:33:12.456Z"
   },
   {
    "duration": 19,
    "start_time": "2021-12-26T18:33:22.101Z"
   },
   {
    "duration": 11304,
    "start_time": "2021-12-26T18:33:22.122Z"
   },
   {
    "duration": 11,
    "start_time": "2021-12-26T18:33:33.428Z"
   },
   {
    "duration": 15,
    "start_time": "2021-12-26T18:33:33.441Z"
   },
   {
    "duration": 11301,
    "start_time": "2021-12-26T18:33:33.458Z"
   },
   {
    "duration": 6,
    "start_time": "2021-12-26T18:33:44.761Z"
   },
   {
    "duration": 1403,
    "start_time": "2022-03-07T12:37:23.212Z"
   },
   {
    "duration": 52,
    "start_time": "2022-03-07T12:37:24.617Z"
   },
   {
    "duration": 9,
    "start_time": "2022-03-07T12:37:24.672Z"
   },
   {
    "duration": 32,
    "start_time": "2022-03-07T12:37:24.684Z"
   },
   {
    "duration": 12,
    "start_time": "2022-03-07T12:37:24.732Z"
   },
   {
    "duration": 7,
    "start_time": "2022-03-07T12:37:24.747Z"
   },
   {
    "duration": 9,
    "start_time": "2022-03-07T12:37:24.757Z"
   },
   {
    "duration": 21,
    "start_time": "2022-03-07T12:37:24.769Z"
   },
   {
    "duration": 14114,
    "start_time": "2022-03-07T12:37:24.832Z"
   },
   {
    "duration": 25,
    "start_time": "2022-03-07T12:37:38.949Z"
   },
   {
    "duration": 17643,
    "start_time": "2022-03-07T12:37:38.977Z"
   },
   {
    "duration": 23,
    "start_time": "2022-03-07T12:37:56.622Z"
   },
   {
    "duration": 22,
    "start_time": "2022-03-07T12:37:56.648Z"
   },
   {
    "duration": 17346,
    "start_time": "2022-03-07T12:37:56.672Z"
   },
   {
    "duration": 17,
    "start_time": "2022-03-07T12:38:14.020Z"
   },
   {
    "duration": 1347,
    "start_time": "2022-03-07T12:39:08.413Z"
   },
   {
    "duration": 39,
    "start_time": "2022-03-07T12:39:09.763Z"
   },
   {
    "duration": 9,
    "start_time": "2022-03-07T12:39:09.808Z"
   },
   {
    "duration": 44,
    "start_time": "2022-03-07T12:39:09.819Z"
   },
   {
    "duration": 12,
    "start_time": "2022-03-07T12:39:09.866Z"
   },
   {
    "duration": 5,
    "start_time": "2022-03-07T12:39:09.880Z"
   },
   {
    "duration": 45,
    "start_time": "2022-03-07T12:39:09.888Z"
   },
   {
    "duration": 20,
    "start_time": "2022-03-07T12:39:09.936Z"
   },
   {
    "duration": 13907,
    "start_time": "2022-03-07T12:39:09.959Z"
   },
   {
    "duration": 25,
    "start_time": "2022-03-07T12:39:23.869Z"
   },
   {
    "duration": 17658,
    "start_time": "2022-03-07T12:39:23.897Z"
   },
   {
    "duration": 16,
    "start_time": "2022-03-07T12:39:41.557Z"
   },
   {
    "duration": 22,
    "start_time": "2022-03-07T12:39:41.575Z"
   },
   {
    "duration": 18164,
    "start_time": "2022-03-07T12:39:41.599Z"
   },
   {
    "duration": 11,
    "start_time": "2022-03-07T12:39:59.766Z"
   }
  ],
  "kernelspec": {
   "display_name": "Python 3",
   "language": "python",
   "name": "python3"
  },
  "language_info": {
   "codemirror_mode": {
    "name": "ipython",
    "version": 3
   },
   "file_extension": ".py",
   "mimetype": "text/x-python",
   "name": "python",
   "nbconvert_exporter": "python",
   "pygments_lexer": "ipython3",
   "version": "3.7.8"
  },
  "toc": {
   "base_numbering": 1,
   "nav_menu": {},
   "number_sections": true,
   "sideBar": true,
   "skip_h1_title": true,
   "title_cell": "Содержание",
   "title_sidebar": "Contents",
   "toc_cell": true,
   "toc_position": {},
   "toc_section_display": true,
   "toc_window_display": true
  }
 },
 "nbformat": 4,
 "nbformat_minor": 2
}
