{
 "cells": [
  {
   "cell_type": "markdown",
   "metadata": {
    "toc": true
   },
   "source": [
    "<h1>Содержание<span class=\"tocSkip\"></span></h1>\n",
    "<div class=\"toc\"><ul class=\"toc-item\"><li><span><a href=\"#Загрузка-данных\" data-toc-modified-id=\"Загрузка-данных-1\"><span class=\"toc-item-num\">1&nbsp;&nbsp;</span>Загрузка данных</a></span><ul class=\"toc-item\"><li><span><a href=\"#Выводы\" data-toc-modified-id=\"Выводы-1.1\"><span class=\"toc-item-num\">1.1&nbsp;&nbsp;</span>Выводы</a></span></li></ul></li><li><span><a href=\"#Умножение-матриц\" data-toc-modified-id=\"Умножение-матриц-2\"><span class=\"toc-item-num\">2&nbsp;&nbsp;</span>Умножение матриц</a></span><ul class=\"toc-item\"><li><span><a href=\"#Выводы\" data-toc-modified-id=\"Выводы-2.1\"><span class=\"toc-item-num\">2.1&nbsp;&nbsp;</span>Выводы</a></span></li></ul></li><li><span><a href=\"#Алгоритм-преобразования\" data-toc-modified-id=\"Алгоритм-преобразования-3\"><span class=\"toc-item-num\">3&nbsp;&nbsp;</span>Алгоритм преобразования</a></span><ul class=\"toc-item\"><li><span><a href=\"#Вывод\" data-toc-modified-id=\"Вывод-3.1\"><span class=\"toc-item-num\">3.1&nbsp;&nbsp;</span>Вывод</a></span></li></ul></li><li><span><a href=\"#Проверка-алгоритма\" data-toc-modified-id=\"Проверка-алгоритма-4\"><span class=\"toc-item-num\">4&nbsp;&nbsp;</span>Проверка алгоритма</a></span><ul class=\"toc-item\"><li><span><a href=\"#Выводы\" data-toc-modified-id=\"Выводы-4.1\"><span class=\"toc-item-num\">4.1&nbsp;&nbsp;</span>Выводы</a></span></li></ul></li></ul></div>"
   ]
  },
  {
   "cell_type": "markdown",
   "metadata": {},
   "source": [
    "# Защита персональных данных клиентов"
   ]
  },
  {
   "cell_type": "markdown",
   "metadata": {},
   "source": [
    "Необходимо защитить данные клиентов страховой компании «Хоть потоп». Разработать такой метод преобразования данных, чтобы по ним было сложно восстановить персональную информацию."
   ]
  },
  {
   "cell_type": "markdown",
   "metadata": {},
   "source": [
    "**Цель**  \n",
    "\n",
    "Нужно защитить данные, чтобы при преобразовании качество моделей машинного обучения не ухудшилось. Подбирать наилучшую модель не требуется.\n",
    "\n",
    "**Структура исследования**  \n",
    "\n",
    "1. Загрузка и подготовка данных\n",
    "2. Умножение матриц\n",
    "3. Алгоритм преобразования\n",
    "4. Проверка алгоритма\n",
    "\n",
    "**Использование дополнительных модулей**  \n",
    "\n",
    "- `pandas` – редактор баз данных  \n",
    "- `numpy` – работа с многомерными массивами\n",
    "- `sklearn` – машинное обучение"
   ]
  },
  {
   "cell_type": "markdown",
   "metadata": {},
   "source": [
    "## Загрузка данных"
   ]
  },
  {
   "cell_type": "code",
   "execution_count": 1,
   "metadata": {},
   "outputs": [],
   "source": [
    "import pandas as pd\n",
    "import numpy as np\n",
    "\n",
    "from sklearn.datasets import make_spd_matrix\n",
    "from sklearn.linear_model import LinearRegression\n",
    "from sklearn.metrics import r2_score"
   ]
  },
  {
   "cell_type": "code",
   "execution_count": 2,
   "metadata": {
    "scrolled": true
   },
   "outputs": [
    {
     "data": {
      "text/html": [
       "<div>\n",
       "<style scoped>\n",
       "    .dataframe tbody tr th:only-of-type {\n",
       "        vertical-align: middle;\n",
       "    }\n",
       "\n",
       "    .dataframe tbody tr th {\n",
       "        vertical-align: top;\n",
       "    }\n",
       "\n",
       "    .dataframe thead th {\n",
       "        text-align: right;\n",
       "    }\n",
       "</style>\n",
       "<table border=\"1\" class=\"dataframe\">\n",
       "  <thead>\n",
       "    <tr style=\"text-align: right;\">\n",
       "      <th></th>\n",
       "      <th>Пол</th>\n",
       "      <th>Возраст</th>\n",
       "      <th>Зарплата</th>\n",
       "      <th>Члены семьи</th>\n",
       "      <th>Страховые выплаты</th>\n",
       "    </tr>\n",
       "  </thead>\n",
       "  <tbody>\n",
       "    <tr>\n",
       "      <th>0</th>\n",
       "      <td>1</td>\n",
       "      <td>41.0</td>\n",
       "      <td>49600.0</td>\n",
       "      <td>1</td>\n",
       "      <td>0</td>\n",
       "    </tr>\n",
       "    <tr>\n",
       "      <th>1</th>\n",
       "      <td>0</td>\n",
       "      <td>46.0</td>\n",
       "      <td>38000.0</td>\n",
       "      <td>1</td>\n",
       "      <td>1</td>\n",
       "    </tr>\n",
       "    <tr>\n",
       "      <th>2</th>\n",
       "      <td>0</td>\n",
       "      <td>29.0</td>\n",
       "      <td>21000.0</td>\n",
       "      <td>0</td>\n",
       "      <td>0</td>\n",
       "    </tr>\n",
       "    <tr>\n",
       "      <th>3</th>\n",
       "      <td>0</td>\n",
       "      <td>21.0</td>\n",
       "      <td>41700.0</td>\n",
       "      <td>2</td>\n",
       "      <td>0</td>\n",
       "    </tr>\n",
       "    <tr>\n",
       "      <th>4</th>\n",
       "      <td>1</td>\n",
       "      <td>28.0</td>\n",
       "      <td>26100.0</td>\n",
       "      <td>0</td>\n",
       "      <td>0</td>\n",
       "    </tr>\n",
       "  </tbody>\n",
       "</table>\n",
       "</div>"
      ],
      "text/plain": [
       "   Пол  Возраст  Зарплата  Члены семьи  Страховые выплаты\n",
       "0    1     41.0   49600.0            1                  0\n",
       "1    0     46.0   38000.0            1                  1\n",
       "2    0     29.0   21000.0            0                  0\n",
       "3    0     21.0   41700.0            2                  0\n",
       "4    1     28.0   26100.0            0                  0"
      ]
     },
     "execution_count": 2,
     "metadata": {},
     "output_type": "execute_result"
    }
   ],
   "source": [
    "df = pd.read_csv('insurance.csv')\n",
    "df.head()"
   ]
  },
  {
   "cell_type": "code",
   "execution_count": 3,
   "metadata": {},
   "outputs": [],
   "source": [
    "# Переименуем названия столбцов, а также изменим их представление\n",
    "df = df.rename(columns={'Пол': 'gender',\n",
    "              'Возраст': 'age',\n",
    "              'Зарплата': 'salary',\n",
    "              'Члены семьи': 'family_members',\n",
    "              'Страховые выплаты': 'insurance_payments'}\n",
    "              )"
   ]
  },
  {
   "cell_type": "code",
   "execution_count": 4,
   "metadata": {},
   "outputs": [
    {
     "name": "stdout",
     "output_type": "stream",
     "text": [
      "<class 'pandas.core.frame.DataFrame'>\n",
      "RangeIndex: 5000 entries, 0 to 4999\n",
      "Data columns (total 5 columns):\n",
      " #   Column              Non-Null Count  Dtype  \n",
      "---  ------              --------------  -----  \n",
      " 0   gender              5000 non-null   int64  \n",
      " 1   age                 5000 non-null   float64\n",
      " 2   salary              5000 non-null   float64\n",
      " 3   family_members      5000 non-null   int64  \n",
      " 4   insurance_payments  5000 non-null   int64  \n",
      "dtypes: float64(2), int64(3)\n",
      "memory usage: 195.4 KB\n"
     ]
    }
   ],
   "source": [
    "df.info()"
   ]
  },
  {
   "cell_type": "code",
   "execution_count": 5,
   "metadata": {
    "scrolled": true
   },
   "outputs": [
    {
     "data": {
      "text/html": [
       "<div>\n",
       "<style scoped>\n",
       "    .dataframe tbody tr th:only-of-type {\n",
       "        vertical-align: middle;\n",
       "    }\n",
       "\n",
       "    .dataframe tbody tr th {\n",
       "        vertical-align: top;\n",
       "    }\n",
       "\n",
       "    .dataframe thead th {\n",
       "        text-align: right;\n",
       "    }\n",
       "</style>\n",
       "<table border=\"1\" class=\"dataframe\">\n",
       "  <thead>\n",
       "    <tr style=\"text-align: right;\">\n",
       "      <th></th>\n",
       "      <th>gender</th>\n",
       "      <th>age</th>\n",
       "      <th>salary</th>\n",
       "      <th>family_members</th>\n",
       "      <th>insurance_payments</th>\n",
       "    </tr>\n",
       "  </thead>\n",
       "  <tbody>\n",
       "    <tr>\n",
       "      <th>count</th>\n",
       "      <td>5000.000000</td>\n",
       "      <td>5000.000000</td>\n",
       "      <td>5000.000000</td>\n",
       "      <td>5000.000000</td>\n",
       "      <td>5000.000000</td>\n",
       "    </tr>\n",
       "    <tr>\n",
       "      <th>mean</th>\n",
       "      <td>0.499000</td>\n",
       "      <td>30.952800</td>\n",
       "      <td>39916.360000</td>\n",
       "      <td>1.194200</td>\n",
       "      <td>0.148000</td>\n",
       "    </tr>\n",
       "    <tr>\n",
       "      <th>std</th>\n",
       "      <td>0.500049</td>\n",
       "      <td>8.440807</td>\n",
       "      <td>9900.083569</td>\n",
       "      <td>1.091387</td>\n",
       "      <td>0.463183</td>\n",
       "    </tr>\n",
       "    <tr>\n",
       "      <th>min</th>\n",
       "      <td>0.000000</td>\n",
       "      <td>18.000000</td>\n",
       "      <td>5300.000000</td>\n",
       "      <td>0.000000</td>\n",
       "      <td>0.000000</td>\n",
       "    </tr>\n",
       "    <tr>\n",
       "      <th>25%</th>\n",
       "      <td>0.000000</td>\n",
       "      <td>24.000000</td>\n",
       "      <td>33300.000000</td>\n",
       "      <td>0.000000</td>\n",
       "      <td>0.000000</td>\n",
       "    </tr>\n",
       "    <tr>\n",
       "      <th>50%</th>\n",
       "      <td>0.000000</td>\n",
       "      <td>30.000000</td>\n",
       "      <td>40200.000000</td>\n",
       "      <td>1.000000</td>\n",
       "      <td>0.000000</td>\n",
       "    </tr>\n",
       "    <tr>\n",
       "      <th>75%</th>\n",
       "      <td>1.000000</td>\n",
       "      <td>37.000000</td>\n",
       "      <td>46600.000000</td>\n",
       "      <td>2.000000</td>\n",
       "      <td>0.000000</td>\n",
       "    </tr>\n",
       "    <tr>\n",
       "      <th>max</th>\n",
       "      <td>1.000000</td>\n",
       "      <td>65.000000</td>\n",
       "      <td>79000.000000</td>\n",
       "      <td>6.000000</td>\n",
       "      <td>5.000000</td>\n",
       "    </tr>\n",
       "  </tbody>\n",
       "</table>\n",
       "</div>"
      ],
      "text/plain": [
       "            gender          age        salary  family_members  \\\n",
       "count  5000.000000  5000.000000   5000.000000     5000.000000   \n",
       "mean      0.499000    30.952800  39916.360000        1.194200   \n",
       "std       0.500049     8.440807   9900.083569        1.091387   \n",
       "min       0.000000    18.000000   5300.000000        0.000000   \n",
       "25%       0.000000    24.000000  33300.000000        0.000000   \n",
       "50%       0.000000    30.000000  40200.000000        1.000000   \n",
       "75%       1.000000    37.000000  46600.000000        2.000000   \n",
       "max       1.000000    65.000000  79000.000000        6.000000   \n",
       "\n",
       "       insurance_payments  \n",
       "count         5000.000000  \n",
       "mean             0.148000  \n",
       "std              0.463183  \n",
       "min              0.000000  \n",
       "25%              0.000000  \n",
       "50%              0.000000  \n",
       "75%              0.000000  \n",
       "max              5.000000  "
      ]
     },
     "execution_count": 5,
     "metadata": {},
     "output_type": "execute_result"
    }
   ],
   "source": [
    "df.describe()"
   ]
  },
  {
   "cell_type": "code",
   "execution_count": 6,
   "metadata": {},
   "outputs": [
    {
     "name": "stdout",
     "output_type": "stream",
     "text": [
      "Количество выявленных дубликатов: 153\n"
     ]
    }
   ],
   "source": [
    "# Проверка дубликатов\n",
    "print(f'Количество выявленных дубликатов: {df.duplicated().sum()}')"
   ]
  },
  {
   "cell_type": "code",
   "execution_count": 7,
   "metadata": {},
   "outputs": [],
   "source": [
    "# Удаление дубликатов\n",
    "df = df.drop_duplicates().reset_index(drop=True)"
   ]
  },
  {
   "cell_type": "code",
   "execution_count": 8,
   "metadata": {},
   "outputs": [],
   "source": [
    "# Переведем признаки 'Возраст' (или 'age') и 'Зарплата' (или 'salary') к целочисленному типу данных 'int'\n",
    "df[['age', 'salary']] = df[['age', 'salary']].astype(int)"
   ]
  },
  {
   "cell_type": "code",
   "execution_count": 9,
   "metadata": {
    "scrolled": true
   },
   "outputs": [
    {
     "name": "stdout",
     "output_type": "stream",
     "text": [
      "<class 'pandas.core.frame.DataFrame'>\n",
      "RangeIndex: 4847 entries, 0 to 4846\n",
      "Data columns (total 5 columns):\n",
      " #   Column              Non-Null Count  Dtype\n",
      "---  ------              --------------  -----\n",
      " 0   gender              4847 non-null   int64\n",
      " 1   age                 4847 non-null   int32\n",
      " 2   salary              4847 non-null   int32\n",
      " 3   family_members      4847 non-null   int64\n",
      " 4   insurance_payments  4847 non-null   int64\n",
      "dtypes: int32(2), int64(3)\n",
      "memory usage: 151.6 KB\n"
     ]
    }
   ],
   "source": [
    "df.info()"
   ]
  },
  {
   "cell_type": "markdown",
   "metadata": {},
   "source": [
    "### Выводы"
   ]
  },
  {
   "cell_type": "markdown",
   "metadata": {},
   "source": [
    "Данные изучены, выполнены необходимые преобразования, удалены дубликаты."
   ]
  },
  {
   "cell_type": "markdown",
   "metadata": {},
   "source": [
    "## Умножение матриц"
   ]
  },
  {
   "cell_type": "markdown",
   "metadata": {},
   "source": [
    "Обозначения:\n",
    "\n",
    "- $X$ — матрица признаков (нулевой столбец состоит из единиц)\n",
    "\n",
    "- $y$ — вектор целевого признака\n",
    "\n",
    "- $P$ — матрица, на которую умножаются признаки\n",
    "\n",
    "- $w$ — вектор весов линейной регрессии (нулевой элемент равен сдвигу)"
   ]
  },
  {
   "cell_type": "markdown",
   "metadata": {},
   "source": [
    "Предсказания:\n",
    "\n",
    "$$\n",
    "a = Xw\n",
    "$$\n",
    "\n",
    "Задача обучения:\n",
    "\n",
    "$$\n",
    "w = \\arg\\min_w MSE(Xw, y)\n",
    "$$\n",
    "\n",
    "Формула обучения:\n",
    "\n",
    "$$\n",
    "w = (X^T X)^{-1} X^T y\n",
    "$$"
   ]
  },
  {
   "cell_type": "markdown",
   "metadata": {},
   "source": [
    "**Вопрос:** Изменится ли качество линейной регрессии, если умножить признаки на обратимую матрицу?\n",
    "\n",
    "**Ответ:** Качество линейной регрессии практически не изменится.\n",
    "\n",
    "**Обоснование:**"
   ]
  },
  {
   "cell_type": "markdown",
   "metadata": {},
   "source": [
    "Обозначим $X_1$ матрицу, которая получается после умножения матрицы признаков $X$ на обратимую матрицу $I$ (invertible):\n",
    "\n",
    "$$ X_1 = X \\cdot I $$\n",
    "\n",
    "Для формулы обучения выполним преобразования:\n",
    "\n",
    "$$ w_1 = ((X \\cdot I)^T \\cdot X \\cdot I)^{-1} \\cdot (X \\cdot I)^T \\cdot y $$\n",
    "\n",
    "$$ w_1 = (I^T \\cdot X^T \\cdot X \\cdot I)^{-1} \\cdot I^T \\cdot X^T \\cdot y $$\n",
    "\n",
    "$$ w_1 = I^{-1} \\cdot (X^T \\cdot X)^{-1} \\cdot (I^T)^{-1} \\cdot I^T \\cdot X^T \\cdot y $$\n",
    "\n",
    "Произведение обратной матрицы на исходную (или наоборот) дает единичную матрицу, т.е. $(I^T)^{-1} \\cdot I^T = E$\n",
    "\n",
    "$$ w_1 = I^{-1} \\cdot ((X^T \\cdot X)^{-1} \\cdot X^T \\cdot y) $$\n",
    "\n",
    "Выражаем метки (или целевой признак) $y$ из формулы обучения и подставляем в выведенную формулу:\n",
    "\n",
    "$$ w_1 = I^{-1} \\cdot w $$\n",
    "\n",
    "Если в формулу предсказания подставить произведение исходной матрицы на обратную, а также выведенную выше формулу обучения, получаем:\n",
    "\n",
    "$$ a_1 = X_1 \\cdot w_1 = X \\cdot I \\cdot I^{-1} \\cdot w = X \\cdot E \\cdot w = X \\cdot w = a $$\n",
    "\n",
    "Таким образом, формула предсказаний в результате представленных выше преобразований сводится к своему первоначальному виду."
   ]
  },
  {
   "cell_type": "markdown",
   "metadata": {},
   "source": [
    "### Выводы"
   ]
  },
  {
   "cell_type": "markdown",
   "metadata": {},
   "source": [
    "Представлено обоснование сохранения качества модели машинного обучения при условии умножения матрицы признаков на обратимую матрицу."
   ]
  },
  {
   "cell_type": "markdown",
   "metadata": {},
   "source": [
    "## Алгоритм преобразования"
   ]
  },
  {
   "cell_type": "markdown",
   "metadata": {},
   "source": [
    "**Алгоритм**\n",
    "\n",
    "1. Используем метод `make_spd_matrix` из модуля `sklearn.datasets` для создания случайной матрицы.\n",
    "2. При помощи метода `np.linalg.inv` проверяем созданную на шаге `1` матрицу на обратимость. Если матрица не прошла проверку на обратимость (вероятность этого крайне мала), необходимо повторить шаг `1`.\n",
    "3. Выполняем умножение матрицы признаков $X$ на обратимую матрицу из шага `1`."
   ]
  },
  {
   "cell_type": "markdown",
   "metadata": {},
   "source": [
    "**Обоснование**\n",
    "\n",
    "Такой алгоритм должен помочь защитить персональную информацию клиентов без потери качества модели линейной регрессии машинного обучения. На предыдущем этапе было показано, что качество модели не изменится если умножить матрицу признаков на обратимую матрицу."
   ]
  },
  {
   "cell_type": "code",
   "execution_count": 10,
   "metadata": {
    "scrolled": true
   },
   "outputs": [
    {
     "data": {
      "text/plain": [
       "array([[ 1.37245706, -1.03845957, -0.84389737, -0.26033015],\n",
       "       [-1.03845957,  2.87886199,  1.67157893,  0.48470484],\n",
       "       [-0.84389737,  1.67157893,  2.10204907,  0.3257384 ],\n",
       "       [-0.26033015,  0.48470484,  0.3257384 ,  1.01695329]])"
      ]
     },
     "execution_count": 10,
     "metadata": {},
     "output_type": "execute_result"
    }
   ],
   "source": [
    "# Случайным образом создаем исходную матрицу при помощи метода randint()\n",
    "inv_matrix = make_spd_matrix(n_dim=4, random_state=12345)\n",
    "inv_matrix"
   ]
  },
  {
   "cell_type": "code",
   "execution_count": 11,
   "metadata": {},
   "outputs": [
    {
     "data": {
      "text/plain": [
       "array([[ 1.06341364,  0.23949912,  0.22304514,  0.08662924],\n",
       "       [ 0.23949912,  0.72198481, -0.45683306, -0.13647886],\n",
       "       [ 0.22304514, -0.45683306,  0.93223396, -0.0237669 ],\n",
       "       [ 0.08662924, -0.13647886, -0.0237669 ,  1.07816747]])"
      ]
     },
     "execution_count": 11,
     "metadata": {},
     "output_type": "execute_result"
    }
   ],
   "source": [
    "# Находим обратную матрицу\n",
    "is_inv_matrix = np.linalg.inv(inv_matrix)\n",
    "is_inv_matrix"
   ]
  },
  {
   "cell_type": "code",
   "execution_count": 12,
   "metadata": {},
   "outputs": [
    {
     "name": "stdout",
     "output_type": "stream",
     "text": [
      "Размерность матрицы признаков (4847, 4)\n",
      "Размерность вектора целевого признака (4847,)\n"
     ]
    }
   ],
   "source": [
    "# Сохраним признаки и метки (целевой признак) в отдельные переменные\n",
    "X = df.drop('insurance_payments', axis=1)\n",
    "y = df['insurance_payments']\n",
    "\n",
    "print(f'Размерность матрицы признаков {X.shape}')\n",
    "print(f'Размерность вектора целевого признака {y.shape}')"
   ]
  },
  {
   "cell_type": "code",
   "execution_count": 13,
   "metadata": {
    "scrolled": true
   },
   "outputs": [
    {
     "data": {
      "text/plain": [
       "array([[-41898.77425404,  83027.79427391, 104329.65044996,\n",
       "         16177.25417765],\n",
       "       [-32116.12952008,  63652.91151178,  79955.08302972,\n",
       "         12401.37258828],\n",
       "       [-17751.96009184,  35186.64442569,  44191.50625925,\n",
       "          6854.56284719],\n",
       "       ...,\n",
       "       [-28629.41068554,  56725.0722118 ,  71293.54652899,\n",
       "         11054.25977435],\n",
       "       [-27617.69863409,  54724.38147088,  68773.91264384,\n",
       "         10665.09972679],\n",
       "       [-34290.19795207,  67946.15874176,  85389.47829375,\n",
       "         13239.3074118 ]])"
      ]
     },
     "execution_count": 13,
     "metadata": {},
     "output_type": "execute_result"
    }
   ],
   "source": [
    "# Создаем матрицу, в которой будут содержаться видоизмененные данные\n",
    "encode_matrix = X.values @ inv_matrix\n",
    "encode_matrix"
   ]
  },
  {
   "cell_type": "markdown",
   "metadata": {},
   "source": [
    "### Вывод"
   ]
  },
  {
   "cell_type": "markdown",
   "metadata": {},
   "source": [
    "Последовательно применен алгоритм из п.2. Сформирована матрица `encode_matrix`, в которой содержатся защищенные персональные данные клиентов."
   ]
  },
  {
   "cell_type": "markdown",
   "metadata": {},
   "source": [
    "## Проверка алгоритма"
   ]
  },
  {
   "cell_type": "markdown",
   "metadata": {},
   "source": [
    "По условиям учебного задания не требуется подбирать лучшую модель. Подбор гиперпараметров не производится."
   ]
  },
  {
   "cell_type": "code",
   "execution_count": 14,
   "metadata": {},
   "outputs": [],
   "source": [
    "# Функция для обучения модели на исходных и преобразованных данных\n",
    "def check_func(features, labels, data=None):\n",
    "    '''функция принимает на вход:\n",
    "        - матрицу признаков\n",
    "        - вектор меток (или целевого признака)\n",
    "        - маркер данных: исходная матрица признаков или преобразованная\n",
    "        \n",
    "        функция возвращает вывод на печать значение метрики R2\n",
    "    '''\n",
    "    \n",
    "    model = LinearRegression() # создаем объект класса линейной регрессии\n",
    "    \n",
    "    model.fit(features, labels)\n",
    "    pred = model.predict(features)\n",
    "    r2 = r2_score(labels, pred)\n",
    "    \n",
    "    print(f'Метрика R2: {r2} ({data})')"
   ]
  },
  {
   "cell_type": "code",
   "execution_count": 15,
   "metadata": {},
   "outputs": [
    {
     "name": "stdout",
     "output_type": "stream",
     "text": [
      "Метрика R2: 0.4302010046633359 (исходные данные)\n",
      "Метрика R2: 0.43020100466334765 (преобразованные данные)\n"
     ]
    }
   ],
   "source": [
    "# Вызов функции\n",
    "check_func(X, y, data='исходные данные')\n",
    "check_func(encode_matrix, y, data='преобразованные данные')"
   ]
  },
  {
   "cell_type": "markdown",
   "metadata": {},
   "source": [
    "### Выводы"
   ]
  },
  {
   "cell_type": "markdown",
   "metadata": {},
   "source": [
    "Полученные метрики `R2` практически идентичны (различия начинаются с 14 знака после запятой). Примененная техника преобразования исходных данных не оказала существенного влияние на качество модели линейной регрессии.  \n",
    "\n",
    "Стоит отметить, что само значение выбранной метрики `R2` представляет собой крайне низкое значение. Метрику можно значительно улучшить, применив подбор гиперпараметров и предварительную подготовку исходных данных (как например, стандартизация или нормализация)."
   ]
  }
 ],
 "metadata": {
  "ExecuteTimeLog": [
   {
    "duration": 539,
    "start_time": "2022-02-26T17:04:41.822Z"
   },
   {
    "duration": 15,
    "start_time": "2022-02-26T17:05:24.993Z"
   },
   {
    "duration": 22,
    "start_time": "2022-02-26T17:05:33.109Z"
   },
   {
    "duration": 8,
    "start_time": "2022-02-26T17:05:52.369Z"
   },
   {
    "duration": 7,
    "start_time": "2022-02-26T17:05:56.561Z"
   },
   {
    "duration": 22,
    "start_time": "2022-02-26T17:06:27.351Z"
   },
   {
    "duration": 6,
    "start_time": "2022-02-26T17:08:19.334Z"
   },
   {
    "duration": 5,
    "start_time": "2022-02-26T17:15:27.796Z"
   },
   {
    "duration": 5,
    "start_time": "2022-02-26T17:17:11.096Z"
   },
   {
    "duration": 7,
    "start_time": "2022-02-26T17:17:21.504Z"
   },
   {
    "duration": 3,
    "start_time": "2022-02-26T17:27:50.997Z"
   },
   {
    "duration": 17,
    "start_time": "2022-02-26T17:27:52.586Z"
   },
   {
    "duration": 6,
    "start_time": "2022-02-26T17:27:54.068Z"
   },
   {
    "duration": 6,
    "start_time": "2022-02-26T17:27:55.751Z"
   },
   {
    "duration": 25,
    "start_time": "2022-02-26T17:28:01.072Z"
   },
   {
    "duration": 7,
    "start_time": "2022-02-26T17:28:03.729Z"
   },
   {
    "duration": 5,
    "start_time": "2022-02-26T17:28:04.600Z"
   },
   {
    "duration": 580,
    "start_time": "2022-02-26T17:31:08.268Z"
   },
   {
    "duration": 26,
    "start_time": "2022-02-26T17:31:10.716Z"
   },
   {
    "duration": 4,
    "start_time": "2022-02-26T17:31:11.860Z"
   },
   {
    "duration": 7,
    "start_time": "2022-02-26T17:31:14.604Z"
   },
   {
    "duration": 27,
    "start_time": "2022-02-26T17:31:17.700Z"
   },
   {
    "duration": 6,
    "start_time": "2022-02-26T17:31:20.716Z"
   },
   {
    "duration": 6,
    "start_time": "2022-02-26T17:31:22.099Z"
   },
   {
    "duration": 5,
    "start_time": "2022-02-26T17:31:23.764Z"
   },
   {
    "duration": 6,
    "start_time": "2022-02-26T17:31:24.916Z"
   },
   {
    "duration": 57,
    "start_time": "2022-02-26T19:13:50.266Z"
   },
   {
    "duration": 50,
    "start_time": "2022-02-26T19:14:07.002Z"
   },
   {
    "duration": 536,
    "start_time": "2022-02-26T19:59:33.283Z"
   },
   {
    "duration": 22,
    "start_time": "2022-02-26T19:59:33.821Z"
   },
   {
    "duration": 4,
    "start_time": "2022-02-26T19:59:33.847Z"
   },
   {
    "duration": 12,
    "start_time": "2022-02-26T19:59:33.852Z"
   },
   {
    "duration": 22,
    "start_time": "2022-02-26T19:59:33.865Z"
   },
   {
    "duration": 4,
    "start_time": "2022-02-26T19:59:33.889Z"
   },
   {
    "duration": 6,
    "start_time": "2022-02-26T19:59:33.895Z"
   },
   {
    "duration": 5,
    "start_time": "2022-02-26T19:59:33.903Z"
   },
   {
    "duration": 9,
    "start_time": "2022-02-26T19:59:33.909Z"
   },
   {
    "duration": 634,
    "start_time": "2022-02-27T12:51:49.291Z"
   },
   {
    "duration": 25,
    "start_time": "2022-02-27T12:51:49.927Z"
   },
   {
    "duration": 4,
    "start_time": "2022-02-27T12:51:49.954Z"
   },
   {
    "duration": 8,
    "start_time": "2022-02-27T12:51:49.960Z"
   },
   {
    "duration": 22,
    "start_time": "2022-02-27T12:51:49.969Z"
   },
   {
    "duration": 5,
    "start_time": "2022-02-27T12:51:49.992Z"
   },
   {
    "duration": 34,
    "start_time": "2022-02-27T12:51:49.998Z"
   },
   {
    "duration": 6,
    "start_time": "2022-02-27T12:51:50.034Z"
   },
   {
    "duration": 10,
    "start_time": "2022-02-27T12:51:50.041Z"
   },
   {
    "duration": 205,
    "start_time": "2022-02-27T13:18:28.554Z"
   },
   {
    "duration": 2,
    "start_time": "2022-02-27T13:18:40.657Z"
   },
   {
    "duration": 536,
    "start_time": "2022-02-27T13:18:45.349Z"
   },
   {
    "duration": 23,
    "start_time": "2022-02-27T13:18:45.887Z"
   },
   {
    "duration": 4,
    "start_time": "2022-02-27T13:18:45.912Z"
   },
   {
    "duration": 17,
    "start_time": "2022-02-27T13:18:45.917Z"
   },
   {
    "duration": 25,
    "start_time": "2022-02-27T13:18:45.936Z"
   },
   {
    "duration": 5,
    "start_time": "2022-02-27T13:18:45.962Z"
   },
   {
    "duration": 9,
    "start_time": "2022-02-27T13:18:45.969Z"
   },
   {
    "duration": 5,
    "start_time": "2022-02-27T13:18:45.980Z"
   },
   {
    "duration": 12,
    "start_time": "2022-02-27T13:18:45.986Z"
   },
   {
    "duration": 3,
    "start_time": "2022-02-27T13:18:45.999Z"
   },
   {
    "duration": 4,
    "start_time": "2022-02-27T13:19:03.331Z"
   },
   {
    "duration": 194,
    "start_time": "2022-02-27T13:21:05.651Z"
   },
   {
    "duration": 6,
    "start_time": "2022-02-27T13:21:22.816Z"
   },
   {
    "duration": 135,
    "start_time": "2022-02-27T13:31:12.235Z"
   },
   {
    "duration": 470,
    "start_time": "2022-02-27T13:31:17.509Z"
   },
   {
    "duration": 5,
    "start_time": "2022-02-27T13:31:21.357Z"
   },
   {
    "duration": 6,
    "start_time": "2022-02-27T13:31:27.825Z"
   },
   {
    "duration": 5,
    "start_time": "2022-02-27T13:53:08.080Z"
   },
   {
    "duration": 5,
    "start_time": "2022-02-27T13:53:30.144Z"
   },
   {
    "duration": 5,
    "start_time": "2022-02-27T13:53:36.172Z"
   },
   {
    "duration": 2,
    "start_time": "2022-02-27T13:55:56.032Z"
   },
   {
    "duration": 3,
    "start_time": "2022-02-27T13:56:00.743Z"
   },
   {
    "duration": 9,
    "start_time": "2022-02-27T13:56:03.311Z"
   },
   {
    "duration": 4,
    "start_time": "2022-02-27T13:56:09.717Z"
   },
   {
    "duration": 1062,
    "start_time": "2022-02-27T14:04:43.662Z"
   },
   {
    "duration": 28,
    "start_time": "2022-02-27T14:04:44.726Z"
   },
   {
    "duration": 4,
    "start_time": "2022-02-27T14:04:44.756Z"
   },
   {
    "duration": 7,
    "start_time": "2022-02-27T14:04:44.762Z"
   },
   {
    "duration": 21,
    "start_time": "2022-02-27T14:04:44.771Z"
   },
   {
    "duration": 4,
    "start_time": "2022-02-27T14:04:44.794Z"
   },
   {
    "duration": 33,
    "start_time": "2022-02-27T14:04:44.800Z"
   },
   {
    "duration": 4,
    "start_time": "2022-02-27T14:04:44.836Z"
   },
   {
    "duration": 10,
    "start_time": "2022-02-27T14:04:44.842Z"
   },
   {
    "duration": 5,
    "start_time": "2022-02-27T14:04:44.853Z"
   },
   {
    "duration": 7,
    "start_time": "2022-02-27T14:04:44.859Z"
   },
   {
    "duration": 66,
    "start_time": "2022-02-27T14:04:44.868Z"
   },
   {
    "duration": 11,
    "start_time": "2022-02-27T14:04:44.936Z"
   },
   {
    "duration": 5,
    "start_time": "2022-02-27T14:06:24.672Z"
   },
   {
    "duration": 5,
    "start_time": "2022-02-27T14:06:32.652Z"
   },
   {
    "duration": 1027,
    "start_time": "2022-02-27T14:07:23.706Z"
   },
   {
    "duration": 28,
    "start_time": "2022-02-27T14:07:24.734Z"
   },
   {
    "duration": 3,
    "start_time": "2022-02-27T14:07:24.767Z"
   },
   {
    "duration": 9,
    "start_time": "2022-02-27T14:07:24.772Z"
   },
   {
    "duration": 23,
    "start_time": "2022-02-27T14:07:24.783Z"
   },
   {
    "duration": 5,
    "start_time": "2022-02-27T14:07:24.807Z"
   },
   {
    "duration": 22,
    "start_time": "2022-02-27T14:07:24.814Z"
   },
   {
    "duration": 4,
    "start_time": "2022-02-27T14:07:24.839Z"
   },
   {
    "duration": 10,
    "start_time": "2022-02-27T14:07:24.845Z"
   },
   {
    "duration": 6,
    "start_time": "2022-02-27T14:07:24.856Z"
   },
   {
    "duration": 6,
    "start_time": "2022-02-27T14:07:24.863Z"
   },
   {
    "duration": 64,
    "start_time": "2022-02-27T14:07:24.871Z"
   },
   {
    "duration": 17,
    "start_time": "2022-02-27T14:07:24.937Z"
   },
   {
    "duration": 966,
    "start_time": "2022-02-27T14:10:55.195Z"
   },
   {
    "duration": 30,
    "start_time": "2022-02-27T14:10:56.162Z"
   },
   {
    "duration": 3,
    "start_time": "2022-02-27T14:10:56.194Z"
   },
   {
    "duration": 8,
    "start_time": "2022-02-27T14:10:56.199Z"
   },
   {
    "duration": 34,
    "start_time": "2022-02-27T14:10:56.209Z"
   },
   {
    "duration": 4,
    "start_time": "2022-02-27T14:10:56.245Z"
   },
   {
    "duration": 6,
    "start_time": "2022-02-27T14:10:56.251Z"
   },
   {
    "duration": 5,
    "start_time": "2022-02-27T14:10:56.259Z"
   },
   {
    "duration": 9,
    "start_time": "2022-02-27T14:10:56.265Z"
   },
   {
    "duration": 7,
    "start_time": "2022-02-27T14:10:56.276Z"
   },
   {
    "duration": 53,
    "start_time": "2022-02-27T14:10:56.284Z"
   },
   {
    "duration": 9,
    "start_time": "2022-02-27T14:10:56.340Z"
   },
   {
    "duration": 6,
    "start_time": "2022-02-27T14:10:56.351Z"
   },
   {
    "duration": 57,
    "start_time": "2022-02-27T14:13:56.441Z"
   },
   {
    "duration": 9,
    "start_time": "2022-02-27T14:18:06.660Z"
   },
   {
    "duration": 2,
    "start_time": "2022-02-27T14:25:59.298Z"
   },
   {
    "duration": 362,
    "start_time": "2022-02-27T14:26:00.049Z"
   },
   {
    "duration": 1044,
    "start_time": "2022-02-27T14:26:43.715Z"
   },
   {
    "duration": 23,
    "start_time": "2022-02-27T14:26:44.761Z"
   },
   {
    "duration": 4,
    "start_time": "2022-02-27T14:26:44.786Z"
   },
   {
    "duration": 11,
    "start_time": "2022-02-27T14:26:44.792Z"
   },
   {
    "duration": 34,
    "start_time": "2022-02-27T14:26:44.805Z"
   },
   {
    "duration": 5,
    "start_time": "2022-02-27T14:26:44.841Z"
   },
   {
    "duration": 5,
    "start_time": "2022-02-27T14:26:44.847Z"
   },
   {
    "duration": 4,
    "start_time": "2022-02-27T14:26:44.855Z"
   },
   {
    "duration": 8,
    "start_time": "2022-02-27T14:26:44.861Z"
   },
   {
    "duration": 6,
    "start_time": "2022-02-27T14:26:44.870Z"
   },
   {
    "duration": 5,
    "start_time": "2022-02-27T14:26:44.877Z"
   },
   {
    "duration": 50,
    "start_time": "2022-02-27T14:26:44.883Z"
   },
   {
    "duration": 9,
    "start_time": "2022-02-27T14:26:44.938Z"
   },
   {
    "duration": 82,
    "start_time": "2022-02-27T14:26:44.951Z"
   },
   {
    "duration": 109,
    "start_time": "2022-02-27T14:26:45.035Z"
   },
   {
    "duration": 89,
    "start_time": "2022-02-27T14:26:45.147Z"
   },
   {
    "duration": 3,
    "start_time": "2022-02-27T14:28:29.187Z"
   },
   {
    "duration": 1013,
    "start_time": "2022-02-27T14:29:58.946Z"
   },
   {
    "duration": 27,
    "start_time": "2022-02-27T14:29:59.961Z"
   },
   {
    "duration": 5,
    "start_time": "2022-02-27T14:29:59.991Z"
   },
   {
    "duration": 11,
    "start_time": "2022-02-27T14:29:59.998Z"
   },
   {
    "duration": 40,
    "start_time": "2022-02-27T14:30:00.010Z"
   },
   {
    "duration": 5,
    "start_time": "2022-02-27T14:30:00.052Z"
   },
   {
    "duration": 7,
    "start_time": "2022-02-27T14:30:00.058Z"
   },
   {
    "duration": 4,
    "start_time": "2022-02-27T14:30:00.068Z"
   },
   {
    "duration": 8,
    "start_time": "2022-02-27T14:30:00.074Z"
   },
   {
    "duration": 5,
    "start_time": "2022-02-27T14:30:00.084Z"
   },
   {
    "duration": 44,
    "start_time": "2022-02-27T14:30:00.090Z"
   },
   {
    "duration": 5,
    "start_time": "2022-02-27T14:30:00.136Z"
   },
   {
    "duration": 90,
    "start_time": "2022-02-27T14:30:00.144Z"
   },
   {
    "duration": 2,
    "start_time": "2022-02-27T14:30:00.236Z"
   },
   {
    "duration": 17,
    "start_time": "2022-02-27T14:30:00.240Z"
   },
   {
    "duration": 81,
    "start_time": "2022-02-27T14:30:00.258Z"
   },
   {
    "duration": 2,
    "start_time": "2022-02-27T14:30:43.569Z"
   },
   {
    "duration": 10,
    "start_time": "2022-02-27T14:30:44.572Z"
   },
   {
    "duration": 7,
    "start_time": "2022-02-27T14:30:45.214Z"
   },
   {
    "duration": 56,
    "start_time": "2022-02-27T14:31:37.810Z"
   },
   {
    "duration": 960,
    "start_time": "2022-02-27T14:40:19.492Z"
   },
   {
    "duration": 25,
    "start_time": "2022-02-27T14:40:20.454Z"
   },
   {
    "duration": 4,
    "start_time": "2022-02-27T14:40:20.481Z"
   },
   {
    "duration": 10,
    "start_time": "2022-02-27T14:40:20.487Z"
   },
   {
    "duration": 35,
    "start_time": "2022-02-27T14:40:20.498Z"
   },
   {
    "duration": 5,
    "start_time": "2022-02-27T14:40:20.535Z"
   },
   {
    "duration": 5,
    "start_time": "2022-02-27T14:40:20.542Z"
   },
   {
    "duration": 5,
    "start_time": "2022-02-27T14:40:20.549Z"
   },
   {
    "duration": 6,
    "start_time": "2022-02-27T14:40:20.556Z"
   },
   {
    "duration": 5,
    "start_time": "2022-02-27T14:40:20.563Z"
   },
   {
    "duration": 7,
    "start_time": "2022-02-27T14:40:20.570Z"
   },
   {
    "duration": 60,
    "start_time": "2022-02-27T14:40:20.579Z"
   },
   {
    "duration": 7,
    "start_time": "2022-02-27T14:40:20.641Z"
   },
   {
    "duration": 83,
    "start_time": "2022-02-27T14:40:20.650Z"
   },
   {
    "duration": 15,
    "start_time": "2022-02-27T14:40:20.735Z"
   },
   {
    "duration": 104,
    "start_time": "2022-02-27T14:40:20.834Z"
   },
   {
    "duration": 53,
    "start_time": "2022-02-27T16:33:45.317Z"
   },
   {
    "duration": 3,
    "start_time": "2022-02-27T16:41:51.292Z"
   },
   {
    "duration": 3,
    "start_time": "2022-02-27T16:45:03.965Z"
   },
   {
    "duration": 6,
    "start_time": "2022-02-27T16:46:16.498Z"
   },
   {
    "duration": 9,
    "start_time": "2022-02-27T16:46:24.995Z"
   },
   {
    "duration": 3,
    "start_time": "2022-02-27T16:58:22.967Z"
   },
   {
    "duration": 507,
    "start_time": "2022-02-27T16:58:24.086Z"
   },
   {
    "duration": 3,
    "start_time": "2022-02-27T16:59:31.991Z"
   },
   {
    "duration": 331,
    "start_time": "2022-02-27T16:59:32.958Z"
   },
   {
    "duration": 3,
    "start_time": "2022-02-27T17:00:04.131Z"
   },
   {
    "duration": 8,
    "start_time": "2022-02-27T17:00:04.966Z"
   },
   {
    "duration": 3,
    "start_time": "2022-02-27T17:00:45.433Z"
   },
   {
    "duration": 10,
    "start_time": "2022-02-27T17:00:46.384Z"
   },
   {
    "duration": 1024,
    "start_time": "2022-02-27T17:06:10.421Z"
   },
   {
    "duration": 28,
    "start_time": "2022-02-27T17:06:11.447Z"
   },
   {
    "duration": 3,
    "start_time": "2022-02-27T17:06:11.477Z"
   },
   {
    "duration": 9,
    "start_time": "2022-02-27T17:06:11.482Z"
   },
   {
    "duration": 21,
    "start_time": "2022-02-27T17:06:11.493Z"
   },
   {
    "duration": 5,
    "start_time": "2022-02-27T17:06:11.515Z"
   },
   {
    "duration": 5,
    "start_time": "2022-02-27T17:06:11.533Z"
   },
   {
    "duration": 4,
    "start_time": "2022-02-27T17:06:11.540Z"
   },
   {
    "duration": 8,
    "start_time": "2022-02-27T17:06:11.546Z"
   },
   {
    "duration": 5,
    "start_time": "2022-02-27T17:06:11.555Z"
   },
   {
    "duration": 5,
    "start_time": "2022-02-27T17:06:11.562Z"
   },
   {
    "duration": 65,
    "start_time": "2022-02-27T17:06:11.570Z"
   },
   {
    "duration": 6,
    "start_time": "2022-02-27T17:06:11.637Z"
   },
   {
    "duration": 88,
    "start_time": "2022-02-27T17:06:11.645Z"
   },
   {
    "duration": 101,
    "start_time": "2022-02-27T17:06:11.735Z"
   },
   {
    "duration": 4,
    "start_time": "2022-02-27T17:07:47.304Z"
   },
   {
    "duration": 13,
    "start_time": "2022-02-27T17:15:25.932Z"
   },
   {
    "duration": 9,
    "start_time": "2022-02-27T17:15:38.265Z"
   },
   {
    "duration": 1458,
    "start_time": "2022-02-27T21:39:38.001Z"
   },
   {
    "duration": 38,
    "start_time": "2022-02-27T21:39:39.462Z"
   },
   {
    "duration": 5,
    "start_time": "2022-02-27T21:39:39.503Z"
   },
   {
    "duration": 11,
    "start_time": "2022-02-27T21:39:39.511Z"
   },
   {
    "duration": 72,
    "start_time": "2022-02-27T21:39:39.525Z"
   },
   {
    "duration": 8,
    "start_time": "2022-02-27T21:39:39.600Z"
   },
   {
    "duration": 9,
    "start_time": "2022-02-27T21:39:39.611Z"
   },
   {
    "duration": 6,
    "start_time": "2022-02-27T21:39:39.624Z"
   },
   {
    "duration": 11,
    "start_time": "2022-02-27T21:39:39.633Z"
   },
   {
    "duration": 46,
    "start_time": "2022-02-27T21:39:39.647Z"
   },
   {
    "duration": 13,
    "start_time": "2022-02-27T21:39:39.696Z"
   },
   {
    "duration": 78,
    "start_time": "2022-02-27T21:39:39.712Z"
   },
   {
    "duration": 13,
    "start_time": "2022-02-27T21:39:39.792Z"
   },
   {
    "duration": 82,
    "start_time": "2022-02-27T21:39:39.807Z"
   },
   {
    "duration": 98,
    "start_time": "2022-02-27T21:39:39.891Z"
   },
   {
    "duration": 1377,
    "start_time": "2022-02-28T17:06:44.172Z"
   },
   {
    "duration": 140,
    "start_time": "2022-02-28T17:06:45.551Z"
   },
   {
    "duration": 7,
    "start_time": "2022-02-28T17:06:45.695Z"
   },
   {
    "duration": 13,
    "start_time": "2022-02-28T17:06:45.705Z"
   },
   {
    "duration": 45,
    "start_time": "2022-02-28T17:06:45.720Z"
   },
   {
    "duration": 6,
    "start_time": "2022-02-28T17:06:45.767Z"
   },
   {
    "duration": 7,
    "start_time": "2022-02-28T17:06:45.776Z"
   },
   {
    "duration": 6,
    "start_time": "2022-02-28T17:06:45.786Z"
   },
   {
    "duration": 57,
    "start_time": "2022-02-28T17:06:45.795Z"
   },
   {
    "duration": 9,
    "start_time": "2022-02-28T17:06:45.855Z"
   },
   {
    "duration": 6,
    "start_time": "2022-02-28T17:06:45.865Z"
   },
   {
    "duration": 59,
    "start_time": "2022-02-28T17:06:45.874Z"
   },
   {
    "duration": 12,
    "start_time": "2022-02-28T17:06:45.940Z"
   },
   {
    "duration": 77,
    "start_time": "2022-02-28T17:06:45.956Z"
   },
   {
    "duration": 102,
    "start_time": "2022-02-28T17:06:46.035Z"
   },
   {
    "duration": 1328,
    "start_time": "2022-02-28T17:07:43.523Z"
   },
   {
    "duration": 38,
    "start_time": "2022-02-28T17:07:44.854Z"
   },
   {
    "duration": 5,
    "start_time": "2022-02-28T17:07:44.895Z"
   },
   {
    "duration": 10,
    "start_time": "2022-02-28T17:07:44.903Z"
   },
   {
    "duration": 37,
    "start_time": "2022-02-28T17:07:44.932Z"
   },
   {
    "duration": 6,
    "start_time": "2022-02-28T17:07:44.972Z"
   },
   {
    "duration": 7,
    "start_time": "2022-02-28T17:07:44.981Z"
   },
   {
    "duration": 6,
    "start_time": "2022-02-28T17:07:44.992Z"
   },
   {
    "duration": 43,
    "start_time": "2022-02-28T17:07:45.001Z"
   },
   {
    "duration": 12,
    "start_time": "2022-02-28T17:07:45.047Z"
   },
   {
    "duration": 23,
    "start_time": "2022-02-28T17:07:45.062Z"
   },
   {
    "duration": 56,
    "start_time": "2022-02-28T17:07:45.088Z"
   },
   {
    "duration": 14,
    "start_time": "2022-02-28T17:07:45.148Z"
   },
   {
    "duration": 7,
    "start_time": "2022-02-28T17:07:45.240Z"
   },
   {
    "duration": 94,
    "start_time": "2022-02-28T17:07:45.250Z"
   },
   {
    "duration": 1117,
    "start_time": "2022-03-07T19:14:14.660Z"
   },
   {
    "duration": 58,
    "start_time": "2022-03-07T19:14:15.779Z"
   },
   {
    "duration": 6,
    "start_time": "2022-03-07T19:14:15.839Z"
   },
   {
    "duration": 23,
    "start_time": "2022-03-07T19:14:15.847Z"
   },
   {
    "duration": 22,
    "start_time": "2022-03-07T19:14:15.873Z"
   },
   {
    "duration": 5,
    "start_time": "2022-03-07T19:14:15.897Z"
   },
   {
    "duration": 5,
    "start_time": "2022-03-07T19:14:15.904Z"
   },
   {
    "duration": 28,
    "start_time": "2022-03-07T19:14:15.910Z"
   },
   {
    "duration": 30,
    "start_time": "2022-03-07T19:14:15.942Z"
   },
   {
    "duration": 8,
    "start_time": "2022-03-07T19:14:15.974Z"
   },
   {
    "duration": 7,
    "start_time": "2022-03-07T19:14:15.984Z"
   },
   {
    "duration": 47,
    "start_time": "2022-03-07T19:14:15.993Z"
   },
   {
    "duration": 36,
    "start_time": "2022-03-07T19:14:16.042Z"
   },
   {
    "duration": 12,
    "start_time": "2022-03-07T19:14:16.134Z"
   },
   {
    "duration": 25,
    "start_time": "2022-03-07T19:14:16.148Z"
   }
  ],
  "kernelspec": {
   "display_name": "Python 3",
   "language": "python",
   "name": "python3"
  },
  "language_info": {
   "codemirror_mode": {
    "name": "ipython",
    "version": 3
   },
   "file_extension": ".py",
   "mimetype": "text/x-python",
   "name": "python",
   "nbconvert_exporter": "python",
   "pygments_lexer": "ipython3",
   "version": "3.10.3"
  },
  "toc": {
   "base_numbering": 1,
   "nav_menu": {},
   "number_sections": true,
   "sideBar": true,
   "skip_h1_title": true,
   "title_cell": "Содержание",
   "title_sidebar": "Contents",
   "toc_cell": true,
   "toc_position": {
    "height": "calc(100% - 180px)",
    "left": "10px",
    "top": "150px",
    "width": "215px"
   },
   "toc_section_display": true,
   "toc_window_display": false
  }
 },
 "nbformat": 4,
 "nbformat_minor": 2
}
