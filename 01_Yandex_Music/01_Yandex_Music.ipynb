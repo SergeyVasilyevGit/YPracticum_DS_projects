{
 "cells": [
  {
   "cell_type": "markdown",
   "metadata": {
    "toc": true
   },
   "source": [
    "<h1>Содержание<span class=\"tocSkip\"></span></h1>\n",
    "<div class=\"toc\"><ul class=\"toc-item\"><li><span><a href=\"#Обзор-данных\" data-toc-modified-id=\"Обзор-данных-1\"><span class=\"toc-item-num\">1&nbsp;&nbsp;</span>Обзор данных</a></span></li><li><span><a href=\"#Предобработка-данных\" data-toc-modified-id=\"Предобработка-данных-2\"><span class=\"toc-item-num\">2&nbsp;&nbsp;</span>Предобработка данных</a></span><ul class=\"toc-item\"><li><span><a href=\"#Стиль-заголовков\" data-toc-modified-id=\"Стиль-заголовков-2.1\"><span class=\"toc-item-num\">2.1&nbsp;&nbsp;</span>Стиль заголовков</a></span></li><li><span><a href=\"#Пропуски-значений\" data-toc-modified-id=\"Пропуски-значений-2.2\"><span class=\"toc-item-num\">2.2&nbsp;&nbsp;</span>Пропуски значений</a></span></li><li><span><a href=\"#Дубликаты\" data-toc-modified-id=\"Дубликаты-2.3\"><span class=\"toc-item-num\">2.3&nbsp;&nbsp;</span>Дубликаты</a></span></li></ul></li><li><span><a href=\"#Проверка-гипотез\" data-toc-modified-id=\"Проверка-гипотез-3\"><span class=\"toc-item-num\">3&nbsp;&nbsp;</span>Проверка гипотез</a></span><ul class=\"toc-item\"><li><span><a href=\"#Сравнение-поведения-пользователей-двух-столиц\" data-toc-modified-id=\"Сравнение-поведения-пользователей-двух-столиц-3.1\"><span class=\"toc-item-num\">3.1&nbsp;&nbsp;</span>Сравнение поведения пользователей двух столиц</a></span></li><li><span><a href=\"#Музыка-в-начале-и-в-конце-недели\" data-toc-modified-id=\"Музыка-в-начале-и-в-конце-недели-3.2\"><span class=\"toc-item-num\">3.2&nbsp;&nbsp;</span>Музыка в начале и в конце недели</a></span></li><li><span><a href=\"#Жанровые-предпочтения-в-Москве-и-Петербурге\" data-toc-modified-id=\"Жанровые-предпочтения-в-Москве-и-Петербурге-3.3\"><span class=\"toc-item-num\">3.3&nbsp;&nbsp;</span>Жанровые предпочтения в Москве и Петербурге</a></span></li></ul></li><li><span><a href=\"#Итоги-исследования\" data-toc-modified-id=\"Итоги-исследования-4\"><span class=\"toc-item-num\">4&nbsp;&nbsp;</span>Итоги исследования</a></span></li></ul></div>"
   ]
  },
  {
   "cell_type": "markdown",
   "metadata": {
    "id": "E0vqbgi9ay0H"
   },
   "source": [
    "# Яндекс.Музыка"
   ]
  },
  {
   "cell_type": "markdown",
   "metadata": {
    "id": "VUC88oWjTJw2"
   },
   "source": [
    "Сравнение Москвы и Петербурга окружено мифами. Например:\n",
    " * Москва — мегаполис, подчинённый жёсткому ритму рабочей недели;\n",
    " * Петербург — культурная столица, со своими вкусами.\n",
    "\n",
    "На данных Яндекс.Музыки сравниваем поведение пользователей двух столиц.\n",
    "\n",
    "**Цель исследования** — проверить три гипотезы:\n",
    "1. Активность пользователей зависит от дня недели. Причём в Москве и Петербурге это проявляется по-разному.\n",
    "2. В понедельник утром в Москве преобладают одни жанры, а в Петербурге — другие. Так же и вечером пятницы преобладают разные жанры — в зависимости от города. \n",
    "3. Москва и Петербург предпочитают разные жанры музыки. В Москве чаще слушают поп-музыку, в Петербурге — русский рэп."
   ]
  },
  {
   "cell_type": "markdown",
   "metadata": {
    "id": "Ml1hmfXC_Zcs"
   },
   "source": [
    "## Обзор данных"
   ]
  },
  {
   "cell_type": "code",
   "execution_count": 1,
   "metadata": {
    "id": "AXN7PHPN_Zcs"
   },
   "outputs": [],
   "source": [
    "# импорт библиотеки pandas\n",
    "import pandas as pd"
   ]
  },
  {
   "cell_type": "code",
   "execution_count": 2,
   "metadata": {
    "id": "fFVu7vqh_Zct"
   },
   "outputs": [],
   "source": [
    "# чтение файла с данными и сохранение в df\n",
    "df = pd.read_csv('yandex_music_project.csv')"
   ]
  },
  {
   "cell_type": "code",
   "execution_count": 3,
   "metadata": {
    "id": "oWTVX3gW_Zct"
   },
   "outputs": [
    {
     "data": {
      "text/html": [
       "<div>\n",
       "<style scoped>\n",
       "    .dataframe tbody tr th:only-of-type {\n",
       "        vertical-align: middle;\n",
       "    }\n",
       "\n",
       "    .dataframe tbody tr th {\n",
       "        vertical-align: top;\n",
       "    }\n",
       "\n",
       "    .dataframe thead th {\n",
       "        text-align: right;\n",
       "    }\n",
       "</style>\n",
       "<table border=\"1\" class=\"dataframe\">\n",
       "  <thead>\n",
       "    <tr style=\"text-align: right;\">\n",
       "      <th></th>\n",
       "      <th>userID</th>\n",
       "      <th>Track</th>\n",
       "      <th>artist</th>\n",
       "      <th>genre</th>\n",
       "      <th>City</th>\n",
       "      <th>time</th>\n",
       "      <th>Day</th>\n",
       "    </tr>\n",
       "  </thead>\n",
       "  <tbody>\n",
       "    <tr>\n",
       "      <th>0</th>\n",
       "      <td>FFB692EC</td>\n",
       "      <td>Kamigata To Boots</td>\n",
       "      <td>The Mass Missile</td>\n",
       "      <td>rock</td>\n",
       "      <td>Saint-Petersburg</td>\n",
       "      <td>20:28:33</td>\n",
       "      <td>Wednesday</td>\n",
       "    </tr>\n",
       "    <tr>\n",
       "      <th>1</th>\n",
       "      <td>55204538</td>\n",
       "      <td>Delayed Because of Accident</td>\n",
       "      <td>Andreas Rönnberg</td>\n",
       "      <td>rock</td>\n",
       "      <td>Moscow</td>\n",
       "      <td>14:07:09</td>\n",
       "      <td>Friday</td>\n",
       "    </tr>\n",
       "    <tr>\n",
       "      <th>2</th>\n",
       "      <td>20EC38</td>\n",
       "      <td>Funiculì funiculà</td>\n",
       "      <td>Mario Lanza</td>\n",
       "      <td>pop</td>\n",
       "      <td>Saint-Petersburg</td>\n",
       "      <td>20:58:07</td>\n",
       "      <td>Wednesday</td>\n",
       "    </tr>\n",
       "    <tr>\n",
       "      <th>3</th>\n",
       "      <td>A3DD03C9</td>\n",
       "      <td>Dragons in the Sunset</td>\n",
       "      <td>Fire + Ice</td>\n",
       "      <td>folk</td>\n",
       "      <td>Saint-Petersburg</td>\n",
       "      <td>08:37:09</td>\n",
       "      <td>Monday</td>\n",
       "    </tr>\n",
       "    <tr>\n",
       "      <th>4</th>\n",
       "      <td>E2DC1FAE</td>\n",
       "      <td>Soul People</td>\n",
       "      <td>Space Echo</td>\n",
       "      <td>dance</td>\n",
       "      <td>Moscow</td>\n",
       "      <td>08:34:34</td>\n",
       "      <td>Monday</td>\n",
       "    </tr>\n",
       "    <tr>\n",
       "      <th>5</th>\n",
       "      <td>842029A1</td>\n",
       "      <td>Преданная</td>\n",
       "      <td>IMPERVTOR</td>\n",
       "      <td>rusrap</td>\n",
       "      <td>Saint-Petersburg</td>\n",
       "      <td>13:09:41</td>\n",
       "      <td>Friday</td>\n",
       "    </tr>\n",
       "    <tr>\n",
       "      <th>6</th>\n",
       "      <td>4CB90AA5</td>\n",
       "      <td>True</td>\n",
       "      <td>Roman Messer</td>\n",
       "      <td>dance</td>\n",
       "      <td>Moscow</td>\n",
       "      <td>13:00:07</td>\n",
       "      <td>Wednesday</td>\n",
       "    </tr>\n",
       "    <tr>\n",
       "      <th>7</th>\n",
       "      <td>F03E1C1F</td>\n",
       "      <td>Feeling This Way</td>\n",
       "      <td>Polina Griffith</td>\n",
       "      <td>dance</td>\n",
       "      <td>Moscow</td>\n",
       "      <td>20:47:49</td>\n",
       "      <td>Wednesday</td>\n",
       "    </tr>\n",
       "    <tr>\n",
       "      <th>8</th>\n",
       "      <td>8FA1D3BE</td>\n",
       "      <td>И вновь продолжается бой</td>\n",
       "      <td>NaN</td>\n",
       "      <td>ruspop</td>\n",
       "      <td>Moscow</td>\n",
       "      <td>09:17:40</td>\n",
       "      <td>Friday</td>\n",
       "    </tr>\n",
       "    <tr>\n",
       "      <th>9</th>\n",
       "      <td>E772D5C0</td>\n",
       "      <td>Pessimist</td>\n",
       "      <td>NaN</td>\n",
       "      <td>dance</td>\n",
       "      <td>Saint-Petersburg</td>\n",
       "      <td>21:20:49</td>\n",
       "      <td>Wednesday</td>\n",
       "    </tr>\n",
       "  </tbody>\n",
       "</table>\n",
       "</div>"
      ],
      "text/plain": [
       "     userID                        Track            artist   genre  \\\n",
       "0  FFB692EC            Kamigata To Boots  The Mass Missile    rock   \n",
       "1  55204538  Delayed Because of Accident  Andreas Rönnberg    rock   \n",
       "2    20EC38            Funiculì funiculà       Mario Lanza     pop   \n",
       "3  A3DD03C9        Dragons in the Sunset        Fire + Ice    folk   \n",
       "4  E2DC1FAE                  Soul People        Space Echo   dance   \n",
       "5  842029A1                    Преданная         IMPERVTOR  rusrap   \n",
       "6  4CB90AA5                         True      Roman Messer   dance   \n",
       "7  F03E1C1F             Feeling This Way   Polina Griffith   dance   \n",
       "8  8FA1D3BE     И вновь продолжается бой               NaN  ruspop   \n",
       "9  E772D5C0                    Pessimist               NaN   dance   \n",
       "\n",
       "             City        time        Day  \n",
       "0  Saint-Petersburg  20:28:33  Wednesday  \n",
       "1            Moscow  14:07:09     Friday  \n",
       "2  Saint-Petersburg  20:58:07  Wednesday  \n",
       "3  Saint-Petersburg  08:37:09     Monday  \n",
       "4            Moscow  08:34:34     Monday  \n",
       "5  Saint-Petersburg  13:09:41     Friday  \n",
       "6            Moscow  13:00:07  Wednesday  \n",
       "7            Moscow  20:47:49  Wednesday  \n",
       "8            Moscow  09:17:40     Friday  \n",
       "9  Saint-Petersburg  21:20:49  Wednesday  "
      ]
     },
     "execution_count": 3,
     "metadata": {},
     "output_type": "execute_result"
    }
   ],
   "source": [
    "# получение первых 10 строк таблицы df\n",
    "df.head(10)"
   ]
  },
  {
   "cell_type": "code",
   "execution_count": 4,
   "metadata": {
    "id": "DSf2kIb-_Zct"
   },
   "outputs": [
    {
     "name": "stdout",
     "output_type": "stream",
     "text": [
      "<class 'pandas.core.frame.DataFrame'>\n",
      "RangeIndex: 65079 entries, 0 to 65078\n",
      "Data columns (total 7 columns):\n",
      " #   Column    Non-Null Count  Dtype \n",
      "---  ------    --------------  ----- \n",
      " 0     userID  65079 non-null  object\n",
      " 1   Track     63848 non-null  object\n",
      " 2   artist    57876 non-null  object\n",
      " 3   genre     63881 non-null  object\n",
      " 4     City    65079 non-null  object\n",
      " 5   time      65079 non-null  object\n",
      " 6   Day       65079 non-null  object\n",
      "dtypes: object(7)\n",
      "memory usage: 3.5+ MB\n"
     ]
    }
   ],
   "source": [
    "# получение общей информации о данных в таблице df\n",
    "df.info()"
   ]
  },
  {
   "cell_type": "markdown",
   "metadata": {
    "id": "TaQ2Iwbr_Zct"
   },
   "source": [
    "Итак, в таблице семь столбцов. Тип данных во всех столбцах — `object`.\n",
    "\n",
    "Согласно документации к данным:\n",
    "* `userID` — идентификатор пользователя;\n",
    "* `Track` — название трека;  \n",
    "* `artist` — имя исполнителя;\n",
    "* `genre` — название жанра;\n",
    "* `City` — город пользователя;\n",
    "* `time` — время начала прослушивания;\n",
    "* `Day` — день недели.\n",
    "\n",
    "В названиях колонок видны три нарушения стиля:\n",
    "1. Строчные буквы сочетаются с прописными.\n",
    "2. Встречаются пробелы.\n",
    "3. Разделение слов в заголовке нижним подчёркиванием `userID` -> `user_id`.   \n",
    "4. Количество значений в столбцах различается. Значит, в данных есть пропущенные значения."
   ]
  },
  {
   "cell_type": "markdown",
   "metadata": {
    "id": "MCB6-dXG_Zct"
   },
   "source": [
    "**Выводы**\n",
    "\n",
    "В каждой строке таблицы — данные о прослушанном треке. Часть колонок описывает саму композицию: название, исполнителя и жанр. Остальные данные рассказывают о пользователе: из какого он города, когда он слушал музыку. \n",
    "\n",
    "Предварительно можно утверждать, что, данных достаточно для проверки гипотез. Но встречаются пропуски в данных, а в названиях колонок — расхождения с хорошим стилем.\n",
    "\n",
    "Чтобы двигаться дальше, нужно устранить проблемы в данных."
   ]
  },
  {
   "cell_type": "markdown",
   "metadata": {
    "id": "SjYF6Ub9_Zct"
   },
   "source": [
    "## Предобработка данных"
   ]
  },
  {
   "cell_type": "markdown",
   "metadata": {
    "id": "dIaKXr29_Zct"
   },
   "source": [
    "### Стиль заголовков"
   ]
  },
  {
   "cell_type": "code",
   "execution_count": 5,
   "metadata": {
    "id": "oKOTdF_Q_Zct"
   },
   "outputs": [
    {
     "data": {
      "text/plain": [
       "Index(['  userID', 'Track', 'artist', 'genre', '  City  ', 'time', 'Day'], dtype='object')"
      ]
     },
     "execution_count": 5,
     "metadata": {},
     "output_type": "execute_result"
    }
   ],
   "source": [
    "# перечень названий столбцов таблицы df\n",
    "df.columns"
   ]
  },
  {
   "cell_type": "code",
   "execution_count": 6,
   "metadata": {
    "id": "ISlFqs5y_Zct"
   },
   "outputs": [],
   "source": [
    "# переименование столбцов\n",
    "df.rename(columns={'  userID': 'user_id', 'Track': 'track', '  City  ': 'city', 'Day': 'day'}, inplace=True)"
   ]
  },
  {
   "cell_type": "code",
   "execution_count": 7,
   "metadata": {},
   "outputs": [],
   "source": [
    "df = df.rename(columns = {\n",
    "    '  userID':'user_id',\n",
    "    'Track':'track',\n",
    "    '  City  ':'city',\n",
    "    'Day':'day'})"
   ]
  },
  {
   "cell_type": "code",
   "execution_count": 8,
   "metadata": {
    "id": "d4NOAmTW_Zct"
   },
   "outputs": [
    {
     "data": {
      "text/plain": [
       "Index(['user_id', 'track', 'artist', 'genre', 'city', 'time', 'day'], dtype='object')"
      ]
     },
     "execution_count": 8,
     "metadata": {},
     "output_type": "execute_result"
    }
   ],
   "source": [
    "# проверка результатов - перечень названий столбцов\n",
    "df.columns"
   ]
  },
  {
   "cell_type": "markdown",
   "metadata": {
    "id": "5ISfbcfY_Zct"
   },
   "source": [
    "### Пропуски значений"
   ]
  },
  {
   "cell_type": "code",
   "execution_count": 9,
   "metadata": {
    "id": "RskX29qr_Zct"
   },
   "outputs": [
    {
     "data": {
      "text/plain": [
       "user_id       0\n",
       "track      1231\n",
       "artist     7203\n",
       "genre      1198\n",
       "city          0\n",
       "time          0\n",
       "day           0\n",
       "dtype: int64"
      ]
     },
     "execution_count": 9,
     "metadata": {},
     "output_type": "execute_result"
    }
   ],
   "source": [
    "# подсчёт пропусков\n",
    "df.isna().sum()"
   ]
  },
  {
   "cell_type": "code",
   "execution_count": 10,
   "metadata": {
    "id": "KplB5qWs_Zct"
   },
   "outputs": [],
   "source": [
    "# перебор названий столбцов в цикле и замена пропущенных значений на 'unknown'\n",
    "columns_to_replace = ['track', 'artist', 'genre']\n",
    "\n",
    "for item in columns_to_replace:\n",
    "    df[item] = df[item].fillna('unknown')"
   ]
  },
  {
   "cell_type": "code",
   "execution_count": 11,
   "metadata": {
    "id": "Tq4nYRX4_Zct"
   },
   "outputs": [
    {
     "data": {
      "text/plain": [
       "user_id    0\n",
       "track      0\n",
       "artist     0\n",
       "genre      0\n",
       "city       0\n",
       "time       0\n",
       "day        0\n",
       "dtype: int64"
      ]
     },
     "execution_count": 11,
     "metadata": {},
     "output_type": "execute_result"
    }
   ],
   "source": [
    "# подсчёт пропусков\n",
    "df.isna().sum()"
   ]
  },
  {
   "cell_type": "markdown",
   "metadata": {
    "id": "BWKRtBJ3_Zct"
   },
   "source": [
    "### Дубликаты"
   ]
  },
  {
   "cell_type": "code",
   "execution_count": 12,
   "metadata": {
    "id": "36eES_S0_Zct"
   },
   "outputs": [
    {
     "data": {
      "text/plain": [
       "3826"
      ]
     },
     "execution_count": 12,
     "metadata": {},
     "output_type": "execute_result"
    }
   ],
   "source": [
    "# подсчёт явных дубликатов\n",
    "df.duplicated().sum()"
   ]
  },
  {
   "cell_type": "code",
   "execution_count": 13,
   "metadata": {
    "id": "exFHq6tt_Zct"
   },
   "outputs": [
    {
     "data": {
      "text/html": [
       "<div>\n",
       "<style scoped>\n",
       "    .dataframe tbody tr th:only-of-type {\n",
       "        vertical-align: middle;\n",
       "    }\n",
       "\n",
       "    .dataframe tbody tr th {\n",
       "        vertical-align: top;\n",
       "    }\n",
       "\n",
       "    .dataframe thead th {\n",
       "        text-align: right;\n",
       "    }\n",
       "</style>\n",
       "<table border=\"1\" class=\"dataframe\">\n",
       "  <thead>\n",
       "    <tr style=\"text-align: right;\">\n",
       "      <th></th>\n",
       "      <th>user_id</th>\n",
       "      <th>track</th>\n",
       "      <th>artist</th>\n",
       "      <th>genre</th>\n",
       "      <th>city</th>\n",
       "      <th>time</th>\n",
       "      <th>day</th>\n",
       "    </tr>\n",
       "  </thead>\n",
       "  <tbody>\n",
       "    <tr>\n",
       "      <th>0</th>\n",
       "      <td>FFB692EC</td>\n",
       "      <td>Kamigata To Boots</td>\n",
       "      <td>The Mass Missile</td>\n",
       "      <td>rock</td>\n",
       "      <td>Saint-Petersburg</td>\n",
       "      <td>20:28:33</td>\n",
       "      <td>Wednesday</td>\n",
       "    </tr>\n",
       "    <tr>\n",
       "      <th>1</th>\n",
       "      <td>55204538</td>\n",
       "      <td>Delayed Because of Accident</td>\n",
       "      <td>Andreas Rönnberg</td>\n",
       "      <td>rock</td>\n",
       "      <td>Moscow</td>\n",
       "      <td>14:07:09</td>\n",
       "      <td>Friday</td>\n",
       "    </tr>\n",
       "    <tr>\n",
       "      <th>2</th>\n",
       "      <td>20EC38</td>\n",
       "      <td>Funiculì funiculà</td>\n",
       "      <td>Mario Lanza</td>\n",
       "      <td>pop</td>\n",
       "      <td>Saint-Petersburg</td>\n",
       "      <td>20:58:07</td>\n",
       "      <td>Wednesday</td>\n",
       "    </tr>\n",
       "    <tr>\n",
       "      <th>3</th>\n",
       "      <td>A3DD03C9</td>\n",
       "      <td>Dragons in the Sunset</td>\n",
       "      <td>Fire + Ice</td>\n",
       "      <td>folk</td>\n",
       "      <td>Saint-Petersburg</td>\n",
       "      <td>08:37:09</td>\n",
       "      <td>Monday</td>\n",
       "    </tr>\n",
       "    <tr>\n",
       "      <th>4</th>\n",
       "      <td>E2DC1FAE</td>\n",
       "      <td>Soul People</td>\n",
       "      <td>Space Echo</td>\n",
       "      <td>dance</td>\n",
       "      <td>Moscow</td>\n",
       "      <td>08:34:34</td>\n",
       "      <td>Monday</td>\n",
       "    </tr>\n",
       "    <tr>\n",
       "      <th>...</th>\n",
       "      <td>...</td>\n",
       "      <td>...</td>\n",
       "      <td>...</td>\n",
       "      <td>...</td>\n",
       "      <td>...</td>\n",
       "      <td>...</td>\n",
       "      <td>...</td>\n",
       "    </tr>\n",
       "    <tr>\n",
       "      <th>61248</th>\n",
       "      <td>729CBB09</td>\n",
       "      <td>My Name</td>\n",
       "      <td>McLean</td>\n",
       "      <td>rnb</td>\n",
       "      <td>Moscow</td>\n",
       "      <td>13:32:28</td>\n",
       "      <td>Wednesday</td>\n",
       "    </tr>\n",
       "    <tr>\n",
       "      <th>61249</th>\n",
       "      <td>D08D4A55</td>\n",
       "      <td>Maybe One Day (feat. Black Spade)</td>\n",
       "      <td>Blu &amp; Exile</td>\n",
       "      <td>hip</td>\n",
       "      <td>Saint-Petersburg</td>\n",
       "      <td>10:00:00</td>\n",
       "      <td>Monday</td>\n",
       "    </tr>\n",
       "    <tr>\n",
       "      <th>61250</th>\n",
       "      <td>C5E3A0D5</td>\n",
       "      <td>Jalopiina</td>\n",
       "      <td>unknown</td>\n",
       "      <td>industrial</td>\n",
       "      <td>Moscow</td>\n",
       "      <td>20:09:26</td>\n",
       "      <td>Friday</td>\n",
       "    </tr>\n",
       "    <tr>\n",
       "      <th>61251</th>\n",
       "      <td>321D0506</td>\n",
       "      <td>Freight Train</td>\n",
       "      <td>Chas McDevitt</td>\n",
       "      <td>rock</td>\n",
       "      <td>Moscow</td>\n",
       "      <td>21:43:59</td>\n",
       "      <td>Friday</td>\n",
       "    </tr>\n",
       "    <tr>\n",
       "      <th>61252</th>\n",
       "      <td>3A64EF84</td>\n",
       "      <td>Tell Me Sweet Little Lies</td>\n",
       "      <td>Monica Lopez</td>\n",
       "      <td>country</td>\n",
       "      <td>Moscow</td>\n",
       "      <td>21:59:46</td>\n",
       "      <td>Friday</td>\n",
       "    </tr>\n",
       "  </tbody>\n",
       "</table>\n",
       "<p>61253 rows × 7 columns</p>\n",
       "</div>"
      ],
      "text/plain": [
       "        user_id                              track            artist  \\\n",
       "0      FFB692EC                  Kamigata To Boots  The Mass Missile   \n",
       "1      55204538        Delayed Because of Accident  Andreas Rönnberg   \n",
       "2        20EC38                  Funiculì funiculà       Mario Lanza   \n",
       "3      A3DD03C9              Dragons in the Sunset        Fire + Ice   \n",
       "4      E2DC1FAE                        Soul People        Space Echo   \n",
       "...         ...                                ...               ...   \n",
       "61248  729CBB09                            My Name            McLean   \n",
       "61249  D08D4A55  Maybe One Day (feat. Black Spade)       Blu & Exile   \n",
       "61250  C5E3A0D5                          Jalopiina           unknown   \n",
       "61251  321D0506                      Freight Train     Chas McDevitt   \n",
       "61252  3A64EF84          Tell Me Sweet Little Lies      Monica Lopez   \n",
       "\n",
       "            genre              city      time        day  \n",
       "0            rock  Saint-Petersburg  20:28:33  Wednesday  \n",
       "1            rock            Moscow  14:07:09     Friday  \n",
       "2             pop  Saint-Petersburg  20:58:07  Wednesday  \n",
       "3            folk  Saint-Petersburg  08:37:09     Monday  \n",
       "4           dance            Moscow  08:34:34     Monday  \n",
       "...           ...               ...       ...        ...  \n",
       "61248         rnb            Moscow  13:32:28  Wednesday  \n",
       "61249         hip  Saint-Petersburg  10:00:00     Monday  \n",
       "61250  industrial            Moscow  20:09:26     Friday  \n",
       "61251        rock            Moscow  21:43:59     Friday  \n",
       "61252     country            Moscow  21:59:46     Friday  \n",
       "\n",
       "[61253 rows x 7 columns]"
      ]
     },
     "execution_count": 13,
     "metadata": {},
     "output_type": "execute_result"
    }
   ],
   "source": [
    "# удаление явных дубликатов (с удалением старых индексов и формированием новых)\n",
    "df.drop_duplicates().reset_index(drop=True)"
   ]
  },
  {
   "cell_type": "code",
   "execution_count": 14,
   "metadata": {
    "id": "-8PuNWQ0_Zct"
   },
   "outputs": [
    {
     "data": {
      "text/plain": [
       "3826"
      ]
     },
     "execution_count": 14,
     "metadata": {},
     "output_type": "execute_result"
    }
   ],
   "source": [
    "# проверка на отсутствие дубликатов\n",
    "df.duplicated().sum()"
   ]
  },
  {
   "cell_type": "code",
   "execution_count": 15,
   "metadata": {},
   "outputs": [
    {
     "name": "stdout",
     "output_type": "stream",
     "text": [
      "Количество пропусков: 3826\n"
     ]
    }
   ],
   "source": [
    "print(\"Количество пропусков: {}\".format(df.duplicated().sum()))"
   ]
  },
  {
   "cell_type": "code",
   "execution_count": 16,
   "metadata": {
    "id": "JIUcqzZN_Zct"
   },
   "outputs": [
    {
     "data": {
      "text/plain": [
       "array(['acid', 'acoustic', 'action', 'adult', 'africa', 'afrikaans',\n",
       "       'alternative', 'alternativepunk', 'ambient', 'americana',\n",
       "       'animated', 'anime', 'arabesk', 'arabic', 'arena',\n",
       "       'argentinetango', 'art', 'audiobook', 'author', 'avantgarde',\n",
       "       'axé', 'baile', 'balkan', 'beats', 'bigroom', 'black', 'bluegrass',\n",
       "       'blues', 'bollywood', 'bossa', 'brazilian', 'breakbeat', 'breaks',\n",
       "       'broadway', 'cantautori', 'cantopop', 'canzone', 'caribbean',\n",
       "       'caucasian', 'celtic', 'chamber', 'chanson', 'children', 'chill',\n",
       "       'chinese', 'choral', 'christian', 'christmas', 'classical',\n",
       "       'classicmetal', 'club', 'colombian', 'comedy', 'conjazz',\n",
       "       'contemporary', 'country', 'cuban', 'dance', 'dancehall',\n",
       "       'dancepop', 'dark', 'death', 'deep', 'deutschrock', 'deutschspr',\n",
       "       'dirty', 'disco', 'dnb', 'documentary', 'downbeat', 'downtempo',\n",
       "       'drum', 'dub', 'dubstep', 'eastern', 'easy', 'electronic',\n",
       "       'electropop', 'emo', 'entehno', 'epicmetal', 'estrada', 'ethnic',\n",
       "       'eurofolk', 'european', 'experimental', 'extrememetal', 'fado',\n",
       "       'fairytail', 'film', 'fitness', 'flamenco', 'folk', 'folklore',\n",
       "       'folkmetal', 'folkrock', 'folktronica', 'forró', 'frankreich',\n",
       "       'französisch', 'french', 'funk', 'future', 'gangsta', 'garage',\n",
       "       'german', 'ghazal', 'gitarre', 'glitch', 'gospel', 'gothic',\n",
       "       'grime', 'grunge', 'gypsy', 'handsup', \"hard'n'heavy\", 'hardcore',\n",
       "       'hardstyle', 'hardtechno', 'hip', 'hip-hop', 'hiphop',\n",
       "       'historisch', 'holiday', 'hop', 'horror', 'house', 'hymn', 'idm',\n",
       "       'independent', 'indian', 'indie', 'indipop', 'industrial',\n",
       "       'inspirational', 'instrumental', 'international', 'irish', 'jam',\n",
       "       'japanese', 'jazz', 'jewish', 'jpop', 'jungle', 'k-pop',\n",
       "       'karadeniz', 'karaoke', 'kayokyoku', 'korean', 'laiko', 'latin',\n",
       "       'latino', 'leftfield', 'local', 'lounge', 'loungeelectronic',\n",
       "       'lovers', 'malaysian', 'mandopop', 'marschmusik', 'meditative',\n",
       "       'mediterranean', 'melodic', 'metal', 'metalcore', 'mexican',\n",
       "       'middle', 'minimal', 'miscellaneous', 'modern', 'mood', 'mpb',\n",
       "       'muslim', 'native', 'neoklassik', 'neue', 'new', 'newage',\n",
       "       'newwave', 'nu', 'nujazz', 'numetal', 'oceania', 'old', 'opera',\n",
       "       'orchestral', 'other', 'piano', 'podcasts', 'pop', 'popdance',\n",
       "       'popelectronic', 'popeurodance', 'poprussian', 'post',\n",
       "       'posthardcore', 'postrock', 'power', 'progmetal', 'progressive',\n",
       "       'psychedelic', 'punjabi', 'punk', 'quebecois', 'ragga', 'ram',\n",
       "       'rancheras', 'rap', 'rave', 'reggae', 'reggaeton', 'regional',\n",
       "       'relax', 'religious', 'retro', 'rhythm', 'rnb', 'rnr', 'rock',\n",
       "       'rockabilly', 'rockalternative', 'rockindie', 'rockother',\n",
       "       'romance', 'roots', 'ruspop', 'rusrap', 'rusrock', 'russian',\n",
       "       'salsa', 'samba', 'scenic', 'schlager', 'self', 'sertanejo',\n",
       "       'shanson', 'shoegazing', 'showtunes', 'singer', 'ska', 'skarock',\n",
       "       'slow', 'smooth', 'soft', 'soul', 'soulful', 'sound', 'soundtrack',\n",
       "       'southern', 'specialty', 'speech', 'spiritual', 'sport',\n",
       "       'stonerrock', 'surf', 'swing', 'synthpop', 'synthrock',\n",
       "       'sängerportrait', 'tango', 'tanzorchester', 'taraftar', 'tatar',\n",
       "       'tech', 'techno', 'teen', 'thrash', 'top', 'traditional',\n",
       "       'tradjazz', 'trance', 'tribal', 'trip', 'triphop', 'tropical',\n",
       "       'türk', 'türkçe', 'ukrrock', 'unknown', 'urban', 'uzbek',\n",
       "       'variété', 'vi', 'videogame', 'vocal', 'western', 'world',\n",
       "       'worldbeat', 'ïîï', 'электроника'], dtype=object)"
      ]
     },
     "execution_count": 16,
     "metadata": {},
     "output_type": "execute_result"
    }
   ],
   "source": [
    "# Просмотр уникальных названий жанров\n",
    "df['genre'].sort_values().unique()"
   ]
  },
  {
   "cell_type": "code",
   "execution_count": 17,
   "metadata": {
    "id": "ErNDkmns_Zct"
   },
   "outputs": [],
   "source": [
    "# Функция для замены неявных дубликатов\n",
    "def replace_wrong_genres(wrong_genres, correct_genre):\n",
    "    for wrong_genre in wrong_genres:\n",
    "        df['genre'] = df['genre'].replace(wrong_genre, correct_genre)"
   ]
  },
  {
   "cell_type": "code",
   "execution_count": 18,
   "metadata": {
    "id": "YN5i2hpmSo09"
   },
   "outputs": [],
   "source": [
    "# Устранение неявных дубликатов\n",
    "wrong_genres = ['hip', 'hop', 'hip-hop']\n",
    "correct_genre = 'hiphop'\n",
    "\n",
    "replace_wrong_genres(wrong_genres, correct_genre)"
   ]
  },
  {
   "cell_type": "code",
   "execution_count": 19,
   "metadata": {
    "id": "wvixALnFG15m"
   },
   "outputs": [
    {
     "data": {
      "text/plain": [
       "array(['acid', 'acoustic', 'action', 'adult', 'africa', 'afrikaans',\n",
       "       'alternative', 'alternativepunk', 'ambient', 'americana',\n",
       "       'animated', 'anime', 'arabesk', 'arabic', 'arena',\n",
       "       'argentinetango', 'art', 'audiobook', 'author', 'avantgarde',\n",
       "       'axé', 'baile', 'balkan', 'beats', 'bigroom', 'black', 'bluegrass',\n",
       "       'blues', 'bollywood', 'bossa', 'brazilian', 'breakbeat', 'breaks',\n",
       "       'broadway', 'cantautori', 'cantopop', 'canzone', 'caribbean',\n",
       "       'caucasian', 'celtic', 'chamber', 'chanson', 'children', 'chill',\n",
       "       'chinese', 'choral', 'christian', 'christmas', 'classical',\n",
       "       'classicmetal', 'club', 'colombian', 'comedy', 'conjazz',\n",
       "       'contemporary', 'country', 'cuban', 'dance', 'dancehall',\n",
       "       'dancepop', 'dark', 'death', 'deep', 'deutschrock', 'deutschspr',\n",
       "       'dirty', 'disco', 'dnb', 'documentary', 'downbeat', 'downtempo',\n",
       "       'drum', 'dub', 'dubstep', 'eastern', 'easy', 'electronic',\n",
       "       'electropop', 'emo', 'entehno', 'epicmetal', 'estrada', 'ethnic',\n",
       "       'eurofolk', 'european', 'experimental', 'extrememetal', 'fado',\n",
       "       'fairytail', 'film', 'fitness', 'flamenco', 'folk', 'folklore',\n",
       "       'folkmetal', 'folkrock', 'folktronica', 'forró', 'frankreich',\n",
       "       'französisch', 'french', 'funk', 'future', 'gangsta', 'garage',\n",
       "       'german', 'ghazal', 'gitarre', 'glitch', 'gospel', 'gothic',\n",
       "       'grime', 'grunge', 'gypsy', 'handsup', \"hard'n'heavy\", 'hardcore',\n",
       "       'hardstyle', 'hardtechno', 'hiphop', 'historisch', 'holiday',\n",
       "       'horror', 'house', 'hymn', 'idm', 'independent', 'indian', 'indie',\n",
       "       'indipop', 'industrial', 'inspirational', 'instrumental',\n",
       "       'international', 'irish', 'jam', 'japanese', 'jazz', 'jewish',\n",
       "       'jpop', 'jungle', 'k-pop', 'karadeniz', 'karaoke', 'kayokyoku',\n",
       "       'korean', 'laiko', 'latin', 'latino', 'leftfield', 'local',\n",
       "       'lounge', 'loungeelectronic', 'lovers', 'malaysian', 'mandopop',\n",
       "       'marschmusik', 'meditative', 'mediterranean', 'melodic', 'metal',\n",
       "       'metalcore', 'mexican', 'middle', 'minimal', 'miscellaneous',\n",
       "       'modern', 'mood', 'mpb', 'muslim', 'native', 'neoklassik', 'neue',\n",
       "       'new', 'newage', 'newwave', 'nu', 'nujazz', 'numetal', 'oceania',\n",
       "       'old', 'opera', 'orchestral', 'other', 'piano', 'podcasts', 'pop',\n",
       "       'popdance', 'popelectronic', 'popeurodance', 'poprussian', 'post',\n",
       "       'posthardcore', 'postrock', 'power', 'progmetal', 'progressive',\n",
       "       'psychedelic', 'punjabi', 'punk', 'quebecois', 'ragga', 'ram',\n",
       "       'rancheras', 'rap', 'rave', 'reggae', 'reggaeton', 'regional',\n",
       "       'relax', 'religious', 'retro', 'rhythm', 'rnb', 'rnr', 'rock',\n",
       "       'rockabilly', 'rockalternative', 'rockindie', 'rockother',\n",
       "       'romance', 'roots', 'ruspop', 'rusrap', 'rusrock', 'russian',\n",
       "       'salsa', 'samba', 'scenic', 'schlager', 'self', 'sertanejo',\n",
       "       'shanson', 'shoegazing', 'showtunes', 'singer', 'ska', 'skarock',\n",
       "       'slow', 'smooth', 'soft', 'soul', 'soulful', 'sound', 'soundtrack',\n",
       "       'southern', 'specialty', 'speech', 'spiritual', 'sport',\n",
       "       'stonerrock', 'surf', 'swing', 'synthpop', 'synthrock',\n",
       "       'sängerportrait', 'tango', 'tanzorchester', 'taraftar', 'tatar',\n",
       "       'tech', 'techno', 'teen', 'thrash', 'top', 'traditional',\n",
       "       'tradjazz', 'trance', 'tribal', 'trip', 'triphop', 'tropical',\n",
       "       'türk', 'türkçe', 'ukrrock', 'unknown', 'urban', 'uzbek',\n",
       "       'variété', 'vi', 'videogame', 'vocal', 'western', 'world',\n",
       "       'worldbeat', 'ïîï', 'электроника'], dtype=object)"
      ]
     },
     "execution_count": 19,
     "metadata": {},
     "output_type": "execute_result"
    }
   ],
   "source": [
    "# Проверка на неявные дубликаты\n",
    "df['genre'].sort_values().unique()"
   ]
  },
  {
   "cell_type": "markdown",
   "metadata": {
    "id": "jz6a9-7HQUDd"
   },
   "source": [
    "**Выводы**\n",
    "\n",
    "Предобработка обнаружила три проблемы в данных:\n",
    "\n",
    "- нарушения в стиле заголовков,\n",
    "- пропущенные значения,\n",
    "- дубликаты — явные и неявные.\n",
    "\n",
    "Исправили заголовки, чтобы упростить работу с таблицей. Без дубликатов исследование станет более точным.\n",
    "\n",
    "Пропущенные значения заменили на `'unknown'`. Ещё предстоит увидеть, не повредят ли исследованию пропуски в колонке `genre`.\n",
    "\n",
    "Теперь можно перейти к проверке гипотез. "
   ]
  },
  {
   "cell_type": "markdown",
   "metadata": {
    "id": "WttZHXH0SqKk"
   },
   "source": [
    "## Проверка гипотез"
   ]
  },
  {
   "cell_type": "markdown",
   "metadata": {
    "id": "Im936VVi_Zcu"
   },
   "source": [
    "### Сравнение поведения пользователей двух столиц"
   ]
  },
  {
   "cell_type": "markdown",
   "metadata": {
    "id": "nwt_MuaL_Zcu"
   },
   "source": [
    "Первая гипотеза утверждает, что пользователи по-разному слушают музыку в Москве и Санкт-Петербурге."
   ]
  },
  {
   "cell_type": "code",
   "execution_count": 20,
   "metadata": {
    "id": "0_Qs96oh_Zcu"
   },
   "outputs": [
    {
     "data": {
      "text/plain": [
       "city\n",
       "Moscow              45360\n",
       "Saint-Petersburg    19719\n",
       "Name: user_id, dtype: int64"
      ]
     },
     "execution_count": 20,
     "metadata": {},
     "output_type": "execute_result"
    }
   ],
   "source": [
    "# Подсчёт прослушиваний в каждом городе\n",
    "df.groupby('city')['user_id'].count()"
   ]
  },
  {
   "cell_type": "markdown",
   "metadata": {
    "id": "dzli3w8o_Zcu"
   },
   "source": [
    "В Москве прослушиваний больше, чем в Петербурге. Из этого не следует, что московские пользователи чаще слушают музыку. Просто самих пользователей в Москве больше."
   ]
  },
  {
   "cell_type": "code",
   "execution_count": 21,
   "metadata": {
    "id": "uZMKjiJz_Zcu"
   },
   "outputs": [
    {
     "data": {
      "text/plain": [
       "day\n",
       "Friday       23149\n",
       "Monday       22697\n",
       "Wednesday    19233\n",
       "Name: user_id, dtype: int64"
      ]
     },
     "execution_count": 21,
     "metadata": {},
     "output_type": "execute_result"
    }
   ],
   "source": [
    "# Подсчёт прослушиваний в каждый из трёх дней\n",
    "df.groupby('day')['user_id'].count()"
   ]
  },
  {
   "cell_type": "markdown",
   "metadata": {
    "id": "cC2tNrlL_Zcu"
   },
   "source": [
    "В среднем пользователи из двух городов менее активны по средам. Но картина может измениться, если рассмотреть каждый город в отдельности."
   ]
  },
  {
   "cell_type": "code",
   "execution_count": 22,
   "metadata": {
    "id": "Nz3GdQB1_Zcu"
   },
   "outputs": [],
   "source": [
    "# Функция для подсчёта прослушиваний для конкретного города и дня.\n",
    "def number_tracks(day, city):\n",
    "    track_list = df[(df['day'] == day) & (df['city'] == city)]\n",
    "    track_list_count = track_list['user_id'].count()\n",
    "    return track_list_count"
   ]
  },
  {
   "cell_type": "code",
   "execution_count": 23,
   "metadata": {
    "id": "rJcRATNQ_Zcu"
   },
   "outputs": [
    {
     "data": {
      "text/plain": [
       "16715"
      ]
     },
     "execution_count": 23,
     "metadata": {},
     "output_type": "execute_result"
    }
   ],
   "source": [
    "# количество прослушиваний в Москве по понедельникам\n",
    "msk_mon = number_tracks('Monday', 'Moscow')\n",
    "msk_mon"
   ]
  },
  {
   "cell_type": "code",
   "execution_count": 24,
   "metadata": {
    "id": "hq_ncZ5T_Zcu"
   },
   "outputs": [
    {
     "data": {
      "text/plain": [
       "5982"
      ]
     },
     "execution_count": 24,
     "metadata": {},
     "output_type": "execute_result"
    }
   ],
   "source": [
    "# количество прослушиваний в Санкт-Петербурге по понедельникам\n",
    "spb_mon = number_tracks('Monday', 'Saint-Petersburg')\n",
    "spb_mon"
   ]
  },
  {
   "cell_type": "code",
   "execution_count": 25,
   "metadata": {
    "id": "_NTy2VPU_Zcu"
   },
   "outputs": [
    {
     "data": {
      "text/plain": [
       "11755"
      ]
     },
     "execution_count": 25,
     "metadata": {},
     "output_type": "execute_result"
    }
   ],
   "source": [
    "# количество прослушиваний в Москве по средам\n",
    "msk_wed = number_tracks('Wednesday', 'Moscow')\n",
    "msk_wed"
   ]
  },
  {
   "cell_type": "code",
   "execution_count": 26,
   "metadata": {
    "id": "j2y3TAwo_Zcu"
   },
   "outputs": [
    {
     "data": {
      "text/plain": [
       "7478"
      ]
     },
     "execution_count": 26,
     "metadata": {},
     "output_type": "execute_result"
    }
   ],
   "source": [
    "# количество прослушиваний в Санкт-Петербурге по средам\n",
    "spb_wed = number_tracks('Wednesday', 'Saint-Petersburg')\n",
    "spb_wed"
   ]
  },
  {
   "cell_type": "code",
   "execution_count": 27,
   "metadata": {
    "id": "vYDw5u_K_Zcu"
   },
   "outputs": [
    {
     "data": {
      "text/plain": [
       "16890"
      ]
     },
     "execution_count": 27,
     "metadata": {},
     "output_type": "execute_result"
    }
   ],
   "source": [
    "# количество прослушиваний в Москве по пятницам\n",
    "msk_fri = number_tracks('Friday', 'Moscow')\n",
    "msk_fri"
   ]
  },
  {
   "cell_type": "code",
   "execution_count": 28,
   "metadata": {
    "id": "8_yzFtW3_Zcu"
   },
   "outputs": [
    {
     "data": {
      "text/plain": [
       "6259"
      ]
     },
     "execution_count": 28,
     "metadata": {},
     "output_type": "execute_result"
    }
   ],
   "source": [
    "# количество прослушиваний в Санкт-Петербурге по пятницам\n",
    "spb_fri = number_tracks('Friday', 'Saint-Petersburg')\n",
    "spb_fri"
   ]
  },
  {
   "cell_type": "code",
   "execution_count": 29,
   "metadata": {
    "id": "APAcLpOr_Zcu"
   },
   "outputs": [
    {
     "data": {
      "text/html": [
       "<div>\n",
       "<style scoped>\n",
       "    .dataframe tbody tr th:only-of-type {\n",
       "        vertical-align: middle;\n",
       "    }\n",
       "\n",
       "    .dataframe tbody tr th {\n",
       "        vertical-align: top;\n",
       "    }\n",
       "\n",
       "    .dataframe thead th {\n",
       "        text-align: right;\n",
       "    }\n",
       "</style>\n",
       "<table border=\"1\" class=\"dataframe\">\n",
       "  <thead>\n",
       "    <tr style=\"text-align: right;\">\n",
       "      <th></th>\n",
       "      <th>monday</th>\n",
       "      <th>wednesday</th>\n",
       "      <th>friday</th>\n",
       "    </tr>\n",
       "    <tr>\n",
       "      <th>city</th>\n",
       "      <th></th>\n",
       "      <th></th>\n",
       "      <th></th>\n",
       "    </tr>\n",
       "  </thead>\n",
       "  <tbody>\n",
       "    <tr>\n",
       "      <th>Moscow</th>\n",
       "      <td>16715</td>\n",
       "      <td>11755</td>\n",
       "      <td>16890</td>\n",
       "    </tr>\n",
       "    <tr>\n",
       "      <th>Saint-Petersburg</th>\n",
       "      <td>5982</td>\n",
       "      <td>7478</td>\n",
       "      <td>6259</td>\n",
       "    </tr>\n",
       "  </tbody>\n",
       "</table>\n",
       "</div>"
      ],
      "text/plain": [
       "                  monday  wednesday  friday\n",
       "city                                       \n",
       "Moscow             16715      11755   16890\n",
       "Saint-Petersburg    5982       7478    6259"
      ]
     },
     "execution_count": 29,
     "metadata": {},
     "output_type": "execute_result"
    }
   ],
   "source": [
    "# Таблица с результатами\n",
    "columns = ['city', 'monday', 'wednesday', 'friday']\n",
    "data = [['Moscow', msk_mon, msk_wed, msk_fri], ['Saint-Petersburg', spb_mon, spb_wed, spb_fri]]\n",
    "\n",
    "pd.DataFrame(data=data, columns=columns).set_index('city')"
   ]
  },
  {
   "cell_type": "markdown",
   "metadata": {
    "id": "-EgPIHYu_Zcu"
   },
   "source": [
    "**Выводы**\n",
    "\n",
    "Данные показывают разницу поведения пользователей:\n",
    "\n",
    "- В Москве пик прослушиваний приходится на понедельник и пятницу, а в среду заметен спад.\n",
    "- В Петербурге, наоборот, больше слушают музыку по средам. Активность в понедельник и пятницу здесь почти в равной мере уступает среде.\n",
    "\n",
    "Значит, данные говорят в пользу первой гипотезы."
   ]
  },
  {
   "cell_type": "markdown",
   "metadata": {
    "id": "atZAxtq4_Zcu"
   },
   "source": [
    "### Музыка в начале и в конце недели"
   ]
  },
  {
   "cell_type": "markdown",
   "metadata": {
    "id": "eXrQqXFH_Zcu"
   },
   "source": [
    "Согласно второй гипотезе, утром в понедельник в Москве преобладают одни жанры, а в Петербурге — другие. Так же и вечером пятницы преобладают разные жанры — в зависимости от города."
   ]
  },
  {
   "cell_type": "code",
   "execution_count": 30,
   "metadata": {
    "id": "qeaFfM_P_Zcu"
   },
   "outputs": [],
   "source": [
    "# получение таблицы moscow_general из тех строк таблицы df, \n",
    "# для которых значение в столбце 'city' равно 'Moscow'\n",
    "moscow_general = df[df['city'] == 'Moscow']"
   ]
  },
  {
   "cell_type": "code",
   "execution_count": 31,
   "metadata": {
    "id": "ORaVRKto_Zcu"
   },
   "outputs": [],
   "source": [
    "# получение таблицы spb_general из тех строк таблицы df,\n",
    "# для которых значение в столбце 'city' равно 'Saint-Petersburg'\n",
    "spb_general = df[df['city'] == 'Saint-Petersburg']"
   ]
  },
  {
   "cell_type": "code",
   "execution_count": 32,
   "metadata": {
    "id": "laJT9BYl_Zcu"
   },
   "outputs": [],
   "source": [
    "# Объявление функции genre_weekday() с параметрами table, day, time1, time2,\n",
    "# которая возвращает информацию о самых популярных жанрах в указанный день в\n",
    "def genre_weekday(table, day, time1, time2):\n",
    "    genre_df = table[(table['day'] == day) & (table['time'] > time1) & (table['time'] < time2)]\n",
    "    genre_df_count = genre_df.groupby('genre')['user_id'].count()\n",
    "    genre_df_sorted = genre_df_count.sort_values(ascending=False)\n",
    "    return genre_df_sorted.head(10)"
   ]
  },
  {
   "cell_type": "code",
   "execution_count": 33,
   "metadata": {
    "id": "yz7itPUQ_Zcu"
   },
   "outputs": [
    {
     "data": {
      "text/plain": [
       "genre\n",
       "pop            830\n",
       "dance          589\n",
       "rock           511\n",
       "electronic     501\n",
       "hiphop         311\n",
       "ruspop         203\n",
       "world          190\n",
       "rusrap         188\n",
       "alternative    175\n",
       "unknown        172\n",
       "Name: user_id, dtype: int64"
      ]
     },
     "execution_count": 33,
     "metadata": {},
     "output_type": "execute_result"
    }
   ],
   "source": [
    "# вызов функции для утра понедельника в Москве (вместо df — таблица moscow_general)\n",
    "# объекты, хранящие время, являются строками и сравниваются как строки\n",
    "# пример вызова: genre_weekday(moscow_general, 'Monday', '07:00', '11:00')\n",
    "genre_weekday(moscow_general, 'Monday', '07:00', '11:00')"
   ]
  },
  {
   "cell_type": "code",
   "execution_count": 34,
   "metadata": {
    "id": "kwUcHPdy_Zcu"
   },
   "outputs": [
    {
     "data": {
      "text/plain": [
       "genre\n",
       "pop            238\n",
       "dance          192\n",
       "rock           173\n",
       "electronic     154\n",
       "hiphop          88\n",
       "ruspop          68\n",
       "alternative     65\n",
       "rusrap          56\n",
       "jazz            47\n",
       "classical       42\n",
       "Name: user_id, dtype: int64"
      ]
     },
     "execution_count": 34,
     "metadata": {},
     "output_type": "execute_result"
    }
   ],
   "source": [
    "# вызов функции для утра понедельника в Петербурге (вместо df — таблица spb_general)\n",
    "genre_weekday(spb_general, 'Monday', '07:00', '11:00')"
   ]
  },
  {
   "cell_type": "code",
   "execution_count": 35,
   "metadata": {
    "id": "EzXVRE1o_Zcu"
   },
   "outputs": [
    {
     "data": {
      "text/plain": [
       "genre\n",
       "pop            761\n",
       "rock           546\n",
       "dance          521\n",
       "electronic     510\n",
       "hiphop         282\n",
       "world          220\n",
       "ruspop         184\n",
       "alternative    176\n",
       "classical      171\n",
       "rusrap         151\n",
       "Name: user_id, dtype: int64"
      ]
     },
     "execution_count": 35,
     "metadata": {},
     "output_type": "execute_result"
    }
   ],
   "source": [
    "# вызов функции для вечера пятницы в Москве\n",
    "genre_weekday(moscow_general, 'Friday', '17:00', '23:00')"
   ]
  },
  {
   "cell_type": "code",
   "execution_count": 36,
   "metadata": {
    "id": "JZaEKu5v_Zcu"
   },
   "outputs": [
    {
     "data": {
      "text/plain": [
       "genre\n",
       "pop            279\n",
       "rock           230\n",
       "electronic     227\n",
       "dance          221\n",
       "hiphop         103\n",
       "alternative     67\n",
       "jazz            66\n",
       "rusrap          66\n",
       "classical       64\n",
       "world           60\n",
       "Name: user_id, dtype: int64"
      ]
     },
     "execution_count": 36,
     "metadata": {},
     "output_type": "execute_result"
    }
   ],
   "source": [
    "# вызов функции для вечера пятницы в Петербурге\n",
    "genre_weekday(spb_general, 'Friday', '17:00', '23:00')"
   ]
  },
  {
   "cell_type": "markdown",
   "metadata": {
    "id": "wrCe4MNX_Zcu"
   },
   "source": [
    "**Выводы**\n",
    "\n",
    "Если сравнить топ-10 жанров в понедельник утром, можно сделать такие выводы:\n",
    "\n",
    "1. В Москве и Петербурге слушают похожую музыку. Единственное отличие — в московский рейтинг вошёл жанр “world”, а в петербургский — джаз и классика.\n",
    "\n",
    "2. В Москве пропущенных значений оказалось так много, что значение `'unknown'` заняло десятое место среди самых популярных жанров. Значит, пропущенные значения занимают существенную долю в данных и угрожают достоверности исследования.\n",
    "\n",
    "Вечер пятницы не меняет эту картину. Некоторые жанры поднимаются немного выше, другие спускаются, но в целом топ-10 остаётся тем же самым.\n",
    "\n",
    "Таким образом, вторая гипотеза подтвердилась лишь частично:\n",
    "* Пользователи слушают похожую музыку в начале недели и в конце.\n",
    "* Разница между Москвой и Петербургом не слишком выражена. В Москве чаще слушают русскую популярную музыку, в Петербурге — джаз.\n",
    "\n",
    "Однако пропуски в данных ставят под сомнение этот результат. В Москве их так много, что рейтинг топ-10 мог бы выглядеть иначе, если бы не утерянные  данные о жанрах."
   ]
  },
  {
   "cell_type": "markdown",
   "metadata": {
    "id": "JolODAqr_Zcu"
   },
   "source": [
    "### Жанровые предпочтения в Москве и Петербурге\n",
    "\n",
    "Гипотеза: Петербург — столица рэпа, музыку этого жанра там слушают чаще, чем в Москве.  А Москва — город контрастов, в котором, тем не менее, преобладает поп-музыка."
   ]
  },
  {
   "cell_type": "code",
   "execution_count": 37,
   "metadata": {
    "id": "r19lIPke_Zcu"
   },
   "outputs": [],
   "source": [
    "# одной строкой: группировка таблицы moscow_general по столбцу 'genre', \n",
    "# подсчёт числа значений 'genre' в этой группировке методом count(), \n",
    "# сортировка получившегося Series в порядке убывания и сохранение в moscow_genres\n",
    "moscow_genres = moscow_general.groupby('genre')['genre'].count().sort_values(ascending=False)"
   ]
  },
  {
   "cell_type": "code",
   "execution_count": 38,
   "metadata": {
    "id": "WhCSooF8_Zcv"
   },
   "outputs": [
    {
     "data": {
      "text/plain": [
       "genre\n",
       "pop            6253\n",
       "dance          4707\n",
       "rock           4188\n",
       "electronic     4010\n",
       "hiphop         2215\n",
       "classical      1712\n",
       "world          1516\n",
       "alternative    1466\n",
       "ruspop         1453\n",
       "rusrap         1239\n",
       "Name: genre, dtype: int64"
      ]
     },
     "execution_count": 38,
     "metadata": {},
     "output_type": "execute_result"
    }
   ],
   "source": [
    "# просмотр первых 10 строк moscow_genres\n",
    "moscow_genres.head(10)"
   ]
  },
  {
   "cell_type": "code",
   "execution_count": 39,
   "metadata": {
    "id": "gluLIpE7_Zcv"
   },
   "outputs": [],
   "source": [
    "# одной строкой: группировка таблицы spb_general по столбцу 'genre', \n",
    "# подсчёт числа значений 'genre' в этой группировке методом count(), \n",
    "# сортировка получившегося Series в порядке убывания и сохранение в spb_genres\n",
    "spb_genres = spb_general.groupby('genre')['genre'].count().sort_values(ascending=False)"
   ]
  },
  {
   "cell_type": "code",
   "execution_count": 40,
   "metadata": {
    "id": "uaGJHjVU_Zcv"
   },
   "outputs": [
    {
     "data": {
      "text/plain": [
       "genre\n",
       "pop            2597\n",
       "dance          2054\n",
       "rock           2004\n",
       "electronic     1842\n",
       "hiphop         1020\n",
       "alternative     700\n",
       "classical       684\n",
       "rusrap          604\n",
       "ruspop          565\n",
       "world           553\n",
       "Name: genre, dtype: int64"
      ]
     },
     "execution_count": 40,
     "metadata": {},
     "output_type": "execute_result"
    }
   ],
   "source": [
    "# просмотр первых 10 строк spb_genres\n",
    "spb_genres.head(10)"
   ]
  },
  {
   "cell_type": "markdown",
   "metadata": {
    "id": "RY51YJYu_Zcv"
   },
   "source": [
    "**Выводы**"
   ]
  },
  {
   "cell_type": "markdown",
   "metadata": {
    "id": "nVhnJEm__Zcv"
   },
   "source": [
    "Гипотеза частично подтвердилась:\n",
    "* Поп-музыка — самый популярный жанр в Москве, как и предполагала гипотеза. Более того, в топ-10 жанров встречается близкий жанр — русская популярная музыка.\n",
    "* Вопреки ожиданиям, рэп одинаково популярен в Москве и Петербурге. \n"
   ]
  },
  {
   "cell_type": "markdown",
   "metadata": {
    "id": "ykKQ0N65_Zcv"
   },
   "source": [
    "## Итоги исследования"
   ]
  },
  {
   "cell_type": "markdown",
   "metadata": {
    "id": "tjUwbHb3_Zcv"
   },
   "source": [
    "После проверки трех гипотез было установлено:\n",
    "\n",
    "1. День недели по-разному влияет на активность пользователей в Москве и Петербурге. \n",
    "\n",
    "Первая гипотеза полностью подтвердилась.\n",
    "\n",
    "2. Музыкальные предпочтения не сильно меняются в течение недели — будь то Москва или Петербург. Небольшие различия заметны в начале недели, по понедельникам:\n",
    "* в Москве слушают музыку жанра “world”,\n",
    "* в Петербурге — джаз и классику.\n",
    "\n",
    "Таким образом, вторая гипотеза подтвердилась лишь отчасти. Этот результат мог оказаться иным, если бы не пропуски в данных.\n",
    "\n",
    "3. Во вкусах пользователей Москвы и Петербурга больше общего чем различий. Вопреки ожиданиям, предпочтения жанров в Петербурге напоминают московские.\n",
    "\n",
    "Третья гипотеза не подтвердилась. Если различия в предпочтениях и существуют, на основной массе пользователей они незаметны."
   ]
  }
 ],
 "metadata": {
  "ExecuteTimeLog": [
   {
    "duration": 734,
    "start_time": "2021-10-14T13:38:04.398Z"
   },
   {
    "duration": 351,
    "start_time": "2021-10-14T13:40:08.398Z"
   },
   {
    "duration": 191,
    "start_time": "2021-10-14T13:40:25.412Z"
   },
   {
    "duration": 29,
    "start_time": "2021-10-14T13:41:17.906Z"
   },
   {
    "duration": 36,
    "start_time": "2021-10-14T13:41:47.822Z"
   },
   {
    "duration": 6,
    "start_time": "2021-10-14T14:05:48.617Z"
   },
   {
    "duration": 261,
    "start_time": "2021-10-14T14:05:54.849Z"
   },
   {
    "duration": 4,
    "start_time": "2021-10-14T14:05:58.049Z"
   },
   {
    "duration": 39,
    "start_time": "2021-10-14T14:15:54.643Z"
   },
   {
    "duration": 39,
    "start_time": "2021-10-14T14:16:16.967Z"
   },
   {
    "duration": 33,
    "start_time": "2021-10-14T14:16:49.467Z"
   },
   {
    "duration": 35,
    "start_time": "2021-10-14T14:17:20.616Z"
   },
   {
    "duration": 36,
    "start_time": "2021-10-14T14:18:01.700Z"
   },
   {
    "duration": 36,
    "start_time": "2021-10-14T14:19:03.242Z"
   },
   {
    "duration": 6,
    "start_time": "2021-10-14T14:22:40.270Z"
   },
   {
    "duration": 10,
    "start_time": "2021-10-14T14:23:01.327Z"
   },
   {
    "duration": 17,
    "start_time": "2021-10-14T14:23:05.009Z"
   },
   {
    "duration": 6,
    "start_time": "2021-10-14T14:23:18.770Z"
   },
   {
    "duration": 32,
    "start_time": "2021-10-14T14:25:18.203Z"
   },
   {
    "duration": 22,
    "start_time": "2021-10-14T14:32:55.880Z"
   },
   {
    "duration": 29,
    "start_time": "2021-10-14T14:33:10.558Z"
   },
   {
    "duration": 89,
    "start_time": "2021-10-14T15:56:50.108Z"
   },
   {
    "duration": 109,
    "start_time": "2021-10-14T15:58:14.476Z"
   },
   {
    "duration": 250,
    "start_time": "2021-10-14T15:58:44.520Z"
   },
   {
    "duration": 84,
    "start_time": "2021-10-14T15:59:00.386Z"
   },
   {
    "duration": 107,
    "start_time": "2021-10-14T16:00:14.461Z"
   },
   {
    "duration": 80,
    "start_time": "2021-10-14T16:00:18.746Z"
   },
   {
    "duration": 84,
    "start_time": "2021-10-14T16:00:30.094Z"
   },
   {
    "duration": 107,
    "start_time": "2021-10-14T16:00:33.991Z"
   },
   {
    "duration": 83,
    "start_time": "2021-10-14T16:00:43.481Z"
   },
   {
    "duration": 82,
    "start_time": "2021-10-14T16:01:56.681Z"
   },
   {
    "duration": 104,
    "start_time": "2021-10-14T16:01:59.585Z"
   },
   {
    "duration": 103,
    "start_time": "2021-10-14T16:02:03.944Z"
   },
   {
    "duration": 429,
    "start_time": "2021-10-14T16:02:24.614Z"
   },
   {
    "duration": 293,
    "start_time": "2021-10-14T16:02:49.545Z"
   },
   {
    "duration": 106,
    "start_time": "2021-10-14T16:03:02.001Z"
   },
   {
    "duration": 75,
    "start_time": "2021-10-14T16:03:06.473Z"
   },
   {
    "duration": 79,
    "start_time": "2021-10-14T16:03:12.394Z"
   },
   {
    "duration": 701,
    "start_time": "2021-10-14T16:03:40.610Z"
   },
   {
    "duration": 192,
    "start_time": "2021-10-14T16:03:43.922Z"
   },
   {
    "duration": 25,
    "start_time": "2021-10-14T16:03:46.795Z"
   },
   {
    "duration": 33,
    "start_time": "2021-10-14T16:03:49.537Z"
   },
   {
    "duration": 5,
    "start_time": "2021-10-14T16:03:53.626Z"
   },
   {
    "duration": 14,
    "start_time": "2021-10-14T16:03:56.385Z"
   },
   {
    "duration": 6,
    "start_time": "2021-10-14T16:04:00.946Z"
   },
   {
    "duration": 38,
    "start_time": "2021-10-14T16:04:03.481Z"
   },
   {
    "duration": 24,
    "start_time": "2021-10-14T16:04:06.693Z"
   },
   {
    "duration": 30,
    "start_time": "2021-10-14T16:04:09.062Z"
   },
   {
    "duration": 89,
    "start_time": "2021-10-14T16:04:11.905Z"
   },
   {
    "duration": 112,
    "start_time": "2021-10-14T16:04:14.288Z"
   },
   {
    "duration": 85,
    "start_time": "2021-10-14T16:04:17.222Z"
   },
   {
    "duration": 120,
    "start_time": "2021-10-14T16:04:22.670Z"
   },
   {
    "duration": 85,
    "start_time": "2021-10-14T16:04:26.246Z"
   },
   {
    "duration": 103,
    "start_time": "2021-10-14T16:04:37.523Z"
   },
   {
    "duration": 82,
    "start_time": "2021-10-14T16:04:41.490Z"
   },
   {
    "duration": 84,
    "start_time": "2021-10-14T16:04:45.611Z"
   },
   {
    "duration": 84,
    "start_time": "2021-10-14T16:04:48.584Z"
   },
   {
    "duration": 436,
    "start_time": "2021-10-14T16:05:12.639Z"
   },
   {
    "duration": 109,
    "start_time": "2021-10-14T16:05:20.832Z"
   },
   {
    "duration": 77,
    "start_time": "2021-10-14T16:05:24.183Z"
   },
   {
    "duration": 10,
    "start_time": "2021-10-14T16:06:41.367Z"
   },
   {
    "duration": 245,
    "start_time": "2021-10-14T16:09:19.609Z"
   },
   {
    "duration": 58,
    "start_time": "2021-10-14T16:09:52.269Z"
   },
   {
    "duration": 59,
    "start_time": "2021-10-14T16:10:06.796Z"
   },
   {
    "duration": 5,
    "start_time": "2021-10-14T16:19:21.272Z"
   },
   {
    "duration": 15,
    "start_time": "2021-10-14T16:20:45.284Z"
   },
   {
    "duration": 59,
    "start_time": "2021-10-14T16:21:05.284Z"
   },
   {
    "duration": 32,
    "start_time": "2021-10-14T16:22:12.960Z"
   },
   {
    "duration": 45,
    "start_time": "2021-10-14T16:35:15.161Z"
   },
   {
    "duration": 16,
    "start_time": "2021-10-14T16:36:04.864Z"
   },
   {
    "duration": 43,
    "start_time": "2021-10-14T16:36:36.239Z"
   },
   {
    "duration": 44,
    "start_time": "2021-10-14T16:36:47.824Z"
   },
   {
    "duration": 15,
    "start_time": "2021-10-14T16:36:56.184Z"
   },
   {
    "duration": 14,
    "start_time": "2021-10-14T16:37:06.364Z"
   },
   {
    "duration": 15,
    "start_time": "2021-10-14T16:37:12.133Z"
   },
   {
    "duration": 15,
    "start_time": "2021-10-14T16:37:20.020Z"
   },
   {
    "duration": 45,
    "start_time": "2021-10-14T16:40:13.380Z"
   },
   {
    "duration": 16,
    "start_time": "2021-10-14T16:40:40.973Z"
   },
   {
    "duration": 92,
    "start_time": "2021-10-14T17:08:46.246Z"
   },
   {
    "duration": 4,
    "start_time": "2021-10-14T17:09:07.175Z"
   },
   {
    "duration": 1201,
    "start_time": "2021-10-14T17:09:10.190Z"
   },
   {
    "duration": 1591,
    "start_time": "2021-10-14T17:10:45.559Z"
   },
   {
    "duration": 5,
    "start_time": "2021-10-14T17:14:33.382Z"
   },
   {
    "duration": 21,
    "start_time": "2021-10-14T17:14:38.126Z"
   },
   {
    "duration": 18,
    "start_time": "2021-10-14T17:15:33.878Z"
   },
   {
    "duration": 19,
    "start_time": "2021-10-14T17:16:09.195Z"
   },
   {
    "duration": 18,
    "start_time": "2021-10-14T17:16:51.744Z"
   },
   {
    "duration": 24,
    "start_time": "2021-10-14T17:17:26.600Z"
   },
   {
    "duration": 19,
    "start_time": "2021-10-14T17:17:52.460Z"
   },
   {
    "duration": 12,
    "start_time": "2021-10-14T17:27:28.671Z"
   },
   {
    "duration": 248,
    "start_time": "2021-10-14T17:27:50.820Z"
   },
   {
    "duration": 284,
    "start_time": "2021-10-14T17:29:03.056Z"
   },
   {
    "duration": 265,
    "start_time": "2021-10-14T17:30:15.747Z"
   },
   {
    "duration": 12,
    "start_time": "2021-10-14T17:30:22.090Z"
   },
   {
    "duration": 15,
    "start_time": "2021-10-14T17:31:36.030Z"
   },
   {
    "duration": 20,
    "start_time": "2021-10-14T17:35:01.526Z"
   },
   {
    "duration": 23,
    "start_time": "2021-10-14T17:35:09.908Z"
   },
   {
    "duration": 14,
    "start_time": "2021-10-14T17:35:27.479Z"
   },
   {
    "duration": 19,
    "start_time": "2021-10-14T17:36:06.840Z"
   },
   {
    "duration": 14,
    "start_time": "2021-10-14T17:36:18.112Z"
   },
   {
    "duration": 20,
    "start_time": "2021-10-14T17:36:42.893Z"
   },
   {
    "duration": 14,
    "start_time": "2021-10-14T17:36:55.742Z"
   },
   {
    "duration": 19,
    "start_time": "2021-10-14T17:37:16.486Z"
   },
   {
    "duration": 13,
    "start_time": "2021-10-14T17:37:25.914Z"
   },
   {
    "duration": 21,
    "start_time": "2021-10-14T17:37:51.651Z"
   },
   {
    "duration": 13,
    "start_time": "2021-10-14T17:38:01.544Z"
   },
   {
    "duration": 18,
    "start_time": "2021-10-14T17:38:22.095Z"
   },
   {
    "duration": 13,
    "start_time": "2021-10-14T17:38:36.747Z"
   },
   {
    "duration": 291,
    "start_time": "2021-10-14T17:42:50.819Z"
   },
   {
    "duration": 23,
    "start_time": "2021-10-14T17:42:56.627Z"
   },
   {
    "duration": 14,
    "start_time": "2021-10-14T17:43:01.235Z"
   },
   {
    "duration": 15,
    "start_time": "2021-10-14T17:45:00.567Z"
   },
   {
    "duration": 16,
    "start_time": "2021-10-14T17:45:03.182Z"
   },
   {
    "duration": 6,
    "start_time": "2021-10-14T17:56:40.082Z"
   },
   {
    "duration": 474,
    "start_time": "2021-10-14T17:58:02.587Z"
   },
   {
    "duration": 5,
    "start_time": "2021-10-14T17:59:23.359Z"
   },
   {
    "duration": 518,
    "start_time": "2021-10-14T17:59:25.623Z"
   },
   {
    "duration": 5,
    "start_time": "2021-10-14T18:00:29.934Z"
   },
   {
    "duration": 505,
    "start_time": "2021-10-14T18:00:34.394Z"
   },
   {
    "duration": 5,
    "start_time": "2021-10-14T18:00:55.587Z"
   },
   {
    "duration": 485,
    "start_time": "2021-10-14T18:00:58.051Z"
   },
   {
    "duration": 5,
    "start_time": "2021-10-14T18:11:22.172Z"
   },
   {
    "duration": 9821,
    "start_time": "2021-10-14T18:11:25.076Z"
   },
   {
    "duration": 6,
    "start_time": "2021-10-14T18:11:51.820Z"
   },
   {
    "duration": 7487,
    "start_time": "2021-10-14T18:11:53.705Z"
   },
   {
    "duration": 7967,
    "start_time": "2021-10-14T18:12:50.479Z"
   },
   {
    "duration": 6,
    "start_time": "2021-10-14T18:18:59.540Z"
   },
   {
    "duration": 25,
    "start_time": "2021-10-14T18:19:01.725Z"
   },
   {
    "duration": 24,
    "start_time": "2021-10-14T18:20:07.642Z"
   },
   {
    "duration": 24,
    "start_time": "2021-10-14T18:20:14.595Z"
   },
   {
    "duration": 17,
    "start_time": "2021-10-14T18:21:13.351Z"
   },
   {
    "duration": 25,
    "start_time": "2021-10-14T18:22:41.739Z"
   },
   {
    "duration": 18,
    "start_time": "2021-10-14T18:23:09.160Z"
   },
   {
    "duration": 6,
    "start_time": "2021-10-14T18:32:09.901Z"
   },
   {
    "duration": 26,
    "start_time": "2021-10-14T18:32:14.543Z"
   },
   {
    "duration": 17,
    "start_time": "2021-10-14T18:33:24.595Z"
   },
   {
    "duration": 242,
    "start_time": "2021-10-14T18:36:06.181Z"
   },
   {
    "duration": 12,
    "start_time": "2021-10-14T18:36:14.723Z"
   },
   {
    "duration": 6,
    "start_time": "2021-10-14T18:36:16.906Z"
   },
   {
    "duration": 8,
    "start_time": "2021-10-14T18:38:37.659Z"
   },
   {
    "duration": 7,
    "start_time": "2021-10-14T18:38:46.506Z"
   },
   {
    "duration": 7,
    "start_time": "2021-10-14T18:39:18.850Z"
   },
   {
    "duration": 7,
    "start_time": "2021-10-14T18:39:24.555Z"
   },
   {
    "duration": 956,
    "start_time": "2021-10-14T18:46:45.572Z"
   },
   {
    "duration": 193,
    "start_time": "2021-10-14T18:46:49.118Z"
   },
   {
    "duration": 28,
    "start_time": "2021-10-14T18:46:52.565Z"
   },
   {
    "duration": 11,
    "start_time": "2021-10-14T18:47:00.634Z"
   },
   {
    "duration": 15,
    "start_time": "2021-10-14T18:47:08.610Z"
   },
   {
    "duration": 15,
    "start_time": "2021-10-14T18:47:21.164Z"
   },
   {
    "duration": 42,
    "start_time": "2021-10-14T18:50:59.892Z"
   },
   {
    "duration": 5,
    "start_time": "2021-10-14T18:51:04.700Z"
   },
   {
    "duration": 14,
    "start_time": "2021-10-14T18:51:09.637Z"
   },
   {
    "duration": 6,
    "start_time": "2021-10-14T18:51:12.542Z"
   },
   {
    "duration": 31,
    "start_time": "2021-10-14T18:51:15.589Z"
   },
   {
    "duration": 23,
    "start_time": "2021-10-14T18:51:21.350Z"
   },
   {
    "duration": 31,
    "start_time": "2021-10-14T18:51:23.526Z"
   },
   {
    "duration": 88,
    "start_time": "2021-10-14T18:51:37.553Z"
   },
   {
    "duration": 120,
    "start_time": "2021-10-14T18:51:41.464Z"
   },
   {
    "duration": 80,
    "start_time": "2021-10-14T18:51:49.092Z"
   },
   {
    "duration": 63,
    "start_time": "2021-10-14T18:51:52.789Z"
   },
   {
    "duration": 4,
    "start_time": "2021-10-14T18:51:57.524Z"
   },
   {
    "duration": 16,
    "start_time": "2021-10-14T18:52:00.924Z"
   },
   {
    "duration": 62,
    "start_time": "2021-10-14T18:52:04.212Z"
   },
   {
    "duration": 616,
    "start_time": "2021-10-15T06:35:12.701Z"
   },
   {
    "duration": 154,
    "start_time": "2021-10-15T06:35:16.044Z"
   },
   {
    "duration": 18,
    "start_time": "2021-10-15T06:35:19.812Z"
   },
   {
    "duration": 27,
    "start_time": "2021-10-15T06:35:24.221Z"
   },
   {
    "duration": 5,
    "start_time": "2021-10-15T06:35:31.366Z"
   },
   {
    "duration": 13,
    "start_time": "2021-10-15T06:35:35.607Z"
   },
   {
    "duration": 4,
    "start_time": "2021-10-15T06:35:40.207Z"
   },
   {
    "duration": 28,
    "start_time": "2021-10-15T06:35:43.975Z"
   },
   {
    "duration": 22,
    "start_time": "2021-10-15T06:35:51.504Z"
   },
   {
    "duration": 25,
    "start_time": "2021-10-15T06:35:54.880Z"
   },
   {
    "duration": 64,
    "start_time": "2021-10-15T06:35:58.817Z"
   },
   {
    "duration": 82,
    "start_time": "2021-10-15T06:36:03.601Z"
   },
   {
    "duration": 58,
    "start_time": "2021-10-15T06:36:13.803Z"
   },
   {
    "duration": 43,
    "start_time": "2021-10-15T06:36:16.979Z"
   },
   {
    "duration": 3,
    "start_time": "2021-10-15T06:36:25.756Z"
   },
   {
    "duration": 11,
    "start_time": "2021-10-15T06:36:29.967Z"
   },
   {
    "duration": 44,
    "start_time": "2021-10-15T06:36:35.782Z"
   },
   {
    "duration": 13,
    "start_time": "2021-10-15T06:36:42.551Z"
   },
   {
    "duration": 12,
    "start_time": "2021-10-15T06:36:46.064Z"
   },
   {
    "duration": 3,
    "start_time": "2021-10-15T06:36:56.858Z"
   },
   {
    "duration": 19,
    "start_time": "2021-10-15T06:37:01.705Z"
   },
   {
    "duration": 511,
    "start_time": "2021-10-15T06:37:15.790Z"
   },
   {
    "duration": 19,
    "start_time": "2021-10-15T06:37:33.581Z"
   },
   {
    "duration": 16,
    "start_time": "2021-10-15T06:37:46.680Z"
   },
   {
    "duration": 18,
    "start_time": "2021-10-15T06:37:49.744Z"
   },
   {
    "duration": 19,
    "start_time": "2021-10-15T06:37:51.815Z"
   },
   {
    "duration": 20,
    "start_time": "2021-10-15T06:37:54.018Z"
   },
   {
    "duration": 19,
    "start_time": "2021-10-15T06:37:57.378Z"
   },
   {
    "duration": 11,
    "start_time": "2021-10-15T06:38:00.770Z"
   },
   {
    "duration": 14,
    "start_time": "2021-10-15T06:38:08.948Z"
   },
   {
    "duration": 12,
    "start_time": "2021-10-15T06:38:12.795Z"
   },
   {
    "duration": 5,
    "start_time": "2021-10-15T06:39:06.817Z"
   },
   {
    "duration": 22,
    "start_time": "2021-10-15T06:39:12.377Z"
   },
   {
    "duration": 15,
    "start_time": "2021-10-15T06:39:17.929Z"
   },
   {
    "duration": 21,
    "start_time": "2021-10-15T06:39:21.146Z"
   },
   {
    "duration": 14,
    "start_time": "2021-10-15T06:39:23.762Z"
   },
   {
    "duration": 10,
    "start_time": "2021-10-15T06:39:34.035Z"
   },
   {
    "duration": 5,
    "start_time": "2021-10-15T06:39:37.388Z"
   },
   {
    "duration": 7,
    "start_time": "2021-10-15T06:39:44.077Z"
   },
   {
    "duration": 7,
    "start_time": "2021-10-15T06:40:53.081Z"
   },
   {
    "duration": 6,
    "start_time": "2021-10-15T06:41:07.937Z"
   },
   {
    "duration": 598,
    "start_time": "2021-10-15T06:42:55.698Z"
   },
   {
    "duration": 165,
    "start_time": "2021-10-15T06:42:56.298Z"
   },
   {
    "duration": 18,
    "start_time": "2021-10-15T06:42:56.466Z"
   },
   {
    "duration": 30,
    "start_time": "2021-10-15T06:42:56.486Z"
   },
   {
    "duration": 4,
    "start_time": "2021-10-15T06:42:56.519Z"
   },
   {
    "duration": 42,
    "start_time": "2021-10-15T06:42:56.525Z"
   },
   {
    "duration": 7,
    "start_time": "2021-10-15T06:42:56.569Z"
   },
   {
    "duration": 28,
    "start_time": "2021-10-15T06:42:56.579Z"
   },
   {
    "duration": 21,
    "start_time": "2021-10-15T06:42:56.610Z"
   },
   {
    "duration": 53,
    "start_time": "2021-10-15T06:42:56.633Z"
   },
   {
    "duration": 82,
    "start_time": "2021-10-15T06:42:56.688Z"
   },
   {
    "duration": 101,
    "start_time": "2021-10-15T06:42:56.771Z"
   },
   {
    "duration": 63,
    "start_time": "2021-10-15T06:42:56.873Z"
   },
   {
    "duration": 61,
    "start_time": "2021-10-15T06:42:56.937Z"
   },
   {
    "duration": 3,
    "start_time": "2021-10-15T06:42:57.000Z"
   },
   {
    "duration": 14,
    "start_time": "2021-10-15T06:42:57.005Z"
   },
   {
    "duration": 62,
    "start_time": "2021-10-15T06:42:57.021Z"
   },
   {
    "duration": 13,
    "start_time": "2021-10-15T06:42:57.085Z"
   },
   {
    "duration": 13,
    "start_time": "2021-10-15T06:42:57.100Z"
   },
   {
    "duration": 3,
    "start_time": "2021-10-15T06:42:57.115Z"
   },
   {
    "duration": 57,
    "start_time": "2021-10-15T06:42:57.120Z"
   },
   {
    "duration": 18,
    "start_time": "2021-10-15T06:42:57.178Z"
   },
   {
    "duration": 18,
    "start_time": "2021-10-15T06:42:57.199Z"
   },
   {
    "duration": 50,
    "start_time": "2021-10-15T06:42:57.219Z"
   },
   {
    "duration": 19,
    "start_time": "2021-10-15T06:42:57.271Z"
   },
   {
    "duration": 18,
    "start_time": "2021-10-15T06:42:57.292Z"
   },
   {
    "duration": 9,
    "start_time": "2021-10-15T06:42:57.313Z"
   },
   {
    "duration": 48,
    "start_time": "2021-10-15T06:42:57.325Z"
   },
   {
    "duration": 13,
    "start_time": "2021-10-15T06:42:57.375Z"
   },
   {
    "duration": 5,
    "start_time": "2021-10-15T06:42:57.390Z"
   },
   {
    "duration": 30,
    "start_time": "2021-10-15T06:42:57.397Z"
   },
   {
    "duration": 41,
    "start_time": "2021-10-15T06:42:57.429Z"
   },
   {
    "duration": 21,
    "start_time": "2021-10-15T06:42:57.472Z"
   },
   {
    "duration": 15,
    "start_time": "2021-10-15T06:42:57.495Z"
   },
   {
    "duration": 10,
    "start_time": "2021-10-15T06:42:57.512Z"
   },
   {
    "duration": 5,
    "start_time": "2021-10-15T06:42:57.524Z"
   },
   {
    "duration": 38,
    "start_time": "2021-10-15T06:42:57.531Z"
   },
   {
    "duration": 6,
    "start_time": "2021-10-15T06:42:57.571Z"
   },
   {
    "duration": 20,
    "start_time": "2021-10-15T06:47:18.854Z"
   },
   {
    "duration": 16,
    "start_time": "2021-10-15T06:47:46.423Z"
   },
   {
    "duration": 20,
    "start_time": "2021-10-15T06:48:10.363Z"
   },
   {
    "duration": 16,
    "start_time": "2021-10-15T06:48:31.857Z"
   },
   {
    "duration": 19,
    "start_time": "2021-10-15T06:49:03.556Z"
   },
   {
    "duration": 16,
    "start_time": "2021-10-15T06:49:26.221Z"
   },
   {
    "duration": 10,
    "start_time": "2021-10-15T06:49:32.192Z"
   },
   {
    "duration": 19,
    "start_time": "2021-10-15T06:50:13.454Z"
   },
   {
    "duration": 18,
    "start_time": "2021-10-15T06:50:15.469Z"
   },
   {
    "duration": 18,
    "start_time": "2021-10-15T06:50:18.030Z"
   },
   {
    "duration": 18,
    "start_time": "2021-10-15T06:50:20.830Z"
   },
   {
    "duration": 20,
    "start_time": "2021-10-15T06:50:22.630Z"
   },
   {
    "duration": 18,
    "start_time": "2021-10-15T06:50:25.415Z"
   },
   {
    "duration": 11,
    "start_time": "2021-10-15T06:50:39.031Z"
   },
   {
    "duration": 743,
    "start_time": "2021-10-15T07:46:56.458Z"
   },
   {
    "duration": 195,
    "start_time": "2021-10-15T07:46:57.204Z"
   },
   {
    "duration": 27,
    "start_time": "2021-10-15T07:46:57.402Z"
   },
   {
    "duration": 42,
    "start_time": "2021-10-15T07:46:57.432Z"
   },
   {
    "duration": 25,
    "start_time": "2021-10-15T07:46:57.476Z"
   },
   {
    "duration": 15,
    "start_time": "2021-10-15T07:46:57.504Z"
   },
   {
    "duration": 10,
    "start_time": "2021-10-15T07:46:57.521Z"
   },
   {
    "duration": 32,
    "start_time": "2021-10-15T07:46:57.535Z"
   },
   {
    "duration": 51,
    "start_time": "2021-10-15T07:46:57.570Z"
   },
   {
    "duration": 33,
    "start_time": "2021-10-15T07:46:57.623Z"
   },
   {
    "duration": 111,
    "start_time": "2021-10-15T07:46:57.658Z"
   },
   {
    "duration": 131,
    "start_time": "2021-10-15T07:46:57.771Z"
   },
   {
    "duration": 81,
    "start_time": "2021-10-15T07:46:57.904Z"
   },
   {
    "duration": 65,
    "start_time": "2021-10-15T07:46:57.999Z"
   },
   {
    "duration": 4,
    "start_time": "2021-10-15T07:46:58.066Z"
   },
   {
    "duration": 36,
    "start_time": "2021-10-15T07:46:58.073Z"
   },
   {
    "duration": 61,
    "start_time": "2021-10-15T07:46:58.112Z"
   },
   {
    "duration": 34,
    "start_time": "2021-10-15T07:46:58.175Z"
   },
   {
    "duration": 15,
    "start_time": "2021-10-15T07:46:58.212Z"
   },
   {
    "duration": 5,
    "start_time": "2021-10-15T07:46:58.229Z"
   },
   {
    "duration": 27,
    "start_time": "2021-10-15T07:46:58.236Z"
   },
   {
    "duration": 48,
    "start_time": "2021-10-15T07:46:58.266Z"
   },
   {
    "duration": 20,
    "start_time": "2021-10-15T07:46:58.319Z"
   },
   {
    "duration": 19,
    "start_time": "2021-10-15T07:46:58.342Z"
   },
   {
    "duration": 56,
    "start_time": "2021-10-15T07:46:58.364Z"
   },
   {
    "duration": 19,
    "start_time": "2021-10-15T07:46:58.422Z"
   },
   {
    "duration": 12,
    "start_time": "2021-10-15T07:46:58.444Z"
   },
   {
    "duration": 52,
    "start_time": "2021-10-15T07:46:58.458Z"
   },
   {
    "duration": 12,
    "start_time": "2021-10-15T07:46:58.513Z"
   },
   {
    "duration": 8,
    "start_time": "2021-10-15T07:46:58.527Z"
   },
   {
    "duration": 43,
    "start_time": "2021-10-15T07:46:58.537Z"
   },
   {
    "duration": 29,
    "start_time": "2021-10-15T07:46:58.583Z"
   },
   {
    "duration": 26,
    "start_time": "2021-10-15T07:46:58.614Z"
   },
   {
    "duration": 17,
    "start_time": "2021-10-15T07:46:58.642Z"
   },
   {
    "duration": 45,
    "start_time": "2021-10-15T07:46:58.662Z"
   },
   {
    "duration": 6,
    "start_time": "2021-10-15T07:46:58.709Z"
   },
   {
    "duration": 12,
    "start_time": "2021-10-15T07:46:58.718Z"
   },
   {
    "duration": 6,
    "start_time": "2021-10-15T07:46:58.732Z"
   },
   {
    "duration": 81,
    "start_time": "2021-10-15T07:49:24.387Z"
   },
   {
    "duration": 695,
    "start_time": "2022-03-07T09:00:38.689Z"
   },
   {
    "duration": 198,
    "start_time": "2022-03-07T09:00:39.387Z"
   },
   {
    "duration": 26,
    "start_time": "2022-03-07T09:00:39.588Z"
   },
   {
    "duration": 45,
    "start_time": "2022-03-07T09:00:39.616Z"
   },
   {
    "duration": 5,
    "start_time": "2022-03-07T09:00:39.664Z"
   },
   {
    "duration": 14,
    "start_time": "2022-03-07T09:00:39.671Z"
   },
   {
    "duration": 61,
    "start_time": "2022-03-07T09:00:39.687Z"
   },
   {
    "duration": 6,
    "start_time": "2022-03-07T09:00:39.753Z"
   },
   {
    "duration": 30,
    "start_time": "2022-03-07T09:00:39.764Z"
   },
   {
    "duration": 53,
    "start_time": "2022-03-07T09:00:39.796Z"
   },
   {
    "duration": 29,
    "start_time": "2022-03-07T09:00:39.851Z"
   },
   {
    "duration": 104,
    "start_time": "2022-03-07T09:00:39.883Z"
   },
   {
    "duration": 114,
    "start_time": "2022-03-07T09:00:39.989Z"
   },
   {
    "duration": 92,
    "start_time": "2022-03-07T09:00:40.105Z"
   },
   {
    "duration": 83,
    "start_time": "2022-03-07T09:00:40.199Z"
   },
   {
    "duration": 68,
    "start_time": "2022-03-07T09:00:40.285Z"
   },
   {
    "duration": 3,
    "start_time": "2022-03-07T09:00:40.356Z"
   },
   {
    "duration": 15,
    "start_time": "2022-03-07T09:00:40.362Z"
   },
   {
    "duration": 84,
    "start_time": "2022-03-07T09:00:40.380Z"
   },
   {
    "duration": 16,
    "start_time": "2022-03-07T09:00:40.467Z"
   },
   {
    "duration": 16,
    "start_time": "2022-03-07T09:00:40.486Z"
   },
   {
    "duration": 29,
    "start_time": "2022-03-07T09:00:40.504Z"
   },
   {
    "duration": 21,
    "start_time": "2022-03-07T09:00:40.539Z"
   },
   {
    "duration": 20,
    "start_time": "2022-03-07T09:00:40.563Z"
   },
   {
    "duration": 52,
    "start_time": "2022-03-07T09:00:40.585Z"
   },
   {
    "duration": 18,
    "start_time": "2022-03-07T09:00:40.640Z"
   },
   {
    "duration": 22,
    "start_time": "2022-03-07T09:00:40.660Z"
   },
   {
    "duration": 51,
    "start_time": "2022-03-07T09:00:40.684Z"
   },
   {
    "duration": 13,
    "start_time": "2022-03-07T09:00:40.737Z"
   },
   {
    "duration": 17,
    "start_time": "2022-03-07T09:00:40.753Z"
   },
   {
    "duration": 13,
    "start_time": "2022-03-07T09:00:40.772Z"
   },
   {
    "duration": 5,
    "start_time": "2022-03-07T09:00:40.787Z"
   },
   {
    "duration": 60,
    "start_time": "2022-03-07T09:00:40.794Z"
   },
   {
    "duration": 17,
    "start_time": "2022-03-07T09:00:40.857Z"
   },
   {
    "duration": 55,
    "start_time": "2022-03-07T09:00:40.877Z"
   },
   {
    "duration": 18,
    "start_time": "2022-03-07T09:00:40.935Z"
   },
   {
    "duration": 10,
    "start_time": "2022-03-07T09:00:40.955Z"
   },
   {
    "duration": 5,
    "start_time": "2022-03-07T09:00:40.968Z"
   },
   {
    "duration": 9,
    "start_time": "2022-03-07T09:00:40.975Z"
   },
   {
    "duration": 45,
    "start_time": "2022-03-07T09:00:40.987Z"
   }
  ],
  "colab": {
   "collapsed_sections": [
    "E0vqbgi9ay0H",
    "VUC88oWjTJw2"
   ],
   "name": "yandex_music_project_2021.2.ipynb",
   "provenance": []
  },
  "kernelspec": {
   "display_name": "Python 3",
   "language": "python",
   "name": "python3"
  },
  "language_info": {
   "codemirror_mode": {
    "name": "ipython",
    "version": 3
   },
   "file_extension": ".py",
   "mimetype": "text/x-python",
   "name": "python",
   "nbconvert_exporter": "python",
   "pygments_lexer": "ipython3",
   "version": "3.10.2"
  },
  "toc": {
   "base_numbering": 1,
   "nav_menu": {},
   "number_sections": true,
   "sideBar": true,
   "skip_h1_title": true,
   "title_cell": "Содержание",
   "title_sidebar": "Contents",
   "toc_cell": true,
   "toc_position": {
    "height": "calc(100% - 180px)",
    "left": "10px",
    "top": "150px",
    "width": "184.391px"
   },
   "toc_section_display": true,
   "toc_window_display": true
  }
 },
 "nbformat": 4,
 "nbformat_minor": 1
}
