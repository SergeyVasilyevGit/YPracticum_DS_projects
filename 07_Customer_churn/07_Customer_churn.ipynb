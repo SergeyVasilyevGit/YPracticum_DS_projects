{
 "cells": [
  {
   "cell_type": "markdown",
   "metadata": {
    "toc": true
   },
   "source": [
    "<h1>Содержание<span class=\"tocSkip\"></span></h1>\n",
    "<div class=\"toc\"><ul class=\"toc-item\"><li><span><a href=\"#Подготовка-данных\" data-toc-modified-id=\"Подготовка-данных-1\"><span class=\"toc-item-num\">1&nbsp;&nbsp;</span>Подготовка данных</a></span><ul class=\"toc-item\"><li><span><a href=\"#Вывод\" data-toc-modified-id=\"Вывод-1.1\"><span class=\"toc-item-num\">1.1&nbsp;&nbsp;</span>Вывод</a></span></li></ul></li><li><span><a href=\"#Исследование-задачи\" data-toc-modified-id=\"Исследование-задачи-2\"><span class=\"toc-item-num\">2&nbsp;&nbsp;</span>Исследование задачи</a></span><ul class=\"toc-item\"><li><span><a href=\"#Вывод\" data-toc-modified-id=\"Вывод-2.1\"><span class=\"toc-item-num\">2.1&nbsp;&nbsp;</span>Вывод</a></span></li></ul></li><li><span><a href=\"#Борьба-с-дисбалансом\" data-toc-modified-id=\"Борьба-с-дисбалансом-3\"><span class=\"toc-item-num\">3&nbsp;&nbsp;</span>Борьба с дисбалансом</a></span><ul class=\"toc-item\"><li><span><a href=\"#Вывод\" data-toc-modified-id=\"Вывод-3.1\"><span class=\"toc-item-num\">3.1&nbsp;&nbsp;</span>Вывод</a></span></li></ul></li><li><span><a href=\"#Тестирование-модели\" data-toc-modified-id=\"Тестирование-модели-4\"><span class=\"toc-item-num\">4&nbsp;&nbsp;</span>Тестирование модели</a></span><ul class=\"toc-item\"><li><span><a href=\"#Вывод\" data-toc-modified-id=\"Вывод-4.1\"><span class=\"toc-item-num\">4.1&nbsp;&nbsp;</span>Вывод</a></span></li></ul></li></ul></div>"
   ]
  },
  {
   "cell_type": "markdown",
   "metadata": {},
   "source": [
    "# Отток клиентов"
   ]
  },
  {
   "cell_type": "markdown",
   "metadata": {},
   "source": [
    "Из «Бета-Банка» стали уходить клиенты. Каждый месяц. Немного, но заметно. Банковские маркетологи посчитали: сохранять текущих клиентов дешевле, чем привлекать новых.\n",
    "\n",
    "Нужно спрогнозировать, уйдёт клиент из банка в ближайшее время или нет. Предоставлены исторические данные о поведении клиентов и расторжении договоров с банком. \n",
    "\n",
    "Необходимо построить модель с предельно большим значением *F1*-меры.\n",
    "\n",
    "Источник данных: [https://www.kaggle.com/barelydedicated/bank-customer-churn-modeling](https://www.kaggle.com/barelydedicated/bank-customer-churn-modeling)"
   ]
  },
  {
   "cell_type": "markdown",
   "metadata": {},
   "source": [
    "**Цель**\n",
    "\n",
    "Получение значения метрики F1-мера не менее 0,59 на тестовых данных.\n",
    "\n",
    "**Структура исследования**\n",
    "1. Подготовка данных\n",
    "2. Исследование задачи\n",
    "3. Борьба с дисбалансом\n",
    "4. Тестирование модели\n",
    "\n",
    "**Использование дополнительных модулей**\n",
    "- `pandas` – редактор баз данных  \n",
    "- `sklearn` – машинное обучение\n",
    "- `matplotlib` – построение графиков"
   ]
  },
  {
   "cell_type": "code",
   "execution_count": 1,
   "metadata": {},
   "outputs": [],
   "source": [
    "import pandas as pd\n",
    "\n",
    "from sklearn.model_selection import train_test_split\n",
    "from sklearn.preprocessing import StandardScaler\n",
    "from sklearn.tree import DecisionTreeClassifier\n",
    "from sklearn.ensemble import RandomForestClassifier\n",
    "from sklearn.linear_model import LogisticRegression\n",
    "from sklearn.metrics import f1_score, roc_auc_score, roc_curve\n",
    "from sklearn.utils import shuffle\n",
    "\n",
    "import matplotlib.pyplot as plt\n",
    "\n",
    "import warnings\n",
    "warnings.simplefilter(action='ignore', category=FutureWarning)\n",
    "# Инструкция для подавления предупреждения FutureWarning, которое возникает при запуске цикла (см. ниже)\n",
    "# for model in [DecisionTreeClassifier, RandomForestClassifier, LogisticRegression]:\n",
    "\n",
    "pd.options.mode.chained_assignment = None\n",
    "# Инструкция для подавления предупреждения SettingWithCopyWarning, которое возникает при выполнении масштабирования"
   ]
  },
  {
   "cell_type": "markdown",
   "metadata": {},
   "source": [
    "## Подготовка данных"
   ]
  },
  {
   "cell_type": "code",
   "execution_count": 2,
   "metadata": {
    "scrolled": false
   },
   "outputs": [
    {
     "data": {
      "text/html": [
       "<div>\n",
       "<style scoped>\n",
       "    .dataframe tbody tr th:only-of-type {\n",
       "        vertical-align: middle;\n",
       "    }\n",
       "\n",
       "    .dataframe tbody tr th {\n",
       "        vertical-align: top;\n",
       "    }\n",
       "\n",
       "    .dataframe thead th {\n",
       "        text-align: right;\n",
       "    }\n",
       "</style>\n",
       "<table border=\"1\" class=\"dataframe\">\n",
       "  <thead>\n",
       "    <tr style=\"text-align: right;\">\n",
       "      <th></th>\n",
       "      <th>RowNumber</th>\n",
       "      <th>CustomerId</th>\n",
       "      <th>Surname</th>\n",
       "      <th>CreditScore</th>\n",
       "      <th>Geography</th>\n",
       "      <th>Gender</th>\n",
       "      <th>Age</th>\n",
       "      <th>Tenure</th>\n",
       "      <th>Balance</th>\n",
       "      <th>NumOfProducts</th>\n",
       "      <th>HasCrCard</th>\n",
       "      <th>IsActiveMember</th>\n",
       "      <th>EstimatedSalary</th>\n",
       "      <th>Exited</th>\n",
       "    </tr>\n",
       "  </thead>\n",
       "  <tbody>\n",
       "    <tr>\n",
       "      <th>0</th>\n",
       "      <td>1</td>\n",
       "      <td>15634602</td>\n",
       "      <td>Hargrave</td>\n",
       "      <td>619</td>\n",
       "      <td>France</td>\n",
       "      <td>Female</td>\n",
       "      <td>42</td>\n",
       "      <td>2.0</td>\n",
       "      <td>0.00</td>\n",
       "      <td>1</td>\n",
       "      <td>1</td>\n",
       "      <td>1</td>\n",
       "      <td>101348.88</td>\n",
       "      <td>1</td>\n",
       "    </tr>\n",
       "    <tr>\n",
       "      <th>1</th>\n",
       "      <td>2</td>\n",
       "      <td>15647311</td>\n",
       "      <td>Hill</td>\n",
       "      <td>608</td>\n",
       "      <td>Spain</td>\n",
       "      <td>Female</td>\n",
       "      <td>41</td>\n",
       "      <td>1.0</td>\n",
       "      <td>83807.86</td>\n",
       "      <td>1</td>\n",
       "      <td>0</td>\n",
       "      <td>1</td>\n",
       "      <td>112542.58</td>\n",
       "      <td>0</td>\n",
       "    </tr>\n",
       "    <tr>\n",
       "      <th>2</th>\n",
       "      <td>3</td>\n",
       "      <td>15619304</td>\n",
       "      <td>Onio</td>\n",
       "      <td>502</td>\n",
       "      <td>France</td>\n",
       "      <td>Female</td>\n",
       "      <td>42</td>\n",
       "      <td>8.0</td>\n",
       "      <td>159660.80</td>\n",
       "      <td>3</td>\n",
       "      <td>1</td>\n",
       "      <td>0</td>\n",
       "      <td>113931.57</td>\n",
       "      <td>1</td>\n",
       "    </tr>\n",
       "    <tr>\n",
       "      <th>3</th>\n",
       "      <td>4</td>\n",
       "      <td>15701354</td>\n",
       "      <td>Boni</td>\n",
       "      <td>699</td>\n",
       "      <td>France</td>\n",
       "      <td>Female</td>\n",
       "      <td>39</td>\n",
       "      <td>1.0</td>\n",
       "      <td>0.00</td>\n",
       "      <td>2</td>\n",
       "      <td>0</td>\n",
       "      <td>0</td>\n",
       "      <td>93826.63</td>\n",
       "      <td>0</td>\n",
       "    </tr>\n",
       "    <tr>\n",
       "      <th>4</th>\n",
       "      <td>5</td>\n",
       "      <td>15737888</td>\n",
       "      <td>Mitchell</td>\n",
       "      <td>850</td>\n",
       "      <td>Spain</td>\n",
       "      <td>Female</td>\n",
       "      <td>43</td>\n",
       "      <td>2.0</td>\n",
       "      <td>125510.82</td>\n",
       "      <td>1</td>\n",
       "      <td>1</td>\n",
       "      <td>1</td>\n",
       "      <td>79084.10</td>\n",
       "      <td>0</td>\n",
       "    </tr>\n",
       "  </tbody>\n",
       "</table>\n",
       "</div>"
      ],
      "text/plain": [
       "   RowNumber  CustomerId   Surname  CreditScore Geography  Gender  Age  \\\n",
       "0          1    15634602  Hargrave          619    France  Female   42   \n",
       "1          2    15647311      Hill          608     Spain  Female   41   \n",
       "2          3    15619304      Onio          502    France  Female   42   \n",
       "3          4    15701354      Boni          699    France  Female   39   \n",
       "4          5    15737888  Mitchell          850     Spain  Female   43   \n",
       "\n",
       "   Tenure    Balance  NumOfProducts  HasCrCard  IsActiveMember  \\\n",
       "0     2.0       0.00              1          1               1   \n",
       "1     1.0   83807.86              1          0               1   \n",
       "2     8.0  159660.80              3          1               0   \n",
       "3     1.0       0.00              2          0               0   \n",
       "4     2.0  125510.82              1          1               1   \n",
       "\n",
       "   EstimatedSalary  Exited  \n",
       "0        101348.88       1  \n",
       "1        112542.58       0  \n",
       "2        113931.57       1  \n",
       "3         93826.63       0  \n",
       "4         79084.10       0  "
      ]
     },
     "execution_count": 2,
     "metadata": {},
     "output_type": "execute_result"
    }
   ],
   "source": [
    "df = pd.read_csv('Churn.csv')\n",
    "df.head()"
   ]
  },
  {
   "cell_type": "markdown",
   "metadata": {},
   "source": [
    "**Признаки**  \n",
    "`RowNumber` — индекс строки в данных  \n",
    "`CustomerId` — уникальный идентификатор клиента  \n",
    "`Surname` — фамилия  \n",
    "`CreditScore` — кредитный рейтинг  \n",
    "`Geography` — страна проживания  \n",
    "`Gender` — пол  \n",
    "`Age` — возраст  \n",
    "`Tenure` — сколько лет человек является клиентом банка  \n",
    "`Balance` — баланс на счёте  \n",
    "`NumOfProducts` — количество продуктов банка, используемых клиентом  \n",
    "`HasCrCard` — наличие кредитной карты  \n",
    "`IsActiveMember` — активность клиента  \n",
    "`EstimatedSalary` — предполагаемая зарплата  \n",
    "\n",
    "**Целевой признак**  \n",
    "`Exited` — факт ухода клиента"
   ]
  },
  {
   "cell_type": "code",
   "execution_count": 3,
   "metadata": {
    "scrolled": false
   },
   "outputs": [
    {
     "name": "stdout",
     "output_type": "stream",
     "text": [
      "<class 'pandas.core.frame.DataFrame'>\n",
      "RangeIndex: 10000 entries, 0 to 9999\n",
      "Data columns (total 14 columns):\n",
      " #   Column           Non-Null Count  Dtype  \n",
      "---  ------           --------------  -----  \n",
      " 0   RowNumber        10000 non-null  int64  \n",
      " 1   CustomerId       10000 non-null  int64  \n",
      " 2   Surname          10000 non-null  object \n",
      " 3   CreditScore      10000 non-null  int64  \n",
      " 4   Geography        10000 non-null  object \n",
      " 5   Gender           10000 non-null  object \n",
      " 6   Age              10000 non-null  int64  \n",
      " 7   Tenure           9091 non-null   float64\n",
      " 8   Balance          10000 non-null  float64\n",
      " 9   NumOfProducts    10000 non-null  int64  \n",
      " 10  HasCrCard        10000 non-null  int64  \n",
      " 11  IsActiveMember   10000 non-null  int64  \n",
      " 12  EstimatedSalary  10000 non-null  float64\n",
      " 13  Exited           10000 non-null  int64  \n",
      "dtypes: float64(3), int64(8), object(3)\n",
      "memory usage: 1.1+ MB\n"
     ]
    }
   ],
   "source": [
    "# Общие сведения о датафрейме\n",
    "df.info()"
   ]
  },
  {
   "cell_type": "markdown",
   "metadata": {},
   "source": [
    "В столбце `Tenure` фиксируются пропуски данных. В столбцах `Surname`, `Geography` и `Gender` присутствуют данные строкового типа (или `object`), что потребует последующей дополнительной обработки."
   ]
  },
  {
   "cell_type": "code",
   "execution_count": 4,
   "metadata": {},
   "outputs": [
    {
     "data": {
      "text/html": [
       "<div>\n",
       "<style scoped>\n",
       "    .dataframe tbody tr th:only-of-type {\n",
       "        vertical-align: middle;\n",
       "    }\n",
       "\n",
       "    .dataframe tbody tr th {\n",
       "        vertical-align: top;\n",
       "    }\n",
       "\n",
       "    .dataframe thead th {\n",
       "        text-align: right;\n",
       "    }\n",
       "</style>\n",
       "<table border=\"1\" class=\"dataframe\">\n",
       "  <thead>\n",
       "    <tr style=\"text-align: right;\">\n",
       "      <th></th>\n",
       "      <th>count</th>\n",
       "      <th>mean</th>\n",
       "      <th>std</th>\n",
       "      <th>min</th>\n",
       "      <th>25%</th>\n",
       "      <th>50%</th>\n",
       "      <th>75%</th>\n",
       "      <th>max</th>\n",
       "    </tr>\n",
       "  </thead>\n",
       "  <tbody>\n",
       "    <tr>\n",
       "      <th>RowNumber</th>\n",
       "      <td>10000.0</td>\n",
       "      <td>5.000500e+03</td>\n",
       "      <td>2886.895680</td>\n",
       "      <td>1.00</td>\n",
       "      <td>2500.75</td>\n",
       "      <td>5.000500e+03</td>\n",
       "      <td>7.500250e+03</td>\n",
       "      <td>10000.00</td>\n",
       "    </tr>\n",
       "    <tr>\n",
       "      <th>CustomerId</th>\n",
       "      <td>10000.0</td>\n",
       "      <td>1.569094e+07</td>\n",
       "      <td>71936.186123</td>\n",
       "      <td>15565701.00</td>\n",
       "      <td>15628528.25</td>\n",
       "      <td>1.569074e+07</td>\n",
       "      <td>1.575323e+07</td>\n",
       "      <td>15815690.00</td>\n",
       "    </tr>\n",
       "    <tr>\n",
       "      <th>CreditScore</th>\n",
       "      <td>10000.0</td>\n",
       "      <td>6.505288e+02</td>\n",
       "      <td>96.653299</td>\n",
       "      <td>350.00</td>\n",
       "      <td>584.00</td>\n",
       "      <td>6.520000e+02</td>\n",
       "      <td>7.180000e+02</td>\n",
       "      <td>850.00</td>\n",
       "    </tr>\n",
       "    <tr>\n",
       "      <th>Age</th>\n",
       "      <td>10000.0</td>\n",
       "      <td>3.892180e+01</td>\n",
       "      <td>10.487806</td>\n",
       "      <td>18.00</td>\n",
       "      <td>32.00</td>\n",
       "      <td>3.700000e+01</td>\n",
       "      <td>4.400000e+01</td>\n",
       "      <td>92.00</td>\n",
       "    </tr>\n",
       "    <tr>\n",
       "      <th>Tenure</th>\n",
       "      <td>9091.0</td>\n",
       "      <td>4.997690e+00</td>\n",
       "      <td>2.894723</td>\n",
       "      <td>0.00</td>\n",
       "      <td>2.00</td>\n",
       "      <td>5.000000e+00</td>\n",
       "      <td>7.000000e+00</td>\n",
       "      <td>10.00</td>\n",
       "    </tr>\n",
       "    <tr>\n",
       "      <th>Balance</th>\n",
       "      <td>10000.0</td>\n",
       "      <td>7.648589e+04</td>\n",
       "      <td>62397.405202</td>\n",
       "      <td>0.00</td>\n",
       "      <td>0.00</td>\n",
       "      <td>9.719854e+04</td>\n",
       "      <td>1.276442e+05</td>\n",
       "      <td>250898.09</td>\n",
       "    </tr>\n",
       "    <tr>\n",
       "      <th>NumOfProducts</th>\n",
       "      <td>10000.0</td>\n",
       "      <td>1.530200e+00</td>\n",
       "      <td>0.581654</td>\n",
       "      <td>1.00</td>\n",
       "      <td>1.00</td>\n",
       "      <td>1.000000e+00</td>\n",
       "      <td>2.000000e+00</td>\n",
       "      <td>4.00</td>\n",
       "    </tr>\n",
       "    <tr>\n",
       "      <th>HasCrCard</th>\n",
       "      <td>10000.0</td>\n",
       "      <td>7.055000e-01</td>\n",
       "      <td>0.455840</td>\n",
       "      <td>0.00</td>\n",
       "      <td>0.00</td>\n",
       "      <td>1.000000e+00</td>\n",
       "      <td>1.000000e+00</td>\n",
       "      <td>1.00</td>\n",
       "    </tr>\n",
       "    <tr>\n",
       "      <th>IsActiveMember</th>\n",
       "      <td>10000.0</td>\n",
       "      <td>5.151000e-01</td>\n",
       "      <td>0.499797</td>\n",
       "      <td>0.00</td>\n",
       "      <td>0.00</td>\n",
       "      <td>1.000000e+00</td>\n",
       "      <td>1.000000e+00</td>\n",
       "      <td>1.00</td>\n",
       "    </tr>\n",
       "    <tr>\n",
       "      <th>EstimatedSalary</th>\n",
       "      <td>10000.0</td>\n",
       "      <td>1.000902e+05</td>\n",
       "      <td>57510.492818</td>\n",
       "      <td>11.58</td>\n",
       "      <td>51002.11</td>\n",
       "      <td>1.001939e+05</td>\n",
       "      <td>1.493882e+05</td>\n",
       "      <td>199992.48</td>\n",
       "    </tr>\n",
       "    <tr>\n",
       "      <th>Exited</th>\n",
       "      <td>10000.0</td>\n",
       "      <td>2.037000e-01</td>\n",
       "      <td>0.402769</td>\n",
       "      <td>0.00</td>\n",
       "      <td>0.00</td>\n",
       "      <td>0.000000e+00</td>\n",
       "      <td>0.000000e+00</td>\n",
       "      <td>1.00</td>\n",
       "    </tr>\n",
       "  </tbody>\n",
       "</table>\n",
       "</div>"
      ],
      "text/plain": [
       "                   count          mean           std          min  \\\n",
       "RowNumber        10000.0  5.000500e+03   2886.895680         1.00   \n",
       "CustomerId       10000.0  1.569094e+07  71936.186123  15565701.00   \n",
       "CreditScore      10000.0  6.505288e+02     96.653299       350.00   \n",
       "Age              10000.0  3.892180e+01     10.487806        18.00   \n",
       "Tenure            9091.0  4.997690e+00      2.894723         0.00   \n",
       "Balance          10000.0  7.648589e+04  62397.405202         0.00   \n",
       "NumOfProducts    10000.0  1.530200e+00      0.581654         1.00   \n",
       "HasCrCard        10000.0  7.055000e-01      0.455840         0.00   \n",
       "IsActiveMember   10000.0  5.151000e-01      0.499797         0.00   \n",
       "EstimatedSalary  10000.0  1.000902e+05  57510.492818        11.58   \n",
       "Exited           10000.0  2.037000e-01      0.402769         0.00   \n",
       "\n",
       "                         25%           50%           75%          max  \n",
       "RowNumber            2500.75  5.000500e+03  7.500250e+03     10000.00  \n",
       "CustomerId       15628528.25  1.569074e+07  1.575323e+07  15815690.00  \n",
       "CreditScore           584.00  6.520000e+02  7.180000e+02       850.00  \n",
       "Age                    32.00  3.700000e+01  4.400000e+01        92.00  \n",
       "Tenure                  2.00  5.000000e+00  7.000000e+00        10.00  \n",
       "Balance                 0.00  9.719854e+04  1.276442e+05    250898.09  \n",
       "NumOfProducts           1.00  1.000000e+00  2.000000e+00         4.00  \n",
       "HasCrCard               0.00  1.000000e+00  1.000000e+00         1.00  \n",
       "IsActiveMember          0.00  1.000000e+00  1.000000e+00         1.00  \n",
       "EstimatedSalary     51002.11  1.001939e+05  1.493882e+05    199992.48  \n",
       "Exited                  0.00  0.000000e+00  0.000000e+00         1.00  "
      ]
     },
     "execution_count": 4,
     "metadata": {},
     "output_type": "execute_result"
    }
   ],
   "source": [
    "# Сводная информация о датафрейме\n",
    "df.describe().T"
   ]
  },
  {
   "cell_type": "code",
   "execution_count": 5,
   "metadata": {},
   "outputs": [
    {
     "data": {
      "text/plain": [
       "0"
      ]
     },
     "execution_count": 5,
     "metadata": {},
     "output_type": "execute_result"
    }
   ],
   "source": [
    "# Проверка отсутствия дубликатов строк\n",
    "df.duplicated().sum()"
   ]
  },
  {
   "cell_type": "markdown",
   "metadata": {},
   "source": [
    "Для заполнения пропусков в столбце `Tenure` воспользуемся следующим подходом: объединим всех заемщиков в условные возрастные группы (`young`, `middle_aged`, `old`).  \n",
    "\n",
    "Для каждой такой группы подсчитаем медиану по известным значениям из столбца `Tenure`."
   ]
  },
  {
   "cell_type": "code",
   "execution_count": 6,
   "metadata": {},
   "outputs": [],
   "source": [
    "# Дополнительно введем условные возрастные категории в отдельном столбце\n",
    "df['age_group'] = pd.cut(df['Age'], 3, labels=['young', 'middle_aged', 'old'])"
   ]
  },
  {
   "cell_type": "code",
   "execution_count": 7,
   "metadata": {
    "scrolled": true
   },
   "outputs": [
    {
     "data": {
      "text/plain": [
       "age_group\n",
       "young          5.0\n",
       "middle_aged    5.0\n",
       "old            5.0\n",
       "Name: Tenure, dtype: float64"
      ]
     },
     "execution_count": 7,
     "metadata": {},
     "output_type": "execute_result"
    }
   ],
   "source": [
    "# Вычислим медианные значения для каждой возрастной группы\n",
    "df.groupby('age_group')['Tenure'].median()"
   ]
  },
  {
   "cell_type": "code",
   "execution_count": 8,
   "metadata": {},
   "outputs": [
    {
     "data": {
      "text/plain": [
       "5.0"
      ]
     },
     "execution_count": 8,
     "metadata": {},
     "output_type": "execute_result"
    }
   ],
   "source": [
    "# Сравним с медианным значением для столбца 'Tenure' без учета деления на условные возрастные группы\n",
    "df['Tenure'].median()"
   ]
  },
  {
   "cell_type": "markdown",
   "metadata": {},
   "source": [
    "Выполненные расчеты наглядно показывают, что в данном случае деление на условные возрастные группы не дало каких-либо преимуществ для заполнения пропусков данных в столбце `Tenure` с привязкой к возрасту клиентов банка. \n",
    "\n",
    "Медианные значения для выделенных возрастных групп и без них полностью совпадают."
   ]
  },
  {
   "cell_type": "code",
   "execution_count": 9,
   "metadata": {},
   "outputs": [],
   "source": [
    "# Удаляем ранее введенный столбец 'age_group'\n",
    "df.drop('age_group', axis=1, inplace=True)"
   ]
  },
  {
   "cell_type": "code",
   "execution_count": 10,
   "metadata": {},
   "outputs": [],
   "source": [
    "# Заполним пропуски без учета деления на условные возрастные группы\n",
    "df['Tenure'].fillna(df['Tenure'].median(), inplace=True)"
   ]
  },
  {
   "cell_type": "markdown",
   "metadata": {},
   "source": [
    "### Вывод"
   ]
  },
  {
   "cell_type": "markdown",
   "metadata": {},
   "source": [
    "Первичный анализ данных показал наличие пропусков в столбце `Tenure`. Пропуски составляют приблизительно 9% от общего числа данных. Чтобы сохранить ценные данные для дальнейшего исследования, была предложена методика деления всех клиентов банка на условные возрастные группы с последующим заполнением пропусков в столбце `Tenure` медианным значением с привязкой к возрасту клиентов банка.  \n",
    "\n",
    "В рассматриваемом примере было установлено, что медиана по столбцу `Tenure` без деления на возрастные категории совпадает с медианными значениями при делении на условные возрастные категории."
   ]
  },
  {
   "cell_type": "markdown",
   "metadata": {},
   "source": [
    "## Исследование задачи"
   ]
  },
  {
   "cell_type": "code",
   "execution_count": 11,
   "metadata": {
    "scrolled": true
   },
   "outputs": [
    {
     "data": {
      "text/plain": [
       "0    0.7963\n",
       "1    0.2037\n",
       "Name: Exited, dtype: float64"
      ]
     },
     "execution_count": 11,
     "metadata": {},
     "output_type": "execute_result"
    }
   ],
   "source": [
    "# Проверим распределение меток класса в целевом признаке\n",
    "df['Exited'].value_counts(normalize=True)"
   ]
  },
  {
   "cell_type": "markdown",
   "metadata": {},
   "source": [
    "Всего около 20% (или 1/5) клиентов изначально отнесены к покинувшим банк (метка 1). Выявлен существенный дисбаланс классов."
   ]
  },
  {
   "cell_type": "code",
   "execution_count": 12,
   "metadata": {},
   "outputs": [],
   "source": [
    "# Отбросим признаки, которые не несут значимой информации 'RowNumber', 'CustomerId', 'Surname' и целеой признак 'Exited'\n",
    "features = df.drop(['RowNumber', 'CustomerId', 'Surname', 'Exited'], axis=1)\n",
    "target = df['Exited']"
   ]
  },
  {
   "cell_type": "markdown",
   "metadata": {},
   "source": [
    "Оставшиеся категориальные признаки `Geography` и `Gender` переведем в количественные по технике прямого кодирования «ohe»."
   ]
  },
  {
   "cell_type": "code",
   "execution_count": 13,
   "metadata": {},
   "outputs": [],
   "source": [
    "features = pd.get_dummies(features, drop_first=True)"
   ]
  },
  {
   "cell_type": "code",
   "execution_count": 14,
   "metadata": {},
   "outputs": [],
   "source": [
    "# Разделим датафрейм на полную обучающую 'features_full_train' ('target_full_train') и\n",
    "# тестовую выборки 'features_test' ('target_test')\n",
    "features_full_train, features_test, target_full_train, target_test  = train_test_split(\n",
    "    features, target, test_size=0.2, random_state=12345, stratify=target)\n",
    "\n",
    "# Разделим полную обучающую выборку на обучающую 'features_train' ('target_train') и\n",
    "# валидационную 'features_val' ('target_val')\n",
    "features_train, features_val, target_train, target_val = train_test_split(\n",
    "    features_full_train, target_full_train, test_size=0.25, random_state=12345, stratify=target_full_train)\n",
    "\n",
    "# 20% – первое разделение\n",
    "# 20%/80% = 1/4 (или 0.25) – второе разделение"
   ]
  },
  {
   "cell_type": "code",
   "execution_count": 15,
   "metadata": {},
   "outputs": [
    {
     "data": {
      "text/plain": [
       "(6000, 2000, 2000)"
      ]
     },
     "execution_count": 15,
     "metadata": {},
     "output_type": "execute_result"
    }
   ],
   "source": [
    "# Разделение исходного датафрейма 'features' ('target') в пропорции 60:20:20\n",
    "len(features_train), len(features_val), len(features_test)"
   ]
  },
  {
   "cell_type": "code",
   "execution_count": 16,
   "metadata": {
    "scrolled": true
   },
   "outputs": [
    {
     "name": "stdout",
     "output_type": "stream",
     "text": [
      "0    0.796167\n",
      "1    0.203833\n",
      "Name: Exited, dtype: float64\n",
      "0    0.7965\n",
      "1    0.2035\n",
      "Name: Exited, dtype: float64\n",
      "0    0.7965\n",
      "1    0.2035\n",
      "Name: Exited, dtype: float64\n"
     ]
    }
   ],
   "source": [
    "# Применение параметра 'stratify' на предыдущем этапе позволило получить равное распределение целевого признака в выборках\n",
    "for target in [target_train, target_val, target_test]:\n",
    "    print(target.value_counts(normalize=True))"
   ]
  },
  {
   "cell_type": "code",
   "execution_count": 17,
   "metadata": {},
   "outputs": [],
   "source": [
    "# Выделим столбцы для масштабирования в отдельную переменную\n",
    "numeric_columns = ['CreditScore', 'Age', 'Tenure', 'Balance', 'NumOfProducts', 'EstimatedSalary']"
   ]
  },
  {
   "cell_type": "code",
   "execution_count": 18,
   "metadata": {},
   "outputs": [],
   "source": [
    "# Выполним процедуру масштабирования (стандартизации данных)\n",
    "scaler = StandardScaler()\n",
    "scaler.fit(features_train[numeric_columns])\n",
    "\n",
    "features_train[numeric_columns] = scaler.transform(features_train[numeric_columns])\n",
    "features_val[numeric_columns] = scaler.transform(features_val[numeric_columns])\n",
    "features_test[numeric_columns] = scaler.transform(features_test[numeric_columns])"
   ]
  },
  {
   "cell_type": "code",
   "execution_count": 19,
   "metadata": {},
   "outputs": [],
   "source": [
    "# Создадим функцию для обучения и предсказания по моделям классификации\n",
    "def unbalanced(model_type, features_train, target_train, features_val, target_val):\n",
    "    model = model_type(random_state=12345)\n",
    "    model.fit(features_train, target_train)\n",
    "    model_predictions = model.predict(features_val)\n",
    "    \n",
    "    probabilities_valid = model.predict_proba(features_val)\n",
    "    probabilities_one_valid = probabilities_valid[:, 1]\n",
    "    \n",
    "    f1_final_score = f1_score(target_val, model_predictions)\n",
    "    roc_auc_final_score = roc_auc_score(target_val, probabilities_one_valid)\n",
    "       \n",
    "    print(f'F1: {(f1_final_score):.3f}, модель {type(model).__name__}')\n",
    "    print(f'AUC-ROC: {(roc_auc_final_score):.3f}, модель {type(model).__name__}')\n",
    "    print()"
   ]
  },
  {
   "cell_type": "code",
   "execution_count": 20,
   "metadata": {
    "scrolled": true
   },
   "outputs": [
    {
     "name": "stdout",
     "output_type": "stream",
     "text": [
      "F1: 0.500, модель DecisionTreeClassifier\n",
      "AUC-ROC: 0.688, модель DecisionTreeClassifier\n",
      "\n",
      "F1: 0.556, модель RandomForestClassifier\n",
      "AUC-ROC: 0.853, модель RandomForestClassifier\n",
      "\n",
      "F1: 0.321, модель LogisticRegression\n",
      "AUC-ROC: 0.788, модель LogisticRegression\n",
      "\n"
     ]
    }
   ],
   "source": [
    "# Вызов функции с разными моделями классификации\n",
    "for model in [DecisionTreeClassifier, RandomForestClassifier, LogisticRegression]:\n",
    "    unbalanced(model, features_train, target_train, features_val, target_val)"
   ]
  },
  {
   "cell_type": "markdown",
   "metadata": {},
   "source": [
    "### Вывод"
   ]
  },
  {
   "cell_type": "markdown",
   "metadata": {},
   "source": [
    "Все предложенные модели для несбалансированных данных дали результат меньше порогового в условиях задания (0,59). Наиболее близко к желаемому значению метрики F1 оказалась модель случайного леса с результатом 0,53."
   ]
  },
  {
   "cell_type": "markdown",
   "metadata": {},
   "source": [
    "## Борьба с дисбалансом"
   ]
  },
  {
   "cell_type": "markdown",
   "metadata": {},
   "source": [
    "**Взвешивание классов**"
   ]
  },
  {
   "cell_type": "code",
   "execution_count": 21,
   "metadata": {},
   "outputs": [],
   "source": [
    "# Добавляем параметр 'class_weight='balanced'\n",
    "def balanced(model_type, features_train, target_train, features_val, target_val):\n",
    "    model = model_type(random_state=12345, class_weight='balanced')\n",
    "    model.fit(features_train, target_train)\n",
    "    model_predictions = model.predict(features_val)\n",
    "    \n",
    "    probabilities_valid = model.predict_proba(features_val)\n",
    "    probabilities_one_valid = probabilities_valid[:, 1]\n",
    "    \n",
    "    f1_final_score = f1_score(target_val, model_predictions)\n",
    "    roc_auc_final_score = roc_auc_score(target_val, probabilities_one_valid)\n",
    "       \n",
    "    print(f'F1: {(f1_final_score):.3f}, модель {type(model).__name__}')\n",
    "    print(f'AUC-ROC: {(roc_auc_final_score):.3f}, модель {type(model).__name__}')\n",
    "    print()"
   ]
  },
  {
   "cell_type": "code",
   "execution_count": 22,
   "metadata": {
    "scrolled": true
   },
   "outputs": [
    {
     "name": "stdout",
     "output_type": "stream",
     "text": [
      "F1: 0.496, модель DecisionTreeClassifier\n",
      "AUC-ROC: 0.683, модель DecisionTreeClassifier\n",
      "\n",
      "F1: 0.554, модель RandomForestClassifier\n",
      "AUC-ROC: 0.855, модель RandomForestClassifier\n",
      "\n",
      "F1: 0.511, модель LogisticRegression\n",
      "AUC-ROC: 0.792, модель LogisticRegression\n",
      "\n"
     ]
    }
   ],
   "source": [
    "for model in [DecisionTreeClassifier, RandomForestClassifier, LogisticRegression]:\n",
    "    balanced(model, features_train, target_train, features_val, target_val)"
   ]
  },
  {
   "cell_type": "markdown",
   "metadata": {},
   "source": [
    "**Уменьшение выборки (downsampling)**"
   ]
  },
  {
   "cell_type": "code",
   "execution_count": 23,
   "metadata": {},
   "outputs": [],
   "source": [
    "def downsample(features, target, fraction):\n",
    "    features_zeros = features[target == 0]\n",
    "    features_ones = features[target == 1]\n",
    "    target_zeros = target[target == 0]\n",
    "    target_ones = target[target == 1]\n",
    "    \n",
    "    features_downsampled = pd.concat([features_zeros.sample(frac=fraction, random_state=12345)] + [features_ones])\n",
    "    target_downsampled = pd.concat([target_zeros.sample(frac=fraction, random_state=12345)] + [target_ones])\n",
    "    \n",
    "    features_downsampled, target_downsampled = shuffle(features_downsampled, target_downsampled, random_state=12345)\n",
    "    \n",
    "    return features_downsampled, target_downsampled"
   ]
  },
  {
   "cell_type": "code",
   "execution_count": 24,
   "metadata": {},
   "outputs": [
    {
     "data": {
      "text/plain": [
       "0    0.503854\n",
       "1    0.496146\n",
       "Name: Exited, dtype: float64"
      ]
     },
     "execution_count": 24,
     "metadata": {},
     "output_type": "execute_result"
    }
   ],
   "source": [
    "# Выполнение функции\n",
    "features_train_downsampled, target_train_downsampled = downsample(features_train, target_train, 0.26)\n",
    "\n",
    "# Проверка сбалансированности классов\n",
    "target_train_downsampled.value_counts(normalize=True)"
   ]
  },
  {
   "cell_type": "code",
   "execution_count": 25,
   "metadata": {
    "scrolled": true
   },
   "outputs": [
    {
     "name": "stdout",
     "output_type": "stream",
     "text": [
      "F1: 0.473, модель DecisionTreeClassifier\n",
      "AUC-ROC: 0.687, модель DecisionTreeClassifier\n",
      "\n",
      "F1: 0.606, модель RandomForestClassifier\n",
      "AUC-ROC: 0.864, модель RandomForestClassifier\n",
      "\n",
      "F1: 0.514, модель LogisticRegression\n",
      "AUC-ROC: 0.791, модель LogisticRegression\n",
      "\n"
     ]
    }
   ],
   "source": [
    "for model in [DecisionTreeClassifier, RandomForestClassifier, LogisticRegression]:\n",
    "    unbalanced(model, features_train_downsampled, target_train_downsampled, features_val, target_val)"
   ]
  },
  {
   "cell_type": "markdown",
   "metadata": {},
   "source": [
    "**Увеличение выборки (upsampling)**"
   ]
  },
  {
   "cell_type": "code",
   "execution_count": 26,
   "metadata": {},
   "outputs": [],
   "source": [
    "def upsample(features, target, repeat):\n",
    "    features_zeros = features[target == 0]\n",
    "    features_ones = features[target == 1]\n",
    "    target_zeros = target[target == 0]\n",
    "    target_ones = target[target == 1]\n",
    "    \n",
    "    features_upsampled = pd.concat([features_zeros] + [features_ones] * repeat)\n",
    "    target_upsampled = pd.concat([target_zeros] + [target_ones] * repeat)\n",
    "    \n",
    "    features_upsampled, target_upsampled = shuffle(features_upsampled, target_upsampled, random_state=12345)\n",
    "    \n",
    "    return features_upsampled, target_upsampled"
   ]
  },
  {
   "cell_type": "code",
   "execution_count": 27,
   "metadata": {},
   "outputs": [
    {
     "data": {
      "text/plain": [
       "1    0.505947\n",
       "0    0.494053\n",
       "Name: Exited, dtype: float64"
      ]
     },
     "execution_count": 27,
     "metadata": {},
     "output_type": "execute_result"
    }
   ],
   "source": [
    "# Выполнение функции\n",
    "features_train_upsampled, target_train_upsampled = upsample(features_train, target_train, 4)\n",
    "# repeat=4 – подобрано экспериментальным путем\n",
    "\n",
    "# Проверка сбалансированности классов\n",
    "target_train_upsampled.value_counts(normalize=True)"
   ]
  },
  {
   "cell_type": "code",
   "execution_count": 28,
   "metadata": {
    "scrolled": false
   },
   "outputs": [
    {
     "name": "stdout",
     "output_type": "stream",
     "text": [
      "F1: 0.500, модель DecisionTreeClassifier\n",
      "AUC-ROC: 0.687, модель DecisionTreeClassifier\n",
      "\n",
      "F1: 0.596, модель RandomForestClassifier\n",
      "AUC-ROC: 0.852, модель RandomForestClassifier\n",
      "\n",
      "F1: 0.507, модель LogisticRegression\n",
      "AUC-ROC: 0.792, модель LogisticRegression\n",
      "\n"
     ]
    }
   ],
   "source": [
    "for model in [DecisionTreeClassifier, RandomForestClassifier, LogisticRegression]:\n",
    "    unbalanced(model, features_train_upsampled, target_train_upsampled, features_val, target_val)"
   ]
  },
  {
   "cell_type": "markdown",
   "metadata": {},
   "source": [
    "Наилучший результат для метрик F1 и AUC-ROC показала модель RandomForestClassifier с уменьшенной выборкой (downsampling)."
   ]
  },
  {
   "cell_type": "markdown",
   "metadata": {},
   "source": [
    "**Подбор гиперпараметров для модели**"
   ]
  },
  {
   "cell_type": "code",
   "execution_count": 29,
   "metadata": {
    "scrolled": true
   },
   "outputs": [
    {
     "name": "stdout",
     "output_type": "stream",
     "text": [
      "Лучшая модель: RandomForestClassifier(max_depth=10, n_estimators=61, random_state=12345) \n",
      " F1-мера: 0.626\n"
     ]
    }
   ],
   "source": [
    "best_model = None\n",
    "best_f1_result = 0\n",
    "best_est = 0\n",
    "best_depth = 0\n",
    "\n",
    "for est in range(1, 101, 10):\n",
    "    for depth in range(1, 11):\n",
    "        model_RFC_downsampled = RandomForestClassifier(random_state=12345, n_estimators=est, max_depth=depth)\n",
    "        model_RFC_downsampled.fit(features_train_downsampled, target_train_downsampled)\n",
    "        pred_RFC_downsampled = model_RFC_downsampled.predict(features_val)\n",
    "        \n",
    "        f1_RFC_downsampled = f1_score(target_val, pred_RFC_downsampled)\n",
    "\n",
    "        if f1_RFC_downsampled > best_f1_result:\n",
    "            best_model = model_RFC_downsampled\n",
    "            best_f1_result = f1_RFC_downsampled\n",
    "            best_est = est\n",
    "            best_depth = depth\n",
    "                \n",
    "            \n",
    "print(f'Лучшая модель: {best_model}', '\\n',\n",
    "      f'F1-мера: {(best_f1_result):.3f}')"
   ]
  },
  {
   "cell_type": "code",
   "execution_count": 30,
   "metadata": {},
   "outputs": [
    {
     "name": "stdout",
     "output_type": "stream",
     "text": [
      "Лучшая модель: RandomForestClassifier(max_depth=9, n_estimators=21, random_state=12345) \n",
      " F1-мера: 0.634\n"
     ]
    }
   ],
   "source": [
    "# Увеличение выборки (upsampling)\n",
    "\n",
    "best_model_upsampled = None\n",
    "best_f1_result = 0\n",
    "\n",
    "\n",
    "for est in range(1, 101, 10):\n",
    "    for depth in range(1, 11):\n",
    "        model_RFC_upsampled = RandomForestClassifier(random_state=12345, n_estimators=est, max_depth=depth)\n",
    "        model_RFC_upsampled.fit(features_train_upsampled, target_train_upsampled)\n",
    "        pred_RFC_upsampled = model_RFC_upsampled.predict(features_val)\n",
    "        \n",
    "        f1_RFC_upsampled = f1_score(target_val, pred_RFC_upsampled)\n",
    "\n",
    "        if f1_RFC_upsampled > best_f1_result:\n",
    "            best_model_upsampled = model_RFC_upsampled\n",
    "            best_f1_result = f1_RFC_upsampled\n",
    "                \n",
    "            \n",
    "print(f'Лучшая модель: {best_model_upsampled}', '\\n',\n",
    "      f'F1-мера: {(best_f1_result):.3f}')"
   ]
  },
  {
   "cell_type": "code",
   "execution_count": 31,
   "metadata": {},
   "outputs": [
    {
     "name": "stdout",
     "output_type": "stream",
     "text": [
      "Лучшая модель: RandomForestClassifier(class_weight='balanced', max_depth=9, n_estimators=91,\n",
      "                       random_state=12345) \n",
      " F1-мера: 0.639\n"
     ]
    }
   ],
   "source": [
    "# Взвешивание классов\n",
    "\n",
    "best_model_weighted = None\n",
    "best_f1_result = 0\n",
    "\n",
    "\n",
    "for est in range(1, 101, 10):\n",
    "    for depth in range(1, 11):\n",
    "        model_RFC_weighted = RandomForestClassifier(class_weight='balanced',\n",
    "                                                    random_state=12345, n_estimators=est, max_depth=depth)\n",
    "        model_RFC_weighted.fit(features_train, target_train)\n",
    "        pred_RFC_weighted = model_RFC_weighted.predict(features_val)\n",
    "        \n",
    "        f1_RFC_weighted = f1_score(target_val, pred_RFC_weighted)\n",
    "\n",
    "        if f1_RFC_weighted > best_f1_result:\n",
    "            best_model_weighted = model_RFC_weighted\n",
    "            best_f1_result = f1_RFC_weighted\n",
    "                \n",
    "            \n",
    "print(f'Лучшая модель: {best_model_weighted}', '\\n',\n",
    "      f'F1-мера: {(best_f1_result):.3f}')"
   ]
  },
  {
   "cell_type": "markdown",
   "metadata": {},
   "source": [
    "### Вывод"
   ]
  },
  {
   "cell_type": "markdown",
   "metadata": {},
   "source": [
    "В данном разделе были применены подходы для борьбы с дисбалансом целевых признаков. Наибольший показатель контрольной метрики F1 удалось достигнуть при использовании взвешивания классов (class_weight='balanced') для модели RandomForestClassifier.\n",
    "\n",
    "Для этой модели был выполнен подбор оптимальных гиперпараметров (n_estimators и max_depth (или количество деревьев, их глубина)). Это позволило улучшить показатель целевой метрики F1 до значения (округлено до 0,64) на валидационной выборке, что превосходит пороговое значение (0,59) из условий задания."
   ]
  },
  {
   "cell_type": "markdown",
   "metadata": {},
   "source": [
    "## Тестирование модели"
   ]
  },
  {
   "cell_type": "code",
   "execution_count": 32,
   "metadata": {},
   "outputs": [
    {
     "name": "stdout",
     "output_type": "stream",
     "text": [
      "F1-мера: 0.611\n",
      "AUC-ROC: 0.864\n"
     ]
    }
   ],
   "source": [
    "# Уменьшение выборки (downsampling)\n",
    "\n",
    "final_test_model = best_model\n",
    "\n",
    "final_test_predict = final_test_model.predict(features_test)\n",
    "f1_final_test = f1_score(target_test, final_test_predict)\n",
    "\n",
    "final_test_prob = final_test_model.predict_proba(features_test)\n",
    "final_test_prob_one = final_test_prob[:, 1]\n",
    "roc_auc_final_test = roc_auc_score(target_test, final_test_prob_one)\n",
    "\n",
    "print(f'F1-мера: {(f1_final_test):.3f}')\n",
    "print(f'AUC-ROC: {(roc_auc_final_test):.3f}')"
   ]
  },
  {
   "cell_type": "code",
   "execution_count": 33,
   "metadata": {},
   "outputs": [
    {
     "name": "stdout",
     "output_type": "stream",
     "text": [
      "F1-мера: 0.611\n",
      "AUC-ROC: 0.858\n"
     ]
    }
   ],
   "source": [
    "# Увеличение выборки (upsampling)\n",
    "\n",
    "final_test_model = best_model_upsampled\n",
    "\n",
    "final_test_predict = final_test_model.predict(features_test)\n",
    "f1_final_test = f1_score(target_test, final_test_predict)\n",
    "\n",
    "final_test_prob = final_test_model.predict_proba(features_test)\n",
    "final_test_prob_one = final_test_prob[:, 1]\n",
    "roc_auc_final_test = roc_auc_score(target_test, final_test_prob_one)\n",
    "\n",
    "print(f'F1-мера: {(f1_final_test):.3f}')\n",
    "print(f'AUC-ROC: {(roc_auc_final_test):.3f}')"
   ]
  },
  {
   "cell_type": "code",
   "execution_count": 34,
   "metadata": {},
   "outputs": [
    {
     "name": "stdout",
     "output_type": "stream",
     "text": [
      "F1-мера: 0.629\n",
      "AUC-ROC: 0.863\n",
      "\n"
     ]
    },
    {
     "data": {
      "image/png": "[encoded data removed]",
      "text/plain": [
       "<Figure size 432x288 with 1 Axes>"
      ]
     },
     "metadata": {
      "needs_background": "light"
     },
     "output_type": "display_data"
    }
   ],
   "source": [
    "# Взвешивание классов\n",
    "\n",
    "final_test_model = best_model_weighted\n",
    "\n",
    "final_test_predict = final_test_model.predict(features_test)\n",
    "f1_final_test = f1_score(target_test, final_test_predict)\n",
    "\n",
    "final_test_prob = final_test_model.predict_proba(features_test)\n",
    "final_test_prob_one = final_test_prob[:, 1]\n",
    "roc_auc_final_test = roc_auc_score(target_test, final_test_prob_one)\n",
    "\n",
    "print(f'F1-мера: {(f1_final_test):.3f}')\n",
    "print(f'AUC-ROC: {(roc_auc_final_test):.3f}')\n",
    "print()\n",
    "\n",
    "# Построение графика ROC-кривой\n",
    "fpr, tpr, thresholds = roc_curve(target_test, final_test_prob_one)\n",
    "\n",
    "plt.figure()\n",
    "plt.plot(fpr, tpr)\n",
    "\n",
    "plt.plot([0, 1], [0, 1], linestyle='--')\n",
    "\n",
    "plt.ylim([0.0, 1.0])\n",
    "plt.xlim([0.0, 1.0])\n",
    "\n",
    "plt.xlabel('False Positive Rate')\n",
    "plt.ylabel('True Positive Rate')\n",
    "\n",
    "plt.title('ROC-кривая')\n",
    "plt.show()"
   ]
  },
  {
   "cell_type": "markdown",
   "metadata": {},
   "source": [
    "### Вывод"
   ]
  },
  {
   "cell_type": "markdown",
   "metadata": {},
   "source": [
    "На тестовой выборке достигнут результат контрольной метрики F1 равный 0,64 (округлено) для модели RandomForestClassifier с взвешиванием классов и подбором гиперпараметров, что превосходит пороговое значение (0,59) по условиям задания.\n",
    "\n",
    "Метрика AUC-ROC на тестовой выборке имеет максимальное значение 0,86. Что подтверждает правильность в подходе выбора классификатора.\n",
    "\n",
    "Cтоит отметить, что модель с применением уменьшения выборки (downsampling) имеет аналогичный показатель AUC-ROC на тестовой выборке, но меньший показатель F1."
   ]
  }
 ],
 "metadata": {
  "ExecuteTimeLog": [
   {
    "duration": 447,
    "start_time": "2022-01-15T08:14:06.020Z"
   },
   {
    "duration": 794,
    "start_time": "2022-01-15T08:14:25.674Z"
   },
   {
    "duration": 389,
    "start_time": "2022-01-15T08:14:28.469Z"
   },
   {
    "duration": 59,
    "start_time": "2022-01-15T08:14:37.313Z"
   },
   {
    "duration": 13,
    "start_time": "2022-01-15T08:22:54.235Z"
   },
   {
    "duration": 17,
    "start_time": "2022-01-15T08:37:05.184Z"
   },
   {
    "duration": 19,
    "start_time": "2022-01-15T08:40:44.426Z"
   },
   {
    "duration": 66,
    "start_time": "2022-01-15T08:40:49.297Z"
   },
   {
    "duration": 61,
    "start_time": "2022-01-15T08:40:56.442Z"
   },
   {
    "duration": 65,
    "start_time": "2022-01-15T08:42:17.743Z"
   },
   {
    "duration": 782,
    "start_time": "2022-01-15T09:23:18.709Z"
   },
   {
    "duration": 350,
    "start_time": "2022-01-15T09:24:28.525Z"
   },
   {
    "duration": 1779,
    "start_time": "2022-01-15T09:24:58.913Z"
   },
   {
    "duration": 54,
    "start_time": "2022-01-15T09:25:03.745Z"
   },
   {
    "duration": 482,
    "start_time": "2022-01-15T09:25:09.209Z"
   },
   {
    "duration": 316,
    "start_time": "2022-01-15T09:25:18.290Z"
   },
   {
    "duration": 331,
    "start_time": "2022-01-15T09:27:53.312Z"
   },
   {
    "duration": 1478,
    "start_time": "2022-01-15T09:31:38.480Z"
   },
   {
    "duration": 58,
    "start_time": "2022-01-15T09:31:39.960Z"
   },
   {
    "duration": 11,
    "start_time": "2022-01-15T09:31:40.021Z"
   },
   {
    "duration": 80,
    "start_time": "2022-01-15T09:31:40.035Z"
   },
   {
    "duration": 17,
    "start_time": "2022-01-15T09:31:40.117Z"
   },
   {
    "duration": 37,
    "start_time": "2022-01-15T09:36:11.583Z"
   },
   {
    "duration": 21,
    "start_time": "2022-01-15T09:36:52.702Z"
   },
   {
    "duration": 9,
    "start_time": "2022-01-15T09:37:22.954Z"
   },
   {
    "duration": 468,
    "start_time": "2022-01-15T09:37:48.091Z"
   },
   {
    "duration": 347,
    "start_time": "2022-01-15T09:37:59.351Z"
   },
   {
    "duration": 8,
    "start_time": "2022-01-15T09:38:03.159Z"
   },
   {
    "duration": 9,
    "start_time": "2022-01-15T09:39:07.632Z"
   },
   {
    "duration": 8,
    "start_time": "2022-01-15T09:39:20.506Z"
   },
   {
    "duration": 10,
    "start_time": "2022-01-15T09:41:58.261Z"
   },
   {
    "duration": 2159,
    "start_time": "2022-01-15T09:42:20.576Z"
   },
   {
    "duration": 9,
    "start_time": "2022-01-15T09:42:28.543Z"
   },
   {
    "duration": 12,
    "start_time": "2022-01-15T09:43:12.308Z"
   },
   {
    "duration": 9,
    "start_time": "2022-01-15T09:53:19.741Z"
   },
   {
    "duration": 20,
    "start_time": "2022-01-15T09:53:29.340Z"
   },
   {
    "duration": 13,
    "start_time": "2022-01-15T09:56:40.575Z"
   },
   {
    "duration": 22,
    "start_time": "2022-01-15T09:56:41.656Z"
   },
   {
    "duration": 8,
    "start_time": "2022-01-15T09:57:13.628Z"
   },
   {
    "duration": 32,
    "start_time": "2022-01-15T09:57:14.405Z"
   },
   {
    "duration": 8898,
    "start_time": "2022-01-15T09:57:26.857Z"
   },
   {
    "duration": 329,
    "start_time": "2022-01-15T09:57:50.990Z"
   },
   {
    "duration": 115,
    "start_time": "2022-01-15T09:57:59.737Z"
   },
   {
    "duration": 106,
    "start_time": "2022-01-15T09:59:03.342Z"
   },
   {
    "duration": 35,
    "start_time": "2022-01-15T09:59:10.358Z"
   },
   {
    "duration": 9,
    "start_time": "2022-01-15T09:59:23.370Z"
   },
   {
    "duration": 34,
    "start_time": "2022-01-15T09:59:24.476Z"
   },
   {
    "duration": 13,
    "start_time": "2022-01-15T09:59:31.738Z"
   },
   {
    "duration": 32,
    "start_time": "2022-01-15T09:59:32.626Z"
   },
   {
    "duration": 20,
    "start_time": "2022-01-15T09:59:48.112Z"
   },
   {
    "duration": 8,
    "start_time": "2022-01-15T09:59:59.687Z"
   },
   {
    "duration": 25,
    "start_time": "2022-01-15T10:00:00.463Z"
   },
   {
    "duration": 48,
    "start_time": "2022-01-15T10:00:06.551Z"
   },
   {
    "duration": 13,
    "start_time": "2022-01-15T10:00:14.358Z"
   },
   {
    "duration": 42,
    "start_time": "2022-01-15T10:00:15.656Z"
   },
   {
    "duration": 10,
    "start_time": "2022-01-15T10:00:59.180Z"
   },
   {
    "duration": 41,
    "start_time": "2022-01-15T10:01:00.567Z"
   },
   {
    "duration": 32,
    "start_time": "2022-01-15T10:01:12.697Z"
   },
   {
    "duration": 103,
    "start_time": "2022-01-15T10:05:23.801Z"
   },
   {
    "duration": 11,
    "start_time": "2022-01-15T10:05:28.802Z"
   },
   {
    "duration": 17,
    "start_time": "2022-01-15T10:06:13.640Z"
   },
   {
    "duration": 47,
    "start_time": "2022-01-15T10:06:26.748Z"
   },
   {
    "duration": 8,
    "start_time": "2022-01-15T10:06:57.860Z"
   },
   {
    "duration": 10,
    "start_time": "2022-01-15T10:08:07.217Z"
   },
   {
    "duration": 10,
    "start_time": "2022-01-15T10:08:26.861Z"
   },
   {
    "duration": 10,
    "start_time": "2022-01-15T10:08:38.485Z"
   },
   {
    "duration": 9,
    "start_time": "2022-01-15T10:08:50.622Z"
   },
   {
    "duration": 9,
    "start_time": "2022-01-15T10:09:15.750Z"
   },
   {
    "duration": 14,
    "start_time": "2022-01-15T10:10:50.788Z"
   },
   {
    "duration": 14,
    "start_time": "2022-01-15T10:10:55.692Z"
   },
   {
    "duration": 42,
    "start_time": "2022-01-15T10:11:11.783Z"
   },
   {
    "duration": 65,
    "start_time": "2022-01-15T10:11:23.464Z"
   },
   {
    "duration": 7,
    "start_time": "2022-01-15T10:13:28.302Z"
   },
   {
    "duration": 10,
    "start_time": "2022-01-15T10:14:50.371Z"
   },
   {
    "duration": 12,
    "start_time": "2022-01-15T10:14:51.537Z"
   },
   {
    "duration": 7,
    "start_time": "2022-01-15T10:14:52.586Z"
   },
   {
    "duration": 8,
    "start_time": "2022-01-15T10:20:12.211Z"
   },
   {
    "duration": 8,
    "start_time": "2022-01-15T10:20:31.602Z"
   },
   {
    "duration": 9,
    "start_time": "2022-01-15T10:21:04.618Z"
   },
   {
    "duration": 7,
    "start_time": "2022-01-15T10:22:30.647Z"
   },
   {
    "duration": 3,
    "start_time": "2022-01-15T10:29:03.465Z"
   },
   {
    "duration": 6,
    "start_time": "2022-01-15T10:30:23.686Z"
   },
   {
    "duration": 19,
    "start_time": "2022-01-15T10:30:30.538Z"
   },
   {
    "duration": 1734,
    "start_time": "2022-01-15T10:32:37.771Z"
   },
   {
    "duration": 60,
    "start_time": "2022-01-15T10:32:39.508Z"
   },
   {
    "duration": 13,
    "start_time": "2022-01-15T10:32:39.571Z"
   },
   {
    "duration": 91,
    "start_time": "2022-01-15T10:32:39.587Z"
   },
   {
    "duration": 16,
    "start_time": "2022-01-15T10:32:39.681Z"
   },
   {
    "duration": 9,
    "start_time": "2022-01-15T10:32:39.699Z"
   },
   {
    "duration": 16,
    "start_time": "2022-01-15T10:32:39.710Z"
   },
   {
    "duration": 43,
    "start_time": "2022-01-15T10:32:39.730Z"
   },
   {
    "duration": 7,
    "start_time": "2022-01-15T10:32:39.777Z"
   },
   {
    "duration": 9,
    "start_time": "2022-01-15T10:32:39.788Z"
   },
   {
    "duration": 9,
    "start_time": "2022-01-15T10:33:58.852Z"
   },
   {
    "duration": 9,
    "start_time": "2022-01-15T10:33:59.931Z"
   },
   {
    "duration": 8,
    "start_time": "2022-01-15T10:34:05.924Z"
   },
   {
    "duration": 11,
    "start_time": "2022-01-15T10:34:06.628Z"
   },
   {
    "duration": 8,
    "start_time": "2022-01-15T10:34:11.003Z"
   },
   {
    "duration": 10,
    "start_time": "2022-01-15T10:34:11.658Z"
   },
   {
    "duration": 6,
    "start_time": "2022-01-15T10:34:12.851Z"
   },
   {
    "duration": 11,
    "start_time": "2022-01-15T10:34:25.568Z"
   },
   {
    "duration": 10,
    "start_time": "2022-01-15T10:34:26.351Z"
   },
   {
    "duration": 7,
    "start_time": "2022-01-15T10:34:27.743Z"
   },
   {
    "duration": 8,
    "start_time": "2022-01-15T10:34:35.095Z"
   },
   {
    "duration": 11,
    "start_time": "2022-01-15T10:34:35.912Z"
   },
   {
    "duration": 55,
    "start_time": "2022-01-15T10:34:53.552Z"
   },
   {
    "duration": 10,
    "start_time": "2022-01-15T10:35:01.976Z"
   },
   {
    "duration": 10,
    "start_time": "2022-01-15T10:35:02.927Z"
   },
   {
    "duration": 7,
    "start_time": "2022-01-15T10:35:15.104Z"
   },
   {
    "duration": 823,
    "start_time": "2022-01-15T10:36:52.006Z"
   },
   {
    "duration": 10,
    "start_time": "2022-01-15T10:36:53.045Z"
   },
   {
    "duration": 9,
    "start_time": "2022-01-15T10:37:16.995Z"
   },
   {
    "duration": 10,
    "start_time": "2022-01-15T10:37:18.539Z"
   },
   {
    "duration": 7,
    "start_time": "2022-01-15T10:37:19.586Z"
   },
   {
    "duration": 588,
    "start_time": "2022-01-15T10:38:58.427Z"
   },
   {
    "duration": 12,
    "start_time": "2022-01-15T10:38:59.163Z"
   },
   {
    "duration": 7,
    "start_time": "2022-01-15T10:39:00.851Z"
   },
   {
    "duration": 318,
    "start_time": "2022-01-15T10:39:27.948Z"
   },
   {
    "duration": 8,
    "start_time": "2022-01-15T10:39:58.291Z"
   },
   {
    "duration": 9,
    "start_time": "2022-01-15T10:39:59.843Z"
   },
   {
    "duration": 7,
    "start_time": "2022-01-15T10:40:00.656Z"
   },
   {
    "duration": 8,
    "start_time": "2022-01-15T10:40:26.236Z"
   },
   {
    "duration": 9,
    "start_time": "2022-01-15T10:40:27.189Z"
   },
   {
    "duration": 7,
    "start_time": "2022-01-15T10:40:28.956Z"
   },
   {
    "duration": 8,
    "start_time": "2022-01-15T10:40:39.976Z"
   },
   {
    "duration": 10,
    "start_time": "2022-01-15T10:40:40.623Z"
   },
   {
    "duration": 7,
    "start_time": "2022-01-15T10:40:41.455Z"
   },
   {
    "duration": 1521,
    "start_time": "2022-01-15T10:40:57.935Z"
   },
   {
    "duration": 59,
    "start_time": "2022-01-15T10:40:59.459Z"
   },
   {
    "duration": 12,
    "start_time": "2022-01-15T10:40:59.520Z"
   },
   {
    "duration": 79,
    "start_time": "2022-01-15T10:40:59.535Z"
   },
   {
    "duration": 17,
    "start_time": "2022-01-15T10:40:59.617Z"
   },
   {
    "duration": 31,
    "start_time": "2022-01-15T10:40:59.636Z"
   },
   {
    "duration": 14,
    "start_time": "2022-01-15T10:40:59.670Z"
   },
   {
    "duration": 6,
    "start_time": "2022-01-15T10:40:59.688Z"
   },
   {
    "duration": 7,
    "start_time": "2022-01-15T10:40:59.696Z"
   },
   {
    "duration": 7,
    "start_time": "2022-01-15T10:40:59.706Z"
   },
   {
    "duration": 11,
    "start_time": "2022-01-15T10:41:15.993Z"
   },
   {
    "duration": 470,
    "start_time": "2022-01-15T10:52:51.198Z"
   },
   {
    "duration": 1553,
    "start_time": "2022-01-15T10:53:04.800Z"
   },
   {
    "duration": 54,
    "start_time": "2022-01-15T10:53:06.356Z"
   },
   {
    "duration": 13,
    "start_time": "2022-01-15T10:53:06.412Z"
   },
   {
    "duration": 82,
    "start_time": "2022-01-15T10:53:06.428Z"
   },
   {
    "duration": 18,
    "start_time": "2022-01-15T10:53:06.512Z"
   },
   {
    "duration": 14,
    "start_time": "2022-01-15T10:53:06.532Z"
   },
   {
    "duration": 28,
    "start_time": "2022-01-15T10:53:06.548Z"
   },
   {
    "duration": 10,
    "start_time": "2022-01-15T10:53:06.579Z"
   },
   {
    "duration": 15,
    "start_time": "2022-01-15T10:53:06.592Z"
   },
   {
    "duration": 19,
    "start_time": "2022-01-15T10:53:06.609Z"
   },
   {
    "duration": 520,
    "start_time": "2022-01-15T10:53:22.545Z"
   },
   {
    "duration": 1473,
    "start_time": "2022-01-15T10:53:28.900Z"
   },
   {
    "duration": 55,
    "start_time": "2022-01-15T10:53:30.375Z"
   },
   {
    "duration": 12,
    "start_time": "2022-01-15T10:53:30.433Z"
   },
   {
    "duration": 73,
    "start_time": "2022-01-15T10:53:30.448Z"
   },
   {
    "duration": 15,
    "start_time": "2022-01-15T10:53:30.524Z"
   },
   {
    "duration": 33,
    "start_time": "2022-01-15T10:53:30.541Z"
   },
   {
    "duration": 21,
    "start_time": "2022-01-15T10:53:30.577Z"
   },
   {
    "duration": 12,
    "start_time": "2022-01-15T10:53:30.601Z"
   },
   {
    "duration": 13,
    "start_time": "2022-01-15T10:53:30.616Z"
   },
   {
    "duration": 12,
    "start_time": "2022-01-15T10:53:30.631Z"
   },
   {
    "duration": 62,
    "start_time": "2022-01-15T11:10:12.045Z"
   },
   {
    "duration": 10,
    "start_time": "2022-01-15T11:11:07.582Z"
   },
   {
    "duration": 47,
    "start_time": "2022-01-15T12:09:33.858Z"
   },
   {
    "duration": 52,
    "start_time": "2022-01-15T12:11:08.164Z"
   },
   {
    "duration": 1407,
    "start_time": "2022-01-15T12:11:26.010Z"
   },
   {
    "duration": 58,
    "start_time": "2022-01-15T12:11:27.419Z"
   },
   {
    "duration": 12,
    "start_time": "2022-01-15T12:11:27.480Z"
   },
   {
    "duration": 83,
    "start_time": "2022-01-15T12:11:27.495Z"
   },
   {
    "duration": 17,
    "start_time": "2022-01-15T12:11:27.580Z"
   },
   {
    "duration": 8,
    "start_time": "2022-01-15T12:11:27.599Z"
   },
   {
    "duration": 11,
    "start_time": "2022-01-15T12:11:27.609Z"
   },
   {
    "duration": 44,
    "start_time": "2022-01-15T12:11:27.624Z"
   },
   {
    "duration": 6,
    "start_time": "2022-01-15T12:11:27.671Z"
   },
   {
    "duration": 11,
    "start_time": "2022-01-15T12:11:27.679Z"
   },
   {
    "duration": 10,
    "start_time": "2022-01-15T12:11:27.693Z"
   },
   {
    "duration": 472,
    "start_time": "2022-01-15T12:14:54.432Z"
   },
   {
    "duration": 7,
    "start_time": "2022-01-15T12:15:08.161Z"
   },
   {
    "duration": 13,
    "start_time": "2022-01-15T12:15:35.101Z"
   },
   {
    "duration": 31,
    "start_time": "2022-01-15T12:18:26.453Z"
   },
   {
    "duration": 25,
    "start_time": "2022-01-15T12:18:43.597Z"
   },
   {
    "duration": 19,
    "start_time": "2022-01-15T12:26:05.629Z"
   },
   {
    "duration": 15,
    "start_time": "2022-01-15T12:26:24.163Z"
   },
   {
    "duration": 15,
    "start_time": "2022-01-15T12:26:41.968Z"
   },
   {
    "duration": 101,
    "start_time": "2022-01-15T12:26:59.176Z"
   },
   {
    "duration": 14,
    "start_time": "2022-01-15T12:27:03.256Z"
   },
   {
    "duration": 15,
    "start_time": "2022-01-15T12:27:17.892Z"
   },
   {
    "duration": 343,
    "start_time": "2022-01-15T12:28:18.658Z"
   },
   {
    "duration": 325,
    "start_time": "2022-01-15T12:28:29.030Z"
   },
   {
    "duration": 352,
    "start_time": "2022-01-15T12:29:33.150Z"
   },
   {
    "duration": 14,
    "start_time": "2022-01-15T12:29:58.574Z"
   },
   {
    "duration": 24,
    "start_time": "2022-01-15T12:44:25.725Z"
   },
   {
    "duration": 326,
    "start_time": "2022-01-15T12:45:11.840Z"
   },
   {
    "duration": 315,
    "start_time": "2022-01-15T12:47:41.134Z"
   },
   {
    "duration": 308,
    "start_time": "2022-01-15T12:48:09.552Z"
   },
   {
    "duration": 371,
    "start_time": "2022-01-15T12:48:45.125Z"
   },
   {
    "duration": 1574,
    "start_time": "2022-01-15T12:53:54.044Z"
   },
   {
    "duration": 59,
    "start_time": "2022-01-15T12:53:55.620Z"
   },
   {
    "duration": 12,
    "start_time": "2022-01-15T12:53:55.682Z"
   },
   {
    "duration": 86,
    "start_time": "2022-01-15T12:53:55.696Z"
   },
   {
    "duration": 19,
    "start_time": "2022-01-15T12:53:55.785Z"
   },
   {
    "duration": 10,
    "start_time": "2022-01-15T12:53:55.807Z"
   },
   {
    "duration": 51,
    "start_time": "2022-01-15T12:53:55.820Z"
   },
   {
    "duration": 6,
    "start_time": "2022-01-15T12:53:55.874Z"
   },
   {
    "duration": 9,
    "start_time": "2022-01-15T12:53:55.883Z"
   },
   {
    "duration": 8,
    "start_time": "2022-01-15T12:53:55.895Z"
   },
   {
    "duration": 14,
    "start_time": "2022-01-15T12:53:55.906Z"
   },
   {
    "duration": 48,
    "start_time": "2022-01-15T12:53:55.923Z"
   },
   {
    "duration": 30,
    "start_time": "2022-01-15T12:53:55.975Z"
   },
   {
    "duration": 16,
    "start_time": "2022-01-15T12:53:56.008Z"
   },
   {
    "duration": 1413,
    "start_time": "2022-01-15T12:54:41.004Z"
   },
   {
    "duration": 62,
    "start_time": "2022-01-15T12:54:42.420Z"
   },
   {
    "duration": 14,
    "start_time": "2022-01-15T12:54:42.486Z"
   },
   {
    "duration": 92,
    "start_time": "2022-01-15T12:54:42.503Z"
   },
   {
    "duration": 17,
    "start_time": "2022-01-15T12:54:42.598Z"
   },
   {
    "duration": 8,
    "start_time": "2022-01-15T12:54:42.617Z"
   },
   {
    "duration": 40,
    "start_time": "2022-01-15T12:54:42.627Z"
   },
   {
    "duration": 6,
    "start_time": "2022-01-15T12:54:42.671Z"
   },
   {
    "duration": 8,
    "start_time": "2022-01-15T12:54:42.679Z"
   },
   {
    "duration": 8,
    "start_time": "2022-01-15T12:54:42.689Z"
   },
   {
    "duration": 11,
    "start_time": "2022-01-15T12:54:42.699Z"
   },
   {
    "duration": 6,
    "start_time": "2022-01-15T12:54:42.712Z"
   },
   {
    "duration": 70,
    "start_time": "2022-01-15T12:54:42.722Z"
   },
   {
    "duration": 33,
    "start_time": "2022-01-15T12:54:42.795Z"
   },
   {
    "duration": 3,
    "start_time": "2022-01-15T12:54:42.832Z"
   },
   {
    "duration": 13,
    "start_time": "2022-01-15T12:54:57.746Z"
   },
   {
    "duration": 19,
    "start_time": "2022-01-15T12:56:01.635Z"
   },
   {
    "duration": 13,
    "start_time": "2022-01-15T12:56:27.174Z"
   },
   {
    "duration": 13,
    "start_time": "2022-01-15T12:58:07.315Z"
   },
   {
    "duration": 17,
    "start_time": "2022-01-15T12:58:29.325Z"
   },
   {
    "duration": 13,
    "start_time": "2022-01-15T12:58:53.762Z"
   },
   {
    "duration": 19,
    "start_time": "2022-01-15T13:00:05.667Z"
   },
   {
    "duration": 19,
    "start_time": "2022-01-15T13:00:46.046Z"
   },
   {
    "duration": 13,
    "start_time": "2022-01-15T13:02:02.449Z"
   },
   {
    "duration": 4,
    "start_time": "2022-01-15T13:05:28.627Z"
   },
   {
    "duration": 1437,
    "start_time": "2022-01-15T13:05:35.677Z"
   },
   {
    "duration": 61,
    "start_time": "2022-01-15T13:05:37.116Z"
   },
   {
    "duration": 12,
    "start_time": "2022-01-15T13:05:37.180Z"
   },
   {
    "duration": 82,
    "start_time": "2022-01-15T13:05:37.195Z"
   },
   {
    "duration": 17,
    "start_time": "2022-01-15T13:05:37.280Z"
   },
   {
    "duration": 9,
    "start_time": "2022-01-15T13:05:37.299Z"
   },
   {
    "duration": 10,
    "start_time": "2022-01-15T13:05:37.310Z"
   },
   {
    "duration": 43,
    "start_time": "2022-01-15T13:05:37.326Z"
   },
   {
    "duration": 7,
    "start_time": "2022-01-15T13:05:37.373Z"
   },
   {
    "duration": 18,
    "start_time": "2022-01-15T13:05:37.382Z"
   },
   {
    "duration": 22,
    "start_time": "2022-01-15T13:05:37.402Z"
   },
   {
    "duration": 8,
    "start_time": "2022-01-15T13:05:37.428Z"
   },
   {
    "duration": 43,
    "start_time": "2022-01-15T13:05:37.439Z"
   },
   {
    "duration": 21,
    "start_time": "2022-01-15T13:05:37.485Z"
   },
   {
    "duration": 13,
    "start_time": "2022-01-15T13:05:37.508Z"
   },
   {
    "duration": 4,
    "start_time": "2022-01-15T13:12:26.512Z"
   },
   {
    "duration": 1409,
    "start_time": "2022-01-15T13:16:09.779Z"
   },
   {
    "duration": 57,
    "start_time": "2022-01-15T13:16:11.191Z"
   },
   {
    "duration": 23,
    "start_time": "2022-01-15T13:16:11.251Z"
   },
   {
    "duration": 65,
    "start_time": "2022-01-15T13:16:11.277Z"
   },
   {
    "duration": 33,
    "start_time": "2022-01-15T13:16:11.345Z"
   },
   {
    "duration": 8,
    "start_time": "2022-01-15T13:16:11.381Z"
   },
   {
    "duration": 10,
    "start_time": "2022-01-15T13:16:11.391Z"
   },
   {
    "duration": 8,
    "start_time": "2022-01-15T13:16:11.406Z"
   },
   {
    "duration": 8,
    "start_time": "2022-01-15T13:16:11.466Z"
   },
   {
    "duration": 17,
    "start_time": "2022-01-15T13:16:11.477Z"
   },
   {
    "duration": 13,
    "start_time": "2022-01-15T13:16:11.497Z"
   },
   {
    "duration": 10,
    "start_time": "2022-01-15T13:16:11.512Z"
   },
   {
    "duration": 44,
    "start_time": "2022-01-15T13:16:11.525Z"
   },
   {
    "duration": 21,
    "start_time": "2022-01-15T13:16:11.572Z"
   },
   {
    "duration": 13,
    "start_time": "2022-01-15T13:16:11.596Z"
   },
   {
    "duration": 4,
    "start_time": "2022-01-15T13:16:11.611Z"
   },
   {
    "duration": 27,
    "start_time": "2022-01-15T13:16:42.783Z"
   },
   {
    "duration": 13,
    "start_time": "2022-01-15T13:17:59.099Z"
   },
   {
    "duration": 20,
    "start_time": "2022-01-15T13:20:11.629Z"
   },
   {
    "duration": 13,
    "start_time": "2022-01-15T13:21:40.180Z"
   },
   {
    "duration": 520,
    "start_time": "2022-01-15T13:23:31.507Z"
   },
   {
    "duration": 5,
    "start_time": "2022-01-15T13:23:40.474Z"
   },
   {
    "duration": 6,
    "start_time": "2022-01-15T13:24:00.015Z"
   },
   {
    "duration": 5,
    "start_time": "2022-01-15T13:25:12.800Z"
   },
   {
    "duration": 6,
    "start_time": "2022-01-15T13:25:47.680Z"
   },
   {
    "duration": 6,
    "start_time": "2022-01-15T13:26:17.703Z"
   },
   {
    "duration": 6,
    "start_time": "2022-01-15T13:26:53.445Z"
   },
   {
    "duration": 15,
    "start_time": "2022-01-15T13:27:13.029Z"
   },
   {
    "duration": 5,
    "start_time": "2022-01-15T13:28:19.539Z"
   },
   {
    "duration": 6,
    "start_time": "2022-01-15T13:28:58.939Z"
   },
   {
    "duration": 18,
    "start_time": "2022-01-15T13:28:59.823Z"
   },
   {
    "duration": 14,
    "start_time": "2022-01-15T13:29:55.828Z"
   },
   {
    "duration": 1371,
    "start_time": "2022-01-15T13:30:14.034Z"
   },
   {
    "duration": 60,
    "start_time": "2022-01-15T13:30:15.409Z"
   },
   {
    "duration": 13,
    "start_time": "2022-01-15T13:30:15.472Z"
   },
   {
    "duration": 87,
    "start_time": "2022-01-15T13:30:15.488Z"
   },
   {
    "duration": 18,
    "start_time": "2022-01-15T13:30:15.577Z"
   },
   {
    "duration": 7,
    "start_time": "2022-01-15T13:30:15.598Z"
   },
   {
    "duration": 11,
    "start_time": "2022-01-15T13:30:15.608Z"
   },
   {
    "duration": 6,
    "start_time": "2022-01-15T13:30:15.623Z"
   },
   {
    "duration": 6,
    "start_time": "2022-01-15T13:30:15.667Z"
   },
   {
    "duration": 10,
    "start_time": "2022-01-15T13:30:15.675Z"
   },
   {
    "duration": 9,
    "start_time": "2022-01-15T13:30:15.688Z"
   },
   {
    "duration": 6,
    "start_time": "2022-01-15T13:30:15.699Z"
   },
   {
    "duration": 64,
    "start_time": "2022-01-15T13:30:15.707Z"
   },
   {
    "duration": 25,
    "start_time": "2022-01-15T13:30:15.773Z"
   },
   {
    "duration": 6,
    "start_time": "2022-01-15T13:30:15.800Z"
   },
   {
    "duration": 20,
    "start_time": "2022-01-15T13:30:15.809Z"
   },
   {
    "duration": 3,
    "start_time": "2022-01-15T13:30:15.868Z"
   },
   {
    "duration": 4,
    "start_time": "2022-01-15T13:32:58.716Z"
   },
   {
    "duration": 42,
    "start_time": "2022-01-15T13:44:22.841Z"
   },
   {
    "duration": 4,
    "start_time": "2022-01-15T13:50:55.691Z"
   },
   {
    "duration": 34,
    "start_time": "2022-01-15T13:50:56.722Z"
   },
   {
    "duration": 32,
    "start_time": "2022-01-15T13:51:31.393Z"
   },
   {
    "duration": 31,
    "start_time": "2022-01-15T13:51:35.992Z"
   },
   {
    "duration": 1418,
    "start_time": "2022-01-15T13:51:46.958Z"
   },
   {
    "duration": 59,
    "start_time": "2022-01-15T13:51:48.378Z"
   },
   {
    "duration": 28,
    "start_time": "2022-01-15T13:51:48.440Z"
   },
   {
    "duration": 109,
    "start_time": "2022-01-15T13:51:48.471Z"
   },
   {
    "duration": 26,
    "start_time": "2022-01-15T13:51:48.583Z"
   },
   {
    "duration": 13,
    "start_time": "2022-01-15T13:51:48.612Z"
   },
   {
    "duration": 45,
    "start_time": "2022-01-15T13:51:48.628Z"
   },
   {
    "duration": 9,
    "start_time": "2022-01-15T13:51:48.676Z"
   },
   {
    "duration": 8,
    "start_time": "2022-01-15T13:51:48.688Z"
   },
   {
    "duration": 10,
    "start_time": "2022-01-15T13:51:48.699Z"
   },
   {
    "duration": 15,
    "start_time": "2022-01-15T13:51:48.711Z"
   },
   {
    "duration": 43,
    "start_time": "2022-01-15T13:51:48.729Z"
   },
   {
    "duration": 23,
    "start_time": "2022-01-15T13:51:48.774Z"
   },
   {
    "duration": 23,
    "start_time": "2022-01-15T13:51:48.799Z"
   },
   {
    "duration": 5,
    "start_time": "2022-01-15T13:51:48.824Z"
   },
   {
    "duration": 44,
    "start_time": "2022-01-15T13:51:48.831Z"
   },
   {
    "duration": 3,
    "start_time": "2022-01-15T13:51:48.877Z"
   },
   {
    "duration": 45,
    "start_time": "2022-01-15T13:51:48.883Z"
   },
   {
    "duration": 37,
    "start_time": "2022-01-15T14:08:36.216Z"
   },
   {
    "duration": 17,
    "start_time": "2022-01-15T14:08:57.884Z"
   },
   {
    "duration": 5,
    "start_time": "2022-01-15T14:17:17.528Z"
   },
   {
    "duration": 457,
    "start_time": "2022-01-15T14:17:18.687Z"
   },
   {
    "duration": 237,
    "start_time": "2022-01-15T14:17:43.132Z"
   },
   {
    "duration": 5,
    "start_time": "2022-01-15T14:23:31.080Z"
   },
   {
    "duration": 184,
    "start_time": "2022-01-15T14:23:32.393Z"
   },
   {
    "duration": 6,
    "start_time": "2022-01-15T14:26:23.366Z"
   },
   {
    "duration": 240,
    "start_time": "2022-01-15T14:26:24.429Z"
   },
   {
    "duration": 5,
    "start_time": "2022-01-15T14:26:49.304Z"
   },
   {
    "duration": 196,
    "start_time": "2022-01-15T14:26:49.981Z"
   },
   {
    "duration": 1410,
    "start_time": "2022-01-15T14:27:53.659Z"
   },
   {
    "duration": 60,
    "start_time": "2022-01-15T14:27:55.072Z"
   },
   {
    "duration": 17,
    "start_time": "2022-01-15T14:27:55.135Z"
   },
   {
    "duration": 118,
    "start_time": "2022-01-15T14:27:55.170Z"
   },
   {
    "duration": 26,
    "start_time": "2022-01-15T14:27:55.291Z"
   },
   {
    "duration": 8,
    "start_time": "2022-01-15T14:27:55.320Z"
   },
   {
    "duration": 39,
    "start_time": "2022-01-15T14:27:55.330Z"
   },
   {
    "duration": 6,
    "start_time": "2022-01-15T14:27:55.374Z"
   },
   {
    "duration": 9,
    "start_time": "2022-01-15T14:27:55.383Z"
   },
   {
    "duration": 12,
    "start_time": "2022-01-15T14:27:55.395Z"
   },
   {
    "duration": 22,
    "start_time": "2022-01-15T14:27:55.410Z"
   },
   {
    "duration": 36,
    "start_time": "2022-01-15T14:27:55.435Z"
   },
   {
    "duration": 26,
    "start_time": "2022-01-15T14:27:55.473Z"
   },
   {
    "duration": 25,
    "start_time": "2022-01-15T14:27:55.502Z"
   },
   {
    "duration": 5,
    "start_time": "2022-01-15T14:27:55.530Z"
   },
   {
    "duration": 15,
    "start_time": "2022-01-15T14:27:55.568Z"
   },
   {
    "duration": 12,
    "start_time": "2022-01-15T14:27:55.585Z"
   },
   {
    "duration": 79,
    "start_time": "2022-01-15T14:27:55.599Z"
   },
   {
    "duration": 5,
    "start_time": "2022-01-15T14:27:55.680Z"
   },
   {
    "duration": 293,
    "start_time": "2022-01-15T14:27:55.687Z"
   },
   {
    "duration": 5,
    "start_time": "2022-01-15T14:29:22.496Z"
   },
   {
    "duration": 186,
    "start_time": "2022-01-15T14:29:23.399Z"
   },
   {
    "duration": 5,
    "start_time": "2022-01-15T14:29:52.459Z"
   },
   {
    "duration": 239,
    "start_time": "2022-01-15T14:29:53.427Z"
   },
   {
    "duration": 1492,
    "start_time": "2022-01-15T14:30:29.968Z"
   },
   {
    "duration": 66,
    "start_time": "2022-01-15T14:30:31.463Z"
   },
   {
    "duration": 12,
    "start_time": "2022-01-15T14:30:31.533Z"
   },
   {
    "duration": 80,
    "start_time": "2022-01-15T14:30:31.548Z"
   },
   {
    "duration": 40,
    "start_time": "2022-01-15T14:30:31.630Z"
   },
   {
    "duration": 8,
    "start_time": "2022-01-15T14:30:31.672Z"
   },
   {
    "duration": 13,
    "start_time": "2022-01-15T14:30:31.683Z"
   },
   {
    "duration": 6,
    "start_time": "2022-01-15T14:30:31.700Z"
   },
   {
    "duration": 11,
    "start_time": "2022-01-15T14:30:31.709Z"
   },
   {
    "duration": 45,
    "start_time": "2022-01-15T14:30:31.723Z"
   },
   {
    "duration": 11,
    "start_time": "2022-01-15T14:30:31.770Z"
   },
   {
    "duration": 6,
    "start_time": "2022-01-15T14:30:31.783Z"
   },
   {
    "duration": 23,
    "start_time": "2022-01-15T14:30:31.792Z"
   },
   {
    "duration": 56,
    "start_time": "2022-01-15T14:30:31.817Z"
   },
   {
    "duration": 5,
    "start_time": "2022-01-15T14:30:31.875Z"
   },
   {
    "duration": 23,
    "start_time": "2022-01-15T14:30:31.882Z"
   },
   {
    "duration": 12,
    "start_time": "2022-01-15T14:30:31.907Z"
   },
   {
    "duration": 60,
    "start_time": "2022-01-15T14:30:31.921Z"
   },
   {
    "duration": 5,
    "start_time": "2022-01-15T14:30:31.983Z"
   },
   {
    "duration": 279,
    "start_time": "2022-01-15T14:30:31.990Z"
   },
   {
    "duration": 1472,
    "start_time": "2022-01-15T14:43:24.940Z"
   },
   {
    "duration": 61,
    "start_time": "2022-01-15T14:43:26.415Z"
   },
   {
    "duration": 14,
    "start_time": "2022-01-15T14:43:26.480Z"
   },
   {
    "duration": 90,
    "start_time": "2022-01-15T14:43:26.497Z"
   },
   {
    "duration": 18,
    "start_time": "2022-01-15T14:43:26.590Z"
   },
   {
    "duration": 8,
    "start_time": "2022-01-15T14:43:26.610Z"
   },
   {
    "duration": 14,
    "start_time": "2022-01-15T14:43:26.621Z"
   },
   {
    "duration": 9,
    "start_time": "2022-01-15T14:43:26.668Z"
   },
   {
    "duration": 9,
    "start_time": "2022-01-15T14:43:26.680Z"
   },
   {
    "duration": 7,
    "start_time": "2022-01-15T14:43:26.691Z"
   },
   {
    "duration": 16,
    "start_time": "2022-01-15T14:43:26.700Z"
   },
   {
    "duration": 9,
    "start_time": "2022-01-15T14:43:26.719Z"
   },
   {
    "duration": 19,
    "start_time": "2022-01-15T14:43:26.768Z"
   },
   {
    "duration": 22,
    "start_time": "2022-01-15T14:43:26.790Z"
   },
   {
    "duration": 5,
    "start_time": "2022-01-15T14:43:26.814Z"
   },
   {
    "duration": 51,
    "start_time": "2022-01-15T14:43:26.822Z"
   },
   {
    "duration": 6,
    "start_time": "2022-01-15T14:43:26.876Z"
   },
   {
    "duration": 50,
    "start_time": "2022-01-15T14:43:26.884Z"
   },
   {
    "duration": 4,
    "start_time": "2022-01-15T14:43:26.937Z"
   },
   {
    "duration": 236,
    "start_time": "2022-01-15T14:43:26.944Z"
   },
   {
    "duration": 7,
    "start_time": "2022-01-15T17:31:56.528Z"
   },
   {
    "duration": 7,
    "start_time": "2022-01-15T17:32:10.134Z"
   },
   {
    "duration": 6,
    "start_time": "2022-01-15T17:32:40.971Z"
   },
   {
    "duration": 303,
    "start_time": "2022-01-15T17:32:48.866Z"
   },
   {
    "duration": 6,
    "start_time": "2022-01-15T17:34:02.014Z"
   },
   {
    "duration": 289,
    "start_time": "2022-01-15T17:34:02.885Z"
   },
   {
    "duration": 1332,
    "start_time": "2022-01-15T17:35:08.980Z"
   },
   {
    "duration": 61,
    "start_time": "2022-01-15T17:35:10.314Z"
   },
   {
    "duration": 12,
    "start_time": "2022-01-15T17:35:10.378Z"
   },
   {
    "duration": 85,
    "start_time": "2022-01-15T17:35:10.392Z"
   },
   {
    "duration": 16,
    "start_time": "2022-01-15T17:35:10.480Z"
   },
   {
    "duration": 8,
    "start_time": "2022-01-15T17:35:10.498Z"
   },
   {
    "duration": 11,
    "start_time": "2022-01-15T17:35:10.508Z"
   },
   {
    "duration": 6,
    "start_time": "2022-01-15T17:35:10.522Z"
   },
   {
    "duration": 6,
    "start_time": "2022-01-15T17:35:10.568Z"
   },
   {
    "duration": 10,
    "start_time": "2022-01-15T17:35:10.577Z"
   },
   {
    "duration": 11,
    "start_time": "2022-01-15T17:35:10.590Z"
   },
   {
    "duration": 6,
    "start_time": "2022-01-15T17:35:10.604Z"
   },
   {
    "duration": 55,
    "start_time": "2022-01-15T17:35:10.612Z"
   },
   {
    "duration": 21,
    "start_time": "2022-01-15T17:35:10.670Z"
   },
   {
    "duration": 5,
    "start_time": "2022-01-15T17:35:10.694Z"
   },
   {
    "duration": 16,
    "start_time": "2022-01-15T17:35:10.702Z"
   },
   {
    "duration": 4,
    "start_time": "2022-01-15T17:35:10.721Z"
   },
   {
    "duration": 78,
    "start_time": "2022-01-15T17:35:10.727Z"
   },
   {
    "duration": 6,
    "start_time": "2022-01-15T17:35:10.808Z"
   },
   {
    "duration": 452,
    "start_time": "2022-01-15T17:35:10.816Z"
   },
   {
    "duration": 170,
    "start_time": "2022-01-15T17:49:01.825Z"
   },
   {
    "duration": 6,
    "start_time": "2022-01-15T17:49:08.600Z"
   },
   {
    "duration": 205,
    "start_time": "2022-01-15T17:49:09.780Z"
   },
   {
    "duration": 6,
    "start_time": "2022-01-15T17:50:40.519Z"
   },
   {
    "duration": 338,
    "start_time": "2022-01-15T17:50:41.529Z"
   },
   {
    "duration": 6,
    "start_time": "2022-01-15T17:50:50.103Z"
   },
   {
    "duration": 197,
    "start_time": "2022-01-15T17:50:51.087Z"
   },
   {
    "duration": 1594,
    "start_time": "2022-01-15T17:51:05.180Z"
   },
   {
    "duration": 59,
    "start_time": "2022-01-15T17:51:06.776Z"
   },
   {
    "duration": 13,
    "start_time": "2022-01-15T17:51:06.839Z"
   },
   {
    "duration": 66,
    "start_time": "2022-01-15T17:51:06.867Z"
   },
   {
    "duration": 39,
    "start_time": "2022-01-15T17:51:06.935Z"
   },
   {
    "duration": 9,
    "start_time": "2022-01-15T17:51:06.976Z"
   },
   {
    "duration": 12,
    "start_time": "2022-01-15T17:51:06.987Z"
   },
   {
    "duration": 7,
    "start_time": "2022-01-15T17:51:07.003Z"
   },
   {
    "duration": 7,
    "start_time": "2022-01-15T17:51:07.013Z"
   },
   {
    "duration": 48,
    "start_time": "2022-01-15T17:51:07.023Z"
   },
   {
    "duration": 10,
    "start_time": "2022-01-15T17:51:07.073Z"
   },
   {
    "duration": 7,
    "start_time": "2022-01-15T17:51:07.086Z"
   },
   {
    "duration": 26,
    "start_time": "2022-01-15T17:51:07.096Z"
   },
   {
    "duration": 58,
    "start_time": "2022-01-15T17:51:07.125Z"
   },
   {
    "duration": 6,
    "start_time": "2022-01-15T17:51:07.185Z"
   },
   {
    "duration": 14,
    "start_time": "2022-01-15T17:51:07.194Z"
   },
   {
    "duration": 3,
    "start_time": "2022-01-15T17:51:07.211Z"
   },
   {
    "duration": 79,
    "start_time": "2022-01-15T17:51:07.217Z"
   },
   {
    "duration": 6,
    "start_time": "2022-01-15T17:51:07.298Z"
   },
   {
    "duration": 360,
    "start_time": "2022-01-15T17:51:07.307Z"
   },
   {
    "duration": 9,
    "start_time": "2022-01-15T17:51:07.671Z"
   },
   {
    "duration": 384,
    "start_time": "2022-01-15T17:51:07.683Z"
   },
   {
    "duration": 1468,
    "start_time": "2022-01-15T17:54:01.256Z"
   },
   {
    "duration": 57,
    "start_time": "2022-01-15T17:54:02.726Z"
   },
   {
    "duration": 12,
    "start_time": "2022-01-15T17:54:02.785Z"
   },
   {
    "duration": 80,
    "start_time": "2022-01-15T17:54:02.800Z"
   },
   {
    "duration": 16,
    "start_time": "2022-01-15T17:54:02.883Z"
   },
   {
    "duration": 8,
    "start_time": "2022-01-15T17:54:02.902Z"
   },
   {
    "duration": 11,
    "start_time": "2022-01-15T17:54:02.912Z"
   },
   {
    "duration": 41,
    "start_time": "2022-01-15T17:54:02.927Z"
   },
   {
    "duration": 5,
    "start_time": "2022-01-15T17:54:02.971Z"
   },
   {
    "duration": 13,
    "start_time": "2022-01-15T17:54:02.979Z"
   },
   {
    "duration": 16,
    "start_time": "2022-01-15T17:54:02.994Z"
   },
   {
    "duration": 7,
    "start_time": "2022-01-15T17:54:03.012Z"
   },
   {
    "duration": 53,
    "start_time": "2022-01-15T17:54:03.021Z"
   },
   {
    "duration": 23,
    "start_time": "2022-01-15T17:54:03.076Z"
   },
   {
    "duration": 5,
    "start_time": "2022-01-15T17:54:03.101Z"
   },
   {
    "duration": 19,
    "start_time": "2022-01-15T17:54:03.108Z"
   },
   {
    "duration": 14,
    "start_time": "2022-01-15T17:54:03.129Z"
   },
   {
    "duration": 60,
    "start_time": "2022-01-15T17:54:03.145Z"
   },
   {
    "duration": 6,
    "start_time": "2022-01-15T17:54:03.207Z"
   },
   {
    "duration": 351,
    "start_time": "2022-01-15T17:54:03.216Z"
   },
   {
    "duration": 97,
    "start_time": "2022-01-15T17:54:03.571Z"
   },
   {
    "duration": 298,
    "start_time": "2022-01-15T17:54:03.670Z"
   },
   {
    "duration": 5,
    "start_time": "2022-01-15T18:06:22.504Z"
   },
   {
    "duration": 6,
    "start_time": "2022-01-15T18:09:01.193Z"
   },
   {
    "duration": 16,
    "start_time": "2022-01-15T18:09:02.385Z"
   },
   {
    "duration": 9,
    "start_time": "2022-01-15T18:09:19.533Z"
   },
   {
    "duration": 20,
    "start_time": "2022-01-15T18:09:54.178Z"
   },
   {
    "duration": 153,
    "start_time": "2022-01-15T18:17:15.926Z"
   },
   {
    "duration": 1386,
    "start_time": "2022-01-15T18:19:23.342Z"
   },
   {
    "duration": 62,
    "start_time": "2022-01-15T18:19:24.731Z"
   },
   {
    "duration": 13,
    "start_time": "2022-01-15T18:19:24.800Z"
   },
   {
    "duration": 97,
    "start_time": "2022-01-15T18:19:24.816Z"
   },
   {
    "duration": 21,
    "start_time": "2022-01-15T18:19:24.915Z"
   },
   {
    "duration": 9,
    "start_time": "2022-01-15T18:19:24.939Z"
   },
   {
    "duration": 12,
    "start_time": "2022-01-15T18:19:24.971Z"
   },
   {
    "duration": 7,
    "start_time": "2022-01-15T18:19:24.987Z"
   },
   {
    "duration": 8,
    "start_time": "2022-01-15T18:19:24.997Z"
   },
   {
    "duration": 8,
    "start_time": "2022-01-15T18:19:25.007Z"
   },
   {
    "duration": 13,
    "start_time": "2022-01-15T18:19:25.066Z"
   },
   {
    "duration": 7,
    "start_time": "2022-01-15T18:19:25.082Z"
   },
   {
    "duration": 21,
    "start_time": "2022-01-15T18:19:25.099Z"
   },
   {
    "duration": 55,
    "start_time": "2022-01-15T18:19:25.123Z"
   },
   {
    "duration": 5,
    "start_time": "2022-01-15T18:19:25.181Z"
   },
   {
    "duration": 15,
    "start_time": "2022-01-15T18:19:25.189Z"
   },
   {
    "duration": 13,
    "start_time": "2022-01-15T18:19:25.207Z"
   },
   {
    "duration": 74,
    "start_time": "2022-01-15T18:19:25.223Z"
   },
   {
    "duration": 6,
    "start_time": "2022-01-15T18:19:25.299Z"
   },
   {
    "duration": 358,
    "start_time": "2022-01-15T18:19:25.308Z"
   },
   {
    "duration": 9,
    "start_time": "2022-01-15T18:19:25.670Z"
   },
   {
    "duration": 382,
    "start_time": "2022-01-15T18:19:25.686Z"
   },
   {
    "duration": 95,
    "start_time": "2022-01-15T18:19:26.072Z"
   },
   {
    "duration": 29,
    "start_time": "2022-01-15T18:19:26.171Z"
   },
   {
    "duration": 264,
    "start_time": "2022-01-15T18:19:26.203Z"
   },
   {
    "duration": 5,
    "start_time": "2022-01-15T18:24:06.363Z"
   },
   {
    "duration": 24,
    "start_time": "2022-01-15T18:24:07.425Z"
   },
   {
    "duration": 21,
    "start_time": "2022-01-15T18:25:36.865Z"
   },
   {
    "duration": 22,
    "start_time": "2022-01-15T18:25:42.611Z"
   },
   {
    "duration": 20,
    "start_time": "2022-01-15T18:25:47.138Z"
   },
   {
    "duration": 21,
    "start_time": "2022-01-15T18:25:51.146Z"
   },
   {
    "duration": 28,
    "start_time": "2022-01-15T18:27:05.362Z"
   },
   {
    "duration": 278,
    "start_time": "2022-01-15T18:28:10.700Z"
   },
   {
    "duration": 1362,
    "start_time": "2022-01-15T18:29:20.805Z"
   },
   {
    "duration": 61,
    "start_time": "2022-01-15T18:29:22.169Z"
   },
   {
    "duration": 11,
    "start_time": "2022-01-15T18:29:22.233Z"
   },
   {
    "duration": 75,
    "start_time": "2022-01-15T18:29:22.247Z"
   },
   {
    "duration": 16,
    "start_time": "2022-01-15T18:29:22.324Z"
   },
   {
    "duration": 30,
    "start_time": "2022-01-15T18:29:22.342Z"
   },
   {
    "duration": 12,
    "start_time": "2022-01-15T18:29:22.375Z"
   },
   {
    "duration": 6,
    "start_time": "2022-01-15T18:29:22.391Z"
   },
   {
    "duration": 6,
    "start_time": "2022-01-15T18:29:22.401Z"
   },
   {
    "duration": 9,
    "start_time": "2022-01-15T18:29:22.409Z"
   },
   {
    "duration": 49,
    "start_time": "2022-01-15T18:29:22.420Z"
   },
   {
    "duration": 6,
    "start_time": "2022-01-15T18:29:22.471Z"
   },
   {
    "duration": 25,
    "start_time": "2022-01-15T18:29:22.479Z"
   },
   {
    "duration": 22,
    "start_time": "2022-01-15T18:29:22.507Z"
   },
   {
    "duration": 5,
    "start_time": "2022-01-15T18:29:22.532Z"
   },
   {
    "duration": 43,
    "start_time": "2022-01-15T18:29:22.539Z"
   },
   {
    "duration": 5,
    "start_time": "2022-01-15T18:29:22.585Z"
   },
   {
    "duration": 81,
    "start_time": "2022-01-15T18:29:22.593Z"
   },
   {
    "duration": 7,
    "start_time": "2022-01-15T18:29:22.677Z"
   },
   {
    "duration": 286,
    "start_time": "2022-01-15T18:29:22.687Z"
   },
   {
    "duration": 95,
    "start_time": "2022-01-15T18:29:22.977Z"
   },
   {
    "duration": 298,
    "start_time": "2022-01-15T18:29:23.075Z"
   },
   {
    "duration": 88,
    "start_time": "2022-01-15T18:29:23.380Z"
   },
   {
    "duration": 26,
    "start_time": "2022-01-15T18:29:23.471Z"
   },
   {
    "duration": 268,
    "start_time": "2022-01-15T18:29:23.500Z"
   },
   {
    "duration": 8,
    "start_time": "2022-01-15T18:29:23.770Z"
   },
   {
    "duration": 26,
    "start_time": "2022-01-15T18:29:23.868Z"
   },
   {
    "duration": 371,
    "start_time": "2022-01-15T18:29:23.897Z"
   },
   {
    "duration": 1325,
    "start_time": "2022-01-15T18:37:08.391Z"
   },
   {
    "duration": 58,
    "start_time": "2022-01-15T18:37:09.719Z"
   },
   {
    "duration": 12,
    "start_time": "2022-01-15T18:37:09.781Z"
   },
   {
    "duration": 81,
    "start_time": "2022-01-15T18:37:09.796Z"
   },
   {
    "duration": 16,
    "start_time": "2022-01-15T18:37:09.879Z"
   },
   {
    "duration": 8,
    "start_time": "2022-01-15T18:37:09.897Z"
   },
   {
    "duration": 11,
    "start_time": "2022-01-15T18:37:09.907Z"
   },
   {
    "duration": 7,
    "start_time": "2022-01-15T18:37:09.921Z"
   },
   {
    "duration": 6,
    "start_time": "2022-01-15T18:37:09.968Z"
   },
   {
    "duration": 9,
    "start_time": "2022-01-15T18:37:09.976Z"
   },
   {
    "duration": 10,
    "start_time": "2022-01-15T18:37:09.988Z"
   },
   {
    "duration": 6,
    "start_time": "2022-01-15T18:37:10.000Z"
   },
   {
    "duration": 23,
    "start_time": "2022-01-15T18:37:10.008Z"
   },
   {
    "duration": 22,
    "start_time": "2022-01-15T18:37:10.068Z"
   },
   {
    "duration": 5,
    "start_time": "2022-01-15T18:37:10.093Z"
   },
   {
    "duration": 17,
    "start_time": "2022-01-15T18:37:10.100Z"
   },
   {
    "duration": 3,
    "start_time": "2022-01-15T18:37:10.120Z"
   },
   {
    "duration": 80,
    "start_time": "2022-01-15T18:37:10.125Z"
   },
   {
    "duration": 6,
    "start_time": "2022-01-15T18:37:10.208Z"
   },
   {
    "duration": 450,
    "start_time": "2022-01-15T18:37:10.217Z"
   },
   {
    "duration": 6,
    "start_time": "2022-01-15T18:37:10.670Z"
   },
   {
    "duration": 302,
    "start_time": "2022-01-15T18:37:10.678Z"
   },
   {
    "duration": 6,
    "start_time": "2022-01-15T18:37:11.070Z"
   },
   {
    "duration": 22,
    "start_time": "2022-01-15T18:37:11.078Z"
   },
   {
    "duration": 176,
    "start_time": "2022-01-15T18:37:11.102Z"
   },
   {
    "duration": 7,
    "start_time": "2022-01-15T18:37:11.367Z"
   },
   {
    "duration": 23,
    "start_time": "2022-01-15T18:37:11.376Z"
   },
   {
    "duration": 378,
    "start_time": "2022-01-15T18:37:11.401Z"
   },
   {
    "duration": 22,
    "start_time": "2022-01-15T18:40:43.168Z"
   },
   {
    "duration": 19,
    "start_time": "2022-01-15T18:40:49.720Z"
   },
   {
    "duration": 24,
    "start_time": "2022-01-15T18:40:55.548Z"
   },
   {
    "duration": 29,
    "start_time": "2022-01-15T18:41:00.316Z"
   },
   {
    "duration": 21,
    "start_time": "2022-01-15T18:41:04.412Z"
   },
   {
    "duration": 22,
    "start_time": "2022-01-15T18:41:20.045Z"
   },
   {
    "duration": 21,
    "start_time": "2022-01-15T18:41:25.963Z"
   },
   {
    "duration": 22,
    "start_time": "2022-01-15T18:41:32.976Z"
   },
   {
    "duration": 21,
    "start_time": "2022-01-15T18:41:41.529Z"
   },
   {
    "duration": 20,
    "start_time": "2022-01-15T18:41:47.344Z"
   },
   {
    "duration": 22,
    "start_time": "2022-01-15T18:41:51.344Z"
   },
   {
    "duration": 159,
    "start_time": "2022-01-15T18:41:52.412Z"
   },
   {
    "duration": 22,
    "start_time": "2022-01-15T18:47:16.821Z"
   },
   {
    "duration": 815,
    "start_time": "2022-01-15T18:47:26.204Z"
   },
   {
    "duration": 22,
    "start_time": "2022-01-15T18:47:32.317Z"
   },
   {
    "duration": 427,
    "start_time": "2022-01-15T18:47:33.739Z"
   },
   {
    "duration": 1402,
    "start_time": "2022-01-15T18:55:17.013Z"
   },
   {
    "duration": 60,
    "start_time": "2022-01-15T18:55:18.419Z"
   },
   {
    "duration": 12,
    "start_time": "2022-01-15T18:55:18.483Z"
   },
   {
    "duration": 89,
    "start_time": "2022-01-15T18:55:18.497Z"
   },
   {
    "duration": 17,
    "start_time": "2022-01-15T18:55:18.588Z"
   },
   {
    "duration": 8,
    "start_time": "2022-01-15T18:55:18.607Z"
   },
   {
    "duration": 50,
    "start_time": "2022-01-15T18:55:18.617Z"
   },
   {
    "duration": 7,
    "start_time": "2022-01-15T18:55:18.670Z"
   },
   {
    "duration": 7,
    "start_time": "2022-01-15T18:55:18.680Z"
   },
   {
    "duration": 9,
    "start_time": "2022-01-15T18:55:18.689Z"
   },
   {
    "duration": 12,
    "start_time": "2022-01-15T18:55:18.701Z"
   },
   {
    "duration": 54,
    "start_time": "2022-01-15T18:55:18.715Z"
   },
   {
    "duration": 21,
    "start_time": "2022-01-15T18:55:18.771Z"
   },
   {
    "duration": 21,
    "start_time": "2022-01-15T18:55:18.795Z"
   },
   {
    "duration": 5,
    "start_time": "2022-01-15T18:55:18.819Z"
   },
   {
    "duration": 50,
    "start_time": "2022-01-15T18:55:18.827Z"
   },
   {
    "duration": 4,
    "start_time": "2022-01-15T18:55:18.879Z"
   },
   {
    "duration": 41,
    "start_time": "2022-01-15T18:55:18.885Z"
   },
   {
    "duration": 40,
    "start_time": "2022-01-15T18:55:18.928Z"
   },
   {
    "duration": 230,
    "start_time": "2022-01-15T18:55:18.971Z"
   },
   {
    "duration": 93,
    "start_time": "2022-01-15T18:55:19.274Z"
   },
   {
    "duration": 305,
    "start_time": "2022-01-15T18:55:19.370Z"
   },
   {
    "duration": 91,
    "start_time": "2022-01-15T18:55:19.681Z"
   },
   {
    "duration": 23,
    "start_time": "2022-01-15T18:55:19.775Z"
   },
   {
    "duration": 266,
    "start_time": "2022-01-15T18:55:19.801Z"
   },
   {
    "duration": 97,
    "start_time": "2022-01-15T18:55:20.071Z"
   },
   {
    "duration": 43,
    "start_time": "2022-01-15T18:55:20.171Z"
   },
   {
    "duration": 359,
    "start_time": "2022-01-15T18:55:20.217Z"
   },
   {
    "duration": 120,
    "start_time": "2022-01-15T18:55:20.579Z"
   },
   {
    "duration": 16737,
    "start_time": "2022-01-15T19:05:46.333Z"
   },
   {
    "duration": 16679,
    "start_time": "2022-01-15T19:07:41.069Z"
   },
   {
    "duration": 16754,
    "start_time": "2022-01-15T19:08:08.292Z"
   },
   {
    "duration": 139,
    "start_time": "2022-01-15T19:11:01.423Z"
   },
   {
    "duration": 17321,
    "start_time": "2022-01-15T19:11:09.231Z"
   },
   {
    "duration": 1513,
    "start_time": "2022-01-15T19:12:32.697Z"
   },
   {
    "duration": 60,
    "start_time": "2022-01-15T19:12:34.213Z"
   },
   {
    "duration": 13,
    "start_time": "2022-01-15T19:12:34.276Z"
   },
   {
    "duration": 86,
    "start_time": "2022-01-15T19:12:34.291Z"
   },
   {
    "duration": 17,
    "start_time": "2022-01-15T19:12:34.380Z"
   },
   {
    "duration": 8,
    "start_time": "2022-01-15T19:12:34.400Z"
   },
   {
    "duration": 16,
    "start_time": "2022-01-15T19:12:34.410Z"
   },
   {
    "duration": 39,
    "start_time": "2022-01-15T19:12:34.430Z"
   },
   {
    "duration": 5,
    "start_time": "2022-01-15T19:12:34.472Z"
   },
   {
    "duration": 11,
    "start_time": "2022-01-15T19:12:34.480Z"
   },
   {
    "duration": 11,
    "start_time": "2022-01-15T19:12:34.493Z"
   },
   {
    "duration": 6,
    "start_time": "2022-01-15T19:12:34.506Z"
   },
   {
    "duration": 60,
    "start_time": "2022-01-15T19:12:34.514Z"
   },
   {
    "duration": 21,
    "start_time": "2022-01-15T19:12:34.576Z"
   },
   {
    "duration": 5,
    "start_time": "2022-01-15T19:12:34.600Z"
   },
   {
    "duration": 16,
    "start_time": "2022-01-15T19:12:34.607Z"
   },
   {
    "duration": 8,
    "start_time": "2022-01-15T19:12:34.625Z"
   },
   {
    "duration": 70,
    "start_time": "2022-01-15T19:12:34.635Z"
   },
   {
    "duration": 6,
    "start_time": "2022-01-15T19:12:34.707Z"
   },
   {
    "duration": 352,
    "start_time": "2022-01-15T19:12:34.715Z"
   },
   {
    "duration": 97,
    "start_time": "2022-01-15T19:12:35.071Z"
   },
   {
    "duration": 298,
    "start_time": "2022-01-15T19:12:35.171Z"
   },
   {
    "duration": 96,
    "start_time": "2022-01-15T19:12:35.475Z"
   },
   {
    "duration": 24,
    "start_time": "2022-01-15T19:12:35.573Z"
   },
   {
    "duration": 172,
    "start_time": "2022-01-15T19:12:35.599Z"
   },
   {
    "duration": 93,
    "start_time": "2022-01-15T19:12:35.775Z"
   },
   {
    "duration": 34,
    "start_time": "2022-01-15T19:12:35.870Z"
   },
   {
    "duration": 278,
    "start_time": "2022-01-15T19:12:35.907Z"
   },
   {
    "duration": 16869,
    "start_time": "2022-01-15T19:12:36.267Z"
   },
   {
    "duration": 36,
    "start_time": "2022-01-15T19:29:18.317Z"
   },
   {
    "duration": 68,
    "start_time": "2022-01-15T19:38:46.209Z"
   },
   {
    "duration": 116,
    "start_time": "2022-01-15T19:41:34.497Z"
   },
   {
    "duration": 268,
    "start_time": "2022-01-15T19:42:33.265Z"
   },
   {
    "duration": 1514,
    "start_time": "2022-01-15T20:00:36.048Z"
   },
   {
    "duration": 53,
    "start_time": "2022-01-15T20:00:37.564Z"
   },
   {
    "duration": 11,
    "start_time": "2022-01-15T20:00:37.621Z"
   },
   {
    "duration": 81,
    "start_time": "2022-01-15T20:00:37.635Z"
   },
   {
    "duration": 16,
    "start_time": "2022-01-15T20:00:37.719Z"
   },
   {
    "duration": 29,
    "start_time": "2022-01-15T20:00:37.738Z"
   },
   {
    "duration": 10,
    "start_time": "2022-01-15T20:00:37.770Z"
   },
   {
    "duration": 6,
    "start_time": "2022-01-15T20:00:37.785Z"
   },
   {
    "duration": 5,
    "start_time": "2022-01-15T20:00:37.794Z"
   },
   {
    "duration": 11,
    "start_time": "2022-01-15T20:00:37.801Z"
   },
   {
    "duration": 15,
    "start_time": "2022-01-15T20:00:37.814Z"
   },
   {
    "duration": 6,
    "start_time": "2022-01-15T20:00:37.868Z"
   },
   {
    "duration": 23,
    "start_time": "2022-01-15T20:00:37.876Z"
   },
   {
    "duration": 23,
    "start_time": "2022-01-15T20:00:37.901Z"
   },
   {
    "duration": 5,
    "start_time": "2022-01-15T20:00:37.927Z"
   },
   {
    "duration": 44,
    "start_time": "2022-01-15T20:00:37.934Z"
   },
   {
    "duration": 4,
    "start_time": "2022-01-15T20:00:37.980Z"
   },
   {
    "duration": 40,
    "start_time": "2022-01-15T20:00:37.986Z"
   },
   {
    "duration": 38,
    "start_time": "2022-01-15T20:00:38.029Z"
   },
   {
    "duration": 303,
    "start_time": "2022-01-15T20:00:38.070Z"
   },
   {
    "duration": 97,
    "start_time": "2022-01-15T20:00:38.376Z"
   },
   {
    "duration": 295,
    "start_time": "2022-01-15T20:00:38.476Z"
   },
   {
    "duration": 92,
    "start_time": "2022-01-15T20:00:38.778Z"
   },
   {
    "duration": 32,
    "start_time": "2022-01-15T20:00:38.873Z"
   },
   {
    "duration": 162,
    "start_time": "2022-01-15T20:00:38.907Z"
   },
   {
    "duration": 95,
    "start_time": "2022-01-15T20:00:39.072Z"
   },
   {
    "duration": 21,
    "start_time": "2022-01-15T20:00:39.170Z"
   },
   {
    "duration": 377,
    "start_time": "2022-01-15T20:00:39.193Z"
   },
   {
    "duration": 16908,
    "start_time": "2022-01-15T20:00:39.573Z"
   },
   {
    "duration": 68,
    "start_time": "2022-01-15T20:00:56.483Z"
   },
   {
    "duration": 297,
    "start_time": "2022-01-15T20:00:56.553Z"
   },
   {
    "duration": 1524,
    "start_time": "2022-01-15T20:18:30.897Z"
   },
   {
    "duration": 61,
    "start_time": "2022-01-15T20:18:32.424Z"
   },
   {
    "duration": 14,
    "start_time": "2022-01-15T20:18:32.489Z"
   },
   {
    "duration": 90,
    "start_time": "2022-01-15T20:18:32.506Z"
   },
   {
    "duration": 16,
    "start_time": "2022-01-15T20:18:32.598Z"
   },
   {
    "duration": 8,
    "start_time": "2022-01-15T20:18:32.616Z"
   },
   {
    "duration": 42,
    "start_time": "2022-01-15T20:18:32.627Z"
   },
   {
    "duration": 6,
    "start_time": "2022-01-15T20:18:32.673Z"
   },
   {
    "duration": 6,
    "start_time": "2022-01-15T20:18:32.683Z"
   },
   {
    "duration": 7,
    "start_time": "2022-01-15T20:18:32.691Z"
   },
   {
    "duration": 11,
    "start_time": "2022-01-15T20:18:32.701Z"
   },
   {
    "duration": 5,
    "start_time": "2022-01-15T20:18:32.715Z"
   },
   {
    "duration": 61,
    "start_time": "2022-01-15T20:18:32.723Z"
   },
   {
    "duration": 20,
    "start_time": "2022-01-15T20:18:32.787Z"
   },
   {
    "duration": 5,
    "start_time": "2022-01-15T20:18:32.810Z"
   },
   {
    "duration": 57,
    "start_time": "2022-01-15T20:18:32.818Z"
   },
   {
    "duration": 4,
    "start_time": "2022-01-15T20:18:32.877Z"
   },
   {
    "duration": 45,
    "start_time": "2022-01-15T20:18:32.883Z"
   },
   {
    "duration": 6,
    "start_time": "2022-01-15T20:18:32.930Z"
   },
   {
    "duration": 329,
    "start_time": "2022-01-15T20:18:32.938Z"
   },
   {
    "duration": 97,
    "start_time": "2022-01-15T20:18:33.270Z"
   },
   {
    "duration": 780,
    "start_time": "2022-01-15T20:18:33.371Z"
   },
   {
    "duration": 443,
    "start_time": "2022-01-15T20:18:33.713Z"
   },
   {
    "duration": 440,
    "start_time": "2022-01-15T20:18:33.717Z"
   },
   {
    "duration": 439,
    "start_time": "2022-01-15T20:18:33.721Z"
   },
   {
    "duration": 437,
    "start_time": "2022-01-15T20:18:33.725Z"
   },
   {
    "duration": 435,
    "start_time": "2022-01-15T20:18:33.730Z"
   },
   {
    "duration": 434,
    "start_time": "2022-01-15T20:18:33.733Z"
   },
   {
    "duration": 432,
    "start_time": "2022-01-15T20:18:33.737Z"
   },
   {
    "duration": 429,
    "start_time": "2022-01-15T20:18:33.742Z"
   },
   {
    "duration": 428,
    "start_time": "2022-01-15T20:18:33.746Z"
   },
   {
    "duration": 6,
    "start_time": "2022-01-15T20:19:01.472Z"
   },
   {
    "duration": 270,
    "start_time": "2022-01-15T20:19:02.303Z"
   },
   {
    "duration": 5,
    "start_time": "2022-01-15T20:20:09.689Z"
   },
   {
    "duration": 650,
    "start_time": "2022-01-15T20:20:11.172Z"
   },
   {
    "duration": 6,
    "start_time": "2022-01-15T20:20:25.920Z"
   },
   {
    "duration": 299,
    "start_time": "2022-01-15T20:20:26.768Z"
   },
   {
    "duration": 1593,
    "start_time": "2022-01-15T20:21:37.558Z"
   },
   {
    "duration": 54,
    "start_time": "2022-01-15T20:21:39.154Z"
   },
   {
    "duration": 11,
    "start_time": "2022-01-15T20:21:39.212Z"
   },
   {
    "duration": 72,
    "start_time": "2022-01-15T20:21:39.226Z"
   },
   {
    "duration": 20,
    "start_time": "2022-01-15T20:21:39.300Z"
   },
   {
    "duration": 8,
    "start_time": "2022-01-15T20:21:39.322Z"
   },
   {
    "duration": 10,
    "start_time": "2022-01-15T20:21:39.332Z"
   },
   {
    "duration": 6,
    "start_time": "2022-01-15T20:21:39.346Z"
   },
   {
    "duration": 15,
    "start_time": "2022-01-15T20:21:39.355Z"
   },
   {
    "duration": 6,
    "start_time": "2022-01-15T20:21:39.373Z"
   },
   {
    "duration": 17,
    "start_time": "2022-01-15T20:21:39.382Z"
   },
   {
    "duration": 6,
    "start_time": "2022-01-15T20:21:39.401Z"
   },
   {
    "duration": 29,
    "start_time": "2022-01-15T20:21:39.410Z"
   },
   {
    "duration": 23,
    "start_time": "2022-01-15T20:21:39.442Z"
   },
   {
    "duration": 4,
    "start_time": "2022-01-15T20:21:39.468Z"
   },
   {
    "duration": 14,
    "start_time": "2022-01-15T20:21:39.475Z"
   },
   {
    "duration": 5,
    "start_time": "2022-01-15T20:21:39.491Z"
   },
   {
    "duration": 45,
    "start_time": "2022-01-15T20:21:39.499Z"
   },
   {
    "duration": 5,
    "start_time": "2022-01-15T20:21:39.546Z"
   },
   {
    "duration": 317,
    "start_time": "2022-01-15T20:21:39.554Z"
   },
   {
    "duration": 96,
    "start_time": "2022-01-15T20:21:39.874Z"
   },
   {
    "duration": 307,
    "start_time": "2022-01-15T20:21:39.972Z"
   },
   {
    "duration": 6,
    "start_time": "2022-01-15T20:21:40.370Z"
   },
   {
    "duration": 21,
    "start_time": "2022-01-15T20:21:40.379Z"
   },
   {
    "duration": 274,
    "start_time": "2022-01-15T20:21:40.403Z"
   },
   {
    "duration": 6,
    "start_time": "2022-01-15T20:21:40.768Z"
   },
   {
    "duration": 25,
    "start_time": "2022-01-15T20:21:40.776Z"
   },
   {
    "duration": 566,
    "start_time": "2022-01-15T20:21:40.804Z"
   },
   {
    "duration": 16981,
    "start_time": "2022-01-15T20:21:41.373Z"
   },
   {
    "duration": 78,
    "start_time": "2022-01-15T20:21:58.356Z"
   },
   {
    "duration": 295,
    "start_time": "2022-01-15T20:21:58.437Z"
   },
   {
    "duration": 1037,
    "start_time": "2022-01-16T07:58:22.054Z"
   },
   {
    "duration": 41,
    "start_time": "2022-01-16T07:58:23.093Z"
   },
   {
    "duration": 7,
    "start_time": "2022-01-16T07:58:23.136Z"
   },
   {
    "duration": 47,
    "start_time": "2022-01-16T07:58:23.145Z"
   },
   {
    "duration": 10,
    "start_time": "2022-01-16T07:58:23.194Z"
   },
   {
    "duration": 6,
    "start_time": "2022-01-16T07:58:23.206Z"
   },
   {
    "duration": 8,
    "start_time": "2022-01-16T07:58:23.213Z"
   },
   {
    "duration": 4,
    "start_time": "2022-01-16T07:58:23.224Z"
   },
   {
    "duration": 4,
    "start_time": "2022-01-16T07:58:23.230Z"
   },
   {
    "duration": 6,
    "start_time": "2022-01-16T07:58:23.235Z"
   },
   {
    "duration": 7,
    "start_time": "2022-01-16T07:58:23.243Z"
   },
   {
    "duration": 41,
    "start_time": "2022-01-16T07:58:23.252Z"
   },
   {
    "duration": 18,
    "start_time": "2022-01-16T07:58:23.294Z"
   },
   {
    "duration": 15,
    "start_time": "2022-01-16T07:58:23.314Z"
   },
   {
    "duration": 3,
    "start_time": "2022-01-16T07:58:23.331Z"
   },
   {
    "duration": 9,
    "start_time": "2022-01-16T07:58:23.336Z"
   },
   {
    "duration": 3,
    "start_time": "2022-01-16T07:58:23.346Z"
   },
   {
    "duration": 4,
    "start_time": "2022-01-16T07:58:23.351Z"
   },
   {
    "duration": 55,
    "start_time": "2022-01-16T07:58:23.357Z"
   },
   {
    "duration": 5,
    "start_time": "2022-01-16T07:58:23.414Z"
   },
   {
    "duration": 271,
    "start_time": "2022-01-16T07:58:23.421Z"
   },
   {
    "duration": 6,
    "start_time": "2022-01-16T07:58:23.695Z"
   },
   {
    "duration": 291,
    "start_time": "2022-01-16T07:58:23.706Z"
   },
   {
    "duration": 93,
    "start_time": "2022-01-16T07:58:23.999Z"
   },
   {
    "duration": 15,
    "start_time": "2022-01-16T07:58:24.094Z"
   },
   {
    "duration": 183,
    "start_time": "2022-01-16T07:58:24.111Z"
   },
   {
    "duration": 95,
    "start_time": "2022-01-16T07:58:24.297Z"
   },
   {
    "duration": 18,
    "start_time": "2022-01-16T07:58:24.394Z"
   },
   {
    "duration": 182,
    "start_time": "2022-01-16T07:58:24.413Z"
   },
   {
    "duration": 10893,
    "start_time": "2022-01-16T07:58:24.598Z"
   },
   {
    "duration": 47,
    "start_time": "2022-01-16T07:58:35.493Z"
   },
   {
    "duration": 187,
    "start_time": "2022-01-16T07:58:35.541Z"
   },
   {
    "duration": 1057,
    "start_time": "2022-01-16T07:59:49.248Z"
   },
   {
    "duration": 40,
    "start_time": "2022-01-16T07:59:50.307Z"
   },
   {
    "duration": 8,
    "start_time": "2022-01-16T07:59:50.349Z"
   },
   {
    "duration": 54,
    "start_time": "2022-01-16T07:59:50.359Z"
   },
   {
    "duration": 11,
    "start_time": "2022-01-16T07:59:50.415Z"
   },
   {
    "duration": 6,
    "start_time": "2022-01-16T07:59:50.428Z"
   },
   {
    "duration": 10,
    "start_time": "2022-01-16T07:59:50.435Z"
   },
   {
    "duration": 4,
    "start_time": "2022-01-16T07:59:50.448Z"
   },
   {
    "duration": 7,
    "start_time": "2022-01-16T07:59:50.455Z"
   },
   {
    "duration": 31,
    "start_time": "2022-01-16T07:59:50.463Z"
   },
   {
    "duration": 9,
    "start_time": "2022-01-16T07:59:50.496Z"
   },
   {
    "duration": 4,
    "start_time": "2022-01-16T07:59:50.507Z"
   },
   {
    "duration": 16,
    "start_time": "2022-01-16T07:59:50.512Z"
   },
   {
    "duration": 26,
    "start_time": "2022-01-16T07:59:50.530Z"
   },
   {
    "duration": 4,
    "start_time": "2022-01-16T07:59:50.557Z"
   },
   {
    "duration": 29,
    "start_time": "2022-01-16T07:59:50.562Z"
   },
   {
    "duration": 3,
    "start_time": "2022-01-16T07:59:50.593Z"
   },
   {
    "duration": 5,
    "start_time": "2022-01-16T07:59:50.597Z"
   },
   {
    "duration": 26,
    "start_time": "2022-01-16T07:59:50.604Z"
   },
   {
    "duration": 4,
    "start_time": "2022-01-16T07:59:50.631Z"
   },
   {
    "duration": 162,
    "start_time": "2022-01-16T07:59:50.637Z"
   },
   {
    "duration": 94,
    "start_time": "2022-01-16T07:59:50.801Z"
   },
   {
    "duration": 292,
    "start_time": "2022-01-16T07:59:50.901Z"
   },
   {
    "duration": 96,
    "start_time": "2022-01-16T07:59:51.196Z"
   },
   {
    "duration": 18,
    "start_time": "2022-01-16T07:59:51.294Z"
   },
   {
    "duration": 95,
    "start_time": "2022-01-16T07:59:51.313Z"
   },
   {
    "duration": 100,
    "start_time": "2022-01-16T07:59:51.492Z"
   },
   {
    "duration": 15,
    "start_time": "2022-01-16T07:59:51.594Z"
   },
   {
    "duration": 191,
    "start_time": "2022-01-16T07:59:51.611Z"
   },
   {
    "duration": 10436,
    "start_time": "2022-01-16T07:59:51.804Z"
   },
   {
    "duration": 53,
    "start_time": "2022-01-16T08:00:02.242Z"
   },
   {
    "duration": 178,
    "start_time": "2022-01-16T08:00:02.297Z"
   },
   {
    "duration": 1035,
    "start_time": "2022-01-16T08:05:28.150Z"
   },
   {
    "duration": 41,
    "start_time": "2022-01-16T08:05:29.187Z"
   },
   {
    "duration": 8,
    "start_time": "2022-01-16T08:05:29.230Z"
   },
   {
    "duration": 40,
    "start_time": "2022-01-16T08:05:29.239Z"
   },
   {
    "duration": 21,
    "start_time": "2022-01-16T08:05:29.280Z"
   },
   {
    "duration": 6,
    "start_time": "2022-01-16T08:05:29.303Z"
   },
   {
    "duration": 9,
    "start_time": "2022-01-16T08:05:29.310Z"
   },
   {
    "duration": 8,
    "start_time": "2022-01-16T08:05:29.321Z"
   },
   {
    "duration": 4,
    "start_time": "2022-01-16T08:05:29.331Z"
   },
   {
    "duration": 6,
    "start_time": "2022-01-16T08:05:29.336Z"
   },
   {
    "duration": 6,
    "start_time": "2022-01-16T08:05:29.344Z"
   },
   {
    "duration": 5,
    "start_time": "2022-01-16T08:05:29.352Z"
   },
   {
    "duration": 45,
    "start_time": "2022-01-16T08:05:29.359Z"
   },
   {
    "duration": 16,
    "start_time": "2022-01-16T08:05:29.406Z"
   },
   {
    "duration": 4,
    "start_time": "2022-01-16T08:05:29.424Z"
   },
   {
    "duration": 13,
    "start_time": "2022-01-16T08:05:29.429Z"
   },
   {
    "duration": 2,
    "start_time": "2022-01-16T08:05:29.444Z"
   },
   {
    "duration": 7,
    "start_time": "2022-01-16T08:05:29.448Z"
   },
   {
    "duration": 55,
    "start_time": "2022-01-16T08:05:29.456Z"
   },
   {
    "duration": 4,
    "start_time": "2022-01-16T08:05:29.513Z"
   },
   {
    "duration": 183,
    "start_time": "2022-01-16T08:05:29.519Z"
   },
   {
    "duration": 92,
    "start_time": "2022-01-16T08:05:29.704Z"
   },
   {
    "duration": 292,
    "start_time": "2022-01-16T08:05:29.801Z"
   },
   {
    "duration": 97,
    "start_time": "2022-01-16T08:05:30.095Z"
   },
   {
    "duration": 18,
    "start_time": "2022-01-16T08:05:30.194Z"
   },
   {
    "duration": 87,
    "start_time": "2022-01-16T08:05:30.213Z"
   },
   {
    "duration": 91,
    "start_time": "2022-01-16T08:05:30.302Z"
   },
   {
    "duration": 112,
    "start_time": "2022-01-16T08:05:30.395Z"
   },
   {
    "duration": 192,
    "start_time": "2022-01-16T08:05:30.509Z"
   },
   {
    "duration": 10572,
    "start_time": "2022-01-16T08:05:30.793Z"
   },
   {
    "duration": 53,
    "start_time": "2022-01-16T08:05:41.367Z"
   },
   {
    "duration": 185,
    "start_time": "2022-01-16T08:05:41.422Z"
   },
   {
    "duration": 1092,
    "start_time": "2022-01-16T08:13:43.086Z"
   },
   {
    "duration": 40,
    "start_time": "2022-01-16T08:13:44.180Z"
   },
   {
    "duration": 7,
    "start_time": "2022-01-16T08:13:44.222Z"
   },
   {
    "duration": 40,
    "start_time": "2022-01-16T08:13:44.231Z"
   },
   {
    "duration": 28,
    "start_time": "2022-01-16T08:13:44.273Z"
   },
   {
    "duration": 7,
    "start_time": "2022-01-16T08:13:44.303Z"
   },
   {
    "duration": 8,
    "start_time": "2022-01-16T08:13:44.312Z"
   },
   {
    "duration": 4,
    "start_time": "2022-01-16T08:13:44.323Z"
   },
   {
    "duration": 4,
    "start_time": "2022-01-16T08:13:44.330Z"
   },
   {
    "duration": 5,
    "start_time": "2022-01-16T08:13:44.335Z"
   },
   {
    "duration": 8,
    "start_time": "2022-01-16T08:13:44.342Z"
   },
   {
    "duration": 5,
    "start_time": "2022-01-16T08:13:44.391Z"
   },
   {
    "duration": 15,
    "start_time": "2022-01-16T08:13:44.397Z"
   },
   {
    "duration": 14,
    "start_time": "2022-01-16T08:13:44.414Z"
   },
   {
    "duration": 4,
    "start_time": "2022-01-16T08:13:44.430Z"
   },
   {
    "duration": 9,
    "start_time": "2022-01-16T08:13:44.435Z"
   },
   {
    "duration": 3,
    "start_time": "2022-01-16T08:13:44.445Z"
   },
   {
    "duration": 5,
    "start_time": "2022-01-16T08:13:44.449Z"
   },
   {
    "duration": 52,
    "start_time": "2022-01-16T08:13:44.456Z"
   },
   {
    "duration": 3,
    "start_time": "2022-01-16T08:13:44.510Z"
   },
   {
    "duration": 178,
    "start_time": "2022-01-16T08:13:44.515Z"
   },
   {
    "duration": 5,
    "start_time": "2022-01-16T08:13:44.695Z"
   },
   {
    "duration": 199,
    "start_time": "2022-01-16T08:13:44.794Z"
   },
   {
    "duration": 6,
    "start_time": "2022-01-16T08:13:44.995Z"
   },
   {
    "duration": 17,
    "start_time": "2022-01-16T08:13:45.093Z"
   },
   {
    "duration": 91,
    "start_time": "2022-01-16T08:13:45.112Z"
   },
   {
    "duration": 7,
    "start_time": "2022-01-16T08:13:45.292Z"
   },
   {
    "duration": 106,
    "start_time": "2022-01-16T08:13:45.301Z"
   },
   {
    "duration": 191,
    "start_time": "2022-01-16T08:13:45.409Z"
   },
   {
    "duration": 10298,
    "start_time": "2022-01-16T08:13:45.694Z"
   },
   {
    "duration": 44,
    "start_time": "2022-01-16T08:13:55.994Z"
   },
   {
    "duration": 174,
    "start_time": "2022-01-16T08:13:56.040Z"
   },
   {
    "duration": 1037,
    "start_time": "2022-01-16T08:17:34.445Z"
   },
   {
    "duration": 41,
    "start_time": "2022-01-16T08:17:35.484Z"
   },
   {
    "duration": 7,
    "start_time": "2022-01-16T08:17:35.529Z"
   },
   {
    "duration": 43,
    "start_time": "2022-01-16T08:17:35.537Z"
   },
   {
    "duration": 19,
    "start_time": "2022-01-16T08:17:35.581Z"
   },
   {
    "duration": 6,
    "start_time": "2022-01-16T08:17:35.601Z"
   },
   {
    "duration": 7,
    "start_time": "2022-01-16T08:17:35.609Z"
   },
   {
    "duration": 4,
    "start_time": "2022-01-16T08:17:35.618Z"
   },
   {
    "duration": 5,
    "start_time": "2022-01-16T08:17:35.624Z"
   },
   {
    "duration": 5,
    "start_time": "2022-01-16T08:17:35.631Z"
   },
   {
    "duration": 7,
    "start_time": "2022-01-16T08:17:35.638Z"
   },
   {
    "duration": 5,
    "start_time": "2022-01-16T08:17:35.646Z"
   },
   {
    "duration": 51,
    "start_time": "2022-01-16T08:17:35.653Z"
   },
   {
    "duration": 16,
    "start_time": "2022-01-16T08:17:35.706Z"
   },
   {
    "duration": 3,
    "start_time": "2022-01-16T08:17:35.724Z"
   },
   {
    "duration": 15,
    "start_time": "2022-01-16T08:17:35.729Z"
   },
   {
    "duration": 3,
    "start_time": "2022-01-16T08:17:35.746Z"
   },
   {
    "duration": 4,
    "start_time": "2022-01-16T08:17:35.751Z"
   },
   {
    "duration": 49,
    "start_time": "2022-01-16T08:17:35.757Z"
   },
   {
    "duration": 4,
    "start_time": "2022-01-16T08:17:35.807Z"
   },
   {
    "duration": 180,
    "start_time": "2022-01-16T08:17:35.813Z"
   },
   {
    "duration": 94,
    "start_time": "2022-01-16T08:17:35.998Z"
   },
   {
    "duration": 200,
    "start_time": "2022-01-16T08:17:36.094Z"
   },
   {
    "duration": 96,
    "start_time": "2022-01-16T08:17:36.296Z"
   },
   {
    "duration": 16,
    "start_time": "2022-01-16T08:17:36.394Z"
   },
   {
    "duration": 88,
    "start_time": "2022-01-16T08:17:36.412Z"
   },
   {
    "duration": 7,
    "start_time": "2022-01-16T08:17:36.591Z"
   },
   {
    "duration": 107,
    "start_time": "2022-01-16T08:17:36.601Z"
   },
   {
    "duration": 186,
    "start_time": "2022-01-16T08:17:36.709Z"
   },
   {
    "duration": 10758,
    "start_time": "2022-01-16T08:17:36.897Z"
   },
   {
    "duration": 51,
    "start_time": "2022-01-16T08:17:47.656Z"
   },
   {
    "duration": 185,
    "start_time": "2022-01-16T08:17:47.709Z"
   },
   {
    "duration": 1082,
    "start_time": "2022-01-16T08:18:17.703Z"
   },
   {
    "duration": 39,
    "start_time": "2022-01-16T08:18:18.787Z"
   },
   {
    "duration": 8,
    "start_time": "2022-01-16T08:18:18.828Z"
   },
   {
    "duration": 38,
    "start_time": "2022-01-16T08:18:18.838Z"
   },
   {
    "duration": 22,
    "start_time": "2022-01-16T08:18:18.878Z"
   },
   {
    "duration": 5,
    "start_time": "2022-01-16T08:18:18.902Z"
   },
   {
    "duration": 6,
    "start_time": "2022-01-16T08:18:18.908Z"
   },
   {
    "duration": 4,
    "start_time": "2022-01-16T08:18:18.917Z"
   },
   {
    "duration": 4,
    "start_time": "2022-01-16T08:18:18.923Z"
   },
   {
    "duration": 5,
    "start_time": "2022-01-16T08:18:18.929Z"
   },
   {
    "duration": 9,
    "start_time": "2022-01-16T08:18:18.935Z"
   },
   {
    "duration": 4,
    "start_time": "2022-01-16T08:18:18.946Z"
   },
   {
    "duration": 50,
    "start_time": "2022-01-16T08:18:18.951Z"
   },
   {
    "duration": 15,
    "start_time": "2022-01-16T08:18:19.003Z"
   },
   {
    "duration": 3,
    "start_time": "2022-01-16T08:18:19.020Z"
   },
   {
    "duration": 9,
    "start_time": "2022-01-16T08:18:19.025Z"
   },
   {
    "duration": 3,
    "start_time": "2022-01-16T08:18:19.035Z"
   },
   {
    "duration": 53,
    "start_time": "2022-01-16T08:18:19.039Z"
   },
   {
    "duration": 4,
    "start_time": "2022-01-16T08:18:19.093Z"
   },
   {
    "duration": 194,
    "start_time": "2022-01-16T08:18:19.099Z"
   },
   {
    "duration": 96,
    "start_time": "2022-01-16T08:18:19.296Z"
   },
   {
    "duration": 200,
    "start_time": "2022-01-16T08:18:19.394Z"
   },
   {
    "duration": 94,
    "start_time": "2022-01-16T08:18:19.598Z"
   },
   {
    "duration": 16,
    "start_time": "2022-01-16T08:18:19.694Z"
   },
   {
    "duration": 93,
    "start_time": "2022-01-16T08:18:19.712Z"
   },
   {
    "duration": 86,
    "start_time": "2022-01-16T08:18:19.807Z"
   },
   {
    "duration": 15,
    "start_time": "2022-01-16T08:18:19.991Z"
   },
   {
    "duration": 194,
    "start_time": "2022-01-16T08:18:20.007Z"
   },
   {
    "duration": 10609,
    "start_time": "2022-01-16T08:18:20.203Z"
   },
   {
    "duration": 44,
    "start_time": "2022-01-16T08:18:30.814Z"
   },
   {
    "duration": 188,
    "start_time": "2022-01-16T08:18:30.860Z"
   },
   {
    "duration": 1106,
    "start_time": "2022-01-16T08:32:50.096Z"
   },
   {
    "duration": 41,
    "start_time": "2022-01-16T08:32:51.205Z"
   },
   {
    "duration": 7,
    "start_time": "2022-01-16T08:32:51.248Z"
   },
   {
    "duration": 52,
    "start_time": "2022-01-16T08:32:51.257Z"
   },
   {
    "duration": 10,
    "start_time": "2022-01-16T08:32:51.311Z"
   },
   {
    "duration": 17,
    "start_time": "2022-01-16T08:32:51.323Z"
   },
   {
    "duration": 23,
    "start_time": "2022-01-16T08:32:51.341Z"
   },
   {
    "duration": 8,
    "start_time": "2022-01-16T08:32:51.366Z"
   },
   {
    "duration": 22,
    "start_time": "2022-01-16T08:32:51.376Z"
   },
   {
    "duration": 16,
    "start_time": "2022-01-16T08:32:51.400Z"
   },
   {
    "duration": 26,
    "start_time": "2022-01-16T08:32:51.417Z"
   },
   {
    "duration": 17,
    "start_time": "2022-01-16T08:32:51.445Z"
   },
   {
    "duration": 21,
    "start_time": "2022-01-16T08:32:51.464Z"
   },
   {
    "duration": 30,
    "start_time": "2022-01-16T08:32:51.487Z"
   },
   {
    "duration": 4,
    "start_time": "2022-01-16T08:32:51.519Z"
   },
   {
    "duration": 18,
    "start_time": "2022-01-16T08:32:51.524Z"
   },
   {
    "duration": 8,
    "start_time": "2022-01-16T08:32:51.544Z"
   },
   {
    "duration": 48,
    "start_time": "2022-01-16T08:32:51.553Z"
   },
   {
    "duration": 5,
    "start_time": "2022-01-16T08:32:51.602Z"
   },
   {
    "duration": 185,
    "start_time": "2022-01-16T08:32:51.608Z"
   },
   {
    "duration": 96,
    "start_time": "2022-01-16T08:32:51.796Z"
   },
   {
    "duration": 302,
    "start_time": "2022-01-16T08:32:51.893Z"
   },
   {
    "duration": 93,
    "start_time": "2022-01-16T08:32:52.199Z"
   },
   {
    "duration": 34,
    "start_time": "2022-01-16T08:32:52.294Z"
   },
   {
    "duration": 83,
    "start_time": "2022-01-16T08:32:52.330Z"
   },
   {
    "duration": 81,
    "start_time": "2022-01-16T08:32:52.415Z"
   },
   {
    "duration": 112,
    "start_time": "2022-01-16T08:32:52.501Z"
   },
   {
    "duration": 194,
    "start_time": "2022-01-16T08:32:52.615Z"
   },
   {
    "duration": 10400,
    "start_time": "2022-01-16T08:32:52.812Z"
   },
   {
    "duration": 44,
    "start_time": "2022-01-16T08:33:03.214Z"
   },
   {
    "duration": 186,
    "start_time": "2022-01-16T08:33:03.260Z"
   },
   {
    "duration": 1075,
    "start_time": "2022-01-16T09:04:38.627Z"
   },
   {
    "duration": 41,
    "start_time": "2022-01-16T09:04:39.704Z"
   },
   {
    "duration": 9,
    "start_time": "2022-01-16T09:04:39.747Z"
   },
   {
    "duration": 51,
    "start_time": "2022-01-16T09:04:39.758Z"
   },
   {
    "duration": 11,
    "start_time": "2022-01-16T09:04:39.811Z"
   },
   {
    "duration": 6,
    "start_time": "2022-01-16T09:04:39.823Z"
   },
   {
    "duration": 7,
    "start_time": "2022-01-16T09:04:39.830Z"
   },
   {
    "duration": 4,
    "start_time": "2022-01-16T09:04:39.840Z"
   },
   {
    "duration": 4,
    "start_time": "2022-01-16T09:04:39.846Z"
   },
   {
    "duration": 6,
    "start_time": "2022-01-16T09:04:39.852Z"
   },
   {
    "duration": 7,
    "start_time": "2022-01-16T09:04:39.892Z"
   },
   {
    "duration": 5,
    "start_time": "2022-01-16T09:04:39.901Z"
   },
   {
    "duration": 14,
    "start_time": "2022-01-16T09:04:39.908Z"
   },
   {
    "duration": 15,
    "start_time": "2022-01-16T09:04:39.923Z"
   },
   {
    "duration": 3,
    "start_time": "2022-01-16T09:04:39.940Z"
   },
   {
    "duration": 9,
    "start_time": "2022-01-16T09:04:39.945Z"
   },
   {
    "duration": 2,
    "start_time": "2022-01-16T09:04:39.956Z"
   },
   {
    "duration": 24,
    "start_time": "2022-01-16T09:04:39.992Z"
   },
   {
    "duration": 5,
    "start_time": "2022-01-16T09:04:40.017Z"
   },
   {
    "duration": 174,
    "start_time": "2022-01-16T09:04:40.024Z"
   },
   {
    "duration": 93,
    "start_time": "2022-01-16T09:04:40.200Z"
   },
   {
    "duration": 229,
    "start_time": "2022-01-16T09:04:40.295Z"
   },
   {
    "duration": 8,
    "start_time": "2022-01-16T09:04:40.593Z"
   },
   {
    "duration": 106,
    "start_time": "2022-01-16T09:04:40.603Z"
   },
   {
    "duration": 90,
    "start_time": "2022-01-16T09:04:40.711Z"
   },
   {
    "duration": 93,
    "start_time": "2022-01-16T09:04:40.803Z"
   },
   {
    "duration": 110,
    "start_time": "2022-01-16T09:04:40.899Z"
   },
   {
    "duration": 188,
    "start_time": "2022-01-16T09:04:41.010Z"
   },
   {
    "duration": 10671,
    "start_time": "2022-01-16T09:04:41.200Z"
   },
   {
    "duration": 52,
    "start_time": "2022-01-16T09:04:51.872Z"
   },
   {
    "duration": 178,
    "start_time": "2022-01-16T09:04:51.925Z"
   },
   {
    "duration": 1078,
    "start_time": "2022-01-16T09:06:36.413Z"
   },
   {
    "duration": 41,
    "start_time": "2022-01-16T09:06:37.493Z"
   },
   {
    "duration": 7,
    "start_time": "2022-01-16T09:06:37.536Z"
   },
   {
    "duration": 49,
    "start_time": "2022-01-16T09:06:37.544Z"
   },
   {
    "duration": 11,
    "start_time": "2022-01-16T09:06:37.594Z"
   },
   {
    "duration": 9,
    "start_time": "2022-01-16T09:06:37.606Z"
   },
   {
    "duration": 13,
    "start_time": "2022-01-16T09:06:37.617Z"
   },
   {
    "duration": 18,
    "start_time": "2022-01-16T09:06:37.633Z"
   },
   {
    "duration": 24,
    "start_time": "2022-01-16T09:06:37.653Z"
   },
   {
    "duration": 16,
    "start_time": "2022-01-16T09:06:37.678Z"
   },
   {
    "duration": 29,
    "start_time": "2022-01-16T09:06:37.696Z"
   },
   {
    "duration": 5,
    "start_time": "2022-01-16T09:06:37.726Z"
   },
   {
    "duration": 27,
    "start_time": "2022-01-16T09:06:37.733Z"
   },
   {
    "duration": 26,
    "start_time": "2022-01-16T09:06:37.761Z"
   },
   {
    "duration": 12,
    "start_time": "2022-01-16T09:06:37.788Z"
   },
   {
    "duration": 27,
    "start_time": "2022-01-16T09:06:37.801Z"
   },
   {
    "duration": 14,
    "start_time": "2022-01-16T09:06:37.829Z"
   },
   {
    "duration": 34,
    "start_time": "2022-01-16T09:06:37.845Z"
   },
   {
    "duration": 3,
    "start_time": "2022-01-16T09:06:37.881Z"
   },
   {
    "duration": 140,
    "start_time": "2022-01-16T09:06:37.885Z"
   },
   {
    "duration": 74,
    "start_time": "2022-01-16T09:06:38.026Z"
   },
   {
    "duration": 200,
    "start_time": "2022-01-16T09:06:38.191Z"
   },
   {
    "duration": 96,
    "start_time": "2022-01-16T09:06:38.396Z"
   },
   {
    "duration": 15,
    "start_time": "2022-01-16T09:06:38.494Z"
   },
   {
    "duration": 93,
    "start_time": "2022-01-16T09:06:38.511Z"
   },
   {
    "duration": 9,
    "start_time": "2022-01-16T09:06:38.691Z"
   },
   {
    "duration": 19,
    "start_time": "2022-01-16T09:06:38.792Z"
   },
   {
    "duration": 189,
    "start_time": "2022-01-16T09:06:38.812Z"
   },
   {
    "duration": 10598,
    "start_time": "2022-01-16T09:06:39.093Z"
   },
   {
    "duration": 43,
    "start_time": "2022-01-16T09:06:49.693Z"
   },
   {
    "duration": 179,
    "start_time": "2022-01-16T09:06:49.738Z"
   },
   {
    "duration": 1077,
    "start_time": "2022-01-16T14:05:08.347Z"
   },
   {
    "duration": 39,
    "start_time": "2022-01-16T14:05:09.426Z"
   },
   {
    "duration": 7,
    "start_time": "2022-01-16T14:05:09.467Z"
   },
   {
    "duration": 36,
    "start_time": "2022-01-16T14:05:09.476Z"
   },
   {
    "duration": 9,
    "start_time": "2022-01-16T14:05:09.514Z"
   },
   {
    "duration": 19,
    "start_time": "2022-01-16T14:05:09.525Z"
   },
   {
    "duration": 6,
    "start_time": "2022-01-16T14:05:09.546Z"
   },
   {
    "duration": 6,
    "start_time": "2022-01-16T14:05:09.555Z"
   },
   {
    "duration": 6,
    "start_time": "2022-01-16T14:05:09.562Z"
   },
   {
    "duration": 8,
    "start_time": "2022-01-16T14:05:09.570Z"
   },
   {
    "duration": 17,
    "start_time": "2022-01-16T14:05:09.580Z"
   },
   {
    "duration": 4,
    "start_time": "2022-01-16T14:05:09.598Z"
   },
   {
    "duration": 21,
    "start_time": "2022-01-16T14:05:09.604Z"
   },
   {
    "duration": 22,
    "start_time": "2022-01-16T14:05:09.627Z"
   },
   {
    "duration": 4,
    "start_time": "2022-01-16T14:05:09.650Z"
   },
   {
    "duration": 12,
    "start_time": "2022-01-16T14:05:09.655Z"
   },
   {
    "duration": 4,
    "start_time": "2022-01-16T14:05:09.668Z"
   },
   {
    "duration": 32,
    "start_time": "2022-01-16T14:05:09.673Z"
   },
   {
    "duration": 3,
    "start_time": "2022-01-16T14:05:09.707Z"
   },
   {
    "duration": 139,
    "start_time": "2022-01-16T14:05:09.711Z"
   },
   {
    "duration": 4,
    "start_time": "2022-01-16T14:05:09.852Z"
   },
   {
    "duration": 294,
    "start_time": "2022-01-16T14:05:09.858Z"
   },
   {
    "duration": 86,
    "start_time": "2022-01-16T14:05:10.156Z"
   },
   {
    "duration": 106,
    "start_time": "2022-01-16T14:05:10.245Z"
   },
   {
    "duration": 189,
    "start_time": "2022-01-16T14:05:10.352Z"
   },
   {
    "duration": 5,
    "start_time": "2022-01-16T14:05:10.544Z"
   },
   {
    "duration": 110,
    "start_time": "2022-01-16T14:05:10.551Z"
   },
   {
    "duration": 185,
    "start_time": "2022-01-16T14:05:10.663Z"
   },
   {
    "duration": 9923,
    "start_time": "2022-01-16T14:05:10.850Z"
   },
   {
    "duration": 41,
    "start_time": "2022-01-16T14:05:20.775Z"
   },
   {
    "duration": 160,
    "start_time": "2022-01-16T14:05:20.818Z"
   },
   {
    "duration": 22970,
    "start_time": "2022-01-16T14:05:42.151Z"
   },
   {
    "duration": 17508,
    "start_time": "2022-01-16T14:16:23.499Z"
   },
   {
    "duration": 22790,
    "start_time": "2022-01-16T14:21:36.242Z"
   },
   {
    "duration": 16634,
    "start_time": "2022-01-16T14:22:23.131Z"
   },
   {
    "duration": 16683,
    "start_time": "2022-01-16T14:23:04.084Z"
   },
   {
    "duration": 22,
    "start_time": "2022-01-16T14:25:08.887Z"
   },
   {
    "duration": 33,
    "start_time": "2022-01-16T14:25:16.479Z"
   },
   {
    "duration": 69,
    "start_time": "2022-01-16T14:41:00.250Z"
   },
   {
    "duration": 3,
    "start_time": "2022-01-16T14:47:52.973Z"
   },
   {
    "duration": 186,
    "start_time": "2022-01-16T16:22:10.016Z"
   },
   {
    "duration": 3,
    "start_time": "2022-01-16T16:22:24.199Z"
   },
   {
    "duration": 3,
    "start_time": "2022-01-16T16:22:55.219Z"
   },
   {
    "duration": 2,
    "start_time": "2022-01-16T16:28:15.930Z"
   },
   {
    "duration": 1921,
    "start_time": "2022-01-16T16:40:26.009Z"
   },
   {
    "duration": 40,
    "start_time": "2022-01-16T16:40:27.932Z"
   },
   {
    "duration": 8,
    "start_time": "2022-01-16T16:40:27.974Z"
   },
   {
    "duration": 37,
    "start_time": "2022-01-16T16:40:27.983Z"
   },
   {
    "duration": 22,
    "start_time": "2022-01-16T16:40:28.022Z"
   },
   {
    "duration": 6,
    "start_time": "2022-01-16T16:40:28.046Z"
   },
   {
    "duration": 16,
    "start_time": "2022-01-16T16:40:28.053Z"
   },
   {
    "duration": 6,
    "start_time": "2022-01-16T16:40:28.071Z"
   },
   {
    "duration": 6,
    "start_time": "2022-01-16T16:40:28.079Z"
   },
   {
    "duration": 8,
    "start_time": "2022-01-16T16:40:28.086Z"
   },
   {
    "duration": 9,
    "start_time": "2022-01-16T16:40:28.095Z"
   },
   {
    "duration": 8,
    "start_time": "2022-01-16T16:40:28.106Z"
   },
   {
    "duration": 33,
    "start_time": "2022-01-16T16:40:28.116Z"
   },
   {
    "duration": 15,
    "start_time": "2022-01-16T16:40:28.150Z"
   },
   {
    "duration": 4,
    "start_time": "2022-01-16T16:40:28.167Z"
   },
   {
    "duration": 11,
    "start_time": "2022-01-16T16:40:28.173Z"
   },
   {
    "duration": 3,
    "start_time": "2022-01-16T16:40:28.186Z"
   },
   {
    "duration": 51,
    "start_time": "2022-01-16T16:40:28.190Z"
   },
   {
    "duration": 3,
    "start_time": "2022-01-16T16:40:28.243Z"
   },
   {
    "duration": 199,
    "start_time": "2022-01-16T16:40:28.248Z"
   },
   {
    "duration": 90,
    "start_time": "2022-01-16T16:40:28.452Z"
   },
   {
    "duration": 133,
    "start_time": "2022-01-16T16:40:28.544Z"
   },
   {
    "duration": 96,
    "start_time": "2022-01-16T16:40:28.745Z"
   },
   {
    "duration": 13,
    "start_time": "2022-01-16T16:40:28.844Z"
   },
   {
    "duration": 98,
    "start_time": "2022-01-16T16:40:28.859Z"
   },
   {
    "duration": 5,
    "start_time": "2022-01-16T16:40:29.043Z"
   },
   {
    "duration": 21,
    "start_time": "2022-01-16T16:40:29.142Z"
   },
   {
    "duration": 184,
    "start_time": "2022-01-16T16:40:29.165Z"
   },
   {
    "duration": 10794,
    "start_time": "2022-01-16T16:40:29.351Z"
   },
   {
    "duration": 23300,
    "start_time": "2022-01-16T16:40:40.146Z"
   },
   {
    "duration": 16943,
    "start_time": "2022-01-16T16:41:03.448Z"
   },
   {
    "duration": 2,
    "start_time": "2022-01-16T16:41:20.393Z"
   },
   {
    "duration": 58,
    "start_time": "2022-01-16T16:41:20.397Z"
   },
   {
    "duration": 3,
    "start_time": "2022-01-16T16:41:20.457Z"
   },
   {
    "duration": 25,
    "start_time": "2022-01-16T16:41:20.462Z"
   },
   {
    "duration": 208,
    "start_time": "2022-01-16T16:41:20.489Z"
   },
   {
    "duration": 2,
    "start_time": "2022-01-16T16:41:20.699Z"
   },
   {
    "duration": 1122,
    "start_time": "2022-01-16T16:51:30.031Z"
   },
   {
    "duration": 40,
    "start_time": "2022-01-16T16:51:31.155Z"
   },
   {
    "duration": 8,
    "start_time": "2022-01-16T16:51:31.197Z"
   },
   {
    "duration": 41,
    "start_time": "2022-01-16T16:51:31.207Z"
   },
   {
    "duration": 10,
    "start_time": "2022-01-16T16:51:31.249Z"
   },
   {
    "duration": 12,
    "start_time": "2022-01-16T16:51:31.261Z"
   },
   {
    "duration": 10,
    "start_time": "2022-01-16T16:51:31.275Z"
   },
   {
    "duration": 5,
    "start_time": "2022-01-16T16:51:31.287Z"
   },
   {
    "duration": 6,
    "start_time": "2022-01-16T16:51:31.294Z"
   },
   {
    "duration": 16,
    "start_time": "2022-01-16T16:51:31.302Z"
   },
   {
    "duration": 22,
    "start_time": "2022-01-16T16:51:31.320Z"
   },
   {
    "duration": 8,
    "start_time": "2022-01-16T16:51:31.344Z"
   },
   {
    "duration": 33,
    "start_time": "2022-01-16T16:51:31.353Z"
   },
   {
    "duration": 43,
    "start_time": "2022-01-16T16:51:31.388Z"
   },
   {
    "duration": 4,
    "start_time": "2022-01-16T16:51:31.433Z"
   },
   {
    "duration": 15,
    "start_time": "2022-01-16T16:51:31.439Z"
   },
   {
    "duration": 19,
    "start_time": "2022-01-16T16:51:31.456Z"
   },
   {
    "duration": 37,
    "start_time": "2022-01-16T16:51:31.477Z"
   },
   {
    "duration": 3,
    "start_time": "2022-01-16T16:51:31.516Z"
   },
   {
    "duration": 144,
    "start_time": "2022-01-16T16:51:31.521Z"
   },
   {
    "duration": 6,
    "start_time": "2022-01-16T16:51:31.742Z"
   },
   {
    "duration": 293,
    "start_time": "2022-01-16T16:51:31.750Z"
   },
   {
    "duration": 93,
    "start_time": "2022-01-16T16:51:32.048Z"
   },
   {
    "duration": 14,
    "start_time": "2022-01-16T16:51:32.144Z"
   },
   {
    "duration": 180,
    "start_time": "2022-01-16T16:51:32.161Z"
   },
   {
    "duration": 94,
    "start_time": "2022-01-16T16:51:32.350Z"
   },
   {
    "duration": 68,
    "start_time": "2022-01-16T16:51:32.446Z"
   },
   {
    "duration": 170,
    "start_time": "2022-01-16T16:51:32.516Z"
   },
   {
    "duration": 10842,
    "start_time": "2022-01-16T16:51:32.742Z"
   },
   {
    "duration": 23528,
    "start_time": "2022-01-16T16:51:43.586Z"
   },
   {
    "duration": 17313,
    "start_time": "2022-01-16T16:52:07.116Z"
   },
   {
    "duration": 2,
    "start_time": "2022-01-16T16:52:24.431Z"
   },
   {
    "duration": 48,
    "start_time": "2022-01-16T16:52:24.434Z"
   },
   {
    "duration": 3,
    "start_time": "2022-01-16T16:52:24.483Z"
   },
   {
    "duration": 24,
    "start_time": "2022-01-16T16:52:24.487Z"
   },
   {
    "duration": 228,
    "start_time": "2022-01-16T16:52:24.513Z"
   },
   {
    "duration": 3,
    "start_time": "2022-01-16T16:52:24.743Z"
   },
   {
    "duration": 1076,
    "start_time": "2022-03-07T16:34:03.564Z"
   },
   {
    "duration": 54,
    "start_time": "2022-03-07T16:34:04.642Z"
   },
   {
    "duration": 8,
    "start_time": "2022-03-07T16:34:04.699Z"
   },
   {
    "duration": 36,
    "start_time": "2022-03-07T16:34:04.710Z"
   },
   {
    "duration": 11,
    "start_time": "2022-03-07T16:34:04.749Z"
   },
   {
    "duration": 6,
    "start_time": "2022-03-07T16:34:04.762Z"
   },
   {
    "duration": 6,
    "start_time": "2022-03-07T16:34:04.770Z"
   },
   {
    "duration": 6,
    "start_time": "2022-03-07T16:34:04.779Z"
   },
   {
    "duration": 4,
    "start_time": "2022-03-07T16:34:04.787Z"
   },
   {
    "duration": 40,
    "start_time": "2022-03-07T16:34:04.793Z"
   },
   {
    "duration": 7,
    "start_time": "2022-03-07T16:34:04.834Z"
   },
   {
    "duration": 4,
    "start_time": "2022-03-07T16:34:04.843Z"
   },
   {
    "duration": 15,
    "start_time": "2022-03-07T16:34:04.848Z"
   },
   {
    "duration": 15,
    "start_time": "2022-03-07T16:34:04.865Z"
   },
   {
    "duration": 4,
    "start_time": "2022-03-07T16:34:04.881Z"
   },
   {
    "duration": 9,
    "start_time": "2022-03-07T16:34:04.886Z"
   },
   {
    "duration": 2,
    "start_time": "2022-03-07T16:34:04.897Z"
   },
   {
    "duration": 54,
    "start_time": "2022-03-07T16:34:04.900Z"
   },
   {
    "duration": 4,
    "start_time": "2022-03-07T16:34:04.956Z"
   },
   {
    "duration": 178,
    "start_time": "2022-03-07T16:34:04.961Z"
   },
   {
    "duration": 93,
    "start_time": "2022-03-07T16:34:05.141Z"
   },
   {
    "duration": 208,
    "start_time": "2022-03-07T16:34:05.236Z"
   },
   {
    "duration": 5,
    "start_time": "2022-03-07T16:34:05.533Z"
   },
   {
    "duration": 108,
    "start_time": "2022-03-07T16:34:05.541Z"
   },
   {
    "duration": 91,
    "start_time": "2022-03-07T16:34:05.650Z"
   },
   {
    "duration": 6,
    "start_time": "2022-03-07T16:34:05.832Z"
   },
   {
    "duration": 110,
    "start_time": "2022-03-07T16:34:05.841Z"
   },
   {
    "duration": 279,
    "start_time": "2022-03-07T16:34:05.953Z"
   },
   {
    "duration": 10353,
    "start_time": "2022-03-07T16:34:06.235Z"
   },
   {
    "duration": 23494,
    "start_time": "2022-03-07T16:34:16.590Z"
   },
   {
    "duration": 16704,
    "start_time": "2022-03-07T16:34:40.086Z"
   },
   {
    "duration": 3,
    "start_time": "2022-03-07T16:34:56.791Z"
   },
   {
    "duration": 53,
    "start_time": "2022-03-07T16:34:56.795Z"
   },
   {
    "duration": 4,
    "start_time": "2022-03-07T16:34:56.850Z"
   },
   {
    "duration": 28,
    "start_time": "2022-03-07T16:34:56.857Z"
   },
   {
    "duration": 206,
    "start_time": "2022-03-07T16:34:56.887Z"
   },
   {
    "duration": 1048,
    "start_time": "2022-03-07T16:35:44.379Z"
   },
   {
    "duration": 37,
    "start_time": "2022-03-07T16:35:45.428Z"
   },
   {
    "duration": 7,
    "start_time": "2022-03-07T16:35:45.467Z"
   },
   {
    "duration": 34,
    "start_time": "2022-03-07T16:35:45.476Z"
   },
   {
    "duration": 27,
    "start_time": "2022-03-07T16:35:45.512Z"
   },
   {
    "duration": 6,
    "start_time": "2022-03-07T16:35:45.541Z"
   },
   {
    "duration": 10,
    "start_time": "2022-03-07T16:35:45.548Z"
   },
   {
    "duration": 4,
    "start_time": "2022-03-07T16:35:45.561Z"
   },
   {
    "duration": 5,
    "start_time": "2022-03-07T16:35:45.567Z"
   },
   {
    "duration": 8,
    "start_time": "2022-03-07T16:35:45.573Z"
   },
   {
    "duration": 10,
    "start_time": "2022-03-07T16:35:45.582Z"
   },
   {
    "duration": 7,
    "start_time": "2022-03-07T16:35:45.594Z"
   },
   {
    "duration": 31,
    "start_time": "2022-03-07T16:35:45.602Z"
   },
   {
    "duration": 16,
    "start_time": "2022-03-07T16:35:45.635Z"
   },
   {
    "duration": 4,
    "start_time": "2022-03-07T16:35:45.652Z"
   },
   {
    "duration": 10,
    "start_time": "2022-03-07T16:35:45.657Z"
   },
   {
    "duration": 2,
    "start_time": "2022-03-07T16:35:45.669Z"
   },
   {
    "duration": 25,
    "start_time": "2022-03-07T16:35:45.673Z"
   },
   {
    "duration": 3,
    "start_time": "2022-03-07T16:35:45.700Z"
   },
   {
    "duration": 203,
    "start_time": "2022-03-07T16:35:45.732Z"
   },
   {
    "duration": 94,
    "start_time": "2022-03-07T16:35:45.940Z"
   },
   {
    "duration": 199,
    "start_time": "2022-03-07T16:35:46.035Z"
   },
   {
    "duration": 95,
    "start_time": "2022-03-07T16:35:46.238Z"
   },
   {
    "duration": 20,
    "start_time": "2022-03-07T16:35:46.335Z"
   },
   {
    "duration": 84,
    "start_time": "2022-03-07T16:35:46.357Z"
   },
   {
    "duration": 95,
    "start_time": "2022-03-07T16:35:46.443Z"
   },
   {
    "duration": 110,
    "start_time": "2022-03-07T16:35:46.540Z"
   },
   {
    "duration": 189,
    "start_time": "2022-03-07T16:35:46.651Z"
   },
   {
    "duration": 10257,
    "start_time": "2022-03-07T16:35:46.841Z"
   },
   {
    "duration": 22958,
    "start_time": "2022-03-07T16:35:57.100Z"
   },
   {
    "duration": 16670,
    "start_time": "2022-03-07T16:36:20.060Z"
   },
   {
    "duration": 2,
    "start_time": "2022-03-07T16:36:36.733Z"
   },
   {
    "duration": 48,
    "start_time": "2022-03-07T16:36:36.737Z"
   },
   {
    "duration": 22,
    "start_time": "2022-03-07T16:36:36.786Z"
   },
   {
    "duration": 215,
    "start_time": "2022-03-07T16:36:36.810Z"
   },
   {
    "duration": 1044,
    "start_time": "2022-03-07T16:37:51.884Z"
   },
   {
    "duration": 32,
    "start_time": "2022-03-07T16:37:52.930Z"
   },
   {
    "duration": 7,
    "start_time": "2022-03-07T16:37:52.964Z"
   },
   {
    "duration": 40,
    "start_time": "2022-03-07T16:37:52.973Z"
   },
   {
    "duration": 22,
    "start_time": "2022-03-07T16:37:53.015Z"
   },
   {
    "duration": 6,
    "start_time": "2022-03-07T16:37:53.038Z"
   },
   {
    "duration": 6,
    "start_time": "2022-03-07T16:37:53.046Z"
   },
   {
    "duration": 3,
    "start_time": "2022-03-07T16:37:53.054Z"
   },
   {
    "duration": 3,
    "start_time": "2022-03-07T16:37:53.059Z"
   },
   {
    "duration": 5,
    "start_time": "2022-03-07T16:37:53.064Z"
   },
   {
    "duration": 6,
    "start_time": "2022-03-07T16:37:53.071Z"
   },
   {
    "duration": 3,
    "start_time": "2022-03-07T16:37:53.079Z"
   },
   {
    "duration": 54,
    "start_time": "2022-03-07T16:37:53.084Z"
   },
   {
    "duration": 14,
    "start_time": "2022-03-07T16:37:53.140Z"
   },
   {
    "duration": 4,
    "start_time": "2022-03-07T16:37:53.155Z"
   },
   {
    "duration": 8,
    "start_time": "2022-03-07T16:37:53.161Z"
   },
   {
    "duration": 3,
    "start_time": "2022-03-07T16:37:53.170Z"
   },
   {
    "duration": 22,
    "start_time": "2022-03-07T16:37:53.175Z"
   },
   {
    "duration": 4,
    "start_time": "2022-03-07T16:37:53.198Z"
   },
   {
    "duration": 230,
    "start_time": "2022-03-07T16:37:53.203Z"
   },
   {
    "duration": 7,
    "start_time": "2022-03-07T16:37:53.435Z"
   },
   {
    "duration": 134,
    "start_time": "2022-03-07T16:37:53.535Z"
   },
   {
    "duration": 67,
    "start_time": "2022-03-07T16:37:53.671Z"
   },
   {
    "duration": 103,
    "start_time": "2022-03-07T16:37:53.741Z"
   },
   {
    "duration": 93,
    "start_time": "2022-03-07T16:37:53.846Z"
   },
   {
    "duration": 96,
    "start_time": "2022-03-07T16:37:53.942Z"
   },
   {
    "duration": 96,
    "start_time": "2022-03-07T16:37:54.040Z"
   },
   {
    "duration": 202,
    "start_time": "2022-03-07T16:37:54.138Z"
   },
   {
    "duration": 10543,
    "start_time": "2022-03-07T16:37:54.342Z"
   },
   {
    "duration": 23441,
    "start_time": "2022-03-07T16:38:04.887Z"
   },
   {
    "duration": 17762,
    "start_time": "2022-03-07T16:38:28.333Z"
   },
   {
    "duration": 58,
    "start_time": "2022-03-07T16:38:46.097Z"
   },
   {
    "duration": 24,
    "start_time": "2022-03-07T16:38:46.158Z"
   },
   {
    "duration": 211,
    "start_time": "2022-03-07T16:38:46.184Z"
   }
  ],
  "kernelspec": {
   "display_name": "Python 3",
   "language": "python",
   "name": "python3"
  },
  "language_info": {
   "codemirror_mode": {
    "name": "ipython",
    "version": 3
   },
   "file_extension": ".py",
   "mimetype": "text/x-python",
   "name": "python",
   "nbconvert_exporter": "python",
   "pygments_lexer": "ipython3",
   "version": "3.10.2"
  },
  "toc": {
   "base_numbering": 1,
   "nav_menu": {},
   "number_sections": true,
   "sideBar": true,
   "skip_h1_title": true,
   "title_cell": "Содержание",
   "title_sidebar": "Contents",
   "toc_cell": true,
   "toc_position": {},
   "toc_section_display": true,
   "toc_window_display": true
  }
 },
 "nbformat": 4,
 "nbformat_minor": 2
}
