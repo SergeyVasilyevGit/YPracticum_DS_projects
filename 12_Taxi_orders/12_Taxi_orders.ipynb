{
 "cells": [
  {
   "cell_type": "markdown",
   "metadata": {
    "toc": true
   },
   "source": [
    "<h1>Содержание<span class=\"tocSkip\"></span></h1>\n",
    "<div class=\"toc\"><ul class=\"toc-item\"><li><span><a href=\"#Подготовка\" data-toc-modified-id=\"Подготовка-1\"><span class=\"toc-item-num\">1&nbsp;&nbsp;</span>Подготовка</a></span><ul class=\"toc-item\"><li><span><a href=\"#Вывод\" data-toc-modified-id=\"Вывод-1.1\"><span class=\"toc-item-num\">1.1&nbsp;&nbsp;</span>Вывод</a></span></li></ul></li><li><span><a href=\"#Анализ\" data-toc-modified-id=\"Анализ-2\"><span class=\"toc-item-num\">2&nbsp;&nbsp;</span>Анализ</a></span><ul class=\"toc-item\"><li><span><a href=\"#Выводы\" data-toc-modified-id=\"Выводы-2.1\"><span class=\"toc-item-num\">2.1&nbsp;&nbsp;</span>Выводы</a></span></li></ul></li><li><span><a href=\"#Обучение\" data-toc-modified-id=\"Обучение-3\"><span class=\"toc-item-num\">3&nbsp;&nbsp;</span>Обучение</a></span><ul class=\"toc-item\"><li><span><a href=\"#Выводы\" data-toc-modified-id=\"Выводы-3.1\"><span class=\"toc-item-num\">3.1&nbsp;&nbsp;</span>Выводы</a></span></li></ul></li><li><span><a href=\"#Тестирование\" data-toc-modified-id=\"Тестирование-4\"><span class=\"toc-item-num\">4&nbsp;&nbsp;</span>Тестирование</a></span><ul class=\"toc-item\"><li><span><a href=\"#Выводы\" data-toc-modified-id=\"Выводы-4.1\"><span class=\"toc-item-num\">4.1&nbsp;&nbsp;</span>Выводы</a></span></li></ul></li></ul></div>"
   ]
  },
  {
   "cell_type": "markdown",
   "metadata": {},
   "source": [
    "#  Прогнозирование заказов такси"
   ]
  },
  {
   "cell_type": "markdown",
   "metadata": {},
   "source": [
    "Компания «Чётенькое такси» собрала исторические данные о заказах такси в аэропортах. Чтобы привлекать больше водителей в период пиковой нагрузки, нужно спрогнозировать количество заказов такси на следующий час.\n",
    "\n",
    "Значение метрики *RMSE* на тестовой выборке должно быть не больше 48."
   ]
  },
  {
   "cell_type": "markdown",
   "metadata": {},
   "source": [
    "**Цель**  \n",
    "\n",
    "Построить модель для определения количества заказов такси. \n",
    "\n",
    "**Структура исследования**  \n",
    "\n",
    "1. Подготовка данных\n",
    "2. Анализ данных\n",
    "2. Обучение моделей\n",
    "3. Тестирование\n",
    "\n",
    "**Использование дополнительных модулей**  \n",
    "\n",
    "- `pandas` – редактор баз данных  \n",
    "- `statsmodels` – обработка временных рядов\n",
    "- `sklearn`, `catboost`, `lightgbm` – машинное обучение\n",
    "- `matplotlib` – визуализация "
   ]
  },
  {
   "cell_type": "markdown",
   "metadata": {},
   "source": [
    "## Подготовка"
   ]
  },
  {
   "cell_type": "code",
   "execution_count": 1,
   "metadata": {},
   "outputs": [],
   "source": [
    "import pandas as pd\n",
    "\n",
    "import matplotlib.pyplot as plt\n",
    "from statsmodels.tsa.seasonal import seasonal_decompose\n",
    "from sklearn.model_selection import train_test_split\n",
    "from sklearn.linear_model import LinearRegression\n",
    "from catboost import CatBoostRegressor\n",
    "from lightgbm import LGBMRegressor\n",
    "from sklearn.metrics import mean_squared_error\n",
    "from sklearn.model_selection import GridSearchCV\n",
    "from sklearn.model_selection import TimeSeriesSplit"
   ]
  },
  {
   "cell_type": "code",
   "execution_count": 2,
   "metadata": {},
   "outputs": [
    {
     "data": {
      "text/html": [
       "<div>\n",
       "<style scoped>\n",
       "    .dataframe tbody tr th:only-of-type {\n",
       "        vertical-align: middle;\n",
       "    }\n",
       "\n",
       "    .dataframe tbody tr th {\n",
       "        vertical-align: top;\n",
       "    }\n",
       "\n",
       "    .dataframe thead th {\n",
       "        text-align: right;\n",
       "    }\n",
       "</style>\n",
       "<table border=\"1\" class=\"dataframe\">\n",
       "  <thead>\n",
       "    <tr style=\"text-align: right;\">\n",
       "      <th></th>\n",
       "      <th>num_orders</th>\n",
       "    </tr>\n",
       "    <tr>\n",
       "      <th>datetime</th>\n",
       "      <th></th>\n",
       "    </tr>\n",
       "  </thead>\n",
       "  <tbody>\n",
       "    <tr>\n",
       "      <th>2018-03-01 00:00:00</th>\n",
       "      <td>9</td>\n",
       "    </tr>\n",
       "    <tr>\n",
       "      <th>2018-03-01 00:10:00</th>\n",
       "      <td>14</td>\n",
       "    </tr>\n",
       "    <tr>\n",
       "      <th>2018-03-01 00:20:00</th>\n",
       "      <td>28</td>\n",
       "    </tr>\n",
       "    <tr>\n",
       "      <th>2018-03-01 00:30:00</th>\n",
       "      <td>20</td>\n",
       "    </tr>\n",
       "    <tr>\n",
       "      <th>2018-03-01 00:40:00</th>\n",
       "      <td>32</td>\n",
       "    </tr>\n",
       "  </tbody>\n",
       "</table>\n",
       "</div>"
      ],
      "text/plain": [
       "                     num_orders\n",
       "datetime                       \n",
       "2018-03-01 00:00:00           9\n",
       "2018-03-01 00:10:00          14\n",
       "2018-03-01 00:20:00          28\n",
       "2018-03-01 00:30:00          20\n",
       "2018-03-01 00:40:00          32"
      ]
     },
     "execution_count": 2,
     "metadata": {},
     "output_type": "execute_result"
    }
   ],
   "source": [
    "# Загрузка данных из файла, присваивание индекса и его парсинг\n",
    "df = pd.read_csv('taxi.csv', index_col=[0], parse_dates=[0])\n",
    "df.head()"
   ]
  },
  {
   "cell_type": "code",
   "execution_count": 3,
   "metadata": {},
   "outputs": [
    {
     "name": "stdout",
     "output_type": "stream",
     "text": [
      "<class 'pandas.core.frame.DataFrame'>\n",
      "DatetimeIndex: 26496 entries, 2018-03-01 00:00:00 to 2018-08-31 23:50:00\n",
      "Data columns (total 1 columns):\n",
      " #   Column      Non-Null Count  Dtype\n",
      "---  ------      --------------  -----\n",
      " 0   num_orders  26496 non-null  int64\n",
      "dtypes: int64(1)\n",
      "memory usage: 414.0 KB\n"
     ]
    }
   ],
   "source": [
    "# Общая информация о датафрейме\n",
    "df.info()"
   ]
  },
  {
   "cell_type": "code",
   "execution_count": 4,
   "metadata": {},
   "outputs": [
    {
     "data": {
      "text/plain": [
       "num_orders    0\n",
       "dtype: int64"
      ]
     },
     "execution_count": 4,
     "metadata": {},
     "output_type": "execute_result"
    }
   ],
   "source": [
    "# Проверка отсутствия пропусков данных\n",
    "df.isna().sum()"
   ]
  },
  {
   "cell_type": "code",
   "execution_count": 5,
   "metadata": {},
   "outputs": [
    {
     "data": {
      "text/plain": [
       "True"
      ]
     },
     "execution_count": 5,
     "metadata": {},
     "output_type": "execute_result"
    }
   ],
   "source": [
    "# Проверка индекса на монотонность\n",
    "df.index.is_monotonic"
   ]
  },
  {
   "cell_type": "markdown",
   "metadata": {},
   "source": [
    "### Вывод"
   ]
  },
  {
   "cell_type": "markdown",
   "metadata": {},
   "source": [
    "Данные подготовлены для последующей обработки."
   ]
  },
  {
   "cell_type": "markdown",
   "metadata": {},
   "source": [
    "## Анализ"
   ]
  },
  {
   "cell_type": "code",
   "execution_count": 6,
   "metadata": {
    "scrolled": true
   },
   "outputs": [
    {
     "data": {
      "text/html": [
       "<div>\n",
       "<style scoped>\n",
       "    .dataframe tbody tr th:only-of-type {\n",
       "        vertical-align: middle;\n",
       "    }\n",
       "\n",
       "    .dataframe tbody tr th {\n",
       "        vertical-align: top;\n",
       "    }\n",
       "\n",
       "    .dataframe thead th {\n",
       "        text-align: right;\n",
       "    }\n",
       "</style>\n",
       "<table border=\"1\" class=\"dataframe\">\n",
       "  <thead>\n",
       "    <tr style=\"text-align: right;\">\n",
       "      <th></th>\n",
       "      <th>num_orders</th>\n",
       "    </tr>\n",
       "    <tr>\n",
       "      <th>datetime</th>\n",
       "      <th></th>\n",
       "    </tr>\n",
       "  </thead>\n",
       "  <tbody>\n",
       "    <tr>\n",
       "      <th>2018-03-01 00:00:00</th>\n",
       "      <td>124</td>\n",
       "    </tr>\n",
       "    <tr>\n",
       "      <th>2018-03-01 01:00:00</th>\n",
       "      <td>85</td>\n",
       "    </tr>\n",
       "    <tr>\n",
       "      <th>2018-03-01 02:00:00</th>\n",
       "      <td>71</td>\n",
       "    </tr>\n",
       "    <tr>\n",
       "      <th>2018-03-01 03:00:00</th>\n",
       "      <td>66</td>\n",
       "    </tr>\n",
       "    <tr>\n",
       "      <th>2018-03-01 04:00:00</th>\n",
       "      <td>43</td>\n",
       "    </tr>\n",
       "  </tbody>\n",
       "</table>\n",
       "</div>"
      ],
      "text/plain": [
       "                     num_orders\n",
       "datetime                       \n",
       "2018-03-01 00:00:00         124\n",
       "2018-03-01 01:00:00          85\n",
       "2018-03-01 02:00:00          71\n",
       "2018-03-01 03:00:00          66\n",
       "2018-03-01 04:00:00          43"
      ]
     },
     "execution_count": 6,
     "metadata": {},
     "output_type": "execute_result"
    }
   ],
   "source": [
    "# Ресемплирование по одному часу\n",
    "df.sort_index(inplace=True)\n",
    "df_by_hour = df.resample('1H').sum()\n",
    "df_by_hour.head()"
   ]
  },
  {
   "cell_type": "code",
   "execution_count": 7,
   "metadata": {
    "scrolled": true
   },
   "outputs": [
    {
     "data": {
      "image/png": "[encoded data removed]",
      "text/plain": [
       "<Figure size 1152x288 with 1 Axes>"
      ]
     },
     "metadata": {
      "needs_background": "light"
     },
     "output_type": "display_data"
    }
   ],
   "source": [
    "# Построим график и дополним его кривой со скользящим средним\n",
    "df_by_hour['mean'] = df_by_hour['num_orders'].rolling(10).mean()\n",
    "df_by_hour.plot(title='Кол-во заказов', figsize=(16, 4));"
   ]
  },
  {
   "cell_type": "code",
   "execution_count": 8,
   "metadata": {},
   "outputs": [],
   "source": [
    "df_by_hour.drop('mean', axis=1, inplace=True)"
   ]
  },
  {
   "cell_type": "code",
   "execution_count": 9,
   "metadata": {
    "scrolled": true
   },
   "outputs": [
    {
     "data": {
      "image/png": "[encoded data removed]",
      "text/plain": [
       "<Figure size 1152x576 with 3 Axes>"
      ]
     },
     "metadata": {
      "needs_background": "light"
     },
     "output_type": "display_data"
    }
   ],
   "source": [
    "# Визуализируем тренды и сезонность\n",
    "decomposed = seasonal_decompose(df_by_hour)\n",
    "\n",
    "plt.figure(figsize=(16, 8))\n",
    "plt.subplot(311)\n",
    "\n",
    "decomposed.trend.plot(ax=plt.gca())\n",
    "plt.title('Тренды')\n",
    "plt.subplot(312)\n",
    "decomposed.seasonal.plot(ax=plt.gca())\n",
    "\n",
    "plt.title('Сезонность')\n",
    "plt.subplot(313)\n",
    "decomposed.resid.plot(ax=plt.gca())\n",
    "\n",
    "plt.title('Остатки')\n",
    "plt.tight_layout()"
   ]
  },
  {
   "cell_type": "code",
   "execution_count": 10,
   "metadata": {},
   "outputs": [],
   "source": [
    "# Выделим небольшой интервал (начало – понедельник) из графика тренда\n",
    "df_april_weeks = df_by_hour['2018-04-09':'2018-04-22']\n",
    "df_april_weeks_copy = df_april_weeks.copy()"
   ]
  },
  {
   "cell_type": "code",
   "execution_count": 11,
   "metadata": {
    "scrolled": true
   },
   "outputs": [
    {
     "data": {
      "image/png": "[encoded data removed]",
      "text/plain": [
       "<Figure size 1152x432 with 2 Axes>"
      ]
     },
     "metadata": {
      "needs_background": "light"
     },
     "output_type": "display_data"
    }
   ],
   "source": [
    "# Визуализируем тренды и сезонность\n",
    "decomposed_april = seasonal_decompose(df_april_weeks_copy)\n",
    "\n",
    "plt.figure(figsize=(16, 6))\n",
    "\n",
    "plt.subplot(211)\n",
    "decomposed_april.trend.plot(ax=plt.gca())\n",
    "plt.title('Кол-во заказов')\n",
    "\n",
    "plt.subplot(212)\n",
    "decomposed_april.seasonal.plot(ax=plt.gca())\n",
    "plt.title('Сезонность');"
   ]
  },
  {
   "cell_type": "markdown",
   "metadata": {},
   "source": [
    "### Выводы"
   ]
  },
  {
   "cell_type": "markdown",
   "metadata": {},
   "source": [
    "Тренд показывает устойчивый рост с каждым новым месяцем. Заметна характерная «сезонность». При более подробном рассмотрении двухнедельного среза можно выделить следующее: со вторника по пятницу нарастает число заказов, в субботу фиксируется постоянный устойчивый спрос на услуги, самый спокойный день с минимальным числом заказов – вторник (10 и 17 число соответственно)."
   ]
  },
  {
   "cell_type": "markdown",
   "metadata": {},
   "source": [
    "## Обучение"
   ]
  },
  {
   "cell_type": "code",
   "execution_count": 12,
   "metadata": {},
   "outputs": [],
   "source": [
    "# Функция для создания дополнительных признаков\n",
    "def make_features(data, max_lag, rolling_mean_size):\n",
    "    data['dayofweek'] = data.index.dayofweek\n",
    "    data['hour'] = data.index.hour\n",
    "    \n",
    "    for lag in range(1, max_lag + 1):\n",
    "        data[f'lag_{lag}'] = data['num_orders'].shift(lag)\n",
    "\n",
    "    data['rolling_mean'] = data['num_orders'].shift().rolling(rolling_mean_size).mean()\n",
    "\n",
    "make_features(df_by_hour, 1, 24) # 24-часа"
   ]
  },
  {
   "cell_type": "code",
   "execution_count": 13,
   "metadata": {
    "scrolled": true
   },
   "outputs": [
    {
     "name": "stdout",
     "output_type": "stream",
     "text": [
      "Размер обучающей выборки признаков (3950, 4)\n",
      "Размер обучающей выборки меток (3950,)\n",
      "Размер тестовой выборки признаков (442, 4)\n",
      "Размер тестовой выборки меток (442,)\n"
     ]
    }
   ],
   "source": [
    "# Разделение подготовленного датафрейма на выборки\n",
    "train, test = train_test_split(df_by_hour, shuffle=False, test_size=0.1)\n",
    "train = train.dropna()\n",
    "test = test.dropna()\n",
    "\n",
    "X_train = train.drop(['num_orders'], axis=1)\n",
    "y_train = train['num_orders']\n",
    "X_test = test.drop(['num_orders'], axis=1)\n",
    "y_test = test['num_orders']\n",
    "\n",
    "print('Размер обучающей выборки признаков', X_train.shape)\n",
    "print('Размер обучающей выборки меток', y_train.shape)\n",
    "print('Размер тестовой выборки признаков', X_test.shape)\n",
    "print('Размер тестовой выборки меток', y_test.shape)"
   ]
  },
  {
   "cell_type": "code",
   "execution_count": 14,
   "metadata": {},
   "outputs": [],
   "source": [
    "# Создаем функцию для оценки метрики 'RMSE' для моделей машинного обучения\n",
    "def model_check(model):\n",
    "    \"\"\"\n",
    "    Функция принимает на вход модель для машинного обучения\n",
    "    \n",
    "    возвращает: RMSE\n",
    "    \"\"\"\n",
    "\n",
    "    model.fit(X_train, y_train)\n",
    "    predict = model.predict(X_test)\n",
    "\n",
    "    rmse = mean_squared_error(y_test, predict, squared=False)\n",
    "    \n",
    "    return predict, round(rmse, 2)"
   ]
  },
  {
   "cell_type": "code",
   "execution_count": 15,
   "metadata": {},
   "outputs": [
    {
     "data": {
      "text/html": [
       "<div>\n",
       "<style scoped>\n",
       "    .dataframe tbody tr th:only-of-type {\n",
       "        vertical-align: middle;\n",
       "    }\n",
       "\n",
       "    .dataframe tbody tr th {\n",
       "        vertical-align: top;\n",
       "    }\n",
       "\n",
       "    .dataframe thead th {\n",
       "        text-align: right;\n",
       "    }\n",
       "</style>\n",
       "<table border=\"1\" class=\"dataframe\">\n",
       "  <thead>\n",
       "    <tr style=\"text-align: right;\">\n",
       "      <th></th>\n",
       "      <th>RMSE</th>\n",
       "    </tr>\n",
       "  </thead>\n",
       "  <tbody>\n",
       "    <tr>\n",
       "      <th>LGBMRegressor</th>\n",
       "      <td>43.39</td>\n",
       "    </tr>\n",
       "    <tr>\n",
       "      <th>CatBoostRegressor</th>\n",
       "      <td>43.70</td>\n",
       "    </tr>\n",
       "    <tr>\n",
       "      <th>LinearRegression</th>\n",
       "      <td>51.19</td>\n",
       "    </tr>\n",
       "  </tbody>\n",
       "</table>\n",
       "</div>"
      ],
      "text/plain": [
       "                    RMSE\n",
       "LGBMRegressor      43.39\n",
       "CatBoostRegressor  43.70\n",
       "LinearRegression   51.19"
      ]
     },
     "execution_count": 15,
     "metadata": {},
     "output_type": "execute_result"
    }
   ],
   "source": [
    "# Последовательно вызываем созданную функцию для выбранных моделей\n",
    "\n",
    "# LinearRegression()\n",
    "pred_lr, rmse_lr = model_check(LinearRegression())\n",
    "\n",
    "# CatBoostRegressor()\n",
    "pred_cb, rmse_cb = model_check(CatBoostRegressor(silent=True, random_state=12345))\n",
    "\n",
    "# LGBMRegressor()\n",
    "pred_lgbm, rmse_lgbm = model_check(LGBMRegressor(random_state=12345))\n",
    "\n",
    "# Собираем результаты в сводную таблицу\n",
    "pivot_table = pd.DataFrame(data=[rmse_lr, rmse_cb, rmse_lgbm], columns=['RMSE'], index=['LinearRegression', 'CatBoostRegressor', 'LGBMRegressor'])\n",
    "pivot_table.sort_values('RMSE')"
   ]
  },
  {
   "cell_type": "code",
   "execution_count": 16,
   "metadata": {},
   "outputs": [
    {
     "name": "stdout",
     "output_type": "stream",
     "text": [
      "Лучший параметр n_estimators: 90\n",
      "Лучший параметр max_depth: 7\n",
      "Лучшая метрика RMSE 42.96\n"
     ]
    }
   ],
   "source": [
    "# Подбор гиперпараметров для лучшей модели\n",
    "lgbm = LGBMRegressor(random_state=12345)\n",
    "\n",
    "n_estimators = range(10, 120, 10)\n",
    "max_depth = range(1, 10)\n",
    "\n",
    "hyperparameters = dict(n_estimators=n_estimators, max_depth=max_depth)\n",
    "\n",
    "tscv = TimeSeriesSplit() # использовал настройки по умолчанию\n",
    "\n",
    "gridsearch = GridSearchCV(lgbm, hyperparameters, scoring='neg_mean_squared_error', n_jobs=-1, cv=tscv, verbose=0)\n",
    "\n",
    "best_model_tscv = gridsearch.fit(X_train, y_train)\n",
    "\n",
    "predict_best_tscv = best_model_tscv.predict(X_test)\n",
    "\n",
    "rmse_best_tscv = mean_squared_error(y_test, predict_best_tscv, squared=False)\n",
    "\n",
    "print('Лучший параметр n_estimators:', best_model_tscv.best_estimator_.get_params()['n_estimators'])\n",
    "print('Лучший параметр max_depth:', best_model_tscv.best_estimator_.get_params()['max_depth'])\n",
    "\n",
    "print('Лучшая метрика RMSE', round(rmse_best_tscv, 2))"
   ]
  },
  {
   "cell_type": "markdown",
   "metadata": {},
   "source": [
    "### Выводы"
   ]
  },
  {
   "cell_type": "markdown",
   "metadata": {},
   "source": [
    "Преодолен порог (`RMSE` = 48) в рамках учебного задания. Лучший результат показала модель машинного обучения `LGBMRegressor`.  \n",
    "\n",
    "Подбор гиперпараметров позволил улучшить качество модели (приблизительно на 1.0%, 43.39/42.96)."
   ]
  },
  {
   "cell_type": "markdown",
   "metadata": {},
   "source": [
    "## Тестирование"
   ]
  },
  {
   "cell_type": "code",
   "execution_count": 17,
   "metadata": {
    "scrolled": true
   },
   "outputs": [
    {
     "data": {
      "image/png": "[encoded data removed]",
      "text/plain": [
       "<Figure size 1152x288 with 1 Axes>"
      ]
     },
     "metadata": {
      "needs_background": "light"
     },
     "output_type": "display_data"
    }
   ],
   "source": [
    "# Визуализируем фактические данные по заказам и прогнозируемые от лучшей модели машинного обучения\n",
    "df_true = pd.DataFrame(data=y_test)\n",
    "df_pred = pd.DataFrame(predict_best_tscv, columns=['predicted_orders'], index=y_test.index)\n",
    "\n",
    "pd.concat([df_true, df_pred], axis=1).plot(title='Фактическое и прогнозируемое количество заказов', figsize=(16, 4));"
   ]
  },
  {
   "cell_type": "markdown",
   "metadata": {},
   "source": [
    "### Выводы"
   ]
  },
  {
   "cell_type": "markdown",
   "metadata": {},
   "source": [
    "Модель машинного обучения с подбором гиперпараметров описывает фактические данные с минимальной погрешностью."
   ]
  }
 ],
 "metadata": {
  "ExecuteTimeLog": [
   {
    "duration": 405,
    "start_time": "2022-03-23T07:27:44.886Z"
   },
   {
    "duration": 27,
    "start_time": "2022-03-23T07:28:18.159Z"
   },
   {
    "duration": 14,
    "start_time": "2022-03-23T07:28:31.503Z"
   },
   {
    "duration": 37,
    "start_time": "2022-03-23T07:28:38.679Z"
   },
   {
    "duration": 34,
    "start_time": "2022-03-23T07:30:24.359Z"
   },
   {
    "duration": 10,
    "start_time": "2022-03-23T07:31:26.283Z"
   },
   {
    "duration": 58,
    "start_time": "2022-03-23T07:31:39.256Z"
   },
   {
    "duration": 6,
    "start_time": "2022-03-23T07:31:46.107Z"
   },
   {
    "duration": 7,
    "start_time": "2022-03-23T07:39:09.909Z"
   },
   {
    "duration": 6,
    "start_time": "2022-03-23T07:39:13.378Z"
   },
   {
    "duration": 3,
    "start_time": "2022-03-23T07:39:18.218Z"
   },
   {
    "duration": 12,
    "start_time": "2022-03-23T07:53:27.341Z"
   },
   {
    "duration": 10,
    "start_time": "2022-03-23T07:54:52.427Z"
   },
   {
    "duration": 607,
    "start_time": "2022-03-23T07:56:14.645Z"
   },
   {
    "duration": 7,
    "start_time": "2022-03-23T07:59:59.482Z"
   },
   {
    "duration": 195,
    "start_time": "2022-03-23T08:00:06.853Z"
   },
   {
    "duration": 196,
    "start_time": "2022-03-23T08:00:30.333Z"
   },
   {
    "duration": 476,
    "start_time": "2022-03-23T08:01:44.302Z"
   },
   {
    "duration": 44,
    "start_time": "2022-03-23T08:01:44.781Z"
   },
   {
    "duration": 11,
    "start_time": "2022-03-23T08:01:44.827Z"
   },
   {
    "duration": 5,
    "start_time": "2022-03-23T08:01:44.840Z"
   },
   {
    "duration": 5,
    "start_time": "2022-03-23T08:01:44.862Z"
   },
   {
    "duration": 21,
    "start_time": "2022-03-23T08:01:44.868Z"
   },
   {
    "duration": 489,
    "start_time": "2022-03-23T08:01:44.891Z"
   },
   {
    "duration": 209,
    "start_time": "2022-03-23T08:02:33.415Z"
   },
   {
    "duration": 219,
    "start_time": "2022-03-23T08:02:39.983Z"
   },
   {
    "duration": 429,
    "start_time": "2022-03-23T08:02:50.934Z"
   },
   {
    "duration": 46,
    "start_time": "2022-03-23T08:02:51.365Z"
   },
   {
    "duration": 9,
    "start_time": "2022-03-23T08:02:51.413Z"
   },
   {
    "duration": 10,
    "start_time": "2022-03-23T08:02:51.425Z"
   },
   {
    "duration": 9,
    "start_time": "2022-03-23T08:02:51.436Z"
   },
   {
    "duration": 37,
    "start_time": "2022-03-23T08:02:51.448Z"
   },
   {
    "duration": 688,
    "start_time": "2022-03-23T08:02:51.487Z"
   },
   {
    "duration": 422,
    "start_time": "2022-03-23T08:03:03.571Z"
   },
   {
    "duration": 43,
    "start_time": "2022-03-23T08:03:03.995Z"
   },
   {
    "duration": 10,
    "start_time": "2022-03-23T08:03:04.040Z"
   },
   {
    "duration": 13,
    "start_time": "2022-03-23T08:03:04.053Z"
   },
   {
    "duration": 5,
    "start_time": "2022-03-23T08:03:04.068Z"
   },
   {
    "duration": 16,
    "start_time": "2022-03-23T08:03:04.075Z"
   },
   {
    "duration": 531,
    "start_time": "2022-03-23T08:03:04.093Z"
   },
   {
    "duration": 1029,
    "start_time": "2022-03-23T08:05:55.141Z"
   },
   {
    "duration": 0,
    "start_time": "2022-03-23T08:05:56.172Z"
   },
   {
    "duration": 1,
    "start_time": "2022-03-23T08:05:56.173Z"
   },
   {
    "duration": 0,
    "start_time": "2022-03-23T08:05:56.174Z"
   },
   {
    "duration": 0,
    "start_time": "2022-03-23T08:05:56.176Z"
   },
   {
    "duration": 0,
    "start_time": "2022-03-23T08:05:56.177Z"
   },
   {
    "duration": 0,
    "start_time": "2022-03-23T08:05:56.178Z"
   },
   {
    "duration": 12,
    "start_time": "2022-03-23T08:06:40.294Z"
   },
   {
    "duration": 11,
    "start_time": "2022-03-23T08:07:55.410Z"
   },
   {
    "duration": 11,
    "start_time": "2022-03-23T08:09:48.000Z"
   },
   {
    "duration": 964,
    "start_time": "2022-03-23T08:10:09.775Z"
   },
   {
    "duration": 0,
    "start_time": "2022-03-23T08:10:10.740Z"
   },
   {
    "duration": 0,
    "start_time": "2022-03-23T08:10:10.741Z"
   },
   {
    "duration": 0,
    "start_time": "2022-03-23T08:10:10.743Z"
   },
   {
    "duration": 0,
    "start_time": "2022-03-23T08:10:10.744Z"
   },
   {
    "duration": 0,
    "start_time": "2022-03-23T08:10:10.745Z"
   },
   {
    "duration": 0,
    "start_time": "2022-03-23T08:10:10.746Z"
   },
   {
    "duration": 11,
    "start_time": "2022-03-23T08:16:24.386Z"
   },
   {
    "duration": 11,
    "start_time": "2022-03-23T08:48:15.819Z"
   },
   {
    "duration": 944,
    "start_time": "2022-03-23T08:54:16.763Z"
   },
   {
    "duration": 0,
    "start_time": "2022-03-23T08:54:17.710Z"
   },
   {
    "duration": 0,
    "start_time": "2022-03-23T08:54:17.711Z"
   },
   {
    "duration": 0,
    "start_time": "2022-03-23T08:54:17.712Z"
   },
   {
    "duration": 0,
    "start_time": "2022-03-23T08:54:17.713Z"
   },
   {
    "duration": 0,
    "start_time": "2022-03-23T08:54:17.714Z"
   },
   {
    "duration": 0,
    "start_time": "2022-03-23T08:54:17.715Z"
   },
   {
    "duration": 11,
    "start_time": "2022-03-23T08:56:16.060Z"
   },
   {
    "duration": 10,
    "start_time": "2022-03-23T19:12:28.715Z"
   },
   {
    "duration": 43,
    "start_time": "2022-03-23T19:12:29.874Z"
   },
   {
    "duration": 891,
    "start_time": "2022-03-23T19:12:40.917Z"
   },
   {
    "duration": 1296,
    "start_time": "2022-03-24T06:53:45.887Z"
   },
   {
    "duration": 7,
    "start_time": "2022-03-24T07:06:59.734Z"
   },
   {
    "duration": 3,
    "start_time": "2022-03-24T07:07:26.190Z"
   },
   {
    "duration": 10,
    "start_time": "2022-03-24T07:07:41.554Z"
   },
   {
    "duration": 3,
    "start_time": "2022-03-24T07:07:47.951Z"
   },
   {
    "duration": 8,
    "start_time": "2022-03-24T07:10:09.400Z"
   },
   {
    "duration": 10,
    "start_time": "2022-03-24T07:11:30.409Z"
   },
   {
    "duration": 3758,
    "start_time": "2022-03-24T07:14:34.378Z"
   },
   {
    "duration": 893,
    "start_time": "2022-03-24T07:14:54.696Z"
   },
   {
    "duration": 9,
    "start_time": "2022-03-24T07:16:51.768Z"
   },
   {
    "duration": 1611,
    "start_time": "2022-03-24T07:20:55.419Z"
   },
   {
    "duration": 2356,
    "start_time": "2022-03-24T07:21:15.076Z"
   },
   {
    "duration": 13,
    "start_time": "2022-03-24T07:21:26.900Z"
   },
   {
    "duration": 138,
    "start_time": "2022-03-24T07:21:28.861Z"
   },
   {
    "duration": 9,
    "start_time": "2022-03-24T07:21:33.748Z"
   },
   {
    "duration": 4,
    "start_time": "2022-03-24T07:22:33.512Z"
   },
   {
    "duration": 4,
    "start_time": "2022-03-24T07:22:37.784Z"
   },
   {
    "duration": 674,
    "start_time": "2022-03-24T07:23:35.707Z"
   },
   {
    "duration": 1054,
    "start_time": "2022-03-24T07:23:37.395Z"
   },
   {
    "duration": 183,
    "start_time": "2022-03-24T07:23:52.103Z"
   },
   {
    "duration": 63,
    "start_time": "2022-03-24T07:24:13.208Z"
   },
   {
    "duration": 36,
    "start_time": "2022-03-24T07:24:24.856Z"
   },
   {
    "duration": 35,
    "start_time": "2022-03-24T07:24:32.596Z"
   },
   {
    "duration": 14,
    "start_time": "2022-03-24T07:30:39.452Z"
   },
   {
    "duration": 7,
    "start_time": "2022-03-24T07:31:00.596Z"
   },
   {
    "duration": 4,
    "start_time": "2022-03-24T07:31:03.629Z"
   },
   {
    "duration": 12,
    "start_time": "2022-03-24T07:31:22.698Z"
   },
   {
    "duration": 10,
    "start_time": "2022-03-24T07:32:48.508Z"
   },
   {
    "duration": 274,
    "start_time": "2022-03-24T07:33:09.048Z"
   },
   {
    "duration": 290,
    "start_time": "2022-03-24T07:33:21.836Z"
   },
   {
    "duration": 4,
    "start_time": "2022-03-24T07:33:42.597Z"
   },
   {
    "duration": 704,
    "start_time": "2022-03-24T07:34:18.678Z"
   },
   {
    "duration": 816,
    "start_time": "2022-03-24T07:35:11.194Z"
   },
   {
    "duration": 709,
    "start_time": "2022-03-24T07:36:15.953Z"
   },
   {
    "duration": 648,
    "start_time": "2022-03-24T13:17:21.964Z"
   },
   {
    "duration": 909,
    "start_time": "2022-03-24T13:17:22.614Z"
   },
   {
    "duration": 169,
    "start_time": "2022-03-24T13:17:23.525Z"
   },
   {
    "duration": 11,
    "start_time": "2022-03-24T13:17:23.695Z"
   },
   {
    "duration": 5,
    "start_time": "2022-03-24T13:17:23.708Z"
   },
   {
    "duration": 6,
    "start_time": "2022-03-24T13:17:23.715Z"
   },
   {
    "duration": 15,
    "start_time": "2022-03-24T13:17:23.723Z"
   },
   {
    "duration": 302,
    "start_time": "2022-03-24T13:17:23.740Z"
   },
   {
    "duration": 4,
    "start_time": "2022-03-24T13:17:24.043Z"
   },
   {
    "duration": 738,
    "start_time": "2022-03-24T13:17:24.048Z"
   },
   {
    "duration": 8,
    "start_time": "2022-03-24T13:17:24.788Z"
   },
   {
    "duration": 464,
    "start_time": "2022-03-24T13:17:24.797Z"
   },
   {
    "duration": 12,
    "start_time": "2022-03-24T13:18:20.305Z"
   },
   {
    "duration": 13,
    "start_time": "2022-03-24T13:18:32.773Z"
   },
   {
    "duration": 4,
    "start_time": "2022-03-24T13:18:52.814Z"
   },
   {
    "duration": 616,
    "start_time": "2022-03-24T13:21:33.127Z"
   },
   {
    "duration": 1093,
    "start_time": "2022-03-24T13:21:33.745Z"
   },
   {
    "duration": 58,
    "start_time": "2022-03-24T13:21:34.839Z"
   },
   {
    "duration": 12,
    "start_time": "2022-03-24T13:21:34.899Z"
   },
   {
    "duration": 5,
    "start_time": "2022-03-24T13:21:34.912Z"
   },
   {
    "duration": 16,
    "start_time": "2022-03-24T13:21:34.919Z"
   },
   {
    "duration": 17,
    "start_time": "2022-03-24T13:21:34.937Z"
   },
   {
    "duration": 301,
    "start_time": "2022-03-24T13:21:34.956Z"
   },
   {
    "duration": 3,
    "start_time": "2022-03-24T13:21:35.260Z"
   },
   {
    "duration": 755,
    "start_time": "2022-03-24T13:21:35.266Z"
   },
   {
    "duration": 6,
    "start_time": "2022-03-24T13:21:36.023Z"
   },
   {
    "duration": 333,
    "start_time": "2022-03-24T13:21:36.031Z"
   },
   {
    "duration": 18,
    "start_time": "2022-03-24T13:21:36.365Z"
   },
   {
    "duration": 14,
    "start_time": "2022-03-24T13:21:36.387Z"
   },
   {
    "duration": 4,
    "start_time": "2022-03-24T13:21:36.403Z"
   },
   {
    "duration": 121986,
    "start_time": "2022-03-24T13:21:36.409Z"
   },
   {
    "duration": 575,
    "start_time": "2022-03-24T13:24:20.922Z"
   },
   {
    "duration": 2522,
    "start_time": "2022-03-24T13:24:21.499Z"
   },
   {
    "duration": 293,
    "start_time": "2022-03-24T13:24:24.023Z"
   },
   {
    "duration": 10,
    "start_time": "2022-03-24T13:24:24.319Z"
   },
   {
    "duration": 5,
    "start_time": "2022-03-24T13:24:24.330Z"
   },
   {
    "duration": 6,
    "start_time": "2022-03-24T13:24:24.337Z"
   },
   {
    "duration": 11,
    "start_time": "2022-03-24T13:24:24.345Z"
   },
   {
    "duration": 313,
    "start_time": "2022-03-24T13:24:24.357Z"
   },
   {
    "duration": 4,
    "start_time": "2022-03-24T13:24:24.672Z"
   },
   {
    "duration": 1040,
    "start_time": "2022-03-24T13:24:24.679Z"
   },
   {
    "duration": 5,
    "start_time": "2022-03-24T13:24:25.721Z"
   },
   {
    "duration": 326,
    "start_time": "2022-03-24T13:24:25.728Z"
   },
   {
    "duration": 29,
    "start_time": "2022-03-24T13:24:26.055Z"
   },
   {
    "duration": 16,
    "start_time": "2022-03-24T13:24:26.085Z"
   },
   {
    "duration": 6,
    "start_time": "2022-03-24T13:24:26.103Z"
   },
   {
    "duration": 107062,
    "start_time": "2022-03-24T13:24:26.111Z"
   },
   {
    "duration": 667,
    "start_time": "2022-03-24T13:28:02.330Z"
   },
   {
    "duration": 916,
    "start_time": "2022-03-24T13:28:02.999Z"
   },
   {
    "duration": 41,
    "start_time": "2022-03-24T13:28:03.917Z"
   },
   {
    "duration": 10,
    "start_time": "2022-03-24T13:28:03.961Z"
   },
   {
    "duration": 21,
    "start_time": "2022-03-24T13:28:03.972Z"
   },
   {
    "duration": 25,
    "start_time": "2022-03-24T13:28:03.995Z"
   },
   {
    "duration": 34,
    "start_time": "2022-03-24T13:28:04.021Z"
   },
   {
    "duration": 285,
    "start_time": "2022-03-24T13:28:04.056Z"
   },
   {
    "duration": 3,
    "start_time": "2022-03-24T13:28:04.343Z"
   },
   {
    "duration": 749,
    "start_time": "2022-03-24T13:28:04.348Z"
   },
   {
    "duration": 6,
    "start_time": "2022-03-24T13:28:05.098Z"
   },
   {
    "duration": 341,
    "start_time": "2022-03-24T13:28:05.105Z"
   },
   {
    "duration": 12,
    "start_time": "2022-03-24T13:28:05.448Z"
   },
   {
    "duration": 29,
    "start_time": "2022-03-24T13:28:05.461Z"
   },
   {
    "duration": 4,
    "start_time": "2022-03-24T13:28:05.491Z"
   },
   {
    "duration": 7605,
    "start_time": "2022-03-24T13:28:05.497Z"
   },
   {
    "duration": 287,
    "start_time": "2022-03-24T13:28:42.200Z"
   },
   {
    "duration": 652,
    "start_time": "2022-03-24T13:29:01.166Z"
   },
   {
    "duration": 899,
    "start_time": "2022-03-24T13:29:01.820Z"
   },
   {
    "duration": 44,
    "start_time": "2022-03-24T13:29:02.721Z"
   },
   {
    "duration": 10,
    "start_time": "2022-03-24T13:29:02.767Z"
   },
   {
    "duration": 5,
    "start_time": "2022-03-24T13:29:02.788Z"
   },
   {
    "duration": 6,
    "start_time": "2022-03-24T13:29:02.795Z"
   },
   {
    "duration": 14,
    "start_time": "2022-03-24T13:29:02.803Z"
   },
   {
    "duration": 276,
    "start_time": "2022-03-24T13:29:02.819Z"
   },
   {
    "duration": 4,
    "start_time": "2022-03-24T13:29:03.097Z"
   },
   {
    "duration": 756,
    "start_time": "2022-03-24T13:29:03.104Z"
   },
   {
    "duration": 6,
    "start_time": "2022-03-24T13:29:03.862Z"
   },
   {
    "duration": 427,
    "start_time": "2022-03-24T13:29:03.870Z"
   },
   {
    "duration": 12,
    "start_time": "2022-03-24T13:29:04.300Z"
   },
   {
    "duration": 12,
    "start_time": "2022-03-24T13:29:04.313Z"
   },
   {
    "duration": 4,
    "start_time": "2022-03-24T13:29:04.326Z"
   },
   {
    "duration": 7775,
    "start_time": "2022-03-24T13:29:04.331Z"
   },
   {
    "duration": 292,
    "start_time": "2022-03-24T13:29:12.108Z"
   },
   {
    "duration": 352,
    "start_time": "2022-03-24T13:40:09.429Z"
   },
   {
    "duration": 693,
    "start_time": "2022-03-24T13:40:30.057Z"
   },
   {
    "duration": 1053,
    "start_time": "2022-03-24T13:40:30.752Z"
   },
   {
    "duration": 53,
    "start_time": "2022-03-24T13:40:31.807Z"
   },
   {
    "duration": 10,
    "start_time": "2022-03-24T13:40:31.863Z"
   },
   {
    "duration": 21,
    "start_time": "2022-03-24T13:40:31.876Z"
   },
   {
    "duration": 12,
    "start_time": "2022-03-24T13:40:31.899Z"
   },
   {
    "duration": 31,
    "start_time": "2022-03-24T13:40:31.912Z"
   },
   {
    "duration": 278,
    "start_time": "2022-03-24T13:40:31.944Z"
   },
   {
    "duration": 4,
    "start_time": "2022-03-24T13:40:32.224Z"
   },
   {
    "duration": 749,
    "start_time": "2022-03-24T13:40:32.230Z"
   },
   {
    "duration": 5,
    "start_time": "2022-03-24T13:40:32.981Z"
   },
   {
    "duration": 320,
    "start_time": "2022-03-24T13:40:32.988Z"
   },
   {
    "duration": 13,
    "start_time": "2022-03-24T13:40:33.311Z"
   },
   {
    "duration": 13,
    "start_time": "2022-03-24T13:40:33.327Z"
   },
   {
    "duration": 4,
    "start_time": "2022-03-24T13:40:33.341Z"
   },
   {
    "duration": 20142,
    "start_time": "2022-03-24T13:40:33.347Z"
   },
   {
    "duration": 420,
    "start_time": "2022-03-24T13:40:53.491Z"
   },
   {
    "duration": 177,
    "start_time": "2022-03-24T13:43:12.473Z"
   },
   {
    "duration": 113,
    "start_time": "2022-03-24T13:44:50.634Z"
   },
   {
    "duration": 676,
    "start_time": "2022-03-24T13:44:59.254Z"
   },
   {
    "duration": 884,
    "start_time": "2022-03-24T13:44:59.932Z"
   },
   {
    "duration": 45,
    "start_time": "2022-03-24T13:45:00.817Z"
   },
   {
    "duration": 9,
    "start_time": "2022-03-24T13:45:00.864Z"
   },
   {
    "duration": 13,
    "start_time": "2022-03-24T13:45:00.874Z"
   },
   {
    "duration": 18,
    "start_time": "2022-03-24T13:45:00.889Z"
   },
   {
    "duration": 22,
    "start_time": "2022-03-24T13:45:00.909Z"
   },
   {
    "duration": 277,
    "start_time": "2022-03-24T13:45:00.933Z"
   },
   {
    "duration": 5,
    "start_time": "2022-03-24T13:45:01.211Z"
   },
   {
    "duration": 737,
    "start_time": "2022-03-24T13:45:01.218Z"
   },
   {
    "duration": 5,
    "start_time": "2022-03-24T13:45:01.957Z"
   },
   {
    "duration": 339,
    "start_time": "2022-03-24T13:45:01.964Z"
   },
   {
    "duration": 11,
    "start_time": "2022-03-24T13:45:02.305Z"
   },
   {
    "duration": 14,
    "start_time": "2022-03-24T13:45:02.318Z"
   },
   {
    "duration": 4,
    "start_time": "2022-03-24T13:45:02.333Z"
   },
   {
    "duration": 32951,
    "start_time": "2022-03-24T13:45:02.338Z"
   },
   {
    "duration": 248,
    "start_time": "2022-03-24T13:45:35.290Z"
   },
   {
    "duration": 648,
    "start_time": "2022-03-24T13:47:44.039Z"
   },
   {
    "duration": 921,
    "start_time": "2022-03-24T13:47:44.689Z"
   },
   {
    "duration": 42,
    "start_time": "2022-03-24T13:47:45.612Z"
   },
   {
    "duration": 9,
    "start_time": "2022-03-24T13:47:45.656Z"
   },
   {
    "duration": 21,
    "start_time": "2022-03-24T13:47:45.666Z"
   },
   {
    "duration": 13,
    "start_time": "2022-03-24T13:47:45.689Z"
   },
   {
    "duration": 31,
    "start_time": "2022-03-24T13:47:45.704Z"
   },
   {
    "duration": 281,
    "start_time": "2022-03-24T13:47:45.737Z"
   },
   {
    "duration": 4,
    "start_time": "2022-03-24T13:47:46.020Z"
   },
   {
    "duration": 1158,
    "start_time": "2022-03-24T13:47:46.028Z"
   },
   {
    "duration": 8,
    "start_time": "2022-03-24T13:47:47.187Z"
   },
   {
    "duration": 318,
    "start_time": "2022-03-24T13:47:47.196Z"
   },
   {
    "duration": 13,
    "start_time": "2022-03-24T13:47:47.516Z"
   },
   {
    "duration": 31,
    "start_time": "2022-03-24T13:47:47.531Z"
   },
   {
    "duration": 5,
    "start_time": "2022-03-24T13:47:47.564Z"
   },
   {
    "duration": 25822,
    "start_time": "2022-03-24T13:47:47.570Z"
   },
   {
    "duration": 277,
    "start_time": "2022-03-24T13:48:13.393Z"
   },
   {
    "duration": 242,
    "start_time": "2022-03-24T13:55:02.829Z"
   },
   {
    "duration": 338,
    "start_time": "2022-03-24T13:55:36.465Z"
   },
   {
    "duration": 216,
    "start_time": "2022-03-24T13:55:42.270Z"
   },
   {
    "duration": 718,
    "start_time": "2022-03-24T13:57:30.018Z"
   },
   {
    "duration": 1216,
    "start_time": "2022-03-24T13:57:30.738Z"
   },
   {
    "duration": 62,
    "start_time": "2022-03-24T13:57:31.955Z"
   },
   {
    "duration": 11,
    "start_time": "2022-03-24T13:57:32.019Z"
   },
   {
    "duration": 7,
    "start_time": "2022-03-24T13:57:32.032Z"
   },
   {
    "duration": 8,
    "start_time": "2022-03-24T13:57:32.041Z"
   },
   {
    "duration": 48,
    "start_time": "2022-03-24T13:57:32.051Z"
   },
   {
    "duration": 402,
    "start_time": "2022-03-24T13:57:32.103Z"
   },
   {
    "duration": 4,
    "start_time": "2022-03-24T13:57:32.507Z"
   },
   {
    "duration": 932,
    "start_time": "2022-03-24T13:57:32.514Z"
   },
   {
    "duration": 6,
    "start_time": "2022-03-24T13:57:33.448Z"
   },
   {
    "duration": 505,
    "start_time": "2022-03-24T13:57:33.456Z"
   },
   {
    "duration": 28,
    "start_time": "2022-03-24T13:57:33.962Z"
   },
   {
    "duration": 18,
    "start_time": "2022-03-24T13:57:33.992Z"
   },
   {
    "duration": 4,
    "start_time": "2022-03-24T13:57:34.013Z"
   },
   {
    "duration": 342088,
    "start_time": "2022-03-24T13:57:34.019Z"
   },
   {
    "duration": 263,
    "start_time": "2022-03-24T14:03:16.109Z"
   },
   {
    "duration": 593,
    "start_time": "2022-03-24T14:04:04.007Z"
   },
   {
    "duration": 927,
    "start_time": "2022-03-24T14:04:04.603Z"
   },
   {
    "duration": 284,
    "start_time": "2022-03-24T14:04:05.531Z"
   },
   {
    "duration": 9,
    "start_time": "2022-03-24T14:04:05.817Z"
   },
   {
    "duration": 4,
    "start_time": "2022-03-24T14:04:05.828Z"
   },
   {
    "duration": 9,
    "start_time": "2022-03-24T14:04:05.834Z"
   },
   {
    "duration": 18,
    "start_time": "2022-03-24T14:04:05.845Z"
   },
   {
    "duration": 305,
    "start_time": "2022-03-24T14:04:05.864Z"
   },
   {
    "duration": 5,
    "start_time": "2022-03-24T14:04:06.171Z"
   },
   {
    "duration": 840,
    "start_time": "2022-03-24T14:04:06.178Z"
   },
   {
    "duration": 6,
    "start_time": "2022-03-24T14:04:07.019Z"
   },
   {
    "duration": 354,
    "start_time": "2022-03-24T14:04:07.027Z"
   },
   {
    "duration": 17,
    "start_time": "2022-03-24T14:04:07.383Z"
   },
   {
    "duration": 15,
    "start_time": "2022-03-24T14:04:07.401Z"
   },
   {
    "duration": 5,
    "start_time": "2022-03-24T14:04:07.418Z"
   },
   {
    "duration": 169865,
    "start_time": "2022-03-24T14:04:07.425Z"
   },
   {
    "duration": 346,
    "start_time": "2022-03-24T14:06:57.292Z"
   },
   {
    "duration": 675,
    "start_time": "2022-03-24T14:08:08.988Z"
   },
   {
    "duration": 913,
    "start_time": "2022-03-24T14:08:09.665Z"
   },
   {
    "duration": 43,
    "start_time": "2022-03-24T14:08:10.580Z"
   },
   {
    "duration": 10,
    "start_time": "2022-03-24T14:08:10.625Z"
   },
   {
    "duration": 5,
    "start_time": "2022-03-24T14:08:10.637Z"
   },
   {
    "duration": 6,
    "start_time": "2022-03-24T14:08:10.643Z"
   },
   {
    "duration": 15,
    "start_time": "2022-03-24T14:08:10.650Z"
   },
   {
    "duration": 268,
    "start_time": "2022-03-24T14:08:10.681Z"
   },
   {
    "duration": 4,
    "start_time": "2022-03-24T14:08:10.951Z"
   },
   {
    "duration": 732,
    "start_time": "2022-03-24T14:08:10.957Z"
   },
   {
    "duration": 5,
    "start_time": "2022-03-24T14:08:11.691Z"
   },
   {
    "duration": 317,
    "start_time": "2022-03-24T14:08:11.697Z"
   },
   {
    "duration": 12,
    "start_time": "2022-03-24T14:08:12.016Z"
   },
   {
    "duration": 32,
    "start_time": "2022-03-24T14:08:12.029Z"
   },
   {
    "duration": 4,
    "start_time": "2022-03-24T14:08:12.063Z"
   },
   {
    "duration": 19027,
    "start_time": "2022-03-24T14:08:12.069Z"
   },
   {
    "duration": 400,
    "start_time": "2022-03-24T14:08:31.098Z"
   },
   {
    "duration": 697,
    "start_time": "2022-03-24T14:08:57.986Z"
   },
   {
    "duration": 890,
    "start_time": "2022-03-24T14:08:58.685Z"
   },
   {
    "duration": 42,
    "start_time": "2022-03-24T14:08:59.576Z"
   },
   {
    "duration": 9,
    "start_time": "2022-03-24T14:08:59.621Z"
   },
   {
    "duration": 4,
    "start_time": "2022-03-24T14:08:59.632Z"
   },
   {
    "duration": 7,
    "start_time": "2022-03-24T14:08:59.638Z"
   },
   {
    "duration": 12,
    "start_time": "2022-03-24T14:08:59.647Z"
   },
   {
    "duration": 276,
    "start_time": "2022-03-24T14:08:59.661Z"
   },
   {
    "duration": 5,
    "start_time": "2022-03-24T14:08:59.939Z"
   },
   {
    "duration": 1065,
    "start_time": "2022-03-24T14:08:59.947Z"
   },
   {
    "duration": 7,
    "start_time": "2022-03-24T14:09:01.014Z"
   },
   {
    "duration": 328,
    "start_time": "2022-03-24T14:09:01.022Z"
   },
   {
    "duration": 11,
    "start_time": "2022-03-24T14:09:01.352Z"
   },
   {
    "duration": 13,
    "start_time": "2022-03-24T14:09:01.381Z"
   },
   {
    "duration": 6,
    "start_time": "2022-03-24T14:09:01.396Z"
   },
   {
    "duration": 15888,
    "start_time": "2022-03-24T14:09:01.404Z"
   },
   {
    "duration": 266,
    "start_time": "2022-03-24T14:09:17.294Z"
   },
   {
    "duration": 686,
    "start_time": "2022-03-24T14:10:28.659Z"
   },
   {
    "duration": 945,
    "start_time": "2022-03-24T14:10:29.347Z"
   },
   {
    "duration": 52,
    "start_time": "2022-03-24T14:10:30.294Z"
   },
   {
    "duration": 9,
    "start_time": "2022-03-24T14:10:30.350Z"
   },
   {
    "duration": 15,
    "start_time": "2022-03-24T14:10:30.360Z"
   },
   {
    "duration": 26,
    "start_time": "2022-03-24T14:10:30.376Z"
   },
   {
    "duration": 31,
    "start_time": "2022-03-24T14:10:30.404Z"
   },
   {
    "duration": 273,
    "start_time": "2022-03-24T14:10:30.436Z"
   },
   {
    "duration": 3,
    "start_time": "2022-03-24T14:10:30.712Z"
   },
   {
    "duration": 770,
    "start_time": "2022-03-24T14:10:30.718Z"
   },
   {
    "duration": 5,
    "start_time": "2022-03-24T14:10:31.490Z"
   },
   {
    "duration": 314,
    "start_time": "2022-03-24T14:10:31.496Z"
   },
   {
    "duration": 11,
    "start_time": "2022-03-24T14:10:31.811Z"
   },
   {
    "duration": 20,
    "start_time": "2022-03-24T14:10:31.824Z"
   },
   {
    "duration": 4,
    "start_time": "2022-03-24T14:10:31.846Z"
   },
   {
    "duration": 10839,
    "start_time": "2022-03-24T14:10:31.851Z"
   },
   {
    "duration": 245,
    "start_time": "2022-03-24T14:10:42.691Z"
   },
   {
    "duration": 676,
    "start_time": "2022-03-24T14:11:25.253Z"
   },
   {
    "duration": 887,
    "start_time": "2022-03-24T14:11:25.931Z"
   },
   {
    "duration": 57,
    "start_time": "2022-03-24T14:11:26.820Z"
   },
   {
    "duration": 9,
    "start_time": "2022-03-24T14:11:26.879Z"
   },
   {
    "duration": 4,
    "start_time": "2022-03-24T14:11:26.890Z"
   },
   {
    "duration": 6,
    "start_time": "2022-03-24T14:11:26.896Z"
   },
   {
    "duration": 15,
    "start_time": "2022-03-24T14:11:26.903Z"
   },
   {
    "duration": 304,
    "start_time": "2022-03-24T14:11:26.920Z"
   },
   {
    "duration": 4,
    "start_time": "2022-03-24T14:11:27.226Z"
   },
   {
    "duration": 717,
    "start_time": "2022-03-24T14:11:27.232Z"
   },
   {
    "duration": 5,
    "start_time": "2022-03-24T14:11:27.950Z"
   },
   {
    "duration": 327,
    "start_time": "2022-03-24T14:11:27.957Z"
   },
   {
    "duration": 13,
    "start_time": "2022-03-24T14:11:28.286Z"
   },
   {
    "duration": 13,
    "start_time": "2022-03-24T14:11:28.300Z"
   },
   {
    "duration": 4,
    "start_time": "2022-03-24T14:11:28.315Z"
   },
   {
    "duration": 30070,
    "start_time": "2022-03-24T14:11:28.320Z"
   },
   {
    "duration": 250,
    "start_time": "2022-03-24T14:11:58.392Z"
   },
   {
    "duration": 830,
    "start_time": "2022-03-24T14:14:17.601Z"
   },
   {
    "duration": 1378,
    "start_time": "2022-03-24T14:14:18.434Z"
   },
   {
    "duration": 149,
    "start_time": "2022-03-24T14:14:19.814Z"
   },
   {
    "duration": 10,
    "start_time": "2022-03-24T14:14:19.965Z"
   },
   {
    "duration": 6,
    "start_time": "2022-03-24T14:14:19.977Z"
   },
   {
    "duration": 6,
    "start_time": "2022-03-24T14:14:19.985Z"
   },
   {
    "duration": 19,
    "start_time": "2022-03-24T14:14:19.993Z"
   },
   {
    "duration": 328,
    "start_time": "2022-03-24T14:14:20.014Z"
   },
   {
    "duration": 5,
    "start_time": "2022-03-24T14:14:20.343Z"
   },
   {
    "duration": 893,
    "start_time": "2022-03-24T14:14:20.351Z"
   },
   {
    "duration": 6,
    "start_time": "2022-03-24T14:14:21.245Z"
   },
   {
    "duration": 318,
    "start_time": "2022-03-24T14:14:21.253Z"
   },
   {
    "duration": 10,
    "start_time": "2022-03-24T14:14:21.581Z"
   },
   {
    "duration": 13,
    "start_time": "2022-03-24T14:14:21.593Z"
   },
   {
    "duration": 4,
    "start_time": "2022-03-24T14:14:21.607Z"
   },
   {
    "duration": 280291,
    "start_time": "2022-03-24T14:14:21.612Z"
   },
   {
    "duration": 414,
    "start_time": "2022-03-24T14:19:01.905Z"
   },
   {
    "duration": 153,
    "start_time": "2022-03-24T14:25:31.965Z"
   },
   {
    "duration": 620,
    "start_time": "2022-03-24T14:27:39.206Z"
   },
   {
    "duration": 1101,
    "start_time": "2022-03-24T14:27:39.828Z"
   },
   {
    "duration": 355,
    "start_time": "2022-03-24T14:27:40.931Z"
   },
   {
    "duration": 14,
    "start_time": "2022-03-24T14:27:41.288Z"
   },
   {
    "duration": 5,
    "start_time": "2022-03-24T14:27:41.304Z"
   },
   {
    "duration": 7,
    "start_time": "2022-03-24T14:27:41.311Z"
   },
   {
    "duration": 18,
    "start_time": "2022-03-24T14:27:41.320Z"
   },
   {
    "duration": 358,
    "start_time": "2022-03-24T14:27:41.339Z"
   },
   {
    "duration": 5,
    "start_time": "2022-03-24T14:27:41.699Z"
   },
   {
    "duration": 1322,
    "start_time": "2022-03-24T14:27:41.708Z"
   },
   {
    "duration": 7,
    "start_time": "2022-03-24T14:27:43.033Z"
   },
   {
    "duration": 542,
    "start_time": "2022-03-24T14:27:43.042Z"
   },
   {
    "duration": 17,
    "start_time": "2022-03-24T14:27:43.586Z"
   },
   {
    "duration": 13,
    "start_time": "2022-03-24T14:27:43.606Z"
   },
   {
    "duration": 4,
    "start_time": "2022-03-24T14:27:43.621Z"
   },
   {
    "duration": 336484,
    "start_time": "2022-03-24T14:27:43.627Z"
   },
   {
    "duration": 305,
    "start_time": "2022-03-24T14:33:20.113Z"
   },
   {
    "duration": 211,
    "start_time": "2022-03-24T16:53:09.270Z"
   },
   {
    "duration": 3,
    "start_time": "2022-03-24T16:53:20.831Z"
   },
   {
    "duration": 658,
    "start_time": "2022-03-24T18:37:02.837Z"
   },
   {
    "duration": 912,
    "start_time": "2022-03-24T18:37:03.498Z"
   },
   {
    "duration": 44,
    "start_time": "2022-03-24T18:37:04.412Z"
   },
   {
    "duration": 12,
    "start_time": "2022-03-24T18:37:04.459Z"
   },
   {
    "duration": 5,
    "start_time": "2022-03-24T18:37:04.473Z"
   },
   {
    "duration": 12,
    "start_time": "2022-03-24T18:37:04.480Z"
   },
   {
    "duration": 18,
    "start_time": "2022-03-24T18:37:04.494Z"
   },
   {
    "duration": 316,
    "start_time": "2022-03-24T18:37:04.514Z"
   },
   {
    "duration": 4,
    "start_time": "2022-03-24T18:37:04.831Z"
   },
   {
    "duration": 795,
    "start_time": "2022-03-24T18:37:04.838Z"
   },
   {
    "duration": 5,
    "start_time": "2022-03-24T18:37:05.634Z"
   },
   {
    "duration": 289,
    "start_time": "2022-03-24T18:37:05.641Z"
   },
   {
    "duration": 11,
    "start_time": "2022-03-24T18:37:05.931Z"
   },
   {
    "duration": 24,
    "start_time": "2022-03-24T18:37:05.944Z"
   },
   {
    "duration": 30,
    "start_time": "2022-03-24T18:37:05.969Z"
   },
   {
    "duration": 3995,
    "start_time": "2022-03-24T18:37:06.001Z"
   },
   {
    "duration": 46906,
    "start_time": "2022-03-24T18:37:09.997Z"
   },
   {
    "duration": 4,
    "start_time": "2022-03-24T18:37:56.904Z"
   },
   {
    "duration": 208,
    "start_time": "2022-03-24T18:37:56.910Z"
   },
   {
    "duration": 588,
    "start_time": "2022-03-24T18:39:44.606Z"
   },
   {
    "duration": 884,
    "start_time": "2022-03-24T18:39:45.195Z"
   },
   {
    "duration": 44,
    "start_time": "2022-03-24T18:39:46.082Z"
   },
   {
    "duration": 10,
    "start_time": "2022-03-24T18:39:46.128Z"
   },
   {
    "duration": 5,
    "start_time": "2022-03-24T18:39:46.140Z"
   },
   {
    "duration": 7,
    "start_time": "2022-03-24T18:39:46.147Z"
   },
   {
    "duration": 26,
    "start_time": "2022-03-24T18:39:46.156Z"
   },
   {
    "duration": 273,
    "start_time": "2022-03-24T18:39:46.184Z"
   },
   {
    "duration": 3,
    "start_time": "2022-03-24T18:39:46.459Z"
   },
   {
    "duration": 737,
    "start_time": "2022-03-24T18:39:46.463Z"
   },
   {
    "duration": 5,
    "start_time": "2022-03-24T18:39:47.202Z"
   },
   {
    "duration": 281,
    "start_time": "2022-03-24T18:39:47.208Z"
   },
   {
    "duration": 11,
    "start_time": "2022-03-24T18:39:47.490Z"
   },
   {
    "duration": 12,
    "start_time": "2022-03-24T18:39:47.502Z"
   },
   {
    "duration": 3,
    "start_time": "2022-03-24T18:39:47.515Z"
   },
   {
    "duration": 3968,
    "start_time": "2022-03-24T18:39:47.520Z"
   },
   {
    "duration": 69773,
    "start_time": "2022-03-24T18:39:51.490Z"
   },
   {
    "duration": 4,
    "start_time": "2022-03-24T18:41:01.265Z"
   },
   {
    "duration": 228,
    "start_time": "2022-03-24T18:41:01.271Z"
   },
   {
    "duration": 561,
    "start_time": "2022-03-24T18:41:46.626Z"
   },
   {
    "duration": 845,
    "start_time": "2022-03-24T18:41:47.189Z"
   },
   {
    "duration": 51,
    "start_time": "2022-03-24T18:41:48.035Z"
   },
   {
    "duration": 8,
    "start_time": "2022-03-24T18:41:48.088Z"
   },
   {
    "duration": 5,
    "start_time": "2022-03-24T18:41:48.097Z"
   },
   {
    "duration": 5,
    "start_time": "2022-03-24T18:41:48.103Z"
   },
   {
    "duration": 12,
    "start_time": "2022-03-24T18:41:48.110Z"
   },
   {
    "duration": 298,
    "start_time": "2022-03-24T18:41:48.123Z"
   },
   {
    "duration": 3,
    "start_time": "2022-03-24T18:41:48.423Z"
   },
   {
    "duration": 767,
    "start_time": "2022-03-24T18:41:48.428Z"
   },
   {
    "duration": 7,
    "start_time": "2022-03-24T18:41:49.197Z"
   },
   {
    "duration": 285,
    "start_time": "2022-03-24T18:41:49.206Z"
   },
   {
    "duration": 10,
    "start_time": "2022-03-24T18:41:49.492Z"
   },
   {
    "duration": 11,
    "start_time": "2022-03-24T18:41:49.504Z"
   },
   {
    "duration": 3,
    "start_time": "2022-03-24T18:41:49.517Z"
   },
   {
    "duration": 4573,
    "start_time": "2022-03-24T18:41:49.521Z"
   },
   {
    "duration": 23510,
    "start_time": "2022-03-24T18:41:54.096Z"
   },
   {
    "duration": 6,
    "start_time": "2022-03-24T18:42:17.607Z"
   },
   {
    "duration": 218,
    "start_time": "2022-03-24T18:42:17.615Z"
   },
   {
    "duration": 642,
    "start_time": "2022-03-24T18:46:08.446Z"
   },
   {
    "duration": 877,
    "start_time": "2022-03-24T18:46:09.089Z"
   },
   {
    "duration": 51,
    "start_time": "2022-03-24T18:46:09.967Z"
   },
   {
    "duration": 9,
    "start_time": "2022-03-24T18:46:10.019Z"
   },
   {
    "duration": 5,
    "start_time": "2022-03-24T18:46:10.029Z"
   },
   {
    "duration": 8,
    "start_time": "2022-03-24T18:46:10.035Z"
   },
   {
    "duration": 13,
    "start_time": "2022-03-24T18:46:10.045Z"
   },
   {
    "duration": 294,
    "start_time": "2022-03-24T18:46:10.059Z"
   },
   {
    "duration": 4,
    "start_time": "2022-03-24T18:46:10.355Z"
   },
   {
    "duration": 736,
    "start_time": "2022-03-24T18:46:10.361Z"
   },
   {
    "duration": 6,
    "start_time": "2022-03-24T18:46:11.098Z"
   },
   {
    "duration": 304,
    "start_time": "2022-03-24T18:46:11.106Z"
   },
   {
    "duration": 11,
    "start_time": "2022-03-24T18:46:11.412Z"
   },
   {
    "duration": 27,
    "start_time": "2022-03-24T18:46:11.424Z"
   },
   {
    "duration": 4,
    "start_time": "2022-03-24T18:46:11.453Z"
   },
   {
    "duration": 3637,
    "start_time": "2022-03-24T18:46:11.458Z"
   },
   {
    "duration": 24631,
    "start_time": "2022-03-24T18:46:15.096Z"
   },
   {
    "duration": 4,
    "start_time": "2022-03-24T18:46:39.729Z"
   },
   {
    "duration": 224,
    "start_time": "2022-03-24T18:46:39.734Z"
   },
   {
    "duration": 654,
    "start_time": "2022-03-24T18:47:14.872Z"
   },
   {
    "duration": 859,
    "start_time": "2022-03-24T18:47:15.527Z"
   },
   {
    "duration": 41,
    "start_time": "2022-03-24T18:47:16.388Z"
   },
   {
    "duration": 9,
    "start_time": "2022-03-24T18:47:16.430Z"
   },
   {
    "duration": 6,
    "start_time": "2022-03-24T18:47:16.440Z"
   },
   {
    "duration": 7,
    "start_time": "2022-03-24T18:47:16.447Z"
   },
   {
    "duration": 12,
    "start_time": "2022-03-24T18:47:16.455Z"
   },
   {
    "duration": 280,
    "start_time": "2022-03-24T18:47:16.481Z"
   },
   {
    "duration": 3,
    "start_time": "2022-03-24T18:47:16.763Z"
   },
   {
    "duration": 700,
    "start_time": "2022-03-24T18:47:16.768Z"
   },
   {
    "duration": 11,
    "start_time": "2022-03-24T18:47:17.470Z"
   },
   {
    "duration": 281,
    "start_time": "2022-03-24T18:47:17.482Z"
   },
   {
    "duration": 20,
    "start_time": "2022-03-24T18:47:17.764Z"
   },
   {
    "duration": 12,
    "start_time": "2022-03-24T18:47:17.786Z"
   },
   {
    "duration": 4,
    "start_time": "2022-03-24T18:47:17.800Z"
   },
   {
    "duration": 3686,
    "start_time": "2022-03-24T18:47:17.806Z"
   },
   {
    "duration": 23860,
    "start_time": "2022-03-24T18:47:21.493Z"
   },
   {
    "duration": 4,
    "start_time": "2022-03-24T18:47:45.354Z"
   },
   {
    "duration": 202,
    "start_time": "2022-03-24T18:47:45.360Z"
   },
   {
    "duration": 636,
    "start_time": "2022-03-24T18:48:49.745Z"
   },
   {
    "duration": 827,
    "start_time": "2022-03-24T18:48:50.383Z"
   },
   {
    "duration": 39,
    "start_time": "2022-03-24T18:48:51.212Z"
   },
   {
    "duration": 9,
    "start_time": "2022-03-24T18:48:51.252Z"
   },
   {
    "duration": 4,
    "start_time": "2022-03-24T18:48:51.262Z"
   },
   {
    "duration": 5,
    "start_time": "2022-03-24T18:48:51.268Z"
   },
   {
    "duration": 12,
    "start_time": "2022-03-24T18:48:51.281Z"
   },
   {
    "duration": 283,
    "start_time": "2022-03-24T18:48:51.294Z"
   },
   {
    "duration": 4,
    "start_time": "2022-03-24T18:48:51.578Z"
   },
   {
    "duration": 684,
    "start_time": "2022-03-24T18:48:51.584Z"
   },
   {
    "duration": 13,
    "start_time": "2022-03-24T18:48:52.270Z"
   },
   {
    "duration": 267,
    "start_time": "2022-03-24T18:48:52.285Z"
   },
   {
    "duration": 10,
    "start_time": "2022-03-24T18:48:52.554Z"
   },
   {
    "duration": 19,
    "start_time": "2022-03-24T18:48:52.566Z"
   },
   {
    "duration": 3,
    "start_time": "2022-03-24T18:48:52.587Z"
   },
   {
    "duration": 4290,
    "start_time": "2022-03-24T18:48:52.592Z"
   },
   {
    "duration": 23699,
    "start_time": "2022-03-24T18:48:56.884Z"
   },
   {
    "duration": 4,
    "start_time": "2022-03-24T18:49:20.585Z"
   },
   {
    "duration": 223,
    "start_time": "2022-03-24T18:49:20.591Z"
   },
   {
    "duration": 959,
    "start_time": "2022-03-25T05:43:06.910Z"
   },
   {
    "duration": 59214,
    "start_time": "2022-03-25T05:43:53.459Z"
   },
   {
    "duration": 59,
    "start_time": "2022-03-25T05:44:57.594Z"
   },
   {
    "duration": 18,
    "start_time": "2022-03-25T05:44:58.427Z"
   },
   {
    "duration": 9,
    "start_time": "2022-03-25T05:44:58.842Z"
   },
   {
    "duration": 6,
    "start_time": "2022-03-25T05:45:01.038Z"
   },
   {
    "duration": 17,
    "start_time": "2022-03-25T05:45:25.372Z"
   },
   {
    "duration": 491,
    "start_time": "2022-03-25T05:45:26.134Z"
   },
   {
    "duration": 6,
    "start_time": "2022-03-25T05:45:26.708Z"
   },
   {
    "duration": 1412,
    "start_time": "2022-03-25T05:45:27.739Z"
   },
   {
    "duration": 9,
    "start_time": "2022-03-25T05:45:29.155Z"
   },
   {
    "duration": 642,
    "start_time": "2022-03-25T05:45:29.183Z"
   },
   {
    "duration": 19,
    "start_time": "2022-03-25T05:46:18.441Z"
   },
   {
    "duration": 20,
    "start_time": "2022-03-25T05:48:02.009Z"
   },
   {
    "duration": 5,
    "start_time": "2022-03-25T05:48:20.749Z"
   },
   {
    "duration": 5169,
    "start_time": "2022-03-25T05:48:21.228Z"
   },
   {
    "duration": 19528,
    "start_time": "2022-03-25T05:48:26.399Z"
   },
   {
    "duration": 7,
    "start_time": "2022-03-25T05:48:45.929Z"
   },
   {
    "duration": 388,
    "start_time": "2022-03-25T05:50:23.622Z"
   },
   {
    "duration": 148,
    "start_time": "2022-03-25T17:22:30.217Z"
   },
   {
    "duration": 136,
    "start_time": "2022-03-25T17:23:18.809Z"
   },
   {
    "duration": 154,
    "start_time": "2022-03-25T17:23:46.098Z"
   },
   {
    "duration": 118,
    "start_time": "2022-03-25T17:28:33.084Z"
   },
   {
    "duration": 166,
    "start_time": "2022-03-25T17:28:39.882Z"
   },
   {
    "duration": 159,
    "start_time": "2022-03-25T17:28:55.387Z"
   },
   {
    "duration": 173,
    "start_time": "2022-03-25T17:30:02.548Z"
   },
   {
    "duration": 132,
    "start_time": "2022-03-25T17:30:16.058Z"
   },
   {
    "duration": 980,
    "start_time": "2022-03-26T07:41:16.651Z"
   },
   {
    "duration": 2354,
    "start_time": "2022-03-26T07:41:17.633Z"
   },
   {
    "duration": 71,
    "start_time": "2022-03-26T07:41:19.991Z"
   },
   {
    "duration": 15,
    "start_time": "2022-03-26T07:41:20.065Z"
   },
   {
    "duration": 10,
    "start_time": "2022-03-26T07:41:20.082Z"
   },
   {
    "duration": 9,
    "start_time": "2022-03-26T07:41:20.094Z"
   },
   {
    "duration": 32,
    "start_time": "2022-03-26T07:41:20.105Z"
   },
   {
    "duration": 499,
    "start_time": "2022-03-26T07:41:20.140Z"
   },
   {
    "duration": 7,
    "start_time": "2022-03-26T07:41:20.642Z"
   },
   {
    "duration": 1285,
    "start_time": "2022-03-26T07:41:20.654Z"
   },
   {
    "duration": 9,
    "start_time": "2022-03-26T07:41:21.942Z"
   },
   {
    "duration": 816,
    "start_time": "2022-03-26T07:41:21.954Z"
   },
   {
    "duration": 17,
    "start_time": "2022-03-26T07:41:22.774Z"
   },
   {
    "duration": 20,
    "start_time": "2022-03-26T07:41:22.794Z"
   },
   {
    "duration": 6,
    "start_time": "2022-03-26T07:41:22.817Z"
   },
   {
    "duration": 96765,
    "start_time": "2022-03-26T07:41:22.826Z"
   },
   {
    "duration": 21175,
    "start_time": "2022-03-26T07:42:59.593Z"
   },
   {
    "duration": 5,
    "start_time": "2022-03-26T07:43:20.771Z"
   },
   {
    "duration": 196,
    "start_time": "2022-03-26T07:43:20.778Z"
   },
   {
    "duration": 0,
    "start_time": "2022-03-26T07:43:20.976Z"
   },
   {
    "duration": 823,
    "start_time": "2022-03-26T07:44:20.484Z"
   },
   {
    "duration": 1184,
    "start_time": "2022-03-26T07:44:21.310Z"
   },
   {
    "duration": 50,
    "start_time": "2022-03-26T07:44:22.497Z"
   },
   {
    "duration": 31,
    "start_time": "2022-03-26T07:44:22.550Z"
   },
   {
    "duration": 8,
    "start_time": "2022-03-26T07:44:22.583Z"
   },
   {
    "duration": 8,
    "start_time": "2022-03-26T07:44:22.593Z"
   },
   {
    "duration": 18,
    "start_time": "2022-03-26T07:44:22.603Z"
   },
   {
    "duration": 536,
    "start_time": "2022-03-26T07:44:22.623Z"
   },
   {
    "duration": 7,
    "start_time": "2022-03-26T07:44:23.162Z"
   },
   {
    "duration": 1847,
    "start_time": "2022-03-26T07:44:23.173Z"
   },
   {
    "duration": 9,
    "start_time": "2022-03-26T07:44:25.023Z"
   },
   {
    "duration": 800,
    "start_time": "2022-03-26T07:44:25.035Z"
   },
   {
    "duration": 38,
    "start_time": "2022-03-26T07:44:25.838Z"
   },
   {
    "duration": 28,
    "start_time": "2022-03-26T07:44:25.879Z"
   },
   {
    "duration": 7,
    "start_time": "2022-03-26T07:44:25.912Z"
   },
   {
    "duration": 282373,
    "start_time": "2022-03-26T07:44:25.922Z"
   },
   {
    "duration": 19692,
    "start_time": "2022-03-26T07:49:08.297Z"
   },
   {
    "duration": 6,
    "start_time": "2022-03-26T07:49:27.991Z"
   },
   {
    "duration": 19147,
    "start_time": "2022-03-26T07:49:28.000Z"
   },
   {
    "duration": 586,
    "start_time": "2022-03-26T07:49:47.150Z"
   },
   {
    "duration": 4,
    "start_time": "2022-03-26T07:55:22.320Z"
   }
  ],
  "kernelspec": {
   "display_name": "Python 3 (ipykernel)",
   "language": "python",
   "name": "python3"
  },
  "language_info": {
   "codemirror_mode": {
    "name": "ipython",
    "version": 3
   },
   "file_extension": ".py",
   "mimetype": "text/x-python",
   "name": "python",
   "nbconvert_exporter": "python",
   "pygments_lexer": "ipython3",
   "version": "3.10.3"
  },
  "toc": {
   "base_numbering": 1,
   "nav_menu": {},
   "number_sections": true,
   "sideBar": true,
   "skip_h1_title": true,
   "title_cell": "Содержание",
   "title_sidebar": "Contents",
   "toc_cell": true,
   "toc_position": {
    "height": "calc(100% - 180px)",
    "left": "10px",
    "top": "150px",
    "width": "170.455px"
   },
   "toc_section_display": true,
   "toc_window_display": true
  }
 },
 "nbformat": 4,
 "nbformat_minor": 2
}
