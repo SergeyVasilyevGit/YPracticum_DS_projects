{
 "cells": [
  {
   "cell_type": "markdown",
   "metadata": {
    "toc": true
   },
   "source": [
    "<h1>Содержание<span class=\"tocSkip\"></span></h1>\n",
    "<div class=\"toc\"><ul class=\"toc-item\"><li><span><a href=\"#Загрузка-и-подготовка-данных\" data-toc-modified-id=\"Загрузка-и-подготовка-данных-1\"><span class=\"toc-item-num\">1&nbsp;&nbsp;</span>Загрузка и подготовка данных</a></span><ul class=\"toc-item\"><li><span><a href=\"#Вывод\" data-toc-modified-id=\"Вывод-1.1\"><span class=\"toc-item-num\">1.1&nbsp;&nbsp;</span>Вывод</a></span></li></ul></li><li><span><a href=\"#Обучение-и-проверка-модели\" data-toc-modified-id=\"Обучение-и-проверка-модели-2\"><span class=\"toc-item-num\">2&nbsp;&nbsp;</span>Обучение и проверка модели</a></span><ul class=\"toc-item\"><li><span><a href=\"#Выводы\" data-toc-modified-id=\"Выводы-2.1\"><span class=\"toc-item-num\">2.1&nbsp;&nbsp;</span>Выводы</a></span></li></ul></li><li><span><a href=\"#Подготовка-к-расчёту-прибыли\" data-toc-modified-id=\"Подготовка-к-расчёту-прибыли-3\"><span class=\"toc-item-num\">3&nbsp;&nbsp;</span>Подготовка к расчёту прибыли</a></span><ul class=\"toc-item\"><li><span><a href=\"#Вывод\" data-toc-modified-id=\"Вывод-3.1\"><span class=\"toc-item-num\">3.1&nbsp;&nbsp;</span>Вывод</a></span></li></ul></li><li><span><a href=\"#Расчёт-прибыли-и-рисков\" data-toc-modified-id=\"Расчёт-прибыли-и-рисков-4\"><span class=\"toc-item-num\">4&nbsp;&nbsp;</span>Расчёт прибыли и рисков</a></span><ul class=\"toc-item\"><li><span><a href=\"#Вывод\" data-toc-modified-id=\"Вывод-4.1\"><span class=\"toc-item-num\">4.1&nbsp;&nbsp;</span>Вывод</a></span></li></ul></li></ul></div>"
   ]
  },
  {
   "cell_type": "markdown",
   "metadata": {},
   "source": [
    "# Выбор локации для скважины"
   ]
  },
  {
   "cell_type": "markdown",
   "metadata": {},
   "source": [
    "Предоставлены пробы нефти в трёх регионах: в каждом 10 000 месторождений, где измерили качество нефти и объём её запасов. Необходимо построить модель машинного обучения, которая поможет определить регион, где добыча принесёт наибольшую прибыль. Проанализировать возможную прибыль и риски техникой *Bootstrap.*\n",
    "\n",
    "Шаги для выбора локации:\n",
    "\n",
    "- В избранном регионе ищут месторождения, для каждого определяют значения признаков;\n",
    "- Строят модель и оценивают объём запасов;\n",
    "- Выбирают месторождения с самым высокими оценками значений. Количество месторождений зависит от бюджета компании и стоимости разработки одной скважины;\n",
    "- Прибыль равна суммарной прибыли отобранных месторождений."
   ]
  },
  {
   "cell_type": "markdown",
   "metadata": {},
   "source": [
    "**Цель**  \n",
    "\n",
    "Построение модели для определения региона, где добыча нефти принесёт наибольшую прибыль. \n",
    "\n",
    "**Структура исследования**  \n",
    "\n",
    "1. Загрузка и подготовка данных\n",
    "2. Обучение и проверка модели\n",
    "3. Подготовка к расчёту прибыли\n",
    "4. Расчёт прибыли и рисков\n",
    "\n",
    "**Использование дополнительных модулей**  \n",
    "\n",
    "- `pandas` – редактор баз данных  \n",
    "- `numpy` – работа с многомерными массивами\n",
    "- `sklearn` – машинное обучение"
   ]
  },
  {
   "cell_type": "markdown",
   "metadata": {},
   "source": [
    "## Загрузка и подготовка данных"
   ]
  },
  {
   "cell_type": "code",
   "execution_count": 1,
   "metadata": {},
   "outputs": [],
   "source": [
    "import pandas as pd\n",
    "import numpy as np\n",
    "\n",
    "from sklearn.model_selection import train_test_split\n",
    "from sklearn.linear_model import LinearRegression\n",
    "from sklearn.metrics import mean_squared_error"
   ]
  },
  {
   "cell_type": "code",
   "execution_count": 2,
   "metadata": {},
   "outputs": [],
   "source": [
    "# Загрузка датафреймов\n",
    "df_0 = pd.read_csv('geo_data_0.csv')\n",
    "df_1 = pd.read_csv('geo_data_1.csv')\n",
    "df_2 = pd.read_csv('geo_data_2.csv')"
   ]
  },
  {
   "cell_type": "code",
   "execution_count": 3,
   "metadata": {},
   "outputs": [
    {
     "name": "stdout",
     "output_type": "stream",
     "text": [
      "<class 'pandas.core.frame.DataFrame'>\n",
      "RangeIndex: 100000 entries, 0 to 99999\n",
      "Data columns (total 5 columns):\n",
      " #   Column   Non-Null Count   Dtype  \n",
      "---  ------   --------------   -----  \n",
      " 0   id       100000 non-null  object \n",
      " 1   f0       100000 non-null  float64\n",
      " 2   f1       100000 non-null  float64\n",
      " 3   f2       100000 non-null  float64\n",
      " 4   product  100000 non-null  float64\n",
      "dtypes: float64(4), object(1)\n",
      "memory usage: 3.8+ MB\n",
      "========================================\n",
      "<class 'pandas.core.frame.DataFrame'>\n",
      "RangeIndex: 100000 entries, 0 to 99999\n",
      "Data columns (total 5 columns):\n",
      " #   Column   Non-Null Count   Dtype  \n",
      "---  ------   --------------   -----  \n",
      " 0   id       100000 non-null  object \n",
      " 1   f0       100000 non-null  float64\n",
      " 2   f1       100000 non-null  float64\n",
      " 3   f2       100000 non-null  float64\n",
      " 4   product  100000 non-null  float64\n",
      "dtypes: float64(4), object(1)\n",
      "memory usage: 3.8+ MB\n",
      "========================================\n",
      "<class 'pandas.core.frame.DataFrame'>\n",
      "RangeIndex: 100000 entries, 0 to 99999\n",
      "Data columns (total 5 columns):\n",
      " #   Column   Non-Null Count   Dtype  \n",
      "---  ------   --------------   -----  \n",
      " 0   id       100000 non-null  object \n",
      " 1   f0       100000 non-null  float64\n",
      " 2   f1       100000 non-null  float64\n",
      " 3   f2       100000 non-null  float64\n",
      " 4   product  100000 non-null  float64\n",
      "dtypes: float64(4), object(1)\n",
      "memory usage: 3.8+ MB\n"
     ]
    }
   ],
   "source": [
    "# Получение общих сведений о датафрейме\n",
    "df_0.info()\n",
    "print('='*40)\n",
    "df_1.info()\n",
    "print('='*40)\n",
    "df_2.info()"
   ]
  },
  {
   "cell_type": "code",
   "execution_count": 4,
   "metadata": {
    "scrolled": true
   },
   "outputs": [
    {
     "name": "stdout",
     "output_type": "stream",
     "text": [
      "Пропуски в датафрейме df_0: отсутствуют\n",
      "Пропуски в датафрейме df_1: отсутствуют\n",
      "Пропуски в датафрейме df_2: отсутствуют\n"
     ]
    }
   ],
   "source": [
    "# Проверка отсутствия дубликатов\n",
    "print(f'Пропуски в датафрейме df_0: {\"отсутствуют\" if df_0.duplicated().sum() == 0 else \"обнаружены\"}')\n",
    "print(f'Пропуски в датафрейме df_1: {\"отсутствуют\" if df_1.duplicated().sum() == 0 else \"обнаружены\"}')\n",
    "print(f'Пропуски в датафрейме df_2: {\"отсутствуют\" if df_2.duplicated().sum() == 0 else \"обнаружены\"}')"
   ]
  },
  {
   "cell_type": "code",
   "execution_count": 5,
   "metadata": {
    "scrolled": true
   },
   "outputs": [
    {
     "data": {
      "text/html": [
       "<div>\n",
       "<style scoped>\n",
       "    .dataframe tbody tr th:only-of-type {\n",
       "        vertical-align: middle;\n",
       "    }\n",
       "\n",
       "    .dataframe tbody tr th {\n",
       "        vertical-align: top;\n",
       "    }\n",
       "\n",
       "    .dataframe thead th {\n",
       "        text-align: right;\n",
       "    }\n",
       "</style>\n",
       "<table border=\"1\" class=\"dataframe\">\n",
       "  <thead>\n",
       "    <tr style=\"text-align: right;\">\n",
       "      <th></th>\n",
       "      <th>f0</th>\n",
       "      <th>f1</th>\n",
       "      <th>f2</th>\n",
       "      <th>product</th>\n",
       "    </tr>\n",
       "  </thead>\n",
       "  <tbody>\n",
       "    <tr>\n",
       "      <th>count</th>\n",
       "      <td>100000.000000</td>\n",
       "      <td>100000.000000</td>\n",
       "      <td>100000.000000</td>\n",
       "      <td>100000.000000</td>\n",
       "    </tr>\n",
       "    <tr>\n",
       "      <th>mean</th>\n",
       "      <td>0.500419</td>\n",
       "      <td>0.250143</td>\n",
       "      <td>2.502647</td>\n",
       "      <td>92.500000</td>\n",
       "    </tr>\n",
       "    <tr>\n",
       "      <th>std</th>\n",
       "      <td>0.871832</td>\n",
       "      <td>0.504433</td>\n",
       "      <td>3.248248</td>\n",
       "      <td>44.288691</td>\n",
       "    </tr>\n",
       "    <tr>\n",
       "      <th>min</th>\n",
       "      <td>-1.408605</td>\n",
       "      <td>-0.848218</td>\n",
       "      <td>-12.088328</td>\n",
       "      <td>0.000000</td>\n",
       "    </tr>\n",
       "    <tr>\n",
       "      <th>25%</th>\n",
       "      <td>-0.072580</td>\n",
       "      <td>-0.200881</td>\n",
       "      <td>0.287748</td>\n",
       "      <td>56.497507</td>\n",
       "    </tr>\n",
       "    <tr>\n",
       "      <th>50%</th>\n",
       "      <td>0.502360</td>\n",
       "      <td>0.250252</td>\n",
       "      <td>2.515969</td>\n",
       "      <td>91.849972</td>\n",
       "    </tr>\n",
       "    <tr>\n",
       "      <th>75%</th>\n",
       "      <td>1.073581</td>\n",
       "      <td>0.700646</td>\n",
       "      <td>4.715088</td>\n",
       "      <td>128.564089</td>\n",
       "    </tr>\n",
       "    <tr>\n",
       "      <th>max</th>\n",
       "      <td>2.362331</td>\n",
       "      <td>1.343769</td>\n",
       "      <td>16.003790</td>\n",
       "      <td>185.364347</td>\n",
       "    </tr>\n",
       "  </tbody>\n",
       "</table>\n",
       "</div>"
      ],
      "text/plain": [
       "                  f0             f1             f2        product\n",
       "count  100000.000000  100000.000000  100000.000000  100000.000000\n",
       "mean        0.500419       0.250143       2.502647      92.500000\n",
       "std         0.871832       0.504433       3.248248      44.288691\n",
       "min        -1.408605      -0.848218     -12.088328       0.000000\n",
       "25%        -0.072580      -0.200881       0.287748      56.497507\n",
       "50%         0.502360       0.250252       2.515969      91.849972\n",
       "75%         1.073581       0.700646       4.715088     128.564089\n",
       "max         2.362331       1.343769      16.003790     185.364347"
      ]
     },
     "execution_count": 5,
     "metadata": {},
     "output_type": "execute_result"
    }
   ],
   "source": [
    "# Пример сводной статистики для первого 'df_0' датафрейма\n",
    "df_0.describe()"
   ]
  },
  {
   "cell_type": "markdown",
   "metadata": {},
   "source": [
    "### Вывод"
   ]
  },
  {
   "cell_type": "markdown",
   "metadata": {},
   "source": [
    "Выполнена загрузка и первичный анализ имеющихся датафреймов. Данные представлены в однородном виде, пропуски отсутствуют."
   ]
  },
  {
   "cell_type": "markdown",
   "metadata": {},
   "source": [
    "## Обучение и проверка модели"
   ]
  },
  {
   "cell_type": "markdown",
   "metadata": {},
   "source": [
    "Обучение модели линейной регрессии для региона `1` (датафрейм `df_0`), `2` (датафрейм `df_1`) и `3` (датафрейм `df_2`)."
   ]
  },
  {
   "cell_type": "code",
   "execution_count": 6,
   "metadata": {},
   "outputs": [],
   "source": [
    "def split_and_model(df):\n",
    "    \n",
    "    features = df.drop(['id', 'product'], axis=1)\n",
    "    target = df['product']\n",
    "\n",
    "    features_train, features_val, target_train, target_val = train_test_split(features, \n",
    "                                                                              target, test_size=0.25, random_state=12345)\n",
    "\n",
    "    # Обучение модели и предсказание\n",
    "    model = LinearRegression()\n",
    "    model.fit(features_train, target_train)\n",
    "    predicted_val = model.predict(features_val)\n",
    "    \n",
    "    return predicted_val, target_val"
   ]
  },
  {
   "cell_type": "code",
   "execution_count": 7,
   "metadata": {
    "scrolled": true
   },
   "outputs": [
    {
     "name": "stdout",
     "output_type": "stream",
     "text": [
      "Средний запас предсказанного сырья (регион 1): 93 тыс. баррелей\n",
      "RMSE (регион 1): 37.6\n",
      "==============================\n",
      "Средний запас предсказанного сырья (регион 2): 69 тыс. баррелей\n",
      "RMSE (регион 2): 0.9\n",
      "==============================\n",
      "Средний запас предсказанного сырья (регион 3): 95 тыс. баррелей\n",
      "RMSE (регион 3): 40.0\n",
      "==============================\n"
     ]
    }
   ],
   "source": [
    "predicted_val_1, target_val_1 = split_and_model(df_0)\n",
    "predicted_val_2, target_val_2 = split_and_model(df_1)\n",
    "predicted_val_3, target_val_3 = split_and_model(df_2)\n",
    "\n",
    "for i in range(1, 4):\n",
    "    print(f'Средний запас предсказанного сырья (регион {eval(f\"{i}\")}): {eval(f\"predicted_val_{i}\").mean():.0f} тыс. баррелей')\n",
    "    print(f'RMSE (регион {eval(f\"{i}\")}): {mean_squared_error(eval(f\"target_val_{i}\"), eval(f\"predicted_val_{i}\"))**0.5:.1f}')\n",
    "    print('='*30)"
   ]
  },
  {
   "cell_type": "markdown",
   "metadata": {},
   "source": [
    "### Выводы"
   ]
  },
  {
   "cell_type": "markdown",
   "metadata": {},
   "source": [
    "Регион `2` имеет наименьшую погрешность метрики `RMSE`, при этом также минимальный средний запас предсказанного сырья. В регионах `1` и `3`, показатели контрольной метрики и среднего запаса предсказанного сырья приблизительно сопоставимы. При этом погрешность метрики RMSE приблизительно 40 раз выше, средний запас предсказанного сырья примерно в 1,4 раза больше."
   ]
  },
  {
   "cell_type": "markdown",
   "metadata": {},
   "source": [
    "## Подготовка к расчёту прибыли"
   ]
  },
  {
   "cell_type": "code",
   "execution_count": 8,
   "metadata": {},
   "outputs": [],
   "source": [
    "# Из условий задания:\n",
    "    \n",
    "# бюджет на разработку скважин в регионе, руб\n",
    "TOTAL_BUDGET = 10_000_000_000\n",
    "\n",
    "# Количество исследуемых точек\n",
    "OIL_WELS = 500\n",
    "\n",
    "# число выбранных для разработки точек\n",
    "SELECTED_OIL_WELS = 200\n",
    "\n",
    "# доход с каждой единицы продукта, руб\n",
    "INCOME = 450_000"
   ]
  },
  {
   "cell_type": "code",
   "execution_count": 9,
   "metadata": {},
   "outputs": [
    {
     "name": "stdout",
     "output_type": "stream",
     "text": [
      "Достаточный объём сырья для безубыточной разработки одной новой скважины: 111 тыс. баррелей\n"
     ]
    }
   ],
   "source": [
    "# Затраты на бурение одной скважины\n",
    "drilling_cost = TOTAL_BUDGET / SELECTED_OIL_WELS\n",
    "\n",
    "# Сырьевая безубыточность разработки одной новой скважины\n",
    "breakeven_point = drilling_cost / INCOME\n",
    "\n",
    "print(f'Достаточный объём сырья для безубыточной разработки одной новой скважины: {breakeven_point:.0f} тыс. баррелей')"
   ]
  },
  {
   "cell_type": "code",
   "execution_count": 10,
   "metadata": {
    "scrolled": true
   },
   "outputs": [
    {
     "name": "stdout",
     "output_type": "stream",
     "text": [
      "Средний запас сырья в регионе 1: 93 тыс. баррелей\n",
      "Средний запас сырья в регионе 2: 69 тыс. баррелей\n",
      "Средний запас сырья в регионе 3: 95 тыс. баррелей\n"
     ]
    }
   ],
   "source": [
    "# Средний запас сырья в каждом регионе\n",
    "print(f'Средний запас сырья в регионе 1: {df_0[\"product\"].mean():.0f} тыс. баррелей')\n",
    "print(f'Средний запас сырья в регионе 2: {df_1[\"product\"].mean():.0f} тыс. баррелей')\n",
    "print(f'Средний запас сырья в регионе 3: {df_2[\"product\"].mean():.0f} тыс. баррелей')"
   ]
  },
  {
   "cell_type": "markdown",
   "metadata": {},
   "source": [
    "### Вывод"
   ]
  },
  {
   "cell_type": "markdown",
   "metadata": {},
   "source": [
    "В каждом из исследованных регионов средний запас сырья не превышает сырьевую безубыточность разработки новой скважины."
   ]
  },
  {
   "cell_type": "markdown",
   "metadata": {},
   "source": [
    "## Расчёт прибыли и рисков "
   ]
  },
  {
   "cell_type": "markdown",
   "metadata": {},
   "source": [
    "**п. 4.1**  \n",
    "\n",
    "Функция для расчёта прибыли по выбранным скважинам и предсказаниям модели"
   ]
  },
  {
   "cell_type": "code",
   "execution_count": 11,
   "metadata": {},
   "outputs": [],
   "source": [
    "def profit(predicted_sub, target_sub, selected_oil_wels):\n",
    "    '''\n",
    "    Функция принимает на вход объём запасов в скважине (тыс. баррелей) из подвыборок бутстрепа:\n",
    "    - спрогнозированный\n",
    "    - фактический\n",
    "    а также количество выбранных для разработки скважин\n",
    "    '''\n",
    "    # упорядочивание спрогнозированных значений по убыванию\n",
    "    pred_sorted = predicted_sub.sort_values(ascending=False) \n",
    "    \n",
    "    # отбор перспективных скважин\n",
    "    selected_target = target_sub[pred_sorted.index][:selected_oil_wels]\n",
    "    \n",
    "    # прибыль для полученного объёма сырья:\n",
    "    # суммирование целевых значений объёма сырья, соответствующее предсказаниям\n",
    "    # домножение на доход с одной единицы продукта\n",
    "    # вычитание общего бюджета\n",
    "    # (величина может быть отрицательной, если доход меньше выделенного бюджета)\n",
    "    return (selected_target.sum() * INCOME) - TOTAL_BUDGET"
   ]
  },
  {
   "cell_type": "markdown",
   "metadata": {},
   "source": [
    "**п. 4.2**\n",
    "\n",
    "Вероятность убытков и прибыль для каждого региона"
   ]
  },
  {
   "cell_type": "code",
   "execution_count": 12,
   "metadata": {},
   "outputs": [],
   "source": [
    "def profit_bootstrap(predicted, target):\n",
    "    '''\n",
    "    Функция принимает на вход:\n",
    "    - предсказания модели\n",
    "    - метки валидационной выборки\n",
    "    '''\n",
    "    state = np.random.RandomState(12345)\n",
    "    values = []\n",
    "    \n",
    "    for i in range(1000):\n",
    "        target_subsample = target.sample(n=OIL_WELS, replace=True, random_state=state)\n",
    "        predicted_subsample = predicted[target_subsample.index]\n",
    "        \n",
    "        res = profit(predicted_subsample, target_subsample, SELECTED_OIL_WELS)\n",
    "        values.append(res)\n",
    "        \n",
    "    values = pd.Series(values)\n",
    "    profit_avg = values.mean()\n",
    "    \n",
    "    # границы 95%-ого доверительного интервала\n",
    "    lower = values.quantile(0.025) # ((100-95)/2)/100 = 0,025 \n",
    "    upper = values.quantile(0.975) # 1-0,025 = 0,975\n",
    "    \n",
    "    loss_prob = values.lt(0).mean() # доля отрицательных значений (убытков)\n",
    "    \n",
    "    return profit_avg/10**6, lower/10**6, upper/10**6, loss_prob"
   ]
  },
  {
   "cell_type": "code",
   "execution_count": 13,
   "metadata": {},
   "outputs": [
    {
     "name": "stdout",
     "output_type": "stream",
     "text": [
      "Регион 1\n",
      "Средняя прибыль: 425.9 млн руб.\n",
      "95% доверительный интервал: от -102.1 до 948.0 млн руб.\n",
      "Вероятность убытков: 6.0%\n",
      "==============================\n",
      "Регион 2\n",
      "Средняя прибыль: 515.2 млн руб.\n",
      "95% доверительный интервал: от 68.9 до 931.5 млн руб.\n",
      "Вероятность убытков: 1.0%\n",
      "==============================\n",
      "Регион 3\n",
      "Средняя прибыль: 435.0 млн руб.\n",
      "95% доверительный интервал: от -128.9 до 969.7 млн руб.\n",
      "Вероятность убытков: 6.4%\n",
      "==============================\n"
     ]
    }
   ],
   "source": [
    "# Вызов функции 'profit_bootstrap' для региона '1'\n",
    "predicted_val_1 = (pd.Series(predicted_val_1)) # добавление индексов\n",
    "target_val_1 = (target_val_1.reset_index(drop=True)) # назначение упорядоченных индексов\n",
    "profit_avg_1, lower_1, upper_1, loss_prob_1 = profit_bootstrap(predicted_val_1, target_val_1)\n",
    "\n",
    "# Вызов функции 'profit_bootstrap' для региона '2'\n",
    "predicted_val_2 = (pd.Series(predicted_val_2)) # добавление индексов\n",
    "target_val_2 = (target_val_2.reset_index(drop=True)) # назначение упорядоченных индексов\n",
    "profit_avg_2, lower_2, upper_2, loss_prob_2 = profit_bootstrap(predicted_val_2, target_val_2)\n",
    "\n",
    "# Вызов функции 'profit_bootstrap' для региона '3'\n",
    "predicted_val_3 = (pd.Series(predicted_val_3)) # добавление индексов\n",
    "target_val_3 = (target_val_3.reset_index(drop=True)) # назначение упорядоченных индексов\n",
    "profit_avg_3, lower_3, upper_3, loss_prob_3 = profit_bootstrap(predicted_val_3, target_val_3)\n",
    "\n",
    "for i in range(1, 4):\n",
    "    print(f'Регион {i}')\n",
    "    print(f'Средняя прибыль: {eval(f\"profit_avg_{i}\"):.1f} млн руб.')\n",
    "    print(f'95% доверительный интервал: от {eval(f\"lower_{i}\"):.1f} до {eval(f\"upper_{i}\"):.1f} млн руб.')\n",
    "    print(f'Вероятность убытков: {eval(f\"loss_prob_{i}\"):.1%}')\n",
    "    print('='*30)"
   ]
  },
  {
   "cell_type": "markdown",
   "metadata": {},
   "source": [
    "### Вывод"
   ]
  },
  {
   "cell_type": "markdown",
   "metadata": {},
   "source": [
    "По условия задания выбирается регион (или регионы) с вероятностью убытков менее 2.5%. Далее назначается регион с наибольшей средней прибылью.  \n",
    "\n",
    "Указанным выше условиям соответствует только регион `2`. С показателями: 1.0% и 515.2 млн руб. соответственно."
   ]
  }
 ],
 "metadata": {
  "ExecuteTimeLog": [
   {
    "duration": 590,
    "start_time": "2022-01-29T09:24:52.433Z"
   },
   {
    "duration": 139,
    "start_time": "2022-01-29T09:26:05.658Z"
   },
   {
    "duration": 400,
    "start_time": "2022-01-29T09:27:00.520Z"
   },
   {
    "duration": 11,
    "start_time": "2022-01-29T09:29:01.458Z"
   },
   {
    "duration": 19,
    "start_time": "2022-01-29T09:29:19.947Z"
   },
   {
    "duration": 17,
    "start_time": "2022-01-29T09:29:32.363Z"
   },
   {
    "duration": 18,
    "start_time": "2022-01-29T09:29:38.183Z"
   },
   {
    "duration": 18,
    "start_time": "2022-01-29T09:29:43.095Z"
   },
   {
    "duration": 26,
    "start_time": "2022-01-29T09:29:56.447Z"
   },
   {
    "duration": 46,
    "start_time": "2022-01-29T09:38:49.914Z"
   },
   {
    "duration": 41,
    "start_time": "2022-01-29T09:39:51.597Z"
   },
   {
    "duration": 40,
    "start_time": "2022-01-29T09:39:59.507Z"
   },
   {
    "duration": 77,
    "start_time": "2022-01-29T09:41:07.853Z"
   },
   {
    "duration": 4,
    "start_time": "2022-01-29T09:41:30.547Z"
   },
   {
    "duration": 39,
    "start_time": "2022-01-29T09:41:55.632Z"
   },
   {
    "duration": 70,
    "start_time": "2022-01-29T09:42:14.730Z"
   },
   {
    "duration": 38,
    "start_time": "2022-01-29T09:42:43.753Z"
   },
   {
    "duration": 42,
    "start_time": "2022-01-29T09:43:01.897Z"
   },
   {
    "duration": 104,
    "start_time": "2022-01-29T09:43:25.407Z"
   },
   {
    "duration": 122,
    "start_time": "2022-01-29T09:43:44.391Z"
   },
   {
    "duration": 41,
    "start_time": "2022-01-29T09:44:08.252Z"
   },
   {
    "duration": 37,
    "start_time": "2022-01-29T09:46:10.837Z"
   },
   {
    "duration": 565,
    "start_time": "2022-01-29T09:47:17.146Z"
   },
   {
    "duration": 398,
    "start_time": "2022-01-29T09:47:17.713Z"
   },
   {
    "duration": 26,
    "start_time": "2022-01-29T09:47:18.114Z"
   },
   {
    "duration": 129,
    "start_time": "2022-01-29T09:47:18.142Z"
   },
   {
    "duration": 54,
    "start_time": "2022-01-29T09:47:18.273Z"
   },
   {
    "duration": 126,
    "start_time": "2022-01-29T09:51:14.194Z"
   },
   {
    "duration": 461,
    "start_time": "2022-01-29T10:22:57.403Z"
   },
   {
    "duration": 304,
    "start_time": "2022-01-29T10:27:38.491Z"
   },
   {
    "duration": 7,
    "start_time": "2022-01-29T10:27:53.025Z"
   },
   {
    "duration": 17,
    "start_time": "2022-01-29T10:39:14.037Z"
   },
   {
    "duration": 3,
    "start_time": "2022-01-29T11:44:34.049Z"
   },
   {
    "duration": 361,
    "start_time": "2022-01-29T11:45:43.490Z"
   },
   {
    "duration": 328,
    "start_time": "2022-01-29T11:46:28.542Z"
   },
   {
    "duration": 24,
    "start_time": "2022-01-29T11:47:20.130Z"
   },
   {
    "duration": 358,
    "start_time": "2022-01-29T11:47:53.587Z"
   },
   {
    "duration": 224,
    "start_time": "2022-01-29T11:49:46.595Z"
   },
   {
    "duration": 4,
    "start_time": "2022-01-29T11:50:02.056Z"
   },
   {
    "duration": 33,
    "start_time": "2022-01-29T11:50:32.676Z"
   },
   {
    "duration": 28,
    "start_time": "2022-01-29T11:51:48.450Z"
   },
   {
    "duration": 30,
    "start_time": "2022-01-29T11:53:39.025Z"
   },
   {
    "duration": 26,
    "start_time": "2022-01-29T11:54:01.489Z"
   },
   {
    "duration": 35,
    "start_time": "2022-01-29T11:54:04.473Z"
   },
   {
    "duration": 120,
    "start_time": "2022-01-29T11:56:36.078Z"
   },
   {
    "duration": 29,
    "start_time": "2022-01-29T11:57:48.020Z"
   },
   {
    "duration": 555,
    "start_time": "2022-01-29T11:58:03.439Z"
   },
   {
    "duration": 27,
    "start_time": "2022-01-29T11:58:16.944Z"
   },
   {
    "duration": 26,
    "start_time": "2022-01-29T11:58:34.559Z"
   },
   {
    "duration": 25,
    "start_time": "2022-01-29T11:58:47.996Z"
   },
   {
    "duration": 25,
    "start_time": "2022-01-29T11:58:58.453Z"
   },
   {
    "duration": 29,
    "start_time": "2022-01-29T11:59:12.337Z"
   },
   {
    "duration": 1068,
    "start_time": "2022-01-29T11:59:50.667Z"
   },
   {
    "duration": 393,
    "start_time": "2022-01-29T11:59:51.737Z"
   },
   {
    "duration": 27,
    "start_time": "2022-01-29T11:59:52.132Z"
   },
   {
    "duration": 129,
    "start_time": "2022-01-29T11:59:52.162Z"
   },
   {
    "duration": 50,
    "start_time": "2022-01-29T11:59:52.293Z"
   },
   {
    "duration": 58,
    "start_time": "2022-01-29T11:59:52.345Z"
   },
   {
    "duration": 124,
    "start_time": "2022-01-29T11:59:52.405Z"
   },
   {
    "duration": 116,
    "start_time": "2022-01-29T11:59:52.601Z"
   },
   {
    "duration": 480,
    "start_time": "2022-01-29T12:37:55.082Z"
   },
   {
    "duration": 100,
    "start_time": "2022-01-29T12:38:07.602Z"
   },
   {
    "duration": 293,
    "start_time": "2022-01-29T12:38:21.441Z"
   },
   {
    "duration": 25,
    "start_time": "2022-01-29T12:38:32.465Z"
   },
   {
    "duration": 32,
    "start_time": "2022-01-29T12:38:51.982Z"
   },
   {
    "duration": 26,
    "start_time": "2022-01-29T12:39:06.850Z"
   },
   {
    "duration": 34,
    "start_time": "2022-01-29T12:39:36.873Z"
   },
   {
    "duration": 35,
    "start_time": "2022-01-29T12:40:51.257Z"
   },
   {
    "duration": 27,
    "start_time": "2022-01-29T12:40:58.385Z"
   },
   {
    "duration": 27,
    "start_time": "2022-01-29T12:41:07.793Z"
   },
   {
    "duration": 1123,
    "start_time": "2022-01-29T12:41:15.503Z"
   },
   {
    "duration": 388,
    "start_time": "2022-01-29T12:41:16.628Z"
   },
   {
    "duration": 27,
    "start_time": "2022-01-29T12:41:17.018Z"
   },
   {
    "duration": 139,
    "start_time": "2022-01-29T12:41:17.047Z"
   },
   {
    "duration": 50,
    "start_time": "2022-01-29T12:41:17.188Z"
   },
   {
    "duration": 68,
    "start_time": "2022-01-29T12:41:17.240Z"
   },
   {
    "duration": 108,
    "start_time": "2022-01-29T12:41:17.311Z"
   },
   {
    "duration": 190,
    "start_time": "2022-01-29T12:41:17.422Z"
   },
   {
    "duration": 82,
    "start_time": "2022-01-29T12:46:14.448Z"
   },
   {
    "duration": 69,
    "start_time": "2022-01-29T12:46:18.729Z"
   },
   {
    "duration": 3,
    "start_time": "2022-01-29T12:46:27.913Z"
   },
   {
    "duration": 3,
    "start_time": "2022-01-29T12:48:42.832Z"
   },
   {
    "duration": 3,
    "start_time": "2022-01-29T12:50:03.500Z"
   },
   {
    "duration": 3,
    "start_time": "2022-01-29T12:53:40.381Z"
   },
   {
    "duration": 3,
    "start_time": "2022-01-29T13:09:09.477Z"
   },
   {
    "duration": 4,
    "start_time": "2022-01-29T13:09:14.824Z"
   },
   {
    "duration": 75,
    "start_time": "2022-01-29T13:10:39.805Z"
   },
   {
    "duration": 71,
    "start_time": "2022-01-29T13:11:04.057Z"
   },
   {
    "duration": 4,
    "start_time": "2022-01-29T13:11:39.502Z"
   },
   {
    "duration": 4,
    "start_time": "2022-01-29T13:12:18.651Z"
   },
   {
    "duration": 4,
    "start_time": "2022-01-29T13:12:24.466Z"
   },
   {
    "duration": 3,
    "start_time": "2022-01-29T13:14:11.879Z"
   },
   {
    "duration": 4,
    "start_time": "2022-01-29T13:14:30.363Z"
   },
   {
    "duration": 4,
    "start_time": "2022-01-29T13:28:59.379Z"
   },
   {
    "duration": 68,
    "start_time": "2022-01-29T13:54:10.643Z"
   },
   {
    "duration": 84,
    "start_time": "2022-01-29T13:54:46.847Z"
   },
   {
    "duration": 5,
    "start_time": "2022-01-29T13:55:34.063Z"
   },
   {
    "duration": 67,
    "start_time": "2022-01-29T13:55:42.983Z"
   },
   {
    "duration": 4,
    "start_time": "2022-01-29T13:55:58.692Z"
   },
   {
    "duration": 4,
    "start_time": "2022-01-29T13:56:09.964Z"
   },
   {
    "duration": 8,
    "start_time": "2022-01-29T13:56:44.641Z"
   },
   {
    "duration": 7,
    "start_time": "2022-01-29T13:56:50.365Z"
   },
   {
    "duration": 7,
    "start_time": "2022-01-29T13:57:07.117Z"
   },
   {
    "duration": 8,
    "start_time": "2022-01-29T13:57:21.345Z"
   },
   {
    "duration": 3,
    "start_time": "2022-01-29T13:58:31.291Z"
   },
   {
    "duration": 1073,
    "start_time": "2022-01-29T13:59:44.138Z"
   },
   {
    "duration": 404,
    "start_time": "2022-01-29T13:59:45.214Z"
   },
   {
    "duration": 30,
    "start_time": "2022-01-29T13:59:45.623Z"
   },
   {
    "duration": 146,
    "start_time": "2022-01-29T13:59:45.656Z"
   },
   {
    "duration": 48,
    "start_time": "2022-01-29T13:59:45.804Z"
   },
   {
    "duration": 153,
    "start_time": "2022-01-29T13:59:45.855Z"
   },
   {
    "duration": 192,
    "start_time": "2022-01-29T13:59:46.013Z"
   },
   {
    "duration": 114,
    "start_time": "2022-01-29T13:59:46.208Z"
   },
   {
    "duration": 4,
    "start_time": "2022-01-29T13:59:46.324Z"
   },
   {
    "duration": 13,
    "start_time": "2022-01-29T13:59:46.401Z"
   },
   {
    "duration": 12,
    "start_time": "2022-01-29T13:59:46.499Z"
   },
   {
    "duration": 5,
    "start_time": "2022-01-29T14:30:46.061Z"
   },
   {
    "duration": 3,
    "start_time": "2022-01-29T15:58:31.941Z"
   },
   {
    "duration": 4,
    "start_time": "2022-01-29T15:59:15.041Z"
   },
   {
    "duration": 3,
    "start_time": "2022-01-29T16:13:12.883Z"
   },
   {
    "duration": 3,
    "start_time": "2022-01-29T16:52:36.640Z"
   },
   {
    "duration": 2,
    "start_time": "2022-01-29T16:52:37.407Z"
   },
   {
    "duration": 5,
    "start_time": "2022-01-29T16:52:38.115Z"
   },
   {
    "duration": 578,
    "start_time": "2022-01-29T16:52:38.791Z"
   },
   {
    "duration": 6,
    "start_time": "2022-01-29T16:52:53.460Z"
   },
   {
    "duration": 429,
    "start_time": "2022-01-29T16:52:54.430Z"
   },
   {
    "duration": 435,
    "start_time": "2022-01-29T16:55:46.281Z"
   },
   {
    "duration": 5,
    "start_time": "2022-01-29T16:57:36.090Z"
   },
   {
    "duration": 631,
    "start_time": "2022-01-29T16:57:37.121Z"
   },
   {
    "duration": 3,
    "start_time": "2022-01-29T16:59:15.318Z"
   },
   {
    "duration": 2,
    "start_time": "2022-01-29T16:59:15.934Z"
   },
   {
    "duration": 5,
    "start_time": "2022-01-29T16:59:16.565Z"
   },
   {
    "duration": 2470,
    "start_time": "2022-01-29T16:59:54.158Z"
   },
   {
    "duration": 4,
    "start_time": "2022-01-29T17:01:42.572Z"
   },
   {
    "duration": 3,
    "start_time": "2022-01-29T17:04:17.248Z"
   },
   {
    "duration": 3,
    "start_time": "2022-01-29T17:04:18.487Z"
   },
   {
    "duration": 5,
    "start_time": "2022-01-29T17:04:19.393Z"
   },
   {
    "duration": 2439,
    "start_time": "2022-01-29T17:04:20.246Z"
   },
   {
    "duration": 4,
    "start_time": "2022-01-29T17:04:22.687Z"
   },
   {
    "duration": 29,
    "start_time": "2022-01-29T17:14:04.650Z"
   },
   {
    "duration": 29,
    "start_time": "2022-01-29T17:14:43.209Z"
   },
   {
    "duration": 41,
    "start_time": "2022-01-29T17:15:27.646Z"
   },
   {
    "duration": 30,
    "start_time": "2022-01-29T17:16:50.438Z"
   },
   {
    "duration": 32,
    "start_time": "2022-01-29T17:18:01.849Z"
   },
   {
    "duration": 1156,
    "start_time": "2022-01-29T17:18:32.182Z"
   },
   {
    "duration": 417,
    "start_time": "2022-01-29T17:18:34.254Z"
   },
   {
    "duration": 28,
    "start_time": "2022-01-29T17:18:35.606Z"
   },
   {
    "duration": 113,
    "start_time": "2022-01-29T17:18:39.390Z"
   },
   {
    "duration": 50,
    "start_time": "2022-01-29T17:18:41.049Z"
   },
   {
    "duration": 32,
    "start_time": "2022-01-29T17:18:48.839Z"
   },
   {
    "duration": 29,
    "start_time": "2022-01-29T17:19:10.739Z"
   },
   {
    "duration": 34,
    "start_time": "2022-01-29T17:19:14.986Z"
   },
   {
    "duration": 3,
    "start_time": "2022-01-29T17:19:28.155Z"
   },
   {
    "duration": 3,
    "start_time": "2022-01-29T17:19:30.900Z"
   },
   {
    "duration": 6,
    "start_time": "2022-01-29T17:19:32.399Z"
   },
   {
    "duration": 4,
    "start_time": "2022-01-29T17:19:54.775Z"
   },
   {
    "duration": 3,
    "start_time": "2022-01-29T17:22:49.782Z"
   },
   {
    "duration": 5,
    "start_time": "2022-01-29T17:23:09.650Z"
   },
   {
    "duration": 72,
    "start_time": "2022-01-29T17:23:33.358Z"
   },
   {
    "duration": 6,
    "start_time": "2022-01-29T17:23:41.343Z"
   },
   {
    "duration": 6,
    "start_time": "2022-01-29T17:24:31.421Z"
   },
   {
    "duration": 4,
    "start_time": "2022-01-29T17:30:06.382Z"
   },
   {
    "duration": 2,
    "start_time": "2022-01-29T17:30:07.126Z"
   },
   {
    "duration": 5,
    "start_time": "2022-01-29T17:30:07.709Z"
   },
   {
    "duration": 3,
    "start_time": "2022-01-29T17:30:11.128Z"
   },
   {
    "duration": 3429,
    "start_time": "2022-01-29T17:30:11.878Z"
   },
   {
    "duration": 4,
    "start_time": "2022-01-29T17:30:16.367Z"
   },
   {
    "duration": 3474,
    "start_time": "2022-01-29T17:30:32.348Z"
   },
   {
    "duration": 3,
    "start_time": "2022-01-29T17:30:36.571Z"
   },
   {
    "duration": 5,
    "start_time": "2022-01-29T17:37:06.045Z"
   },
   {
    "duration": 3454,
    "start_time": "2022-01-29T17:37:06.864Z"
   },
   {
    "duration": 3,
    "start_time": "2022-01-29T17:37:10.320Z"
   },
   {
    "duration": 4,
    "start_time": "2022-01-29T17:47:16.039Z"
   },
   {
    "duration": 2,
    "start_time": "2022-01-29T17:47:16.726Z"
   },
   {
    "duration": 5,
    "start_time": "2022-01-29T17:47:17.390Z"
   },
   {
    "duration": 3537,
    "start_time": "2022-01-29T17:47:18.351Z"
   },
   {
    "duration": 5,
    "start_time": "2022-01-29T17:47:22.975Z"
   },
   {
    "duration": 5,
    "start_time": "2022-01-29T17:48:28.046Z"
   },
   {
    "duration": 3478,
    "start_time": "2022-01-29T17:48:28.862Z"
   },
   {
    "duration": 3,
    "start_time": "2022-01-29T17:48:32.342Z"
   },
   {
    "duration": 3,
    "start_time": "2022-01-29T17:51:15.359Z"
   },
   {
    "duration": 3,
    "start_time": "2022-01-29T17:51:16.327Z"
   },
   {
    "duration": 5,
    "start_time": "2022-01-29T17:51:17.044Z"
   },
   {
    "duration": 3603,
    "start_time": "2022-01-29T17:51:18.123Z"
   },
   {
    "duration": 4,
    "start_time": "2022-01-29T17:51:21.728Z"
   },
   {
    "duration": 3,
    "start_time": "2022-01-29T17:55:44.485Z"
   },
   {
    "duration": 1108,
    "start_time": "2022-01-29T18:01:07.569Z"
   },
   {
    "duration": 418,
    "start_time": "2022-01-29T18:01:08.679Z"
   },
   {
    "duration": 27,
    "start_time": "2022-01-29T18:01:09.099Z"
   },
   {
    "duration": 135,
    "start_time": "2022-01-29T18:01:09.128Z"
   },
   {
    "duration": 60,
    "start_time": "2022-01-29T18:01:09.265Z"
   },
   {
    "duration": 84,
    "start_time": "2022-01-29T18:01:09.326Z"
   },
   {
    "duration": 87,
    "start_time": "2022-01-29T18:01:09.412Z"
   },
   {
    "duration": 99,
    "start_time": "2022-01-29T18:01:09.502Z"
   },
   {
    "duration": 119,
    "start_time": "2022-01-29T18:01:09.608Z"
   },
   {
    "duration": 4,
    "start_time": "2022-01-29T18:01:09.799Z"
   },
   {
    "duration": 104,
    "start_time": "2022-01-29T18:01:09.806Z"
   },
   {
    "duration": 10,
    "start_time": "2022-01-29T18:01:09.912Z"
   },
   {
    "duration": 4,
    "start_time": "2022-01-29T18:01:09.924Z"
   },
   {
    "duration": 8,
    "start_time": "2022-01-29T18:01:09.930Z"
   },
   {
    "duration": 3486,
    "start_time": "2022-01-29T18:01:09.940Z"
   },
   {
    "duration": 4,
    "start_time": "2022-01-29T18:01:13.428Z"
   },
   {
    "duration": 1087,
    "start_time": "2022-01-29T18:35:59.954Z"
   },
   {
    "duration": 405,
    "start_time": "2022-01-29T18:36:01.045Z"
   },
   {
    "duration": 27,
    "start_time": "2022-01-29T18:36:01.452Z"
   },
   {
    "duration": 124,
    "start_time": "2022-01-29T18:36:01.481Z"
   },
   {
    "duration": 45,
    "start_time": "2022-01-29T18:36:01.607Z"
   },
   {
    "duration": 56,
    "start_time": "2022-01-29T18:36:01.654Z"
   },
   {
    "duration": 6,
    "start_time": "2022-01-29T18:36:01.798Z"
   },
   {
    "duration": 119,
    "start_time": "2022-01-29T18:36:01.808Z"
   },
   {
    "duration": 120,
    "start_time": "2022-01-29T18:36:02.001Z"
   },
   {
    "duration": 76,
    "start_time": "2022-01-29T18:36:02.124Z"
   },
   {
    "duration": 106,
    "start_time": "2022-01-29T18:36:02.203Z"
   },
   {
    "duration": 10,
    "start_time": "2022-01-29T18:36:02.311Z"
   },
   {
    "duration": 11,
    "start_time": "2022-01-29T18:36:02.323Z"
   },
   {
    "duration": 15,
    "start_time": "2022-01-29T18:36:02.336Z"
   },
   {
    "duration": 3390,
    "start_time": "2022-01-29T18:36:02.353Z"
   },
   {
    "duration": 4,
    "start_time": "2022-01-29T18:36:05.745Z"
   },
   {
    "duration": 378,
    "start_time": "2022-01-29T18:40:53.291Z"
   },
   {
    "duration": 6842,
    "start_time": "2022-01-29T18:42:00.014Z"
   },
   {
    "duration": 213,
    "start_time": "2022-01-29T18:42:09.042Z"
   },
   {
    "duration": 4,
    "start_time": "2022-01-29T18:42:23.398Z"
   },
   {
    "duration": 1010,
    "start_time": "2022-01-29T18:43:44.259Z"
   },
   {
    "duration": 398,
    "start_time": "2022-01-29T18:43:45.271Z"
   },
   {
    "duration": 33,
    "start_time": "2022-01-29T18:43:45.672Z"
   },
   {
    "duration": 125,
    "start_time": "2022-01-29T18:43:45.707Z"
   },
   {
    "duration": 48,
    "start_time": "2022-01-29T18:43:45.834Z"
   },
   {
    "duration": 32,
    "start_time": "2022-01-29T18:43:45.898Z"
   },
   {
    "duration": 3,
    "start_time": "2022-01-29T18:43:46.000Z"
   },
   {
    "duration": 127,
    "start_time": "2022-01-29T18:43:46.006Z"
   },
   {
    "duration": 120,
    "start_time": "2022-01-29T18:43:46.201Z"
   },
   {
    "duration": 76,
    "start_time": "2022-01-29T18:43:46.324Z"
   },
   {
    "duration": 106,
    "start_time": "2022-01-29T18:43:46.403Z"
   },
   {
    "duration": 10,
    "start_time": "2022-01-29T18:43:46.511Z"
   },
   {
    "duration": 4,
    "start_time": "2022-01-29T18:43:46.523Z"
   },
   {
    "duration": 11,
    "start_time": "2022-01-29T18:43:46.528Z"
   },
   {
    "duration": 9890,
    "start_time": "2022-01-29T18:43:46.540Z"
   },
   {
    "duration": 5,
    "start_time": "2022-01-29T18:43:56.432Z"
   },
   {
    "duration": 5,
    "start_time": "2022-01-29T18:44:00.432Z"
   },
   {
    "duration": 13,
    "start_time": "2022-01-29T18:52:39.678Z"
   },
   {
    "duration": 4,
    "start_time": "2022-01-29T18:57:16.429Z"
   },
   {
    "duration": 10076,
    "start_time": "2022-01-29T18:57:17.748Z"
   },
   {
    "duration": 5,
    "start_time": "2022-01-29T18:57:28.697Z"
   },
   {
    "duration": 73,
    "start_time": "2022-01-29T18:58:56.683Z"
   },
   {
    "duration": 5,
    "start_time": "2022-01-29T18:59:18.088Z"
   },
   {
    "duration": 4,
    "start_time": "2022-01-29T19:00:00.001Z"
   },
   {
    "duration": 292,
    "start_time": "2022-01-29T19:00:41.033Z"
   },
   {
    "duration": 4,
    "start_time": "2022-01-29T19:00:58.082Z"
   },
   {
    "duration": 229,
    "start_time": "2022-01-29T19:01:09.673Z"
   },
   {
    "duration": 5,
    "start_time": "2022-01-29T19:01:13.569Z"
   },
   {
    "duration": 220,
    "start_time": "2022-01-29T19:01:28.894Z"
   },
   {
    "duration": 4,
    "start_time": "2022-01-29T19:01:36.912Z"
   },
   {
    "duration": 5,
    "start_time": "2022-01-29T19:02:03.298Z"
   },
   {
    "duration": 5,
    "start_time": "2022-01-29T19:02:41.678Z"
   },
   {
    "duration": 10536,
    "start_time": "2022-01-29T19:02:45.134Z"
   },
   {
    "duration": 5,
    "start_time": "2022-01-29T19:02:57.610Z"
   },
   {
    "duration": 5,
    "start_time": "2022-01-29T19:03:50.539Z"
   },
   {
    "duration": 5,
    "start_time": "2022-01-29T19:04:00.888Z"
   },
   {
    "duration": 5,
    "start_time": "2022-01-29T19:05:22.550Z"
   },
   {
    "duration": 232,
    "start_time": "2022-01-29T19:06:52.806Z"
   },
   {
    "duration": 757,
    "start_time": "2022-01-29T19:07:08.003Z"
   },
   {
    "duration": 84,
    "start_time": "2022-01-29T19:10:36.034Z"
   },
   {
    "duration": 5,
    "start_time": "2022-01-29T19:10:43.513Z"
   },
   {
    "duration": 5,
    "start_time": "2022-01-29T19:10:50.981Z"
   },
   {
    "duration": 6,
    "start_time": "2022-01-29T19:13:20.648Z"
   },
   {
    "duration": 4,
    "start_time": "2022-01-29T19:13:37.900Z"
   },
   {
    "duration": 4,
    "start_time": "2022-01-29T19:13:45.021Z"
   },
   {
    "duration": 5,
    "start_time": "2022-01-29T19:15:21.324Z"
   },
   {
    "duration": 4,
    "start_time": "2022-01-29T19:15:42.556Z"
   },
   {
    "duration": 70,
    "start_time": "2022-01-29T19:17:27.174Z"
   },
   {
    "duration": 5,
    "start_time": "2022-01-29T19:17:43.050Z"
   },
   {
    "duration": 5,
    "start_time": "2022-01-29T19:18:20.848Z"
   },
   {
    "duration": 72,
    "start_time": "2022-01-29T19:18:55.307Z"
   },
   {
    "duration": 4,
    "start_time": "2022-01-29T19:19:09.503Z"
   },
   {
    "duration": 3,
    "start_time": "2022-01-29T19:19:25.893Z"
   },
   {
    "duration": 220,
    "start_time": "2022-01-29T19:19:41.568Z"
   },
   {
    "duration": 3,
    "start_time": "2022-01-29T19:19:58.568Z"
   },
   {
    "duration": 4,
    "start_time": "2022-01-29T19:21:58.452Z"
   },
   {
    "duration": 4,
    "start_time": "2022-01-29T19:22:45.194Z"
   },
   {
    "duration": 3,
    "start_time": "2022-01-29T19:25:05.868Z"
   },
   {
    "duration": 6,
    "start_time": "2022-01-29T19:25:28.162Z"
   },
   {
    "duration": 3,
    "start_time": "2022-01-29T19:29:06.634Z"
   },
   {
    "duration": 4,
    "start_time": "2022-01-29T19:30:03.279Z"
   },
   {
    "duration": 235,
    "start_time": "2022-01-29T19:30:26.776Z"
   },
   {
    "duration": 566,
    "start_time": "2022-01-29T19:30:41.192Z"
   },
   {
    "duration": 4,
    "start_time": "2022-01-29T19:32:02.544Z"
   },
   {
    "duration": 4,
    "start_time": "2022-01-29T19:32:11.103Z"
   },
   {
    "duration": 229,
    "start_time": "2022-01-29T19:39:08.300Z"
   },
   {
    "duration": 5,
    "start_time": "2022-01-29T19:39:17.464Z"
   },
   {
    "duration": 10168,
    "start_time": "2022-01-29T19:44:35.704Z"
   },
   {
    "duration": 10492,
    "start_time": "2022-01-29T19:45:26.034Z"
   },
   {
    "duration": 10579,
    "start_time": "2022-01-29T19:46:22.345Z"
   },
   {
    "duration": 10975,
    "start_time": "2022-01-29T19:47:34.540Z"
   },
   {
    "duration": 10477,
    "start_time": "2022-01-29T19:48:16.337Z"
   },
   {
    "duration": 10644,
    "start_time": "2022-01-29T19:52:25.429Z"
   },
   {
    "duration": 10692,
    "start_time": "2022-01-29T19:53:02.621Z"
   },
   {
    "duration": 1069,
    "start_time": "2022-01-29T19:54:37.524Z"
   },
   {
    "duration": 401,
    "start_time": "2022-01-29T19:54:38.595Z"
   },
   {
    "duration": 30,
    "start_time": "2022-01-29T19:54:39.002Z"
   },
   {
    "duration": 139,
    "start_time": "2022-01-29T19:54:39.034Z"
   },
   {
    "duration": 53,
    "start_time": "2022-01-29T19:54:39.175Z"
   },
   {
    "duration": 71,
    "start_time": "2022-01-29T19:54:39.230Z"
   },
   {
    "duration": 5,
    "start_time": "2022-01-29T19:54:39.305Z"
   },
   {
    "duration": 128,
    "start_time": "2022-01-29T19:54:39.313Z"
   },
   {
    "duration": 173,
    "start_time": "2022-01-29T19:54:39.443Z"
   },
   {
    "duration": 83,
    "start_time": "2022-01-29T19:54:39.618Z"
   },
   {
    "duration": 113,
    "start_time": "2022-01-29T19:54:39.707Z"
   },
   {
    "duration": 10,
    "start_time": "2022-01-29T19:54:39.821Z"
   },
   {
    "duration": 22,
    "start_time": "2022-01-29T19:54:39.832Z"
   },
   {
    "duration": 30,
    "start_time": "2022-01-29T19:54:39.855Z"
   },
   {
    "duration": 10331,
    "start_time": "2022-01-29T19:54:39.886Z"
   },
   {
    "duration": 4,
    "start_time": "2022-01-29T20:02:24.872Z"
   },
   {
    "duration": 4,
    "start_time": "2022-01-29T20:02:44.345Z"
   },
   {
    "duration": 1413,
    "start_time": "2022-01-30T08:48:06.673Z"
   },
   {
    "duration": 2850,
    "start_time": "2022-01-30T08:48:08.089Z"
   },
   {
    "duration": 49,
    "start_time": "2022-01-30T08:48:10.942Z"
   },
   {
    "duration": 195,
    "start_time": "2022-01-30T08:48:10.994Z"
   },
   {
    "duration": 59,
    "start_time": "2022-01-30T08:48:11.192Z"
   },
   {
    "duration": 39,
    "start_time": "2022-01-30T08:48:11.270Z"
   },
   {
    "duration": 5,
    "start_time": "2022-01-30T08:48:11.371Z"
   },
   {
    "duration": 191,
    "start_time": "2022-01-30T08:48:11.381Z"
   },
   {
    "duration": 121,
    "start_time": "2022-01-30T08:48:11.577Z"
   },
   {
    "duration": 6,
    "start_time": "2022-01-30T08:48:11.770Z"
   },
   {
    "duration": 96,
    "start_time": "2022-01-30T08:48:11.780Z"
   },
   {
    "duration": 16,
    "start_time": "2022-01-30T08:48:11.878Z"
   },
   {
    "duration": 5,
    "start_time": "2022-01-30T08:48:11.896Z"
   },
   {
    "duration": 8,
    "start_time": "2022-01-30T08:48:11.904Z"
   },
   {
    "duration": 17590,
    "start_time": "2022-01-30T08:48:11.914Z"
   },
   {
    "duration": 1307,
    "start_time": "2022-01-30T08:50:54.482Z"
   },
   {
    "duration": 472,
    "start_time": "2022-01-30T08:50:55.792Z"
   },
   {
    "duration": 35,
    "start_time": "2022-01-30T08:50:56.267Z"
   },
   {
    "duration": 216,
    "start_time": "2022-01-30T08:50:56.305Z"
   },
   {
    "duration": 75,
    "start_time": "2022-01-30T08:50:56.523Z"
   },
   {
    "duration": 73,
    "start_time": "2022-01-30T08:50:56.600Z"
   },
   {
    "duration": 93,
    "start_time": "2022-01-30T08:50:56.676Z"
   },
   {
    "duration": 35,
    "start_time": "2022-01-30T08:50:56.773Z"
   },
   {
    "duration": 127,
    "start_time": "2022-01-30T08:50:56.872Z"
   },
   {
    "duration": 7,
    "start_time": "2022-01-30T08:50:57.071Z"
   },
   {
    "duration": 8,
    "start_time": "2022-01-30T08:50:57.171Z"
   },
   {
    "duration": 9,
    "start_time": "2022-01-30T08:50:57.182Z"
   },
   {
    "duration": 5,
    "start_time": "2022-01-30T08:50:57.193Z"
   },
   {
    "duration": 10,
    "start_time": "2022-01-30T08:50:57.200Z"
   },
   {
    "duration": 15659,
    "start_time": "2022-01-30T08:50:57.212Z"
   },
   {
    "duration": 1344,
    "start_time": "2022-01-30T08:54:42.733Z"
   },
   {
    "duration": 458,
    "start_time": "2022-01-30T08:54:44.080Z"
   },
   {
    "duration": 39,
    "start_time": "2022-01-30T08:54:44.541Z"
   },
   {
    "duration": 201,
    "start_time": "2022-01-30T08:54:44.583Z"
   },
   {
    "duration": 62,
    "start_time": "2022-01-30T08:54:44.786Z"
   },
   {
    "duration": 57,
    "start_time": "2022-01-30T08:54:44.851Z"
   },
   {
    "duration": 4,
    "start_time": "2022-01-30T08:54:44.971Z"
   },
   {
    "duration": 128,
    "start_time": "2022-01-30T08:54:44.979Z"
   },
   {
    "duration": 127,
    "start_time": "2022-01-30T08:54:45.171Z"
   },
   {
    "duration": 70,
    "start_time": "2022-01-30T08:54:45.301Z"
   },
   {
    "duration": 105,
    "start_time": "2022-01-30T08:54:45.375Z"
   },
   {
    "duration": 9,
    "start_time": "2022-01-30T08:54:45.483Z"
   },
   {
    "duration": 5,
    "start_time": "2022-01-30T08:54:45.495Z"
   },
   {
    "duration": 8,
    "start_time": "2022-01-30T08:54:45.503Z"
   },
   {
    "duration": 16070,
    "start_time": "2022-01-30T08:54:45.514Z"
   },
   {
    "duration": 1346,
    "start_time": "2022-01-30T09:03:22.933Z"
   },
   {
    "duration": 453,
    "start_time": "2022-01-30T09:03:24.281Z"
   },
   {
    "duration": 39,
    "start_time": "2022-01-30T09:03:24.737Z"
   },
   {
    "duration": 196,
    "start_time": "2022-01-30T09:03:24.779Z"
   },
   {
    "duration": 61,
    "start_time": "2022-01-30T09:03:24.978Z"
   },
   {
    "duration": 131,
    "start_time": "2022-01-30T09:03:25.042Z"
   },
   {
    "duration": 94,
    "start_time": "2022-01-30T09:03:25.176Z"
   },
   {
    "duration": 34,
    "start_time": "2022-01-30T09:03:25.274Z"
   },
   {
    "duration": 195,
    "start_time": "2022-01-30T09:03:25.374Z"
   },
   {
    "duration": 5,
    "start_time": "2022-01-30T09:03:25.573Z"
   },
   {
    "duration": 5,
    "start_time": "2022-01-30T09:03:25.670Z"
   },
   {
    "duration": 9,
    "start_time": "2022-01-30T09:03:25.678Z"
   },
   {
    "duration": 5,
    "start_time": "2022-01-30T09:03:25.689Z"
   },
   {
    "duration": 9,
    "start_time": "2022-01-30T09:03:25.696Z"
   },
   {
    "duration": 16177,
    "start_time": "2022-01-30T09:03:25.708Z"
   },
   {
    "duration": 1369,
    "start_time": "2022-01-30T09:13:31.712Z"
   },
   {
    "duration": 463,
    "start_time": "2022-01-30T09:13:33.083Z"
   },
   {
    "duration": 45,
    "start_time": "2022-01-30T09:13:33.549Z"
   },
   {
    "duration": 188,
    "start_time": "2022-01-30T09:13:33.596Z"
   },
   {
    "duration": 60,
    "start_time": "2022-01-30T09:13:33.786Z"
   },
   {
    "duration": 105,
    "start_time": "2022-01-30T09:13:33.869Z"
   },
   {
    "duration": 92,
    "start_time": "2022-01-30T09:13:33.977Z"
   },
   {
    "duration": 40,
    "start_time": "2022-01-30T09:13:34.075Z"
   },
   {
    "duration": 128,
    "start_time": "2022-01-30T09:13:34.172Z"
   },
   {
    "duration": 6,
    "start_time": "2022-01-30T09:13:34.370Z"
   },
   {
    "duration": 117,
    "start_time": "2022-01-30T09:13:34.379Z"
   },
   {
    "duration": 16,
    "start_time": "2022-01-30T09:13:34.499Z"
   },
   {
    "duration": 8,
    "start_time": "2022-01-30T09:13:34.517Z"
   },
   {
    "duration": 19,
    "start_time": "2022-01-30T09:13:34.528Z"
   },
   {
    "duration": 15967,
    "start_time": "2022-01-30T09:13:34.550Z"
   },
   {
    "duration": 1358,
    "start_time": "2022-01-30T09:20:58.429Z"
   },
   {
    "duration": 458,
    "start_time": "2022-01-30T09:20:59.795Z"
   },
   {
    "duration": 34,
    "start_time": "2022-01-30T09:21:00.256Z"
   },
   {
    "duration": 199,
    "start_time": "2022-01-30T09:21:00.292Z"
   },
   {
    "duration": 60,
    "start_time": "2022-01-30T09:21:00.493Z"
   },
   {
    "duration": 100,
    "start_time": "2022-01-30T09:21:00.570Z"
   },
   {
    "duration": 93,
    "start_time": "2022-01-30T09:21:00.676Z"
   },
   {
    "duration": 36,
    "start_time": "2022-01-30T09:21:00.772Z"
   },
   {
    "duration": 127,
    "start_time": "2022-01-30T09:21:00.872Z"
   },
   {
    "duration": 7,
    "start_time": "2022-01-30T09:21:01.071Z"
   },
   {
    "duration": 100,
    "start_time": "2022-01-30T09:21:01.081Z"
   },
   {
    "duration": 10,
    "start_time": "2022-01-30T09:21:01.184Z"
   },
   {
    "duration": 6,
    "start_time": "2022-01-30T09:21:01.196Z"
   },
   {
    "duration": 12,
    "start_time": "2022-01-30T09:21:01.205Z"
   },
   {
    "duration": 6151,
    "start_time": "2022-01-30T09:21:01.219Z"
   },
   {
    "duration": 1314,
    "start_time": "2022-01-30T09:21:27.171Z"
   },
   {
    "duration": 454,
    "start_time": "2022-01-30T09:21:28.488Z"
   },
   {
    "duration": 43,
    "start_time": "2022-01-30T09:21:28.945Z"
   },
   {
    "duration": 190,
    "start_time": "2022-01-30T09:21:28.991Z"
   },
   {
    "duration": 60,
    "start_time": "2022-01-30T09:21:29.184Z"
   },
   {
    "duration": 103,
    "start_time": "2022-01-30T09:21:29.270Z"
   },
   {
    "duration": 3,
    "start_time": "2022-01-30T09:21:29.469Z"
   },
   {
    "duration": 100,
    "start_time": "2022-01-30T09:21:29.476Z"
   },
   {
    "duration": 192,
    "start_time": "2022-01-30T09:21:29.579Z"
   },
   {
    "duration": 94,
    "start_time": "2022-01-30T09:21:29.775Z"
   },
   {
    "duration": 5,
    "start_time": "2022-01-30T09:21:29.872Z"
   },
   {
    "duration": 9,
    "start_time": "2022-01-30T09:21:29.880Z"
   },
   {
    "duration": 5,
    "start_time": "2022-01-30T09:21:29.891Z"
   },
   {
    "duration": 9,
    "start_time": "2022-01-30T09:21:29.898Z"
   },
   {
    "duration": 15945,
    "start_time": "2022-01-30T09:21:29.909Z"
   },
   {
    "duration": 1430,
    "start_time": "2022-01-30T09:23:30.054Z"
   },
   {
    "duration": 490,
    "start_time": "2022-01-30T09:23:31.487Z"
   },
   {
    "duration": 33,
    "start_time": "2022-01-30T09:23:31.980Z"
   },
   {
    "duration": 208,
    "start_time": "2022-01-30T09:23:32.016Z"
   },
   {
    "duration": 64,
    "start_time": "2022-01-30T09:23:32.226Z"
   },
   {
    "duration": 36,
    "start_time": "2022-01-30T09:23:32.294Z"
   },
   {
    "duration": 100,
    "start_time": "2022-01-30T09:23:32.371Z"
   },
   {
    "duration": 92,
    "start_time": "2022-01-30T09:23:32.477Z"
   },
   {
    "duration": 200,
    "start_time": "2022-01-30T09:23:32.573Z"
   },
   {
    "duration": 93,
    "start_time": "2022-01-30T09:23:32.777Z"
   },
   {
    "duration": 9,
    "start_time": "2022-01-30T09:23:32.874Z"
   },
   {
    "duration": 13,
    "start_time": "2022-01-30T09:23:32.886Z"
   },
   {
    "duration": 5,
    "start_time": "2022-01-30T09:23:32.902Z"
   },
   {
    "duration": 9,
    "start_time": "2022-01-30T09:23:32.909Z"
   },
   {
    "duration": 17269,
    "start_time": "2022-01-30T09:23:32.920Z"
   },
   {
    "duration": 242,
    "start_time": "2022-01-30T09:47:27.432Z"
   },
   {
    "duration": 1304,
    "start_time": "2022-01-30T09:53:34.387Z"
   },
   {
    "duration": 532,
    "start_time": "2022-01-30T09:53:35.694Z"
   },
   {
    "duration": 39,
    "start_time": "2022-01-30T09:53:36.230Z"
   },
   {
    "duration": 214,
    "start_time": "2022-01-30T09:53:36.272Z"
   },
   {
    "duration": 61,
    "start_time": "2022-01-30T09:53:36.489Z"
   },
   {
    "duration": 48,
    "start_time": "2022-01-30T09:53:36.552Z"
   },
   {
    "duration": 5,
    "start_time": "2022-01-30T09:53:36.671Z"
   },
   {
    "duration": 100,
    "start_time": "2022-01-30T09:53:36.770Z"
   },
   {
    "duration": 196,
    "start_time": "2022-01-30T09:53:36.874Z"
   },
   {
    "duration": 6,
    "start_time": "2022-01-30T09:53:37.073Z"
   },
   {
    "duration": 93,
    "start_time": "2022-01-30T09:53:37.082Z"
   },
   {
    "duration": 11,
    "start_time": "2022-01-30T09:53:37.178Z"
   },
   {
    "duration": 5,
    "start_time": "2022-01-30T09:53:37.191Z"
   },
   {
    "duration": 8,
    "start_time": "2022-01-30T09:53:37.199Z"
   },
   {
    "duration": 16838,
    "start_time": "2022-01-30T09:53:37.209Z"
   },
   {
    "duration": 1404,
    "start_time": "2022-01-30T10:00:32.743Z"
   },
   {
    "duration": 479,
    "start_time": "2022-01-30T10:00:34.150Z"
   },
   {
    "duration": 38,
    "start_time": "2022-01-30T10:00:34.631Z"
   },
   {
    "duration": 209,
    "start_time": "2022-01-30T10:00:34.672Z"
   },
   {
    "duration": 60,
    "start_time": "2022-01-30T10:00:34.883Z"
   },
   {
    "duration": 123,
    "start_time": "2022-01-30T10:00:34.945Z"
   },
   {
    "duration": 4,
    "start_time": "2022-01-30T10:00:35.075Z"
   },
   {
    "duration": 193,
    "start_time": "2022-01-30T10:00:35.082Z"
   },
   {
    "duration": 193,
    "start_time": "2022-01-30T10:00:35.281Z"
   },
   {
    "duration": 5,
    "start_time": "2022-01-30T10:00:35.478Z"
   },
   {
    "duration": 8,
    "start_time": "2022-01-30T10:00:35.571Z"
   },
   {
    "duration": 17,
    "start_time": "2022-01-30T10:00:35.582Z"
   },
   {
    "duration": 7,
    "start_time": "2022-01-30T10:00:35.602Z"
   },
   {
    "duration": 9,
    "start_time": "2022-01-30T10:00:35.611Z"
   },
   {
    "duration": 16903,
    "start_time": "2022-01-30T10:00:35.622Z"
   },
   {
    "duration": 1345,
    "start_time": "2022-01-30T10:09:31.313Z"
   },
   {
    "duration": 484,
    "start_time": "2022-01-30T10:09:32.661Z"
   },
   {
    "duration": 51,
    "start_time": "2022-01-30T10:09:33.148Z"
   },
   {
    "duration": 197,
    "start_time": "2022-01-30T10:09:33.202Z"
   },
   {
    "duration": 78,
    "start_time": "2022-01-30T10:09:33.401Z"
   },
   {
    "duration": 89,
    "start_time": "2022-01-30T10:09:33.481Z"
   },
   {
    "duration": 4,
    "start_time": "2022-01-30T10:09:33.575Z"
   },
   {
    "duration": 103,
    "start_time": "2022-01-30T10:09:33.671Z"
   },
   {
    "duration": 120,
    "start_time": "2022-01-30T10:09:33.778Z"
   },
   {
    "duration": 73,
    "start_time": "2022-01-30T10:09:33.902Z"
   },
   {
    "duration": 13,
    "start_time": "2022-01-30T10:09:34.068Z"
   },
   {
    "duration": 13,
    "start_time": "2022-01-30T10:09:34.083Z"
   },
   {
    "duration": 7,
    "start_time": "2022-01-30T10:09:34.098Z"
   },
   {
    "duration": 20,
    "start_time": "2022-01-30T10:09:34.107Z"
   },
   {
    "duration": 16432,
    "start_time": "2022-01-30T10:09:34.130Z"
   },
   {
    "duration": 1069,
    "start_time": "2022-01-30T10:16:13.728Z"
   },
   {
    "duration": 366,
    "start_time": "2022-01-30T10:16:14.798Z"
   },
   {
    "duration": 25,
    "start_time": "2022-01-30T10:16:15.166Z"
   },
   {
    "duration": 117,
    "start_time": "2022-01-30T10:16:15.193Z"
   },
   {
    "duration": 41,
    "start_time": "2022-01-30T10:16:15.311Z"
   },
   {
    "duration": 33,
    "start_time": "2022-01-30T10:16:15.361Z"
   },
   {
    "duration": 3,
    "start_time": "2022-01-30T10:16:15.462Z"
   },
   {
    "duration": 124,
    "start_time": "2022-01-30T10:16:15.468Z"
   },
   {
    "duration": 186,
    "start_time": "2022-01-30T10:16:15.596Z"
   },
   {
    "duration": 4,
    "start_time": "2022-01-30T10:16:15.862Z"
   },
   {
    "duration": 100,
    "start_time": "2022-01-30T10:16:15.868Z"
   },
   {
    "duration": 10,
    "start_time": "2022-01-30T10:16:15.970Z"
   },
   {
    "duration": 7,
    "start_time": "2022-01-30T10:16:15.981Z"
   },
   {
    "duration": 6,
    "start_time": "2022-01-30T10:16:15.989Z"
   },
   {
    "duration": 9239,
    "start_time": "2022-01-30T10:16:15.996Z"
   },
   {
    "duration": 101,
    "start_time": "2022-01-31T06:42:41.074Z"
   },
   {
    "duration": 982,
    "start_time": "2022-01-31T06:42:59.446Z"
   },
   {
    "duration": 344,
    "start_time": "2022-01-31T06:43:00.430Z"
   },
   {
    "duration": 22,
    "start_time": "2022-01-31T06:43:00.778Z"
   },
   {
    "duration": 108,
    "start_time": "2022-01-31T06:43:00.801Z"
   },
   {
    "duration": 43,
    "start_time": "2022-01-31T06:43:00.910Z"
   },
   {
    "duration": 76,
    "start_time": "2022-01-31T06:43:00.954Z"
   },
   {
    "duration": 93,
    "start_time": "2022-01-31T06:43:01.035Z"
   },
   {
    "duration": 30,
    "start_time": "2022-01-31T06:43:01.130Z"
   },
   {
    "duration": 178,
    "start_time": "2022-01-31T06:43:01.163Z"
   },
   {
    "duration": 3,
    "start_time": "2022-01-31T06:43:01.343Z"
   },
   {
    "duration": 79,
    "start_time": "2022-01-31T06:43:01.348Z"
   },
   {
    "duration": 5,
    "start_time": "2022-01-31T06:43:01.429Z"
   },
   {
    "duration": 115,
    "start_time": "2022-01-31T06:43:01.436Z"
   },
   {
    "duration": 16,
    "start_time": "2022-01-31T06:43:01.553Z"
   },
   {
    "duration": 26,
    "start_time": "2022-01-31T06:43:01.570Z"
   },
   {
    "duration": 8458,
    "start_time": "2022-01-31T06:43:01.597Z"
   },
   {
    "duration": 1023,
    "start_time": "2022-01-31T06:44:55.100Z"
   },
   {
    "duration": 329,
    "start_time": "2022-01-31T06:44:56.124Z"
   },
   {
    "duration": 22,
    "start_time": "2022-01-31T06:44:56.455Z"
   },
   {
    "duration": 99,
    "start_time": "2022-01-31T06:44:56.478Z"
   },
   {
    "duration": 37,
    "start_time": "2022-01-31T06:44:56.579Z"
   },
   {
    "duration": 25,
    "start_time": "2022-01-31T06:44:56.627Z"
   },
   {
    "duration": 73,
    "start_time": "2022-01-31T06:44:56.656Z"
   },
   {
    "duration": 117,
    "start_time": "2022-01-31T06:44:56.733Z"
   },
   {
    "duration": 188,
    "start_time": "2022-01-31T06:44:56.852Z"
   },
   {
    "duration": 3,
    "start_time": "2022-01-31T06:44:57.042Z"
   },
   {
    "duration": 180,
    "start_time": "2022-01-31T06:44:57.046Z"
   },
   {
    "duration": 3,
    "start_time": "2022-01-31T06:44:57.228Z"
   },
   {
    "duration": 12,
    "start_time": "2022-01-31T06:44:57.233Z"
   },
   {
    "duration": 3,
    "start_time": "2022-01-31T06:44:57.247Z"
   },
   {
    "duration": 8,
    "start_time": "2022-01-31T06:44:57.251Z"
   },
   {
    "duration": 8911,
    "start_time": "2022-01-31T06:44:57.261Z"
   },
   {
    "duration": 6,
    "start_time": "2022-01-31T06:51:47.781Z"
   },
   {
    "duration": 16,
    "start_time": "2022-01-31T06:52:08.326Z"
   },
   {
    "duration": 9,
    "start_time": "2022-01-31T06:53:08.459Z"
   },
   {
    "duration": 90,
    "start_time": "2022-01-31T07:01:48.062Z"
   },
   {
    "duration": 734,
    "start_time": "2022-01-31T07:02:12.362Z"
   },
   {
    "duration": 851,
    "start_time": "2022-01-31T07:03:05.813Z"
   },
   {
    "duration": 101,
    "start_time": "2022-01-31T07:17:52.872Z"
   },
   {
    "duration": 4,
    "start_time": "2022-01-31T07:18:04.790Z"
   },
   {
    "duration": 644,
    "start_time": "2022-01-31T07:18:31.267Z"
   },
   {
    "duration": 3,
    "start_time": "2022-01-31T07:20:08.048Z"
   },
   {
    "duration": 3,
    "start_time": "2022-01-31T07:20:08.792Z"
   },
   {
    "duration": 2287,
    "start_time": "2022-01-31T07:20:10.176Z"
   },
   {
    "duration": 5,
    "start_time": "2022-01-31T07:21:12.504Z"
   },
   {
    "duration": 1187,
    "start_time": "2022-01-31T07:21:14.880Z"
   },
   {
    "duration": 4,
    "start_time": "2022-01-31T07:21:48.981Z"
   },
   {
    "duration": 2,
    "start_time": "2022-01-31T07:21:51.069Z"
   },
   {
    "duration": 5,
    "start_time": "2022-01-31T07:23:13.676Z"
   },
   {
    "duration": 723,
    "start_time": "2022-01-31T07:23:14.893Z"
   },
   {
    "duration": 4,
    "start_time": "2022-01-31T07:24:04.534Z"
   },
   {
    "duration": 23,
    "start_time": "2022-01-31T07:24:06.197Z"
   },
   {
    "duration": 3,
    "start_time": "2022-01-31T07:24:20.434Z"
   },
   {
    "duration": 25,
    "start_time": "2022-01-31T07:24:21.193Z"
   },
   {
    "duration": 4,
    "start_time": "2022-01-31T07:32:27.877Z"
   },
   {
    "duration": 582,
    "start_time": "2022-01-31T07:32:29.299Z"
   },
   {
    "duration": 4,
    "start_time": "2022-01-31T07:32:58.192Z"
   },
   {
    "duration": 24,
    "start_time": "2022-01-31T07:32:58.943Z"
   },
   {
    "duration": 4,
    "start_time": "2022-01-31T07:35:26.813Z"
   },
   {
    "duration": 1506,
    "start_time": "2022-01-31T07:35:28.054Z"
   },
   {
    "duration": 5,
    "start_time": "2022-01-31T07:35:50.042Z"
   },
   {
    "duration": 28,
    "start_time": "2022-01-31T07:35:50.769Z"
   },
   {
    "duration": 4,
    "start_time": "2022-01-31T07:41:40.009Z"
   },
   {
    "duration": 616,
    "start_time": "2022-01-31T07:41:40.889Z"
   },
   {
    "duration": 4,
    "start_time": "2022-01-31T07:43:28.156Z"
   },
   {
    "duration": 334,
    "start_time": "2022-01-31T07:43:29.180Z"
   },
   {
    "duration": 4,
    "start_time": "2022-01-31T07:43:41.788Z"
   },
   {
    "duration": 283,
    "start_time": "2022-01-31T07:43:42.804Z"
   },
   {
    "duration": 3,
    "start_time": "2022-01-31T07:44:40.194Z"
   },
   {
    "duration": 418,
    "start_time": "2022-01-31T07:44:40.989Z"
   },
   {
    "duration": 416,
    "start_time": "2022-01-31T07:45:19.716Z"
   },
   {
    "duration": 411,
    "start_time": "2022-01-31T07:46:01.424Z"
   },
   {
    "duration": 3,
    "start_time": "2022-01-31T07:56:40.549Z"
   },
   {
    "duration": 23,
    "start_time": "2022-01-31T07:56:43.794Z"
   },
   {
    "duration": 90,
    "start_time": "2022-01-31T07:57:49.404Z"
   },
   {
    "duration": 23,
    "start_time": "2022-01-31T07:58:40.328Z"
   },
   {
    "duration": 4,
    "start_time": "2022-01-31T08:21:56.148Z"
   },
   {
    "duration": 4,
    "start_time": "2022-01-31T08:23:49.418Z"
   },
   {
    "duration": 4,
    "start_time": "2022-01-31T08:25:49.117Z"
   },
   {
    "duration": 4,
    "start_time": "2022-01-31T08:26:09.372Z"
   },
   {
    "duration": 4,
    "start_time": "2022-01-31T08:27:13.734Z"
   },
   {
    "duration": 105,
    "start_time": "2022-01-31T08:27:36.783Z"
   },
   {
    "duration": 163,
    "start_time": "2022-01-31T08:27:50.219Z"
   },
   {
    "duration": 353,
    "start_time": "2022-01-31T08:28:10.379Z"
   },
   {
    "duration": 975,
    "start_time": "2022-01-31T08:30:08.600Z"
   },
   {
    "duration": 394,
    "start_time": "2022-01-31T08:30:19.240Z"
   },
   {
    "duration": 326,
    "start_time": "2022-01-31T08:30:38.812Z"
   },
   {
    "duration": 467,
    "start_time": "2022-01-31T08:30:54.061Z"
   },
   {
    "duration": 384,
    "start_time": "2022-01-31T08:31:26.247Z"
   },
   {
    "duration": 351,
    "start_time": "2022-01-31T08:34:00.896Z"
   },
   {
    "duration": 371,
    "start_time": "2022-01-31T08:35:17.772Z"
   },
   {
    "duration": 108,
    "start_time": "2022-01-31T08:37:11.782Z"
   },
   {
    "duration": 980,
    "start_time": "2022-01-31T08:39:10.252Z"
   },
   {
    "duration": 329,
    "start_time": "2022-01-31T08:39:11.234Z"
   },
   {
    "duration": 21,
    "start_time": "2022-01-31T08:39:11.565Z"
   },
   {
    "duration": 102,
    "start_time": "2022-01-31T08:39:11.588Z"
   },
   {
    "duration": 46,
    "start_time": "2022-01-31T08:39:11.692Z"
   },
   {
    "duration": 3,
    "start_time": "2022-01-31T08:39:11.739Z"
   },
   {
    "duration": 6,
    "start_time": "2022-01-31T08:39:11.743Z"
   },
   {
    "duration": 5,
    "start_time": "2022-01-31T08:39:11.751Z"
   },
   {
    "duration": 19,
    "start_time": "2022-01-31T08:39:11.757Z"
   },
   {
    "duration": 15,
    "start_time": "2022-01-31T08:39:11.777Z"
   },
   {
    "duration": 348,
    "start_time": "2022-01-31T08:39:11.793Z"
   },
   {
    "duration": 86,
    "start_time": "2022-01-31T08:39:12.142Z"
   },
   {
    "duration": 106,
    "start_time": "2022-01-31T08:39:12.230Z"
   },
   {
    "duration": 6,
    "start_time": "2022-01-31T08:39:12.338Z"
   },
   {
    "duration": 9,
    "start_time": "2022-01-31T08:39:12.346Z"
   },
   {
    "duration": 3,
    "start_time": "2022-01-31T08:39:12.356Z"
   },
   {
    "duration": 6,
    "start_time": "2022-01-31T08:39:12.361Z"
   },
   {
    "duration": 8444,
    "start_time": "2022-01-31T08:39:12.368Z"
   },
   {
    "duration": 8995,
    "start_time": "2022-01-31T08:51:33.350Z"
   },
   {
    "duration": 8562,
    "start_time": "2022-01-31T08:52:02.800Z"
   },
   {
    "duration": 938,
    "start_time": "2022-01-31T08:53:18.081Z"
   },
   {
    "duration": 337,
    "start_time": "2022-01-31T08:53:19.020Z"
   },
   {
    "duration": 23,
    "start_time": "2022-01-31T08:53:19.359Z"
   },
   {
    "duration": 101,
    "start_time": "2022-01-31T08:53:19.384Z"
   },
   {
    "duration": 48,
    "start_time": "2022-01-31T08:53:19.487Z"
   },
   {
    "duration": 2,
    "start_time": "2022-01-31T08:53:19.537Z"
   },
   {
    "duration": 4,
    "start_time": "2022-01-31T08:53:19.540Z"
   },
   {
    "duration": 4,
    "start_time": "2022-01-31T08:53:19.546Z"
   },
   {
    "duration": 7,
    "start_time": "2022-01-31T08:53:19.552Z"
   },
   {
    "duration": 6,
    "start_time": "2022-01-31T08:53:19.561Z"
   },
   {
    "duration": 366,
    "start_time": "2022-01-31T08:53:19.568Z"
   },
   {
    "duration": 3,
    "start_time": "2022-01-31T08:53:19.936Z"
   },
   {
    "duration": 7,
    "start_time": "2022-01-31T08:53:20.026Z"
   },
   {
    "duration": 5,
    "start_time": "2022-01-31T08:53:20.035Z"
   },
   {
    "duration": 8,
    "start_time": "2022-01-31T08:53:20.042Z"
   },
   {
    "duration": 3,
    "start_time": "2022-01-31T08:53:20.052Z"
   },
   {
    "duration": 9,
    "start_time": "2022-01-31T08:53:20.056Z"
   },
   {
    "duration": 7,
    "start_time": "2022-01-31T08:53:20.066Z"
   },
   {
    "duration": 8864,
    "start_time": "2022-01-31T08:53:20.075Z"
   },
   {
    "duration": 1013,
    "start_time": "2022-01-31T08:55:23.777Z"
   },
   {
    "duration": 342,
    "start_time": "2022-01-31T08:55:24.792Z"
   },
   {
    "duration": 21,
    "start_time": "2022-01-31T08:55:25.136Z"
   },
   {
    "duration": 108,
    "start_time": "2022-01-31T08:55:25.160Z"
   },
   {
    "duration": 41,
    "start_time": "2022-01-31T08:55:25.270Z"
   },
   {
    "duration": 2,
    "start_time": "2022-01-31T08:55:25.328Z"
   },
   {
    "duration": 5,
    "start_time": "2022-01-31T08:55:25.332Z"
   },
   {
    "duration": 7,
    "start_time": "2022-01-31T08:55:25.339Z"
   },
   {
    "duration": 6,
    "start_time": "2022-01-31T08:55:25.347Z"
   },
   {
    "duration": 4,
    "start_time": "2022-01-31T08:55:25.355Z"
   },
   {
    "duration": 374,
    "start_time": "2022-01-31T08:55:25.360Z"
   },
   {
    "duration": 3,
    "start_time": "2022-01-31T08:55:25.736Z"
   },
   {
    "duration": 8,
    "start_time": "2022-01-31T08:55:25.828Z"
   },
   {
    "duration": 6,
    "start_time": "2022-01-31T08:55:25.838Z"
   },
   {
    "duration": 9,
    "start_time": "2022-01-31T08:55:25.845Z"
   },
   {
    "duration": 4,
    "start_time": "2022-01-31T08:55:25.856Z"
   },
   {
    "duration": 7,
    "start_time": "2022-01-31T08:55:25.861Z"
   },
   {
    "duration": 60,
    "start_time": "2022-01-31T08:55:25.869Z"
   },
   {
    "duration": 8451,
    "start_time": "2022-01-31T08:55:25.930Z"
   },
   {
    "duration": 1038,
    "start_time": "2022-03-07T17:00:33.320Z"
   },
   {
    "duration": 392,
    "start_time": "2022-03-07T17:00:34.360Z"
   },
   {
    "duration": 23,
    "start_time": "2022-03-07T17:00:34.754Z"
   },
   {
    "duration": 122,
    "start_time": "2022-03-07T17:00:34.779Z"
   },
   {
    "duration": 53,
    "start_time": "2022-03-07T17:00:34.903Z"
   },
   {
    "duration": 2,
    "start_time": "2022-03-07T17:00:34.958Z"
   },
   {
    "duration": 6,
    "start_time": "2022-03-07T17:00:34.962Z"
   },
   {
    "duration": 3,
    "start_time": "2022-03-07T17:00:34.971Z"
   },
   {
    "duration": 5,
    "start_time": "2022-03-07T17:00:34.977Z"
   },
   {
    "duration": 10,
    "start_time": "2022-03-07T17:00:34.984Z"
   },
   {
    "duration": 447,
    "start_time": "2022-03-07T17:00:34.996Z"
   },
   {
    "duration": 89,
    "start_time": "2022-03-07T17:00:35.445Z"
   },
   {
    "duration": 103,
    "start_time": "2022-03-07T17:00:35.536Z"
   },
   {
    "duration": 5,
    "start_time": "2022-03-07T17:00:35.641Z"
   },
   {
    "duration": 14,
    "start_time": "2022-03-07T17:00:35.648Z"
   },
   {
    "duration": 5,
    "start_time": "2022-03-07T17:00:35.664Z"
   },
   {
    "duration": 11,
    "start_time": "2022-03-07T17:00:35.670Z"
   },
   {
    "duration": 11,
    "start_time": "2022-03-07T17:00:35.682Z"
   },
   {
    "duration": 9059,
    "start_time": "2022-03-07T17:00:35.695Z"
   },
   {
    "duration": 969,
    "start_time": "2022-03-07T17:07:08.887Z"
   },
   {
    "duration": 360,
    "start_time": "2022-03-07T17:07:09.858Z"
   },
   {
    "duration": 28,
    "start_time": "2022-03-07T17:07:10.220Z"
   },
   {
    "duration": 116,
    "start_time": "2022-03-07T17:07:10.250Z"
   },
   {
    "duration": 39,
    "start_time": "2022-03-07T17:07:10.368Z"
   },
   {
    "duration": 24,
    "start_time": "2022-03-07T17:07:10.409Z"
   },
   {
    "duration": 515,
    "start_time": "2022-03-07T17:07:10.434Z"
   },
   {
    "duration": 5,
    "start_time": "2022-03-07T17:07:10.955Z"
   },
   {
    "duration": 8,
    "start_time": "2022-03-07T17:07:11.034Z"
   },
   {
    "duration": 9,
    "start_time": "2022-03-07T17:07:11.043Z"
   },
   {
    "duration": 4,
    "start_time": "2022-03-07T17:07:11.053Z"
   },
   {
    "duration": 8,
    "start_time": "2022-03-07T17:07:11.059Z"
   },
   {
    "duration": 9468,
    "start_time": "2022-03-07T17:07:11.069Z"
   }
  ],
  "kernelspec": {
   "display_name": "Python 3",
   "language": "python",
   "name": "python3"
  },
  "language_info": {
   "codemirror_mode": {
    "name": "ipython",
    "version": 3
   },
   "file_extension": ".py",
   "mimetype": "text/x-python",
   "name": "python",
   "nbconvert_exporter": "python",
   "pygments_lexer": "ipython3",
   "version": "3.10.2"
  },
  "toc": {
   "base_numbering": 1,
   "nav_menu": {},
   "number_sections": true,
   "sideBar": true,
   "skip_h1_title": true,
   "title_cell": "Содержание",
   "title_sidebar": "Contents",
   "toc_cell": true,
   "toc_position": {},
   "toc_section_display": true,
   "toc_window_display": true
  }
 },
 "nbformat": 4,
 "nbformat_minor": 2
}
