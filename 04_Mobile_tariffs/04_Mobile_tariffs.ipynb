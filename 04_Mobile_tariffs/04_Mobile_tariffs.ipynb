{
 "cells": [
  {
   "cell_type": "markdown",
   "metadata": {
    "toc": true
   },
   "source": [
    "<h1>Содержание<span class=\"tocSkip\"></span></h1>\n",
    "<div class=\"toc\"><ul class=\"toc-item\"><li><span><a href=\"#Изучение-данных\" data-toc-modified-id=\"Изучение-данных-1\"><span class=\"toc-item-num\">1&nbsp;&nbsp;</span>Изучение данных</a></span><ul class=\"toc-item\"><li><span><a href=\"#Выводы\" data-toc-modified-id=\"Выводы-1.1\"><span class=\"toc-item-num\">1.1&nbsp;&nbsp;</span>Выводы</a></span></li></ul></li><li><span><a href=\"#Предобработка-данных\" data-toc-modified-id=\"Предобработка-данных-2\"><span class=\"toc-item-num\">2&nbsp;&nbsp;</span>Предобработка данных</a></span><ul class=\"toc-item\"><li><span><a href=\"#Поиск-некорректных-данных-и-аномалий\" data-toc-modified-id=\"Поиск-некорректных-данных-и-аномалий-2.1\"><span class=\"toc-item-num\">2.1&nbsp;&nbsp;</span>Поиск некорректных данных и аномалий</a></span></li><li><span><a href=\"#Расчет-показателей-для-каждого-пользователя\" data-toc-modified-id=\"Расчет-показателей-для-каждого-пользователя-2.2\"><span class=\"toc-item-num\">2.2&nbsp;&nbsp;</span>Расчет показателей для каждого пользователя</a></span></li><li><span><a href=\"#Вывод\" data-toc-modified-id=\"Вывод-2.3\"><span class=\"toc-item-num\">2.3&nbsp;&nbsp;</span>Вывод</a></span></li></ul></li><li><span><a href=\"#Анализ-данных\" data-toc-modified-id=\"Анализ-данных-3\"><span class=\"toc-item-num\">3&nbsp;&nbsp;</span>Анализ данных</a></span><ul class=\"toc-item\"><li><span><a href=\"#Вывод\" data-toc-modified-id=\"Вывод-3.1\"><span class=\"toc-item-num\">3.1&nbsp;&nbsp;</span>Вывод</a></span></li></ul></li><li><span><a href=\"#Проверка-гипотез\" data-toc-modified-id=\"Проверка-гипотез-4\"><span class=\"toc-item-num\">4&nbsp;&nbsp;</span>Проверка гипотез</a></span><ul class=\"toc-item\"><li><span><a href=\"#Вывод\" data-toc-modified-id=\"Вывод-4.1\"><span class=\"toc-item-num\">4.1&nbsp;&nbsp;</span>Вывод</a></span></li></ul></li><li><span><a href=\"#Общий-вывод\" data-toc-modified-id=\"Общий-вывод-5\"><span class=\"toc-item-num\">5&nbsp;&nbsp;</span>Общий вывод</a></span></li></ul></div>"
   ]
  },
  {
   "cell_type": "markdown",
   "metadata": {},
   "source": [
    "# Определение перспективного тарифа для телеком-компании\n",
    "\n",
    "На исследования предоставлены данные 500 пользователей «Мегалайна»: кто они, откуда, каким тарифом пользуются, сколько звонков и сообщений каждый отправил за 2018 год. Нужно проанализировать поведение клиентов и сделать вывод — какой тариф лучше."
   ]
  },
  {
   "cell_type": "markdown",
   "metadata": {},
   "source": [
    "**Цель**  \n",
    "Проанализировать поведение клиентов мобильного оператора и сделать вывод – какой из исследуемых тарифов лучше.\n",
    "\n",
    "**Краткое описание**  \n",
    "Клиентам предлагают два тарифных плана: «Смарт» и «Ультра». Чтобы скорректировать рекламный бюджет, коммерческий департамент хочет понять, какой тариф приносит больше денег.\n",
    "\n",
    "**Структура исследования**\n",
    "1. Изучение данных\n",
    "2. Предобработка данных  \n",
    "3. Анализ данных\n",
    "4. Проверка статистических гипотез\n",
    "\n",
    "**Использование дополнительных модулей и библиотек**\n",
    "\n",
    "- `pandas` – редактор баз данных\n",
    "- `math` – работа с математическими функциями\n",
    "- `matplotlib`, `seaborn` – построение графиков\n",
    "- `scipy` – работа со статистическими функциями"
   ]
  },
  {
   "cell_type": "markdown",
   "metadata": {},
   "source": [
    "## Изучение данных"
   ]
  },
  {
   "cell_type": "code",
   "execution_count": 1,
   "metadata": {},
   "outputs": [],
   "source": [
    "import pandas as pd\n",
    "import math\n",
    "import matplotlib.pyplot as plt\n",
    "import seaborn as sns\n",
    "from scipy import stats as st\n",
    "\n",
    "import warnings\n",
    "warnings.filterwarnings(\"ignore\")"
   ]
  },
  {
   "cell_type": "markdown",
   "metadata": {},
   "source": [
    "**Расшифровка наименований столбцов:**\n",
    "\n",
    "Таблица `users` (информация о пользователях):\n",
    "- `user_id` — уникальный идентификатор пользователя\n",
    "- `first_name` — имя пользователя\n",
    "- `last_name` — фамилия пользователя\n",
    "- `age` — возраст пользователя (годы)\n",
    "- `reg_date` — дата подключения тарифа (день, месяц, год)\n",
    "- `churn_date` — дата прекращения пользования тарифом (если значение пропущено, то тариф ещё действовал на момент выгрузки данных)\n",
    "- `city` — город проживания пользователя\n",
    "- `tarif` — название тарифного плана  \n",
    "\n",
    "Таблица `calls` (информация о звонках):\n",
    "- `id` — уникальный номер звонка\n",
    "- `call_date` — дата звонка\n",
    "- `duration` — длительность звонка в минутах\n",
    "- `user_id` — идентификатор пользователя, сделавшего звонок  \n",
    "\n",
    "Таблица `messages` (информация о сообщениях):\n",
    "- `id` — уникальный номер сообщения\n",
    "- `message_date` — дата сообщения\n",
    "- `user_id` — идентификатор пользователя, отправившего сообщение  \n",
    "\n",
    "Таблица `internet` (информация об интернет-сессиях):\n",
    "- `id` — уникальный номер сессии\n",
    "- `mb_used` — объём потраченного за сессию интернет-трафика (в мегабайтах)\n",
    "- `session_date` — дата интернет-сессии\n",
    "- `user_id` — идентификатор пользователя  \n",
    "\n",
    "Таблица `tariffs` (информация о тарифах):\n",
    "- `tariff_name` — название тарифа\n",
    "- `rub_monthly_fee` — ежемесячная абонентская плата в рублях\n",
    "- `minutes_included` — количество минут разговора в месяц, включённых в абонентскую плату\n",
    "- `messages_included` — количество сообщений в месяц, включённых в абонентскую плату\n",
    "- `mb_per_month_included` — объём интернет-трафика, включённого в абонентскую плату (в мегабайтах)\n",
    "- `rub_per_minute` — стоимость минуты разговора сверх тарифного пакета (например, если в тарифе 100 минут разговора в месяц, то со 101 минуты будет взиматься плата)\n",
    "- `rub_per_message` — стоимость отправки сообщения сверх тарифного пакета\n",
    "- `rub_per_gb` — стоимость дополнительного гигабайта интернет-трафика сверх тарифного пакета (1 гигабайт = 1024 мегабайта)"
   ]
  },
  {
   "cell_type": "code",
   "execution_count": 2,
   "metadata": {
    "scrolled": false
   },
   "outputs": [
    {
     "data": {
      "text/html": [
       "<div>\n",
       "<style scoped>\n",
       "    .dataframe tbody tr th:only-of-type {\n",
       "        vertical-align: middle;\n",
       "    }\n",
       "\n",
       "    .dataframe tbody tr th {\n",
       "        vertical-align: top;\n",
       "    }\n",
       "\n",
       "    .dataframe thead th {\n",
       "        text-align: right;\n",
       "    }\n",
       "</style>\n",
       "<table border=\"1\" class=\"dataframe\">\n",
       "  <thead>\n",
       "    <tr style=\"text-align: right;\">\n",
       "      <th></th>\n",
       "      <th>id</th>\n",
       "      <th>call_date</th>\n",
       "      <th>duration</th>\n",
       "      <th>user_id</th>\n",
       "    </tr>\n",
       "  </thead>\n",
       "  <tbody>\n",
       "    <tr>\n",
       "      <td>0</td>\n",
       "      <td>1000_0</td>\n",
       "      <td>2018-07-25</td>\n",
       "      <td>0.00</td>\n",
       "      <td>1000</td>\n",
       "    </tr>\n",
       "    <tr>\n",
       "      <td>1</td>\n",
       "      <td>1000_1</td>\n",
       "      <td>2018-08-17</td>\n",
       "      <td>0.00</td>\n",
       "      <td>1000</td>\n",
       "    </tr>\n",
       "    <tr>\n",
       "      <td>2</td>\n",
       "      <td>1000_2</td>\n",
       "      <td>2018-06-11</td>\n",
       "      <td>2.85</td>\n",
       "      <td>1000</td>\n",
       "    </tr>\n",
       "    <tr>\n",
       "      <td>3</td>\n",
       "      <td>1000_3</td>\n",
       "      <td>2018-09-21</td>\n",
       "      <td>13.80</td>\n",
       "      <td>1000</td>\n",
       "    </tr>\n",
       "    <tr>\n",
       "      <td>4</td>\n",
       "      <td>1000_4</td>\n",
       "      <td>2018-12-15</td>\n",
       "      <td>5.18</td>\n",
       "      <td>1000</td>\n",
       "    </tr>\n",
       "  </tbody>\n",
       "</table>\n",
       "</div>"
      ],
      "text/plain": [
       "       id   call_date  duration  user_id\n",
       "0  1000_0  2018-07-25      0.00     1000\n",
       "1  1000_1  2018-08-17      0.00     1000\n",
       "2  1000_2  2018-06-11      2.85     1000\n",
       "3  1000_3  2018-09-21     13.80     1000\n",
       "4  1000_4  2018-12-15      5.18     1000"
      ]
     },
     "execution_count": 2,
     "metadata": {},
     "output_type": "execute_result"
    }
   ],
   "source": [
    "# таблица 'calls' (информация о звонках)\n",
    "df_calls = pd.read_csv('calls.csv')\n",
    "df_calls.head()"
   ]
  },
  {
   "cell_type": "code",
   "execution_count": 3,
   "metadata": {
    "scrolled": true
   },
   "outputs": [
    {
     "name": "stdout",
     "output_type": "stream",
     "text": [
      "<class 'pandas.core.frame.DataFrame'>\n",
      "RangeIndex: 202607 entries, 0 to 202606\n",
      "Data columns (total 4 columns):\n",
      "id           202607 non-null object\n",
      "call_date    202607 non-null object\n",
      "duration     202607 non-null float64\n",
      "user_id      202607 non-null int64\n",
      "dtypes: float64(1), int64(1), object(2)\n",
      "memory usage: 6.2+ MB\n"
     ]
    }
   ],
   "source": [
    "# общие данные о датафрейме 'df_calls'\n",
    "df_calls.info()"
   ]
  },
  {
   "cell_type": "markdown",
   "metadata": {},
   "source": [
    "Явных пропусков данных нет.  \n",
    "\n",
    "Столбец `call_date` должен быть приведен к типу данных `datetime`.  \n",
    "\n",
    "Из первоначальных условий следует, что сотовый оператор «Мегалайн» всегда округляет секунды до минут. \n",
    "Таким образом, все данные в ячейках столбца `duration` должны быть округлены в большую сторону (до ближайшего большего целого числа).  \n",
    "\n",
    "Необходимо отметить, что перед округлением до целого числа гигабайт, предварительно нужно просуммировать трафик за весь отчетный период – т.е. за месяц."
   ]
  },
  {
   "cell_type": "code",
   "execution_count": 4,
   "metadata": {},
   "outputs": [
    {
     "data": {
      "text/html": [
       "<div>\n",
       "<style scoped>\n",
       "    .dataframe tbody tr th:only-of-type {\n",
       "        vertical-align: middle;\n",
       "    }\n",
       "\n",
       "    .dataframe tbody tr th {\n",
       "        vertical-align: top;\n",
       "    }\n",
       "\n",
       "    .dataframe thead th {\n",
       "        text-align: right;\n",
       "    }\n",
       "</style>\n",
       "<table border=\"1\" class=\"dataframe\">\n",
       "  <thead>\n",
       "    <tr style=\"text-align: right;\">\n",
       "      <th></th>\n",
       "      <th>Unnamed: 0</th>\n",
       "      <th>id</th>\n",
       "      <th>mb_used</th>\n",
       "      <th>session_date</th>\n",
       "      <th>user_id</th>\n",
       "    </tr>\n",
       "  </thead>\n",
       "  <tbody>\n",
       "    <tr>\n",
       "      <td>0</td>\n",
       "      <td>0</td>\n",
       "      <td>1000_0</td>\n",
       "      <td>112.95</td>\n",
       "      <td>2018-11-25</td>\n",
       "      <td>1000</td>\n",
       "    </tr>\n",
       "    <tr>\n",
       "      <td>1</td>\n",
       "      <td>1</td>\n",
       "      <td>1000_1</td>\n",
       "      <td>1052.81</td>\n",
       "      <td>2018-09-07</td>\n",
       "      <td>1000</td>\n",
       "    </tr>\n",
       "    <tr>\n",
       "      <td>2</td>\n",
       "      <td>2</td>\n",
       "      <td>1000_2</td>\n",
       "      <td>1197.26</td>\n",
       "      <td>2018-06-25</td>\n",
       "      <td>1000</td>\n",
       "    </tr>\n",
       "    <tr>\n",
       "      <td>3</td>\n",
       "      <td>3</td>\n",
       "      <td>1000_3</td>\n",
       "      <td>550.27</td>\n",
       "      <td>2018-08-22</td>\n",
       "      <td>1000</td>\n",
       "    </tr>\n",
       "    <tr>\n",
       "      <td>4</td>\n",
       "      <td>4</td>\n",
       "      <td>1000_4</td>\n",
       "      <td>302.56</td>\n",
       "      <td>2018-09-24</td>\n",
       "      <td>1000</td>\n",
       "    </tr>\n",
       "  </tbody>\n",
       "</table>\n",
       "</div>"
      ],
      "text/plain": [
       "   Unnamed: 0      id  mb_used session_date  user_id\n",
       "0           0  1000_0   112.95   2018-11-25     1000\n",
       "1           1  1000_1  1052.81   2018-09-07     1000\n",
       "2           2  1000_2  1197.26   2018-06-25     1000\n",
       "3           3  1000_3   550.27   2018-08-22     1000\n",
       "4           4  1000_4   302.56   2018-09-24     1000"
      ]
     },
     "execution_count": 4,
     "metadata": {},
     "output_type": "execute_result"
    }
   ],
   "source": [
    "# таблица 'internet' (информация об интернет-сессиях)\n",
    "df_internet = pd.read_csv('internet.csv')\n",
    "df_internet.head()"
   ]
  },
  {
   "cell_type": "code",
   "execution_count": 5,
   "metadata": {
    "scrolled": true
   },
   "outputs": [
    {
     "name": "stdout",
     "output_type": "stream",
     "text": [
      "<class 'pandas.core.frame.DataFrame'>\n",
      "RangeIndex: 149396 entries, 0 to 149395\n",
      "Data columns (total 5 columns):\n",
      "Unnamed: 0      149396 non-null int64\n",
      "id              149396 non-null object\n",
      "mb_used         149396 non-null float64\n",
      "session_date    149396 non-null object\n",
      "user_id         149396 non-null int64\n",
      "dtypes: float64(1), int64(2), object(2)\n",
      "memory usage: 5.7+ MB\n"
     ]
    }
   ],
   "source": [
    "# общие данные о датафрейме 'df_internet'\n",
    "df_internet.info()"
   ]
  },
  {
   "cell_type": "markdown",
   "metadata": {},
   "source": [
    "Явных пропусков данных нет.  \n",
    "\n",
    "Столбец `session_date` должен быть приведен к типу данных `datetime`.  \n",
    "\n",
    "Из первоначальных условий следует, что сотовый оператор «Мегалайн» всегда округляет мегабайты до гигабайт. \n",
    "Таким образом, все данные в ячейках столбца `mb_used` должны быть округлены в большую сторону (до ближайшего большего целого числа гигабайт)."
   ]
  },
  {
   "cell_type": "code",
   "execution_count": 6,
   "metadata": {
    "scrolled": false
   },
   "outputs": [
    {
     "data": {
      "text/html": [
       "<div>\n",
       "<style scoped>\n",
       "    .dataframe tbody tr th:only-of-type {\n",
       "        vertical-align: middle;\n",
       "    }\n",
       "\n",
       "    .dataframe tbody tr th {\n",
       "        vertical-align: top;\n",
       "    }\n",
       "\n",
       "    .dataframe thead th {\n",
       "        text-align: right;\n",
       "    }\n",
       "</style>\n",
       "<table border=\"1\" class=\"dataframe\">\n",
       "  <thead>\n",
       "    <tr style=\"text-align: right;\">\n",
       "      <th></th>\n",
       "      <th>id</th>\n",
       "      <th>message_date</th>\n",
       "      <th>user_id</th>\n",
       "    </tr>\n",
       "  </thead>\n",
       "  <tbody>\n",
       "    <tr>\n",
       "      <td>0</td>\n",
       "      <td>1000_0</td>\n",
       "      <td>2018-06-27</td>\n",
       "      <td>1000</td>\n",
       "    </tr>\n",
       "    <tr>\n",
       "      <td>1</td>\n",
       "      <td>1000_1</td>\n",
       "      <td>2018-10-08</td>\n",
       "      <td>1000</td>\n",
       "    </tr>\n",
       "    <tr>\n",
       "      <td>2</td>\n",
       "      <td>1000_2</td>\n",
       "      <td>2018-08-04</td>\n",
       "      <td>1000</td>\n",
       "    </tr>\n",
       "    <tr>\n",
       "      <td>3</td>\n",
       "      <td>1000_3</td>\n",
       "      <td>2018-06-16</td>\n",
       "      <td>1000</td>\n",
       "    </tr>\n",
       "    <tr>\n",
       "      <td>4</td>\n",
       "      <td>1000_4</td>\n",
       "      <td>2018-12-05</td>\n",
       "      <td>1000</td>\n",
       "    </tr>\n",
       "  </tbody>\n",
       "</table>\n",
       "</div>"
      ],
      "text/plain": [
       "       id message_date  user_id\n",
       "0  1000_0   2018-06-27     1000\n",
       "1  1000_1   2018-10-08     1000\n",
       "2  1000_2   2018-08-04     1000\n",
       "3  1000_3   2018-06-16     1000\n",
       "4  1000_4   2018-12-05     1000"
      ]
     },
     "execution_count": 6,
     "metadata": {},
     "output_type": "execute_result"
    }
   ],
   "source": [
    "# таблица 'messages' (информация о сообщениях)\n",
    "df_messages = pd.read_csv('messages.csv')\n",
    "df_messages.head()"
   ]
  },
  {
   "cell_type": "code",
   "execution_count": 7,
   "metadata": {
    "scrolled": true
   },
   "outputs": [
    {
     "name": "stdout",
     "output_type": "stream",
     "text": [
      "<class 'pandas.core.frame.DataFrame'>\n",
      "RangeIndex: 123036 entries, 0 to 123035\n",
      "Data columns (total 3 columns):\n",
      "id              123036 non-null object\n",
      "message_date    123036 non-null object\n",
      "user_id         123036 non-null int64\n",
      "dtypes: int64(1), object(2)\n",
      "memory usage: 2.8+ MB\n"
     ]
    }
   ],
   "source": [
    "# общие данные о датафрейме 'df_messages'\n",
    "df_messages.info()"
   ]
  },
  {
   "cell_type": "markdown",
   "metadata": {},
   "source": [
    "Явных пропусков данных нет.  \n",
    "\n",
    "Столбец `message_date` должен быть приведен к типу данных `datetime`.  "
   ]
  },
  {
   "cell_type": "code",
   "execution_count": 8,
   "metadata": {
    "scrolled": true
   },
   "outputs": [
    {
     "data": {
      "text/html": [
       "<div>\n",
       "<style scoped>\n",
       "    .dataframe tbody tr th:only-of-type {\n",
       "        vertical-align: middle;\n",
       "    }\n",
       "\n",
       "    .dataframe tbody tr th {\n",
       "        vertical-align: top;\n",
       "    }\n",
       "\n",
       "    .dataframe thead th {\n",
       "        text-align: right;\n",
       "    }\n",
       "</style>\n",
       "<table border=\"1\" class=\"dataframe\">\n",
       "  <thead>\n",
       "    <tr style=\"text-align: right;\">\n",
       "      <th></th>\n",
       "      <th>messages_included</th>\n",
       "      <th>mb_per_month_included</th>\n",
       "      <th>minutes_included</th>\n",
       "      <th>rub_monthly_fee</th>\n",
       "      <th>rub_per_gb</th>\n",
       "      <th>rub_per_message</th>\n",
       "      <th>rub_per_minute</th>\n",
       "      <th>tariff_name</th>\n",
       "    </tr>\n",
       "  </thead>\n",
       "  <tbody>\n",
       "    <tr>\n",
       "      <td>0</td>\n",
       "      <td>50</td>\n",
       "      <td>15360</td>\n",
       "      <td>500</td>\n",
       "      <td>550</td>\n",
       "      <td>200</td>\n",
       "      <td>3</td>\n",
       "      <td>3</td>\n",
       "      <td>smart</td>\n",
       "    </tr>\n",
       "    <tr>\n",
       "      <td>1</td>\n",
       "      <td>1000</td>\n",
       "      <td>30720</td>\n",
       "      <td>3000</td>\n",
       "      <td>1950</td>\n",
       "      <td>150</td>\n",
       "      <td>1</td>\n",
       "      <td>1</td>\n",
       "      <td>ultra</td>\n",
       "    </tr>\n",
       "  </tbody>\n",
       "</table>\n",
       "</div>"
      ],
      "text/plain": [
       "   messages_included  mb_per_month_included  minutes_included  \\\n",
       "0                 50                  15360               500   \n",
       "1               1000                  30720              3000   \n",
       "\n",
       "   rub_monthly_fee  rub_per_gb  rub_per_message  rub_per_minute tariff_name  \n",
       "0              550         200                3               3       smart  \n",
       "1             1950         150                1               1       ultra  "
      ]
     },
     "execution_count": 8,
     "metadata": {},
     "output_type": "execute_result"
    }
   ],
   "source": [
    "# таблица `tariffs` (информация о тарифах)\n",
    "df_tariffs = pd.read_csv('tariffs.csv')\n",
    "df_tariffs.head()"
   ]
  },
  {
   "cell_type": "code",
   "execution_count": 9,
   "metadata": {
    "scrolled": true
   },
   "outputs": [
    {
     "name": "stdout",
     "output_type": "stream",
     "text": [
      "<class 'pandas.core.frame.DataFrame'>\n",
      "RangeIndex: 2 entries, 0 to 1\n",
      "Data columns (total 8 columns):\n",
      "messages_included        2 non-null int64\n",
      "mb_per_month_included    2 non-null int64\n",
      "minutes_included         2 non-null int64\n",
      "rub_monthly_fee          2 non-null int64\n",
      "rub_per_gb               2 non-null int64\n",
      "rub_per_message          2 non-null int64\n",
      "rub_per_minute           2 non-null int64\n",
      "tariff_name              2 non-null object\n",
      "dtypes: int64(7), object(1)\n",
      "memory usage: 256.0+ bytes\n"
     ]
    }
   ],
   "source": [
    "# общие данные о датафрейме 'df_tariffs'\n",
    "df_tariffs.info()"
   ]
  },
  {
   "cell_type": "markdown",
   "metadata": {},
   "source": [
    "Явных пропусков данных нет.  \n",
    "\n",
    "Расшифровка наименований тарифов в столбце `tariff_name`.\n",
    "\n",
    "Тариф «Смарт»\n",
    "- Ежемесячная плата: 550 рублей\n",
    "- Включено 500 минут разговора, 50 сообщений и 15 Гб интернет-трафика\n",
    "- Стоимость услуг сверх тарифного пакета:\n",
    "    * минута разговора: 3 рубля; \n",
    "    * сообщение: 3 рубля;\n",
    "    * 1 Гб интернет-трафика: 200 рублей.\n",
    "\n",
    "Тариф «Ультра»  \n",
    "\n",
    "- Ежемесячная плата: 1950 рублей  \n",
    "- Включено 3000 минут разговора, 1000 сообщений и 30 Гб интернет-трафика\n",
    "- Стоимость услуг сверх тарифного пакета:\n",
    "    * минута разговора: 1 рубль;\n",
    "    * сообщение: 1 рубль;\n",
    "    * 1 Гб интернет-трафика: 150 рублей.\n",
    "    \n",
    "Примечание:  \n",
    "\n",
    "«Мегалайн» всегда округляет секунды до минут, а мегабайты — до гигабайт. Каждый звонок округляется отдельно: даже если он длился всего 1 секунду, будет засчитан как 1 минута.  \n",
    "\n",
    "Для веб-трафика отдельные сессии не считаются. Вместо этого общая сумма за месяц округляется в бо́льшую сторону. Если абонент использует 1025 мегабайт в этом месяце, с него возьмут плату за 2 гигабайта."
   ]
  },
  {
   "cell_type": "code",
   "execution_count": 10,
   "metadata": {
    "scrolled": true
   },
   "outputs": [
    {
     "data": {
      "text/html": [
       "<div>\n",
       "<style scoped>\n",
       "    .dataframe tbody tr th:only-of-type {\n",
       "        vertical-align: middle;\n",
       "    }\n",
       "\n",
       "    .dataframe tbody tr th {\n",
       "        vertical-align: top;\n",
       "    }\n",
       "\n",
       "    .dataframe thead th {\n",
       "        text-align: right;\n",
       "    }\n",
       "</style>\n",
       "<table border=\"1\" class=\"dataframe\">\n",
       "  <thead>\n",
       "    <tr style=\"text-align: right;\">\n",
       "      <th></th>\n",
       "      <th>user_id</th>\n",
       "      <th>age</th>\n",
       "      <th>churn_date</th>\n",
       "      <th>city</th>\n",
       "      <th>first_name</th>\n",
       "      <th>last_name</th>\n",
       "      <th>reg_date</th>\n",
       "      <th>tariff</th>\n",
       "    </tr>\n",
       "  </thead>\n",
       "  <tbody>\n",
       "    <tr>\n",
       "      <td>0</td>\n",
       "      <td>1000</td>\n",
       "      <td>52</td>\n",
       "      <td>NaN</td>\n",
       "      <td>Краснодар</td>\n",
       "      <td>Рафаил</td>\n",
       "      <td>Верещагин</td>\n",
       "      <td>2018-05-25</td>\n",
       "      <td>ultra</td>\n",
       "    </tr>\n",
       "    <tr>\n",
       "      <td>1</td>\n",
       "      <td>1001</td>\n",
       "      <td>41</td>\n",
       "      <td>NaN</td>\n",
       "      <td>Москва</td>\n",
       "      <td>Иван</td>\n",
       "      <td>Ежов</td>\n",
       "      <td>2018-11-01</td>\n",
       "      <td>smart</td>\n",
       "    </tr>\n",
       "    <tr>\n",
       "      <td>2</td>\n",
       "      <td>1002</td>\n",
       "      <td>59</td>\n",
       "      <td>NaN</td>\n",
       "      <td>Стерлитамак</td>\n",
       "      <td>Евгений</td>\n",
       "      <td>Абрамович</td>\n",
       "      <td>2018-06-17</td>\n",
       "      <td>smart</td>\n",
       "    </tr>\n",
       "    <tr>\n",
       "      <td>3</td>\n",
       "      <td>1003</td>\n",
       "      <td>23</td>\n",
       "      <td>NaN</td>\n",
       "      <td>Москва</td>\n",
       "      <td>Белла</td>\n",
       "      <td>Белякова</td>\n",
       "      <td>2018-08-17</td>\n",
       "      <td>ultra</td>\n",
       "    </tr>\n",
       "    <tr>\n",
       "      <td>4</td>\n",
       "      <td>1004</td>\n",
       "      <td>68</td>\n",
       "      <td>NaN</td>\n",
       "      <td>Новокузнецк</td>\n",
       "      <td>Татьяна</td>\n",
       "      <td>Авдеенко</td>\n",
       "      <td>2018-05-14</td>\n",
       "      <td>ultra</td>\n",
       "    </tr>\n",
       "  </tbody>\n",
       "</table>\n",
       "</div>"
      ],
      "text/plain": [
       "   user_id  age churn_date         city first_name  last_name    reg_date  \\\n",
       "0     1000   52        NaN    Краснодар     Рафаил  Верещагин  2018-05-25   \n",
       "1     1001   41        NaN       Москва       Иван       Ежов  2018-11-01   \n",
       "2     1002   59        NaN  Стерлитамак    Евгений  Абрамович  2018-06-17   \n",
       "3     1003   23        NaN       Москва      Белла   Белякова  2018-08-17   \n",
       "4     1004   68        NaN  Новокузнецк    Татьяна   Авдеенко  2018-05-14   \n",
       "\n",
       "  tariff  \n",
       "0  ultra  \n",
       "1  smart  \n",
       "2  smart  \n",
       "3  ultra  \n",
       "4  ultra  "
      ]
     },
     "execution_count": 10,
     "metadata": {},
     "output_type": "execute_result"
    }
   ],
   "source": [
    "# таблица `users` (информация о пользователях)\n",
    "df_users = pd.read_csv('users.csv')\n",
    "df_users.head()"
   ]
  },
  {
   "cell_type": "code",
   "execution_count": 11,
   "metadata": {
    "scrolled": true
   },
   "outputs": [
    {
     "name": "stdout",
     "output_type": "stream",
     "text": [
      "<class 'pandas.core.frame.DataFrame'>\n",
      "RangeIndex: 500 entries, 0 to 499\n",
      "Data columns (total 8 columns):\n",
      "user_id       500 non-null int64\n",
      "age           500 non-null int64\n",
      "churn_date    38 non-null object\n",
      "city          500 non-null object\n",
      "first_name    500 non-null object\n",
      "last_name     500 non-null object\n",
      "reg_date      500 non-null object\n",
      "tariff        500 non-null object\n",
      "dtypes: int64(2), object(6)\n",
      "memory usage: 31.4+ KB\n"
     ]
    }
   ],
   "source": [
    "# общие данные о датафрейме 'df_users'\n",
    "df_users.info()"
   ]
  },
  {
   "cell_type": "markdown",
   "metadata": {},
   "source": [
    "Из первоначальных условий следует, что пропуск данных в столбце `churn_date` указывает на активное использование тарифа в момент выгрузки данных.  \n",
    "\n",
    "Столбцы `churn_date` и `reg_date` должны быть приведены к типу данных `datetime`.  "
   ]
  },
  {
   "cell_type": "code",
   "execution_count": 12,
   "metadata": {},
   "outputs": [
    {
     "name": "stdout",
     "output_type": "stream",
     "text": [
      "В датафрейме df_calls дубликаты отсутствуют\n",
      "В датафрейме df_internet дубликаты отсутствуют\n",
      "В датафрейме df_messages дубликаты отсутствуют\n",
      "В датафрейме df_users дубликаты отсутствуют\n"
     ]
    }
   ],
   "source": [
    "# проверка отсутствия дубликатов строк во всех датафреймах (за исключением 'df_tariffs', т.к. в нем всего две строки)\n",
    "df_dicts = {'df_calls': df_calls, 'df_internet': df_internet, 'df_messages': df_messages, 'df_users': df_users}\n",
    "\n",
    "for col_name, df_name in df_dicts.items():\n",
    "    if df_name.duplicated().sum() == 0:\n",
    "        print(f'В датафрейме {col_name} дубликаты отсутствуют')\n",
    "    else:\n",
    "        print(f'В датафрейме {col_name} обнаружены дубликаты')\n",
    "        "
   ]
  },
  {
   "cell_type": "markdown",
   "metadata": {},
   "source": [
    "### Выводы"
   ]
  },
  {
   "cell_type": "markdown",
   "metadata": {},
   "source": [
    "Выполнено преобразование считанной информации в отдельные датафрейма. Получена первичная информация данных через метод `.info()`."
   ]
  },
  {
   "cell_type": "markdown",
   "metadata": {},
   "source": [
    "## Предобработка данных"
   ]
  },
  {
   "cell_type": "markdown",
   "metadata": {},
   "source": [
    "Приведение к типу данных `datetime` требуется выполнить для следующих датафреймов и соответствующих им столбцов:\n",
    "- `df_calls` столбец `date`\n",
    "- `df_internet` столбец `session_date`\n",
    "- `df_messages` столбец `message_date`\n",
    "- `df_users` столбец `reg_date` (обработка столбца `churn_date` возможна после заполнения пропусков)"
   ]
  },
  {
   "cell_type": "code",
   "execution_count": 13,
   "metadata": {},
   "outputs": [],
   "source": [
    "# создадим словарь, где ключ – имя столбца, значение – имя датафрейма\n",
    "convert_to_date = {'call_date': df_calls, 'session_date': df_internet, 'message_date': df_messages, 'reg_date': df_users}\n",
    "\n",
    "# через цикл выполним приведение типа данных\n",
    "for col_name, df_name in convert_to_date.items():\n",
    "    df_name[col_name] = pd.to_datetime(df_name[col_name], format='%Y-%m-%d')"
   ]
  },
  {
   "cell_type": "code",
   "execution_count": 14,
   "metadata": {},
   "outputs": [
    {
     "name": "stdout",
     "output_type": "stream",
     "text": [
      "<class 'pandas.core.frame.DataFrame'>\n",
      "RangeIndex: 149396 entries, 0 to 149395\n",
      "Data columns (total 5 columns):\n",
      "Unnamed: 0      149396 non-null int64\n",
      "id              149396 non-null object\n",
      "mb_used         149396 non-null float64\n",
      "session_date    149396 non-null datetime64[ns]\n",
      "user_id         149396 non-null int64\n",
      "dtypes: datetime64[ns](1), float64(1), int64(2), object(1)\n",
      "memory usage: 5.7+ MB\n"
     ]
    }
   ],
   "source": [
    "# выборочная проверка изменения типа данных, датафрейм 'df_internet' столбец 'session_date' тип данных 'datetime'\n",
    "df_internet.info()"
   ]
  },
  {
   "cell_type": "markdown",
   "metadata": {},
   "source": [
    "Округление требуется выполнить для следующих датафреймов и соответствующих им столбцов:\n",
    "- `df_calls` столбец `duration`: округление в большую сторону (до ближайшего большего целого числа)\n",
    "- `df_internet` столбец `mb_used`: округление в большую сторону (до ближайшего большего целого числа гигабайт). Предварительно весь трафик требуется просуммировать за отчетный период (месяц)."
   ]
  },
  {
   "cell_type": "code",
   "execution_count": 15,
   "metadata": {},
   "outputs": [],
   "source": [
    "# округление до ближайшего большего, датафрейм 'df_calls' столбец 'duration'\n",
    "df_calls['duration'] = df_calls['duration'].apply(math.ceil)"
   ]
  },
  {
   "cell_type": "markdown",
   "metadata": {},
   "source": [
    "### Поиск некорректных данных и аномалий"
   ]
  },
  {
   "cell_type": "markdown",
   "metadata": {},
   "source": [
    "**Датафрейм `df_calls`**"
   ]
  },
  {
   "cell_type": "code",
   "execution_count": 16,
   "metadata": {
    "scrolled": true
   },
   "outputs": [
    {
     "data": {
      "text/html": [
       "<div>\n",
       "<style scoped>\n",
       "    .dataframe tbody tr th:only-of-type {\n",
       "        vertical-align: middle;\n",
       "    }\n",
       "\n",
       "    .dataframe tbody tr th {\n",
       "        vertical-align: top;\n",
       "    }\n",
       "\n",
       "    .dataframe thead th {\n",
       "        text-align: right;\n",
       "    }\n",
       "</style>\n",
       "<table border=\"1\" class=\"dataframe\">\n",
       "  <thead>\n",
       "    <tr style=\"text-align: right;\">\n",
       "      <th></th>\n",
       "      <th>duration</th>\n",
       "      <th>user_id</th>\n",
       "    </tr>\n",
       "  </thead>\n",
       "  <tbody>\n",
       "    <tr>\n",
       "      <td>count</td>\n",
       "      <td>202607.000000</td>\n",
       "      <td>202607.000000</td>\n",
       "    </tr>\n",
       "    <tr>\n",
       "      <td>mean</td>\n",
       "      <td>7.158198</td>\n",
       "      <td>1253.940619</td>\n",
       "    </tr>\n",
       "    <tr>\n",
       "      <td>std</td>\n",
       "      <td>5.959173</td>\n",
       "      <td>144.722751</td>\n",
       "    </tr>\n",
       "    <tr>\n",
       "      <td>min</td>\n",
       "      <td>0.000000</td>\n",
       "      <td>1000.000000</td>\n",
       "    </tr>\n",
       "    <tr>\n",
       "      <td>25%</td>\n",
       "      <td>2.000000</td>\n",
       "      <td>1126.000000</td>\n",
       "    </tr>\n",
       "    <tr>\n",
       "      <td>50%</td>\n",
       "      <td>6.000000</td>\n",
       "      <td>1260.000000</td>\n",
       "    </tr>\n",
       "    <tr>\n",
       "      <td>75%</td>\n",
       "      <td>11.000000</td>\n",
       "      <td>1379.000000</td>\n",
       "    </tr>\n",
       "    <tr>\n",
       "      <td>max</td>\n",
       "      <td>38.000000</td>\n",
       "      <td>1499.000000</td>\n",
       "    </tr>\n",
       "  </tbody>\n",
       "</table>\n",
       "</div>"
      ],
      "text/plain": [
       "            duration        user_id\n",
       "count  202607.000000  202607.000000\n",
       "mean        7.158198    1253.940619\n",
       "std         5.959173     144.722751\n",
       "min         0.000000    1000.000000\n",
       "25%         2.000000    1126.000000\n",
       "50%         6.000000    1260.000000\n",
       "75%        11.000000    1379.000000\n",
       "max        38.000000    1499.000000"
      ]
     },
     "execution_count": 16,
     "metadata": {},
     "output_type": "execute_result"
    }
   ],
   "source": [
    "# общие сведения о числовых характеристиках\n",
    "df_calls.describe()"
   ]
  },
  {
   "cell_type": "markdown",
   "metadata": {},
   "source": [
    "В исследуемом датафрейме фиксируются звонки с нулевой продолжительностью (столбец `duration`). Из первоначальных условий следует, что «В данных вы найдёте звонки с нулевой продолжительностью. Это не ошибка: нулями обозначены пропущенные звонки, поэтому их не нужно удалять.»"
   ]
  },
  {
   "cell_type": "markdown",
   "metadata": {},
   "source": [
    "**Датафрейм `df_internet`**"
   ]
  },
  {
   "cell_type": "code",
   "execution_count": 17,
   "metadata": {
    "scrolled": true
   },
   "outputs": [
    {
     "data": {
      "text/html": [
       "<div>\n",
       "<style scoped>\n",
       "    .dataframe tbody tr th:only-of-type {\n",
       "        vertical-align: middle;\n",
       "    }\n",
       "\n",
       "    .dataframe tbody tr th {\n",
       "        vertical-align: top;\n",
       "    }\n",
       "\n",
       "    .dataframe thead th {\n",
       "        text-align: right;\n",
       "    }\n",
       "</style>\n",
       "<table border=\"1\" class=\"dataframe\">\n",
       "  <thead>\n",
       "    <tr style=\"text-align: right;\">\n",
       "      <th></th>\n",
       "      <th>Unnamed: 0</th>\n",
       "      <th>mb_used</th>\n",
       "      <th>user_id</th>\n",
       "    </tr>\n",
       "  </thead>\n",
       "  <tbody>\n",
       "    <tr>\n",
       "      <td>count</td>\n",
       "      <td>149396.000000</td>\n",
       "      <td>149396.000000</td>\n",
       "      <td>149396.000000</td>\n",
       "    </tr>\n",
       "    <tr>\n",
       "      <td>mean</td>\n",
       "      <td>74697.500000</td>\n",
       "      <td>370.192426</td>\n",
       "      <td>1252.099842</td>\n",
       "    </tr>\n",
       "    <tr>\n",
       "      <td>std</td>\n",
       "      <td>43127.054745</td>\n",
       "      <td>278.300951</td>\n",
       "      <td>144.050823</td>\n",
       "    </tr>\n",
       "    <tr>\n",
       "      <td>min</td>\n",
       "      <td>0.000000</td>\n",
       "      <td>0.000000</td>\n",
       "      <td>1000.000000</td>\n",
       "    </tr>\n",
       "    <tr>\n",
       "      <td>25%</td>\n",
       "      <td>37348.750000</td>\n",
       "      <td>138.187500</td>\n",
       "      <td>1130.000000</td>\n",
       "    </tr>\n",
       "    <tr>\n",
       "      <td>50%</td>\n",
       "      <td>74697.500000</td>\n",
       "      <td>348.015000</td>\n",
       "      <td>1251.000000</td>\n",
       "    </tr>\n",
       "    <tr>\n",
       "      <td>75%</td>\n",
       "      <td>112046.250000</td>\n",
       "      <td>559.552500</td>\n",
       "      <td>1380.000000</td>\n",
       "    </tr>\n",
       "    <tr>\n",
       "      <td>max</td>\n",
       "      <td>149395.000000</td>\n",
       "      <td>1724.830000</td>\n",
       "      <td>1499.000000</td>\n",
       "    </tr>\n",
       "  </tbody>\n",
       "</table>\n",
       "</div>"
      ],
      "text/plain": [
       "          Unnamed: 0        mb_used        user_id\n",
       "count  149396.000000  149396.000000  149396.000000\n",
       "mean    74697.500000     370.192426    1252.099842\n",
       "std     43127.054745     278.300951     144.050823\n",
       "min         0.000000       0.000000    1000.000000\n",
       "25%     37348.750000     138.187500    1130.000000\n",
       "50%     74697.500000     348.015000    1251.000000\n",
       "75%    112046.250000     559.552500    1380.000000\n",
       "max    149395.000000    1724.830000    1499.000000"
      ]
     },
     "execution_count": 17,
     "metadata": {},
     "output_type": "execute_result"
    }
   ],
   "source": [
    "# общие сведения о числовых характеристиках\n",
    "df_internet.describe()"
   ]
  },
  {
   "cell_type": "markdown",
   "metadata": {},
   "source": [
    "В исследуемом датафрейме фиксируется нулевой расход трафика (столбец `mb_used`). Вполне возможно, что эта категория пользователей является перспективной для дальнейшего более глубокого исследования (вопрос исследования: почему абонентами не используется предоплаченный трафик в рамках действующего тарифа). "
   ]
  },
  {
   "cell_type": "markdown",
   "metadata": {},
   "source": [
    "**Датафрейм `df_messages`**"
   ]
  },
  {
   "cell_type": "code",
   "execution_count": 18,
   "metadata": {
    "scrolled": true
   },
   "outputs": [
    {
     "data": {
      "text/html": [
       "<div>\n",
       "<style scoped>\n",
       "    .dataframe tbody tr th:only-of-type {\n",
       "        vertical-align: middle;\n",
       "    }\n",
       "\n",
       "    .dataframe tbody tr th {\n",
       "        vertical-align: top;\n",
       "    }\n",
       "\n",
       "    .dataframe thead th {\n",
       "        text-align: right;\n",
       "    }\n",
       "</style>\n",
       "<table border=\"1\" class=\"dataframe\">\n",
       "  <thead>\n",
       "    <tr style=\"text-align: right;\">\n",
       "      <th></th>\n",
       "      <th>user_id</th>\n",
       "    </tr>\n",
       "  </thead>\n",
       "  <tbody>\n",
       "    <tr>\n",
       "      <td>count</td>\n",
       "      <td>123036.000000</td>\n",
       "    </tr>\n",
       "    <tr>\n",
       "      <td>mean</td>\n",
       "      <td>1256.989410</td>\n",
       "    </tr>\n",
       "    <tr>\n",
       "      <td>std</td>\n",
       "      <td>143.523967</td>\n",
       "    </tr>\n",
       "    <tr>\n",
       "      <td>min</td>\n",
       "      <td>1000.000000</td>\n",
       "    </tr>\n",
       "    <tr>\n",
       "      <td>25%</td>\n",
       "      <td>1134.000000</td>\n",
       "    </tr>\n",
       "    <tr>\n",
       "      <td>50%</td>\n",
       "      <td>1271.000000</td>\n",
       "    </tr>\n",
       "    <tr>\n",
       "      <td>75%</td>\n",
       "      <td>1381.000000</td>\n",
       "    </tr>\n",
       "    <tr>\n",
       "      <td>max</td>\n",
       "      <td>1499.000000</td>\n",
       "    </tr>\n",
       "  </tbody>\n",
       "</table>\n",
       "</div>"
      ],
      "text/plain": [
       "             user_id\n",
       "count  123036.000000\n",
       "mean     1256.989410\n",
       "std       143.523967\n",
       "min      1000.000000\n",
       "25%      1134.000000\n",
       "50%      1271.000000\n",
       "75%      1381.000000\n",
       "max      1499.000000"
      ]
     },
     "execution_count": 18,
     "metadata": {},
     "output_type": "execute_result"
    }
   ],
   "source": [
    "# общие сведения о числовых характеристиках\n",
    "df_messages.describe()"
   ]
  },
  {
   "cell_type": "markdown",
   "metadata": {},
   "source": [
    "Таблица выше ценной информации почти не содержит. Составим сводну таблицу."
   ]
  },
  {
   "cell_type": "markdown",
   "metadata": {},
   "source": [
    "**Датафрейм `df_users`**"
   ]
  },
  {
   "cell_type": "code",
   "execution_count": 19,
   "metadata": {},
   "outputs": [
    {
     "data": {
      "text/html": [
       "<div>\n",
       "<style scoped>\n",
       "    .dataframe tbody tr th:only-of-type {\n",
       "        vertical-align: middle;\n",
       "    }\n",
       "\n",
       "    .dataframe tbody tr th {\n",
       "        vertical-align: top;\n",
       "    }\n",
       "\n",
       "    .dataframe thead th {\n",
       "        text-align: right;\n",
       "    }\n",
       "</style>\n",
       "<table border=\"1\" class=\"dataframe\">\n",
       "  <thead>\n",
       "    <tr style=\"text-align: right;\">\n",
       "      <th></th>\n",
       "      <th>user_id</th>\n",
       "      <th>age</th>\n",
       "    </tr>\n",
       "  </thead>\n",
       "  <tbody>\n",
       "    <tr>\n",
       "      <td>count</td>\n",
       "      <td>500.000000</td>\n",
       "      <td>500.00000</td>\n",
       "    </tr>\n",
       "    <tr>\n",
       "      <td>mean</td>\n",
       "      <td>1249.500000</td>\n",
       "      <td>46.58800</td>\n",
       "    </tr>\n",
       "    <tr>\n",
       "      <td>std</td>\n",
       "      <td>144.481833</td>\n",
       "      <td>16.66763</td>\n",
       "    </tr>\n",
       "    <tr>\n",
       "      <td>min</td>\n",
       "      <td>1000.000000</td>\n",
       "      <td>18.00000</td>\n",
       "    </tr>\n",
       "    <tr>\n",
       "      <td>25%</td>\n",
       "      <td>1124.750000</td>\n",
       "      <td>32.00000</td>\n",
       "    </tr>\n",
       "    <tr>\n",
       "      <td>50%</td>\n",
       "      <td>1249.500000</td>\n",
       "      <td>46.00000</td>\n",
       "    </tr>\n",
       "    <tr>\n",
       "      <td>75%</td>\n",
       "      <td>1374.250000</td>\n",
       "      <td>62.00000</td>\n",
       "    </tr>\n",
       "    <tr>\n",
       "      <td>max</td>\n",
       "      <td>1499.000000</td>\n",
       "      <td>75.00000</td>\n",
       "    </tr>\n",
       "  </tbody>\n",
       "</table>\n",
       "</div>"
      ],
      "text/plain": [
       "           user_id        age\n",
       "count   500.000000  500.00000\n",
       "mean   1249.500000   46.58800\n",
       "std     144.481833   16.66763\n",
       "min    1000.000000   18.00000\n",
       "25%    1124.750000   32.00000\n",
       "50%    1249.500000   46.00000\n",
       "75%    1374.250000   62.00000\n",
       "max    1499.000000   75.00000"
      ]
     },
     "execution_count": 19,
     "metadata": {},
     "output_type": "execute_result"
    }
   ],
   "source": [
    "# общие сведения о числовых характеристиках\n",
    "df_users.describe()"
   ]
  },
  {
   "cell_type": "markdown",
   "metadata": {},
   "source": [
    "Подозрений на аномалии нет."
   ]
  },
  {
   "cell_type": "markdown",
   "metadata": {},
   "source": [
    "### Расчет показателей для каждого пользователя"
   ]
  },
  {
   "cell_type": "markdown",
   "metadata": {},
   "source": [
    "**Количество сделанных звонков и израсходованных минут разговора по месяцам**"
   ]
  },
  {
   "cell_type": "code",
   "execution_count": 20,
   "metadata": {},
   "outputs": [
    {
     "data": {
      "text/html": [
       "<div>\n",
       "<style scoped>\n",
       "    .dataframe tbody tr th:only-of-type {\n",
       "        vertical-align: middle;\n",
       "    }\n",
       "\n",
       "    .dataframe tbody tr th {\n",
       "        vertical-align: top;\n",
       "    }\n",
       "\n",
       "    .dataframe thead th {\n",
       "        text-align: right;\n",
       "    }\n",
       "</style>\n",
       "<table border=\"1\" class=\"dataframe\">\n",
       "  <thead>\n",
       "    <tr style=\"text-align: right;\">\n",
       "      <th></th>\n",
       "      <th>id</th>\n",
       "      <th>call_date</th>\n",
       "      <th>duration</th>\n",
       "      <th>user_id</th>\n",
       "      <th>month_num</th>\n",
       "    </tr>\n",
       "  </thead>\n",
       "  <tbody>\n",
       "    <tr>\n",
       "      <td>0</td>\n",
       "      <td>1000_0</td>\n",
       "      <td>2018-07-25</td>\n",
       "      <td>0</td>\n",
       "      <td>1000</td>\n",
       "      <td>7</td>\n",
       "    </tr>\n",
       "    <tr>\n",
       "      <td>1</td>\n",
       "      <td>1000_1</td>\n",
       "      <td>2018-08-17</td>\n",
       "      <td>0</td>\n",
       "      <td>1000</td>\n",
       "      <td>8</td>\n",
       "    </tr>\n",
       "    <tr>\n",
       "      <td>2</td>\n",
       "      <td>1000_2</td>\n",
       "      <td>2018-06-11</td>\n",
       "      <td>3</td>\n",
       "      <td>1000</td>\n",
       "      <td>6</td>\n",
       "    </tr>\n",
       "    <tr>\n",
       "      <td>3</td>\n",
       "      <td>1000_3</td>\n",
       "      <td>2018-09-21</td>\n",
       "      <td>14</td>\n",
       "      <td>1000</td>\n",
       "      <td>9</td>\n",
       "    </tr>\n",
       "    <tr>\n",
       "      <td>4</td>\n",
       "      <td>1000_4</td>\n",
       "      <td>2018-12-15</td>\n",
       "      <td>6</td>\n",
       "      <td>1000</td>\n",
       "      <td>12</td>\n",
       "    </tr>\n",
       "  </tbody>\n",
       "</table>\n",
       "</div>"
      ],
      "text/plain": [
       "       id  call_date  duration  user_id  month_num\n",
       "0  1000_0 2018-07-25         0     1000          7\n",
       "1  1000_1 2018-08-17         0     1000          8\n",
       "2  1000_2 2018-06-11         3     1000          6\n",
       "3  1000_3 2018-09-21        14     1000          9\n",
       "4  1000_4 2018-12-15         6     1000         12"
      ]
     },
     "execution_count": 20,
     "metadata": {},
     "output_type": "execute_result"
    }
   ],
   "source": [
    "# добавим столбец для номера месяца\n",
    "df_calls['month_num'] = pd.DatetimeIndex(df_calls['call_date']).month\n",
    "df_calls.head()"
   ]
  },
  {
   "cell_type": "code",
   "execution_count": 21,
   "metadata": {
    "scrolled": true
   },
   "outputs": [
    {
     "data": {
      "text/html": [
       "<div>\n",
       "<style scoped>\n",
       "    .dataframe tbody tr th:only-of-type {\n",
       "        vertical-align: middle;\n",
       "    }\n",
       "\n",
       "    .dataframe tbody tr th {\n",
       "        vertical-align: top;\n",
       "    }\n",
       "\n",
       "    .dataframe thead th {\n",
       "        text-align: right;\n",
       "    }\n",
       "</style>\n",
       "<table border=\"1\" class=\"dataframe\">\n",
       "  <thead>\n",
       "    <tr style=\"text-align: right;\">\n",
       "      <th></th>\n",
       "      <th>user_id</th>\n",
       "      <th>month_num</th>\n",
       "      <th>calls_count</th>\n",
       "      <th>calls_time</th>\n",
       "    </tr>\n",
       "  </thead>\n",
       "  <tbody>\n",
       "    <tr>\n",
       "      <td>0</td>\n",
       "      <td>1000</td>\n",
       "      <td>5</td>\n",
       "      <td>22</td>\n",
       "      <td>159</td>\n",
       "    </tr>\n",
       "    <tr>\n",
       "      <td>1</td>\n",
       "      <td>1000</td>\n",
       "      <td>6</td>\n",
       "      <td>43</td>\n",
       "      <td>172</td>\n",
       "    </tr>\n",
       "    <tr>\n",
       "      <td>2</td>\n",
       "      <td>1000</td>\n",
       "      <td>7</td>\n",
       "      <td>47</td>\n",
       "      <td>340</td>\n",
       "    </tr>\n",
       "    <tr>\n",
       "      <td>3</td>\n",
       "      <td>1000</td>\n",
       "      <td>8</td>\n",
       "      <td>52</td>\n",
       "      <td>408</td>\n",
       "    </tr>\n",
       "    <tr>\n",
       "      <td>4</td>\n",
       "      <td>1000</td>\n",
       "      <td>9</td>\n",
       "      <td>58</td>\n",
       "      <td>466</td>\n",
       "    </tr>\n",
       "    <tr>\n",
       "      <td>5</td>\n",
       "      <td>1000</td>\n",
       "      <td>10</td>\n",
       "      <td>57</td>\n",
       "      <td>350</td>\n",
       "    </tr>\n",
       "    <tr>\n",
       "      <td>6</td>\n",
       "      <td>1000</td>\n",
       "      <td>11</td>\n",
       "      <td>43</td>\n",
       "      <td>338</td>\n",
       "    </tr>\n",
       "    <tr>\n",
       "      <td>7</td>\n",
       "      <td>1000</td>\n",
       "      <td>12</td>\n",
       "      <td>46</td>\n",
       "      <td>333</td>\n",
       "    </tr>\n",
       "    <tr>\n",
       "      <td>8</td>\n",
       "      <td>1001</td>\n",
       "      <td>11</td>\n",
       "      <td>59</td>\n",
       "      <td>430</td>\n",
       "    </tr>\n",
       "    <tr>\n",
       "      <td>9</td>\n",
       "      <td>1001</td>\n",
       "      <td>12</td>\n",
       "      <td>63</td>\n",
       "      <td>414</td>\n",
       "    </tr>\n",
       "  </tbody>\n",
       "</table>\n",
       "</div>"
      ],
      "text/plain": [
       "   user_id  month_num  calls_count  calls_time\n",
       "0     1000          5           22         159\n",
       "1     1000          6           43         172\n",
       "2     1000          7           47         340\n",
       "3     1000          8           52         408\n",
       "4     1000          9           58         466\n",
       "5     1000         10           57         350\n",
       "6     1000         11           43         338\n",
       "7     1000         12           46         333\n",
       "8     1001         11           59         430\n",
       "9     1001         12           63         414"
      ]
     },
     "execution_count": 21,
     "metadata": {},
     "output_type": "execute_result"
    }
   ],
   "source": [
    "# составим сводную таблицу для отображения необходимых данных\n",
    "pivot_df_calls = pd.pivot_table(df_calls,\n",
    "                                index=['user_id', 'month_num'],\n",
    "                                values=['duration'],\n",
    "                                aggfunc=('count', 'sum')).reset_index()\n",
    "\n",
    "\n",
    "# приводим заголовки столбцов к одному уровню\n",
    "pivot_df_calls.columns = ['user_id', 'month_num', 'calls_count', 'calls_time']\n",
    "\n",
    "\n",
    "# выполним сортировку по пользователям и месяцам\n",
    "pivot_df_calls_sorted = pivot_df_calls.sort_values(by=['user_id', 'month_num'])\n",
    "pivot_df_calls_sorted.head(10)"
   ]
  },
  {
   "cell_type": "markdown",
   "metadata": {},
   "source": [
    "**Количество отправленных сообщений по месяцам**"
   ]
  },
  {
   "cell_type": "code",
   "execution_count": 22,
   "metadata": {},
   "outputs": [
    {
     "data": {
      "text/html": [
       "<div>\n",
       "<style scoped>\n",
       "    .dataframe tbody tr th:only-of-type {\n",
       "        vertical-align: middle;\n",
       "    }\n",
       "\n",
       "    .dataframe tbody tr th {\n",
       "        vertical-align: top;\n",
       "    }\n",
       "\n",
       "    .dataframe thead th {\n",
       "        text-align: right;\n",
       "    }\n",
       "</style>\n",
       "<table border=\"1\" class=\"dataframe\">\n",
       "  <thead>\n",
       "    <tr style=\"text-align: right;\">\n",
       "      <th></th>\n",
       "      <th>id</th>\n",
       "      <th>message_date</th>\n",
       "      <th>user_id</th>\n",
       "      <th>month_num</th>\n",
       "    </tr>\n",
       "  </thead>\n",
       "  <tbody>\n",
       "    <tr>\n",
       "      <td>0</td>\n",
       "      <td>1000_0</td>\n",
       "      <td>2018-06-27</td>\n",
       "      <td>1000</td>\n",
       "      <td>6</td>\n",
       "    </tr>\n",
       "    <tr>\n",
       "      <td>1</td>\n",
       "      <td>1000_1</td>\n",
       "      <td>2018-10-08</td>\n",
       "      <td>1000</td>\n",
       "      <td>10</td>\n",
       "    </tr>\n",
       "    <tr>\n",
       "      <td>2</td>\n",
       "      <td>1000_2</td>\n",
       "      <td>2018-08-04</td>\n",
       "      <td>1000</td>\n",
       "      <td>8</td>\n",
       "    </tr>\n",
       "    <tr>\n",
       "      <td>3</td>\n",
       "      <td>1000_3</td>\n",
       "      <td>2018-06-16</td>\n",
       "      <td>1000</td>\n",
       "      <td>6</td>\n",
       "    </tr>\n",
       "    <tr>\n",
       "      <td>4</td>\n",
       "      <td>1000_4</td>\n",
       "      <td>2018-12-05</td>\n",
       "      <td>1000</td>\n",
       "      <td>12</td>\n",
       "    </tr>\n",
       "  </tbody>\n",
       "</table>\n",
       "</div>"
      ],
      "text/plain": [
       "       id message_date  user_id  month_num\n",
       "0  1000_0   2018-06-27     1000          6\n",
       "1  1000_1   2018-10-08     1000         10\n",
       "2  1000_2   2018-08-04     1000          8\n",
       "3  1000_3   2018-06-16     1000          6\n",
       "4  1000_4   2018-12-05     1000         12"
      ]
     },
     "execution_count": 22,
     "metadata": {},
     "output_type": "execute_result"
    }
   ],
   "source": [
    "# добавим столбец для номера месяца\n",
    "df_messages['month_num'] = pd.DatetimeIndex(df_messages['message_date']).month\n",
    "df_messages.head()"
   ]
  },
  {
   "cell_type": "code",
   "execution_count": 23,
   "metadata": {},
   "outputs": [
    {
     "data": {
      "text/html": [
       "<div>\n",
       "<style scoped>\n",
       "    .dataframe tbody tr th:only-of-type {\n",
       "        vertical-align: middle;\n",
       "    }\n",
       "\n",
       "    .dataframe tbody tr th {\n",
       "        vertical-align: top;\n",
       "    }\n",
       "\n",
       "    .dataframe thead th {\n",
       "        text-align: right;\n",
       "    }\n",
       "</style>\n",
       "<table border=\"1\" class=\"dataframe\">\n",
       "  <thead>\n",
       "    <tr style=\"text-align: right;\">\n",
       "      <th></th>\n",
       "      <th>user_id</th>\n",
       "      <th>month_num</th>\n",
       "      <th>messages_count</th>\n",
       "    </tr>\n",
       "  </thead>\n",
       "  <tbody>\n",
       "    <tr>\n",
       "      <td>0</td>\n",
       "      <td>1000</td>\n",
       "      <td>5</td>\n",
       "      <td>22</td>\n",
       "    </tr>\n",
       "    <tr>\n",
       "      <td>1</td>\n",
       "      <td>1000</td>\n",
       "      <td>6</td>\n",
       "      <td>60</td>\n",
       "    </tr>\n",
       "    <tr>\n",
       "      <td>2</td>\n",
       "      <td>1000</td>\n",
       "      <td>7</td>\n",
       "      <td>75</td>\n",
       "    </tr>\n",
       "    <tr>\n",
       "      <td>3</td>\n",
       "      <td>1000</td>\n",
       "      <td>8</td>\n",
       "      <td>81</td>\n",
       "    </tr>\n",
       "    <tr>\n",
       "      <td>4</td>\n",
       "      <td>1000</td>\n",
       "      <td>9</td>\n",
       "      <td>57</td>\n",
       "    </tr>\n",
       "  </tbody>\n",
       "</table>\n",
       "</div>"
      ],
      "text/plain": [
       "   user_id  month_num  messages_count\n",
       "0     1000          5              22\n",
       "1     1000          6              60\n",
       "2     1000          7              75\n",
       "3     1000          8              81\n",
       "4     1000          9              57"
      ]
     },
     "execution_count": 23,
     "metadata": {},
     "output_type": "execute_result"
    }
   ],
   "source": [
    "# составим сводную таблицу для отображения необходимых данных\n",
    "pivot_df_messages = pd.pivot_table(df_messages,\n",
    "                                   index=['user_id', 'month_num'],\n",
    "                                   values=['id'],\n",
    "                                   aggfunc=('count')).reset_index()\n",
    "\n",
    "\n",
    "# приводим заголовки столбцов к одному уровню\n",
    "pivot_df_messages.columns = ['user_id', 'month_num', 'messages_count']\n",
    "\n",
    "\n",
    "# выполним сортировку по пользователям и месяцам\n",
    "pivot_df_messages_sorted = pivot_df_messages.sort_values(by=['user_id', 'month_num'])\n",
    "pivot_df_messages_sorted.head()"
   ]
  },
  {
   "cell_type": "markdown",
   "metadata": {},
   "source": [
    "**Объем израсходованного интернет-трафика по месяцам**"
   ]
  },
  {
   "cell_type": "code",
   "execution_count": 24,
   "metadata": {},
   "outputs": [
    {
     "data": {
      "text/html": [
       "<div>\n",
       "<style scoped>\n",
       "    .dataframe tbody tr th:only-of-type {\n",
       "        vertical-align: middle;\n",
       "    }\n",
       "\n",
       "    .dataframe tbody tr th {\n",
       "        vertical-align: top;\n",
       "    }\n",
       "\n",
       "    .dataframe thead th {\n",
       "        text-align: right;\n",
       "    }\n",
       "</style>\n",
       "<table border=\"1\" class=\"dataframe\">\n",
       "  <thead>\n",
       "    <tr style=\"text-align: right;\">\n",
       "      <th></th>\n",
       "      <th>Unnamed: 0</th>\n",
       "      <th>id</th>\n",
       "      <th>mb_used</th>\n",
       "      <th>session_date</th>\n",
       "      <th>user_id</th>\n",
       "      <th>month_num</th>\n",
       "    </tr>\n",
       "  </thead>\n",
       "  <tbody>\n",
       "    <tr>\n",
       "      <td>0</td>\n",
       "      <td>0</td>\n",
       "      <td>1000_0</td>\n",
       "      <td>112.95</td>\n",
       "      <td>2018-11-25</td>\n",
       "      <td>1000</td>\n",
       "      <td>11</td>\n",
       "    </tr>\n",
       "    <tr>\n",
       "      <td>1</td>\n",
       "      <td>1</td>\n",
       "      <td>1000_1</td>\n",
       "      <td>1052.81</td>\n",
       "      <td>2018-09-07</td>\n",
       "      <td>1000</td>\n",
       "      <td>9</td>\n",
       "    </tr>\n",
       "    <tr>\n",
       "      <td>2</td>\n",
       "      <td>2</td>\n",
       "      <td>1000_2</td>\n",
       "      <td>1197.26</td>\n",
       "      <td>2018-06-25</td>\n",
       "      <td>1000</td>\n",
       "      <td>6</td>\n",
       "    </tr>\n",
       "    <tr>\n",
       "      <td>3</td>\n",
       "      <td>3</td>\n",
       "      <td>1000_3</td>\n",
       "      <td>550.27</td>\n",
       "      <td>2018-08-22</td>\n",
       "      <td>1000</td>\n",
       "      <td>8</td>\n",
       "    </tr>\n",
       "    <tr>\n",
       "      <td>4</td>\n",
       "      <td>4</td>\n",
       "      <td>1000_4</td>\n",
       "      <td>302.56</td>\n",
       "      <td>2018-09-24</td>\n",
       "      <td>1000</td>\n",
       "      <td>9</td>\n",
       "    </tr>\n",
       "  </tbody>\n",
       "</table>\n",
       "</div>"
      ],
      "text/plain": [
       "   Unnamed: 0      id  mb_used session_date  user_id  month_num\n",
       "0           0  1000_0   112.95   2018-11-25     1000         11\n",
       "1           1  1000_1  1052.81   2018-09-07     1000          9\n",
       "2           2  1000_2  1197.26   2018-06-25     1000          6\n",
       "3           3  1000_3   550.27   2018-08-22     1000          8\n",
       "4           4  1000_4   302.56   2018-09-24     1000          9"
      ]
     },
     "execution_count": 24,
     "metadata": {},
     "output_type": "execute_result"
    }
   ],
   "source": [
    "# добавим столбец для номера месяца\n",
    "df_internet['month_num'] = pd.DatetimeIndex(df_internet['session_date']).month\n",
    "df_internet.head()"
   ]
  },
  {
   "cell_type": "code",
   "execution_count": 25,
   "metadata": {
    "scrolled": true
   },
   "outputs": [
    {
     "data": {
      "text/html": [
       "<div>\n",
       "<style scoped>\n",
       "    .dataframe tbody tr th:only-of-type {\n",
       "        vertical-align: middle;\n",
       "    }\n",
       "\n",
       "    .dataframe tbody tr th {\n",
       "        vertical-align: top;\n",
       "    }\n",
       "\n",
       "    .dataframe thead th {\n",
       "        text-align: right;\n",
       "    }\n",
       "</style>\n",
       "<table border=\"1\" class=\"dataframe\">\n",
       "  <thead>\n",
       "    <tr style=\"text-align: right;\">\n",
       "      <th></th>\n",
       "      <th>user_id</th>\n",
       "      <th>month_num</th>\n",
       "      <th>mb_used</th>\n",
       "    </tr>\n",
       "  </thead>\n",
       "  <tbody>\n",
       "    <tr>\n",
       "      <td>0</td>\n",
       "      <td>1000</td>\n",
       "      <td>5</td>\n",
       "      <td>2253.49</td>\n",
       "    </tr>\n",
       "    <tr>\n",
       "      <td>1</td>\n",
       "      <td>1000</td>\n",
       "      <td>6</td>\n",
       "      <td>23233.77</td>\n",
       "    </tr>\n",
       "    <tr>\n",
       "      <td>2</td>\n",
       "      <td>1000</td>\n",
       "      <td>7</td>\n",
       "      <td>14003.64</td>\n",
       "    </tr>\n",
       "    <tr>\n",
       "      <td>3</td>\n",
       "      <td>1000</td>\n",
       "      <td>8</td>\n",
       "      <td>14055.93</td>\n",
       "    </tr>\n",
       "    <tr>\n",
       "      <td>4</td>\n",
       "      <td>1000</td>\n",
       "      <td>9</td>\n",
       "      <td>14568.91</td>\n",
       "    </tr>\n",
       "  </tbody>\n",
       "</table>\n",
       "</div>"
      ],
      "text/plain": [
       "   user_id  month_num   mb_used\n",
       "0     1000          5   2253.49\n",
       "1     1000          6  23233.77\n",
       "2     1000          7  14003.64\n",
       "3     1000          8  14055.93\n",
       "4     1000          9  14568.91"
      ]
     },
     "execution_count": 25,
     "metadata": {},
     "output_type": "execute_result"
    }
   ],
   "source": [
    "# составим сводную таблицу для отображения необходимых данных\n",
    "pivot_df_internet = pd.pivot_table(df_internet,\n",
    "                                   index=['user_id', 'month_num'],\n",
    "                                   values=['mb_used'],\n",
    "                                   aggfunc=('sum')).reset_index()\n",
    "\n",
    "\n",
    "# приводим заголовки столбцов к одному уровню\n",
    "pivot_df_internet.columns = ['user_id', 'month_num', 'mb_used']\n",
    "\n",
    "\n",
    "# выполним сортировку по пользователям и месяцам\n",
    "pivot_df_internet_sorted = pivot_df_internet.sort_values(by=['user_id', 'month_num'])\n",
    "pivot_df_internet_sorted.head()"
   ]
  },
  {
   "cell_type": "markdown",
   "metadata": {},
   "source": [
    "В приведенной выше сводной таблице отражен реальный объем израсходованного за месяц трафика (столбец `mb_used`). Поскольку все значения округляются до ближайшего целого числа гигабайт, добавим к сводной таблице соответствующий столбец.  \n",
    "\n",
    "Выдержка из первоначальных условий задания «Для веб-трафика отдельные сессии не считаются. Вместо этого общая сумма за месяц округляется в бо́льшую сторону. Если абонент использует 1025 мегабайт в этом месяце, с него возьмут плату за 2 гигабайта.»"
   ]
  },
  {
   "cell_type": "code",
   "execution_count": 26,
   "metadata": {},
   "outputs": [
    {
     "data": {
      "text/html": [
       "<div>\n",
       "<style scoped>\n",
       "    .dataframe tbody tr th:only-of-type {\n",
       "        vertical-align: middle;\n",
       "    }\n",
       "\n",
       "    .dataframe tbody tr th {\n",
       "        vertical-align: top;\n",
       "    }\n",
       "\n",
       "    .dataframe thead th {\n",
       "        text-align: right;\n",
       "    }\n",
       "</style>\n",
       "<table border=\"1\" class=\"dataframe\">\n",
       "  <thead>\n",
       "    <tr style=\"text-align: right;\">\n",
       "      <th></th>\n",
       "      <th>user_id</th>\n",
       "      <th>month_num</th>\n",
       "      <th>mb_used</th>\n",
       "      <th>gb_used</th>\n",
       "    </tr>\n",
       "  </thead>\n",
       "  <tbody>\n",
       "    <tr>\n",
       "      <td>0</td>\n",
       "      <td>1000</td>\n",
       "      <td>5</td>\n",
       "      <td>2253.49</td>\n",
       "      <td>3</td>\n",
       "    </tr>\n",
       "    <tr>\n",
       "      <td>1</td>\n",
       "      <td>1000</td>\n",
       "      <td>6</td>\n",
       "      <td>23233.77</td>\n",
       "      <td>23</td>\n",
       "    </tr>\n",
       "    <tr>\n",
       "      <td>2</td>\n",
       "      <td>1000</td>\n",
       "      <td>7</td>\n",
       "      <td>14003.64</td>\n",
       "      <td>14</td>\n",
       "    </tr>\n",
       "    <tr>\n",
       "      <td>3</td>\n",
       "      <td>1000</td>\n",
       "      <td>8</td>\n",
       "      <td>14055.93</td>\n",
       "      <td>14</td>\n",
       "    </tr>\n",
       "    <tr>\n",
       "      <td>4</td>\n",
       "      <td>1000</td>\n",
       "      <td>9</td>\n",
       "      <td>14568.91</td>\n",
       "      <td>15</td>\n",
       "    </tr>\n",
       "  </tbody>\n",
       "</table>\n",
       "</div>"
      ],
      "text/plain": [
       "   user_id  month_num   mb_used  gb_used\n",
       "0     1000          5   2253.49        3\n",
       "1     1000          6  23233.77       23\n",
       "2     1000          7  14003.64       14\n",
       "3     1000          8  14055.93       14\n",
       "4     1000          9  14568.91       15"
      ]
     },
     "execution_count": 26,
     "metadata": {},
     "output_type": "execute_result"
    }
   ],
   "source": [
    "# добавляем столбец 'mb_used', который отражает объем израсходованного трафика по методу учета сотового оператора\n",
    "pivot_df_internet_sorted['gb_used'] = pivot_df_internet['mb_used'].apply(lambda x: math.ceil(x / 1024))\n",
    "pivot_df_internet_sorted.head()"
   ]
  },
  {
   "cell_type": "markdown",
   "metadata": {},
   "source": [
    "**Помесячная выручку с каждого пользователя**"
   ]
  },
  {
   "cell_type": "markdown",
   "metadata": {},
   "source": [
    "**пункт 1** – вычитаем бесплатный лимит"
   ]
  },
  {
   "cell_type": "markdown",
   "metadata": {},
   "source": [
    " **п.1.1** – из суммарного количества звонков"
   ]
  },
  {
   "cell_type": "code",
   "execution_count": 27,
   "metadata": {
    "scrolled": false
   },
   "outputs": [
    {
     "data": {
      "text/html": [
       "<div>\n",
       "<style scoped>\n",
       "    .dataframe tbody tr th:only-of-type {\n",
       "        vertical-align: middle;\n",
       "    }\n",
       "\n",
       "    .dataframe tbody tr th {\n",
       "        vertical-align: top;\n",
       "    }\n",
       "\n",
       "    .dataframe thead th {\n",
       "        text-align: right;\n",
       "    }\n",
       "</style>\n",
       "<table border=\"1\" class=\"dataframe\">\n",
       "  <thead>\n",
       "    <tr style=\"text-align: right;\">\n",
       "      <th></th>\n",
       "      <th>user_id</th>\n",
       "      <th>month_num</th>\n",
       "      <th>calls_time</th>\n",
       "      <th>tariff</th>\n",
       "      <th>calls_over_limit</th>\n",
       "    </tr>\n",
       "  </thead>\n",
       "  <tbody>\n",
       "    <tr>\n",
       "      <td>0</td>\n",
       "      <td>1000</td>\n",
       "      <td>5</td>\n",
       "      <td>159</td>\n",
       "      <td>ultra</td>\n",
       "      <td>-2841</td>\n",
       "    </tr>\n",
       "    <tr>\n",
       "      <td>1</td>\n",
       "      <td>1000</td>\n",
       "      <td>6</td>\n",
       "      <td>172</td>\n",
       "      <td>ultra</td>\n",
       "      <td>-2828</td>\n",
       "    </tr>\n",
       "    <tr>\n",
       "      <td>2</td>\n",
       "      <td>1000</td>\n",
       "      <td>7</td>\n",
       "      <td>340</td>\n",
       "      <td>ultra</td>\n",
       "      <td>-2660</td>\n",
       "    </tr>\n",
       "    <tr>\n",
       "      <td>3</td>\n",
       "      <td>1000</td>\n",
       "      <td>8</td>\n",
       "      <td>408</td>\n",
       "      <td>ultra</td>\n",
       "      <td>-2592</td>\n",
       "    </tr>\n",
       "    <tr>\n",
       "      <td>4</td>\n",
       "      <td>1000</td>\n",
       "      <td>9</td>\n",
       "      <td>466</td>\n",
       "      <td>ultra</td>\n",
       "      <td>-2534</td>\n",
       "    </tr>\n",
       "  </tbody>\n",
       "</table>\n",
       "</div>"
      ],
      "text/plain": [
       "   user_id  month_num  calls_time tariff  calls_over_limit\n",
       "0     1000          5         159  ultra             -2841\n",
       "1     1000          6         172  ultra             -2828\n",
       "2     1000          7         340  ultra             -2660\n",
       "3     1000          8         408  ultra             -2592\n",
       "4     1000          9         466  ultra             -2534"
      ]
     },
     "execution_count": 27,
     "metadata": {},
     "output_type": "execute_result"
    }
   ],
   "source": [
    "# привязка тарифного плана к израсходованному на звонки времени\n",
    "df_calls_dif = pd.merge(pivot_df_calls_sorted, df_users, on='user_id', how='left')\n",
    "\n",
    "# вычитаем бесплатный лимит на время звонка ('ultra' = 3000; 'smart' = 500)\n",
    "df_calls_dif['calls_over_limit'] = df_calls_dif.apply(lambda row: row['calls_time'] - 3000 if\n",
    "                                            row['tariff'] == 'ultra' else row['calls_time'] - 500, axis=1)\n",
    "\n",
    "df_calls_dif.drop(columns=['calls_count', 'age', 'churn_date', 'city', 'first_name', 'last_name', 'reg_date']).head()"
   ]
  },
  {
   "cell_type": "markdown",
   "metadata": {},
   "source": [
    "Если в ячейке столбца `calls_over_limit` фиксируется отрицательное число – это означает, что абонент не израсходовал бесплатный лимит на время разговора.  \n",
    "\n",
    "Если в ячейке столбца `calls_over_limit` фиксируется положительное число – это означает, что абонент превысил лимит бесплатного времени разговора."
   ]
  },
  {
   "cell_type": "markdown",
   "metadata": {},
   "source": [
    " **п.1.2** – из суммарного количества сообщений"
   ]
  },
  {
   "cell_type": "code",
   "execution_count": 28,
   "metadata": {
    "scrolled": false
   },
   "outputs": [
    {
     "data": {
      "text/html": [
       "<div>\n",
       "<style scoped>\n",
       "    .dataframe tbody tr th:only-of-type {\n",
       "        vertical-align: middle;\n",
       "    }\n",
       "\n",
       "    .dataframe tbody tr th {\n",
       "        vertical-align: top;\n",
       "    }\n",
       "\n",
       "    .dataframe thead th {\n",
       "        text-align: right;\n",
       "    }\n",
       "</style>\n",
       "<table border=\"1\" class=\"dataframe\">\n",
       "  <thead>\n",
       "    <tr style=\"text-align: right;\">\n",
       "      <th></th>\n",
       "      <th>user_id</th>\n",
       "      <th>month_num</th>\n",
       "      <th>messages_count</th>\n",
       "      <th>tariff</th>\n",
       "      <th>messages_over_limit</th>\n",
       "    </tr>\n",
       "  </thead>\n",
       "  <tbody>\n",
       "    <tr>\n",
       "      <td>0</td>\n",
       "      <td>1000</td>\n",
       "      <td>5</td>\n",
       "      <td>22</td>\n",
       "      <td>ultra</td>\n",
       "      <td>-978</td>\n",
       "    </tr>\n",
       "    <tr>\n",
       "      <td>1</td>\n",
       "      <td>1000</td>\n",
       "      <td>6</td>\n",
       "      <td>60</td>\n",
       "      <td>ultra</td>\n",
       "      <td>-940</td>\n",
       "    </tr>\n",
       "    <tr>\n",
       "      <td>2</td>\n",
       "      <td>1000</td>\n",
       "      <td>7</td>\n",
       "      <td>75</td>\n",
       "      <td>ultra</td>\n",
       "      <td>-925</td>\n",
       "    </tr>\n",
       "    <tr>\n",
       "      <td>3</td>\n",
       "      <td>1000</td>\n",
       "      <td>8</td>\n",
       "      <td>81</td>\n",
       "      <td>ultra</td>\n",
       "      <td>-919</td>\n",
       "    </tr>\n",
       "    <tr>\n",
       "      <td>4</td>\n",
       "      <td>1000</td>\n",
       "      <td>9</td>\n",
       "      <td>57</td>\n",
       "      <td>ultra</td>\n",
       "      <td>-943</td>\n",
       "    </tr>\n",
       "  </tbody>\n",
       "</table>\n",
       "</div>"
      ],
      "text/plain": [
       "   user_id  month_num  messages_count tariff  messages_over_limit\n",
       "0     1000          5              22  ultra                 -978\n",
       "1     1000          6              60  ultra                 -940\n",
       "2     1000          7              75  ultra                 -925\n",
       "3     1000          8              81  ultra                 -919\n",
       "4     1000          9              57  ultra                 -943"
      ]
     },
     "execution_count": 28,
     "metadata": {},
     "output_type": "execute_result"
    }
   ],
   "source": [
    "# привязка тарифного плана к израсходованному на звонки времени\n",
    "df_messages_dif = pd.merge(pivot_df_messages_sorted, df_users, on='user_id', how='left')\n",
    "\n",
    "# вычитаем бесплатный лимит количество сообщений ('ultra' = 1000; 'smart' = 50)\n",
    "df_messages_dif['messages_over_limit'] = df_messages_dif.apply(lambda row: row['messages_count'] - 1000 if\n",
    "                                            row['tariff'] == 'ultra' else row['messages_count'] - 50, axis=1)\n",
    "\n",
    "df_messages_dif.drop(columns=['age', 'churn_date', 'city', 'first_name', 'last_name', 'reg_date']).head()"
   ]
  },
  {
   "cell_type": "markdown",
   "metadata": {},
   "source": [
    "Если в ячейке столбца `messages_over_limit` фиксируется отрицательное число – это означает, что абонент не израсходовал бесплатный лимит на отправку сообщений.  \n",
    "\n",
    "Если в ячейке столбца `messages_over_limit` фиксируется положительное число – это означает, что абонент превысил лимит бесплатных сообщений."
   ]
  },
  {
   "cell_type": "markdown",
   "metadata": {},
   "source": [
    " **п.1.3** – из суммарного интернет-трафика"
   ]
  },
  {
   "cell_type": "code",
   "execution_count": 29,
   "metadata": {
    "scrolled": false
   },
   "outputs": [
    {
     "data": {
      "text/html": [
       "<div>\n",
       "<style scoped>\n",
       "    .dataframe tbody tr th:only-of-type {\n",
       "        vertical-align: middle;\n",
       "    }\n",
       "\n",
       "    .dataframe tbody tr th {\n",
       "        vertical-align: top;\n",
       "    }\n",
       "\n",
       "    .dataframe thead th {\n",
       "        text-align: right;\n",
       "    }\n",
       "</style>\n",
       "<table border=\"1\" class=\"dataframe\">\n",
       "  <thead>\n",
       "    <tr style=\"text-align: right;\">\n",
       "      <th></th>\n",
       "      <th>user_id</th>\n",
       "      <th>month_num</th>\n",
       "      <th>gb_used</th>\n",
       "      <th>tariff</th>\n",
       "      <th>internet_over_limit</th>\n",
       "    </tr>\n",
       "  </thead>\n",
       "  <tbody>\n",
       "    <tr>\n",
       "      <td>0</td>\n",
       "      <td>1000</td>\n",
       "      <td>5</td>\n",
       "      <td>3</td>\n",
       "      <td>ultra</td>\n",
       "      <td>-27</td>\n",
       "    </tr>\n",
       "    <tr>\n",
       "      <td>1</td>\n",
       "      <td>1000</td>\n",
       "      <td>6</td>\n",
       "      <td>23</td>\n",
       "      <td>ultra</td>\n",
       "      <td>-7</td>\n",
       "    </tr>\n",
       "    <tr>\n",
       "      <td>2</td>\n",
       "      <td>1000</td>\n",
       "      <td>7</td>\n",
       "      <td>14</td>\n",
       "      <td>ultra</td>\n",
       "      <td>-16</td>\n",
       "    </tr>\n",
       "    <tr>\n",
       "      <td>3</td>\n",
       "      <td>1000</td>\n",
       "      <td>8</td>\n",
       "      <td>14</td>\n",
       "      <td>ultra</td>\n",
       "      <td>-16</td>\n",
       "    </tr>\n",
       "    <tr>\n",
       "      <td>4</td>\n",
       "      <td>1000</td>\n",
       "      <td>9</td>\n",
       "      <td>15</td>\n",
       "      <td>ultra</td>\n",
       "      <td>-15</td>\n",
       "    </tr>\n",
       "  </tbody>\n",
       "</table>\n",
       "</div>"
      ],
      "text/plain": [
       "   user_id  month_num  gb_used tariff  internet_over_limit\n",
       "0     1000          5        3  ultra                  -27\n",
       "1     1000          6       23  ultra                   -7\n",
       "2     1000          7       14  ultra                  -16\n",
       "3     1000          8       14  ultra                  -16\n",
       "4     1000          9       15  ultra                  -15"
      ]
     },
     "execution_count": 29,
     "metadata": {},
     "output_type": "execute_result"
    }
   ],
   "source": [
    "# привязка тарифного плана к израсходованному на звонки времени\n",
    "df_internet_dif = pd.merge(pivot_df_internet_sorted, df_users, on='user_id', how='left')\n",
    "\n",
    "# вычитаем бесплатный лимит на объем интернет-трафика ('ultra' = 30; 'smart' = 15)\n",
    "df_internet_dif['internet_over_limit'] = df_internet_dif.apply(lambda row: row['gb_used'] - 30 if\n",
    "                                            row['tariff'] == 'ultra' else row['gb_used'] - 15, axis=1)\n",
    "\n",
    "df_internet_dif.drop(columns=['mb_used', 'age', 'churn_date', 'city', 'first_name', 'last_name', 'reg_date']).head()"
   ]
  },
  {
   "cell_type": "markdown",
   "metadata": {},
   "source": [
    "Если в ячейке столбца `internet_over_limit` фиксируется отрицательное число – это означает, что абонент не израсходовал бесплатный лимит объема интернет-трафика.  \n",
    "\n",
    "Если в ячейке столбца `internet_over_limit` фиксируется положительное число – это означает, что абонент превысил бесплатный лимит интернет-трафика."
   ]
  },
  {
   "cell_type": "markdown",
   "metadata": {},
   "source": [
    "**пункт 2 (остаток умножаем на значение из тарифного плана)**"
   ]
  },
  {
   "cell_type": "markdown",
   "metadata": {},
   "source": [
    "**п.2.1** – время звонков"
   ]
  },
  {
   "cell_type": "code",
   "execution_count": 30,
   "metadata": {
    "scrolled": true
   },
   "outputs": [
    {
     "data": {
      "text/html": [
       "<div>\n",
       "<style scoped>\n",
       "    .dataframe tbody tr th:only-of-type {\n",
       "        vertical-align: middle;\n",
       "    }\n",
       "\n",
       "    .dataframe tbody tr th {\n",
       "        vertical-align: top;\n",
       "    }\n",
       "\n",
       "    .dataframe thead th {\n",
       "        text-align: right;\n",
       "    }\n",
       "</style>\n",
       "<table border=\"1\" class=\"dataframe\">\n",
       "  <thead>\n",
       "    <tr style=\"text-align: right;\">\n",
       "      <th></th>\n",
       "      <th>user_id</th>\n",
       "      <th>month_num</th>\n",
       "      <th>calls_time</th>\n",
       "      <th>tariff</th>\n",
       "      <th>calls_extra_price</th>\n",
       "    </tr>\n",
       "  </thead>\n",
       "  <tbody>\n",
       "    <tr>\n",
       "      <td>0</td>\n",
       "      <td>1000</td>\n",
       "      <td>5</td>\n",
       "      <td>159</td>\n",
       "      <td>ultra</td>\n",
       "      <td>0</td>\n",
       "    </tr>\n",
       "    <tr>\n",
       "      <td>1</td>\n",
       "      <td>1000</td>\n",
       "      <td>6</td>\n",
       "      <td>172</td>\n",
       "      <td>ultra</td>\n",
       "      <td>0</td>\n",
       "    </tr>\n",
       "    <tr>\n",
       "      <td>2</td>\n",
       "      <td>1000</td>\n",
       "      <td>7</td>\n",
       "      <td>340</td>\n",
       "      <td>ultra</td>\n",
       "      <td>0</td>\n",
       "    </tr>\n",
       "    <tr>\n",
       "      <td>3</td>\n",
       "      <td>1000</td>\n",
       "      <td>8</td>\n",
       "      <td>408</td>\n",
       "      <td>ultra</td>\n",
       "      <td>0</td>\n",
       "    </tr>\n",
       "    <tr>\n",
       "      <td>4</td>\n",
       "      <td>1000</td>\n",
       "      <td>9</td>\n",
       "      <td>466</td>\n",
       "      <td>ultra</td>\n",
       "      <td>0</td>\n",
       "    </tr>\n",
       "  </tbody>\n",
       "</table>\n",
       "</div>"
      ],
      "text/plain": [
       "   user_id  month_num  calls_time tariff  calls_extra_price\n",
       "0     1000          5         159  ultra                  0\n",
       "1     1000          6         172  ultra                  0\n",
       "2     1000          7         340  ultra                  0\n",
       "3     1000          8         408  ultra                  0\n",
       "4     1000          9         466  ultra                  0"
      ]
     },
     "execution_count": 30,
     "metadata": {},
     "output_type": "execute_result"
    }
   ],
   "source": [
    "# отрицательные числа в столбце 'calls_over_limit' заменяем нулями, т.к. абонент не вышел за лимиты тарифа\n",
    "df_calls_dif['zero_value'] = df_calls_dif.apply(lambda row: 0 if row['calls_over_limit'] < 0 else\n",
    "                                                row['calls_over_limit'], axis=1)\n",
    "\n",
    "\n",
    "# умножаем количество минут сверх лимита на стоимость минуты по тарифу\n",
    "# ('ultra' минута разговора: 1 рубль; 'smart' минута разговора: 3 рубля)\n",
    "df_calls_dif['calls_extra_price'] = df_calls_dif.apply(lambda row: row['zero_value'] * 1 if \n",
    "                                                row['tariff'] == 'ultra' else\n",
    "                                                row['zero_value'] * 3, axis=1)\n",
    "\n",
    "\n",
    "df_calls_dif.drop(columns=['calls_count', 'age', 'churn_date', 'city',\n",
    "                           'first_name', 'last_name', 'reg_date', 'calls_over_limit', 'zero_value']).head()"
   ]
  },
  {
   "cell_type": "markdown",
   "metadata": {},
   "source": [
    "**п.2.2** – количество сообщений"
   ]
  },
  {
   "cell_type": "code",
   "execution_count": 31,
   "metadata": {
    "scrolled": false
   },
   "outputs": [
    {
     "data": {
      "text/html": [
       "<div>\n",
       "<style scoped>\n",
       "    .dataframe tbody tr th:only-of-type {\n",
       "        vertical-align: middle;\n",
       "    }\n",
       "\n",
       "    .dataframe tbody tr th {\n",
       "        vertical-align: top;\n",
       "    }\n",
       "\n",
       "    .dataframe thead th {\n",
       "        text-align: right;\n",
       "    }\n",
       "</style>\n",
       "<table border=\"1\" class=\"dataframe\">\n",
       "  <thead>\n",
       "    <tr style=\"text-align: right;\">\n",
       "      <th></th>\n",
       "      <th>user_id</th>\n",
       "      <th>month_num</th>\n",
       "      <th>tariff</th>\n",
       "      <th>messages_extra_price</th>\n",
       "    </tr>\n",
       "  </thead>\n",
       "  <tbody>\n",
       "    <tr>\n",
       "      <td>0</td>\n",
       "      <td>1000</td>\n",
       "      <td>5</td>\n",
       "      <td>ultra</td>\n",
       "      <td>0</td>\n",
       "    </tr>\n",
       "    <tr>\n",
       "      <td>1</td>\n",
       "      <td>1000</td>\n",
       "      <td>6</td>\n",
       "      <td>ultra</td>\n",
       "      <td>0</td>\n",
       "    </tr>\n",
       "    <tr>\n",
       "      <td>2</td>\n",
       "      <td>1000</td>\n",
       "      <td>7</td>\n",
       "      <td>ultra</td>\n",
       "      <td>0</td>\n",
       "    </tr>\n",
       "    <tr>\n",
       "      <td>3</td>\n",
       "      <td>1000</td>\n",
       "      <td>8</td>\n",
       "      <td>ultra</td>\n",
       "      <td>0</td>\n",
       "    </tr>\n",
       "    <tr>\n",
       "      <td>4</td>\n",
       "      <td>1000</td>\n",
       "      <td>9</td>\n",
       "      <td>ultra</td>\n",
       "      <td>0</td>\n",
       "    </tr>\n",
       "  </tbody>\n",
       "</table>\n",
       "</div>"
      ],
      "text/plain": [
       "   user_id  month_num tariff  messages_extra_price\n",
       "0     1000          5  ultra                     0\n",
       "1     1000          6  ultra                     0\n",
       "2     1000          7  ultra                     0\n",
       "3     1000          8  ultra                     0\n",
       "4     1000          9  ultra                     0"
      ]
     },
     "execution_count": 31,
     "metadata": {},
     "output_type": "execute_result"
    }
   ],
   "source": [
    "# отрицательные числа в столбце 'messages_over_limit' заменяем нулями, т.к. абонент не вышел за лимиты тарифа\n",
    "df_messages_dif['zero_value'] = df_messages_dif.apply(lambda row: 0 if row['messages_over_limit'] < 0 else\n",
    "                                                      row['messages_over_limit'], axis=1)\n",
    "\n",
    "\n",
    "# умножаем количество сообщений сверх лимита на стоимость одного сообщения по тарифу\n",
    "# ('ultra' сообщение: 1 рубль; 'smart' сообщение: 3 рубля)\n",
    "df_messages_dif['messages_extra_price'] = df_messages_dif.apply(lambda row: row['zero_value'] * 1 if \n",
    "                                                row['tariff'] == 'ultra' else\n",
    "                                                row['zero_value'] * 3, axis=1)\n",
    "\n",
    "\n",
    "df_messages_dif.drop(columns=['messages_count', 'age', 'churn_date', 'city',\n",
    "                              'first_name', 'last_name', 'reg_date', 'messages_over_limit', 'zero_value']).head()"
   ]
  },
  {
   "cell_type": "markdown",
   "metadata": {},
   "source": [
    "**п.2.3** – объем интернет-трафика"
   ]
  },
  {
   "cell_type": "code",
   "execution_count": 32,
   "metadata": {
    "scrolled": true
   },
   "outputs": [
    {
     "data": {
      "text/html": [
       "<div>\n",
       "<style scoped>\n",
       "    .dataframe tbody tr th:only-of-type {\n",
       "        vertical-align: middle;\n",
       "    }\n",
       "\n",
       "    .dataframe tbody tr th {\n",
       "        vertical-align: top;\n",
       "    }\n",
       "\n",
       "    .dataframe thead th {\n",
       "        text-align: right;\n",
       "    }\n",
       "</style>\n",
       "<table border=\"1\" class=\"dataframe\">\n",
       "  <thead>\n",
       "    <tr style=\"text-align: right;\">\n",
       "      <th></th>\n",
       "      <th>user_id</th>\n",
       "      <th>month_num</th>\n",
       "      <th>gb_used</th>\n",
       "      <th>tariff</th>\n",
       "      <th>internet_extra_price</th>\n",
       "    </tr>\n",
       "  </thead>\n",
       "  <tbody>\n",
       "    <tr>\n",
       "      <td>0</td>\n",
       "      <td>1000</td>\n",
       "      <td>5</td>\n",
       "      <td>3</td>\n",
       "      <td>ultra</td>\n",
       "      <td>0</td>\n",
       "    </tr>\n",
       "    <tr>\n",
       "      <td>1</td>\n",
       "      <td>1000</td>\n",
       "      <td>6</td>\n",
       "      <td>23</td>\n",
       "      <td>ultra</td>\n",
       "      <td>0</td>\n",
       "    </tr>\n",
       "    <tr>\n",
       "      <td>2</td>\n",
       "      <td>1000</td>\n",
       "      <td>7</td>\n",
       "      <td>14</td>\n",
       "      <td>ultra</td>\n",
       "      <td>0</td>\n",
       "    </tr>\n",
       "    <tr>\n",
       "      <td>3</td>\n",
       "      <td>1000</td>\n",
       "      <td>8</td>\n",
       "      <td>14</td>\n",
       "      <td>ultra</td>\n",
       "      <td>0</td>\n",
       "    </tr>\n",
       "    <tr>\n",
       "      <td>4</td>\n",
       "      <td>1000</td>\n",
       "      <td>9</td>\n",
       "      <td>15</td>\n",
       "      <td>ultra</td>\n",
       "      <td>0</td>\n",
       "    </tr>\n",
       "    <tr>\n",
       "      <td>5</td>\n",
       "      <td>1000</td>\n",
       "      <td>10</td>\n",
       "      <td>15</td>\n",
       "      <td>ultra</td>\n",
       "      <td>0</td>\n",
       "    </tr>\n",
       "    <tr>\n",
       "      <td>6</td>\n",
       "      <td>1000</td>\n",
       "      <td>11</td>\n",
       "      <td>15</td>\n",
       "      <td>ultra</td>\n",
       "      <td>0</td>\n",
       "    </tr>\n",
       "    <tr>\n",
       "      <td>7</td>\n",
       "      <td>1000</td>\n",
       "      <td>12</td>\n",
       "      <td>10</td>\n",
       "      <td>ultra</td>\n",
       "      <td>0</td>\n",
       "    </tr>\n",
       "    <tr>\n",
       "      <td>8</td>\n",
       "      <td>1001</td>\n",
       "      <td>11</td>\n",
       "      <td>18</td>\n",
       "      <td>smart</td>\n",
       "      <td>600</td>\n",
       "    </tr>\n",
       "    <tr>\n",
       "      <td>9</td>\n",
       "      <td>1001</td>\n",
       "      <td>12</td>\n",
       "      <td>14</td>\n",
       "      <td>smart</td>\n",
       "      <td>0</td>\n",
       "    </tr>\n",
       "  </tbody>\n",
       "</table>\n",
       "</div>"
      ],
      "text/plain": [
       "   user_id  month_num  gb_used tariff  internet_extra_price\n",
       "0     1000          5        3  ultra                     0\n",
       "1     1000          6       23  ultra                     0\n",
       "2     1000          7       14  ultra                     0\n",
       "3     1000          8       14  ultra                     0\n",
       "4     1000          9       15  ultra                     0\n",
       "5     1000         10       15  ultra                     0\n",
       "6     1000         11       15  ultra                     0\n",
       "7     1000         12       10  ultra                     0\n",
       "8     1001         11       18  smart                   600\n",
       "9     1001         12       14  smart                     0"
      ]
     },
     "execution_count": 32,
     "metadata": {},
     "output_type": "execute_result"
    }
   ],
   "source": [
    "# отрицательные числа в столбце 'internet_over_limit' заменяем нулями, т.к. абонент не вышел за лимиты тарифа\n",
    "df_internet_dif['zero_value'] = df_internet_dif.apply(lambda row: 0 if row['internet_over_limit'] < 0 else\n",
    "                                                      row['internet_over_limit'], axis=1)\n",
    "\n",
    "\n",
    "# умножаем объем интернет-трафика сверх лимита на стоимость одного гигабайта по тарифу\n",
    "# ('ultra' 1 Гб интернет-трафика: 150 рублей; 'smart' 1 Гб интернет-трафика: 200 рублей)\n",
    "df_internet_dif['internet_extra_price'] = df_internet_dif.apply(lambda row: row['zero_value'] * 150 if \n",
    "                                                row['tariff'] == 'ultra' else\n",
    "                                                row['zero_value'] * 200, axis=1)\n",
    "\n",
    "\n",
    "df_internet_dif.drop(columns=['mb_used', 'age', 'churn_date', 'city',\n",
    "                              'first_name', 'last_name', 'reg_date', 'internet_over_limit', 'zero_value']).head(10)"
   ]
  },
  {
   "cell_type": "markdown",
   "metadata": {},
   "source": [
    "**пункт 3 (прибавляем абонентскую плату, соответствующую тарифному плану)**"
   ]
  },
  {
   "cell_type": "code",
   "execution_count": 33,
   "metadata": {
    "scrolled": true
   },
   "outputs": [],
   "source": [
    "# объединяем датафреймы с информацией о звонках 'df_calls_dif' и сообщениях 'df_messages_dif'\n",
    "df_calls_messages_dif = pd.merge(df_calls_dif, df_messages_dif, on=['user_id', 'month_num', 'tariff'], how='outer')"
   ]
  },
  {
   "cell_type": "code",
   "execution_count": 34,
   "metadata": {
    "scrolled": true
   },
   "outputs": [],
   "source": [
    "# добавляем датафрейм с информацией об интернет-трафике 'df_internet_dif'\n",
    "df_calls_messages_internet_dif = pd.merge(df_calls_messages_dif, df_internet_dif,\n",
    "                                          on=['user_id', 'month_num', 'tariff'],\n",
    "                                          how='outer')"
   ]
  },
  {
   "cell_type": "code",
   "execution_count": 35,
   "metadata": {},
   "outputs": [
    {
     "data": {
      "text/html": [
       "<div>\n",
       "<style scoped>\n",
       "    .dataframe tbody tr th:only-of-type {\n",
       "        vertical-align: middle;\n",
       "    }\n",
       "\n",
       "    .dataframe tbody tr th {\n",
       "        vertical-align: top;\n",
       "    }\n",
       "\n",
       "    .dataframe thead th {\n",
       "        text-align: right;\n",
       "    }\n",
       "</style>\n",
       "<table border=\"1\" class=\"dataframe\">\n",
       "  <thead>\n",
       "    <tr style=\"text-align: right;\">\n",
       "      <th></th>\n",
       "      <th>user_id</th>\n",
       "      <th>tariff</th>\n",
       "      <th>month_num</th>\n",
       "      <th>calls_extra_price</th>\n",
       "      <th>messages_extra_price</th>\n",
       "      <th>internet_extra_price</th>\n",
       "    </tr>\n",
       "  </thead>\n",
       "  <tbody>\n",
       "    <tr>\n",
       "      <td>0</td>\n",
       "      <td>1000</td>\n",
       "      <td>ultra</td>\n",
       "      <td>5</td>\n",
       "      <td>0.0</td>\n",
       "      <td>0.0</td>\n",
       "      <td>0.0</td>\n",
       "    </tr>\n",
       "    <tr>\n",
       "      <td>1</td>\n",
       "      <td>1000</td>\n",
       "      <td>ultra</td>\n",
       "      <td>6</td>\n",
       "      <td>0.0</td>\n",
       "      <td>0.0</td>\n",
       "      <td>0.0</td>\n",
       "    </tr>\n",
       "    <tr>\n",
       "      <td>2</td>\n",
       "      <td>1000</td>\n",
       "      <td>ultra</td>\n",
       "      <td>7</td>\n",
       "      <td>0.0</td>\n",
       "      <td>0.0</td>\n",
       "      <td>0.0</td>\n",
       "    </tr>\n",
       "    <tr>\n",
       "      <td>3</td>\n",
       "      <td>1000</td>\n",
       "      <td>ultra</td>\n",
       "      <td>8</td>\n",
       "      <td>0.0</td>\n",
       "      <td>0.0</td>\n",
       "      <td>0.0</td>\n",
       "    </tr>\n",
       "    <tr>\n",
       "      <td>4</td>\n",
       "      <td>1000</td>\n",
       "      <td>ultra</td>\n",
       "      <td>9</td>\n",
       "      <td>0.0</td>\n",
       "      <td>0.0</td>\n",
       "      <td>0.0</td>\n",
       "    </tr>\n",
       "    <tr>\n",
       "      <td>...</td>\n",
       "      <td>...</td>\n",
       "      <td>...</td>\n",
       "      <td>...</td>\n",
       "      <td>...</td>\n",
       "      <td>...</td>\n",
       "      <td>...</td>\n",
       "    </tr>\n",
       "    <tr>\n",
       "      <td>3209</td>\n",
       "      <td>1489</td>\n",
       "      <td>smart</td>\n",
       "      <td>9</td>\n",
       "      <td>NaN</td>\n",
       "      <td>0.0</td>\n",
       "      <td>400.0</td>\n",
       "    </tr>\n",
       "    <tr>\n",
       "      <td>3210</td>\n",
       "      <td>1489</td>\n",
       "      <td>smart</td>\n",
       "      <td>10</td>\n",
       "      <td>NaN</td>\n",
       "      <td>0.0</td>\n",
       "      <td>1000.0</td>\n",
       "    </tr>\n",
       "    <tr>\n",
       "      <td>3211</td>\n",
       "      <td>1489</td>\n",
       "      <td>smart</td>\n",
       "      <td>11</td>\n",
       "      <td>NaN</td>\n",
       "      <td>0.0</td>\n",
       "      <td>600.0</td>\n",
       "    </tr>\n",
       "    <tr>\n",
       "      <td>3212</td>\n",
       "      <td>1489</td>\n",
       "      <td>smart</td>\n",
       "      <td>12</td>\n",
       "      <td>NaN</td>\n",
       "      <td>0.0</td>\n",
       "      <td>400.0</td>\n",
       "    </tr>\n",
       "    <tr>\n",
       "      <td>3213</td>\n",
       "      <td>1476</td>\n",
       "      <td>ultra</td>\n",
       "      <td>4</td>\n",
       "      <td>NaN</td>\n",
       "      <td>NaN</td>\n",
       "      <td>0.0</td>\n",
       "    </tr>\n",
       "  </tbody>\n",
       "</table>\n",
       "<p>3214 rows × 6 columns</p>\n",
       "</div>"
      ],
      "text/plain": [
       "      user_id tariff  month_num  calls_extra_price  messages_extra_price  \\\n",
       "0        1000  ultra          5                0.0                   0.0   \n",
       "1        1000  ultra          6                0.0                   0.0   \n",
       "2        1000  ultra          7                0.0                   0.0   \n",
       "3        1000  ultra          8                0.0                   0.0   \n",
       "4        1000  ultra          9                0.0                   0.0   \n",
       "...       ...    ...        ...                ...                   ...   \n",
       "3209     1489  smart          9                NaN                   0.0   \n",
       "3210     1489  smart         10                NaN                   0.0   \n",
       "3211     1489  smart         11                NaN                   0.0   \n",
       "3212     1489  smart         12                NaN                   0.0   \n",
       "3213     1476  ultra          4                NaN                   NaN   \n",
       "\n",
       "      internet_extra_price  \n",
       "0                      0.0  \n",
       "1                      0.0  \n",
       "2                      0.0  \n",
       "3                      0.0  \n",
       "4                      0.0  \n",
       "...                    ...  \n",
       "3209                 400.0  \n",
       "3210                1000.0  \n",
       "3211                 600.0  \n",
       "3212                 400.0  \n",
       "3213                   0.0  \n",
       "\n",
       "[3214 rows x 6 columns]"
      ]
     },
     "execution_count": 35,
     "metadata": {},
     "output_type": "execute_result"
    }
   ],
   "source": [
    "# вывод промежуточного датафрейма\n",
    "df_total = df_calls_messages_internet_dif[['user_id', 'tariff', 'month_num', 'calls_extra_price',\n",
    "                                           'messages_extra_price', 'internet_extra_price']]\n",
    "df_total"
   ]
  },
  {
   "cell_type": "code",
   "execution_count": 36,
   "metadata": {
    "scrolled": false
   },
   "outputs": [
    {
     "data": {
      "text/html": [
       "<div>\n",
       "<style scoped>\n",
       "    .dataframe tbody tr th:only-of-type {\n",
       "        vertical-align: middle;\n",
       "    }\n",
       "\n",
       "    .dataframe tbody tr th {\n",
       "        vertical-align: top;\n",
       "    }\n",
       "\n",
       "    .dataframe thead th {\n",
       "        text-align: right;\n",
       "    }\n",
       "</style>\n",
       "<table border=\"1\" class=\"dataframe\">\n",
       "  <thead>\n",
       "    <tr style=\"text-align: right;\">\n",
       "      <th></th>\n",
       "      <th>user_id</th>\n",
       "      <th>tariff</th>\n",
       "      <th>month_num</th>\n",
       "      <th>calls_extra_price</th>\n",
       "      <th>messages_extra_price</th>\n",
       "      <th>internet_extra_price</th>\n",
       "      <th>sum_extra_price</th>\n",
       "    </tr>\n",
       "  </thead>\n",
       "  <tbody>\n",
       "    <tr>\n",
       "      <td>0</td>\n",
       "      <td>1000</td>\n",
       "      <td>ultra</td>\n",
       "      <td>5</td>\n",
       "      <td>0.0</td>\n",
       "      <td>0.0</td>\n",
       "      <td>0.0</td>\n",
       "      <td>0.0</td>\n",
       "    </tr>\n",
       "    <tr>\n",
       "      <td>1</td>\n",
       "      <td>1000</td>\n",
       "      <td>ultra</td>\n",
       "      <td>6</td>\n",
       "      <td>0.0</td>\n",
       "      <td>0.0</td>\n",
       "      <td>0.0</td>\n",
       "      <td>0.0</td>\n",
       "    </tr>\n",
       "    <tr>\n",
       "      <td>2</td>\n",
       "      <td>1000</td>\n",
       "      <td>ultra</td>\n",
       "      <td>7</td>\n",
       "      <td>0.0</td>\n",
       "      <td>0.0</td>\n",
       "      <td>0.0</td>\n",
       "      <td>0.0</td>\n",
       "    </tr>\n",
       "    <tr>\n",
       "      <td>3</td>\n",
       "      <td>1000</td>\n",
       "      <td>ultra</td>\n",
       "      <td>8</td>\n",
       "      <td>0.0</td>\n",
       "      <td>0.0</td>\n",
       "      <td>0.0</td>\n",
       "      <td>0.0</td>\n",
       "    </tr>\n",
       "    <tr>\n",
       "      <td>4</td>\n",
       "      <td>1000</td>\n",
       "      <td>ultra</td>\n",
       "      <td>9</td>\n",
       "      <td>0.0</td>\n",
       "      <td>0.0</td>\n",
       "      <td>0.0</td>\n",
       "      <td>0.0</td>\n",
       "    </tr>\n",
       "  </tbody>\n",
       "</table>\n",
       "</div>"
      ],
      "text/plain": [
       "   user_id tariff  month_num  calls_extra_price  messages_extra_price  \\\n",
       "0     1000  ultra          5                0.0                   0.0   \n",
       "1     1000  ultra          6                0.0                   0.0   \n",
       "2     1000  ultra          7                0.0                   0.0   \n",
       "3     1000  ultra          8                0.0                   0.0   \n",
       "4     1000  ultra          9                0.0                   0.0   \n",
       "\n",
       "   internet_extra_price  sum_extra_price  \n",
       "0                   0.0              0.0  \n",
       "1                   0.0              0.0  \n",
       "2                   0.0              0.0  \n",
       "3                   0.0              0.0  \n",
       "4                   0.0              0.0  "
      ]
     },
     "execution_count": 36,
     "metadata": {},
     "output_type": "execute_result"
    }
   ],
   "source": [
    "# вычисляем общую сумму услуг сверх тарифа (звонки, сообщения, интернет-трафик)\n",
    "df_total['sum_extra_price'] = df_total.loc[:, ['calls_extra_price', 'messages_extra_price', 'internet_extra_price']].sum(axis=1)\n",
    "df_total.head()"
   ]
  },
  {
   "cell_type": "code",
   "execution_count": 37,
   "metadata": {
    "scrolled": false
   },
   "outputs": [
    {
     "data": {
      "text/html": [
       "<div>\n",
       "<style scoped>\n",
       "    .dataframe tbody tr th:only-of-type {\n",
       "        vertical-align: middle;\n",
       "    }\n",
       "\n",
       "    .dataframe tbody tr th {\n",
       "        vertical-align: top;\n",
       "    }\n",
       "\n",
       "    .dataframe thead th {\n",
       "        text-align: right;\n",
       "    }\n",
       "</style>\n",
       "<table border=\"1\" class=\"dataframe\">\n",
       "  <thead>\n",
       "    <tr style=\"text-align: right;\">\n",
       "      <th></th>\n",
       "      <th>user_id</th>\n",
       "      <th>tariff</th>\n",
       "      <th>month_num</th>\n",
       "      <th>calls_extra_price</th>\n",
       "      <th>messages_extra_price</th>\n",
       "      <th>internet_extra_price</th>\n",
       "      <th>sum_extra_price</th>\n",
       "    </tr>\n",
       "  </thead>\n",
       "  <tbody>\n",
       "    <tr>\n",
       "      <td>0</td>\n",
       "      <td>1000</td>\n",
       "      <td>ultra</td>\n",
       "      <td>5</td>\n",
       "      <td>0.0</td>\n",
       "      <td>0.0</td>\n",
       "      <td>0.0</td>\n",
       "      <td>0.0</td>\n",
       "    </tr>\n",
       "    <tr>\n",
       "      <td>1</td>\n",
       "      <td>1000</td>\n",
       "      <td>ultra</td>\n",
       "      <td>6</td>\n",
       "      <td>0.0</td>\n",
       "      <td>0.0</td>\n",
       "      <td>0.0</td>\n",
       "      <td>0.0</td>\n",
       "    </tr>\n",
       "    <tr>\n",
       "      <td>2</td>\n",
       "      <td>1000</td>\n",
       "      <td>ultra</td>\n",
       "      <td>7</td>\n",
       "      <td>0.0</td>\n",
       "      <td>0.0</td>\n",
       "      <td>0.0</td>\n",
       "      <td>0.0</td>\n",
       "    </tr>\n",
       "    <tr>\n",
       "      <td>3</td>\n",
       "      <td>1000</td>\n",
       "      <td>ultra</td>\n",
       "      <td>8</td>\n",
       "      <td>0.0</td>\n",
       "      <td>0.0</td>\n",
       "      <td>0.0</td>\n",
       "      <td>0.0</td>\n",
       "    </tr>\n",
       "    <tr>\n",
       "      <td>4</td>\n",
       "      <td>1000</td>\n",
       "      <td>ultra</td>\n",
       "      <td>9</td>\n",
       "      <td>0.0</td>\n",
       "      <td>0.0</td>\n",
       "      <td>0.0</td>\n",
       "      <td>0.0</td>\n",
       "    </tr>\n",
       "  </tbody>\n",
       "</table>\n",
       "</div>"
      ],
      "text/plain": [
       "   user_id tariff  month_num  calls_extra_price  messages_extra_price  \\\n",
       "0     1000  ultra          5                0.0                   0.0   \n",
       "1     1000  ultra          6                0.0                   0.0   \n",
       "2     1000  ultra          7                0.0                   0.0   \n",
       "3     1000  ultra          8                0.0                   0.0   \n",
       "4     1000  ultra          9                0.0                   0.0   \n",
       "\n",
       "   internet_extra_price  sum_extra_price  \n",
       "0                   0.0              0.0  \n",
       "1                   0.0              0.0  \n",
       "2                   0.0              0.0  \n",
       "3                   0.0              0.0  \n",
       "4                   0.0              0.0  "
      ]
     },
     "execution_count": 37,
     "metadata": {},
     "output_type": "execute_result"
    }
   ],
   "source": [
    "# вычисляем общую сумму услуг сверх тарифа (звонки, сообщения, интернет-трафик)\n",
    "df_total['sum_extra_price'] = df_total.loc[:, ['calls_extra_price', 'messages_extra_price', 'internet_extra_price']].sum(axis=1)\n",
    "df_total.head()"
   ]
  },
  {
   "cell_type": "code",
   "execution_count": 38,
   "metadata": {
    "scrolled": true
   },
   "outputs": [],
   "source": [
    "# суммируем общие услуги сверх тарифа с абонентской платой за тариф\n",
    "# ('ultra' ежемесячная плата: 1950 рублей; 'smart' ежемесячная плата: 550 рублей)\n",
    "df_total['extra_tariff_price'] = df_total.apply(lambda row: row['sum_extra_price'] + 1950 if\n",
    "                                                row['tariff'] == 'ultra' else row['sum_extra_price'] + 550, axis=1)"
   ]
  },
  {
   "cell_type": "code",
   "execution_count": 39,
   "metadata": {
    "scrolled": false
   },
   "outputs": [
    {
     "data": {
      "text/html": [
       "<div>\n",
       "<style scoped>\n",
       "    .dataframe tbody tr th:only-of-type {\n",
       "        vertical-align: middle;\n",
       "    }\n",
       "\n",
       "    .dataframe tbody tr th {\n",
       "        vertical-align: top;\n",
       "    }\n",
       "\n",
       "    .dataframe thead th {\n",
       "        text-align: right;\n",
       "    }\n",
       "</style>\n",
       "<table border=\"1\" class=\"dataframe\">\n",
       "  <thead>\n",
       "    <tr style=\"text-align: right;\">\n",
       "      <th></th>\n",
       "      <th>user_id</th>\n",
       "      <th>tariff</th>\n",
       "      <th>month_num</th>\n",
       "      <th>extra_tariff_price</th>\n",
       "    </tr>\n",
       "  </thead>\n",
       "  <tbody>\n",
       "    <tr>\n",
       "      <td>0</td>\n",
       "      <td>1000</td>\n",
       "      <td>ultra</td>\n",
       "      <td>5</td>\n",
       "      <td>1950.0</td>\n",
       "    </tr>\n",
       "    <tr>\n",
       "      <td>1</td>\n",
       "      <td>1000</td>\n",
       "      <td>ultra</td>\n",
       "      <td>6</td>\n",
       "      <td>1950.0</td>\n",
       "    </tr>\n",
       "    <tr>\n",
       "      <td>2</td>\n",
       "      <td>1000</td>\n",
       "      <td>ultra</td>\n",
       "      <td>7</td>\n",
       "      <td>1950.0</td>\n",
       "    </tr>\n",
       "    <tr>\n",
       "      <td>3</td>\n",
       "      <td>1000</td>\n",
       "      <td>ultra</td>\n",
       "      <td>8</td>\n",
       "      <td>1950.0</td>\n",
       "    </tr>\n",
       "    <tr>\n",
       "      <td>4</td>\n",
       "      <td>1000</td>\n",
       "      <td>ultra</td>\n",
       "      <td>9</td>\n",
       "      <td>1950.0</td>\n",
       "    </tr>\n",
       "    <tr>\n",
       "      <td>...</td>\n",
       "      <td>...</td>\n",
       "      <td>...</td>\n",
       "      <td>...</td>\n",
       "      <td>...</td>\n",
       "    </tr>\n",
       "    <tr>\n",
       "      <td>3169</td>\n",
       "      <td>1498</td>\n",
       "      <td>smart</td>\n",
       "      <td>10</td>\n",
       "      <td>1750.0</td>\n",
       "    </tr>\n",
       "    <tr>\n",
       "      <td>3170</td>\n",
       "      <td>1499</td>\n",
       "      <td>smart</td>\n",
       "      <td>9</td>\n",
       "      <td>550.0</td>\n",
       "    </tr>\n",
       "    <tr>\n",
       "      <td>3171</td>\n",
       "      <td>1499</td>\n",
       "      <td>smart</td>\n",
       "      <td>10</td>\n",
       "      <td>1150.0</td>\n",
       "    </tr>\n",
       "    <tr>\n",
       "      <td>3172</td>\n",
       "      <td>1499</td>\n",
       "      <td>smart</td>\n",
       "      <td>11</td>\n",
       "      <td>1513.0</td>\n",
       "    </tr>\n",
       "    <tr>\n",
       "      <td>3173</td>\n",
       "      <td>1499</td>\n",
       "      <td>smart</td>\n",
       "      <td>12</td>\n",
       "      <td>598.0</td>\n",
       "    </tr>\n",
       "  </tbody>\n",
       "</table>\n",
       "<p>3214 rows × 4 columns</p>\n",
       "</div>"
      ],
      "text/plain": [
       "      user_id tariff  month_num  extra_tariff_price\n",
       "0        1000  ultra          5              1950.0\n",
       "1        1000  ultra          6              1950.0\n",
       "2        1000  ultra          7              1950.0\n",
       "3        1000  ultra          8              1950.0\n",
       "4        1000  ultra          9              1950.0\n",
       "...       ...    ...        ...                 ...\n",
       "3169     1498  smart         10              1750.0\n",
       "3170     1499  smart          9               550.0\n",
       "3171     1499  smart         10              1150.0\n",
       "3172     1499  smart         11              1513.0\n",
       "3173     1499  smart         12               598.0\n",
       "\n",
       "[3214 rows x 4 columns]"
      ]
     },
     "execution_count": 39,
     "metadata": {},
     "output_type": "execute_result"
    }
   ],
   "source": [
    "df_total = df_total[['user_id', 'tariff', 'month_num', 'extra_tariff_price']]\n",
    "df_total.sort_values(by=['user_id', 'month_num'])"
   ]
  },
  {
   "cell_type": "markdown",
   "metadata": {},
   "source": [
    "### Вывод"
   ]
  },
  {
   "cell_type": "markdown",
   "metadata": {},
   "source": [
    "В первой части данного раздела была выполнена предварительная обработка данных: приведение тапа данных, округление значений, а также проверка корректности исходных данных.  \n",
    "Во второй части данного раздела: для каждого абонента был рассчитан расход сверх тарифа (минут разговора, количество сообщений и объем интернет-трафика). После этого данные были перенесены в единую таблицу. Суммирование платы за тарифный план и дополнительных расходов позволило рассчитать помесячную плату каждого абонента за пользование услугами мобильного оператора."
   ]
  },
  {
   "cell_type": "markdown",
   "metadata": {},
   "source": [
    "## Анализ данных"
   ]
  },
  {
   "cell_type": "markdown",
   "metadata": {},
   "source": [
    "**Расчет для каждого тарифа: минут разговора, количества сообщений и объем интернет-трафика**"
   ]
  },
  {
   "cell_type": "code",
   "execution_count": 40,
   "metadata": {
    "scrolled": true
   },
   "outputs": [
    {
     "data": {
      "text/html": [
       "<div>\n",
       "<style scoped>\n",
       "    .dataframe tbody tr th:only-of-type {\n",
       "        vertical-align: middle;\n",
       "    }\n",
       "\n",
       "    .dataframe tbody tr th {\n",
       "        vertical-align: top;\n",
       "    }\n",
       "\n",
       "    .dataframe thead th {\n",
       "        text-align: right;\n",
       "    }\n",
       "</style>\n",
       "<table border=\"1\" class=\"dataframe\">\n",
       "  <thead>\n",
       "    <tr style=\"text-align: right;\">\n",
       "      <th></th>\n",
       "      <th>user_id</th>\n",
       "      <th>tariff</th>\n",
       "      <th>month_num</th>\n",
       "      <th>calls_time</th>\n",
       "      <th>messages_count</th>\n",
       "      <th>gb_used</th>\n",
       "    </tr>\n",
       "  </thead>\n",
       "  <tbody>\n",
       "    <tr>\n",
       "      <td>0</td>\n",
       "      <td>1000</td>\n",
       "      <td>ultra</td>\n",
       "      <td>5</td>\n",
       "      <td>159.0</td>\n",
       "      <td>22.0</td>\n",
       "      <td>3.0</td>\n",
       "    </tr>\n",
       "    <tr>\n",
       "      <td>1</td>\n",
       "      <td>1000</td>\n",
       "      <td>ultra</td>\n",
       "      <td>6</td>\n",
       "      <td>172.0</td>\n",
       "      <td>60.0</td>\n",
       "      <td>23.0</td>\n",
       "    </tr>\n",
       "    <tr>\n",
       "      <td>2</td>\n",
       "      <td>1000</td>\n",
       "      <td>ultra</td>\n",
       "      <td>7</td>\n",
       "      <td>340.0</td>\n",
       "      <td>75.0</td>\n",
       "      <td>14.0</td>\n",
       "    </tr>\n",
       "    <tr>\n",
       "      <td>3</td>\n",
       "      <td>1000</td>\n",
       "      <td>ultra</td>\n",
       "      <td>8</td>\n",
       "      <td>408.0</td>\n",
       "      <td>81.0</td>\n",
       "      <td>14.0</td>\n",
       "    </tr>\n",
       "    <tr>\n",
       "      <td>4</td>\n",
       "      <td>1000</td>\n",
       "      <td>ultra</td>\n",
       "      <td>9</td>\n",
       "      <td>466.0</td>\n",
       "      <td>57.0</td>\n",
       "      <td>15.0</td>\n",
       "    </tr>\n",
       "    <tr>\n",
       "      <td>...</td>\n",
       "      <td>...</td>\n",
       "      <td>...</td>\n",
       "      <td>...</td>\n",
       "      <td>...</td>\n",
       "      <td>...</td>\n",
       "      <td>...</td>\n",
       "    </tr>\n",
       "    <tr>\n",
       "      <td>3209</td>\n",
       "      <td>1489</td>\n",
       "      <td>smart</td>\n",
       "      <td>9</td>\n",
       "      <td>NaN</td>\n",
       "      <td>32.0</td>\n",
       "      <td>17.0</td>\n",
       "    </tr>\n",
       "    <tr>\n",
       "      <td>3210</td>\n",
       "      <td>1489</td>\n",
       "      <td>smart</td>\n",
       "      <td>10</td>\n",
       "      <td>NaN</td>\n",
       "      <td>21.0</td>\n",
       "      <td>20.0</td>\n",
       "    </tr>\n",
       "    <tr>\n",
       "      <td>3211</td>\n",
       "      <td>1489</td>\n",
       "      <td>smart</td>\n",
       "      <td>11</td>\n",
       "      <td>NaN</td>\n",
       "      <td>20.0</td>\n",
       "      <td>18.0</td>\n",
       "    </tr>\n",
       "    <tr>\n",
       "      <td>3212</td>\n",
       "      <td>1489</td>\n",
       "      <td>smart</td>\n",
       "      <td>12</td>\n",
       "      <td>NaN</td>\n",
       "      <td>35.0</td>\n",
       "      <td>17.0</td>\n",
       "    </tr>\n",
       "    <tr>\n",
       "      <td>3213</td>\n",
       "      <td>1476</td>\n",
       "      <td>ultra</td>\n",
       "      <td>4</td>\n",
       "      <td>NaN</td>\n",
       "      <td>NaN</td>\n",
       "      <td>1.0</td>\n",
       "    </tr>\n",
       "  </tbody>\n",
       "</table>\n",
       "<p>3214 rows × 6 columns</p>\n",
       "</div>"
      ],
      "text/plain": [
       "      user_id tariff  month_num  calls_time  messages_count  gb_used\n",
       "0        1000  ultra          5       159.0            22.0      3.0\n",
       "1        1000  ultra          6       172.0            60.0     23.0\n",
       "2        1000  ultra          7       340.0            75.0     14.0\n",
       "3        1000  ultra          8       408.0            81.0     14.0\n",
       "4        1000  ultra          9       466.0            57.0     15.0\n",
       "...       ...    ...        ...         ...             ...      ...\n",
       "3209     1489  smart          9         NaN            32.0     17.0\n",
       "3210     1489  smart         10         NaN            21.0     20.0\n",
       "3211     1489  smart         11         NaN            20.0     18.0\n",
       "3212     1489  smart         12         NaN            35.0     17.0\n",
       "3213     1476  ultra          4         NaN             NaN      1.0\n",
       "\n",
       "[3214 rows x 6 columns]"
      ]
     },
     "execution_count": 40,
     "metadata": {},
     "output_type": "execute_result"
    }
   ],
   "source": [
    "# создаем датафрейм для анализа\n",
    "df_tariffs = df_calls_messages_internet_dif[['user_id', 'tariff', 'month_num',\n",
    "                                             'calls_time', 'messages_count', 'gb_used']].copy()\n",
    "df_tariffs"
   ]
  },
  {
   "cell_type": "markdown",
   "metadata": {},
   "source": [
    "В датафрейме `df_tariffs` выше пропуски (NaN) указывают, что абонент не использовал в этом месяце соответствующую услугу (минуты разговора, сообщения или интернет-трафик)."
   ]
  },
  {
   "cell_type": "code",
   "execution_count": 41,
   "metadata": {
    "scrolled": false
   },
   "outputs": [
    {
     "data": {
      "text/html": [
       "<div>\n",
       "<style scoped>\n",
       "    .dataframe tbody tr th:only-of-type {\n",
       "        vertical-align: middle;\n",
       "    }\n",
       "\n",
       "    .dataframe tbody tr th {\n",
       "        vertical-align: top;\n",
       "    }\n",
       "\n",
       "    .dataframe thead th {\n",
       "        text-align: right;\n",
       "    }\n",
       "</style>\n",
       "<table border=\"1\" class=\"dataframe\">\n",
       "  <thead>\n",
       "    <tr style=\"text-align: right;\">\n",
       "      <th></th>\n",
       "      <th>user_id</th>\n",
       "      <th>tariff</th>\n",
       "      <th>month_num</th>\n",
       "      <th>calls_time</th>\n",
       "      <th>messages_count</th>\n",
       "      <th>gb_used</th>\n",
       "    </tr>\n",
       "  </thead>\n",
       "  <tbody>\n",
       "    <tr>\n",
       "      <td>0</td>\n",
       "      <td>1000</td>\n",
       "      <td>ultra</td>\n",
       "      <td>5</td>\n",
       "      <td>159.0</td>\n",
       "      <td>22.0</td>\n",
       "      <td>3.0</td>\n",
       "    </tr>\n",
       "    <tr>\n",
       "      <td>1</td>\n",
       "      <td>1000</td>\n",
       "      <td>ultra</td>\n",
       "      <td>6</td>\n",
       "      <td>172.0</td>\n",
       "      <td>60.0</td>\n",
       "      <td>23.0</td>\n",
       "    </tr>\n",
       "    <tr>\n",
       "      <td>2</td>\n",
       "      <td>1000</td>\n",
       "      <td>ultra</td>\n",
       "      <td>7</td>\n",
       "      <td>340.0</td>\n",
       "      <td>75.0</td>\n",
       "      <td>14.0</td>\n",
       "    </tr>\n",
       "    <tr>\n",
       "      <td>3</td>\n",
       "      <td>1000</td>\n",
       "      <td>ultra</td>\n",
       "      <td>8</td>\n",
       "      <td>408.0</td>\n",
       "      <td>81.0</td>\n",
       "      <td>14.0</td>\n",
       "    </tr>\n",
       "    <tr>\n",
       "      <td>4</td>\n",
       "      <td>1000</td>\n",
       "      <td>ultra</td>\n",
       "      <td>9</td>\n",
       "      <td>466.0</td>\n",
       "      <td>57.0</td>\n",
       "      <td>15.0</td>\n",
       "    </tr>\n",
       "    <tr>\n",
       "      <td>...</td>\n",
       "      <td>...</td>\n",
       "      <td>...</td>\n",
       "      <td>...</td>\n",
       "      <td>...</td>\n",
       "      <td>...</td>\n",
       "      <td>...</td>\n",
       "    </tr>\n",
       "    <tr>\n",
       "      <td>3209</td>\n",
       "      <td>1489</td>\n",
       "      <td>smart</td>\n",
       "      <td>9</td>\n",
       "      <td>0.0</td>\n",
       "      <td>32.0</td>\n",
       "      <td>17.0</td>\n",
       "    </tr>\n",
       "    <tr>\n",
       "      <td>3210</td>\n",
       "      <td>1489</td>\n",
       "      <td>smart</td>\n",
       "      <td>10</td>\n",
       "      <td>0.0</td>\n",
       "      <td>21.0</td>\n",
       "      <td>20.0</td>\n",
       "    </tr>\n",
       "    <tr>\n",
       "      <td>3211</td>\n",
       "      <td>1489</td>\n",
       "      <td>smart</td>\n",
       "      <td>11</td>\n",
       "      <td>0.0</td>\n",
       "      <td>20.0</td>\n",
       "      <td>18.0</td>\n",
       "    </tr>\n",
       "    <tr>\n",
       "      <td>3212</td>\n",
       "      <td>1489</td>\n",
       "      <td>smart</td>\n",
       "      <td>12</td>\n",
       "      <td>0.0</td>\n",
       "      <td>35.0</td>\n",
       "      <td>17.0</td>\n",
       "    </tr>\n",
       "    <tr>\n",
       "      <td>3213</td>\n",
       "      <td>1476</td>\n",
       "      <td>ultra</td>\n",
       "      <td>4</td>\n",
       "      <td>0.0</td>\n",
       "      <td>0.0</td>\n",
       "      <td>1.0</td>\n",
       "    </tr>\n",
       "  </tbody>\n",
       "</table>\n",
       "<p>3214 rows × 6 columns</p>\n",
       "</div>"
      ],
      "text/plain": [
       "      user_id tariff  month_num  calls_time  messages_count  gb_used\n",
       "0        1000  ultra          5       159.0            22.0      3.0\n",
       "1        1000  ultra          6       172.0            60.0     23.0\n",
       "2        1000  ultra          7       340.0            75.0     14.0\n",
       "3        1000  ultra          8       408.0            81.0     14.0\n",
       "4        1000  ultra          9       466.0            57.0     15.0\n",
       "...       ...    ...        ...         ...             ...      ...\n",
       "3209     1489  smart          9         0.0            32.0     17.0\n",
       "3210     1489  smart         10         0.0            21.0     20.0\n",
       "3211     1489  smart         11         0.0            20.0     18.0\n",
       "3212     1489  smart         12         0.0            35.0     17.0\n",
       "3213     1476  ultra          4         0.0             0.0      1.0\n",
       "\n",
       "[3214 rows x 6 columns]"
      ]
     },
     "execution_count": 41,
     "metadata": {},
     "output_type": "execute_result"
    }
   ],
   "source": [
    "df_tariffs.fillna(0, inplace=True)\n",
    "df_tariffs"
   ]
  },
  {
   "cell_type": "markdown",
   "metadata": {},
   "source": [
    "**Тариф «ultra»**"
   ]
  },
  {
   "cell_type": "code",
   "execution_count": 42,
   "metadata": {
    "scrolled": true
   },
   "outputs": [
    {
     "data": {
      "text/html": [
       "<div>\n",
       "<style scoped>\n",
       "    .dataframe tbody tr th:only-of-type {\n",
       "        vertical-align: middle;\n",
       "    }\n",
       "\n",
       "    .dataframe tbody tr th {\n",
       "        vertical-align: top;\n",
       "    }\n",
       "\n",
       "    .dataframe thead th {\n",
       "        text-align: right;\n",
       "    }\n",
       "</style>\n",
       "<table border=\"1\" class=\"dataframe\">\n",
       "  <thead>\n",
       "    <tr style=\"text-align: right;\">\n",
       "      <th></th>\n",
       "      <th>user_id</th>\n",
       "      <th>tariff</th>\n",
       "      <th>month_num</th>\n",
       "      <th>calls_time</th>\n",
       "      <th>messages_count</th>\n",
       "      <th>gb_used</th>\n",
       "    </tr>\n",
       "  </thead>\n",
       "  <tbody>\n",
       "    <tr>\n",
       "      <td>0</td>\n",
       "      <td>1000</td>\n",
       "      <td>ultra</td>\n",
       "      <td>5</td>\n",
       "      <td>159.0</td>\n",
       "      <td>22.0</td>\n",
       "      <td>3.0</td>\n",
       "    </tr>\n",
       "    <tr>\n",
       "      <td>1</td>\n",
       "      <td>1000</td>\n",
       "      <td>ultra</td>\n",
       "      <td>6</td>\n",
       "      <td>172.0</td>\n",
       "      <td>60.0</td>\n",
       "      <td>23.0</td>\n",
       "    </tr>\n",
       "    <tr>\n",
       "      <td>2</td>\n",
       "      <td>1000</td>\n",
       "      <td>ultra</td>\n",
       "      <td>7</td>\n",
       "      <td>340.0</td>\n",
       "      <td>75.0</td>\n",
       "      <td>14.0</td>\n",
       "    </tr>\n",
       "    <tr>\n",
       "      <td>3</td>\n",
       "      <td>1000</td>\n",
       "      <td>ultra</td>\n",
       "      <td>8</td>\n",
       "      <td>408.0</td>\n",
       "      <td>81.0</td>\n",
       "      <td>14.0</td>\n",
       "    </tr>\n",
       "    <tr>\n",
       "      <td>4</td>\n",
       "      <td>1000</td>\n",
       "      <td>ultra</td>\n",
       "      <td>9</td>\n",
       "      <td>466.0</td>\n",
       "      <td>57.0</td>\n",
       "      <td>15.0</td>\n",
       "    </tr>\n",
       "    <tr>\n",
       "      <td>...</td>\n",
       "      <td>...</td>\n",
       "      <td>...</td>\n",
       "      <td>...</td>\n",
       "      <td>...</td>\n",
       "      <td>...</td>\n",
       "      <td>...</td>\n",
       "    </tr>\n",
       "    <tr>\n",
       "      <td>3204</td>\n",
       "      <td>1473</td>\n",
       "      <td>ultra</td>\n",
       "      <td>9</td>\n",
       "      <td>0.0</td>\n",
       "      <td>19.0</td>\n",
       "      <td>17.0</td>\n",
       "    </tr>\n",
       "    <tr>\n",
       "      <td>3205</td>\n",
       "      <td>1473</td>\n",
       "      <td>ultra</td>\n",
       "      <td>10</td>\n",
       "      <td>0.0</td>\n",
       "      <td>20.0</td>\n",
       "      <td>14.0</td>\n",
       "    </tr>\n",
       "    <tr>\n",
       "      <td>3206</td>\n",
       "      <td>1473</td>\n",
       "      <td>ultra</td>\n",
       "      <td>11</td>\n",
       "      <td>0.0</td>\n",
       "      <td>14.0</td>\n",
       "      <td>22.0</td>\n",
       "    </tr>\n",
       "    <tr>\n",
       "      <td>3207</td>\n",
       "      <td>1473</td>\n",
       "      <td>ultra</td>\n",
       "      <td>12</td>\n",
       "      <td>0.0</td>\n",
       "      <td>20.0</td>\n",
       "      <td>18.0</td>\n",
       "    </tr>\n",
       "    <tr>\n",
       "      <td>3213</td>\n",
       "      <td>1476</td>\n",
       "      <td>ultra</td>\n",
       "      <td>4</td>\n",
       "      <td>0.0</td>\n",
       "      <td>0.0</td>\n",
       "      <td>1.0</td>\n",
       "    </tr>\n",
       "  </tbody>\n",
       "</table>\n",
       "<p>985 rows × 6 columns</p>\n",
       "</div>"
      ],
      "text/plain": [
       "      user_id tariff  month_num  calls_time  messages_count  gb_used\n",
       "0        1000  ultra          5       159.0            22.0      3.0\n",
       "1        1000  ultra          6       172.0            60.0     23.0\n",
       "2        1000  ultra          7       340.0            75.0     14.0\n",
       "3        1000  ultra          8       408.0            81.0     14.0\n",
       "4        1000  ultra          9       466.0            57.0     15.0\n",
       "...       ...    ...        ...         ...             ...      ...\n",
       "3204     1473  ultra          9         0.0            19.0     17.0\n",
       "3205     1473  ultra         10         0.0            20.0     14.0\n",
       "3206     1473  ultra         11         0.0            14.0     22.0\n",
       "3207     1473  ultra         12         0.0            20.0     18.0\n",
       "3213     1476  ultra          4         0.0             0.0      1.0\n",
       "\n",
       "[985 rows x 6 columns]"
      ]
     },
     "execution_count": 42,
     "metadata": {},
     "output_type": "execute_result"
    }
   ],
   "source": [
    "df_tariffs_ultra = df_tariffs.query('tariff == \"ultra\"')\n",
    "df_tariffs_ultra"
   ]
  },
  {
   "cell_type": "code",
   "execution_count": 43,
   "metadata": {
    "scrolled": true
   },
   "outputs": [
    {
     "data": {
      "text/html": [
       "<div>\n",
       "<style scoped>\n",
       "    .dataframe tbody tr th:only-of-type {\n",
       "        vertical-align: middle;\n",
       "    }\n",
       "\n",
       "    .dataframe tbody tr th {\n",
       "        vertical-align: top;\n",
       "    }\n",
       "\n",
       "    .dataframe thead th {\n",
       "        text-align: right;\n",
       "    }\n",
       "</style>\n",
       "<table border=\"1\" class=\"dataframe\">\n",
       "  <thead>\n",
       "    <tr style=\"text-align: right;\">\n",
       "      <th></th>\n",
       "      <th>user_id</th>\n",
       "      <th>month_num</th>\n",
       "      <th>calls_time</th>\n",
       "      <th>messages_count</th>\n",
       "      <th>gb_used</th>\n",
       "    </tr>\n",
       "  </thead>\n",
       "  <tbody>\n",
       "    <tr>\n",
       "      <td>count</td>\n",
       "      <td>985.000000</td>\n",
       "      <td>985.000000</td>\n",
       "      <td>985.000000</td>\n",
       "      <td>985.000000</td>\n",
       "      <td>985.000000</td>\n",
       "    </tr>\n",
       "    <tr>\n",
       "      <td>mean</td>\n",
       "      <td>1263.094416</td>\n",
       "      <td>8.250761</td>\n",
       "      <td>526.623350</td>\n",
       "      <td>49.363452</td>\n",
       "      <td>19.494416</td>\n",
       "    </tr>\n",
       "    <tr>\n",
       "      <td>std</td>\n",
       "      <td>140.694908</td>\n",
       "      <td>2.871762</td>\n",
       "      <td>317.606098</td>\n",
       "      <td>47.804457</td>\n",
       "      <td>9.853511</td>\n",
       "    </tr>\n",
       "    <tr>\n",
       "      <td>min</td>\n",
       "      <td>1000.000000</td>\n",
       "      <td>1.000000</td>\n",
       "      <td>0.000000</td>\n",
       "      <td>0.000000</td>\n",
       "      <td>0.000000</td>\n",
       "    </tr>\n",
       "    <tr>\n",
       "      <td>25%</td>\n",
       "      <td>1143.000000</td>\n",
       "      <td>6.000000</td>\n",
       "      <td>284.000000</td>\n",
       "      <td>6.000000</td>\n",
       "      <td>12.000000</td>\n",
       "    </tr>\n",
       "    <tr>\n",
       "      <td>50%</td>\n",
       "      <td>1277.000000</td>\n",
       "      <td>9.000000</td>\n",
       "      <td>518.000000</td>\n",
       "      <td>38.000000</td>\n",
       "      <td>19.000000</td>\n",
       "    </tr>\n",
       "    <tr>\n",
       "      <td>75%</td>\n",
       "      <td>1381.000000</td>\n",
       "      <td>11.000000</td>\n",
       "      <td>752.000000</td>\n",
       "      <td>79.000000</td>\n",
       "      <td>27.000000</td>\n",
       "    </tr>\n",
       "    <tr>\n",
       "      <td>max</td>\n",
       "      <td>1495.000000</td>\n",
       "      <td>12.000000</td>\n",
       "      <td>1673.000000</td>\n",
       "      <td>224.000000</td>\n",
       "      <td>49.000000</td>\n",
       "    </tr>\n",
       "  </tbody>\n",
       "</table>\n",
       "</div>"
      ],
      "text/plain": [
       "           user_id   month_num   calls_time  messages_count     gb_used\n",
       "count   985.000000  985.000000   985.000000      985.000000  985.000000\n",
       "mean   1263.094416    8.250761   526.623350       49.363452   19.494416\n",
       "std     140.694908    2.871762   317.606098       47.804457    9.853511\n",
       "min    1000.000000    1.000000     0.000000        0.000000    0.000000\n",
       "25%    1143.000000    6.000000   284.000000        6.000000   12.000000\n",
       "50%    1277.000000    9.000000   518.000000       38.000000   19.000000\n",
       "75%    1381.000000   11.000000   752.000000       79.000000   27.000000\n",
       "max    1495.000000   12.000000  1673.000000      224.000000   49.000000"
      ]
     },
     "execution_count": 43,
     "metadata": {},
     "output_type": "execute_result"
    }
   ],
   "source": [
    "df_tariffs_ultra.describe()"
   ]
  },
  {
   "cell_type": "markdown",
   "metadata": {},
   "source": [
    "Ежемесячная длительность разговора варьировалась от 0 до 1673 минут (медиана 518 мин, т.е. приблизительно 17 мин в день). Количество сообщений от 0 до 224 (медиана 38, т.е. приблизительно 1 мин в день). Объем интернет-трафика от 0 до 49 Гб (медиана 19 Гб, т.е. приблизительно 0,6 Гб в день)."
   ]
  },
  {
   "cell_type": "markdown",
   "metadata": {},
   "source": [
    "**Тариф «smart»**"
   ]
  },
  {
   "cell_type": "code",
   "execution_count": 44,
   "metadata": {},
   "outputs": [
    {
     "data": {
      "text/html": [
       "<div>\n",
       "<style scoped>\n",
       "    .dataframe tbody tr th:only-of-type {\n",
       "        vertical-align: middle;\n",
       "    }\n",
       "\n",
       "    .dataframe tbody tr th {\n",
       "        vertical-align: top;\n",
       "    }\n",
       "\n",
       "    .dataframe thead th {\n",
       "        text-align: right;\n",
       "    }\n",
       "</style>\n",
       "<table border=\"1\" class=\"dataframe\">\n",
       "  <thead>\n",
       "    <tr style=\"text-align: right;\">\n",
       "      <th></th>\n",
       "      <th>user_id</th>\n",
       "      <th>tariff</th>\n",
       "      <th>month_num</th>\n",
       "      <th>calls_time</th>\n",
       "      <th>messages_count</th>\n",
       "      <th>gb_used</th>\n",
       "    </tr>\n",
       "  </thead>\n",
       "  <tbody>\n",
       "    <tr>\n",
       "      <td>8</td>\n",
       "      <td>1001</td>\n",
       "      <td>smart</td>\n",
       "      <td>11</td>\n",
       "      <td>430.0</td>\n",
       "      <td>0.0</td>\n",
       "      <td>18.0</td>\n",
       "    </tr>\n",
       "    <tr>\n",
       "      <td>9</td>\n",
       "      <td>1001</td>\n",
       "      <td>smart</td>\n",
       "      <td>12</td>\n",
       "      <td>414.0</td>\n",
       "      <td>0.0</td>\n",
       "      <td>14.0</td>\n",
       "    </tr>\n",
       "    <tr>\n",
       "      <td>10</td>\n",
       "      <td>1002</td>\n",
       "      <td>smart</td>\n",
       "      <td>6</td>\n",
       "      <td>117.0</td>\n",
       "      <td>4.0</td>\n",
       "      <td>11.0</td>\n",
       "    </tr>\n",
       "    <tr>\n",
       "      <td>11</td>\n",
       "      <td>1002</td>\n",
       "      <td>smart</td>\n",
       "      <td>7</td>\n",
       "      <td>214.0</td>\n",
       "      <td>11.0</td>\n",
       "      <td>18.0</td>\n",
       "    </tr>\n",
       "    <tr>\n",
       "      <td>12</td>\n",
       "      <td>1002</td>\n",
       "      <td>smart</td>\n",
       "      <td>8</td>\n",
       "      <td>289.0</td>\n",
       "      <td>13.0</td>\n",
       "      <td>20.0</td>\n",
       "    </tr>\n",
       "    <tr>\n",
       "      <td>...</td>\n",
       "      <td>...</td>\n",
       "      <td>...</td>\n",
       "      <td>...</td>\n",
       "      <td>...</td>\n",
       "      <td>...</td>\n",
       "      <td>...</td>\n",
       "    </tr>\n",
       "    <tr>\n",
       "      <td>3208</td>\n",
       "      <td>1489</td>\n",
       "      <td>smart</td>\n",
       "      <td>8</td>\n",
       "      <td>0.0</td>\n",
       "      <td>17.0</td>\n",
       "      <td>11.0</td>\n",
       "    </tr>\n",
       "    <tr>\n",
       "      <td>3209</td>\n",
       "      <td>1489</td>\n",
       "      <td>smart</td>\n",
       "      <td>9</td>\n",
       "      <td>0.0</td>\n",
       "      <td>32.0</td>\n",
       "      <td>17.0</td>\n",
       "    </tr>\n",
       "    <tr>\n",
       "      <td>3210</td>\n",
       "      <td>1489</td>\n",
       "      <td>smart</td>\n",
       "      <td>10</td>\n",
       "      <td>0.0</td>\n",
       "      <td>21.0</td>\n",
       "      <td>20.0</td>\n",
       "    </tr>\n",
       "    <tr>\n",
       "      <td>3211</td>\n",
       "      <td>1489</td>\n",
       "      <td>smart</td>\n",
       "      <td>11</td>\n",
       "      <td>0.0</td>\n",
       "      <td>20.0</td>\n",
       "      <td>18.0</td>\n",
       "    </tr>\n",
       "    <tr>\n",
       "      <td>3212</td>\n",
       "      <td>1489</td>\n",
       "      <td>smart</td>\n",
       "      <td>12</td>\n",
       "      <td>0.0</td>\n",
       "      <td>35.0</td>\n",
       "      <td>17.0</td>\n",
       "    </tr>\n",
       "  </tbody>\n",
       "</table>\n",
       "<p>2229 rows × 6 columns</p>\n",
       "</div>"
      ],
      "text/plain": [
       "      user_id tariff  month_num  calls_time  messages_count  gb_used\n",
       "8        1001  smart         11       430.0             0.0     18.0\n",
       "9        1001  smart         12       414.0             0.0     14.0\n",
       "10       1002  smart          6       117.0             4.0     11.0\n",
       "11       1002  smart          7       214.0            11.0     18.0\n",
       "12       1002  smart          8       289.0            13.0     20.0\n",
       "...       ...    ...        ...         ...             ...      ...\n",
       "3208     1489  smart          8         0.0            17.0     11.0\n",
       "3209     1489  smart          9         0.0            32.0     17.0\n",
       "3210     1489  smart         10         0.0            21.0     20.0\n",
       "3211     1489  smart         11         0.0            20.0     18.0\n",
       "3212     1489  smart         12         0.0            35.0     17.0\n",
       "\n",
       "[2229 rows x 6 columns]"
      ]
     },
     "execution_count": 44,
     "metadata": {},
     "output_type": "execute_result"
    }
   ],
   "source": [
    "df_tariffs_smart = df_tariffs.query('tariff == \"smart\"')\n",
    "df_tariffs_smart"
   ]
  },
  {
   "cell_type": "code",
   "execution_count": 45,
   "metadata": {},
   "outputs": [
    {
     "data": {
      "text/html": [
       "<div>\n",
       "<style scoped>\n",
       "    .dataframe tbody tr th:only-of-type {\n",
       "        vertical-align: middle;\n",
       "    }\n",
       "\n",
       "    .dataframe tbody tr th {\n",
       "        vertical-align: top;\n",
       "    }\n",
       "\n",
       "    .dataframe thead th {\n",
       "        text-align: right;\n",
       "    }\n",
       "</style>\n",
       "<table border=\"1\" class=\"dataframe\">\n",
       "  <thead>\n",
       "    <tr style=\"text-align: right;\">\n",
       "      <th></th>\n",
       "      <th>user_id</th>\n",
       "      <th>month_num</th>\n",
       "      <th>calls_time</th>\n",
       "      <th>messages_count</th>\n",
       "      <th>gb_used</th>\n",
       "    </tr>\n",
       "  </thead>\n",
       "  <tbody>\n",
       "    <tr>\n",
       "      <td>count</td>\n",
       "      <td>2229.000000</td>\n",
       "      <td>2229.000000</td>\n",
       "      <td>2229.000000</td>\n",
       "      <td>2229.000000</td>\n",
       "      <td>2229.000000</td>\n",
       "    </tr>\n",
       "    <tr>\n",
       "      <td>mean</td>\n",
       "      <td>1246.506505</td>\n",
       "      <td>8.346792</td>\n",
       "      <td>417.934948</td>\n",
       "      <td>33.384029</td>\n",
       "      <td>16.328847</td>\n",
       "    </tr>\n",
       "    <tr>\n",
       "      <td>std</td>\n",
       "      <td>146.119496</td>\n",
       "      <td>2.920316</td>\n",
       "      <td>190.313730</td>\n",
       "      <td>28.227876</td>\n",
       "      <td>5.747061</td>\n",
       "    </tr>\n",
       "    <tr>\n",
       "      <td>min</td>\n",
       "      <td>1001.000000</td>\n",
       "      <td>1.000000</td>\n",
       "      <td>0.000000</td>\n",
       "      <td>0.000000</td>\n",
       "      <td>0.000000</td>\n",
       "    </tr>\n",
       "    <tr>\n",
       "      <td>25%</td>\n",
       "      <td>1121.000000</td>\n",
       "      <td>6.000000</td>\n",
       "      <td>282.000000</td>\n",
       "      <td>10.000000</td>\n",
       "      <td>13.000000</td>\n",
       "    </tr>\n",
       "    <tr>\n",
       "      <td>50%</td>\n",
       "      <td>1239.000000</td>\n",
       "      <td>9.000000</td>\n",
       "      <td>422.000000</td>\n",
       "      <td>28.000000</td>\n",
       "      <td>17.000000</td>\n",
       "    </tr>\n",
       "    <tr>\n",
       "      <td>75%</td>\n",
       "      <td>1376.000000</td>\n",
       "      <td>11.000000</td>\n",
       "      <td>545.000000</td>\n",
       "      <td>51.000000</td>\n",
       "      <td>20.000000</td>\n",
       "    </tr>\n",
       "    <tr>\n",
       "      <td>max</td>\n",
       "      <td>1499.000000</td>\n",
       "      <td>12.000000</td>\n",
       "      <td>1435.000000</td>\n",
       "      <td>143.000000</td>\n",
       "      <td>38.000000</td>\n",
       "    </tr>\n",
       "  </tbody>\n",
       "</table>\n",
       "</div>"
      ],
      "text/plain": [
       "           user_id    month_num   calls_time  messages_count      gb_used\n",
       "count  2229.000000  2229.000000  2229.000000     2229.000000  2229.000000\n",
       "mean   1246.506505     8.346792   417.934948       33.384029    16.328847\n",
       "std     146.119496     2.920316   190.313730       28.227876     5.747061\n",
       "min    1001.000000     1.000000     0.000000        0.000000     0.000000\n",
       "25%    1121.000000     6.000000   282.000000       10.000000    13.000000\n",
       "50%    1239.000000     9.000000   422.000000       28.000000    17.000000\n",
       "75%    1376.000000    11.000000   545.000000       51.000000    20.000000\n",
       "max    1499.000000    12.000000  1435.000000      143.000000    38.000000"
      ]
     },
     "execution_count": 45,
     "metadata": {},
     "output_type": "execute_result"
    }
   ],
   "source": [
    "df_tariffs_smart.describe()"
   ]
  },
  {
   "cell_type": "markdown",
   "metadata": {},
   "source": [
    "Ежемесячная длительность разговора варьировалась от 0 до 1435 минут (медиана 422 мин, т.е. приблизительно 14 мин в день). Количество сообщений от 0 до 143 (медиана 28, т.е. приблизительно 1 мин в день). Объем интернет-трафика от 0 до 38 Гб (медиана 17 Гб, т.е. приблизительно 0,5 Гб в день)."
   ]
  },
  {
   "cell_type": "markdown",
   "metadata": {},
   "source": [
    "**Расчет среднего, дисперсии и стандартного отклонение**"
   ]
  },
  {
   "cell_type": "code",
   "execution_count": 46,
   "metadata": {
    "scrolled": false
   },
   "outputs": [
    {
     "name": "stdout",
     "output_type": "stream",
     "text": [
      "среднее значение calls_time = 526.6233502538071\n",
      "дисперсия calls_time = 100873.63339730098\n",
      "стандартное отклонение calls_time = 317.6060978591264\n",
      "\n",
      "среднее значение messages_count = 49.36345177664975\n",
      "дисперсия messages_count = 2285.2661425446736\n",
      "стандартное отклонение messages_count = 47.804457350174715\n",
      "\n",
      "среднее значение gb_used = 19.494416243654822\n",
      "дисперсия gb_used = 97.09168626965459\n",
      "стандартное отклонение gb_used = 9.853511367510293\n",
      "\n"
     ]
    }
   ],
   "source": [
    "# тариф «ultra»\n",
    "ultra_columns = ['calls_time', 'messages_count', 'gb_used']\n",
    "\n",
    "for column in ultra_columns:\n",
    "    print('среднее значение', column, '=', df_tariffs_ultra[column].mean())\n",
    "    print('дисперсия', column, '=', df_tariffs_ultra[column].var(ddof=1))\n",
    "    print('стандартное отклонение', column, '=', df_tariffs_ultra[column].std(ddof=1))\n",
    "    print()"
   ]
  },
  {
   "cell_type": "code",
   "execution_count": 47,
   "metadata": {},
   "outputs": [
    {
     "name": "stdout",
     "output_type": "stream",
     "text": [
      "среднее значение calls_time = 417.9349484073576\n",
      "дисперсия calls_time = 36219.31578434428\n",
      "стандартное отклонение calls_time = calls_time 190.31372988921288\n",
      "\n",
      "среднее значение messages_count = 33.384028712427096\n",
      "дисперсия messages_count = 796.8129584480083\n",
      "стандартное отклонение messages_count = messages_count 28.22787555676141\n",
      "\n",
      "среднее значение gb_used = 16.328847016599372\n",
      "дисперсия gb_used = 33.02870517811161\n",
      "стандартное отклонение gb_used = gb_used 5.7470605685090534\n",
      "\n"
     ]
    }
   ],
   "source": [
    "# тариф «smart»\n",
    "smart_columns = ['calls_time', 'messages_count', 'gb_used']\n",
    "\n",
    "for column in ultra_columns:\n",
    "    print('среднее значение', column, '=', df_tariffs_smart[column].mean())\n",
    "    print('дисперсия', column, '=', df_tariffs_smart[column].var(ddof=1))\n",
    "    print('стандартное отклонение', column, '=', column, df_tariffs_smart[column].std(ddof=1))\n",
    "    print()"
   ]
  },
  {
   "cell_type": "markdown",
   "metadata": {},
   "source": [
    "**Построение гистограмм**"
   ]
  },
  {
   "cell_type": "code",
   "execution_count": 48,
   "metadata": {
    "scrolled": true
   },
   "outputs": [
    {
     "data": {
      "image/png": "[encoded data removed]",
      "text/plain": [
       "<Figure size 432x288 with 1 Axes>"
      ]
     },
     "metadata": {
      "needs_background": "light"
     },
     "output_type": "display_data"
    }
   ],
   "source": [
    "# столбцы для построения гистограмм\n",
    "tariff_columns_distplot = ['calls_time', 'messages_count', 'gb_used']\n",
    "\n",
    "ax = sns.distplot(df_tariffs_ultra['calls_time'], label='ultra')\n",
    "ax = sns.distplot(df_tariffs_smart['calls_time'], label='smart')\n",
    "\n",
    "ax.set(title='Плотность распределения продолжительности разговора')\n",
    "ax.set_xlabel('Продолжительность разговора, мин')\n",
    "ax.set_ylabel('Плотность распределения')\n",
    "\n",
    "ax.axvline(df_tariffs_ultra['calls_time'].median(), linewidth=2, color='b', ls=':', label=\"медиана «ultra»\")\n",
    "ax.axvline(df_tariffs_smart['calls_time'].median(), linewidth=2, color='r', ls=':', label=\"медиана «smart»\")\n",
    "\n",
    "ax.axvline(df_tariffs_ultra['calls_time'].mean(), linewidth=2, color='b', ls='-', label=\"среднее «ultra»\")\n",
    "ax.axvline(df_tariffs_smart['calls_time'].mean(), linewidth=2, color='r', ls='-', label=\"среднее «smart»\")\n",
    "\n",
    "ax.legend();"
   ]
  },
  {
   "cell_type": "markdown",
   "metadata": {},
   "source": [
    "Кривые распределений близки к нормальным. Выраженная асимметрия не просматривается, т.к. средние значения и медианы расположены очень близко друг к другу. Тариф «ultra» имеет более широкий интервал значений."
   ]
  },
  {
   "cell_type": "code",
   "execution_count": 49,
   "metadata": {
    "scrolled": false
   },
   "outputs": [
    {
     "data": {
      "image/png": "[encoded data removed]",
      "text/plain": [
       "<Figure size 432x288 with 1 Axes>"
      ]
     },
     "metadata": {
      "needs_background": "light"
     },
     "output_type": "display_data"
    }
   ],
   "source": [
    "ax = sns.distplot(df_tariffs_ultra['messages_count'], label='ultra')\n",
    "ax = sns.distplot(df_tariffs_smart['messages_count'], label='smart')\n",
    "\n",
    "ax.set(title='Плотность распределения количества сообщений')\n",
    "ax.set_xlabel('Количество сообщений')\n",
    "ax.set_ylabel('Плотность распределения')\n",
    "\n",
    "ax.axvline(df_tariffs_ultra['messages_count'].median(), linewidth=2, color='b', ls=':', label=\"медиана «ultra»\")\n",
    "ax.axvline(df_tariffs_smart['messages_count'].median(), linewidth=2, color='r', ls=':', label=\"медиана «smart»\")\n",
    "\n",
    "ax.axvline(df_tariffs_ultra['messages_count'].mean(), linewidth=2, color='b', ls='-', label=\"среднее «ultra»\")\n",
    "ax.axvline(df_tariffs_smart['messages_count'].mean(), linewidth=2, color='r', ls='-', label=\"среднее «smart»\")\n",
    "\n",
    "ax.legend();"
   ]
  },
  {
   "cell_type": "markdown",
   "metadata": {},
   "source": [
    "Кривые распределений близки к нормальным. Просматривает выраженная положительная (или правосторонняя) асимметрия, при этом средние значения смещены вправо от медиан. Это говорит о том, что на рассматриваемых тарифах преобладают абоненты, которые обходятся числом сообщений в объеме меньше среднего. Тариф «ultra» имеет более широкий интервал значений."
   ]
  },
  {
   "cell_type": "code",
   "execution_count": 50,
   "metadata": {
    "scrolled": true
   },
   "outputs": [
    {
     "data": {
      "image/png": "[encoded data removed]",
      "text/plain": [
       "<Figure size 432x288 with 1 Axes>"
      ]
     },
     "metadata": {
      "needs_background": "light"
     },
     "output_type": "display_data"
    }
   ],
   "source": [
    "ax = sns.distplot(df_tariffs_ultra['gb_used'], label='ultra')\n",
    "ax = sns.distplot(df_tariffs_smart['gb_used'], label='smart')\n",
    "\n",
    "ax.set(title='Плотность распределения объема интернет-трафика')\n",
    "ax.set_xlabel('Объем интернет-трафика, Гб')\n",
    "ax.set_ylabel('Плотность распределения')\n",
    "\n",
    "ax.axvline(df_tariffs_ultra['gb_used'].median(), linewidth=2, color='b', ls=':', label=\"медиана «ultra»\")\n",
    "ax.axvline(df_tariffs_smart['gb_used'].median(), linewidth=2, color='r', ls=':', label=\"медиана «smart»\")\n",
    "\n",
    "ax.axvline(df_tariffs_ultra['gb_used'].mean(), linewidth=2, color='b', ls='-', label=\"среднее «ultra»\")\n",
    "ax.axvline(df_tariffs_smart['gb_used'].mean(), linewidth=2, color='r', ls='-', label=\"среднее «smart»\")\n",
    "\n",
    "ax.legend();"
   ]
  },
  {
   "cell_type": "markdown",
   "metadata": {},
   "source": [
    "Кривые распределений близки к нормальным. Выраженная асимметрия практически не просматривается, т.к. средние значения и медианы расположены очень близко друг к другу. Можно отметить, что тариф `smart` имеет незначительную отрицательную (или левостороннюю) асимметрию, тогда как тариф `ultra` едва заметную положительную (или правостороннюю) асимметрию. На тарифе `smart` чуть больше абонентов, которые расходуют интернет-трафик выше среднего. На тарифе `ultra` таким абонентов чуть меньше. Тариф `ultra` имеет более широкий интервал значений."
   ]
  },
  {
   "cell_type": "markdown",
   "metadata": {},
   "source": [
    "### Вывод"
   ]
  },
  {
   "cell_type": "markdown",
   "metadata": {},
   "source": [
    "В данном разделе был выполнен расчет расхода минут разговора, количества сообщений и объема интернет-трафика для каждого из рассматриваемых тарифов по отдельности. Были получены статистические характеристики: среднее, дисперсия и стандартное отклонение. Построены гистограммы плотности распределения. Визуальный анализ гистограмм выявил, что наибольшие отклонения от средних величин в предпочтениях абонентов фиксируется для характеристики «количество сообщений»."
   ]
  },
  {
   "cell_type": "code",
   "execution_count": 51,
   "metadata": {},
   "outputs": [
    {
     "data": {
      "image/png": "[encoded data removed]",
      "text/plain": [
       "<Figure size 1152x360 with 2 Axes>"
      ]
     },
     "metadata": {
      "needs_background": "light"
     },
     "output_type": "display_data"
    }
   ],
   "source": [
    "fig, axes = plt.subplots(1, 2, figsize=(16, 5))\n",
    "\n",
    "sns.distplot(df_tariffs_ultra['gb_used'], ax=axes[0], label='тариф «ultra»')\n",
    "sns.boxplot(df_tariffs_ultra['gb_used'], ax=axes[1])\n",
    "\n",
    "PROPS = {\n",
    "    'boxprops':{'facecolor':'none', 'edgecolor':'coral'},\n",
    "    'medianprops':{'color':'coral'},\n",
    "    'whiskerprops':{'color':'coral'},\n",
    "    'capprops':{'color':'coral'},\n",
    "    'flierprops':{'markerfacecolor':'none', 'markeredgecolor':'coral'}\n",
    "}\n",
    "\n",
    "sns.distplot(df_tariffs_smart['gb_used'], ax=axes[0], label='тариф «smart»', color=\"coral\")\n",
    "sns.boxplot(df_tariffs_smart['gb_used'], ax=axes[1], linewidth=3, **PROPS)\n",
    "\n",
    "axes[0].set(title='Плотность распределения')\n",
    "axes[1].set(title='Диаграмма размаха плотности распределения')\n",
    "axes[0].set_xlabel('Объем интернет-трафика, Гб')\n",
    "axes[1].set_xlabel('Объем интернет-трафика, Гб')\n",
    "axes[0].set_ylabel('Плотность распределения')\n",
    "\n",
    "\n",
    "axes[0].legend();"
   ]
  },
  {
   "cell_type": "markdown",
   "metadata": {},
   "source": [
    "## Проверка гипотез"
   ]
  },
  {
   "cell_type": "markdown",
   "metadata": {},
   "source": [
    "**Средняя выручка пользователей тарифов «Ультра» и «Смарт» различаются**"
   ]
  },
  {
   "cell_type": "markdown",
   "metadata": {},
   "source": [
    "Для анализа берем предварительно полученный датафрейм `df_total`."
   ]
  },
  {
   "cell_type": "code",
   "execution_count": 52,
   "metadata": {
    "scrolled": true
   },
   "outputs": [
    {
     "data": {
      "text/html": [
       "<div>\n",
       "<style scoped>\n",
       "    .dataframe tbody tr th:only-of-type {\n",
       "        vertical-align: middle;\n",
       "    }\n",
       "\n",
       "    .dataframe tbody tr th {\n",
       "        vertical-align: top;\n",
       "    }\n",
       "\n",
       "    .dataframe thead th {\n",
       "        text-align: right;\n",
       "    }\n",
       "</style>\n",
       "<table border=\"1\" class=\"dataframe\">\n",
       "  <thead>\n",
       "    <tr style=\"text-align: right;\">\n",
       "      <th></th>\n",
       "      <th>user_id</th>\n",
       "      <th>tariff</th>\n",
       "      <th>month_num</th>\n",
       "      <th>extra_tariff_price</th>\n",
       "    </tr>\n",
       "  </thead>\n",
       "  <tbody>\n",
       "    <tr>\n",
       "      <td>0</td>\n",
       "      <td>1000</td>\n",
       "      <td>ultra</td>\n",
       "      <td>5</td>\n",
       "      <td>1950.0</td>\n",
       "    </tr>\n",
       "    <tr>\n",
       "      <td>1</td>\n",
       "      <td>1000</td>\n",
       "      <td>ultra</td>\n",
       "      <td>6</td>\n",
       "      <td>1950.0</td>\n",
       "    </tr>\n",
       "    <tr>\n",
       "      <td>2</td>\n",
       "      <td>1000</td>\n",
       "      <td>ultra</td>\n",
       "      <td>7</td>\n",
       "      <td>1950.0</td>\n",
       "    </tr>\n",
       "    <tr>\n",
       "      <td>3</td>\n",
       "      <td>1000</td>\n",
       "      <td>ultra</td>\n",
       "      <td>8</td>\n",
       "      <td>1950.0</td>\n",
       "    </tr>\n",
       "    <tr>\n",
       "      <td>4</td>\n",
       "      <td>1000</td>\n",
       "      <td>ultra</td>\n",
       "      <td>9</td>\n",
       "      <td>1950.0</td>\n",
       "    </tr>\n",
       "    <tr>\n",
       "      <td>...</td>\n",
       "      <td>...</td>\n",
       "      <td>...</td>\n",
       "      <td>...</td>\n",
       "      <td>...</td>\n",
       "    </tr>\n",
       "    <tr>\n",
       "      <td>3169</td>\n",
       "      <td>1498</td>\n",
       "      <td>smart</td>\n",
       "      <td>10</td>\n",
       "      <td>1750.0</td>\n",
       "    </tr>\n",
       "    <tr>\n",
       "      <td>3170</td>\n",
       "      <td>1499</td>\n",
       "      <td>smart</td>\n",
       "      <td>9</td>\n",
       "      <td>550.0</td>\n",
       "    </tr>\n",
       "    <tr>\n",
       "      <td>3171</td>\n",
       "      <td>1499</td>\n",
       "      <td>smart</td>\n",
       "      <td>10</td>\n",
       "      <td>1150.0</td>\n",
       "    </tr>\n",
       "    <tr>\n",
       "      <td>3172</td>\n",
       "      <td>1499</td>\n",
       "      <td>smart</td>\n",
       "      <td>11</td>\n",
       "      <td>1513.0</td>\n",
       "    </tr>\n",
       "    <tr>\n",
       "      <td>3173</td>\n",
       "      <td>1499</td>\n",
       "      <td>smart</td>\n",
       "      <td>12</td>\n",
       "      <td>598.0</td>\n",
       "    </tr>\n",
       "  </tbody>\n",
       "</table>\n",
       "<p>3214 rows × 4 columns</p>\n",
       "</div>"
      ],
      "text/plain": [
       "      user_id tariff  month_num  extra_tariff_price\n",
       "0        1000  ultra          5              1950.0\n",
       "1        1000  ultra          6              1950.0\n",
       "2        1000  ultra          7              1950.0\n",
       "3        1000  ultra          8              1950.0\n",
       "4        1000  ultra          9              1950.0\n",
       "...       ...    ...        ...                 ...\n",
       "3169     1498  smart         10              1750.0\n",
       "3170     1499  smart          9               550.0\n",
       "3171     1499  smart         10              1150.0\n",
       "3172     1499  smart         11              1513.0\n",
       "3173     1499  smart         12               598.0\n",
       "\n",
       "[3214 rows x 4 columns]"
      ]
     },
     "execution_count": 52,
     "metadata": {},
     "output_type": "execute_result"
    }
   ],
   "source": [
    "df_total.sort_values(by=['user_id', 'month_num'])"
   ]
  },
  {
   "cell_type": "markdown",
   "metadata": {},
   "source": [
    "Представленный выше датафрейм будет разделен на две группы в соответствии с тарифом абонента: `ultra` и `ultra`. Эти данные можно рассматривать в качестве двух генеральных совокупностей.  \n",
    "\n",
    "Формулировка нулевой гипотезы `H0`: средние двух генеральных совокупностей равны между собой.  \n",
    "Формулировка альтернативной гипотезы `H1`: средние двух генеральных совокупностей не равны между собой.\n",
    "\n",
    "Пороговое значение уровня значимости `alpha` выбираем равным 5%.\n",
    "\n",
    "Проверка гипотезы о равенстве среднего двух генеральных совокупностей предполагает предварительную проверку равенства дисперсий."
   ]
  },
  {
   "cell_type": "code",
   "execution_count": 53,
   "metadata": {},
   "outputs": [],
   "source": [
    "# создаем датафрейм для тарифа 'ultra'\n",
    "df_total_income_ultra = df_total.query('tariff == \"ultra\"')\n",
    "\n",
    "# создаем датафрейм для тарифа 'smart'\n",
    "df_total_income_smart = df_total.query('tariff == \"smart\"')"
   ]
  },
  {
   "cell_type": "code",
   "execution_count": 54,
   "metadata": {},
   "outputs": [
    {
     "data": {
      "text/plain": [
       "141516.7450786183"
      ]
     },
     "execution_count": 54,
     "metadata": {},
     "output_type": "execute_result"
    }
   ],
   "source": [
    "# вычисляем дисперсию для тарифа 'ultra'\n",
    "df_total_income_ultra['extra_tariff_price'].var(ddof=1)"
   ]
  },
  {
   "cell_type": "code",
   "execution_count": 55,
   "metadata": {},
   "outputs": [
    {
     "data": {
      "text/plain": [
       "669785.7080064242"
      ]
     },
     "execution_count": 55,
     "metadata": {},
     "output_type": "execute_result"
    }
   ],
   "source": [
    "# вычисляем дисперсию для тарифа 'smart'\n",
    "df_total_income_smart['extra_tariff_price'].var(ddof=1)"
   ]
  },
  {
   "cell_type": "code",
   "execution_count": 56,
   "metadata": {},
   "outputs": [
    {
     "name": "stdout",
     "output_type": "stream",
     "text": [
      "p-значение:  4.2606313931076085e-250\n",
      "Отвергаем нулевую гипотезу\n"
     ]
    }
   ],
   "source": [
    "# заданное значение уровня значимости\n",
    "alpha = 0.05\n",
    "\n",
    "\n",
    "# поскольку дисперсии существенно отличаются, устанавливаем параметр 'equal_var = False'\n",
    "results = st.ttest_ind(df_total_income_ultra['extra_tariff_price'],\n",
    "                       df_total_income_smart['extra_tariff_price'],\n",
    "                       equal_var = False)\n",
    "\n",
    "print('p-значение: ', results.pvalue)\n",
    "\n",
    "\n",
    "if results.pvalue < alpha:\n",
    "    print(\"Отвергаем нулевую гипотезу\")\n",
    "else:\n",
    "    print(\"Не получилось отвергнуть нулевую гипотезу\") "
   ]
  },
  {
   "cell_type": "markdown",
   "metadata": {},
   "source": [
    "Величина `p-значение` оказалась значительно меньше заданного уровня значимости. Следователь нужно принять альтернативную гипотезу `H1`, т.е. средняя выручка пользователей тарифов «ultra» и «smart» различаются."
   ]
  },
  {
   "cell_type": "markdown",
   "metadata": {},
   "source": [
    "**Средняя выручка пользователей из Москвы отличается от выручки пользователей из других регионов**"
   ]
  },
  {
   "cell_type": "markdown",
   "metadata": {},
   "source": [
    "Формулировка нулевой гипотезы `H0`: средние двух генеральных совокупностей равны между собой.  \n",
    "Формулировка альтернативной гипотезы `H1`: средние двух генеральных совокупностей не равны между собой.\n",
    "\n",
    "Изучаемый датафрейм `df_total` как финальная таблица не содержит данных о города проживания абонентов. Эти данные понадобились только для представленного ниже вычисления. Дополним датафрейм `df_total` необходимой информацией."
   ]
  },
  {
   "cell_type": "code",
   "execution_count": 57,
   "metadata": {},
   "outputs": [
    {
     "data": {
      "text/html": [
       "<div>\n",
       "<style scoped>\n",
       "    .dataframe tbody tr th:only-of-type {\n",
       "        vertical-align: middle;\n",
       "    }\n",
       "\n",
       "    .dataframe tbody tr th {\n",
       "        vertical-align: top;\n",
       "    }\n",
       "\n",
       "    .dataframe thead th {\n",
       "        text-align: right;\n",
       "    }\n",
       "</style>\n",
       "<table border=\"1\" class=\"dataframe\">\n",
       "  <thead>\n",
       "    <tr style=\"text-align: right;\">\n",
       "      <th></th>\n",
       "      <th>user_id</th>\n",
       "      <th>city</th>\n",
       "      <th>extra_tariff_price</th>\n",
       "    </tr>\n",
       "  </thead>\n",
       "  <tbody>\n",
       "    <tr>\n",
       "      <td>0</td>\n",
       "      <td>1000</td>\n",
       "      <td>Краснодар</td>\n",
       "      <td>1950.0</td>\n",
       "    </tr>\n",
       "    <tr>\n",
       "      <td>1</td>\n",
       "      <td>1000</td>\n",
       "      <td>Краснодар</td>\n",
       "      <td>1950.0</td>\n",
       "    </tr>\n",
       "    <tr>\n",
       "      <td>2</td>\n",
       "      <td>1000</td>\n",
       "      <td>Краснодар</td>\n",
       "      <td>1950.0</td>\n",
       "    </tr>\n",
       "    <tr>\n",
       "      <td>3</td>\n",
       "      <td>1000</td>\n",
       "      <td>Краснодар</td>\n",
       "      <td>1950.0</td>\n",
       "    </tr>\n",
       "    <tr>\n",
       "      <td>4</td>\n",
       "      <td>1000</td>\n",
       "      <td>Краснодар</td>\n",
       "      <td>1950.0</td>\n",
       "    </tr>\n",
       "    <tr>\n",
       "      <td>...</td>\n",
       "      <td>...</td>\n",
       "      <td>...</td>\n",
       "      <td>...</td>\n",
       "    </tr>\n",
       "    <tr>\n",
       "      <td>3169</td>\n",
       "      <td>1498</td>\n",
       "      <td>Владикавказ</td>\n",
       "      <td>1750.0</td>\n",
       "    </tr>\n",
       "    <tr>\n",
       "      <td>3173</td>\n",
       "      <td>1499</td>\n",
       "      <td>Пермь</td>\n",
       "      <td>598.0</td>\n",
       "    </tr>\n",
       "    <tr>\n",
       "      <td>3170</td>\n",
       "      <td>1499</td>\n",
       "      <td>Пермь</td>\n",
       "      <td>550.0</td>\n",
       "    </tr>\n",
       "    <tr>\n",
       "      <td>3171</td>\n",
       "      <td>1499</td>\n",
       "      <td>Пермь</td>\n",
       "      <td>1150.0</td>\n",
       "    </tr>\n",
       "    <tr>\n",
       "      <td>3172</td>\n",
       "      <td>1499</td>\n",
       "      <td>Пермь</td>\n",
       "      <td>1513.0</td>\n",
       "    </tr>\n",
       "  </tbody>\n",
       "</table>\n",
       "<p>3214 rows × 3 columns</p>\n",
       "</div>"
      ],
      "text/plain": [
       "      user_id         city  extra_tariff_price\n",
       "0        1000    Краснодар              1950.0\n",
       "1        1000    Краснодар              1950.0\n",
       "2        1000    Краснодар              1950.0\n",
       "3        1000    Краснодар              1950.0\n",
       "4        1000    Краснодар              1950.0\n",
       "...       ...          ...                 ...\n",
       "3169     1498  Владикавказ              1750.0\n",
       "3173     1499        Пермь               598.0\n",
       "3170     1499        Пермь               550.0\n",
       "3171     1499        Пермь              1150.0\n",
       "3172     1499        Пермь              1513.0\n",
       "\n",
       "[3214 rows x 3 columns]"
      ]
     },
     "execution_count": 57,
     "metadata": {},
     "output_type": "execute_result"
    }
   ],
   "source": [
    "# объединяем исследуемый датафрейм 'df_total' и датаферйм с данными о городах проживания абонентов 'df_users'\n",
    "df_total_income_city = pd.merge(df_total, df_users, on='user_id', how='left')\n",
    "\n",
    "# выбираем только необходимые для дальнейшей работы столбцы\n",
    "df_total_income_city = df_total_income_city[['user_id', 'city', 'extra_tariff_price']]\n",
    "df_total_income_city.sort_values(by='user_id')"
   ]
  },
  {
   "cell_type": "code",
   "execution_count": 58,
   "metadata": {},
   "outputs": [],
   "source": [
    "# создаем датафрейм для города 'Москва'\n",
    "df_total_income_Moscow = df_total_income_city.query('city == \"Москва\"')\n",
    "\n",
    "# создаем датафрейм для остальных городов\n",
    "df_total_income_reginons = df_total_income_city.query('city != \"Москва\"')"
   ]
  },
  {
   "cell_type": "code",
   "execution_count": 59,
   "metadata": {},
   "outputs": [
    {
     "data": {
      "text/plain": [
       "565636.467011886"
      ]
     },
     "execution_count": 59,
     "metadata": {},
     "output_type": "execute_result"
    }
   ],
   "source": [
    "# вычисляем дисперсию для датафрейма с городом 'Москва'\n",
    "df_total_income_Moscow['extra_tariff_price'].var(ddof=1)"
   ]
  },
  {
   "cell_type": "code",
   "execution_count": 60,
   "metadata": {},
   "outputs": [
    {
     "data": {
      "text/plain": [
       "654137.6285218114"
      ]
     },
     "execution_count": 60,
     "metadata": {},
     "output_type": "execute_result"
    }
   ],
   "source": [
    "# вычисляем дисперсию для датафрейма с городом 'Москва'\n",
    "df_total_income_reginons['extra_tariff_price'].var(ddof=1)"
   ]
  },
  {
   "cell_type": "markdown",
   "metadata": {},
   "source": [
    "Если в первом случае дисперсии отличались в несколько раз, то здесь различие дисперсий не столь существенное. Значение настраиваемого параметра оставляем по умолчанию, т.е. `equal_var = True`"
   ]
  },
  {
   "cell_type": "code",
   "execution_count": 61,
   "metadata": {},
   "outputs": [
    {
     "name": "stdout",
     "output_type": "stream",
     "text": [
      "p-значение:  0.5440152911670224\n",
      "Не получилось отвергнуть нулевую гипотезу\n"
     ]
    }
   ],
   "source": [
    "# заданное значение уровня значимости\n",
    "alpha = 0.05\n",
    "\n",
    "\n",
    "results = st.ttest_ind(df_total_income_Moscow['extra_tariff_price'],\n",
    "                       df_total_income_reginons['extra_tariff_price'],\n",
    "                       equal_var = True)\n",
    "\n",
    "print('p-значение: ', results.pvalue)\n",
    "\n",
    "\n",
    "if results.pvalue < alpha:\n",
    "    print(\"Отвергаем нулевую гипотезу\")\n",
    "else:\n",
    "    print(\"Не получилось отвергнуть нулевую гипотезу\") "
   ]
  },
  {
   "cell_type": "markdown",
   "metadata": {},
   "source": [
    "Величина `p-значение` оказалась больше заданного уровня значимости. Следователь нужно принять нулевую гипотезу `H0`, т.е. средняя выручка пользователей в городе Москва и других городов не отличается."
   ]
  },
  {
   "cell_type": "markdown",
   "metadata": {},
   "source": [
    "### Вывод"
   ]
  },
  {
   "cell_type": "markdown",
   "metadata": {},
   "source": [
    "В данном разделе были выполнены проверки различных статистических гипотез. Установлено, что средняя выручка для абонентов тарифов `ultra` и `smart` отличается. Для абонентов в городе Москва и других городов различий в средней выручки нет."
   ]
  },
  {
   "cell_type": "code",
   "execution_count": 62,
   "metadata": {},
   "outputs": [
    {
     "name": "stdout",
     "output_type": "stream",
     "text": [
      "var1 = 141516.7450786183\n",
      "var2 = 669785.7080064242\n",
      "проверка по Левене, p = 1.8783148636310733e-122\n",
      "проверка по Бартлетту, p = 1.96362114492455e-141\n",
      "==================================================\n",
      "\n",
      "var1 = 565636.467011886\n",
      "var2 = 654137.6285218114\n",
      "проверка по Левене, p = 0.014082487123270156\n",
      "проверка по Бартлетту, p = 0.02445441261003286\n"
     ]
    }
   ],
   "source": [
    "from scipy.stats import bartlett, levene\n",
    "\n",
    "# вычисляем дисперсию для тарифа 'ultra'\n",
    "print('var1 =', df_total_income_ultra['extra_tariff_price'].var(ddof=1))\n",
    "\n",
    "# вычисляем дисперсию для тарифа 'smart'\n",
    "print('var2 =', df_total_income_smart['extra_tariff_price'].var(ddof=1))\n",
    "\n",
    "stat, p = levene(df_total_income_ultra['extra_tariff_price'], df_total_income_smart['extra_tariff_price'])\n",
    "print('проверка по Левене, p =', p)\n",
    "\n",
    "stat, p = bartlett(df_total_income_ultra['extra_tariff_price'], df_total_income_smart['extra_tariff_price'])\n",
    "print('проверка по Бартлетту, p =', p)\n",
    "\n",
    "print('='*50, end='\\n\\n')\n",
    "\n",
    "# вычисляем дисперсию для датафрейма с городом 'Москва'\n",
    "print('var1 =', df_total_income_Moscow['extra_tariff_price'].var(ddof=1))\n",
    "\n",
    "# вычисляем дисперсию для датафрейма с городом 'Москва'\n",
    "print('var2 =', df_total_income_reginons['extra_tariff_price'].var(ddof=1))\n",
    "\n",
    "stat, p = levene(df_total_income_Moscow['extra_tariff_price'], df_total_income_reginons['extra_tariff_price'])\n",
    "print('проверка по Левене, p =', p)\n",
    "\n",
    "stat, p = bartlett(df_total_income_Moscow['extra_tariff_price'], df_total_income_reginons['extra_tariff_price'])\n",
    "print('проверка по Бартлетту, p =', p)"
   ]
  },
  {
   "cell_type": "markdown",
   "metadata": {},
   "source": [
    "## Общий вывод"
   ]
  },
  {
   "cell_type": "markdown",
   "metadata": {},
   "source": [
    "В ходе проведенного исследования было изучено 500 абонентов мобильного оператора на тарифах `ultra` и `smart`.  \n",
    "\n",
    "Были выполнены расчеты стоимости дополнительных услуг (добавочные минуты разговора, сообщения и объем интернет-трафика), которыми пользовались абоненты после исчерпания лимита тарифного плана.\n",
    "\n",
    "Средняя выручка для абонентов тарифа `ultra` составляет 2070 рублей в месяц, тарифа `smart` приблизительно 1290 рублей в месяц. При уровне абонентской платы (`ultra` = 1950 р/месяц и `smart` = 550 р/месяц) можно отметить, что пользователи тарифа `smart` переплачивают за дополнительные услуги приблизительно его вторую стоимость. Пользователи более дорогого тарифа `ultra` практически полностью укладываются в отведенные лимиты.\n",
    "\n",
    "Статистический анализ проверки гипотез выявил, что средние выручки абонентов тарифов `ultra` и `smart` не равны. Если рассматривать географическую привязку, то средние выручки абонентов города Москва и других городов не отличаются."
   ]
  }
 ],
 "metadata": {
  "ExecuteTimeLog": [
   {
    "duration": 634,
    "start_time": "2021-11-24T16:22:53.525Z"
   },
   {
    "duration": 3,
    "start_time": "2021-11-24T16:23:42.441Z"
   },
   {
    "duration": 164,
    "start_time": "2021-11-24T16:25:53.807Z"
   },
   {
    "duration": 595,
    "start_time": "2021-11-24T16:26:15.131Z"
   },
   {
    "duration": 161,
    "start_time": "2021-11-24T16:26:23.485Z"
   },
   {
    "duration": 134,
    "start_time": "2021-11-24T16:27:03.998Z"
   },
   {
    "duration": 339,
    "start_time": "2021-11-24T16:53:38.721Z"
   },
   {
    "duration": 376,
    "start_time": "2021-11-24T16:53:50.749Z"
   },
   {
    "duration": 88,
    "start_time": "2021-11-24T16:54:11.557Z"
   },
   {
    "duration": 148,
    "start_time": "2021-11-24T16:55:58.354Z"
   },
   {
    "duration": 130,
    "start_time": "2021-11-24T16:56:25.039Z"
   },
   {
    "duration": 22,
    "start_time": "2021-11-24T16:58:15.958Z"
   },
   {
    "duration": 21,
    "start_time": "2021-11-24T16:58:53.139Z"
   },
   {
    "duration": 34,
    "start_time": "2021-11-24T17:00:15.905Z"
   },
   {
    "duration": 35,
    "start_time": "2021-11-24T17:01:09.426Z"
   },
   {
    "duration": 19,
    "start_time": "2021-11-24T17:11:55.688Z"
   },
   {
    "duration": 18,
    "start_time": "2021-11-24T17:23:06.614Z"
   },
   {
    "duration": 93,
    "start_time": "2021-11-24T17:31:11.360Z"
   },
   {
    "duration": 14,
    "start_time": "2021-11-24T17:31:14.151Z"
   },
   {
    "duration": 16,
    "start_time": "2021-11-24T17:31:38.766Z"
   },
   {
    "duration": 136,
    "start_time": "2021-11-24T17:31:51.111Z"
   },
   {
    "duration": 22,
    "start_time": "2021-11-24T17:31:58.716Z"
   },
   {
    "duration": 165,
    "start_time": "2021-11-24T17:32:06.022Z"
   },
   {
    "duration": 14,
    "start_time": "2021-11-24T17:32:44.064Z"
   },
   {
    "duration": 112,
    "start_time": "2021-11-24T17:33:46.397Z"
   },
   {
    "duration": 6,
    "start_time": "2021-11-24T17:35:17.840Z"
   },
   {
    "duration": 7,
    "start_time": "2021-11-24T17:45:50.851Z"
   },
   {
    "duration": 352,
    "start_time": "2021-11-24T18:00:40.241Z"
   },
   {
    "duration": 329,
    "start_time": "2021-11-24T18:04:31.383Z"
   },
   {
    "duration": 97,
    "start_time": "2021-11-24T18:25:49.745Z"
   },
   {
    "duration": 96,
    "start_time": "2021-11-24T18:26:06.248Z"
   },
   {
    "duration": 117,
    "start_time": "2021-11-24T18:28:18.809Z"
   },
   {
    "duration": 101,
    "start_time": "2021-11-24T18:28:22.105Z"
   },
   {
    "duration": 109,
    "start_time": "2021-11-24T18:28:29.670Z"
   },
   {
    "duration": 98,
    "start_time": "2021-11-24T18:28:44.766Z"
   },
   {
    "duration": 105,
    "start_time": "2021-11-24T18:29:22.323Z"
   },
   {
    "duration": 111,
    "start_time": "2021-11-24T18:29:35.903Z"
   },
   {
    "duration": 99,
    "start_time": "2021-11-24T18:29:50.136Z"
   },
   {
    "duration": 97,
    "start_time": "2021-11-24T18:30:12.027Z"
   },
   {
    "duration": 115,
    "start_time": "2021-11-24T18:30:21.555Z"
   },
   {
    "duration": 108,
    "start_time": "2021-11-24T18:30:25.851Z"
   },
   {
    "duration": 95,
    "start_time": "2021-11-24T18:30:32.295Z"
   },
   {
    "duration": 102,
    "start_time": "2021-11-24T18:30:54.282Z"
   },
   {
    "duration": 412,
    "start_time": "2021-11-24T18:32:54.667Z"
   },
   {
    "duration": 761,
    "start_time": "2021-11-25T11:05:28.243Z"
   },
   {
    "duration": 234,
    "start_time": "2021-11-25T11:05:29.006Z"
   },
   {
    "duration": 34,
    "start_time": "2021-11-25T11:05:29.243Z"
   },
   {
    "duration": 191,
    "start_time": "2021-11-25T11:05:29.279Z"
   },
   {
    "duration": 37,
    "start_time": "2021-11-25T11:05:29.472Z"
   },
   {
    "duration": 124,
    "start_time": "2021-11-25T11:05:29.511Z"
   },
   {
    "duration": 17,
    "start_time": "2021-11-25T11:05:29.637Z"
   },
   {
    "duration": 23,
    "start_time": "2021-11-25T11:05:29.657Z"
   },
   {
    "duration": 8,
    "start_time": "2021-11-25T11:05:29.682Z"
   },
   {
    "duration": 75,
    "start_time": "2021-11-25T11:05:29.707Z"
   },
   {
    "duration": 6,
    "start_time": "2021-11-25T11:05:29.784Z"
   },
   {
    "duration": 439,
    "start_time": "2021-11-25T11:05:29.792Z"
   },
   {
    "duration": 351,
    "start_time": "2021-11-25T11:08:52.885Z"
   },
   {
    "duration": 345,
    "start_time": "2021-11-25T11:09:36.145Z"
   },
   {
    "duration": 333,
    "start_time": "2021-11-25T11:09:44.010Z"
   },
   {
    "duration": 4,
    "start_time": "2021-11-25T11:10:35.148Z"
   },
   {
    "duration": 232,
    "start_time": "2021-11-25T11:11:59.658Z"
   },
   {
    "duration": 214,
    "start_time": "2021-11-25T11:13:33.765Z"
   },
   {
    "duration": 224,
    "start_time": "2021-11-25T11:13:47.381Z"
   },
   {
    "duration": 249,
    "start_time": "2021-11-25T11:15:03.835Z"
   },
   {
    "duration": 435,
    "start_time": "2021-11-25T11:16:18.630Z"
   },
   {
    "duration": 322,
    "start_time": "2021-11-25T11:16:26.486Z"
   },
   {
    "duration": 475,
    "start_time": "2021-11-25T11:19:03.807Z"
   },
   {
    "duration": 227,
    "start_time": "2021-11-25T11:19:16.826Z"
   },
   {
    "duration": 217,
    "start_time": "2021-11-25T11:19:33.731Z"
   },
   {
    "duration": 224,
    "start_time": "2021-11-25T11:19:51.799Z"
   },
   {
    "duration": 12,
    "start_time": "2021-11-25T11:23:34.599Z"
   },
   {
    "duration": 214,
    "start_time": "2021-11-25T11:25:20.884Z"
   },
   {
    "duration": 209,
    "start_time": "2021-11-25T11:25:40.939Z"
   },
   {
    "duration": 121,
    "start_time": "2021-11-25T11:27:08.320Z"
   },
   {
    "duration": 4,
    "start_time": "2021-11-25T11:27:13.209Z"
   },
   {
    "duration": 4,
    "start_time": "2021-11-25T11:28:06.395Z"
   },
   {
    "duration": 337,
    "start_time": "2021-11-25T11:28:37.255Z"
   },
   {
    "duration": 451,
    "start_time": "2021-11-25T11:30:25.206Z"
   },
   {
    "duration": 11,
    "start_time": "2021-11-25T11:30:41.569Z"
   },
   {
    "duration": 674,
    "start_time": "2021-11-25T11:30:47.117Z"
   },
   {
    "duration": 327,
    "start_time": "2021-11-25T11:35:50.292Z"
   },
   {
    "duration": 438,
    "start_time": "2021-11-25T11:36:54.461Z"
   },
   {
    "duration": 225,
    "start_time": "2021-11-25T11:38:53.306Z"
   },
   {
    "duration": 4,
    "start_time": "2021-11-25T11:39:17.766Z"
   },
   {
    "duration": 117,
    "start_time": "2021-11-25T11:39:42.618Z"
   },
   {
    "duration": 356,
    "start_time": "2021-11-25T11:39:54.858Z"
   },
   {
    "duration": 118,
    "start_time": "2021-11-25T11:40:06.956Z"
   },
   {
    "duration": 183,
    "start_time": "2021-11-25T11:40:12.406Z"
   },
   {
    "duration": 1005,
    "start_time": "2021-11-25T11:43:17.317Z"
   },
   {
    "duration": 921,
    "start_time": "2021-11-25T11:46:05.866Z"
   },
   {
    "duration": 222,
    "start_time": "2021-11-25T11:46:13.667Z"
   },
   {
    "duration": 209,
    "start_time": "2021-11-25T11:46:40.413Z"
   },
   {
    "duration": 225,
    "start_time": "2021-11-25T11:47:11.187Z"
   },
   {
    "duration": 1153,
    "start_time": "2021-11-25T11:48:58.716Z"
   },
   {
    "duration": 351,
    "start_time": "2021-11-25T11:49:09.212Z"
   },
   {
    "duration": 3,
    "start_time": "2021-11-25T11:49:29.932Z"
   },
   {
    "duration": 205,
    "start_time": "2021-11-25T11:51:05.275Z"
   },
   {
    "duration": 354,
    "start_time": "2021-11-25T12:18:35.472Z"
   },
   {
    "duration": 21,
    "start_time": "2021-11-25T12:18:42.193Z"
   },
   {
    "duration": 617,
    "start_time": "2021-11-25T12:19:04.635Z"
   },
   {
    "duration": 30,
    "start_time": "2021-11-25T12:19:50.244Z"
   },
   {
    "duration": 18,
    "start_time": "2021-11-25T12:20:31.032Z"
   },
   {
    "duration": 32,
    "start_time": "2021-11-25T12:20:41.199Z"
   },
   {
    "duration": 2,
    "start_time": "2021-11-25T12:21:00.510Z"
   },
   {
    "duration": 19,
    "start_time": "2021-11-25T12:21:06.478Z"
   },
   {
    "duration": 32,
    "start_time": "2021-11-25T12:21:31.458Z"
   },
   {
    "duration": 11,
    "start_time": "2021-11-25T12:27:34.401Z"
   },
   {
    "duration": 8677,
    "start_time": "2021-11-25T12:27:39.483Z"
   },
   {
    "duration": 6,
    "start_time": "2021-11-25T12:27:51.810Z"
   },
   {
    "duration": 9956,
    "start_time": "2021-11-25T12:29:37.764Z"
   },
   {
    "duration": 2402,
    "start_time": "2021-11-25T12:30:26.021Z"
   },
   {
    "duration": 73,
    "start_time": "2021-11-25T12:31:07.995Z"
   },
   {
    "duration": 14,
    "start_time": "2021-11-25T12:32:13.869Z"
   },
   {
    "duration": 128,
    "start_time": "2021-11-25T12:33:22.022Z"
   },
   {
    "duration": 13,
    "start_time": "2021-11-25T12:33:27.116Z"
   },
   {
    "duration": 17,
    "start_time": "2021-11-25T12:44:27.630Z"
   },
   {
    "duration": 12,
    "start_time": "2021-11-25T12:44:29.374Z"
   },
   {
    "duration": 3,
    "start_time": "2021-11-25T12:47:18.434Z"
   },
   {
    "duration": 658,
    "start_time": "2021-11-25T12:47:27.005Z"
   },
   {
    "duration": 159,
    "start_time": "2021-11-25T12:47:27.665Z"
   },
   {
    "duration": 21,
    "start_time": "2021-11-25T12:47:27.826Z"
   },
   {
    "duration": 145,
    "start_time": "2021-11-25T12:47:27.849Z"
   },
   {
    "duration": 18,
    "start_time": "2021-11-25T12:47:27.996Z"
   },
   {
    "duration": 95,
    "start_time": "2021-11-25T12:47:28.016Z"
   },
   {
    "duration": 16,
    "start_time": "2021-11-25T12:47:28.113Z"
   },
   {
    "duration": 40,
    "start_time": "2021-11-25T12:47:28.132Z"
   },
   {
    "duration": 14,
    "start_time": "2021-11-25T12:47:28.174Z"
   },
   {
    "duration": 47,
    "start_time": "2021-11-25T12:47:28.190Z"
   },
   {
    "duration": 6,
    "start_time": "2021-11-25T12:47:28.239Z"
   },
   {
    "duration": 216,
    "start_time": "2021-11-25T12:47:28.247Z"
   },
   {
    "duration": 68,
    "start_time": "2021-11-25T12:47:28.465Z"
   },
   {
    "duration": 14,
    "start_time": "2021-11-25T12:47:28.535Z"
   },
   {
    "duration": 120,
    "start_time": "2021-11-25T12:52:25.064Z"
   },
   {
    "duration": 13,
    "start_time": "2021-11-25T12:52:35.524Z"
   },
   {
    "duration": 16,
    "start_time": "2021-11-25T12:52:51.664Z"
   },
   {
    "duration": 18,
    "start_time": "2021-11-25T12:53:08.841Z"
   },
   {
    "duration": 11,
    "start_time": "2021-11-25T12:57:51.133Z"
   },
   {
    "duration": 10,
    "start_time": "2021-11-25T12:58:01.191Z"
   },
   {
    "duration": 9,
    "start_time": "2021-11-25T12:58:26.947Z"
   },
   {
    "duration": 588,
    "start_time": "2021-11-25T12:58:33.358Z"
   },
   {
    "duration": 164,
    "start_time": "2021-11-25T12:58:33.948Z"
   },
   {
    "duration": 21,
    "start_time": "2021-11-25T12:58:34.114Z"
   },
   {
    "duration": 146,
    "start_time": "2021-11-25T12:58:34.137Z"
   },
   {
    "duration": 17,
    "start_time": "2021-11-25T12:58:34.285Z"
   },
   {
    "duration": 95,
    "start_time": "2021-11-25T12:58:34.307Z"
   },
   {
    "duration": 14,
    "start_time": "2021-11-25T12:58:34.404Z"
   },
   {
    "duration": 35,
    "start_time": "2021-11-25T12:58:34.421Z"
   },
   {
    "duration": 24,
    "start_time": "2021-11-25T12:58:34.459Z"
   },
   {
    "duration": 50,
    "start_time": "2021-11-25T12:58:34.485Z"
   },
   {
    "duration": 52,
    "start_time": "2021-11-25T12:58:34.536Z"
   },
   {
    "duration": 197,
    "start_time": "2021-11-25T12:58:34.590Z"
   },
   {
    "duration": 69,
    "start_time": "2021-11-25T12:58:34.788Z"
   },
   {
    "duration": 13,
    "start_time": "2021-11-25T12:58:34.858Z"
   },
   {
    "duration": 9,
    "start_time": "2021-11-25T12:58:34.872Z"
   },
   {
    "duration": 134,
    "start_time": "2021-11-25T12:58:34.883Z"
   },
   {
    "duration": 8,
    "start_time": "2021-11-25T12:58:35.019Z"
   },
   {
    "duration": 10,
    "start_time": "2021-11-25T12:58:59.981Z"
   },
   {
    "duration": 654,
    "start_time": "2021-11-25T12:59:06.402Z"
   },
   {
    "duration": 174,
    "start_time": "2021-11-25T12:59:07.058Z"
   },
   {
    "duration": 23,
    "start_time": "2021-11-25T12:59:07.234Z"
   },
   {
    "duration": 154,
    "start_time": "2021-11-25T12:59:07.259Z"
   },
   {
    "duration": 19,
    "start_time": "2021-11-25T12:59:07.415Z"
   },
   {
    "duration": 97,
    "start_time": "2021-11-25T12:59:07.436Z"
   },
   {
    "duration": 15,
    "start_time": "2021-11-25T12:59:07.535Z"
   },
   {
    "duration": 27,
    "start_time": "2021-11-25T12:59:07.552Z"
   },
   {
    "duration": 17,
    "start_time": "2021-11-25T12:59:07.582Z"
   },
   {
    "duration": 49,
    "start_time": "2021-11-25T12:59:07.601Z"
   },
   {
    "duration": 7,
    "start_time": "2021-11-25T12:59:07.652Z"
   },
   {
    "duration": 232,
    "start_time": "2021-11-25T12:59:07.660Z"
   },
   {
    "duration": 81,
    "start_time": "2021-11-25T12:59:07.894Z"
   },
   {
    "duration": 13,
    "start_time": "2021-11-25T12:59:07.977Z"
   },
   {
    "duration": 15,
    "start_time": "2021-11-25T12:59:08.007Z"
   },
   {
    "duration": 182,
    "start_time": "2021-11-25T12:59:08.024Z"
   },
   {
    "duration": 14,
    "start_time": "2021-11-25T12:59:08.208Z"
   },
   {
    "duration": 602,
    "start_time": "2021-11-25T13:17:18.030Z"
   },
   {
    "duration": 175,
    "start_time": "2021-11-25T13:17:18.634Z"
   },
   {
    "duration": 21,
    "start_time": "2021-11-25T13:17:18.811Z"
   },
   {
    "duration": 138,
    "start_time": "2021-11-25T13:17:18.834Z"
   },
   {
    "duration": 17,
    "start_time": "2021-11-25T13:17:18.974Z"
   },
   {
    "duration": 92,
    "start_time": "2021-11-25T13:17:18.993Z"
   },
   {
    "duration": 22,
    "start_time": "2021-11-25T13:17:19.087Z"
   },
   {
    "duration": 22,
    "start_time": "2021-11-25T13:17:19.112Z"
   },
   {
    "duration": 11,
    "start_time": "2021-11-25T13:17:19.136Z"
   },
   {
    "duration": 69,
    "start_time": "2021-11-25T13:17:19.148Z"
   },
   {
    "duration": 6,
    "start_time": "2021-11-25T13:17:19.219Z"
   },
   {
    "duration": 223,
    "start_time": "2021-11-25T13:17:19.227Z"
   },
   {
    "duration": 75,
    "start_time": "2021-11-25T13:17:19.452Z"
   },
   {
    "duration": 12,
    "start_time": "2021-11-25T13:17:19.528Z"
   },
   {
    "duration": 16,
    "start_time": "2021-11-25T13:17:19.542Z"
   },
   {
    "duration": 5,
    "start_time": "2021-11-25T13:17:19.560Z"
   },
   {
    "duration": 77,
    "start_time": "2021-11-25T13:17:19.567Z"
   },
   {
    "duration": 9,
    "start_time": "2021-11-25T13:17:19.645Z"
   },
   {
    "duration": 95,
    "start_time": "2021-11-25T13:23:12.657Z"
   },
   {
    "duration": 91,
    "start_time": "2021-11-25T13:23:20.659Z"
   },
   {
    "duration": 176,
    "start_time": "2021-11-25T13:24:33.538Z"
   },
   {
    "duration": 243,
    "start_time": "2021-11-25T13:25:27.639Z"
   },
   {
    "duration": 624,
    "start_time": "2021-11-25T13:26:05.123Z"
   },
   {
    "duration": 169,
    "start_time": "2021-11-25T13:26:05.749Z"
   },
   {
    "duration": 22,
    "start_time": "2021-11-25T13:26:05.920Z"
   },
   {
    "duration": 141,
    "start_time": "2021-11-25T13:26:05.944Z"
   },
   {
    "duration": 26,
    "start_time": "2021-11-25T13:26:06.087Z"
   },
   {
    "duration": 92,
    "start_time": "2021-11-25T13:26:06.115Z"
   },
   {
    "duration": 14,
    "start_time": "2021-11-25T13:26:06.209Z"
   },
   {
    "duration": 24,
    "start_time": "2021-11-25T13:26:06.225Z"
   },
   {
    "duration": 16,
    "start_time": "2021-11-25T13:26:06.251Z"
   },
   {
    "duration": 83,
    "start_time": "2021-11-25T13:26:06.268Z"
   },
   {
    "duration": 26,
    "start_time": "2021-11-25T13:26:06.353Z"
   },
   {
    "duration": 211,
    "start_time": "2021-11-25T13:26:06.381Z"
   },
   {
    "duration": 71,
    "start_time": "2021-11-25T13:26:06.594Z"
   },
   {
    "duration": 13,
    "start_time": "2021-11-25T13:26:06.667Z"
   },
   {
    "duration": 27,
    "start_time": "2021-11-25T13:26:06.682Z"
   },
   {
    "duration": 4,
    "start_time": "2021-11-25T13:26:06.712Z"
   },
   {
    "duration": 74,
    "start_time": "2021-11-25T13:26:06.718Z"
   },
   {
    "duration": 9,
    "start_time": "2021-11-25T13:26:06.806Z"
   },
   {
    "duration": 56,
    "start_time": "2021-11-25T13:27:17.882Z"
   },
   {
    "duration": 1655,
    "start_time": "2021-11-25T13:27:25.812Z"
   },
   {
    "duration": 1371,
    "start_time": "2021-11-25T13:27:27.469Z"
   },
   {
    "duration": 22,
    "start_time": "2021-11-25T13:27:28.842Z"
   },
   {
    "duration": 178,
    "start_time": "2021-11-25T13:27:28.867Z"
   },
   {
    "duration": 18,
    "start_time": "2021-11-25T13:27:29.047Z"
   },
   {
    "duration": 105,
    "start_time": "2021-11-25T13:27:29.067Z"
   },
   {
    "duration": 15,
    "start_time": "2021-11-25T13:27:29.174Z"
   },
   {
    "duration": 23,
    "start_time": "2021-11-25T13:27:29.191Z"
   },
   {
    "duration": 9,
    "start_time": "2021-11-25T13:27:29.215Z"
   },
   {
    "duration": 90,
    "start_time": "2021-11-25T13:27:29.226Z"
   },
   {
    "duration": 7,
    "start_time": "2021-11-25T13:27:29.318Z"
   },
   {
    "duration": 220,
    "start_time": "2021-11-25T13:27:29.326Z"
   },
   {
    "duration": 72,
    "start_time": "2021-11-25T13:27:29.548Z"
   },
   {
    "duration": 13,
    "start_time": "2021-11-25T13:27:29.622Z"
   },
   {
    "duration": 3,
    "start_time": "2021-11-25T13:27:29.637Z"
   },
   {
    "duration": 83,
    "start_time": "2021-11-25T13:27:29.642Z"
   },
   {
    "duration": 40,
    "start_time": "2021-11-25T13:34:36.097Z"
   },
   {
    "duration": 26,
    "start_time": "2021-11-25T13:35:05.826Z"
   },
   {
    "duration": 26,
    "start_time": "2021-11-25T13:42:32.361Z"
   },
   {
    "duration": 14,
    "start_time": "2021-11-25T13:51:23.585Z"
   },
   {
    "duration": 123,
    "start_time": "2021-11-25T13:55:35.257Z"
   },
   {
    "duration": 14,
    "start_time": "2021-11-25T14:02:46.300Z"
   },
   {
    "duration": 169,
    "start_time": "2021-11-25T14:05:10.338Z"
   },
   {
    "duration": 631,
    "start_time": "2021-11-25T14:05:28.685Z"
   },
   {
    "duration": 174,
    "start_time": "2021-11-25T14:05:29.318Z"
   },
   {
    "duration": 29,
    "start_time": "2021-11-25T14:05:29.495Z"
   },
   {
    "duration": 132,
    "start_time": "2021-11-25T14:05:29.526Z"
   },
   {
    "duration": 16,
    "start_time": "2021-11-25T14:05:29.660Z"
   },
   {
    "duration": 104,
    "start_time": "2021-11-25T14:05:29.677Z"
   },
   {
    "duration": 26,
    "start_time": "2021-11-25T14:05:29.783Z"
   },
   {
    "duration": 22,
    "start_time": "2021-11-25T14:05:29.812Z"
   },
   {
    "duration": 6,
    "start_time": "2021-11-25T14:05:29.836Z"
   },
   {
    "duration": 66,
    "start_time": "2021-11-25T14:05:29.843Z"
   },
   {
    "duration": 6,
    "start_time": "2021-11-25T14:05:29.911Z"
   },
   {
    "duration": 219,
    "start_time": "2021-11-25T14:05:29.918Z"
   },
   {
    "duration": 70,
    "start_time": "2021-11-25T14:05:30.138Z"
   },
   {
    "duration": 12,
    "start_time": "2021-11-25T14:05:30.210Z"
   },
   {
    "duration": 22,
    "start_time": "2021-11-25T14:05:30.224Z"
   },
   {
    "duration": 81,
    "start_time": "2021-11-25T14:05:30.248Z"
   },
   {
    "duration": 29,
    "start_time": "2021-11-25T14:05:30.331Z"
   },
   {
    "duration": 28,
    "start_time": "2021-11-25T14:05:30.363Z"
   },
   {
    "duration": 14,
    "start_time": "2021-11-25T14:05:30.407Z"
   },
   {
    "duration": 32,
    "start_time": "2021-11-25T14:05:30.422Z"
   },
   {
    "duration": 627,
    "start_time": "2021-11-25T14:09:49.091Z"
   },
   {
    "duration": 165,
    "start_time": "2021-11-25T14:09:49.720Z"
   },
   {
    "duration": 19,
    "start_time": "2021-11-25T14:09:49.887Z"
   },
   {
    "duration": 142,
    "start_time": "2021-11-25T14:09:49.909Z"
   },
   {
    "duration": 16,
    "start_time": "2021-11-25T14:09:50.053Z"
   },
   {
    "duration": 108,
    "start_time": "2021-11-25T14:09:50.071Z"
   },
   {
    "duration": 13,
    "start_time": "2021-11-25T14:09:50.181Z"
   },
   {
    "duration": 35,
    "start_time": "2021-11-25T14:09:50.197Z"
   },
   {
    "duration": 26,
    "start_time": "2021-11-25T14:09:50.234Z"
   },
   {
    "duration": 60,
    "start_time": "2021-11-25T14:09:50.262Z"
   },
   {
    "duration": 13,
    "start_time": "2021-11-25T14:09:50.323Z"
   },
   {
    "duration": 218,
    "start_time": "2021-11-25T14:09:50.338Z"
   },
   {
    "duration": 69,
    "start_time": "2021-11-25T14:09:50.558Z"
   },
   {
    "duration": 12,
    "start_time": "2021-11-25T14:09:50.629Z"
   },
   {
    "duration": 3,
    "start_time": "2021-11-25T14:09:50.643Z"
   },
   {
    "duration": 94,
    "start_time": "2021-11-25T14:09:50.648Z"
   },
   {
    "duration": 30,
    "start_time": "2021-11-25T14:09:50.744Z"
   },
   {
    "duration": 46,
    "start_time": "2021-11-25T14:09:50.776Z"
   },
   {
    "duration": 16,
    "start_time": "2021-11-25T14:09:50.824Z"
   },
   {
    "duration": 19,
    "start_time": "2021-11-25T14:09:50.842Z"
   },
   {
    "duration": 11,
    "start_time": "2021-11-25T14:16:16.157Z"
   },
   {
    "duration": 415,
    "start_time": "2021-11-25T14:17:32.296Z"
   },
   {
    "duration": 25,
    "start_time": "2021-11-25T14:17:47.800Z"
   },
   {
    "duration": 23,
    "start_time": "2021-11-25T14:19:01.564Z"
   },
   {
    "duration": 13,
    "start_time": "2021-11-25T14:19:09.342Z"
   },
   {
    "duration": 373,
    "start_time": "2021-11-25T16:47:59.868Z"
   },
   {
    "duration": 2435,
    "start_time": "2021-11-25T16:50:17.157Z"
   },
   {
    "duration": 2369,
    "start_time": "2021-11-25T16:50:47.758Z"
   },
   {
    "duration": 2322,
    "start_time": "2021-11-25T16:51:42.588Z"
   },
   {
    "duration": 2556,
    "start_time": "2021-11-25T16:51:56.784Z"
   },
   {
    "duration": 361,
    "start_time": "2021-11-25T17:04:07.483Z"
   },
   {
    "duration": 606,
    "start_time": "2021-11-25T17:04:50.252Z"
   },
   {
    "duration": 172,
    "start_time": "2021-11-25T17:04:50.860Z"
   },
   {
    "duration": 35,
    "start_time": "2021-11-25T17:04:51.035Z"
   },
   {
    "duration": 228,
    "start_time": "2021-11-25T17:04:51.073Z"
   },
   {
    "duration": 18,
    "start_time": "2021-11-25T17:04:51.304Z"
   },
   {
    "duration": 105,
    "start_time": "2021-11-25T17:04:51.323Z"
   },
   {
    "duration": 17,
    "start_time": "2021-11-25T17:04:51.430Z"
   },
   {
    "duration": 41,
    "start_time": "2021-11-25T17:04:51.451Z"
   },
   {
    "duration": 28,
    "start_time": "2021-11-25T17:04:51.494Z"
   },
   {
    "duration": 87,
    "start_time": "2021-11-25T17:04:51.524Z"
   },
   {
    "duration": 19,
    "start_time": "2021-11-25T17:04:51.612Z"
   },
   {
    "duration": 228,
    "start_time": "2021-11-25T17:04:51.633Z"
   },
   {
    "duration": 72,
    "start_time": "2021-11-25T17:04:51.863Z"
   },
   {
    "duration": 12,
    "start_time": "2021-11-25T17:04:51.937Z"
   },
   {
    "duration": 26,
    "start_time": "2021-11-25T17:04:51.950Z"
   },
   {
    "duration": 92,
    "start_time": "2021-11-25T17:04:51.978Z"
   },
   {
    "duration": 39,
    "start_time": "2021-11-25T17:04:52.072Z"
   },
   {
    "duration": 28,
    "start_time": "2021-11-25T17:04:52.113Z"
   },
   {
    "duration": 16,
    "start_time": "2021-11-25T17:04:52.143Z"
   },
   {
    "duration": 31,
    "start_time": "2021-11-25T17:04:52.160Z"
   },
   {
    "duration": 17,
    "start_time": "2021-11-25T17:04:52.193Z"
   },
   {
    "duration": 8825,
    "start_time": "2021-11-25T17:04:52.212Z"
   },
   {
    "duration": -39327,
    "start_time": "2021-11-25T17:05:40.366Z"
   },
   {
    "duration": 67,
    "start_time": "2021-11-25T17:06:14.152Z"
   },
   {
    "duration": 2342,
    "start_time": "2021-11-25T17:06:30.651Z"
   },
   {
    "duration": 2329,
    "start_time": "2021-11-25T17:06:56.016Z"
   },
   {
    "duration": 2342,
    "start_time": "2021-11-25T17:08:01.791Z"
   },
   {
    "duration": 67,
    "start_time": "2021-11-25T17:09:10.686Z"
   },
   {
    "duration": 73,
    "start_time": "2021-11-25T17:09:15.932Z"
   },
   {
    "duration": 74,
    "start_time": "2021-11-25T17:11:23.190Z"
   },
   {
    "duration": 731,
    "start_time": "2021-11-25T17:11:28.624Z"
   },
   {
    "duration": 164,
    "start_time": "2021-11-25T17:11:29.357Z"
   },
   {
    "duration": 19,
    "start_time": "2021-11-25T17:11:29.525Z"
   },
   {
    "duration": 144,
    "start_time": "2021-11-25T17:11:29.546Z"
   },
   {
    "duration": 16,
    "start_time": "2021-11-25T17:11:29.691Z"
   },
   {
    "duration": 91,
    "start_time": "2021-11-25T17:11:29.708Z"
   },
   {
    "duration": 14,
    "start_time": "2021-11-25T17:11:29.806Z"
   },
   {
    "duration": 21,
    "start_time": "2021-11-25T17:11:29.822Z"
   },
   {
    "duration": 9,
    "start_time": "2021-11-25T17:11:29.845Z"
   },
   {
    "duration": 71,
    "start_time": "2021-11-25T17:11:29.855Z"
   },
   {
    "duration": 6,
    "start_time": "2021-11-25T17:11:29.928Z"
   },
   {
    "duration": 210,
    "start_time": "2021-11-25T17:11:29.935Z"
   },
   {
    "duration": 67,
    "start_time": "2021-11-25T17:11:30.147Z"
   },
   {
    "duration": 13,
    "start_time": "2021-11-25T17:11:30.216Z"
   },
   {
    "duration": 28,
    "start_time": "2021-11-25T17:11:30.231Z"
   },
   {
    "duration": 113,
    "start_time": "2021-11-25T17:11:30.261Z"
   },
   {
    "duration": 37,
    "start_time": "2021-11-25T17:11:30.376Z"
   },
   {
    "duration": 34,
    "start_time": "2021-11-25T17:11:30.415Z"
   },
   {
    "duration": 16,
    "start_time": "2021-11-25T17:11:30.451Z"
   },
   {
    "duration": 50,
    "start_time": "2021-11-25T17:11:30.470Z"
   },
   {
    "duration": 117,
    "start_time": "2021-11-25T17:11:30.522Z"
   },
   {
    "duration": 3,
    "start_time": "2021-11-25T17:11:30.644Z"
   },
   {
    "duration": 32,
    "start_time": "2021-11-25T17:11:30.650Z"
   },
   {
    "duration": 23,
    "start_time": "2021-11-25T17:11:40.048Z"
   },
   {
    "duration": 135,
    "start_time": "2021-11-25T17:17:37.282Z"
   },
   {
    "duration": 441,
    "start_time": "2021-11-25T17:18:11.334Z"
   },
   {
    "duration": 421,
    "start_time": "2021-11-25T17:18:17.175Z"
   },
   {
    "duration": 359,
    "start_time": "2021-11-25T17:18:25.654Z"
   },
   {
    "duration": 327,
    "start_time": "2021-11-25T17:18:50.819Z"
   },
   {
    "duration": 645,
    "start_time": "2021-11-25T17:19:26.101Z"
   },
   {
    "duration": 168,
    "start_time": "2021-11-25T17:19:26.748Z"
   },
   {
    "duration": 21,
    "start_time": "2021-11-25T17:19:26.919Z"
   },
   {
    "duration": 153,
    "start_time": "2021-11-25T17:19:26.942Z"
   },
   {
    "duration": 17,
    "start_time": "2021-11-25T17:19:27.097Z"
   },
   {
    "duration": 163,
    "start_time": "2021-11-25T17:19:27.116Z"
   },
   {
    "duration": 29,
    "start_time": "2021-11-25T17:19:27.281Z"
   },
   {
    "duration": 47,
    "start_time": "2021-11-25T17:19:27.314Z"
   },
   {
    "duration": 8,
    "start_time": "2021-11-25T17:19:27.364Z"
   },
   {
    "duration": 60,
    "start_time": "2021-11-25T17:19:27.374Z"
   },
   {
    "duration": 15,
    "start_time": "2021-11-25T17:19:27.436Z"
   },
   {
    "duration": 230,
    "start_time": "2021-11-25T17:19:27.453Z"
   },
   {
    "duration": 68,
    "start_time": "2021-11-25T17:19:27.685Z"
   },
   {
    "duration": 12,
    "start_time": "2021-11-25T17:19:27.755Z"
   },
   {
    "duration": 14,
    "start_time": "2021-11-25T17:19:27.769Z"
   },
   {
    "duration": 112,
    "start_time": "2021-11-25T17:19:27.785Z"
   },
   {
    "duration": 29,
    "start_time": "2021-11-25T17:19:27.898Z"
   },
   {
    "duration": 28,
    "start_time": "2021-11-25T17:19:27.929Z"
   },
   {
    "duration": 17,
    "start_time": "2021-11-25T17:19:27.959Z"
   },
   {
    "duration": 24,
    "start_time": "2021-11-25T17:19:27.978Z"
   },
   {
    "duration": 135,
    "start_time": "2021-11-25T17:19:41.148Z"
   },
   {
    "duration": 98,
    "start_time": "2021-11-25T17:19:42.061Z"
   },
   {
    "duration": 86,
    "start_time": "2021-11-25T17:19:49.566Z"
   },
   {
    "duration": 88,
    "start_time": "2021-11-25T17:20:26.912Z"
   },
   {
    "duration": 88,
    "start_time": "2021-11-25T17:22:23.707Z"
   },
   {
    "duration": 519,
    "start_time": "2021-11-25T17:22:58.158Z"
   },
   {
    "duration": 95,
    "start_time": "2021-11-25T17:23:07.143Z"
   },
   {
    "duration": 52,
    "start_time": "2021-11-25T17:25:24.460Z"
   },
   {
    "duration": 418,
    "start_time": "2021-11-25T17:27:31.750Z"
   },
   {
    "duration": 50,
    "start_time": "2021-11-25T17:27:50.228Z"
   },
   {
    "duration": 36,
    "start_time": "2021-11-25T17:29:21.931Z"
   },
   {
    "duration": 105,
    "start_time": "2021-11-25T17:37:48.734Z"
   },
   {
    "duration": 397,
    "start_time": "2021-11-25T17:37:59.856Z"
   },
   {
    "duration": 380,
    "start_time": "2021-11-25T17:40:30.778Z"
   },
   {
    "duration": 14,
    "start_time": "2021-11-25T17:40:51.209Z"
   },
   {
    "duration": 495,
    "start_time": "2021-11-25T17:43:00.131Z"
   },
   {
    "duration": 76,
    "start_time": "2021-11-25T17:43:21.127Z"
   },
   {
    "duration": 64,
    "start_time": "2021-11-25T17:43:30.281Z"
   },
   {
    "duration": 73,
    "start_time": "2021-11-25T17:43:37.438Z"
   },
   {
    "duration": 75,
    "start_time": "2021-11-25T17:44:17.782Z"
   },
   {
    "duration": 70,
    "start_time": "2021-11-25T17:44:33.186Z"
   },
   {
    "duration": 75,
    "start_time": "2021-11-25T17:44:51.964Z"
   },
   {
    "duration": 73,
    "start_time": "2021-11-25T17:45:03.114Z"
   },
   {
    "duration": 75,
    "start_time": "2021-11-25T17:45:06.386Z"
   },
   {
    "duration": 47,
    "start_time": "2021-11-25T17:46:01.829Z"
   },
   {
    "duration": 49,
    "start_time": "2021-11-25T17:46:12.943Z"
   },
   {
    "duration": 43,
    "start_time": "2021-11-25T17:46:25.196Z"
   },
   {
    "duration": 46,
    "start_time": "2021-11-25T17:46:47.887Z"
   },
   {
    "duration": 695,
    "start_time": "2021-11-25T17:48:07.594Z"
   },
   {
    "duration": 186,
    "start_time": "2021-11-25T17:48:08.291Z"
   },
   {
    "duration": 31,
    "start_time": "2021-11-25T17:48:08.479Z"
   },
   {
    "duration": 150,
    "start_time": "2021-11-25T17:48:08.512Z"
   },
   {
    "duration": 19,
    "start_time": "2021-11-25T17:48:08.665Z"
   },
   {
    "duration": 103,
    "start_time": "2021-11-25T17:48:08.686Z"
   },
   {
    "duration": 21,
    "start_time": "2021-11-25T17:48:08.791Z"
   },
   {
    "duration": 25,
    "start_time": "2021-11-25T17:48:08.816Z"
   },
   {
    "duration": 17,
    "start_time": "2021-11-25T17:48:08.844Z"
   },
   {
    "duration": 61,
    "start_time": "2021-11-25T17:48:08.864Z"
   },
   {
    "duration": 7,
    "start_time": "2021-11-25T17:48:08.927Z"
   },
   {
    "duration": 281,
    "start_time": "2021-11-25T17:48:08.936Z"
   },
   {
    "duration": 118,
    "start_time": "2021-11-25T17:48:09.219Z"
   },
   {
    "duration": 22,
    "start_time": "2021-11-25T17:48:09.340Z"
   },
   {
    "duration": 9,
    "start_time": "2021-11-25T17:48:09.365Z"
   },
   {
    "duration": 139,
    "start_time": "2021-11-25T17:48:09.377Z"
   },
   {
    "duration": 44,
    "start_time": "2021-11-25T17:48:09.519Z"
   },
   {
    "duration": 42,
    "start_time": "2021-11-25T17:48:09.565Z"
   },
   {
    "duration": 14,
    "start_time": "2021-11-25T17:48:09.609Z"
   },
   {
    "duration": 22,
    "start_time": "2021-11-25T17:48:09.625Z"
   },
   {
    "duration": 90,
    "start_time": "2021-11-25T17:48:09.649Z"
   },
   {
    "duration": 15,
    "start_time": "2021-11-25T17:48:09.741Z"
   },
   {
    "duration": 75,
    "start_time": "2021-11-25T17:48:09.759Z"
   },
   {
    "duration": 2,
    "start_time": "2021-11-25T17:48:09.836Z"
   },
   {
    "duration": 31,
    "start_time": "2021-11-25T17:48:09.840Z"
   },
   {
    "duration": 656,
    "start_time": "2021-11-25T17:48:27.600Z"
   },
   {
    "duration": 172,
    "start_time": "2021-11-25T17:48:28.259Z"
   },
   {
    "duration": 23,
    "start_time": "2021-11-25T17:48:28.435Z"
   },
   {
    "duration": 155,
    "start_time": "2021-11-25T17:48:28.459Z"
   },
   {
    "duration": 20,
    "start_time": "2021-11-25T17:48:28.616Z"
   },
   {
    "duration": 106,
    "start_time": "2021-11-25T17:48:28.638Z"
   },
   {
    "duration": 15,
    "start_time": "2021-11-25T17:48:28.747Z"
   },
   {
    "duration": 44,
    "start_time": "2021-11-25T17:48:28.764Z"
   },
   {
    "duration": 18,
    "start_time": "2021-11-25T17:48:28.809Z"
   },
   {
    "duration": 70,
    "start_time": "2021-11-25T17:48:28.828Z"
   },
   {
    "duration": 25,
    "start_time": "2021-11-25T17:48:28.900Z"
   },
   {
    "duration": 222,
    "start_time": "2021-11-25T17:48:28.927Z"
   },
   {
    "duration": 71,
    "start_time": "2021-11-25T17:48:29.151Z"
   },
   {
    "duration": 14,
    "start_time": "2021-11-25T17:48:29.224Z"
   },
   {
    "duration": 2,
    "start_time": "2021-11-25T17:48:29.241Z"
   },
   {
    "duration": 86,
    "start_time": "2021-11-25T17:48:29.245Z"
   },
   {
    "duration": 29,
    "start_time": "2021-11-25T17:48:29.334Z"
   },
   {
    "duration": 51,
    "start_time": "2021-11-25T17:48:29.365Z"
   },
   {
    "duration": 14,
    "start_time": "2021-11-25T17:48:29.419Z"
   },
   {
    "duration": 15,
    "start_time": "2021-11-25T17:48:29.435Z"
   },
   {
    "duration": 98,
    "start_time": "2021-11-25T17:48:29.451Z"
   },
   {
    "duration": 15,
    "start_time": "2021-11-25T17:48:29.552Z"
   },
   {
    "duration": 82,
    "start_time": "2021-11-25T17:48:29.569Z"
   },
   {
    "duration": 3,
    "start_time": "2021-11-25T17:48:29.652Z"
   },
   {
    "duration": 8,
    "start_time": "2021-11-25T17:48:29.656Z"
   },
   {
    "duration": 635,
    "start_time": "2021-11-25T17:48:44.210Z"
   },
   {
    "duration": 177,
    "start_time": "2021-11-25T17:48:44.847Z"
   },
   {
    "duration": 21,
    "start_time": "2021-11-25T17:48:45.029Z"
   },
   {
    "duration": 147,
    "start_time": "2021-11-25T17:48:45.052Z"
   },
   {
    "duration": 21,
    "start_time": "2021-11-25T17:48:45.201Z"
   },
   {
    "duration": 98,
    "start_time": "2021-11-25T17:48:45.223Z"
   },
   {
    "duration": 14,
    "start_time": "2021-11-25T17:48:45.324Z"
   },
   {
    "duration": 23,
    "start_time": "2021-11-25T17:48:45.340Z"
   },
   {
    "duration": 8,
    "start_time": "2021-11-25T17:48:45.365Z"
   },
   {
    "duration": 49,
    "start_time": "2021-11-25T17:48:45.375Z"
   },
   {
    "duration": 7,
    "start_time": "2021-11-25T17:48:45.426Z"
   },
   {
    "duration": 226,
    "start_time": "2021-11-25T17:48:45.435Z"
   },
   {
    "duration": 74,
    "start_time": "2021-11-25T17:48:45.663Z"
   },
   {
    "duration": 13,
    "start_time": "2021-11-25T17:48:45.739Z"
   },
   {
    "duration": 3,
    "start_time": "2021-11-25T17:48:45.754Z"
   },
   {
    "duration": 88,
    "start_time": "2021-11-25T17:48:45.759Z"
   },
   {
    "duration": 32,
    "start_time": "2021-11-25T17:48:45.849Z"
   },
   {
    "duration": 40,
    "start_time": "2021-11-25T17:48:45.884Z"
   },
   {
    "duration": 13,
    "start_time": "2021-11-25T17:48:45.926Z"
   },
   {
    "duration": 19,
    "start_time": "2021-11-25T17:48:45.941Z"
   },
   {
    "duration": 93,
    "start_time": "2021-11-25T17:48:45.962Z"
   },
   {
    "duration": 16,
    "start_time": "2021-11-25T17:48:46.058Z"
   },
   {
    "duration": 73,
    "start_time": "2021-11-25T17:48:46.076Z"
   },
   {
    "duration": 2,
    "start_time": "2021-11-25T17:48:46.151Z"
   },
   {
    "duration": 8,
    "start_time": "2021-11-25T17:48:46.155Z"
   },
   {
    "duration": 33,
    "start_time": "2021-11-25T17:48:55.534Z"
   },
   {
    "duration": 23,
    "start_time": "2021-11-25T17:50:02.919Z"
   },
   {
    "duration": 10,
    "start_time": "2021-11-25T17:50:14.472Z"
   },
   {
    "duration": 610,
    "start_time": "2021-11-25T17:53:21.825Z"
   },
   {
    "duration": 166,
    "start_time": "2021-11-25T17:53:22.438Z"
   },
   {
    "duration": 21,
    "start_time": "2021-11-25T17:53:22.606Z"
   },
   {
    "duration": 217,
    "start_time": "2021-11-25T17:53:22.629Z"
   },
   {
    "duration": 29,
    "start_time": "2021-11-25T17:53:22.848Z"
   },
   {
    "duration": 144,
    "start_time": "2021-11-25T17:53:22.880Z"
   },
   {
    "duration": 24,
    "start_time": "2021-11-25T17:53:23.026Z"
   },
   {
    "duration": 31,
    "start_time": "2021-11-25T17:53:23.054Z"
   },
   {
    "duration": 18,
    "start_time": "2021-11-25T17:53:23.089Z"
   },
   {
    "duration": 56,
    "start_time": "2021-11-25T17:53:23.110Z"
   },
   {
    "duration": 9,
    "start_time": "2021-11-25T17:53:23.169Z"
   },
   {
    "duration": 355,
    "start_time": "2021-11-25T17:53:23.180Z"
   },
   {
    "duration": 113,
    "start_time": "2021-11-25T17:53:23.537Z"
   },
   {
    "duration": 22,
    "start_time": "2021-11-25T17:53:23.653Z"
   },
   {
    "duration": 7,
    "start_time": "2021-11-25T17:53:23.677Z"
   },
   {
    "duration": 138,
    "start_time": "2021-11-25T17:53:23.687Z"
   },
   {
    "duration": 44,
    "start_time": "2021-11-25T17:53:23.827Z"
   },
   {
    "duration": 54,
    "start_time": "2021-11-25T17:53:23.873Z"
   },
   {
    "duration": 19,
    "start_time": "2021-11-25T17:53:23.930Z"
   },
   {
    "duration": 24,
    "start_time": "2021-11-25T17:53:23.951Z"
   },
   {
    "duration": 48,
    "start_time": "2021-11-25T17:53:23.977Z"
   },
   {
    "duration": 10,
    "start_time": "2021-11-25T17:53:24.027Z"
   },
   {
    "duration": 67,
    "start_time": "2021-11-25T17:53:24.040Z"
   },
   {
    "duration": 707,
    "start_time": "2021-11-25T17:56:43.826Z"
   },
   {
    "duration": 178,
    "start_time": "2021-11-25T17:56:44.535Z"
   },
   {
    "duration": 22,
    "start_time": "2021-11-25T17:56:44.716Z"
   },
   {
    "duration": 145,
    "start_time": "2021-11-25T17:56:44.741Z"
   },
   {
    "duration": 26,
    "start_time": "2021-11-25T17:56:44.888Z"
   },
   {
    "duration": 95,
    "start_time": "2021-11-25T17:56:44.916Z"
   },
   {
    "duration": 16,
    "start_time": "2021-11-25T17:56:45.014Z"
   },
   {
    "duration": 57,
    "start_time": "2021-11-25T17:56:45.033Z"
   },
   {
    "duration": 26,
    "start_time": "2021-11-25T17:56:45.093Z"
   },
   {
    "duration": 68,
    "start_time": "2021-11-25T17:56:45.122Z"
   },
   {
    "duration": 8,
    "start_time": "2021-11-25T17:56:45.192Z"
   },
   {
    "duration": 225,
    "start_time": "2021-11-25T17:56:45.202Z"
   },
   {
    "duration": 64,
    "start_time": "2021-11-25T17:56:45.429Z"
   },
   {
    "duration": 21,
    "start_time": "2021-11-25T17:56:45.495Z"
   },
   {
    "duration": 3,
    "start_time": "2021-11-25T17:56:45.518Z"
   },
   {
    "duration": 88,
    "start_time": "2021-11-25T17:56:45.523Z"
   },
   {
    "duration": 32,
    "start_time": "2021-11-25T17:56:45.613Z"
   },
   {
    "duration": 29,
    "start_time": "2021-11-25T17:56:45.647Z"
   },
   {
    "duration": 38,
    "start_time": "2021-11-25T17:56:45.678Z"
   },
   {
    "duration": 15,
    "start_time": "2021-11-25T17:56:45.717Z"
   },
   {
    "duration": 35,
    "start_time": "2021-11-25T17:56:45.734Z"
   },
   {
    "duration": 76,
    "start_time": "2021-11-25T17:56:45.771Z"
   },
   {
    "duration": 20,
    "start_time": "2021-11-25T17:56:45.850Z"
   },
   {
    "duration": 43,
    "start_time": "2021-11-25T17:59:23.297Z"
   },
   {
    "duration": 50,
    "start_time": "2021-11-25T18:01:19.425Z"
   },
   {
    "duration": 24,
    "start_time": "2021-11-25T18:04:39.191Z"
   },
   {
    "duration": 33,
    "start_time": "2021-11-25T18:24:58.450Z"
   },
   {
    "duration": 9,
    "start_time": "2021-11-25T18:29:01.356Z"
   },
   {
    "duration": 14,
    "start_time": "2021-11-25T18:29:09.436Z"
   },
   {
    "duration": 15,
    "start_time": "2021-11-25T18:29:20.872Z"
   },
   {
    "duration": 471,
    "start_time": "2021-11-25T18:32:07.481Z"
   },
   {
    "duration": 15,
    "start_time": "2021-11-25T18:34:20.681Z"
   },
   {
    "duration": 15,
    "start_time": "2021-11-25T18:34:50.078Z"
   },
   {
    "duration": 335,
    "start_time": "2021-11-25T18:38:26.228Z"
   },
   {
    "duration": 327,
    "start_time": "2021-11-25T18:38:45.324Z"
   },
   {
    "duration": 374,
    "start_time": "2021-11-25T18:40:14.790Z"
   },
   {
    "duration": 336,
    "start_time": "2021-11-25T18:40:20.821Z"
   },
   {
    "duration": 668,
    "start_time": "2021-11-25T18:40:30.671Z"
   },
   {
    "duration": 163,
    "start_time": "2021-11-25T18:40:31.341Z"
   },
   {
    "duration": 20,
    "start_time": "2021-11-25T18:40:31.507Z"
   },
   {
    "duration": 137,
    "start_time": "2021-11-25T18:40:31.528Z"
   },
   {
    "duration": 15,
    "start_time": "2021-11-25T18:40:31.667Z"
   },
   {
    "duration": 100,
    "start_time": "2021-11-25T18:40:31.684Z"
   },
   {
    "duration": 23,
    "start_time": "2021-11-25T18:40:31.786Z"
   },
   {
    "duration": 22,
    "start_time": "2021-11-25T18:40:31.811Z"
   },
   {
    "duration": 20,
    "start_time": "2021-11-25T18:40:31.835Z"
   },
   {
    "duration": 69,
    "start_time": "2021-11-25T18:40:31.857Z"
   },
   {
    "duration": 11,
    "start_time": "2021-11-25T18:40:31.927Z"
   },
   {
    "duration": 207,
    "start_time": "2021-11-25T18:40:31.939Z"
   },
   {
    "duration": 70,
    "start_time": "2021-11-25T18:40:32.148Z"
   },
   {
    "duration": 11,
    "start_time": "2021-11-25T18:40:32.220Z"
   },
   {
    "duration": 3,
    "start_time": "2021-11-25T18:40:32.232Z"
   },
   {
    "duration": 78,
    "start_time": "2021-11-25T18:40:32.236Z"
   },
   {
    "duration": 28,
    "start_time": "2021-11-25T18:40:32.316Z"
   },
   {
    "duration": 27,
    "start_time": "2021-11-25T18:40:32.346Z"
   },
   {
    "duration": 38,
    "start_time": "2021-11-25T18:40:32.374Z"
   },
   {
    "duration": 13,
    "start_time": "2021-11-25T18:40:32.414Z"
   },
   {
    "duration": 32,
    "start_time": "2021-11-25T18:40:32.429Z"
   },
   {
    "duration": 65,
    "start_time": "2021-11-25T18:40:32.462Z"
   },
   {
    "duration": 20,
    "start_time": "2021-11-25T18:40:32.529Z"
   },
   {
    "duration": 31,
    "start_time": "2021-11-25T18:40:32.550Z"
   },
   {
    "duration": 38,
    "start_time": "2021-11-25T18:40:32.583Z"
   },
   {
    "duration": 31,
    "start_time": "2021-11-25T18:40:32.623Z"
   },
   {
    "duration": 399,
    "start_time": "2021-11-25T18:40:32.656Z"
   },
   {
    "duration": 109,
    "start_time": "2021-11-25T18:42:23.212Z"
   },
   {
    "duration": 353,
    "start_time": "2021-11-25T18:42:29.980Z"
   },
   {
    "duration": 19,
    "start_time": "2021-11-25T18:42:48.333Z"
   },
   {
    "duration": 112,
    "start_time": "2021-11-25T18:43:06.129Z"
   },
   {
    "duration": 16,
    "start_time": "2021-11-25T18:43:12.824Z"
   },
   {
    "duration": 11,
    "start_time": "2021-11-25T18:43:41.278Z"
   },
   {
    "duration": 121,
    "start_time": "2021-11-25T19:03:10.349Z"
   },
   {
    "duration": 110,
    "start_time": "2021-11-25T19:04:11.691Z"
   },
   {
    "duration": 23,
    "start_time": "2021-11-25T19:22:15.129Z"
   },
   {
    "duration": 45,
    "start_time": "2021-11-25T19:23:05.498Z"
   },
   {
    "duration": 20,
    "start_time": "2021-11-25T19:23:58.189Z"
   },
   {
    "duration": 21,
    "start_time": "2021-11-25T19:24:18.550Z"
   },
   {
    "duration": 29,
    "start_time": "2021-11-25T19:24:21.367Z"
   },
   {
    "duration": 44,
    "start_time": "2021-11-25T19:26:30.067Z"
   },
   {
    "duration": 38,
    "start_time": "2021-11-25T19:29:53.358Z"
   },
   {
    "duration": 24,
    "start_time": "2021-11-25T19:35:32.625Z"
   },
   {
    "duration": 71,
    "start_time": "2021-11-25T19:36:41.352Z"
   },
   {
    "duration": 65,
    "start_time": "2021-11-25T19:37:01.251Z"
   },
   {
    "duration": 56,
    "start_time": "2021-11-25T19:37:48.262Z"
   },
   {
    "duration": 52,
    "start_time": "2021-11-25T19:38:20.370Z"
   },
   {
    "duration": 14,
    "start_time": "2021-11-25T19:39:57.131Z"
   },
   {
    "duration": 10,
    "start_time": "2021-11-25T19:40:10.138Z"
   },
   {
    "duration": 7,
    "start_time": "2021-11-25T19:40:44.679Z"
   },
   {
    "duration": 8,
    "start_time": "2021-11-25T19:41:41.278Z"
   },
   {
    "duration": 10,
    "start_time": "2021-11-25T19:41:56.271Z"
   },
   {
    "duration": 11,
    "start_time": "2021-11-25T19:42:03.687Z"
   },
   {
    "duration": 5,
    "start_time": "2021-11-25T19:42:59.800Z"
   },
   {
    "duration": 371,
    "start_time": "2021-11-25T19:43:27.829Z"
   },
   {
    "duration": 351,
    "start_time": "2021-11-25T19:43:41.789Z"
   },
   {
    "duration": 348,
    "start_time": "2021-11-25T19:43:48.921Z"
   },
   {
    "duration": 8,
    "start_time": "2021-11-25T19:44:17.082Z"
   },
   {
    "duration": 10,
    "start_time": "2021-11-25T19:44:21.466Z"
   },
   {
    "duration": 380,
    "start_time": "2021-11-25T19:45:05.796Z"
   },
   {
    "duration": 117,
    "start_time": "2021-11-25T19:46:09.404Z"
   },
   {
    "duration": 374,
    "start_time": "2021-11-25T19:46:19.571Z"
   },
   {
    "duration": 18,
    "start_time": "2021-11-25T19:47:29.196Z"
   },
   {
    "duration": 217,
    "start_time": "2021-11-25T19:47:46.822Z"
   },
   {
    "duration": 349,
    "start_time": "2021-11-25T19:48:04.968Z"
   },
   {
    "duration": 15,
    "start_time": "2021-11-25T19:50:20.655Z"
   },
   {
    "duration": 8,
    "start_time": "2021-11-25T19:50:26.687Z"
   },
   {
    "duration": 13,
    "start_time": "2021-11-25T19:50:35.167Z"
   },
   {
    "duration": 9,
    "start_time": "2021-11-25T20:25:13.654Z"
   },
   {
    "duration": 9,
    "start_time": "2021-11-25T20:25:21.942Z"
   },
   {
    "duration": 665,
    "start_time": "2021-11-26T07:53:42.010Z"
   },
   {
    "duration": 173,
    "start_time": "2021-11-26T07:53:42.677Z"
   },
   {
    "duration": 31,
    "start_time": "2021-11-26T07:53:42.856Z"
   },
   {
    "duration": 184,
    "start_time": "2021-11-26T07:53:42.889Z"
   },
   {
    "duration": 24,
    "start_time": "2021-11-26T07:53:43.075Z"
   },
   {
    "duration": 111,
    "start_time": "2021-11-26T07:53:43.101Z"
   },
   {
    "duration": 15,
    "start_time": "2021-11-26T07:53:43.215Z"
   },
   {
    "duration": 31,
    "start_time": "2021-11-26T07:53:43.233Z"
   },
   {
    "duration": 7,
    "start_time": "2021-11-26T07:53:43.266Z"
   },
   {
    "duration": 37,
    "start_time": "2021-11-26T07:53:43.274Z"
   },
   {
    "duration": 6,
    "start_time": "2021-11-26T07:53:43.313Z"
   },
   {
    "duration": 246,
    "start_time": "2021-11-26T07:53:43.320Z"
   },
   {
    "duration": 62,
    "start_time": "2021-11-26T07:53:43.568Z"
   },
   {
    "duration": 31,
    "start_time": "2021-11-26T07:53:43.632Z"
   },
   {
    "duration": 3,
    "start_time": "2021-11-26T07:53:43.666Z"
   },
   {
    "duration": 74,
    "start_time": "2021-11-26T07:53:43.671Z"
   },
   {
    "duration": 45,
    "start_time": "2021-11-26T07:53:43.747Z"
   },
   {
    "duration": 31,
    "start_time": "2021-11-26T07:53:43.794Z"
   },
   {
    "duration": 46,
    "start_time": "2021-11-26T07:53:43.827Z"
   },
   {
    "duration": 17,
    "start_time": "2021-11-26T07:53:43.875Z"
   },
   {
    "duration": 37,
    "start_time": "2021-11-26T07:53:43.895Z"
   },
   {
    "duration": 71,
    "start_time": "2021-11-26T07:53:43.935Z"
   },
   {
    "duration": 22,
    "start_time": "2021-11-26T07:53:44.009Z"
   },
   {
    "duration": 67,
    "start_time": "2021-11-26T07:53:44.033Z"
   },
   {
    "duration": 24,
    "start_time": "2021-11-26T07:53:44.102Z"
   },
   {
    "duration": 65,
    "start_time": "2021-11-26T07:53:44.128Z"
   },
   {
    "duration": 12,
    "start_time": "2021-11-26T07:53:44.196Z"
   },
   {
    "duration": 13,
    "start_time": "2021-11-26T07:53:44.210Z"
   },
   {
    "duration": 40,
    "start_time": "2021-11-26T07:53:44.224Z"
   },
   {
    "duration": 10,
    "start_time": "2021-11-26T07:53:51.590Z"
   },
   {
    "duration": 11,
    "start_time": "2021-11-26T07:53:58.789Z"
   },
   {
    "duration": 9,
    "start_time": "2021-11-26T07:54:07.366Z"
   },
   {
    "duration": 11,
    "start_time": "2021-11-26T07:54:14.941Z"
   },
   {
    "duration": 10,
    "start_time": "2021-11-26T07:54:23.279Z"
   },
   {
    "duration": 12,
    "start_time": "2021-11-26T07:54:28.786Z"
   },
   {
    "duration": 10,
    "start_time": "2021-11-26T07:54:34.578Z"
   },
   {
    "duration": 13,
    "start_time": "2021-11-26T08:06:37.949Z"
   },
   {
    "duration": 11,
    "start_time": "2021-11-26T08:06:48.772Z"
   },
   {
    "duration": 19,
    "start_time": "2021-11-26T08:06:56.225Z"
   },
   {
    "duration": 13,
    "start_time": "2021-11-26T08:07:06.048Z"
   },
   {
    "duration": 32,
    "start_time": "2021-11-26T08:07:55.229Z"
   },
   {
    "duration": 13,
    "start_time": "2021-11-26T08:08:06.361Z"
   },
   {
    "duration": 14,
    "start_time": "2021-11-26T08:08:14.603Z"
   },
   {
    "duration": 303,
    "start_time": "2021-11-26T08:15:06.691Z"
   },
   {
    "duration": 9,
    "start_time": "2021-11-26T08:15:24.671Z"
   },
   {
    "duration": 5,
    "start_time": "2021-11-26T08:15:26.943Z"
   },
   {
    "duration": 8,
    "start_time": "2021-11-26T08:16:07.497Z"
   },
   {
    "duration": 4,
    "start_time": "2021-11-26T08:16:08.199Z"
   },
   {
    "duration": 8,
    "start_time": "2021-11-26T08:16:43.513Z"
   },
   {
    "duration": 4,
    "start_time": "2021-11-26T08:16:44.185Z"
   },
   {
    "duration": 10,
    "start_time": "2021-11-26T08:19:09.848Z"
   },
   {
    "duration": 5,
    "start_time": "2021-11-26T08:19:10.434Z"
   },
   {
    "duration": 6,
    "start_time": "2021-11-26T08:19:11.110Z"
   },
   {
    "duration": 250,
    "start_time": "2021-11-26T08:20:27.403Z"
   },
   {
    "duration": 4,
    "start_time": "2021-11-26T08:20:37.140Z"
   },
   {
    "duration": 4,
    "start_time": "2021-11-26T08:20:44.099Z"
   },
   {
    "duration": 4,
    "start_time": "2021-11-26T08:20:45.283Z"
   },
   {
    "duration": 232,
    "start_time": "2021-11-26T08:21:02.169Z"
   },
   {
    "duration": 12,
    "start_time": "2021-11-26T08:21:11.409Z"
   },
   {
    "duration": 5,
    "start_time": "2021-11-26T08:21:12.928Z"
   },
   {
    "duration": 5,
    "start_time": "2021-11-26T08:21:13.607Z"
   },
   {
    "duration": 4,
    "start_time": "2021-11-26T08:21:14.256Z"
   },
   {
    "duration": 4,
    "start_time": "2021-11-26T08:21:19.272Z"
   },
   {
    "duration": 4,
    "start_time": "2021-11-26T08:21:29.253Z"
   },
   {
    "duration": 12,
    "start_time": "2021-11-26T08:23:02.556Z"
   },
   {
    "duration": 5,
    "start_time": "2021-11-26T08:23:03.756Z"
   },
   {
    "duration": 5,
    "start_time": "2021-11-26T08:23:04.499Z"
   },
   {
    "duration": 4,
    "start_time": "2021-11-26T08:23:05.156Z"
   },
   {
    "duration": 8,
    "start_time": "2021-11-26T08:23:25.201Z"
   },
   {
    "duration": 11,
    "start_time": "2021-11-26T08:23:44.993Z"
   },
   {
    "duration": 10,
    "start_time": "2021-11-26T08:23:45.545Z"
   },
   {
    "duration": 12,
    "start_time": "2021-11-26T08:23:54.317Z"
   },
   {
    "duration": 10,
    "start_time": "2021-11-26T08:23:56.605Z"
   },
   {
    "duration": 8,
    "start_time": "2021-11-26T08:24:06.551Z"
   },
   {
    "duration": 8,
    "start_time": "2021-11-26T08:24:35.372Z"
   },
   {
    "duration": 10,
    "start_time": "2021-11-26T08:24:45.083Z"
   },
   {
    "duration": 228,
    "start_time": "2021-11-26T08:25:42.372Z"
   },
   {
    "duration": 11,
    "start_time": "2021-11-26T08:25:45.348Z"
   },
   {
    "duration": 8,
    "start_time": "2021-11-26T08:25:46.068Z"
   },
   {
    "duration": 4,
    "start_time": "2021-11-26T08:26:18.939Z"
   },
   {
    "duration": 3,
    "start_time": "2021-11-26T08:26:47.982Z"
   },
   {
    "duration": 4,
    "start_time": "2021-11-26T08:26:59.614Z"
   },
   {
    "duration": 4,
    "start_time": "2021-11-26T08:27:11.862Z"
   },
   {
    "duration": 4,
    "start_time": "2021-11-26T08:27:22.667Z"
   },
   {
    "duration": 14,
    "start_time": "2021-11-26T08:28:34.371Z"
   },
   {
    "duration": 14,
    "start_time": "2021-11-26T08:29:46.908Z"
   },
   {
    "duration": 13,
    "start_time": "2021-11-26T08:31:20.847Z"
   },
   {
    "duration": 33,
    "start_time": "2021-11-26T08:32:42.419Z"
   },
   {
    "duration": 4,
    "start_time": "2021-11-26T08:32:43.019Z"
   },
   {
    "duration": 4,
    "start_time": "2021-11-26T08:36:36.149Z"
   },
   {
    "duration": 4,
    "start_time": "2021-11-26T08:36:45.069Z"
   },
   {
    "duration": 41,
    "start_time": "2021-11-26T08:49:29.846Z"
   },
   {
    "duration": 96,
    "start_time": "2021-11-26T08:51:08.371Z"
   },
   {
    "duration": 27,
    "start_time": "2021-11-26T08:51:58.681Z"
   },
   {
    "duration": 22,
    "start_time": "2021-11-26T08:52:07.197Z"
   },
   {
    "duration": 14,
    "start_time": "2021-11-26T08:54:38.194Z"
   },
   {
    "duration": 6,
    "start_time": "2021-11-26T09:12:39.966Z"
   },
   {
    "duration": 6,
    "start_time": "2021-11-26T09:12:45.538Z"
   },
   {
    "duration": 6,
    "start_time": "2021-11-26T09:12:56.963Z"
   },
   {
    "duration": 4,
    "start_time": "2021-11-26T09:19:51.687Z"
   },
   {
    "duration": 40,
    "start_time": "2021-11-26T09:22:01.948Z"
   },
   {
    "duration": 49,
    "start_time": "2021-11-26T09:24:08.814Z"
   },
   {
    "duration": 28,
    "start_time": "2021-11-26T09:27:22.838Z"
   },
   {
    "duration": 34,
    "start_time": "2021-11-26T09:27:26.511Z"
   },
   {
    "duration": 20,
    "start_time": "2021-11-26T09:27:30.303Z"
   },
   {
    "duration": 34,
    "start_time": "2021-11-26T09:27:31.470Z"
   },
   {
    "duration": 49,
    "start_time": "2021-11-26T09:50:47.995Z"
   },
   {
    "duration": 16,
    "start_time": "2021-11-26T09:50:53.363Z"
   },
   {
    "duration": 613,
    "start_time": "2021-11-26T09:52:47.726Z"
   },
   {
    "duration": 189,
    "start_time": "2021-11-26T09:52:48.341Z"
   },
   {
    "duration": 44,
    "start_time": "2021-11-26T09:52:48.533Z"
   },
   {
    "duration": 156,
    "start_time": "2021-11-26T09:52:48.579Z"
   },
   {
    "duration": 31,
    "start_time": "2021-11-26T09:52:48.737Z"
   },
   {
    "duration": 113,
    "start_time": "2021-11-26T09:52:48.770Z"
   },
   {
    "duration": 26,
    "start_time": "2021-11-26T09:52:48.886Z"
   },
   {
    "duration": 15,
    "start_time": "2021-11-26T09:52:48.915Z"
   },
   {
    "duration": 36,
    "start_time": "2021-11-26T09:52:48.933Z"
   },
   {
    "duration": 19,
    "start_time": "2021-11-26T09:52:48.971Z"
   },
   {
    "duration": 7,
    "start_time": "2021-11-26T09:52:48.992Z"
   },
   {
    "duration": 323,
    "start_time": "2021-11-26T09:52:49.001Z"
   },
   {
    "duration": 81,
    "start_time": "2021-11-26T09:52:49.327Z"
   },
   {
    "duration": 16,
    "start_time": "2021-11-26T09:52:49.410Z"
   },
   {
    "duration": 3,
    "start_time": "2021-11-26T09:52:49.428Z"
   },
   {
    "duration": 147,
    "start_time": "2021-11-26T09:52:49.433Z"
   },
   {
    "duration": 40,
    "start_time": "2021-11-26T09:52:49.582Z"
   },
   {
    "duration": 60,
    "start_time": "2021-11-26T09:52:49.625Z"
   },
   {
    "duration": 16,
    "start_time": "2021-11-26T09:52:49.687Z"
   },
   {
    "duration": 16,
    "start_time": "2021-11-26T09:52:49.705Z"
   },
   {
    "duration": 66,
    "start_time": "2021-11-26T09:52:49.723Z"
   },
   {
    "duration": 50,
    "start_time": "2021-11-26T09:52:49.791Z"
   },
   {
    "duration": 37,
    "start_time": "2021-11-26T09:52:49.844Z"
   },
   {
    "duration": 53,
    "start_time": "2021-11-26T09:52:49.883Z"
   },
   {
    "duration": 54,
    "start_time": "2021-11-26T09:52:49.939Z"
   },
   {
    "duration": 35,
    "start_time": "2021-11-26T09:52:49.996Z"
   },
   {
    "duration": 37,
    "start_time": "2021-11-26T09:52:50.033Z"
   },
   {
    "duration": 15,
    "start_time": "2021-11-26T09:52:50.072Z"
   },
   {
    "duration": 11,
    "start_time": "2021-11-26T09:52:50.089Z"
   },
   {
    "duration": 17,
    "start_time": "2021-11-26T09:52:50.102Z"
   },
   {
    "duration": 70,
    "start_time": "2021-11-26T09:52:50.121Z"
   },
   {
    "duration": 14,
    "start_time": "2021-11-26T09:52:50.193Z"
   },
   {
    "duration": 89,
    "start_time": "2021-11-26T09:54:40.715Z"
   },
   {
    "duration": 89,
    "start_time": "2021-11-26T09:55:30.483Z"
   },
   {
    "duration": 616,
    "start_time": "2021-11-26T09:57:14.050Z"
   },
   {
    "duration": 163,
    "start_time": "2021-11-26T09:57:14.670Z"
   },
   {
    "duration": 29,
    "start_time": "2021-11-26T09:57:14.835Z"
   },
   {
    "duration": 133,
    "start_time": "2021-11-26T09:57:14.866Z"
   },
   {
    "duration": 18,
    "start_time": "2021-11-26T09:57:15.001Z"
   },
   {
    "duration": 103,
    "start_time": "2021-11-26T09:57:15.021Z"
   },
   {
    "duration": 17,
    "start_time": "2021-11-26T09:57:15.127Z"
   },
   {
    "duration": 25,
    "start_time": "2021-11-26T09:57:15.147Z"
   },
   {
    "duration": 10,
    "start_time": "2021-11-26T09:57:15.174Z"
   },
   {
    "duration": 39,
    "start_time": "2021-11-26T09:57:15.185Z"
   },
   {
    "duration": 6,
    "start_time": "2021-11-26T09:57:15.226Z"
   },
   {
    "duration": 220,
    "start_time": "2021-11-26T09:57:15.234Z"
   },
   {
    "duration": 62,
    "start_time": "2021-11-26T09:57:15.464Z"
   },
   {
    "duration": 37,
    "start_time": "2021-11-26T09:57:15.527Z"
   },
   {
    "duration": 47,
    "start_time": "2021-11-26T09:57:15.566Z"
   },
   {
    "duration": 85,
    "start_time": "2021-11-26T09:57:15.614Z"
   },
   {
    "duration": 32,
    "start_time": "2021-11-26T09:57:15.701Z"
   },
   {
    "duration": 48,
    "start_time": "2021-11-26T09:57:15.736Z"
   },
   {
    "duration": 13,
    "start_time": "2021-11-26T09:57:15.786Z"
   },
   {
    "duration": 13,
    "start_time": "2021-11-26T09:57:15.801Z"
   },
   {
    "duration": 60,
    "start_time": "2021-11-26T09:57:15.816Z"
   },
   {
    "duration": 49,
    "start_time": "2021-11-26T09:57:15.879Z"
   },
   {
    "duration": 112,
    "start_time": "2021-11-26T09:57:15.930Z"
   },
   {
    "duration": 36,
    "start_time": "2021-11-26T09:57:16.044Z"
   },
   {
    "duration": 25,
    "start_time": "2021-11-26T09:57:16.081Z"
   },
   {
    "duration": 31,
    "start_time": "2021-11-26T09:57:16.107Z"
   },
   {
    "duration": 31,
    "start_time": "2021-11-26T09:57:16.139Z"
   },
   {
    "duration": 19,
    "start_time": "2021-11-26T09:57:16.172Z"
   },
   {
    "duration": 12,
    "start_time": "2021-11-26T09:57:16.193Z"
   },
   {
    "duration": 10,
    "start_time": "2021-11-26T09:57:16.208Z"
   },
   {
    "duration": 47,
    "start_time": "2021-11-26T09:57:16.220Z"
   },
   {
    "duration": 95,
    "start_time": "2021-11-26T09:57:16.269Z"
   },
   {
    "duration": 296,
    "start_time": "2021-11-26T09:57:45.502Z"
   },
   {
    "duration": 783,
    "start_time": "2021-11-26T09:57:52.970Z"
   },
   {
    "duration": 229,
    "start_time": "2021-11-26T09:57:53.755Z"
   },
   {
    "duration": 34,
    "start_time": "2021-11-26T09:57:53.987Z"
   },
   {
    "duration": 196,
    "start_time": "2021-11-26T09:57:54.024Z"
   },
   {
    "duration": 41,
    "start_time": "2021-11-26T09:57:54.222Z"
   },
   {
    "duration": 124,
    "start_time": "2021-11-26T09:57:54.265Z"
   },
   {
    "duration": 14,
    "start_time": "2021-11-26T09:57:54.391Z"
   },
   {
    "duration": 31,
    "start_time": "2021-11-26T09:57:54.408Z"
   },
   {
    "duration": 6,
    "start_time": "2021-11-26T09:57:54.442Z"
   },
   {
    "duration": 42,
    "start_time": "2021-11-26T09:57:54.450Z"
   },
   {
    "duration": 7,
    "start_time": "2021-11-26T09:57:54.494Z"
   },
   {
    "duration": 214,
    "start_time": "2021-11-26T09:57:54.502Z"
   },
   {
    "duration": 81,
    "start_time": "2021-11-26T09:57:54.718Z"
   },
   {
    "duration": 13,
    "start_time": "2021-11-26T09:57:54.801Z"
   },
   {
    "duration": 3,
    "start_time": "2021-11-26T09:57:54.816Z"
   },
   {
    "duration": 98,
    "start_time": "2021-11-26T09:57:54.820Z"
   },
   {
    "duration": 33,
    "start_time": "2021-11-26T09:57:54.920Z"
   },
   {
    "duration": 27,
    "start_time": "2021-11-26T09:57:54.963Z"
   },
   {
    "duration": 13,
    "start_time": "2021-11-26T09:57:54.992Z"
   },
   {
    "duration": 15,
    "start_time": "2021-11-26T09:57:55.007Z"
   },
   {
    "duration": 66,
    "start_time": "2021-11-26T09:57:55.024Z"
   },
   {
    "duration": 48,
    "start_time": "2021-11-26T09:57:55.092Z"
   },
   {
    "duration": 37,
    "start_time": "2021-11-26T09:57:55.143Z"
   },
   {
    "duration": 36,
    "start_time": "2021-11-26T09:57:55.182Z"
   },
   {
    "duration": 57,
    "start_time": "2021-11-26T09:57:55.220Z"
   },
   {
    "duration": 49,
    "start_time": "2021-11-26T09:57:55.280Z"
   },
   {
    "duration": 37,
    "start_time": "2021-11-26T09:57:55.331Z"
   },
   {
    "duration": 16,
    "start_time": "2021-11-26T09:57:55.370Z"
   },
   {
    "duration": 6,
    "start_time": "2021-11-26T09:57:55.388Z"
   },
   {
    "duration": 31,
    "start_time": "2021-11-26T09:57:55.396Z"
   },
   {
    "duration": 54,
    "start_time": "2021-11-26T09:57:55.429Z"
   },
   {
    "duration": 125,
    "start_time": "2021-11-26T09:57:55.486Z"
   },
   {
    "duration": 284,
    "start_time": "2021-11-26T09:59:29.909Z"
   },
   {
    "duration": 647,
    "start_time": "2021-11-26T09:59:43.067Z"
   },
   {
    "duration": 194,
    "start_time": "2021-11-26T09:59:43.716Z"
   },
   {
    "duration": 50,
    "start_time": "2021-11-26T09:59:43.913Z"
   },
   {
    "duration": 149,
    "start_time": "2021-11-26T09:59:43.967Z"
   },
   {
    "duration": 20,
    "start_time": "2021-11-26T09:59:44.118Z"
   },
   {
    "duration": 109,
    "start_time": "2021-11-26T09:59:44.140Z"
   },
   {
    "duration": 32,
    "start_time": "2021-11-26T09:59:44.252Z"
   },
   {
    "duration": 24,
    "start_time": "2021-11-26T09:59:44.288Z"
   },
   {
    "duration": 8,
    "start_time": "2021-11-26T09:59:44.315Z"
   },
   {
    "duration": 34,
    "start_time": "2021-11-26T09:59:44.326Z"
   },
   {
    "duration": 16,
    "start_time": "2021-11-26T09:59:44.362Z"
   },
   {
    "duration": 267,
    "start_time": "2021-11-26T09:59:44.386Z"
   },
   {
    "duration": 75,
    "start_time": "2021-11-26T09:59:44.655Z"
   },
   {
    "duration": 13,
    "start_time": "2021-11-26T09:59:44.732Z"
   },
   {
    "duration": 17,
    "start_time": "2021-11-26T09:59:44.747Z"
   },
   {
    "duration": 74,
    "start_time": "2021-11-26T09:59:44.768Z"
   },
   {
    "duration": 58,
    "start_time": "2021-11-26T09:59:44.844Z"
   },
   {
    "duration": 34,
    "start_time": "2021-11-26T09:59:44.904Z"
   },
   {
    "duration": 19,
    "start_time": "2021-11-26T09:59:44.963Z"
   },
   {
    "duration": 30,
    "start_time": "2021-11-26T09:59:44.984Z"
   },
   {
    "duration": 52,
    "start_time": "2021-11-26T09:59:45.017Z"
   },
   {
    "duration": 58,
    "start_time": "2021-11-26T09:59:45.076Z"
   },
   {
    "duration": 41,
    "start_time": "2021-11-26T09:59:45.137Z"
   },
   {
    "duration": 34,
    "start_time": "2021-11-26T09:59:45.180Z"
   },
   {
    "duration": 24,
    "start_time": "2021-11-26T09:59:45.216Z"
   },
   {
    "duration": 37,
    "start_time": "2021-11-26T09:59:45.264Z"
   },
   {
    "duration": 10,
    "start_time": "2021-11-26T09:59:45.303Z"
   },
   {
    "duration": 10,
    "start_time": "2021-11-26T09:59:45.315Z"
   },
   {
    "duration": 10,
    "start_time": "2021-11-26T09:59:45.363Z"
   },
   {
    "duration": 13,
    "start_time": "2021-11-26T09:59:45.375Z"
   },
   {
    "duration": 25,
    "start_time": "2021-11-26T09:59:45.391Z"
   },
   {
    "duration": 123,
    "start_time": "2021-11-26T09:59:45.418Z"
   },
   {
    "duration": 336,
    "start_time": "2021-11-26T10:00:17.443Z"
   },
   {
    "duration": 737,
    "start_time": "2021-11-26T10:00:22.864Z"
   },
   {
    "duration": 212,
    "start_time": "2021-11-26T10:00:23.604Z"
   },
   {
    "duration": 21,
    "start_time": "2021-11-26T10:00:23.819Z"
   },
   {
    "duration": 200,
    "start_time": "2021-11-26T10:00:23.842Z"
   },
   {
    "duration": 23,
    "start_time": "2021-11-26T10:00:24.043Z"
   },
   {
    "duration": 113,
    "start_time": "2021-11-26T10:00:24.070Z"
   },
   {
    "duration": 22,
    "start_time": "2021-11-26T10:00:24.185Z"
   },
   {
    "duration": 36,
    "start_time": "2021-11-26T10:00:24.210Z"
   },
   {
    "duration": 26,
    "start_time": "2021-11-26T10:00:24.249Z"
   },
   {
    "duration": 40,
    "start_time": "2021-11-26T10:00:24.277Z"
   },
   {
    "duration": 7,
    "start_time": "2021-11-26T10:00:24.319Z"
   },
   {
    "duration": 297,
    "start_time": "2021-11-26T10:00:24.328Z"
   },
   {
    "duration": 89,
    "start_time": "2021-11-26T10:00:24.627Z"
   },
   {
    "duration": 18,
    "start_time": "2021-11-26T10:00:24.718Z"
   },
   {
    "duration": 3,
    "start_time": "2021-11-26T10:00:24.738Z"
   },
   {
    "duration": 102,
    "start_time": "2021-11-26T10:00:24.744Z"
   },
   {
    "duration": 39,
    "start_time": "2021-11-26T10:00:24.848Z"
   },
   {
    "duration": 37,
    "start_time": "2021-11-26T10:00:24.889Z"
   },
   {
    "duration": 21,
    "start_time": "2021-11-26T10:00:24.928Z"
   },
   {
    "duration": 24,
    "start_time": "2021-11-26T10:00:24.964Z"
   },
   {
    "duration": 32,
    "start_time": "2021-11-26T10:00:24.990Z"
   },
   {
    "duration": 93,
    "start_time": "2021-11-26T10:00:25.025Z"
   },
   {
    "duration": 26,
    "start_time": "2021-11-26T10:00:25.122Z"
   },
   {
    "duration": 57,
    "start_time": "2021-11-26T10:00:25.150Z"
   },
   {
    "duration": 62,
    "start_time": "2021-11-26T10:00:25.209Z"
   },
   {
    "duration": 48,
    "start_time": "2021-11-26T10:00:25.273Z"
   },
   {
    "duration": 37,
    "start_time": "2021-11-26T10:00:25.323Z"
   },
   {
    "duration": 20,
    "start_time": "2021-11-26T10:00:25.362Z"
   },
   {
    "duration": 12,
    "start_time": "2021-11-26T10:00:25.385Z"
   },
   {
    "duration": 28,
    "start_time": "2021-11-26T10:00:25.399Z"
   },
   {
    "duration": 54,
    "start_time": "2021-11-26T10:00:25.429Z"
   },
   {
    "duration": 78,
    "start_time": "2021-11-26T10:00:25.485Z"
   },
   {
    "duration": 324,
    "start_time": "2021-11-26T10:01:38.868Z"
   },
   {
    "duration": 618,
    "start_time": "2021-11-26T10:01:43.061Z"
   },
   {
    "duration": 172,
    "start_time": "2021-11-26T10:01:43.681Z"
   },
   {
    "duration": 39,
    "start_time": "2021-11-26T10:01:43.855Z"
   },
   {
    "duration": 167,
    "start_time": "2021-11-26T10:01:43.896Z"
   },
   {
    "duration": 28,
    "start_time": "2021-11-26T10:01:44.065Z"
   },
   {
    "duration": 108,
    "start_time": "2021-11-26T10:01:44.095Z"
   },
   {
    "duration": 15,
    "start_time": "2021-11-26T10:01:44.205Z"
   },
   {
    "duration": 37,
    "start_time": "2021-11-26T10:01:44.222Z"
   },
   {
    "duration": 26,
    "start_time": "2021-11-26T10:01:44.262Z"
   },
   {
    "duration": 55,
    "start_time": "2021-11-26T10:01:44.290Z"
   },
   {
    "duration": 30,
    "start_time": "2021-11-26T10:01:44.346Z"
   },
   {
    "duration": 246,
    "start_time": "2021-11-26T10:01:44.378Z"
   },
   {
    "duration": 99,
    "start_time": "2021-11-26T10:01:44.626Z"
   },
   {
    "duration": 20,
    "start_time": "2021-11-26T10:01:44.727Z"
   },
   {
    "duration": 14,
    "start_time": "2021-11-26T10:01:44.749Z"
   },
   {
    "duration": 101,
    "start_time": "2021-11-26T10:01:44.766Z"
   },
   {
    "duration": 32,
    "start_time": "2021-11-26T10:01:44.870Z"
   },
   {
    "duration": 30,
    "start_time": "2021-11-26T10:01:44.904Z"
   },
   {
    "duration": 40,
    "start_time": "2021-11-26T10:01:44.936Z"
   },
   {
    "duration": 26,
    "start_time": "2021-11-26T10:01:44.977Z"
   },
   {
    "duration": 58,
    "start_time": "2021-11-26T10:01:45.006Z"
   },
   {
    "duration": 57,
    "start_time": "2021-11-26T10:01:45.066Z"
   },
   {
    "duration": 47,
    "start_time": "2021-11-26T10:01:45.127Z"
   },
   {
    "duration": 39,
    "start_time": "2021-11-26T10:01:45.176Z"
   },
   {
    "duration": 50,
    "start_time": "2021-11-26T10:01:45.217Z"
   },
   {
    "duration": 46,
    "start_time": "2021-11-26T10:01:45.269Z"
   },
   {
    "duration": 12,
    "start_time": "2021-11-26T10:01:45.317Z"
   },
   {
    "duration": 42,
    "start_time": "2021-11-26T10:01:45.331Z"
   },
   {
    "duration": 36,
    "start_time": "2021-11-26T10:01:45.375Z"
   },
   {
    "duration": 37,
    "start_time": "2021-11-26T10:01:45.412Z"
   },
   {
    "duration": 48,
    "start_time": "2021-11-26T10:01:45.450Z"
   },
   {
    "duration": 92,
    "start_time": "2021-11-26T10:01:49.909Z"
   },
   {
    "duration": 1657,
    "start_time": "2021-11-26T10:04:00.464Z"
   },
   {
    "duration": 73,
    "start_time": "2021-11-26T10:04:50.405Z"
   },
   {
    "duration": 305,
    "start_time": "2021-11-26T10:05:04.261Z"
   },
   {
    "duration": 73,
    "start_time": "2021-11-26T10:05:10.319Z"
   },
   {
    "duration": 3,
    "start_time": "2021-11-26T10:05:22.120Z"
   },
   {
    "duration": 194,
    "start_time": "2021-11-26T10:05:22.125Z"
   },
   {
    "duration": 23,
    "start_time": "2021-11-26T10:05:22.321Z"
   },
   {
    "duration": 229,
    "start_time": "2021-11-26T10:05:22.346Z"
   },
   {
    "duration": 24,
    "start_time": "2021-11-26T10:05:22.577Z"
   },
   {
    "duration": 141,
    "start_time": "2021-11-26T10:05:22.603Z"
   },
   {
    "duration": 28,
    "start_time": "2021-11-26T10:05:22.748Z"
   },
   {
    "duration": 26,
    "start_time": "2021-11-26T10:05:22.780Z"
   },
   {
    "duration": 8,
    "start_time": "2021-11-26T10:05:22.809Z"
   },
   {
    "duration": 39,
    "start_time": "2021-11-26T10:05:22.820Z"
   },
   {
    "duration": 11,
    "start_time": "2021-11-26T10:05:22.861Z"
   },
   {
    "duration": 299,
    "start_time": "2021-11-26T10:05:22.875Z"
   },
   {
    "duration": 118,
    "start_time": "2021-11-26T10:05:23.176Z"
   },
   {
    "duration": 20,
    "start_time": "2021-11-26T10:05:23.296Z"
   },
   {
    "duration": 11,
    "start_time": "2021-11-26T10:05:23.319Z"
   },
   {
    "duration": 146,
    "start_time": "2021-11-26T10:05:23.332Z"
   },
   {
    "duration": 39,
    "start_time": "2021-11-26T10:05:23.481Z"
   },
   {
    "duration": 62,
    "start_time": "2021-11-26T10:05:23.523Z"
   },
   {
    "duration": 20,
    "start_time": "2021-11-26T10:05:23.589Z"
   },
   {
    "duration": 25,
    "start_time": "2021-11-26T10:05:23.612Z"
   },
   {
    "duration": 60,
    "start_time": "2021-11-26T10:05:23.639Z"
   },
   {
    "duration": 76,
    "start_time": "2021-11-26T10:05:23.702Z"
   },
   {
    "duration": 22,
    "start_time": "2021-11-26T10:05:23.783Z"
   },
   {
    "duration": 60,
    "start_time": "2021-11-26T10:05:23.807Z"
   },
   {
    "duration": 34,
    "start_time": "2021-11-26T10:05:23.869Z"
   },
   {
    "duration": 62,
    "start_time": "2021-11-26T10:05:23.905Z"
   },
   {
    "duration": 18,
    "start_time": "2021-11-26T10:05:23.969Z"
   },
   {
    "duration": 11,
    "start_time": "2021-11-26T10:05:23.990Z"
   },
   {
    "duration": 6,
    "start_time": "2021-11-26T10:05:24.003Z"
   },
   {
    "duration": 13,
    "start_time": "2021-11-26T10:05:24.011Z"
   },
   {
    "duration": 3,
    "start_time": "2021-11-26T10:05:40.649Z"
   },
   {
    "duration": 217,
    "start_time": "2021-11-26T10:05:40.654Z"
   },
   {
    "duration": 29,
    "start_time": "2021-11-26T10:05:40.873Z"
   },
   {
    "duration": 170,
    "start_time": "2021-11-26T10:05:40.904Z"
   },
   {
    "duration": 27,
    "start_time": "2021-11-26T10:05:41.076Z"
   },
   {
    "duration": 113,
    "start_time": "2021-11-26T10:05:41.105Z"
   },
   {
    "duration": 16,
    "start_time": "2021-11-26T10:05:41.221Z"
   },
   {
    "duration": 33,
    "start_time": "2021-11-26T10:05:41.240Z"
   },
   {
    "duration": 8,
    "start_time": "2021-11-26T10:05:41.276Z"
   },
   {
    "duration": 38,
    "start_time": "2021-11-26T10:05:41.285Z"
   },
   {
    "duration": 7,
    "start_time": "2021-11-26T10:05:41.325Z"
   },
   {
    "duration": 231,
    "start_time": "2021-11-26T10:05:41.334Z"
   },
   {
    "duration": 64,
    "start_time": "2021-11-26T10:05:41.569Z"
   },
   {
    "duration": 32,
    "start_time": "2021-11-26T10:05:41.635Z"
   },
   {
    "duration": 8,
    "start_time": "2021-11-26T10:05:41.669Z"
   },
   {
    "duration": 70,
    "start_time": "2021-11-26T10:05:41.679Z"
   },
   {
    "duration": 40,
    "start_time": "2021-11-26T10:05:41.751Z"
   },
   {
    "duration": 33,
    "start_time": "2021-11-26T10:05:41.792Z"
   },
   {
    "duration": 45,
    "start_time": "2021-11-26T10:05:41.829Z"
   },
   {
    "duration": 17,
    "start_time": "2021-11-26T10:05:41.877Z"
   },
   {
    "duration": 31,
    "start_time": "2021-11-26T10:05:41.896Z"
   },
   {
    "duration": 80,
    "start_time": "2021-11-26T10:05:41.929Z"
   },
   {
    "duration": 25,
    "start_time": "2021-11-26T10:05:42.011Z"
   },
   {
    "duration": 60,
    "start_time": "2021-11-26T10:05:42.037Z"
   },
   {
    "duration": 30,
    "start_time": "2021-11-26T10:05:42.099Z"
   },
   {
    "duration": 59,
    "start_time": "2021-11-26T10:05:42.131Z"
   },
   {
    "duration": 15,
    "start_time": "2021-11-26T10:05:42.192Z"
   },
   {
    "duration": 30,
    "start_time": "2021-11-26T10:05:42.208Z"
   },
   {
    "duration": 13,
    "start_time": "2021-11-26T10:05:42.240Z"
   },
   {
    "duration": 42,
    "start_time": "2021-11-26T10:05:42.255Z"
   },
   {
    "duration": 87,
    "start_time": "2021-11-26T10:05:49.261Z"
   },
   {
    "duration": 140,
    "start_time": "2021-11-26T10:06:13.631Z"
   },
   {
    "duration": 138,
    "start_time": "2021-11-26T10:07:47.988Z"
   },
   {
    "duration": 279,
    "start_time": "2021-11-26T10:08:24.714Z"
   },
   {
    "duration": 598,
    "start_time": "2021-11-26T10:08:44.515Z"
   },
   {
    "duration": 194,
    "start_time": "2021-11-26T10:08:45.115Z"
   },
   {
    "duration": 23,
    "start_time": "2021-11-26T10:08:45.311Z"
   },
   {
    "duration": 166,
    "start_time": "2021-11-26T10:08:45.336Z"
   },
   {
    "duration": 17,
    "start_time": "2021-11-26T10:08:45.504Z"
   },
   {
    "duration": 104,
    "start_time": "2021-11-26T10:08:45.523Z"
   },
   {
    "duration": 17,
    "start_time": "2021-11-26T10:08:45.629Z"
   },
   {
    "duration": 36,
    "start_time": "2021-11-26T10:08:45.649Z"
   },
   {
    "duration": 17,
    "start_time": "2021-11-26T10:08:45.687Z"
   },
   {
    "duration": 45,
    "start_time": "2021-11-26T10:08:45.706Z"
   },
   {
    "duration": 5,
    "start_time": "2021-11-26T10:08:45.753Z"
   },
   {
    "duration": 246,
    "start_time": "2021-11-26T10:08:45.760Z"
   },
   {
    "duration": 78,
    "start_time": "2021-11-26T10:08:46.008Z"
   },
   {
    "duration": 17,
    "start_time": "2021-11-26T10:08:46.089Z"
   },
   {
    "duration": 6,
    "start_time": "2021-11-26T10:08:46.113Z"
   },
   {
    "duration": 106,
    "start_time": "2021-11-26T10:08:46.121Z"
   },
   {
    "duration": 40,
    "start_time": "2021-11-26T10:08:46.229Z"
   },
   {
    "duration": 37,
    "start_time": "2021-11-26T10:08:46.273Z"
   },
   {
    "duration": 16,
    "start_time": "2021-11-26T10:08:46.314Z"
   },
   {
    "duration": 49,
    "start_time": "2021-11-26T10:08:46.332Z"
   },
   {
    "duration": 32,
    "start_time": "2021-11-26T10:08:46.384Z"
   },
   {
    "duration": 76,
    "start_time": "2021-11-26T10:08:46.418Z"
   },
   {
    "duration": 22,
    "start_time": "2021-11-26T10:08:46.497Z"
   },
   {
    "duration": 64,
    "start_time": "2021-11-26T10:08:46.522Z"
   },
   {
    "duration": 25,
    "start_time": "2021-11-26T10:08:46.588Z"
   },
   {
    "duration": 58,
    "start_time": "2021-11-26T10:08:46.615Z"
   },
   {
    "duration": 14,
    "start_time": "2021-11-26T10:08:46.675Z"
   },
   {
    "duration": 11,
    "start_time": "2021-11-26T10:08:46.692Z"
   },
   {
    "duration": 5,
    "start_time": "2021-11-26T10:08:46.705Z"
   },
   {
    "duration": 15,
    "start_time": "2021-11-26T10:08:46.712Z"
   },
   {
    "duration": 159,
    "start_time": "2021-11-26T10:08:52.775Z"
   },
   {
    "duration": 764,
    "start_time": "2021-11-26T12:40:40.160Z"
   },
   {
    "duration": 236,
    "start_time": "2021-11-26T12:40:40.927Z"
   },
   {
    "duration": 36,
    "start_time": "2021-11-26T12:40:41.166Z"
   },
   {
    "duration": 242,
    "start_time": "2021-11-26T12:40:41.204Z"
   },
   {
    "duration": 36,
    "start_time": "2021-11-26T12:40:41.448Z"
   },
   {
    "duration": 127,
    "start_time": "2021-11-26T12:40:41.486Z"
   },
   {
    "duration": 24,
    "start_time": "2021-11-26T12:40:41.615Z"
   },
   {
    "duration": 81,
    "start_time": "2021-11-26T12:40:41.643Z"
   },
   {
    "duration": 13,
    "start_time": "2021-11-26T12:40:41.727Z"
   },
   {
    "duration": 43,
    "start_time": "2021-11-26T12:40:41.743Z"
   },
   {
    "duration": 8,
    "start_time": "2021-11-26T12:40:41.788Z"
   },
   {
    "duration": 307,
    "start_time": "2021-11-26T12:40:41.799Z"
   },
   {
    "duration": 109,
    "start_time": "2021-11-26T12:40:42.108Z"
   },
   {
    "duration": 19,
    "start_time": "2021-11-26T12:40:42.220Z"
   },
   {
    "duration": 32,
    "start_time": "2021-11-26T12:40:42.242Z"
   },
   {
    "duration": 106,
    "start_time": "2021-11-26T12:40:42.276Z"
   },
   {
    "duration": 32,
    "start_time": "2021-11-26T12:40:42.384Z"
   },
   {
    "duration": 28,
    "start_time": "2021-11-26T12:40:42.418Z"
   },
   {
    "duration": 14,
    "start_time": "2021-11-26T12:40:42.464Z"
   },
   {
    "duration": 25,
    "start_time": "2021-11-26T12:40:42.481Z"
   },
   {
    "duration": 28,
    "start_time": "2021-11-26T12:40:42.509Z"
   },
   {
    "duration": 70,
    "start_time": "2021-11-26T12:40:42.539Z"
   },
   {
    "duration": 21,
    "start_time": "2021-11-26T12:40:42.613Z"
   },
   {
    "duration": 55,
    "start_time": "2021-11-26T12:40:42.636Z"
   },
   {
    "duration": 25,
    "start_time": "2021-11-26T12:40:42.693Z"
   },
   {
    "duration": 63,
    "start_time": "2021-11-26T12:40:42.719Z"
   },
   {
    "duration": 11,
    "start_time": "2021-11-26T12:40:42.784Z"
   },
   {
    "duration": 15,
    "start_time": "2021-11-26T12:40:42.797Z"
   },
   {
    "duration": 7,
    "start_time": "2021-11-26T12:40:42.813Z"
   },
   {
    "duration": 43,
    "start_time": "2021-11-26T12:40:42.822Z"
   },
   {
    "duration": 191,
    "start_time": "2021-11-26T12:40:42.868Z"
   },
   {
    "duration": 333,
    "start_time": "2021-11-26T12:47:50.739Z"
   },
   {
    "duration": 638,
    "start_time": "2021-11-26T12:47:56.234Z"
   },
   {
    "duration": 167,
    "start_time": "2021-11-26T12:47:56.874Z"
   },
   {
    "duration": 26,
    "start_time": "2021-11-26T12:47:57.043Z"
   },
   {
    "duration": 153,
    "start_time": "2021-11-26T12:47:57.072Z"
   },
   {
    "duration": 37,
    "start_time": "2021-11-26T12:47:57.227Z"
   },
   {
    "duration": 104,
    "start_time": "2021-11-26T12:47:57.267Z"
   },
   {
    "duration": 16,
    "start_time": "2021-11-26T12:47:57.374Z"
   },
   {
    "duration": 41,
    "start_time": "2021-11-26T12:47:57.394Z"
   },
   {
    "duration": 20,
    "start_time": "2021-11-26T12:47:57.438Z"
   },
   {
    "duration": 75,
    "start_time": "2021-11-26T12:47:57.460Z"
   },
   {
    "duration": 36,
    "start_time": "2021-11-26T12:47:57.537Z"
   },
   {
    "duration": 241,
    "start_time": "2021-11-26T12:47:57.576Z"
   },
   {
    "duration": 81,
    "start_time": "2021-11-26T12:47:57.819Z"
   },
   {
    "duration": 19,
    "start_time": "2021-11-26T12:47:57.902Z"
   },
   {
    "duration": 3,
    "start_time": "2021-11-26T12:47:57.923Z"
   },
   {
    "duration": 92,
    "start_time": "2021-11-26T12:47:57.929Z"
   },
   {
    "duration": 44,
    "start_time": "2021-11-26T12:47:58.023Z"
   },
   {
    "duration": 40,
    "start_time": "2021-11-26T12:47:58.070Z"
   },
   {
    "duration": 16,
    "start_time": "2021-11-26T12:47:58.113Z"
   },
   {
    "duration": 47,
    "start_time": "2021-11-26T12:47:58.131Z"
   },
   {
    "duration": 34,
    "start_time": "2021-11-26T12:47:58.180Z"
   },
   {
    "duration": 70,
    "start_time": "2021-11-26T12:47:58.216Z"
   },
   {
    "duration": 21,
    "start_time": "2021-11-26T12:47:58.289Z"
   },
   {
    "duration": 53,
    "start_time": "2021-11-26T12:47:58.312Z"
   },
   {
    "duration": 24,
    "start_time": "2021-11-26T12:47:58.367Z"
   },
   {
    "duration": 44,
    "start_time": "2021-11-26T12:47:58.393Z"
   },
   {
    "duration": 39,
    "start_time": "2021-11-26T12:47:58.439Z"
   },
   {
    "duration": 13,
    "start_time": "2021-11-26T12:47:58.480Z"
   },
   {
    "duration": 9,
    "start_time": "2021-11-26T12:47:58.495Z"
   },
   {
    "duration": 12,
    "start_time": "2021-11-26T12:47:58.506Z"
   },
   {
    "duration": 136,
    "start_time": "2021-11-26T12:48:02.317Z"
   },
   {
    "duration": 50,
    "start_time": "2021-11-26T12:48:53.811Z"
   },
   {
    "duration": 124,
    "start_time": "2021-11-26T12:51:47.560Z"
   },
   {
    "duration": 114,
    "start_time": "2021-11-26T12:53:52.315Z"
   },
   {
    "duration": 124,
    "start_time": "2021-11-26T12:54:59.718Z"
   },
   {
    "duration": 40,
    "start_time": "2021-11-26T13:02:33.972Z"
   },
   {
    "duration": 288,
    "start_time": "2021-11-26T13:21:16.036Z"
   },
   {
    "duration": 584,
    "start_time": "2021-11-26T13:21:37.795Z"
   },
   {
    "duration": 166,
    "start_time": "2021-11-26T13:21:38.380Z"
   },
   {
    "duration": 27,
    "start_time": "2021-11-26T13:21:38.549Z"
   },
   {
    "duration": 165,
    "start_time": "2021-11-26T13:21:38.579Z"
   },
   {
    "duration": 26,
    "start_time": "2021-11-26T13:21:38.746Z"
   },
   {
    "duration": 95,
    "start_time": "2021-11-26T13:21:38.774Z"
   },
   {
    "duration": 18,
    "start_time": "2021-11-26T13:21:38.872Z"
   },
   {
    "duration": 23,
    "start_time": "2021-11-26T13:21:38.894Z"
   },
   {
    "duration": 9,
    "start_time": "2021-11-26T13:21:38.920Z"
   },
   {
    "duration": 35,
    "start_time": "2021-11-26T13:21:38.963Z"
   },
   {
    "duration": 7,
    "start_time": "2021-11-26T13:21:39.000Z"
   },
   {
    "duration": 212,
    "start_time": "2021-11-26T13:21:39.008Z"
   },
   {
    "duration": 78,
    "start_time": "2021-11-26T13:21:39.221Z"
   },
   {
    "duration": 14,
    "start_time": "2021-11-26T13:21:39.301Z"
   },
   {
    "duration": 8,
    "start_time": "2021-11-26T13:21:39.317Z"
   },
   {
    "duration": 85,
    "start_time": "2021-11-26T13:21:39.327Z"
   },
   {
    "duration": 28,
    "start_time": "2021-11-26T13:21:39.414Z"
   },
   {
    "duration": 40,
    "start_time": "2021-11-26T13:21:39.444Z"
   },
   {
    "duration": 14,
    "start_time": "2021-11-26T13:21:39.486Z"
   },
   {
    "duration": 15,
    "start_time": "2021-11-26T13:21:39.501Z"
   },
   {
    "duration": 62,
    "start_time": "2021-11-26T13:21:39.518Z"
   },
   {
    "duration": 49,
    "start_time": "2021-11-26T13:21:39.581Z"
   },
   {
    "duration": 47,
    "start_time": "2021-11-26T13:21:39.635Z"
   },
   {
    "duration": 39,
    "start_time": "2021-11-26T13:21:39.684Z"
   },
   {
    "duration": 46,
    "start_time": "2021-11-26T13:21:39.725Z"
   },
   {
    "duration": 35,
    "start_time": "2021-11-26T13:21:39.773Z"
   },
   {
    "duration": 12,
    "start_time": "2021-11-26T13:21:39.810Z"
   },
   {
    "duration": 18,
    "start_time": "2021-11-26T13:21:39.823Z"
   },
   {
    "duration": 301,
    "start_time": "2021-11-26T13:21:39.864Z"
   },
   {
    "duration": -41267,
    "start_time": "2021-11-26T13:22:21.434Z"
   },
   {
    "duration": -41279,
    "start_time": "2021-11-26T13:22:21.447Z"
   },
   {
    "duration": -41284,
    "start_time": "2021-11-26T13:22:21.453Z"
   },
   {
    "duration": 299,
    "start_time": "2021-11-26T13:21:52.610Z"
   },
   {
    "duration": 236,
    "start_time": "2021-11-26T13:22:40.760Z"
   },
   {
    "duration": 243,
    "start_time": "2021-11-26T13:24:12.164Z"
   },
   {
    "duration": 248,
    "start_time": "2021-11-26T13:24:34.965Z"
   },
   {
    "duration": 9,
    "start_time": "2021-11-26T13:24:48.217Z"
   },
   {
    "duration": 7,
    "start_time": "2021-11-26T13:24:54.058Z"
   },
   {
    "duration": 9,
    "start_time": "2021-11-26T13:25:04.561Z"
   },
   {
    "duration": 9,
    "start_time": "2021-11-26T13:25:29.132Z"
   },
   {
    "duration": 11,
    "start_time": "2021-11-26T13:31:11.429Z"
   },
   {
    "duration": 17,
    "start_time": "2021-11-26T13:31:51.995Z"
   },
   {
    "duration": 10,
    "start_time": "2021-11-26T13:31:56.456Z"
   },
   {
    "duration": 8,
    "start_time": "2021-11-26T13:32:02.522Z"
   },
   {
    "duration": 12,
    "start_time": "2021-11-26T13:32:14.994Z"
   },
   {
    "duration": 8,
    "start_time": "2021-11-26T13:36:16.324Z"
   },
   {
    "duration": 22,
    "start_time": "2021-11-26T13:36:21.906Z"
   },
   {
    "duration": 20,
    "start_time": "2021-11-26T13:36:56.133Z"
   },
   {
    "duration": 21,
    "start_time": "2021-11-26T13:51:27.832Z"
   },
   {
    "duration": 10,
    "start_time": "2021-11-26T13:51:35.878Z"
   },
   {
    "duration": 453,
    "start_time": "2021-11-26T13:55:15.809Z"
   },
   {
    "duration": 3605,
    "start_time": "2021-11-26T13:57:22.741Z"
   },
   {
    "duration": 25,
    "start_time": "2021-11-26T13:58:10.138Z"
   },
   {
    "duration": 3443,
    "start_time": "2021-11-26T13:58:40.830Z"
   },
   {
    "duration": 84,
    "start_time": "2021-11-26T13:59:13.308Z"
   },
   {
    "duration": 3458,
    "start_time": "2021-11-26T13:59:20.178Z"
   },
   {
    "duration": 3291,
    "start_time": "2021-11-26T13:59:50.041Z"
   },
   {
    "duration": 3514,
    "start_time": "2021-11-26T14:00:22.420Z"
   },
   {
    "duration": 59,
    "start_time": "2021-11-26T14:00:45.858Z"
   },
   {
    "duration": 23,
    "start_time": "2021-11-26T14:00:51.392Z"
   },
   {
    "duration": 551,
    "start_time": "2021-11-26T14:01:47.473Z"
   },
   {
    "duration": 72,
    "start_time": "2021-11-26T14:02:01.667Z"
   },
   {
    "duration": 19,
    "start_time": "2021-11-26T14:02:03.874Z"
   },
   {
    "duration": 76,
    "start_time": "2021-11-26T14:02:43.021Z"
   },
   {
    "duration": 22,
    "start_time": "2021-11-26T14:02:43.752Z"
   },
   {
    "duration": 28,
    "start_time": "2021-11-26T14:08:13.045Z"
   },
   {
    "duration": 74,
    "start_time": "2021-11-26T14:09:25.158Z"
   },
   {
    "duration": 98,
    "start_time": "2021-11-26T14:09:34.958Z"
   },
   {
    "duration": 368,
    "start_time": "2021-11-26T14:15:30.400Z"
   },
   {
    "duration": 79,
    "start_time": "2021-11-26T14:15:58.877Z"
   },
   {
    "duration": 79,
    "start_time": "2021-11-26T14:16:10.383Z"
   },
   {
    "duration": 80,
    "start_time": "2021-11-26T14:17:25.061Z"
   },
   {
    "duration": 79,
    "start_time": "2021-11-26T14:17:49.973Z"
   },
   {
    "duration": 129,
    "start_time": "2021-11-26T14:23:59.186Z"
   },
   {
    "duration": 41,
    "start_time": "2021-11-26T16:05:33.095Z"
   },
   {
    "duration": 39,
    "start_time": "2021-11-26T16:05:50.568Z"
   },
   {
    "duration": 20,
    "start_time": "2021-11-26T16:06:27.579Z"
   },
   {
    "duration": 6956,
    "start_time": "2021-11-26T16:09:36.002Z"
   },
   {
    "duration": 16,
    "start_time": "2021-11-26T16:10:24.187Z"
   },
   {
    "duration": 7028,
    "start_time": "2021-11-26T16:10:51.837Z"
   },
   {
    "duration": 80,
    "start_time": "2021-11-26T16:11:11.037Z"
   },
   {
    "duration": 74,
    "start_time": "2021-11-26T16:12:06.596Z"
   },
   {
    "duration": 91,
    "start_time": "2021-11-26T16:12:22.244Z"
   },
   {
    "duration": 65,
    "start_time": "2021-11-26T16:16:07.920Z"
   },
   {
    "duration": 37,
    "start_time": "2021-11-26T16:32:59.231Z"
   },
   {
    "duration": 13,
    "start_time": "2021-11-26T16:34:38.877Z"
   },
   {
    "duration": 12,
    "start_time": "2021-11-26T16:34:43.044Z"
   },
   {
    "duration": 17,
    "start_time": "2021-11-26T16:37:04.283Z"
   },
   {
    "duration": 136,
    "start_time": "2021-11-26T16:38:50.618Z"
   },
   {
    "duration": 82,
    "start_time": "2021-11-26T16:39:50.279Z"
   },
   {
    "duration": 75,
    "start_time": "2021-11-26T16:40:20.999Z"
   },
   {
    "duration": 615,
    "start_time": "2021-11-26T16:43:05.172Z"
   },
   {
    "duration": 186,
    "start_time": "2021-11-26T16:43:05.789Z"
   },
   {
    "duration": 20,
    "start_time": "2021-11-26T16:43:05.980Z"
   },
   {
    "duration": 161,
    "start_time": "2021-11-26T16:43:06.002Z"
   },
   {
    "duration": 16,
    "start_time": "2021-11-26T16:43:06.165Z"
   },
   {
    "duration": 112,
    "start_time": "2021-11-26T16:43:06.183Z"
   },
   {
    "duration": 15,
    "start_time": "2021-11-26T16:43:06.299Z"
   },
   {
    "duration": 23,
    "start_time": "2021-11-26T16:43:06.316Z"
   },
   {
    "duration": 24,
    "start_time": "2021-11-26T16:43:06.340Z"
   },
   {
    "duration": 38,
    "start_time": "2021-11-26T16:43:06.366Z"
   },
   {
    "duration": 7,
    "start_time": "2021-11-26T16:43:06.406Z"
   },
   {
    "duration": 233,
    "start_time": "2021-11-26T16:43:06.415Z"
   },
   {
    "duration": 76,
    "start_time": "2021-11-26T16:43:06.650Z"
   },
   {
    "duration": 13,
    "start_time": "2021-11-26T16:43:06.728Z"
   },
   {
    "duration": 21,
    "start_time": "2021-11-26T16:43:06.743Z"
   },
   {
    "duration": 76,
    "start_time": "2021-11-26T16:43:06.766Z"
   },
   {
    "duration": 50,
    "start_time": "2021-11-26T16:43:06.844Z"
   },
   {
    "duration": 28,
    "start_time": "2021-11-26T16:43:06.896Z"
   },
   {
    "duration": 43,
    "start_time": "2021-11-26T16:43:06.926Z"
   },
   {
    "duration": 14,
    "start_time": "2021-11-26T16:43:06.971Z"
   },
   {
    "duration": 39,
    "start_time": "2021-11-26T16:43:06.987Z"
   },
   {
    "duration": 93,
    "start_time": "2021-11-26T16:43:07.030Z"
   },
   {
    "duration": 39,
    "start_time": "2021-11-26T16:43:07.126Z"
   },
   {
    "duration": 53,
    "start_time": "2021-11-26T16:43:07.168Z"
   },
   {
    "duration": 44,
    "start_time": "2021-11-26T16:43:07.223Z"
   },
   {
    "duration": 35,
    "start_time": "2021-11-26T16:43:07.269Z"
   },
   {
    "duration": 11,
    "start_time": "2021-11-26T16:43:07.305Z"
   },
   {
    "duration": 47,
    "start_time": "2021-11-26T16:43:07.317Z"
   },
   {
    "duration": 77,
    "start_time": "2021-11-26T16:43:07.366Z"
   },
   {
    "duration": 83,
    "start_time": "2021-11-26T16:43:07.446Z"
   },
   {
    "duration": 102,
    "start_time": "2021-11-26T16:43:07.531Z"
   },
   {
    "duration": 79,
    "start_time": "2021-11-26T16:43:50.917Z"
   },
   {
    "duration": 77,
    "start_time": "2021-11-26T16:44:09.194Z"
   },
   {
    "duration": 67,
    "start_time": "2021-11-26T16:44:20.418Z"
   },
   {
    "duration": 624,
    "start_time": "2021-11-26T16:44:46.188Z"
   },
   {
    "duration": 173,
    "start_time": "2021-11-26T16:44:46.814Z"
   },
   {
    "duration": 22,
    "start_time": "2021-11-26T16:44:46.989Z"
   },
   {
    "duration": 157,
    "start_time": "2021-11-26T16:44:47.013Z"
   },
   {
    "duration": 16,
    "start_time": "2021-11-26T16:44:47.172Z"
   },
   {
    "duration": 109,
    "start_time": "2021-11-26T16:44:47.190Z"
   },
   {
    "duration": 14,
    "start_time": "2021-11-26T16:44:47.301Z"
   },
   {
    "duration": 28,
    "start_time": "2021-11-26T16:44:47.318Z"
   },
   {
    "duration": 29,
    "start_time": "2021-11-26T16:44:47.350Z"
   },
   {
    "duration": 39,
    "start_time": "2021-11-26T16:44:47.381Z"
   },
   {
    "duration": 19,
    "start_time": "2021-11-26T16:44:47.422Z"
   },
   {
    "duration": 248,
    "start_time": "2021-11-26T16:44:47.443Z"
   },
   {
    "duration": 112,
    "start_time": "2021-11-26T16:44:47.693Z"
   },
   {
    "duration": 20,
    "start_time": "2021-11-26T16:44:47.807Z"
   },
   {
    "duration": 22,
    "start_time": "2021-11-26T16:44:47.829Z"
   },
   {
    "duration": 110,
    "start_time": "2021-11-26T16:44:47.852Z"
   },
   {
    "duration": 30,
    "start_time": "2021-11-26T16:44:47.964Z"
   },
   {
    "duration": 27,
    "start_time": "2021-11-26T16:44:47.995Z"
   },
   {
    "duration": 40,
    "start_time": "2021-11-26T16:44:48.024Z"
   },
   {
    "duration": 15,
    "start_time": "2021-11-26T16:44:48.066Z"
   },
   {
    "duration": 31,
    "start_time": "2021-11-26T16:44:48.082Z"
   },
   {
    "duration": 75,
    "start_time": "2021-11-26T16:44:48.115Z"
   },
   {
    "duration": 21,
    "start_time": "2021-11-26T16:44:48.193Z"
   },
   {
    "duration": 57,
    "start_time": "2021-11-26T16:44:48.216Z"
   },
   {
    "duration": 24,
    "start_time": "2021-11-26T16:44:48.274Z"
   },
   {
    "duration": 33,
    "start_time": "2021-11-26T16:44:48.300Z"
   },
   {
    "duration": 37,
    "start_time": "2021-11-26T16:44:48.335Z"
   },
   {
    "duration": 14,
    "start_time": "2021-11-26T16:44:48.374Z"
   },
   {
    "duration": 137,
    "start_time": "2021-11-26T16:44:48.390Z"
   },
   {
    "duration": 75,
    "start_time": "2021-11-26T16:44:48.529Z"
   },
   {
    "duration": 85,
    "start_time": "2021-11-26T16:44:48.605Z"
   },
   {
    "duration": 18,
    "start_time": "2021-11-26T16:52:05.476Z"
   },
   {
    "duration": 1048,
    "start_time": "2021-11-26T17:00:28.631Z"
   },
   {
    "duration": 62,
    "start_time": "2021-11-26T17:01:49.613Z"
   },
   {
    "duration": 133,
    "start_time": "2021-11-26T17:07:21.700Z"
   },
   {
    "duration": 1091,
    "start_time": "2021-11-26T17:07:59.513Z"
   },
   {
    "duration": 935,
    "start_time": "2021-11-26T17:08:08.568Z"
   },
   {
    "duration": 958,
    "start_time": "2021-11-26T17:08:24.613Z"
   },
   {
    "duration": 624,
    "start_time": "2021-11-26T17:08:48.911Z"
   },
   {
    "duration": 195,
    "start_time": "2021-11-26T17:08:49.538Z"
   },
   {
    "duration": 31,
    "start_time": "2021-11-26T17:08:49.736Z"
   },
   {
    "duration": 155,
    "start_time": "2021-11-26T17:08:49.769Z"
   },
   {
    "duration": 19,
    "start_time": "2021-11-26T17:08:49.926Z"
   },
   {
    "duration": 119,
    "start_time": "2021-11-26T17:08:49.946Z"
   },
   {
    "duration": 16,
    "start_time": "2021-11-26T17:08:50.067Z"
   },
   {
    "duration": 26,
    "start_time": "2021-11-26T17:08:50.087Z"
   },
   {
    "duration": 11,
    "start_time": "2021-11-26T17:08:50.116Z"
   },
   {
    "duration": 41,
    "start_time": "2021-11-26T17:08:50.130Z"
   },
   {
    "duration": 10,
    "start_time": "2021-11-26T17:08:50.173Z"
   },
   {
    "duration": 408,
    "start_time": "2021-11-26T17:08:50.186Z"
   },
   {
    "duration": 112,
    "start_time": "2021-11-26T17:08:50.597Z"
   },
   {
    "duration": 21,
    "start_time": "2021-11-26T17:08:50.711Z"
   },
   {
    "duration": 5,
    "start_time": "2021-11-26T17:08:50.734Z"
   },
   {
    "duration": 141,
    "start_time": "2021-11-26T17:08:50.741Z"
   },
   {
    "duration": 46,
    "start_time": "2021-11-26T17:08:50.884Z"
   },
   {
    "duration": 62,
    "start_time": "2021-11-26T17:08:50.933Z"
   },
   {
    "duration": 18,
    "start_time": "2021-11-26T17:08:50.998Z"
   },
   {
    "duration": 25,
    "start_time": "2021-11-26T17:08:51.018Z"
   },
   {
    "duration": 53,
    "start_time": "2021-11-26T17:08:51.045Z"
   },
   {
    "duration": 80,
    "start_time": "2021-11-26T17:08:51.100Z"
   },
   {
    "duration": 21,
    "start_time": "2021-11-26T17:08:51.185Z"
   },
   {
    "duration": 65,
    "start_time": "2021-11-26T17:08:51.208Z"
   },
   {
    "duration": 25,
    "start_time": "2021-11-26T17:08:51.275Z"
   },
   {
    "duration": 37,
    "start_time": "2021-11-26T17:08:51.302Z"
   },
   {
    "duration": 12,
    "start_time": "2021-11-26T17:08:51.364Z"
   },
   {
    "duration": 23,
    "start_time": "2021-11-26T17:08:51.378Z"
   },
   {
    "duration": 102,
    "start_time": "2021-11-26T17:08:51.403Z"
   },
   {
    "duration": 126,
    "start_time": "2021-11-26T17:08:51.508Z"
   },
   {
    "duration": 142,
    "start_time": "2021-11-26T17:08:51.636Z"
   },
   {
    "duration": 25,
    "start_time": "2021-11-26T17:08:51.780Z"
   },
   {
    "duration": 95,
    "start_time": "2021-11-26T17:08:51.807Z"
   },
   {
    "duration": 68,
    "start_time": "2021-11-26T17:09:35.829Z"
   },
   {
    "duration": 55,
    "start_time": "2021-11-26T17:10:05.745Z"
   },
   {
    "duration": 52,
    "start_time": "2021-11-26T17:10:21.410Z"
   },
   {
    "duration": 5,
    "start_time": "2021-11-26T17:10:27.401Z"
   },
   {
    "duration": 1026,
    "start_time": "2021-11-26T17:10:58.606Z"
   },
   {
    "duration": 995,
    "start_time": "2021-11-26T17:11:09.883Z"
   },
   {
    "duration": 995,
    "start_time": "2021-11-26T17:12:00.457Z"
   },
   {
    "duration": 711,
    "start_time": "2021-11-26T17:12:14.830Z"
   },
   {
    "duration": 180,
    "start_time": "2021-11-26T17:12:15.544Z"
   },
   {
    "duration": 40,
    "start_time": "2021-11-26T17:12:15.727Z"
   },
   {
    "duration": 143,
    "start_time": "2021-11-26T17:12:15.769Z"
   },
   {
    "duration": 18,
    "start_time": "2021-11-26T17:12:15.913Z"
   },
   {
    "duration": 112,
    "start_time": "2021-11-26T17:12:15.933Z"
   },
   {
    "duration": 25,
    "start_time": "2021-11-26T17:12:16.047Z"
   },
   {
    "duration": 28,
    "start_time": "2021-11-26T17:12:16.075Z"
   },
   {
    "duration": 11,
    "start_time": "2021-11-26T17:12:16.105Z"
   },
   {
    "duration": 37,
    "start_time": "2021-11-26T17:12:16.117Z"
   },
   {
    "duration": 6,
    "start_time": "2021-11-26T17:12:16.156Z"
   },
   {
    "duration": 349,
    "start_time": "2021-11-26T17:12:16.164Z"
   },
   {
    "duration": 77,
    "start_time": "2021-11-26T17:12:16.515Z"
   },
   {
    "duration": 12,
    "start_time": "2021-11-26T17:12:16.594Z"
   },
   {
    "duration": 2,
    "start_time": "2021-11-26T17:12:16.608Z"
   },
   {
    "duration": 100,
    "start_time": "2021-11-26T17:12:16.612Z"
   },
   {
    "duration": 31,
    "start_time": "2021-11-26T17:12:16.714Z"
   },
   {
    "duration": 45,
    "start_time": "2021-11-26T17:12:16.747Z"
   },
   {
    "duration": 20,
    "start_time": "2021-11-26T17:12:16.794Z"
   },
   {
    "duration": 48,
    "start_time": "2021-11-26T17:12:16.815Z"
   },
   {
    "duration": 28,
    "start_time": "2021-11-26T17:12:16.865Z"
   },
   {
    "duration": 72,
    "start_time": "2021-11-26T17:12:16.895Z"
   },
   {
    "duration": 19,
    "start_time": "2021-11-26T17:12:16.970Z"
   },
   {
    "duration": 35,
    "start_time": "2021-11-26T17:12:16.991Z"
   },
   {
    "duration": 49,
    "start_time": "2021-11-26T17:12:17.028Z"
   },
   {
    "duration": 33,
    "start_time": "2021-11-26T17:12:17.079Z"
   },
   {
    "duration": 11,
    "start_time": "2021-11-26T17:12:17.114Z"
   },
   {
    "duration": 10,
    "start_time": "2021-11-26T17:12:17.164Z"
   },
   {
    "duration": 98,
    "start_time": "2021-11-26T17:12:17.176Z"
   },
   {
    "duration": 66,
    "start_time": "2021-11-26T17:12:17.276Z"
   },
   {
    "duration": 101,
    "start_time": "2021-11-26T17:12:17.344Z"
   },
   {
    "duration": 32,
    "start_time": "2021-11-26T17:12:17.447Z"
   },
   {
    "duration": 97,
    "start_time": "2021-11-26T17:12:17.482Z"
   },
   {
    "duration": 108,
    "start_time": "2021-11-26T17:13:19.797Z"
   },
   {
    "duration": 457,
    "start_time": "2021-11-26T17:13:58.913Z"
   },
   {
    "duration": 283,
    "start_time": "2021-11-26T17:15:30.375Z"
   },
   {
    "duration": 104,
    "start_time": "2021-11-26T17:15:43.626Z"
   },
   {
    "duration": 622,
    "start_time": "2021-11-26T17:16:00.863Z"
   },
   {
    "duration": 198,
    "start_time": "2021-11-26T17:16:01.487Z"
   },
   {
    "duration": 23,
    "start_time": "2021-11-26T17:16:01.688Z"
   },
   {
    "duration": 177,
    "start_time": "2021-11-26T17:16:01.713Z"
   },
   {
    "duration": 19,
    "start_time": "2021-11-26T17:16:01.892Z"
   },
   {
    "duration": 161,
    "start_time": "2021-11-26T17:16:01.913Z"
   },
   {
    "duration": 25,
    "start_time": "2021-11-26T17:16:02.076Z"
   },
   {
    "duration": 47,
    "start_time": "2021-11-26T17:16:02.104Z"
   },
   {
    "duration": 61,
    "start_time": "2021-11-26T17:16:02.153Z"
   },
   {
    "duration": 141,
    "start_time": "2021-11-26T17:16:02.217Z"
   },
   {
    "duration": 183,
    "start_time": "2021-11-26T17:16:02.361Z"
   },
   {
    "duration": 274,
    "start_time": "2021-11-26T17:16:02.546Z"
   },
   {
    "duration": 76,
    "start_time": "2021-11-26T17:16:02.822Z"
   },
   {
    "duration": 15,
    "start_time": "2021-11-26T17:16:02.901Z"
   },
   {
    "duration": 3,
    "start_time": "2021-11-26T17:16:02.919Z"
   },
   {
    "duration": 98,
    "start_time": "2021-11-26T17:16:02.925Z"
   },
   {
    "duration": 46,
    "start_time": "2021-11-26T17:16:03.025Z"
   },
   {
    "duration": 31,
    "start_time": "2021-11-26T17:16:03.073Z"
   },
   {
    "duration": 17,
    "start_time": "2021-11-26T17:16:03.107Z"
   },
   {
    "duration": 17,
    "start_time": "2021-11-26T17:16:03.162Z"
   },
   {
    "duration": 52,
    "start_time": "2021-11-26T17:16:03.181Z"
   },
   {
    "duration": 64,
    "start_time": "2021-11-26T17:16:03.235Z"
   },
   {
    "duration": 22,
    "start_time": "2021-11-26T17:16:03.303Z"
   },
   {
    "duration": 71,
    "start_time": "2021-11-26T17:16:03.327Z"
   },
   {
    "duration": 35,
    "start_time": "2021-11-26T17:16:03.401Z"
   },
   {
    "duration": 74,
    "start_time": "2021-11-26T17:16:03.438Z"
   },
   {
    "duration": 14,
    "start_time": "2021-11-26T17:16:03.514Z"
   },
   {
    "duration": 39,
    "start_time": "2021-11-26T17:16:03.530Z"
   },
   {
    "duration": 96,
    "start_time": "2021-11-26T17:16:03.572Z"
   },
   {
    "duration": 72,
    "start_time": "2021-11-26T17:16:03.670Z"
   },
   {
    "duration": 96,
    "start_time": "2021-11-26T17:16:03.743Z"
   },
   {
    "duration": 37,
    "start_time": "2021-11-26T17:16:03.841Z"
   },
   {
    "duration": 85,
    "start_time": "2021-11-26T17:16:03.880Z"
   },
   {
    "duration": 202,
    "start_time": "2021-11-26T17:16:40.703Z"
   },
   {
    "duration": 118,
    "start_time": "2021-11-26T17:19:17.508Z"
   },
   {
    "duration": 18,
    "start_time": "2021-11-26T17:22:01.063Z"
   },
   {
    "duration": 24,
    "start_time": "2021-11-26T17:22:18.031Z"
   },
   {
    "duration": 164,
    "start_time": "2021-11-26T17:25:32.631Z"
   },
   {
    "duration": 106,
    "start_time": "2021-11-26T17:25:43.682Z"
   },
   {
    "duration": 109,
    "start_time": "2021-11-26T17:25:48.507Z"
   },
   {
    "duration": 108,
    "start_time": "2021-11-26T17:26:08.412Z"
   },
   {
    "duration": 105,
    "start_time": "2021-11-26T17:28:32.719Z"
   },
   {
    "duration": 780,
    "start_time": "2021-11-26T17:30:27.918Z"
   },
   {
    "duration": 261,
    "start_time": "2021-11-26T17:30:28.700Z"
   },
   {
    "duration": 37,
    "start_time": "2021-11-26T17:30:28.964Z"
   },
   {
    "duration": 230,
    "start_time": "2021-11-26T17:30:29.004Z"
   },
   {
    "duration": 37,
    "start_time": "2021-11-26T17:30:29.237Z"
   },
   {
    "duration": 105,
    "start_time": "2021-11-26T17:30:29.277Z"
   },
   {
    "duration": 16,
    "start_time": "2021-11-26T17:30:29.383Z"
   },
   {
    "duration": 33,
    "start_time": "2021-11-26T17:30:29.402Z"
   },
   {
    "duration": 9,
    "start_time": "2021-11-26T17:30:29.439Z"
   },
   {
    "duration": 35,
    "start_time": "2021-11-26T17:30:29.464Z"
   },
   {
    "duration": 7,
    "start_time": "2021-11-26T17:30:29.501Z"
   },
   {
    "duration": 257,
    "start_time": "2021-11-26T17:30:29.510Z"
   },
   {
    "duration": 66,
    "start_time": "2021-11-26T17:30:29.770Z"
   },
   {
    "duration": 31,
    "start_time": "2021-11-26T17:30:29.838Z"
   },
   {
    "duration": 2,
    "start_time": "2021-11-26T17:30:29.871Z"
   },
   {
    "duration": 96,
    "start_time": "2021-11-26T17:30:29.874Z"
   },
   {
    "duration": 33,
    "start_time": "2021-11-26T17:30:29.973Z"
   },
   {
    "duration": 56,
    "start_time": "2021-11-26T17:30:30.008Z"
   },
   {
    "duration": 15,
    "start_time": "2021-11-26T17:30:30.066Z"
   },
   {
    "duration": 23,
    "start_time": "2021-11-26T17:30:30.084Z"
   },
   {
    "duration": 59,
    "start_time": "2021-11-26T17:30:30.109Z"
   },
   {
    "duration": 56,
    "start_time": "2021-11-26T17:30:30.170Z"
   },
   {
    "duration": 42,
    "start_time": "2021-11-26T17:30:30.230Z"
   },
   {
    "duration": 40,
    "start_time": "2021-11-26T17:30:30.274Z"
   },
   {
    "duration": 50,
    "start_time": "2021-11-26T17:30:30.316Z"
   },
   {
    "duration": 37,
    "start_time": "2021-11-26T17:30:30.368Z"
   },
   {
    "duration": 13,
    "start_time": "2021-11-26T17:30:30.406Z"
   },
   {
    "duration": 46,
    "start_time": "2021-11-26T17:30:30.420Z"
   },
   {
    "duration": 96,
    "start_time": "2021-11-26T17:30:30.469Z"
   },
   {
    "duration": 96,
    "start_time": "2021-11-26T17:30:30.567Z"
   },
   {
    "duration": 99,
    "start_time": "2021-11-26T17:30:30.665Z"
   },
   {
    "duration": 145,
    "start_time": "2021-11-26T17:30:30.767Z"
   },
   {
    "duration": 120,
    "start_time": "2021-11-26T17:30:30.914Z"
   },
   {
    "duration": 20,
    "start_time": "2021-11-26T17:41:06.619Z"
   },
   {
    "duration": 121,
    "start_time": "2021-11-26T17:42:03.308Z"
   },
   {
    "duration": 125,
    "start_time": "2021-11-26T17:42:17.935Z"
   },
   {
    "duration": 207,
    "start_time": "2021-11-26T17:43:41.657Z"
   },
   {
    "duration": 198,
    "start_time": "2021-11-26T17:44:10.279Z"
   },
   {
    "duration": 138,
    "start_time": "2021-11-26T17:46:26.220Z"
   },
   {
    "duration": 143,
    "start_time": "2021-11-26T17:48:52.130Z"
   },
   {
    "duration": 175,
    "start_time": "2021-11-26T17:51:09.595Z"
   },
   {
    "duration": 773,
    "start_time": "2021-11-26T17:52:28.337Z"
   },
   {
    "duration": 241,
    "start_time": "2021-11-26T17:52:29.112Z"
   },
   {
    "duration": 36,
    "start_time": "2021-11-26T17:52:29.356Z"
   },
   {
    "duration": 206,
    "start_time": "2021-11-26T17:52:29.394Z"
   },
   {
    "duration": 27,
    "start_time": "2021-11-26T17:52:29.603Z"
   },
   {
    "duration": 135,
    "start_time": "2021-11-26T17:52:29.632Z"
   },
   {
    "duration": 24,
    "start_time": "2021-11-26T17:52:29.770Z"
   },
   {
    "duration": 26,
    "start_time": "2021-11-26T17:52:29.798Z"
   },
   {
    "duration": 14,
    "start_time": "2021-11-26T17:52:29.827Z"
   },
   {
    "duration": 53,
    "start_time": "2021-11-26T17:52:29.843Z"
   },
   {
    "duration": 8,
    "start_time": "2021-11-26T17:52:29.898Z"
   },
   {
    "duration": 250,
    "start_time": "2021-11-26T17:52:29.907Z"
   },
   {
    "duration": 62,
    "start_time": "2021-11-26T17:52:30.159Z"
   },
   {
    "duration": 15,
    "start_time": "2021-11-26T17:52:30.223Z"
   },
   {
    "duration": 3,
    "start_time": "2021-11-26T17:52:30.264Z"
   },
   {
    "duration": 89,
    "start_time": "2021-11-26T17:52:30.269Z"
   },
   {
    "duration": 32,
    "start_time": "2021-11-26T17:52:30.360Z"
   },
   {
    "duration": 29,
    "start_time": "2021-11-26T17:52:30.394Z"
   },
   {
    "duration": 50,
    "start_time": "2021-11-26T17:52:30.425Z"
   },
   {
    "duration": 20,
    "start_time": "2021-11-26T17:52:30.477Z"
   },
   {
    "duration": 44,
    "start_time": "2021-11-26T17:52:30.499Z"
   },
   {
    "duration": 89,
    "start_time": "2021-11-26T17:52:30.545Z"
   },
   {
    "duration": 41,
    "start_time": "2021-11-26T17:52:30.638Z"
   },
   {
    "duration": 36,
    "start_time": "2021-11-26T17:52:30.680Z"
   },
   {
    "duration": 23,
    "start_time": "2021-11-26T17:52:30.718Z"
   },
   {
    "duration": 64,
    "start_time": "2021-11-26T17:52:30.743Z"
   },
   {
    "duration": 15,
    "start_time": "2021-11-26T17:52:30.809Z"
   },
   {
    "duration": 50,
    "start_time": "2021-11-26T17:52:30.827Z"
   },
   {
    "duration": 128,
    "start_time": "2021-11-26T17:52:30.879Z"
   },
   {
    "duration": 115,
    "start_time": "2021-11-26T17:52:31.010Z"
   },
   {
    "duration": 133,
    "start_time": "2021-11-26T17:52:31.127Z"
   },
   {
    "duration": 205,
    "start_time": "2021-11-26T17:52:31.263Z"
   },
   {
    "duration": 177,
    "start_time": "2021-11-26T17:52:31.470Z"
   },
   {
    "duration": 215,
    "start_time": "2021-11-26T17:52:31.649Z"
   },
   {
    "duration": 616,
    "start_time": "2021-11-26T17:55:47.734Z"
   },
   {
    "duration": 171,
    "start_time": "2021-11-26T17:55:48.352Z"
   },
   {
    "duration": 44,
    "start_time": "2021-11-26T17:55:48.525Z"
   },
   {
    "duration": 202,
    "start_time": "2021-11-26T17:55:48.571Z"
   },
   {
    "duration": 27,
    "start_time": "2021-11-26T17:55:48.775Z"
   },
   {
    "duration": 136,
    "start_time": "2021-11-26T17:55:48.804Z"
   },
   {
    "duration": 26,
    "start_time": "2021-11-26T17:55:48.942Z"
   },
   {
    "duration": 22,
    "start_time": "2021-11-26T17:55:48.970Z"
   },
   {
    "duration": 9,
    "start_time": "2021-11-26T17:55:48.994Z"
   },
   {
    "duration": 43,
    "start_time": "2021-11-26T17:55:49.005Z"
   },
   {
    "duration": 8,
    "start_time": "2021-11-26T17:55:49.050Z"
   },
   {
    "duration": 227,
    "start_time": "2021-11-26T17:55:49.064Z"
   },
   {
    "duration": 73,
    "start_time": "2021-11-26T17:55:49.293Z"
   },
   {
    "duration": 11,
    "start_time": "2021-11-26T17:55:49.368Z"
   },
   {
    "duration": 3,
    "start_time": "2021-11-26T17:55:49.381Z"
   },
   {
    "duration": 92,
    "start_time": "2021-11-26T17:55:49.385Z"
   },
   {
    "duration": 31,
    "start_time": "2021-11-26T17:55:49.479Z"
   },
   {
    "duration": 27,
    "start_time": "2021-11-26T17:55:49.511Z"
   },
   {
    "duration": 34,
    "start_time": "2021-11-26T17:55:49.540Z"
   },
   {
    "duration": 15,
    "start_time": "2021-11-26T17:55:49.576Z"
   },
   {
    "duration": 29,
    "start_time": "2021-11-26T17:55:49.593Z"
   },
   {
    "duration": 86,
    "start_time": "2021-11-26T17:55:49.624Z"
   },
   {
    "duration": 19,
    "start_time": "2021-11-26T17:55:49.714Z"
   },
   {
    "duration": 56,
    "start_time": "2021-11-26T17:55:49.735Z"
   },
   {
    "duration": 24,
    "start_time": "2021-11-26T17:55:49.793Z"
   },
   {
    "duration": 63,
    "start_time": "2021-11-26T17:55:49.819Z"
   },
   {
    "duration": 14,
    "start_time": "2021-11-26T17:55:49.885Z"
   },
   {
    "duration": 16,
    "start_time": "2021-11-26T17:55:49.901Z"
   },
   {
    "duration": 150,
    "start_time": "2021-11-26T17:55:49.919Z"
   },
   {
    "duration": 118,
    "start_time": "2021-11-26T17:55:50.072Z"
   },
   {
    "duration": 129,
    "start_time": "2021-11-26T17:55:50.193Z"
   },
   {
    "duration": 141,
    "start_time": "2021-11-26T17:55:50.324Z"
   },
   {
    "duration": 130,
    "start_time": "2021-11-26T17:55:50.467Z"
   },
   {
    "duration": 130,
    "start_time": "2021-11-26T17:55:50.599Z"
   },
   {
    "duration": 618,
    "start_time": "2021-11-26T17:57:33.533Z"
   },
   {
    "duration": 171,
    "start_time": "2021-11-26T17:57:34.153Z"
   },
   {
    "duration": 38,
    "start_time": "2021-11-26T17:57:34.330Z"
   },
   {
    "duration": 147,
    "start_time": "2021-11-26T17:57:34.370Z"
   },
   {
    "duration": 17,
    "start_time": "2021-11-26T17:57:34.518Z"
   },
   {
    "duration": 103,
    "start_time": "2021-11-26T17:57:34.538Z"
   },
   {
    "duration": 22,
    "start_time": "2021-11-26T17:57:34.644Z"
   },
   {
    "duration": 21,
    "start_time": "2021-11-26T17:57:34.668Z"
   },
   {
    "duration": 7,
    "start_time": "2021-11-26T17:57:34.691Z"
   },
   {
    "duration": 39,
    "start_time": "2021-11-26T17:57:34.700Z"
   },
   {
    "duration": 7,
    "start_time": "2021-11-26T17:57:34.741Z"
   },
   {
    "duration": 227,
    "start_time": "2021-11-26T17:57:34.750Z"
   },
   {
    "duration": 63,
    "start_time": "2021-11-26T17:57:34.979Z"
   },
   {
    "duration": 26,
    "start_time": "2021-11-26T17:57:35.044Z"
   },
   {
    "duration": 3,
    "start_time": "2021-11-26T17:57:35.072Z"
   },
   {
    "duration": 146,
    "start_time": "2021-11-26T17:57:35.077Z"
   },
   {
    "duration": 57,
    "start_time": "2021-11-26T17:57:35.226Z"
   },
   {
    "duration": 38,
    "start_time": "2021-11-26T17:57:35.285Z"
   },
   {
    "duration": 14,
    "start_time": "2021-11-26T17:57:35.325Z"
   },
   {
    "duration": 40,
    "start_time": "2021-11-26T17:57:35.340Z"
   },
   {
    "duration": 31,
    "start_time": "2021-11-26T17:57:35.385Z"
   },
   {
    "duration": 83,
    "start_time": "2021-11-26T17:57:35.419Z"
   },
   {
    "duration": 22,
    "start_time": "2021-11-26T17:57:35.504Z"
   },
   {
    "duration": 62,
    "start_time": "2021-11-26T17:57:35.529Z"
   },
   {
    "duration": 24,
    "start_time": "2021-11-26T17:57:35.593Z"
   },
   {
    "duration": 60,
    "start_time": "2021-11-26T17:57:35.619Z"
   },
   {
    "duration": 12,
    "start_time": "2021-11-26T17:57:35.682Z"
   },
   {
    "duration": 38,
    "start_time": "2021-11-26T17:57:35.696Z"
   },
   {
    "duration": 141,
    "start_time": "2021-11-26T17:57:35.736Z"
   },
   {
    "duration": 66,
    "start_time": "2021-11-26T17:57:35.880Z"
   },
   {
    "duration": 88,
    "start_time": "2021-11-26T17:57:35.948Z"
   },
   {
    "duration": 142,
    "start_time": "2021-11-26T17:57:36.038Z"
   },
   {
    "duration": 119,
    "start_time": "2021-11-26T17:57:36.182Z"
   },
   {
    "duration": 135,
    "start_time": "2021-11-26T17:57:36.303Z"
   },
   {
    "duration": 10,
    "start_time": "2021-11-26T18:02:00.624Z"
   },
   {
    "duration": 12,
    "start_time": "2021-11-26T18:02:16.168Z"
   },
   {
    "duration": 4,
    "start_time": "2021-11-26T18:05:46.372Z"
   },
   {
    "duration": 4,
    "start_time": "2021-11-26T18:06:08.935Z"
   },
   {
    "duration": 132,
    "start_time": "2021-11-26T18:07:25.178Z"
   },
   {
    "duration": 42,
    "start_time": "2021-11-26T18:10:21.586Z"
   },
   {
    "duration": 10,
    "start_time": "2021-11-26T18:11:21.590Z"
   },
   {
    "duration": 30,
    "start_time": "2021-11-26T18:11:29.189Z"
   },
   {
    "duration": 16,
    "start_time": "2021-11-26T18:11:35.644Z"
   },
   {
    "duration": 11,
    "start_time": "2021-11-26T18:13:00.998Z"
   },
   {
    "duration": 36,
    "start_time": "2021-11-26T18:13:04.230Z"
   },
   {
    "duration": 17,
    "start_time": "2021-11-26T18:13:42.698Z"
   },
   {
    "duration": 373,
    "start_time": "2021-11-26T18:13:50.558Z"
   },
   {
    "duration": 8109,
    "start_time": "2021-11-26T18:14:44.361Z"
   },
   {
    "duration": 659,
    "start_time": "2021-11-26T18:15:31.125Z"
   },
   {
    "duration": 194,
    "start_time": "2021-11-26T18:15:31.786Z"
   },
   {
    "duration": 23,
    "start_time": "2021-11-26T18:15:31.982Z"
   },
   {
    "duration": 207,
    "start_time": "2021-11-26T18:15:32.007Z"
   },
   {
    "duration": 19,
    "start_time": "2021-11-26T18:15:32.216Z"
   },
   {
    "duration": 193,
    "start_time": "2021-11-26T18:15:32.238Z"
   },
   {
    "duration": 29,
    "start_time": "2021-11-26T18:15:32.434Z"
   },
   {
    "duration": 40,
    "start_time": "2021-11-26T18:15:32.466Z"
   },
   {
    "duration": 21,
    "start_time": "2021-11-26T18:15:32.509Z"
   },
   {
    "duration": 49,
    "start_time": "2021-11-26T18:15:32.533Z"
   },
   {
    "duration": 11,
    "start_time": "2021-11-26T18:15:32.585Z"
   },
   {
    "duration": 409,
    "start_time": "2021-11-26T18:15:32.599Z"
   },
   {
    "duration": 124,
    "start_time": "2021-11-26T18:15:33.011Z"
   },
   {
    "duration": 29,
    "start_time": "2021-11-26T18:15:33.138Z"
   },
   {
    "duration": 4,
    "start_time": "2021-11-26T18:15:33.169Z"
   },
   {
    "duration": 140,
    "start_time": "2021-11-26T18:15:33.175Z"
   },
   {
    "duration": 60,
    "start_time": "2021-11-26T18:15:33.317Z"
   },
   {
    "duration": 70,
    "start_time": "2021-11-26T18:15:33.380Z"
   },
   {
    "duration": 24,
    "start_time": "2021-11-26T18:15:33.453Z"
   },
   {
    "duration": 19,
    "start_time": "2021-11-26T18:15:33.481Z"
   },
   {
    "duration": 65,
    "start_time": "2021-11-26T18:15:33.502Z"
   },
   {
    "duration": 59,
    "start_time": "2021-11-26T18:15:33.569Z"
   },
   {
    "duration": 46,
    "start_time": "2021-11-26T18:15:33.631Z"
   },
   {
    "duration": 40,
    "start_time": "2021-11-26T18:15:33.679Z"
   },
   {
    "duration": 59,
    "start_time": "2021-11-26T18:15:33.722Z"
   },
   {
    "duration": 38,
    "start_time": "2021-11-26T18:15:33.784Z"
   },
   {
    "duration": 43,
    "start_time": "2021-11-26T18:15:33.825Z"
   },
   {
    "duration": 99,
    "start_time": "2021-11-26T18:15:33.870Z"
   },
   {
    "duration": 74,
    "start_time": "2021-11-26T18:15:33.972Z"
   },
   {
    "duration": 82,
    "start_time": "2021-11-26T18:15:34.065Z"
   },
   {
    "duration": 144,
    "start_time": "2021-11-26T18:15:34.164Z"
   },
   {
    "duration": 192,
    "start_time": "2021-11-26T18:15:34.310Z"
   },
   {
    "duration": 226,
    "start_time": "2021-11-26T18:15:34.504Z"
   },
   {
    "duration": 56,
    "start_time": "2021-11-26T18:15:34.732Z"
   },
   {
    "duration": 60,
    "start_time": "2021-11-26T18:15:34.790Z"
   },
   {
    "duration": 385,
    "start_time": "2021-11-26T18:15:34.864Z"
   },
   {
    "duration": 20,
    "start_time": "2021-11-26T18:15:35.251Z"
   },
   {
    "duration": 511,
    "start_time": "2021-11-26T18:17:38.929Z"
   },
   {
    "duration": 865,
    "start_time": "2021-11-26T18:18:14.852Z"
   },
   {
    "duration": 10484,
    "start_time": "2021-11-26T18:21:26.961Z"
   },
   {
    "duration": 636,
    "start_time": "2021-11-26T18:21:52.069Z"
   },
   {
    "duration": 186,
    "start_time": "2021-11-26T18:21:52.707Z"
   },
   {
    "duration": 23,
    "start_time": "2021-11-26T18:21:52.896Z"
   },
   {
    "duration": 241,
    "start_time": "2021-11-26T18:21:52.922Z"
   },
   {
    "duration": 25,
    "start_time": "2021-11-26T18:21:53.166Z"
   },
   {
    "duration": 159,
    "start_time": "2021-11-26T18:21:53.194Z"
   },
   {
    "duration": 17,
    "start_time": "2021-11-26T18:21:53.355Z"
   },
   {
    "duration": 41,
    "start_time": "2021-11-26T18:21:53.375Z"
   },
   {
    "duration": 11,
    "start_time": "2021-11-26T18:21:53.419Z"
   },
   {
    "duration": 49,
    "start_time": "2021-11-26T18:21:53.432Z"
   },
   {
    "duration": 10,
    "start_time": "2021-11-26T18:21:53.483Z"
   },
   {
    "duration": 333,
    "start_time": "2021-11-26T18:21:53.496Z"
   },
   {
    "duration": 95,
    "start_time": "2021-11-26T18:21:53.831Z"
   },
   {
    "duration": 21,
    "start_time": "2021-11-26T18:21:53.929Z"
   },
   {
    "duration": 3,
    "start_time": "2021-11-26T18:21:53.964Z"
   },
   {
    "duration": 136,
    "start_time": "2021-11-26T18:21:53.970Z"
   },
   {
    "duration": 58,
    "start_time": "2021-11-26T18:21:54.108Z"
   },
   {
    "duration": 41,
    "start_time": "2021-11-26T18:21:54.168Z"
   },
   {
    "duration": 20,
    "start_time": "2021-11-26T18:21:54.212Z"
   },
   {
    "duration": 48,
    "start_time": "2021-11-26T18:21:54.235Z"
   },
   {
    "duration": 42,
    "start_time": "2021-11-26T18:21:54.285Z"
   },
   {
    "duration": 101,
    "start_time": "2021-11-26T18:21:54.329Z"
   },
   {
    "duration": 39,
    "start_time": "2021-11-26T18:21:54.435Z"
   },
   {
    "duration": 55,
    "start_time": "2021-11-26T18:21:54.477Z"
   },
   {
    "duration": 51,
    "start_time": "2021-11-26T18:21:54.535Z"
   },
   {
    "duration": 52,
    "start_time": "2021-11-26T18:21:54.589Z"
   },
   {
    "duration": 18,
    "start_time": "2021-11-26T18:21:54.662Z"
   },
   {
    "duration": 141,
    "start_time": "2021-11-26T18:21:54.683Z"
   },
   {
    "duration": 121,
    "start_time": "2021-11-26T18:21:54.826Z"
   },
   {
    "duration": 138,
    "start_time": "2021-11-26T18:21:54.949Z"
   },
   {
    "duration": 211,
    "start_time": "2021-11-26T18:21:55.089Z"
   },
   {
    "duration": 184,
    "start_time": "2021-11-26T18:21:55.303Z"
   },
   {
    "duration": 213,
    "start_time": "2021-11-26T18:21:55.489Z"
   },
   {
    "duration": 6748,
    "start_time": "2021-11-26T18:21:55.704Z"
   },
   {
    "duration": -40909,
    "start_time": "2021-11-26T18:22:43.364Z"
   },
   {
    "duration": -40912,
    "start_time": "2021-11-26T18:22:43.369Z"
   },
   {
    "duration": -40915,
    "start_time": "2021-11-26T18:22:43.374Z"
   },
   {
    "duration": 41,
    "start_time": "2021-11-26T18:22:20.377Z"
   },
   {
    "duration": 65,
    "start_time": "2021-11-26T18:22:23.839Z"
   },
   {
    "duration": 363,
    "start_time": "2021-11-26T18:22:26.411Z"
   },
   {
    "duration": 5937,
    "start_time": "2021-11-26T18:24:09.180Z"
   },
   {
    "duration": 568,
    "start_time": "2021-11-26T18:24:22.919Z"
   },
   {
    "duration": 176,
    "start_time": "2021-11-26T18:24:23.489Z"
   },
   {
    "duration": 21,
    "start_time": "2021-11-26T18:24:23.667Z"
   },
   {
    "duration": 164,
    "start_time": "2021-11-26T18:24:23.690Z"
   },
   {
    "duration": 22,
    "start_time": "2021-11-26T18:24:23.855Z"
   },
   {
    "duration": 112,
    "start_time": "2021-11-26T18:24:23.879Z"
   },
   {
    "duration": 16,
    "start_time": "2021-11-26T18:24:23.993Z"
   },
   {
    "duration": 23,
    "start_time": "2021-11-26T18:24:24.012Z"
   },
   {
    "duration": 26,
    "start_time": "2021-11-26T18:24:24.038Z"
   },
   {
    "duration": 36,
    "start_time": "2021-11-26T18:24:24.066Z"
   },
   {
    "duration": 7,
    "start_time": "2021-11-26T18:24:24.104Z"
   },
   {
    "duration": 262,
    "start_time": "2021-11-26T18:24:24.113Z"
   },
   {
    "duration": 65,
    "start_time": "2021-11-26T18:24:24.378Z"
   },
   {
    "duration": 29,
    "start_time": "2021-11-26T18:24:24.445Z"
   },
   {
    "duration": 3,
    "start_time": "2021-11-26T18:24:24.476Z"
   },
   {
    "duration": 93,
    "start_time": "2021-11-26T18:24:24.481Z"
   },
   {
    "duration": 34,
    "start_time": "2021-11-26T18:24:24.575Z"
   },
   {
    "duration": 57,
    "start_time": "2021-11-26T18:24:24.612Z"
   },
   {
    "duration": 15,
    "start_time": "2021-11-26T18:24:24.671Z"
   },
   {
    "duration": 16,
    "start_time": "2021-11-26T18:24:24.688Z"
   },
   {
    "duration": 61,
    "start_time": "2021-11-26T18:24:24.706Z"
   },
   {
    "duration": 53,
    "start_time": "2021-11-26T18:24:24.769Z"
   },
   {
    "duration": 39,
    "start_time": "2021-11-26T18:24:24.825Z"
   },
   {
    "duration": 40,
    "start_time": "2021-11-26T18:24:24.866Z"
   },
   {
    "duration": 25,
    "start_time": "2021-11-26T18:24:24.908Z"
   },
   {
    "duration": 62,
    "start_time": "2021-11-26T18:24:24.935Z"
   },
   {
    "duration": 14,
    "start_time": "2021-11-26T18:24:24.999Z"
   },
   {
    "duration": 111,
    "start_time": "2021-11-26T18:24:25.015Z"
   },
   {
    "duration": 75,
    "start_time": "2021-11-26T18:24:25.128Z"
   },
   {
    "duration": 87,
    "start_time": "2021-11-26T18:24:25.205Z"
   },
   {
    "duration": 131,
    "start_time": "2021-11-26T18:24:25.293Z"
   },
   {
    "duration": 127,
    "start_time": "2021-11-26T18:24:25.426Z"
   },
   {
    "duration": 150,
    "start_time": "2021-11-26T18:24:25.554Z"
   },
   {
    "duration": 6700,
    "start_time": "2021-11-26T18:24:25.706Z"
   },
   {
    "duration": -40912,
    "start_time": "2021-11-26T18:25:13.321Z"
   },
   {
    "duration": -40917,
    "start_time": "2021-11-26T18:25:13.327Z"
   },
   {
    "duration": -40919,
    "start_time": "2021-11-26T18:25:13.331Z"
   },
   {
    "duration": 275,
    "start_time": "2021-11-26T18:24:41.751Z"
   },
   {
    "duration": 5064,
    "start_time": "2021-11-26T18:25:04.124Z"
   },
   {
    "duration": 11,
    "start_time": "2021-11-26T18:25:21.001Z"
   },
   {
    "duration": 5166,
    "start_time": "2021-11-26T18:25:24.131Z"
   },
   {
    "duration": 6,
    "start_time": "2021-11-26T18:25:39.209Z"
   },
   {
    "duration": 6398,
    "start_time": "2021-11-26T18:25:57.500Z"
   },
   {
    "duration": 44,
    "start_time": "2021-11-26T18:26:20.445Z"
   },
   {
    "duration": 15,
    "start_time": "2021-11-26T18:27:50.926Z"
   },
   {
    "duration": 11,
    "start_time": "2021-11-26T18:28:01.174Z"
   },
   {
    "duration": 6,
    "start_time": "2021-11-26T18:28:06.710Z"
   },
   {
    "duration": 11,
    "start_time": "2021-11-26T18:29:49.252Z"
   },
   {
    "duration": 19,
    "start_time": "2021-11-26T18:29:55.146Z"
   },
   {
    "duration": 12,
    "start_time": "2021-11-26T18:30:05.392Z"
   },
   {
    "duration": 41,
    "start_time": "2021-11-26T18:30:14.188Z"
   },
   {
    "duration": 12,
    "start_time": "2021-11-26T18:30:55.298Z"
   },
   {
    "duration": 23,
    "start_time": "2021-11-26T18:31:00.242Z"
   },
   {
    "duration": 48,
    "start_time": "2021-11-26T18:32:19.055Z"
   },
   {
    "duration": 248,
    "start_time": "2021-11-26T18:33:12.821Z"
   },
   {
    "duration": 338,
    "start_time": "2021-11-26T18:33:27.194Z"
   },
   {
    "duration": 58130,
    "start_time": "2021-11-26T18:34:34.852Z"
   },
   {
    "duration": -40922,
    "start_time": "2021-11-26T18:36:14.401Z"
   },
   {
    "duration": 714,
    "start_time": "2021-11-26T18:35:55.682Z"
   },
   {
    "duration": 4489,
    "start_time": "2021-11-26T18:35:56.399Z"
   },
   {
    "duration": 1326,
    "start_time": "2021-11-26T18:36:00.891Z"
   },
   {
    "duration": 162,
    "start_time": "2021-11-26T18:36:02.222Z"
   },
   {
    "duration": 29,
    "start_time": "2021-11-26T18:36:02.386Z"
   },
   {
    "duration": 1086,
    "start_time": "2021-11-26T18:36:02.418Z"
   },
   {
    "duration": 21,
    "start_time": "2021-11-26T18:36:03.507Z"
   },
   {
    "duration": 53,
    "start_time": "2021-11-26T18:36:03.538Z"
   },
   {
    "duration": 10,
    "start_time": "2021-11-26T18:36:03.594Z"
   },
   {
    "duration": 57,
    "start_time": "2021-11-26T18:36:03.606Z"
   },
   {
    "duration": 7,
    "start_time": "2021-11-26T18:36:03.665Z"
   },
   {
    "duration": 398,
    "start_time": "2021-11-26T18:36:03.677Z"
   },
   {
    "duration": 1213,
    "start_time": "2021-11-26T18:36:04.076Z"
   },
   {
    "duration": 36,
    "start_time": "2021-11-26T18:36:05.292Z"
   },
   {
    "duration": 3,
    "start_time": "2021-11-26T18:36:05.331Z"
   },
   {
    "duration": 80,
    "start_time": "2021-11-26T18:36:05.335Z"
   },
   {
    "duration": 590,
    "start_time": "2021-11-26T18:36:05.417Z"
   },
   {
    "duration": 51,
    "start_time": "2021-11-26T18:36:06.010Z"
   },
   {
    "duration": 22,
    "start_time": "2021-11-26T18:36:06.063Z"
   },
   {
    "duration": 15,
    "start_time": "2021-11-26T18:36:06.089Z"
   },
   {
    "duration": 448,
    "start_time": "2021-11-26T18:36:06.106Z"
   },
   {
    "duration": 925,
    "start_time": "2021-11-26T18:36:06.556Z"
   },
   {
    "duration": 22,
    "start_time": "2021-11-26T18:36:07.485Z"
   },
   {
    "duration": 55,
    "start_time": "2021-11-26T18:36:07.510Z"
   },
   {
    "duration": 23,
    "start_time": "2021-11-26T18:36:07.567Z"
   },
   {
    "duration": 73,
    "start_time": "2021-11-26T18:36:07.592Z"
   },
   {
    "duration": 27,
    "start_time": "2021-11-26T18:36:07.667Z"
   },
   {
    "duration": 167,
    "start_time": "2021-11-26T18:36:07.695Z"
   },
   {
    "duration": 69,
    "start_time": "2021-11-26T18:36:07.864Z"
   },
   {
    "duration": 158,
    "start_time": "2021-11-26T18:36:07.935Z"
   },
   {
    "duration": 133,
    "start_time": "2021-11-26T18:36:08.095Z"
   },
   {
    "duration": 107,
    "start_time": "2021-11-26T18:36:08.230Z"
   },
   {
    "duration": 183,
    "start_time": "2021-11-26T18:36:08.339Z"
   },
   {
    "duration": 194,
    "start_time": "2021-11-26T18:36:17.899Z"
   },
   {
    "duration": 20,
    "start_time": "2021-11-26T18:37:01.798Z"
   },
   {
    "duration": 100,
    "start_time": "2021-11-26T18:38:34.441Z"
   },
   {
    "duration": 23,
    "start_time": "2021-11-26T18:38:39.528Z"
   },
   {
    "duration": 51,
    "start_time": "2021-11-26T18:38:55.436Z"
   },
   {
    "duration": 21,
    "start_time": "2021-11-26T18:39:04.755Z"
   },
   {
    "duration": 444,
    "start_time": "2021-11-26T18:40:12.273Z"
   },
   {
    "duration": 20,
    "start_time": "2021-11-26T18:40:29.033Z"
   },
   {
    "duration": 23,
    "start_time": "2021-11-26T18:42:59.437Z"
   },
   {
    "duration": 637,
    "start_time": "2021-11-26T18:44:02.732Z"
   },
   {
    "duration": 176,
    "start_time": "2021-11-26T18:44:03.371Z"
   },
   {
    "duration": 28,
    "start_time": "2021-11-26T18:44:03.550Z"
   },
   {
    "duration": 153,
    "start_time": "2021-11-26T18:44:03.581Z"
   },
   {
    "duration": 29,
    "start_time": "2021-11-26T18:44:03.736Z"
   },
   {
    "duration": 101,
    "start_time": "2021-11-26T18:44:03.767Z"
   },
   {
    "duration": 16,
    "start_time": "2021-11-26T18:44:03.870Z"
   },
   {
    "duration": 23,
    "start_time": "2021-11-26T18:44:03.890Z"
   },
   {
    "duration": 36,
    "start_time": "2021-11-26T18:44:03.915Z"
   },
   {
    "duration": 55,
    "start_time": "2021-11-26T18:44:03.954Z"
   },
   {
    "duration": 8,
    "start_time": "2021-11-26T18:44:04.011Z"
   },
   {
    "duration": 223,
    "start_time": "2021-11-26T18:44:04.022Z"
   },
   {
    "duration": 74,
    "start_time": "2021-11-26T18:44:04.247Z"
   },
   {
    "duration": 15,
    "start_time": "2021-11-26T18:44:04.323Z"
   },
   {
    "duration": 22,
    "start_time": "2021-11-26T18:44:04.341Z"
   },
   {
    "duration": 70,
    "start_time": "2021-11-26T18:44:04.365Z"
   },
   {
    "duration": 48,
    "start_time": "2021-11-26T18:44:04.438Z"
   },
   {
    "duration": 28,
    "start_time": "2021-11-26T18:44:04.488Z"
   },
   {
    "duration": 13,
    "start_time": "2021-11-26T18:44:04.518Z"
   },
   {
    "duration": 43,
    "start_time": "2021-11-26T18:44:04.533Z"
   },
   {
    "duration": 38,
    "start_time": "2021-11-26T18:44:04.578Z"
   },
   {
    "duration": 73,
    "start_time": "2021-11-26T18:44:04.617Z"
   },
   {
    "duration": 20,
    "start_time": "2021-11-26T18:44:04.694Z"
   },
   {
    "duration": 56,
    "start_time": "2021-11-26T18:44:04.716Z"
   },
   {
    "duration": 24,
    "start_time": "2021-11-26T18:44:04.773Z"
   },
   {
    "duration": 34,
    "start_time": "2021-11-26T18:44:04.799Z"
   },
   {
    "duration": 36,
    "start_time": "2021-11-26T18:44:04.835Z"
   },
   {
    "duration": 90,
    "start_time": "2021-11-26T18:44:04.873Z"
   },
   {
    "duration": 67,
    "start_time": "2021-11-26T18:44:04.965Z"
   },
   {
    "duration": 92,
    "start_time": "2021-11-26T18:44:05.034Z"
   },
   {
    "duration": 149,
    "start_time": "2021-11-26T18:44:05.128Z"
   },
   {
    "duration": 123,
    "start_time": "2021-11-26T18:44:05.280Z"
   },
   {
    "duration": 136,
    "start_time": "2021-11-26T18:44:05.405Z"
   },
   {
    "duration": 32,
    "start_time": "2021-11-26T18:44:05.543Z"
   },
   {
    "duration": 16,
    "start_time": "2021-11-26T18:44:05.577Z"
   },
   {
    "duration": 10,
    "start_time": "2021-11-26T18:44:05.595Z"
   },
   {
    "duration": 19,
    "start_time": "2021-11-26T18:44:05.607Z"
   },
   {
    "duration": 22,
    "start_time": "2021-11-26T18:44:05.628Z"
   },
   {
    "duration": 47,
    "start_time": "2021-11-26T18:44:44.808Z"
   },
   {
    "duration": 300,
    "start_time": "2021-11-26T18:46:26.007Z"
   },
   {
    "duration": 44,
    "start_time": "2021-11-26T18:46:46.516Z"
   },
   {
    "duration": 247,
    "start_time": "2021-11-26T18:47:29.051Z"
   },
   {
    "duration": 37,
    "start_time": "2021-11-26T18:48:19.578Z"
   },
   {
    "duration": 254,
    "start_time": "2021-11-26T18:48:57.563Z"
   },
   {
    "duration": 255,
    "start_time": "2021-11-26T18:49:18.311Z"
   },
   {
    "duration": 27,
    "start_time": "2021-11-26T18:49:25.855Z"
   },
   {
    "duration": 22,
    "start_time": "2021-11-26T18:50:01.667Z"
   },
   {
    "duration": 9,
    "start_time": "2021-11-26T18:51:08.310Z"
   },
   {
    "duration": 22,
    "start_time": "2021-11-26T18:51:51.546Z"
   },
   {
    "duration": 23,
    "start_time": "2021-11-26T18:53:26.353Z"
   },
   {
    "duration": 30,
    "start_time": "2021-11-26T18:53:41.105Z"
   },
   {
    "duration": 8,
    "start_time": "2021-11-26T18:53:54.055Z"
   },
   {
    "duration": 22,
    "start_time": "2021-11-26T18:54:51.283Z"
   },
   {
    "duration": 17,
    "start_time": "2021-11-26T18:54:59.042Z"
   },
   {
    "duration": 25,
    "start_time": "2021-11-26T18:57:33.687Z"
   },
   {
    "duration": 10,
    "start_time": "2021-11-26T18:57:46.016Z"
   },
   {
    "duration": 21,
    "start_time": "2021-11-26T18:57:50.057Z"
   },
   {
    "duration": 30,
    "start_time": "2021-11-26T19:00:09.982Z"
   },
   {
    "duration": 659,
    "start_time": "2021-11-26T19:00:39.146Z"
   },
   {
    "duration": 191,
    "start_time": "2021-11-26T19:00:39.807Z"
   },
   {
    "duration": 23,
    "start_time": "2021-11-26T19:00:40.001Z"
   },
   {
    "duration": 178,
    "start_time": "2021-11-26T19:00:40.028Z"
   },
   {
    "duration": 21,
    "start_time": "2021-11-26T19:00:40.209Z"
   },
   {
    "duration": 118,
    "start_time": "2021-11-26T19:00:40.233Z"
   },
   {
    "duration": 20,
    "start_time": "2021-11-26T19:00:40.353Z"
   },
   {
    "duration": 26,
    "start_time": "2021-11-26T19:00:40.376Z"
   },
   {
    "duration": 8,
    "start_time": "2021-11-26T19:00:40.405Z"
   },
   {
    "duration": 36,
    "start_time": "2021-11-26T19:00:40.416Z"
   },
   {
    "duration": 15,
    "start_time": "2021-11-26T19:00:40.454Z"
   },
   {
    "duration": 279,
    "start_time": "2021-11-26T19:00:40.471Z"
   },
   {
    "duration": 72,
    "start_time": "2021-11-26T19:00:40.752Z"
   },
   {
    "duration": 38,
    "start_time": "2021-11-26T19:00:40.826Z"
   },
   {
    "duration": 3,
    "start_time": "2021-11-26T19:00:40.866Z"
   },
   {
    "duration": 139,
    "start_time": "2021-11-26T19:00:40.870Z"
   },
   {
    "duration": 34,
    "start_time": "2021-11-26T19:00:41.012Z"
   },
   {
    "duration": 44,
    "start_time": "2021-11-26T19:00:41.048Z"
   },
   {
    "duration": 15,
    "start_time": "2021-11-26T19:00:41.095Z"
   },
   {
    "duration": 53,
    "start_time": "2021-11-26T19:00:41.112Z"
   },
   {
    "duration": 35,
    "start_time": "2021-11-26T19:00:41.167Z"
   },
   {
    "duration": 84,
    "start_time": "2021-11-26T19:00:41.206Z"
   },
   {
    "duration": 24,
    "start_time": "2021-11-26T19:00:41.294Z"
   },
   {
    "duration": 67,
    "start_time": "2021-11-26T19:00:41.321Z"
   },
   {
    "duration": 28,
    "start_time": "2021-11-26T19:00:41.389Z"
   },
   {
    "duration": 59,
    "start_time": "2021-11-26T19:00:41.419Z"
   },
   {
    "duration": 14,
    "start_time": "2021-11-26T19:00:41.480Z"
   },
   {
    "duration": 121,
    "start_time": "2021-11-26T19:00:41.496Z"
   },
   {
    "duration": 87,
    "start_time": "2021-11-26T19:00:41.619Z"
   },
   {
    "duration": 91,
    "start_time": "2021-11-26T19:00:41.708Z"
   },
   {
    "duration": 140,
    "start_time": "2021-11-26T19:00:41.800Z"
   },
   {
    "duration": 125,
    "start_time": "2021-11-26T19:00:41.942Z"
   },
   {
    "duration": 149,
    "start_time": "2021-11-26T19:00:42.068Z"
   },
   {
    "duration": 20,
    "start_time": "2021-11-26T19:00:42.219Z"
   },
   {
    "duration": 50,
    "start_time": "2021-11-26T19:00:42.241Z"
   },
   {
    "duration": 16,
    "start_time": "2021-11-26T19:00:42.293Z"
   },
   {
    "duration": 54,
    "start_time": "2021-11-26T19:00:42.311Z"
   },
   {
    "duration": 2,
    "start_time": "2021-11-26T19:00:42.367Z"
   },
   {
    "duration": 17,
    "start_time": "2021-11-26T19:00:42.371Z"
   },
   {
    "duration": 18,
    "start_time": "2021-11-26T19:00:42.391Z"
   },
   {
    "duration": 19,
    "start_time": "2021-11-26T19:00:57.718Z"
   },
   {
    "duration": 10,
    "start_time": "2021-11-26T19:02:05.420Z"
   },
   {
    "duration": 24,
    "start_time": "2021-11-26T19:02:28.400Z"
   },
   {
    "duration": 17,
    "start_time": "2021-11-26T19:03:18.911Z"
   },
   {
    "duration": 22,
    "start_time": "2021-11-26T19:04:29.589Z"
   },
   {
    "duration": 32,
    "start_time": "2021-11-26T19:04:55.520Z"
   },
   {
    "duration": 14,
    "start_time": "2021-11-26T19:06:10.832Z"
   },
   {
    "duration": 23,
    "start_time": "2021-11-26T19:06:41.239Z"
   },
   {
    "duration": 22,
    "start_time": "2021-11-26T19:08:48.806Z"
   },
   {
    "duration": 322,
    "start_time": "2021-11-26T19:09:23.332Z"
   },
   {
    "duration": 3,
    "start_time": "2021-11-26T19:09:38.676Z"
   },
   {
    "duration": 203,
    "start_time": "2021-11-26T19:09:38.681Z"
   },
   {
    "duration": 21,
    "start_time": "2021-11-26T19:09:38.886Z"
   },
   {
    "duration": 182,
    "start_time": "2021-11-26T19:09:38.909Z"
   },
   {
    "duration": 18,
    "start_time": "2021-11-26T19:09:39.092Z"
   },
   {
    "duration": 162,
    "start_time": "2021-11-26T19:09:39.112Z"
   },
   {
    "duration": 19,
    "start_time": "2021-11-26T19:09:39.277Z"
   },
   {
    "duration": 36,
    "start_time": "2021-11-26T19:09:39.299Z"
   },
   {
    "duration": 9,
    "start_time": "2021-11-26T19:09:39.338Z"
   },
   {
    "duration": 47,
    "start_time": "2021-11-26T19:09:39.349Z"
   },
   {
    "duration": 8,
    "start_time": "2021-11-26T19:09:39.398Z"
   },
   {
    "duration": 221,
    "start_time": "2021-11-26T19:09:39.408Z"
   },
   {
    "duration": 123,
    "start_time": "2021-11-26T19:09:39.631Z"
   },
   {
    "duration": 26,
    "start_time": "2021-11-26T19:09:39.756Z"
   },
   {
    "duration": 19,
    "start_time": "2021-11-26T19:09:39.784Z"
   },
   {
    "duration": 78,
    "start_time": "2021-11-26T19:09:39.805Z"
   },
   {
    "duration": 26,
    "start_time": "2021-11-26T19:09:39.885Z"
   },
   {
    "duration": 27,
    "start_time": "2021-11-26T19:09:39.913Z"
   },
   {
    "duration": 52,
    "start_time": "2021-11-26T19:09:39.965Z"
   },
   {
    "duration": 87,
    "start_time": "2021-11-26T19:09:40.020Z"
   },
   {
    "duration": 94,
    "start_time": "2021-11-26T19:09:40.109Z"
   },
   {
    "duration": 44,
    "start_time": "2021-11-26T19:09:40.205Z"
   },
   {
    "duration": 44,
    "start_time": "2021-11-26T19:09:40.250Z"
   },
   {
    "duration": 130,
    "start_time": "2021-11-26T19:09:40.296Z"
   },
   {
    "duration": 32,
    "start_time": "2021-11-26T19:09:40.429Z"
   },
   {
    "duration": 42,
    "start_time": "2021-11-26T19:09:40.463Z"
   },
   {
    "duration": 15,
    "start_time": "2021-11-26T19:09:40.507Z"
   },
   {
    "duration": 143,
    "start_time": "2021-11-26T19:09:40.524Z"
   },
   {
    "duration": 111,
    "start_time": "2021-11-26T19:09:40.669Z"
   },
   {
    "duration": 90,
    "start_time": "2021-11-26T19:09:40.782Z"
   },
   {
    "duration": 137,
    "start_time": "2021-11-26T19:09:40.873Z"
   },
   {
    "duration": 111,
    "start_time": "2021-11-26T19:09:41.012Z"
   },
   {
    "duration": 135,
    "start_time": "2021-11-26T19:09:41.125Z"
   },
   {
    "duration": 9,
    "start_time": "2021-11-26T19:09:41.263Z"
   },
   {
    "duration": 16,
    "start_time": "2021-11-26T19:09:41.274Z"
   },
   {
    "duration": 8,
    "start_time": "2021-11-26T19:09:41.292Z"
   },
   {
    "duration": 10,
    "start_time": "2021-11-26T19:09:50.903Z"
   },
   {
    "duration": 19,
    "start_time": "2021-11-26T19:10:00.120Z"
   },
   {
    "duration": 7,
    "start_time": "2021-11-26T19:11:14.169Z"
   },
   {
    "duration": 11,
    "start_time": "2021-11-26T19:11:19.071Z"
   },
   {
    "duration": 14,
    "start_time": "2021-11-26T19:11:25.960Z"
   },
   {
    "duration": 16,
    "start_time": "2021-11-26T19:11:52.077Z"
   },
   {
    "duration": 9,
    "start_time": "2021-11-26T19:11:58.293Z"
   },
   {
    "duration": 11,
    "start_time": "2021-11-26T19:12:01.437Z"
   },
   {
    "duration": 13,
    "start_time": "2021-11-26T19:12:27.958Z"
   },
   {
    "duration": 19,
    "start_time": "2021-11-26T19:13:15.115Z"
   },
   {
    "duration": 42,
    "start_time": "2021-11-26T19:13:41.370Z"
   },
   {
    "duration": 180,
    "start_time": "2021-11-26T19:14:15.794Z"
   },
   {
    "duration": 351,
    "start_time": "2021-11-26T19:14:59.603Z"
   },
   {
    "duration": 4,
    "start_time": "2021-11-26T19:15:04.792Z"
   },
   {
    "duration": 182,
    "start_time": "2021-11-26T19:15:04.798Z"
   },
   {
    "duration": 22,
    "start_time": "2021-11-26T19:15:04.982Z"
   },
   {
    "duration": 163,
    "start_time": "2021-11-26T19:15:05.007Z"
   },
   {
    "duration": 19,
    "start_time": "2021-11-26T19:15:05.172Z"
   },
   {
    "duration": 111,
    "start_time": "2021-11-26T19:15:05.193Z"
   },
   {
    "duration": 15,
    "start_time": "2021-11-26T19:15:05.306Z"
   },
   {
    "duration": 24,
    "start_time": "2021-11-26T19:15:05.323Z"
   },
   {
    "duration": 21,
    "start_time": "2021-11-26T19:15:05.348Z"
   },
   {
    "duration": 40,
    "start_time": "2021-11-26T19:15:05.370Z"
   },
   {
    "duration": 6,
    "start_time": "2021-11-26T19:15:05.412Z"
   },
   {
    "duration": 212,
    "start_time": "2021-11-26T19:15:05.420Z"
   },
   {
    "duration": 76,
    "start_time": "2021-11-26T19:15:05.634Z"
   },
   {
    "duration": 13,
    "start_time": "2021-11-26T19:15:05.711Z"
   },
   {
    "duration": 11,
    "start_time": "2021-11-26T19:15:05.725Z"
   },
   {
    "duration": 82,
    "start_time": "2021-11-26T19:15:05.738Z"
   },
   {
    "duration": 47,
    "start_time": "2021-11-26T19:15:05.822Z"
   },
   {
    "duration": 28,
    "start_time": "2021-11-26T19:15:05.870Z"
   },
   {
    "duration": 13,
    "start_time": "2021-11-26T19:15:05.901Z"
   },
   {
    "duration": 48,
    "start_time": "2021-11-26T19:15:05.916Z"
   },
   {
    "duration": 28,
    "start_time": "2021-11-26T19:15:05.966Z"
   },
   {
    "duration": 37,
    "start_time": "2021-11-26T19:15:05.996Z"
   },
   {
    "duration": 21,
    "start_time": "2021-11-26T19:15:06.064Z"
   },
   {
    "duration": 35,
    "start_time": "2021-11-26T19:15:06.087Z"
   },
   {
    "duration": 52,
    "start_time": "2021-11-26T19:15:06.124Z"
   },
   {
    "duration": 27,
    "start_time": "2021-11-26T19:15:06.177Z"
   },
   {
    "duration": 18,
    "start_time": "2021-11-26T19:15:06.206Z"
   },
   {
    "duration": 165,
    "start_time": "2021-11-26T19:15:06.226Z"
   },
   {
    "duration": 85,
    "start_time": "2021-11-26T19:15:06.393Z"
   },
   {
    "duration": 88,
    "start_time": "2021-11-26T19:15:06.480Z"
   },
   {
    "duration": 130,
    "start_time": "2021-11-26T19:15:06.570Z"
   },
   {
    "duration": 117,
    "start_time": "2021-11-26T19:15:06.701Z"
   },
   {
    "duration": 136,
    "start_time": "2021-11-26T19:15:06.820Z"
   },
   {
    "duration": 11,
    "start_time": "2021-11-26T19:15:06.964Z"
   },
   {
    "duration": 25,
    "start_time": "2021-11-26T19:15:06.977Z"
   },
   {
    "duration": 13,
    "start_time": "2021-11-26T19:15:07.005Z"
   },
   {
    "duration": 29,
    "start_time": "2021-11-26T19:15:09.684Z"
   },
   {
    "duration": 20,
    "start_time": "2021-11-26T19:16:19.008Z"
   },
   {
    "duration": 18,
    "start_time": "2021-11-26T19:20:20.365Z"
   },
   {
    "duration": 18,
    "start_time": "2021-11-26T19:21:11.588Z"
   },
   {
    "duration": 109,
    "start_time": "2021-11-26T19:21:18.265Z"
   },
   {
    "duration": 18,
    "start_time": "2021-11-26T19:21:21.657Z"
   },
   {
    "duration": 12,
    "start_time": "2021-11-26T19:22:09.091Z"
   },
   {
    "duration": 10,
    "start_time": "2021-11-26T19:23:18.650Z"
   },
   {
    "duration": 13,
    "start_time": "2021-11-26T19:24:53.277Z"
   },
   {
    "duration": 5,
    "start_time": "2021-11-26T19:25:35.632Z"
   },
   {
    "duration": 252,
    "start_time": "2021-11-26T19:26:15.250Z"
   },
   {
    "duration": 265,
    "start_time": "2021-11-26T19:26:41.474Z"
   },
   {
    "duration": 3,
    "start_time": "2021-11-26T19:27:11.176Z"
   },
   {
    "duration": 201,
    "start_time": "2021-11-26T19:27:11.181Z"
   },
   {
    "duration": 21,
    "start_time": "2021-11-26T19:27:11.384Z"
   },
   {
    "duration": 166,
    "start_time": "2021-11-26T19:27:11.407Z"
   },
   {
    "duration": 18,
    "start_time": "2021-11-26T19:27:11.576Z"
   },
   {
    "duration": 100,
    "start_time": "2021-11-26T19:27:11.595Z"
   },
   {
    "duration": 18,
    "start_time": "2021-11-26T19:27:11.698Z"
   },
   {
    "duration": 23,
    "start_time": "2021-11-26T19:27:11.718Z"
   },
   {
    "duration": 32,
    "start_time": "2021-11-26T19:27:11.743Z"
   },
   {
    "duration": 34,
    "start_time": "2021-11-26T19:27:11.777Z"
   },
   {
    "duration": 6,
    "start_time": "2021-11-26T19:27:11.814Z"
   },
   {
    "duration": 215,
    "start_time": "2021-11-26T19:27:11.822Z"
   },
   {
    "duration": 92,
    "start_time": "2021-11-26T19:27:12.040Z"
   },
   {
    "duration": 16,
    "start_time": "2021-11-26T19:27:12.134Z"
   },
   {
    "duration": 3,
    "start_time": "2021-11-26T19:27:12.152Z"
   },
   {
    "duration": 83,
    "start_time": "2021-11-26T19:27:12.157Z"
   },
   {
    "duration": 56,
    "start_time": "2021-11-26T19:27:12.242Z"
   },
   {
    "duration": 29,
    "start_time": "2021-11-26T19:27:12.300Z"
   },
   {
    "duration": 37,
    "start_time": "2021-11-26T19:27:12.332Z"
   },
   {
    "duration": 19,
    "start_time": "2021-11-26T19:27:12.373Z"
   },
   {
    "duration": 36,
    "start_time": "2021-11-26T19:27:12.394Z"
   },
   {
    "duration": 81,
    "start_time": "2021-11-26T19:27:12.433Z"
   },
   {
    "duration": 20,
    "start_time": "2021-11-26T19:27:12.516Z"
   },
   {
    "duration": 56,
    "start_time": "2021-11-26T19:27:12.538Z"
   },
   {
    "duration": 24,
    "start_time": "2021-11-26T19:27:12.595Z"
   },
   {
    "duration": 46,
    "start_time": "2021-11-26T19:27:12.621Z"
   },
   {
    "duration": 15,
    "start_time": "2021-11-26T19:27:12.670Z"
   },
   {
    "duration": 108,
    "start_time": "2021-11-26T19:27:12.687Z"
   },
   {
    "duration": 115,
    "start_time": "2021-11-26T19:27:12.798Z"
   },
   {
    "duration": 98,
    "start_time": "2021-11-26T19:27:12.915Z"
   },
   {
    "duration": 164,
    "start_time": "2021-11-26T19:27:13.015Z"
   },
   {
    "duration": 129,
    "start_time": "2021-11-26T19:27:13.181Z"
   },
   {
    "duration": 143,
    "start_time": "2021-11-26T19:27:13.312Z"
   },
   {
    "duration": 13,
    "start_time": "2021-11-26T19:27:13.463Z"
   },
   {
    "duration": 19,
    "start_time": "2021-11-26T19:27:13.479Z"
   },
   {
    "duration": 12,
    "start_time": "2021-11-26T19:27:13.500Z"
   },
   {
    "duration": 5994,
    "start_time": "2021-11-26T19:34:04.781Z"
   },
   {
    "duration": 5982,
    "start_time": "2021-11-26T19:34:37.865Z"
   },
   {
    "duration": 6557,
    "start_time": "2021-11-26T19:35:06.772Z"
   },
   {
    "duration": 4,
    "start_time": "2021-11-26T19:35:20.565Z"
   },
   {
    "duration": 7192,
    "start_time": "2021-11-26T19:35:28.227Z"
   },
   {
    "duration": 15,
    "start_time": "2021-11-26T19:35:53.513Z"
   },
   {
    "duration": 5,
    "start_time": "2021-11-26T19:36:24.101Z"
   },
   {
    "duration": 31,
    "start_time": "2021-11-26T19:39:49.140Z"
   },
   {
    "duration": 324,
    "start_time": "2021-11-26T19:40:06.473Z"
   },
   {
    "duration": 312,
    "start_time": "2021-11-26T19:40:39.464Z"
   },
   {
    "duration": 119,
    "start_time": "2021-11-26T19:41:24.030Z"
   },
   {
    "duration": 10,
    "start_time": "2021-11-26T19:42:02.920Z"
   },
   {
    "duration": 31,
    "start_time": "2021-11-26T19:42:09.960Z"
   },
   {
    "duration": 3,
    "start_time": "2021-11-26T19:43:22.642Z"
   },
   {
    "duration": 200,
    "start_time": "2021-11-26T19:43:22.650Z"
   },
   {
    "duration": 38,
    "start_time": "2021-11-26T19:43:22.853Z"
   },
   {
    "duration": 156,
    "start_time": "2021-11-26T19:43:22.893Z"
   },
   {
    "duration": 38,
    "start_time": "2021-11-26T19:43:23.052Z"
   },
   {
    "duration": 141,
    "start_time": "2021-11-26T19:43:23.093Z"
   },
   {
    "duration": 24,
    "start_time": "2021-11-26T19:43:23.237Z"
   },
   {
    "duration": 27,
    "start_time": "2021-11-26T19:43:23.272Z"
   },
   {
    "duration": 7,
    "start_time": "2021-11-26T19:43:23.301Z"
   },
   {
    "duration": 37,
    "start_time": "2021-11-26T19:43:23.310Z"
   },
   {
    "duration": 7,
    "start_time": "2021-11-26T19:43:23.349Z"
   },
   {
    "duration": 257,
    "start_time": "2021-11-26T19:43:23.359Z"
   },
   {
    "duration": 84,
    "start_time": "2021-11-26T19:43:23.618Z"
   },
   {
    "duration": 13,
    "start_time": "2021-11-26T19:43:23.704Z"
   },
   {
    "duration": 4,
    "start_time": "2021-11-26T19:43:23.719Z"
   },
   {
    "duration": 106,
    "start_time": "2021-11-26T19:43:23.725Z"
   },
   {
    "duration": 36,
    "start_time": "2021-11-26T19:43:23.833Z"
   },
   {
    "duration": 37,
    "start_time": "2021-11-26T19:43:23.872Z"
   },
   {
    "duration": 17,
    "start_time": "2021-11-26T19:43:23.913Z"
   },
   {
    "duration": 58,
    "start_time": "2021-11-26T19:43:23.932Z"
   },
   {
    "duration": 35,
    "start_time": "2021-11-26T19:43:23.992Z"
   },
   {
    "duration": 57,
    "start_time": "2021-11-26T19:43:24.028Z"
   },
   {
    "duration": 20,
    "start_time": "2021-11-26T19:43:24.086Z"
   },
   {
    "duration": 72,
    "start_time": "2021-11-26T19:43:24.110Z"
   },
   {
    "duration": 25,
    "start_time": "2021-11-26T19:43:24.185Z"
   },
   {
    "duration": 31,
    "start_time": "2021-11-26T19:43:24.212Z"
   },
   {
    "duration": 17,
    "start_time": "2021-11-26T19:43:24.268Z"
   },
   {
    "duration": 111,
    "start_time": "2021-11-26T19:43:24.287Z"
   },
   {
    "duration": 77,
    "start_time": "2021-11-26T19:43:24.400Z"
   },
   {
    "duration": 93,
    "start_time": "2021-11-26T19:43:24.480Z"
   },
   {
    "duration": 151,
    "start_time": "2021-11-26T19:43:24.575Z"
   },
   {
    "duration": 118,
    "start_time": "2021-11-26T19:43:24.728Z"
   },
   {
    "duration": 176,
    "start_time": "2021-11-26T19:43:24.848Z"
   },
   {
    "duration": 15,
    "start_time": "2021-11-26T19:43:29.249Z"
   },
   {
    "duration": 27,
    "start_time": "2021-11-26T19:43:35.878Z"
   },
   {
    "duration": 274,
    "start_time": "2021-11-26T19:43:39.846Z"
   },
   {
    "duration": 644,
    "start_time": "2021-11-26T19:43:55.893Z"
   },
   {
    "duration": 206,
    "start_time": "2021-11-26T19:43:56.539Z"
   },
   {
    "duration": 33,
    "start_time": "2021-11-26T19:43:56.747Z"
   },
   {
    "duration": 164,
    "start_time": "2021-11-26T19:43:56.782Z"
   },
   {
    "duration": 28,
    "start_time": "2021-11-26T19:43:56.948Z"
   },
   {
    "duration": 118,
    "start_time": "2021-11-26T19:43:56.979Z"
   },
   {
    "duration": 22,
    "start_time": "2021-11-26T19:43:57.099Z"
   },
   {
    "duration": 26,
    "start_time": "2021-11-26T19:43:57.125Z"
   },
   {
    "duration": 23,
    "start_time": "2021-11-26T19:43:57.153Z"
   },
   {
    "duration": 57,
    "start_time": "2021-11-26T19:43:57.178Z"
   },
   {
    "duration": 10,
    "start_time": "2021-11-26T19:43:57.237Z"
   },
   {
    "duration": 273,
    "start_time": "2021-11-26T19:43:57.250Z"
   },
   {
    "duration": 80,
    "start_time": "2021-11-26T19:43:57.524Z"
   },
   {
    "duration": 13,
    "start_time": "2021-11-26T19:43:57.606Z"
   },
   {
    "duration": 19,
    "start_time": "2021-11-26T19:43:57.621Z"
   },
   {
    "duration": 118,
    "start_time": "2021-11-26T19:43:57.642Z"
   },
   {
    "duration": 40,
    "start_time": "2021-11-26T19:43:57.763Z"
   },
   {
    "duration": 29,
    "start_time": "2021-11-26T19:43:57.805Z"
   },
   {
    "duration": 43,
    "start_time": "2021-11-26T19:43:57.836Z"
   },
   {
    "duration": 23,
    "start_time": "2021-11-26T19:43:57.881Z"
   },
   {
    "duration": 54,
    "start_time": "2021-11-26T19:43:57.906Z"
   },
   {
    "duration": 66,
    "start_time": "2021-11-26T19:43:57.962Z"
   },
   {
    "duration": 47,
    "start_time": "2021-11-26T19:43:58.032Z"
   },
   {
    "duration": 48,
    "start_time": "2021-11-26T19:43:58.083Z"
   },
   {
    "duration": 48,
    "start_time": "2021-11-26T19:43:58.134Z"
   },
   {
    "duration": 44,
    "start_time": "2021-11-26T19:43:58.184Z"
   },
   {
    "duration": 35,
    "start_time": "2021-11-26T19:43:58.230Z"
   },
   {
    "duration": 83,
    "start_time": "2021-11-26T19:43:58.272Z"
   },
   {
    "duration": 79,
    "start_time": "2021-11-26T19:43:58.365Z"
   },
   {
    "duration": 100,
    "start_time": "2021-11-26T19:43:58.446Z"
   },
   {
    "duration": 160,
    "start_time": "2021-11-26T19:43:58.547Z"
   },
   {
    "duration": 127,
    "start_time": "2021-11-26T19:43:58.709Z"
   },
   {
    "duration": 155,
    "start_time": "2021-11-26T19:43:58.839Z"
   },
   {
    "duration": 12,
    "start_time": "2021-11-26T19:43:58.996Z"
   },
   {
    "duration": 35,
    "start_time": "2021-11-26T19:43:59.010Z"
   },
   {
    "duration": 330,
    "start_time": "2021-11-26T19:43:59.048Z"
   },
   {
    "duration": -40793,
    "start_time": "2021-11-26T19:44:40.173Z"
   },
   {
    "duration": -40805,
    "start_time": "2021-11-26T19:44:40.187Z"
   },
   {
    "duration": -40810,
    "start_time": "2021-11-26T19:44:40.193Z"
   },
   {
    "duration": -40815,
    "start_time": "2021-11-26T19:44:40.199Z"
   },
   {
    "duration": -40819,
    "start_time": "2021-11-26T19:44:40.204Z"
   },
   {
    "duration": -40824,
    "start_time": "2021-11-26T19:44:40.210Z"
   },
   {
    "duration": -40828,
    "start_time": "2021-11-26T19:44:40.215Z"
   },
   {
    "duration": -40832,
    "start_time": "2021-11-26T19:44:40.220Z"
   },
   {
    "duration": 11,
    "start_time": "2021-11-26T19:44:33.849Z"
   },
   {
    "duration": 6,
    "start_time": "2021-11-26T19:44:43.742Z"
   },
   {
    "duration": 11,
    "start_time": "2021-11-26T19:46:00.776Z"
   },
   {
    "duration": 8,
    "start_time": "2021-11-26T19:46:41.555Z"
   },
   {
    "duration": 30,
    "start_time": "2021-11-26T19:46:46.755Z"
   },
   {
    "duration": 15,
    "start_time": "2021-11-26T19:47:09.927Z"
   },
   {
    "duration": 9,
    "start_time": "2021-11-26T19:48:37.409Z"
   },
   {
    "duration": 8,
    "start_time": "2021-11-26T19:48:40.400Z"
   },
   {
    "duration": 15,
    "start_time": "2021-11-26T19:48:41.307Z"
   },
   {
    "duration": 15,
    "start_time": "2021-11-26T19:48:54.297Z"
   },
   {
    "duration": 17,
    "start_time": "2021-11-26T19:51:30.965Z"
   },
   {
    "duration": 10,
    "start_time": "2021-11-26T19:52:24.606Z"
   },
   {
    "duration": 37,
    "start_time": "2021-11-26T19:53:28.142Z"
   },
   {
    "duration": 31,
    "start_time": "2021-11-26T19:55:02.921Z"
   },
   {
    "duration": 19,
    "start_time": "2021-11-26T20:13:55.318Z"
   },
   {
    "duration": 254,
    "start_time": "2021-11-26T20:18:27.161Z"
   },
   {
    "duration": 419,
    "start_time": "2021-11-26T20:20:30.902Z"
   },
   {
    "duration": 4,
    "start_time": "2021-11-26T20:20:57.347Z"
   },
   {
    "duration": 6,
    "start_time": "2021-11-26T20:21:08.000Z"
   },
   {
    "duration": 4,
    "start_time": "2021-11-26T20:21:34.701Z"
   },
   {
    "duration": 6,
    "start_time": "2021-11-26T20:22:15.195Z"
   },
   {
    "duration": 14,
    "start_time": "2021-11-26T20:22:41.971Z"
   },
   {
    "duration": 268,
    "start_time": "2021-11-26T20:23:45.196Z"
   },
   {
    "duration": 6,
    "start_time": "2021-11-26T20:24:01.725Z"
   },
   {
    "duration": 5,
    "start_time": "2021-11-26T20:24:19.278Z"
   },
   {
    "duration": 5,
    "start_time": "2021-11-26T20:24:37.556Z"
   },
   {
    "duration": 11,
    "start_time": "2021-11-26T20:24:47.409Z"
   },
   {
    "duration": 12,
    "start_time": "2021-11-26T20:24:55.193Z"
   },
   {
    "duration": 10,
    "start_time": "2021-11-26T20:25:14.158Z"
   },
   {
    "duration": 12,
    "start_time": "2021-11-26T20:25:22.029Z"
   },
   {
    "duration": 10,
    "start_time": "2021-11-26T20:27:49.114Z"
   },
   {
    "duration": 12,
    "start_time": "2021-11-26T20:27:50.265Z"
   },
   {
    "duration": 11,
    "start_time": "2021-11-26T20:28:23.582Z"
   },
   {
    "duration": 11,
    "start_time": "2021-11-26T20:32:30.606Z"
   },
   {
    "duration": 9,
    "start_time": "2021-11-26T20:32:32.326Z"
   },
   {
    "duration": 4,
    "start_time": "2021-11-26T20:34:04.730Z"
   },
   {
    "duration": 4,
    "start_time": "2021-11-26T20:34:42.848Z"
   },
   {
    "duration": 5,
    "start_time": "2021-11-26T20:34:56.097Z"
   },
   {
    "duration": 5,
    "start_time": "2021-11-26T20:35:26.985Z"
   },
   {
    "duration": 263,
    "start_time": "2021-11-26T20:35:53.420Z"
   },
   {
    "duration": 7,
    "start_time": "2021-11-26T20:36:10.984Z"
   },
   {
    "duration": 124,
    "start_time": "2021-11-26T20:36:20.400Z"
   },
   {
    "duration": 94,
    "start_time": "2021-11-26T20:36:46.214Z"
   },
   {
    "duration": 143,
    "start_time": "2021-11-26T20:36:53.806Z"
   },
   {
    "duration": 337,
    "start_time": "2021-11-26T20:39:31.213Z"
   },
   {
    "duration": 86,
    "start_time": "2021-11-26T20:39:40.073Z"
   },
   {
    "duration": 66,
    "start_time": "2021-11-26T20:43:28.075Z"
   },
   {
    "duration": 146,
    "start_time": "2021-11-26T20:43:55.271Z"
   },
   {
    "duration": 14,
    "start_time": "2021-11-26T20:44:16.735Z"
   },
   {
    "duration": 14,
    "start_time": "2021-11-26T20:44:22.886Z"
   },
   {
    "duration": 11,
    "start_time": "2021-11-26T20:45:09.545Z"
   },
   {
    "duration": 10,
    "start_time": "2021-11-26T20:46:28.545Z"
   },
   {
    "duration": 10,
    "start_time": "2021-11-26T20:46:48.545Z"
   },
   {
    "duration": 14,
    "start_time": "2021-11-26T20:47:00.887Z"
   },
   {
    "duration": 84,
    "start_time": "2021-11-26T20:47:08.532Z"
   },
   {
    "duration": 4,
    "start_time": "2021-11-26T20:47:27.849Z"
   },
   {
    "duration": 90,
    "start_time": "2021-11-26T20:47:31.414Z"
   },
   {
    "duration": 99,
    "start_time": "2021-11-26T20:48:12.396Z"
   },
   {
    "duration": 4,
    "start_time": "2021-11-26T20:48:31.412Z"
   },
   {
    "duration": 4,
    "start_time": "2021-11-26T20:48:49.800Z"
   },
   {
    "duration": 3,
    "start_time": "2021-11-26T20:50:35.181Z"
   },
   {
    "duration": 6,
    "start_time": "2021-11-26T20:50:38.397Z"
   },
   {
    "duration": 5,
    "start_time": "2021-11-26T20:50:47.805Z"
   },
   {
    "duration": 3,
    "start_time": "2021-11-26T20:52:06.007Z"
   },
   {
    "duration": 7,
    "start_time": "2021-11-26T20:52:09.673Z"
   },
   {
    "duration": 83,
    "start_time": "2021-11-26T20:55:21.473Z"
   },
   {
    "duration": 85,
    "start_time": "2021-11-26T20:55:39.779Z"
   },
   {
    "duration": 5,
    "start_time": "2021-11-26T20:55:52.212Z"
   },
   {
    "duration": 5,
    "start_time": "2021-11-26T20:55:58.173Z"
   },
   {
    "duration": 6,
    "start_time": "2021-11-26T20:56:11.428Z"
   },
   {
    "duration": 8,
    "start_time": "2021-11-26T20:56:49.352Z"
   },
   {
    "duration": 7,
    "start_time": "2021-11-26T20:57:43.664Z"
   },
   {
    "duration": 5,
    "start_time": "2021-11-26T20:57:52.912Z"
   },
   {
    "duration": 457,
    "start_time": "2021-11-26T20:58:07.179Z"
   },
   {
    "duration": 5,
    "start_time": "2021-11-26T20:58:18.523Z"
   },
   {
    "duration": 4,
    "start_time": "2021-11-26T21:12:54.636Z"
   },
   {
    "duration": 6,
    "start_time": "2021-11-26T21:13:20.511Z"
   },
   {
    "duration": 230,
    "start_time": "2021-11-26T21:14:36.074Z"
   },
   {
    "duration": 4,
    "start_time": "2021-11-26T21:15:09.903Z"
   },
   {
    "duration": 8,
    "start_time": "2021-11-26T21:15:21.058Z"
   },
   {
    "duration": 10,
    "start_time": "2021-11-26T21:15:53.923Z"
   },
   {
    "duration": 15,
    "start_time": "2021-11-26T21:15:55.130Z"
   },
   {
    "duration": 13,
    "start_time": "2021-11-26T21:16:09.149Z"
   },
   {
    "duration": 824,
    "start_time": "2021-11-27T10:58:06.081Z"
   },
   {
    "duration": 234,
    "start_time": "2021-11-27T10:58:06.908Z"
   },
   {
    "duration": 38,
    "start_time": "2021-11-27T10:58:07.146Z"
   },
   {
    "duration": 204,
    "start_time": "2021-11-27T10:58:07.187Z"
   },
   {
    "duration": 25,
    "start_time": "2021-11-27T10:58:07.394Z"
   },
   {
    "duration": 156,
    "start_time": "2021-11-27T10:58:07.422Z"
   },
   {
    "duration": 19,
    "start_time": "2021-11-27T10:58:07.580Z"
   },
   {
    "duration": 37,
    "start_time": "2021-11-27T10:58:07.603Z"
   },
   {
    "duration": 18,
    "start_time": "2021-11-27T10:58:07.643Z"
   },
   {
    "duration": 63,
    "start_time": "2021-11-27T10:58:07.664Z"
   },
   {
    "duration": 13,
    "start_time": "2021-11-27T10:58:07.730Z"
   },
   {
    "duration": 414,
    "start_time": "2021-11-27T10:58:07.746Z"
   },
   {
    "duration": 162,
    "start_time": "2021-11-27T10:58:08.164Z"
   },
   {
    "duration": 35,
    "start_time": "2021-11-27T10:58:08.329Z"
   },
   {
    "duration": 3,
    "start_time": "2021-11-27T10:58:08.367Z"
   },
   {
    "duration": 131,
    "start_time": "2021-11-27T10:58:08.372Z"
   },
   {
    "duration": 37,
    "start_time": "2021-11-27T10:58:08.506Z"
   },
   {
    "duration": 39,
    "start_time": "2021-11-27T10:58:08.559Z"
   },
   {
    "duration": 18,
    "start_time": "2021-11-27T10:58:08.601Z"
   },
   {
    "duration": 60,
    "start_time": "2021-11-27T10:58:08.622Z"
   },
   {
    "duration": 43,
    "start_time": "2021-11-27T10:58:08.685Z"
   },
   {
    "duration": 95,
    "start_time": "2021-11-27T10:58:08.730Z"
   },
   {
    "duration": 52,
    "start_time": "2021-11-27T10:58:08.830Z"
   },
   {
    "duration": 45,
    "start_time": "2021-11-27T10:58:08.885Z"
   },
   {
    "duration": 35,
    "start_time": "2021-11-27T10:58:08.960Z"
   },
   {
    "duration": 85,
    "start_time": "2021-11-27T10:58:08.998Z"
   },
   {
    "duration": 16,
    "start_time": "2021-11-27T10:58:09.086Z"
   },
   {
    "duration": 182,
    "start_time": "2021-11-27T10:58:09.105Z"
   },
   {
    "duration": 140,
    "start_time": "2021-11-27T10:58:09.291Z"
   },
   {
    "duration": 160,
    "start_time": "2021-11-27T10:58:09.435Z"
   },
   {
    "duration": 370,
    "start_time": "2021-11-27T10:58:09.598Z"
   },
   {
    "duration": 336,
    "start_time": "2021-11-27T10:58:09.971Z"
   },
   {
    "duration": 255,
    "start_time": "2021-11-27T10:58:10.310Z"
   },
   {
    "duration": 17,
    "start_time": "2021-11-27T10:58:10.568Z"
   },
   {
    "duration": 27,
    "start_time": "2021-11-27T10:58:10.588Z"
   },
   {
    "duration": 55,
    "start_time": "2021-11-27T10:58:10.617Z"
   },
   {
    "duration": 10,
    "start_time": "2021-11-27T10:58:10.676Z"
   },
   {
    "duration": 22,
    "start_time": "2021-11-27T10:58:10.689Z"
   },
   {
    "duration": 71,
    "start_time": "2021-11-27T10:58:10.713Z"
   },
   {
    "duration": 12,
    "start_time": "2021-11-27T10:58:10.786Z"
   },
   {
    "duration": 77,
    "start_time": "2021-11-27T10:58:10.801Z"
   },
   {
    "duration": 39,
    "start_time": "2021-11-27T10:58:10.881Z"
   },
   {
    "duration": 3,
    "start_time": "2021-11-27T10:58:10.923Z"
   },
   {
    "duration": 47,
    "start_time": "2021-11-27T10:59:59.100Z"
   },
   {
    "duration": 486,
    "start_time": "2021-11-27T11:00:30.513Z"
   },
   {
    "duration": 361,
    "start_time": "2021-11-27T11:00:51.605Z"
   },
   {
    "duration": 382,
    "start_time": "2021-11-27T11:01:16.338Z"
   },
   {
    "duration": 51,
    "start_time": "2021-11-27T11:01:28.369Z"
   },
   {
    "duration": 386,
    "start_time": "2021-11-27T11:05:03.986Z"
   },
   {
    "duration": 47,
    "start_time": "2021-11-27T11:07:43.869Z"
   },
   {
    "duration": 214,
    "start_time": "2021-11-27T11:09:04.713Z"
   },
   {
    "duration": 11363,
    "start_time": "2021-11-27T11:09:16.191Z"
   },
   {
    "duration": 886,
    "start_time": "2021-11-27T11:09:47.173Z"
   },
   {
    "duration": 220,
    "start_time": "2021-11-27T11:09:48.062Z"
   },
   {
    "duration": 27,
    "start_time": "2021-11-27T11:09:48.285Z"
   },
   {
    "duration": 198,
    "start_time": "2021-11-27T11:09:48.315Z"
   },
   {
    "duration": 21,
    "start_time": "2021-11-27T11:09:48.515Z"
   },
   {
    "duration": 139,
    "start_time": "2021-11-27T11:09:48.539Z"
   },
   {
    "duration": 18,
    "start_time": "2021-11-27T11:09:48.680Z"
   },
   {
    "duration": 27,
    "start_time": "2021-11-27T11:09:48.702Z"
   },
   {
    "duration": 32,
    "start_time": "2021-11-27T11:09:48.732Z"
   },
   {
    "duration": 46,
    "start_time": "2021-11-27T11:09:48.766Z"
   },
   {
    "duration": 8,
    "start_time": "2021-11-27T11:09:48.814Z"
   },
   {
    "duration": 319,
    "start_time": "2021-11-27T11:09:48.825Z"
   },
   {
    "duration": 112,
    "start_time": "2021-11-27T11:09:49.147Z"
   },
   {
    "duration": 20,
    "start_time": "2021-11-27T11:09:49.261Z"
   },
   {
    "duration": 8,
    "start_time": "2021-11-27T11:09:49.285Z"
   },
   {
    "duration": 136,
    "start_time": "2021-11-27T11:09:49.296Z"
   },
   {
    "duration": 51,
    "start_time": "2021-11-27T11:09:49.434Z"
   },
   {
    "duration": 34,
    "start_time": "2021-11-27T11:09:49.488Z"
   },
   {
    "duration": 41,
    "start_time": "2021-11-27T11:09:49.524Z"
   },
   {
    "duration": 20,
    "start_time": "2021-11-27T11:09:49.568Z"
   },
   {
    "duration": 84,
    "start_time": "2021-11-27T11:09:49.592Z"
   },
   {
    "duration": 84,
    "start_time": "2021-11-27T11:09:49.679Z"
   },
   {
    "duration": 29,
    "start_time": "2021-11-27T11:09:49.768Z"
   },
   {
    "duration": 73,
    "start_time": "2021-11-27T11:09:49.800Z"
   },
   {
    "duration": 33,
    "start_time": "2021-11-27T11:09:49.876Z"
   },
   {
    "duration": 72,
    "start_time": "2021-11-27T11:09:49.911Z"
   },
   {
    "duration": 15,
    "start_time": "2021-11-27T11:09:49.986Z"
   },
   {
    "duration": 158,
    "start_time": "2021-11-27T11:09:50.003Z"
   },
   {
    "duration": 120,
    "start_time": "2021-11-27T11:09:50.164Z"
   },
   {
    "duration": 137,
    "start_time": "2021-11-27T11:09:50.286Z"
   },
   {
    "duration": 200,
    "start_time": "2021-11-27T11:09:50.426Z"
   },
   {
    "duration": 182,
    "start_time": "2021-11-27T11:09:50.628Z"
   },
   {
    "duration": 216,
    "start_time": "2021-11-27T11:09:50.813Z"
   },
   {
    "duration": 108,
    "start_time": "2021-11-27T11:09:51.032Z"
   },
   {
    "duration": 26,
    "start_time": "2021-11-27T11:09:51.142Z"
   },
   {
    "duration": 27,
    "start_time": "2021-11-27T11:09:51.171Z"
   },
   {
    "duration": 14,
    "start_time": "2021-11-27T11:09:51.200Z"
   },
   {
    "duration": 44,
    "start_time": "2021-11-27T11:09:51.217Z"
   },
   {
    "duration": 15,
    "start_time": "2021-11-27T11:09:51.264Z"
   },
   {
    "duration": 25,
    "start_time": "2021-11-27T11:09:51.281Z"
   },
   {
    "duration": 56,
    "start_time": "2021-11-27T11:09:51.308Z"
   },
   {
    "duration": 49,
    "start_time": "2021-11-27T11:09:51.366Z"
   },
   {
    "duration": 64,
    "start_time": "2021-11-27T11:09:51.418Z"
   },
   {
    "duration": 3,
    "start_time": "2021-11-27T11:09:51.484Z"
   },
   {
    "duration": 451,
    "start_time": "2021-11-27T11:25:14.231Z"
   },
   {
    "duration": 4,
    "start_time": "2021-11-27T11:25:19.880Z"
   },
   {
    "duration": 233,
    "start_time": "2021-11-27T11:25:19.887Z"
   },
   {
    "duration": 39,
    "start_time": "2021-11-27T11:25:20.123Z"
   },
   {
    "duration": 194,
    "start_time": "2021-11-27T11:25:20.165Z"
   },
   {
    "duration": 23,
    "start_time": "2021-11-27T11:25:20.361Z"
   },
   {
    "duration": 136,
    "start_time": "2021-11-27T11:25:20.386Z"
   },
   {
    "duration": 33,
    "start_time": "2021-11-27T11:25:20.526Z"
   },
   {
    "duration": 26,
    "start_time": "2021-11-27T11:25:20.562Z"
   },
   {
    "duration": 11,
    "start_time": "2021-11-27T11:25:20.591Z"
   },
   {
    "duration": 39,
    "start_time": "2021-11-27T11:25:20.605Z"
   },
   {
    "duration": 17,
    "start_time": "2021-11-27T11:25:20.647Z"
   },
   {
    "duration": 276,
    "start_time": "2021-11-27T11:25:20.667Z"
   },
   {
    "duration": 94,
    "start_time": "2021-11-27T11:25:20.946Z"
   },
   {
    "duration": 40,
    "start_time": "2021-11-27T11:25:21.042Z"
   },
   {
    "duration": 3,
    "start_time": "2021-11-27T11:25:21.085Z"
   },
   {
    "duration": 122,
    "start_time": "2021-11-27T11:25:21.090Z"
   },
   {
    "duration": 48,
    "start_time": "2021-11-27T11:25:21.215Z"
   },
   {
    "duration": 37,
    "start_time": "2021-11-27T11:25:21.266Z"
   },
   {
    "duration": 18,
    "start_time": "2021-11-27T11:25:21.308Z"
   },
   {
    "duration": 23,
    "start_time": "2021-11-27T11:25:21.360Z"
   },
   {
    "duration": 75,
    "start_time": "2021-11-27T11:25:21.386Z"
   },
   {
    "duration": 55,
    "start_time": "2021-11-27T11:25:21.464Z"
   },
   {
    "duration": 63,
    "start_time": "2021-11-27T11:25:21.523Z"
   },
   {
    "duration": 73,
    "start_time": "2021-11-27T11:25:21.589Z"
   },
   {
    "duration": 37,
    "start_time": "2021-11-27T11:25:21.665Z"
   },
   {
    "duration": 78,
    "start_time": "2021-11-27T11:25:21.705Z"
   },
   {
    "duration": 16,
    "start_time": "2021-11-27T11:25:21.787Z"
   },
   {
    "duration": 159,
    "start_time": "2021-11-27T11:25:21.806Z"
   },
   {
    "duration": 129,
    "start_time": "2021-11-27T11:25:21.968Z"
   },
   {
    "duration": 134,
    "start_time": "2021-11-27T11:25:22.100Z"
   },
   {
    "duration": 212,
    "start_time": "2021-11-27T11:25:22.237Z"
   },
   {
    "duration": 176,
    "start_time": "2021-11-27T11:25:22.451Z"
   },
   {
    "duration": 221,
    "start_time": "2021-11-27T11:25:22.629Z"
   },
   {
    "duration": 65,
    "start_time": "2021-11-27T11:25:27.284Z"
   },
   {
    "duration": 66,
    "start_time": "2021-11-27T11:26:32.463Z"
   },
   {
    "duration": 7,
    "start_time": "2021-11-27T11:29:40.755Z"
   },
   {
    "duration": 22,
    "start_time": "2021-11-27T11:29:46.978Z"
   },
   {
    "duration": 17,
    "start_time": "2021-11-27T11:30:12.911Z"
   },
   {
    "duration": 12,
    "start_time": "2021-11-27T11:31:49.610Z"
   },
   {
    "duration": 22,
    "start_time": "2021-11-27T11:32:05.102Z"
   },
   {
    "duration": 67,
    "start_time": "2021-11-27T11:35:38.440Z"
   },
   {
    "duration": 71,
    "start_time": "2021-11-27T11:36:29.441Z"
   },
   {
    "duration": 9,
    "start_time": "2021-11-27T11:36:50.759Z"
   },
   {
    "duration": 22,
    "start_time": "2021-11-27T11:36:52.143Z"
   },
   {
    "duration": 18,
    "start_time": "2021-11-27T11:38:13.529Z"
   },
   {
    "duration": 23,
    "start_time": "2021-11-27T11:39:05.161Z"
   },
   {
    "duration": 14,
    "start_time": "2021-11-27T11:39:26.289Z"
   },
   {
    "duration": 17,
    "start_time": "2021-11-27T11:39:31.152Z"
   },
   {
    "duration": 636,
    "start_time": "2021-11-27T11:44:12.051Z"
   },
   {
    "duration": 1422,
    "start_time": "2021-11-27T11:44:20.916Z"
   },
   {
    "duration": 379,
    "start_time": "2021-11-27T11:44:50.745Z"
   },
   {
    "duration": 5037,
    "start_time": "2021-11-27T11:48:19.804Z"
   },
   {
    "duration": 777,
    "start_time": "2021-11-27T11:49:40.257Z"
   },
   {
    "duration": 226,
    "start_time": "2021-11-27T11:49:41.037Z"
   },
   {
    "duration": 28,
    "start_time": "2021-11-27T11:49:41.266Z"
   },
   {
    "duration": 190,
    "start_time": "2021-11-27T11:49:41.297Z"
   },
   {
    "duration": 23,
    "start_time": "2021-11-27T11:49:41.490Z"
   },
   {
    "duration": 139,
    "start_time": "2021-11-27T11:49:41.516Z"
   },
   {
    "duration": 19,
    "start_time": "2021-11-27T11:49:41.659Z"
   },
   {
    "duration": 26,
    "start_time": "2021-11-27T11:49:41.682Z"
   },
   {
    "duration": 10,
    "start_time": "2021-11-27T11:49:41.711Z"
   },
   {
    "duration": 51,
    "start_time": "2021-11-27T11:49:41.723Z"
   },
   {
    "duration": 9,
    "start_time": "2021-11-27T11:49:41.776Z"
   },
   {
    "duration": 313,
    "start_time": "2021-11-27T11:49:41.787Z"
   },
   {
    "duration": 96,
    "start_time": "2021-11-27T11:49:42.103Z"
   },
   {
    "duration": 16,
    "start_time": "2021-11-27T11:49:42.201Z"
   },
   {
    "duration": 5,
    "start_time": "2021-11-27T11:49:42.220Z"
   },
   {
    "duration": 119,
    "start_time": "2021-11-27T11:49:42.228Z"
   },
   {
    "duration": 39,
    "start_time": "2021-11-27T11:49:42.359Z"
   },
   {
    "duration": 62,
    "start_time": "2021-11-27T11:49:42.400Z"
   },
   {
    "duration": 19,
    "start_time": "2021-11-27T11:49:42.464Z"
   },
   {
    "duration": 21,
    "start_time": "2021-11-27T11:49:42.485Z"
   },
   {
    "duration": 85,
    "start_time": "2021-11-27T11:49:42.508Z"
   },
   {
    "duration": 79,
    "start_time": "2021-11-27T11:49:42.595Z"
   },
   {
    "duration": 28,
    "start_time": "2021-11-27T11:49:42.679Z"
   },
   {
    "duration": 78,
    "start_time": "2021-11-27T11:49:42.710Z"
   },
   {
    "duration": 37,
    "start_time": "2021-11-27T11:49:42.791Z"
   },
   {
    "duration": 68,
    "start_time": "2021-11-27T11:49:42.831Z"
   },
   {
    "duration": 18,
    "start_time": "2021-11-27T11:49:42.902Z"
   },
   {
    "duration": 167,
    "start_time": "2021-11-27T11:49:42.923Z"
   },
   {
    "duration": 123,
    "start_time": "2021-11-27T11:49:43.092Z"
   },
   {
    "duration": 143,
    "start_time": "2021-11-27T11:49:43.217Z"
   },
   {
    "duration": 209,
    "start_time": "2021-11-27T11:49:43.363Z"
   },
   {
    "duration": 193,
    "start_time": "2021-11-27T11:49:43.575Z"
   },
   {
    "duration": 241,
    "start_time": "2021-11-27T11:49:43.770Z"
   },
   {
    "duration": 111,
    "start_time": "2021-11-27T11:49:44.015Z"
   },
   {
    "duration": 109,
    "start_time": "2021-11-27T11:49:44.129Z"
   },
   {
    "duration": 21,
    "start_time": "2021-11-27T11:49:44.241Z"
   },
   {
    "duration": 5068,
    "start_time": "2021-11-27T11:49:57.854Z"
   },
   {
    "duration": 21,
    "start_time": "2021-11-27T11:50:23.907Z"
   },
   {
    "duration": 14,
    "start_time": "2021-11-27T11:51:30.548Z"
   },
   {
    "duration": 19,
    "start_time": "2021-11-27T11:51:34.428Z"
   },
   {
    "duration": 415,
    "start_time": "2021-11-27T11:52:37.614Z"
   },
   {
    "duration": 371,
    "start_time": "2021-11-27T11:53:00.188Z"
   },
   {
    "duration": 11,
    "start_time": "2021-11-27T11:53:48.995Z"
   },
   {
    "duration": 26,
    "start_time": "2021-11-27T11:55:12.553Z"
   },
   {
    "duration": 770,
    "start_time": "2021-11-27T11:56:32.984Z"
   },
   {
    "duration": 219,
    "start_time": "2021-11-27T11:56:33.757Z"
   },
   {
    "duration": 28,
    "start_time": "2021-11-27T11:56:33.979Z"
   },
   {
    "duration": 199,
    "start_time": "2021-11-27T11:56:34.011Z"
   },
   {
    "duration": 51,
    "start_time": "2021-11-27T11:56:34.213Z"
   },
   {
    "duration": 125,
    "start_time": "2021-11-27T11:56:34.267Z"
   },
   {
    "duration": 22,
    "start_time": "2021-11-27T11:56:34.396Z"
   },
   {
    "duration": 48,
    "start_time": "2021-11-27T11:56:34.424Z"
   },
   {
    "duration": 13,
    "start_time": "2021-11-27T11:56:34.476Z"
   },
   {
    "duration": 42,
    "start_time": "2021-11-27T11:56:34.492Z"
   },
   {
    "duration": 28,
    "start_time": "2021-11-27T11:56:34.537Z"
   },
   {
    "duration": 329,
    "start_time": "2021-11-27T11:56:34.568Z"
   },
   {
    "duration": 162,
    "start_time": "2021-11-27T11:56:34.900Z"
   },
   {
    "duration": 26,
    "start_time": "2021-11-27T11:56:35.066Z"
   },
   {
    "duration": 4,
    "start_time": "2021-11-27T11:56:35.095Z"
   },
   {
    "duration": 139,
    "start_time": "2021-11-27T11:56:35.102Z"
   },
   {
    "duration": 41,
    "start_time": "2021-11-27T11:56:35.243Z"
   },
   {
    "duration": 35,
    "start_time": "2021-11-27T11:56:35.286Z"
   },
   {
    "duration": 48,
    "start_time": "2021-11-27T11:56:35.323Z"
   },
   {
    "duration": 22,
    "start_time": "2021-11-27T11:56:35.373Z"
   },
   {
    "duration": 76,
    "start_time": "2021-11-27T11:56:35.398Z"
   },
   {
    "duration": 83,
    "start_time": "2021-11-27T11:56:35.477Z"
   },
   {
    "duration": 30,
    "start_time": "2021-11-27T11:56:35.565Z"
   },
   {
    "duration": 79,
    "start_time": "2021-11-27T11:56:35.597Z"
   },
   {
    "duration": 34,
    "start_time": "2021-11-27T11:56:35.678Z"
   },
   {
    "duration": 74,
    "start_time": "2021-11-27T11:56:35.715Z"
   },
   {
    "duration": 18,
    "start_time": "2021-11-27T11:56:35.791Z"
   },
   {
    "duration": 155,
    "start_time": "2021-11-27T11:56:35.812Z"
   },
   {
    "duration": 174,
    "start_time": "2021-11-27T11:56:35.969Z"
   },
   {
    "duration": 184,
    "start_time": "2021-11-27T11:56:36.146Z"
   },
   {
    "duration": 204,
    "start_time": "2021-11-27T11:56:36.332Z"
   },
   {
    "duration": 182,
    "start_time": "2021-11-27T11:56:36.538Z"
   },
   {
    "duration": 224,
    "start_time": "2021-11-27T11:56:36.722Z"
   },
   {
    "duration": 70,
    "start_time": "2021-11-27T11:56:36.948Z"
   },
   {
    "duration": 113,
    "start_time": "2021-11-27T11:56:37.020Z"
   },
   {
    "duration": 24,
    "start_time": "2021-11-27T11:56:37.136Z"
   },
   {
    "duration": 102,
    "start_time": "2021-11-27T11:56:37.163Z"
   },
   {
    "duration": 94,
    "start_time": "2021-11-27T11:56:37.268Z"
   },
   {
    "duration": 143,
    "start_time": "2021-11-27T11:56:37.366Z"
   },
   {
    "duration": 78,
    "start_time": "2021-11-27T11:56:37.512Z"
   },
   {
    "duration": 29,
    "start_time": "2021-11-27T11:56:37.593Z"
   },
   {
    "duration": 458,
    "start_time": "2021-11-27T11:56:37.625Z"
   },
   {
    "duration": -42922,
    "start_time": "2021-11-27T11:57:21.009Z"
   },
   {
    "duration": -42927,
    "start_time": "2021-11-27T11:57:21.016Z"
   },
   {
    "duration": -42930,
    "start_time": "2021-11-27T11:57:21.022Z"
   },
   {
    "duration": -42934,
    "start_time": "2021-11-27T11:57:21.028Z"
   },
   {
    "duration": -42938,
    "start_time": "2021-11-27T11:57:21.034Z"
   },
   {
    "duration": -42941,
    "start_time": "2021-11-27T11:57:21.040Z"
   },
   {
    "duration": -42944,
    "start_time": "2021-11-27T11:57:21.045Z"
   },
   {
    "duration": -42948,
    "start_time": "2021-11-27T11:57:21.051Z"
   },
   {
    "duration": -42961,
    "start_time": "2021-11-27T11:57:21.066Z"
   },
   {
    "duration": -42967,
    "start_time": "2021-11-27T11:57:21.073Z"
   },
   {
    "duration": -42970,
    "start_time": "2021-11-27T11:57:21.078Z"
   },
   {
    "duration": 11,
    "start_time": "2021-11-27T11:57:35.393Z"
   },
   {
    "duration": 11,
    "start_time": "2021-11-27T11:57:54.318Z"
   },
   {
    "duration": 10,
    "start_time": "2021-11-27T11:58:10.817Z"
   },
   {
    "duration": 10,
    "start_time": "2021-11-27T11:58:29.435Z"
   },
   {
    "duration": 11,
    "start_time": "2021-11-27T11:58:53.605Z"
   },
   {
    "duration": 10,
    "start_time": "2021-11-27T11:59:10.183Z"
   },
   {
    "duration": 15,
    "start_time": "2021-11-27T11:59:34.588Z"
   },
   {
    "duration": 59,
    "start_time": "2021-11-27T12:00:29.789Z"
   },
   {
    "duration": 801,
    "start_time": "2021-11-27T12:00:53.706Z"
   },
   {
    "duration": 230,
    "start_time": "2021-11-27T12:00:54.510Z"
   },
   {
    "duration": 38,
    "start_time": "2021-11-27T12:00:54.743Z"
   },
   {
    "duration": 187,
    "start_time": "2021-11-27T12:00:54.784Z"
   },
   {
    "duration": 27,
    "start_time": "2021-11-27T12:00:54.974Z"
   },
   {
    "duration": 145,
    "start_time": "2021-11-27T12:00:55.004Z"
   },
   {
    "duration": 22,
    "start_time": "2021-11-27T12:00:55.153Z"
   },
   {
    "duration": 26,
    "start_time": "2021-11-27T12:00:55.181Z"
   },
   {
    "duration": 49,
    "start_time": "2021-11-27T12:00:55.211Z"
   },
   {
    "duration": 38,
    "start_time": "2021-11-27T12:00:55.262Z"
   },
   {
    "duration": 8,
    "start_time": "2021-11-27T12:00:55.303Z"
   },
   {
    "duration": 322,
    "start_time": "2021-11-27T12:00:55.314Z"
   },
   {
    "duration": 99,
    "start_time": "2021-11-27T12:00:55.639Z"
   },
   {
    "duration": 27,
    "start_time": "2021-11-27T12:00:55.740Z"
   },
   {
    "duration": 4,
    "start_time": "2021-11-27T12:00:55.769Z"
   },
   {
    "duration": 127,
    "start_time": "2021-11-27T12:00:55.775Z"
   },
   {
    "duration": 39,
    "start_time": "2021-11-27T12:00:55.904Z"
   },
   {
    "duration": 37,
    "start_time": "2021-11-27T12:00:55.960Z"
   },
   {
    "duration": 17,
    "start_time": "2021-11-27T12:00:56.000Z"
   },
   {
    "duration": 56,
    "start_time": "2021-11-27T12:00:56.020Z"
   },
   {
    "duration": 40,
    "start_time": "2021-11-27T12:00:56.078Z"
   },
   {
    "duration": 94,
    "start_time": "2021-11-27T12:00:56.121Z"
   },
   {
    "duration": 49,
    "start_time": "2021-11-27T12:00:56.220Z"
   },
   {
    "duration": 47,
    "start_time": "2021-11-27T12:00:56.271Z"
   },
   {
    "duration": 61,
    "start_time": "2021-11-27T12:00:56.321Z"
   },
   {
    "duration": 47,
    "start_time": "2021-11-27T12:00:56.384Z"
   },
   {
    "duration": 39,
    "start_time": "2021-11-27T12:00:56.434Z"
   },
   {
    "duration": 152,
    "start_time": "2021-11-27T12:00:56.476Z"
   },
   {
    "duration": 121,
    "start_time": "2021-11-27T12:00:56.630Z"
   },
   {
    "duration": 135,
    "start_time": "2021-11-27T12:00:56.759Z"
   },
   {
    "duration": 206,
    "start_time": "2021-11-27T12:00:56.896Z"
   },
   {
    "duration": 177,
    "start_time": "2021-11-27T12:00:57.105Z"
   },
   {
    "duration": 220,
    "start_time": "2021-11-27T12:00:57.285Z"
   },
   {
    "duration": 63,
    "start_time": "2021-11-27T12:01:01.474Z"
   },
   {
    "duration": 15,
    "start_time": "2021-11-27T12:01:08.081Z"
   },
   {
    "duration": 72,
    "start_time": "2021-11-27T12:01:49.432Z"
   },
   {
    "duration": 20,
    "start_time": "2021-11-27T12:02:14.235Z"
   },
   {
    "duration": 6,
    "start_time": "2021-11-27T12:05:14.879Z"
   },
   {
    "duration": 23,
    "start_time": "2021-11-27T12:05:17.127Z"
   },
   {
    "duration": 9,
    "start_time": "2021-11-27T12:05:25.896Z"
   },
   {
    "duration": 474,
    "start_time": "2021-11-27T12:10:43.208Z"
   },
   {
    "duration": 8,
    "start_time": "2021-11-27T12:10:49.216Z"
   },
   {
    "duration": 27,
    "start_time": "2021-11-27T12:11:11.127Z"
   },
   {
    "duration": 20,
    "start_time": "2021-11-27T12:11:31.308Z"
   },
   {
    "duration": 397,
    "start_time": "2021-11-27T12:12:44.421Z"
   },
   {
    "duration": 3,
    "start_time": "2021-11-27T12:13:02.927Z"
   },
   {
    "duration": 247,
    "start_time": "2021-11-27T12:13:02.937Z"
   },
   {
    "duration": 28,
    "start_time": "2021-11-27T12:13:03.187Z"
   },
   {
    "duration": 194,
    "start_time": "2021-11-27T12:13:03.218Z"
   },
   {
    "duration": 22,
    "start_time": "2021-11-27T12:13:03.415Z"
   },
   {
    "duration": 177,
    "start_time": "2021-11-27T12:13:03.459Z"
   },
   {
    "duration": 39,
    "start_time": "2021-11-27T12:13:03.640Z"
   },
   {
    "duration": 25,
    "start_time": "2021-11-27T12:13:03.682Z"
   },
   {
    "duration": 8,
    "start_time": "2021-11-27T12:13:03.711Z"
   },
   {
    "duration": 51,
    "start_time": "2021-11-27T12:13:03.722Z"
   },
   {
    "duration": 12,
    "start_time": "2021-11-27T12:13:03.776Z"
   },
   {
    "duration": 319,
    "start_time": "2021-11-27T12:13:03.791Z"
   },
   {
    "duration": 100,
    "start_time": "2021-11-27T12:13:04.112Z"
   },
   {
    "duration": 18,
    "start_time": "2021-11-27T12:13:04.214Z"
   },
   {
    "duration": 24,
    "start_time": "2021-11-27T12:13:04.235Z"
   },
   {
    "duration": 107,
    "start_time": "2021-11-27T12:13:04.262Z"
   },
   {
    "duration": 33,
    "start_time": "2021-11-27T12:13:04.371Z"
   },
   {
    "duration": 75,
    "start_time": "2021-11-27T12:13:04.407Z"
   },
   {
    "duration": 24,
    "start_time": "2021-11-27T12:13:04.485Z"
   },
   {
    "duration": 58,
    "start_time": "2021-11-27T12:13:04.513Z"
   },
   {
    "duration": 44,
    "start_time": "2021-11-27T12:13:04.574Z"
   },
   {
    "duration": 82,
    "start_time": "2021-11-27T12:13:04.621Z"
   },
   {
    "duration": 27,
    "start_time": "2021-11-27T12:13:04.706Z"
   },
   {
    "duration": 45,
    "start_time": "2021-11-27T12:13:04.762Z"
   },
   {
    "duration": 77,
    "start_time": "2021-11-27T12:13:04.811Z"
   },
   {
    "duration": 38,
    "start_time": "2021-11-27T12:13:04.891Z"
   },
   {
    "duration": 38,
    "start_time": "2021-11-27T12:13:04.932Z"
   },
   {
    "duration": 145,
    "start_time": "2021-11-27T12:13:04.972Z"
   },
   {
    "duration": 119,
    "start_time": "2021-11-27T12:13:05.120Z"
   },
   {
    "duration": 146,
    "start_time": "2021-11-27T12:13:05.242Z"
   },
   {
    "duration": 217,
    "start_time": "2021-11-27T12:13:05.390Z"
   },
   {
    "duration": 189,
    "start_time": "2021-11-27T12:13:05.609Z"
   },
   {
    "duration": 223,
    "start_time": "2021-11-27T12:13:05.800Z"
   },
   {
    "duration": 80,
    "start_time": "2021-11-27T12:13:06.026Z"
   },
   {
    "duration": 93,
    "start_time": "2021-11-27T12:13:06.108Z"
   },
   {
    "duration": 9,
    "start_time": "2021-11-27T12:13:06.203Z"
   },
   {
    "duration": 47,
    "start_time": "2021-11-27T12:13:06.214Z"
   },
   {
    "duration": 11,
    "start_time": "2021-11-27T12:13:06.263Z"
   },
   {
    "duration": 428,
    "start_time": "2021-11-27T12:13:10.585Z"
   },
   {
    "duration": 7,
    "start_time": "2021-11-27T12:13:18.155Z"
   },
   {
    "duration": 24,
    "start_time": "2021-11-27T12:13:27.215Z"
   },
   {
    "duration": 98,
    "start_time": "2021-11-27T12:24:34.522Z"
   },
   {
    "duration": 27,
    "start_time": "2021-11-27T12:24:47.629Z"
   },
   {
    "duration": 9,
    "start_time": "2021-11-27T12:25:32.880Z"
   },
   {
    "duration": 6,
    "start_time": "2021-11-27T12:26:57.798Z"
   },
   {
    "duration": 10,
    "start_time": "2021-11-27T12:27:02.365Z"
   },
   {
    "duration": 124,
    "start_time": "2021-11-27T12:27:06.316Z"
   },
   {
    "duration": 13,
    "start_time": "2021-11-27T12:27:11.765Z"
   },
   {
    "duration": 354,
    "start_time": "2021-11-27T12:28:18.858Z"
   },
   {
    "duration": 18,
    "start_time": "2021-11-27T12:28:24.016Z"
   },
   {
    "duration": 783,
    "start_time": "2021-11-27T12:31:47.487Z"
   },
   {
    "duration": 312,
    "start_time": "2021-11-27T12:31:48.273Z"
   },
   {
    "duration": 70,
    "start_time": "2021-11-27T12:31:48.589Z"
   },
   {
    "duration": 250,
    "start_time": "2021-11-27T12:31:48.663Z"
   },
   {
    "duration": 41,
    "start_time": "2021-11-27T12:31:48.919Z"
   },
   {
    "duration": 138,
    "start_time": "2021-11-27T12:31:48.963Z"
   },
   {
    "duration": 22,
    "start_time": "2021-11-27T12:31:49.104Z"
   },
   {
    "duration": 42,
    "start_time": "2021-11-27T12:31:49.131Z"
   },
   {
    "duration": 8,
    "start_time": "2021-11-27T12:31:49.176Z"
   },
   {
    "duration": 44,
    "start_time": "2021-11-27T12:31:49.188Z"
   },
   {
    "duration": 30,
    "start_time": "2021-11-27T12:31:49.235Z"
   },
   {
    "duration": 324,
    "start_time": "2021-11-27T12:31:49.268Z"
   },
   {
    "duration": 107,
    "start_time": "2021-11-27T12:31:49.595Z"
   },
   {
    "duration": 17,
    "start_time": "2021-11-27T12:31:49.705Z"
   },
   {
    "duration": 7,
    "start_time": "2021-11-27T12:31:49.725Z"
   },
   {
    "duration": 129,
    "start_time": "2021-11-27T12:31:49.734Z"
   },
   {
    "duration": 40,
    "start_time": "2021-11-27T12:31:49.865Z"
   },
   {
    "duration": 70,
    "start_time": "2021-11-27T12:31:49.908Z"
   },
   {
    "duration": 18,
    "start_time": "2021-11-27T12:31:49.981Z"
   },
   {
    "duration": 22,
    "start_time": "2021-11-27T12:31:50.002Z"
   },
   {
    "duration": 40,
    "start_time": "2021-11-27T12:31:50.059Z"
   },
   {
    "duration": 92,
    "start_time": "2021-11-27T12:31:50.101Z"
   },
   {
    "duration": 28,
    "start_time": "2021-11-27T12:31:50.199Z"
   },
   {
    "duration": 72,
    "start_time": "2021-11-27T12:31:50.229Z"
   },
   {
    "duration": 33,
    "start_time": "2021-11-27T12:31:50.303Z"
   },
   {
    "duration": 62,
    "start_time": "2021-11-27T12:31:50.339Z"
   },
   {
    "duration": 15,
    "start_time": "2021-11-27T12:31:50.404Z"
   },
   {
    "duration": 166,
    "start_time": "2021-11-27T12:31:50.421Z"
   },
   {
    "duration": 130,
    "start_time": "2021-11-27T12:31:50.590Z"
   },
   {
    "duration": 157,
    "start_time": "2021-11-27T12:31:50.722Z"
   },
   {
    "duration": 226,
    "start_time": "2021-11-27T12:31:50.883Z"
   },
   {
    "duration": 201,
    "start_time": "2021-11-27T12:31:51.112Z"
   },
   {
    "duration": 227,
    "start_time": "2021-11-27T12:31:51.316Z"
   },
   {
    "duration": 29,
    "start_time": "2021-11-27T12:31:51.545Z"
   },
   {
    "duration": 20,
    "start_time": "2021-11-27T12:31:51.576Z"
   },
   {
    "duration": 25,
    "start_time": "2021-11-27T12:31:51.598Z"
   },
   {
    "duration": 43,
    "start_time": "2021-11-27T12:31:51.625Z"
   },
   {
    "duration": 9,
    "start_time": "2021-11-27T12:31:51.670Z"
   },
   {
    "duration": 31,
    "start_time": "2021-11-27T12:31:51.681Z"
   },
   {
    "duration": 146,
    "start_time": "2021-11-27T12:31:51.714Z"
   },
   {
    "duration": 6,
    "start_time": "2021-11-27T12:31:51.863Z"
   },
   {
    "duration": 25,
    "start_time": "2021-11-27T12:31:51.872Z"
   },
   {
    "duration": 819,
    "start_time": "2021-11-27T12:32:48.241Z"
   },
   {
    "duration": 220,
    "start_time": "2021-11-27T12:32:49.063Z"
   },
   {
    "duration": 28,
    "start_time": "2021-11-27T12:32:49.286Z"
   },
   {
    "duration": 203,
    "start_time": "2021-11-27T12:32:49.317Z"
   },
   {
    "duration": 40,
    "start_time": "2021-11-27T12:32:49.523Z"
   },
   {
    "duration": 134,
    "start_time": "2021-11-27T12:32:49.565Z"
   },
   {
    "duration": 23,
    "start_time": "2021-11-27T12:32:49.701Z"
   },
   {
    "duration": 44,
    "start_time": "2021-11-27T12:32:49.728Z"
   },
   {
    "duration": 9,
    "start_time": "2021-11-27T12:32:49.775Z"
   },
   {
    "duration": 51,
    "start_time": "2021-11-27T12:32:49.786Z"
   },
   {
    "duration": 8,
    "start_time": "2021-11-27T12:32:49.840Z"
   },
   {
    "duration": 328,
    "start_time": "2021-11-27T12:32:49.850Z"
   },
   {
    "duration": 103,
    "start_time": "2021-11-27T12:32:50.180Z"
   },
   {
    "duration": 17,
    "start_time": "2021-11-27T12:32:50.285Z"
   },
   {
    "duration": 4,
    "start_time": "2021-11-27T12:32:50.304Z"
   },
   {
    "duration": 135,
    "start_time": "2021-11-27T12:32:50.310Z"
   },
   {
    "duration": 43,
    "start_time": "2021-11-27T12:32:50.451Z"
   },
   {
    "duration": 36,
    "start_time": "2021-11-27T12:32:50.497Z"
   },
   {
    "duration": 21,
    "start_time": "2021-11-27T12:32:50.560Z"
   },
   {
    "duration": 22,
    "start_time": "2021-11-27T12:32:50.583Z"
   },
   {
    "duration": 80,
    "start_time": "2021-11-27T12:32:50.607Z"
   },
   {
    "duration": 90,
    "start_time": "2021-11-27T12:32:50.689Z"
   },
   {
    "duration": 28,
    "start_time": "2021-11-27T12:32:50.784Z"
   },
   {
    "duration": 75,
    "start_time": "2021-11-27T12:32:50.815Z"
   },
   {
    "duration": 34,
    "start_time": "2021-11-27T12:32:50.892Z"
   },
   {
    "duration": 72,
    "start_time": "2021-11-27T12:32:50.928Z"
   },
   {
    "duration": 15,
    "start_time": "2021-11-27T12:32:51.003Z"
   },
   {
    "duration": 167,
    "start_time": "2021-11-27T12:32:51.021Z"
   },
   {
    "duration": 133,
    "start_time": "2021-11-27T12:32:51.191Z"
   },
   {
    "duration": 148,
    "start_time": "2021-11-27T12:32:51.327Z"
   },
   {
    "duration": 235,
    "start_time": "2021-11-27T12:32:51.478Z"
   },
   {
    "duration": 211,
    "start_time": "2021-11-27T12:32:51.716Z"
   },
   {
    "duration": 238,
    "start_time": "2021-11-27T12:32:51.930Z"
   },
   {
    "duration": 21,
    "start_time": "2021-11-27T12:32:52.171Z"
   },
   {
    "duration": 24,
    "start_time": "2021-11-27T12:32:52.195Z"
   },
   {
    "duration": 61,
    "start_time": "2021-11-27T12:32:52.221Z"
   },
   {
    "duration": 10,
    "start_time": "2021-11-27T12:32:52.284Z"
   },
   {
    "duration": 21,
    "start_time": "2021-11-27T12:32:52.297Z"
   },
   {
    "duration": 111,
    "start_time": "2021-11-27T12:32:52.360Z"
   },
   {
    "duration": 19,
    "start_time": "2021-11-27T12:32:52.473Z"
   },
   {
    "duration": 1094,
    "start_time": "2021-11-27T12:35:44.916Z"
   },
   {
    "duration": 228,
    "start_time": "2021-11-27T12:35:46.013Z"
   },
   {
    "duration": 36,
    "start_time": "2021-11-27T12:35:46.244Z"
   },
   {
    "duration": 220,
    "start_time": "2021-11-27T12:35:46.283Z"
   },
   {
    "duration": 23,
    "start_time": "2021-11-27T12:35:46.506Z"
   },
   {
    "duration": 1317,
    "start_time": "2021-11-27T12:35:46.532Z"
   },
   {
    "duration": 124,
    "start_time": "2021-11-27T12:35:47.851Z"
   },
   {
    "duration": 28,
    "start_time": "2021-11-27T12:35:47.982Z"
   },
   {
    "duration": 9,
    "start_time": "2021-11-27T12:35:48.013Z"
   },
   {
    "duration": 77,
    "start_time": "2021-11-27T12:35:48.024Z"
   },
   {
    "duration": 9,
    "start_time": "2021-11-27T12:35:48.103Z"
   },
   {
    "duration": 301,
    "start_time": "2021-11-27T12:35:48.114Z"
   },
   {
    "duration": 98,
    "start_time": "2021-11-27T12:35:48.417Z"
   },
   {
    "duration": 16,
    "start_time": "2021-11-27T12:35:48.518Z"
   },
   {
    "duration": 23,
    "start_time": "2021-11-27T12:35:48.536Z"
   },
   {
    "duration": 112,
    "start_time": "2021-11-27T12:35:48.562Z"
   },
   {
    "duration": 36,
    "start_time": "2021-11-27T12:35:48.676Z"
   },
   {
    "duration": 61,
    "start_time": "2021-11-27T12:35:48.715Z"
   },
   {
    "duration": 19,
    "start_time": "2021-11-27T12:35:48.778Z"
   },
   {
    "duration": 21,
    "start_time": "2021-11-27T12:35:48.799Z"
   },
   {
    "duration": 41,
    "start_time": "2021-11-27T12:35:48.859Z"
   },
   {
    "duration": 93,
    "start_time": "2021-11-27T12:35:48.903Z"
   },
   {
    "duration": 29,
    "start_time": "2021-11-27T12:35:49.000Z"
   },
   {
    "duration": 69,
    "start_time": "2021-11-27T12:35:49.032Z"
   },
   {
    "duration": 66,
    "start_time": "2021-11-27T12:35:49.103Z"
   },
   {
    "duration": 45,
    "start_time": "2021-11-27T12:35:49.171Z"
   },
   {
    "duration": 45,
    "start_time": "2021-11-27T12:35:49.219Z"
   },
   {
    "duration": 144,
    "start_time": "2021-11-27T12:35:49.266Z"
   },
   {
    "duration": 132,
    "start_time": "2021-11-27T12:35:49.413Z"
   },
   {
    "duration": 141,
    "start_time": "2021-11-27T12:35:49.547Z"
   },
   {
    "duration": 213,
    "start_time": "2021-11-27T12:35:49.691Z"
   },
   {
    "duration": 182,
    "start_time": "2021-11-27T12:35:49.907Z"
   },
   {
    "duration": 388,
    "start_time": "2021-11-27T12:35:50.092Z"
   },
   {
    "duration": 26,
    "start_time": "2021-11-27T12:35:50.482Z"
   },
   {
    "duration": 52,
    "start_time": "2021-11-27T12:35:50.511Z"
   },
   {
    "duration": 36,
    "start_time": "2021-11-27T12:35:50.566Z"
   },
   {
    "duration": 18,
    "start_time": "2021-11-27T12:35:50.605Z"
   },
   {
    "duration": 137,
    "start_time": "2021-11-27T12:35:50.625Z"
   },
   {
    "duration": 13,
    "start_time": "2021-11-27T12:35:50.764Z"
   },
   {
    "duration": 20,
    "start_time": "2021-11-27T12:36:23.895Z"
   },
   {
    "duration": 14,
    "start_time": "2021-11-27T12:36:31.160Z"
   },
   {
    "duration": 809,
    "start_time": "2021-11-27T12:36:43.017Z"
   },
   {
    "duration": 272,
    "start_time": "2021-11-27T12:36:43.828Z"
   },
   {
    "duration": 60,
    "start_time": "2021-11-27T12:36:44.104Z"
   },
   {
    "duration": 280,
    "start_time": "2021-11-27T12:36:44.168Z"
   },
   {
    "duration": 42,
    "start_time": "2021-11-27T12:36:44.451Z"
   },
   {
    "duration": 137,
    "start_time": "2021-11-27T12:36:44.495Z"
   },
   {
    "duration": 37,
    "start_time": "2021-11-27T12:36:44.634Z"
   },
   {
    "duration": 30,
    "start_time": "2021-11-27T12:36:44.675Z"
   },
   {
    "duration": 15,
    "start_time": "2021-11-27T12:36:44.709Z"
   },
   {
    "duration": 87,
    "start_time": "2021-11-27T12:36:44.727Z"
   },
   {
    "duration": 19,
    "start_time": "2021-11-27T12:36:44.816Z"
   },
   {
    "duration": 308,
    "start_time": "2021-11-27T12:36:44.837Z"
   },
   {
    "duration": 86,
    "start_time": "2021-11-27T12:36:45.155Z"
   },
   {
    "duration": 17,
    "start_time": "2021-11-27T12:36:45.260Z"
   },
   {
    "duration": 3,
    "start_time": "2021-11-27T12:36:45.280Z"
   },
   {
    "duration": 132,
    "start_time": "2021-11-27T12:36:45.285Z"
   },
   {
    "duration": 51,
    "start_time": "2021-11-27T12:36:45.420Z"
   },
   {
    "duration": 36,
    "start_time": "2021-11-27T12:36:45.474Z"
   },
   {
    "duration": 47,
    "start_time": "2021-11-27T12:36:45.512Z"
   },
   {
    "duration": 26,
    "start_time": "2021-11-27T12:36:45.561Z"
   },
   {
    "duration": 75,
    "start_time": "2021-11-27T12:36:45.590Z"
   },
   {
    "duration": 67,
    "start_time": "2021-11-27T12:36:45.668Z"
   },
   {
    "duration": 30,
    "start_time": "2021-11-27T12:36:45.763Z"
   },
   {
    "duration": 89,
    "start_time": "2021-11-27T12:36:45.798Z"
   },
   {
    "duration": 35,
    "start_time": "2021-11-27T12:36:45.891Z"
   },
   {
    "duration": 70,
    "start_time": "2021-11-27T12:36:45.929Z"
   },
   {
    "duration": 18,
    "start_time": "2021-11-27T12:36:46.002Z"
   },
   {
    "duration": 147,
    "start_time": "2021-11-27T12:36:46.059Z"
   },
   {
    "duration": 132,
    "start_time": "2021-11-27T12:36:46.210Z"
   },
   {
    "duration": 144,
    "start_time": "2021-11-27T12:36:46.345Z"
   },
   {
    "duration": 215,
    "start_time": "2021-11-27T12:36:46.492Z"
   },
   {
    "duration": 338,
    "start_time": "2021-11-27T12:36:46.710Z"
   },
   {
    "duration": 393,
    "start_time": "2021-11-27T12:36:47.051Z"
   },
   {
    "duration": 30,
    "start_time": "2021-11-27T12:36:47.447Z"
   },
   {
    "duration": 27,
    "start_time": "2021-11-27T12:36:47.480Z"
   },
   {
    "duration": 64,
    "start_time": "2021-11-27T12:36:47.511Z"
   },
   {
    "duration": 25,
    "start_time": "2021-11-27T12:36:47.578Z"
   },
   {
    "duration": 236,
    "start_time": "2021-11-27T12:36:47.606Z"
   },
   {
    "duration": 46,
    "start_time": "2021-11-27T12:36:47.880Z"
   },
   {
    "duration": 91,
    "start_time": "2021-11-28T07:40:12.641Z"
   },
   {
    "duration": 1022,
    "start_time": "2021-11-28T07:40:22.527Z"
   },
   {
    "duration": 566,
    "start_time": "2021-11-28T07:40:30.282Z"
   },
   {
    "duration": 161,
    "start_time": "2021-11-28T07:40:30.850Z"
   },
   {
    "duration": 20,
    "start_time": "2021-11-28T07:40:31.013Z"
   },
   {
    "duration": 143,
    "start_time": "2021-11-28T07:40:31.044Z"
   },
   {
    "duration": 15,
    "start_time": "2021-11-28T07:40:31.189Z"
   },
   {
    "duration": 110,
    "start_time": "2021-11-28T07:40:31.206Z"
   },
   {
    "duration": 13,
    "start_time": "2021-11-28T07:40:31.318Z"
   },
   {
    "duration": 24,
    "start_time": "2021-11-28T07:40:31.345Z"
   },
   {
    "duration": 17,
    "start_time": "2021-11-28T07:40:31.371Z"
   },
   {
    "duration": 48,
    "start_time": "2021-11-28T07:40:31.389Z"
   },
   {
    "duration": 22,
    "start_time": "2021-11-28T07:40:31.439Z"
   },
   {
    "duration": 221,
    "start_time": "2021-11-28T07:40:31.464Z"
   },
   {
    "duration": 71,
    "start_time": "2021-11-28T07:40:31.686Z"
   },
   {
    "duration": 12,
    "start_time": "2021-11-28T07:40:31.759Z"
   },
   {
    "duration": 8,
    "start_time": "2021-11-28T07:40:31.772Z"
   },
   {
    "duration": 92,
    "start_time": "2021-11-28T07:40:31.782Z"
   },
   {
    "duration": 28,
    "start_time": "2021-11-28T07:40:31.876Z"
   },
   {
    "duration": 50,
    "start_time": "2021-11-28T07:40:31.906Z"
   },
   {
    "duration": 15,
    "start_time": "2021-11-28T07:40:31.958Z"
   },
   {
    "duration": 16,
    "start_time": "2021-11-28T07:40:31.975Z"
   },
   {
    "duration": 62,
    "start_time": "2021-11-28T07:40:31.993Z"
   },
   {
    "duration": 50,
    "start_time": "2021-11-28T07:40:32.057Z"
   },
   {
    "duration": 42,
    "start_time": "2021-11-28T07:40:32.111Z"
   },
   {
    "duration": 36,
    "start_time": "2021-11-28T07:40:32.156Z"
   },
   {
    "duration": 50,
    "start_time": "2021-11-28T07:40:32.194Z"
   },
   {
    "duration": 37,
    "start_time": "2021-11-28T07:40:32.246Z"
   },
   {
    "duration": 11,
    "start_time": "2021-11-28T07:40:32.284Z"
   },
   {
    "duration": 130,
    "start_time": "2021-11-28T07:40:32.297Z"
   },
   {
    "duration": 64,
    "start_time": "2021-11-28T07:40:32.429Z"
   },
   {
    "duration": 87,
    "start_time": "2021-11-28T07:40:32.495Z"
   },
   {
    "duration": 129,
    "start_time": "2021-11-28T07:40:32.583Z"
   },
   {
    "duration": 113,
    "start_time": "2021-11-28T07:40:32.714Z"
   },
   {
    "duration": 139,
    "start_time": "2021-11-28T07:40:32.828Z"
   },
   {
    "duration": 13,
    "start_time": "2021-11-28T07:40:32.969Z"
   },
   {
    "duration": 26,
    "start_time": "2021-11-28T07:40:32.984Z"
   },
   {
    "duration": 32,
    "start_time": "2021-11-28T07:40:33.012Z"
   },
   {
    "duration": 13,
    "start_time": "2021-11-28T07:40:38.911Z"
   },
   {
    "duration": 6,
    "start_time": "2021-11-28T07:44:31.769Z"
   },
   {
    "duration": 769,
    "start_time": "2021-11-28T07:45:15.256Z"
   },
   {
    "duration": 162,
    "start_time": "2021-11-28T07:45:16.028Z"
   },
   {
    "duration": 21,
    "start_time": "2021-11-28T07:45:16.192Z"
   },
   {
    "duration": 134,
    "start_time": "2021-11-28T07:45:16.216Z"
   },
   {
    "duration": 19,
    "start_time": "2021-11-28T07:45:16.352Z"
   },
   {
    "duration": 99,
    "start_time": "2021-11-28T07:45:16.373Z"
   },
   {
    "duration": 14,
    "start_time": "2021-11-28T07:45:16.474Z"
   },
   {
    "duration": 32,
    "start_time": "2021-11-28T07:45:16.490Z"
   },
   {
    "duration": 21,
    "start_time": "2021-11-28T07:45:16.523Z"
   },
   {
    "duration": 46,
    "start_time": "2021-11-28T07:45:16.546Z"
   },
   {
    "duration": 6,
    "start_time": "2021-11-28T07:45:16.594Z"
   },
   {
    "duration": 202,
    "start_time": "2021-11-28T07:45:16.602Z"
   },
   {
    "duration": 72,
    "start_time": "2021-11-28T07:45:16.806Z"
   },
   {
    "duration": 12,
    "start_time": "2021-11-28T07:45:16.880Z"
   },
   {
    "duration": 23,
    "start_time": "2021-11-28T07:45:16.894Z"
   },
   {
    "duration": 77,
    "start_time": "2021-11-28T07:45:16.918Z"
   },
   {
    "duration": 29,
    "start_time": "2021-11-28T07:45:16.997Z"
   },
   {
    "duration": 33,
    "start_time": "2021-11-28T07:45:17.028Z"
   },
   {
    "duration": 22,
    "start_time": "2021-11-28T07:45:17.063Z"
   },
   {
    "duration": 32,
    "start_time": "2021-11-28T07:45:17.086Z"
   },
   {
    "duration": 45,
    "start_time": "2021-11-28T07:45:17.119Z"
   },
   {
    "duration": 78,
    "start_time": "2021-11-28T07:45:17.166Z"
   },
   {
    "duration": 26,
    "start_time": "2021-11-28T07:45:17.249Z"
   },
   {
    "duration": 70,
    "start_time": "2021-11-28T07:45:17.277Z"
   },
   {
    "duration": 31,
    "start_time": "2021-11-28T07:45:17.349Z"
   },
   {
    "duration": 67,
    "start_time": "2021-11-28T07:45:17.382Z"
   },
   {
    "duration": 15,
    "start_time": "2021-11-28T07:45:17.451Z"
   },
   {
    "duration": 145,
    "start_time": "2021-11-28T07:45:17.468Z"
   },
   {
    "duration": 131,
    "start_time": "2021-11-28T07:45:17.615Z"
   },
   {
    "duration": 138,
    "start_time": "2021-11-28T07:45:17.748Z"
   },
   {
    "duration": 180,
    "start_time": "2021-11-28T07:45:17.888Z"
   },
   {
    "duration": 118,
    "start_time": "2021-11-28T07:45:18.069Z"
   },
   {
    "duration": 138,
    "start_time": "2021-11-28T07:45:18.188Z"
   },
   {
    "duration": 19,
    "start_time": "2021-11-28T07:45:18.328Z"
   },
   {
    "duration": 11,
    "start_time": "2021-11-28T07:45:18.349Z"
   },
   {
    "duration": 37,
    "start_time": "2021-11-28T07:45:18.362Z"
   },
   {
    "duration": 16,
    "start_time": "2021-11-28T07:45:18.401Z"
   },
   {
    "duration": 79,
    "start_time": "2021-11-28T07:45:18.419Z"
   },
   {
    "duration": 11,
    "start_time": "2021-11-28T07:45:18.500Z"
   },
   {
    "duration": 671,
    "start_time": "2021-11-28T07:56:01.613Z"
   },
   {
    "duration": 155,
    "start_time": "2021-11-28T07:56:02.286Z"
   },
   {
    "duration": 20,
    "start_time": "2021-11-28T07:56:02.443Z"
   },
   {
    "duration": 155,
    "start_time": "2021-11-28T07:56:02.465Z"
   },
   {
    "duration": 26,
    "start_time": "2021-11-28T07:56:02.621Z"
   },
   {
    "duration": 103,
    "start_time": "2021-11-28T07:56:02.648Z"
   },
   {
    "duration": 14,
    "start_time": "2021-11-28T07:56:02.753Z"
   },
   {
    "duration": 39,
    "start_time": "2021-11-28T07:56:02.769Z"
   },
   {
    "duration": 23,
    "start_time": "2021-11-28T07:56:02.810Z"
   },
   {
    "duration": 56,
    "start_time": "2021-11-28T07:56:02.835Z"
   },
   {
    "duration": 20,
    "start_time": "2021-11-28T07:56:02.892Z"
   },
   {
    "duration": 219,
    "start_time": "2021-11-28T07:56:02.914Z"
   },
   {
    "duration": 59,
    "start_time": "2021-11-28T07:56:03.134Z"
   },
   {
    "duration": 12,
    "start_time": "2021-11-28T07:56:03.194Z"
   },
   {
    "duration": 31,
    "start_time": "2021-11-28T07:56:03.207Z"
   },
   {
    "duration": 89,
    "start_time": "2021-11-28T07:56:03.239Z"
   },
   {
    "duration": 34,
    "start_time": "2021-11-28T07:56:03.329Z"
   },
   {
    "duration": 26,
    "start_time": "2021-11-28T07:56:03.365Z"
   },
   {
    "duration": 34,
    "start_time": "2021-11-28T07:56:03.393Z"
   },
   {
    "duration": 31,
    "start_time": "2021-11-28T07:56:03.429Z"
   },
   {
    "duration": 53,
    "start_time": "2021-11-28T07:56:03.462Z"
   },
   {
    "duration": 47,
    "start_time": "2021-11-28T07:56:03.516Z"
   },
   {
    "duration": 18,
    "start_time": "2021-11-28T07:56:03.566Z"
   },
   {
    "duration": 42,
    "start_time": "2021-11-28T07:56:03.586Z"
   },
   {
    "duration": 31,
    "start_time": "2021-11-28T07:56:03.630Z"
   },
   {
    "duration": 30,
    "start_time": "2021-11-28T07:56:03.662Z"
   },
   {
    "duration": 10,
    "start_time": "2021-11-28T07:56:03.694Z"
   },
   {
    "duration": 100,
    "start_time": "2021-11-28T07:56:03.705Z"
   },
   {
    "duration": 71,
    "start_time": "2021-11-28T07:56:03.807Z"
   },
   {
    "duration": 87,
    "start_time": "2021-11-28T07:56:03.880Z"
   },
   {
    "duration": 124,
    "start_time": "2021-11-28T07:56:03.969Z"
   },
   {
    "duration": 106,
    "start_time": "2021-11-28T07:56:04.095Z"
   },
   {
    "duration": 131,
    "start_time": "2021-11-28T07:56:04.203Z"
   },
   {
    "duration": 17,
    "start_time": "2021-11-28T07:56:04.336Z"
   },
   {
    "duration": 29,
    "start_time": "2021-11-28T07:56:04.354Z"
   },
   {
    "duration": 35,
    "start_time": "2021-11-28T07:56:04.384Z"
   },
   {
    "duration": 13,
    "start_time": "2021-11-28T07:56:12.228Z"
   },
   {
    "duration": 6,
    "start_time": "2021-11-28T08:02:52.644Z"
   },
   {
    "duration": 4,
    "start_time": "2021-11-28T08:03:14.184Z"
   },
   {
    "duration": 609,
    "start_time": "2021-11-28T08:09:48.310Z"
   },
   {
    "duration": 162,
    "start_time": "2021-11-28T08:09:48.921Z"
   },
   {
    "duration": 21,
    "start_time": "2021-11-28T08:09:49.085Z"
   },
   {
    "duration": 147,
    "start_time": "2021-11-28T08:09:49.108Z"
   },
   {
    "duration": 18,
    "start_time": "2021-11-28T08:09:49.257Z"
   },
   {
    "duration": 97,
    "start_time": "2021-11-28T08:09:49.277Z"
   },
   {
    "duration": 14,
    "start_time": "2021-11-28T08:09:49.375Z"
   },
   {
    "duration": 21,
    "start_time": "2021-11-28T08:09:49.392Z"
   },
   {
    "duration": 5,
    "start_time": "2021-11-28T08:09:49.415Z"
   },
   {
    "duration": 34,
    "start_time": "2021-11-28T08:09:49.422Z"
   },
   {
    "duration": 5,
    "start_time": "2021-11-28T08:09:49.458Z"
   },
   {
    "duration": 227,
    "start_time": "2021-11-28T08:09:49.466Z"
   },
   {
    "duration": 73,
    "start_time": "2021-11-28T08:09:49.695Z"
   },
   {
    "duration": 12,
    "start_time": "2021-11-28T08:09:49.770Z"
   },
   {
    "duration": 3,
    "start_time": "2021-11-28T08:09:49.783Z"
   },
   {
    "duration": 88,
    "start_time": "2021-11-28T08:09:49.787Z"
   },
   {
    "duration": 28,
    "start_time": "2021-11-28T08:09:49.877Z"
   },
   {
    "duration": 49,
    "start_time": "2021-11-28T08:09:49.906Z"
   },
   {
    "duration": 13,
    "start_time": "2021-11-28T08:09:49.956Z"
   },
   {
    "duration": 14,
    "start_time": "2021-11-28T08:09:49.971Z"
   },
   {
    "duration": 58,
    "start_time": "2021-11-28T08:09:49.986Z"
   },
   {
    "duration": 49,
    "start_time": "2021-11-28T08:09:50.046Z"
   },
   {
    "duration": 19,
    "start_time": "2021-11-28T08:09:50.099Z"
   },
   {
    "duration": 55,
    "start_time": "2021-11-28T08:09:50.120Z"
   },
   {
    "duration": 23,
    "start_time": "2021-11-28T08:09:50.176Z"
   },
   {
    "duration": 58,
    "start_time": "2021-11-28T08:09:50.201Z"
   },
   {
    "duration": 10,
    "start_time": "2021-11-28T08:09:50.261Z"
   },
   {
    "duration": 95,
    "start_time": "2021-11-28T08:09:50.273Z"
   },
   {
    "duration": 75,
    "start_time": "2021-11-28T08:09:50.370Z"
   },
   {
    "duration": 74,
    "start_time": "2021-11-28T08:09:50.446Z"
   },
   {
    "duration": 138,
    "start_time": "2021-11-28T08:09:50.521Z"
   },
   {
    "duration": 111,
    "start_time": "2021-11-28T08:09:50.661Z"
   },
   {
    "duration": 143,
    "start_time": "2021-11-28T08:09:50.774Z"
   },
   {
    "duration": 25,
    "start_time": "2021-11-28T08:09:50.919Z"
   },
   {
    "duration": 12,
    "start_time": "2021-11-28T08:09:50.946Z"
   },
   {
    "duration": 15,
    "start_time": "2021-11-28T08:09:50.960Z"
   },
   {
    "duration": 316,
    "start_time": "2021-11-28T08:09:56.485Z"
   },
   {
    "duration": 6560,
    "start_time": "2021-11-28T08:10:01.334Z"
   },
   {
    "duration": 7105,
    "start_time": "2021-11-28T08:10:45.404Z"
   },
   {
    "duration": 617,
    "start_time": "2021-11-28T08:12:25.175Z"
   },
   {
    "duration": 174,
    "start_time": "2021-11-28T08:12:25.794Z"
   },
   {
    "duration": 24,
    "start_time": "2021-11-28T08:12:25.971Z"
   },
   {
    "duration": 155,
    "start_time": "2021-11-28T08:12:25.997Z"
   },
   {
    "duration": 20,
    "start_time": "2021-11-28T08:12:26.155Z"
   },
   {
    "duration": 112,
    "start_time": "2021-11-28T08:12:26.178Z"
   },
   {
    "duration": 15,
    "start_time": "2021-11-28T08:12:26.292Z"
   },
   {
    "duration": 23,
    "start_time": "2021-11-28T08:12:26.310Z"
   },
   {
    "duration": 12,
    "start_time": "2021-11-28T08:12:26.344Z"
   },
   {
    "duration": 56,
    "start_time": "2021-11-28T08:12:26.358Z"
   },
   {
    "duration": 8,
    "start_time": "2021-11-28T08:12:26.416Z"
   },
   {
    "duration": 230,
    "start_time": "2021-11-28T08:12:26.426Z"
   },
   {
    "duration": 65,
    "start_time": "2021-11-28T08:12:26.658Z"
   },
   {
    "duration": 25,
    "start_time": "2021-11-28T08:12:26.725Z"
   },
   {
    "duration": 8,
    "start_time": "2021-11-28T08:12:26.752Z"
   },
   {
    "duration": 92,
    "start_time": "2021-11-28T08:12:26.762Z"
   },
   {
    "duration": 29,
    "start_time": "2021-11-28T08:12:26.857Z"
   },
   {
    "duration": 27,
    "start_time": "2021-11-28T08:12:26.888Z"
   },
   {
    "duration": 40,
    "start_time": "2021-11-28T08:12:26.916Z"
   },
   {
    "duration": 15,
    "start_time": "2021-11-28T08:12:26.958Z"
   },
   {
    "duration": 30,
    "start_time": "2021-11-28T08:12:26.975Z"
   },
   {
    "duration": 86,
    "start_time": "2021-11-28T08:12:27.008Z"
   },
   {
    "duration": 22,
    "start_time": "2021-11-28T08:12:27.098Z"
   },
   {
    "duration": 34,
    "start_time": "2021-11-28T08:12:27.144Z"
   },
   {
    "duration": 26,
    "start_time": "2021-11-28T08:12:27.180Z"
   },
   {
    "duration": 59,
    "start_time": "2021-11-28T08:12:27.207Z"
   },
   {
    "duration": 12,
    "start_time": "2021-11-28T08:12:27.269Z"
   },
   {
    "duration": 108,
    "start_time": "2021-11-28T08:12:27.283Z"
   },
   {
    "duration": 127,
    "start_time": "2021-11-28T08:12:27.393Z"
   },
   {
    "duration": 134,
    "start_time": "2021-11-28T08:12:27.523Z"
   },
   {
    "duration": 210,
    "start_time": "2021-11-28T08:12:27.660Z"
   },
   {
    "duration": 183,
    "start_time": "2021-11-28T08:12:27.872Z"
   },
   {
    "duration": 219,
    "start_time": "2021-11-28T08:12:28.057Z"
   },
   {
    "duration": 11,
    "start_time": "2021-11-28T08:12:28.278Z"
   },
   {
    "duration": 12,
    "start_time": "2021-11-28T08:12:28.291Z"
   },
   {
    "duration": 46,
    "start_time": "2021-11-28T08:12:28.304Z"
   },
   {
    "duration": 6959,
    "start_time": "2021-11-28T08:12:34.174Z"
   },
   {
    "duration": 275,
    "start_time": "2021-11-28T08:15:21.135Z"
   },
   {
    "duration": 6826,
    "start_time": "2021-11-28T08:15:36.476Z"
   },
   {
    "duration": 13,
    "start_time": "2021-11-28T08:21:26.923Z"
   },
   {
    "duration": 13,
    "start_time": "2021-11-28T08:21:48.370Z"
   },
   {
    "duration": 708,
    "start_time": "2021-11-28T08:23:56.133Z"
   },
   {
    "duration": 240,
    "start_time": "2021-11-28T08:23:56.843Z"
   },
   {
    "duration": 34,
    "start_time": "2021-11-28T08:23:57.088Z"
   },
   {
    "duration": 197,
    "start_time": "2021-11-28T08:23:57.125Z"
   },
   {
    "duration": 35,
    "start_time": "2021-11-28T08:23:57.325Z"
   },
   {
    "duration": 135,
    "start_time": "2021-11-28T08:23:57.363Z"
   },
   {
    "duration": 22,
    "start_time": "2021-11-28T08:23:57.501Z"
   },
   {
    "duration": 42,
    "start_time": "2021-11-28T08:23:57.526Z"
   },
   {
    "duration": 12,
    "start_time": "2021-11-28T08:23:57.570Z"
   },
   {
    "duration": 40,
    "start_time": "2021-11-28T08:23:57.584Z"
   },
   {
    "duration": 8,
    "start_time": "2021-11-28T08:23:57.626Z"
   },
   {
    "duration": 219,
    "start_time": "2021-11-28T08:23:57.636Z"
   },
   {
    "duration": 57,
    "start_time": "2021-11-28T08:23:57.857Z"
   },
   {
    "duration": 28,
    "start_time": "2021-11-28T08:23:57.916Z"
   },
   {
    "duration": 2,
    "start_time": "2021-11-28T08:23:57.946Z"
   },
   {
    "duration": 71,
    "start_time": "2021-11-28T08:23:57.951Z"
   },
   {
    "duration": 41,
    "start_time": "2021-11-28T08:23:58.024Z"
   },
   {
    "duration": 28,
    "start_time": "2021-11-28T08:23:58.068Z"
   },
   {
    "duration": 52,
    "start_time": "2021-11-28T08:23:58.098Z"
   },
   {
    "duration": 14,
    "start_time": "2021-11-28T08:23:58.152Z"
   },
   {
    "duration": 28,
    "start_time": "2021-11-28T08:23:58.167Z"
   },
   {
    "duration": 75,
    "start_time": "2021-11-28T08:23:58.198Z"
   },
   {
    "duration": 18,
    "start_time": "2021-11-28T08:23:58.275Z"
   },
   {
    "duration": 30,
    "start_time": "2021-11-28T08:23:58.295Z"
   },
   {
    "duration": 23,
    "start_time": "2021-11-28T08:23:58.345Z"
   },
   {
    "duration": 31,
    "start_time": "2021-11-28T08:23:58.370Z"
   },
   {
    "duration": 10,
    "start_time": "2021-11-28T08:23:58.402Z"
   },
   {
    "duration": 103,
    "start_time": "2021-11-28T08:23:58.414Z"
   },
   {
    "duration": 76,
    "start_time": "2021-11-28T08:23:58.518Z"
   },
   {
    "duration": 80,
    "start_time": "2021-11-28T08:23:58.595Z"
   },
   {
    "duration": 127,
    "start_time": "2021-11-28T08:23:58.677Z"
   },
   {
    "duration": 111,
    "start_time": "2021-11-28T08:23:58.806Z"
   },
   {
    "duration": 137,
    "start_time": "2021-11-28T08:23:58.919Z"
   },
   {
    "duration": 11,
    "start_time": "2021-11-28T08:23:59.058Z"
   },
   {
    "duration": 13,
    "start_time": "2021-11-28T08:23:59.071Z"
   },
   {
    "duration": 16,
    "start_time": "2021-11-28T08:23:59.086Z"
   },
   {
    "duration": 2,
    "start_time": "2021-11-28T08:23:59.104Z"
   },
   {
    "duration": 49,
    "start_time": "2021-11-28T08:23:59.108Z"
   },
   {
    "duration": 13,
    "start_time": "2021-11-28T08:23:59.158Z"
   },
   {
    "duration": 82,
    "start_time": "2021-11-28T08:23:59.173Z"
   },
   {
    "duration": 9,
    "start_time": "2021-11-28T08:23:59.257Z"
   },
   {
    "duration": 555,
    "start_time": "2021-11-28T08:29:11.168Z"
   },
   {
    "duration": 159,
    "start_time": "2021-11-28T08:29:11.724Z"
   },
   {
    "duration": 19,
    "start_time": "2021-11-28T08:29:11.885Z"
   },
   {
    "duration": 150,
    "start_time": "2021-11-28T08:29:11.906Z"
   },
   {
    "duration": 15,
    "start_time": "2021-11-28T08:29:12.058Z"
   },
   {
    "duration": 87,
    "start_time": "2021-11-28T08:29:12.075Z"
   },
   {
    "duration": 12,
    "start_time": "2021-11-28T08:29:12.164Z"
   },
   {
    "duration": 21,
    "start_time": "2021-11-28T08:29:12.179Z"
   },
   {
    "duration": 17,
    "start_time": "2021-11-28T08:29:12.201Z"
   },
   {
    "duration": 44,
    "start_time": "2021-11-28T08:29:12.220Z"
   },
   {
    "duration": 6,
    "start_time": "2021-11-28T08:29:12.266Z"
   },
   {
    "duration": 188,
    "start_time": "2021-11-28T08:29:12.273Z"
   },
   {
    "duration": 57,
    "start_time": "2021-11-28T08:29:12.462Z"
   },
   {
    "duration": 24,
    "start_time": "2021-11-28T08:29:12.521Z"
   },
   {
    "duration": 2,
    "start_time": "2021-11-28T08:29:12.547Z"
   },
   {
    "duration": 66,
    "start_time": "2021-11-28T08:29:12.551Z"
   },
   {
    "duration": 43,
    "start_time": "2021-11-28T08:29:12.619Z"
   },
   {
    "duration": 24,
    "start_time": "2021-11-28T08:29:12.664Z"
   },
   {
    "duration": 12,
    "start_time": "2021-11-28T08:29:12.689Z"
   },
   {
    "duration": 45,
    "start_time": "2021-11-28T08:29:12.703Z"
   },
   {
    "duration": 38,
    "start_time": "2021-11-28T08:29:12.750Z"
   },
   {
    "duration": 57,
    "start_time": "2021-11-28T08:29:12.790Z"
   },
   {
    "duration": 18,
    "start_time": "2021-11-28T08:29:12.851Z"
   },
   {
    "duration": 32,
    "start_time": "2021-11-28T08:29:12.871Z"
   },
   {
    "duration": 47,
    "start_time": "2021-11-28T08:29:12.905Z"
   },
   {
    "duration": 29,
    "start_time": "2021-11-28T08:29:12.953Z"
   },
   {
    "duration": 9,
    "start_time": "2021-11-28T08:29:12.984Z"
   },
   {
    "duration": 101,
    "start_time": "2021-11-28T08:29:12.994Z"
   },
   {
    "duration": 75,
    "start_time": "2021-11-28T08:29:13.096Z"
   },
   {
    "duration": 80,
    "start_time": "2021-11-28T08:29:13.173Z"
   },
   {
    "duration": 130,
    "start_time": "2021-11-28T08:29:13.255Z"
   },
   {
    "duration": 108,
    "start_time": "2021-11-28T08:29:13.386Z"
   },
   {
    "duration": 130,
    "start_time": "2021-11-28T08:29:13.495Z"
   },
   {
    "duration": 19,
    "start_time": "2021-11-28T08:29:13.627Z"
   },
   {
    "duration": 16,
    "start_time": "2021-11-28T08:29:13.648Z"
   },
   {
    "duration": 14,
    "start_time": "2021-11-28T08:29:13.665Z"
   },
   {
    "duration": 3,
    "start_time": "2021-11-28T08:29:13.680Z"
   },
   {
    "duration": 19,
    "start_time": "2021-11-28T08:29:13.684Z"
   },
   {
    "duration": 42,
    "start_time": "2021-11-28T08:29:13.704Z"
   },
   {
    "duration": 55,
    "start_time": "2021-11-28T08:29:13.747Z"
   },
   {
    "duration": 8,
    "start_time": "2021-11-28T08:29:13.804Z"
   },
   {
    "duration": 613,
    "start_time": "2021-11-28T08:34:41.010Z"
   },
   {
    "duration": 157,
    "start_time": "2021-11-28T08:34:41.627Z"
   },
   {
    "duration": 19,
    "start_time": "2021-11-28T08:34:41.786Z"
   },
   {
    "duration": 141,
    "start_time": "2021-11-28T08:34:41.807Z"
   },
   {
    "duration": 17,
    "start_time": "2021-11-28T08:34:41.949Z"
   },
   {
    "duration": 100,
    "start_time": "2021-11-28T08:34:41.967Z"
   },
   {
    "duration": 14,
    "start_time": "2021-11-28T08:34:42.070Z"
   },
   {
    "duration": 21,
    "start_time": "2021-11-28T08:34:42.086Z"
   },
   {
    "duration": 19,
    "start_time": "2021-11-28T08:34:42.109Z"
   },
   {
    "duration": 37,
    "start_time": "2021-11-28T08:34:42.130Z"
   },
   {
    "duration": 6,
    "start_time": "2021-11-28T08:34:42.169Z"
   },
   {
    "duration": 195,
    "start_time": "2021-11-28T08:34:42.177Z"
   },
   {
    "duration": 72,
    "start_time": "2021-11-28T08:34:42.374Z"
   },
   {
    "duration": 13,
    "start_time": "2021-11-28T08:34:42.447Z"
   },
   {
    "duration": 2,
    "start_time": "2021-11-28T08:34:42.463Z"
   },
   {
    "duration": 96,
    "start_time": "2021-11-28T08:34:42.467Z"
   },
   {
    "duration": 30,
    "start_time": "2021-11-28T08:34:42.565Z"
   },
   {
    "duration": 49,
    "start_time": "2021-11-28T08:34:42.597Z"
   },
   {
    "duration": 14,
    "start_time": "2021-11-28T08:34:42.647Z"
   },
   {
    "duration": 15,
    "start_time": "2021-11-28T08:34:42.663Z"
   },
   {
    "duration": 29,
    "start_time": "2021-11-28T08:34:42.680Z"
   },
   {
    "duration": 77,
    "start_time": "2021-11-28T08:34:42.712Z"
   },
   {
    "duration": 19,
    "start_time": "2021-11-28T08:34:42.791Z"
   },
   {
    "duration": 60,
    "start_time": "2021-11-28T08:34:42.812Z"
   },
   {
    "duration": 24,
    "start_time": "2021-11-28T08:34:42.873Z"
   },
   {
    "duration": 54,
    "start_time": "2021-11-28T08:34:42.898Z"
   },
   {
    "duration": 11,
    "start_time": "2021-11-28T08:34:42.953Z"
   },
   {
    "duration": 89,
    "start_time": "2021-11-28T08:34:42.966Z"
   },
   {
    "duration": 62,
    "start_time": "2021-11-28T08:34:43.057Z"
   },
   {
    "duration": 88,
    "start_time": "2021-11-28T08:34:43.121Z"
   },
   {
    "duration": 123,
    "start_time": "2021-11-28T08:34:43.210Z"
   },
   {
    "duration": 110,
    "start_time": "2021-11-28T08:34:43.334Z"
   },
   {
    "duration": 133,
    "start_time": "2021-11-28T08:34:43.446Z"
   },
   {
    "duration": 14,
    "start_time": "2021-11-28T08:34:43.581Z"
   },
   {
    "duration": 15,
    "start_time": "2021-11-28T08:34:43.596Z"
   },
   {
    "duration": 46,
    "start_time": "2021-11-28T08:34:43.613Z"
   },
   {
    "duration": 3,
    "start_time": "2021-11-28T08:34:43.661Z"
   },
   {
    "duration": 17,
    "start_time": "2021-11-28T08:34:43.666Z"
   },
   {
    "duration": 15,
    "start_time": "2021-11-28T08:34:43.685Z"
   },
   {
    "duration": 100,
    "start_time": "2021-11-28T08:34:43.702Z"
   },
   {
    "duration": 11,
    "start_time": "2021-11-28T08:34:43.804Z"
   },
   {
    "duration": 89,
    "start_time": "2021-11-28T08:36:16.712Z"
   },
   {
    "duration": 14,
    "start_time": "2021-11-28T08:36:20.711Z"
   },
   {
    "duration": 16,
    "start_time": "2021-11-28T08:37:11.713Z"
   },
   {
    "duration": 616,
    "start_time": "2021-11-28T08:37:37.028Z"
   },
   {
    "duration": 165,
    "start_time": "2021-11-28T08:37:37.646Z"
   },
   {
    "duration": 20,
    "start_time": "2021-11-28T08:37:37.813Z"
   },
   {
    "duration": 135,
    "start_time": "2021-11-28T08:37:37.844Z"
   },
   {
    "duration": 16,
    "start_time": "2021-11-28T08:37:37.981Z"
   },
   {
    "duration": 100,
    "start_time": "2021-11-28T08:37:37.999Z"
   },
   {
    "duration": 14,
    "start_time": "2021-11-28T08:37:38.101Z"
   },
   {
    "duration": 26,
    "start_time": "2021-11-28T08:37:38.118Z"
   },
   {
    "duration": 6,
    "start_time": "2021-11-28T08:37:38.147Z"
   },
   {
    "duration": 35,
    "start_time": "2021-11-28T08:37:38.154Z"
   },
   {
    "duration": 10,
    "start_time": "2021-11-28T08:37:38.191Z"
   },
   {
    "duration": 212,
    "start_time": "2021-11-28T08:37:38.203Z"
   },
   {
    "duration": 77,
    "start_time": "2021-11-28T08:37:38.417Z"
   },
   {
    "duration": 14,
    "start_time": "2021-11-28T08:37:38.496Z"
   },
   {
    "duration": 9,
    "start_time": "2021-11-28T08:37:38.512Z"
   },
   {
    "duration": 85,
    "start_time": "2021-11-28T08:37:38.522Z"
   },
   {
    "duration": 42,
    "start_time": "2021-11-28T08:37:38.609Z"
   },
   {
    "duration": 28,
    "start_time": "2021-11-28T08:37:38.653Z"
   },
   {
    "duration": 16,
    "start_time": "2021-11-28T08:37:38.683Z"
   },
   {
    "duration": 50,
    "start_time": "2021-11-28T08:37:38.701Z"
   },
   {
    "duration": 28,
    "start_time": "2021-11-28T08:37:38.753Z"
   },
   {
    "duration": 80,
    "start_time": "2021-11-28T08:37:38.784Z"
   },
   {
    "duration": 21,
    "start_time": "2021-11-28T08:37:38.869Z"
   },
   {
    "duration": 64,
    "start_time": "2021-11-28T08:37:38.893Z"
   },
   {
    "duration": 26,
    "start_time": "2021-11-28T08:37:38.959Z"
   },
   {
    "duration": 58,
    "start_time": "2021-11-28T08:37:38.987Z"
   },
   {
    "duration": 10,
    "start_time": "2021-11-28T08:37:39.047Z"
   },
   {
    "duration": 94,
    "start_time": "2021-11-28T08:37:39.059Z"
   },
   {
    "duration": 67,
    "start_time": "2021-11-28T08:37:39.154Z"
   },
   {
    "duration": 87,
    "start_time": "2021-11-28T08:37:39.222Z"
   },
   {
    "duration": 143,
    "start_time": "2021-11-28T08:37:39.311Z"
   },
   {
    "duration": 110,
    "start_time": "2021-11-28T08:37:39.455Z"
   },
   {
    "duration": 134,
    "start_time": "2021-11-28T08:37:39.566Z"
   },
   {
    "duration": 11,
    "start_time": "2021-11-28T08:37:39.701Z"
   },
   {
    "duration": 30,
    "start_time": "2021-11-28T08:37:39.714Z"
   },
   {
    "duration": 16,
    "start_time": "2021-11-28T08:37:39.746Z"
   },
   {
    "duration": 3,
    "start_time": "2021-11-28T08:37:39.763Z"
   },
   {
    "duration": 17,
    "start_time": "2021-11-28T08:37:39.767Z"
   },
   {
    "duration": 12,
    "start_time": "2021-11-28T08:37:39.786Z"
   },
   {
    "duration": 91,
    "start_time": "2021-11-28T08:37:39.799Z"
   },
   {
    "duration": 15,
    "start_time": "2021-11-28T08:37:39.891Z"
   },
   {
    "duration": 706,
    "start_time": "2021-11-28T08:52:00.354Z"
   },
   {
    "duration": 194,
    "start_time": "2021-11-28T08:52:01.062Z"
   },
   {
    "duration": 21,
    "start_time": "2021-11-28T08:52:01.258Z"
   },
   {
    "duration": 195,
    "start_time": "2021-11-28T08:52:01.282Z"
   },
   {
    "duration": 21,
    "start_time": "2021-11-28T08:52:01.479Z"
   },
   {
    "duration": 123,
    "start_time": "2021-11-28T08:52:01.502Z"
   },
   {
    "duration": 26,
    "start_time": "2021-11-28T08:52:01.627Z"
   },
   {
    "duration": 24,
    "start_time": "2021-11-28T08:52:01.657Z"
   },
   {
    "duration": 10,
    "start_time": "2021-11-28T08:52:01.683Z"
   },
   {
    "duration": 42,
    "start_time": "2021-11-28T08:52:01.695Z"
   },
   {
    "duration": 6,
    "start_time": "2021-11-28T08:52:01.740Z"
   },
   {
    "duration": 243,
    "start_time": "2021-11-28T08:52:01.748Z"
   },
   {
    "duration": 81,
    "start_time": "2021-11-28T08:52:01.992Z"
   },
   {
    "duration": 19,
    "start_time": "2021-11-28T08:52:02.074Z"
   },
   {
    "duration": 15,
    "start_time": "2021-11-28T08:52:02.096Z"
   },
   {
    "duration": 143,
    "start_time": "2021-11-28T08:52:02.113Z"
   },
   {
    "duration": 38,
    "start_time": "2021-11-28T08:52:02.258Z"
   },
   {
    "duration": 56,
    "start_time": "2021-11-28T08:52:02.299Z"
   },
   {
    "duration": 40,
    "start_time": "2021-11-28T08:52:02.357Z"
   },
   {
    "duration": 92,
    "start_time": "2021-11-28T08:52:02.399Z"
   },
   {
    "duration": 94,
    "start_time": "2021-11-28T08:52:02.493Z"
   },
   {
    "duration": 54,
    "start_time": "2021-11-28T08:52:02.589Z"
   },
   {
    "duration": 24,
    "start_time": "2021-11-28T08:52:02.647Z"
   },
   {
    "duration": 36,
    "start_time": "2021-11-28T08:52:02.673Z"
   },
   {
    "duration": 48,
    "start_time": "2021-11-28T08:52:02.711Z"
   },
   {
    "duration": 33,
    "start_time": "2021-11-28T08:52:02.761Z"
   },
   {
    "duration": 10,
    "start_time": "2021-11-28T08:52:02.796Z"
   },
   {
    "duration": 117,
    "start_time": "2021-11-28T08:52:02.808Z"
   },
   {
    "duration": 109,
    "start_time": "2021-11-28T08:52:02.927Z"
   },
   {
    "duration": 111,
    "start_time": "2021-11-28T08:52:03.044Z"
   },
   {
    "duration": 142,
    "start_time": "2021-11-28T08:52:03.157Z"
   },
   {
    "duration": 159,
    "start_time": "2021-11-28T08:52:03.301Z"
   },
   {
    "duration": 141,
    "start_time": "2021-11-28T08:52:03.462Z"
   },
   {
    "duration": 11,
    "start_time": "2021-11-28T08:52:03.605Z"
   },
   {
    "duration": 26,
    "start_time": "2021-11-28T08:52:03.618Z"
   },
   {
    "duration": 18,
    "start_time": "2021-11-28T08:52:03.646Z"
   },
   {
    "duration": 3,
    "start_time": "2021-11-28T08:52:03.666Z"
   },
   {
    "duration": 34,
    "start_time": "2021-11-28T08:52:03.671Z"
   },
   {
    "duration": 37,
    "start_time": "2021-11-28T08:52:03.707Z"
   },
   {
    "duration": 70,
    "start_time": "2021-11-28T08:52:03.746Z"
   },
   {
    "duration": 15,
    "start_time": "2021-11-28T08:52:03.817Z"
   },
   {
    "duration": 12,
    "start_time": "2021-11-28T08:59:13.719Z"
   },
   {
    "duration": 16,
    "start_time": "2021-11-28T08:59:38.471Z"
   },
   {
    "duration": 580,
    "start_time": "2021-11-28T09:00:13.870Z"
   },
   {
    "duration": 169,
    "start_time": "2021-11-28T09:00:14.453Z"
   },
   {
    "duration": 28,
    "start_time": "2021-11-28T09:00:14.624Z"
   },
   {
    "duration": 139,
    "start_time": "2021-11-28T09:00:14.654Z"
   },
   {
    "duration": 17,
    "start_time": "2021-11-28T09:00:14.795Z"
   },
   {
    "duration": 93,
    "start_time": "2021-11-28T09:00:14.814Z"
   },
   {
    "duration": 13,
    "start_time": "2021-11-28T09:00:14.909Z"
   },
   {
    "duration": 26,
    "start_time": "2021-11-28T09:00:14.925Z"
   },
   {
    "duration": 7,
    "start_time": "2021-11-28T09:00:14.953Z"
   },
   {
    "duration": 36,
    "start_time": "2021-11-28T09:00:14.961Z"
   },
   {
    "duration": 7,
    "start_time": "2021-11-28T09:00:14.999Z"
   },
   {
    "duration": 237,
    "start_time": "2021-11-28T09:00:15.007Z"
   },
   {
    "duration": 60,
    "start_time": "2021-11-28T09:00:15.246Z"
   },
   {
    "duration": 13,
    "start_time": "2021-11-28T09:00:15.308Z"
   },
   {
    "duration": 19,
    "start_time": "2021-11-28T09:00:15.323Z"
   },
   {
    "duration": 83,
    "start_time": "2021-11-28T09:00:15.345Z"
   },
   {
    "duration": 29,
    "start_time": "2021-11-28T09:00:15.444Z"
   },
   {
    "duration": 26,
    "start_time": "2021-11-28T09:00:15.475Z"
   },
   {
    "duration": 47,
    "start_time": "2021-11-28T09:00:15.503Z"
   },
   {
    "duration": 18,
    "start_time": "2021-11-28T09:00:15.552Z"
   },
   {
    "duration": 48,
    "start_time": "2021-11-28T09:00:15.572Z"
   },
   {
    "duration": 57,
    "start_time": "2021-11-28T09:00:15.622Z"
   },
   {
    "duration": 20,
    "start_time": "2021-11-28T09:00:15.683Z"
   },
   {
    "duration": 64,
    "start_time": "2021-11-28T09:00:15.705Z"
   },
   {
    "duration": 24,
    "start_time": "2021-11-28T09:00:15.770Z"
   },
   {
    "duration": 62,
    "start_time": "2021-11-28T09:00:15.795Z"
   },
   {
    "duration": 10,
    "start_time": "2021-11-28T09:00:15.859Z"
   },
   {
    "duration": 99,
    "start_time": "2021-11-28T09:00:15.871Z"
   },
   {
    "duration": 78,
    "start_time": "2021-11-28T09:00:15.972Z"
   },
   {
    "duration": 73,
    "start_time": "2021-11-28T09:00:16.051Z"
   },
   {
    "duration": 136,
    "start_time": "2021-11-28T09:00:16.126Z"
   },
   {
    "duration": 122,
    "start_time": "2021-11-28T09:00:16.264Z"
   },
   {
    "duration": 129,
    "start_time": "2021-11-28T09:00:16.388Z"
   },
   {
    "duration": 25,
    "start_time": "2021-11-28T09:00:16.519Z"
   },
   {
    "duration": 12,
    "start_time": "2021-11-28T09:00:16.546Z"
   },
   {
    "duration": 17,
    "start_time": "2021-11-28T09:00:16.560Z"
   },
   {
    "duration": 11,
    "start_time": "2021-11-28T09:00:16.579Z"
   },
   {
    "duration": 50,
    "start_time": "2021-11-28T09:00:16.592Z"
   },
   {
    "duration": 13,
    "start_time": "2021-11-28T09:00:16.644Z"
   },
   {
    "duration": 75,
    "start_time": "2021-11-28T09:00:16.659Z"
   },
   {
    "duration": 17,
    "start_time": "2021-11-28T09:00:16.735Z"
   },
   {
    "duration": 19,
    "start_time": "2021-11-28T09:09:58.831Z"
   },
   {
    "duration": 19,
    "start_time": "2021-11-28T09:10:15.811Z"
   },
   {
    "duration": 14,
    "start_time": "2021-11-28T09:10:22.580Z"
   },
   {
    "duration": 10,
    "start_time": "2021-11-28T09:13:12.638Z"
   },
   {
    "duration": 14,
    "start_time": "2021-11-28T09:13:18.109Z"
   },
   {
    "duration": 9,
    "start_time": "2021-11-28T09:13:23.413Z"
   },
   {
    "duration": 14,
    "start_time": "2021-11-28T09:13:29.965Z"
   },
   {
    "duration": 18,
    "start_time": "2021-11-28T09:15:03.815Z"
   },
   {
    "duration": 32,
    "start_time": "2021-11-28T09:21:49.449Z"
   },
   {
    "duration": 166,
    "start_time": "2021-11-28T09:22:39.403Z"
   },
   {
    "duration": 11,
    "start_time": "2021-11-28T09:26:45.938Z"
   },
   {
    "duration": 13,
    "start_time": "2021-11-28T09:29:23.633Z"
   },
   {
    "duration": 15,
    "start_time": "2021-11-28T09:30:00.030Z"
   },
   {
    "duration": 667,
    "start_time": "2021-11-28T09:33:32.110Z"
   },
   {
    "duration": 180,
    "start_time": "2021-11-28T09:33:32.779Z"
   },
   {
    "duration": 24,
    "start_time": "2021-11-28T09:33:32.961Z"
   },
   {
    "duration": 156,
    "start_time": "2021-11-28T09:33:32.988Z"
   },
   {
    "duration": 20,
    "start_time": "2021-11-28T09:33:33.146Z"
   },
   {
    "duration": 109,
    "start_time": "2021-11-28T09:33:33.168Z"
   },
   {
    "duration": 18,
    "start_time": "2021-11-28T09:33:33.279Z"
   },
   {
    "duration": 35,
    "start_time": "2021-11-28T09:33:33.301Z"
   },
   {
    "duration": 38,
    "start_time": "2021-11-28T09:33:33.345Z"
   },
   {
    "duration": 67,
    "start_time": "2021-11-28T09:33:33.385Z"
   },
   {
    "duration": 17,
    "start_time": "2021-11-28T09:33:33.454Z"
   },
   {
    "duration": 223,
    "start_time": "2021-11-28T09:33:33.473Z"
   },
   {
    "duration": 72,
    "start_time": "2021-11-28T09:33:33.698Z"
   },
   {
    "duration": 15,
    "start_time": "2021-11-28T09:33:33.772Z"
   },
   {
    "duration": 18,
    "start_time": "2021-11-28T09:33:33.789Z"
   },
   {
    "duration": 106,
    "start_time": "2021-11-28T09:33:33.809Z"
   },
   {
    "duration": 42,
    "start_time": "2021-11-28T09:33:33.917Z"
   },
   {
    "duration": 32,
    "start_time": "2021-11-28T09:33:33.962Z"
   },
   {
    "duration": 15,
    "start_time": "2021-11-28T09:33:33.996Z"
   },
   {
    "duration": 26,
    "start_time": "2021-11-28T09:33:34.013Z"
   },
   {
    "duration": 52,
    "start_time": "2021-11-28T09:33:34.040Z"
   },
   {
    "duration": 56,
    "start_time": "2021-11-28T09:33:34.094Z"
   },
   {
    "duration": 25,
    "start_time": "2021-11-28T09:33:34.154Z"
   },
   {
    "duration": 39,
    "start_time": "2021-11-28T09:33:34.181Z"
   },
   {
    "duration": 30,
    "start_time": "2021-11-28T09:33:34.221Z"
   },
   {
    "duration": 35,
    "start_time": "2021-11-28T09:33:34.253Z"
   },
   {
    "duration": 11,
    "start_time": "2021-11-28T09:33:34.290Z"
   },
   {
    "duration": 159,
    "start_time": "2021-11-28T09:33:34.303Z"
   },
   {
    "duration": 130,
    "start_time": "2021-11-28T09:33:34.464Z"
   },
   {
    "duration": 98,
    "start_time": "2021-11-28T09:33:34.596Z"
   },
   {
    "duration": 301,
    "start_time": "2021-11-28T09:33:34.696Z"
   },
   {
    "duration": 168,
    "start_time": "2021-11-28T09:33:34.999Z"
   },
   {
    "duration": 160,
    "start_time": "2021-11-28T09:33:35.169Z"
   },
   {
    "duration": 22,
    "start_time": "2021-11-28T09:33:35.331Z"
   },
   {
    "duration": 15,
    "start_time": "2021-11-28T09:33:35.355Z"
   },
   {
    "duration": 17,
    "start_time": "2021-11-28T09:33:35.372Z"
   },
   {
    "duration": 3,
    "start_time": "2021-11-28T09:33:35.391Z"
   },
   {
    "duration": 50,
    "start_time": "2021-11-28T09:33:35.396Z"
   },
   {
    "duration": 16,
    "start_time": "2021-11-28T09:33:35.448Z"
   },
   {
    "duration": 85,
    "start_time": "2021-11-28T09:33:35.466Z"
   },
   {
    "duration": 19,
    "start_time": "2021-11-28T09:33:35.553Z"
   },
   {
    "duration": 16,
    "start_time": "2021-11-28T09:33:35.574Z"
   },
   {
    "duration": 15,
    "start_time": "2021-11-28T09:33:35.592Z"
   },
   {
    "duration": 23,
    "start_time": "2021-11-28T09:33:35.644Z"
   },
   {
    "duration": 18,
    "start_time": "2021-11-28T09:34:05.446Z"
   },
   {
    "duration": 748,
    "start_time": "2021-11-28T09:34:26.426Z"
   },
   {
    "duration": 182,
    "start_time": "2021-11-28T09:34:27.176Z"
   },
   {
    "duration": 30,
    "start_time": "2021-11-28T09:34:27.361Z"
   },
   {
    "duration": 157,
    "start_time": "2021-11-28T09:34:27.394Z"
   },
   {
    "duration": 23,
    "start_time": "2021-11-28T09:34:27.553Z"
   },
   {
    "duration": 105,
    "start_time": "2021-11-28T09:34:27.578Z"
   },
   {
    "duration": 17,
    "start_time": "2021-11-28T09:34:27.685Z"
   },
   {
    "duration": 22,
    "start_time": "2021-11-28T09:34:27.705Z"
   },
   {
    "duration": 19,
    "start_time": "2021-11-28T09:34:27.730Z"
   },
   {
    "duration": 37,
    "start_time": "2021-11-28T09:34:27.751Z"
   },
   {
    "duration": 8,
    "start_time": "2021-11-28T09:34:27.791Z"
   },
   {
    "duration": 243,
    "start_time": "2021-11-28T09:34:27.801Z"
   },
   {
    "duration": 67,
    "start_time": "2021-11-28T09:34:28.046Z"
   },
   {
    "duration": 33,
    "start_time": "2021-11-28T09:34:28.115Z"
   },
   {
    "duration": 2,
    "start_time": "2021-11-28T09:34:28.150Z"
   },
   {
    "duration": 90,
    "start_time": "2021-11-28T09:34:28.154Z"
   },
   {
    "duration": 33,
    "start_time": "2021-11-28T09:34:28.246Z"
   },
   {
    "duration": 28,
    "start_time": "2021-11-28T09:34:28.281Z"
   },
   {
    "duration": 38,
    "start_time": "2021-11-28T09:34:28.311Z"
   },
   {
    "duration": 17,
    "start_time": "2021-11-28T09:34:28.351Z"
   },
   {
    "duration": 32,
    "start_time": "2021-11-28T09:34:28.370Z"
   },
   {
    "duration": 96,
    "start_time": "2021-11-28T09:34:28.404Z"
   },
   {
    "duration": 20,
    "start_time": "2021-11-28T09:34:28.504Z"
   },
   {
    "duration": 60,
    "start_time": "2021-11-28T09:34:28.526Z"
   },
   {
    "duration": 25,
    "start_time": "2021-11-28T09:34:28.588Z"
   },
   {
    "duration": 62,
    "start_time": "2021-11-28T09:34:28.615Z"
   },
   {
    "duration": 15,
    "start_time": "2021-11-28T09:34:28.679Z"
   },
   {
    "duration": 120,
    "start_time": "2021-11-28T09:34:28.696Z"
   },
   {
    "duration": 92,
    "start_time": "2021-11-28T09:34:28.818Z"
   },
   {
    "duration": 91,
    "start_time": "2021-11-28T09:34:28.911Z"
   },
   {
    "duration": 150,
    "start_time": "2021-11-28T09:34:29.004Z"
   },
   {
    "duration": 124,
    "start_time": "2021-11-28T09:34:29.156Z"
   },
   {
    "duration": 144,
    "start_time": "2021-11-28T09:34:29.282Z"
   },
   {
    "duration": 24,
    "start_time": "2021-11-28T09:34:29.428Z"
   },
   {
    "duration": 18,
    "start_time": "2021-11-28T09:34:29.454Z"
   },
   {
    "duration": 19,
    "start_time": "2021-11-28T09:34:29.474Z"
   },
   {
    "duration": 3,
    "start_time": "2021-11-28T09:34:29.495Z"
   },
   {
    "duration": 54,
    "start_time": "2021-11-28T09:34:29.501Z"
   },
   {
    "duration": 16,
    "start_time": "2021-11-28T09:34:29.557Z"
   },
   {
    "duration": 94,
    "start_time": "2021-11-28T09:34:29.576Z"
   },
   {
    "duration": 17,
    "start_time": "2021-11-28T09:34:29.672Z"
   },
   {
    "duration": 19,
    "start_time": "2021-11-28T09:34:29.691Z"
   },
   {
    "duration": 38,
    "start_time": "2021-11-28T09:34:29.712Z"
   },
   {
    "duration": 17,
    "start_time": "2021-11-28T09:34:29.752Z"
   },
   {
    "duration": 18,
    "start_time": "2021-11-28T09:34:29.772Z"
   },
   {
    "duration": 24,
    "start_time": "2021-11-28T09:44:20.174Z"
   },
   {
    "duration": 11,
    "start_time": "2021-11-28T09:44:37.325Z"
   },
   {
    "duration": 21,
    "start_time": "2021-11-28T09:44:45.100Z"
   },
   {
    "duration": 13,
    "start_time": "2021-11-28T09:45:31.915Z"
   },
   {
    "duration": 648,
    "start_time": "2021-11-28T09:46:26.904Z"
   },
   {
    "duration": 160,
    "start_time": "2021-11-28T09:46:27.554Z"
   },
   {
    "duration": 29,
    "start_time": "2021-11-28T09:46:27.717Z"
   },
   {
    "duration": 126,
    "start_time": "2021-11-28T09:46:27.748Z"
   },
   {
    "duration": 15,
    "start_time": "2021-11-28T09:46:27.875Z"
   },
   {
    "duration": 88,
    "start_time": "2021-11-28T09:46:27.892Z"
   },
   {
    "duration": 14,
    "start_time": "2021-11-28T09:46:27.981Z"
   },
   {
    "duration": 33,
    "start_time": "2021-11-28T09:46:27.997Z"
   },
   {
    "duration": 51,
    "start_time": "2021-11-28T09:46:28.032Z"
   },
   {
    "duration": 59,
    "start_time": "2021-11-28T09:46:28.084Z"
   },
   {
    "duration": 17,
    "start_time": "2021-11-28T09:46:28.145Z"
   },
   {
    "duration": 212,
    "start_time": "2021-11-28T09:46:28.164Z"
   },
   {
    "duration": 70,
    "start_time": "2021-11-28T09:46:28.377Z"
   },
   {
    "duration": 12,
    "start_time": "2021-11-28T09:46:28.449Z"
   },
   {
    "duration": 26,
    "start_time": "2021-11-28T09:46:28.463Z"
   },
   {
    "duration": 80,
    "start_time": "2021-11-28T09:46:28.491Z"
   },
   {
    "duration": 28,
    "start_time": "2021-11-28T09:46:28.573Z"
   },
   {
    "duration": 47,
    "start_time": "2021-11-28T09:46:28.603Z"
   },
   {
    "duration": 14,
    "start_time": "2021-11-28T09:46:28.652Z"
   },
   {
    "duration": 15,
    "start_time": "2021-11-28T09:46:28.668Z"
   },
   {
    "duration": 28,
    "start_time": "2021-11-28T09:46:28.685Z"
   },
   {
    "duration": 48,
    "start_time": "2021-11-28T09:46:28.743Z"
   },
   {
    "duration": 20,
    "start_time": "2021-11-28T09:46:28.795Z"
   },
   {
    "duration": 57,
    "start_time": "2021-11-28T09:46:28.817Z"
   },
   {
    "duration": 37,
    "start_time": "2021-11-28T09:46:28.876Z"
   },
   {
    "duration": 39,
    "start_time": "2021-11-28T09:46:28.914Z"
   },
   {
    "duration": 10,
    "start_time": "2021-11-28T09:46:28.955Z"
   },
   {
    "duration": 99,
    "start_time": "2021-11-28T09:46:28.967Z"
   },
   {
    "duration": 81,
    "start_time": "2021-11-28T09:46:29.068Z"
   },
   {
    "duration": 74,
    "start_time": "2021-11-28T09:46:29.151Z"
   },
   {
    "duration": 146,
    "start_time": "2021-11-28T09:46:29.227Z"
   },
   {
    "duration": 124,
    "start_time": "2021-11-28T09:46:29.376Z"
   },
   {
    "duration": 145,
    "start_time": "2021-11-28T09:46:29.502Z"
   },
   {
    "duration": 11,
    "start_time": "2021-11-28T09:46:29.649Z"
   },
   {
    "duration": 16,
    "start_time": "2021-11-28T09:46:29.661Z"
   },
   {
    "duration": 30,
    "start_time": "2021-11-28T09:46:29.679Z"
   },
   {
    "duration": 21,
    "start_time": "2021-11-28T09:46:29.711Z"
   },
   {
    "duration": 61,
    "start_time": "2021-11-28T09:46:29.734Z"
   },
   {
    "duration": 31,
    "start_time": "2021-11-28T09:46:29.798Z"
   },
   {
    "duration": 68,
    "start_time": "2021-11-28T09:46:29.831Z"
   },
   {
    "duration": 16,
    "start_time": "2021-11-28T09:46:29.901Z"
   },
   {
    "duration": 33,
    "start_time": "2021-11-28T09:46:29.919Z"
   },
   {
    "duration": 31,
    "start_time": "2021-11-28T09:46:29.954Z"
   },
   {
    "duration": 86,
    "start_time": "2021-11-28T09:46:29.988Z"
   },
   {
    "duration": 87,
    "start_time": "2021-11-28T09:46:30.076Z"
   },
   {
    "duration": 14,
    "start_time": "2021-11-28T09:47:04.627Z"
   },
   {
    "duration": 15,
    "start_time": "2021-11-28T09:47:42.868Z"
   },
   {
    "duration": 14,
    "start_time": "2021-11-28T09:48:03.440Z"
   },
   {
    "duration": 13,
    "start_time": "2021-11-28T09:48:04.960Z"
   },
   {
    "duration": 19,
    "start_time": "2021-11-28T09:49:17.045Z"
   },
   {
    "duration": 17,
    "start_time": "2021-11-28T09:49:25.925Z"
   },
   {
    "duration": 13,
    "start_time": "2021-11-28T09:49:27.557Z"
   },
   {
    "duration": 15,
    "start_time": "2021-11-28T09:49:28.294Z"
   },
   {
    "duration": 15,
    "start_time": "2021-11-28T09:49:29.013Z"
   },
   {
    "duration": 640,
    "start_time": "2021-11-28T09:52:16.717Z"
   },
   {
    "duration": 197,
    "start_time": "2021-11-28T09:52:17.359Z"
   },
   {
    "duration": 21,
    "start_time": "2021-11-28T09:52:17.557Z"
   },
   {
    "duration": 155,
    "start_time": "2021-11-28T09:52:17.580Z"
   },
   {
    "duration": 20,
    "start_time": "2021-11-28T09:52:17.737Z"
   },
   {
    "duration": 109,
    "start_time": "2021-11-28T09:52:17.759Z"
   },
   {
    "duration": 13,
    "start_time": "2021-11-28T09:52:17.870Z"
   },
   {
    "duration": 39,
    "start_time": "2021-11-28T09:52:17.886Z"
   },
   {
    "duration": 42,
    "start_time": "2021-11-28T09:52:17.927Z"
   },
   {
    "duration": 61,
    "start_time": "2021-11-28T09:52:17.970Z"
   },
   {
    "duration": 29,
    "start_time": "2021-11-28T09:52:18.033Z"
   },
   {
    "duration": 206,
    "start_time": "2021-11-28T09:52:18.064Z"
   },
   {
    "duration": 57,
    "start_time": "2021-11-28T09:52:18.272Z"
   },
   {
    "duration": 25,
    "start_time": "2021-11-28T09:52:18.330Z"
   },
   {
    "duration": 32,
    "start_time": "2021-11-28T09:52:18.357Z"
   },
   {
    "duration": 109,
    "start_time": "2021-11-28T09:52:18.391Z"
   },
   {
    "duration": 26,
    "start_time": "2021-11-28T09:52:18.502Z"
   },
   {
    "duration": 34,
    "start_time": "2021-11-28T09:52:18.530Z"
   },
   {
    "duration": 12,
    "start_time": "2021-11-28T09:52:18.565Z"
   },
   {
    "duration": 26,
    "start_time": "2021-11-28T09:52:18.579Z"
   },
   {
    "duration": 52,
    "start_time": "2021-11-28T09:52:18.606Z"
   },
   {
    "duration": 57,
    "start_time": "2021-11-28T09:52:18.659Z"
   },
   {
    "duration": 18,
    "start_time": "2021-11-28T09:52:18.720Z"
   },
   {
    "duration": 42,
    "start_time": "2021-11-28T09:52:18.740Z"
   },
   {
    "duration": 22,
    "start_time": "2021-11-28T09:52:18.784Z"
   },
   {
    "duration": 49,
    "start_time": "2021-11-28T09:52:18.807Z"
   },
   {
    "duration": 10,
    "start_time": "2021-11-28T09:52:18.858Z"
   },
   {
    "duration": 105,
    "start_time": "2021-11-28T09:52:18.869Z"
   },
   {
    "duration": 71,
    "start_time": "2021-11-28T09:52:18.976Z"
   },
   {
    "duration": 74,
    "start_time": "2021-11-28T09:52:19.048Z"
   },
   {
    "duration": 143,
    "start_time": "2021-11-28T09:52:19.123Z"
   },
   {
    "duration": 118,
    "start_time": "2021-11-28T09:52:19.268Z"
   },
   {
    "duration": 137,
    "start_time": "2021-11-28T09:52:19.388Z"
   },
   {
    "duration": 17,
    "start_time": "2021-11-28T09:52:19.527Z"
   },
   {
    "duration": 37,
    "start_time": "2021-11-28T09:52:19.546Z"
   },
   {
    "duration": 44,
    "start_time": "2021-11-28T09:52:19.585Z"
   },
   {
    "duration": 5,
    "start_time": "2021-11-28T09:52:19.630Z"
   },
   {
    "duration": 70,
    "start_time": "2021-11-28T09:52:19.636Z"
   },
   {
    "duration": 48,
    "start_time": "2021-11-28T09:52:19.707Z"
   },
   {
    "duration": 73,
    "start_time": "2021-11-28T09:52:19.756Z"
   },
   {
    "duration": 16,
    "start_time": "2021-11-28T09:52:19.831Z"
   },
   {
    "duration": 33,
    "start_time": "2021-11-28T09:52:19.848Z"
   },
   {
    "duration": 60,
    "start_time": "2021-11-28T09:52:19.883Z"
   },
   {
    "duration": 53,
    "start_time": "2021-11-28T09:52:19.944Z"
   },
   {
    "duration": 25,
    "start_time": "2021-11-28T09:52:19.999Z"
   },
   {
    "duration": 323,
    "start_time": "2021-11-28T09:55:44.319Z"
   },
   {
    "duration": 21,
    "start_time": "2021-11-28T09:56:05.043Z"
   },
   {
    "duration": 21,
    "start_time": "2021-11-28T10:00:50.513Z"
   },
   {
    "duration": 539,
    "start_time": "2021-11-28T10:01:13.490Z"
   },
   {
    "duration": 163,
    "start_time": "2021-11-28T10:01:14.030Z"
   },
   {
    "duration": 20,
    "start_time": "2021-11-28T10:01:14.195Z"
   },
   {
    "duration": 133,
    "start_time": "2021-11-28T10:01:14.217Z"
   },
   {
    "duration": 17,
    "start_time": "2021-11-28T10:01:14.352Z"
   },
   {
    "duration": 97,
    "start_time": "2021-11-28T10:01:14.370Z"
   },
   {
    "duration": 14,
    "start_time": "2021-11-28T10:01:14.469Z"
   },
   {
    "duration": 21,
    "start_time": "2021-11-28T10:01:14.486Z"
   },
   {
    "duration": 7,
    "start_time": "2021-11-28T10:01:14.509Z"
   },
   {
    "duration": 47,
    "start_time": "2021-11-28T10:01:14.518Z"
   },
   {
    "duration": 6,
    "start_time": "2021-11-28T10:01:14.566Z"
   },
   {
    "duration": 185,
    "start_time": "2021-11-28T10:01:14.573Z"
   },
   {
    "duration": 57,
    "start_time": "2021-11-28T10:01:14.760Z"
   },
   {
    "duration": 29,
    "start_time": "2021-11-28T10:01:14.818Z"
   },
   {
    "duration": 2,
    "start_time": "2021-11-28T10:01:14.848Z"
   },
   {
    "duration": 66,
    "start_time": "2021-11-28T10:01:14.852Z"
   },
   {
    "duration": 43,
    "start_time": "2021-11-28T10:01:14.920Z"
   },
   {
    "duration": 24,
    "start_time": "2021-11-28T10:01:14.965Z"
   },
   {
    "duration": 11,
    "start_time": "2021-11-28T10:01:14.991Z"
   },
   {
    "duration": 47,
    "start_time": "2021-11-28T10:01:15.004Z"
   },
   {
    "duration": 28,
    "start_time": "2021-11-28T10:01:15.053Z"
   },
   {
    "duration": 70,
    "start_time": "2021-11-28T10:01:15.083Z"
   },
   {
    "duration": 20,
    "start_time": "2021-11-28T10:01:15.158Z"
   },
   {
    "duration": 34,
    "start_time": "2021-11-28T10:01:15.181Z"
   },
   {
    "duration": 25,
    "start_time": "2021-11-28T10:01:15.245Z"
   },
   {
    "duration": 35,
    "start_time": "2021-11-28T10:01:15.272Z"
   },
   {
    "duration": 36,
    "start_time": "2021-11-28T10:01:15.309Z"
   },
   {
    "duration": 79,
    "start_time": "2021-11-28T10:01:15.348Z"
   },
   {
    "duration": 83,
    "start_time": "2021-11-28T10:01:15.429Z"
   },
   {
    "duration": 99,
    "start_time": "2021-11-28T10:01:15.514Z"
   },
   {
    "duration": 140,
    "start_time": "2021-11-28T10:01:15.616Z"
   },
   {
    "duration": 115,
    "start_time": "2021-11-28T10:01:15.758Z"
   },
   {
    "duration": 126,
    "start_time": "2021-11-28T10:01:15.874Z"
   },
   {
    "duration": 11,
    "start_time": "2021-11-28T10:01:16.002Z"
   },
   {
    "duration": 29,
    "start_time": "2021-11-28T10:01:16.015Z"
   },
   {
    "duration": 15,
    "start_time": "2021-11-28T10:01:16.046Z"
   },
   {
    "duration": 20,
    "start_time": "2021-11-28T10:01:16.063Z"
   },
   {
    "duration": 34,
    "start_time": "2021-11-28T10:01:16.084Z"
   },
   {
    "duration": 12,
    "start_time": "2021-11-28T10:01:16.120Z"
   },
   {
    "duration": 64,
    "start_time": "2021-11-28T10:01:16.133Z"
   },
   {
    "duration": 14,
    "start_time": "2021-11-28T10:01:16.199Z"
   },
   {
    "duration": 30,
    "start_time": "2021-11-28T10:01:16.215Z"
   },
   {
    "duration": 14,
    "start_time": "2021-11-28T10:01:16.247Z"
   },
   {
    "duration": 31,
    "start_time": "2021-11-28T10:01:16.263Z"
   },
   {
    "duration": 23,
    "start_time": "2021-11-28T10:01:16.296Z"
   },
   {
    "duration": 15,
    "start_time": "2021-11-28T10:01:16.345Z"
   },
   {
    "duration": 29,
    "start_time": "2021-11-28T10:01:16.362Z"
   },
   {
    "duration": 600,
    "start_time": "2021-11-28T10:02:01.978Z"
   },
   {
    "duration": 187,
    "start_time": "2021-11-28T10:02:02.579Z"
   },
   {
    "duration": 23,
    "start_time": "2021-11-28T10:02:02.768Z"
   },
   {
    "duration": 190,
    "start_time": "2021-11-28T10:02:02.794Z"
   },
   {
    "duration": 26,
    "start_time": "2021-11-28T10:02:02.987Z"
   },
   {
    "duration": 144,
    "start_time": "2021-11-28T10:02:03.015Z"
   },
   {
    "duration": 14,
    "start_time": "2021-11-28T10:02:03.161Z"
   },
   {
    "duration": 101,
    "start_time": "2021-11-28T10:02:03.178Z"
   },
   {
    "duration": 39,
    "start_time": "2021-11-28T10:02:03.282Z"
   },
   {
    "duration": 78,
    "start_time": "2021-11-28T10:02:03.323Z"
   },
   {
    "duration": 20,
    "start_time": "2021-11-28T10:02:03.402Z"
   },
   {
    "duration": 212,
    "start_time": "2021-11-28T10:02:03.424Z"
   },
   {
    "duration": 59,
    "start_time": "2021-11-28T10:02:03.637Z"
   },
   {
    "duration": 13,
    "start_time": "2021-11-28T10:02:03.697Z"
   },
   {
    "duration": 28,
    "start_time": "2021-11-28T10:02:03.711Z"
   },
   {
    "duration": 96,
    "start_time": "2021-11-28T10:02:03.740Z"
   },
   {
    "duration": 28,
    "start_time": "2021-11-28T10:02:03.837Z"
   },
   {
    "duration": 26,
    "start_time": "2021-11-28T10:02:03.867Z"
   },
   {
    "duration": 51,
    "start_time": "2021-11-28T10:02:03.895Z"
   },
   {
    "duration": 47,
    "start_time": "2021-11-28T10:02:03.948Z"
   },
   {
    "duration": 62,
    "start_time": "2021-11-28T10:02:03.997Z"
   },
   {
    "duration": 57,
    "start_time": "2021-11-28T10:02:04.060Z"
   },
   {
    "duration": 23,
    "start_time": "2021-11-28T10:02:04.120Z"
   },
   {
    "duration": 60,
    "start_time": "2021-11-28T10:02:04.145Z"
   },
   {
    "duration": 40,
    "start_time": "2021-11-28T10:02:04.206Z"
   },
   {
    "duration": 58,
    "start_time": "2021-11-28T10:02:04.247Z"
   },
   {
    "duration": 10,
    "start_time": "2021-11-28T10:02:04.307Z"
   },
   {
    "duration": 102,
    "start_time": "2021-11-28T10:02:04.319Z"
   },
   {
    "duration": 68,
    "start_time": "2021-11-28T10:02:04.423Z"
   },
   {
    "duration": 88,
    "start_time": "2021-11-28T10:02:04.493Z"
   },
   {
    "duration": 126,
    "start_time": "2021-11-28T10:02:04.583Z"
   },
   {
    "duration": 107,
    "start_time": "2021-11-28T10:02:04.711Z"
   },
   {
    "duration": 140,
    "start_time": "2021-11-28T10:02:04.819Z"
   },
   {
    "duration": 14,
    "start_time": "2021-11-28T10:02:04.961Z"
   },
   {
    "duration": 28,
    "start_time": "2021-11-28T10:02:04.976Z"
   },
   {
    "duration": 43,
    "start_time": "2021-11-28T10:02:05.006Z"
   },
   {
    "duration": 14,
    "start_time": "2021-11-28T10:02:05.051Z"
   },
   {
    "duration": 52,
    "start_time": "2021-11-28T10:02:05.067Z"
   },
   {
    "duration": 36,
    "start_time": "2021-11-28T10:02:05.121Z"
   },
   {
    "duration": 71,
    "start_time": "2021-11-28T10:02:05.159Z"
   },
   {
    "duration": 14,
    "start_time": "2021-11-28T10:02:05.232Z"
   },
   {
    "duration": 36,
    "start_time": "2021-11-28T10:02:05.247Z"
   },
   {
    "duration": 47,
    "start_time": "2021-11-28T10:02:05.285Z"
   },
   {
    "duration": 41,
    "start_time": "2021-11-28T10:02:05.334Z"
   },
   {
    "duration": 34,
    "start_time": "2021-11-28T10:02:05.377Z"
   },
   {
    "duration": 32,
    "start_time": "2021-11-28T10:02:05.413Z"
   },
   {
    "duration": 60,
    "start_time": "2021-11-28T10:02:05.446Z"
   },
   {
    "duration": 601,
    "start_time": "2021-11-28T10:23:00.630Z"
   },
   {
    "duration": 160,
    "start_time": "2021-11-28T10:23:01.233Z"
   },
   {
    "duration": 22,
    "start_time": "2021-11-28T10:23:01.396Z"
   },
   {
    "duration": 150,
    "start_time": "2021-11-28T10:23:01.421Z"
   },
   {
    "duration": 16,
    "start_time": "2021-11-28T10:23:01.573Z"
   },
   {
    "duration": 93,
    "start_time": "2021-11-28T10:23:01.591Z"
   },
   {
    "duration": 14,
    "start_time": "2021-11-28T10:23:01.686Z"
   },
   {
    "duration": 38,
    "start_time": "2021-11-28T10:23:01.702Z"
   },
   {
    "duration": 10,
    "start_time": "2021-11-28T10:23:01.742Z"
   },
   {
    "duration": 44,
    "start_time": "2021-11-28T10:23:01.754Z"
   },
   {
    "duration": 20,
    "start_time": "2021-11-28T10:23:01.799Z"
   },
   {
    "duration": 214,
    "start_time": "2021-11-28T10:23:01.821Z"
   },
   {
    "duration": 63,
    "start_time": "2021-11-28T10:23:02.045Z"
   },
   {
    "duration": 12,
    "start_time": "2021-11-28T10:23:02.110Z"
   },
   {
    "duration": 5,
    "start_time": "2021-11-28T10:23:02.144Z"
   },
   {
    "duration": 110,
    "start_time": "2021-11-28T10:23:02.151Z"
   },
   {
    "duration": 32,
    "start_time": "2021-11-28T10:23:02.263Z"
   },
   {
    "duration": 53,
    "start_time": "2021-11-28T10:23:02.297Z"
   },
   {
    "duration": 14,
    "start_time": "2021-11-28T10:23:02.353Z"
   },
   {
    "duration": 29,
    "start_time": "2021-11-28T10:23:02.369Z"
   },
   {
    "duration": 45,
    "start_time": "2021-11-28T10:23:02.400Z"
   },
   {
    "duration": 50,
    "start_time": "2021-11-28T10:23:02.448Z"
   },
   {
    "duration": 46,
    "start_time": "2021-11-28T10:23:02.503Z"
   },
   {
    "duration": 35,
    "start_time": "2021-11-28T10:23:02.551Z"
   },
   {
    "duration": 25,
    "start_time": "2021-11-28T10:23:02.588Z"
   },
   {
    "duration": 57,
    "start_time": "2021-11-28T10:23:02.615Z"
   },
   {
    "duration": 12,
    "start_time": "2021-11-28T10:23:02.675Z"
   },
   {
    "duration": 110,
    "start_time": "2021-11-28T10:23:02.689Z"
   },
   {
    "duration": 80,
    "start_time": "2021-11-28T10:23:02.801Z"
   },
   {
    "duration": 85,
    "start_time": "2021-11-28T10:23:02.883Z"
   },
   {
    "duration": 127,
    "start_time": "2021-11-28T10:23:02.970Z"
   },
   {
    "duration": 104,
    "start_time": "2021-11-28T10:23:03.098Z"
   },
   {
    "duration": 123,
    "start_time": "2021-11-28T10:23:03.204Z"
   },
   {
    "duration": 18,
    "start_time": "2021-11-28T10:23:03.329Z"
   },
   {
    "duration": 11,
    "start_time": "2021-11-28T10:23:03.349Z"
   },
   {
    "duration": 15,
    "start_time": "2021-11-28T10:23:03.361Z"
   },
   {
    "duration": 4,
    "start_time": "2021-11-28T10:23:03.378Z"
   },
   {
    "duration": 20,
    "start_time": "2021-11-28T10:23:03.383Z"
   },
   {
    "duration": 44,
    "start_time": "2021-11-28T10:23:03.405Z"
   },
   {
    "duration": 56,
    "start_time": "2021-11-28T10:23:03.451Z"
   },
   {
    "duration": 40,
    "start_time": "2021-11-28T10:23:03.508Z"
   },
   {
    "duration": 12,
    "start_time": "2021-11-28T10:23:03.550Z"
   },
   {
    "duration": 20,
    "start_time": "2021-11-28T10:23:03.564Z"
   },
   {
    "duration": 19,
    "start_time": "2021-11-28T10:23:03.585Z"
   },
   {
    "duration": 46,
    "start_time": "2021-11-28T10:23:03.605Z"
   },
   {
    "duration": 14,
    "start_time": "2021-11-28T10:23:03.653Z"
   },
   {
    "duration": 20,
    "start_time": "2021-11-28T10:23:03.669Z"
   },
   {
    "duration": 3,
    "start_time": "2021-11-28T10:30:48.048Z"
   },
   {
    "duration": 343,
    "start_time": "2021-11-28T10:32:58.310Z"
   },
   {
    "duration": 263,
    "start_time": "2021-11-28T10:33:14.040Z"
   },
   {
    "duration": 282,
    "start_time": "2021-11-28T10:34:34.380Z"
   },
   {
    "duration": 5,
    "start_time": "2021-11-28T10:34:53.188Z"
   },
   {
    "duration": 4,
    "start_time": "2021-11-28T10:36:44.627Z"
   },
   {
    "duration": 6,
    "start_time": "2021-11-28T10:37:09.753Z"
   },
   {
    "duration": 7,
    "start_time": "2021-11-28T10:38:22.169Z"
   },
   {
    "duration": 6,
    "start_time": "2021-11-28T10:38:57.496Z"
   },
   {
    "duration": 7,
    "start_time": "2021-11-28T10:39:26.338Z"
   },
   {
    "duration": 8,
    "start_time": "2021-11-28T10:39:52.181Z"
   },
   {
    "duration": 8,
    "start_time": "2021-11-28T10:40:05.026Z"
   },
   {
    "duration": 9,
    "start_time": "2021-11-28T10:41:37.093Z"
   },
   {
    "duration": 9,
    "start_time": "2021-11-28T10:48:03.304Z"
   },
   {
    "duration": 9,
    "start_time": "2021-11-28T10:49:27.397Z"
   },
   {
    "duration": 10,
    "start_time": "2021-11-28T10:50:28.294Z"
   },
   {
    "duration": 9,
    "start_time": "2021-11-28T10:50:46.148Z"
   },
   {
    "duration": 11,
    "start_time": "2021-11-28T10:51:02.514Z"
   },
   {
    "duration": 566,
    "start_time": "2021-11-28T10:58:55.197Z"
   },
   {
    "duration": 1129,
    "start_time": "2021-11-28T10:59:11.249Z"
   },
   {
    "duration": 166,
    "start_time": "2021-11-28T10:59:12.379Z"
   },
   {
    "duration": 23,
    "start_time": "2021-11-28T10:59:12.547Z"
   },
   {
    "duration": 149,
    "start_time": "2021-11-28T10:59:12.572Z"
   },
   {
    "duration": 25,
    "start_time": "2021-11-28T10:59:12.723Z"
   },
   {
    "duration": 95,
    "start_time": "2021-11-28T10:59:12.749Z"
   },
   {
    "duration": 15,
    "start_time": "2021-11-28T10:59:12.846Z"
   },
   {
    "duration": 32,
    "start_time": "2021-11-28T10:59:12.863Z"
   },
   {
    "duration": 19,
    "start_time": "2021-11-28T10:59:12.897Z"
   },
   {
    "duration": 62,
    "start_time": "2021-11-28T10:59:12.917Z"
   },
   {
    "duration": 6,
    "start_time": "2021-11-28T10:59:12.980Z"
   },
   {
    "duration": 224,
    "start_time": "2021-11-28T10:59:12.987Z"
   },
   {
    "duration": 78,
    "start_time": "2021-11-28T10:59:13.213Z"
   },
   {
    "duration": 11,
    "start_time": "2021-11-28T10:59:13.293Z"
   },
   {
    "duration": 26,
    "start_time": "2021-11-28T10:59:13.306Z"
   },
   {
    "duration": 103,
    "start_time": "2021-11-28T10:59:13.333Z"
   },
   {
    "duration": 29,
    "start_time": "2021-11-28T10:59:13.438Z"
   },
   {
    "duration": 25,
    "start_time": "2021-11-28T10:59:13.469Z"
   },
   {
    "duration": 18,
    "start_time": "2021-11-28T10:59:13.495Z"
   },
   {
    "duration": 34,
    "start_time": "2021-11-28T10:59:13.514Z"
   },
   {
    "duration": 37,
    "start_time": "2021-11-28T10:59:13.550Z"
   },
   {
    "duration": 57,
    "start_time": "2021-11-28T10:59:13.588Z"
   },
   {
    "duration": 20,
    "start_time": "2021-11-28T10:59:13.649Z"
   },
   {
    "duration": 39,
    "start_time": "2021-11-28T10:59:13.671Z"
   },
   {
    "duration": 43,
    "start_time": "2021-11-28T10:59:13.711Z"
   },
   {
    "duration": 32,
    "start_time": "2021-11-28T10:59:13.756Z"
   },
   {
    "duration": 11,
    "start_time": "2021-11-28T10:59:13.789Z"
   },
   {
    "duration": 99,
    "start_time": "2021-11-28T10:59:13.802Z"
   },
   {
    "duration": 74,
    "start_time": "2021-11-28T10:59:13.903Z"
   },
   {
    "duration": 89,
    "start_time": "2021-11-28T10:59:13.978Z"
   },
   {
    "duration": 130,
    "start_time": "2021-11-28T10:59:14.069Z"
   },
   {
    "duration": 115,
    "start_time": "2021-11-28T10:59:14.201Z"
   },
   {
    "duration": 140,
    "start_time": "2021-11-28T10:59:14.318Z"
   },
   {
    "duration": 12,
    "start_time": "2021-11-28T10:59:14.460Z"
   },
   {
    "duration": 11,
    "start_time": "2021-11-28T10:59:14.474Z"
   },
   {
    "duration": 16,
    "start_time": "2021-11-28T10:59:14.487Z"
   },
   {
    "duration": 2,
    "start_time": "2021-11-28T10:59:14.505Z"
   },
   {
    "duration": 52,
    "start_time": "2021-11-28T10:59:14.509Z"
   },
   {
    "duration": 12,
    "start_time": "2021-11-28T10:59:14.563Z"
   },
   {
    "duration": 77,
    "start_time": "2021-11-28T10:59:14.576Z"
   },
   {
    "duration": 15,
    "start_time": "2021-11-28T10:59:14.655Z"
   },
   {
    "duration": 20,
    "start_time": "2021-11-28T10:59:14.672Z"
   },
   {
    "duration": 14,
    "start_time": "2021-11-28T10:59:14.694Z"
   },
   {
    "duration": 47,
    "start_time": "2021-11-28T10:59:14.710Z"
   },
   {
    "duration": 23,
    "start_time": "2021-11-28T10:59:14.759Z"
   },
   {
    "duration": 18,
    "start_time": "2021-11-28T10:59:14.784Z"
   },
   {
    "duration": 62,
    "start_time": "2021-11-28T10:59:14.804Z"
   },
   {
    "duration": 13,
    "start_time": "2021-11-28T10:59:14.868Z"
   },
   {
    "duration": 11,
    "start_time": "2021-11-28T10:59:14.883Z"
   },
   {
    "duration": 256,
    "start_time": "2021-11-28T11:08:02.802Z"
   },
   {
    "duration": 190,
    "start_time": "2021-11-28T11:08:28.871Z"
   },
   {
    "duration": 261,
    "start_time": "2021-11-28T11:09:04.343Z"
   },
   {
    "duration": 89,
    "start_time": "2021-11-28T11:10:26.220Z"
   },
   {
    "duration": 299,
    "start_time": "2021-11-28T11:10:34.541Z"
   },
   {
    "duration": 347,
    "start_time": "2021-11-28T11:11:08.852Z"
   },
   {
    "duration": 235,
    "start_time": "2021-11-28T11:11:17.956Z"
   },
   {
    "duration": 1138,
    "start_time": "2021-11-28T11:12:01.929Z"
   },
   {
    "duration": 178,
    "start_time": "2021-11-28T11:12:03.069Z"
   },
   {
    "duration": 19,
    "start_time": "2021-11-28T11:12:03.249Z"
   },
   {
    "duration": 140,
    "start_time": "2021-11-28T11:12:03.270Z"
   },
   {
    "duration": 16,
    "start_time": "2021-11-28T11:12:03.412Z"
   },
   {
    "duration": 116,
    "start_time": "2021-11-28T11:12:03.430Z"
   },
   {
    "duration": 13,
    "start_time": "2021-11-28T11:12:03.548Z"
   },
   {
    "duration": 30,
    "start_time": "2021-11-28T11:12:03.564Z"
   },
   {
    "duration": 27,
    "start_time": "2021-11-28T11:12:03.597Z"
   },
   {
    "duration": 45,
    "start_time": "2021-11-28T11:12:03.627Z"
   },
   {
    "duration": 17,
    "start_time": "2021-11-28T11:12:03.674Z"
   },
   {
    "duration": 212,
    "start_time": "2021-11-28T11:12:03.693Z"
   },
   {
    "duration": 79,
    "start_time": "2021-11-28T11:12:03.907Z"
   },
   {
    "duration": 16,
    "start_time": "2021-11-28T11:12:03.988Z"
   },
   {
    "duration": 19,
    "start_time": "2021-11-28T11:12:04.006Z"
   },
   {
    "duration": 86,
    "start_time": "2021-11-28T11:12:04.027Z"
   },
   {
    "duration": 33,
    "start_time": "2021-11-28T11:12:04.115Z"
   },
   {
    "duration": 28,
    "start_time": "2021-11-28T11:12:04.149Z"
   },
   {
    "duration": 25,
    "start_time": "2021-11-28T11:12:04.178Z"
   },
   {
    "duration": 23,
    "start_time": "2021-11-28T11:12:04.205Z"
   },
   {
    "duration": 55,
    "start_time": "2021-11-28T11:12:04.230Z"
   },
   {
    "duration": 58,
    "start_time": "2021-11-28T11:12:04.287Z"
   },
   {
    "duration": 20,
    "start_time": "2021-11-28T11:12:04.349Z"
   },
   {
    "duration": 49,
    "start_time": "2021-11-28T11:12:04.371Z"
   },
   {
    "duration": 38,
    "start_time": "2021-11-28T11:12:04.421Z"
   },
   {
    "duration": 31,
    "start_time": "2021-11-28T11:12:04.461Z"
   },
   {
    "duration": 11,
    "start_time": "2021-11-28T11:12:04.493Z"
   },
   {
    "duration": 108,
    "start_time": "2021-11-28T11:12:04.506Z"
   },
   {
    "duration": 77,
    "start_time": "2021-11-28T11:12:04.616Z"
   },
   {
    "duration": 87,
    "start_time": "2021-11-28T11:12:04.695Z"
   },
   {
    "duration": 127,
    "start_time": "2021-11-28T11:12:04.784Z"
   },
   {
    "duration": 115,
    "start_time": "2021-11-28T11:12:04.913Z"
   },
   {
    "duration": 146,
    "start_time": "2021-11-28T11:12:05.030Z"
   },
   {
    "duration": 14,
    "start_time": "2021-11-28T11:12:05.178Z"
   },
   {
    "duration": 32,
    "start_time": "2021-11-28T11:12:05.194Z"
   },
   {
    "duration": 24,
    "start_time": "2021-11-28T11:12:05.228Z"
   },
   {
    "duration": 4,
    "start_time": "2021-11-28T11:12:05.254Z"
   },
   {
    "duration": 48,
    "start_time": "2021-11-28T11:12:05.260Z"
   },
   {
    "duration": 18,
    "start_time": "2021-11-28T11:12:05.310Z"
   },
   {
    "duration": 61,
    "start_time": "2021-11-28T11:12:05.330Z"
   },
   {
    "duration": 17,
    "start_time": "2021-11-28T11:12:05.393Z"
   },
   {
    "duration": 37,
    "start_time": "2021-11-28T11:12:05.412Z"
   },
   {
    "duration": 40,
    "start_time": "2021-11-28T11:12:05.451Z"
   },
   {
    "duration": 24,
    "start_time": "2021-11-28T11:12:05.493Z"
   },
   {
    "duration": 23,
    "start_time": "2021-11-28T11:12:05.519Z"
   },
   {
    "duration": 17,
    "start_time": "2021-11-28T11:12:05.544Z"
   },
   {
    "duration": 38,
    "start_time": "2021-11-28T11:12:05.563Z"
   },
   {
    "duration": 14,
    "start_time": "2021-11-28T11:12:05.603Z"
   },
   {
    "duration": 33,
    "start_time": "2021-11-28T11:12:05.620Z"
   },
   {
    "duration": 274,
    "start_time": "2021-11-28T11:12:05.655Z"
   },
   {
    "duration": 199,
    "start_time": "2021-11-28T11:12:16.100Z"
   },
   {
    "duration": 204,
    "start_time": "2021-11-28T11:12:40.568Z"
   },
   {
    "duration": 258,
    "start_time": "2021-11-28T11:13:31.401Z"
   },
   {
    "duration": 178,
    "start_time": "2021-11-28T11:13:38.409Z"
   },
   {
    "duration": 92,
    "start_time": "2021-11-28T11:16:22.715Z"
   },
   {
    "duration": 363,
    "start_time": "2021-11-28T11:16:32.227Z"
   },
   {
    "duration": 288,
    "start_time": "2021-11-28T11:18:52.967Z"
   },
   {
    "duration": 193,
    "start_time": "2021-11-28T11:19:03.523Z"
   },
   {
    "duration": 3,
    "start_time": "2021-11-28T11:20:49.314Z"
   },
   {
    "duration": 1152,
    "start_time": "2021-11-28T11:20:56.461Z"
   },
   {
    "duration": 167,
    "start_time": "2021-11-28T11:20:57.615Z"
   },
   {
    "duration": 21,
    "start_time": "2021-11-28T11:20:57.784Z"
   },
   {
    "duration": 147,
    "start_time": "2021-11-28T11:20:57.808Z"
   },
   {
    "duration": 20,
    "start_time": "2021-11-28T11:20:57.957Z"
   },
   {
    "duration": 114,
    "start_time": "2021-11-28T11:20:57.980Z"
   },
   {
    "duration": 14,
    "start_time": "2021-11-28T11:20:58.097Z"
   },
   {
    "duration": 37,
    "start_time": "2021-11-28T11:20:58.114Z"
   },
   {
    "duration": 17,
    "start_time": "2021-11-28T11:20:58.154Z"
   },
   {
    "duration": 50,
    "start_time": "2021-11-28T11:20:58.173Z"
   },
   {
    "duration": 13,
    "start_time": "2021-11-28T11:20:58.226Z"
   },
   {
    "duration": 384,
    "start_time": "2021-11-28T11:20:58.242Z"
   },
   {
    "duration": 141,
    "start_time": "2021-11-28T11:20:58.629Z"
   },
   {
    "duration": 23,
    "start_time": "2021-11-28T11:20:58.773Z"
   },
   {
    "duration": 3,
    "start_time": "2021-11-28T11:20:58.798Z"
   },
   {
    "duration": 154,
    "start_time": "2021-11-28T11:20:58.804Z"
   },
   {
    "duration": 48,
    "start_time": "2021-11-28T11:20:58.961Z"
   },
   {
    "duration": 47,
    "start_time": "2021-11-28T11:20:59.011Z"
   },
   {
    "duration": 13,
    "start_time": "2021-11-28T11:20:59.061Z"
   },
   {
    "duration": 15,
    "start_time": "2021-11-28T11:20:59.076Z"
   },
   {
    "duration": 58,
    "start_time": "2021-11-28T11:20:59.093Z"
   },
   {
    "duration": 49,
    "start_time": "2021-11-28T11:20:59.153Z"
   },
   {
    "duration": 45,
    "start_time": "2021-11-28T11:20:59.206Z"
   },
   {
    "duration": 33,
    "start_time": "2021-11-28T11:20:59.254Z"
   },
   {
    "duration": 23,
    "start_time": "2021-11-28T11:20:59.289Z"
   },
   {
    "duration": 53,
    "start_time": "2021-11-28T11:20:59.314Z"
   },
   {
    "duration": 11,
    "start_time": "2021-11-28T11:20:59.368Z"
   },
   {
    "duration": 112,
    "start_time": "2021-11-28T11:20:59.381Z"
   },
   {
    "duration": 91,
    "start_time": "2021-11-28T11:20:59.495Z"
   },
   {
    "duration": 93,
    "start_time": "2021-11-28T11:20:59.587Z"
   },
   {
    "duration": 140,
    "start_time": "2021-11-28T11:20:59.681Z"
   },
   {
    "duration": 130,
    "start_time": "2021-11-28T11:20:59.823Z"
   },
   {
    "duration": 146,
    "start_time": "2021-11-28T11:20:59.955Z"
   },
   {
    "duration": 12,
    "start_time": "2021-11-28T11:21:00.103Z"
   },
   {
    "duration": 28,
    "start_time": "2021-11-28T11:21:00.116Z"
   },
   {
    "duration": 17,
    "start_time": "2021-11-28T11:21:00.146Z"
   },
   {
    "duration": 3,
    "start_time": "2021-11-28T11:21:00.164Z"
   },
   {
    "duration": 19,
    "start_time": "2021-11-28T11:21:00.169Z"
   },
   {
    "duration": 12,
    "start_time": "2021-11-28T11:21:00.190Z"
   },
   {
    "duration": 95,
    "start_time": "2021-11-28T11:21:00.204Z"
   },
   {
    "duration": 16,
    "start_time": "2021-11-28T11:21:00.301Z"
   },
   {
    "duration": 37,
    "start_time": "2021-11-28T11:21:00.318Z"
   },
   {
    "duration": 21,
    "start_time": "2021-11-28T11:21:00.356Z"
   },
   {
    "duration": 25,
    "start_time": "2021-11-28T11:21:00.379Z"
   },
   {
    "duration": 29,
    "start_time": "2021-11-28T11:21:00.406Z"
   },
   {
    "duration": 18,
    "start_time": "2021-11-28T11:21:00.437Z"
   },
   {
    "duration": 48,
    "start_time": "2021-11-28T11:21:00.457Z"
   },
   {
    "duration": 32,
    "start_time": "2021-11-28T11:21:00.507Z"
   },
   {
    "duration": 22,
    "start_time": "2021-11-28T11:21:00.541Z"
   },
   {
    "duration": 202,
    "start_time": "2021-11-28T11:21:00.566Z"
   },
   {
    "duration": 197,
    "start_time": "2021-11-28T11:21:18.616Z"
   },
   {
    "duration": 391,
    "start_time": "2021-11-28T11:22:12.485Z"
   },
   {
    "duration": 490,
    "start_time": "2021-11-28T11:22:41.513Z"
   },
   {
    "duration": 345,
    "start_time": "2021-11-28T11:23:29.770Z"
   },
   {
    "duration": 202,
    "start_time": "2021-11-28T11:25:02.458Z"
   },
   {
    "duration": 196,
    "start_time": "2021-11-28T11:25:12.696Z"
   },
   {
    "duration": 189,
    "start_time": "2021-11-28T11:26:32.515Z"
   },
   {
    "duration": 561,
    "start_time": "2021-11-28T11:59:33.415Z"
   },
   {
    "duration": 174,
    "start_time": "2021-11-28T12:02:31.765Z"
   },
   {
    "duration": 183,
    "start_time": "2021-11-28T12:02:46.930Z"
   },
   {
    "duration": 473,
    "start_time": "2021-11-28T12:03:04.140Z"
   },
   {
    "duration": 197,
    "start_time": "2021-11-28T12:06:14.706Z"
   },
   {
    "duration": 196,
    "start_time": "2021-11-28T12:06:41.598Z"
   },
   {
    "duration": 295,
    "start_time": "2021-11-28T12:07:07.333Z"
   },
   {
    "duration": 209,
    "start_time": "2021-11-28T12:07:26.083Z"
   },
   {
    "duration": 222,
    "start_time": "2021-11-28T12:09:45.135Z"
   },
   {
    "duration": 301,
    "start_time": "2021-11-28T12:10:04.172Z"
   },
   {
    "duration": 292,
    "start_time": "2021-11-28T12:11:23.781Z"
   },
   {
    "duration": 264,
    "start_time": "2021-11-28T12:11:47.074Z"
   },
   {
    "duration": 288,
    "start_time": "2021-11-28T12:11:50.633Z"
   },
   {
    "duration": 269,
    "start_time": "2021-11-28T12:12:56.220Z"
   },
   {
    "duration": 464,
    "start_time": "2021-11-28T12:13:03.234Z"
   },
   {
    "duration": 260,
    "start_time": "2021-11-28T12:13:07.226Z"
   },
   {
    "duration": 277,
    "start_time": "2021-11-28T12:13:36.055Z"
   },
   {
    "duration": 308,
    "start_time": "2021-11-28T12:14:32.825Z"
   },
   {
    "duration": 1150,
    "start_time": "2021-11-28T12:15:18.776Z"
   },
   {
    "duration": 165,
    "start_time": "2021-11-28T12:15:19.928Z"
   },
   {
    "duration": 20,
    "start_time": "2021-11-28T12:15:20.096Z"
   },
   {
    "duration": 159,
    "start_time": "2021-11-28T12:15:20.117Z"
   },
   {
    "duration": 15,
    "start_time": "2021-11-28T12:15:20.278Z"
   },
   {
    "duration": 112,
    "start_time": "2021-11-28T12:15:20.295Z"
   },
   {
    "duration": 14,
    "start_time": "2021-11-28T12:15:20.409Z"
   },
   {
    "duration": 34,
    "start_time": "2021-11-28T12:15:20.425Z"
   },
   {
    "duration": 21,
    "start_time": "2021-11-28T12:15:20.461Z"
   },
   {
    "duration": 61,
    "start_time": "2021-11-28T12:15:20.484Z"
   },
   {
    "duration": 20,
    "start_time": "2021-11-28T12:15:20.547Z"
   },
   {
    "duration": 212,
    "start_time": "2021-11-28T12:15:20.569Z"
   },
   {
    "duration": 72,
    "start_time": "2021-11-28T12:15:20.782Z"
   },
   {
    "duration": 12,
    "start_time": "2021-11-28T12:15:20.856Z"
   },
   {
    "duration": 21,
    "start_time": "2021-11-28T12:15:20.870Z"
   },
   {
    "duration": 92,
    "start_time": "2021-11-28T12:15:20.892Z"
   },
   {
    "duration": 29,
    "start_time": "2021-11-28T12:15:20.985Z"
   },
   {
    "duration": 34,
    "start_time": "2021-11-28T12:15:21.015Z"
   },
   {
    "duration": 26,
    "start_time": "2021-11-28T12:15:21.051Z"
   },
   {
    "duration": 45,
    "start_time": "2021-11-28T12:15:21.079Z"
   },
   {
    "duration": 44,
    "start_time": "2021-11-28T12:15:21.126Z"
   },
   {
    "duration": 48,
    "start_time": "2021-11-28T12:15:21.172Z"
   },
   {
    "duration": 32,
    "start_time": "2021-11-28T12:15:21.223Z"
   },
   {
    "duration": 34,
    "start_time": "2021-11-28T12:15:21.257Z"
   },
   {
    "duration": 23,
    "start_time": "2021-11-28T12:15:21.293Z"
   },
   {
    "duration": 58,
    "start_time": "2021-11-28T12:15:21.318Z"
   },
   {
    "duration": 11,
    "start_time": "2021-11-28T12:15:21.378Z"
   },
   {
    "duration": 105,
    "start_time": "2021-11-28T12:15:21.390Z"
   },
   {
    "duration": 82,
    "start_time": "2021-11-28T12:15:21.497Z"
   },
   {
    "duration": 85,
    "start_time": "2021-11-28T12:15:21.581Z"
   },
   {
    "duration": 130,
    "start_time": "2021-11-28T12:15:21.667Z"
   },
   {
    "duration": 119,
    "start_time": "2021-11-28T12:15:21.798Z"
   },
   {
    "duration": 133,
    "start_time": "2021-11-28T12:15:21.918Z"
   },
   {
    "duration": 11,
    "start_time": "2021-11-28T12:15:22.053Z"
   },
   {
    "duration": 20,
    "start_time": "2021-11-28T12:15:22.066Z"
   },
   {
    "duration": 30,
    "start_time": "2021-11-28T12:15:22.088Z"
   },
   {
    "duration": 14,
    "start_time": "2021-11-28T12:15:22.120Z"
   },
   {
    "duration": 49,
    "start_time": "2021-11-28T12:15:22.136Z"
   },
   {
    "duration": 23,
    "start_time": "2021-11-28T12:15:22.186Z"
   },
   {
    "duration": 74,
    "start_time": "2021-11-28T12:15:22.210Z"
   },
   {
    "duration": 14,
    "start_time": "2021-11-28T12:15:22.286Z"
   },
   {
    "duration": 31,
    "start_time": "2021-11-28T12:15:22.302Z"
   },
   {
    "duration": 37,
    "start_time": "2021-11-28T12:15:22.335Z"
   },
   {
    "duration": 40,
    "start_time": "2021-11-28T12:15:22.374Z"
   },
   {
    "duration": 24,
    "start_time": "2021-11-28T12:15:22.416Z"
   },
   {
    "duration": 31,
    "start_time": "2021-11-28T12:15:22.442Z"
   },
   {
    "duration": 35,
    "start_time": "2021-11-28T12:15:22.474Z"
   },
   {
    "duration": 15,
    "start_time": "2021-11-28T12:15:22.511Z"
   },
   {
    "duration": 28,
    "start_time": "2021-11-28T12:15:22.527Z"
   },
   {
    "duration": 302,
    "start_time": "2021-11-28T12:15:22.556Z"
   },
   {
    "duration": 274,
    "start_time": "2021-11-28T12:15:22.860Z"
   },
   {
    "duration": 296,
    "start_time": "2021-11-28T12:15:23.136Z"
   },
   {
    "duration": 352,
    "start_time": "2021-11-28T12:25:31.127Z"
   },
   {
    "duration": 1118,
    "start_time": "2021-11-28T12:25:48.670Z"
   },
   {
    "duration": 155,
    "start_time": "2021-11-28T12:25:49.790Z"
   },
   {
    "duration": 22,
    "start_time": "2021-11-28T12:25:49.950Z"
   },
   {
    "duration": 149,
    "start_time": "2021-11-28T12:25:49.974Z"
   },
   {
    "duration": 27,
    "start_time": "2021-11-28T12:25:50.125Z"
   },
   {
    "duration": 93,
    "start_time": "2021-11-28T12:25:50.154Z"
   },
   {
    "duration": 15,
    "start_time": "2021-11-28T12:25:50.250Z"
   },
   {
    "duration": 22,
    "start_time": "2021-11-28T12:25:50.267Z"
   },
   {
    "duration": 6,
    "start_time": "2021-11-28T12:25:50.291Z"
   },
   {
    "duration": 35,
    "start_time": "2021-11-28T12:25:50.299Z"
   },
   {
    "duration": 10,
    "start_time": "2021-11-28T12:25:50.336Z"
   },
   {
    "duration": 204,
    "start_time": "2021-11-28T12:25:50.348Z"
   },
   {
    "duration": 57,
    "start_time": "2021-11-28T12:25:50.554Z"
   },
   {
    "duration": 39,
    "start_time": "2021-11-28T12:25:50.613Z"
   },
   {
    "duration": 3,
    "start_time": "2021-11-28T12:25:50.654Z"
   },
   {
    "duration": 86,
    "start_time": "2021-11-28T12:25:50.659Z"
   },
   {
    "duration": 28,
    "start_time": "2021-11-28T12:25:50.747Z"
   },
   {
    "duration": 26,
    "start_time": "2021-11-28T12:25:50.777Z"
   },
   {
    "duration": 41,
    "start_time": "2021-11-28T12:25:50.804Z"
   },
   {
    "duration": 14,
    "start_time": "2021-11-28T12:25:50.846Z"
   },
   {
    "duration": 34,
    "start_time": "2021-11-28T12:25:50.861Z"
   },
   {
    "duration": 67,
    "start_time": "2021-11-28T12:25:50.898Z"
   },
   {
    "duration": 18,
    "start_time": "2021-11-28T12:25:50.968Z"
   },
   {
    "duration": 32,
    "start_time": "2021-11-28T12:25:50.987Z"
   },
   {
    "duration": 43,
    "start_time": "2021-11-28T12:25:51.021Z"
   },
   {
    "duration": 30,
    "start_time": "2021-11-28T12:25:51.066Z"
   },
   {
    "duration": 10,
    "start_time": "2021-11-28T12:25:51.098Z"
   },
   {
    "duration": 103,
    "start_time": "2021-11-28T12:25:51.109Z"
   },
   {
    "duration": 71,
    "start_time": "2021-11-28T12:25:51.213Z"
   },
   {
    "duration": 88,
    "start_time": "2021-11-28T12:25:51.285Z"
   },
   {
    "duration": 127,
    "start_time": "2021-11-28T12:25:51.374Z"
   },
   {
    "duration": 108,
    "start_time": "2021-11-28T12:25:51.503Z"
   },
   {
    "duration": 134,
    "start_time": "2021-11-28T12:25:51.613Z"
   },
   {
    "duration": 10,
    "start_time": "2021-11-28T12:25:51.749Z"
   },
   {
    "duration": 11,
    "start_time": "2021-11-28T12:25:51.760Z"
   },
   {
    "duration": 15,
    "start_time": "2021-11-28T12:25:51.773Z"
   },
   {
    "duration": 2,
    "start_time": "2021-11-28T12:25:51.790Z"
   },
   {
    "duration": 19,
    "start_time": "2021-11-28T12:25:51.793Z"
   },
   {
    "duration": 13,
    "start_time": "2021-11-28T12:25:51.845Z"
   },
   {
    "duration": 61,
    "start_time": "2021-11-28T12:25:51.859Z"
   },
   {
    "duration": 35,
    "start_time": "2021-11-28T12:25:51.922Z"
   },
   {
    "duration": 15,
    "start_time": "2021-11-28T12:25:51.959Z"
   },
   {
    "duration": 13,
    "start_time": "2021-11-28T12:25:51.976Z"
   },
   {
    "duration": 57,
    "start_time": "2021-11-28T12:25:51.991Z"
   },
   {
    "duration": 23,
    "start_time": "2021-11-28T12:25:52.050Z"
   },
   {
    "duration": 15,
    "start_time": "2021-11-28T12:25:52.075Z"
   },
   {
    "duration": 53,
    "start_time": "2021-11-28T12:25:52.092Z"
   },
   {
    "duration": 11,
    "start_time": "2021-11-28T12:25:52.147Z"
   },
   {
    "duration": 17,
    "start_time": "2021-11-28T12:25:52.160Z"
   },
   {
    "duration": 316,
    "start_time": "2021-11-28T12:25:52.179Z"
   },
   {
    "duration": 274,
    "start_time": "2021-11-28T12:25:52.497Z"
   },
   {
    "duration": 293,
    "start_time": "2021-11-28T12:25:52.773Z"
   },
   {
    "duration": 11,
    "start_time": "2021-11-28T13:17:57.315Z"
   },
   {
    "duration": 504,
    "start_time": "2021-11-28T13:22:58.230Z"
   },
   {
    "duration": 412,
    "start_time": "2021-11-28T13:23:35.906Z"
   },
   {
    "duration": 402,
    "start_time": "2021-11-28T13:24:26.280Z"
   },
   {
    "duration": 379,
    "start_time": "2021-11-28T13:24:47.360Z"
   },
   {
    "duration": 500,
    "start_time": "2021-11-28T13:25:16.273Z"
   },
   {
    "duration": 384,
    "start_time": "2021-11-28T13:25:42.549Z"
   },
   {
    "duration": 493,
    "start_time": "2021-11-28T13:25:48.717Z"
   },
   {
    "duration": 395,
    "start_time": "2021-11-28T13:26:27.938Z"
   },
   {
    "duration": 403,
    "start_time": "2021-11-28T13:27:03.967Z"
   },
   {
    "duration": 428,
    "start_time": "2021-11-28T13:27:25.784Z"
   },
   {
    "duration": 386,
    "start_time": "2021-11-28T13:27:54.058Z"
   },
   {
    "duration": 412,
    "start_time": "2021-11-28T13:28:17.196Z"
   },
   {
    "duration": 487,
    "start_time": "2021-11-28T13:28:50.126Z"
   },
   {
    "duration": 394,
    "start_time": "2021-11-28T13:29:51.536Z"
   },
   {
    "duration": 416,
    "start_time": "2021-11-28T13:30:18.675Z"
   },
   {
    "duration": 1147,
    "start_time": "2021-11-28T13:30:38.047Z"
   },
   {
    "duration": 158,
    "start_time": "2021-11-28T13:30:39.196Z"
   },
   {
    "duration": 21,
    "start_time": "2021-11-28T13:30:39.356Z"
   },
   {
    "duration": 136,
    "start_time": "2021-11-28T13:30:39.379Z"
   },
   {
    "duration": 27,
    "start_time": "2021-11-28T13:30:39.517Z"
   },
   {
    "duration": 91,
    "start_time": "2021-11-28T13:30:39.546Z"
   },
   {
    "duration": 17,
    "start_time": "2021-11-28T13:30:39.639Z"
   },
   {
    "duration": 22,
    "start_time": "2021-11-28T13:30:39.659Z"
   },
   {
    "duration": 7,
    "start_time": "2021-11-28T13:30:39.683Z"
   },
   {
    "duration": 34,
    "start_time": "2021-11-28T13:30:39.691Z"
   },
   {
    "duration": 6,
    "start_time": "2021-11-28T13:30:39.727Z"
   },
   {
    "duration": 220,
    "start_time": "2021-11-28T13:30:39.745Z"
   },
   {
    "duration": 62,
    "start_time": "2021-11-28T13:30:39.967Z"
   },
   {
    "duration": 25,
    "start_time": "2021-11-28T13:30:40.030Z"
   },
   {
    "duration": 7,
    "start_time": "2021-11-28T13:30:40.057Z"
   },
   {
    "duration": 88,
    "start_time": "2021-11-28T13:30:40.066Z"
   },
   {
    "duration": 28,
    "start_time": "2021-11-28T13:30:40.156Z"
   },
   {
    "duration": 24,
    "start_time": "2021-11-28T13:30:40.186Z"
   },
   {
    "duration": 37,
    "start_time": "2021-11-28T13:30:40.212Z"
   },
   {
    "duration": 14,
    "start_time": "2021-11-28T13:30:40.250Z"
   },
   {
    "duration": 27,
    "start_time": "2021-11-28T13:30:40.266Z"
   },
   {
    "duration": 72,
    "start_time": "2021-11-28T13:30:40.294Z"
   },
   {
    "duration": 19,
    "start_time": "2021-11-28T13:30:40.370Z"
   },
   {
    "duration": 32,
    "start_time": "2021-11-28T13:30:40.391Z"
   },
   {
    "duration": 38,
    "start_time": "2021-11-28T13:30:40.425Z"
   },
   {
    "duration": 30,
    "start_time": "2021-11-28T13:30:40.465Z"
   },
   {
    "duration": 10,
    "start_time": "2021-11-28T13:30:40.496Z"
   },
   {
    "duration": 106,
    "start_time": "2021-11-28T13:30:40.507Z"
   },
   {
    "duration": 78,
    "start_time": "2021-11-28T13:30:40.615Z"
   },
   {
    "duration": 79,
    "start_time": "2021-11-28T13:30:40.695Z"
   },
   {
    "duration": 127,
    "start_time": "2021-11-28T13:30:40.776Z"
   },
   {
    "duration": 108,
    "start_time": "2021-11-28T13:30:40.905Z"
   },
   {
    "duration": 142,
    "start_time": "2021-11-28T13:30:41.015Z"
   },
   {
    "duration": 13,
    "start_time": "2021-11-28T13:30:41.159Z"
   },
   {
    "duration": 11,
    "start_time": "2021-11-28T13:30:41.174Z"
   },
   {
    "duration": 14,
    "start_time": "2021-11-28T13:30:41.187Z"
   },
   {
    "duration": 6,
    "start_time": "2021-11-28T13:30:41.203Z"
   },
   {
    "duration": 43,
    "start_time": "2021-11-28T13:30:41.210Z"
   },
   {
    "duration": 12,
    "start_time": "2021-11-28T13:30:41.255Z"
   },
   {
    "duration": 82,
    "start_time": "2021-11-28T13:30:41.269Z"
   },
   {
    "duration": 15,
    "start_time": "2021-11-28T13:30:41.353Z"
   },
   {
    "duration": 14,
    "start_time": "2021-11-28T13:30:41.369Z"
   },
   {
    "duration": 17,
    "start_time": "2021-11-28T13:30:41.385Z"
   },
   {
    "duration": 59,
    "start_time": "2021-11-28T13:30:41.404Z"
   },
   {
    "duration": 22,
    "start_time": "2021-11-28T13:30:41.465Z"
   },
   {
    "duration": 15,
    "start_time": "2021-11-28T13:30:41.489Z"
   },
   {
    "duration": 48,
    "start_time": "2021-11-28T13:30:41.506Z"
   },
   {
    "duration": 12,
    "start_time": "2021-11-28T13:30:41.556Z"
   },
   {
    "duration": 10,
    "start_time": "2021-11-28T13:30:41.570Z"
   },
   {
    "duration": 464,
    "start_time": "2021-11-28T13:30:41.582Z"
   },
   {
    "duration": 384,
    "start_time": "2021-11-28T13:30:42.048Z"
   },
   {
    "duration": 520,
    "start_time": "2021-11-28T13:30:42.434Z"
   },
   {
    "duration": 400,
    "start_time": "2021-11-28T13:40:24.748Z"
   },
   {
    "duration": 447,
    "start_time": "2021-11-28T13:41:14.369Z"
   },
   {
    "duration": 410,
    "start_time": "2021-11-28T13:41:23.126Z"
   },
   {
    "duration": 432,
    "start_time": "2021-11-28T13:42:01.222Z"
   },
   {
    "duration": 544,
    "start_time": "2021-11-28T13:42:20.220Z"
   },
   {
    "duration": 440,
    "start_time": "2021-11-28T13:42:26.161Z"
   },
   {
    "duration": 446,
    "start_time": "2021-11-28T13:42:41.793Z"
   },
   {
    "duration": 446,
    "start_time": "2021-11-28T13:43:11.229Z"
   },
   {
    "duration": 445,
    "start_time": "2021-11-28T13:43:32.172Z"
   },
   {
    "duration": 648,
    "start_time": "2021-11-28T13:44:01.049Z"
   },
   {
    "duration": 594,
    "start_time": "2021-11-28T13:44:06.266Z"
   },
   {
    "duration": 525,
    "start_time": "2021-11-28T13:44:15.174Z"
   },
   {
    "duration": 527,
    "start_time": "2021-11-28T13:44:21.103Z"
   },
   {
    "duration": 419,
    "start_time": "2021-11-28T13:44:25.543Z"
   },
   {
    "duration": 91,
    "start_time": "2021-11-28T13:46:43.650Z"
   },
   {
    "duration": 412,
    "start_time": "2021-11-28T13:47:20.537Z"
   },
   {
    "duration": 3,
    "start_time": "2021-11-28T14:29:32.185Z"
   },
   {
    "duration": 1124,
    "start_time": "2021-11-28T15:57:31.281Z"
   },
   {
    "duration": 204,
    "start_time": "2021-11-28T15:57:32.409Z"
   },
   {
    "duration": 18,
    "start_time": "2021-11-28T15:57:32.615Z"
   },
   {
    "duration": 376,
    "start_time": "2021-11-28T15:57:32.635Z"
   },
   {
    "duration": 17,
    "start_time": "2021-11-28T15:57:33.013Z"
   },
   {
    "duration": 97,
    "start_time": "2021-11-28T15:57:33.032Z"
   },
   {
    "duration": 15,
    "start_time": "2021-11-28T15:57:33.133Z"
   },
   {
    "duration": 25,
    "start_time": "2021-11-28T15:57:33.151Z"
   },
   {
    "duration": 18,
    "start_time": "2021-11-28T15:57:33.178Z"
   },
   {
    "duration": 67,
    "start_time": "2021-11-28T15:57:33.197Z"
   },
   {
    "duration": 5,
    "start_time": "2021-11-28T15:57:33.266Z"
   },
   {
    "duration": 220,
    "start_time": "2021-11-28T15:57:33.273Z"
   },
   {
    "duration": 77,
    "start_time": "2021-11-28T15:57:33.495Z"
   },
   {
    "duration": 12,
    "start_time": "2021-11-28T15:57:33.574Z"
   },
   {
    "duration": 10,
    "start_time": "2021-11-28T15:57:33.588Z"
   },
   {
    "duration": 84,
    "start_time": "2021-11-28T15:57:33.600Z"
   },
   {
    "duration": 27,
    "start_time": "2021-11-28T15:57:33.686Z"
   },
   {
    "duration": 44,
    "start_time": "2021-11-28T15:57:33.714Z"
   },
   {
    "duration": 12,
    "start_time": "2021-11-28T15:57:33.759Z"
   },
   {
    "duration": 18,
    "start_time": "2021-11-28T15:57:33.773Z"
   },
   {
    "duration": 37,
    "start_time": "2021-11-28T15:57:33.793Z"
   },
   {
    "duration": 57,
    "start_time": "2021-11-28T15:57:33.833Z"
   },
   {
    "duration": 67,
    "start_time": "2021-11-28T15:57:33.892Z"
   },
   {
    "duration": 32,
    "start_time": "2021-11-28T15:57:33.961Z"
   },
   {
    "duration": 23,
    "start_time": "2021-11-28T15:57:33.994Z"
   },
   {
    "duration": 37,
    "start_time": "2021-11-28T15:57:34.019Z"
   },
   {
    "duration": 11,
    "start_time": "2021-11-28T15:57:34.058Z"
   },
   {
    "duration": 89,
    "start_time": "2021-11-28T15:57:34.070Z"
   },
   {
    "duration": 68,
    "start_time": "2021-11-28T15:57:34.161Z"
   },
   {
    "duration": 176,
    "start_time": "2021-11-28T15:57:34.230Z"
   },
   {
    "duration": 129,
    "start_time": "2021-11-28T15:57:34.407Z"
   },
   {
    "duration": 110,
    "start_time": "2021-11-28T15:57:34.538Z"
   },
   {
    "duration": 131,
    "start_time": "2021-11-28T15:57:34.650Z"
   },
   {
    "duration": 10,
    "start_time": "2021-11-28T15:57:34.783Z"
   },
   {
    "duration": 37,
    "start_time": "2021-11-28T15:57:34.794Z"
   },
   {
    "duration": 34,
    "start_time": "2021-11-28T15:57:34.833Z"
   },
   {
    "duration": 20,
    "start_time": "2021-11-28T15:57:34.868Z"
   },
   {
    "duration": 27,
    "start_time": "2021-11-28T15:57:34.890Z"
   },
   {
    "duration": 156,
    "start_time": "2021-11-28T15:57:34.919Z"
   },
   {
    "duration": 73,
    "start_time": "2021-11-28T15:57:35.077Z"
   },
   {
    "duration": 12,
    "start_time": "2021-11-28T15:57:35.152Z"
   },
   {
    "duration": 34,
    "start_time": "2021-11-28T15:57:35.165Z"
   },
   {
    "duration": 17,
    "start_time": "2021-11-28T15:57:35.200Z"
   },
   {
    "duration": 22,
    "start_time": "2021-11-28T15:57:35.219Z"
   },
   {
    "duration": 21,
    "start_time": "2021-11-28T15:57:35.243Z"
   },
   {
    "duration": 21,
    "start_time": "2021-11-28T15:57:35.266Z"
   },
   {
    "duration": 10,
    "start_time": "2021-11-28T15:57:35.289Z"
   },
   {
    "duration": 14,
    "start_time": "2021-11-28T15:57:35.301Z"
   },
   {
    "duration": 730,
    "start_time": "2021-11-28T15:57:35.317Z"
   },
   {
    "duration": 519,
    "start_time": "2021-11-28T15:57:36.049Z"
   },
   {
    "duration": 513,
    "start_time": "2021-11-28T15:57:36.570Z"
   },
   {
    "duration": 1172,
    "start_time": "2021-11-28T16:14:09.624Z"
   },
   {
    "duration": 206,
    "start_time": "2021-11-28T16:14:10.798Z"
   },
   {
    "duration": 21,
    "start_time": "2021-11-28T16:14:11.006Z"
   },
   {
    "duration": 369,
    "start_time": "2021-11-28T16:14:11.029Z"
   },
   {
    "duration": 20,
    "start_time": "2021-11-28T16:14:11.400Z"
   },
   {
    "duration": 93,
    "start_time": "2021-11-28T16:14:11.422Z"
   },
   {
    "duration": 29,
    "start_time": "2021-11-28T16:14:11.517Z"
   },
   {
    "duration": 22,
    "start_time": "2021-11-28T16:14:11.549Z"
   },
   {
    "duration": 8,
    "start_time": "2021-11-28T16:14:11.574Z"
   },
   {
    "duration": 45,
    "start_time": "2021-11-28T16:14:11.584Z"
   },
   {
    "duration": 9,
    "start_time": "2021-11-28T16:14:11.631Z"
   },
   {
    "duration": 223,
    "start_time": "2021-11-28T16:14:11.642Z"
   },
   {
    "duration": 77,
    "start_time": "2021-11-28T16:14:11.867Z"
   },
   {
    "duration": 13,
    "start_time": "2021-11-28T16:14:11.946Z"
   },
   {
    "duration": 6,
    "start_time": "2021-11-28T16:14:11.961Z"
   },
   {
    "duration": 86,
    "start_time": "2021-11-28T16:14:11.969Z"
   },
   {
    "duration": 28,
    "start_time": "2021-11-28T16:14:12.057Z"
   },
   {
    "duration": 26,
    "start_time": "2021-11-28T16:14:12.087Z"
   },
   {
    "duration": 33,
    "start_time": "2021-11-28T16:14:12.115Z"
   },
   {
    "duration": 15,
    "start_time": "2021-11-28T16:14:12.150Z"
   },
   {
    "duration": 29,
    "start_time": "2021-11-28T16:14:12.166Z"
   },
   {
    "duration": 81,
    "start_time": "2021-11-28T16:14:12.197Z"
   },
   {
    "duration": 20,
    "start_time": "2021-11-28T16:14:12.280Z"
   },
   {
    "duration": 49,
    "start_time": "2021-11-28T16:14:12.302Z"
   },
   {
    "duration": 23,
    "start_time": "2021-11-28T16:14:12.353Z"
   },
   {
    "duration": 32,
    "start_time": "2021-11-28T16:14:12.377Z"
   },
   {
    "duration": 36,
    "start_time": "2021-11-28T16:14:12.410Z"
   },
   {
    "duration": 73,
    "start_time": "2021-11-28T16:14:12.448Z"
   },
   {
    "duration": 82,
    "start_time": "2021-11-28T16:14:12.523Z"
   },
   {
    "duration": 83,
    "start_time": "2021-11-28T16:14:12.607Z"
   },
   {
    "duration": 126,
    "start_time": "2021-11-28T16:14:12.692Z"
   },
   {
    "duration": 112,
    "start_time": "2021-11-28T16:14:12.819Z"
   },
   {
    "duration": 141,
    "start_time": "2021-11-28T16:14:12.932Z"
   },
   {
    "duration": 11,
    "start_time": "2021-11-28T16:14:13.075Z"
   },
   {
    "duration": 11,
    "start_time": "2021-11-28T16:14:13.088Z"
   },
   {
    "duration": 15,
    "start_time": "2021-11-28T16:14:13.101Z"
   },
   {
    "duration": 12,
    "start_time": "2021-11-28T16:14:13.145Z"
   },
   {
    "duration": 16,
    "start_time": "2021-11-28T16:14:13.158Z"
   },
   {
    "duration": 87,
    "start_time": "2021-11-28T16:14:13.176Z"
   },
   {
    "duration": 17,
    "start_time": "2021-11-28T16:14:19.307Z"
   },
   {
    "duration": 1164,
    "start_time": "2021-11-28T16:15:44.020Z"
   },
   {
    "duration": 151,
    "start_time": "2021-11-28T16:15:45.186Z"
   },
   {
    "duration": 19,
    "start_time": "2021-11-28T16:15:45.339Z"
   },
   {
    "duration": 136,
    "start_time": "2021-11-28T16:15:45.360Z"
   },
   {
    "duration": 15,
    "start_time": "2021-11-28T16:15:45.498Z"
   },
   {
    "duration": 111,
    "start_time": "2021-11-28T16:15:45.515Z"
   },
   {
    "duration": 18,
    "start_time": "2021-11-28T16:15:45.627Z"
   },
   {
    "duration": 47,
    "start_time": "2021-11-28T16:15:45.649Z"
   },
   {
    "duration": 19,
    "start_time": "2021-11-28T16:15:45.698Z"
   },
   {
    "duration": 59,
    "start_time": "2021-11-28T16:15:45.719Z"
   },
   {
    "duration": 6,
    "start_time": "2021-11-28T16:15:45.779Z"
   },
   {
    "duration": 191,
    "start_time": "2021-11-28T16:15:45.787Z"
   },
   {
    "duration": 70,
    "start_time": "2021-11-28T16:15:45.980Z"
   },
   {
    "duration": 12,
    "start_time": "2021-11-28T16:15:46.052Z"
   },
   {
    "duration": 2,
    "start_time": "2021-11-28T16:15:46.066Z"
   },
   {
    "duration": 82,
    "start_time": "2021-11-28T16:15:46.070Z"
   },
   {
    "duration": 28,
    "start_time": "2021-11-28T16:15:46.154Z"
   },
   {
    "duration": 25,
    "start_time": "2021-11-28T16:15:46.184Z"
   },
   {
    "duration": 37,
    "start_time": "2021-11-28T16:15:46.211Z"
   },
   {
    "duration": 14,
    "start_time": "2021-11-28T16:15:46.250Z"
   },
   {
    "duration": 31,
    "start_time": "2021-11-28T16:15:46.265Z"
   },
   {
    "duration": 74,
    "start_time": "2021-11-28T16:15:46.297Z"
   },
   {
    "duration": 19,
    "start_time": "2021-11-28T16:15:46.375Z"
   },
   {
    "duration": 31,
    "start_time": "2021-11-28T16:15:46.396Z"
   },
   {
    "duration": 22,
    "start_time": "2021-11-28T16:15:46.445Z"
   },
   {
    "duration": 29,
    "start_time": "2021-11-28T16:15:46.469Z"
   },
   {
    "duration": 11,
    "start_time": "2021-11-28T16:15:46.500Z"
   },
   {
    "duration": 97,
    "start_time": "2021-11-28T16:15:46.512Z"
   },
   {
    "duration": 78,
    "start_time": "2021-11-28T16:15:46.610Z"
   },
   {
    "duration": 84,
    "start_time": "2021-11-28T16:15:46.690Z"
   },
   {
    "duration": 125,
    "start_time": "2021-11-28T16:15:46.776Z"
   },
   {
    "duration": 107,
    "start_time": "2021-11-28T16:15:46.902Z"
   },
   {
    "duration": 134,
    "start_time": "2021-11-28T16:15:47.011Z"
   },
   {
    "duration": 14,
    "start_time": "2021-11-28T16:15:47.147Z"
   },
   {
    "duration": 14,
    "start_time": "2021-11-28T16:15:47.163Z"
   },
   {
    "duration": 15,
    "start_time": "2021-11-28T16:15:47.179Z"
   },
   {
    "duration": 51,
    "start_time": "2021-11-28T16:15:47.195Z"
   },
   {
    "duration": 12,
    "start_time": "2021-11-28T16:15:47.248Z"
   },
   {
    "duration": 52,
    "start_time": "2021-11-28T16:15:47.262Z"
   },
   {
    "duration": 40,
    "start_time": "2021-11-28T16:15:47.316Z"
   },
   {
    "duration": 13,
    "start_time": "2021-11-28T16:15:47.357Z"
   },
   {
    "duration": 15,
    "start_time": "2021-11-28T16:15:47.372Z"
   },
   {
    "duration": 18,
    "start_time": "2021-11-28T16:15:47.389Z"
   },
   {
    "duration": 52,
    "start_time": "2021-11-28T16:15:47.408Z"
   },
   {
    "duration": 14,
    "start_time": "2021-11-28T16:15:47.461Z"
   },
   {
    "duration": 20,
    "start_time": "2021-11-28T16:15:47.477Z"
   },
   {
    "duration": 47,
    "start_time": "2021-11-28T16:15:47.499Z"
   },
   {
    "duration": 11,
    "start_time": "2021-11-28T16:15:47.548Z"
   },
   {
    "duration": 426,
    "start_time": "2021-11-28T16:15:47.561Z"
   },
   {
    "duration": 441,
    "start_time": "2021-11-28T16:15:47.989Z"
   },
   {
    "duration": 514,
    "start_time": "2021-11-28T16:15:48.432Z"
   },
   {
    "duration": 13,
    "start_time": "2021-11-28T16:15:48.948Z"
   },
   {
    "duration": 8,
    "start_time": "2021-11-28T16:31:05.120Z"
   },
   {
    "duration": 5,
    "start_time": "2021-11-28T16:32:09.124Z"
   },
   {
    "duration": 5,
    "start_time": "2021-11-28T16:32:11.514Z"
   },
   {
    "duration": 1142,
    "start_time": "2021-11-28T16:33:16.638Z"
   },
   {
    "duration": 149,
    "start_time": "2021-11-28T16:33:17.782Z"
   },
   {
    "duration": 24,
    "start_time": "2021-11-28T16:33:17.933Z"
   },
   {
    "duration": 133,
    "start_time": "2021-11-28T16:33:17.959Z"
   },
   {
    "duration": 16,
    "start_time": "2021-11-28T16:33:18.093Z"
   },
   {
    "duration": 97,
    "start_time": "2021-11-28T16:33:18.112Z"
   },
   {
    "duration": 15,
    "start_time": "2021-11-28T16:33:18.211Z"
   },
   {
    "duration": 35,
    "start_time": "2021-11-28T16:33:18.230Z"
   },
   {
    "duration": 9,
    "start_time": "2021-11-28T16:33:18.267Z"
   },
   {
    "duration": 30,
    "start_time": "2021-11-28T16:33:18.277Z"
   },
   {
    "duration": 5,
    "start_time": "2021-11-28T16:33:18.309Z"
   },
   {
    "duration": 196,
    "start_time": "2021-11-28T16:33:18.316Z"
   },
   {
    "duration": 72,
    "start_time": "2021-11-28T16:33:18.514Z"
   },
   {
    "duration": 11,
    "start_time": "2021-11-28T16:33:18.587Z"
   },
   {
    "duration": 2,
    "start_time": "2021-11-28T16:33:18.600Z"
   },
   {
    "duration": 95,
    "start_time": "2021-11-28T16:33:18.603Z"
   },
   {
    "duration": 26,
    "start_time": "2021-11-28T16:33:18.700Z"
   },
   {
    "duration": 37,
    "start_time": "2021-11-28T16:33:18.727Z"
   },
   {
    "duration": 13,
    "start_time": "2021-11-28T16:33:18.767Z"
   },
   {
    "duration": 17,
    "start_time": "2021-11-28T16:33:18.782Z"
   },
   {
    "duration": 54,
    "start_time": "2021-11-28T16:33:18.802Z"
   },
   {
    "duration": 48,
    "start_time": "2021-11-28T16:33:18.858Z"
   },
   {
    "duration": 43,
    "start_time": "2021-11-28T16:33:18.911Z"
   },
   {
    "duration": 34,
    "start_time": "2021-11-28T16:33:18.957Z"
   },
   {
    "duration": 22,
    "start_time": "2021-11-28T16:33:18.993Z"
   },
   {
    "duration": 32,
    "start_time": "2021-11-28T16:33:19.045Z"
   },
   {
    "duration": 10,
    "start_time": "2021-11-28T16:33:19.079Z"
   },
   {
    "duration": 93,
    "start_time": "2021-11-28T16:33:19.090Z"
   },
   {
    "duration": 79,
    "start_time": "2021-11-28T16:33:19.185Z"
   },
   {
    "duration": 80,
    "start_time": "2021-11-28T16:33:19.265Z"
   },
   {
    "duration": 120,
    "start_time": "2021-11-28T16:33:19.347Z"
   },
   {
    "duration": 106,
    "start_time": "2021-11-28T16:33:19.469Z"
   },
   {
    "duration": 131,
    "start_time": "2021-11-28T16:33:19.576Z"
   },
   {
    "duration": 11,
    "start_time": "2021-11-28T16:33:19.709Z"
   },
   {
    "duration": 27,
    "start_time": "2021-11-28T16:33:19.722Z"
   },
   {
    "duration": 14,
    "start_time": "2021-11-28T16:33:19.751Z"
   },
   {
    "duration": 15,
    "start_time": "2021-11-28T16:33:19.767Z"
   },
   {
    "duration": 35,
    "start_time": "2021-11-28T16:33:19.784Z"
   },
   {
    "duration": 67,
    "start_time": "2021-11-28T16:33:19.821Z"
   },
   {
    "duration": 14,
    "start_time": "2021-11-28T16:33:19.890Z"
   },
   {
    "duration": 14,
    "start_time": "2021-11-28T16:33:19.906Z"
   },
   {
    "duration": 33,
    "start_time": "2021-11-28T16:33:19.921Z"
   },
   {
    "duration": 37,
    "start_time": "2021-11-28T16:33:19.956Z"
   },
   {
    "duration": 21,
    "start_time": "2021-11-28T16:33:19.994Z"
   },
   {
    "duration": 21,
    "start_time": "2021-11-28T16:33:20.016Z"
   },
   {
    "duration": 26,
    "start_time": "2021-11-28T16:33:20.044Z"
   },
   {
    "duration": 13,
    "start_time": "2021-11-28T16:33:20.072Z"
   },
   {
    "duration": 39,
    "start_time": "2021-11-28T16:33:20.087Z"
   },
   {
    "duration": 420,
    "start_time": "2021-11-28T16:33:20.127Z"
   },
   {
    "duration": 401,
    "start_time": "2021-11-28T16:33:20.548Z"
   },
   {
    "duration": 504,
    "start_time": "2021-11-28T16:33:20.951Z"
   },
   {
    "duration": 12,
    "start_time": "2021-11-28T16:33:21.457Z"
   },
   {
    "duration": 8,
    "start_time": "2021-11-28T16:33:21.471Z"
   },
   {
    "duration": 10,
    "start_time": "2021-11-28T16:33:21.480Z"
   },
   {
    "duration": 6,
    "start_time": "2021-11-28T16:33:21.491Z"
   },
   {
    "duration": 5,
    "start_time": "2021-11-28T16:40:02.759Z"
   },
   {
    "duration": 1220,
    "start_time": "2021-11-28T16:44:57.159Z"
   },
   {
    "duration": 204,
    "start_time": "2021-11-28T16:44:58.381Z"
   },
   {
    "duration": 20,
    "start_time": "2021-11-28T16:44:58.587Z"
   },
   {
    "duration": 364,
    "start_time": "2021-11-28T16:44:58.608Z"
   },
   {
    "duration": 23,
    "start_time": "2021-11-28T16:44:58.974Z"
   },
   {
    "duration": 94,
    "start_time": "2021-11-28T16:44:58.998Z"
   },
   {
    "duration": 14,
    "start_time": "2021-11-28T16:44:59.094Z"
   },
   {
    "duration": 24,
    "start_time": "2021-11-28T16:44:59.110Z"
   },
   {
    "duration": 9,
    "start_time": "2021-11-28T16:44:59.136Z"
   },
   {
    "duration": 43,
    "start_time": "2021-11-28T16:44:59.147Z"
   },
   {
    "duration": 5,
    "start_time": "2021-11-28T16:44:59.192Z"
   },
   {
    "duration": 199,
    "start_time": "2021-11-28T16:44:59.199Z"
   },
   {
    "duration": 74,
    "start_time": "2021-11-28T16:44:59.400Z"
   },
   {
    "duration": 18,
    "start_time": "2021-11-28T16:44:59.477Z"
   },
   {
    "duration": 2,
    "start_time": "2021-11-28T16:44:59.498Z"
   },
   {
    "duration": 110,
    "start_time": "2021-11-28T16:44:59.502Z"
   },
   {
    "duration": 37,
    "start_time": "2021-11-28T16:44:59.614Z"
   },
   {
    "duration": 28,
    "start_time": "2021-11-28T16:44:59.653Z"
   },
   {
    "duration": 15,
    "start_time": "2021-11-28T16:44:59.682Z"
   },
   {
    "duration": 16,
    "start_time": "2021-11-28T16:44:59.699Z"
   },
   {
    "duration": 28,
    "start_time": "2021-11-28T16:44:59.744Z"
   },
   {
    "duration": 45,
    "start_time": "2021-11-28T16:44:59.773Z"
   },
   {
    "duration": 35,
    "start_time": "2021-11-28T16:44:59.821Z"
   },
   {
    "duration": 32,
    "start_time": "2021-11-28T16:44:59.858Z"
   },
   {
    "duration": 21,
    "start_time": "2021-11-28T16:44:59.892Z"
   },
   {
    "duration": 56,
    "start_time": "2021-11-28T16:44:59.915Z"
   },
   {
    "duration": 10,
    "start_time": "2021-11-28T16:44:59.972Z"
   },
   {
    "duration": 100,
    "start_time": "2021-11-28T16:44:59.983Z"
   },
   {
    "duration": 74,
    "start_time": "2021-11-28T16:45:00.085Z"
   },
   {
    "duration": 84,
    "start_time": "2021-11-28T16:45:00.160Z"
   },
   {
    "duration": 127,
    "start_time": "2021-11-28T16:45:00.246Z"
   },
   {
    "duration": 113,
    "start_time": "2021-11-28T16:45:00.374Z"
   },
   {
    "duration": 133,
    "start_time": "2021-11-28T16:45:00.488Z"
   },
   {
    "duration": 21,
    "start_time": "2021-11-28T16:45:00.623Z"
   },
   {
    "duration": 38,
    "start_time": "2021-11-28T16:45:00.646Z"
   },
   {
    "duration": 28,
    "start_time": "2021-11-28T16:45:00.686Z"
   },
   {
    "duration": 19,
    "start_time": "2021-11-28T16:45:00.716Z"
   },
   {
    "duration": 35,
    "start_time": "2021-11-28T16:45:00.737Z"
   },
   {
    "duration": 58,
    "start_time": "2021-11-28T16:45:00.774Z"
   },
   {
    "duration": 14,
    "start_time": "2021-11-28T16:45:00.834Z"
   },
   {
    "duration": 21,
    "start_time": "2021-11-28T16:45:00.850Z"
   },
   {
    "duration": 36,
    "start_time": "2021-11-28T16:45:00.872Z"
   },
   {
    "duration": 34,
    "start_time": "2021-11-28T16:45:00.911Z"
   },
   {
    "duration": 28,
    "start_time": "2021-11-28T16:45:00.947Z"
   },
   {
    "duration": 16,
    "start_time": "2021-11-28T16:45:00.977Z"
   },
   {
    "duration": 25,
    "start_time": "2021-11-28T16:45:00.995Z"
   },
   {
    "duration": 28,
    "start_time": "2021-11-28T16:45:01.022Z"
   },
   {
    "duration": 13,
    "start_time": "2021-11-28T16:45:01.052Z"
   },
   {
    "duration": 596,
    "start_time": "2021-11-28T16:45:01.067Z"
   },
   {
    "duration": 404,
    "start_time": "2021-11-28T16:45:01.664Z"
   },
   {
    "duration": 548,
    "start_time": "2021-11-28T16:45:02.070Z"
   },
   {
    "duration": 25,
    "start_time": "2021-11-28T16:45:02.619Z"
   },
   {
    "duration": 7,
    "start_time": "2021-11-28T16:45:02.646Z"
   },
   {
    "duration": 27,
    "start_time": "2021-11-28T16:45:02.654Z"
   },
   {
    "duration": 31,
    "start_time": "2021-11-28T16:45:02.682Z"
   },
   {
    "duration": 19,
    "start_time": "2021-11-28T16:45:02.715Z"
   },
   {
    "duration": 341,
    "start_time": "2021-11-28T16:49:39.611Z"
   },
   {
    "duration": 23,
    "start_time": "2021-11-28T16:49:45.896Z"
   },
   {
    "duration": 10,
    "start_time": "2021-11-28T16:51:24.790Z"
   },
   {
    "duration": 18,
    "start_time": "2021-11-28T16:51:31.983Z"
   },
   {
    "duration": 17,
    "start_time": "2021-11-28T16:52:12.352Z"
   },
   {
    "duration": 9,
    "start_time": "2021-11-28T16:56:43.033Z"
   },
   {
    "duration": 1168,
    "start_time": "2021-11-28T17:00:09.465Z"
   },
   {
    "duration": 153,
    "start_time": "2021-11-28T17:00:10.635Z"
   },
   {
    "duration": 19,
    "start_time": "2021-11-28T17:00:10.790Z"
   },
   {
    "duration": 135,
    "start_time": "2021-11-28T17:00:10.810Z"
   },
   {
    "duration": 15,
    "start_time": "2021-11-28T17:00:10.946Z"
   },
   {
    "duration": 105,
    "start_time": "2021-11-28T17:00:10.963Z"
   },
   {
    "duration": 13,
    "start_time": "2021-11-28T17:00:11.070Z"
   },
   {
    "duration": 33,
    "start_time": "2021-11-28T17:00:11.086Z"
   },
   {
    "duration": 31,
    "start_time": "2021-11-28T17:00:11.121Z"
   },
   {
    "duration": 57,
    "start_time": "2021-11-28T17:00:11.154Z"
   },
   {
    "duration": 6,
    "start_time": "2021-11-28T17:00:11.212Z"
   },
   {
    "duration": 190,
    "start_time": "2021-11-28T17:00:11.219Z"
   },
   {
    "duration": 69,
    "start_time": "2021-11-28T17:00:11.411Z"
   },
   {
    "duration": 12,
    "start_time": "2021-11-28T17:00:11.481Z"
   },
   {
    "duration": 4,
    "start_time": "2021-11-28T17:00:11.494Z"
   },
   {
    "duration": 79,
    "start_time": "2021-11-28T17:00:11.499Z"
   },
   {
    "duration": 29,
    "start_time": "2021-11-28T17:00:11.580Z"
   },
   {
    "duration": 38,
    "start_time": "2021-11-28T17:00:11.611Z"
   },
   {
    "duration": 14,
    "start_time": "2021-11-28T17:00:11.651Z"
   },
   {
    "duration": 14,
    "start_time": "2021-11-28T17:00:11.666Z"
   },
   {
    "duration": 25,
    "start_time": "2021-11-28T17:00:11.682Z"
   },
   {
    "duration": 75,
    "start_time": "2021-11-28T17:00:11.709Z"
   },
   {
    "duration": 20,
    "start_time": "2021-11-28T17:00:11.788Z"
   },
   {
    "duration": 46,
    "start_time": "2021-11-28T17:00:11.810Z"
   },
   {
    "duration": 22,
    "start_time": "2021-11-28T17:00:11.858Z"
   },
   {
    "duration": 32,
    "start_time": "2021-11-28T17:00:11.882Z"
   },
   {
    "duration": 32,
    "start_time": "2021-11-28T17:00:11.916Z"
   },
   {
    "duration": 101,
    "start_time": "2021-11-28T17:00:11.950Z"
   },
   {
    "duration": 65,
    "start_time": "2021-11-28T17:00:12.053Z"
   },
   {
    "duration": 86,
    "start_time": "2021-11-28T17:00:12.120Z"
   },
   {
    "duration": 123,
    "start_time": "2021-11-28T17:00:12.208Z"
   },
   {
    "duration": 111,
    "start_time": "2021-11-28T17:00:12.333Z"
   },
   {
    "duration": 123,
    "start_time": "2021-11-28T17:00:12.445Z"
   },
   {
    "duration": 10,
    "start_time": "2021-11-28T17:00:12.570Z"
   },
   {
    "duration": 26,
    "start_time": "2021-11-28T17:00:12.581Z"
   },
   {
    "duration": 13,
    "start_time": "2021-11-28T17:00:12.609Z"
   },
   {
    "duration": 11,
    "start_time": "2021-11-28T17:00:12.624Z"
   },
   {
    "duration": 11,
    "start_time": "2021-11-28T17:00:12.645Z"
   },
   {
    "duration": 53,
    "start_time": "2021-11-28T17:00:12.658Z"
   },
   {
    "duration": 34,
    "start_time": "2021-11-28T17:00:12.713Z"
   },
   {
    "duration": 14,
    "start_time": "2021-11-28T17:00:12.749Z"
   },
   {
    "duration": 30,
    "start_time": "2021-11-28T17:00:12.764Z"
   },
   {
    "duration": 25,
    "start_time": "2021-11-28T17:00:12.795Z"
   },
   {
    "duration": 23,
    "start_time": "2021-11-28T17:00:12.822Z"
   },
   {
    "duration": 13,
    "start_time": "2021-11-28T17:00:12.847Z"
   },
   {
    "duration": 41,
    "start_time": "2021-11-28T17:00:12.862Z"
   },
   {
    "duration": 26,
    "start_time": "2021-11-28T17:00:12.905Z"
   },
   {
    "duration": 37,
    "start_time": "2021-11-28T17:00:12.933Z"
   },
   {
    "duration": 487,
    "start_time": "2021-11-28T17:00:12.971Z"
   },
   {
    "duration": 395,
    "start_time": "2021-11-28T17:00:13.459Z"
   },
   {
    "duration": 530,
    "start_time": "2021-11-28T17:00:13.855Z"
   },
   {
    "duration": 18,
    "start_time": "2021-11-28T17:00:14.387Z"
   },
   {
    "duration": 9,
    "start_time": "2021-11-28T17:00:14.406Z"
   },
   {
    "duration": 7,
    "start_time": "2021-11-28T17:00:14.417Z"
   },
   {
    "duration": 22,
    "start_time": "2021-11-28T17:00:14.426Z"
   },
   {
    "duration": 6,
    "start_time": "2021-11-28T17:00:14.450Z"
   },
   {
    "duration": 19,
    "start_time": "2021-11-28T17:00:14.458Z"
   },
   {
    "duration": 7,
    "start_time": "2021-11-28T17:00:14.479Z"
   },
   {
    "duration": 5,
    "start_time": "2021-11-28T17:03:15.756Z"
   },
   {
    "duration": 5,
    "start_time": "2021-11-28T17:03:33.157Z"
   },
   {
    "duration": 5,
    "start_time": "2021-11-28T17:06:18.628Z"
   },
   {
    "duration": 6,
    "start_time": "2021-11-28T17:06:56.244Z"
   },
   {
    "duration": 6,
    "start_time": "2021-11-28T17:07:02.424Z"
   },
   {
    "duration": 6,
    "start_time": "2021-11-28T17:10:27.920Z"
   },
   {
    "duration": 1304,
    "start_time": "2021-11-28T17:14:19.112Z"
   },
   {
    "duration": 152,
    "start_time": "2021-11-28T17:14:20.419Z"
   },
   {
    "duration": 24,
    "start_time": "2021-11-28T17:14:20.574Z"
   },
   {
    "duration": 148,
    "start_time": "2021-11-28T17:14:20.601Z"
   },
   {
    "duration": 16,
    "start_time": "2021-11-28T17:14:20.750Z"
   },
   {
    "duration": 111,
    "start_time": "2021-11-28T17:14:20.767Z"
   },
   {
    "duration": 22,
    "start_time": "2021-11-28T17:14:20.880Z"
   },
   {
    "duration": 43,
    "start_time": "2021-11-28T17:14:20.904Z"
   },
   {
    "duration": 10,
    "start_time": "2021-11-28T17:14:20.950Z"
   },
   {
    "duration": 55,
    "start_time": "2021-11-28T17:14:20.962Z"
   },
   {
    "duration": 17,
    "start_time": "2021-11-28T17:14:21.019Z"
   },
   {
    "duration": 209,
    "start_time": "2021-11-28T17:14:21.038Z"
   },
   {
    "duration": 60,
    "start_time": "2021-11-28T17:14:21.249Z"
   },
   {
    "duration": 14,
    "start_time": "2021-11-28T17:14:21.311Z"
   },
   {
    "duration": 3,
    "start_time": "2021-11-28T17:14:21.347Z"
   },
   {
    "duration": 105,
    "start_time": "2021-11-28T17:14:21.352Z"
   },
   {
    "duration": 27,
    "start_time": "2021-11-28T17:14:21.459Z"
   },
   {
    "duration": 31,
    "start_time": "2021-11-28T17:14:21.488Z"
   },
   {
    "duration": 30,
    "start_time": "2021-11-28T17:14:21.521Z"
   },
   {
    "duration": 33,
    "start_time": "2021-11-28T17:14:21.553Z"
   },
   {
    "duration": 45,
    "start_time": "2021-11-28T17:14:21.587Z"
   },
   {
    "duration": 45,
    "start_time": "2021-11-28T17:14:21.634Z"
   },
   {
    "duration": 20,
    "start_time": "2021-11-28T17:14:21.683Z"
   },
   {
    "duration": 45,
    "start_time": "2021-11-28T17:14:21.705Z"
   },
   {
    "duration": 22,
    "start_time": "2021-11-28T17:14:21.751Z"
   },
   {
    "duration": 30,
    "start_time": "2021-11-28T17:14:21.775Z"
   },
   {
    "duration": 10,
    "start_time": "2021-11-28T17:14:21.807Z"
   },
   {
    "duration": 94,
    "start_time": "2021-11-28T17:14:21.818Z"
   },
   {
    "duration": 76,
    "start_time": "2021-11-28T17:14:21.914Z"
   },
   {
    "duration": 84,
    "start_time": "2021-11-28T17:14:21.992Z"
   },
   {
    "duration": 127,
    "start_time": "2021-11-28T17:14:22.078Z"
   },
   {
    "duration": 114,
    "start_time": "2021-11-28T17:14:22.206Z"
   },
   {
    "duration": 145,
    "start_time": "2021-11-28T17:14:22.322Z"
   },
   {
    "duration": 11,
    "start_time": "2021-11-28T17:14:22.469Z"
   },
   {
    "duration": 12,
    "start_time": "2021-11-28T17:14:22.481Z"
   },
   {
    "duration": 15,
    "start_time": "2021-11-28T17:14:22.495Z"
   },
   {
    "duration": 43,
    "start_time": "2021-11-28T17:14:22.511Z"
   },
   {
    "duration": 14,
    "start_time": "2021-11-28T17:14:22.556Z"
   },
   {
    "duration": 84,
    "start_time": "2021-11-28T17:14:22.572Z"
   },
   {
    "duration": 16,
    "start_time": "2021-11-28T17:14:22.658Z"
   },
   {
    "duration": 38,
    "start_time": "2021-11-28T17:14:22.676Z"
   },
   {
    "duration": 14,
    "start_time": "2021-11-28T17:14:22.716Z"
   },
   {
    "duration": 28,
    "start_time": "2021-11-28T17:14:22.732Z"
   },
   {
    "duration": 20,
    "start_time": "2021-11-28T17:14:22.761Z"
   },
   {
    "duration": 19,
    "start_time": "2021-11-28T17:14:22.783Z"
   },
   {
    "duration": 49,
    "start_time": "2021-11-28T17:14:22.803Z"
   },
   {
    "duration": 10,
    "start_time": "2021-11-28T17:14:22.854Z"
   },
   {
    "duration": 12,
    "start_time": "2021-11-28T17:14:22.866Z"
   },
   {
    "duration": 486,
    "start_time": "2021-11-28T17:14:22.879Z"
   },
   {
    "duration": 409,
    "start_time": "2021-11-28T17:14:23.367Z"
   },
   {
    "duration": 514,
    "start_time": "2021-11-28T17:14:23.778Z"
   },
   {
    "duration": 13,
    "start_time": "2021-11-28T17:14:24.293Z"
   },
   {
    "duration": 6,
    "start_time": "2021-11-28T17:14:24.308Z"
   },
   {
    "duration": 6,
    "start_time": "2021-11-28T17:14:24.316Z"
   },
   {
    "duration": 23,
    "start_time": "2021-11-28T17:14:24.324Z"
   },
   {
    "duration": 10,
    "start_time": "2021-11-28T17:14:24.349Z"
   },
   {
    "duration": 17,
    "start_time": "2021-11-28T17:14:24.361Z"
   },
   {
    "duration": 6,
    "start_time": "2021-11-28T17:14:24.380Z"
   },
   {
    "duration": 6,
    "start_time": "2021-11-28T17:14:24.388Z"
   },
   {
    "duration": 7,
    "start_time": "2021-11-28T17:14:24.396Z"
   },
   {
    "duration": 11,
    "start_time": "2021-11-28T17:14:24.404Z"
   },
   {
    "duration": 3,
    "start_time": "2021-11-28T17:21:02.970Z"
   },
   {
    "duration": 1450,
    "start_time": "2021-11-28T17:21:25.361Z"
   },
   {
    "duration": 218,
    "start_time": "2021-11-28T17:21:26.813Z"
   },
   {
    "duration": 20,
    "start_time": "2021-11-28T17:21:27.032Z"
   },
   {
    "duration": 364,
    "start_time": "2021-11-28T17:21:27.054Z"
   },
   {
    "duration": 15,
    "start_time": "2021-11-28T17:21:27.420Z"
   },
   {
    "duration": 94,
    "start_time": "2021-11-28T17:21:27.437Z"
   },
   {
    "duration": 13,
    "start_time": "2021-11-28T17:21:27.533Z"
   },
   {
    "duration": 20,
    "start_time": "2021-11-28T17:21:27.549Z"
   },
   {
    "duration": 5,
    "start_time": "2021-11-28T17:21:27.571Z"
   },
   {
    "duration": 45,
    "start_time": "2021-11-28T17:21:27.578Z"
   },
   {
    "duration": 6,
    "start_time": "2021-11-28T17:21:27.624Z"
   },
   {
    "duration": 178,
    "start_time": "2021-11-28T17:21:27.631Z"
   },
   {
    "duration": 68,
    "start_time": "2021-11-28T17:21:27.810Z"
   },
   {
    "duration": 11,
    "start_time": "2021-11-28T17:21:27.880Z"
   },
   {
    "duration": 2,
    "start_time": "2021-11-28T17:21:27.893Z"
   },
   {
    "duration": 76,
    "start_time": "2021-11-28T17:21:27.896Z"
   },
   {
    "duration": 27,
    "start_time": "2021-11-28T17:21:27.973Z"
   },
   {
    "duration": 43,
    "start_time": "2021-11-28T17:21:28.001Z"
   },
   {
    "duration": 16,
    "start_time": "2021-11-28T17:21:28.046Z"
   },
   {
    "duration": 14,
    "start_time": "2021-11-28T17:21:28.064Z"
   },
   {
    "duration": 29,
    "start_time": "2021-11-28T17:21:28.080Z"
   },
   {
    "duration": 68,
    "start_time": "2021-11-28T17:21:28.110Z"
   },
   {
    "duration": 18,
    "start_time": "2021-11-28T17:21:28.182Z"
   },
   {
    "duration": 51,
    "start_time": "2021-11-28T17:21:28.202Z"
   },
   {
    "duration": 22,
    "start_time": "2021-11-28T17:21:28.255Z"
   },
   {
    "duration": 29,
    "start_time": "2021-11-28T17:21:28.279Z"
   },
   {
    "duration": 34,
    "start_time": "2021-11-28T17:21:28.310Z"
   },
   {
    "duration": 70,
    "start_time": "2021-11-28T17:21:28.346Z"
   },
   {
    "duration": 75,
    "start_time": "2021-11-28T17:21:28.418Z"
   },
   {
    "duration": 79,
    "start_time": "2021-11-28T17:21:28.495Z"
   },
   {
    "duration": 183,
    "start_time": "2021-11-28T17:21:28.576Z"
   },
   {
    "duration": 164,
    "start_time": "2021-11-28T17:21:28.761Z"
   },
   {
    "duration": 191,
    "start_time": "2021-11-28T17:21:28.926Z"
   },
   {
    "duration": 10,
    "start_time": "2021-11-28T17:21:29.119Z"
   },
   {
    "duration": 22,
    "start_time": "2021-11-28T17:21:29.131Z"
   },
   {
    "duration": 14,
    "start_time": "2021-11-28T17:21:29.154Z"
   },
   {
    "duration": 12,
    "start_time": "2021-11-28T17:21:29.169Z"
   },
   {
    "duration": 11,
    "start_time": "2021-11-28T17:21:29.182Z"
   },
   {
    "duration": 86,
    "start_time": "2021-11-28T17:21:29.194Z"
   },
   {
    "duration": 14,
    "start_time": "2021-11-28T17:21:29.281Z"
   },
   {
    "duration": 12,
    "start_time": "2021-11-28T17:21:29.297Z"
   },
   {
    "duration": 36,
    "start_time": "2021-11-28T17:21:29.310Z"
   },
   {
    "duration": 28,
    "start_time": "2021-11-28T17:21:29.348Z"
   },
   {
    "duration": 21,
    "start_time": "2021-11-28T17:21:29.377Z"
   },
   {
    "duration": 14,
    "start_time": "2021-11-28T17:21:29.399Z"
   },
   {
    "duration": 54,
    "start_time": "2021-11-28T17:21:29.415Z"
   },
   {
    "duration": 9,
    "start_time": "2021-11-28T17:21:29.471Z"
   },
   {
    "duration": 13,
    "start_time": "2021-11-28T17:21:29.482Z"
   },
   {
    "duration": 571,
    "start_time": "2021-11-28T17:21:29.497Z"
   },
   {
    "duration": 566,
    "start_time": "2021-11-28T17:21:30.070Z"
   },
   {
    "duration": 529,
    "start_time": "2021-11-28T17:21:30.638Z"
   },
   {
    "duration": 12,
    "start_time": "2021-11-28T17:21:31.168Z"
   },
   {
    "duration": 16,
    "start_time": "2021-11-28T17:21:31.182Z"
   },
   {
    "duration": 31,
    "start_time": "2021-11-28T17:21:31.199Z"
   },
   {
    "duration": 30,
    "start_time": "2021-11-28T17:21:31.231Z"
   },
   {
    "duration": 29,
    "start_time": "2021-11-28T17:21:31.262Z"
   },
   {
    "duration": 30,
    "start_time": "2021-11-28T17:21:31.293Z"
   },
   {
    "duration": 11,
    "start_time": "2021-11-28T17:21:31.324Z"
   },
   {
    "duration": 20,
    "start_time": "2021-11-28T17:21:31.337Z"
   },
   {
    "duration": 12,
    "start_time": "2021-11-28T17:21:31.358Z"
   },
   {
    "duration": 22,
    "start_time": "2021-11-28T17:21:31.372Z"
   },
   {
    "duration": 5,
    "start_time": "2021-11-28T17:38:11.868Z"
   },
   {
    "duration": 5,
    "start_time": "2021-11-28T17:38:19.100Z"
   },
   {
    "duration": 465,
    "start_time": "2021-11-28T18:15:01.397Z"
   },
   {
    "duration": 1140,
    "start_time": "2021-11-28T18:25:20.552Z"
   },
   {
    "duration": 209,
    "start_time": "2021-11-28T18:25:21.694Z"
   },
   {
    "duration": 19,
    "start_time": "2021-11-28T18:25:21.905Z"
   },
   {
    "duration": 362,
    "start_time": "2021-11-28T18:25:21.926Z"
   },
   {
    "duration": 17,
    "start_time": "2021-11-28T18:25:22.290Z"
   },
   {
    "duration": 87,
    "start_time": "2021-11-28T18:25:22.309Z"
   },
   {
    "duration": 14,
    "start_time": "2021-11-28T18:25:22.398Z"
   },
   {
    "duration": 22,
    "start_time": "2021-11-28T18:25:22.415Z"
   },
   {
    "duration": 9,
    "start_time": "2021-11-28T18:25:22.439Z"
   },
   {
    "duration": 44,
    "start_time": "2021-11-28T18:25:22.450Z"
   },
   {
    "duration": 6,
    "start_time": "2021-11-28T18:25:22.495Z"
   },
   {
    "duration": 203,
    "start_time": "2021-11-28T18:25:22.503Z"
   },
   {
    "duration": 63,
    "start_time": "2021-11-28T18:25:22.708Z"
   },
   {
    "duration": 11,
    "start_time": "2021-11-28T18:25:22.773Z"
   },
   {
    "duration": 7,
    "start_time": "2021-11-28T18:25:22.785Z"
   },
   {
    "duration": 78,
    "start_time": "2021-11-28T18:25:22.793Z"
   },
   {
    "duration": 25,
    "start_time": "2021-11-28T18:25:22.873Z"
   },
   {
    "duration": 24,
    "start_time": "2021-11-28T18:25:22.900Z"
   },
   {
    "duration": 29,
    "start_time": "2021-11-28T18:25:22.925Z"
   },
   {
    "duration": 12,
    "start_time": "2021-11-28T18:25:22.956Z"
   },
   {
    "duration": 28,
    "start_time": "2021-11-28T18:25:22.969Z"
   },
   {
    "duration": 64,
    "start_time": "2021-11-28T18:25:22.998Z"
   },
   {
    "duration": 19,
    "start_time": "2021-11-28T18:25:23.065Z"
   },
   {
    "duration": 35,
    "start_time": "2021-11-28T18:25:23.087Z"
   },
   {
    "duration": 34,
    "start_time": "2021-11-28T18:25:23.123Z"
   },
   {
    "duration": 28,
    "start_time": "2021-11-28T18:25:23.159Z"
   },
   {
    "duration": 16,
    "start_time": "2021-11-28T18:25:23.188Z"
   },
   {
    "duration": 84,
    "start_time": "2021-11-28T18:25:23.206Z"
   },
   {
    "duration": 68,
    "start_time": "2021-11-28T18:25:23.292Z"
   },
   {
    "duration": 70,
    "start_time": "2021-11-28T18:25:23.362Z"
   },
   {
    "duration": 129,
    "start_time": "2021-11-28T18:25:23.434Z"
   },
   {
    "duration": 108,
    "start_time": "2021-11-28T18:25:23.565Z"
   },
   {
    "duration": 133,
    "start_time": "2021-11-28T18:25:23.675Z"
   },
   {
    "duration": 11,
    "start_time": "2021-11-28T18:25:23.810Z"
   },
   {
    "duration": 27,
    "start_time": "2021-11-28T18:25:23.823Z"
   },
   {
    "duration": 14,
    "start_time": "2021-11-28T18:25:23.852Z"
   },
   {
    "duration": 11,
    "start_time": "2021-11-28T18:25:23.868Z"
   },
   {
    "duration": 12,
    "start_time": "2021-11-28T18:25:23.881Z"
   },
   {
    "duration": 78,
    "start_time": "2021-11-28T18:25:23.895Z"
   },
   {
    "duration": 13,
    "start_time": "2021-11-28T18:25:23.975Z"
   },
   {
    "duration": 14,
    "start_time": "2021-11-28T18:25:23.989Z"
   },
   {
    "duration": 21,
    "start_time": "2021-11-28T18:25:24.005Z"
   },
   {
    "duration": 34,
    "start_time": "2021-11-28T18:25:24.028Z"
   },
   {
    "duration": 21,
    "start_time": "2021-11-28T18:25:24.064Z"
   },
   {
    "duration": 17,
    "start_time": "2021-11-28T18:25:24.087Z"
   },
   {
    "duration": 39,
    "start_time": "2021-11-28T18:25:24.106Z"
   },
   {
    "duration": 11,
    "start_time": "2021-11-28T18:25:24.147Z"
   },
   {
    "duration": 43,
    "start_time": "2021-11-28T18:25:24.160Z"
   },
   {
    "duration": 440,
    "start_time": "2021-11-28T18:25:24.204Z"
   },
   {
    "duration": 400,
    "start_time": "2021-11-28T18:25:24.646Z"
   },
   {
    "duration": 504,
    "start_time": "2021-11-28T18:25:25.048Z"
   },
   {
    "duration": 13,
    "start_time": "2021-11-28T18:25:25.554Z"
   },
   {
    "duration": 19,
    "start_time": "2021-11-28T18:25:25.569Z"
   },
   {
    "duration": 18,
    "start_time": "2021-11-28T18:25:25.589Z"
   },
   {
    "duration": 28,
    "start_time": "2021-11-28T18:25:25.609Z"
   },
   {
    "duration": 22,
    "start_time": "2021-11-28T18:25:25.638Z"
   },
   {
    "duration": 25,
    "start_time": "2021-11-28T18:25:25.661Z"
   },
   {
    "duration": 16,
    "start_time": "2021-11-28T18:25:25.687Z"
   },
   {
    "duration": 13,
    "start_time": "2021-11-28T18:25:25.705Z"
   },
   {
    "duration": 27,
    "start_time": "2021-11-28T18:25:25.720Z"
   },
   {
    "duration": 36,
    "start_time": "2021-11-28T18:25:25.749Z"
   },
   {
    "duration": 1232,
    "start_time": "2021-11-29T12:24:34.076Z"
   },
   {
    "duration": 167,
    "start_time": "2021-11-29T12:24:35.311Z"
   },
   {
    "duration": 28,
    "start_time": "2021-11-29T12:24:35.481Z"
   },
   {
    "duration": 157,
    "start_time": "2021-11-29T12:24:35.511Z"
   },
   {
    "duration": 22,
    "start_time": "2021-11-29T12:24:35.670Z"
   },
   {
    "duration": 107,
    "start_time": "2021-11-29T12:24:35.694Z"
   },
   {
    "duration": 21,
    "start_time": "2021-11-29T12:24:35.803Z"
   },
   {
    "duration": 27,
    "start_time": "2021-11-29T12:24:35.828Z"
   },
   {
    "duration": 13,
    "start_time": "2021-11-29T12:24:35.858Z"
   },
   {
    "duration": 46,
    "start_time": "2021-11-29T12:24:35.873Z"
   },
   {
    "duration": 9,
    "start_time": "2021-11-29T12:24:35.921Z"
   },
   {
    "duration": 196,
    "start_time": "2021-11-29T12:24:35.932Z"
   },
   {
    "duration": 72,
    "start_time": "2021-11-29T12:24:36.130Z"
   },
   {
    "duration": 16,
    "start_time": "2021-11-29T12:24:36.204Z"
   },
   {
    "duration": 21,
    "start_time": "2021-11-29T12:24:36.222Z"
   },
   {
    "duration": 82,
    "start_time": "2021-11-29T12:24:36.245Z"
   },
   {
    "duration": 36,
    "start_time": "2021-11-29T12:24:36.329Z"
   },
   {
    "duration": 26,
    "start_time": "2021-11-29T12:24:36.366Z"
   },
   {
    "duration": 12,
    "start_time": "2021-11-29T12:24:36.394Z"
   },
   {
    "duration": 20,
    "start_time": "2021-11-29T12:24:36.407Z"
   },
   {
    "duration": 55,
    "start_time": "2021-11-29T12:24:36.429Z"
   },
   {
    "duration": 48,
    "start_time": "2021-11-29T12:24:36.486Z"
   },
   {
    "duration": 37,
    "start_time": "2021-11-29T12:24:36.539Z"
   },
   {
    "duration": 36,
    "start_time": "2021-11-29T12:24:36.579Z"
   },
   {
    "duration": 53,
    "start_time": "2021-11-29T12:24:36.617Z"
   },
   {
    "duration": 33,
    "start_time": "2021-11-29T12:24:36.672Z"
   },
   {
    "duration": 23,
    "start_time": "2021-11-29T12:24:36.706Z"
   },
   {
    "duration": 76,
    "start_time": "2021-11-29T12:24:36.731Z"
   },
   {
    "duration": 61,
    "start_time": "2021-11-29T12:24:36.809Z"
   },
   {
    "duration": 59,
    "start_time": "2021-11-29T12:24:36.871Z"
   },
   {
    "duration": 106,
    "start_time": "2021-11-29T12:24:36.932Z"
   },
   {
    "duration": 92,
    "start_time": "2021-11-29T12:24:37.040Z"
   },
   {
    "duration": 104,
    "start_time": "2021-11-29T12:24:37.134Z"
   },
   {
    "duration": 10,
    "start_time": "2021-11-29T12:24:37.240Z"
   },
   {
    "duration": 28,
    "start_time": "2021-11-29T12:24:37.252Z"
   },
   {
    "duration": 33,
    "start_time": "2021-11-29T12:24:37.281Z"
   },
   {
    "duration": 28,
    "start_time": "2021-11-29T12:24:37.316Z"
   },
   {
    "duration": 46,
    "start_time": "2021-11-29T12:24:37.346Z"
   },
   {
    "duration": 50,
    "start_time": "2021-11-29T12:24:37.393Z"
   },
   {
    "duration": 25,
    "start_time": "2021-11-29T12:24:37.444Z"
   },
   {
    "duration": 27,
    "start_time": "2021-11-29T12:24:37.471Z"
   },
   {
    "duration": 20,
    "start_time": "2021-11-29T12:24:37.500Z"
   },
   {
    "duration": 26,
    "start_time": "2021-11-29T12:24:37.522Z"
   },
   {
    "duration": 28,
    "start_time": "2021-11-29T12:24:37.550Z"
   },
   {
    "duration": 31,
    "start_time": "2021-11-29T12:24:37.580Z"
   },
   {
    "duration": 41,
    "start_time": "2021-11-29T12:24:37.613Z"
   },
   {
    "duration": 20,
    "start_time": "2021-11-29T12:24:37.656Z"
   },
   {
    "duration": 35,
    "start_time": "2021-11-29T12:24:37.678Z"
   },
   {
    "duration": 496,
    "start_time": "2021-11-29T12:24:37.715Z"
   },
   {
    "duration": 569,
    "start_time": "2021-11-29T12:24:38.212Z"
   },
   {
    "duration": 506,
    "start_time": "2021-11-29T12:24:38.783Z"
   },
   {
    "duration": 13,
    "start_time": "2021-11-29T12:24:39.291Z"
   },
   {
    "duration": 7,
    "start_time": "2021-11-29T12:24:39.305Z"
   },
   {
    "duration": 5,
    "start_time": "2021-11-29T12:24:39.314Z"
   },
   {
    "duration": 8,
    "start_time": "2021-11-29T12:24:39.321Z"
   },
   {
    "duration": 32,
    "start_time": "2021-11-29T12:24:39.331Z"
   },
   {
    "duration": 17,
    "start_time": "2021-11-29T12:24:39.366Z"
   },
   {
    "duration": 6,
    "start_time": "2021-11-29T12:24:39.385Z"
   },
   {
    "duration": 7,
    "start_time": "2021-11-29T12:24:39.393Z"
   },
   {
    "duration": 8,
    "start_time": "2021-11-29T12:24:39.402Z"
   },
   {
    "duration": 14,
    "start_time": "2021-11-29T12:24:39.411Z"
   },
   {
    "duration": 12,
    "start_time": "2021-11-29T12:48:57.362Z"
   },
   {
    "duration": 9,
    "start_time": "2021-11-29T12:49:08.548Z"
   },
   {
    "duration": 414,
    "start_time": "2021-11-29T17:43:46.064Z"
   },
   {
    "duration": 1502,
    "start_time": "2021-11-29T17:43:54.529Z"
   },
   {
    "duration": 210,
    "start_time": "2021-11-29T17:44:03.932Z"
   },
   {
    "duration": 8698,
    "start_time": "2021-11-29T17:44:56.402Z"
   },
   {
    "duration": 214,
    "start_time": "2021-11-29T17:45:24.220Z"
   },
   {
    "duration": 260,
    "start_time": "2021-11-29T17:45:38.809Z"
   },
   {
    "duration": 280,
    "start_time": "2021-11-29T17:45:45.435Z"
   },
   {
    "duration": 284,
    "start_time": "2021-11-29T17:46:25.872Z"
   },
   {
    "duration": 277,
    "start_time": "2021-11-29T17:47:22.392Z"
   },
   {
    "duration": 276,
    "start_time": "2021-11-29T17:48:06.593Z"
   },
   {
    "duration": 283,
    "start_time": "2021-11-29T17:48:19.224Z"
   },
   {
    "duration": 6194,
    "start_time": "2021-11-29T17:50:18.967Z"
   },
   {
    "duration": 268,
    "start_time": "2021-11-29T17:50:36.651Z"
   },
   {
    "duration": 509,
    "start_time": "2021-11-29T17:54:08.093Z"
   },
   {
    "duration": 611,
    "start_time": "2021-11-29T17:54:52.122Z"
   },
   {
    "duration": 381,
    "start_time": "2021-11-29T17:55:25.063Z"
   },
   {
    "duration": 254,
    "start_time": "2021-11-29T17:57:13.317Z"
   },
   {
    "duration": 240,
    "start_time": "2021-11-29T18:07:02.115Z"
   },
   {
    "duration": 243,
    "start_time": "2021-11-29T18:07:10.721Z"
   },
   {
    "duration": 261,
    "start_time": "2021-11-29T18:07:45.338Z"
   },
   {
    "duration": 282,
    "start_time": "2021-11-29T18:07:52.069Z"
   },
   {
    "duration": 524,
    "start_time": "2021-11-29T18:12:48.719Z"
   },
   {
    "duration": 241,
    "start_time": "2021-11-29T18:13:19.180Z"
   },
   {
    "duration": 613,
    "start_time": "2021-11-29T18:13:36.161Z"
   },
   {
    "duration": 249,
    "start_time": "2021-11-29T18:13:44.169Z"
   },
   {
    "duration": 889,
    "start_time": "2021-11-29T18:47:34.374Z"
   },
   {
    "duration": 1480,
    "start_time": "2021-11-29T18:47:55.202Z"
   },
   {
    "duration": 220,
    "start_time": "2021-11-29T18:47:56.685Z"
   },
   {
    "duration": 29,
    "start_time": "2021-11-29T18:47:56.908Z"
   },
   {
    "duration": 270,
    "start_time": "2021-11-29T18:47:56.940Z"
   },
   {
    "duration": 37,
    "start_time": "2021-11-29T18:47:57.213Z"
   },
   {
    "duration": 175,
    "start_time": "2021-11-29T18:47:57.253Z"
   },
   {
    "duration": 30,
    "start_time": "2021-11-29T18:47:57.430Z"
   },
   {
    "duration": 48,
    "start_time": "2021-11-29T18:47:57.464Z"
   },
   {
    "duration": 11,
    "start_time": "2021-11-29T18:47:57.515Z"
   },
   {
    "duration": 51,
    "start_time": "2021-11-29T18:47:57.529Z"
   },
   {
    "duration": 11,
    "start_time": "2021-11-29T18:47:57.583Z"
   },
   {
    "duration": 399,
    "start_time": "2021-11-29T18:47:57.597Z"
   },
   {
    "duration": 111,
    "start_time": "2021-11-29T18:47:57.999Z"
   },
   {
    "duration": 19,
    "start_time": "2021-11-29T18:47:58.113Z"
   },
   {
    "duration": 123,
    "start_time": "2021-11-29T18:47:58.134Z"
   },
   {
    "duration": 53,
    "start_time": "2021-11-29T18:47:58.260Z"
   },
   {
    "duration": 40,
    "start_time": "2021-11-29T18:47:58.315Z"
   },
   {
    "duration": 41,
    "start_time": "2021-11-29T18:47:58.357Z"
   },
   {
    "duration": 21,
    "start_time": "2021-11-29T18:47:58.401Z"
   },
   {
    "duration": 73,
    "start_time": "2021-11-29T18:47:58.425Z"
   },
   {
    "duration": 3,
    "start_time": "2021-11-29T18:47:58.500Z"
   },
   {
    "duration": 87,
    "start_time": "2021-11-29T18:47:58.506Z"
   },
   {
    "duration": 29,
    "start_time": "2021-11-29T18:47:58.599Z"
   },
   {
    "duration": 76,
    "start_time": "2021-11-29T18:47:58.631Z"
   },
   {
    "duration": 35,
    "start_time": "2021-11-29T18:47:58.711Z"
   },
   {
    "duration": 70,
    "start_time": "2021-11-29T18:47:58.748Z"
   },
   {
    "duration": 16,
    "start_time": "2021-11-29T18:47:58.821Z"
   },
   {
    "duration": 158,
    "start_time": "2021-11-29T18:47:58.840Z"
   },
   {
    "duration": 121,
    "start_time": "2021-11-29T18:47:59.001Z"
   },
   {
    "duration": 140,
    "start_time": "2021-11-29T18:47:59.125Z"
   },
   {
    "duration": 205,
    "start_time": "2021-11-29T18:47:59.268Z"
   },
   {
    "duration": 186,
    "start_time": "2021-11-29T18:47:59.476Z"
   },
   {
    "duration": 212,
    "start_time": "2021-11-29T18:47:59.664Z"
   },
   {
    "duration": 18,
    "start_time": "2021-11-29T18:47:59.882Z"
   },
   {
    "duration": 19,
    "start_time": "2021-11-29T18:47:59.902Z"
   },
   {
    "duration": 24,
    "start_time": "2021-11-29T18:47:59.923Z"
   },
   {
    "duration": 48,
    "start_time": "2021-11-29T18:47:59.950Z"
   },
   {
    "duration": 18,
    "start_time": "2021-11-29T18:48:00.001Z"
   },
   {
    "duration": 127,
    "start_time": "2021-11-29T18:48:00.021Z"
   },
   {
    "duration": 36,
    "start_time": "2021-11-29T18:48:00.151Z"
   },
   {
    "duration": 22,
    "start_time": "2021-11-29T18:48:00.189Z"
   },
   {
    "duration": 42,
    "start_time": "2021-11-29T18:48:00.214Z"
   },
   {
    "duration": 56,
    "start_time": "2021-11-29T18:48:00.259Z"
   },
   {
    "duration": 48,
    "start_time": "2021-11-29T18:48:00.318Z"
   },
   {
    "duration": 35,
    "start_time": "2021-11-29T18:48:00.382Z"
   },
   {
    "duration": 78,
    "start_time": "2021-11-29T18:48:00.420Z"
   },
   {
    "duration": 18,
    "start_time": "2021-11-29T18:48:00.501Z"
   },
   {
    "duration": 29,
    "start_time": "2021-11-29T18:48:00.522Z"
   },
   {
    "duration": 728,
    "start_time": "2021-11-29T18:48:00.554Z"
   },
   {
    "duration": 700,
    "start_time": "2021-11-29T18:48:01.285Z"
   },
   {
    "duration": 885,
    "start_time": "2021-11-29T18:48:01.989Z"
   },
   {
    "duration": 922,
    "start_time": "2021-11-29T18:48:02.877Z"
   },
   {
    "duration": -44006,
    "start_time": "2021-11-29T18:48:47.808Z"
   },
   {
    "duration": -44010,
    "start_time": "2021-11-29T18:48:47.814Z"
   },
   {
    "duration": -44017,
    "start_time": "2021-11-29T18:48:47.822Z"
   },
   {
    "duration": -44022,
    "start_time": "2021-11-29T18:48:47.829Z"
   },
   {
    "duration": -44029,
    "start_time": "2021-11-29T18:48:47.837Z"
   },
   {
    "duration": -44034,
    "start_time": "2021-11-29T18:48:47.844Z"
   },
   {
    "duration": -44043,
    "start_time": "2021-11-29T18:48:47.854Z"
   },
   {
    "duration": -44050,
    "start_time": "2021-11-29T18:48:47.862Z"
   },
   {
    "duration": -44056,
    "start_time": "2021-11-29T18:48:47.870Z"
   },
   {
    "duration": -44062,
    "start_time": "2021-11-29T18:48:47.877Z"
   },
   {
    "duration": 783,
    "start_time": "2021-11-29T18:49:18.144Z"
   },
   {
    "duration": 1134,
    "start_time": "2021-11-29T18:49:38.356Z"
   },
   {
    "duration": 1026,
    "start_time": "2021-11-29T18:49:43.711Z"
   },
   {
    "duration": 994,
    "start_time": "2021-11-29T18:50:41.533Z"
   },
   {
    "duration": 964,
    "start_time": "2021-11-29T18:53:29.777Z"
   },
   {
    "duration": 520,
    "start_time": "2021-11-29T18:53:45.475Z"
   },
   {
    "duration": 529,
    "start_time": "2021-11-29T18:53:57.401Z"
   },
   {
    "duration": 619,
    "start_time": "2021-11-29T18:54:53.107Z"
   },
   {
    "duration": 531,
    "start_time": "2021-11-29T18:55:57.103Z"
   },
   {
    "duration": 609,
    "start_time": "2021-11-29T18:56:09.473Z"
   },
   {
    "duration": 497,
    "start_time": "2021-11-29T18:56:28.180Z"
   },
   {
    "duration": 960,
    "start_time": "2021-11-29T18:57:53.573Z"
   },
   {
    "duration": 588,
    "start_time": "2021-11-29T18:58:10.861Z"
   },
   {
    "duration": 594,
    "start_time": "2021-11-29T18:58:21.717Z"
   },
   {
    "duration": 730,
    "start_time": "2021-11-29T18:58:37.388Z"
   },
   {
    "duration": 601,
    "start_time": "2021-11-29T19:02:34.765Z"
   },
   {
    "duration": 691,
    "start_time": "2021-11-29T19:03:04.546Z"
   },
   {
    "duration": 688,
    "start_time": "2021-11-29T19:03:27.550Z"
   },
   {
    "duration": 709,
    "start_time": "2021-11-29T19:03:34.254Z"
   },
   {
    "duration": 847,
    "start_time": "2021-11-29T19:03:46.415Z"
   },
   {
    "duration": 709,
    "start_time": "2021-11-29T19:04:03.760Z"
   },
   {
    "duration": 940,
    "start_time": "2021-11-29T19:04:15.742Z"
   },
   {
    "duration": 630,
    "start_time": "2021-11-29T19:04:32.677Z"
   },
   {
    "duration": 632,
    "start_time": "2021-11-29T19:04:39.430Z"
   },
   {
    "duration": 820,
    "start_time": "2021-11-29T19:05:36.222Z"
   },
   {
    "duration": 1065,
    "start_time": "2021-11-29T19:05:54.022Z"
   },
   {
    "duration": 487,
    "start_time": "2021-11-29T19:07:20.765Z"
   },
   {
    "duration": 119,
    "start_time": "2021-11-29T19:09:34.266Z"
   },
   {
    "duration": 587,
    "start_time": "2021-11-29T19:09:40.825Z"
   },
   {
    "duration": 716,
    "start_time": "2021-11-29T19:10:17.831Z"
   },
   {
    "duration": 650,
    "start_time": "2021-11-29T19:10:48.444Z"
   },
   {
    "duration": 664,
    "start_time": "2021-11-29T19:11:23.801Z"
   },
   {
    "duration": 1002,
    "start_time": "2021-11-29T19:11:45.958Z"
   },
   {
    "duration": 158,
    "start_time": "2021-11-29T19:17:25.707Z"
   },
   {
    "duration": 911,
    "start_time": "2021-11-29T19:17:47.648Z"
   },
   {
    "duration": 911,
    "start_time": "2021-11-29T19:18:43.101Z"
   },
   {
    "duration": 1254,
    "start_time": "2021-11-29T19:19:21.797Z"
   },
   {
    "duration": 1125,
    "start_time": "2021-11-29T19:19:47.227Z"
   },
   {
    "duration": 749,
    "start_time": "2021-11-29T19:20:17.928Z"
   },
   {
    "duration": 1178,
    "start_time": "2021-11-29T19:21:28.324Z"
   },
   {
    "duration": 724,
    "start_time": "2021-11-29T19:21:56.487Z"
   },
   {
    "duration": 1035,
    "start_time": "2021-11-29T19:23:00.283Z"
   },
   {
    "duration": 818,
    "start_time": "2021-11-29T19:23:12.171Z"
   },
   {
    "duration": 710,
    "start_time": "2021-11-29T19:23:17.959Z"
   },
   {
    "duration": 937,
    "start_time": "2021-11-29T19:23:26.159Z"
   },
   {
    "duration": 798,
    "start_time": "2021-11-29T19:25:10.619Z"
   },
   {
    "duration": 883,
    "start_time": "2021-11-29T19:25:38.056Z"
   },
   {
    "duration": 1214,
    "start_time": "2021-11-29T19:34:15.909Z"
   },
   {
    "duration": 918,
    "start_time": "2021-11-29T19:34:30.295Z"
   },
   {
    "duration": 671,
    "start_time": "2021-11-29T19:34:50.554Z"
   },
   {
    "duration": 1037,
    "start_time": "2021-11-29T19:35:19.411Z"
   },
   {
    "duration": 850,
    "start_time": "2021-11-29T19:35:53.207Z"
   },
   {
    "duration": 547,
    "start_time": "2021-11-29T19:36:26.021Z"
   },
   {
    "duration": 1106,
    "start_time": "2021-11-29T19:36:38.028Z"
   },
   {
    "duration": 589,
    "start_time": "2021-11-29T19:36:58.433Z"
   },
   {
    "duration": 708,
    "start_time": "2021-11-29T19:37:21.962Z"
   },
   {
    "duration": 625,
    "start_time": "2021-11-29T19:37:51.433Z"
   },
   {
    "duration": 595,
    "start_time": "2021-11-29T19:40:06.115Z"
   },
   {
    "duration": 611,
    "start_time": "2021-11-29T19:40:32.310Z"
   },
   {
    "duration": 1007,
    "start_time": "2021-11-29T19:41:19.082Z"
   },
   {
    "duration": 659,
    "start_time": "2021-11-29T19:42:26.917Z"
   },
   {
    "duration": 727,
    "start_time": "2021-11-29T19:43:27.516Z"
   },
   {
    "duration": 952,
    "start_time": "2021-11-29T19:44:03.066Z"
   },
   {
    "duration": 1287,
    "start_time": "2021-11-29T19:46:10.807Z"
   },
   {
    "duration": 1262,
    "start_time": "2021-11-29T19:46:51.839Z"
   },
   {
    "duration": 1124,
    "start_time": "2021-11-29T19:47:23.701Z"
   },
   {
    "duration": 901,
    "start_time": "2021-11-29T19:47:58.472Z"
   },
   {
    "duration": 1643,
    "start_time": "2021-11-29T19:48:16.039Z"
   },
   {
    "duration": 1038,
    "start_time": "2021-11-29T19:49:19.862Z"
   },
   {
    "duration": 1031,
    "start_time": "2021-11-29T19:49:30.526Z"
   },
   {
    "duration": 1148,
    "start_time": "2021-11-29T19:49:41.489Z"
   },
   {
    "duration": 1309,
    "start_time": "2021-11-29T19:50:29.163Z"
   },
   {
    "duration": 1644,
    "start_time": "2021-11-29T19:50:55.531Z"
   },
   {
    "duration": 1139,
    "start_time": "2021-11-29T19:51:46.665Z"
   },
   {
    "duration": 1330,
    "start_time": "2021-11-29T19:52:00.332Z"
   },
   {
    "duration": 1046,
    "start_time": "2021-11-29T19:52:19.325Z"
   },
   {
    "duration": 1067,
    "start_time": "2021-11-29T19:52:29.160Z"
   },
   {
    "duration": 1185,
    "start_time": "2021-11-29T19:52:38.185Z"
   },
   {
    "duration": 1391,
    "start_time": "2021-11-29T19:53:39.206Z"
   },
   {
    "duration": 1228,
    "start_time": "2021-11-29T19:55:08.714Z"
   },
   {
    "duration": 1215,
    "start_time": "2021-11-29T19:55:57.429Z"
   },
   {
    "duration": 1234,
    "start_time": "2021-11-29T19:56:57.830Z"
   },
   {
    "duration": 1399,
    "start_time": "2021-11-29T19:57:30.171Z"
   },
   {
    "duration": 1801,
    "start_time": "2021-11-29T19:58:32.069Z"
   },
   {
    "duration": 1243,
    "start_time": "2021-11-29T19:58:52.784Z"
   },
   {
    "duration": 1391,
    "start_time": "2021-11-29T19:59:21.645Z"
   },
   {
    "duration": 1231,
    "start_time": "2021-11-29T20:04:29.331Z"
   },
   {
    "duration": 1488,
    "start_time": "2021-11-29T20:04:39.271Z"
   },
   {
    "duration": 1209,
    "start_time": "2021-11-29T20:05:22.906Z"
   },
   {
    "duration": 1383,
    "start_time": "2021-11-29T20:05:35.070Z"
   },
   {
    "duration": 1265,
    "start_time": "2021-11-29T20:05:48.688Z"
   },
   {
    "duration": 1270,
    "start_time": "2021-11-29T20:07:56.459Z"
   },
   {
    "duration": 1948,
    "start_time": "2021-11-29T20:08:22.218Z"
   },
   {
    "duration": 2057,
    "start_time": "2021-11-29T20:08:55.552Z"
   },
   {
    "duration": 1219,
    "start_time": "2021-11-29T20:09:57.656Z"
   },
   {
    "duration": 1322,
    "start_time": "2021-11-29T20:10:12.095Z"
   },
   {
    "duration": 1223,
    "start_time": "2021-11-29T20:11:20.577Z"
   },
   {
    "duration": 1525,
    "start_time": "2021-11-29T20:11:46.434Z"
   },
   {
    "duration": 1287,
    "start_time": "2021-11-29T20:12:00.239Z"
   },
   {
    "duration": 1557,
    "start_time": "2021-11-29T20:17:58.701Z"
   },
   {
    "duration": 235,
    "start_time": "2021-11-29T20:18:00.260Z"
   },
   {
    "duration": 28,
    "start_time": "2021-11-29T20:18:00.499Z"
   },
   {
    "duration": 211,
    "start_time": "2021-11-29T20:18:00.530Z"
   },
   {
    "duration": 23,
    "start_time": "2021-11-29T20:18:00.744Z"
   },
   {
    "duration": 183,
    "start_time": "2021-11-29T20:18:00.783Z"
   },
   {
    "duration": 24,
    "start_time": "2021-11-29T20:18:00.969Z"
   },
   {
    "duration": 34,
    "start_time": "2021-11-29T20:18:00.997Z"
   },
   {
    "duration": 43,
    "start_time": "2021-11-29T20:18:01.035Z"
   },
   {
    "duration": 66,
    "start_time": "2021-11-29T20:18:01.080Z"
   },
   {
    "duration": 12,
    "start_time": "2021-11-29T20:18:01.148Z"
   },
   {
    "duration": 305,
    "start_time": "2021-11-29T20:18:01.163Z"
   },
   {
    "duration": 100,
    "start_time": "2021-11-29T20:18:01.471Z"
   },
   {
    "duration": 22,
    "start_time": "2021-11-29T20:18:01.574Z"
   },
   {
    "duration": 121,
    "start_time": "2021-11-29T20:18:01.598Z"
   },
   {
    "duration": 42,
    "start_time": "2021-11-29T20:18:01.722Z"
   },
   {
    "duration": 38,
    "start_time": "2021-11-29T20:18:01.783Z"
   },
   {
    "duration": 21,
    "start_time": "2021-11-29T20:18:01.825Z"
   },
   {
    "duration": 54,
    "start_time": "2021-11-29T20:18:01.849Z"
   },
   {
    "duration": 49,
    "start_time": "2021-11-29T20:18:01.907Z"
   },
   {
    "duration": 24,
    "start_time": "2021-11-29T20:18:01.960Z"
   },
   {
    "duration": 81,
    "start_time": "2021-11-29T20:18:01.987Z"
   },
   {
    "duration": 34,
    "start_time": "2021-11-29T20:18:02.087Z"
   },
   {
    "duration": 75,
    "start_time": "2021-11-29T20:18:02.124Z"
   },
   {
    "duration": 35,
    "start_time": "2021-11-29T20:18:02.201Z"
   },
   {
    "duration": 69,
    "start_time": "2021-11-29T20:18:02.238Z"
   },
   {
    "duration": 16,
    "start_time": "2021-11-29T20:18:02.310Z"
   },
   {
    "duration": 170,
    "start_time": "2021-11-29T20:18:02.329Z"
   },
   {
    "duration": 147,
    "start_time": "2021-11-29T20:18:02.502Z"
   },
   {
    "duration": 136,
    "start_time": "2021-11-29T20:18:02.652Z"
   },
   {
    "duration": 219,
    "start_time": "2021-11-29T20:18:02.791Z"
   },
   {
    "duration": 207,
    "start_time": "2021-11-29T20:18:03.014Z"
   },
   {
    "duration": 232,
    "start_time": "2021-11-29T20:18:03.223Z"
   },
   {
    "duration": 33,
    "start_time": "2021-11-29T20:18:03.457Z"
   },
   {
    "duration": 20,
    "start_time": "2021-11-29T20:18:03.494Z"
   },
   {
    "duration": 24,
    "start_time": "2021-11-29T20:18:03.516Z"
   },
   {
    "duration": 43,
    "start_time": "2021-11-29T20:18:03.543Z"
   },
   {
    "duration": 19,
    "start_time": "2021-11-29T20:18:03.588Z"
   },
   {
    "duration": 200,
    "start_time": "2021-11-29T20:18:03.611Z"
   },
   {
    "duration": 36,
    "start_time": "2021-11-29T20:18:03.814Z"
   },
   {
    "duration": 57,
    "start_time": "2021-11-29T20:18:03.853Z"
   },
   {
    "duration": 26,
    "start_time": "2021-11-29T20:18:03.913Z"
   },
   {
    "duration": 56,
    "start_time": "2021-11-29T20:18:03.942Z"
   },
   {
    "duration": 36,
    "start_time": "2021-11-29T20:18:04.002Z"
   },
   {
    "duration": 53,
    "start_time": "2021-11-29T20:18:04.041Z"
   },
   {
    "duration": 37,
    "start_time": "2021-11-29T20:18:04.097Z"
   },
   {
    "duration": 48,
    "start_time": "2021-11-29T20:18:04.137Z"
   },
   {
    "duration": 22,
    "start_time": "2021-11-29T20:18:04.189Z"
   },
   {
    "duration": 1020,
    "start_time": "2021-11-29T20:18:04.214Z"
   },
   {
    "duration": 738,
    "start_time": "2021-11-29T20:18:05.238Z"
   },
   {
    "duration": 735,
    "start_time": "2021-11-29T20:18:05.981Z"
   },
   {
    "duration": 1256,
    "start_time": "2021-11-29T20:18:06.719Z"
   },
   {
    "duration": 21,
    "start_time": "2021-11-29T20:18:07.981Z"
   },
   {
    "duration": 11,
    "start_time": "2021-11-29T20:18:08.004Z"
   },
   {
    "duration": 11,
    "start_time": "2021-11-29T20:18:08.017Z"
   },
   {
    "duration": 8,
    "start_time": "2021-11-29T20:18:08.030Z"
   },
   {
    "duration": 9,
    "start_time": "2021-11-29T20:18:08.081Z"
   },
   {
    "duration": 31,
    "start_time": "2021-11-29T20:18:08.093Z"
   },
   {
    "duration": 12,
    "start_time": "2021-11-29T20:18:08.127Z"
   },
   {
    "duration": 43,
    "start_time": "2021-11-29T20:18:08.141Z"
   },
   {
    "duration": 7,
    "start_time": "2021-11-29T20:18:08.186Z"
   },
   {
    "duration": 7,
    "start_time": "2021-11-29T20:18:08.195Z"
   },
   {
    "duration": 1429,
    "start_time": "2021-11-29T20:25:06.910Z"
   },
   {
    "duration": 219,
    "start_time": "2021-11-29T20:25:08.342Z"
   },
   {
    "duration": 47,
    "start_time": "2021-11-29T20:25:08.565Z"
   },
   {
    "duration": 275,
    "start_time": "2021-11-29T20:25:08.615Z"
   },
   {
    "duration": 37,
    "start_time": "2021-11-29T20:25:08.893Z"
   },
   {
    "duration": 189,
    "start_time": "2021-11-29T20:25:08.933Z"
   },
   {
    "duration": 30,
    "start_time": "2021-11-29T20:25:09.125Z"
   },
   {
    "duration": 32,
    "start_time": "2021-11-29T20:25:09.181Z"
   },
   {
    "duration": 11,
    "start_time": "2021-11-29T20:25:09.217Z"
   },
   {
    "duration": 48,
    "start_time": "2021-11-29T20:25:09.230Z"
   },
   {
    "duration": 11,
    "start_time": "2021-11-29T20:25:09.281Z"
   },
   {
    "duration": 316,
    "start_time": "2021-11-29T20:25:09.295Z"
   },
   {
    "duration": 103,
    "start_time": "2021-11-29T20:25:09.613Z"
   },
   {
    "duration": 19,
    "start_time": "2021-11-29T20:25:09.719Z"
   },
   {
    "duration": 114,
    "start_time": "2021-11-29T20:25:09.740Z"
   },
   {
    "duration": 48,
    "start_time": "2021-11-29T20:25:09.856Z"
   },
   {
    "duration": 37,
    "start_time": "2021-11-29T20:25:09.906Z"
   },
   {
    "duration": 44,
    "start_time": "2021-11-29T20:25:09.946Z"
   },
   {
    "duration": 22,
    "start_time": "2021-11-29T20:25:09.992Z"
   },
   {
    "duration": 70,
    "start_time": "2021-11-29T20:25:10.017Z"
   },
   {
    "duration": 284,
    "start_time": "2021-11-29T20:25:10.090Z"
   },
   {
    "duration": 62,
    "start_time": "2021-11-29T20:25:10.376Z"
   },
   {
    "duration": 54,
    "start_time": "2021-11-29T20:25:10.443Z"
   },
   {
    "duration": 45,
    "start_time": "2021-11-29T20:25:10.500Z"
   },
   {
    "duration": 57,
    "start_time": "2021-11-29T20:25:10.547Z"
   },
   {
    "duration": 40,
    "start_time": "2021-11-29T20:25:10.607Z"
   },
   {
    "duration": 40,
    "start_time": "2021-11-29T20:25:10.649Z"
   },
   {
    "duration": 146,
    "start_time": "2021-11-29T20:25:10.692Z"
   },
   {
    "duration": 124,
    "start_time": "2021-11-29T20:25:10.840Z"
   },
   {
    "duration": 140,
    "start_time": "2021-11-29T20:25:10.966Z"
   },
   {
    "duration": 209,
    "start_time": "2021-11-29T20:25:11.109Z"
   },
   {
    "duration": 187,
    "start_time": "2021-11-29T20:25:11.320Z"
   },
   {
    "duration": 223,
    "start_time": "2021-11-29T20:25:11.509Z"
   },
   {
    "duration": 18,
    "start_time": "2021-11-29T20:25:11.734Z"
   },
   {
    "duration": 39,
    "start_time": "2021-11-29T20:25:11.754Z"
   },
   {
    "duration": 24,
    "start_time": "2021-11-29T20:25:11.795Z"
   },
   {
    "duration": 20,
    "start_time": "2021-11-29T20:25:11.822Z"
   },
   {
    "duration": 56,
    "start_time": "2021-11-29T20:25:11.845Z"
   },
   {
    "duration": 116,
    "start_time": "2021-11-29T20:25:11.904Z"
   },
   {
    "duration": 25,
    "start_time": "2021-11-29T20:25:12.022Z"
   },
   {
    "duration": 44,
    "start_time": "2021-11-29T20:25:12.049Z"
   },
   {
    "duration": 21,
    "start_time": "2021-11-29T20:25:12.095Z"
   },
   {
    "duration": 35,
    "start_time": "2021-11-29T20:25:12.118Z"
   },
   {
    "duration": 58,
    "start_time": "2021-11-29T20:25:12.156Z"
   },
   {
    "duration": 24,
    "start_time": "2021-11-29T20:25:12.217Z"
   },
   {
    "duration": 75,
    "start_time": "2021-11-29T20:25:12.244Z"
   },
   {
    "duration": 17,
    "start_time": "2021-11-29T20:25:12.321Z"
   },
   {
    "duration": 52,
    "start_time": "2021-11-29T20:25:12.342Z"
   },
   {
    "duration": 673,
    "start_time": "2021-11-29T20:25:12.397Z"
   },
   {
    "duration": 613,
    "start_time": "2021-11-29T20:25:13.073Z"
   },
   {
    "duration": 794,
    "start_time": "2021-11-29T20:25:13.688Z"
   },
   {
    "duration": 1244,
    "start_time": "2021-11-29T20:25:14.485Z"
   },
   {
    "duration": 19,
    "start_time": "2021-11-29T20:25:15.732Z"
   },
   {
    "duration": 30,
    "start_time": "2021-11-29T20:25:15.754Z"
   },
   {
    "duration": 8,
    "start_time": "2021-11-29T20:25:15.787Z"
   },
   {
    "duration": 10,
    "start_time": "2021-11-29T20:25:15.798Z"
   },
   {
    "duration": 7,
    "start_time": "2021-11-29T20:25:15.811Z"
   },
   {
    "duration": 65,
    "start_time": "2021-11-29T20:25:15.821Z"
   },
   {
    "duration": 11,
    "start_time": "2021-11-29T20:25:15.888Z"
   },
   {
    "duration": 12,
    "start_time": "2021-11-29T20:25:15.902Z"
   },
   {
    "duration": 10,
    "start_time": "2021-11-29T20:25:15.916Z"
   },
   {
    "duration": 10,
    "start_time": "2021-11-29T20:25:15.929Z"
   },
   {
    "duration": 3,
    "start_time": "2021-11-29T20:27:40.721Z"
   },
   {
    "duration": 3,
    "start_time": "2021-11-29T20:29:46.961Z"
   },
   {
    "duration": 14,
    "start_time": "2021-11-29T20:39:26.909Z"
   },
   {
    "duration": 16,
    "start_time": "2021-11-29T20:42:07.633Z"
   },
   {
    "duration": 13,
    "start_time": "2021-11-29T20:45:44.310Z"
   },
   {
    "duration": 20,
    "start_time": "2021-11-29T20:47:28.226Z"
   },
   {
    "duration": 19,
    "start_time": "2021-11-29T20:47:40.257Z"
   },
   {
    "duration": 18,
    "start_time": "2021-11-29T20:47:55.010Z"
   },
   {
    "duration": 19,
    "start_time": "2021-11-29T20:48:04.262Z"
   },
   {
    "duration": 19,
    "start_time": "2021-11-29T20:48:08.157Z"
   },
   {
    "duration": 20,
    "start_time": "2021-11-29T20:48:53.153Z"
   },
   {
    "duration": 25,
    "start_time": "2021-11-29T20:49:05.028Z"
   },
   {
    "duration": 27,
    "start_time": "2021-11-29T20:49:56.257Z"
   },
   {
    "duration": 28,
    "start_time": "2021-11-29T20:50:10.592Z"
   },
   {
    "duration": 23,
    "start_time": "2021-11-29T20:50:20.177Z"
   },
   {
    "duration": 23,
    "start_time": "2021-11-29T20:50:38.236Z"
   },
   {
    "duration": 25,
    "start_time": "2021-11-29T20:53:04.628Z"
   },
   {
    "duration": 21,
    "start_time": "2021-11-29T20:53:40.408Z"
   },
   {
    "duration": 112,
    "start_time": "2021-11-29T20:54:18.636Z"
   },
   {
    "duration": 20,
    "start_time": "2021-11-29T20:54:33.298Z"
   },
   {
    "duration": 20,
    "start_time": "2021-11-29T20:54:39.979Z"
   },
   {
    "duration": 1610,
    "start_time": "2021-11-29T20:55:41.465Z"
   },
   {
    "duration": 254,
    "start_time": "2021-11-29T20:55:43.078Z"
   },
   {
    "duration": 46,
    "start_time": "2021-11-29T20:55:43.336Z"
   },
   {
    "duration": 211,
    "start_time": "2021-11-29T20:55:43.386Z"
   },
   {
    "duration": 22,
    "start_time": "2021-11-29T20:55:43.600Z"
   },
   {
    "duration": 186,
    "start_time": "2021-11-29T20:55:43.625Z"
   },
   {
    "duration": 32,
    "start_time": "2021-11-29T20:55:43.814Z"
   },
   {
    "duration": 39,
    "start_time": "2021-11-29T20:55:43.851Z"
   },
   {
    "duration": 13,
    "start_time": "2021-11-29T20:55:43.894Z"
   },
   {
    "duration": 48,
    "start_time": "2021-11-29T20:55:43.910Z"
   },
   {
    "duration": 24,
    "start_time": "2021-11-29T20:55:43.961Z"
   },
   {
    "duration": 320,
    "start_time": "2021-11-29T20:55:43.988Z"
   },
   {
    "duration": 109,
    "start_time": "2021-11-29T20:55:44.310Z"
   },
   {
    "duration": 19,
    "start_time": "2021-11-29T20:55:44.422Z"
   },
   {
    "duration": 133,
    "start_time": "2021-11-29T20:55:44.444Z"
   },
   {
    "duration": 50,
    "start_time": "2021-11-29T20:55:44.580Z"
   },
   {
    "duration": 58,
    "start_time": "2021-11-29T20:55:44.632Z"
   },
   {
    "duration": 22,
    "start_time": "2021-11-29T20:55:44.693Z"
   },
   {
    "duration": 23,
    "start_time": "2021-11-29T20:55:44.717Z"
   },
   {
    "duration": 87,
    "start_time": "2021-11-29T20:55:44.746Z"
   },
   {
    "duration": 4,
    "start_time": "2021-11-29T20:55:44.836Z"
   },
   {
    "duration": 125,
    "start_time": "2021-11-29T20:55:44.844Z"
   },
   {
    "duration": 30,
    "start_time": "2021-11-29T20:55:44.983Z"
   },
   {
    "duration": 70,
    "start_time": "2021-11-29T20:55:45.017Z"
   },
   {
    "duration": 34,
    "start_time": "2021-11-29T20:55:45.090Z"
   },
   {
    "duration": 74,
    "start_time": "2021-11-29T20:55:45.127Z"
   },
   {
    "duration": 16,
    "start_time": "2021-11-29T20:55:45.204Z"
   },
   {
    "duration": 159,
    "start_time": "2021-11-29T20:55:45.223Z"
   },
   {
    "duration": 120,
    "start_time": "2021-11-29T20:55:45.385Z"
   },
   {
    "duration": 135,
    "start_time": "2021-11-29T20:55:45.508Z"
   },
   {
    "duration": 206,
    "start_time": "2021-11-29T20:55:45.645Z"
   },
   {
    "duration": 176,
    "start_time": "2021-11-29T20:55:45.853Z"
   },
   {
    "duration": 217,
    "start_time": "2021-11-29T20:55:46.031Z"
   },
   {
    "duration": 17,
    "start_time": "2021-11-29T20:55:46.250Z"
   },
   {
    "duration": 18,
    "start_time": "2021-11-29T20:55:46.282Z"
   },
   {
    "duration": 27,
    "start_time": "2021-11-29T20:55:46.302Z"
   },
   {
    "duration": 18,
    "start_time": "2021-11-29T20:55:46.331Z"
   },
   {
    "duration": 50,
    "start_time": "2021-11-29T20:55:46.352Z"
   },
   {
    "duration": 138,
    "start_time": "2021-11-29T20:55:46.405Z"
   },
   {
    "duration": 21,
    "start_time": "2021-11-29T20:55:46.546Z"
   },
   {
    "duration": 32,
    "start_time": "2021-11-29T20:55:46.581Z"
   },
   {
    "duration": 30,
    "start_time": "2021-11-29T20:55:46.616Z"
   },
   {
    "duration": 74,
    "start_time": "2021-11-29T20:55:46.649Z"
   },
   {
    "duration": 62,
    "start_time": "2021-11-29T20:55:46.726Z"
   },
   {
    "duration": 23,
    "start_time": "2021-11-29T20:55:46.790Z"
   },
   {
    "duration": 46,
    "start_time": "2021-11-29T20:55:46.815Z"
   },
   {
    "duration": 27,
    "start_time": "2021-11-29T20:55:46.864Z"
   },
   {
    "duration": 44,
    "start_time": "2021-11-29T20:55:46.893Z"
   },
   {
    "duration": 724,
    "start_time": "2021-11-29T20:55:46.940Z"
   },
   {
    "duration": 619,
    "start_time": "2021-11-29T20:55:47.666Z"
   },
   {
    "duration": 743,
    "start_time": "2021-11-29T20:55:48.288Z"
   },
   {
    "duration": 1247,
    "start_time": "2021-11-29T20:55:49.035Z"
   },
   {
    "duration": 22,
    "start_time": "2021-11-29T20:55:50.284Z"
   },
   {
    "duration": 11,
    "start_time": "2021-11-29T20:55:50.309Z"
   },
   {
    "duration": 39,
    "start_time": "2021-11-29T20:55:50.323Z"
   },
   {
    "duration": 19,
    "start_time": "2021-11-29T20:55:50.365Z"
   },
   {
    "duration": 12,
    "start_time": "2021-11-29T20:55:50.387Z"
   },
   {
    "duration": 30,
    "start_time": "2021-11-29T20:55:50.401Z"
   },
   {
    "duration": 11,
    "start_time": "2021-11-29T20:55:50.434Z"
   },
   {
    "duration": 45,
    "start_time": "2021-11-29T20:55:50.447Z"
   },
   {
    "duration": 9,
    "start_time": "2021-11-29T20:55:50.495Z"
   },
   {
    "duration": 9,
    "start_time": "2021-11-29T20:55:50.506Z"
   },
   {
    "duration": 27,
    "start_time": "2021-11-29T20:55:50.517Z"
   },
   {
    "duration": 1255,
    "start_time": "2021-11-29T20:58:29.769Z"
   },
   {
    "duration": 689,
    "start_time": "2021-11-29T21:01:32.182Z"
   },
   {
    "duration": 806,
    "start_time": "2021-11-29T21:01:48.703Z"
   },
   {
    "duration": 777,
    "start_time": "2021-11-29T21:02:22.707Z"
   },
   {
    "duration": 704,
    "start_time": "2021-11-29T21:02:46.384Z"
   },
   {
    "duration": 697,
    "start_time": "2021-11-29T21:03:07.873Z"
   },
   {
    "duration": 1097,
    "start_time": "2021-11-29T21:03:44.070Z"
   },
   {
    "duration": 693,
    "start_time": "2021-11-29T21:03:53.396Z"
   },
   {
    "duration": 4582,
    "start_time": "2021-11-29T21:04:38.571Z"
   },
   {
    "duration": 707,
    "start_time": "2021-11-29T21:04:52.503Z"
   },
   {
    "duration": 731,
    "start_time": "2021-11-29T21:04:57.175Z"
   },
   {
    "duration": 972,
    "start_time": "2021-11-29T21:10:27.134Z"
   },
   {
    "duration": 707,
    "start_time": "2021-11-29T21:11:00.546Z"
   },
   {
    "duration": 828,
    "start_time": "2021-11-29T21:11:31.231Z"
   },
   {
    "duration": 1063,
    "start_time": "2021-11-29T21:12:07.819Z"
   },
   {
    "duration": 1118,
    "start_time": "2021-11-29T21:13:20.125Z"
   },
   {
    "duration": 883,
    "start_time": "2021-11-29T21:13:51.773Z"
   },
   {
    "duration": 1012,
    "start_time": "2021-11-29T21:14:15.776Z"
   },
   {
    "duration": 725,
    "start_time": "2021-11-29T21:14:33.031Z"
   },
   {
    "duration": 701,
    "start_time": "2021-11-29T21:14:42.086Z"
   },
   {
    "duration": 1208,
    "start_time": "2021-11-29T21:15:15.948Z"
   },
   {
    "duration": 693,
    "start_time": "2021-11-29T21:15:23.427Z"
   },
   {
    "duration": 688,
    "start_time": "2021-11-29T21:15:49.608Z"
   },
   {
    "duration": 977,
    "start_time": "2021-11-29T21:16:41.710Z"
   },
   {
    "duration": 723,
    "start_time": "2021-11-29T21:16:59.369Z"
   },
   {
    "duration": 1125,
    "start_time": "2021-11-29T21:18:13.002Z"
   },
   {
    "duration": 987,
    "start_time": "2021-11-29T21:20:57.855Z"
   },
   {
    "duration": 1230,
    "start_time": "2021-11-29T21:24:49.645Z"
   },
   {
    "duration": 995,
    "start_time": "2021-11-29T21:25:03.215Z"
   },
   {
    "duration": 1130,
    "start_time": "2021-11-29T21:25:59.735Z"
   },
   {
    "duration": 1069,
    "start_time": "2021-11-29T21:26:59.913Z"
   },
   {
    "duration": 1179,
    "start_time": "2021-11-29T21:27:42.963Z"
   },
   {
    "duration": 1059,
    "start_time": "2021-11-29T21:27:51.836Z"
   },
   {
    "duration": 702,
    "start_time": "2021-11-29T21:28:25.841Z"
   },
   {
    "duration": 730,
    "start_time": "2021-11-29T21:28:48.170Z"
   },
   {
    "duration": 931,
    "start_time": "2021-11-29T21:29:08.420Z"
   },
   {
    "duration": 810,
    "start_time": "2021-11-29T21:29:24.001Z"
   },
   {
    "duration": 727,
    "start_time": "2021-11-29T21:29:49.261Z"
   },
   {
    "duration": 776,
    "start_time": "2021-11-29T21:29:56.717Z"
   },
   {
    "duration": 966,
    "start_time": "2021-11-29T21:30:59.220Z"
   },
   {
    "duration": 774,
    "start_time": "2021-11-29T21:31:11.745Z"
   },
   {
    "duration": 773,
    "start_time": "2021-11-29T21:33:27.535Z"
   },
   {
    "duration": 1204,
    "start_time": "2021-11-29T21:34:08.435Z"
   },
   {
    "duration": 1428,
    "start_time": "2021-11-29T21:34:19.704Z"
   },
   {
    "duration": 758,
    "start_time": "2021-11-29T21:34:33.327Z"
   },
   {
    "duration": 1017,
    "start_time": "2021-11-29T21:36:20.829Z"
   },
   {
    "duration": 1006,
    "start_time": "2021-11-29T21:37:30.137Z"
   },
   {
    "duration": 789,
    "start_time": "2021-11-29T21:38:03.493Z"
   },
   {
    "duration": 1514,
    "start_time": "2021-11-29T21:38:54.928Z"
   },
   {
    "duration": 225,
    "start_time": "2021-11-29T21:38:56.445Z"
   },
   {
    "duration": 34,
    "start_time": "2021-11-29T21:38:56.673Z"
   },
   {
    "duration": 192,
    "start_time": "2021-11-29T21:38:56.710Z"
   },
   {
    "duration": 25,
    "start_time": "2021-11-29T21:38:56.905Z"
   },
   {
    "duration": 143,
    "start_time": "2021-11-29T21:38:56.933Z"
   },
   {
    "duration": 24,
    "start_time": "2021-11-29T21:38:57.078Z"
   },
   {
    "duration": 26,
    "start_time": "2021-11-29T21:38:57.107Z"
   },
   {
    "duration": 9,
    "start_time": "2021-11-29T21:38:57.137Z"
   },
   {
    "duration": 44,
    "start_time": "2021-11-29T21:38:57.182Z"
   },
   {
    "duration": 11,
    "start_time": "2021-11-29T21:38:57.229Z"
   },
   {
    "duration": 417,
    "start_time": "2021-11-29T21:38:57.243Z"
   },
   {
    "duration": 155,
    "start_time": "2021-11-29T21:38:57.663Z"
   },
   {
    "duration": 26,
    "start_time": "2021-11-29T21:38:57.821Z"
   },
   {
    "duration": 124,
    "start_time": "2021-11-29T21:38:57.851Z"
   },
   {
    "duration": 41,
    "start_time": "2021-11-29T21:38:57.977Z"
   },
   {
    "duration": 37,
    "start_time": "2021-11-29T21:38:58.021Z"
   },
   {
    "duration": 20,
    "start_time": "2021-11-29T21:38:58.081Z"
   },
   {
    "duration": 21,
    "start_time": "2021-11-29T21:38:58.104Z"
   },
   {
    "duration": 67,
    "start_time": "2021-11-29T21:38:58.127Z"
   },
   {
    "duration": 4,
    "start_time": "2021-11-29T21:38:58.197Z"
   },
   {
    "duration": 87,
    "start_time": "2021-11-29T21:38:58.203Z"
   },
   {
    "duration": 28,
    "start_time": "2021-11-29T21:38:58.296Z"
   },
   {
    "duration": 71,
    "start_time": "2021-11-29T21:38:58.327Z"
   },
   {
    "duration": 33,
    "start_time": "2021-11-29T21:38:58.400Z"
   },
   {
    "duration": 67,
    "start_time": "2021-11-29T21:38:58.436Z"
   },
   {
    "duration": 16,
    "start_time": "2021-11-29T21:38:58.506Z"
   },
   {
    "duration": 145,
    "start_time": "2021-11-29T21:38:58.525Z"
   },
   {
    "duration": 120,
    "start_time": "2021-11-29T21:38:58.673Z"
   },
   {
    "duration": 134,
    "start_time": "2021-11-29T21:38:58.796Z"
   },
   {
    "duration": 210,
    "start_time": "2021-11-29T21:38:58.933Z"
   },
   {
    "duration": 183,
    "start_time": "2021-11-29T21:38:59.145Z"
   },
   {
    "duration": 217,
    "start_time": "2021-11-29T21:38:59.331Z"
   },
   {
    "duration": 17,
    "start_time": "2021-11-29T21:38:59.550Z"
   },
   {
    "duration": 19,
    "start_time": "2021-11-29T21:38:59.581Z"
   },
   {
    "duration": 24,
    "start_time": "2021-11-29T21:38:59.602Z"
   },
   {
    "duration": 19,
    "start_time": "2021-11-29T21:38:59.628Z"
   },
   {
    "duration": 48,
    "start_time": "2021-11-29T21:38:59.649Z"
   },
   {
    "duration": 134,
    "start_time": "2021-11-29T21:38:59.700Z"
   },
   {
    "duration": 22,
    "start_time": "2021-11-29T21:38:59.836Z"
   },
   {
    "duration": 39,
    "start_time": "2021-11-29T21:38:59.861Z"
   },
   {
    "duration": 20,
    "start_time": "2021-11-29T21:38:59.903Z"
   },
   {
    "duration": 63,
    "start_time": "2021-11-29T21:38:59.925Z"
   },
   {
    "duration": 35,
    "start_time": "2021-11-29T21:38:59.990Z"
   },
   {
    "duration": 21,
    "start_time": "2021-11-29T21:39:00.028Z"
   },
   {
    "duration": 35,
    "start_time": "2021-11-29T21:39:00.082Z"
   },
   {
    "duration": 15,
    "start_time": "2021-11-29T21:39:00.120Z"
   },
   {
    "duration": 55,
    "start_time": "2021-11-29T21:39:00.138Z"
   },
   {
    "duration": 682,
    "start_time": "2021-11-29T21:39:00.195Z"
   },
   {
    "duration": 762,
    "start_time": "2021-11-29T21:39:00.885Z"
   },
   {
    "duration": 911,
    "start_time": "2021-11-29T21:39:01.650Z"
   },
   {
    "duration": 1226,
    "start_time": "2021-11-29T21:39:02.564Z"
   },
   {
    "duration": 28,
    "start_time": "2021-11-29T21:39:03.793Z"
   },
   {
    "duration": 14,
    "start_time": "2021-11-29T21:39:03.824Z"
   },
   {
    "duration": 9,
    "start_time": "2021-11-29T21:39:03.841Z"
   },
   {
    "duration": 8,
    "start_time": "2021-11-29T21:39:03.883Z"
   },
   {
    "duration": 18,
    "start_time": "2021-11-29T21:39:03.893Z"
   },
   {
    "duration": 52,
    "start_time": "2021-11-29T21:39:03.914Z"
   },
   {
    "duration": 22,
    "start_time": "2021-11-29T21:39:03.969Z"
   },
   {
    "duration": 10,
    "start_time": "2021-11-29T21:39:03.994Z"
   },
   {
    "duration": 11,
    "start_time": "2021-11-29T21:39:04.007Z"
   },
   {
    "duration": 12,
    "start_time": "2021-11-29T21:39:04.020Z"
   },
   {
    "duration": 59,
    "start_time": "2021-11-29T21:39:04.035Z"
   },
   {
    "duration": 422,
    "start_time": "2021-11-30T20:10:25.558Z"
   },
   {
    "duration": 2275,
    "start_time": "2021-11-30T20:10:34.597Z"
   },
   {
    "duration": 209,
    "start_time": "2021-11-30T20:10:36.874Z"
   },
   {
    "duration": 36,
    "start_time": "2021-11-30T20:10:37.086Z"
   },
   {
    "duration": 195,
    "start_time": "2021-11-30T20:10:37.125Z"
   },
   {
    "duration": 46,
    "start_time": "2021-11-30T20:10:37.323Z"
   },
   {
    "duration": 119,
    "start_time": "2021-11-30T20:10:37.371Z"
   },
   {
    "duration": 25,
    "start_time": "2021-11-30T20:10:37.492Z"
   },
   {
    "duration": 23,
    "start_time": "2021-11-30T20:10:37.521Z"
   },
   {
    "duration": 30,
    "start_time": "2021-11-30T20:10:37.547Z"
   },
   {
    "duration": 60,
    "start_time": "2021-11-30T20:10:37.580Z"
   },
   {
    "duration": 15,
    "start_time": "2021-11-30T20:10:37.643Z"
   },
   {
    "duration": 285,
    "start_time": "2021-11-30T20:10:37.661Z"
   },
   {
    "duration": 101,
    "start_time": "2021-11-30T20:10:37.949Z"
   },
   {
    "duration": 35,
    "start_time": "2021-11-30T20:10:38.052Z"
   },
   {
    "duration": 120,
    "start_time": "2021-11-30T20:10:38.090Z"
   },
   {
    "duration": 37,
    "start_time": "2021-11-30T20:10:38.213Z"
   },
   {
    "duration": 48,
    "start_time": "2021-11-30T20:10:38.253Z"
   },
   {
    "duration": 17,
    "start_time": "2021-11-30T20:10:38.303Z"
   },
   {
    "duration": 50,
    "start_time": "2021-11-30T20:10:38.322Z"
   },
   {
    "duration": 47,
    "start_time": "2021-11-30T20:10:38.375Z"
   },
   {
    "duration": 290,
    "start_time": "2021-11-30T20:10:38.425Z"
   },
   {
    "duration": 92,
    "start_time": "2021-11-30T20:10:38.717Z"
   },
   {
    "duration": 66,
    "start_time": "2021-11-30T20:10:38.814Z"
   },
   {
    "duration": 97,
    "start_time": "2021-11-30T20:10:38.883Z"
   },
   {
    "duration": 34,
    "start_time": "2021-11-30T20:10:38.982Z"
   },
   {
    "duration": 67,
    "start_time": "2021-11-30T20:10:39.019Z"
   },
   {
    "duration": 27,
    "start_time": "2021-11-30T20:10:39.088Z"
   },
   {
    "duration": 113,
    "start_time": "2021-11-30T20:10:39.119Z"
   },
   {
    "duration": 98,
    "start_time": "2021-11-30T20:10:39.235Z"
   },
   {
    "duration": 113,
    "start_time": "2021-11-30T20:10:39.336Z"
   },
   {
    "duration": 162,
    "start_time": "2021-11-30T20:10:39.451Z"
   },
   {
    "duration": 147,
    "start_time": "2021-11-30T20:10:39.615Z"
   },
   {
    "duration": 161,
    "start_time": "2021-11-30T20:10:39.768Z"
   },
   {
    "duration": 17,
    "start_time": "2021-11-30T20:10:39.931Z"
   },
   {
    "duration": 36,
    "start_time": "2021-11-30T20:10:39.951Z"
   },
   {
    "duration": 26,
    "start_time": "2021-11-30T20:10:39.990Z"
   },
   {
    "duration": 48,
    "start_time": "2021-11-30T20:10:40.019Z"
   },
   {
    "duration": 34,
    "start_time": "2021-11-30T20:10:40.070Z"
   },
   {
    "duration": 87,
    "start_time": "2021-11-30T20:10:40.108Z"
   },
   {
    "duration": 29,
    "start_time": "2021-11-30T20:10:40.197Z"
   },
   {
    "duration": 21,
    "start_time": "2021-11-30T20:10:40.228Z"
   },
   {
    "duration": 28,
    "start_time": "2021-11-30T20:10:40.252Z"
   },
   {
    "duration": 23,
    "start_time": "2021-11-30T20:10:40.282Z"
   },
   {
    "duration": 35,
    "start_time": "2021-11-30T20:10:40.307Z"
   },
   {
    "duration": 26,
    "start_time": "2021-11-30T20:10:40.344Z"
   },
   {
    "duration": 33,
    "start_time": "2021-11-30T20:10:40.372Z"
   },
   {
    "duration": 13,
    "start_time": "2021-11-30T20:10:40.407Z"
   },
   {
    "duration": 32,
    "start_time": "2021-11-30T20:10:40.423Z"
   },
   {
    "duration": 806,
    "start_time": "2021-11-30T20:10:40.457Z"
   },
   {
    "duration": 667,
    "start_time": "2021-11-30T20:10:41.265Z"
   },
   {
    "duration": 711,
    "start_time": "2021-11-30T20:10:41.934Z"
   },
   {
    "duration": 749,
    "start_time": "2021-11-30T20:10:42.648Z"
   },
   {
    "duration": 20,
    "start_time": "2021-11-30T20:10:43.400Z"
   },
   {
    "duration": 11,
    "start_time": "2021-11-30T20:10:43.423Z"
   },
   {
    "duration": 9,
    "start_time": "2021-11-30T20:10:43.437Z"
   },
   {
    "duration": 17,
    "start_time": "2021-11-30T20:10:43.448Z"
   },
   {
    "duration": 13,
    "start_time": "2021-11-30T20:10:43.467Z"
   },
   {
    "duration": 34,
    "start_time": "2021-11-30T20:10:43.482Z"
   },
   {
    "duration": 9,
    "start_time": "2021-11-30T20:10:43.519Z"
   },
   {
    "duration": 13,
    "start_time": "2021-11-30T20:10:43.530Z"
   },
   {
    "duration": 9,
    "start_time": "2021-11-30T20:10:43.545Z"
   },
   {
    "duration": 8,
    "start_time": "2021-11-30T20:10:43.556Z"
   },
   {
    "duration": 27,
    "start_time": "2021-11-30T20:10:43.566Z"
   },
   {
    "duration": 321,
    "start_time": "2021-11-30T20:12:56.104Z"
   },
   {
    "duration": 1516,
    "start_time": "2022-03-07T11:11:22.978Z"
   },
   {
    "duration": 216,
    "start_time": "2022-03-07T11:11:24.496Z"
   },
   {
    "duration": 35,
    "start_time": "2022-03-07T11:11:24.715Z"
   },
   {
    "duration": 178,
    "start_time": "2022-03-07T11:11:24.753Z"
   },
   {
    "duration": 24,
    "start_time": "2022-03-07T11:11:24.934Z"
   },
   {
    "duration": 181,
    "start_time": "2022-03-07T11:11:24.962Z"
   },
   {
    "duration": 30,
    "start_time": "2022-03-07T11:11:25.146Z"
   },
   {
    "duration": 27,
    "start_time": "2022-03-07T11:11:25.182Z"
   },
   {
    "duration": 25,
    "start_time": "2022-03-07T11:11:25.213Z"
   },
   {
    "duration": 57,
    "start_time": "2022-03-07T11:11:25.240Z"
   },
   {
    "duration": 9,
    "start_time": "2022-03-07T11:11:25.300Z"
   },
   {
    "duration": 267,
    "start_time": "2022-03-07T11:11:25.311Z"
   },
   {
    "duration": 103,
    "start_time": "2022-03-07T11:11:25.580Z"
   },
   {
    "duration": 19,
    "start_time": "2022-03-07T11:11:25.685Z"
   },
   {
    "duration": 112,
    "start_time": "2022-03-07T11:11:25.706Z"
   },
   {
    "duration": 47,
    "start_time": "2022-03-07T11:11:25.820Z"
   },
   {
    "duration": 62,
    "start_time": "2022-03-07T11:11:25.870Z"
   },
   {
    "duration": 21,
    "start_time": "2022-03-07T11:11:25.935Z"
   },
   {
    "duration": 23,
    "start_time": "2022-03-07T11:11:25.958Z"
   },
   {
    "duration": 78,
    "start_time": "2022-03-07T11:11:25.983Z"
   },
   {
    "duration": 82,
    "start_time": "2022-03-07T11:11:26.064Z"
   },
   {
    "duration": 31,
    "start_time": "2022-03-07T11:11:26.149Z"
   },
   {
    "duration": 73,
    "start_time": "2022-03-07T11:11:26.188Z"
   },
   {
    "duration": 45,
    "start_time": "2022-03-07T11:11:26.265Z"
   },
   {
    "duration": 81,
    "start_time": "2022-03-07T11:11:26.313Z"
   },
   {
    "duration": 22,
    "start_time": "2022-03-07T11:11:26.397Z"
   },
   {
    "duration": 166,
    "start_time": "2022-03-07T11:11:26.434Z"
   },
   {
    "duration": 114,
    "start_time": "2022-03-07T11:11:26.604Z"
   },
   {
    "duration": 146,
    "start_time": "2022-03-07T11:11:26.721Z"
   },
   {
    "duration": 231,
    "start_time": "2022-03-07T11:11:26.869Z"
   },
   {
    "duration": 200,
    "start_time": "2022-03-07T11:11:27.102Z"
   },
   {
    "duration": 236,
    "start_time": "2022-03-07T11:11:27.305Z"
   },
   {
    "duration": 16,
    "start_time": "2022-03-07T11:11:27.544Z"
   },
   {
    "duration": 18,
    "start_time": "2022-03-07T11:11:27.563Z"
   },
   {
    "duration": 57,
    "start_time": "2022-03-07T11:11:27.583Z"
   },
   {
    "duration": 17,
    "start_time": "2022-03-07T11:11:27.642Z"
   },
   {
    "duration": 21,
    "start_time": "2022-03-07T11:11:27.661Z"
   },
   {
    "duration": 126,
    "start_time": "2022-03-07T11:11:27.684Z"
   },
   {
    "duration": 34,
    "start_time": "2022-03-07T11:11:27.813Z"
   },
   {
    "duration": 21,
    "start_time": "2022-03-07T11:11:27.850Z"
   },
   {
    "duration": 22,
    "start_time": "2022-03-07T11:11:27.874Z"
   },
   {
    "duration": 60,
    "start_time": "2022-03-07T11:11:27.899Z"
   },
   {
    "duration": 35,
    "start_time": "2022-03-07T11:11:27.962Z"
   },
   {
    "duration": 53,
    "start_time": "2022-03-07T11:11:28.000Z"
   },
   {
    "duration": 33,
    "start_time": "2022-03-07T11:11:28.056Z"
   },
   {
    "duration": 45,
    "start_time": "2022-03-07T11:11:28.091Z"
   },
   {
    "duration": 15,
    "start_time": "2022-03-07T11:11:28.139Z"
   },
   {
    "duration": 667,
    "start_time": "2022-03-07T11:11:28.156Z"
   },
   {
    "duration": 632,
    "start_time": "2022-03-07T11:11:28.832Z"
   },
   {
    "duration": 805,
    "start_time": "2022-03-07T11:11:29.467Z"
   },
   {
    "duration": 815,
    "start_time": "2022-03-07T11:11:30.275Z"
   },
   {
    "duration": 23,
    "start_time": "2022-03-07T11:11:31.092Z"
   },
   {
    "duration": 11,
    "start_time": "2022-03-07T11:11:31.133Z"
   },
   {
    "duration": 13,
    "start_time": "2022-03-07T11:11:31.146Z"
   },
   {
    "duration": 12,
    "start_time": "2022-03-07T11:11:31.162Z"
   },
   {
    "duration": 9,
    "start_time": "2022-03-07T11:11:31.177Z"
   },
   {
    "duration": 61,
    "start_time": "2022-03-07T11:11:31.188Z"
   },
   {
    "duration": 10,
    "start_time": "2022-03-07T11:11:31.252Z"
   },
   {
    "duration": 10,
    "start_time": "2022-03-07T11:11:31.264Z"
   },
   {
    "duration": 9,
    "start_time": "2022-03-07T11:11:31.276Z"
   },
   {
    "duration": 11,
    "start_time": "2022-03-07T11:11:31.287Z"
   },
   {
    "duration": 49,
    "start_time": "2022-03-07T11:11:31.300Z"
   }
  ],
  "kernelspec": {
   "display_name": "Python 3",
   "language": "python",
   "name": "python3"
  },
  "language_info": {
   "codemirror_mode": {
    "name": "ipython",
    "version": 3
   },
   "file_extension": ".py",
   "mimetype": "text/x-python",
   "name": "python",
   "nbconvert_exporter": "python",
   "pygments_lexer": "ipython3",
   "version": "3.10.2"
  },
  "toc": {
   "base_numbering": 1,
   "nav_menu": {},
   "number_sections": true,
   "sideBar": true,
   "skip_h1_title": true,
   "title_cell": "Содержание",
   "title_sidebar": "Contents",
   "toc_cell": true,
   "toc_position": {
    "height": "calc(100% - 180px)",
    "left": "10px",
    "top": "150px",
    "width": "165px"
   },
   "toc_section_display": true,
   "toc_window_display": true
  }
 },
 "nbformat": 4,
 "nbformat_minor": 2
}
