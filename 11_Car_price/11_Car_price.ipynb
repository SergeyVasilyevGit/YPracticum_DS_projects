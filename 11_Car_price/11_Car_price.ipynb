{
 "cells": [
  {
   "cell_type": "markdown",
   "metadata": {
    "toc": true
   },
   "source": [
    "<h1>Содержание<span class=\"tocSkip\"></span></h1>\n",
    "<div class=\"toc\"><ul class=\"toc-item\"><li><span><a href=\"#Подготовка-данных\" data-toc-modified-id=\"Подготовка-данных-1\"><span class=\"toc-item-num\">1&nbsp;&nbsp;</span>Подготовка данных</a></span><ul class=\"toc-item\"><li><span><a href=\"#Вывод\" data-toc-modified-id=\"Вывод-1.1\"><span class=\"toc-item-num\">1.1&nbsp;&nbsp;</span>Вывод</a></span></li></ul></li><li><span><a href=\"#Обучение-моделей\" data-toc-modified-id=\"Обучение-моделей-2\"><span class=\"toc-item-num\">2&nbsp;&nbsp;</span>Обучение моделей</a></span><ul class=\"toc-item\"><li><span><a href=\"#Вывод\" data-toc-modified-id=\"Вывод-2.1\"><span class=\"toc-item-num\">2.1&nbsp;&nbsp;</span>Вывод</a></span></li></ul></li><li><span><a href=\"#Анализ-моделей\" data-toc-modified-id=\"Анализ-моделей-3\"><span class=\"toc-item-num\">3&nbsp;&nbsp;</span>Анализ моделей</a></span><ul class=\"toc-item\"><li><span><a href=\"#Вывод\" data-toc-modified-id=\"Вывод-3.1\"><span class=\"toc-item-num\">3.1&nbsp;&nbsp;</span>Вывод</a></span></li></ul></li></ul></div>"
   ]
  },
  {
   "cell_type": "markdown",
   "metadata": {},
   "source": [
    "# Определение стоимости автомобилей"
   ]
  },
  {
   "cell_type": "markdown",
   "metadata": {},
   "source": [
    "Сервис по продаже автомобилей с пробегом «Не бит, не крашен» разрабатывает приложение для привлечения новых клиентов. В нём можно быстро узнать рыночную стоимость своего автомобиля. В вашем распоряжении исторические данные: технические характеристики, комплектации и цены автомобилей. Вам нужно построить модель для определения стоимости. \n",
    "\n",
    "Заказчику важны:\n",
    "\n",
    "- качество предсказания;\n",
    "- скорость предсказания;\n",
    "- время обучения."
   ]
  },
  {
   "cell_type": "markdown",
   "metadata": {},
   "source": [
    "**Цель**  \n",
    "\n",
    "Построить модель для определения стоимости автомобиля. \n",
    "\n",
    "**Структура исследования**  \n",
    "\n",
    "1. Подготовка данных\n",
    "2. Обучение моделей\n",
    "3. Анализ моделей\n",
    "\n",
    "**Использование дополнительных модулей**  \n",
    "\n",
    "- `pandas` – редактор баз данных  \n",
    "- `numpy` – работа с многомерными массивами\n",
    "- `sklearn`, `catboost`, `lightgbm` – машинное обучение"
   ]
  },
  {
   "cell_type": "code",
   "execution_count": 1,
   "metadata": {
    "scrolled": true
   },
   "outputs": [],
   "source": [
    "import pandas as pd\n",
    "import numpy as np\n",
    "import time\n",
    "\n",
    "from sklearn.model_selection import train_test_split\n",
    "from sklearn.preprocessing import StandardScaler, OneHotEncoder\n",
    "from sklearn.compose import make_column_transformer, ColumnTransformer\n",
    "from sklearn.pipeline import make_pipeline\n",
    "from sklearn.linear_model import LinearRegression\n",
    "from sklearn.metrics import mean_squared_error\n",
    "from catboost import CatBoostRegressor\n",
    "from lightgbm import LGBMRegressor"
   ]
  },
  {
   "cell_type": "markdown",
   "metadata": {},
   "source": [
    "## Подготовка данных"
   ]
  },
  {
   "cell_type": "code",
   "execution_count": 2,
   "metadata": {
    "scrolled": true
   },
   "outputs": [
    {
     "data": {
      "text/html": [
       "<div>\n",
       "<style scoped>\n",
       "    .dataframe tbody tr th:only-of-type {\n",
       "        vertical-align: middle;\n",
       "    }\n",
       "\n",
       "    .dataframe tbody tr th {\n",
       "        vertical-align: top;\n",
       "    }\n",
       "\n",
       "    .dataframe thead th {\n",
       "        text-align: right;\n",
       "    }\n",
       "</style>\n",
       "<table border=\"1\" class=\"dataframe\">\n",
       "  <thead>\n",
       "    <tr style=\"text-align: right;\">\n",
       "      <th></th>\n",
       "      <th>DateCrawled</th>\n",
       "      <th>Price</th>\n",
       "      <th>VehicleType</th>\n",
       "      <th>RegistrationYear</th>\n",
       "      <th>Gearbox</th>\n",
       "      <th>Power</th>\n",
       "      <th>Model</th>\n",
       "      <th>Kilometer</th>\n",
       "      <th>RegistrationMonth</th>\n",
       "      <th>FuelType</th>\n",
       "      <th>Brand</th>\n",
       "      <th>NotRepaired</th>\n",
       "      <th>DateCreated</th>\n",
       "      <th>NumberOfPictures</th>\n",
       "      <th>PostalCode</th>\n",
       "      <th>LastSeen</th>\n",
       "    </tr>\n",
       "  </thead>\n",
       "  <tbody>\n",
       "    <tr>\n",
       "      <td>0</td>\n",
       "      <td>2016-03-24 11:52:17</td>\n",
       "      <td>480</td>\n",
       "      <td>NaN</td>\n",
       "      <td>1993</td>\n",
       "      <td>manual</td>\n",
       "      <td>0</td>\n",
       "      <td>golf</td>\n",
       "      <td>150000</td>\n",
       "      <td>0</td>\n",
       "      <td>petrol</td>\n",
       "      <td>volkswagen</td>\n",
       "      <td>NaN</td>\n",
       "      <td>2016-03-24 00:00:00</td>\n",
       "      <td>0</td>\n",
       "      <td>70435</td>\n",
       "      <td>2016-04-07 03:16:57</td>\n",
       "    </tr>\n",
       "    <tr>\n",
       "      <td>1</td>\n",
       "      <td>2016-03-24 10:58:45</td>\n",
       "      <td>18300</td>\n",
       "      <td>coupe</td>\n",
       "      <td>2011</td>\n",
       "      <td>manual</td>\n",
       "      <td>190</td>\n",
       "      <td>NaN</td>\n",
       "      <td>125000</td>\n",
       "      <td>5</td>\n",
       "      <td>gasoline</td>\n",
       "      <td>audi</td>\n",
       "      <td>yes</td>\n",
       "      <td>2016-03-24 00:00:00</td>\n",
       "      <td>0</td>\n",
       "      <td>66954</td>\n",
       "      <td>2016-04-07 01:46:50</td>\n",
       "    </tr>\n",
       "    <tr>\n",
       "      <td>2</td>\n",
       "      <td>2016-03-14 12:52:21</td>\n",
       "      <td>9800</td>\n",
       "      <td>suv</td>\n",
       "      <td>2004</td>\n",
       "      <td>auto</td>\n",
       "      <td>163</td>\n",
       "      <td>grand</td>\n",
       "      <td>125000</td>\n",
       "      <td>8</td>\n",
       "      <td>gasoline</td>\n",
       "      <td>jeep</td>\n",
       "      <td>NaN</td>\n",
       "      <td>2016-03-14 00:00:00</td>\n",
       "      <td>0</td>\n",
       "      <td>90480</td>\n",
       "      <td>2016-04-05 12:47:46</td>\n",
       "    </tr>\n",
       "    <tr>\n",
       "      <td>3</td>\n",
       "      <td>2016-03-17 16:54:04</td>\n",
       "      <td>1500</td>\n",
       "      <td>small</td>\n",
       "      <td>2001</td>\n",
       "      <td>manual</td>\n",
       "      <td>75</td>\n",
       "      <td>golf</td>\n",
       "      <td>150000</td>\n",
       "      <td>6</td>\n",
       "      <td>petrol</td>\n",
       "      <td>volkswagen</td>\n",
       "      <td>no</td>\n",
       "      <td>2016-03-17 00:00:00</td>\n",
       "      <td>0</td>\n",
       "      <td>91074</td>\n",
       "      <td>2016-03-17 17:40:17</td>\n",
       "    </tr>\n",
       "    <tr>\n",
       "      <td>4</td>\n",
       "      <td>2016-03-31 17:25:20</td>\n",
       "      <td>3600</td>\n",
       "      <td>small</td>\n",
       "      <td>2008</td>\n",
       "      <td>manual</td>\n",
       "      <td>69</td>\n",
       "      <td>fabia</td>\n",
       "      <td>90000</td>\n",
       "      <td>7</td>\n",
       "      <td>gasoline</td>\n",
       "      <td>skoda</td>\n",
       "      <td>no</td>\n",
       "      <td>2016-03-31 00:00:00</td>\n",
       "      <td>0</td>\n",
       "      <td>60437</td>\n",
       "      <td>2016-04-06 10:17:21</td>\n",
       "    </tr>\n",
       "  </tbody>\n",
       "</table>\n",
       "</div>"
      ],
      "text/plain": [
       "           DateCrawled  Price VehicleType  RegistrationYear Gearbox  Power  \\\n",
       "0  2016-03-24 11:52:17    480         NaN              1993  manual      0   \n",
       "1  2016-03-24 10:58:45  18300       coupe              2011  manual    190   \n",
       "2  2016-03-14 12:52:21   9800         suv              2004    auto    163   \n",
       "3  2016-03-17 16:54:04   1500       small              2001  manual     75   \n",
       "4  2016-03-31 17:25:20   3600       small              2008  manual     69   \n",
       "\n",
       "   Model  Kilometer  RegistrationMonth  FuelType       Brand NotRepaired  \\\n",
       "0   golf     150000                  0    petrol  volkswagen         NaN   \n",
       "1    NaN     125000                  5  gasoline        audi         yes   \n",
       "2  grand     125000                  8  gasoline        jeep         NaN   \n",
       "3   golf     150000                  6    petrol  volkswagen          no   \n",
       "4  fabia      90000                  7  gasoline       skoda          no   \n",
       "\n",
       "           DateCreated  NumberOfPictures  PostalCode             LastSeen  \n",
       "0  2016-03-24 00:00:00                 0       70435  2016-04-07 03:16:57  \n",
       "1  2016-03-24 00:00:00                 0       66954  2016-04-07 01:46:50  \n",
       "2  2016-03-14 00:00:00                 0       90480  2016-04-05 12:47:46  \n",
       "3  2016-03-17 00:00:00                 0       91074  2016-03-17 17:40:17  \n",
       "4  2016-03-31 00:00:00                 0       60437  2016-04-06 10:17:21  "
      ]
     },
     "execution_count": 2,
     "metadata": {},
     "output_type": "execute_result"
    }
   ],
   "source": [
    "df = pd.read_csv(\"autos.csv\")\n",
    "df.head()"
   ]
  },
  {
   "cell_type": "markdown",
   "metadata": {},
   "source": [
    "**Признаки**  \n",
    "`DateCrawled` – дата скачивания анкеты из базы  \n",
    "`VehicleType` – тип автомобильного кузова  \n",
    "`RegistrationYear` – год регистрации автомобиля  \n",
    "`Gearbox` – тип коробки передач  \n",
    "`Power` – мощность (л.с.)  \n",
    "`Model` – модель автомобиля  \n",
    "`Kilometer` – пробег (км)  \n",
    "`RegistrationMonth` – месяц регистрации автомобиля  \n",
    "`FuelType` – тип топлива  \n",
    "`Brand` – марка автомобиля  \n",
    "`NotRepaired` – была машина в ремонте или нет  \n",
    "`DateCreated` – дата создания анкеты  \n",
    "`NumberOfPictures` – количество фотографий автомобиля  \n",
    "`PostalCode` – почтовый индекс владельца анкеты (пользователя)  \n",
    "`LastSeen` – дата последней активности пользователя  \n",
    "\n",
    "**Целевой признак**  \n",
    "`Price` – цена (евро)  "
   ]
  },
  {
   "cell_type": "code",
   "execution_count": 3,
   "metadata": {
    "scrolled": true
   },
   "outputs": [
    {
     "name": "stdout",
     "output_type": "stream",
     "text": [
      "<class 'pandas.core.frame.DataFrame'>\n",
      "RangeIndex: 354369 entries, 0 to 354368\n",
      "Data columns (total 16 columns):\n",
      "DateCrawled          354369 non-null object\n",
      "Price                354369 non-null int64\n",
      "VehicleType          316879 non-null object\n",
      "RegistrationYear     354369 non-null int64\n",
      "Gearbox              334536 non-null object\n",
      "Power                354369 non-null int64\n",
      "Model                334664 non-null object\n",
      "Kilometer            354369 non-null int64\n",
      "RegistrationMonth    354369 non-null int64\n",
      "FuelType             321474 non-null object\n",
      "Brand                354369 non-null object\n",
      "NotRepaired          283215 non-null object\n",
      "DateCreated          354369 non-null object\n",
      "NumberOfPictures     354369 non-null int64\n",
      "PostalCode           354369 non-null int64\n",
      "LastSeen             354369 non-null object\n",
      "dtypes: int64(7), object(9)\n",
      "memory usage: 43.3+ MB\n"
     ]
    }
   ],
   "source": [
    "# Общие сведения о датафрейме\n",
    "df.info()"
   ]
  },
  {
   "cell_type": "markdown",
   "metadata": {},
   "source": [
    "В перечне представленных данных присутствуют признаки, которые напрямую не оказывают влияния на конечную стоимость автомобиля. Удаляем эти столбцы."
   ]
  },
  {
   "cell_type": "code",
   "execution_count": 4,
   "metadata": {},
   "outputs": [],
   "source": [
    "df = df.drop(columns=['DateCrawled', 'DateCreated', 'NumberOfPictures', 'PostalCode', 'LastSeen'])"
   ]
  },
  {
   "cell_type": "markdown",
   "metadata": {},
   "source": [
    "Пропуски в столбцах `VehicleType`, `Gearbox`, `Model`, `FuelType` и `NotRepaired`  заполним значением `missing`."
   ]
  },
  {
   "cell_type": "code",
   "execution_count": 5,
   "metadata": {},
   "outputs": [],
   "source": [
    "df[['VehicleType', 'Gearbox', 'Model', 'FuelType', 'NotRepaired']] = df[['VehicleType',\n",
    "                                                                         'Gearbox', 'Model',\n",
    "                                                                         'FuelType', 'NotRepaired']].fillna('missing')"
   ]
  },
  {
   "cell_type": "code",
   "execution_count": 6,
   "metadata": {},
   "outputs": [
    {
     "data": {
      "text/plain": [
       "0"
      ]
     },
     "execution_count": 6,
     "metadata": {},
     "output_type": "execute_result"
    }
   ],
   "source": [
    "# Удаляем дубликаты\n",
    "df = df.drop_duplicates().reset_index(drop=True)\n",
    "df.duplicated().sum()"
   ]
  },
  {
   "cell_type": "code",
   "execution_count": 7,
   "metadata": {},
   "outputs": [
    {
     "data": {
      "text/html": [
       "<div>\n",
       "<style scoped>\n",
       "    .dataframe tbody tr th:only-of-type {\n",
       "        vertical-align: middle;\n",
       "    }\n",
       "\n",
       "    .dataframe tbody tr th {\n",
       "        vertical-align: top;\n",
       "    }\n",
       "\n",
       "    .dataframe thead th {\n",
       "        text-align: right;\n",
       "    }\n",
       "</style>\n",
       "<table border=\"1\" class=\"dataframe\">\n",
       "  <thead>\n",
       "    <tr style=\"text-align: right;\">\n",
       "      <th></th>\n",
       "      <th>Price</th>\n",
       "      <th>RegistrationYear</th>\n",
       "      <th>Power</th>\n",
       "      <th>Kilometer</th>\n",
       "      <th>RegistrationMonth</th>\n",
       "    </tr>\n",
       "  </thead>\n",
       "  <tbody>\n",
       "    <tr>\n",
       "      <td>count</td>\n",
       "      <td>326826.000000</td>\n",
       "      <td>326826.000000</td>\n",
       "      <td>326826.000000</td>\n",
       "      <td>326826.000000</td>\n",
       "      <td>326826.000000</td>\n",
       "    </tr>\n",
       "    <tr>\n",
       "      <td>mean</td>\n",
       "      <td>4403.747330</td>\n",
       "      <td>2004.230985</td>\n",
       "      <td>110.244705</td>\n",
       "      <td>128144.073605</td>\n",
       "      <td>5.696239</td>\n",
       "    </tr>\n",
       "    <tr>\n",
       "      <td>std</td>\n",
       "      <td>4518.209808</td>\n",
       "      <td>91.120018</td>\n",
       "      <td>195.886373</td>\n",
       "      <td>37947.663920</td>\n",
       "      <td>3.724122</td>\n",
       "    </tr>\n",
       "    <tr>\n",
       "      <td>min</td>\n",
       "      <td>0.000000</td>\n",
       "      <td>1000.000000</td>\n",
       "      <td>0.000000</td>\n",
       "      <td>5000.000000</td>\n",
       "      <td>0.000000</td>\n",
       "    </tr>\n",
       "    <tr>\n",
       "      <td>25%</td>\n",
       "      <td>1000.000000</td>\n",
       "      <td>1999.000000</td>\n",
       "      <td>69.000000</td>\n",
       "      <td>125000.000000</td>\n",
       "      <td>3.000000</td>\n",
       "    </tr>\n",
       "    <tr>\n",
       "      <td>50%</td>\n",
       "      <td>2700.000000</td>\n",
       "      <td>2003.000000</td>\n",
       "      <td>105.000000</td>\n",
       "      <td>150000.000000</td>\n",
       "      <td>6.000000</td>\n",
       "    </tr>\n",
       "    <tr>\n",
       "      <td>75%</td>\n",
       "      <td>6350.000000</td>\n",
       "      <td>2008.000000</td>\n",
       "      <td>141.000000</td>\n",
       "      <td>150000.000000</td>\n",
       "      <td>9.000000</td>\n",
       "    </tr>\n",
       "    <tr>\n",
       "      <td>max</td>\n",
       "      <td>20000.000000</td>\n",
       "      <td>9999.000000</td>\n",
       "      <td>20000.000000</td>\n",
       "      <td>150000.000000</td>\n",
       "      <td>12.000000</td>\n",
       "    </tr>\n",
       "  </tbody>\n",
       "</table>\n",
       "</div>"
      ],
      "text/plain": [
       "               Price  RegistrationYear          Power      Kilometer  \\\n",
       "count  326826.000000     326826.000000  326826.000000  326826.000000   \n",
       "mean     4403.747330       2004.230985     110.244705  128144.073605   \n",
       "std      4518.209808         91.120018     195.886373   37947.663920   \n",
       "min         0.000000       1000.000000       0.000000    5000.000000   \n",
       "25%      1000.000000       1999.000000      69.000000  125000.000000   \n",
       "50%      2700.000000       2003.000000     105.000000  150000.000000   \n",
       "75%      6350.000000       2008.000000     141.000000  150000.000000   \n",
       "max     20000.000000       9999.000000   20000.000000  150000.000000   \n",
       "\n",
       "       RegistrationMonth  \n",
       "count      326826.000000  \n",
       "mean            5.696239  \n",
       "std             3.724122  \n",
       "min             0.000000  \n",
       "25%             3.000000  \n",
       "50%             6.000000  \n",
       "75%             9.000000  \n",
       "max            12.000000  "
      ]
     },
     "execution_count": 7,
     "metadata": {},
     "output_type": "execute_result"
    }
   ],
   "source": [
    "# Получение характеристик числовых величин\n",
    "df.describe()"
   ]
  },
  {
   "cell_type": "markdown",
   "metadata": {},
   "source": [
    "В столбце `RegistrationYear` содержатся искаженные данные для предельных значений `min` и `max`. В учебных целях ограничим диапазон: нижний предел – 1980 год, верхний предел – 2019 год (максимальное приемлемое значение для обозначения года).\n",
    "\n",
    "Для столбца `Power` удалим все автомобили с мощностью двигателя свыше 2000 л.с.\n",
    "\n",
    "Другие столбцы, в которых минимальное значение `min` может быть сомнительным:  \n",
    "- `Price` минимальное значение `0` может быть указано ввиду того, что транспортное средство таким образом могут сдавать на утилизацию (металлолом и т.д.).\n",
    "- `Power` автомобиль может продаваться без двигателя.  \n",
    "- `RegistrationMonth` минимальное значение `0` в данной категории, скорее всего, означает отсутствие данных на момент заполнения карточки на транспортное средство. Значительный пробег у таких автомобилей не позволяет в данном случае присвоить категорию `первый месяц`."
   ]
  },
  {
   "cell_type": "code",
   "execution_count": 8,
   "metadata": {},
   "outputs": [],
   "source": [
    "# Корректировка столбца 'RegistrationYear' и 'Power'\n",
    "df = df[(df['RegistrationYear'] >= 1980) &\n",
    "        (df['RegistrationYear'] <= 2019) &\n",
    "        (df['Power'] <= 2000)]"
   ]
  },
  {
   "cell_type": "code",
   "execution_count": 9,
   "metadata": {},
   "outputs": [],
   "source": [
    "# Выделим столбцы с признаками и метками (целевым признаком)\n",
    "X = df.drop(['Price'], axis=1)\n",
    "y = df['Price']"
   ]
  },
  {
   "cell_type": "code",
   "execution_count": 10,
   "metadata": {
    "scrolled": true
   },
   "outputs": [],
   "source": [
    "# Разделим датафрейм на обучающую и тестовую выборки\n",
    "X_train, X_test, y_train, y_test = train_test_split(X, y, test_size=0.2, random_state=12345)"
   ]
  },
  {
   "cell_type": "code",
   "execution_count": 11,
   "metadata": {},
   "outputs": [],
   "source": [
    "# Выделим столбцы с числовыми признаками\n",
    "numerical_columns = ['RegistrationYear', 'Power', 'Kilometer', 'RegistrationMonth']\n",
    "\n",
    "# Выделим столбцы с категориальными признаками\n",
    "categorical_columns = ['VehicleType', 'Gearbox', 'Model', 'FuelType', 'Brand', 'NotRepaired']"
   ]
  },
  {
   "cell_type": "code",
   "execution_count": 12,
   "metadata": {},
   "outputs": [],
   "source": [
    "# Создаем преобразователь (transformer) столбцов:\n",
    "# - для столбцов с числовыми признаками выполняем стандартизацию\n",
    "# - для столбцов с категориальными признаками применяем метод One-Hot Encoding\n",
    "column_trans = make_column_transformer((StandardScaler(), numerical_columns), \n",
    "                                       (OneHotEncoder(), categorical_columns))"
   ]
  },
  {
   "cell_type": "markdown",
   "metadata": {},
   "source": [
    "### Вывод"
   ]
  },
  {
   "cell_type": "markdown",
   "metadata": {},
   "source": [
    "Выполнена предварительная обработка предоставленного датафрейма: удалены дубликаты, откорректированы столбцы с аномальными значениями, данные разбиты на подвыборки, создан преобразователь для категориальных и числовых столбцов. \n",
    "\n",
    "Данные подготовлены для дальнейшей работы с моделями машинного обучения."
   ]
  },
  {
   "cell_type": "markdown",
   "metadata": {},
   "source": [
    "## Обучение моделей"
   ]
  },
  {
   "cell_type": "markdown",
   "metadata": {},
   "source": [
    "Используются следующие модели: `LinearRegression()`, `CatBoostRegressor()` и `LGBMRegressor()`"
   ]
  },
  {
   "cell_type": "code",
   "execution_count": 13,
   "metadata": {},
   "outputs": [],
   "source": [
    "# Создаем функцию для оценки показателей моделей машинного обучения\n",
    "def model_estimation(model):\n",
    "    \"\"\"\n",
    "    Функция принимает на вход модель для машинного обучения\n",
    "    \n",
    "    возвращает: RMSE, время обучения и время предсказания модели\n",
    "    \"\"\"\n",
    "    \n",
    "    current_model = model\n",
    "\n",
    "    pipe_model = make_pipeline(column_trans, current_model) # создаем конвейер для обработки\n",
    "\n",
    "    start_l = time.time()\n",
    "    pipe_model.fit(X_train, y_train) # выполняем обучение\n",
    "    end_l = time.time()\n",
    "\n",
    "    exec_time_l = end_l - start_l # оценка времени обучения\n",
    "\n",
    "    start_p = time.time()\n",
    "    y_pred = pipe_model.predict(X_test) # выполняем предсказание\n",
    "    end_p = time.time()\n",
    "\n",
    "    exec_time_p = end_p - start_p # оценка времени предсказания\n",
    "\n",
    "    rmse = np.sqrt(mean_squared_error(y_test, y_pred)) # вычисление контрольной метрики\n",
    "    \n",
    "    return round(rmse, 2), round(exec_time_l, 2), round(exec_time_p, 2)"
   ]
  },
  {
   "cell_type": "code",
   "execution_count": 14,
   "metadata": {},
   "outputs": [],
   "source": [
    "# Последовательно вызываем созданную функцию для выбранных моделей\n",
    "\n",
    "# LinearRegression()\n",
    "rmse_lr, exec_time_l_lr, exec_time_p_lr = model_estimation(LinearRegression())\n",
    "\n",
    "# CatBoostRegressor()\n",
    "rmse_cb, exec_time_l_cb, exec_time_p_cb = model_estimation(CatBoostRegressor(silent=True, random_state=12345))\n",
    "\n",
    "# LGBMRegressor()\n",
    "rmse_lgbm, exec_time_l_lgbm, exec_time_p_lgbm = model_estimation(LGBMRegressor(random_state=12345))"
   ]
  },
  {
   "cell_type": "markdown",
   "metadata": {},
   "source": [
    "### Вывод"
   ]
  },
  {
   "cell_type": "markdown",
   "metadata": {},
   "source": [
    "Для сравнения были выбраны три модели регрессии машинного обучения. Создана функция для обработки каждой модели из представленных. "
   ]
  },
  {
   "cell_type": "markdown",
   "metadata": {},
   "source": [
    "## Анализ моделей"
   ]
  },
  {
   "cell_type": "code",
   "execution_count": 15,
   "metadata": {
    "scrolled": true
   },
   "outputs": [
    {
     "data": {
      "text/html": [
       "<div>\n",
       "<style scoped>\n",
       "    .dataframe tbody tr th:only-of-type {\n",
       "        vertical-align: middle;\n",
       "    }\n",
       "\n",
       "    .dataframe tbody tr th {\n",
       "        vertical-align: top;\n",
       "    }\n",
       "\n",
       "    .dataframe thead th {\n",
       "        text-align: right;\n",
       "    }\n",
       "</style>\n",
       "<table border=\"1\" class=\"dataframe\">\n",
       "  <thead>\n",
       "    <tr style=\"text-align: right;\">\n",
       "      <th></th>\n",
       "      <th>LinearRegression</th>\n",
       "      <th>CatBoostRegressor</th>\n",
       "      <th>LGBMRegressor</th>\n",
       "    </tr>\n",
       "  </thead>\n",
       "  <tbody>\n",
       "    <tr>\n",
       "      <td>RMSE</td>\n",
       "      <td>2654.91</td>\n",
       "      <td>1768.85</td>\n",
       "      <td>1776.20</td>\n",
       "    </tr>\n",
       "    <tr>\n",
       "      <td>Время обучения</td>\n",
       "      <td>66.24</td>\n",
       "      <td>121.97</td>\n",
       "      <td>19.60</td>\n",
       "    </tr>\n",
       "    <tr>\n",
       "      <td>Время предсказания</td>\n",
       "      <td>0.17</td>\n",
       "      <td>0.36</td>\n",
       "      <td>0.62</td>\n",
       "    </tr>\n",
       "  </tbody>\n",
       "</table>\n",
       "</div>"
      ],
      "text/plain": [
       "                    LinearRegression  CatBoostRegressor  LGBMRegressor\n",
       "RMSE                         2654.91            1768.85        1776.20\n",
       "Время обучения                 66.24             121.97          19.60\n",
       "Время предсказания              0.17               0.36           0.62"
      ]
     },
     "execution_count": 15,
     "metadata": {},
     "output_type": "execute_result"
    }
   ],
   "source": [
    "# Соберем полученные данные в один датафрейм\n",
    "pivot_table = pd.DataFrame(data = {'LinearRegression': [rmse_lr, exec_time_l_lr, exec_time_p_lr], \n",
    "                                   'CatBoostRegressor': [rmse_cb, exec_time_l_cb, exec_time_p_cb], \n",
    "                                   'LGBMRegressor': [rmse_lgbm, exec_time_l_lgbm, exec_time_p_lgbm]},\n",
    "                           index = ['RMSE', 'Время обучения', 'Время предсказания'])\n",
    "\n",
    "\n",
    "pivot_table"
   ]
  },
  {
   "cell_type": "markdown",
   "metadata": {},
   "source": [
    "### Вывод"
   ]
  },
  {
   "cell_type": "markdown",
   "metadata": {},
   "source": [
    "Минимальные и очень близкие по значениям показатели контрольной метрики `RMSE` фиксируются у моделей, которые используют градиентный бустинг `CatBoostRegressor` и `LGBMRegressor`. Следует отметить, что по суммарному времени выполнения обучения и предсказания для предоставленных данных лидирует модель `LGBMRegressor`.\n",
    "\n",
    "**Данные для времени обучения/предсказания при запуске через удаленный сервер меняются. В среднем минимальное время обучения у `LGBMRegressor`**\n",
    "\n",
    "Таким образом, модель `LGBMRegressor` является оптимальной для решения поставленной задачи."
   ]
  }
 ],
 "metadata": {
  "ExecuteTimeLog": [
   {
    "duration": 594,
    "start_time": "2022-03-14T06:54:02.102Z"
   },
   {
    "duration": 762,
    "start_time": "2022-03-14T06:54:44.975Z"
   },
   {
    "duration": 757,
    "start_time": "2022-03-14T06:54:56.923Z"
   },
   {
    "duration": 12,
    "start_time": "2022-03-14T06:59:05.570Z"
   },
   {
    "duration": 113,
    "start_time": "2022-03-14T06:59:08.634Z"
   },
   {
    "duration": 19,
    "start_time": "2022-03-14T07:19:33.575Z"
   },
   {
    "duration": 722,
    "start_time": "2022-03-14T07:20:13.285Z"
   },
   {
    "duration": 827,
    "start_time": "2022-03-14T07:20:14.009Z"
   },
   {
    "duration": 126,
    "start_time": "2022-03-14T07:20:14.838Z"
   },
   {
    "duration": 22,
    "start_time": "2022-03-14T07:20:14.965Z"
   },
   {
    "duration": 160,
    "start_time": "2022-03-14T07:29:54.393Z"
   },
   {
    "duration": 84,
    "start_time": "2022-03-14T07:30:04.207Z"
   },
   {
    "duration": 536,
    "start_time": "2022-03-14T07:31:24.961Z"
   },
   {
    "duration": 815,
    "start_time": "2022-03-14T07:31:25.499Z"
   },
   {
    "duration": 118,
    "start_time": "2022-03-14T07:31:26.318Z"
   },
   {
    "duration": 21,
    "start_time": "2022-03-14T07:31:26.438Z"
   },
   {
    "duration": 179,
    "start_time": "2022-03-14T07:31:26.461Z"
   },
   {
    "duration": 140,
    "start_time": "2022-03-14T07:34:12.544Z"
   },
   {
    "duration": 129,
    "start_time": "2022-03-14T07:34:44.545Z"
   },
   {
    "duration": 138,
    "start_time": "2022-03-14T07:35:08.005Z"
   },
   {
    "duration": 282,
    "start_time": "2022-03-14T07:36:51.197Z"
   },
   {
    "duration": 66,
    "start_time": "2022-03-14T07:37:21.537Z"
   },
   {
    "duration": 8,
    "start_time": "2022-03-14T07:40:53.949Z"
   },
   {
    "duration": 311,
    "start_time": "2022-03-14T07:47:03.948Z"
   },
   {
    "duration": 88,
    "start_time": "2022-03-14T07:47:07.242Z"
   },
   {
    "duration": 8,
    "start_time": "2022-03-14T07:48:16.789Z"
   },
   {
    "duration": 5,
    "start_time": "2022-03-14T07:49:17.780Z"
   },
   {
    "duration": 30,
    "start_time": "2022-03-14T07:51:06.656Z"
   },
   {
    "duration": 9,
    "start_time": "2022-03-14T07:52:20.381Z"
   },
   {
    "duration": 267,
    "start_time": "2022-03-14T07:53:20.460Z"
   },
   {
    "duration": 26,
    "start_time": "2022-03-14T07:53:39.700Z"
   },
   {
    "duration": 89,
    "start_time": "2022-03-14T07:54:01.089Z"
   },
   {
    "duration": 8,
    "start_time": "2022-03-14T07:54:05.089Z"
   },
   {
    "duration": 7,
    "start_time": "2022-03-14T07:54:09.329Z"
   },
   {
    "duration": 8,
    "start_time": "2022-03-14T07:54:19.393Z"
   },
   {
    "duration": 7,
    "start_time": "2022-03-14T07:54:23.993Z"
   },
   {
    "duration": 13,
    "start_time": "2022-03-14T07:54:27.169Z"
   },
   {
    "duration": 29,
    "start_time": "2022-03-14T07:54:45.087Z"
   },
   {
    "duration": 22,
    "start_time": "2022-03-14T07:54:53.271Z"
   },
   {
    "duration": 23,
    "start_time": "2022-03-14T07:54:59.199Z"
   },
   {
    "duration": 26,
    "start_time": "2022-03-14T07:55:23.588Z"
   },
   {
    "duration": 38,
    "start_time": "2022-03-14T07:59:10.201Z"
   },
   {
    "duration": 45,
    "start_time": "2022-03-14T08:00:37.194Z"
   },
   {
    "duration": 18,
    "start_time": "2022-03-14T08:01:00.574Z"
   },
   {
    "duration": 16,
    "start_time": "2022-03-14T08:01:04.402Z"
   },
   {
    "duration": 10,
    "start_time": "2022-03-14T08:01:14.249Z"
   },
   {
    "duration": 11,
    "start_time": "2022-03-14T08:01:21.562Z"
   },
   {
    "duration": 22,
    "start_time": "2022-03-14T08:01:26.106Z"
   },
   {
    "duration": 33,
    "start_time": "2022-03-14T08:03:23.500Z"
   },
   {
    "duration": 547,
    "start_time": "2022-03-14T08:03:46.937Z"
   },
   {
    "duration": 789,
    "start_time": "2022-03-14T08:03:47.486Z"
   },
   {
    "duration": 118,
    "start_time": "2022-03-14T08:03:48.279Z"
   },
   {
    "duration": 26,
    "start_time": "2022-03-14T08:03:48.398Z"
   },
   {
    "duration": 156,
    "start_time": "2022-03-14T08:03:48.426Z"
   },
   {
    "duration": 298,
    "start_time": "2022-03-14T08:03:48.584Z"
   },
   {
    "duration": 72,
    "start_time": "2022-03-14T08:03:48.884Z"
   },
   {
    "duration": 26,
    "start_time": "2022-03-14T08:03:48.958Z"
   },
   {
    "duration": 65,
    "start_time": "2022-03-14T08:04:17.119Z"
   },
   {
    "duration": 124,
    "start_time": "2022-03-14T08:15:21.188Z"
   },
   {
    "duration": 10,
    "start_time": "2022-03-14T08:17:38.962Z"
   },
   {
    "duration": 989,
    "start_time": "2022-03-14T09:03:27.617Z"
   },
   {
    "duration": 854,
    "start_time": "2022-03-14T09:03:28.608Z"
   },
   {
    "duration": 121,
    "start_time": "2022-03-14T09:03:29.464Z"
   },
   {
    "duration": 32,
    "start_time": "2022-03-14T09:03:29.587Z"
   },
   {
    "duration": 164,
    "start_time": "2022-03-14T09:03:29.621Z"
   },
   {
    "duration": 306,
    "start_time": "2022-03-14T09:03:29.787Z"
   },
   {
    "duration": 71,
    "start_time": "2022-03-14T09:03:30.095Z"
   },
   {
    "duration": 37,
    "start_time": "2022-03-14T09:03:30.168Z"
   },
   {
    "duration": 69,
    "start_time": "2022-03-14T09:03:30.207Z"
   },
   {
    "duration": 27,
    "start_time": "2022-03-14T09:03:30.278Z"
   },
   {
    "duration": 22,
    "start_time": "2022-03-14T09:20:51.469Z"
   },
   {
    "duration": 19,
    "start_time": "2022-03-14T09:21:27.012Z"
   },
   {
    "duration": 25,
    "start_time": "2022-03-14T09:21:51.620Z"
   },
   {
    "duration": 23,
    "start_time": "2022-03-14T09:21:57.733Z"
   },
   {
    "duration": 20,
    "start_time": "2022-03-14T09:22:18.057Z"
   },
   {
    "duration": 20,
    "start_time": "2022-03-14T09:39:46.216Z"
   },
   {
    "duration": 21,
    "start_time": "2022-03-14T09:45:00.336Z"
   },
   {
    "duration": 6,
    "start_time": "2022-03-14T09:47:12.727Z"
   },
   {
    "duration": 62,
    "start_time": "2022-03-14T09:48:11.179Z"
   },
   {
    "duration": 911,
    "start_time": "2022-03-14T09:48:40.929Z"
   },
   {
    "duration": 747,
    "start_time": "2022-03-14T09:48:41.842Z"
   },
   {
    "duration": 115,
    "start_time": "2022-03-14T09:48:42.591Z"
   },
   {
    "duration": 26,
    "start_time": "2022-03-14T09:48:42.708Z"
   },
   {
    "duration": 149,
    "start_time": "2022-03-14T09:48:42.735Z"
   },
   {
    "duration": 320,
    "start_time": "2022-03-14T09:48:42.886Z"
   },
   {
    "duration": 73,
    "start_time": "2022-03-14T09:48:43.208Z"
   },
   {
    "duration": 35,
    "start_time": "2022-03-14T09:48:43.283Z"
   },
   {
    "duration": 63,
    "start_time": "2022-03-14T09:48:43.320Z"
   },
   {
    "duration": 22,
    "start_time": "2022-03-14T09:48:43.384Z"
   },
   {
    "duration": 21,
    "start_time": "2022-03-14T09:48:43.407Z"
   },
   {
    "duration": 6,
    "start_time": "2022-03-14T09:48:43.429Z"
   },
   {
    "duration": 54,
    "start_time": "2022-03-14T09:48:43.436Z"
   },
   {
    "duration": 874,
    "start_time": "2022-03-14T10:41:56.862Z"
   },
   {
    "duration": 802,
    "start_time": "2022-03-14T10:41:57.738Z"
   },
   {
    "duration": 115,
    "start_time": "2022-03-14T10:41:58.542Z"
   },
   {
    "duration": 23,
    "start_time": "2022-03-14T10:41:58.659Z"
   },
   {
    "duration": 152,
    "start_time": "2022-03-14T10:41:58.684Z"
   },
   {
    "duration": 276,
    "start_time": "2022-03-14T10:41:58.837Z"
   },
   {
    "duration": 58,
    "start_time": "2022-03-14T10:41:59.114Z"
   },
   {
    "duration": 36,
    "start_time": "2022-03-14T10:41:59.174Z"
   },
   {
    "duration": 64,
    "start_time": "2022-03-14T10:41:59.211Z"
   },
   {
    "duration": 8,
    "start_time": "2022-03-14T10:41:59.277Z"
   },
   {
    "duration": 33,
    "start_time": "2022-03-14T10:41:59.287Z"
   },
   {
    "duration": 6,
    "start_time": "2022-03-14T10:41:59.322Z"
   },
   {
    "duration": 58,
    "start_time": "2022-03-14T10:41:59.329Z"
   },
   {
    "duration": 12,
    "start_time": "2022-03-14T10:49:29.990Z"
   },
   {
    "duration": 37,
    "start_time": "2022-03-14T10:49:42.081Z"
   },
   {
    "duration": 10,
    "start_time": "2022-03-14T10:49:53.650Z"
   },
   {
    "duration": 20,
    "start_time": "2022-03-14T10:49:58.914Z"
   },
   {
    "duration": 57,
    "start_time": "2022-03-14T10:55:58.267Z"
   },
   {
    "duration": 945,
    "start_time": "2022-03-14T10:57:48.895Z"
   },
   {
    "duration": 739,
    "start_time": "2022-03-14T10:57:49.842Z"
   },
   {
    "duration": 119,
    "start_time": "2022-03-14T10:57:50.585Z"
   },
   {
    "duration": 24,
    "start_time": "2022-03-14T10:57:50.705Z"
   },
   {
    "duration": 149,
    "start_time": "2022-03-14T10:57:50.730Z"
   },
   {
    "duration": 286,
    "start_time": "2022-03-14T10:57:50.880Z"
   },
   {
    "duration": 65,
    "start_time": "2022-03-14T10:57:51.169Z"
   },
   {
    "duration": 24,
    "start_time": "2022-03-14T10:57:51.236Z"
   },
   {
    "duration": 75,
    "start_time": "2022-03-14T10:57:51.262Z"
   },
   {
    "duration": 9,
    "start_time": "2022-03-14T10:57:51.339Z"
   },
   {
    "duration": 8,
    "start_time": "2022-03-14T10:57:51.349Z"
   },
   {
    "duration": 5,
    "start_time": "2022-03-14T10:57:51.358Z"
   },
   {
    "duration": 77,
    "start_time": "2022-03-14T10:57:51.365Z"
   },
   {
    "duration": 62,
    "start_time": "2022-03-14T11:04:12.445Z"
   },
   {
    "duration": 55,
    "start_time": "2022-03-14T11:44:17.593Z"
   },
   {
    "duration": 331,
    "start_time": "2022-03-14T11:44:23.572Z"
   },
   {
    "duration": 19,
    "start_time": "2022-03-14T11:44:27.355Z"
   },
   {
    "duration": 5,
    "start_time": "2022-03-14T11:45:48.166Z"
   },
   {
    "duration": 943,
    "start_time": "2022-03-14T11:46:58.125Z"
   },
   {
    "duration": 773,
    "start_time": "2022-03-14T11:46:59.070Z"
   },
   {
    "duration": 111,
    "start_time": "2022-03-14T11:46:59.845Z"
   },
   {
    "duration": 30,
    "start_time": "2022-03-14T11:46:59.958Z"
   },
   {
    "duration": 176,
    "start_time": "2022-03-14T11:46:59.989Z"
   },
   {
    "duration": 299,
    "start_time": "2022-03-14T11:47:00.167Z"
   },
   {
    "duration": 64,
    "start_time": "2022-03-14T11:47:00.468Z"
   },
   {
    "duration": 24,
    "start_time": "2022-03-14T11:47:00.534Z"
   },
   {
    "duration": 35,
    "start_time": "2022-03-14T11:47:00.559Z"
   },
   {
    "duration": 76,
    "start_time": "2022-03-14T11:49:26.560Z"
   },
   {
    "duration": 4,
    "start_time": "2022-03-14T11:50:38.092Z"
   },
   {
    "duration": 3,
    "start_time": "2022-03-14T11:50:49.584Z"
   },
   {
    "duration": 4,
    "start_time": "2022-03-14T11:51:02.465Z"
   },
   {
    "duration": 3,
    "start_time": "2022-03-14T11:51:08.997Z"
   },
   {
    "duration": 4,
    "start_time": "2022-03-14T11:51:34.445Z"
   },
   {
    "duration": 77,
    "start_time": "2022-03-14T11:51:56.453Z"
   },
   {
    "duration": 65,
    "start_time": "2022-03-14T12:22:33.042Z"
   },
   {
    "duration": 3,
    "start_time": "2022-03-14T12:29:36.231Z"
   },
   {
    "duration": 671,
    "start_time": "2022-03-14T12:29:37.294Z"
   },
   {
    "duration": 1015,
    "start_time": "2022-03-14T12:29:58.060Z"
   },
   {
    "duration": 730,
    "start_time": "2022-03-14T12:29:59.076Z"
   },
   {
    "duration": 113,
    "start_time": "2022-03-14T12:29:59.807Z"
   },
   {
    "duration": 25,
    "start_time": "2022-03-14T12:29:59.922Z"
   },
   {
    "duration": 164,
    "start_time": "2022-03-14T12:29:59.948Z"
   },
   {
    "duration": 289,
    "start_time": "2022-03-14T12:30:00.114Z"
   },
   {
    "duration": 62,
    "start_time": "2022-03-14T12:30:00.405Z"
   },
   {
    "duration": 33,
    "start_time": "2022-03-14T12:30:00.469Z"
   },
   {
    "duration": 18,
    "start_time": "2022-03-14T12:30:00.504Z"
   },
   {
    "duration": 92,
    "start_time": "2022-03-14T12:30:00.523Z"
   },
   {
    "duration": 71,
    "start_time": "2022-03-14T12:30:00.617Z"
   },
   {
    "duration": 2,
    "start_time": "2022-03-14T12:30:00.690Z"
   },
   {
    "duration": 583,
    "start_time": "2022-03-14T12:30:00.693Z"
   },
   {
    "duration": -6105,
    "start_time": "2022-03-14T12:30:07.382Z"
   },
   {
    "duration": 959,
    "start_time": "2022-03-14T12:31:36.043Z"
   },
   {
    "duration": 721,
    "start_time": "2022-03-14T12:31:37.004Z"
   },
   {
    "duration": 116,
    "start_time": "2022-03-14T12:31:37.727Z"
   },
   {
    "duration": 23,
    "start_time": "2022-03-14T12:31:37.845Z"
   },
   {
    "duration": 151,
    "start_time": "2022-03-14T12:31:37.870Z"
   },
   {
    "duration": 277,
    "start_time": "2022-03-14T12:31:38.022Z"
   },
   {
    "duration": 59,
    "start_time": "2022-03-14T12:31:38.300Z"
   },
   {
    "duration": 36,
    "start_time": "2022-03-14T12:31:38.362Z"
   },
   {
    "duration": 17,
    "start_time": "2022-03-14T12:31:38.400Z"
   },
   {
    "duration": 86,
    "start_time": "2022-03-14T12:31:38.419Z"
   },
   {
    "duration": 79,
    "start_time": "2022-03-14T12:31:38.506Z"
   },
   {
    "duration": 3,
    "start_time": "2022-03-14T12:31:38.587Z"
   },
   {
    "duration": 6,
    "start_time": "2022-03-14T12:31:38.592Z"
   },
   {
    "duration": 436,
    "start_time": "2022-03-14T12:31:38.600Z"
   },
   {
    "duration": 999,
    "start_time": "2022-03-14T12:56:59.467Z"
   },
   {
    "duration": 738,
    "start_time": "2022-03-14T12:57:00.468Z"
   },
   {
    "duration": 112,
    "start_time": "2022-03-14T12:57:01.208Z"
   },
   {
    "duration": 25,
    "start_time": "2022-03-14T12:57:01.322Z"
   },
   {
    "duration": 160,
    "start_time": "2022-03-14T12:57:01.348Z"
   },
   {
    "duration": 295,
    "start_time": "2022-03-14T12:57:01.510Z"
   },
   {
    "duration": 75,
    "start_time": "2022-03-14T12:57:01.807Z"
   },
   {
    "duration": 26,
    "start_time": "2022-03-14T12:57:01.884Z"
   },
   {
    "duration": 18,
    "start_time": "2022-03-14T12:57:01.912Z"
   },
   {
    "duration": 89,
    "start_time": "2022-03-14T12:57:01.932Z"
   },
   {
    "duration": 72,
    "start_time": "2022-03-14T12:57:02.023Z"
   },
   {
    "duration": 4,
    "start_time": "2022-03-14T12:57:02.097Z"
   },
   {
    "duration": 13,
    "start_time": "2022-03-14T12:57:02.102Z"
   },
   {
    "duration": 6,
    "start_time": "2022-03-14T12:57:02.116Z"
   },
   {
    "duration": 5,
    "start_time": "2022-03-14T12:57:13.024Z"
   },
   {
    "duration": 1026,
    "start_time": "2022-03-14T13:05:56.240Z"
   },
   {
    "duration": 692,
    "start_time": "2022-03-14T13:05:57.268Z"
   },
   {
    "duration": 129,
    "start_time": "2022-03-14T13:05:57.962Z"
   },
   {
    "duration": 25,
    "start_time": "2022-03-14T13:05:58.093Z"
   },
   {
    "duration": 169,
    "start_time": "2022-03-14T13:05:58.120Z"
   },
   {
    "duration": 283,
    "start_time": "2022-03-14T13:05:58.291Z"
   },
   {
    "duration": 62,
    "start_time": "2022-03-14T13:05:58.575Z"
   },
   {
    "duration": 23,
    "start_time": "2022-03-14T13:05:58.639Z"
   },
   {
    "duration": 29,
    "start_time": "2022-03-14T13:05:58.664Z"
   },
   {
    "duration": 70,
    "start_time": "2022-03-14T13:05:58.695Z"
   },
   {
    "duration": 81,
    "start_time": "2022-03-14T13:05:58.766Z"
   },
   {
    "duration": 2,
    "start_time": "2022-03-14T13:05:58.849Z"
   },
   {
    "duration": 4,
    "start_time": "2022-03-14T13:05:58.853Z"
   },
   {
    "duration": 466,
    "start_time": "2022-03-14T13:09:51.554Z"
   },
   {
    "duration": 1036,
    "start_time": "2022-03-14T13:10:03.539Z"
   },
   {
    "duration": 821,
    "start_time": "2022-03-14T13:10:04.576Z"
   },
   {
    "duration": 113,
    "start_time": "2022-03-14T13:10:05.399Z"
   },
   {
    "duration": 26,
    "start_time": "2022-03-14T13:10:05.514Z"
   },
   {
    "duration": 157,
    "start_time": "2022-03-14T13:10:05.541Z"
   },
   {
    "duration": 295,
    "start_time": "2022-03-14T13:10:05.699Z"
   },
   {
    "duration": 61,
    "start_time": "2022-03-14T13:10:05.996Z"
   },
   {
    "duration": 36,
    "start_time": "2022-03-14T13:10:06.059Z"
   },
   {
    "duration": 17,
    "start_time": "2022-03-14T13:10:06.097Z"
   },
   {
    "duration": 79,
    "start_time": "2022-03-14T13:10:06.115Z"
   },
   {
    "duration": 69,
    "start_time": "2022-03-14T13:10:06.196Z"
   },
   {
    "duration": 3,
    "start_time": "2022-03-14T13:10:06.280Z"
   },
   {
    "duration": 11,
    "start_time": "2022-03-14T13:10:06.284Z"
   },
   {
    "duration": 375,
    "start_time": "2022-03-14T13:10:06.296Z"
   },
   {
    "duration": 2,
    "start_time": "2022-03-14T13:11:51.757Z"
   },
   {
    "duration": 3,
    "start_time": "2022-03-14T13:13:29.794Z"
   },
   {
    "duration": 66082,
    "start_time": "2022-03-14T13:14:01.803Z"
   },
   {
    "duration": 86,
    "start_time": "2022-03-14T13:17:56.508Z"
   },
   {
    "duration": 4,
    "start_time": "2022-03-14T13:18:36.001Z"
   },
   {
    "duration": 88,
    "start_time": "2022-03-14T13:20:06.839Z"
   },
   {
    "duration": 593,
    "start_time": "2022-03-14T13:20:07.846Z"
   },
   {
    "duration": 5,
    "start_time": "2022-03-14T13:20:15.598Z"
   },
   {
    "duration": 5,
    "start_time": "2022-03-14T13:22:19.965Z"
   },
   {
    "duration": 89,
    "start_time": "2022-03-14T13:22:26.073Z"
   },
   {
    "duration": 3,
    "start_time": "2022-03-14T13:22:26.841Z"
   },
   {
    "duration": 5,
    "start_time": "2022-03-14T13:22:32.722Z"
   },
   {
    "duration": 1113,
    "start_time": "2022-03-14T13:26:46.807Z"
   },
   {
    "duration": 730,
    "start_time": "2022-03-14T13:26:47.922Z"
   },
   {
    "duration": 115,
    "start_time": "2022-03-14T13:26:48.654Z"
   },
   {
    "duration": 30,
    "start_time": "2022-03-14T13:26:48.770Z"
   },
   {
    "duration": 154,
    "start_time": "2022-03-14T13:26:48.802Z"
   },
   {
    "duration": 292,
    "start_time": "2022-03-14T13:26:48.958Z"
   },
   {
    "duration": 69,
    "start_time": "2022-03-14T13:26:49.252Z"
   },
   {
    "duration": 24,
    "start_time": "2022-03-14T13:26:49.323Z"
   },
   {
    "duration": 18,
    "start_time": "2022-03-14T13:26:49.348Z"
   },
   {
    "duration": 81,
    "start_time": "2022-03-14T13:26:49.367Z"
   },
   {
    "duration": 75,
    "start_time": "2022-03-14T13:26:49.450Z"
   },
   {
    "duration": 3,
    "start_time": "2022-03-14T13:26:49.527Z"
   },
   {
    "duration": 5,
    "start_time": "2022-03-14T13:26:49.531Z"
   },
   {
    "duration": 68089,
    "start_time": "2022-03-14T13:26:49.537Z"
   },
   {
    "duration": 70856,
    "start_time": "2022-03-14T13:29:10.594Z"
   },
   {
    "duration": 7,
    "start_time": "2022-03-14T13:34:38.497Z"
   },
   {
    "duration": 67263,
    "start_time": "2022-03-14T13:40:35.199Z"
   },
   {
    "duration": 67067,
    "start_time": "2022-03-14T13:41:55.190Z"
   },
   {
    "duration": 341,
    "start_time": "2022-03-14T13:49:39.430Z"
   },
   {
    "duration": 974,
    "start_time": "2022-03-14T13:49:53.043Z"
   },
   {
    "duration": 731,
    "start_time": "2022-03-14T13:49:54.019Z"
   },
   {
    "duration": 114,
    "start_time": "2022-03-14T13:49:54.753Z"
   },
   {
    "duration": 22,
    "start_time": "2022-03-14T13:49:54.868Z"
   },
   {
    "duration": 152,
    "start_time": "2022-03-14T13:49:54.891Z"
   },
   {
    "duration": 296,
    "start_time": "2022-03-14T13:49:55.045Z"
   },
   {
    "duration": 61,
    "start_time": "2022-03-14T13:49:55.343Z"
   },
   {
    "duration": 29,
    "start_time": "2022-03-14T13:49:55.406Z"
   },
   {
    "duration": 17,
    "start_time": "2022-03-14T13:49:55.437Z"
   },
   {
    "duration": 68,
    "start_time": "2022-03-14T13:49:55.481Z"
   },
   {
    "duration": 89,
    "start_time": "2022-03-14T13:49:55.550Z"
   },
   {
    "duration": 3,
    "start_time": "2022-03-14T13:49:55.640Z"
   },
   {
    "duration": 5,
    "start_time": "2022-03-14T13:49:55.644Z"
   },
   {
    "duration": 71504,
    "start_time": "2022-03-14T13:49:55.650Z"
   },
   {
    "duration": 124132,
    "start_time": "2022-03-14T13:51:07.155Z"
   },
   {
    "duration": 124448,
    "start_time": "2022-03-14T13:59:39.641Z"
   },
   {
    "duration": 121013,
    "start_time": "2022-03-14T14:02:00.777Z"
   },
   {
    "duration": 1057,
    "start_time": "2022-03-14T14:07:08.881Z"
   },
   {
    "duration": 894,
    "start_time": "2022-03-14T14:07:09.940Z"
   },
   {
    "duration": 126,
    "start_time": "2022-03-14T14:07:10.836Z"
   },
   {
    "duration": 37,
    "start_time": "2022-03-14T14:07:10.964Z"
   },
   {
    "duration": 176,
    "start_time": "2022-03-14T14:07:11.004Z"
   },
   {
    "duration": 313,
    "start_time": "2022-03-14T14:07:11.182Z"
   },
   {
    "duration": 69,
    "start_time": "2022-03-14T14:07:11.497Z"
   },
   {
    "duration": 36,
    "start_time": "2022-03-14T14:07:11.569Z"
   },
   {
    "duration": 18,
    "start_time": "2022-03-14T14:07:11.607Z"
   },
   {
    "duration": 101,
    "start_time": "2022-03-14T14:07:11.626Z"
   },
   {
    "duration": 73,
    "start_time": "2022-03-14T14:07:11.729Z"
   },
   {
    "duration": 3,
    "start_time": "2022-03-14T14:07:11.803Z"
   },
   {
    "duration": 16,
    "start_time": "2022-03-14T14:07:11.807Z"
   },
   {
    "duration": 68030,
    "start_time": "2022-03-14T14:07:11.825Z"
   },
   {
    "duration": 123342,
    "start_time": "2022-03-14T14:08:19.856Z"
   },
   {
    "duration": 509,
    "start_time": "2022-03-14T14:13:42.524Z"
   },
   {
    "duration": 9560,
    "start_time": "2022-03-14T14:14:22.548Z"
   },
   {
    "duration": 453,
    "start_time": "2022-03-14T16:15:45.891Z"
   },
   {
    "duration": 292,
    "start_time": "2022-03-14T16:16:23.055Z"
   },
   {
    "duration": 452,
    "start_time": "2022-03-14T16:17:39.221Z"
   },
   {
    "duration": 355,
    "start_time": "2022-03-14T16:18:08.638Z"
   },
   {
    "duration": 6,
    "start_time": "2022-03-14T16:20:39.171Z"
   },
   {
    "duration": 437,
    "start_time": "2022-03-14T16:21:06.383Z"
   },
   {
    "duration": 525,
    "start_time": "2022-03-14T16:23:15.884Z"
   },
   {
    "duration": 546,
    "start_time": "2022-03-14T16:23:20.491Z"
   },
   {
    "duration": 908,
    "start_time": "2022-03-14T16:23:50.976Z"
   },
   {
    "duration": 408,
    "start_time": "2022-03-14T16:24:16.321Z"
   },
   {
    "duration": 853,
    "start_time": "2022-03-14T16:24:22.981Z"
   },
   {
    "duration": 1041,
    "start_time": "2022-03-14T16:24:29.453Z"
   },
   {
    "duration": 211,
    "start_time": "2022-03-14T16:24:34.404Z"
   },
   {
    "duration": 888,
    "start_time": "2022-03-14T16:24:38.813Z"
   },
   {
    "duration": 1015,
    "start_time": "2022-03-14T16:24:51.254Z"
   },
   {
    "duration": 950,
    "start_time": "2022-03-14T16:24:57.573Z"
   },
   {
    "duration": 447,
    "start_time": "2022-03-14T16:25:03.713Z"
   },
   {
    "duration": 417,
    "start_time": "2022-03-14T16:25:06.953Z"
   },
   {
    "duration": 1099,
    "start_time": "2022-03-14T16:25:42.158Z"
   },
   {
    "duration": 406,
    "start_time": "2022-03-14T16:25:53.534Z"
   },
   {
    "duration": 989,
    "start_time": "2022-03-14T16:26:03.374Z"
   },
   {
    "duration": 418,
    "start_time": "2022-03-14T16:26:08.939Z"
   },
   {
    "duration": 17,
    "start_time": "2022-03-14T16:35:21.401Z"
   },
   {
    "duration": 17,
    "start_time": "2022-03-14T16:35:27.919Z"
   },
   {
    "duration": 410,
    "start_time": "2022-03-14T16:42:27.355Z"
   },
   {
    "duration": 65,
    "start_time": "2022-03-14T16:42:46.299Z"
   },
   {
    "duration": 1321,
    "start_time": "2022-03-14T16:43:33.103Z"
   },
   {
    "duration": 740,
    "start_time": "2022-03-14T16:43:34.426Z"
   },
   {
    "duration": 114,
    "start_time": "2022-03-14T16:43:35.168Z"
   },
   {
    "duration": 510,
    "start_time": "2022-03-14T16:43:35.283Z"
   },
   {
    "duration": 415,
    "start_time": "2022-03-14T16:43:35.795Z"
   },
   {
    "duration": 434,
    "start_time": "2022-03-14T16:43:36.211Z"
   },
   {
    "duration": 85,
    "start_time": "2022-03-14T16:43:36.646Z"
   },
   {
    "duration": 753,
    "start_time": "2022-03-14T16:43:36.733Z"
   },
   {
    "duration": 336,
    "start_time": "2022-03-14T16:43:37.488Z"
   },
   {
    "duration": 520,
    "start_time": "2022-03-14T16:43:37.825Z"
   },
   {
    "duration": 364,
    "start_time": "2022-03-14T16:43:38.346Z"
   },
   {
    "duration": 82,
    "start_time": "2022-03-14T16:43:38.712Z"
   },
   {
    "duration": 619,
    "start_time": "2022-03-14T16:43:38.795Z"
   },
   {
    "duration": 697,
    "start_time": "2022-03-14T16:43:39.416Z"
   },
   {
    "duration": 771,
    "start_time": "2022-03-14T16:43:40.114Z"
   },
   {
    "duration": 56,
    "start_time": "2022-03-14T16:45:04.589Z"
   },
   {
    "duration": 5,
    "start_time": "2022-03-14T16:55:08.524Z"
   },
   {
    "duration": 71557,
    "start_time": "2022-03-14T16:55:18.507Z"
   },
   {
    "duration": 63279,
    "start_time": "2022-03-14T16:56:37.382Z"
   },
   {
    "duration": 288850,
    "start_time": "2022-03-14T16:59:59.425Z"
   },
   {
    "duration": 68542,
    "start_time": "2022-03-14T17:05:01.227Z"
   },
   {
    "duration": 1453,
    "start_time": "2022-03-14T17:10:14.939Z"
   },
   {
    "duration": 753,
    "start_time": "2022-03-14T17:10:16.394Z"
   },
   {
    "duration": 119,
    "start_time": "2022-03-14T17:10:17.149Z"
   },
   {
    "duration": 284,
    "start_time": "2022-03-14T17:10:17.270Z"
   },
   {
    "duration": 417,
    "start_time": "2022-03-14T17:10:17.555Z"
   },
   {
    "duration": 485,
    "start_time": "2022-03-14T17:10:17.974Z"
   },
   {
    "duration": 72,
    "start_time": "2022-03-14T17:10:18.460Z"
   },
   {
    "duration": 196,
    "start_time": "2022-03-14T17:10:18.534Z"
   },
   {
    "duration": 299,
    "start_time": "2022-03-14T17:10:18.732Z"
   },
   {
    "duration": 484,
    "start_time": "2022-03-14T17:10:19.032Z"
   },
   {
    "duration": 720,
    "start_time": "2022-03-14T17:10:19.518Z"
   },
   {
    "duration": 661,
    "start_time": "2022-03-14T17:10:20.239Z"
   },
   {
    "duration": 66740,
    "start_time": "2022-03-14T17:10:30.115Z"
   },
   {
    "duration": 66499,
    "start_time": "2022-03-14T17:14:01.259Z"
   },
   {
    "duration": 64451,
    "start_time": "2022-03-14T17:16:02.109Z"
   },
   {
    "duration": 4,
    "start_time": "2022-03-14T17:42:02.163Z"
   },
   {
    "duration": 59767,
    "start_time": "2022-03-14T17:42:03.398Z"
   },
   {
    "duration": 1197,
    "start_time": "2022-03-14T17:49:08.235Z"
   },
   {
    "duration": 768,
    "start_time": "2022-03-14T17:49:09.434Z"
   },
   {
    "duration": 117,
    "start_time": "2022-03-14T17:49:10.204Z"
   },
   {
    "duration": 146,
    "start_time": "2022-03-14T17:49:10.323Z"
   },
   {
    "duration": 349,
    "start_time": "2022-03-14T17:49:10.471Z"
   },
   {
    "duration": 394,
    "start_time": "2022-03-14T17:49:10.822Z"
   },
   {
    "duration": 67,
    "start_time": "2022-03-14T17:49:11.218Z"
   },
   {
    "duration": 243,
    "start_time": "2022-03-14T17:49:11.287Z"
   },
   {
    "duration": 267,
    "start_time": "2022-03-14T17:49:11.532Z"
   },
   {
    "duration": 232,
    "start_time": "2022-03-14T17:49:11.801Z"
   },
   {
    "duration": 93,
    "start_time": "2022-03-14T17:49:12.034Z"
   },
   {
    "duration": 466,
    "start_time": "2022-03-14T17:49:12.128Z"
   },
   {
    "duration": 72458,
    "start_time": "2022-03-14T17:49:12.595Z"
   },
   {
    "duration": 120835,
    "start_time": "2022-03-14T17:50:25.055Z"
   },
   {
    "duration": 8994,
    "start_time": "2022-03-14T17:52:25.891Z"
   },
   {
    "duration": 3,
    "start_time": "2022-03-14T17:52:34.887Z"
   },
   {
    "duration": 196993,
    "start_time": "2022-03-14T17:52:34.892Z"
   },
   {
    "duration": 11098,
    "start_time": "2022-03-14T18:00:11.585Z"
   },
   {
    "duration": 8450,
    "start_time": "2022-03-14T18:03:10.336Z"
   },
   {
    "duration": 210925,
    "start_time": "2022-03-14T18:03:37.168Z"
   },
   {
    "duration": 314,
    "start_time": "2022-03-14T18:23:03.295Z"
   },
   {
    "duration": 230,
    "start_time": "2022-03-14T18:24:16.719Z"
   },
   {
    "duration": 9,
    "start_time": "2022-03-14T18:24:23.453Z"
   },
   {
    "duration": 8,
    "start_time": "2022-03-14T18:25:48.908Z"
   },
   {
    "duration": 8,
    "start_time": "2022-03-14T18:26:44.545Z"
   },
   {
    "duration": 9,
    "start_time": "2022-03-14T18:30:10.792Z"
   },
   {
    "duration": 9,
    "start_time": "2022-03-14T18:30:15.612Z"
   },
   {
    "duration": 7,
    "start_time": "2022-03-14T18:30:22.371Z"
   },
   {
    "duration": 10,
    "start_time": "2022-03-14T18:32:51.502Z"
   },
   {
    "duration": 8,
    "start_time": "2022-03-14T18:33:18.052Z"
   },
   {
    "duration": 184,
    "start_time": "2022-03-14T18:35:23.172Z"
   },
   {
    "duration": 11,
    "start_time": "2022-03-14T18:35:30.900Z"
   },
   {
    "duration": 10,
    "start_time": "2022-03-14T18:36:21.475Z"
   },
   {
    "duration": 10,
    "start_time": "2022-03-14T18:40:00.743Z"
   },
   {
    "duration": 90,
    "start_time": "2022-03-14T18:40:47.967Z"
   },
   {
    "duration": 4,
    "start_time": "2022-03-14T18:42:18.601Z"
   },
   {
    "duration": 193222,
    "start_time": "2022-03-14T18:42:21.872Z"
   },
   {
    "duration": 4,
    "start_time": "2022-03-14T18:46:21.432Z"
   },
   {
    "duration": 211159,
    "start_time": "2022-03-14T18:46:42.539Z"
   },
   {
    "duration": 9,
    "start_time": "2022-03-14T18:50:28.847Z"
   },
   {
    "duration": 8,
    "start_time": "2022-03-14T18:50:44.334Z"
   },
   {
    "duration": 8,
    "start_time": "2022-03-14T18:51:01.612Z"
   },
   {
    "duration": 8,
    "start_time": "2022-03-14T18:51:50.290Z"
   },
   {
    "duration": 1139,
    "start_time": "2022-03-14T19:06:00.501Z"
   },
   {
    "duration": 765,
    "start_time": "2022-03-14T19:06:01.642Z"
   },
   {
    "duration": 116,
    "start_time": "2022-03-14T19:06:02.411Z"
   },
   {
    "duration": 26,
    "start_time": "2022-03-14T19:06:02.529Z"
   },
   {
    "duration": 170,
    "start_time": "2022-03-14T19:06:02.556Z"
   },
   {
    "duration": 309,
    "start_time": "2022-03-14T19:06:02.728Z"
   },
   {
    "duration": 71,
    "start_time": "2022-03-14T19:06:03.039Z"
   },
   {
    "duration": 27,
    "start_time": "2022-03-14T19:06:03.111Z"
   },
   {
    "duration": 19,
    "start_time": "2022-03-14T19:06:03.140Z"
   },
   {
    "duration": 95,
    "start_time": "2022-03-14T19:06:03.161Z"
   },
   {
    "duration": 3,
    "start_time": "2022-03-14T19:06:03.257Z"
   },
   {
    "duration": 23,
    "start_time": "2022-03-14T19:06:03.262Z"
   },
   {
    "duration": 27,
    "start_time": "2022-03-14T19:06:03.287Z"
   },
   {
    "duration": 195573,
    "start_time": "2022-03-14T19:06:03.316Z"
   },
   {
    "duration": 8,
    "start_time": "2022-03-14T19:09:18.891Z"
   },
   {
    "duration": 81872,
    "start_time": "2022-03-14T19:20:28.111Z"
   },
   {
    "duration": 4,
    "start_time": "2022-03-14T19:23:07.530Z"
   },
   {
    "duration": 79931,
    "start_time": "2022-03-14T19:23:34.453Z"
   },
   {
    "duration": 8,
    "start_time": "2022-03-14T19:25:41.523Z"
   },
   {
    "duration": 192640,
    "start_time": "2022-03-14T19:26:30.754Z"
   },
   {
    "duration": 9,
    "start_time": "2022-03-14T19:30:16.665Z"
   },
   {
    "duration": 4,
    "start_time": "2022-03-14T19:30:36.387Z"
   },
   {
    "duration": 185486,
    "start_time": "2022-03-14T19:30:38.202Z"
   },
   {
    "duration": 8,
    "start_time": "2022-03-14T19:34:27.400Z"
   },
   {
    "duration": 158,
    "start_time": "2022-03-14T19:39:07.643Z"
   },
   {
    "duration": 111,
    "start_time": "2022-03-14T19:39:14.715Z"
   },
   {
    "duration": 1092,
    "start_time": "2022-03-14T19:47:48.278Z"
   },
   {
    "duration": 759,
    "start_time": "2022-03-14T19:47:49.372Z"
   },
   {
    "duration": 137,
    "start_time": "2022-03-14T19:47:50.133Z"
   },
   {
    "duration": 29,
    "start_time": "2022-03-14T19:47:50.271Z"
   },
   {
    "duration": 167,
    "start_time": "2022-03-14T19:47:50.302Z"
   },
   {
    "duration": 315,
    "start_time": "2022-03-14T19:47:50.471Z"
   },
   {
    "duration": 63,
    "start_time": "2022-03-14T19:47:50.788Z"
   },
   {
    "duration": 42,
    "start_time": "2022-03-14T19:47:50.853Z"
   },
   {
    "duration": 22,
    "start_time": "2022-03-14T19:47:50.897Z"
   },
   {
    "duration": 109,
    "start_time": "2022-03-14T19:47:50.921Z"
   },
   {
    "duration": 3,
    "start_time": "2022-03-14T19:47:51.032Z"
   },
   {
    "duration": 11,
    "start_time": "2022-03-14T19:47:51.036Z"
   },
   {
    "duration": 10,
    "start_time": "2022-03-14T19:47:51.049Z"
   },
   {
    "duration": 219630,
    "start_time": "2022-03-14T19:47:51.061Z"
   },
   {
    "duration": 9,
    "start_time": "2022-03-14T19:51:30.698Z"
   },
   {
    "duration": 1089,
    "start_time": "2022-03-14T19:59:29.241Z"
   },
   {
    "duration": 782,
    "start_time": "2022-03-14T19:59:30.332Z"
   },
   {
    "duration": 123,
    "start_time": "2022-03-14T19:59:31.116Z"
   },
   {
    "duration": 27,
    "start_time": "2022-03-14T19:59:31.241Z"
   },
   {
    "duration": 157,
    "start_time": "2022-03-14T19:59:31.270Z"
   },
   {
    "duration": 304,
    "start_time": "2022-03-14T19:59:31.428Z"
   },
   {
    "duration": 67,
    "start_time": "2022-03-14T19:59:31.733Z"
   },
   {
    "duration": 25,
    "start_time": "2022-03-14T19:59:31.802Z"
   },
   {
    "duration": 18,
    "start_time": "2022-03-14T19:59:31.829Z"
   },
   {
    "duration": 82,
    "start_time": "2022-03-14T19:59:31.848Z"
   },
   {
    "duration": 3,
    "start_time": "2022-03-14T19:59:31.932Z"
   },
   {
    "duration": 5,
    "start_time": "2022-03-14T19:59:31.936Z"
   },
   {
    "duration": 4,
    "start_time": "2022-03-14T19:59:31.943Z"
   },
   {
    "duration": 320232,
    "start_time": "2022-03-14T19:59:31.949Z"
   },
   {
    "duration": 8,
    "start_time": "2022-03-14T20:04:52.183Z"
   },
   {
    "duration": 373798,
    "start_time": "2022-03-14T20:06:52.892Z"
   },
   {
    "duration": 9,
    "start_time": "2022-03-14T20:13:31.505Z"
   },
   {
    "duration": 1167,
    "start_time": "2022-03-14T20:21:49.164Z"
   },
   {
    "duration": 729,
    "start_time": "2022-03-14T20:21:50.333Z"
   },
   {
    "duration": 121,
    "start_time": "2022-03-14T20:21:51.065Z"
   },
   {
    "duration": 34,
    "start_time": "2022-03-14T20:21:51.188Z"
   },
   {
    "duration": 153,
    "start_time": "2022-03-14T20:21:51.224Z"
   },
   {
    "duration": 289,
    "start_time": "2022-03-14T20:21:51.379Z"
   },
   {
    "duration": 69,
    "start_time": "2022-03-14T20:21:51.670Z"
   },
   {
    "duration": 26,
    "start_time": "2022-03-14T20:21:51.740Z"
   },
   {
    "duration": 34,
    "start_time": "2022-03-14T20:21:51.769Z"
   },
   {
    "duration": 67,
    "start_time": "2022-03-14T20:21:51.805Z"
   },
   {
    "duration": 3,
    "start_time": "2022-03-14T20:21:51.873Z"
   },
   {
    "duration": 3,
    "start_time": "2022-03-14T20:21:51.878Z"
   },
   {
    "duration": 3,
    "start_time": "2022-03-14T20:21:51.901Z"
   },
   {
    "duration": 312396,
    "start_time": "2022-03-14T20:21:51.906Z"
   },
   {
    "duration": 8,
    "start_time": "2022-03-14T20:27:04.303Z"
   },
   {
    "duration": 38,
    "start_time": "2022-03-15T17:33:28.455Z"
   },
   {
    "duration": 41,
    "start_time": "2022-03-15T17:33:50.030Z"
   },
   {
    "duration": 1039,
    "start_time": "2022-03-16T07:27:42.183Z"
   },
   {
    "duration": 705,
    "start_time": "2022-03-16T07:27:43.224Z"
   },
   {
    "duration": 117,
    "start_time": "2022-03-16T07:27:43.931Z"
   },
   {
    "duration": 20,
    "start_time": "2022-03-16T07:27:44.050Z"
   },
   {
    "duration": 156,
    "start_time": "2022-03-16T07:27:44.072Z"
   },
   {
    "duration": 293,
    "start_time": "2022-03-16T07:27:44.230Z"
   },
   {
    "duration": 68,
    "start_time": "2022-03-16T07:27:44.524Z"
   },
   {
    "duration": 26,
    "start_time": "2022-03-16T07:27:44.594Z"
   },
   {
    "duration": 16,
    "start_time": "2022-03-16T07:27:44.621Z"
   },
   {
    "duration": 85,
    "start_time": "2022-03-16T07:27:44.639Z"
   },
   {
    "duration": 2,
    "start_time": "2022-03-16T07:27:44.726Z"
   },
   {
    "duration": 7,
    "start_time": "2022-03-16T07:27:44.730Z"
   },
   {
    "duration": 9,
    "start_time": "2022-03-16T07:27:44.738Z"
   },
   {
    "duration": 208965,
    "start_time": "2022-03-16T07:27:44.749Z"
   },
   {
    "duration": 66,
    "start_time": "2022-03-16T07:31:13.716Z"
   }
  ],
  "kernelspec": {
   "display_name": "Python 3",
   "language": "python",
   "name": "python3"
  },
  "language_info": {
   "codemirror_mode": {
    "name": "ipython",
    "version": 3
   },
   "file_extension": ".py",
   "mimetype": "text/x-python",
   "name": "python",
   "nbconvert_exporter": "python",
   "pygments_lexer": "ipython3",
   "version": "3.7.8"
  },
  "toc": {
   "base_numbering": 1,
   "nav_menu": {},
   "number_sections": true,
   "sideBar": true,
   "skip_h1_title": true,
   "title_cell": "Содержание",
   "title_sidebar": "Содержание",
   "toc_cell": true,
   "toc_position": {},
   "toc_section_display": true,
   "toc_window_display": true
  }
 },
 "nbformat": 4,
 "nbformat_minor": 2
}
