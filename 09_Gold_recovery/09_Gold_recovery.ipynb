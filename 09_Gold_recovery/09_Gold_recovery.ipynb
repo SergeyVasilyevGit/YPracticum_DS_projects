{
 "cells": [
  {
   "cell_type": "markdown",
   "metadata": {
    "toc": true
   },
   "source": [
    "<h1>Содержание<span class=\"tocSkip\"></span></h1>\n",
    "<div class=\"toc\"><ul class=\"toc-item\"><li><span><a href=\"#Подготовка-данных\" data-toc-modified-id=\"Подготовка-данных-1\"><span class=\"toc-item-num\">1&nbsp;&nbsp;</span>Подготовка данных</a></span><ul class=\"toc-item\"><li><span><a href=\"#Первичное-изучение-данных\" data-toc-modified-id=\"Первичное-изучение-данных-1.1\"><span class=\"toc-item-num\">1.1&nbsp;&nbsp;</span>Первичное изучение данных</a></span></li><li><span><a href=\"#Проверка-расчета-эффективности-обогащения\" data-toc-modified-id=\"Проверка-расчета-эффективности-обогащения-1.2\"><span class=\"toc-item-num\">1.2&nbsp;&nbsp;</span>Проверка расчета эффективности обогащения</a></span></li><li><span><a href=\"#Анализ-признаков,-недоступных-в-тестовой-выборке\" data-toc-modified-id=\"Анализ-признаков,-недоступных-в-тестовой-выборке-1.3\"><span class=\"toc-item-num\">1.3&nbsp;&nbsp;</span>Анализ признаков, недоступных в тестовой выборке</a></span></li><li><span><a href=\"#Предобработка-данных\" data-toc-modified-id=\"Предобработка-данных-1.4\"><span class=\"toc-item-num\">1.4&nbsp;&nbsp;</span>Предобработка данных</a></span></li><li><span><a href=\"#Вывод\" data-toc-modified-id=\"Вывод-1.5\"><span class=\"toc-item-num\">1.5&nbsp;&nbsp;</span>Вывод</a></span></li></ul></li><li><span><a href=\"#Анализ-данных\" data-toc-modified-id=\"Анализ-данных-2\"><span class=\"toc-item-num\">2&nbsp;&nbsp;</span>Анализ данных</a></span><ul class=\"toc-item\"><li><span><a href=\"#Изменение-концентрации-металлов-(Au,-Ag,-Pb)-на-различных-этапах-очистки\" data-toc-modified-id=\"Изменение-концентрации-металлов-(Au,-Ag,-Pb)-на-различных-этапах-очистки-2.1\"><span class=\"toc-item-num\">2.1&nbsp;&nbsp;</span>Изменение концентрации металлов (Au, Ag, Pb) на различных этапах очистки</a></span></li><li><span><a href=\"#Сравнение-распределений-размеров-гранул-сырья-на-обучающей-и-тестовой-выборках\" data-toc-modified-id=\"Сравнение-распределений-размеров-гранул-сырья-на-обучающей-и-тестовой-выборках-2.2\"><span class=\"toc-item-num\">2.2&nbsp;&nbsp;</span>Сравнение распределений размеров гранул сырья на обучающей и тестовой выборках</a></span></li><li><span><a href=\"#Исследование-суммарной-концентрации-всех-веществ-на-разных-стадиях\" data-toc-modified-id=\"Исследование-суммарной-концентрации-всех-веществ-на-разных-стадиях-2.3\"><span class=\"toc-item-num\">2.3&nbsp;&nbsp;</span>Исследование суммарной концентрации всех веществ на разных стадиях</a></span></li><li><span><a href=\"#Выводы\" data-toc-modified-id=\"Выводы-2.4\"><span class=\"toc-item-num\">2.4&nbsp;&nbsp;</span>Выводы</a></span></li></ul></li><li><span><a href=\"#Модель\" data-toc-modified-id=\"Модель-3\"><span class=\"toc-item-num\">3&nbsp;&nbsp;</span>Модель</a></span><ul class=\"toc-item\"><li><span><a href=\"#Функция-для-вычисления-итоговой-метрики\" data-toc-modified-id=\"Функция-для-вычисления-итоговой-метрики-3.1\"><span class=\"toc-item-num\">3.1&nbsp;&nbsp;</span>Функция для вычисления итоговой метрики</a></span></li><li><span><a href=\"#Обучение-моделей-и-оценка-их-качества\" data-toc-modified-id=\"Обучение-моделей-и-оценка-их-качества-3.2\"><span class=\"toc-item-num\">3.2&nbsp;&nbsp;</span>Обучение моделей и оценка их качества</a></span></li><li><span><a href=\"#Общие-выводы\" data-toc-modified-id=\"Общие-выводы-3.3\"><span class=\"toc-item-num\">3.3&nbsp;&nbsp;</span>Общие выводы</a></span></li></ul></li></ul></div>"
   ]
  },
  {
   "cell_type": "markdown",
   "metadata": {},
   "source": [
    "# Восстановление золота из руды"
   ]
  },
  {
   "cell_type": "markdown",
   "metadata": {},
   "source": [
    "Подготовить прототип модели машинного обучения для «Цифры». Компания разрабатывает решения для эффективной работы промышленных предприятий.\n",
    "\n",
    "Модель должна предсказать коэффициент восстановления золота из золотосодержащей руды. Используются данные с параметрами добычи и очистки. \n",
    "\n",
    "Модель поможет оптимизировать производство, чтобы не запускать предприятие с убыточными характеристиками."
   ]
  },
  {
   "cell_type": "markdown",
   "metadata": {},
   "source": [
    "**Цель**  \n",
    "\n",
    "Смоделировать процесс восстановления золота из золотосодержащей руды. \n",
    "\n",
    "**Структура исследования**  \n",
    "\n",
    "1.  Подготовка данных  \n",
    "    1.1  Первичное изучение данных  \n",
    "    1.2  Проверка расчета эффективности обогащения  \n",
    "    1.3  Анализ признаков, недоступных в тестовой выборке  \n",
    "    1.4  Предобработка данных  \n",
    "2.  Анализ данных  \n",
    "    2.1  Изменение концентрации металлов (Au, Ag, Pb) на различных этапах очистки  \n",
    "    2.2  Сравнение распределений размеров гранул сырья на обучающей и тестовой выборках  \n",
    "    2.3  Исследование суммарной концентрации всех веществ на разных стадиях  \n",
    "3.  Модель  \n",
    "    3.1  Функция для вычисления итоговой метрики  \n",
    "    3.2  Обучение моделей и оценка их качества  \n",
    "\n",
    "**Использование дополнительных модулей**  \n",
    "\n",
    "- `pandas` – редактор баз данных  \n",
    "- `seaborn` – визуализация\n",
    "- `matplotlib` – визуализация\n",
    "- `sklearn` – машинное обучение"
   ]
  },
  {
   "cell_type": "markdown",
   "metadata": {},
   "source": [
    "## Подготовка данных"
   ]
  },
  {
   "cell_type": "code",
   "execution_count": 1,
   "metadata": {},
   "outputs": [],
   "source": [
    "import pandas as pd\n",
    "\n",
    "import seaborn as sns\n",
    "import matplotlib.pyplot as plt\n",
    "\n",
    "from sklearn.metrics import mean_absolute_error, make_scorer\n",
    "from sklearn.model_selection import KFold, GridSearchCV, cross_val_score\n",
    "from sklearn.linear_model import LinearRegression\n",
    "from sklearn.ensemble import RandomForestRegressor\n",
    "\n",
    "import warnings\n",
    "warnings.filterwarnings(\"ignore\")"
   ]
  },
  {
   "cell_type": "markdown",
   "metadata": {},
   "source": [
    "### Первичное изучение данных"
   ]
  },
  {
   "cell_type": "code",
   "execution_count": 2,
   "metadata": {},
   "outputs": [],
   "source": [
    "train_df = pd.read_csv('gold_recovery_train_new.csv')\n",
    "test_df = pd.read_csv('gold_recovery_test_new.csv')\n",
    "full_df = pd.read_csv('gold_recovery_full_new.csv')"
   ]
  },
  {
   "cell_type": "markdown",
   "metadata": {},
   "source": [
    "**Описание данных**  \n",
    "\n",
    "**Технологический процесс**\n",
    "* Rougher feed — исходное сырье\n",
    "* Rougher additions (или reagent additions) — флотационные реагенты: Xanthate, Sulphate, Depressant\n",
    " - Xanthate — ксантогенат (промотер, или активатор флотации);\n",
    " - Sulphate — сульфат (на данном производстве сульфид натрия);\n",
    " - Depressant — депрессант (силикат натрия).\n",
    "* Rougher process (англ. «грубый процесс») — флотация\n",
    "* Rougher tails — отвальные хвосты\n",
    "* Float banks — флотационная установка\n",
    "* Cleaner process — очистка\n",
    "* Rougher Au — черновой концентрат золота\n",
    "* Final Au — финальный концентрат золота\n",
    "\n",
    "**Параметры этапов**\n",
    "* air amount — объём воздуха\n",
    "* fluid levels — уровень жидкости\n",
    "* feed size — размер гранул сырья\n",
    "* feed rate — скорость подачи"
   ]
  },
  {
   "cell_type": "code",
   "execution_count": 3,
   "metadata": {},
   "outputs": [
    {
     "name": "stdout",
     "output_type": "stream",
     "text": [
      "<class 'pandas.core.frame.DataFrame'>\n",
      "RangeIndex: 19439 entries, 0 to 19438\n",
      "Data columns (total 87 columns):\n",
      " #   Column                                              Non-Null Count  Dtype  \n",
      "---  ------                                              --------------  -----  \n",
      " 0   date                                                19439 non-null  object \n",
      " 1   final.output.concentrate_ag                         19438 non-null  float64\n",
      " 2   final.output.concentrate_pb                         19438 non-null  float64\n",
      " 3   final.output.concentrate_sol                        19228 non-null  float64\n",
      " 4   final.output.concentrate_au                         19439 non-null  float64\n",
      " 5   final.output.recovery                               19439 non-null  float64\n",
      " 6   final.output.tail_ag                                19438 non-null  float64\n",
      " 7   final.output.tail_pb                                19338 non-null  float64\n",
      " 8   final.output.tail_sol                               19433 non-null  float64\n",
      " 9   final.output.tail_au                                19439 non-null  float64\n",
      " 10  primary_cleaner.input.sulfate                       19415 non-null  float64\n",
      " 11  primary_cleaner.input.depressant                    19402 non-null  float64\n",
      " 12  primary_cleaner.input.feed_size                     19439 non-null  float64\n",
      " 13  primary_cleaner.input.xanthate                      19335 non-null  float64\n",
      " 14  primary_cleaner.output.concentrate_ag               19439 non-null  float64\n",
      " 15  primary_cleaner.output.concentrate_pb               19323 non-null  float64\n",
      " 16  primary_cleaner.output.concentrate_sol              19069 non-null  float64\n",
      " 17  primary_cleaner.output.concentrate_au               19439 non-null  float64\n",
      " 18  primary_cleaner.output.tail_ag                      19435 non-null  float64\n",
      " 19  primary_cleaner.output.tail_pb                      19418 non-null  float64\n",
      " 20  primary_cleaner.output.tail_sol                     19377 non-null  float64\n",
      " 21  primary_cleaner.output.tail_au                      19439 non-null  float64\n",
      " 22  primary_cleaner.state.floatbank8_a_air              19435 non-null  float64\n",
      " 23  primary_cleaner.state.floatbank8_a_level            19438 non-null  float64\n",
      " 24  primary_cleaner.state.floatbank8_b_air              19435 non-null  float64\n",
      " 25  primary_cleaner.state.floatbank8_b_level            19438 non-null  float64\n",
      " 26  primary_cleaner.state.floatbank8_c_air              19437 non-null  float64\n",
      " 27  primary_cleaner.state.floatbank8_c_level            19438 non-null  float64\n",
      " 28  primary_cleaner.state.floatbank8_d_air              19436 non-null  float64\n",
      " 29  primary_cleaner.state.floatbank8_d_level            19438 non-null  float64\n",
      " 30  rougher.calculation.sulfate_to_au_concentrate       19437 non-null  float64\n",
      " 31  rougher.calculation.floatbank10_sulfate_to_au_feed  19437 non-null  float64\n",
      " 32  rougher.calculation.floatbank11_sulfate_to_au_feed  19437 non-null  float64\n",
      " 33  rougher.calculation.au_pb_ratio                     19439 non-null  float64\n",
      " 34  rougher.input.feed_ag                               19439 non-null  float64\n",
      " 35  rougher.input.feed_pb                               19339 non-null  float64\n",
      " 36  rougher.input.feed_rate                             19428 non-null  float64\n",
      " 37  rougher.input.feed_size                             19294 non-null  float64\n",
      " 38  rougher.input.feed_sol                              19340 non-null  float64\n",
      " 39  rougher.input.feed_au                               19439 non-null  float64\n",
      " 40  rougher.input.floatbank10_sulfate                   19405 non-null  float64\n",
      " 41  rougher.input.floatbank10_xanthate                  19431 non-null  float64\n",
      " 42  rougher.input.floatbank11_sulfate                   19395 non-null  float64\n",
      " 43  rougher.input.floatbank11_xanthate                  18986 non-null  float64\n",
      " 44  rougher.output.concentrate_ag                       19439 non-null  float64\n",
      " 45  rougher.output.concentrate_pb                       19439 non-null  float64\n",
      " 46  rougher.output.concentrate_sol                      19416 non-null  float64\n",
      " 47  rougher.output.concentrate_au                       19439 non-null  float64\n",
      " 48  rougher.output.recovery                             19439 non-null  float64\n",
      " 49  rougher.output.tail_ag                              19438 non-null  float64\n",
      " 50  rougher.output.tail_pb                              19439 non-null  float64\n",
      " 51  rougher.output.tail_sol                             19439 non-null  float64\n",
      " 52  rougher.output.tail_au                              19439 non-null  float64\n",
      " 53  rougher.state.floatbank10_a_air                     19438 non-null  float64\n",
      " 54  rougher.state.floatbank10_a_level                   19438 non-null  float64\n",
      " 55  rougher.state.floatbank10_b_air                     19438 non-null  float64\n",
      " 56  rougher.state.floatbank10_b_level                   19438 non-null  float64\n",
      " 57  rougher.state.floatbank10_c_air                     19438 non-null  float64\n",
      " 58  rougher.state.floatbank10_c_level                   19438 non-null  float64\n",
      " 59  rougher.state.floatbank10_d_air                     19439 non-null  float64\n",
      " 60  rougher.state.floatbank10_d_level                   19439 non-null  float64\n",
      " 61  rougher.state.floatbank10_e_air                     19003 non-null  float64\n",
      " 62  rougher.state.floatbank10_e_level                   19439 non-null  float64\n",
      " 63  rougher.state.floatbank10_f_air                     19439 non-null  float64\n",
      " 64  rougher.state.floatbank10_f_level                   19439 non-null  float64\n",
      " 65  secondary_cleaner.output.tail_ag                    19437 non-null  float64\n",
      " 66  secondary_cleaner.output.tail_pb                    19427 non-null  float64\n",
      " 67  secondary_cleaner.output.tail_sol                   17691 non-null  float64\n",
      " 68  secondary_cleaner.output.tail_au                    19439 non-null  float64\n",
      " 69  secondary_cleaner.state.floatbank2_a_air            19219 non-null  float64\n",
      " 70  secondary_cleaner.state.floatbank2_a_level          19438 non-null  float64\n",
      " 71  secondary_cleaner.state.floatbank2_b_air            19416 non-null  float64\n",
      " 72  secondary_cleaner.state.floatbank2_b_level          19438 non-null  float64\n",
      " 73  secondary_cleaner.state.floatbank3_a_air            19426 non-null  float64\n",
      " 74  secondary_cleaner.state.floatbank3_a_level          19438 non-null  float64\n",
      " 75  secondary_cleaner.state.floatbank3_b_air            19438 non-null  float64\n",
      " 76  secondary_cleaner.state.floatbank3_b_level          19438 non-null  float64\n",
      " 77  secondary_cleaner.state.floatbank4_a_air            19433 non-null  float64\n",
      " 78  secondary_cleaner.state.floatbank4_a_level          19438 non-null  float64\n",
      " 79  secondary_cleaner.state.floatbank4_b_air            19438 non-null  float64\n",
      " 80  secondary_cleaner.state.floatbank4_b_level          19438 non-null  float64\n",
      " 81  secondary_cleaner.state.floatbank5_a_air            19438 non-null  float64\n",
      " 82  secondary_cleaner.state.floatbank5_a_level          19438 non-null  float64\n",
      " 83  secondary_cleaner.state.floatbank5_b_air            19438 non-null  float64\n",
      " 84  secondary_cleaner.state.floatbank5_b_level          19438 non-null  float64\n",
      " 85  secondary_cleaner.state.floatbank6_a_air            19437 non-null  float64\n",
      " 86  secondary_cleaner.state.floatbank6_a_level          19438 non-null  float64\n",
      "dtypes: float64(86), object(1)\n",
      "memory usage: 12.9+ MB\n"
     ]
    }
   ],
   "source": [
    "full_df.info()"
   ]
  },
  {
   "cell_type": "markdown",
   "metadata": {},
   "source": [
    "Данные представлены с пропусками. Первый столбец с информацией о дате и времени `date` имеет строковое представление `object`."
   ]
  },
  {
   "cell_type": "code",
   "execution_count": 4,
   "metadata": {
    "scrolled": true
   },
   "outputs": [
    {
     "data": {
      "text/html": [
       "<div>\n",
       "<style scoped>\n",
       "    .dataframe tbody tr th:only-of-type {\n",
       "        vertical-align: middle;\n",
       "    }\n",
       "\n",
       "    .dataframe tbody tr th {\n",
       "        vertical-align: top;\n",
       "    }\n",
       "\n",
       "    .dataframe thead th {\n",
       "        text-align: right;\n",
       "    }\n",
       "</style>\n",
       "<table border=\"1\" class=\"dataframe\">\n",
       "  <thead>\n",
       "    <tr style=\"text-align: right;\">\n",
       "      <th></th>\n",
       "      <th>date</th>\n",
       "      <th>final.output.concentrate_ag</th>\n",
       "      <th>final.output.concentrate_pb</th>\n",
       "      <th>final.output.concentrate_sol</th>\n",
       "      <th>final.output.concentrate_au</th>\n",
       "      <th>final.output.recovery</th>\n",
       "      <th>final.output.tail_ag</th>\n",
       "      <th>final.output.tail_pb</th>\n",
       "      <th>final.output.tail_sol</th>\n",
       "      <th>final.output.tail_au</th>\n",
       "      <th>...</th>\n",
       "      <th>secondary_cleaner.state.floatbank4_a_air</th>\n",
       "      <th>secondary_cleaner.state.floatbank4_a_level</th>\n",
       "      <th>secondary_cleaner.state.floatbank4_b_air</th>\n",
       "      <th>secondary_cleaner.state.floatbank4_b_level</th>\n",
       "      <th>secondary_cleaner.state.floatbank5_a_air</th>\n",
       "      <th>secondary_cleaner.state.floatbank5_a_level</th>\n",
       "      <th>secondary_cleaner.state.floatbank5_b_air</th>\n",
       "      <th>secondary_cleaner.state.floatbank5_b_level</th>\n",
       "      <th>secondary_cleaner.state.floatbank6_a_air</th>\n",
       "      <th>secondary_cleaner.state.floatbank6_a_level</th>\n",
       "    </tr>\n",
       "  </thead>\n",
       "  <tbody>\n",
       "    <tr>\n",
       "      <th>0</th>\n",
       "      <td>2016-01-15 00:00:00</td>\n",
       "      <td>6.055403</td>\n",
       "      <td>9.889648</td>\n",
       "      <td>5.507324</td>\n",
       "      <td>42.192020</td>\n",
       "      <td>70.541216</td>\n",
       "      <td>10.411962</td>\n",
       "      <td>0.895447</td>\n",
       "      <td>16.904297</td>\n",
       "      <td>2.143149</td>\n",
       "      <td>...</td>\n",
       "      <td>14.016835</td>\n",
       "      <td>-502.488007</td>\n",
       "      <td>12.099931</td>\n",
       "      <td>-504.715942</td>\n",
       "      <td>9.925633</td>\n",
       "      <td>-498.310211</td>\n",
       "      <td>8.079666</td>\n",
       "      <td>-500.470978</td>\n",
       "      <td>14.151341</td>\n",
       "      <td>-605.841980</td>\n",
       "    </tr>\n",
       "    <tr>\n",
       "      <th>1</th>\n",
       "      <td>2016-01-15 01:00:00</td>\n",
       "      <td>6.029369</td>\n",
       "      <td>9.968944</td>\n",
       "      <td>5.257781</td>\n",
       "      <td>42.701629</td>\n",
       "      <td>69.266198</td>\n",
       "      <td>10.462676</td>\n",
       "      <td>0.927452</td>\n",
       "      <td>16.634514</td>\n",
       "      <td>2.224930</td>\n",
       "      <td>...</td>\n",
       "      <td>13.992281</td>\n",
       "      <td>-505.503262</td>\n",
       "      <td>11.950531</td>\n",
       "      <td>-501.331529</td>\n",
       "      <td>10.039245</td>\n",
       "      <td>-500.169983</td>\n",
       "      <td>7.984757</td>\n",
       "      <td>-500.582168</td>\n",
       "      <td>13.998353</td>\n",
       "      <td>-599.787184</td>\n",
       "    </tr>\n",
       "    <tr>\n",
       "      <th>2</th>\n",
       "      <td>2016-01-15 02:00:00</td>\n",
       "      <td>6.055926</td>\n",
       "      <td>10.213995</td>\n",
       "      <td>5.383759</td>\n",
       "      <td>42.657501</td>\n",
       "      <td>68.116445</td>\n",
       "      <td>10.507046</td>\n",
       "      <td>0.953716</td>\n",
       "      <td>16.208849</td>\n",
       "      <td>2.257889</td>\n",
       "      <td>...</td>\n",
       "      <td>14.015015</td>\n",
       "      <td>-502.520901</td>\n",
       "      <td>11.912783</td>\n",
       "      <td>-501.133383</td>\n",
       "      <td>10.070913</td>\n",
       "      <td>-500.129135</td>\n",
       "      <td>8.013877</td>\n",
       "      <td>-500.517572</td>\n",
       "      <td>14.028663</td>\n",
       "      <td>-601.427363</td>\n",
       "    </tr>\n",
       "    <tr>\n",
       "      <th>3</th>\n",
       "      <td>2016-01-15 03:00:00</td>\n",
       "      <td>6.047977</td>\n",
       "      <td>9.977019</td>\n",
       "      <td>4.858634</td>\n",
       "      <td>42.689819</td>\n",
       "      <td>68.347543</td>\n",
       "      <td>10.422762</td>\n",
       "      <td>0.883763</td>\n",
       "      <td>16.532835</td>\n",
       "      <td>2.146849</td>\n",
       "      <td>...</td>\n",
       "      <td>14.036510</td>\n",
       "      <td>-500.857308</td>\n",
       "      <td>11.999550</td>\n",
       "      <td>-501.193686</td>\n",
       "      <td>9.970366</td>\n",
       "      <td>-499.201640</td>\n",
       "      <td>7.977324</td>\n",
       "      <td>-500.255908</td>\n",
       "      <td>14.005551</td>\n",
       "      <td>-599.996129</td>\n",
       "    </tr>\n",
       "    <tr>\n",
       "      <th>4</th>\n",
       "      <td>2016-01-15 04:00:00</td>\n",
       "      <td>6.148599</td>\n",
       "      <td>10.142511</td>\n",
       "      <td>4.939416</td>\n",
       "      <td>42.774141</td>\n",
       "      <td>66.927016</td>\n",
       "      <td>10.360302</td>\n",
       "      <td>0.792826</td>\n",
       "      <td>16.525686</td>\n",
       "      <td>2.055292</td>\n",
       "      <td>...</td>\n",
       "      <td>14.027298</td>\n",
       "      <td>-499.838632</td>\n",
       "      <td>11.953070</td>\n",
       "      <td>-501.053894</td>\n",
       "      <td>9.925709</td>\n",
       "      <td>-501.686727</td>\n",
       "      <td>7.894242</td>\n",
       "      <td>-500.356035</td>\n",
       "      <td>13.996647</td>\n",
       "      <td>-601.496691</td>\n",
       "    </tr>\n",
       "  </tbody>\n",
       "</table>\n",
       "<p>5 rows × 87 columns</p>\n",
       "</div>"
      ],
      "text/plain": [
       "                  date  final.output.concentrate_ag  \\\n",
       "0  2016-01-15 00:00:00                     6.055403   \n",
       "1  2016-01-15 01:00:00                     6.029369   \n",
       "2  2016-01-15 02:00:00                     6.055926   \n",
       "3  2016-01-15 03:00:00                     6.047977   \n",
       "4  2016-01-15 04:00:00                     6.148599   \n",
       "\n",
       "   final.output.concentrate_pb  final.output.concentrate_sol  \\\n",
       "0                     9.889648                      5.507324   \n",
       "1                     9.968944                      5.257781   \n",
       "2                    10.213995                      5.383759   \n",
       "3                     9.977019                      4.858634   \n",
       "4                    10.142511                      4.939416   \n",
       "\n",
       "   final.output.concentrate_au  final.output.recovery  final.output.tail_ag  \\\n",
       "0                    42.192020              70.541216             10.411962   \n",
       "1                    42.701629              69.266198             10.462676   \n",
       "2                    42.657501              68.116445             10.507046   \n",
       "3                    42.689819              68.347543             10.422762   \n",
       "4                    42.774141              66.927016             10.360302   \n",
       "\n",
       "   final.output.tail_pb  final.output.tail_sol  final.output.tail_au  ...  \\\n",
       "0              0.895447              16.904297              2.143149  ...   \n",
       "1              0.927452              16.634514              2.224930  ...   \n",
       "2              0.953716              16.208849              2.257889  ...   \n",
       "3              0.883763              16.532835              2.146849  ...   \n",
       "4              0.792826              16.525686              2.055292  ...   \n",
       "\n",
       "   secondary_cleaner.state.floatbank4_a_air  \\\n",
       "0                                 14.016835   \n",
       "1                                 13.992281   \n",
       "2                                 14.015015   \n",
       "3                                 14.036510   \n",
       "4                                 14.027298   \n",
       "\n",
       "   secondary_cleaner.state.floatbank4_a_level  \\\n",
       "0                                 -502.488007   \n",
       "1                                 -505.503262   \n",
       "2                                 -502.520901   \n",
       "3                                 -500.857308   \n",
       "4                                 -499.838632   \n",
       "\n",
       "   secondary_cleaner.state.floatbank4_b_air  \\\n",
       "0                                 12.099931   \n",
       "1                                 11.950531   \n",
       "2                                 11.912783   \n",
       "3                                 11.999550   \n",
       "4                                 11.953070   \n",
       "\n",
       "   secondary_cleaner.state.floatbank4_b_level  \\\n",
       "0                                 -504.715942   \n",
       "1                                 -501.331529   \n",
       "2                                 -501.133383   \n",
       "3                                 -501.193686   \n",
       "4                                 -501.053894   \n",
       "\n",
       "   secondary_cleaner.state.floatbank5_a_air  \\\n",
       "0                                  9.925633   \n",
       "1                                 10.039245   \n",
       "2                                 10.070913   \n",
       "3                                  9.970366   \n",
       "4                                  9.925709   \n",
       "\n",
       "   secondary_cleaner.state.floatbank5_a_level  \\\n",
       "0                                 -498.310211   \n",
       "1                                 -500.169983   \n",
       "2                                 -500.129135   \n",
       "3                                 -499.201640   \n",
       "4                                 -501.686727   \n",
       "\n",
       "   secondary_cleaner.state.floatbank5_b_air  \\\n",
       "0                                  8.079666   \n",
       "1                                  7.984757   \n",
       "2                                  8.013877   \n",
       "3                                  7.977324   \n",
       "4                                  7.894242   \n",
       "\n",
       "   secondary_cleaner.state.floatbank5_b_level  \\\n",
       "0                                 -500.470978   \n",
       "1                                 -500.582168   \n",
       "2                                 -500.517572   \n",
       "3                                 -500.255908   \n",
       "4                                 -500.356035   \n",
       "\n",
       "   secondary_cleaner.state.floatbank6_a_air  \\\n",
       "0                                 14.151341   \n",
       "1                                 13.998353   \n",
       "2                                 14.028663   \n",
       "3                                 14.005551   \n",
       "4                                 13.996647   \n",
       "\n",
       "   secondary_cleaner.state.floatbank6_a_level  \n",
       "0                                 -605.841980  \n",
       "1                                 -599.787184  \n",
       "2                                 -601.427363  \n",
       "3                                 -599.996129  \n",
       "4                                 -601.496691  \n",
       "\n",
       "[5 rows x 87 columns]"
      ]
     },
     "execution_count": 4,
     "metadata": {},
     "output_type": "execute_result"
    }
   ],
   "source": [
    "full_df.head()"
   ]
  },
  {
   "cell_type": "code",
   "execution_count": 5,
   "metadata": {
    "scrolled": true
   },
   "outputs": [
    {
     "name": "stdout",
     "output_type": "stream",
     "text": [
      "Размер обучающей выборки (14149, 87)\n",
      "Размер тестовой выборки (5290, 53)\n",
      "Размер полной выборки (19439, 87)\n"
     ]
    }
   ],
   "source": [
    "print('Размер обучающей выборки', train_df.shape)\n",
    "print('Размер тестовой выборки', test_df.shape)\n",
    "print('Размер полной выборки', full_df.shape)"
   ]
  },
  {
   "cell_type": "markdown",
   "metadata": {},
   "source": [
    "Некоторые параметры недоступны, потому что замеряются и/или рассчитываются значительно позже. Из-за этого в тестовой выборке отсутствуют некоторые признаки, которые могут быть в обучающей. Также в тестовом наборе нет целевых признаков.\n",
    "\n",
    "Исходный датасет содержит обучающую и тестовую выборки со всеми признаками."
   ]
  },
  {
   "cell_type": "code",
   "execution_count": 6,
   "metadata": {},
   "outputs": [
    {
     "name": "stdout",
     "output_type": "stream",
     "text": [
      "Дубликаты в обучающей выборке train_df: не обнаружены\n",
      "Дубликаты в тестовой выборке test_df: не обнаружены\n",
      "Дубликаты в полной выборке full_df: не обнаружены\n"
     ]
    }
   ],
   "source": [
    "# Проверка отсутствия дубликатов\n",
    "print('Дубликаты в обучающей выборке train_df:', 'не обнаружены' if train_df.duplicated().sum() == 0 else 'обнаружены')\n",
    "print('Дубликаты в тестовой выборке test_df:', 'не обнаружены' if test_df.duplicated().sum() == 0 else 'обнаружены')\n",
    "print('Дубликаты в полной выборке full_df:', 'не обнаружены' if full_df.duplicated().sum() == 0 else 'обнаружены')"
   ]
  },
  {
   "cell_type": "markdown",
   "metadata": {},
   "source": [
    "### Проверка расчета эффективности обогащения"
   ]
  },
  {
   "cell_type": "markdown",
   "metadata": {},
   "source": [
    "Эффективность обогащения рассчитывается по формуле:"
   ]
  },
  {
   "cell_type": "markdown",
   "metadata": {},
   "source": [
    "$$ Recovery = \\frac{C\\times(F-T)}{F\\times(C-T)}\\times100\\% $$"
   ]
  },
  {
   "cell_type": "markdown",
   "metadata": {},
   "source": [
    "где:\n",
    "* $C$ — доля золота в концентрате после флотации/очистки;\n",
    "* $F$ — доля золота в сырье/концентрате до флотации/очистки;\n",
    "* $T$ — доля золота в отвальных хвостах после флотации/очистки.\n",
    "\n",
    "Для прогноза коэффициента нужно найти долю золота в концентратах и хвостах. Причём важен не только финальный продукт, но и черновой концентрат.\n",
    "\n",
    "Вычисления производятся на обучающей выборке `train_df` для признака `rougher.output.recovery`."
   ]
  },
  {
   "cell_type": "code",
   "execution_count": 7,
   "metadata": {},
   "outputs": [
    {
     "name": "stdout",
     "output_type": "stream",
     "text": [
      "<class 'pandas.core.frame.DataFrame'>\n",
      "RangeIndex: 14149 entries, 0 to 14148\n",
      "Data columns (total 4 columns):\n",
      " #   Column                         Non-Null Count  Dtype  \n",
      "---  ------                         --------------  -----  \n",
      " 0   rougher.output.concentrate_au  14149 non-null  float64\n",
      " 1   rougher.input.feed_au          14149 non-null  float64\n",
      " 2   rougher.output.tail_au         14149 non-null  float64\n",
      " 3   rougher.output.recovery        14149 non-null  float64\n",
      "dtypes: float64(4)\n",
      "memory usage: 442.3 KB\n"
     ]
    }
   ],
   "source": [
    "# Выбираем из обучающего датафрейма 'train_df' необходимые столбцы\n",
    "recovery_calc_df = train_df[['rougher.output.concentrate_au', # доля золота в концентрате после флотации/очистки\n",
    "                             'rougher.input.feed_au',         # доля золота в сырье/концентрате до флотации/очистки\n",
    "                             'rougher.output.tail_au',        # доля золота в отвальных хвостах после флотации/очистки\n",
    "                             'rougher.output.recovery']]      # признак для сравнения\n",
    "\n",
    "recovery_calc_df.info()"
   ]
  },
  {
   "cell_type": "code",
   "execution_count": 8,
   "metadata": {},
   "outputs": [],
   "source": [
    "# Создадим функцию для расчета эффективности обогащения\n",
    "def recovery_calc(row):\n",
    "    C = row['rougher.output.concentrate_au']\n",
    "    F = row['rougher.input.feed_au']\n",
    "    T = row['rougher.output.tail_au']\n",
    "    \n",
    "    return ((C*(F-T))/(F*(C-T)))*100"
   ]
  },
  {
   "cell_type": "code",
   "execution_count": 9,
   "metadata": {
    "scrolled": true
   },
   "outputs": [
    {
     "data": {
      "text/html": [
       "<div>\n",
       "<style scoped>\n",
       "    .dataframe tbody tr th:only-of-type {\n",
       "        vertical-align: middle;\n",
       "    }\n",
       "\n",
       "    .dataframe tbody tr th {\n",
       "        vertical-align: top;\n",
       "    }\n",
       "\n",
       "    .dataframe thead th {\n",
       "        text-align: right;\n",
       "    }\n",
       "</style>\n",
       "<table border=\"1\" class=\"dataframe\">\n",
       "  <thead>\n",
       "    <tr style=\"text-align: right;\">\n",
       "      <th></th>\n",
       "      <th>rougher.output.concentrate_au</th>\n",
       "      <th>rougher.input.feed_au</th>\n",
       "      <th>rougher.output.tail_au</th>\n",
       "      <th>rougher.output.recovery</th>\n",
       "      <th>recovery_calc</th>\n",
       "    </tr>\n",
       "  </thead>\n",
       "  <tbody>\n",
       "    <tr>\n",
       "      <th>0</th>\n",
       "      <td>19.793808</td>\n",
       "      <td>6.486150</td>\n",
       "      <td>1.170244</td>\n",
       "      <td>87.107763</td>\n",
       "      <td>87.107763</td>\n",
       "    </tr>\n",
       "    <tr>\n",
       "      <th>1</th>\n",
       "      <td>20.050975</td>\n",
       "      <td>6.478583</td>\n",
       "      <td>1.184827</td>\n",
       "      <td>86.843261</td>\n",
       "      <td>86.843261</td>\n",
       "    </tr>\n",
       "    <tr>\n",
       "      <th>2</th>\n",
       "      <td>19.737170</td>\n",
       "      <td>6.362222</td>\n",
       "      <td>1.162562</td>\n",
       "      <td>86.842308</td>\n",
       "      <td>86.842308</td>\n",
       "    </tr>\n",
       "    <tr>\n",
       "      <th>3</th>\n",
       "      <td>19.320810</td>\n",
       "      <td>6.118189</td>\n",
       "      <td>1.079755</td>\n",
       "      <td>87.226430</td>\n",
       "      <td>87.226430</td>\n",
       "    </tr>\n",
       "    <tr>\n",
       "      <th>4</th>\n",
       "      <td>19.216101</td>\n",
       "      <td>5.663707</td>\n",
       "      <td>1.012642</td>\n",
       "      <td>86.688794</td>\n",
       "      <td>86.688794</td>\n",
       "    </tr>\n",
       "  </tbody>\n",
       "</table>\n",
       "</div>"
      ],
      "text/plain": [
       "   rougher.output.concentrate_au  rougher.input.feed_au  \\\n",
       "0                      19.793808               6.486150   \n",
       "1                      20.050975               6.478583   \n",
       "2                      19.737170               6.362222   \n",
       "3                      19.320810               6.118189   \n",
       "4                      19.216101               5.663707   \n",
       "\n",
       "   rougher.output.tail_au  rougher.output.recovery  recovery_calc  \n",
       "0                1.170244                87.107763      87.107763  \n",
       "1                1.184827                86.843261      86.843261  \n",
       "2                1.162562                86.842308      86.842308  \n",
       "3                1.079755                87.226430      87.226430  \n",
       "4                1.012642                86.688794      86.688794  "
      ]
     },
     "execution_count": 9,
     "metadata": {},
     "output_type": "execute_result"
    }
   ],
   "source": [
    "# Применение функции 'recovery_calc' к созданному датафрейму 'recovery_calc_df'\n",
    "recovery_calc_df['recovery_calc'] = recovery_calc_df.apply(recovery_calc, axis=1)\n",
    "recovery_calc_df.head()"
   ]
  },
  {
   "cell_type": "code",
   "execution_count": 10,
   "metadata": {},
   "outputs": [
    {
     "name": "stdout",
     "output_type": "stream",
     "text": [
      "Средняя абсолютная ошибка (MAE): 9.74e-15\n"
     ]
    }
   ],
   "source": [
    "mae = mean_absolute_error(recovery_calc_df['rougher.output.recovery'], recovery_calc_df['recovery_calc'])\n",
    "print(f'Средняя абсолютная ошибка (MAE): {mae:.2e}')"
   ]
  },
  {
   "cell_type": "markdown",
   "metadata": {},
   "source": [
    "Полученное значение средней абсолютной ошибки (MAE) представляет собой очень маленькую величину, что говорит о фактическом отсутствии ошибки как таковой и подтверждает правильность расчета эффективности обогащения."
   ]
  },
  {
   "cell_type": "markdown",
   "metadata": {},
   "source": [
    "### Анализ признаков, недоступных в тестовой выборке"
   ]
  },
  {
   "cell_type": "code",
   "execution_count": 11,
   "metadata": {
    "scrolled": true
   },
   "outputs": [
    {
     "data": {
      "text/plain": [
       "['final.output.concentrate_ag',\n",
       " 'final.output.concentrate_au',\n",
       " 'final.output.concentrate_pb',\n",
       " 'final.output.concentrate_sol',\n",
       " 'final.output.recovery',\n",
       " 'final.output.tail_ag',\n",
       " 'final.output.tail_au',\n",
       " 'final.output.tail_pb',\n",
       " 'final.output.tail_sol',\n",
       " 'primary_cleaner.output.concentrate_ag',\n",
       " 'primary_cleaner.output.concentrate_au',\n",
       " 'primary_cleaner.output.concentrate_pb',\n",
       " 'primary_cleaner.output.concentrate_sol',\n",
       " 'primary_cleaner.output.tail_ag',\n",
       " 'primary_cleaner.output.tail_au',\n",
       " 'primary_cleaner.output.tail_pb',\n",
       " 'primary_cleaner.output.tail_sol',\n",
       " 'rougher.calculation.au_pb_ratio',\n",
       " 'rougher.calculation.floatbank10_sulfate_to_au_feed',\n",
       " 'rougher.calculation.floatbank11_sulfate_to_au_feed',\n",
       " 'rougher.calculation.sulfate_to_au_concentrate',\n",
       " 'rougher.output.concentrate_ag',\n",
       " 'rougher.output.concentrate_au',\n",
       " 'rougher.output.concentrate_pb',\n",
       " 'rougher.output.concentrate_sol',\n",
       " 'rougher.output.recovery',\n",
       " 'rougher.output.tail_ag',\n",
       " 'rougher.output.tail_au',\n",
       " 'rougher.output.tail_pb',\n",
       " 'rougher.output.tail_sol',\n",
       " 'secondary_cleaner.output.tail_ag',\n",
       " 'secondary_cleaner.output.tail_au',\n",
       " 'secondary_cleaner.output.tail_pb',\n",
       " 'secondary_cleaner.output.tail_sol']"
      ]
     },
     "execution_count": 11,
     "metadata": {},
     "output_type": "execute_result"
    }
   ],
   "source": [
    "# В тестовой выборке 'test_df' отсутствуют указанные ниже признаки\n",
    "test_miss = train_df.columns.difference(test_df.columns).to_list()\n",
    "test_miss"
   ]
  },
  {
   "cell_type": "markdown",
   "metadata": {},
   "source": [
    "В тестовой выборке `test_df` отсутствуют признаки, которые преимущественно связаны с характеристиками (или параметрами) выхода  продукта `output`: после обогащения (или флотации), получения чернового концентрата, первичного этапа очистки, вторичного этапа очистки и отделения отвальных хвостов.\n",
    "\n",
    "Также не указаны расчетные параметры флотации:\n",
    "* rougher.calculation.au_pb_ratio\n",
    "* rougher.calculation.floatbank10_sulfate_to_au_feed\n",
    "* rougher.calculation.floatbank11_sulfate_to_au_feed\n",
    "* rougher.calculation.sulfate_to_au_concentrate"
   ]
  },
  {
   "cell_type": "markdown",
   "metadata": {},
   "source": [
    "### Предобработка данных"
   ]
  },
  {
   "cell_type": "code",
   "execution_count": 12,
   "metadata": {},
   "outputs": [],
   "source": [
    "# Удалим из обучающей выборки, отсутствующие в тестовой выборке столбцы\n",
    "train_df = train_df[test_df.columns]"
   ]
  },
  {
   "cell_type": "code",
   "execution_count": 13,
   "metadata": {},
   "outputs": [
    {
     "name": "stdout",
     "output_type": "stream",
     "text": [
      "Отличия по количеству и названиям столбцов: не обнаружены\n"
     ]
    }
   ],
   "source": [
    "# В обучающей 'train_df' и тестовой 'test_df' выборках должно быть одинаковое количество идентичных столбцов\n",
    "test_miss = train_df.columns.difference(test_df.columns).to_list()\n",
    "print('Отличия по количеству и названиям столбцов:', 'не обнаружены' if not test_miss else test_miss)"
   ]
  },
  {
   "cell_type": "code",
   "execution_count": 14,
   "metadata": {
    "scrolled": true
   },
   "outputs": [
    {
     "name": "stdout",
     "output_type": "stream",
     "text": [
      "Размер обучающей выборки: (14149, 53)\n",
      "Размер тестовой выборки: (5290, 53)\n"
     ]
    }
   ],
   "source": [
    "print('Размер обучающей выборки:', train_df.shape)\n",
    "print('Размер тестовой выборки:', test_df.shape)"
   ]
  },
  {
   "cell_type": "code",
   "execution_count": 15,
   "metadata": {},
   "outputs": [],
   "source": [
    "# Удаляем строки с пропусками из обучающей 'train_df' и тестовой 'test_df' выборок\n",
    "train_df.dropna(inplace=True)\n",
    "test_df.dropna(inplace=True)"
   ]
  },
  {
   "cell_type": "code",
   "execution_count": 16,
   "metadata": {
    "scrolled": true
   },
   "outputs": [
    {
     "name": "stdout",
     "output_type": "stream",
     "text": [
      "Размер обучающей выборки: (12679, 53)\n",
      "Размер тестовой выборки: (5229, 53)\n"
     ]
    }
   ],
   "source": [
    "print('Размер обучающей выборки:', train_df.shape)\n",
    "print('Размер тестовой выборки:', test_df.shape)"
   ]
  },
  {
   "cell_type": "markdown",
   "metadata": {},
   "source": [
    "### Вывод"
   ]
  },
  {
   "cell_type": "markdown",
   "metadata": {},
   "source": [
    "В этом разделе были выполнены следующие мероприятия:\n",
    "* загрузка и изучение данных\n",
    "* проверка расчета эффективности обогащения\n",
    "    * крайне низкий показатель MAE свидетельствует о правильности предварительных расчетов\n",
    "* анализ признаков, которые недоступны в тестовой выборке\n",
    "* предварительная обработка данных\n",
    "    * количество признаков в обучающей выборке приведено в соответствие с тестовой выборкой\n",
    "    * удалены пропуски"
   ]
  },
  {
   "cell_type": "markdown",
   "metadata": {},
   "source": [
    "## Анализ данных"
   ]
  },
  {
   "cell_type": "markdown",
   "metadata": {},
   "source": [
    "### Изменение концентрации металлов (Au, Ag, Pb) на различных этапах очистки"
   ]
  },
  {
   "cell_type": "markdown",
   "metadata": {},
   "source": [
    "Для всех трех металлов можно выделить 4 общих этапа очистки, для которых можно выполнить визуализацию.\n",
    "\n",
    "Эти этапами являются:\n",
    "* доля металла в сырье/концентрате до флотации/очистки (`rougher.input.feed`)\n",
    "* доля металла в концентрате после флотации/очистки (`rougher.output.concentrate`)\n",
    "* доля металла в концентрате поле первого этапа очистки (`primary_cleaner.output.concentrate`)\n",
    "* доля металла в конечном концентрате (`final.output.concentrate`)"
   ]
  },
  {
   "cell_type": "code",
   "execution_count": 17,
   "metadata": {},
   "outputs": [],
   "source": [
    "# Функция для визуализации изменения концентрации металла на различных этапах очистки\n",
    "def element_concentration_boxplot(element):\n",
    "    \n",
    "    columns = [i+element for i in ['rougher.input.feed_', 'rougher.output.concentrate_', \n",
    "               'primary_cleaner.output.concentrate_', 'final.output.concentrate_']]\n",
    "        \n",
    "    plt.figure(figsize=(12, 4))\n",
    "    sns.set_style('darkgrid')\n",
    "    sns.boxplot(data=full_df[columns], orient='h')\n",
    "    \n",
    "    plt.xlabel('Концентрация, %')\n",
    "    plt.title('Изменение концентрации металла ' + '«' + element.title() + '»' + ' на различных этапах очистки',\n",
    "              fontsize=16)"
   ]
  },
  {
   "cell_type": "code",
   "execution_count": 18,
   "metadata": {
    "scrolled": true
   },
   "outputs": [
    {
     "data": {
      "image/png": "[encoded data removed]",
      "text/plain": [
       "<Figure size 864x288 with 1 Axes>"
      ]
     },
     "metadata": {
      "needs_background": "light"
     },
     "output_type": "display_data"
    }
   ],
   "source": [
    "# Концентрация золота (Au)\n",
    "element_concentration_boxplot('au')"
   ]
  },
  {
   "cell_type": "code",
   "execution_count": 19,
   "metadata": {
    "scrolled": true
   },
   "outputs": [
    {
     "data": {
      "image/png": "[encoded data removed]",
      "text/plain": [
       "<Figure size 864x288 with 1 Axes>"
      ]
     },
     "metadata": {},
     "output_type": "display_data"
    }
   ],
   "source": [
    "# Концентрация серебра (Ag)\n",
    "element_concentration_boxplot('ag')"
   ]
  },
  {
   "cell_type": "code",
   "execution_count": 20,
   "metadata": {
    "scrolled": true
   },
   "outputs": [
    {
     "data": {
      "image/png": "[encoded data removed]",
      "text/plain": [
       "<Figure size 864x288 with 1 Axes>"
      ]
     },
     "metadata": {},
     "output_type": "display_data"
    }
   ],
   "source": [
    "# Концентрация свинца (Pb)\n",
    "element_concentration_boxplot('pb')"
   ]
  },
  {
   "cell_type": "markdown",
   "metadata": {},
   "source": [
    "### Сравнение распределений размеров гранул сырья на обучающей и тестовой выборках"
   ]
  },
  {
   "cell_type": "markdown",
   "metadata": {},
   "source": [
    "Необходимые данные извлекаются из обучающей `train_df` и тестовой `test_df` выборок для признака `feed size` (или `размер гранул сырья`)."
   ]
  },
  {
   "cell_type": "code",
   "execution_count": 21,
   "metadata": {
    "scrolled": true
   },
   "outputs": [
    {
     "name": "stdout",
     "output_type": "stream",
     "text": [
      "Столбцы с признаком feed size в обучающей выборке ['primary_cleaner.input.feed_size', 'rougher.input.feed_size']\n",
      "Столбцы с признаком feed size в тестовой выборке ['primary_cleaner.input.feed_size', 'rougher.input.feed_size']\n"
     ]
    }
   ],
   "source": [
    "train_df_feed_size_cols = [i for i in train_df.columns if 'feed_size' in i]\n",
    "print('Столбцы с признаком feed size в обучающей выборке', train_df_feed_size_cols)\n",
    "\n",
    "test_df_feed_size_cols = [i for i in train_df.columns if 'feed_size' in i]\n",
    "print('Столбцы с признаком feed size в тестовой выборке', test_df_feed_size_cols)"
   ]
  },
  {
   "cell_type": "code",
   "execution_count": 22,
   "metadata": {},
   "outputs": [],
   "source": [
    "# Функция для визуализации распределения размера гранул\n",
    "def feed_size_plot(feature, title):\n",
    "    plt.figure(figsize=(16, 6))\n",
    "    sns.distplot(train_df[feature], label='Обучающая выборка')\n",
    "    sns.distplot(test_df[feature], label='Тестовая выборка')\n",
    "    plt.xlabel('Размер гранул сырья')\n",
    "    plt.title(title, fontsize=16)\n",
    "    plt.legend()"
   ]
  },
  {
   "cell_type": "code",
   "execution_count": 23,
   "metadata": {},
   "outputs": [
    {
     "data": {
      "image/png": "[encoded data removed]",
      "text/plain": [
       "<Figure size 1152x432 with 1 Axes>"
      ]
     },
     "metadata": {},
     "output_type": "display_data"
    }
   ],
   "source": [
    "# Вызов функции визуализации для столбца 'rougher.input.feed_size'\n",
    "feature = 'rougher.input.feed_size'\n",
    "title = 'Распределений размеров гранул исходного сырья на обучающей и тестовой выборках'\n",
    "\n",
    "feed_size_plot(feature, title)"
   ]
  },
  {
   "cell_type": "code",
   "execution_count": 24,
   "metadata": {},
   "outputs": [
    {
     "data": {
      "image/png": "[encoded data removed]",
      "text/plain": [
       "<Figure size 1152x432 with 1 Axes>"
      ]
     },
     "metadata": {},
     "output_type": "display_data"
    }
   ],
   "source": [
    "# Вызов функции визуализации для столбца 'primary_cleaner.input.feed_size'\n",
    "feature = 'primary_cleaner.input.feed_size'\n",
    "title = 'Распределений размеров гранул сырья на обучающей и тестовой выборках до первичной очистки'\n",
    "\n",
    "feed_size_plot(feature, title)"
   ]
  },
  {
   "cell_type": "markdown",
   "metadata": {},
   "source": [
    "Пики распределений двух графиков расположены близко друг к другу. Оценка модели предполагает высокую достоверность."
   ]
  },
  {
   "cell_type": "markdown",
   "metadata": {},
   "source": [
    "### Исследование суммарной концентрации всех веществ на разных стадиях"
   ]
  },
  {
   "cell_type": "markdown",
   "metadata": {},
   "source": [
    "Исследование проводится для сырья (или `rougher.input.feed`), черного (или `rougher.output.concentrate`) и финального (или `final.output.concentrate`) концентратов."
   ]
  },
  {
   "cell_type": "code",
   "execution_count": 25,
   "metadata": {
    "scrolled": true
   },
   "outputs": [],
   "source": [
    "elements = 'au', 'ag', 'pb'\n",
    "features = ['rougher.input.feed_', 'rougher.output.concentrate_', 'final.output.concentrate_']\n",
    "\n",
    "columns = [f+e for e in elements for f in features]\n",
    "\n",
    "rougher_input_feed = [i for i in columns if features[0] in i] # ['rougher.input.feed_au',\n",
    "#                                                                'rougher.input.feed_ag',\n",
    "#                                                                'rougher.input.feed_pb']\n",
    "rougher_output_concentrate = [i for i in columns if features[1] in i]\n",
    "final_output_concentrate = [i for i in columns if features[2] in i]    "
   ]
  },
  {
   "cell_type": "code",
   "execution_count": 26,
   "metadata": {},
   "outputs": [],
   "source": [
    "# Суммирование долей разных металлов для каждого этапа технологического процесса\n",
    "rougher_input_feed_sum = full_df[rougher_input_feed].sum(axis=1)\n",
    "rougher_output_concentrate_sum = full_df[rougher_output_concentrate].sum(axis=1)\n",
    "final_output_concentrate_sum = full_df[final_output_concentrate].sum(axis=1)"
   ]
  },
  {
   "cell_type": "code",
   "execution_count": 27,
   "metadata": {
    "scrolled": true
   },
   "outputs": [
    {
     "data": {
      "text/html": [
       "<div>\n",
       "<style scoped>\n",
       "    .dataframe tbody tr th:only-of-type {\n",
       "        vertical-align: middle;\n",
       "    }\n",
       "\n",
       "    .dataframe tbody tr th {\n",
       "        vertical-align: top;\n",
       "    }\n",
       "\n",
       "    .dataframe thead th {\n",
       "        text-align: right;\n",
       "    }\n",
       "</style>\n",
       "<table border=\"1\" class=\"dataframe\">\n",
       "  <thead>\n",
       "    <tr style=\"text-align: right;\">\n",
       "      <th></th>\n",
       "      <th>rougher.input.feed.sum</th>\n",
       "      <th>rougher.output.concentrate.sum</th>\n",
       "      <th>final.output.concentrate.sum</th>\n",
       "    </tr>\n",
       "  </thead>\n",
       "  <tbody>\n",
       "    <tr>\n",
       "      <th>count</th>\n",
       "      <td>19439.000000</td>\n",
       "      <td>19439.000000</td>\n",
       "      <td>19439.000000</td>\n",
       "    </tr>\n",
       "    <tr>\n",
       "      <th>mean</th>\n",
       "      <td>20.640600</td>\n",
       "      <td>39.373032</td>\n",
       "      <td>59.223099</td>\n",
       "    </tr>\n",
       "    <tr>\n",
       "      <th>std</th>\n",
       "      <td>4.494362</td>\n",
       "      <td>6.863389</td>\n",
       "      <td>6.097603</td>\n",
       "    </tr>\n",
       "    <tr>\n",
       "      <th>min</th>\n",
       "      <td>0.030000</td>\n",
       "      <td>0.000000</td>\n",
       "      <td>0.000000</td>\n",
       "    </tr>\n",
       "    <tr>\n",
       "      <th>25%</th>\n",
       "      <td>17.252879</td>\n",
       "      <td>38.394639</td>\n",
       "      <td>59.298323</td>\n",
       "    </tr>\n",
       "    <tr>\n",
       "      <th>50%</th>\n",
       "      <td>20.141216</td>\n",
       "      <td>40.312648</td>\n",
       "      <td>60.306921</td>\n",
       "    </tr>\n",
       "    <tr>\n",
       "      <th>75%</th>\n",
       "      <td>23.797381</td>\n",
       "      <td>42.365102</td>\n",
       "      <td>61.096667</td>\n",
       "    </tr>\n",
       "    <tr>\n",
       "      <th>max</th>\n",
       "      <td>33.498784</td>\n",
       "      <td>55.568687</td>\n",
       "      <td>64.968881</td>\n",
       "    </tr>\n",
       "  </tbody>\n",
       "</table>\n",
       "</div>"
      ],
      "text/plain": [
       "       rougher.input.feed.sum  rougher.output.concentrate.sum  \\\n",
       "count            19439.000000                    19439.000000   \n",
       "mean                20.640600                       39.373032   \n",
       "std                  4.494362                        6.863389   \n",
       "min                  0.030000                        0.000000   \n",
       "25%                 17.252879                       38.394639   \n",
       "50%                 20.141216                       40.312648   \n",
       "75%                 23.797381                       42.365102   \n",
       "max                 33.498784                       55.568687   \n",
       "\n",
       "       final.output.concentrate.sum  \n",
       "count                  19439.000000  \n",
       "mean                      59.223099  \n",
       "std                        6.097603  \n",
       "min                        0.000000  \n",
       "25%                       59.298323  \n",
       "50%                       60.306921  \n",
       "75%                       61.096667  \n",
       "max                       64.968881  "
      ]
     },
     "execution_count": 27,
     "metadata": {},
     "output_type": "execute_result"
    }
   ],
   "source": [
    "# Создание общего датафрейма\n",
    "df_full_sum = pd.concat([rougher_input_feed_sum, rougher_output_concentrate_sum, final_output_concentrate_sum], axis=1)\n",
    "df_full_sum.columns = ['rougher.input.feed.sum', 'rougher.output.concentrate.sum', 'final.output.concentrate.sum']\n",
    "df_full_sum.describe()"
   ]
  },
  {
   "cell_type": "code",
   "execution_count": 28,
   "metadata": {},
   "outputs": [
    {
     "data": {
      "image/png": "[encoded data removed]",
      "text/plain": [
       "<Figure size 864x432 with 1 Axes>"
      ]
     },
     "metadata": {},
     "output_type": "display_data"
    }
   ],
   "source": [
    "# Визуализация суммарной концентрации всех металлов на разных стадиях\n",
    "plt.figure(figsize=(12, 6))\n",
    "sns.boxplot(data=df_full_sum, orient='h')\n",
    "\n",
    "plt.title('Cуммарная концентрации всех металлов на разных стадиях', fontsize=16)\n",
    "plt.xlabel('Суммарная концентрация, %')\n",
    "plt.plot();"
   ]
  },
  {
   "cell_type": "markdown",
   "metadata": {},
   "source": [
    "В датафрейме с суммарными показателями `df_full_sum` присутствует исходное сырье с нулевой концентрацией полезного металла. Такие данные можно удалить, т.к. ценной информацией в рамках данного исследования они не обладают.\n",
    "\n",
    "В качестве порогового значение выбираем минимальный уровень концентрации полезного металла более `0.1`."
   ]
  },
  {
   "cell_type": "code",
   "execution_count": 29,
   "metadata": {},
   "outputs": [
    {
     "data": {
      "text/html": [
       "<div>\n",
       "<style scoped>\n",
       "    .dataframe tbody tr th:only-of-type {\n",
       "        vertical-align: middle;\n",
       "    }\n",
       "\n",
       "    .dataframe tbody tr th {\n",
       "        vertical-align: top;\n",
       "    }\n",
       "\n",
       "    .dataframe thead th {\n",
       "        text-align: right;\n",
       "    }\n",
       "</style>\n",
       "<table border=\"1\" class=\"dataframe\">\n",
       "  <thead>\n",
       "    <tr style=\"text-align: right;\">\n",
       "      <th></th>\n",
       "      <th>rougher.input.feed_au</th>\n",
       "      <th>rougher.input.feed_ag</th>\n",
       "      <th>rougher.input.feed_pb</th>\n",
       "    </tr>\n",
       "  </thead>\n",
       "  <tbody>\n",
       "    <tr>\n",
       "      <th>count</th>\n",
       "      <td>12679.000000</td>\n",
       "      <td>12679.000000</td>\n",
       "      <td>12679.000000</td>\n",
       "    </tr>\n",
       "    <tr>\n",
       "      <th>mean</th>\n",
       "      <td>7.887688</td>\n",
       "      <td>8.582645</td>\n",
       "      <td>3.525378</td>\n",
       "    </tr>\n",
       "    <tr>\n",
       "      <th>std</th>\n",
       "      <td>1.844904</td>\n",
       "      <td>1.886908</td>\n",
       "      <td>1.079823</td>\n",
       "    </tr>\n",
       "    <tr>\n",
       "      <th>min</th>\n",
       "      <td>0.010000</td>\n",
       "      <td>0.010000</td>\n",
       "      <td>0.010000</td>\n",
       "    </tr>\n",
       "    <tr>\n",
       "      <th>25%</th>\n",
       "      <td>6.619919</td>\n",
       "      <td>7.140124</td>\n",
       "      <td>2.778443</td>\n",
       "    </tr>\n",
       "    <tr>\n",
       "      <th>50%</th>\n",
       "      <td>7.636738</td>\n",
       "      <td>8.127036</td>\n",
       "      <td>3.435598</td>\n",
       "    </tr>\n",
       "    <tr>\n",
       "      <th>75%</th>\n",
       "      <td>9.012766</td>\n",
       "      <td>9.959449</td>\n",
       "      <td>4.235299</td>\n",
       "    </tr>\n",
       "    <tr>\n",
       "      <th>max</th>\n",
       "      <td>13.126043</td>\n",
       "      <td>14.596026</td>\n",
       "      <td>7.142594</td>\n",
       "    </tr>\n",
       "  </tbody>\n",
       "</table>\n",
       "</div>"
      ],
      "text/plain": [
       "       rougher.input.feed_au  rougher.input.feed_ag  rougher.input.feed_pb\n",
       "count           12679.000000           12679.000000           12679.000000\n",
       "mean                7.887688               8.582645               3.525378\n",
       "std                 1.844904               1.886908               1.079823\n",
       "min                 0.010000               0.010000               0.010000\n",
       "25%                 6.619919               7.140124               2.778443\n",
       "50%                 7.636738               8.127036               3.435598\n",
       "75%                 9.012766               9.959449               4.235299\n",
       "max                13.126043              14.596026               7.142594"
      ]
     },
     "execution_count": 29,
     "metadata": {},
     "output_type": "execute_result"
    }
   ],
   "source": [
    "# В обучающем датафрейме присутствует исходное сырье с нулевой (т.е. менее 0.1) концентрацией полезного металла\n",
    "train_df[['rougher.input.feed_au', 'rougher.input.feed_ag', 'rougher.input.feed_pb']].describe()"
   ]
  },
  {
   "cell_type": "code",
   "execution_count": 30,
   "metadata": {},
   "outputs": [
    {
     "data": {
      "text/html": [
       "<div>\n",
       "<style scoped>\n",
       "    .dataframe tbody tr th:only-of-type {\n",
       "        vertical-align: middle;\n",
       "    }\n",
       "\n",
       "    .dataframe tbody tr th {\n",
       "        vertical-align: top;\n",
       "    }\n",
       "\n",
       "    .dataframe thead th {\n",
       "        text-align: right;\n",
       "    }\n",
       "</style>\n",
       "<table border=\"1\" class=\"dataframe\">\n",
       "  <thead>\n",
       "    <tr style=\"text-align: right;\">\n",
       "      <th></th>\n",
       "      <th>rougher.input.feed_au</th>\n",
       "      <th>rougher.input.feed_ag</th>\n",
       "      <th>rougher.input.feed_pb</th>\n",
       "    </tr>\n",
       "  </thead>\n",
       "  <tbody>\n",
       "    <tr>\n",
       "      <th>count</th>\n",
       "      <td>5229.000000</td>\n",
       "      <td>5229.000000</td>\n",
       "      <td>5229.000000</td>\n",
       "    </tr>\n",
       "    <tr>\n",
       "      <th>mean</th>\n",
       "      <td>9.349280</td>\n",
       "      <td>9.381528</td>\n",
       "      <td>3.802179</td>\n",
       "    </tr>\n",
       "    <tr>\n",
       "      <th>std</th>\n",
       "      <td>1.607407</td>\n",
       "      <td>1.919840</td>\n",
       "      <td>0.952552</td>\n",
       "    </tr>\n",
       "    <tr>\n",
       "      <th>min</th>\n",
       "      <td>2.214112</td>\n",
       "      <td>2.482557</td>\n",
       "      <td>0.300816</td>\n",
       "    </tr>\n",
       "    <tr>\n",
       "      <th>25%</th>\n",
       "      <td>8.228164</td>\n",
       "      <td>8.118406</td>\n",
       "      <td>3.242964</td>\n",
       "    </tr>\n",
       "    <tr>\n",
       "      <th>50%</th>\n",
       "      <td>9.600153</td>\n",
       "      <td>9.767702</td>\n",
       "      <td>3.744082</td>\n",
       "    </tr>\n",
       "    <tr>\n",
       "      <th>75%</th>\n",
       "      <td>10.470606</td>\n",
       "      <td>10.651787</td>\n",
       "      <td>4.282740</td>\n",
       "    </tr>\n",
       "    <tr>\n",
       "      <th>max</th>\n",
       "      <td>13.731330</td>\n",
       "      <td>14.406130</td>\n",
       "      <td>6.905684</td>\n",
       "    </tr>\n",
       "  </tbody>\n",
       "</table>\n",
       "</div>"
      ],
      "text/plain": [
       "       rougher.input.feed_au  rougher.input.feed_ag  rougher.input.feed_pb\n",
       "count            5229.000000            5229.000000            5229.000000\n",
       "mean                9.349280               9.381528               3.802179\n",
       "std                 1.607407               1.919840               0.952552\n",
       "min                 2.214112               2.482557               0.300816\n",
       "25%                 8.228164               8.118406               3.242964\n",
       "50%                 9.600153               9.767702               3.744082\n",
       "75%                10.470606              10.651787               4.282740\n",
       "max                13.731330              14.406130               6.905684"
      ]
     },
     "execution_count": 30,
     "metadata": {},
     "output_type": "execute_result"
    }
   ],
   "source": [
    "# В тестовом датафрейме нет исходного сырья с нулевой (т.е. менее 0.1) концентрацией полезного металла\n",
    "test_df[['rougher.input.feed_au', 'rougher.input.feed_ag', 'rougher.input.feed_pb']].describe()"
   ]
  },
  {
   "cell_type": "code",
   "execution_count": 31,
   "metadata": {},
   "outputs": [
    {
     "name": "stdout",
     "output_type": "stream",
     "text": [
      "Размер датафрейма full_df: (19439, 87)\n",
      "Размер датафрейма train_df: (12679, 53)\n"
     ]
    }
   ],
   "source": [
    "print('Размер датафрейма full_df:', full_df.shape)\n",
    "print('Размер датафрейма train_df:', train_df.shape)"
   ]
  },
  {
   "cell_type": "code",
   "execution_count": 32,
   "metadata": {},
   "outputs": [],
   "source": [
    "# Удаляем исходное сырье с нулевой концентрацией полезного металла\n",
    "full_df = full_df[(full_df['rougher.input.feed_au'] > 0.1) & \n",
    "                          (full_df['rougher.input.feed_ag'] > 0.1) & \n",
    "                          (full_df['rougher.input.feed_pb'] > 0.1)]\n",
    "\n",
    "train_df = train_df[(train_df['rougher.input.feed_au'] > 0.1) & \n",
    "                            (train_df['rougher.input.feed_ag'] > 0.1) & \n",
    "                            (train_df['rougher.input.feed_pb'] > 0.1)]"
   ]
  },
  {
   "cell_type": "code",
   "execution_count": 33,
   "metadata": {
    "scrolled": true
   },
   "outputs": [
    {
     "name": "stdout",
     "output_type": "stream",
     "text": [
      "Размер обновленного датафрейма full_df: (19333, 87)\n",
      "Размер обновленного датафрейма train_df: (12673, 53)\n"
     ]
    }
   ],
   "source": [
    "print('Размер обновленного датафрейма full_df:', full_df.shape)\n",
    "print('Размер обновленного датафрейма train_df:', train_df.shape)"
   ]
  },
  {
   "cell_type": "markdown",
   "metadata": {},
   "source": [
    "### Выводы"
   ]
  },
  {
   "cell_type": "markdown",
   "metadata": {},
   "source": [
    "По мере прохождения этапов технологического процесса очистки концентрация золота `Au` и свинца `Pb` в сырье увеличиваются, концентрация серебра `Ag` снижается. \n",
    "\n",
    "Оценки распределений размеров гранул по пиковым значениям очень схожи и не имеют существенных отличий. Оценка модели предполагает высокую точность.\n",
    "\n",
    "Установлено, что суммарная концентрация металлов в сырье повышается с выполнением каждого этапа технологического процесса."
   ]
  },
  {
   "cell_type": "markdown",
   "metadata": {},
   "source": [
    "## Модель"
   ]
  },
  {
   "cell_type": "markdown",
   "metadata": {},
   "source": [
    "### Функция для вычисления итоговой метрики"
   ]
  },
  {
   "cell_type": "markdown",
   "metadata": {},
   "source": [
    "Формула для расчета метрики $sMAPE$:"
   ]
  },
  {
   "cell_type": "markdown",
   "metadata": {},
   "source": [
    "$$sMAPE = \\frac{1}{N}\\sum\\limits_{i=1}^N\\frac{|y_{i} - \\hat y_{i}|}{(|y_{i}| + |\\hat y_{i}|)/2}\\times100\\%$$"
   ]
  },
  {
   "cell_type": "markdown",
   "metadata": {},
   "source": [
    "где:\n",
    "\n",
    "* $N$ – количество объектов в выборке\n",
    "* $\\sum_{i=1}^N$ – суммирование объектов выборки\n",
    "* $y_{i}$ – значение целевого признака\n",
    "* $\\hat y_{i}$ – значение предсказания"
   ]
  },
  {
   "cell_type": "code",
   "execution_count": 34,
   "metadata": {},
   "outputs": [],
   "source": [
    "def smape(y_true, y_pred):\n",
    "    summing = (abs(y_true - y_pred) / ((abs(y_true) + abs(y_pred)) / 2)).sum()\n",
    "    res = (1/len(y_true)) * summing * 100\n",
    "    return res"
   ]
  },
  {
   "cell_type": "markdown",
   "metadata": {},
   "source": [
    "Итоговая метрика $sMAPE_{resulting}$ вычисляется по формуле:"
   ]
  },
  {
   "cell_type": "markdown",
   "metadata": {},
   "source": [
    "$$sMAPE_{resulting} = 25\\%\\times sMAPE_{rougher} + 75\\%\\times sMAPE_{final}$$"
   ]
  },
  {
   "cell_type": "code",
   "execution_count": 35,
   "metadata": {},
   "outputs": [],
   "source": [
    "def smape_resulting(smape_rougher, smape_final):\n",
    "    res = 0.25 * smape_rougher + 0.75 * smape_final\n",
    "    return res"
   ]
  },
  {
   "cell_type": "markdown",
   "metadata": {},
   "source": [
    "### Обучение моделей и оценка их качества"
   ]
  },
  {
   "cell_type": "markdown",
   "metadata": {},
   "source": [
    "Целевыми признаками по условию задания выступают столбцы `rougher.output.recovery` (или `эффективность обогащения чернового концентрата`) и `final.output.recovery` (или `эффективность обогащения финального концентрата`).\n",
    "\n",
    "По условиям данные индексируются датой и временем получения информации (признак `date`). Это единственный признак, который однозначно идентифицирует одинаковые объекты (или строки) для всех выборок: `train_df`, `test_df` и `full_df`."
   ]
  },
  {
   "cell_type": "code",
   "execution_count": 36,
   "metadata": {},
   "outputs": [],
   "source": [
    "# Назначаем столбец 'date' в качестве индекса\n",
    "train_df = train_df.set_index('date')\n",
    "test_df = test_df.set_index('date')\n",
    "full_df = full_df.set_index('date')"
   ]
  },
  {
   "cell_type": "markdown",
   "metadata": {},
   "source": [
    "Из полной выборки извлекаем целевые признаки `rougher.output.recovery` и `final.output.recovery`, в соответствии с заданными на предыдущем шаге индексами."
   ]
  },
  {
   "cell_type": "code",
   "execution_count": 37,
   "metadata": {},
   "outputs": [],
   "source": [
    "# Извлечение значений целевого признака 'rougher.output.recovery'\n",
    "target_rougher_train = full_df.loc[train_df.index.to_list(), 'rougher.output.recovery']\n",
    "target_rougher_test = full_df.loc[test_df.index.to_list(), 'rougher.output.recovery']\n",
    "\n",
    "# Извлечение значений целевого признака 'final.output.recovery'\n",
    "target_final_train = full_df.loc[train_df.index.to_list(), 'final.output.recovery']\n",
    "target_final_test = full_df.loc[test_df.index.to_list(), 'final.output.recovery']"
   ]
  },
  {
   "cell_type": "code",
   "execution_count": 38,
   "metadata": {
    "scrolled": true
   },
   "outputs": [
    {
     "name": "stdout",
     "output_type": "stream",
     "text": [
      "Размер обучающие выборки (12673, 52)\n",
      "Количество объектов целевого признака rougher для обучающей выборки (12673,)\n",
      "Количество объектов целевого признака final для обучающей выборки (12673,)\n",
      "================================================================================\n",
      "Размер тестовой выборки (5229, 52)\n",
      "Количество объектов целевого признака rougher для тестовой выборки (5229,)\n",
      "Количество объектов целевого признака final для тестовой выборки (5229,)\n"
     ]
    }
   ],
   "source": [
    "print('Размер обучающие выборки', train_df.shape)\n",
    "print('Количество объектов целевого признака rougher для обучающей выборки', target_rougher_train.shape)\n",
    "print('Количество объектов целевого признака final для обучающей выборки', target_final_train.shape)\n",
    "print('='*80)\n",
    "print('Размер тестовой выборки', test_df.shape)\n",
    "print('Количество объектов целевого признака rougher для тестовой выборки', target_rougher_test.shape)\n",
    "print('Количество объектов целевого признака final для тестовой выборки', target_final_test.shape)"
   ]
  },
  {
   "cell_type": "markdown",
   "metadata": {},
   "source": [
    "**Выбор модели и подбор гиперпараметров**"
   ]
  },
  {
   "cell_type": "code",
   "execution_count": 39,
   "metadata": {},
   "outputs": [],
   "source": [
    "# Ранее созданную функцию 'smape' конвертируем в оценочную функцию, используя фабричную функцию make_scorer библиотеки scikit learn\n",
    "# т.к. функция определяет отклонение, то её итоговое значение должно быть минимальным и\n",
    "# параметр принимает значение greater_is_better=False\n",
    "score = make_scorer(smape, greater_is_better=False)"
   ]
  },
  {
   "cell_type": "code",
   "execution_count": 40,
   "metadata": {},
   "outputs": [],
   "source": [
    "# Создаем k-блочную перекрестную проверку\n",
    "kf_cv = KFold(n_splits=5, random_state=12345, shuffle=True)"
   ]
  },
  {
   "cell_type": "markdown",
   "metadata": {},
   "source": [
    "**Линейная регрессия для обучающей выборки (целевой признак `rougher.output.recovery`)**"
   ]
  },
  {
   "cell_type": "code",
   "execution_count": 41,
   "metadata": {
    "scrolled": true
   },
   "outputs": [
    {
     "name": "stdout",
     "output_type": "stream",
     "text": [
      "Метрика sMAPE_rougher (обучающая выборка): 8.70\n"
     ]
    }
   ],
   "source": [
    "# Создаем объект линейной регрессии\n",
    "clf_LR_rougher = LinearRegression(n_jobs=-1) # LR – LinearRegression\n",
    "\n",
    "# Выполняем вложенную перекрестную проверку\n",
    "cv_results_rougher = cross_val_score(clf_LR_rougher, train_df, target_rougher_train, cv=kf_cv, n_jobs=-1, scoring=score)\n",
    "\n",
    "print(f'Метрика sMAPE_rougher (обучающая выборка): {-cv_results_rougher.mean():.2f}')"
   ]
  },
  {
   "cell_type": "markdown",
   "metadata": {},
   "source": [
    "**Случайный лес для обучающей выборки (целевой признак `rougher.output.recovery`)**"
   ]
  },
  {
   "cell_type": "code",
   "execution_count": 42,
   "metadata": {},
   "outputs": [],
   "source": [
    "# Лучшая модель будет отбираться посредством исчерпывающего поиска по диапазону гиперпараметров\n",
    "hyper_param = {'max_depth': range(4, 6), 'n_estimators': range(4, 10, 2)}"
   ]
  },
  {
   "cell_type": "code",
   "execution_count": 43,
   "metadata": {},
   "outputs": [
    {
     "name": "stdout",
     "output_type": "stream",
     "text": [
      "Гиперпараметры для модели RandomForestRegressor_rougher: {'max_depth': 5, 'n_estimators': 6}\n",
      "Метрика sMAPE_rougher (обучающая выборка): 8.26\n"
     ]
    }
   ],
   "source": [
    "# Создаем объект случайного леса\n",
    "clf_RFR_rougher = RandomForestRegressor(random_state=12345,  n_jobs=-1) # RFR - RandomForestRegressor\n",
    "\n",
    "# Создаем объект решеточного поиска\n",
    "gridsearch_RFR_rougher = GridSearchCV(clf_RFR_rougher, hyper_param, cv=kf_cv, n_jobs=-1, scoring=score)\n",
    "\n",
    "# Подгонка объектов решеточного поиска\n",
    "best_model_RFR_rougher = gridsearch_RFR_rougher.fit(train_df, target_rougher_train)\n",
    "\n",
    "print('Гиперпараметры для модели RandomForestRegressor_rougher:', best_model_RFR_rougher.best_params_)\n",
    "print(f'Метрика sMAPE_rougher (обучающая выборка): {-best_model_RFR_rougher.best_score_:.2f}')"
   ]
  },
  {
   "cell_type": "markdown",
   "metadata": {},
   "source": [
    "**Линейная регрессия для обучающей выборки (целевой признак `final.output.recovery`)**"
   ]
  },
  {
   "cell_type": "code",
   "execution_count": 44,
   "metadata": {},
   "outputs": [
    {
     "name": "stdout",
     "output_type": "stream",
     "text": [
      "Метрика sMAPE_final (обучающая выборка): 7.99\n"
     ]
    }
   ],
   "source": [
    "clf_LR_final = LinearRegression(n_jobs=-1) # LR – LinearRegression\n",
    "\n",
    "cv_results_final = cross_val_score(clf_LR_final, train_df, target_final_train, cv=kf_cv, n_jobs=-1, scoring=score)\n",
    "\n",
    "print(f'Метрика sMAPE_final (обучающая выборка): {-cv_results_final.mean():.2f}')"
   ]
  },
  {
   "cell_type": "markdown",
   "metadata": {},
   "source": [
    "**Случайный лес для обучающей выборки (целевой признак `final.output.recovery`)**"
   ]
  },
  {
   "cell_type": "code",
   "execution_count": 45,
   "metadata": {},
   "outputs": [
    {
     "name": "stdout",
     "output_type": "stream",
     "text": [
      "Гиперпараметры для модели RandomForestRegressor_final: {'max_depth': 5, 'n_estimators': 8}\n",
      "Метрика sMAPE_final (обучающая выборка): 7.67\n"
     ]
    }
   ],
   "source": [
    "clf_RFR_final = RandomForestRegressor(random_state=12345,  n_jobs=-1) # RFR - RandomForestRegressor\n",
    "\n",
    "gridsearch_RFR_final = GridSearchCV(clf_RFR_final, hyper_param, cv=kf_cv, n_jobs=-1, scoring=score)\n",
    "\n",
    "best_model_RFR_final = gridsearch_RFR_final.fit(train_df, target_final_train)\n",
    "\n",
    "print('Гиперпараметры для модели RandomForestRegressor_final:', best_model_RFR_final.best_params_)\n",
    "print(f'Метрика sMAPE_final (обучающая выборка): {-best_model_RFR_final.best_score_:.2f}')"
   ]
  },
  {
   "cell_type": "markdown",
   "metadata": {},
   "source": [
    "Для дальнейшего предсказания значений необходимо отобрать модели с наименьшими показателями метрики `sMAPE`.\n",
    "\n",
    "Для целевых признаков `rougher.output.recovery` (или `эффективность обогащения чернового концентрата`) и `final.output.recovery` (или `эффективность обогащения финального концентрата`) этому требования соответствуют модели случайного леса `RandomForestRegressor`."
   ]
  },
  {
   "cell_type": "markdown",
   "metadata": {},
   "source": [
    "**Оценка модели на тестовой выборке (целевой признак `rougher.output.recovery`)**"
   ]
  },
  {
   "cell_type": "code",
   "execution_count": 46,
   "metadata": {},
   "outputs": [
    {
     "name": "stdout",
     "output_type": "stream",
     "text": [
      "Метрика sMAPE_rougher (тестовая выборка): 9.71\n"
     ]
    }
   ],
   "source": [
    "# Создаем объект случайного леса и передаем в него оптимальные гиперпараметры\n",
    "clf_rougher = RandomForestRegressor(**best_model_RFR_rougher.best_params_, random_state=12345,  n_jobs=-1) # RFR - RandomForestRegressor\n",
    "\n",
    "# Выполнение прогноза\n",
    "predict_clf_rougher = clf_rougher.fit(train_df, target_rougher_train).predict(test_df)\n",
    "\n",
    "# Вычисление метрики sMAPE для целевого признака\n",
    "smape_rougher = smape(target_rougher_test, predict_clf_rougher)\n",
    "print(f'Метрика sMAPE_rougher (тестовая выборка): {smape_rougher:.2f}')"
   ]
  },
  {
   "cell_type": "markdown",
   "metadata": {},
   "source": [
    "**Оценка модели на тестовой выборке (целевой признак `final.output.recovery`)**"
   ]
  },
  {
   "cell_type": "code",
   "execution_count": 47,
   "metadata": {},
   "outputs": [
    {
     "name": "stdout",
     "output_type": "stream",
     "text": [
      "Метрика sMAPE_final (тестовая выборка): 10.03\n"
     ]
    }
   ],
   "source": [
    "clf_final = RandomForestRegressor(**best_model_RFR_final.best_params_, random_state=12345,  n_jobs=-1) # RFR - RandomForestRegressor\n",
    "\n",
    "predict_clf_final = clf_final.fit(train_df, target_final_train).predict(test_df)\n",
    "\n",
    "smape_final = smape(target_final_test, predict_clf_final)\n",
    "print(f'Метрика sMAPE_final (тестовая выборка): {smape_final:.2f}')"
   ]
  },
  {
   "cell_type": "code",
   "execution_count": 48,
   "metadata": {},
   "outputs": [
    {
     "name": "stdout",
     "output_type": "stream",
     "text": [
      "Итоговая метрика sMAPE: 9.95\n"
     ]
    }
   ],
   "source": [
    "# Вычисление итоговой метрики через функцию 'smape_resulting'\n",
    "print(f'Итоговая метрика sMAPE: {smape_resulting(smape_rougher, smape_final):.2f}')"
   ]
  },
  {
   "cell_type": "markdown",
   "metadata": {},
   "source": [
    "### Общие выводы"
   ]
  },
  {
   "cell_type": "markdown",
   "metadata": {},
   "source": [
    "Проверка расчета эффективности обогащения для целевого признака `rougher.output.recovery` выявила крайне низкое значение $\\approx$ 9.68e-15 для метрики `средняя абсолютная ошибка (MAE)`. Это подтверждает правильность расчета эффективности обогащения.\n",
    "\n",
    "Обучающая и тестовая выборки были приведены в соответствие по количеству столбцов (или признаков). Были удалены объекты, в которых содержались пропуски.\n",
    "\n",
    "Была выполнена визуализация, на которой отражена концентрация металла на различных этапах технологического процесса. Объекты, в которых по результатам исследования не было выявлено содержание полезного металла были удалены из выборок.\n",
    "\n",
    "После сравнения моделей машинного обучения по метрике sMAPE было установлено, что наилучшими показателями обладает регрессионная модель случайного леса.\n",
    "На основе этой модели были выполнены прогнозы для целевых признаков и получено результирующее значение итоговой метрики."
   ]
  }
 ],
 "metadata": {
  "ExecuteTimeLog": [
   {
    "duration": 800,
    "start_time": "2022-02-08T10:59:25.726Z"
   },
   {
    "duration": 322,
    "start_time": "2022-02-08T11:00:39.520Z"
   },
   {
    "duration": 400,
    "start_time": "2022-02-08T11:00:50.214Z"
   },
   {
    "duration": 328,
    "start_time": "2022-02-08T11:00:59.418Z"
   },
   {
    "duration": 51,
    "start_time": "2022-02-08T11:01:00.425Z"
   },
   {
    "duration": 415,
    "start_time": "2022-02-08T11:01:39.046Z"
   },
   {
    "duration": 840,
    "start_time": "2022-02-08T11:02:17.907Z"
   },
   {
    "duration": 24,
    "start_time": "2022-02-08T11:23:33.772Z"
   },
   {
    "duration": 436,
    "start_time": "2022-02-08T11:23:37.442Z"
   },
   {
    "duration": 25,
    "start_time": "2022-02-08T11:23:55.039Z"
   },
   {
    "duration": 32,
    "start_time": "2022-02-08T11:24:10.564Z"
   },
   {
    "duration": 18,
    "start_time": "2022-02-08T11:24:32.940Z"
   },
   {
    "duration": 31,
    "start_time": "2022-02-08T11:42:43.970Z"
   },
   {
    "duration": 25,
    "start_time": "2022-02-08T11:44:03.613Z"
   },
   {
    "duration": 35,
    "start_time": "2022-02-08T11:44:08.766Z"
   },
   {
    "duration": 340,
    "start_time": "2022-02-08T11:45:11.289Z"
   },
   {
    "duration": 6,
    "start_time": "2022-02-08T11:45:21.073Z"
   },
   {
    "duration": 5,
    "start_time": "2022-02-08T11:46:13.513Z"
   },
   {
    "duration": 5,
    "start_time": "2022-02-08T11:46:26.194Z"
   },
   {
    "duration": 332,
    "start_time": "2022-02-08T11:46:42.714Z"
   },
   {
    "duration": 5,
    "start_time": "2022-02-08T11:46:49.394Z"
   },
   {
    "duration": 5,
    "start_time": "2022-02-08T11:47:30.659Z"
   },
   {
    "duration": 315,
    "start_time": "2022-02-08T11:47:48.755Z"
   },
   {
    "duration": 314,
    "start_time": "2022-02-08T11:48:19.352Z"
   },
   {
    "duration": 6,
    "start_time": "2022-02-08T11:48:26.832Z"
   },
   {
    "duration": 111,
    "start_time": "2022-02-08T11:49:20.042Z"
   },
   {
    "duration": 7,
    "start_time": "2022-02-08T11:49:25.793Z"
   },
   {
    "duration": 3,
    "start_time": "2022-02-08T11:52:57.333Z"
   },
   {
    "duration": 215,
    "start_time": "2022-02-08T12:27:48.206Z"
   },
   {
    "duration": 171,
    "start_time": "2022-02-08T12:29:24.264Z"
   },
   {
    "duration": 224,
    "start_time": "2022-02-08T12:29:33.284Z"
   },
   {
    "duration": 171,
    "start_time": "2022-02-08T12:29:50.365Z"
   },
   {
    "duration": 210,
    "start_time": "2022-02-08T12:30:32.265Z"
   },
   {
    "duration": 352,
    "start_time": "2022-02-08T12:31:13.671Z"
   },
   {
    "duration": 124,
    "start_time": "2022-02-08T12:37:47.318Z"
   },
   {
    "duration": 102,
    "start_time": "2022-02-08T12:38:49.163Z"
   },
   {
    "duration": 3,
    "start_time": "2022-02-08T13:04:21.969Z"
   },
   {
    "duration": 574,
    "start_time": "2022-02-08T13:05:41.154Z"
   },
   {
    "duration": 30,
    "start_time": "2022-02-08T13:07:06.806Z"
   },
   {
    "duration": 7,
    "start_time": "2022-02-08T13:07:40.733Z"
   },
   {
    "duration": 6,
    "start_time": "2022-02-08T13:08:08.244Z"
   },
   {
    "duration": 6,
    "start_time": "2022-02-08T13:08:24.690Z"
   },
   {
    "duration": 6,
    "start_time": "2022-02-08T13:08:34.889Z"
   },
   {
    "duration": 6,
    "start_time": "2022-02-08T13:11:05.130Z"
   },
   {
    "duration": 8,
    "start_time": "2022-02-08T13:11:08.858Z"
   },
   {
    "duration": 151,
    "start_time": "2022-02-08T13:11:43.238Z"
   },
   {
    "duration": 5,
    "start_time": "2022-02-08T13:14:37.349Z"
   },
   {
    "duration": 16,
    "start_time": "2022-02-08T13:15:19.225Z"
   },
   {
    "duration": 9,
    "start_time": "2022-02-08T13:15:25.998Z"
   },
   {
    "duration": 5,
    "start_time": "2022-02-08T13:17:11.018Z"
   },
   {
    "duration": 5,
    "start_time": "2022-02-08T13:18:04.162Z"
   },
   {
    "duration": 3,
    "start_time": "2022-02-08T13:22:52.686Z"
   },
   {
    "duration": 4,
    "start_time": "2022-02-08T13:26:41.854Z"
   },
   {
    "duration": 102,
    "start_time": "2022-02-08T13:26:57.334Z"
   },
   {
    "duration": 538,
    "start_time": "2022-02-08T13:27:01.622Z"
   },
   {
    "duration": 23,
    "start_time": "2022-02-08T13:28:16.323Z"
   },
   {
    "duration": 546,
    "start_time": "2022-02-08T13:28:44.831Z"
   },
   {
    "duration": 4,
    "start_time": "2022-02-08T13:32:18.595Z"
   },
   {
    "duration": 345,
    "start_time": "2022-02-08T13:32:40.786Z"
   },
   {
    "duration": 325,
    "start_time": "2022-02-08T13:34:03.142Z"
   },
   {
    "duration": 8,
    "start_time": "2022-02-08T13:35:02.799Z"
   },
   {
    "duration": 7,
    "start_time": "2022-02-08T13:35:12.516Z"
   },
   {
    "duration": 552,
    "start_time": "2022-02-08T13:36:32.164Z"
   },
   {
    "duration": 326,
    "start_time": "2022-02-08T13:36:50.673Z"
   },
   {
    "duration": 1282,
    "start_time": "2022-02-08T13:38:51.666Z"
   },
   {
    "duration": 832,
    "start_time": "2022-02-08T13:38:52.950Z"
   },
   {
    "duration": 25,
    "start_time": "2022-02-08T13:38:53.789Z"
   },
   {
    "duration": 64,
    "start_time": "2022-02-08T13:38:53.817Z"
   },
   {
    "duration": 5,
    "start_time": "2022-02-08T13:38:53.884Z"
   },
   {
    "duration": 404,
    "start_time": "2022-02-08T13:38:53.891Z"
   },
   {
    "duration": 5,
    "start_time": "2022-02-08T13:38:54.298Z"
   },
   {
    "duration": 12,
    "start_time": "2022-02-08T13:38:54.306Z"
   },
   {
    "duration": 4,
    "start_time": "2022-02-08T13:38:54.320Z"
   },
   {
    "duration": 614,
    "start_time": "2022-02-08T13:38:54.327Z"
   },
   {
    "duration": 20,
    "start_time": "2022-02-08T13:38:54.943Z"
   },
   {
    "duration": 9,
    "start_time": "2022-02-08T13:38:54.965Z"
   },
   {
    "duration": 18,
    "start_time": "2022-02-08T13:38:54.976Z"
   },
   {
    "duration": 7,
    "start_time": "2022-02-08T13:39:36.902Z"
   },
   {
    "duration": 7,
    "start_time": "2022-02-08T13:39:50.460Z"
   },
   {
    "duration": 5,
    "start_time": "2022-02-08T13:40:49.367Z"
   },
   {
    "duration": 7,
    "start_time": "2022-02-08T13:41:35.299Z"
   },
   {
    "duration": 10,
    "start_time": "2022-02-08T13:41:54.147Z"
   },
   {
    "duration": 577,
    "start_time": "2022-02-08T13:44:32.184Z"
   },
   {
    "duration": 7,
    "start_time": "2022-02-08T13:44:35.174Z"
   },
   {
    "duration": 1322,
    "start_time": "2022-02-08T13:44:49.923Z"
   },
   {
    "duration": 829,
    "start_time": "2022-02-08T13:44:51.248Z"
   },
   {
    "duration": 28,
    "start_time": "2022-02-08T13:44:52.083Z"
   },
   {
    "duration": 66,
    "start_time": "2022-02-08T13:44:52.113Z"
   },
   {
    "duration": 5,
    "start_time": "2022-02-08T13:44:52.182Z"
   },
   {
    "duration": 386,
    "start_time": "2022-02-08T13:44:52.189Z"
   },
   {
    "duration": 10,
    "start_time": "2022-02-08T13:44:52.579Z"
   },
   {
    "duration": 6,
    "start_time": "2022-02-08T13:44:52.591Z"
   },
   {
    "duration": 568,
    "start_time": "2022-02-08T13:44:52.599Z"
   },
   {
    "duration": 6,
    "start_time": "2022-02-08T13:44:53.169Z"
   },
   {
    "duration": 8,
    "start_time": "2022-02-08T14:07:25.492Z"
   },
   {
    "duration": 7,
    "start_time": "2022-02-08T14:07:46.777Z"
   },
   {
    "duration": 7,
    "start_time": "2022-02-08T14:08:04.993Z"
   },
   {
    "duration": 7,
    "start_time": "2022-02-08T14:09:19.587Z"
   },
   {
    "duration": 8,
    "start_time": "2022-02-08T14:09:31.795Z"
   },
   {
    "duration": 25,
    "start_time": "2022-02-08T14:11:21.929Z"
   },
   {
    "duration": 12,
    "start_time": "2022-02-08T14:11:26.163Z"
   },
   {
    "duration": 1335,
    "start_time": "2022-02-08T14:33:02.418Z"
   },
   {
    "duration": 851,
    "start_time": "2022-02-08T14:33:03.756Z"
   },
   {
    "duration": 26,
    "start_time": "2022-02-08T14:33:04.610Z"
   },
   {
    "duration": 57,
    "start_time": "2022-02-08T14:33:04.639Z"
   },
   {
    "duration": 5,
    "start_time": "2022-02-08T14:33:04.699Z"
   },
   {
    "duration": 400,
    "start_time": "2022-02-08T14:33:04.706Z"
   },
   {
    "duration": 12,
    "start_time": "2022-02-08T14:33:05.109Z"
   },
   {
    "duration": 6,
    "start_time": "2022-02-08T14:33:05.124Z"
   },
   {
    "duration": 566,
    "start_time": "2022-02-08T14:33:05.133Z"
   },
   {
    "duration": 6,
    "start_time": "2022-02-08T14:33:05.701Z"
   },
   {
    "duration": 8,
    "start_time": "2022-02-08T14:33:05.709Z"
   },
   {
    "duration": 45,
    "start_time": "2022-02-08T14:33:05.719Z"
   },
   {
    "duration": 6,
    "start_time": "2022-02-08T14:33:21.953Z"
   },
   {
    "duration": 446,
    "start_time": "2022-02-08T14:33:32.910Z"
   },
   {
    "duration": 7,
    "start_time": "2022-02-08T14:33:37.221Z"
   },
   {
    "duration": 6,
    "start_time": "2022-02-08T14:33:48.525Z"
   },
   {
    "duration": 4,
    "start_time": "2022-02-08T16:49:46.634Z"
   },
   {
    "duration": 6,
    "start_time": "2022-02-08T16:49:53.970Z"
   },
   {
    "duration": 12,
    "start_time": "2022-02-08T16:51:01.039Z"
   },
   {
    "duration": 41,
    "start_time": "2022-02-08T16:51:06.639Z"
   },
   {
    "duration": 373,
    "start_time": "2022-02-08T16:51:57.783Z"
   },
   {
    "duration": 1333,
    "start_time": "2022-02-08T16:52:08.616Z"
   },
   {
    "duration": 885,
    "start_time": "2022-02-08T16:52:09.952Z"
   },
   {
    "duration": 37,
    "start_time": "2022-02-08T16:52:10.841Z"
   },
   {
    "duration": 41,
    "start_time": "2022-02-08T16:52:10.881Z"
   },
   {
    "duration": 6,
    "start_time": "2022-02-08T16:52:10.924Z"
   },
   {
    "duration": 416,
    "start_time": "2022-02-08T16:52:10.961Z"
   },
   {
    "duration": 12,
    "start_time": "2022-02-08T16:52:11.380Z"
   },
   {
    "duration": 6,
    "start_time": "2022-02-08T16:52:11.397Z"
   },
   {
    "duration": 688,
    "start_time": "2022-02-08T16:52:11.406Z"
   },
   {
    "duration": 6,
    "start_time": "2022-02-08T16:52:12.096Z"
   },
   {
    "duration": 7,
    "start_time": "2022-02-08T16:52:12.104Z"
   },
   {
    "duration": 80,
    "start_time": "2022-02-08T16:52:12.113Z"
   },
   {
    "duration": 12,
    "start_time": "2022-02-08T16:52:31.344Z"
   },
   {
    "duration": 13,
    "start_time": "2022-02-08T16:53:54.668Z"
   },
   {
    "duration": 8,
    "start_time": "2022-02-08T16:54:05.645Z"
   },
   {
    "duration": 7,
    "start_time": "2022-02-08T16:54:20.041Z"
   },
   {
    "duration": 8,
    "start_time": "2022-02-08T16:54:26.786Z"
   },
   {
    "duration": 4,
    "start_time": "2022-02-08T16:54:32.666Z"
   },
   {
    "duration": 12,
    "start_time": "2022-02-08T16:56:50.001Z"
   },
   {
    "duration": 11,
    "start_time": "2022-02-08T16:57:14.077Z"
   },
   {
    "duration": 37,
    "start_time": "2022-02-08T16:57:28.909Z"
   },
   {
    "duration": 18,
    "start_time": "2022-02-08T16:58:43.671Z"
   },
   {
    "duration": 5,
    "start_time": "2022-02-08T16:59:47.056Z"
   },
   {
    "duration": 6,
    "start_time": "2022-02-08T16:59:58.495Z"
   },
   {
    "duration": 6,
    "start_time": "2022-02-08T17:01:51.088Z"
   },
   {
    "duration": 5,
    "start_time": "2022-02-08T17:05:49.772Z"
   },
   {
    "duration": 5,
    "start_time": "2022-02-08T17:06:03.059Z"
   },
   {
    "duration": 5,
    "start_time": "2022-02-08T17:06:10.800Z"
   },
   {
    "duration": 6,
    "start_time": "2022-02-08T17:06:41.769Z"
   },
   {
    "duration": 6,
    "start_time": "2022-02-08T17:06:48.986Z"
   },
   {
    "duration": 5,
    "start_time": "2022-02-08T17:06:55.490Z"
   },
   {
    "duration": 14,
    "start_time": "2022-02-08T17:08:54.463Z"
   },
   {
    "duration": 5,
    "start_time": "2022-02-08T17:08:59.720Z"
   },
   {
    "duration": 1241,
    "start_time": "2022-02-08T17:12:22.405Z"
   },
   {
    "duration": 851,
    "start_time": "2022-02-08T17:12:23.648Z"
   },
   {
    "duration": 26,
    "start_time": "2022-02-08T17:12:24.505Z"
   },
   {
    "duration": 58,
    "start_time": "2022-02-08T17:12:24.533Z"
   },
   {
    "duration": 6,
    "start_time": "2022-02-08T17:12:24.594Z"
   },
   {
    "duration": 402,
    "start_time": "2022-02-08T17:12:24.603Z"
   },
   {
    "duration": 10,
    "start_time": "2022-02-08T17:12:25.010Z"
   },
   {
    "duration": 5,
    "start_time": "2022-02-08T17:12:25.024Z"
   },
   {
    "duration": 554,
    "start_time": "2022-02-08T17:12:25.060Z"
   },
   {
    "duration": 6,
    "start_time": "2022-02-08T17:12:25.616Z"
   },
   {
    "duration": 7,
    "start_time": "2022-02-08T17:12:25.625Z"
   },
   {
    "duration": 33,
    "start_time": "2022-02-08T17:12:25.634Z"
   },
   {
    "duration": 7,
    "start_time": "2022-02-08T17:12:25.670Z"
   },
   {
    "duration": 5,
    "start_time": "2022-02-08T17:12:25.679Z"
   },
   {
    "duration": 18,
    "start_time": "2022-02-08T17:12:25.687Z"
   },
   {
    "duration": 4,
    "start_time": "2022-02-08T17:12:25.708Z"
   },
   {
    "duration": 13,
    "start_time": "2022-02-08T17:20:05.308Z"
   },
   {
    "duration": 17,
    "start_time": "2022-02-08T17:20:23.267Z"
   },
   {
    "duration": 1252,
    "start_time": "2022-02-08T17:22:39.391Z"
   },
   {
    "duration": 929,
    "start_time": "2022-02-08T17:22:40.646Z"
   },
   {
    "duration": 28,
    "start_time": "2022-02-08T17:22:41.577Z"
   },
   {
    "duration": 57,
    "start_time": "2022-02-08T17:22:41.609Z"
   },
   {
    "duration": 6,
    "start_time": "2022-02-08T17:22:41.669Z"
   },
   {
    "duration": 395,
    "start_time": "2022-02-08T17:22:41.678Z"
   },
   {
    "duration": 10,
    "start_time": "2022-02-08T17:22:42.076Z"
   },
   {
    "duration": 5,
    "start_time": "2022-02-08T17:22:42.090Z"
   },
   {
    "duration": 582,
    "start_time": "2022-02-08T17:22:42.098Z"
   },
   {
    "duration": 6,
    "start_time": "2022-02-08T17:22:42.683Z"
   },
   {
    "duration": 7,
    "start_time": "2022-02-08T17:22:42.691Z"
   },
   {
    "duration": 10,
    "start_time": "2022-02-08T17:22:42.700Z"
   },
   {
    "duration": 8,
    "start_time": "2022-02-08T17:22:42.712Z"
   },
   {
    "duration": 6,
    "start_time": "2022-02-08T17:22:42.760Z"
   },
   {
    "duration": 19,
    "start_time": "2022-02-08T17:22:42.769Z"
   },
   {
    "duration": 12,
    "start_time": "2022-02-08T17:22:42.791Z"
   },
   {
    "duration": 6,
    "start_time": "2022-02-08T17:22:42.805Z"
   },
   {
    "duration": 1427,
    "start_time": "2022-02-08T17:36:02.922Z"
   },
   {
    "duration": 857,
    "start_time": "2022-02-08T17:36:04.359Z"
   },
   {
    "duration": 41,
    "start_time": "2022-02-08T17:36:05.220Z"
   },
   {
    "duration": 41,
    "start_time": "2022-02-08T17:36:05.264Z"
   },
   {
    "duration": 6,
    "start_time": "2022-02-08T17:36:05.308Z"
   },
   {
    "duration": 414,
    "start_time": "2022-02-08T17:36:05.317Z"
   },
   {
    "duration": 10,
    "start_time": "2022-02-08T17:36:05.737Z"
   },
   {
    "duration": 5,
    "start_time": "2022-02-08T17:36:05.760Z"
   },
   {
    "duration": 579,
    "start_time": "2022-02-08T17:36:05.767Z"
   },
   {
    "duration": 15,
    "start_time": "2022-02-08T17:36:06.348Z"
   },
   {
    "duration": 7,
    "start_time": "2022-02-08T17:36:06.365Z"
   },
   {
    "duration": 10,
    "start_time": "2022-02-08T17:36:06.374Z"
   },
   {
    "duration": 6,
    "start_time": "2022-02-08T17:36:06.387Z"
   },
   {
    "duration": 6,
    "start_time": "2022-02-08T17:36:06.395Z"
   },
   {
    "duration": 59,
    "start_time": "2022-02-08T17:36:06.403Z"
   },
   {
    "duration": 12,
    "start_time": "2022-02-08T17:36:06.465Z"
   },
   {
    "duration": 6,
    "start_time": "2022-02-08T17:36:06.480Z"
   },
   {
    "duration": 6,
    "start_time": "2022-02-08T17:38:24.510Z"
   },
   {
    "duration": 4,
    "start_time": "2022-02-08T17:38:44.340Z"
   },
   {
    "duration": 859,
    "start_time": "2022-02-08T17:38:44.347Z"
   },
   {
    "duration": 24,
    "start_time": "2022-02-08T17:38:45.209Z"
   },
   {
    "duration": 49,
    "start_time": "2022-02-08T17:38:45.236Z"
   },
   {
    "duration": 7,
    "start_time": "2022-02-08T17:38:45.287Z"
   },
   {
    "duration": 387,
    "start_time": "2022-02-08T17:38:45.297Z"
   },
   {
    "duration": 10,
    "start_time": "2022-02-08T17:38:45.686Z"
   },
   {
    "duration": 5,
    "start_time": "2022-02-08T17:38:45.700Z"
   },
   {
    "duration": 587,
    "start_time": "2022-02-08T17:38:45.708Z"
   },
   {
    "duration": 6,
    "start_time": "2022-02-08T17:38:46.297Z"
   },
   {
    "duration": 7,
    "start_time": "2022-02-08T17:38:53.762Z"
   },
   {
    "duration": 7,
    "start_time": "2022-02-08T17:39:02.379Z"
   },
   {
    "duration": 1397,
    "start_time": "2022-02-08T17:39:09.159Z"
   },
   {
    "duration": 945,
    "start_time": "2022-02-08T17:39:10.560Z"
   },
   {
    "duration": 26,
    "start_time": "2022-02-08T17:39:11.508Z"
   },
   {
    "duration": 57,
    "start_time": "2022-02-08T17:39:11.536Z"
   },
   {
    "duration": 6,
    "start_time": "2022-02-08T17:39:11.595Z"
   },
   {
    "duration": 541,
    "start_time": "2022-02-08T17:39:11.603Z"
   },
   {
    "duration": 18,
    "start_time": "2022-02-08T17:39:12.147Z"
   },
   {
    "duration": 4,
    "start_time": "2022-02-08T17:39:12.169Z"
   },
   {
    "duration": 741,
    "start_time": "2022-02-08T17:39:12.176Z"
   },
   {
    "duration": 7,
    "start_time": "2022-02-08T17:39:12.920Z"
   },
   {
    "duration": 33,
    "start_time": "2022-02-08T17:39:12.930Z"
   },
   {
    "duration": 17,
    "start_time": "2022-02-08T17:39:12.966Z"
   },
   {
    "duration": 10,
    "start_time": "2022-02-08T17:39:12.986Z"
   },
   {
    "duration": 7,
    "start_time": "2022-02-08T17:39:12.998Z"
   },
   {
    "duration": 52,
    "start_time": "2022-02-08T17:39:13.008Z"
   },
   {
    "duration": 13,
    "start_time": "2022-02-08T17:39:13.062Z"
   },
   {
    "duration": 6,
    "start_time": "2022-02-08T17:39:13.078Z"
   },
   {
    "duration": 23,
    "start_time": "2022-02-08T17:42:49.180Z"
   },
   {
    "duration": 16,
    "start_time": "2022-02-08T17:42:58.654Z"
   },
   {
    "duration": 371,
    "start_time": "2022-02-08T18:22:10.882Z"
   },
   {
    "duration": 1540,
    "start_time": "2022-02-08T18:22:19.445Z"
   },
   {
    "duration": 875,
    "start_time": "2022-02-08T18:22:20.987Z"
   },
   {
    "duration": 27,
    "start_time": "2022-02-08T18:22:21.865Z"
   },
   {
    "duration": 63,
    "start_time": "2022-02-08T18:22:21.896Z"
   },
   {
    "duration": 5,
    "start_time": "2022-02-08T18:22:21.962Z"
   },
   {
    "duration": 419,
    "start_time": "2022-02-08T18:22:21.970Z"
   },
   {
    "duration": 10,
    "start_time": "2022-02-08T18:22:22.391Z"
   },
   {
    "duration": 4,
    "start_time": "2022-02-08T18:22:22.405Z"
   },
   {
    "duration": 615,
    "start_time": "2022-02-08T18:22:22.412Z"
   },
   {
    "duration": 7,
    "start_time": "2022-02-08T18:22:23.030Z"
   },
   {
    "duration": 9,
    "start_time": "2022-02-08T18:22:23.060Z"
   },
   {
    "duration": 11,
    "start_time": "2022-02-08T18:22:23.071Z"
   },
   {
    "duration": 6,
    "start_time": "2022-02-08T18:22:23.086Z"
   },
   {
    "duration": 5,
    "start_time": "2022-02-08T18:22:23.095Z"
   },
   {
    "duration": 64,
    "start_time": "2022-02-08T18:22:23.103Z"
   },
   {
    "duration": 14,
    "start_time": "2022-02-08T18:22:23.170Z"
   },
   {
    "duration": 6,
    "start_time": "2022-02-08T18:22:23.187Z"
   },
   {
    "duration": 1486,
    "start_time": "2022-02-08T18:23:27.410Z"
   },
   {
    "duration": 859,
    "start_time": "2022-02-08T18:23:28.900Z"
   },
   {
    "duration": 28,
    "start_time": "2022-02-08T18:23:29.762Z"
   },
   {
    "duration": 35,
    "start_time": "2022-02-08T18:23:29.794Z"
   },
   {
    "duration": 30,
    "start_time": "2022-02-08T18:23:29.831Z"
   },
   {
    "duration": 386,
    "start_time": "2022-02-08T18:23:29.864Z"
   },
   {
    "duration": 14,
    "start_time": "2022-02-08T18:23:30.252Z"
   },
   {
    "duration": 5,
    "start_time": "2022-02-08T18:23:30.270Z"
   },
   {
    "duration": 590,
    "start_time": "2022-02-08T18:23:30.278Z"
   },
   {
    "duration": 5,
    "start_time": "2022-02-08T18:23:30.871Z"
   },
   {
    "duration": 13,
    "start_time": "2022-02-08T18:23:30.878Z"
   },
   {
    "duration": 10,
    "start_time": "2022-02-08T18:23:30.894Z"
   },
   {
    "duration": 9,
    "start_time": "2022-02-08T18:23:30.907Z"
   },
   {
    "duration": 43,
    "start_time": "2022-02-08T18:23:30.918Z"
   },
   {
    "duration": 23,
    "start_time": "2022-02-08T18:23:30.963Z"
   },
   {
    "duration": 13,
    "start_time": "2022-02-08T18:23:30.989Z"
   },
   {
    "duration": 8,
    "start_time": "2022-02-08T18:23:31.004Z"
   },
   {
    "duration": 105,
    "start_time": "2022-02-08T18:37:47.448Z"
   },
   {
    "duration": 4,
    "start_time": "2022-02-08T18:38:04.977Z"
   },
   {
    "duration": 487,
    "start_time": "2022-02-08T18:38:06.424Z"
   },
   {
    "duration": 333,
    "start_time": "2022-02-08T18:38:36.310Z"
   },
   {
    "duration": 629,
    "start_time": "2022-02-08T18:39:46.603Z"
   },
   {
    "duration": 4,
    "start_time": "2022-02-08T18:40:08.367Z"
   },
   {
    "duration": 1816,
    "start_time": "2022-02-08T18:40:09.535Z"
   },
   {
    "duration": 4,
    "start_time": "2022-02-08T18:40:29.271Z"
   },
   {
    "duration": 317,
    "start_time": "2022-02-08T18:40:34.350Z"
   },
   {
    "duration": 6,
    "start_time": "2022-02-08T18:41:18.209Z"
   },
   {
    "duration": 655,
    "start_time": "2022-02-08T18:41:19.232Z"
   },
   {
    "duration": 4,
    "start_time": "2022-02-08T18:42:11.969Z"
   },
   {
    "duration": 1456,
    "start_time": "2022-02-08T18:42:18.503Z"
   },
   {
    "duration": 863,
    "start_time": "2022-02-08T18:42:19.962Z"
   },
   {
    "duration": 35,
    "start_time": "2022-02-08T18:42:20.827Z"
   },
   {
    "duration": 35,
    "start_time": "2022-02-08T18:42:20.865Z"
   },
   {
    "duration": 6,
    "start_time": "2022-02-08T18:42:20.902Z"
   },
   {
    "duration": 420,
    "start_time": "2022-02-08T18:42:20.910Z"
   },
   {
    "duration": 10,
    "start_time": "2022-02-08T18:42:21.334Z"
   },
   {
    "duration": 5,
    "start_time": "2022-02-08T18:42:21.360Z"
   },
   {
    "duration": 587,
    "start_time": "2022-02-08T18:42:21.368Z"
   },
   {
    "duration": 7,
    "start_time": "2022-02-08T18:42:21.960Z"
   },
   {
    "duration": 9,
    "start_time": "2022-02-08T18:42:21.970Z"
   },
   {
    "duration": 11,
    "start_time": "2022-02-08T18:42:21.982Z"
   },
   {
    "duration": 7,
    "start_time": "2022-02-08T18:42:21.995Z"
   },
   {
    "duration": 13,
    "start_time": "2022-02-08T18:42:22.004Z"
   },
   {
    "duration": 18,
    "start_time": "2022-02-08T18:42:22.060Z"
   },
   {
    "duration": 13,
    "start_time": "2022-02-08T18:42:22.080Z"
   },
   {
    "duration": 5,
    "start_time": "2022-02-08T18:42:22.095Z"
   },
   {
    "duration": 6,
    "start_time": "2022-02-08T18:42:22.102Z"
   },
   {
    "duration": 1049,
    "start_time": "2022-02-08T18:42:22.110Z"
   },
   {
    "duration": 7,
    "start_time": "2022-02-08T18:42:49.108Z"
   },
   {
    "duration": 1456,
    "start_time": "2022-02-08T18:42:50.498Z"
   },
   {
    "duration": 6,
    "start_time": "2022-02-08T18:43:06.801Z"
   },
   {
    "duration": 560,
    "start_time": "2022-02-08T18:43:07.578Z"
   },
   {
    "duration": 6,
    "start_time": "2022-02-08T18:43:22.046Z"
   },
   {
    "duration": 572,
    "start_time": "2022-02-08T18:43:22.990Z"
   },
   {
    "duration": 5,
    "start_time": "2022-02-08T18:43:48.187Z"
   },
   {
    "duration": 611,
    "start_time": "2022-02-08T18:43:49.282Z"
   },
   {
    "duration": 5,
    "start_time": "2022-02-08T18:43:57.562Z"
   },
   {
    "duration": 332,
    "start_time": "2022-02-08T18:43:58.497Z"
   },
   {
    "duration": 6,
    "start_time": "2022-02-08T18:45:47.689Z"
   },
   {
    "duration": 657,
    "start_time": "2022-02-08T18:45:49.024Z"
   },
   {
    "duration": 5,
    "start_time": "2022-02-08T18:45:55.904Z"
   },
   {
    "duration": 559,
    "start_time": "2022-02-08T18:45:57.400Z"
   },
   {
    "duration": 5,
    "start_time": "2022-02-08T18:47:20.140Z"
   },
   {
    "duration": 487,
    "start_time": "2022-02-08T18:47:21.373Z"
   },
   {
    "duration": 5,
    "start_time": "2022-02-08T18:47:32.678Z"
   },
   {
    "duration": 662,
    "start_time": "2022-02-08T18:47:33.765Z"
   },
   {
    "duration": 5,
    "start_time": "2022-02-08T18:48:46.663Z"
   },
   {
    "duration": 761,
    "start_time": "2022-02-08T18:48:47.494Z"
   },
   {
    "duration": 5,
    "start_time": "2022-02-08T18:49:00.876Z"
   },
   {
    "duration": 1245,
    "start_time": "2022-02-08T18:49:02.835Z"
   },
   {
    "duration": 5,
    "start_time": "2022-02-08T18:49:13.508Z"
   },
   {
    "duration": 604,
    "start_time": "2022-02-08T18:49:14.411Z"
   },
   {
    "duration": 6,
    "start_time": "2022-02-08T18:49:28.080Z"
   },
   {
    "duration": 616,
    "start_time": "2022-02-08T18:49:29.183Z"
   },
   {
    "duration": 5,
    "start_time": "2022-02-08T18:49:35.736Z"
   },
   {
    "duration": 510,
    "start_time": "2022-02-08T18:49:36.671Z"
   },
   {
    "duration": 5,
    "start_time": "2022-02-08T18:49:49.753Z"
   },
   {
    "duration": 547,
    "start_time": "2022-02-08T18:49:50.544Z"
   },
   {
    "duration": 5,
    "start_time": "2022-02-08T18:49:57.352Z"
   },
   {
    "duration": 602,
    "start_time": "2022-02-08T18:49:58.039Z"
   },
   {
    "duration": 9,
    "start_time": "2022-02-08T18:50:06.640Z"
   },
   {
    "duration": 643,
    "start_time": "2022-02-08T18:50:07.379Z"
   },
   {
    "duration": 6,
    "start_time": "2022-02-08T18:50:25.933Z"
   },
   {
    "duration": 521,
    "start_time": "2022-02-08T18:50:26.653Z"
   },
   {
    "duration": 5,
    "start_time": "2022-02-08T18:50:40.653Z"
   },
   {
    "duration": 522,
    "start_time": "2022-02-08T18:50:41.285Z"
   },
   {
    "duration": 7,
    "start_time": "2022-02-08T18:50:46.295Z"
   },
   {
    "duration": 637,
    "start_time": "2022-02-08T18:50:48.029Z"
   },
   {
    "duration": 6,
    "start_time": "2022-02-08T18:50:56.201Z"
   },
   {
    "duration": 598,
    "start_time": "2022-02-08T18:50:56.977Z"
   },
   {
    "duration": 5,
    "start_time": "2022-02-08T18:51:05.442Z"
   },
   {
    "duration": 595,
    "start_time": "2022-02-08T18:51:06.282Z"
   },
   {
    "duration": 5,
    "start_time": "2022-02-08T18:51:27.010Z"
   },
   {
    "duration": 522,
    "start_time": "2022-02-08T18:51:27.699Z"
   },
   {
    "duration": 8,
    "start_time": "2022-02-08T18:51:33.383Z"
   },
   {
    "duration": 5,
    "start_time": "2022-02-08T18:51:36.671Z"
   },
   {
    "duration": 529,
    "start_time": "2022-02-08T18:51:37.354Z"
   },
   {
    "duration": 17,
    "start_time": "2022-02-08T18:51:44.096Z"
   },
   {
    "duration": 866,
    "start_time": "2022-02-08T18:51:44.615Z"
   },
   {
    "duration": 5,
    "start_time": "2022-02-08T18:51:52.040Z"
   },
   {
    "duration": 632,
    "start_time": "2022-02-08T18:51:52.782Z"
   },
   {
    "duration": 6,
    "start_time": "2022-02-08T18:52:01.343Z"
   },
   {
    "duration": 580,
    "start_time": "2022-02-08T18:52:02.179Z"
   },
   {
    "duration": 7,
    "start_time": "2022-02-08T18:54:32.137Z"
   },
   {
    "duration": 1101,
    "start_time": "2022-02-08T18:54:33.000Z"
   },
   {
    "duration": 5,
    "start_time": "2022-02-08T18:54:41.616Z"
   },
   {
    "duration": 542,
    "start_time": "2022-02-08T18:54:42.464Z"
   },
   {
    "duration": 5,
    "start_time": "2022-02-08T18:54:56.529Z"
   },
   {
    "duration": 574,
    "start_time": "2022-02-08T18:54:57.153Z"
   },
   {
    "duration": 4,
    "start_time": "2022-02-08T18:55:04.434Z"
   },
   {
    "duration": 580,
    "start_time": "2022-02-08T18:55:05.122Z"
   },
   {
    "duration": 5,
    "start_time": "2022-02-08T18:56:20.758Z"
   },
   {
    "duration": 506,
    "start_time": "2022-02-08T18:56:21.461Z"
   },
   {
    "duration": 5,
    "start_time": "2022-02-08T18:56:26.895Z"
   },
   {
    "duration": 554,
    "start_time": "2022-02-08T18:56:27.565Z"
   },
   {
    "duration": 5,
    "start_time": "2022-02-08T18:56:36.114Z"
   },
   {
    "duration": 597,
    "start_time": "2022-02-08T18:56:36.938Z"
   },
   {
    "duration": 5,
    "start_time": "2022-02-08T18:56:45.258Z"
   },
   {
    "duration": 536,
    "start_time": "2022-02-08T18:56:46.018Z"
   },
   {
    "duration": 5,
    "start_time": "2022-02-08T18:57:30.823Z"
   },
   {
    "duration": 1169,
    "start_time": "2022-02-08T18:57:31.435Z"
   },
   {
    "duration": 7,
    "start_time": "2022-02-08T18:57:53.500Z"
   },
   {
    "duration": 536,
    "start_time": "2022-02-08T18:57:54.404Z"
   },
   {
    "duration": 319,
    "start_time": "2022-02-08T18:59:16.065Z"
   },
   {
    "duration": 5,
    "start_time": "2022-02-08T18:59:20.292Z"
   },
   {
    "duration": 339,
    "start_time": "2022-02-08T18:59:21.131Z"
   },
   {
    "duration": 535,
    "start_time": "2022-02-08T18:59:33.684Z"
   },
   {
    "duration": 5,
    "start_time": "2022-02-08T19:00:43.724Z"
   },
   {
    "duration": 536,
    "start_time": "2022-02-08T19:00:44.515Z"
   },
   {
    "duration": 5,
    "start_time": "2022-02-08T19:02:23.316Z"
   },
   {
    "duration": 648,
    "start_time": "2022-02-08T19:02:24.011Z"
   },
   {
    "duration": 5,
    "start_time": "2022-02-08T19:02:29.685Z"
   },
   {
    "duration": 558,
    "start_time": "2022-02-08T19:02:31.183Z"
   },
   {
    "duration": 5,
    "start_time": "2022-02-08T19:02:52.937Z"
   },
   {
    "duration": 545,
    "start_time": "2022-02-08T19:02:53.824Z"
   },
   {
    "duration": 8,
    "start_time": "2022-02-08T19:03:12.514Z"
   },
   {
    "duration": 6,
    "start_time": "2022-02-08T19:03:15.448Z"
   },
   {
    "duration": 702,
    "start_time": "2022-02-08T19:03:16.056Z"
   },
   {
    "duration": 6,
    "start_time": "2022-02-08T19:03:39.839Z"
   },
   {
    "duration": 634,
    "start_time": "2022-02-08T19:03:40.709Z"
   },
   {
    "duration": 5,
    "start_time": "2022-02-08T19:04:19.784Z"
   },
   {
    "duration": 578,
    "start_time": "2022-02-08T19:04:20.485Z"
   },
   {
    "duration": 5,
    "start_time": "2022-02-08T19:04:54.755Z"
   },
   {
    "duration": 585,
    "start_time": "2022-02-08T19:04:55.642Z"
   },
   {
    "duration": 5,
    "start_time": "2022-02-08T19:05:44.996Z"
   },
   {
    "duration": 590,
    "start_time": "2022-02-08T19:05:45.955Z"
   },
   {
    "duration": 5,
    "start_time": "2022-02-08T19:06:18.344Z"
   },
   {
    "duration": 643,
    "start_time": "2022-02-08T19:06:19.047Z"
   },
   {
    "duration": 5,
    "start_time": "2022-02-08T19:06:45.141Z"
   },
   {
    "duration": 634,
    "start_time": "2022-02-08T19:06:45.844Z"
   },
   {
    "duration": 4,
    "start_time": "2022-02-08T19:07:18.817Z"
   },
   {
    "duration": 580,
    "start_time": "2022-02-08T19:07:19.425Z"
   },
   {
    "duration": 6,
    "start_time": "2022-02-08T19:07:34.378Z"
   },
   {
    "duration": 844,
    "start_time": "2022-02-08T19:07:34.996Z"
   },
   {
    "duration": 5,
    "start_time": "2022-02-08T19:09:22.432Z"
   },
   {
    "duration": 707,
    "start_time": "2022-02-08T19:09:23.229Z"
   },
   {
    "duration": 6,
    "start_time": "2022-02-08T19:10:41.425Z"
   },
   {
    "duration": 740,
    "start_time": "2022-02-08T19:10:42.304Z"
   },
   {
    "duration": 5,
    "start_time": "2022-02-08T19:14:00.679Z"
   },
   {
    "duration": 740,
    "start_time": "2022-02-08T19:14:01.510Z"
   },
   {
    "duration": 1067,
    "start_time": "2022-02-08T19:15:02.365Z"
   },
   {
    "duration": 890,
    "start_time": "2022-02-08T19:15:42.875Z"
   },
   {
    "duration": 5,
    "start_time": "2022-02-08T19:17:36.795Z"
   },
   {
    "duration": 729,
    "start_time": "2022-02-08T19:17:37.561Z"
   },
   {
    "duration": 6,
    "start_time": "2022-02-08T19:17:54.955Z"
   },
   {
    "duration": 706,
    "start_time": "2022-02-08T19:17:55.642Z"
   },
   {
    "duration": 6,
    "start_time": "2022-02-08T19:18:04.833Z"
   },
   {
    "duration": 681,
    "start_time": "2022-02-08T19:18:05.407Z"
   },
   {
    "duration": 669,
    "start_time": "2022-02-08T19:18:36.642Z"
   },
   {
    "duration": 687,
    "start_time": "2022-02-08T19:18:41.524Z"
   },
   {
    "duration": 6,
    "start_time": "2022-02-08T19:19:27.803Z"
   },
   {
    "duration": 789,
    "start_time": "2022-02-08T19:19:28.756Z"
   },
   {
    "duration": 6,
    "start_time": "2022-02-08T19:19:42.884Z"
   },
   {
    "duration": 708,
    "start_time": "2022-02-08T19:19:43.505Z"
   },
   {
    "duration": 1479,
    "start_time": "2022-02-08T19:20:58.404Z"
   },
   {
    "duration": 869,
    "start_time": "2022-02-08T19:20:59.886Z"
   },
   {
    "duration": 25,
    "start_time": "2022-02-08T19:21:00.760Z"
   },
   {
    "duration": 35,
    "start_time": "2022-02-08T19:21:00.788Z"
   },
   {
    "duration": 4,
    "start_time": "2022-02-08T19:21:00.826Z"
   },
   {
    "duration": 475,
    "start_time": "2022-02-08T19:21:00.861Z"
   },
   {
    "duration": 22,
    "start_time": "2022-02-08T19:21:01.339Z"
   },
   {
    "duration": 4,
    "start_time": "2022-02-08T19:21:01.365Z"
   },
   {
    "duration": 592,
    "start_time": "2022-02-08T19:21:01.372Z"
   },
   {
    "duration": 6,
    "start_time": "2022-02-08T19:21:01.966Z"
   },
   {
    "duration": 8,
    "start_time": "2022-02-08T19:21:01.975Z"
   },
   {
    "duration": 11,
    "start_time": "2022-02-08T19:21:01.986Z"
   },
   {
    "duration": 10,
    "start_time": "2022-02-08T19:21:01.999Z"
   },
   {
    "duration": 6,
    "start_time": "2022-02-08T19:21:02.012Z"
   },
   {
    "duration": 17,
    "start_time": "2022-02-08T19:21:02.060Z"
   },
   {
    "duration": 13,
    "start_time": "2022-02-08T19:21:02.079Z"
   },
   {
    "duration": 7,
    "start_time": "2022-02-08T19:21:02.095Z"
   },
   {
    "duration": 7,
    "start_time": "2022-02-08T19:21:02.104Z"
   },
   {
    "duration": 610,
    "start_time": "2022-02-08T19:21:02.114Z"
   },
   {
    "duration": 533,
    "start_time": "2022-02-08T19:21:02.726Z"
   },
   {
    "duration": 601,
    "start_time": "2022-02-08T19:21:03.261Z"
   },
   {
    "duration": 5,
    "start_time": "2022-02-08T19:23:25.300Z"
   },
   {
    "duration": 677,
    "start_time": "2022-02-08T19:23:25.999Z"
   },
   {
    "duration": 6,
    "start_time": "2022-02-08T19:24:06.601Z"
   },
   {
    "duration": 682,
    "start_time": "2022-02-08T19:24:07.360Z"
   },
   {
    "duration": 1597,
    "start_time": "2022-02-08T19:25:17.888Z"
   },
   {
    "duration": 965,
    "start_time": "2022-02-08T19:25:19.489Z"
   },
   {
    "duration": 26,
    "start_time": "2022-02-08T19:25:20.460Z"
   },
   {
    "duration": 36,
    "start_time": "2022-02-08T19:25:20.489Z"
   },
   {
    "duration": 35,
    "start_time": "2022-02-08T19:25:20.528Z"
   },
   {
    "duration": 418,
    "start_time": "2022-02-08T19:25:20.565Z"
   },
   {
    "duration": 17,
    "start_time": "2022-02-08T19:25:20.986Z"
   },
   {
    "duration": 8,
    "start_time": "2022-02-08T19:25:21.009Z"
   },
   {
    "duration": 720,
    "start_time": "2022-02-08T19:25:21.020Z"
   },
   {
    "duration": 17,
    "start_time": "2022-02-08T19:25:21.742Z"
   },
   {
    "duration": 7,
    "start_time": "2022-02-08T19:25:21.761Z"
   },
   {
    "duration": 11,
    "start_time": "2022-02-08T19:25:21.770Z"
   },
   {
    "duration": 6,
    "start_time": "2022-02-08T19:25:21.784Z"
   },
   {
    "duration": 9,
    "start_time": "2022-02-08T19:25:21.792Z"
   },
   {
    "duration": 60,
    "start_time": "2022-02-08T19:25:21.803Z"
   },
   {
    "duration": 15,
    "start_time": "2022-02-08T19:25:21.866Z"
   },
   {
    "duration": 7,
    "start_time": "2022-02-08T19:25:21.884Z"
   },
   {
    "duration": 11,
    "start_time": "2022-02-08T19:25:21.893Z"
   },
   {
    "duration": 730,
    "start_time": "2022-02-08T19:25:21.907Z"
   },
   {
    "duration": 701,
    "start_time": "2022-02-08T19:25:22.639Z"
   },
   {
    "duration": 710,
    "start_time": "2022-02-08T19:25:23.343Z"
   },
   {
    "duration": 5,
    "start_time": "2022-02-08T19:27:13.807Z"
   },
   {
    "duration": 687,
    "start_time": "2022-02-08T19:27:14.766Z"
   },
   {
    "duration": 6,
    "start_time": "2022-02-08T19:27:25.526Z"
   },
   {
    "duration": 693,
    "start_time": "2022-02-08T19:27:26.166Z"
   },
   {
    "duration": 6,
    "start_time": "2022-02-08T19:27:32.677Z"
   },
   {
    "duration": 779,
    "start_time": "2022-02-08T19:27:33.947Z"
   },
   {
    "duration": 6,
    "start_time": "2022-02-08T19:27:41.674Z"
   },
   {
    "duration": 779,
    "start_time": "2022-02-08T19:27:42.313Z"
   },
   {
    "duration": 6,
    "start_time": "2022-02-08T19:27:52.147Z"
   },
   {
    "duration": 705,
    "start_time": "2022-02-08T19:27:53.570Z"
   },
   {
    "duration": 1694,
    "start_time": "2022-02-08T19:28:24.377Z"
   },
   {
    "duration": 961,
    "start_time": "2022-02-08T19:28:26.074Z"
   },
   {
    "duration": 35,
    "start_time": "2022-02-08T19:28:27.041Z"
   },
   {
    "duration": 35,
    "start_time": "2022-02-08T19:28:27.079Z"
   },
   {
    "duration": 43,
    "start_time": "2022-02-08T19:28:27.117Z"
   },
   {
    "duration": 369,
    "start_time": "2022-02-08T19:28:27.162Z"
   },
   {
    "duration": 11,
    "start_time": "2022-02-08T19:28:27.535Z"
   },
   {
    "duration": 5,
    "start_time": "2022-02-08T19:28:27.560Z"
   },
   {
    "duration": 585,
    "start_time": "2022-02-08T19:28:27.567Z"
   },
   {
    "duration": 10,
    "start_time": "2022-02-08T19:28:28.154Z"
   },
   {
    "duration": 7,
    "start_time": "2022-02-08T19:28:28.166Z"
   },
   {
    "duration": 12,
    "start_time": "2022-02-08T19:28:28.176Z"
   },
   {
    "duration": 8,
    "start_time": "2022-02-08T19:28:28.191Z"
   },
   {
    "duration": 6,
    "start_time": "2022-02-08T19:28:28.201Z"
   },
   {
    "duration": 61,
    "start_time": "2022-02-08T19:28:28.209Z"
   },
   {
    "duration": 13,
    "start_time": "2022-02-08T19:28:28.272Z"
   },
   {
    "duration": 11,
    "start_time": "2022-02-08T19:28:28.288Z"
   },
   {
    "duration": 12,
    "start_time": "2022-02-08T19:28:28.301Z"
   },
   {
    "duration": 685,
    "start_time": "2022-02-08T19:28:28.315Z"
   },
   {
    "duration": 664,
    "start_time": "2022-02-08T19:28:29.002Z"
   },
   {
    "duration": 759,
    "start_time": "2022-02-08T19:28:29.669Z"
   },
   {
    "duration": 6,
    "start_time": "2022-02-08T19:40:37.916Z"
   },
   {
    "duration": 1517,
    "start_time": "2022-02-08T19:41:02.649Z"
   },
   {
    "duration": 902,
    "start_time": "2022-02-08T19:41:04.169Z"
   },
   {
    "duration": 26,
    "start_time": "2022-02-08T19:41:05.075Z"
   },
   {
    "duration": 63,
    "start_time": "2022-02-08T19:41:05.105Z"
   },
   {
    "duration": 5,
    "start_time": "2022-02-08T19:41:05.170Z"
   },
   {
    "duration": 408,
    "start_time": "2022-02-08T19:41:05.178Z"
   },
   {
    "duration": 11,
    "start_time": "2022-02-08T19:41:05.589Z"
   },
   {
    "duration": 13,
    "start_time": "2022-02-08T19:41:05.603Z"
   },
   {
    "duration": 607,
    "start_time": "2022-02-08T19:41:05.619Z"
   },
   {
    "duration": 7,
    "start_time": "2022-02-08T19:41:06.228Z"
   },
   {
    "duration": 30,
    "start_time": "2022-02-08T19:41:06.238Z"
   },
   {
    "duration": 17,
    "start_time": "2022-02-08T19:41:06.271Z"
   },
   {
    "duration": 10,
    "start_time": "2022-02-08T19:41:06.291Z"
   },
   {
    "duration": 14,
    "start_time": "2022-02-08T19:41:06.304Z"
   },
   {
    "duration": 49,
    "start_time": "2022-02-08T19:41:06.322Z"
   },
   {
    "duration": 13,
    "start_time": "2022-02-08T19:41:06.374Z"
   },
   {
    "duration": 6,
    "start_time": "2022-02-08T19:41:06.390Z"
   },
   {
    "duration": 8,
    "start_time": "2022-02-08T19:41:06.398Z"
   },
   {
    "duration": 690,
    "start_time": "2022-02-08T19:41:06.409Z"
   },
   {
    "duration": 668,
    "start_time": "2022-02-08T19:41:07.102Z"
   },
   {
    "duration": 690,
    "start_time": "2022-02-08T19:41:07.772Z"
   },
   {
    "duration": 677,
    "start_time": "2022-02-08T19:41:27.582Z"
   },
   {
    "duration": 636,
    "start_time": "2022-02-08T19:41:32.998Z"
   },
   {
    "duration": 1457,
    "start_time": "2022-02-08T19:41:51.404Z"
   },
   {
    "duration": 1043,
    "start_time": "2022-02-08T19:41:52.865Z"
   },
   {
    "duration": 28,
    "start_time": "2022-02-08T19:41:53.912Z"
   },
   {
    "duration": 51,
    "start_time": "2022-02-08T19:41:53.944Z"
   },
   {
    "duration": 6,
    "start_time": "2022-02-08T19:41:53.997Z"
   },
   {
    "duration": 412,
    "start_time": "2022-02-08T19:41:54.006Z"
   },
   {
    "duration": 12,
    "start_time": "2022-02-08T19:41:54.420Z"
   },
   {
    "duration": 22,
    "start_time": "2022-02-08T19:41:54.437Z"
   },
   {
    "duration": 608,
    "start_time": "2022-02-08T19:41:54.462Z"
   },
   {
    "duration": 7,
    "start_time": "2022-02-08T19:41:55.073Z"
   },
   {
    "duration": 10,
    "start_time": "2022-02-08T19:41:55.082Z"
   },
   {
    "duration": 18,
    "start_time": "2022-02-08T19:41:55.095Z"
   },
   {
    "duration": 43,
    "start_time": "2022-02-08T19:41:55.116Z"
   },
   {
    "duration": 6,
    "start_time": "2022-02-08T19:41:55.162Z"
   },
   {
    "duration": 19,
    "start_time": "2022-02-08T19:41:55.170Z"
   },
   {
    "duration": 14,
    "start_time": "2022-02-08T19:41:55.191Z"
   },
   {
    "duration": 8,
    "start_time": "2022-02-08T19:41:55.208Z"
   },
   {
    "duration": 42,
    "start_time": "2022-02-08T19:41:55.219Z"
   },
   {
    "duration": 720,
    "start_time": "2022-02-08T19:41:55.264Z"
   },
   {
    "duration": 697,
    "start_time": "2022-02-08T19:41:55.987Z"
   },
   {
    "duration": 697,
    "start_time": "2022-02-08T19:41:56.686Z"
   },
   {
    "duration": 6,
    "start_time": "2022-02-08T19:42:29.870Z"
   },
   {
    "duration": 669,
    "start_time": "2022-02-08T19:42:31.452Z"
   },
   {
    "duration": 658,
    "start_time": "2022-02-08T19:42:38.126Z"
   },
   {
    "duration": 148,
    "start_time": "2022-02-08T19:45:01.432Z"
   },
   {
    "duration": 6,
    "start_time": "2022-02-08T19:45:06.392Z"
   },
   {
    "duration": 731,
    "start_time": "2022-02-08T19:45:07.760Z"
   },
   {
    "duration": 1460,
    "start_time": "2022-02-08T19:47:00.801Z"
   },
   {
    "duration": 826,
    "start_time": "2022-02-08T19:47:02.264Z"
   },
   {
    "duration": 25,
    "start_time": "2022-02-08T19:47:03.092Z"
   },
   {
    "duration": 53,
    "start_time": "2022-02-08T19:47:03.121Z"
   },
   {
    "duration": 6,
    "start_time": "2022-02-08T19:47:03.176Z"
   },
   {
    "duration": 398,
    "start_time": "2022-02-08T19:47:03.184Z"
   },
   {
    "duration": 10,
    "start_time": "2022-02-08T19:47:03.584Z"
   },
   {
    "duration": 4,
    "start_time": "2022-02-08T19:47:03.598Z"
   },
   {
    "duration": 579,
    "start_time": "2022-02-08T19:47:03.605Z"
   },
   {
    "duration": 5,
    "start_time": "2022-02-08T19:47:04.187Z"
   },
   {
    "duration": 9,
    "start_time": "2022-02-08T19:47:04.195Z"
   },
   {
    "duration": 10,
    "start_time": "2022-02-08T19:47:04.206Z"
   },
   {
    "duration": 41,
    "start_time": "2022-02-08T19:47:04.218Z"
   },
   {
    "duration": 7,
    "start_time": "2022-02-08T19:47:04.261Z"
   },
   {
    "duration": 17,
    "start_time": "2022-02-08T19:47:04.270Z"
   },
   {
    "duration": 13,
    "start_time": "2022-02-08T19:47:04.290Z"
   },
   {
    "duration": 6,
    "start_time": "2022-02-08T19:47:04.305Z"
   },
   {
    "duration": 5,
    "start_time": "2022-02-08T19:47:04.313Z"
   },
   {
    "duration": 663,
    "start_time": "2022-02-08T19:47:04.360Z"
   },
   {
    "duration": 660,
    "start_time": "2022-02-08T19:47:05.025Z"
   },
   {
    "duration": 682,
    "start_time": "2022-02-08T19:47:05.687Z"
   },
   {
    "duration": 646,
    "start_time": "2022-02-08T19:47:23.916Z"
   },
   {
    "duration": 1493,
    "start_time": "2022-02-08T19:47:39.070Z"
   },
   {
    "duration": 832,
    "start_time": "2022-02-08T19:47:40.566Z"
   },
   {
    "duration": 26,
    "start_time": "2022-02-08T19:47:41.405Z"
   },
   {
    "duration": 56,
    "start_time": "2022-02-08T19:47:41.434Z"
   },
   {
    "duration": 5,
    "start_time": "2022-02-08T19:47:41.492Z"
   },
   {
    "duration": 410,
    "start_time": "2022-02-08T19:47:41.500Z"
   },
   {
    "duration": 10,
    "start_time": "2022-02-08T19:47:41.916Z"
   },
   {
    "duration": 30,
    "start_time": "2022-02-08T19:47:41.930Z"
   },
   {
    "duration": 562,
    "start_time": "2022-02-08T19:47:41.963Z"
   },
   {
    "duration": 8,
    "start_time": "2022-02-08T19:47:42.528Z"
   },
   {
    "duration": 8,
    "start_time": "2022-02-08T19:47:42.559Z"
   },
   {
    "duration": 12,
    "start_time": "2022-02-08T19:47:42.570Z"
   },
   {
    "duration": 9,
    "start_time": "2022-02-08T19:47:42.584Z"
   },
   {
    "duration": 6,
    "start_time": "2022-02-08T19:47:42.595Z"
   },
   {
    "duration": 67,
    "start_time": "2022-02-08T19:47:42.604Z"
   },
   {
    "duration": 13,
    "start_time": "2022-02-08T19:47:42.674Z"
   },
   {
    "duration": 6,
    "start_time": "2022-02-08T19:47:42.689Z"
   },
   {
    "duration": 7,
    "start_time": "2022-02-08T19:47:42.698Z"
   },
   {
    "duration": 723,
    "start_time": "2022-02-08T19:47:42.707Z"
   },
   {
    "duration": 746,
    "start_time": "2022-02-08T19:47:43.433Z"
   },
   {
    "duration": 698,
    "start_time": "2022-02-08T19:47:44.183Z"
   },
   {
    "duration": 1299,
    "start_time": "2022-02-09T06:51:09.705Z"
   },
   {
    "duration": 1053,
    "start_time": "2022-02-09T06:51:11.007Z"
   },
   {
    "duration": 22,
    "start_time": "2022-02-09T06:51:12.065Z"
   },
   {
    "duration": 33,
    "start_time": "2022-02-09T06:51:12.089Z"
   },
   {
    "duration": 4,
    "start_time": "2022-02-09T06:51:12.124Z"
   },
   {
    "duration": 263,
    "start_time": "2022-02-09T06:51:12.129Z"
   },
   {
    "duration": 17,
    "start_time": "2022-02-09T06:51:12.395Z"
   },
   {
    "duration": 8,
    "start_time": "2022-02-09T06:51:12.414Z"
   },
   {
    "duration": 372,
    "start_time": "2022-02-09T06:51:12.424Z"
   },
   {
    "duration": 11,
    "start_time": "2022-02-09T06:51:12.797Z"
   },
   {
    "duration": 5,
    "start_time": "2022-02-09T06:51:12.810Z"
   },
   {
    "duration": 18,
    "start_time": "2022-02-09T06:51:12.817Z"
   },
   {
    "duration": 10,
    "start_time": "2022-02-09T06:51:12.837Z"
   },
   {
    "duration": 10,
    "start_time": "2022-02-09T06:51:12.849Z"
   },
   {
    "duration": 19,
    "start_time": "2022-02-09T06:51:12.860Z"
   },
   {
    "duration": 28,
    "start_time": "2022-02-09T06:51:12.880Z"
   },
   {
    "duration": 4,
    "start_time": "2022-02-09T06:51:12.910Z"
   },
   {
    "duration": 70,
    "start_time": "2022-02-09T06:51:12.916Z"
   },
   {
    "duration": -4566,
    "start_time": "2022-02-09T06:51:17.554Z"
   },
   {
    "duration": -4570,
    "start_time": "2022-02-09T06:51:17.559Z"
   },
   {
    "duration": -4575,
    "start_time": "2022-02-09T06:51:17.565Z"
   },
   {
    "duration": 5,
    "start_time": "2022-02-09T06:51:53.121Z"
   },
   {
    "duration": 419,
    "start_time": "2022-02-09T06:51:54.051Z"
   },
   {
    "duration": 1189,
    "start_time": "2022-02-09T06:52:08.589Z"
   },
   {
    "duration": 823,
    "start_time": "2022-02-09T06:52:09.780Z"
   },
   {
    "duration": 21,
    "start_time": "2022-02-09T06:52:10.608Z"
   },
   {
    "duration": 36,
    "start_time": "2022-02-09T06:52:10.632Z"
   },
   {
    "duration": 17,
    "start_time": "2022-02-09T06:52:10.671Z"
   },
   {
    "duration": 274,
    "start_time": "2022-02-09T06:52:10.690Z"
   },
   {
    "duration": 8,
    "start_time": "2022-02-09T06:52:10.966Z"
   },
   {
    "duration": 18,
    "start_time": "2022-02-09T06:52:10.977Z"
   },
   {
    "duration": 398,
    "start_time": "2022-02-09T06:52:10.998Z"
   },
   {
    "duration": 12,
    "start_time": "2022-02-09T06:52:11.399Z"
   },
   {
    "duration": 11,
    "start_time": "2022-02-09T06:52:11.414Z"
   },
   {
    "duration": 11,
    "start_time": "2022-02-09T06:52:11.427Z"
   },
   {
    "duration": 9,
    "start_time": "2022-02-09T06:52:11.440Z"
   },
   {
    "duration": 7,
    "start_time": "2022-02-09T06:52:11.450Z"
   },
   {
    "duration": 16,
    "start_time": "2022-02-09T06:52:11.459Z"
   },
   {
    "duration": 35,
    "start_time": "2022-02-09T06:52:11.477Z"
   },
   {
    "duration": 5,
    "start_time": "2022-02-09T06:52:11.514Z"
   },
   {
    "duration": 5,
    "start_time": "2022-02-09T06:52:11.521Z"
   },
   {
    "duration": 479,
    "start_time": "2022-02-09T06:52:11.528Z"
   },
   {
    "duration": 456,
    "start_time": "2022-02-09T06:52:12.009Z"
   },
   {
    "duration": 470,
    "start_time": "2022-02-09T06:52:12.466Z"
   },
   {
    "duration": 4,
    "start_time": "2022-02-09T06:55:49.295Z"
   },
   {
    "duration": 450,
    "start_time": "2022-02-09T06:55:50.391Z"
   },
   {
    "duration": 1240,
    "start_time": "2022-02-09T06:56:02.768Z"
   },
   {
    "duration": 754,
    "start_time": "2022-02-09T06:56:04.010Z"
   },
   {
    "duration": 19,
    "start_time": "2022-02-09T06:56:04.767Z"
   },
   {
    "duration": 41,
    "start_time": "2022-02-09T06:56:04.788Z"
   },
   {
    "duration": 9,
    "start_time": "2022-02-09T06:56:04.831Z"
   },
   {
    "duration": 256,
    "start_time": "2022-02-09T06:56:04.843Z"
   },
   {
    "duration": 9,
    "start_time": "2022-02-09T06:56:05.108Z"
   },
   {
    "duration": 7,
    "start_time": "2022-02-09T06:56:05.121Z"
   },
   {
    "duration": 409,
    "start_time": "2022-02-09T06:56:05.130Z"
   },
   {
    "duration": 5,
    "start_time": "2022-02-09T06:56:05.541Z"
   },
   {
    "duration": 17,
    "start_time": "2022-02-09T06:56:05.548Z"
   },
   {
    "duration": 22,
    "start_time": "2022-02-09T06:56:05.567Z"
   },
   {
    "duration": 20,
    "start_time": "2022-02-09T06:56:05.592Z"
   },
   {
    "duration": 9,
    "start_time": "2022-02-09T06:56:05.614Z"
   },
   {
    "duration": 30,
    "start_time": "2022-02-09T06:56:05.625Z"
   },
   {
    "duration": 13,
    "start_time": "2022-02-09T06:56:05.657Z"
   },
   {
    "duration": 24,
    "start_time": "2022-02-09T06:56:05.672Z"
   },
   {
    "duration": 34,
    "start_time": "2022-02-09T06:56:05.698Z"
   },
   {
    "duration": 522,
    "start_time": "2022-02-09T06:56:05.734Z"
   },
   {
    "duration": 552,
    "start_time": "2022-02-09T06:56:06.258Z"
   },
   {
    "duration": 441,
    "start_time": "2022-02-09T06:56:06.811Z"
   },
   {
    "duration": 5,
    "start_time": "2022-02-09T07:17:33.582Z"
   },
   {
    "duration": 399,
    "start_time": "2022-02-09T07:17:34.734Z"
   },
   {
    "duration": 5,
    "start_time": "2022-02-09T07:17:45.527Z"
   },
   {
    "duration": 381,
    "start_time": "2022-02-09T07:17:46.198Z"
   },
   {
    "duration": 4,
    "start_time": "2022-02-09T07:17:58.067Z"
   },
   {
    "duration": 513,
    "start_time": "2022-02-09T07:17:59.628Z"
   },
   {
    "duration": 4,
    "start_time": "2022-02-09T07:18:11.340Z"
   },
   {
    "duration": 507,
    "start_time": "2022-02-09T07:18:12.011Z"
   },
   {
    "duration": 4,
    "start_time": "2022-02-09T07:18:20.604Z"
   },
   {
    "duration": 383,
    "start_time": "2022-02-09T07:18:22.244Z"
   },
   {
    "duration": 5,
    "start_time": "2022-02-09T07:18:30.676Z"
   },
   {
    "duration": 496,
    "start_time": "2022-02-09T07:18:31.632Z"
   },
   {
    "duration": 1286,
    "start_time": "2022-02-09T07:18:46.926Z"
   },
   {
    "duration": 746,
    "start_time": "2022-02-09T07:18:48.214Z"
   },
   {
    "duration": 19,
    "start_time": "2022-02-09T07:18:48.963Z"
   },
   {
    "duration": 38,
    "start_time": "2022-02-09T07:18:48.985Z"
   },
   {
    "duration": 4,
    "start_time": "2022-02-09T07:18:49.025Z"
   },
   {
    "duration": 261,
    "start_time": "2022-02-09T07:18:49.031Z"
   },
   {
    "duration": 15,
    "start_time": "2022-02-09T07:18:49.294Z"
   },
   {
    "duration": 12,
    "start_time": "2022-02-09T07:18:49.312Z"
   },
   {
    "duration": 373,
    "start_time": "2022-02-09T07:18:49.327Z"
   },
   {
    "duration": 7,
    "start_time": "2022-02-09T07:18:49.702Z"
   },
   {
    "duration": 8,
    "start_time": "2022-02-09T07:18:49.711Z"
   },
   {
    "duration": 11,
    "start_time": "2022-02-09T07:18:49.721Z"
   },
   {
    "duration": 7,
    "start_time": "2022-02-09T07:18:49.735Z"
   },
   {
    "duration": 13,
    "start_time": "2022-02-09T07:18:49.744Z"
   },
   {
    "duration": 53,
    "start_time": "2022-02-09T07:18:49.760Z"
   },
   {
    "duration": 17,
    "start_time": "2022-02-09T07:18:49.815Z"
   },
   {
    "duration": 13,
    "start_time": "2022-02-09T07:18:49.834Z"
   },
   {
    "duration": 7,
    "start_time": "2022-02-09T07:18:49.850Z"
   },
   {
    "duration": 614,
    "start_time": "2022-02-09T07:18:49.859Z"
   },
   {
    "duration": 585,
    "start_time": "2022-02-09T07:18:50.476Z"
   },
   {
    "duration": 622,
    "start_time": "2022-02-09T07:18:51.064Z"
   },
   {
    "duration": 5,
    "start_time": "2022-02-09T07:19:06.381Z"
   },
   {
    "duration": 353,
    "start_time": "2022-02-09T07:19:07.126Z"
   },
   {
    "duration": 1294,
    "start_time": "2022-02-09T07:19:20.662Z"
   },
   {
    "duration": 736,
    "start_time": "2022-02-09T07:19:21.958Z"
   },
   {
    "duration": 21,
    "start_time": "2022-02-09T07:19:22.697Z"
   },
   {
    "duration": 25,
    "start_time": "2022-02-09T07:19:22.720Z"
   },
   {
    "duration": 12,
    "start_time": "2022-02-09T07:19:22.747Z"
   },
   {
    "duration": 280,
    "start_time": "2022-02-09T07:19:22.761Z"
   },
   {
    "duration": 9,
    "start_time": "2022-02-09T07:19:23.043Z"
   },
   {
    "duration": 11,
    "start_time": "2022-02-09T07:19:23.055Z"
   },
   {
    "duration": 391,
    "start_time": "2022-02-09T07:19:23.069Z"
   },
   {
    "duration": 5,
    "start_time": "2022-02-09T07:19:23.463Z"
   },
   {
    "duration": 8,
    "start_time": "2022-02-09T07:19:23.471Z"
   },
   {
    "duration": 33,
    "start_time": "2022-02-09T07:19:23.481Z"
   },
   {
    "duration": 14,
    "start_time": "2022-02-09T07:19:23.516Z"
   },
   {
    "duration": 8,
    "start_time": "2022-02-09T07:19:23.532Z"
   },
   {
    "duration": 17,
    "start_time": "2022-02-09T07:19:23.541Z"
   },
   {
    "duration": 11,
    "start_time": "2022-02-09T07:19:23.560Z"
   },
   {
    "duration": 10,
    "start_time": "2022-02-09T07:19:23.573Z"
   },
   {
    "duration": 25,
    "start_time": "2022-02-09T07:19:23.585Z"
   },
   {
    "duration": 386,
    "start_time": "2022-02-09T07:19:23.612Z"
   },
   {
    "duration": 579,
    "start_time": "2022-02-09T07:19:24.001Z"
   },
   {
    "duration": 611,
    "start_time": "2022-02-09T07:19:24.583Z"
   },
   {
    "duration": 13,
    "start_time": "2022-02-09T07:22:16.468Z"
   },
   {
    "duration": 4,
    "start_time": "2022-02-09T07:24:53.943Z"
   },
   {
    "duration": 5,
    "start_time": "2022-02-09T07:26:36.873Z"
   },
   {
    "duration": 5,
    "start_time": "2022-02-09T07:26:49.309Z"
   },
   {
    "duration": 6,
    "start_time": "2022-02-09T07:27:17.035Z"
   },
   {
    "duration": 5,
    "start_time": "2022-02-09T07:27:34.826Z"
   },
   {
    "duration": 5,
    "start_time": "2022-02-09T07:27:46.022Z"
   },
   {
    "duration": 4,
    "start_time": "2022-02-09T07:28:17.471Z"
   },
   {
    "duration": 6,
    "start_time": "2022-02-09T07:28:39.251Z"
   },
   {
    "duration": 6,
    "start_time": "2022-02-09T07:29:41.337Z"
   },
   {
    "duration": 6,
    "start_time": "2022-02-09T07:30:52.784Z"
   },
   {
    "duration": 1192,
    "start_time": "2022-02-09T07:31:55.434Z"
   },
   {
    "duration": 727,
    "start_time": "2022-02-09T07:31:56.629Z"
   },
   {
    "duration": 21,
    "start_time": "2022-02-09T07:31:57.358Z"
   },
   {
    "duration": 40,
    "start_time": "2022-02-09T07:31:57.381Z"
   },
   {
    "duration": 4,
    "start_time": "2022-02-09T07:31:57.423Z"
   },
   {
    "duration": 264,
    "start_time": "2022-02-09T07:31:57.429Z"
   },
   {
    "duration": 16,
    "start_time": "2022-02-09T07:31:57.695Z"
   },
   {
    "duration": 8,
    "start_time": "2022-02-09T07:31:57.714Z"
   },
   {
    "duration": 369,
    "start_time": "2022-02-09T07:31:57.724Z"
   },
   {
    "duration": 15,
    "start_time": "2022-02-09T07:31:58.094Z"
   },
   {
    "duration": 20,
    "start_time": "2022-02-09T07:31:58.111Z"
   },
   {
    "duration": 28,
    "start_time": "2022-02-09T07:31:58.133Z"
   },
   {
    "duration": 20,
    "start_time": "2022-02-09T07:31:58.162Z"
   },
   {
    "duration": 32,
    "start_time": "2022-02-09T07:31:58.184Z"
   },
   {
    "duration": 26,
    "start_time": "2022-02-09T07:31:58.219Z"
   },
   {
    "duration": 17,
    "start_time": "2022-02-09T07:31:58.247Z"
   },
   {
    "duration": 30,
    "start_time": "2022-02-09T07:31:58.266Z"
   },
   {
    "duration": 20,
    "start_time": "2022-02-09T07:31:58.298Z"
   },
   {
    "duration": 369,
    "start_time": "2022-02-09T07:31:58.320Z"
   },
   {
    "duration": 349,
    "start_time": "2022-02-09T07:31:58.692Z"
   },
   {
    "duration": 372,
    "start_time": "2022-02-09T07:31:59.043Z"
   },
   {
    "duration": 5,
    "start_time": "2022-02-09T07:31:59.416Z"
   },
   {
    "duration": 70,
    "start_time": "2022-02-09T07:39:36.309Z"
   },
   {
    "duration": 4,
    "start_time": "2022-02-09T07:39:59.538Z"
   },
   {
    "duration": 3,
    "start_time": "2022-02-09T07:40:04.186Z"
   },
   {
    "duration": 6,
    "start_time": "2022-02-09T07:40:11.387Z"
   },
   {
    "duration": 14,
    "start_time": "2022-02-09T07:40:26.303Z"
   },
   {
    "duration": 12,
    "start_time": "2022-02-09T07:42:13.968Z"
   },
   {
    "duration": 13,
    "start_time": "2022-02-09T07:42:21.967Z"
   },
   {
    "duration": 305,
    "start_time": "2022-02-09T07:42:49.733Z"
   },
   {
    "duration": 13,
    "start_time": "2022-02-09T07:44:37.451Z"
   },
   {
    "duration": 7,
    "start_time": "2022-02-09T07:44:59.511Z"
   },
   {
    "duration": 218,
    "start_time": "2022-02-09T07:45:31.312Z"
   },
   {
    "duration": 250,
    "start_time": "2022-02-09T07:45:55.900Z"
   },
   {
    "duration": 6,
    "start_time": "2022-02-09T07:46:07.924Z"
   },
   {
    "duration": 6,
    "start_time": "2022-02-09T07:46:11.472Z"
   },
   {
    "duration": 9,
    "start_time": "2022-02-09T07:46:18.434Z"
   },
   {
    "duration": 14,
    "start_time": "2022-02-09T07:46:23.344Z"
   },
   {
    "duration": 205,
    "start_time": "2022-02-09T07:48:45.068Z"
   },
   {
    "duration": 227,
    "start_time": "2022-02-09T07:49:19.528Z"
   },
   {
    "duration": 223,
    "start_time": "2022-02-09T07:49:39.485Z"
   },
   {
    "duration": 1196,
    "start_time": "2022-02-09T07:50:39.893Z"
   },
   {
    "duration": 733,
    "start_time": "2022-02-09T07:50:41.092Z"
   },
   {
    "duration": 20,
    "start_time": "2022-02-09T07:50:41.830Z"
   },
   {
    "duration": 26,
    "start_time": "2022-02-09T07:50:41.852Z"
   },
   {
    "duration": 4,
    "start_time": "2022-02-09T07:50:41.908Z"
   },
   {
    "duration": 246,
    "start_time": "2022-02-09T07:50:41.914Z"
   },
   {
    "duration": 8,
    "start_time": "2022-02-09T07:50:42.163Z"
   },
   {
    "duration": 17,
    "start_time": "2022-02-09T07:50:42.173Z"
   },
   {
    "duration": 357,
    "start_time": "2022-02-09T07:50:42.192Z"
   },
   {
    "duration": 5,
    "start_time": "2022-02-09T07:50:42.551Z"
   },
   {
    "duration": 10,
    "start_time": "2022-02-09T07:50:42.558Z"
   },
   {
    "duration": 15,
    "start_time": "2022-02-09T07:50:42.570Z"
   },
   {
    "duration": 21,
    "start_time": "2022-02-09T07:50:42.587Z"
   },
   {
    "duration": 19,
    "start_time": "2022-02-09T07:50:42.611Z"
   },
   {
    "duration": 20,
    "start_time": "2022-02-09T07:50:42.632Z"
   },
   {
    "duration": 11,
    "start_time": "2022-02-09T07:50:42.654Z"
   },
   {
    "duration": 10,
    "start_time": "2022-02-09T07:50:42.667Z"
   },
   {
    "duration": 5,
    "start_time": "2022-02-09T07:50:42.679Z"
   },
   {
    "duration": 369,
    "start_time": "2022-02-09T07:50:42.686Z"
   },
   {
    "duration": 352,
    "start_time": "2022-02-09T07:50:43.057Z"
   },
   {
    "duration": 386,
    "start_time": "2022-02-09T07:50:43.412Z"
   },
   {
    "duration": 9,
    "start_time": "2022-02-09T07:50:43.801Z"
   },
   {
    "duration": 15,
    "start_time": "2022-02-09T07:50:43.812Z"
   },
   {
    "duration": 314,
    "start_time": "2022-02-09T07:50:43.829Z"
   },
   {
    "duration": 305,
    "start_time": "2022-02-09T07:51:23.456Z"
   },
   {
    "duration": 471,
    "start_time": "2022-02-09T07:54:13.312Z"
   },
   {
    "duration": 568,
    "start_time": "2022-02-09T07:57:48.729Z"
   },
   {
    "duration": 514,
    "start_time": "2022-02-09T07:58:22.380Z"
   },
   {
    "duration": 499,
    "start_time": "2022-02-09T07:58:28.492Z"
   },
   {
    "duration": 525,
    "start_time": "2022-02-09T07:58:59.393Z"
   },
   {
    "duration": 537,
    "start_time": "2022-02-09T07:59:16.691Z"
   },
   {
    "duration": 592,
    "start_time": "2022-02-09T07:59:26.118Z"
   },
   {
    "duration": 559,
    "start_time": "2022-02-09T07:59:48.615Z"
   },
   {
    "duration": 567,
    "start_time": "2022-02-09T08:00:12.571Z"
   },
   {
    "duration": 626,
    "start_time": "2022-02-09T08:00:21.195Z"
   },
   {
    "duration": 642,
    "start_time": "2022-02-09T08:00:29.377Z"
   },
   {
    "duration": 615,
    "start_time": "2022-02-09T08:02:46.266Z"
   },
   {
    "duration": 785,
    "start_time": "2022-02-09T08:30:28.752Z"
   },
   {
    "duration": 621,
    "start_time": "2022-02-09T08:30:51.852Z"
   },
   {
    "duration": 772,
    "start_time": "2022-02-09T08:31:01.668Z"
   },
   {
    "duration": 590,
    "start_time": "2022-02-09T08:32:53.047Z"
   },
   {
    "duration": 679,
    "start_time": "2022-02-09T08:33:38.428Z"
   },
   {
    "duration": 844,
    "start_time": "2022-02-09T08:33:47.284Z"
   },
   {
    "duration": 1347,
    "start_time": "2022-02-09T08:34:08.016Z"
   },
   {
    "duration": 917,
    "start_time": "2022-02-09T08:34:09.365Z"
   },
   {
    "duration": 38,
    "start_time": "2022-02-09T08:34:10.288Z"
   },
   {
    "duration": 27,
    "start_time": "2022-02-09T08:34:10.329Z"
   },
   {
    "duration": 6,
    "start_time": "2022-02-09T08:34:10.358Z"
   },
   {
    "duration": 379,
    "start_time": "2022-02-09T08:34:10.366Z"
   },
   {
    "duration": 9,
    "start_time": "2022-02-09T08:34:10.748Z"
   },
   {
    "duration": 12,
    "start_time": "2022-02-09T08:34:10.759Z"
   },
   {
    "duration": 398,
    "start_time": "2022-02-09T08:34:10.773Z"
   },
   {
    "duration": 5,
    "start_time": "2022-02-09T08:34:11.173Z"
   },
   {
    "duration": 27,
    "start_time": "2022-02-09T08:34:11.181Z"
   },
   {
    "duration": 9,
    "start_time": "2022-02-09T08:34:11.210Z"
   },
   {
    "duration": 7,
    "start_time": "2022-02-09T08:34:11.222Z"
   },
   {
    "duration": 10,
    "start_time": "2022-02-09T08:34:11.232Z"
   },
   {
    "duration": 21,
    "start_time": "2022-02-09T08:34:11.244Z"
   },
   {
    "duration": 12,
    "start_time": "2022-02-09T08:34:11.267Z"
   },
   {
    "duration": 29,
    "start_time": "2022-02-09T08:34:11.281Z"
   },
   {
    "duration": 6,
    "start_time": "2022-02-09T08:34:11.312Z"
   },
   {
    "duration": 376,
    "start_time": "2022-02-09T08:34:11.320Z"
   },
   {
    "duration": 364,
    "start_time": "2022-02-09T08:34:11.698Z"
   },
   {
    "duration": 376,
    "start_time": "2022-02-09T08:34:12.065Z"
   },
   {
    "duration": 5,
    "start_time": "2022-02-09T08:34:12.445Z"
   },
   {
    "duration": 615,
    "start_time": "2022-02-09T08:34:12.452Z"
   },
   {
    "duration": 727,
    "start_time": "2022-02-09T08:34:13.069Z"
   },
   {
    "duration": 685,
    "start_time": "2022-02-09T08:41:01.676Z"
   },
   {
    "duration": 630,
    "start_time": "2022-02-09T08:41:19.716Z"
   },
   {
    "duration": 4,
    "start_time": "2022-02-09T08:44:38.702Z"
   },
   {
    "duration": 4,
    "start_time": "2022-02-09T08:45:34.978Z"
   },
   {
    "duration": 579,
    "start_time": "2022-02-09T08:45:35.914Z"
   },
   {
    "duration": 653,
    "start_time": "2022-02-09T08:47:22.257Z"
   },
   {
    "duration": 1331,
    "start_time": "2022-02-09T08:48:41.469Z"
   },
   {
    "duration": 757,
    "start_time": "2022-02-09T08:48:42.802Z"
   },
   {
    "duration": 21,
    "start_time": "2022-02-09T08:48:43.561Z"
   },
   {
    "duration": 42,
    "start_time": "2022-02-09T08:48:43.584Z"
   },
   {
    "duration": 4,
    "start_time": "2022-02-09T08:48:43.629Z"
   },
   {
    "duration": 272,
    "start_time": "2022-02-09T08:48:43.635Z"
   },
   {
    "duration": 10,
    "start_time": "2022-02-09T08:48:43.909Z"
   },
   {
    "duration": 8,
    "start_time": "2022-02-09T08:48:43.923Z"
   },
   {
    "duration": 374,
    "start_time": "2022-02-09T08:48:43.934Z"
   },
   {
    "duration": 5,
    "start_time": "2022-02-09T08:48:44.311Z"
   },
   {
    "duration": 28,
    "start_time": "2022-02-09T08:48:44.318Z"
   },
   {
    "duration": 27,
    "start_time": "2022-02-09T08:48:44.348Z"
   },
   {
    "duration": 16,
    "start_time": "2022-02-09T08:48:44.377Z"
   },
   {
    "duration": 20,
    "start_time": "2022-02-09T08:48:44.395Z"
   },
   {
    "duration": 19,
    "start_time": "2022-02-09T08:48:44.417Z"
   },
   {
    "duration": 11,
    "start_time": "2022-02-09T08:48:44.438Z"
   },
   {
    "duration": 13,
    "start_time": "2022-02-09T08:48:44.451Z"
   },
   {
    "duration": 7,
    "start_time": "2022-02-09T08:48:44.466Z"
   },
   {
    "duration": 399,
    "start_time": "2022-02-09T08:48:44.475Z"
   },
   {
    "duration": 380,
    "start_time": "2022-02-09T08:48:44.877Z"
   },
   {
    "duration": 363,
    "start_time": "2022-02-09T08:48:45.259Z"
   },
   {
    "duration": 5,
    "start_time": "2022-02-09T08:48:45.624Z"
   },
   {
    "duration": 5,
    "start_time": "2022-02-09T08:48:45.633Z"
   },
   {
    "duration": 682,
    "start_time": "2022-02-09T08:48:45.640Z"
   },
   {
    "duration": 708,
    "start_time": "2022-02-09T08:48:46.324Z"
   },
   {
    "duration": 4,
    "start_time": "2022-02-09T08:49:04.554Z"
   },
   {
    "duration": 1259,
    "start_time": "2022-02-09T08:49:10.324Z"
   },
   {
    "duration": 735,
    "start_time": "2022-02-09T08:49:11.585Z"
   },
   {
    "duration": 26,
    "start_time": "2022-02-09T08:49:12.325Z"
   },
   {
    "duration": 26,
    "start_time": "2022-02-09T08:49:12.353Z"
   },
   {
    "duration": 29,
    "start_time": "2022-02-09T08:49:12.381Z"
   },
   {
    "duration": 257,
    "start_time": "2022-02-09T08:49:12.412Z"
   },
   {
    "duration": 9,
    "start_time": "2022-02-09T08:49:12.673Z"
   },
   {
    "duration": 22,
    "start_time": "2022-02-09T08:49:12.685Z"
   },
   {
    "duration": 365,
    "start_time": "2022-02-09T08:49:12.710Z"
   },
   {
    "duration": 6,
    "start_time": "2022-02-09T08:49:13.077Z"
   },
   {
    "duration": 24,
    "start_time": "2022-02-09T08:49:13.085Z"
   },
   {
    "duration": 21,
    "start_time": "2022-02-09T08:49:13.111Z"
   },
   {
    "duration": 8,
    "start_time": "2022-02-09T08:49:13.134Z"
   },
   {
    "duration": 9,
    "start_time": "2022-02-09T08:49:13.144Z"
   },
   {
    "duration": 20,
    "start_time": "2022-02-09T08:49:13.155Z"
   },
   {
    "duration": 42,
    "start_time": "2022-02-09T08:49:13.177Z"
   },
   {
    "duration": 11,
    "start_time": "2022-02-09T08:49:13.221Z"
   },
   {
    "duration": 17,
    "start_time": "2022-02-09T08:49:13.234Z"
   },
   {
    "duration": 395,
    "start_time": "2022-02-09T08:49:13.253Z"
   },
   {
    "duration": 527,
    "start_time": "2022-02-09T08:49:13.650Z"
   },
   {
    "duration": 412,
    "start_time": "2022-02-09T08:49:14.180Z"
   },
   {
    "duration": 13,
    "start_time": "2022-02-09T08:49:14.595Z"
   },
   {
    "duration": 7,
    "start_time": "2022-02-09T08:49:14.610Z"
   },
   {
    "duration": 691,
    "start_time": "2022-02-09T08:49:14.620Z"
   },
   {
    "duration": 707,
    "start_time": "2022-02-09T08:49:15.313Z"
   },
   {
    "duration": 524,
    "start_time": "2022-02-09T10:31:31.763Z"
   },
   {
    "duration": 4,
    "start_time": "2022-02-09T10:32:18.402Z"
   },
   {
    "duration": 7,
    "start_time": "2022-02-09T10:32:26.407Z"
   },
   {
    "duration": 7,
    "start_time": "2022-02-09T10:32:56.850Z"
   },
   {
    "duration": 6,
    "start_time": "2022-02-09T10:33:18.963Z"
   },
   {
    "duration": 6,
    "start_time": "2022-02-09T10:33:28.388Z"
   },
   {
    "duration": 5,
    "start_time": "2022-02-09T10:42:49.007Z"
   },
   {
    "duration": 6,
    "start_time": "2022-02-09T10:42:56.721Z"
   },
   {
    "duration": 5,
    "start_time": "2022-02-09T10:43:05.970Z"
   },
   {
    "duration": 3,
    "start_time": "2022-02-09T10:49:04.993Z"
   },
   {
    "duration": 262,
    "start_time": "2022-02-09T10:49:13.855Z"
   },
   {
    "duration": 6,
    "start_time": "2022-02-09T10:49:22.035Z"
   },
   {
    "duration": 6,
    "start_time": "2022-02-09T10:49:32.676Z"
   },
   {
    "duration": 6,
    "start_time": "2022-02-09T10:50:07.605Z"
   },
   {
    "duration": 8,
    "start_time": "2022-02-09T10:50:23.139Z"
   },
   {
    "duration": 7,
    "start_time": "2022-02-09T10:53:05.780Z"
   },
   {
    "duration": 7,
    "start_time": "2022-02-09T10:55:18.102Z"
   },
   {
    "duration": 10,
    "start_time": "2022-02-09T10:55:24.312Z"
   },
   {
    "duration": 31,
    "start_time": "2022-02-09T10:55:48.657Z"
   },
   {
    "duration": 6,
    "start_time": "2022-02-09T10:56:43.132Z"
   },
   {
    "duration": 317,
    "start_time": "2022-02-09T10:57:25.230Z"
   },
   {
    "duration": 247,
    "start_time": "2022-02-09T10:57:28.479Z"
   },
   {
    "duration": 488,
    "start_time": "2022-02-09T11:05:10.267Z"
   },
   {
    "duration": 222,
    "start_time": "2022-02-09T11:05:32.232Z"
   },
   {
    "duration": 1186,
    "start_time": "2022-02-09T11:05:42.642Z"
   },
   {
    "duration": 1051,
    "start_time": "2022-02-09T11:05:43.831Z"
   },
   {
    "duration": 33,
    "start_time": "2022-02-09T11:05:44.888Z"
   },
   {
    "duration": 29,
    "start_time": "2022-02-09T11:05:44.923Z"
   },
   {
    "duration": 4,
    "start_time": "2022-02-09T11:05:44.954Z"
   },
   {
    "duration": 284,
    "start_time": "2022-02-09T11:05:44.961Z"
   },
   {
    "duration": 10,
    "start_time": "2022-02-09T11:05:45.248Z"
   },
   {
    "duration": 9,
    "start_time": "2022-02-09T11:05:45.260Z"
   },
   {
    "duration": 428,
    "start_time": "2022-02-09T11:05:45.271Z"
   },
   {
    "duration": 5,
    "start_time": "2022-02-09T11:05:45.708Z"
   },
   {
    "duration": 15,
    "start_time": "2022-02-09T11:05:45.715Z"
   },
   {
    "duration": 18,
    "start_time": "2022-02-09T11:05:45.732Z"
   },
   {
    "duration": 8,
    "start_time": "2022-02-09T11:05:45.752Z"
   },
   {
    "duration": 8,
    "start_time": "2022-02-09T11:05:45.762Z"
   },
   {
    "duration": 35,
    "start_time": "2022-02-09T11:05:45.772Z"
   },
   {
    "duration": 12,
    "start_time": "2022-02-09T11:05:45.809Z"
   },
   {
    "duration": 12,
    "start_time": "2022-02-09T11:05:45.823Z"
   },
   {
    "duration": 7,
    "start_time": "2022-02-09T11:05:45.837Z"
   },
   {
    "duration": 444,
    "start_time": "2022-02-09T11:05:45.846Z"
   },
   {
    "duration": 360,
    "start_time": "2022-02-09T11:05:46.292Z"
   },
   {
    "duration": 409,
    "start_time": "2022-02-09T11:05:46.655Z"
   },
   {
    "duration": 5,
    "start_time": "2022-02-09T11:05:47.069Z"
   },
   {
    "duration": 26,
    "start_time": "2022-02-09T11:05:47.076Z"
   },
   {
    "duration": 647,
    "start_time": "2022-02-09T11:05:47.104Z"
   },
   {
    "duration": 746,
    "start_time": "2022-02-09T11:05:47.753Z"
   },
   {
    "duration": 308,
    "start_time": "2022-02-09T11:05:48.501Z"
   },
   {
    "duration": -4252,
    "start_time": "2022-02-09T11:05:53.063Z"
   },
   {
    "duration": 315,
    "start_time": "2022-02-09T11:06:27.426Z"
   },
   {
    "duration": 5,
    "start_time": "2022-02-09T11:06:34.690Z"
   },
   {
    "duration": 5,
    "start_time": "2022-02-09T11:06:40.002Z"
   },
   {
    "duration": 5,
    "start_time": "2022-02-09T11:06:46.227Z"
   },
   {
    "duration": 374,
    "start_time": "2022-02-09T11:08:51.266Z"
   },
   {
    "duration": 7,
    "start_time": "2022-02-09T11:09:05.294Z"
   },
   {
    "duration": 13,
    "start_time": "2022-02-09T11:09:31.467Z"
   },
   {
    "duration": 8,
    "start_time": "2022-02-09T11:09:39.875Z"
   },
   {
    "duration": 6,
    "start_time": "2022-02-09T11:09:52.532Z"
   },
   {
    "duration": 14,
    "start_time": "2022-02-09T11:11:07.805Z"
   },
   {
    "duration": 5,
    "start_time": "2022-02-09T11:11:09.163Z"
   },
   {
    "duration": 14,
    "start_time": "2022-02-09T11:11:19.830Z"
   },
   {
    "duration": 6,
    "start_time": "2022-02-09T11:11:20.554Z"
   },
   {
    "duration": 13,
    "start_time": "2022-02-09T11:11:46.287Z"
   },
   {
    "duration": 6,
    "start_time": "2022-02-09T11:11:47.136Z"
   },
   {
    "duration": 16,
    "start_time": "2022-02-09T11:14:11.843Z"
   },
   {
    "duration": 6,
    "start_time": "2022-02-09T11:14:12.890Z"
   },
   {
    "duration": 7,
    "start_time": "2022-02-09T11:14:27.163Z"
   },
   {
    "duration": 5,
    "start_time": "2022-02-09T11:14:28.426Z"
   },
   {
    "duration": 1419,
    "start_time": "2022-02-09T11:14:35.799Z"
   },
   {
    "duration": 764,
    "start_time": "2022-02-09T11:14:37.221Z"
   },
   {
    "duration": 27,
    "start_time": "2022-02-09T11:14:37.988Z"
   },
   {
    "duration": 24,
    "start_time": "2022-02-09T11:14:38.018Z"
   },
   {
    "duration": 5,
    "start_time": "2022-02-09T11:14:38.044Z"
   },
   {
    "duration": 279,
    "start_time": "2022-02-09T11:14:38.051Z"
   },
   {
    "duration": 8,
    "start_time": "2022-02-09T11:14:38.332Z"
   },
   {
    "duration": 7,
    "start_time": "2022-02-09T11:14:38.343Z"
   },
   {
    "duration": 402,
    "start_time": "2022-02-09T11:14:38.352Z"
   },
   {
    "duration": 5,
    "start_time": "2022-02-09T11:14:38.756Z"
   },
   {
    "duration": 12,
    "start_time": "2022-02-09T11:14:38.763Z"
   },
   {
    "duration": 29,
    "start_time": "2022-02-09T11:14:38.778Z"
   },
   {
    "duration": 5,
    "start_time": "2022-02-09T11:14:38.810Z"
   },
   {
    "duration": 9,
    "start_time": "2022-02-09T11:14:38.817Z"
   },
   {
    "duration": 20,
    "start_time": "2022-02-09T11:14:38.829Z"
   },
   {
    "duration": 13,
    "start_time": "2022-02-09T11:14:38.851Z"
   },
   {
    "duration": 8,
    "start_time": "2022-02-09T11:14:38.866Z"
   },
   {
    "duration": 31,
    "start_time": "2022-02-09T11:14:38.876Z"
   },
   {
    "duration": 395,
    "start_time": "2022-02-09T11:14:38.910Z"
   },
   {
    "duration": 385,
    "start_time": "2022-02-09T11:14:39.308Z"
   },
   {
    "duration": 445,
    "start_time": "2022-02-09T11:14:39.694Z"
   },
   {
    "duration": 5,
    "start_time": "2022-02-09T11:14:40.141Z"
   },
   {
    "duration": 8,
    "start_time": "2022-02-09T11:14:40.149Z"
   },
   {
    "duration": 663,
    "start_time": "2022-02-09T11:14:40.158Z"
   },
   {
    "duration": 745,
    "start_time": "2022-02-09T11:14:40.822Z"
   },
   {
    "duration": 9,
    "start_time": "2022-02-09T11:14:41.570Z"
   },
   {
    "duration": 27,
    "start_time": "2022-02-09T11:14:41.581Z"
   },
   {
    "duration": 72,
    "start_time": "2022-02-09T11:15:14.798Z"
   },
   {
    "duration": 319,
    "start_time": "2022-02-09T11:15:25.299Z"
   },
   {
    "duration": 8,
    "start_time": "2022-02-09T11:15:43.364Z"
   },
   {
    "duration": 6,
    "start_time": "2022-02-09T11:15:44.180Z"
   },
   {
    "duration": 15,
    "start_time": "2022-02-09T11:16:00.753Z"
   },
   {
    "duration": 7,
    "start_time": "2022-02-09T11:16:01.651Z"
   },
   {
    "duration": 9,
    "start_time": "2022-02-09T11:16:20.304Z"
   },
   {
    "duration": 7,
    "start_time": "2022-02-09T11:16:38.047Z"
   },
   {
    "duration": 5,
    "start_time": "2022-02-09T11:16:38.823Z"
   },
   {
    "duration": 1312,
    "start_time": "2022-02-09T11:16:47.081Z"
   },
   {
    "duration": 763,
    "start_time": "2022-02-09T11:16:48.395Z"
   },
   {
    "duration": 19,
    "start_time": "2022-02-09T11:16:49.160Z"
   },
   {
    "duration": 39,
    "start_time": "2022-02-09T11:16:49.181Z"
   },
   {
    "duration": 4,
    "start_time": "2022-02-09T11:16:49.222Z"
   },
   {
    "duration": 259,
    "start_time": "2022-02-09T11:16:49.228Z"
   },
   {
    "duration": 8,
    "start_time": "2022-02-09T11:16:49.489Z"
   },
   {
    "duration": 8,
    "start_time": "2022-02-09T11:16:49.500Z"
   },
   {
    "duration": 375,
    "start_time": "2022-02-09T11:16:49.511Z"
   },
   {
    "duration": 5,
    "start_time": "2022-02-09T11:16:49.887Z"
   },
   {
    "duration": 17,
    "start_time": "2022-02-09T11:16:49.894Z"
   },
   {
    "duration": 15,
    "start_time": "2022-02-09T11:16:49.914Z"
   },
   {
    "duration": 8,
    "start_time": "2022-02-09T11:16:49.931Z"
   },
   {
    "duration": 5,
    "start_time": "2022-02-09T11:16:49.941Z"
   },
   {
    "duration": 19,
    "start_time": "2022-02-09T11:16:49.948Z"
   },
   {
    "duration": 14,
    "start_time": "2022-02-09T11:16:49.970Z"
   },
   {
    "duration": 4,
    "start_time": "2022-02-09T11:16:50.007Z"
   },
   {
    "duration": 9,
    "start_time": "2022-02-09T11:16:50.013Z"
   },
   {
    "duration": 389,
    "start_time": "2022-02-09T11:16:50.024Z"
   },
   {
    "duration": 414,
    "start_time": "2022-02-09T11:16:50.415Z"
   },
   {
    "duration": 430,
    "start_time": "2022-02-09T11:16:50.831Z"
   },
   {
    "duration": 5,
    "start_time": "2022-02-09T11:16:51.265Z"
   },
   {
    "duration": 7,
    "start_time": "2022-02-09T11:16:51.273Z"
   },
   {
    "duration": 629,
    "start_time": "2022-02-09T11:16:51.282Z"
   },
   {
    "duration": 748,
    "start_time": "2022-02-09T11:16:51.914Z"
   },
   {
    "duration": 438,
    "start_time": "2022-02-09T11:16:52.666Z"
   },
   {
    "duration": -4247,
    "start_time": "2022-02-09T11:16:57.353Z"
   },
   {
    "duration": 8,
    "start_time": "2022-02-09T11:17:05.132Z"
   },
   {
    "duration": 10,
    "start_time": "2022-02-09T11:17:12.424Z"
   },
   {
    "duration": 33,
    "start_time": "2022-02-09T11:19:20.423Z"
   },
   {
    "duration": 28,
    "start_time": "2022-02-09T11:19:25.663Z"
   },
   {
    "duration": 7,
    "start_time": "2022-02-09T11:19:45.733Z"
   },
   {
    "duration": 8,
    "start_time": "2022-02-09T11:20:19.391Z"
   },
   {
    "duration": 6,
    "start_time": "2022-02-09T11:20:20.216Z"
   },
   {
    "duration": 6,
    "start_time": "2022-02-09T11:20:26.820Z"
   },
   {
    "duration": 7,
    "start_time": "2022-02-09T11:20:48.933Z"
   },
   {
    "duration": 6,
    "start_time": "2022-02-09T11:20:49.491Z"
   },
   {
    "duration": 9,
    "start_time": "2022-02-09T11:20:51.051Z"
   },
   {
    "duration": 5,
    "start_time": "2022-02-09T11:21:32.333Z"
   },
   {
    "duration": 6624,
    "start_time": "2022-02-09T11:21:47.829Z"
   },
   {
    "duration": 6,
    "start_time": "2022-02-09T11:22:04.446Z"
   },
   {
    "duration": 5,
    "start_time": "2022-02-09T11:22:21.994Z"
   },
   {
    "duration": 6,
    "start_time": "2022-02-09T11:22:34.130Z"
   },
   {
    "duration": 4,
    "start_time": "2022-02-09T11:23:23.023Z"
   },
   {
    "duration": 13,
    "start_time": "2022-02-09T11:23:28.414Z"
   },
   {
    "duration": 4,
    "start_time": "2022-02-09T11:23:42.829Z"
   },
   {
    "duration": 13,
    "start_time": "2022-02-09T11:23:50.258Z"
   },
   {
    "duration": 9,
    "start_time": "2022-02-09T11:24:01.698Z"
   },
   {
    "duration": 6354,
    "start_time": "2022-02-09T11:24:13.929Z"
   },
   {
    "duration": 5,
    "start_time": "2022-02-09T11:28:03.627Z"
   },
   {
    "duration": 15,
    "start_time": "2022-02-09T11:28:12.785Z"
   },
   {
    "duration": 13,
    "start_time": "2022-02-09T11:28:29.614Z"
   },
   {
    "duration": 1294,
    "start_time": "2022-02-09T11:28:39.515Z"
   },
   {
    "duration": 807,
    "start_time": "2022-02-09T11:28:40.811Z"
   },
   {
    "duration": 21,
    "start_time": "2022-02-09T11:28:41.623Z"
   },
   {
    "duration": 25,
    "start_time": "2022-02-09T11:28:41.646Z"
   },
   {
    "duration": 5,
    "start_time": "2022-02-09T11:28:41.673Z"
   },
   {
    "duration": 286,
    "start_time": "2022-02-09T11:28:41.680Z"
   },
   {
    "duration": 9,
    "start_time": "2022-02-09T11:28:41.970Z"
   },
   {
    "duration": 11,
    "start_time": "2022-02-09T11:28:41.982Z"
   },
   {
    "duration": 380,
    "start_time": "2022-02-09T11:28:41.995Z"
   },
   {
    "duration": 5,
    "start_time": "2022-02-09T11:28:42.377Z"
   },
   {
    "duration": 15,
    "start_time": "2022-02-09T11:28:42.383Z"
   },
   {
    "duration": 9,
    "start_time": "2022-02-09T11:28:42.406Z"
   },
   {
    "duration": 8,
    "start_time": "2022-02-09T11:28:42.417Z"
   },
   {
    "duration": 14,
    "start_time": "2022-02-09T11:28:42.427Z"
   },
   {
    "duration": 21,
    "start_time": "2022-02-09T11:28:42.443Z"
   },
   {
    "duration": 11,
    "start_time": "2022-02-09T11:28:42.466Z"
   },
   {
    "duration": 14,
    "start_time": "2022-02-09T11:28:42.479Z"
   },
   {
    "duration": 15,
    "start_time": "2022-02-09T11:28:42.494Z"
   },
   {
    "duration": 366,
    "start_time": "2022-02-09T11:28:42.511Z"
   },
   {
    "duration": 362,
    "start_time": "2022-02-09T11:28:42.879Z"
   },
   {
    "duration": 377,
    "start_time": "2022-02-09T11:28:43.243Z"
   },
   {
    "duration": 5,
    "start_time": "2022-02-09T11:28:43.624Z"
   },
   {
    "duration": 13,
    "start_time": "2022-02-09T11:28:43.630Z"
   },
   {
    "duration": 597,
    "start_time": "2022-02-09T11:28:43.644Z"
   },
   {
    "duration": 705,
    "start_time": "2022-02-09T11:28:44.243Z"
   },
   {
    "duration": 6,
    "start_time": "2022-02-09T11:28:44.950Z"
   },
   {
    "duration": 10,
    "start_time": "2022-02-09T11:28:44.959Z"
   },
   {
    "duration": 16,
    "start_time": "2022-02-09T11:28:44.971Z"
   },
   {
    "duration": 16,
    "start_time": "2022-02-09T11:28:45.009Z"
   },
   {
    "duration": 5,
    "start_time": "2022-02-09T11:32:34.443Z"
   },
   {
    "duration": 10,
    "start_time": "2022-02-09T11:32:42.483Z"
   },
   {
    "duration": 5614,
    "start_time": "2022-02-09T11:33:00.167Z"
   },
   {
    "duration": 462,
    "start_time": "2022-02-09T11:33:14.128Z"
   },
   {
    "duration": 355,
    "start_time": "2022-02-09T11:33:30.228Z"
   },
   {
    "duration": 36,
    "start_time": "2022-02-09T11:33:49.398Z"
   },
   {
    "duration": 1223,
    "start_time": "2022-02-09T11:33:56.690Z"
   },
   {
    "duration": 786,
    "start_time": "2022-02-09T11:33:57.916Z"
   },
   {
    "duration": 19,
    "start_time": "2022-02-09T11:33:58.704Z"
   },
   {
    "duration": 25,
    "start_time": "2022-02-09T11:33:58.725Z"
   },
   {
    "duration": 5,
    "start_time": "2022-02-09T11:33:58.752Z"
   },
   {
    "duration": 288,
    "start_time": "2022-02-09T11:33:58.759Z"
   },
   {
    "duration": 8,
    "start_time": "2022-02-09T11:33:59.049Z"
   },
   {
    "duration": 15,
    "start_time": "2022-02-09T11:33:59.059Z"
   },
   {
    "duration": 372,
    "start_time": "2022-02-09T11:33:59.076Z"
   },
   {
    "duration": 5,
    "start_time": "2022-02-09T11:33:59.450Z"
   },
   {
    "duration": 13,
    "start_time": "2022-02-09T11:33:59.457Z"
   },
   {
    "duration": 18,
    "start_time": "2022-02-09T11:33:59.472Z"
   },
   {
    "duration": 14,
    "start_time": "2022-02-09T11:33:59.493Z"
   },
   {
    "duration": 10,
    "start_time": "2022-02-09T11:33:59.509Z"
   },
   {
    "duration": 20,
    "start_time": "2022-02-09T11:33:59.521Z"
   },
   {
    "duration": 10,
    "start_time": "2022-02-09T11:33:59.543Z"
   },
   {
    "duration": 12,
    "start_time": "2022-02-09T11:33:59.555Z"
   },
   {
    "duration": 5,
    "start_time": "2022-02-09T11:33:59.569Z"
   },
   {
    "duration": 369,
    "start_time": "2022-02-09T11:33:59.576Z"
   },
   {
    "duration": 352,
    "start_time": "2022-02-09T11:33:59.947Z"
   },
   {
    "duration": 372,
    "start_time": "2022-02-09T11:34:00.301Z"
   },
   {
    "duration": 5,
    "start_time": "2022-02-09T11:34:00.674Z"
   },
   {
    "duration": 19,
    "start_time": "2022-02-09T11:34:00.683Z"
   },
   {
    "duration": 610,
    "start_time": "2022-02-09T11:34:00.705Z"
   },
   {
    "duration": 730,
    "start_time": "2022-02-09T11:34:01.317Z"
   },
   {
    "duration": 6,
    "start_time": "2022-02-09T11:34:02.050Z"
   },
   {
    "duration": 44,
    "start_time": "2022-02-09T11:34:02.058Z"
   },
   {
    "duration": 51,
    "start_time": "2022-02-09T11:34:02.104Z"
   },
   {
    "duration": 13,
    "start_time": "2022-02-09T11:34:10.045Z"
   },
   {
    "duration": 309,
    "start_time": "2022-02-09T11:35:23.830Z"
   },
   {
    "duration": 74,
    "start_time": "2022-02-09T11:35:44.369Z"
   },
   {
    "duration": 1626,
    "start_time": "2022-02-09T11:36:01.758Z"
   },
   {
    "duration": 257,
    "start_time": "2022-02-09T11:41:20.063Z"
   },
   {
    "duration": 214,
    "start_time": "2022-02-09T11:41:24.942Z"
   },
   {
    "duration": 6,
    "start_time": "2022-02-09T11:44:04.766Z"
   },
   {
    "duration": 9,
    "start_time": "2022-02-09T11:44:10.657Z"
   },
   {
    "duration": 205,
    "start_time": "2022-02-09T11:45:48.956Z"
   },
   {
    "duration": 4,
    "start_time": "2022-02-09T11:45:55.585Z"
   },
   {
    "duration": 6,
    "start_time": "2022-02-09T11:46:01.198Z"
   },
   {
    "duration": 5,
    "start_time": "2022-02-09T11:46:43.131Z"
   },
   {
    "duration": 3,
    "start_time": "2022-02-09T11:47:05.499Z"
   },
   {
    "duration": 6,
    "start_time": "2022-02-09T11:47:06.155Z"
   },
   {
    "duration": 7,
    "start_time": "2022-02-09T11:47:50.013Z"
   },
   {
    "duration": 7,
    "start_time": "2022-02-09T11:49:14.072Z"
   },
   {
    "duration": 1506,
    "start_time": "2022-02-09T11:51:41.794Z"
   },
   {
    "duration": 4,
    "start_time": "2022-02-09T11:52:06.825Z"
   },
   {
    "duration": 11,
    "start_time": "2022-02-09T11:52:18.131Z"
   },
   {
    "duration": 5,
    "start_time": "2022-02-09T11:53:04.057Z"
   },
   {
    "duration": 11,
    "start_time": "2022-02-09T11:53:05.184Z"
   },
   {
    "duration": 1632,
    "start_time": "2022-02-09T11:53:16.493Z"
   },
   {
    "duration": 125,
    "start_time": "2022-02-09T11:54:29.165Z"
   },
   {
    "duration": 68,
    "start_time": "2022-02-09T11:55:51.670Z"
   },
   {
    "duration": 91,
    "start_time": "2022-02-09T11:56:15.491Z"
   },
   {
    "duration": 200,
    "start_time": "2022-02-09T11:56:26.573Z"
   },
   {
    "duration": 10,
    "start_time": "2022-02-09T11:56:59.792Z"
   },
   {
    "duration": 15,
    "start_time": "2022-02-09T11:57:03.056Z"
   },
   {
    "duration": 9,
    "start_time": "2022-02-09T11:57:34.404Z"
   },
   {
    "duration": 7,
    "start_time": "2022-02-09T11:57:35.388Z"
   },
   {
    "duration": 1236,
    "start_time": "2022-02-09T11:58:14.871Z"
   },
   {
    "duration": 781,
    "start_time": "2022-02-09T11:58:16.110Z"
   },
   {
    "duration": 31,
    "start_time": "2022-02-09T11:58:16.898Z"
   },
   {
    "duration": 27,
    "start_time": "2022-02-09T11:58:16.931Z"
   },
   {
    "duration": 6,
    "start_time": "2022-02-09T11:58:16.960Z"
   },
   {
    "duration": 319,
    "start_time": "2022-02-09T11:58:16.968Z"
   },
   {
    "duration": 17,
    "start_time": "2022-02-09T11:58:17.291Z"
   },
   {
    "duration": 14,
    "start_time": "2022-02-09T11:58:17.311Z"
   },
   {
    "duration": 367,
    "start_time": "2022-02-09T11:58:17.327Z"
   },
   {
    "duration": 11,
    "start_time": "2022-02-09T11:58:17.696Z"
   },
   {
    "duration": 12,
    "start_time": "2022-02-09T11:58:17.709Z"
   },
   {
    "duration": 10,
    "start_time": "2022-02-09T11:58:17.723Z"
   },
   {
    "duration": 7,
    "start_time": "2022-02-09T11:58:17.735Z"
   },
   {
    "duration": 7,
    "start_time": "2022-02-09T11:58:17.744Z"
   },
   {
    "duration": 17,
    "start_time": "2022-02-09T11:58:17.753Z"
   },
   {
    "duration": 11,
    "start_time": "2022-02-09T11:58:17.772Z"
   },
   {
    "duration": 4,
    "start_time": "2022-02-09T11:58:17.808Z"
   },
   {
    "duration": 10,
    "start_time": "2022-02-09T11:58:17.814Z"
   },
   {
    "duration": 377,
    "start_time": "2022-02-09T11:58:17.826Z"
   },
   {
    "duration": 349,
    "start_time": "2022-02-09T11:58:18.205Z"
   },
   {
    "duration": 386,
    "start_time": "2022-02-09T11:58:18.556Z"
   },
   {
    "duration": 5,
    "start_time": "2022-02-09T11:58:18.945Z"
   },
   {
    "duration": 7,
    "start_time": "2022-02-09T11:58:18.952Z"
   },
   {
    "duration": 594,
    "start_time": "2022-02-09T11:58:18.961Z"
   },
   {
    "duration": 704,
    "start_time": "2022-02-09T11:58:19.557Z"
   },
   {
    "duration": 5,
    "start_time": "2022-02-09T11:58:20.263Z"
   },
   {
    "duration": 29,
    "start_time": "2022-02-09T11:58:20.270Z"
   },
   {
    "duration": 29,
    "start_time": "2022-02-09T11:58:20.301Z"
   },
   {
    "duration": 16,
    "start_time": "2022-02-09T11:58:20.332Z"
   },
   {
    "duration": 9,
    "start_time": "2022-02-09T11:58:37.514Z"
   },
   {
    "duration": 14,
    "start_time": "2022-02-09T11:58:38.360Z"
   },
   {
    "duration": 12,
    "start_time": "2022-02-09T11:59:27.255Z"
   },
   {
    "duration": 15,
    "start_time": "2022-02-09T11:59:28.030Z"
   },
   {
    "duration": 1271,
    "start_time": "2022-02-09T12:03:30.438Z"
   },
   {
    "duration": 819,
    "start_time": "2022-02-09T12:03:31.712Z"
   },
   {
    "duration": 22,
    "start_time": "2022-02-09T12:03:32.533Z"
   },
   {
    "duration": 52,
    "start_time": "2022-02-09T12:03:32.558Z"
   },
   {
    "duration": 4,
    "start_time": "2022-02-09T12:03:32.613Z"
   },
   {
    "duration": 265,
    "start_time": "2022-02-09T12:03:32.620Z"
   },
   {
    "duration": 21,
    "start_time": "2022-02-09T12:03:32.888Z"
   },
   {
    "duration": 8,
    "start_time": "2022-02-09T12:03:32.913Z"
   },
   {
    "duration": 369,
    "start_time": "2022-02-09T12:03:32.924Z"
   },
   {
    "duration": 14,
    "start_time": "2022-02-09T12:03:33.295Z"
   },
   {
    "duration": 9,
    "start_time": "2022-02-09T12:03:33.311Z"
   },
   {
    "duration": 19,
    "start_time": "2022-02-09T12:03:33.322Z"
   },
   {
    "duration": 11,
    "start_time": "2022-02-09T12:03:33.343Z"
   },
   {
    "duration": 9,
    "start_time": "2022-02-09T12:03:33.356Z"
   },
   {
    "duration": 25,
    "start_time": "2022-02-09T12:03:33.368Z"
   },
   {
    "duration": 21,
    "start_time": "2022-02-09T12:03:33.395Z"
   },
   {
    "duration": 11,
    "start_time": "2022-02-09T12:03:33.418Z"
   },
   {
    "duration": 7,
    "start_time": "2022-02-09T12:03:33.431Z"
   },
   {
    "duration": 401,
    "start_time": "2022-02-09T12:03:33.441Z"
   },
   {
    "duration": 353,
    "start_time": "2022-02-09T12:03:33.845Z"
   },
   {
    "duration": 388,
    "start_time": "2022-02-09T12:03:34.200Z"
   },
   {
    "duration": 17,
    "start_time": "2022-02-09T12:03:34.590Z"
   },
   {
    "duration": 3,
    "start_time": "2022-02-09T12:03:34.611Z"
   },
   {
    "duration": 691,
    "start_time": "2022-02-09T12:03:34.616Z"
   },
   {
    "duration": 761,
    "start_time": "2022-02-09T12:03:35.309Z"
   },
   {
    "duration": 7,
    "start_time": "2022-02-09T12:03:36.073Z"
   },
   {
    "duration": 6,
    "start_time": "2022-02-09T12:03:36.082Z"
   },
   {
    "duration": 26,
    "start_time": "2022-02-09T12:03:36.091Z"
   },
   {
    "duration": 19,
    "start_time": "2022-02-09T12:03:36.119Z"
   },
   {
    "duration": 9,
    "start_time": "2022-02-09T12:03:44.682Z"
   },
   {
    "duration": 19,
    "start_time": "2022-02-09T12:03:46.658Z"
   },
   {
    "duration": 6,
    "start_time": "2022-02-09T12:04:47.573Z"
   },
   {
    "duration": 337,
    "start_time": "2022-02-09T12:05:55.631Z"
   },
   {
    "duration": 243,
    "start_time": "2022-02-09T12:06:16.202Z"
   },
   {
    "duration": 1213,
    "start_time": "2022-02-09T12:06:34.383Z"
   },
   {
    "duration": 754,
    "start_time": "2022-02-09T12:06:35.598Z"
   },
   {
    "duration": 19,
    "start_time": "2022-02-09T12:06:36.354Z"
   },
   {
    "duration": 40,
    "start_time": "2022-02-09T12:06:36.375Z"
   },
   {
    "duration": 10,
    "start_time": "2022-02-09T12:06:36.417Z"
   },
   {
    "duration": 260,
    "start_time": "2022-02-09T12:06:36.429Z"
   },
   {
    "duration": 17,
    "start_time": "2022-02-09T12:06:36.691Z"
   },
   {
    "duration": 3,
    "start_time": "2022-02-09T12:06:36.711Z"
   },
   {
    "duration": 372,
    "start_time": "2022-02-09T12:06:36.716Z"
   },
   {
    "duration": 17,
    "start_time": "2022-02-09T12:06:37.090Z"
   },
   {
    "duration": 6,
    "start_time": "2022-02-09T12:06:37.109Z"
   },
   {
    "duration": 15,
    "start_time": "2022-02-09T12:06:37.117Z"
   },
   {
    "duration": 7,
    "start_time": "2022-02-09T12:06:37.134Z"
   },
   {
    "duration": 16,
    "start_time": "2022-02-09T12:06:37.143Z"
   },
   {
    "duration": 20,
    "start_time": "2022-02-09T12:06:37.160Z"
   },
   {
    "duration": 11,
    "start_time": "2022-02-09T12:06:37.182Z"
   },
   {
    "duration": 4,
    "start_time": "2022-02-09T12:06:37.208Z"
   },
   {
    "duration": 9,
    "start_time": "2022-02-09T12:06:37.214Z"
   },
   {
    "duration": 370,
    "start_time": "2022-02-09T12:06:37.225Z"
   },
   {
    "duration": 352,
    "start_time": "2022-02-09T12:06:37.597Z"
   },
   {
    "duration": 375,
    "start_time": "2022-02-09T12:06:37.951Z"
   },
   {
    "duration": 4,
    "start_time": "2022-02-09T12:06:38.329Z"
   },
   {
    "duration": 7,
    "start_time": "2022-02-09T12:06:38.337Z"
   },
   {
    "duration": 621,
    "start_time": "2022-02-09T12:06:38.346Z"
   },
   {
    "duration": 719,
    "start_time": "2022-02-09T12:06:38.969Z"
   },
   {
    "duration": 5,
    "start_time": "2022-02-09T12:06:39.690Z"
   },
   {
    "duration": 11,
    "start_time": "2022-02-09T12:06:39.707Z"
   },
   {
    "duration": 15,
    "start_time": "2022-02-09T12:06:39.720Z"
   },
   {
    "duration": 7,
    "start_time": "2022-02-09T12:06:39.737Z"
   },
   {
    "duration": 23,
    "start_time": "2022-02-09T12:06:39.747Z"
   },
   {
    "duration": 4,
    "start_time": "2022-02-09T12:07:26.086Z"
   },
   {
    "duration": 6,
    "start_time": "2022-02-09T12:07:30.607Z"
   },
   {
    "duration": 12,
    "start_time": "2022-02-09T12:08:05.250Z"
   },
   {
    "duration": 6,
    "start_time": "2022-02-09T12:09:00.950Z"
   },
   {
    "duration": 7,
    "start_time": "2022-02-09T12:09:07.738Z"
   },
   {
    "duration": 13,
    "start_time": "2022-02-09T12:09:11.510Z"
   },
   {
    "duration": 11,
    "start_time": "2022-02-09T12:09:56.696Z"
   },
   {
    "duration": 24,
    "start_time": "2022-02-09T12:11:49.947Z"
   },
   {
    "duration": 315,
    "start_time": "2022-02-09T12:13:14.031Z"
   },
   {
    "duration": 429,
    "start_time": "2022-02-09T12:13:44.846Z"
   },
   {
    "duration": 5,
    "start_time": "2022-02-09T12:15:02.536Z"
   },
   {
    "duration": 316,
    "start_time": "2022-02-09T12:18:24.146Z"
   },
   {
    "duration": 311,
    "start_time": "2022-02-09T12:18:28.659Z"
   },
   {
    "duration": 364,
    "start_time": "2022-02-09T12:18:47.790Z"
   },
   {
    "duration": 23,
    "start_time": "2022-02-09T12:25:46.645Z"
   },
   {
    "duration": 360,
    "start_time": "2022-02-09T12:25:49.835Z"
   },
   {
    "duration": 349,
    "start_time": "2022-02-09T12:30:19.187Z"
   },
   {
    "duration": 470,
    "start_time": "2022-02-09T12:30:32.084Z"
   },
   {
    "duration": 1348,
    "start_time": "2022-02-09T12:33:07.696Z"
   },
   {
    "duration": 853,
    "start_time": "2022-02-09T12:33:09.046Z"
   },
   {
    "duration": 25,
    "start_time": "2022-02-09T12:33:09.909Z"
   },
   {
    "duration": 27,
    "start_time": "2022-02-09T12:33:09.936Z"
   },
   {
    "duration": 4,
    "start_time": "2022-02-09T12:33:09.966Z"
   },
   {
    "duration": 274,
    "start_time": "2022-02-09T12:33:10.007Z"
   },
   {
    "duration": 9,
    "start_time": "2022-02-09T12:33:10.285Z"
   },
   {
    "duration": 14,
    "start_time": "2022-02-09T12:33:10.308Z"
   },
   {
    "duration": 399,
    "start_time": "2022-02-09T12:33:10.324Z"
   },
   {
    "duration": 5,
    "start_time": "2022-02-09T12:33:10.725Z"
   },
   {
    "duration": 13,
    "start_time": "2022-02-09T12:33:10.732Z"
   },
   {
    "duration": 14,
    "start_time": "2022-02-09T12:33:10.747Z"
   },
   {
    "duration": 15,
    "start_time": "2022-02-09T12:33:10.763Z"
   },
   {
    "duration": 11,
    "start_time": "2022-02-09T12:33:10.780Z"
   },
   {
    "duration": 15,
    "start_time": "2022-02-09T12:33:10.807Z"
   },
   {
    "duration": 10,
    "start_time": "2022-02-09T12:33:10.824Z"
   },
   {
    "duration": 11,
    "start_time": "2022-02-09T12:33:10.836Z"
   },
   {
    "duration": 8,
    "start_time": "2022-02-09T12:33:10.849Z"
   },
   {
    "duration": 413,
    "start_time": "2022-02-09T12:33:10.859Z"
   },
   {
    "duration": 361,
    "start_time": "2022-02-09T12:33:11.274Z"
   },
   {
    "duration": 386,
    "start_time": "2022-02-09T12:33:11.638Z"
   },
   {
    "duration": 4,
    "start_time": "2022-02-09T12:33:12.027Z"
   },
   {
    "duration": 13,
    "start_time": "2022-02-09T12:33:12.033Z"
   },
   {
    "duration": 622,
    "start_time": "2022-02-09T12:33:12.048Z"
   },
   {
    "duration": 760,
    "start_time": "2022-02-09T12:33:12.672Z"
   },
   {
    "duration": 5,
    "start_time": "2022-02-09T12:33:13.433Z"
   },
   {
    "duration": 17,
    "start_time": "2022-02-09T12:33:13.440Z"
   },
   {
    "duration": 26,
    "start_time": "2022-02-09T12:33:13.459Z"
   },
   {
    "duration": 391,
    "start_time": "2022-02-09T12:33:13.507Z"
   },
   {
    "duration": 22,
    "start_time": "2022-02-09T12:36:30.304Z"
   },
   {
    "duration": 359,
    "start_time": "2022-02-09T12:36:32.608Z"
   },
   {
    "duration": 1208,
    "start_time": "2022-02-09T12:36:56.391Z"
   },
   {
    "duration": 764,
    "start_time": "2022-02-09T12:36:57.601Z"
   },
   {
    "duration": 20,
    "start_time": "2022-02-09T12:36:58.367Z"
   },
   {
    "duration": 39,
    "start_time": "2022-02-09T12:36:58.389Z"
   },
   {
    "duration": 4,
    "start_time": "2022-02-09T12:36:58.430Z"
   },
   {
    "duration": 262,
    "start_time": "2022-02-09T12:36:58.436Z"
   },
   {
    "duration": 12,
    "start_time": "2022-02-09T12:36:58.700Z"
   },
   {
    "duration": 14,
    "start_time": "2022-02-09T12:36:58.714Z"
   },
   {
    "duration": 361,
    "start_time": "2022-02-09T12:36:58.731Z"
   },
   {
    "duration": 15,
    "start_time": "2022-02-09T12:36:59.095Z"
   },
   {
    "duration": 12,
    "start_time": "2022-02-09T12:36:59.112Z"
   },
   {
    "duration": 13,
    "start_time": "2022-02-09T12:36:59.125Z"
   },
   {
    "duration": 7,
    "start_time": "2022-02-09T12:36:59.140Z"
   },
   {
    "duration": 15,
    "start_time": "2022-02-09T12:36:59.149Z"
   },
   {
    "duration": 23,
    "start_time": "2022-02-09T12:36:59.166Z"
   },
   {
    "duration": 17,
    "start_time": "2022-02-09T12:36:59.196Z"
   },
   {
    "duration": 4,
    "start_time": "2022-02-09T12:36:59.215Z"
   },
   {
    "duration": 12,
    "start_time": "2022-02-09T12:36:59.221Z"
   },
   {
    "duration": 368,
    "start_time": "2022-02-09T12:36:59.235Z"
   },
   {
    "duration": 344,
    "start_time": "2022-02-09T12:36:59.607Z"
   },
   {
    "duration": 377,
    "start_time": "2022-02-09T12:36:59.953Z"
   },
   {
    "duration": 5,
    "start_time": "2022-02-09T12:37:00.332Z"
   },
   {
    "duration": 26,
    "start_time": "2022-02-09T12:37:00.339Z"
   },
   {
    "duration": 607,
    "start_time": "2022-02-09T12:37:00.367Z"
   },
   {
    "duration": 724,
    "start_time": "2022-02-09T12:37:00.976Z"
   },
   {
    "duration": 6,
    "start_time": "2022-02-09T12:37:01.701Z"
   },
   {
    "duration": 20,
    "start_time": "2022-02-09T12:37:01.712Z"
   },
   {
    "duration": 27,
    "start_time": "2022-02-09T12:37:01.735Z"
   },
   {
    "duration": 434,
    "start_time": "2022-02-09T12:37:01.765Z"
   },
   {
    "duration": 12,
    "start_time": "2022-02-09T12:56:58.129Z"
   },
   {
    "duration": 16,
    "start_time": "2022-02-09T13:03:43.537Z"
   },
   {
    "duration": 70,
    "start_time": "2022-02-09T13:04:00.554Z"
   },
   {
    "duration": 65862,
    "start_time": "2022-02-09T13:04:10.502Z"
   },
   {
    "duration": 14,
    "start_time": "2022-02-09T13:05:48.188Z"
   },
   {
    "duration": 19,
    "start_time": "2022-02-09T13:05:56.983Z"
   },
   {
    "duration": 21,
    "start_time": "2022-02-09T13:06:44.044Z"
   },
   {
    "duration": 4,
    "start_time": "2022-02-09T13:06:56.154Z"
   },
   {
    "duration": 4,
    "start_time": "2022-02-09T13:07:09.105Z"
   },
   {
    "duration": 1339,
    "start_time": "2022-02-09T13:07:28.549Z"
   },
   {
    "duration": 766,
    "start_time": "2022-02-09T13:07:29.890Z"
   },
   {
    "duration": 18,
    "start_time": "2022-02-09T13:07:30.663Z"
   },
   {
    "duration": 43,
    "start_time": "2022-02-09T13:07:30.683Z"
   },
   {
    "duration": 15,
    "start_time": "2022-02-09T13:07:30.728Z"
   },
   {
    "duration": 297,
    "start_time": "2022-02-09T13:07:30.745Z"
   },
   {
    "duration": 8,
    "start_time": "2022-02-09T13:07:31.045Z"
   },
   {
    "duration": 20,
    "start_time": "2022-02-09T13:07:31.056Z"
   },
   {
    "duration": 360,
    "start_time": "2022-02-09T13:07:31.078Z"
   },
   {
    "duration": 5,
    "start_time": "2022-02-09T13:07:31.440Z"
   },
   {
    "duration": 13,
    "start_time": "2022-02-09T13:07:31.447Z"
   },
   {
    "duration": 15,
    "start_time": "2022-02-09T13:07:31.462Z"
   },
   {
    "duration": 23,
    "start_time": "2022-02-09T13:07:31.479Z"
   },
   {
    "duration": 19,
    "start_time": "2022-02-09T13:07:31.504Z"
   },
   {
    "duration": 25,
    "start_time": "2022-02-09T13:07:31.525Z"
   },
   {
    "duration": 11,
    "start_time": "2022-02-09T13:07:31.552Z"
   },
   {
    "duration": 25,
    "start_time": "2022-02-09T13:07:31.565Z"
   },
   {
    "duration": 11,
    "start_time": "2022-02-09T13:07:31.591Z"
   },
   {
    "duration": 353,
    "start_time": "2022-02-09T13:07:31.604Z"
   },
   {
    "duration": 379,
    "start_time": "2022-02-09T13:07:31.959Z"
   },
   {
    "duration": 395,
    "start_time": "2022-02-09T13:07:32.340Z"
   },
   {
    "duration": 6,
    "start_time": "2022-02-09T13:07:32.740Z"
   },
   {
    "duration": 7,
    "start_time": "2022-02-09T13:07:32.749Z"
   },
   {
    "duration": 608,
    "start_time": "2022-02-09T13:07:32.758Z"
   },
   {
    "duration": 686,
    "start_time": "2022-02-09T13:07:33.368Z"
   },
   {
    "duration": 5,
    "start_time": "2022-02-09T13:07:34.056Z"
   },
   {
    "duration": 18,
    "start_time": "2022-02-09T13:07:34.062Z"
   },
   {
    "duration": 42,
    "start_time": "2022-02-09T13:07:34.082Z"
   },
   {
    "duration": 362,
    "start_time": "2022-02-09T13:07:34.125Z"
   },
   {
    "duration": 4,
    "start_time": "2022-02-09T13:07:34.489Z"
   },
   {
    "duration": 24,
    "start_time": "2022-02-09T13:07:34.494Z"
   },
   {
    "duration": 4,
    "start_time": "2022-02-09T13:07:34.520Z"
   },
   {
    "duration": 5,
    "start_time": "2022-02-09T13:10:16.128Z"
   },
   {
    "duration": 70,
    "start_time": "2022-02-09T13:11:06.866Z"
   },
   {
    "duration": 5,
    "start_time": "2022-02-09T13:11:17.089Z"
   },
   {
    "duration": 69,
    "start_time": "2022-02-09T13:12:27.491Z"
   },
   {
    "duration": 5,
    "start_time": "2022-02-09T13:12:36.398Z"
   },
   {
    "duration": 1269,
    "start_time": "2022-02-09T13:13:43.725Z"
   },
   {
    "duration": 811,
    "start_time": "2022-02-09T13:13:44.997Z"
   },
   {
    "duration": 21,
    "start_time": "2022-02-09T13:13:45.811Z"
   },
   {
    "duration": 27,
    "start_time": "2022-02-09T13:13:45.834Z"
   },
   {
    "duration": 4,
    "start_time": "2022-02-09T13:13:45.864Z"
   },
   {
    "duration": 288,
    "start_time": "2022-02-09T13:13:45.870Z"
   },
   {
    "duration": 8,
    "start_time": "2022-02-09T13:13:46.161Z"
   },
   {
    "duration": 10,
    "start_time": "2022-02-09T13:13:46.171Z"
   },
   {
    "duration": 377,
    "start_time": "2022-02-09T13:13:46.183Z"
   },
   {
    "duration": 5,
    "start_time": "2022-02-09T13:13:46.562Z"
   },
   {
    "duration": 11,
    "start_time": "2022-02-09T13:13:46.569Z"
   },
   {
    "duration": 29,
    "start_time": "2022-02-09T13:13:46.583Z"
   },
   {
    "duration": 4,
    "start_time": "2022-02-09T13:13:46.614Z"
   },
   {
    "duration": 9,
    "start_time": "2022-02-09T13:13:46.620Z"
   },
   {
    "duration": 19,
    "start_time": "2022-02-09T13:13:46.631Z"
   },
   {
    "duration": 10,
    "start_time": "2022-02-09T13:13:46.652Z"
   },
   {
    "duration": 7,
    "start_time": "2022-02-09T13:13:46.664Z"
   },
   {
    "duration": 33,
    "start_time": "2022-02-09T13:13:46.675Z"
   },
   {
    "duration": 386,
    "start_time": "2022-02-09T13:13:46.710Z"
   },
   {
    "duration": 443,
    "start_time": "2022-02-09T13:13:47.098Z"
   },
   {
    "duration": 403,
    "start_time": "2022-02-09T13:13:47.543Z"
   },
   {
    "duration": 5,
    "start_time": "2022-02-09T13:13:47.949Z"
   },
   {
    "duration": 16,
    "start_time": "2022-02-09T13:13:47.957Z"
   },
   {
    "duration": 614,
    "start_time": "2022-02-09T13:13:47.975Z"
   },
   {
    "duration": 708,
    "start_time": "2022-02-09T13:13:48.591Z"
   },
   {
    "duration": 9,
    "start_time": "2022-02-09T13:13:49.301Z"
   },
   {
    "duration": 22,
    "start_time": "2022-02-09T13:13:49.312Z"
   },
   {
    "duration": 34,
    "start_time": "2022-02-09T13:13:49.336Z"
   },
   {
    "duration": 373,
    "start_time": "2022-02-09T13:13:49.372Z"
   },
   {
    "duration": 88,
    "start_time": "2022-02-09T13:13:49.747Z"
   },
   {
    "duration": -4077,
    "start_time": "2022-02-09T13:13:53.914Z"
   },
   {
    "duration": -4080,
    "start_time": "2022-02-09T13:13:53.919Z"
   },
   {
    "duration": 2067,
    "start_time": "2022-02-09T13:14:17.036Z"
   },
   {
    "duration": 783,
    "start_time": "2022-02-09T13:14:19.105Z"
   },
   {
    "duration": 27,
    "start_time": "2022-02-09T13:14:19.890Z"
   },
   {
    "duration": 25,
    "start_time": "2022-02-09T13:14:19.920Z"
   },
   {
    "duration": 13,
    "start_time": "2022-02-09T13:14:19.947Z"
   },
   {
    "duration": 274,
    "start_time": "2022-02-09T13:14:19.962Z"
   },
   {
    "duration": 7,
    "start_time": "2022-02-09T13:14:20.239Z"
   },
   {
    "duration": 9,
    "start_time": "2022-02-09T13:14:20.249Z"
   },
   {
    "duration": 398,
    "start_time": "2022-02-09T13:14:20.260Z"
   },
   {
    "duration": 5,
    "start_time": "2022-02-09T13:14:20.660Z"
   },
   {
    "duration": 10,
    "start_time": "2022-02-09T13:14:20.667Z"
   },
   {
    "duration": 33,
    "start_time": "2022-02-09T13:14:20.679Z"
   },
   {
    "duration": 4,
    "start_time": "2022-02-09T13:14:20.714Z"
   },
   {
    "duration": 10,
    "start_time": "2022-02-09T13:14:20.720Z"
   },
   {
    "duration": 19,
    "start_time": "2022-02-09T13:14:20.732Z"
   },
   {
    "duration": 11,
    "start_time": "2022-02-09T13:14:20.753Z"
   },
   {
    "duration": 15,
    "start_time": "2022-02-09T13:14:20.766Z"
   },
   {
    "duration": 25,
    "start_time": "2022-02-09T13:14:20.784Z"
   },
   {
    "duration": 370,
    "start_time": "2022-02-09T13:14:20.811Z"
   },
   {
    "duration": 379,
    "start_time": "2022-02-09T13:14:21.183Z"
   },
   {
    "duration": 374,
    "start_time": "2022-02-09T13:14:21.564Z"
   },
   {
    "duration": 5,
    "start_time": "2022-02-09T13:14:21.940Z"
   },
   {
    "duration": 8,
    "start_time": "2022-02-09T13:14:21.949Z"
   },
   {
    "duration": 633,
    "start_time": "2022-02-09T13:14:21.959Z"
   },
   {
    "duration": 713,
    "start_time": "2022-02-09T13:14:22.594Z"
   },
   {
    "duration": 4,
    "start_time": "2022-02-09T13:14:23.309Z"
   },
   {
    "duration": 27,
    "start_time": "2022-02-09T13:14:23.315Z"
   },
   {
    "duration": 34,
    "start_time": "2022-02-09T13:14:23.345Z"
   },
   {
    "duration": 354,
    "start_time": "2022-02-09T13:14:23.381Z"
   },
   {
    "duration": 4,
    "start_time": "2022-02-09T13:14:23.738Z"
   },
   {
    "duration": 59,
    "start_time": "2022-02-09T13:14:23.744Z"
   },
   {
    "duration": 4,
    "start_time": "2022-02-09T13:14:23.805Z"
   },
   {
    "duration": 1279,
    "start_time": "2022-02-09T13:15:14.843Z"
   },
   {
    "duration": 791,
    "start_time": "2022-02-09T13:15:16.124Z"
   },
   {
    "duration": 21,
    "start_time": "2022-02-09T13:15:16.918Z"
   },
   {
    "duration": 25,
    "start_time": "2022-02-09T13:15:16.941Z"
   },
   {
    "duration": 9,
    "start_time": "2022-02-09T13:15:16.968Z"
   },
   {
    "duration": 319,
    "start_time": "2022-02-09T13:15:16.978Z"
   },
   {
    "duration": 14,
    "start_time": "2022-02-09T13:15:17.299Z"
   },
   {
    "duration": 9,
    "start_time": "2022-02-09T13:15:17.316Z"
   },
   {
    "duration": 404,
    "start_time": "2022-02-09T13:15:17.328Z"
   },
   {
    "duration": 5,
    "start_time": "2022-02-09T13:15:17.735Z"
   },
   {
    "duration": 13,
    "start_time": "2022-02-09T13:15:17.741Z"
   },
   {
    "duration": 13,
    "start_time": "2022-02-09T13:15:17.756Z"
   },
   {
    "duration": 10,
    "start_time": "2022-02-09T13:15:17.772Z"
   },
   {
    "duration": 26,
    "start_time": "2022-02-09T13:15:17.784Z"
   },
   {
    "duration": 17,
    "start_time": "2022-02-09T13:15:17.812Z"
   },
   {
    "duration": 11,
    "start_time": "2022-02-09T13:15:17.831Z"
   },
   {
    "duration": 13,
    "start_time": "2022-02-09T13:15:17.844Z"
   },
   {
    "duration": 7,
    "start_time": "2022-02-09T13:15:17.859Z"
   },
   {
    "duration": 403,
    "start_time": "2022-02-09T13:15:17.868Z"
   },
   {
    "duration": 370,
    "start_time": "2022-02-09T13:15:18.273Z"
   },
   {
    "duration": 404,
    "start_time": "2022-02-09T13:15:18.645Z"
   },
   {
    "duration": 6,
    "start_time": "2022-02-09T13:15:19.052Z"
   },
   {
    "duration": 5,
    "start_time": "2022-02-09T13:15:19.061Z"
   },
   {
    "duration": 673,
    "start_time": "2022-02-09T13:15:19.068Z"
   },
   {
    "duration": 882,
    "start_time": "2022-02-09T13:15:19.743Z"
   },
   {
    "duration": 5,
    "start_time": "2022-02-09T13:15:20.628Z"
   },
   {
    "duration": 20,
    "start_time": "2022-02-09T13:15:20.636Z"
   },
   {
    "duration": 24,
    "start_time": "2022-02-09T13:15:20.658Z"
   },
   {
    "duration": 400,
    "start_time": "2022-02-09T13:15:20.685Z"
   },
   {
    "duration": 4,
    "start_time": "2022-02-09T13:15:21.087Z"
   },
   {
    "duration": 26,
    "start_time": "2022-02-09T13:15:21.108Z"
   },
   {
    "duration": 5,
    "start_time": "2022-02-09T13:15:21.136Z"
   },
   {
    "duration": 158,
    "start_time": "2022-02-09T13:19:31.088Z"
   },
   {
    "duration": 9,
    "start_time": "2022-02-09T13:20:02.876Z"
   },
   {
    "duration": 89,
    "start_time": "2022-02-09T13:20:21.267Z"
   },
   {
    "duration": 19,
    "start_time": "2022-02-09T13:20:27.692Z"
   },
   {
    "duration": 23,
    "start_time": "2022-02-09T13:20:47.112Z"
   },
   {
    "duration": 20,
    "start_time": "2022-02-09T13:22:20.835Z"
   },
   {
    "duration": 1247,
    "start_time": "2022-02-09T13:26:05.094Z"
   },
   {
    "duration": 817,
    "start_time": "2022-02-09T13:26:06.343Z"
   },
   {
    "duration": 22,
    "start_time": "2022-02-09T13:26:07.162Z"
   },
   {
    "duration": 41,
    "start_time": "2022-02-09T13:26:07.186Z"
   },
   {
    "duration": 4,
    "start_time": "2022-02-09T13:26:07.229Z"
   },
   {
    "duration": 272,
    "start_time": "2022-02-09T13:26:07.235Z"
   },
   {
    "duration": 8,
    "start_time": "2022-02-09T13:26:07.509Z"
   },
   {
    "duration": 12,
    "start_time": "2022-02-09T13:26:07.521Z"
   },
   {
    "duration": 379,
    "start_time": "2022-02-09T13:26:07.536Z"
   },
   {
    "duration": 6,
    "start_time": "2022-02-09T13:26:07.917Z"
   },
   {
    "duration": 20,
    "start_time": "2022-02-09T13:26:07.924Z"
   },
   {
    "duration": 17,
    "start_time": "2022-02-09T13:26:07.946Z"
   },
   {
    "duration": 13,
    "start_time": "2022-02-09T13:26:07.965Z"
   },
   {
    "duration": 25,
    "start_time": "2022-02-09T13:26:07.980Z"
   },
   {
    "duration": 27,
    "start_time": "2022-02-09T13:26:08.008Z"
   },
   {
    "duration": 12,
    "start_time": "2022-02-09T13:26:08.037Z"
   },
   {
    "duration": 10,
    "start_time": "2022-02-09T13:26:08.051Z"
   },
   {
    "duration": 32,
    "start_time": "2022-02-09T13:26:08.063Z"
   },
   {
    "duration": 398,
    "start_time": "2022-02-09T13:26:08.097Z"
   },
   {
    "duration": 363,
    "start_time": "2022-02-09T13:26:08.497Z"
   },
   {
    "duration": 388,
    "start_time": "2022-02-09T13:26:08.862Z"
   },
   {
    "duration": 4,
    "start_time": "2022-02-09T13:26:09.252Z"
   },
   {
    "duration": 13,
    "start_time": "2022-02-09T13:26:09.260Z"
   },
   {
    "duration": 643,
    "start_time": "2022-02-09T13:26:09.275Z"
   },
   {
    "duration": 735,
    "start_time": "2022-02-09T13:26:09.920Z"
   },
   {
    "duration": 4,
    "start_time": "2022-02-09T13:26:10.657Z"
   },
   {
    "duration": 16,
    "start_time": "2022-02-09T13:26:10.664Z"
   },
   {
    "duration": 41,
    "start_time": "2022-02-09T13:26:10.683Z"
   },
   {
    "duration": 463,
    "start_time": "2022-02-09T13:26:10.727Z"
   },
   {
    "duration": 32,
    "start_time": "2022-02-09T13:26:11.192Z"
   },
   {
    "duration": 23,
    "start_time": "2022-02-09T13:26:11.226Z"
   },
   {
    "duration": 5,
    "start_time": "2022-02-09T13:26:11.252Z"
   },
   {
    "duration": 53,
    "start_time": "2022-02-09T13:26:11.259Z"
   },
   {
    "duration": 321,
    "start_time": "2022-02-09T13:26:11.314Z"
   },
   {
    "duration": 1337,
    "start_time": "2022-02-09T13:32:00.998Z"
   },
   {
    "duration": 796,
    "start_time": "2022-02-09T13:32:02.338Z"
   },
   {
    "duration": 20,
    "start_time": "2022-02-09T13:32:03.136Z"
   },
   {
    "duration": 38,
    "start_time": "2022-02-09T13:32:03.158Z"
   },
   {
    "duration": 18,
    "start_time": "2022-02-09T13:32:03.198Z"
   },
   {
    "duration": 266,
    "start_time": "2022-02-09T13:32:03.217Z"
   },
   {
    "duration": 9,
    "start_time": "2022-02-09T13:32:03.485Z"
   },
   {
    "duration": 18,
    "start_time": "2022-02-09T13:32:03.496Z"
   },
   {
    "duration": 363,
    "start_time": "2022-02-09T13:32:03.517Z"
   },
   {
    "duration": 5,
    "start_time": "2022-02-09T13:32:03.882Z"
   },
   {
    "duration": 23,
    "start_time": "2022-02-09T13:32:03.889Z"
   },
   {
    "duration": 12,
    "start_time": "2022-02-09T13:32:03.914Z"
   },
   {
    "duration": 11,
    "start_time": "2022-02-09T13:32:03.928Z"
   },
   {
    "duration": 17,
    "start_time": "2022-02-09T13:32:03.941Z"
   },
   {
    "duration": 21,
    "start_time": "2022-02-09T13:32:03.960Z"
   },
   {
    "duration": 10,
    "start_time": "2022-02-09T13:32:03.984Z"
   },
   {
    "duration": 13,
    "start_time": "2022-02-09T13:32:04.007Z"
   },
   {
    "duration": 16,
    "start_time": "2022-02-09T13:32:04.023Z"
   },
   {
    "duration": 472,
    "start_time": "2022-02-09T13:32:04.042Z"
   },
   {
    "duration": 365,
    "start_time": "2022-02-09T13:32:04.516Z"
   },
   {
    "duration": 382,
    "start_time": "2022-02-09T13:32:04.883Z"
   },
   {
    "duration": 5,
    "start_time": "2022-02-09T13:32:05.267Z"
   },
   {
    "duration": 6,
    "start_time": "2022-02-09T13:32:05.275Z"
   },
   {
    "duration": 624,
    "start_time": "2022-02-09T13:32:05.283Z"
   },
   {
    "duration": 725,
    "start_time": "2022-02-09T13:32:05.909Z"
   },
   {
    "duration": 5,
    "start_time": "2022-02-09T13:32:06.636Z"
   },
   {
    "duration": 19,
    "start_time": "2022-02-09T13:32:06.642Z"
   },
   {
    "duration": 43,
    "start_time": "2022-02-09T13:32:06.663Z"
   },
   {
    "duration": 384,
    "start_time": "2022-02-09T13:32:06.708Z"
   },
   {
    "duration": 29,
    "start_time": "2022-02-09T13:32:07.094Z"
   },
   {
    "duration": 20,
    "start_time": "2022-02-09T13:32:07.125Z"
   },
   {
    "duration": 4,
    "start_time": "2022-02-09T13:32:07.147Z"
   },
   {
    "duration": 75,
    "start_time": "2022-02-09T13:32:07.152Z"
   },
   {
    "duration": -4060,
    "start_time": "2022-02-09T13:32:11.289Z"
   },
   {
    "duration": 21,
    "start_time": "2022-02-09T13:32:36.473Z"
   },
   {
    "duration": 4,
    "start_time": "2022-02-09T13:32:37.431Z"
   },
   {
    "duration": 1243,
    "start_time": "2022-02-09T13:34:43.267Z"
   },
   {
    "duration": 784,
    "start_time": "2022-02-09T13:34:44.512Z"
   },
   {
    "duration": 20,
    "start_time": "2022-02-09T13:34:45.298Z"
   },
   {
    "duration": 26,
    "start_time": "2022-02-09T13:34:45.320Z"
   },
   {
    "duration": 4,
    "start_time": "2022-02-09T13:34:45.348Z"
   },
   {
    "duration": 278,
    "start_time": "2022-02-09T13:34:45.354Z"
   },
   {
    "duration": 8,
    "start_time": "2022-02-09T13:34:45.634Z"
   },
   {
    "duration": 8,
    "start_time": "2022-02-09T13:34:45.645Z"
   },
   {
    "duration": 377,
    "start_time": "2022-02-09T13:34:45.655Z"
   },
   {
    "duration": 5,
    "start_time": "2022-02-09T13:34:46.035Z"
   },
   {
    "duration": 17,
    "start_time": "2022-02-09T13:34:46.043Z"
   },
   {
    "duration": 19,
    "start_time": "2022-02-09T13:34:46.062Z"
   },
   {
    "duration": 7,
    "start_time": "2022-02-09T13:34:46.083Z"
   },
   {
    "duration": 19,
    "start_time": "2022-02-09T13:34:46.092Z"
   },
   {
    "duration": 18,
    "start_time": "2022-02-09T13:34:46.113Z"
   },
   {
    "duration": 10,
    "start_time": "2022-02-09T13:34:46.134Z"
   },
   {
    "duration": 10,
    "start_time": "2022-02-09T13:34:46.146Z"
   },
   {
    "duration": 9,
    "start_time": "2022-02-09T13:34:46.158Z"
   },
   {
    "duration": 368,
    "start_time": "2022-02-09T13:34:46.169Z"
   },
   {
    "duration": 350,
    "start_time": "2022-02-09T13:34:46.539Z"
   },
   {
    "duration": 386,
    "start_time": "2022-02-09T13:34:46.891Z"
   },
   {
    "duration": 5,
    "start_time": "2022-02-09T13:34:47.279Z"
   },
   {
    "duration": 20,
    "start_time": "2022-02-09T13:34:47.288Z"
   },
   {
    "duration": 600,
    "start_time": "2022-02-09T13:34:47.310Z"
   },
   {
    "duration": 812,
    "start_time": "2022-02-09T13:34:47.913Z"
   },
   {
    "duration": 5,
    "start_time": "2022-02-09T13:34:48.727Z"
   },
   {
    "duration": 17,
    "start_time": "2022-02-09T13:34:48.734Z"
   },
   {
    "duration": 23,
    "start_time": "2022-02-09T13:34:48.753Z"
   },
   {
    "duration": 371,
    "start_time": "2022-02-09T13:34:48.777Z"
   },
   {
    "duration": 21,
    "start_time": "2022-02-09T13:34:49.150Z"
   },
   {
    "duration": 36,
    "start_time": "2022-02-09T13:34:49.173Z"
   },
   {
    "duration": 4,
    "start_time": "2022-02-09T13:34:49.211Z"
   },
   {
    "duration": 23,
    "start_time": "2022-02-09T13:34:49.216Z"
   },
   {
    "duration": 4,
    "start_time": "2022-02-09T13:34:49.241Z"
   },
   {
    "duration": 1264,
    "start_time": "2022-02-09T13:38:30.033Z"
   },
   {
    "duration": 780,
    "start_time": "2022-02-09T13:38:31.300Z"
   },
   {
    "duration": 21,
    "start_time": "2022-02-09T13:38:32.092Z"
   },
   {
    "duration": 39,
    "start_time": "2022-02-09T13:38:32.116Z"
   },
   {
    "duration": 5,
    "start_time": "2022-02-09T13:38:32.158Z"
   },
   {
    "duration": 273,
    "start_time": "2022-02-09T13:38:32.166Z"
   },
   {
    "duration": 8,
    "start_time": "2022-02-09T13:38:32.441Z"
   },
   {
    "duration": 14,
    "start_time": "2022-02-09T13:38:32.452Z"
   },
   {
    "duration": 387,
    "start_time": "2022-02-09T13:38:32.468Z"
   },
   {
    "duration": 5,
    "start_time": "2022-02-09T13:38:32.857Z"
   },
   {
    "duration": 15,
    "start_time": "2022-02-09T13:38:32.863Z"
   },
   {
    "duration": 15,
    "start_time": "2022-02-09T13:38:32.880Z"
   },
   {
    "duration": 9,
    "start_time": "2022-02-09T13:38:32.908Z"
   },
   {
    "duration": 12,
    "start_time": "2022-02-09T13:38:32.919Z"
   },
   {
    "duration": 21,
    "start_time": "2022-02-09T13:38:32.934Z"
   },
   {
    "duration": 12,
    "start_time": "2022-02-09T13:38:32.957Z"
   },
   {
    "duration": 48,
    "start_time": "2022-02-09T13:38:32.971Z"
   },
   {
    "duration": 7,
    "start_time": "2022-02-09T13:38:33.021Z"
   },
   {
    "duration": 348,
    "start_time": "2022-02-09T13:38:33.030Z"
   },
   {
    "duration": 339,
    "start_time": "2022-02-09T13:38:33.379Z"
   },
   {
    "duration": 373,
    "start_time": "2022-02-09T13:38:33.720Z"
   },
   {
    "duration": 13,
    "start_time": "2022-02-09T13:38:34.095Z"
   },
   {
    "duration": 5,
    "start_time": "2022-02-09T13:38:34.112Z"
   },
   {
    "duration": 771,
    "start_time": "2022-02-09T13:38:34.118Z"
   },
   {
    "duration": 690,
    "start_time": "2022-02-09T13:38:34.890Z"
   },
   {
    "duration": 4,
    "start_time": "2022-02-09T13:38:35.582Z"
   },
   {
    "duration": 25,
    "start_time": "2022-02-09T13:38:35.588Z"
   },
   {
    "duration": 25,
    "start_time": "2022-02-09T13:38:35.615Z"
   },
   {
    "duration": 369,
    "start_time": "2022-02-09T13:38:35.642Z"
   },
   {
    "duration": 20,
    "start_time": "2022-02-09T13:38:36.013Z"
   },
   {
    "duration": 20,
    "start_time": "2022-02-09T13:38:36.035Z"
   },
   {
    "duration": 4,
    "start_time": "2022-02-09T13:38:36.058Z"
   },
   {
    "duration": 50,
    "start_time": "2022-02-09T13:38:36.064Z"
   },
   {
    "duration": 4,
    "start_time": "2022-02-09T13:38:36.116Z"
   },
   {
    "duration": 1286,
    "start_time": "2022-02-09T13:39:22.823Z"
   },
   {
    "duration": 786,
    "start_time": "2022-02-09T13:39:24.111Z"
   },
   {
    "duration": 25,
    "start_time": "2022-02-09T13:39:24.899Z"
   },
   {
    "duration": 27,
    "start_time": "2022-02-09T13:39:24.926Z"
   },
   {
    "duration": 3,
    "start_time": "2022-02-09T13:39:24.955Z"
   },
   {
    "duration": 303,
    "start_time": "2022-02-09T13:39:24.960Z"
   },
   {
    "duration": 7,
    "start_time": "2022-02-09T13:39:25.265Z"
   },
   {
    "duration": 8,
    "start_time": "2022-02-09T13:39:25.275Z"
   },
   {
    "duration": 381,
    "start_time": "2022-02-09T13:39:25.285Z"
   },
   {
    "duration": 5,
    "start_time": "2022-02-09T13:39:25.668Z"
   },
   {
    "duration": 13,
    "start_time": "2022-02-09T13:39:25.675Z"
   },
   {
    "duration": 22,
    "start_time": "2022-02-09T13:39:25.690Z"
   },
   {
    "duration": 8,
    "start_time": "2022-02-09T13:39:25.714Z"
   },
   {
    "duration": 9,
    "start_time": "2022-02-09T13:39:25.724Z"
   },
   {
    "duration": 20,
    "start_time": "2022-02-09T13:39:25.735Z"
   },
   {
    "duration": 11,
    "start_time": "2022-02-09T13:39:25.757Z"
   },
   {
    "duration": 11,
    "start_time": "2022-02-09T13:39:25.771Z"
   },
   {
    "duration": 26,
    "start_time": "2022-02-09T13:39:25.784Z"
   },
   {
    "duration": 385,
    "start_time": "2022-02-09T13:39:25.812Z"
   },
   {
    "duration": 372,
    "start_time": "2022-02-09T13:39:26.199Z"
   },
   {
    "duration": 387,
    "start_time": "2022-02-09T13:39:26.573Z"
   },
   {
    "duration": 5,
    "start_time": "2022-02-09T13:39:26.962Z"
   },
   {
    "duration": 7,
    "start_time": "2022-02-09T13:39:26.970Z"
   },
   {
    "duration": 641,
    "start_time": "2022-02-09T13:39:26.979Z"
   },
   {
    "duration": 759,
    "start_time": "2022-02-09T13:39:27.622Z"
   },
   {
    "duration": 4,
    "start_time": "2022-02-09T13:39:28.383Z"
   },
   {
    "duration": 25,
    "start_time": "2022-02-09T13:39:28.389Z"
   },
   {
    "duration": 29,
    "start_time": "2022-02-09T13:39:28.416Z"
   },
   {
    "duration": 447,
    "start_time": "2022-02-09T13:39:28.447Z"
   },
   {
    "duration": 34,
    "start_time": "2022-02-09T13:39:28.896Z"
   },
   {
    "duration": 21,
    "start_time": "2022-02-09T13:39:28.932Z"
   },
   {
    "duration": 4,
    "start_time": "2022-02-09T13:39:28.956Z"
   },
   {
    "duration": 49,
    "start_time": "2022-02-09T13:39:28.962Z"
   },
   {
    "duration": 4,
    "start_time": "2022-02-09T13:39:29.013Z"
   },
   {
    "duration": 1206,
    "start_time": "2022-02-09T13:41:32.885Z"
   },
   {
    "duration": 759,
    "start_time": "2022-02-09T13:41:34.094Z"
   },
   {
    "duration": 27,
    "start_time": "2022-02-09T13:41:34.855Z"
   },
   {
    "duration": 44,
    "start_time": "2022-02-09T13:41:34.884Z"
   },
   {
    "duration": 8,
    "start_time": "2022-02-09T13:41:34.930Z"
   },
   {
    "duration": 284,
    "start_time": "2022-02-09T13:41:34.940Z"
   },
   {
    "duration": 8,
    "start_time": "2022-02-09T13:41:35.226Z"
   },
   {
    "duration": 13,
    "start_time": "2022-02-09T13:41:35.237Z"
   },
   {
    "duration": 386,
    "start_time": "2022-02-09T13:41:35.253Z"
   },
   {
    "duration": 4,
    "start_time": "2022-02-09T13:41:35.641Z"
   },
   {
    "duration": 37,
    "start_time": "2022-02-09T13:41:35.647Z"
   },
   {
    "duration": 22,
    "start_time": "2022-02-09T13:41:35.686Z"
   },
   {
    "duration": 16,
    "start_time": "2022-02-09T13:41:35.710Z"
   },
   {
    "duration": 15,
    "start_time": "2022-02-09T13:41:35.728Z"
   },
   {
    "duration": 25,
    "start_time": "2022-02-09T13:41:35.745Z"
   },
   {
    "duration": 10,
    "start_time": "2022-02-09T13:41:35.772Z"
   },
   {
    "duration": 9,
    "start_time": "2022-02-09T13:41:35.785Z"
   },
   {
    "duration": 23,
    "start_time": "2022-02-09T13:41:35.796Z"
   },
   {
    "duration": 400,
    "start_time": "2022-02-09T13:41:35.821Z"
   },
   {
    "duration": 391,
    "start_time": "2022-02-09T13:41:36.223Z"
   },
   {
    "duration": 409,
    "start_time": "2022-02-09T13:41:36.617Z"
   },
   {
    "duration": 5,
    "start_time": "2022-02-09T13:41:37.029Z"
   },
   {
    "duration": 8,
    "start_time": "2022-02-09T13:41:37.038Z"
   },
   {
    "duration": 620,
    "start_time": "2022-02-09T13:41:37.049Z"
   },
   {
    "duration": 704,
    "start_time": "2022-02-09T13:41:37.671Z"
   },
   {
    "duration": 5,
    "start_time": "2022-02-09T13:41:38.377Z"
   },
   {
    "duration": 30,
    "start_time": "2022-02-09T13:41:38.383Z"
   },
   {
    "duration": 25,
    "start_time": "2022-02-09T13:41:38.415Z"
   },
   {
    "duration": 368,
    "start_time": "2022-02-09T13:41:38.442Z"
   },
   {
    "duration": 22,
    "start_time": "2022-02-09T13:41:38.812Z"
   },
   {
    "duration": 19,
    "start_time": "2022-02-09T13:41:38.836Z"
   },
   {
    "duration": 4,
    "start_time": "2022-02-09T13:41:38.858Z"
   },
   {
    "duration": 52,
    "start_time": "2022-02-09T13:41:38.864Z"
   },
   {
    "duration": 4,
    "start_time": "2022-02-09T13:41:38.918Z"
   },
   {
    "duration": 5,
    "start_time": "2022-02-09T13:48:00.566Z"
   },
   {
    "duration": 1298,
    "start_time": "2022-02-09T13:48:40.012Z"
   },
   {
    "duration": 743,
    "start_time": "2022-02-09T13:48:41.313Z"
   },
   {
    "duration": 20,
    "start_time": "2022-02-09T13:48:42.059Z"
   },
   {
    "duration": 42,
    "start_time": "2022-02-09T13:48:42.081Z"
   },
   {
    "duration": 4,
    "start_time": "2022-02-09T13:48:42.125Z"
   },
   {
    "duration": 263,
    "start_time": "2022-02-09T13:48:42.131Z"
   },
   {
    "duration": 18,
    "start_time": "2022-02-09T13:48:42.396Z"
   },
   {
    "duration": 6,
    "start_time": "2022-02-09T13:48:42.417Z"
   },
   {
    "duration": 395,
    "start_time": "2022-02-09T13:48:42.426Z"
   },
   {
    "duration": 5,
    "start_time": "2022-02-09T13:48:42.823Z"
   },
   {
    "duration": 9,
    "start_time": "2022-02-09T13:48:42.830Z"
   },
   {
    "duration": 9,
    "start_time": "2022-02-09T13:48:42.841Z"
   },
   {
    "duration": 8,
    "start_time": "2022-02-09T13:48:42.852Z"
   },
   {
    "duration": 8,
    "start_time": "2022-02-09T13:48:42.862Z"
   },
   {
    "duration": 49,
    "start_time": "2022-02-09T13:48:42.872Z"
   },
   {
    "duration": 10,
    "start_time": "2022-02-09T13:48:42.923Z"
   },
   {
    "duration": 7,
    "start_time": "2022-02-09T13:48:42.936Z"
   },
   {
    "duration": 7,
    "start_time": "2022-02-09T13:48:42.945Z"
   },
   {
    "duration": 401,
    "start_time": "2022-02-09T13:48:42.954Z"
   },
   {
    "duration": 360,
    "start_time": "2022-02-09T13:48:43.358Z"
   },
   {
    "duration": 375,
    "start_time": "2022-02-09T13:48:43.720Z"
   },
   {
    "duration": 10,
    "start_time": "2022-02-09T13:48:44.097Z"
   },
   {
    "duration": 5,
    "start_time": "2022-02-09T13:48:44.111Z"
   },
   {
    "duration": 616,
    "start_time": "2022-02-09T13:48:44.119Z"
   },
   {
    "duration": 729,
    "start_time": "2022-02-09T13:48:44.737Z"
   },
   {
    "duration": 4,
    "start_time": "2022-02-09T13:48:45.468Z"
   },
   {
    "duration": 14,
    "start_time": "2022-02-09T13:48:45.474Z"
   },
   {
    "duration": 38,
    "start_time": "2022-02-09T13:48:45.490Z"
   },
   {
    "duration": 390,
    "start_time": "2022-02-09T13:48:45.530Z"
   },
   {
    "duration": 21,
    "start_time": "2022-02-09T13:48:45.923Z"
   },
   {
    "duration": 20,
    "start_time": "2022-02-09T13:48:45.946Z"
   },
   {
    "duration": 4,
    "start_time": "2022-02-09T13:48:45.968Z"
   },
   {
    "duration": 52,
    "start_time": "2022-02-09T13:48:45.974Z"
   },
   {
    "duration": 4,
    "start_time": "2022-02-09T13:48:46.028Z"
   },
   {
    "duration": 25,
    "start_time": "2022-02-09T13:53:55.815Z"
   },
   {
    "duration": 1275,
    "start_time": "2022-02-09T13:54:21.854Z"
   },
   {
    "duration": 816,
    "start_time": "2022-02-09T13:54:23.131Z"
   },
   {
    "duration": 21,
    "start_time": "2022-02-09T13:54:23.952Z"
   },
   {
    "duration": 44,
    "start_time": "2022-02-09T13:54:23.975Z"
   },
   {
    "duration": 4,
    "start_time": "2022-02-09T13:54:24.021Z"
   },
   {
    "duration": 310,
    "start_time": "2022-02-09T13:54:24.027Z"
   },
   {
    "duration": 10,
    "start_time": "2022-02-09T13:54:24.341Z"
   },
   {
    "duration": 25,
    "start_time": "2022-02-09T13:54:24.354Z"
   },
   {
    "duration": 493,
    "start_time": "2022-02-09T13:54:24.382Z"
   },
   {
    "duration": 6,
    "start_time": "2022-02-09T13:54:24.878Z"
   },
   {
    "duration": 25,
    "start_time": "2022-02-09T13:54:24.886Z"
   },
   {
    "duration": 16,
    "start_time": "2022-02-09T13:54:24.913Z"
   },
   {
    "duration": 26,
    "start_time": "2022-02-09T13:54:24.931Z"
   },
   {
    "duration": 17,
    "start_time": "2022-02-09T13:54:24.960Z"
   },
   {
    "duration": 19,
    "start_time": "2022-02-09T13:54:24.979Z"
   },
   {
    "duration": 12,
    "start_time": "2022-02-09T13:54:25.000Z"
   },
   {
    "duration": 11,
    "start_time": "2022-02-09T13:54:25.014Z"
   },
   {
    "duration": 8,
    "start_time": "2022-02-09T13:54:25.027Z"
   },
   {
    "duration": 532,
    "start_time": "2022-02-09T13:54:25.038Z"
   },
   {
    "duration": 455,
    "start_time": "2022-02-09T13:54:25.572Z"
   },
   {
    "duration": 377,
    "start_time": "2022-02-09T13:54:26.030Z"
   },
   {
    "duration": 5,
    "start_time": "2022-02-09T13:54:26.411Z"
   },
   {
    "duration": 13,
    "start_time": "2022-02-09T13:54:26.418Z"
   },
   {
    "duration": 645,
    "start_time": "2022-02-09T13:54:26.434Z"
   },
   {
    "duration": 717,
    "start_time": "2022-02-09T13:54:27.081Z"
   },
   {
    "duration": 10,
    "start_time": "2022-02-09T13:54:27.800Z"
   },
   {
    "duration": 19,
    "start_time": "2022-02-09T13:54:27.812Z"
   },
   {
    "duration": 23,
    "start_time": "2022-02-09T13:54:27.834Z"
   },
   {
    "duration": 376,
    "start_time": "2022-02-09T13:54:27.859Z"
   },
   {
    "duration": 21,
    "start_time": "2022-02-09T13:54:28.237Z"
   },
   {
    "duration": 19,
    "start_time": "2022-02-09T13:54:28.260Z"
   },
   {
    "duration": 28,
    "start_time": "2022-02-09T13:54:28.281Z"
   },
   {
    "duration": 19,
    "start_time": "2022-02-09T13:54:28.311Z"
   },
   {
    "duration": 3,
    "start_time": "2022-02-09T13:54:28.333Z"
   },
   {
    "duration": 1165,
    "start_time": "2022-02-09T13:56:58.836Z"
   },
   {
    "duration": 784,
    "start_time": "2022-02-09T13:57:00.003Z"
   },
   {
    "duration": 28,
    "start_time": "2022-02-09T13:57:00.792Z"
   },
   {
    "duration": 24,
    "start_time": "2022-02-09T13:57:00.822Z"
   },
   {
    "duration": 5,
    "start_time": "2022-02-09T13:57:00.848Z"
   },
   {
    "duration": 282,
    "start_time": "2022-02-09T13:57:00.855Z"
   },
   {
    "duration": 10,
    "start_time": "2022-02-09T13:57:01.140Z"
   },
   {
    "duration": 50,
    "start_time": "2022-02-09T13:57:01.153Z"
   },
   {
    "duration": 406,
    "start_time": "2022-02-09T13:57:01.205Z"
   },
   {
    "duration": 5,
    "start_time": "2022-02-09T13:57:01.614Z"
   },
   {
    "duration": 30,
    "start_time": "2022-02-09T13:57:01.621Z"
   },
   {
    "duration": 105,
    "start_time": "2022-02-09T13:57:01.653Z"
   },
   {
    "duration": 17,
    "start_time": "2022-02-09T13:57:01.760Z"
   },
   {
    "duration": 29,
    "start_time": "2022-02-09T13:57:01.779Z"
   },
   {
    "duration": 31,
    "start_time": "2022-02-09T13:57:01.810Z"
   },
   {
    "duration": 16,
    "start_time": "2022-02-09T13:57:01.844Z"
   },
   {
    "duration": 43,
    "start_time": "2022-02-09T13:57:01.862Z"
   },
   {
    "duration": 21,
    "start_time": "2022-02-09T13:57:01.907Z"
   },
   {
    "duration": 423,
    "start_time": "2022-02-09T13:57:01.930Z"
   },
   {
    "duration": 490,
    "start_time": "2022-02-09T13:57:02.355Z"
   },
   {
    "duration": 420,
    "start_time": "2022-02-09T13:57:02.847Z"
   },
   {
    "duration": 5,
    "start_time": "2022-02-09T13:57:03.271Z"
   },
   {
    "duration": 20,
    "start_time": "2022-02-09T13:57:03.279Z"
   },
   {
    "duration": 725,
    "start_time": "2022-02-09T13:57:03.301Z"
   },
   {
    "duration": 709,
    "start_time": "2022-02-09T13:57:04.028Z"
   },
   {
    "duration": 4,
    "start_time": "2022-02-09T13:57:04.739Z"
   },
   {
    "duration": 16,
    "start_time": "2022-02-09T13:57:04.745Z"
   },
   {
    "duration": 25,
    "start_time": "2022-02-09T13:57:04.763Z"
   },
   {
    "duration": 363,
    "start_time": "2022-02-09T13:57:04.807Z"
   },
   {
    "duration": 21,
    "start_time": "2022-02-09T13:57:05.172Z"
   },
   {
    "duration": 38,
    "start_time": "2022-02-09T13:57:05.195Z"
   },
   {
    "duration": 3,
    "start_time": "2022-02-09T13:57:05.236Z"
   },
   {
    "duration": 28,
    "start_time": "2022-02-09T13:57:05.241Z"
   },
   {
    "duration": 7,
    "start_time": "2022-02-09T13:57:05.271Z"
   },
   {
    "duration": 1230,
    "start_time": "2022-02-09T13:58:45.068Z"
   },
   {
    "duration": 919,
    "start_time": "2022-02-09T13:58:46.301Z"
   },
   {
    "duration": 21,
    "start_time": "2022-02-09T13:58:47.223Z"
   },
   {
    "duration": 27,
    "start_time": "2022-02-09T13:58:47.247Z"
   },
   {
    "duration": 34,
    "start_time": "2022-02-09T13:58:47.276Z"
   },
   {
    "duration": 277,
    "start_time": "2022-02-09T13:58:47.313Z"
   },
   {
    "duration": 22,
    "start_time": "2022-02-09T13:58:47.592Z"
   },
   {
    "duration": 7,
    "start_time": "2022-02-09T13:58:47.617Z"
   },
   {
    "duration": 416,
    "start_time": "2022-02-09T13:58:47.626Z"
   },
   {
    "duration": 5,
    "start_time": "2022-02-09T13:58:48.044Z"
   },
   {
    "duration": 13,
    "start_time": "2022-02-09T13:58:48.050Z"
   },
   {
    "duration": 12,
    "start_time": "2022-02-09T13:58:48.065Z"
   },
   {
    "duration": 28,
    "start_time": "2022-02-09T13:58:48.079Z"
   },
   {
    "duration": 5,
    "start_time": "2022-02-09T13:58:48.109Z"
   },
   {
    "duration": 17,
    "start_time": "2022-02-09T13:58:48.116Z"
   },
   {
    "duration": 11,
    "start_time": "2022-02-09T13:58:48.135Z"
   },
   {
    "duration": 6,
    "start_time": "2022-02-09T13:58:48.148Z"
   },
   {
    "duration": 7,
    "start_time": "2022-02-09T13:58:48.156Z"
   },
   {
    "duration": 387,
    "start_time": "2022-02-09T13:58:48.166Z"
   },
   {
    "duration": 360,
    "start_time": "2022-02-09T13:58:48.554Z"
   },
   {
    "duration": 366,
    "start_time": "2022-02-09T13:58:48.916Z"
   },
   {
    "duration": 5,
    "start_time": "2022-02-09T13:58:49.284Z"
   },
   {
    "duration": 17,
    "start_time": "2022-02-09T13:58:49.292Z"
   },
   {
    "duration": 619,
    "start_time": "2022-02-09T13:58:49.312Z"
   },
   {
    "duration": 754,
    "start_time": "2022-02-09T13:58:49.933Z"
   },
   {
    "duration": 4,
    "start_time": "2022-02-09T13:58:50.689Z"
   },
   {
    "duration": 24,
    "start_time": "2022-02-09T13:58:50.695Z"
   },
   {
    "duration": 22,
    "start_time": "2022-02-09T13:58:50.721Z"
   },
   {
    "duration": 388,
    "start_time": "2022-02-09T13:58:50.745Z"
   },
   {
    "duration": 25,
    "start_time": "2022-02-09T13:58:51.136Z"
   },
   {
    "duration": 46,
    "start_time": "2022-02-09T13:58:51.163Z"
   },
   {
    "duration": 4,
    "start_time": "2022-02-09T13:58:51.212Z"
   },
   {
    "duration": 59,
    "start_time": "2022-02-09T13:58:51.219Z"
   },
   {
    "duration": 5,
    "start_time": "2022-02-09T13:58:51.281Z"
   },
   {
    "duration": 1283,
    "start_time": "2022-02-09T14:14:32.126Z"
   },
   {
    "duration": 1203,
    "start_time": "2022-02-09T14:14:33.412Z"
   },
   {
    "duration": 29,
    "start_time": "2022-02-09T14:14:34.622Z"
   },
   {
    "duration": 62,
    "start_time": "2022-02-09T14:14:34.654Z"
   },
   {
    "duration": 5,
    "start_time": "2022-02-09T14:14:34.719Z"
   },
   {
    "duration": 273,
    "start_time": "2022-02-09T14:14:34.726Z"
   },
   {
    "duration": 9,
    "start_time": "2022-02-09T14:14:35.007Z"
   },
   {
    "duration": 8,
    "start_time": "2022-02-09T14:14:35.019Z"
   },
   {
    "duration": 494,
    "start_time": "2022-02-09T14:14:35.029Z"
   },
   {
    "duration": 5,
    "start_time": "2022-02-09T14:14:35.525Z"
   },
   {
    "duration": 12,
    "start_time": "2022-02-09T14:14:35.532Z"
   },
   {
    "duration": 13,
    "start_time": "2022-02-09T14:14:35.547Z"
   },
   {
    "duration": 11,
    "start_time": "2022-02-09T14:14:35.562Z"
   },
   {
    "duration": 29,
    "start_time": "2022-02-09T14:14:35.575Z"
   },
   {
    "duration": 32,
    "start_time": "2022-02-09T14:14:35.608Z"
   },
   {
    "duration": 11,
    "start_time": "2022-02-09T14:14:35.642Z"
   },
   {
    "duration": 10,
    "start_time": "2022-02-09T14:14:35.655Z"
   },
   {
    "duration": 32,
    "start_time": "2022-02-09T14:14:35.667Z"
   },
   {
    "duration": 435,
    "start_time": "2022-02-09T14:14:35.701Z"
   },
   {
    "duration": 372,
    "start_time": "2022-02-09T14:14:36.138Z"
   },
   {
    "duration": 382,
    "start_time": "2022-02-09T14:14:36.512Z"
   },
   {
    "duration": 9,
    "start_time": "2022-02-09T14:14:36.899Z"
   },
   {
    "duration": 15,
    "start_time": "2022-02-09T14:14:36.911Z"
   },
   {
    "duration": 621,
    "start_time": "2022-02-09T14:14:36.928Z"
   },
   {
    "duration": 751,
    "start_time": "2022-02-09T14:14:37.552Z"
   },
   {
    "duration": 5,
    "start_time": "2022-02-09T14:14:38.307Z"
   },
   {
    "duration": 20,
    "start_time": "2022-02-09T14:14:38.314Z"
   },
   {
    "duration": 30,
    "start_time": "2022-02-09T14:14:38.336Z"
   },
   {
    "duration": 394,
    "start_time": "2022-02-09T14:14:38.368Z"
   },
   {
    "duration": 23,
    "start_time": "2022-02-09T14:14:38.764Z"
   },
   {
    "duration": 44,
    "start_time": "2022-02-09T14:14:38.789Z"
   },
   {
    "duration": 5,
    "start_time": "2022-02-09T14:14:38.835Z"
   },
   {
    "duration": 35,
    "start_time": "2022-02-09T14:14:38.842Z"
   },
   {
    "duration": 5,
    "start_time": "2022-02-09T14:14:38.880Z"
   },
   {
    "duration": 1329,
    "start_time": "2022-02-09T16:56:01.125Z"
   },
   {
    "duration": 792,
    "start_time": "2022-02-09T16:56:02.457Z"
   },
   {
    "duration": 20,
    "start_time": "2022-02-09T16:56:03.254Z"
   },
   {
    "duration": 45,
    "start_time": "2022-02-09T16:56:03.276Z"
   },
   {
    "duration": 6,
    "start_time": "2022-02-09T16:56:03.323Z"
   },
   {
    "duration": 268,
    "start_time": "2022-02-09T16:56:03.331Z"
   },
   {
    "duration": 9,
    "start_time": "2022-02-09T16:56:03.606Z"
   },
   {
    "duration": 7,
    "start_time": "2022-02-09T16:56:03.617Z"
   },
   {
    "duration": 366,
    "start_time": "2022-02-09T16:56:03.626Z"
   },
   {
    "duration": 13,
    "start_time": "2022-02-09T16:56:03.994Z"
   },
   {
    "duration": 5,
    "start_time": "2022-02-09T16:56:04.010Z"
   },
   {
    "duration": 12,
    "start_time": "2022-02-09T16:56:04.017Z"
   },
   {
    "duration": 9,
    "start_time": "2022-02-09T16:56:04.031Z"
   },
   {
    "duration": 7,
    "start_time": "2022-02-09T16:56:04.042Z"
   },
   {
    "duration": 20,
    "start_time": "2022-02-09T16:56:04.051Z"
   },
   {
    "duration": 37,
    "start_time": "2022-02-09T16:56:04.073Z"
   },
   {
    "duration": 7,
    "start_time": "2022-02-09T16:56:04.113Z"
   },
   {
    "duration": 6,
    "start_time": "2022-02-09T16:56:04.122Z"
   },
   {
    "duration": 371,
    "start_time": "2022-02-09T16:56:04.130Z"
   },
   {
    "duration": 363,
    "start_time": "2022-02-09T16:56:04.504Z"
   },
   {
    "duration": 376,
    "start_time": "2022-02-09T16:56:04.869Z"
   },
   {
    "duration": 4,
    "start_time": "2022-02-09T16:56:05.250Z"
   },
   {
    "duration": 7,
    "start_time": "2022-02-09T16:56:05.257Z"
   },
   {
    "duration": 622,
    "start_time": "2022-02-09T16:56:05.266Z"
   },
   {
    "duration": 706,
    "start_time": "2022-02-09T16:56:05.890Z"
   },
   {
    "duration": 10,
    "start_time": "2022-02-09T16:56:06.598Z"
   },
   {
    "duration": 16,
    "start_time": "2022-02-09T16:56:06.610Z"
   },
   {
    "duration": 22,
    "start_time": "2022-02-09T16:56:06.628Z"
   },
   {
    "duration": 380,
    "start_time": "2022-02-09T16:56:06.651Z"
   },
   {
    "duration": 21,
    "start_time": "2022-02-09T16:56:07.032Z"
   },
   {
    "duration": 23,
    "start_time": "2022-02-09T16:56:07.055Z"
   },
   {
    "duration": 28,
    "start_time": "2022-02-09T16:56:07.080Z"
   },
   {
    "duration": 23,
    "start_time": "2022-02-09T16:56:07.110Z"
   },
   {
    "duration": 4,
    "start_time": "2022-02-09T16:56:07.135Z"
   },
   {
    "duration": 78,
    "start_time": "2022-02-09T16:58:12.445Z"
   },
   {
    "duration": 4,
    "start_time": "2022-02-09T17:03:27.537Z"
   },
   {
    "duration": 3,
    "start_time": "2022-02-09T17:07:10.332Z"
   },
   {
    "duration": 4,
    "start_time": "2022-02-09T17:09:18.775Z"
   },
   {
    "duration": 4,
    "start_time": "2022-02-09T17:09:40.806Z"
   },
   {
    "duration": 3,
    "start_time": "2022-02-09T17:09:41.590Z"
   },
   {
    "duration": 4,
    "start_time": "2022-02-09T17:10:18.030Z"
   },
   {
    "duration": 1211,
    "start_time": "2022-02-09T17:36:47.021Z"
   },
   {
    "duration": 741,
    "start_time": "2022-02-09T17:36:48.234Z"
   },
   {
    "duration": 19,
    "start_time": "2022-02-09T17:36:48.977Z"
   },
   {
    "duration": 26,
    "start_time": "2022-02-09T17:36:49.007Z"
   },
   {
    "duration": 4,
    "start_time": "2022-02-09T17:36:49.035Z"
   },
   {
    "duration": 267,
    "start_time": "2022-02-09T17:36:49.041Z"
   },
   {
    "duration": 9,
    "start_time": "2022-02-09T17:36:49.311Z"
   },
   {
    "duration": 4,
    "start_time": "2022-02-09T17:36:49.323Z"
   },
   {
    "duration": 372,
    "start_time": "2022-02-09T17:36:49.330Z"
   },
   {
    "duration": 5,
    "start_time": "2022-02-09T17:36:49.708Z"
   },
   {
    "duration": 7,
    "start_time": "2022-02-09T17:36:49.716Z"
   },
   {
    "duration": 13,
    "start_time": "2022-02-09T17:36:49.725Z"
   },
   {
    "duration": 7,
    "start_time": "2022-02-09T17:36:49.741Z"
   },
   {
    "duration": 9,
    "start_time": "2022-02-09T17:36:49.750Z"
   },
   {
    "duration": 16,
    "start_time": "2022-02-09T17:36:49.761Z"
   },
   {
    "duration": 35,
    "start_time": "2022-02-09T17:36:49.779Z"
   },
   {
    "duration": 7,
    "start_time": "2022-02-09T17:36:49.816Z"
   },
   {
    "duration": 7,
    "start_time": "2022-02-09T17:36:49.825Z"
   },
   {
    "duration": 373,
    "start_time": "2022-02-09T17:36:49.834Z"
   },
   {
    "duration": 354,
    "start_time": "2022-02-09T17:36:50.209Z"
   },
   {
    "duration": 382,
    "start_time": "2022-02-09T17:36:50.565Z"
   },
   {
    "duration": 6,
    "start_time": "2022-02-09T17:36:50.950Z"
   },
   {
    "duration": 6,
    "start_time": "2022-02-09T17:36:50.959Z"
   },
   {
    "duration": 643,
    "start_time": "2022-02-09T17:36:50.967Z"
   },
   {
    "duration": 806,
    "start_time": "2022-02-09T17:36:51.612Z"
   },
   {
    "duration": 4,
    "start_time": "2022-02-09T17:36:52.420Z"
   },
   {
    "duration": 16,
    "start_time": "2022-02-09T17:36:52.426Z"
   },
   {
    "duration": 23,
    "start_time": "2022-02-09T17:36:52.444Z"
   },
   {
    "duration": 394,
    "start_time": "2022-02-09T17:36:52.468Z"
   },
   {
    "duration": 21,
    "start_time": "2022-02-09T17:36:52.864Z"
   },
   {
    "duration": 38,
    "start_time": "2022-02-09T17:36:52.887Z"
   },
   {
    "duration": 4,
    "start_time": "2022-02-09T17:36:52.928Z"
   },
   {
    "duration": 22,
    "start_time": "2022-02-09T17:36:52.934Z"
   },
   {
    "duration": 3,
    "start_time": "2022-02-09T17:36:52.958Z"
   },
   {
    "duration": 12,
    "start_time": "2022-02-09T17:36:52.964Z"
   },
   {
    "duration": 31,
    "start_time": "2022-02-09T17:36:52.978Z"
   },
   {
    "duration": 1160,
    "start_time": "2022-02-10T06:58:12.134Z"
   },
   {
    "duration": 734,
    "start_time": "2022-02-10T06:58:13.296Z"
   },
   {
    "duration": 19,
    "start_time": "2022-02-10T06:58:14.032Z"
   },
   {
    "duration": 25,
    "start_time": "2022-02-10T06:58:14.053Z"
   },
   {
    "duration": 30,
    "start_time": "2022-02-10T06:58:14.080Z"
   },
   {
    "duration": 242,
    "start_time": "2022-02-10T06:58:14.112Z"
   },
   {
    "duration": 9,
    "start_time": "2022-02-10T06:58:14.356Z"
   },
   {
    "duration": 13,
    "start_time": "2022-02-10T06:58:14.367Z"
   },
   {
    "duration": 373,
    "start_time": "2022-02-10T06:58:14.382Z"
   },
   {
    "duration": 4,
    "start_time": "2022-02-10T06:58:14.757Z"
   },
   {
    "duration": 10,
    "start_time": "2022-02-10T06:58:14.763Z"
   },
   {
    "duration": 13,
    "start_time": "2022-02-10T06:58:14.774Z"
   },
   {
    "duration": 4,
    "start_time": "2022-02-10T06:58:14.808Z"
   },
   {
    "duration": 11,
    "start_time": "2022-02-10T06:58:14.814Z"
   },
   {
    "duration": 22,
    "start_time": "2022-02-10T06:58:14.827Z"
   },
   {
    "duration": 10,
    "start_time": "2022-02-10T06:58:14.851Z"
   },
   {
    "duration": 10,
    "start_time": "2022-02-10T06:58:14.863Z"
   },
   {
    "duration": 31,
    "start_time": "2022-02-10T06:58:14.875Z"
   },
   {
    "duration": 372,
    "start_time": "2022-02-10T06:58:14.908Z"
   },
   {
    "duration": 336,
    "start_time": "2022-02-10T06:58:15.282Z"
   },
   {
    "duration": 373,
    "start_time": "2022-02-10T06:58:15.620Z"
   },
   {
    "duration": 14,
    "start_time": "2022-02-10T06:58:15.995Z"
   },
   {
    "duration": 8,
    "start_time": "2022-02-10T06:58:16.013Z"
   },
   {
    "duration": 606,
    "start_time": "2022-02-10T06:58:16.023Z"
   },
   {
    "duration": 762,
    "start_time": "2022-02-10T06:58:16.631Z"
   },
   {
    "duration": 13,
    "start_time": "2022-02-10T06:58:17.395Z"
   },
   {
    "duration": 18,
    "start_time": "2022-02-10T06:58:17.410Z"
   },
   {
    "duration": 28,
    "start_time": "2022-02-10T06:58:17.430Z"
   },
   {
    "duration": 370,
    "start_time": "2022-02-10T06:58:17.460Z"
   },
   {
    "duration": 23,
    "start_time": "2022-02-10T06:58:17.832Z"
   },
   {
    "duration": 20,
    "start_time": "2022-02-10T06:58:17.858Z"
   },
   {
    "duration": 5,
    "start_time": "2022-02-10T06:58:17.908Z"
   },
   {
    "duration": 22,
    "start_time": "2022-02-10T06:58:17.916Z"
   },
   {
    "duration": 4,
    "start_time": "2022-02-10T06:58:17.940Z"
   },
   {
    "duration": 11,
    "start_time": "2022-02-10T06:58:17.947Z"
   },
   {
    "duration": 9,
    "start_time": "2022-02-10T06:58:17.960Z"
   },
   {
    "duration": 1331,
    "start_time": "2022-02-10T07:01:41.076Z"
   },
   {
    "duration": 719,
    "start_time": "2022-02-10T07:01:42.410Z"
   },
   {
    "duration": 20,
    "start_time": "2022-02-10T07:01:43.132Z"
   },
   {
    "duration": 25,
    "start_time": "2022-02-10T07:01:43.154Z"
   },
   {
    "duration": 30,
    "start_time": "2022-02-10T07:01:43.181Z"
   },
   {
    "duration": 246,
    "start_time": "2022-02-10T07:01:43.214Z"
   },
   {
    "duration": 9,
    "start_time": "2022-02-10T07:01:43.462Z"
   },
   {
    "duration": 6,
    "start_time": "2022-02-10T07:01:43.475Z"
   },
   {
    "duration": 385,
    "start_time": "2022-02-10T07:01:43.484Z"
   },
   {
    "duration": 6,
    "start_time": "2022-02-10T07:01:43.872Z"
   },
   {
    "duration": 7,
    "start_time": "2022-02-10T07:01:43.880Z"
   },
   {
    "duration": 9,
    "start_time": "2022-02-10T07:01:43.908Z"
   },
   {
    "duration": 10,
    "start_time": "2022-02-10T07:01:43.920Z"
   },
   {
    "duration": 13,
    "start_time": "2022-02-10T07:01:43.932Z"
   },
   {
    "duration": 20,
    "start_time": "2022-02-10T07:01:43.947Z"
   },
   {
    "duration": 11,
    "start_time": "2022-02-10T07:01:43.969Z"
   },
   {
    "duration": 27,
    "start_time": "2022-02-10T07:01:43.982Z"
   },
   {
    "duration": 6,
    "start_time": "2022-02-10T07:01:44.012Z"
   },
   {
    "duration": 358,
    "start_time": "2022-02-10T07:01:44.020Z"
   },
   {
    "duration": 347,
    "start_time": "2022-02-10T07:01:44.380Z"
   },
   {
    "duration": 390,
    "start_time": "2022-02-10T07:01:44.729Z"
   },
   {
    "duration": 5,
    "start_time": "2022-02-10T07:01:45.121Z"
   },
   {
    "duration": 13,
    "start_time": "2022-02-10T07:01:45.130Z"
   },
   {
    "duration": 613,
    "start_time": "2022-02-10T07:01:45.146Z"
   },
   {
    "duration": 715,
    "start_time": "2022-02-10T07:01:45.761Z"
   },
   {
    "duration": 4,
    "start_time": "2022-02-10T07:01:46.478Z"
   },
   {
    "duration": 27,
    "start_time": "2022-02-10T07:01:46.484Z"
   },
   {
    "duration": 25,
    "start_time": "2022-02-10T07:01:46.512Z"
   },
   {
    "duration": 375,
    "start_time": "2022-02-10T07:01:46.538Z"
   },
   {
    "duration": 21,
    "start_time": "2022-02-10T07:01:46.915Z"
   },
   {
    "duration": 21,
    "start_time": "2022-02-10T07:01:46.938Z"
   },
   {
    "duration": 13,
    "start_time": "2022-02-10T07:01:46.961Z"
   },
   {
    "duration": 39,
    "start_time": "2022-02-10T07:01:46.977Z"
   },
   {
    "duration": 4,
    "start_time": "2022-02-10T07:01:47.018Z"
   },
   {
    "duration": 20,
    "start_time": "2022-02-10T07:01:47.024Z"
   },
   {
    "duration": 11,
    "start_time": "2022-02-10T07:01:47.046Z"
   },
   {
    "duration": 12,
    "start_time": "2022-02-10T07:27:45.121Z"
   },
   {
    "duration": 14,
    "start_time": "2022-02-10T07:28:09.914Z"
   },
   {
    "duration": 306,
    "start_time": "2022-02-10T07:43:28.633Z"
   },
   {
    "duration": 26,
    "start_time": "2022-02-10T07:43:39.473Z"
   },
   {
    "duration": 32,
    "start_time": "2022-02-10T07:43:41.925Z"
   },
   {
    "duration": 3,
    "start_time": "2022-02-10T07:47:26.155Z"
   },
   {
    "duration": 3,
    "start_time": "2022-02-10T07:52:48.572Z"
   },
   {
    "duration": 11,
    "start_time": "2022-02-10T07:52:49.567Z"
   },
   {
    "duration": 29,
    "start_time": "2022-02-10T07:55:54.584Z"
   },
   {
    "duration": 1286,
    "start_time": "2022-02-10T07:56:00.838Z"
   },
   {
    "duration": 760,
    "start_time": "2022-02-10T07:56:02.127Z"
   },
   {
    "duration": 27,
    "start_time": "2022-02-10T07:56:02.890Z"
   },
   {
    "duration": 24,
    "start_time": "2022-02-10T07:56:02.919Z"
   },
   {
    "duration": 6,
    "start_time": "2022-02-10T07:56:02.945Z"
   },
   {
    "duration": 278,
    "start_time": "2022-02-10T07:56:02.953Z"
   },
   {
    "duration": 8,
    "start_time": "2022-02-10T07:56:03.233Z"
   },
   {
    "duration": 36,
    "start_time": "2022-02-10T07:56:03.244Z"
   },
   {
    "duration": 366,
    "start_time": "2022-02-10T07:56:03.283Z"
   },
   {
    "duration": 5,
    "start_time": "2022-02-10T07:56:03.651Z"
   },
   {
    "duration": 21,
    "start_time": "2022-02-10T07:56:03.658Z"
   },
   {
    "duration": 26,
    "start_time": "2022-02-10T07:56:03.682Z"
   },
   {
    "duration": 11,
    "start_time": "2022-02-10T07:56:03.710Z"
   },
   {
    "duration": 10,
    "start_time": "2022-02-10T07:56:03.723Z"
   },
   {
    "duration": 22,
    "start_time": "2022-02-10T07:56:03.735Z"
   },
   {
    "duration": 10,
    "start_time": "2022-02-10T07:56:03.759Z"
   },
   {
    "duration": 14,
    "start_time": "2022-02-10T07:56:03.771Z"
   },
   {
    "duration": 13,
    "start_time": "2022-02-10T07:56:03.787Z"
   },
   {
    "duration": 370,
    "start_time": "2022-02-10T07:56:03.808Z"
   },
   {
    "duration": 349,
    "start_time": "2022-02-10T07:56:04.180Z"
   },
   {
    "duration": 391,
    "start_time": "2022-02-10T07:56:04.531Z"
   },
   {
    "duration": 5,
    "start_time": "2022-02-10T07:56:04.924Z"
   },
   {
    "duration": 5,
    "start_time": "2022-02-10T07:56:04.933Z"
   },
   {
    "duration": 600,
    "start_time": "2022-02-10T07:56:04.940Z"
   },
   {
    "duration": 704,
    "start_time": "2022-02-10T07:56:05.542Z"
   },
   {
    "duration": 4,
    "start_time": "2022-02-10T07:56:06.249Z"
   },
   {
    "duration": 38,
    "start_time": "2022-02-10T07:56:06.255Z"
   },
   {
    "duration": 32,
    "start_time": "2022-02-10T07:56:06.295Z"
   },
   {
    "duration": 367,
    "start_time": "2022-02-10T07:56:06.329Z"
   },
   {
    "duration": 28,
    "start_time": "2022-02-10T07:56:06.698Z"
   },
   {
    "duration": 21,
    "start_time": "2022-02-10T07:56:06.727Z"
   },
   {
    "duration": 16,
    "start_time": "2022-02-10T07:56:06.750Z"
   },
   {
    "duration": 41,
    "start_time": "2022-02-10T07:56:06.768Z"
   },
   {
    "duration": 4,
    "start_time": "2022-02-10T07:56:06.811Z"
   },
   {
    "duration": 10,
    "start_time": "2022-02-10T07:56:06.818Z"
   },
   {
    "duration": 10,
    "start_time": "2022-02-10T07:56:06.830Z"
   },
   {
    "duration": 9,
    "start_time": "2022-02-10T07:56:06.842Z"
   },
   {
    "duration": 15,
    "start_time": "2022-02-10T07:56:06.853Z"
   },
   {
    "duration": 40,
    "start_time": "2022-02-10T07:56:06.871Z"
   },
   {
    "duration": 11,
    "start_time": "2022-02-10T07:56:06.913Z"
   },
   {
    "duration": 10,
    "start_time": "2022-02-10T07:56:06.926Z"
   },
   {
    "duration": 310,
    "start_time": "2022-02-10T07:56:45.423Z"
   },
   {
    "duration": 7,
    "start_time": "2022-02-10T07:57:10.590Z"
   },
   {
    "duration": 533,
    "start_time": "2022-02-10T07:57:54.149Z"
   },
   {
    "duration": 312,
    "start_time": "2022-02-10T07:58:14.044Z"
   },
   {
    "duration": 505,
    "start_time": "2022-02-10T07:58:33.318Z"
   },
   {
    "duration": 391,
    "start_time": "2022-02-10T07:59:16.081Z"
   },
   {
    "duration": 472,
    "start_time": "2022-02-10T08:00:51.365Z"
   },
   {
    "duration": 33,
    "start_time": "2022-02-10T08:01:41.616Z"
   },
   {
    "duration": 410,
    "start_time": "2022-02-10T08:03:22.057Z"
   },
   {
    "duration": 1237,
    "start_time": "2022-02-10T08:04:04.556Z"
   },
   {
    "duration": 769,
    "start_time": "2022-02-10T08:04:05.796Z"
   },
   {
    "duration": 19,
    "start_time": "2022-02-10T08:04:06.568Z"
   },
   {
    "duration": 39,
    "start_time": "2022-02-10T08:04:06.589Z"
   },
   {
    "duration": 4,
    "start_time": "2022-02-10T08:04:06.631Z"
   },
   {
    "duration": 262,
    "start_time": "2022-02-10T08:04:06.637Z"
   },
   {
    "duration": 15,
    "start_time": "2022-02-10T08:04:06.901Z"
   },
   {
    "duration": 13,
    "start_time": "2022-02-10T08:04:06.920Z"
   },
   {
    "duration": 371,
    "start_time": "2022-02-10T08:04:06.936Z"
   },
   {
    "duration": 5,
    "start_time": "2022-02-10T08:04:07.309Z"
   },
   {
    "duration": 29,
    "start_time": "2022-02-10T08:04:07.316Z"
   },
   {
    "duration": 22,
    "start_time": "2022-02-10T08:04:07.347Z"
   },
   {
    "duration": 17,
    "start_time": "2022-02-10T08:04:07.371Z"
   },
   {
    "duration": 36,
    "start_time": "2022-02-10T08:04:07.389Z"
   },
   {
    "duration": 33,
    "start_time": "2022-02-10T08:04:07.427Z"
   },
   {
    "duration": 12,
    "start_time": "2022-02-10T08:04:07.462Z"
   },
   {
    "duration": 28,
    "start_time": "2022-02-10T08:04:07.476Z"
   },
   {
    "duration": 18,
    "start_time": "2022-02-10T08:04:07.505Z"
   },
   {
    "duration": 378,
    "start_time": "2022-02-10T08:04:07.525Z"
   },
   {
    "duration": 352,
    "start_time": "2022-02-10T08:04:07.905Z"
   },
   {
    "duration": 367,
    "start_time": "2022-02-10T08:04:08.259Z"
   },
   {
    "duration": 5,
    "start_time": "2022-02-10T08:04:08.629Z"
   },
   {
    "duration": 21,
    "start_time": "2022-02-10T08:04:08.639Z"
   },
   {
    "duration": 631,
    "start_time": "2022-02-10T08:04:08.663Z"
   },
   {
    "duration": 716,
    "start_time": "2022-02-10T08:04:09.296Z"
   },
   {
    "duration": 4,
    "start_time": "2022-02-10T08:04:10.014Z"
   },
   {
    "duration": 31,
    "start_time": "2022-02-10T08:04:10.021Z"
   },
   {
    "duration": 33,
    "start_time": "2022-02-10T08:04:10.054Z"
   },
   {
    "duration": 377,
    "start_time": "2022-02-10T08:04:10.089Z"
   },
   {
    "duration": 22,
    "start_time": "2022-02-10T08:04:10.469Z"
   },
   {
    "duration": 20,
    "start_time": "2022-02-10T08:04:10.508Z"
   },
   {
    "duration": 3,
    "start_time": "2022-02-10T08:04:10.530Z"
   },
   {
    "duration": 23,
    "start_time": "2022-02-10T08:04:10.535Z"
   },
   {
    "duration": 3,
    "start_time": "2022-02-10T08:04:10.561Z"
   },
   {
    "duration": 11,
    "start_time": "2022-02-10T08:04:10.566Z"
   },
   {
    "duration": 30,
    "start_time": "2022-02-10T08:04:10.580Z"
   },
   {
    "duration": 9,
    "start_time": "2022-02-10T08:04:10.613Z"
   },
   {
    "duration": 7,
    "start_time": "2022-02-10T08:04:10.624Z"
   },
   {
    "duration": 519,
    "start_time": "2022-02-10T08:04:10.633Z"
   },
   {
    "duration": -5939,
    "start_time": "2022-02-10T08:04:17.093Z"
   },
   {
    "duration": -5942,
    "start_time": "2022-02-10T08:04:17.098Z"
   },
   {
    "duration": 37,
    "start_time": "2022-02-10T08:05:24.027Z"
   },
   {
    "duration": 17,
    "start_time": "2022-02-10T08:05:37.251Z"
   },
   {
    "duration": 4,
    "start_time": "2022-02-10T08:06:11.224Z"
   },
   {
    "duration": 33,
    "start_time": "2022-02-10T08:06:48.541Z"
   },
   {
    "duration": 12,
    "start_time": "2022-02-10T08:06:58.222Z"
   },
   {
    "duration": 89,
    "start_time": "2022-02-10T08:18:21.398Z"
   },
   {
    "duration": 38,
    "start_time": "2022-02-10T08:18:26.005Z"
   },
   {
    "duration": 29,
    "start_time": "2022-02-10T08:18:54.194Z"
   },
   {
    "duration": 81,
    "start_time": "2022-02-10T08:19:22.147Z"
   },
   {
    "duration": 6153,
    "start_time": "2022-02-10T08:19:28.299Z"
   },
   {
    "duration": 12,
    "start_time": "2022-02-10T08:19:58.335Z"
   },
   {
    "duration": 69,
    "start_time": "2022-02-10T08:20:21.628Z"
   },
   {
    "duration": 212,
    "start_time": "2022-02-10T08:20:28.196Z"
   },
   {
    "duration": 61,
    "start_time": "2022-02-10T08:21:04.040Z"
   },
   {
    "duration": 1153,
    "start_time": "2022-02-10T08:24:04.160Z"
   },
   {
    "duration": 779,
    "start_time": "2022-02-10T08:24:05.315Z"
   },
   {
    "duration": 27,
    "start_time": "2022-02-10T08:24:06.096Z"
   },
   {
    "duration": 24,
    "start_time": "2022-02-10T08:24:06.125Z"
   },
   {
    "duration": 23,
    "start_time": "2022-02-10T08:24:06.151Z"
   },
   {
    "duration": 265,
    "start_time": "2022-02-10T08:24:06.176Z"
   },
   {
    "duration": 8,
    "start_time": "2022-02-10T08:24:06.443Z"
   },
   {
    "duration": 36,
    "start_time": "2022-02-10T08:24:06.454Z"
   },
   {
    "duration": 380,
    "start_time": "2022-02-10T08:24:06.493Z"
   },
   {
    "duration": 5,
    "start_time": "2022-02-10T08:24:06.875Z"
   },
   {
    "duration": 20,
    "start_time": "2022-02-10T08:24:06.882Z"
   },
   {
    "duration": 16,
    "start_time": "2022-02-10T08:24:06.904Z"
   },
   {
    "duration": 12,
    "start_time": "2022-02-10T08:24:06.923Z"
   },
   {
    "duration": 23,
    "start_time": "2022-02-10T08:24:06.937Z"
   },
   {
    "duration": 23,
    "start_time": "2022-02-10T08:24:06.962Z"
   },
   {
    "duration": 3,
    "start_time": "2022-02-10T08:24:06.987Z"
   },
   {
    "duration": 12,
    "start_time": "2022-02-10T08:24:06.992Z"
   },
   {
    "duration": 15,
    "start_time": "2022-02-10T08:24:07.006Z"
   },
   {
    "duration": 356,
    "start_time": "2022-02-10T08:24:07.023Z"
   },
   {
    "duration": 352,
    "start_time": "2022-02-10T08:24:07.381Z"
   },
   {
    "duration": 375,
    "start_time": "2022-02-10T08:24:07.735Z"
   },
   {
    "duration": 5,
    "start_time": "2022-02-10T08:24:08.112Z"
   },
   {
    "duration": 4,
    "start_time": "2022-02-10T08:24:08.121Z"
   },
   {
    "duration": 613,
    "start_time": "2022-02-10T08:24:08.128Z"
   },
   {
    "duration": 721,
    "start_time": "2022-02-10T08:24:08.743Z"
   },
   {
    "duration": 4,
    "start_time": "2022-02-10T08:24:09.466Z"
   },
   {
    "duration": 16,
    "start_time": "2022-02-10T08:24:09.472Z"
   },
   {
    "duration": 39,
    "start_time": "2022-02-10T08:24:09.490Z"
   },
   {
    "duration": 383,
    "start_time": "2022-02-10T08:24:09.532Z"
   },
   {
    "duration": 22,
    "start_time": "2022-02-10T08:24:09.917Z"
   },
   {
    "duration": 20,
    "start_time": "2022-02-10T08:24:09.941Z"
   },
   {
    "duration": 4,
    "start_time": "2022-02-10T08:24:09.963Z"
   },
   {
    "duration": 51,
    "start_time": "2022-02-10T08:24:09.969Z"
   },
   {
    "duration": 27,
    "start_time": "2022-02-10T08:24:10.022Z"
   },
   {
    "duration": 14,
    "start_time": "2022-02-10T08:24:10.052Z"
   },
   {
    "duration": 11,
    "start_time": "2022-02-10T08:24:10.068Z"
   },
   {
    "duration": 14,
    "start_time": "2022-02-10T08:24:10.081Z"
   },
   {
    "duration": 8,
    "start_time": "2022-02-10T08:24:10.097Z"
   },
   {
    "duration": 13,
    "start_time": "2022-02-10T08:24:10.107Z"
   },
   {
    "duration": 20,
    "start_time": "2022-02-10T08:24:10.122Z"
   },
   {
    "duration": 14,
    "start_time": "2022-02-10T08:24:10.144Z"
   },
   {
    "duration": 53,
    "start_time": "2022-02-10T08:24:10.160Z"
   },
   {
    "duration": 7,
    "start_time": "2022-02-10T08:24:10.215Z"
   },
   {
    "duration": 9,
    "start_time": "2022-02-10T08:24:10.224Z"
   },
   {
    "duration": 1187,
    "start_time": "2022-02-10T08:24:45.227Z"
   },
   {
    "duration": 781,
    "start_time": "2022-02-10T08:24:46.416Z"
   },
   {
    "duration": 22,
    "start_time": "2022-02-10T08:24:47.199Z"
   },
   {
    "duration": 30,
    "start_time": "2022-02-10T08:24:47.224Z"
   },
   {
    "duration": 6,
    "start_time": "2022-02-10T08:24:47.256Z"
   },
   {
    "duration": 265,
    "start_time": "2022-02-10T08:24:47.264Z"
   },
   {
    "duration": 8,
    "start_time": "2022-02-10T08:24:47.532Z"
   },
   {
    "duration": 21,
    "start_time": "2022-02-10T08:24:47.544Z"
   },
   {
    "duration": 372,
    "start_time": "2022-02-10T08:24:47.568Z"
   },
   {
    "duration": 6,
    "start_time": "2022-02-10T08:24:47.943Z"
   },
   {
    "duration": 16,
    "start_time": "2022-02-10T08:24:47.951Z"
   },
   {
    "duration": 37,
    "start_time": "2022-02-10T08:24:47.969Z"
   },
   {
    "duration": 24,
    "start_time": "2022-02-10T08:24:48.008Z"
   },
   {
    "duration": 18,
    "start_time": "2022-02-10T08:24:48.034Z"
   },
   {
    "duration": 20,
    "start_time": "2022-02-10T08:24:48.055Z"
   },
   {
    "duration": 4,
    "start_time": "2022-02-10T08:24:48.076Z"
   },
   {
    "duration": 9,
    "start_time": "2022-02-10T08:24:48.082Z"
   },
   {
    "duration": 345,
    "start_time": "2022-02-10T08:24:48.093Z"
   },
   {
    "duration": 340,
    "start_time": "2022-02-10T08:24:48.440Z"
   },
   {
    "duration": 360,
    "start_time": "2022-02-10T08:24:48.782Z"
   },
   {
    "duration": 5,
    "start_time": "2022-02-10T08:24:49.143Z"
   },
   {
    "duration": 15,
    "start_time": "2022-02-10T08:24:49.150Z"
   },
   {
    "duration": 584,
    "start_time": "2022-02-10T08:24:49.168Z"
   },
   {
    "duration": 689,
    "start_time": "2022-02-10T08:24:49.755Z"
   },
   {
    "duration": 4,
    "start_time": "2022-02-10T08:24:50.446Z"
   },
   {
    "duration": 19,
    "start_time": "2022-02-10T08:24:50.452Z"
   },
   {
    "duration": 39,
    "start_time": "2022-02-10T08:24:50.474Z"
   },
   {
    "duration": 377,
    "start_time": "2022-02-10T08:24:50.515Z"
   },
   {
    "duration": 28,
    "start_time": "2022-02-10T08:24:50.895Z"
   },
   {
    "duration": 21,
    "start_time": "2022-02-10T08:24:50.925Z"
   },
   {
    "duration": 5,
    "start_time": "2022-02-10T08:24:50.948Z"
   },
   {
    "duration": 52,
    "start_time": "2022-02-10T08:24:50.955Z"
   },
   {
    "duration": 5,
    "start_time": "2022-02-10T08:24:51.009Z"
   },
   {
    "duration": 12,
    "start_time": "2022-02-10T08:24:51.016Z"
   },
   {
    "duration": 8,
    "start_time": "2022-02-10T08:24:51.030Z"
   },
   {
    "duration": 9,
    "start_time": "2022-02-10T08:24:51.039Z"
   },
   {
    "duration": 7,
    "start_time": "2022-02-10T08:24:51.050Z"
   },
   {
    "duration": 11,
    "start_time": "2022-02-10T08:24:51.059Z"
   },
   {
    "duration": 36,
    "start_time": "2022-02-10T08:24:51.072Z"
   },
   {
    "duration": 12,
    "start_time": "2022-02-10T08:24:51.110Z"
   },
   {
    "duration": 31,
    "start_time": "2022-02-10T08:24:51.124Z"
   },
   {
    "duration": 6,
    "start_time": "2022-02-10T08:24:51.157Z"
   },
   {
    "duration": 42,
    "start_time": "2022-02-10T08:24:51.165Z"
   },
   {
    "duration": 1277,
    "start_time": "2022-02-10T08:33:30.309Z"
   },
   {
    "duration": 795,
    "start_time": "2022-02-10T08:33:31.588Z"
   },
   {
    "duration": 25,
    "start_time": "2022-02-10T08:33:32.385Z"
   },
   {
    "duration": 27,
    "start_time": "2022-02-10T08:33:32.413Z"
   },
   {
    "duration": 17,
    "start_time": "2022-02-10T08:33:32.443Z"
   },
   {
    "duration": 272,
    "start_time": "2022-02-10T08:33:32.462Z"
   },
   {
    "duration": 7,
    "start_time": "2022-02-10T08:33:32.736Z"
   },
   {
    "duration": 37,
    "start_time": "2022-02-10T08:33:32.746Z"
   },
   {
    "duration": 453,
    "start_time": "2022-02-10T08:33:32.785Z"
   },
   {
    "duration": 5,
    "start_time": "2022-02-10T08:33:33.240Z"
   },
   {
    "duration": 33,
    "start_time": "2022-02-10T08:33:33.247Z"
   },
   {
    "duration": 40,
    "start_time": "2022-02-10T08:33:33.281Z"
   },
   {
    "duration": 44,
    "start_time": "2022-02-10T08:33:33.322Z"
   },
   {
    "duration": 37,
    "start_time": "2022-02-10T08:33:33.368Z"
   },
   {
    "duration": 76,
    "start_time": "2022-02-10T08:33:33.407Z"
   },
   {
    "duration": 25,
    "start_time": "2022-02-10T08:33:33.486Z"
   },
   {
    "duration": 59,
    "start_time": "2022-02-10T08:33:33.513Z"
   },
   {
    "duration": 502,
    "start_time": "2022-02-10T08:33:33.574Z"
   },
   {
    "duration": 425,
    "start_time": "2022-02-10T08:33:34.078Z"
   },
   {
    "duration": 374,
    "start_time": "2022-02-10T08:33:34.505Z"
   },
   {
    "duration": 5,
    "start_time": "2022-02-10T08:33:34.881Z"
   },
   {
    "duration": 45,
    "start_time": "2022-02-10T08:33:34.888Z"
   },
   {
    "duration": 627,
    "start_time": "2022-02-10T08:33:34.938Z"
   },
   {
    "duration": 711,
    "start_time": "2022-02-10T08:33:35.567Z"
   },
   {
    "duration": 4,
    "start_time": "2022-02-10T08:33:36.280Z"
   },
   {
    "duration": 55,
    "start_time": "2022-02-10T08:33:36.285Z"
   },
   {
    "duration": 30,
    "start_time": "2022-02-10T08:33:36.342Z"
   },
   {
    "duration": 364,
    "start_time": "2022-02-10T08:33:36.374Z"
   },
   {
    "duration": 21,
    "start_time": "2022-02-10T08:33:36.740Z"
   },
   {
    "duration": 19,
    "start_time": "2022-02-10T08:33:36.763Z"
   },
   {
    "duration": 27,
    "start_time": "2022-02-10T08:33:36.783Z"
   },
   {
    "duration": 26,
    "start_time": "2022-02-10T08:33:36.812Z"
   },
   {
    "duration": 4,
    "start_time": "2022-02-10T08:33:36.840Z"
   },
   {
    "duration": 14,
    "start_time": "2022-02-10T08:33:36.846Z"
   },
   {
    "duration": 23,
    "start_time": "2022-02-10T08:33:36.862Z"
   },
   {
    "duration": 33,
    "start_time": "2022-02-10T08:33:36.886Z"
   },
   {
    "duration": 3,
    "start_time": "2022-02-10T08:33:36.922Z"
   },
   {
    "duration": 13,
    "start_time": "2022-02-10T08:33:36.927Z"
   },
   {
    "duration": 16,
    "start_time": "2022-02-10T08:33:36.942Z"
   },
   {
    "duration": 10,
    "start_time": "2022-02-10T08:33:36.960Z"
   },
   {
    "duration": 9,
    "start_time": "2022-02-10T08:33:36.972Z"
   },
   {
    "duration": 12,
    "start_time": "2022-02-10T08:33:36.983Z"
   },
   {
    "duration": 10,
    "start_time": "2022-02-10T08:33:36.997Z"
   },
   {
    "duration": 21,
    "start_time": "2022-02-10T08:33:37.009Z"
   },
   {
    "duration": 22,
    "start_time": "2022-02-10T08:33:52.105Z"
   },
   {
    "duration": 421,
    "start_time": "2022-02-10T08:35:03.477Z"
   },
   {
    "duration": 1229,
    "start_time": "2022-02-10T08:35:14.077Z"
   },
   {
    "duration": 824,
    "start_time": "2022-02-10T08:35:15.308Z"
   },
   {
    "duration": 23,
    "start_time": "2022-02-10T08:35:16.135Z"
   },
   {
    "duration": 25,
    "start_time": "2022-02-10T08:35:16.160Z"
   },
   {
    "duration": 4,
    "start_time": "2022-02-10T08:35:16.208Z"
   },
   {
    "duration": 257,
    "start_time": "2022-02-10T08:35:16.214Z"
   },
   {
    "duration": 8,
    "start_time": "2022-02-10T08:35:16.473Z"
   },
   {
    "duration": 22,
    "start_time": "2022-02-10T08:35:16.485Z"
   },
   {
    "duration": 359,
    "start_time": "2022-02-10T08:35:16.510Z"
   },
   {
    "duration": 6,
    "start_time": "2022-02-10T08:35:16.872Z"
   },
   {
    "duration": 20,
    "start_time": "2022-02-10T08:35:16.880Z"
   },
   {
    "duration": 11,
    "start_time": "2022-02-10T08:35:16.908Z"
   },
   {
    "duration": 19,
    "start_time": "2022-02-10T08:35:16.921Z"
   },
   {
    "duration": 29,
    "start_time": "2022-02-10T08:35:16.943Z"
   },
   {
    "duration": 27,
    "start_time": "2022-02-10T08:35:16.974Z"
   },
   {
    "duration": 7,
    "start_time": "2022-02-10T08:35:17.003Z"
   },
   {
    "duration": 17,
    "start_time": "2022-02-10T08:35:17.012Z"
   },
   {
    "duration": 385,
    "start_time": "2022-02-10T08:35:17.031Z"
   },
   {
    "duration": 342,
    "start_time": "2022-02-10T08:35:17.418Z"
   },
   {
    "duration": 364,
    "start_time": "2022-02-10T08:35:17.761Z"
   },
   {
    "duration": 4,
    "start_time": "2022-02-10T08:35:18.127Z"
   },
   {
    "duration": 25,
    "start_time": "2022-02-10T08:35:18.133Z"
   },
   {
    "duration": 586,
    "start_time": "2022-02-10T08:35:18.162Z"
   },
   {
    "duration": 696,
    "start_time": "2022-02-10T08:35:18.750Z"
   },
   {
    "duration": 4,
    "start_time": "2022-02-10T08:35:19.448Z"
   },
   {
    "duration": 21,
    "start_time": "2022-02-10T08:35:19.454Z"
   },
   {
    "duration": 34,
    "start_time": "2022-02-10T08:35:19.477Z"
   },
   {
    "duration": 368,
    "start_time": "2022-02-10T08:35:19.513Z"
   },
   {
    "duration": 37,
    "start_time": "2022-02-10T08:35:19.883Z"
   },
   {
    "duration": 22,
    "start_time": "2022-02-10T08:35:19.922Z"
   },
   {
    "duration": 5,
    "start_time": "2022-02-10T08:35:19.946Z"
   },
   {
    "duration": 23,
    "start_time": "2022-02-10T08:35:19.953Z"
   },
   {
    "duration": 32,
    "start_time": "2022-02-10T08:35:19.979Z"
   },
   {
    "duration": 13,
    "start_time": "2022-02-10T08:35:20.013Z"
   },
   {
    "duration": 15,
    "start_time": "2022-02-10T08:35:20.029Z"
   },
   {
    "duration": 45,
    "start_time": "2022-02-10T08:35:20.046Z"
   },
   {
    "duration": 28,
    "start_time": "2022-02-10T08:35:20.094Z"
   },
   {
    "duration": 42,
    "start_time": "2022-02-10T08:35:20.124Z"
   },
   {
    "duration": 19,
    "start_time": "2022-02-10T08:35:20.168Z"
   },
   {
    "duration": 11,
    "start_time": "2022-02-10T08:35:20.189Z"
   },
   {
    "duration": 17,
    "start_time": "2022-02-10T08:35:20.201Z"
   },
   {
    "duration": 13,
    "start_time": "2022-02-10T08:35:20.220Z"
   },
   {
    "duration": 9,
    "start_time": "2022-02-10T08:35:20.235Z"
   },
   {
    "duration": 12,
    "start_time": "2022-02-10T08:35:20.246Z"
   },
   {
    "duration": 1221,
    "start_time": "2022-02-10T08:42:48.981Z"
   },
   {
    "duration": 796,
    "start_time": "2022-02-10T08:42:50.204Z"
   },
   {
    "duration": 19,
    "start_time": "2022-02-10T08:42:51.007Z"
   },
   {
    "duration": 34,
    "start_time": "2022-02-10T08:42:51.029Z"
   },
   {
    "duration": 18,
    "start_time": "2022-02-10T08:42:51.065Z"
   },
   {
    "duration": 295,
    "start_time": "2022-02-10T08:42:51.086Z"
   },
   {
    "duration": 8,
    "start_time": "2022-02-10T08:42:51.383Z"
   },
   {
    "duration": 4,
    "start_time": "2022-02-10T08:42:51.410Z"
   },
   {
    "duration": 377,
    "start_time": "2022-02-10T08:42:51.417Z"
   },
   {
    "duration": 20,
    "start_time": "2022-02-10T08:42:51.796Z"
   },
   {
    "duration": 6,
    "start_time": "2022-02-10T08:42:51.819Z"
   },
   {
    "duration": 12,
    "start_time": "2022-02-10T08:42:51.827Z"
   },
   {
    "duration": 8,
    "start_time": "2022-02-10T08:42:51.841Z"
   },
   {
    "duration": 22,
    "start_time": "2022-02-10T08:42:51.851Z"
   },
   {
    "duration": 22,
    "start_time": "2022-02-10T08:42:51.875Z"
   },
   {
    "duration": 9,
    "start_time": "2022-02-10T08:42:51.899Z"
   },
   {
    "duration": 5,
    "start_time": "2022-02-10T08:42:51.910Z"
   },
   {
    "duration": 377,
    "start_time": "2022-02-10T08:42:51.916Z"
   },
   {
    "duration": 361,
    "start_time": "2022-02-10T08:42:52.295Z"
   },
   {
    "duration": 377,
    "start_time": "2022-02-10T08:42:52.658Z"
   },
   {
    "duration": 5,
    "start_time": "2022-02-10T08:42:53.038Z"
   },
   {
    "duration": 19,
    "start_time": "2022-02-10T08:42:53.045Z"
   },
   {
    "duration": 595,
    "start_time": "2022-02-10T08:42:53.068Z"
   },
   {
    "duration": 695,
    "start_time": "2022-02-10T08:42:53.666Z"
   },
   {
    "duration": 4,
    "start_time": "2022-02-10T08:42:54.363Z"
   },
   {
    "duration": 16,
    "start_time": "2022-02-10T08:42:54.369Z"
   },
   {
    "duration": 34,
    "start_time": "2022-02-10T08:42:54.388Z"
   },
   {
    "duration": 374,
    "start_time": "2022-02-10T08:42:54.424Z"
   },
   {
    "duration": 24,
    "start_time": "2022-02-10T08:42:54.800Z"
   },
   {
    "duration": 20,
    "start_time": "2022-02-10T08:42:54.826Z"
   },
   {
    "duration": 3,
    "start_time": "2022-02-10T08:42:54.848Z"
   },
   {
    "duration": 55,
    "start_time": "2022-02-10T08:42:54.853Z"
   },
   {
    "duration": 4,
    "start_time": "2022-02-10T08:42:54.910Z"
   },
   {
    "duration": 6,
    "start_time": "2022-02-10T08:42:54.916Z"
   },
   {
    "duration": 7,
    "start_time": "2022-02-10T08:42:54.924Z"
   },
   {
    "duration": 21,
    "start_time": "2022-02-10T08:42:54.932Z"
   },
   {
    "duration": 3,
    "start_time": "2022-02-10T08:42:54.955Z"
   },
   {
    "duration": 8,
    "start_time": "2022-02-10T08:42:54.960Z"
   },
   {
    "duration": 9,
    "start_time": "2022-02-10T08:42:54.970Z"
   },
   {
    "duration": 26,
    "start_time": "2022-02-10T08:42:54.981Z"
   },
   {
    "duration": 3,
    "start_time": "2022-02-10T08:42:55.010Z"
   },
   {
    "duration": 17,
    "start_time": "2022-02-10T08:42:55.015Z"
   },
   {
    "duration": 13,
    "start_time": "2022-02-10T08:42:55.035Z"
   },
   {
    "duration": 16,
    "start_time": "2022-02-10T08:42:55.050Z"
   },
   {
    "duration": 19,
    "start_time": "2022-02-10T08:47:15.096Z"
   },
   {
    "duration": 7,
    "start_time": "2022-02-10T08:47:23.469Z"
   },
   {
    "duration": 1243,
    "start_time": "2022-02-10T08:56:49.962Z"
   },
   {
    "duration": 787,
    "start_time": "2022-02-10T08:56:51.207Z"
   },
   {
    "duration": 29,
    "start_time": "2022-02-10T08:56:51.997Z"
   },
   {
    "duration": 24,
    "start_time": "2022-02-10T08:56:52.029Z"
   },
   {
    "duration": 4,
    "start_time": "2022-02-10T08:56:52.055Z"
   },
   {
    "duration": 268,
    "start_time": "2022-02-10T08:56:52.061Z"
   },
   {
    "duration": 8,
    "start_time": "2022-02-10T08:56:52.331Z"
   },
   {
    "duration": 15,
    "start_time": "2022-02-10T08:56:52.342Z"
   },
   {
    "duration": 363,
    "start_time": "2022-02-10T08:56:52.359Z"
   },
   {
    "duration": 4,
    "start_time": "2022-02-10T08:56:52.724Z"
   },
   {
    "duration": 9,
    "start_time": "2022-02-10T08:56:52.730Z"
   },
   {
    "duration": 10,
    "start_time": "2022-02-10T08:56:52.741Z"
   },
   {
    "duration": 11,
    "start_time": "2022-02-10T08:56:52.752Z"
   },
   {
    "duration": 13,
    "start_time": "2022-02-10T08:56:52.764Z"
   },
   {
    "duration": 37,
    "start_time": "2022-02-10T08:56:52.779Z"
   },
   {
    "duration": 4,
    "start_time": "2022-02-10T08:56:52.818Z"
   },
   {
    "duration": 9,
    "start_time": "2022-02-10T08:56:52.823Z"
   },
   {
    "duration": 377,
    "start_time": "2022-02-10T08:56:52.834Z"
   },
   {
    "duration": 357,
    "start_time": "2022-02-10T08:56:53.213Z"
   },
   {
    "duration": 358,
    "start_time": "2022-02-10T08:56:53.572Z"
   },
   {
    "duration": 5,
    "start_time": "2022-02-10T08:56:53.931Z"
   },
   {
    "duration": 10,
    "start_time": "2022-02-10T08:56:53.939Z"
   },
   {
    "duration": 591,
    "start_time": "2022-02-10T08:56:53.954Z"
   },
   {
    "duration": 704,
    "start_time": "2022-02-10T08:56:54.548Z"
   },
   {
    "duration": 4,
    "start_time": "2022-02-10T08:56:55.254Z"
   },
   {
    "duration": 19,
    "start_time": "2022-02-10T08:56:55.260Z"
   },
   {
    "duration": 39,
    "start_time": "2022-02-10T08:56:55.281Z"
   },
   {
    "duration": 366,
    "start_time": "2022-02-10T08:56:55.322Z"
   },
   {
    "duration": 33,
    "start_time": "2022-02-10T08:56:55.691Z"
   },
   {
    "duration": 20,
    "start_time": "2022-02-10T08:56:55.726Z"
   },
   {
    "duration": 19,
    "start_time": "2022-02-10T08:56:55.748Z"
   },
   {
    "duration": 40,
    "start_time": "2022-02-10T08:56:55.768Z"
   },
   {
    "duration": 3,
    "start_time": "2022-02-10T08:56:55.810Z"
   },
   {
    "duration": 5,
    "start_time": "2022-02-10T08:56:55.815Z"
   },
   {
    "duration": 18,
    "start_time": "2022-02-10T08:56:55.822Z"
   },
   {
    "duration": 22,
    "start_time": "2022-02-10T08:56:55.843Z"
   },
   {
    "duration": 48,
    "start_time": "2022-02-10T08:56:55.867Z"
   },
   {
    "duration": 37,
    "start_time": "2022-02-10T08:56:55.917Z"
   },
   {
    "duration": 3,
    "start_time": "2022-02-10T08:56:55.956Z"
   },
   {
    "duration": 8,
    "start_time": "2022-02-10T08:56:55.961Z"
   },
   {
    "duration": 7,
    "start_time": "2022-02-10T08:56:55.971Z"
   },
   {
    "duration": 28,
    "start_time": "2022-02-10T08:56:55.980Z"
   },
   {
    "duration": 7,
    "start_time": "2022-02-10T08:56:56.010Z"
   },
   {
    "duration": 9,
    "start_time": "2022-02-10T08:56:56.019Z"
   },
   {
    "duration": 12,
    "start_time": "2022-02-10T08:56:56.031Z"
   },
   {
    "duration": 12,
    "start_time": "2022-02-10T08:56:56.045Z"
   },
   {
    "duration": 31,
    "start_time": "2022-02-10T08:57:20.044Z"
   },
   {
    "duration": 395,
    "start_time": "2022-02-10T08:57:35.080Z"
   },
   {
    "duration": 6,
    "start_time": "2022-02-10T08:57:47.273Z"
   },
   {
    "duration": 7,
    "start_time": "2022-02-10T08:59:10.012Z"
   },
   {
    "duration": 6,
    "start_time": "2022-02-10T08:59:14.747Z"
   },
   {
    "duration": 6,
    "start_time": "2022-02-10T08:59:18.936Z"
   },
   {
    "duration": 5,
    "start_time": "2022-02-10T09:00:12.437Z"
   },
   {
    "duration": 1381,
    "start_time": "2022-02-10T09:00:54.420Z"
   },
   {
    "duration": 795,
    "start_time": "2022-02-10T09:00:55.803Z"
   },
   {
    "duration": 19,
    "start_time": "2022-02-10T09:00:56.600Z"
   },
   {
    "duration": 27,
    "start_time": "2022-02-10T09:00:56.622Z"
   },
   {
    "duration": 11,
    "start_time": "2022-02-10T09:00:56.651Z"
   },
   {
    "duration": 290,
    "start_time": "2022-02-10T09:00:56.664Z"
   },
   {
    "duration": 10,
    "start_time": "2022-02-10T09:00:56.957Z"
   },
   {
    "duration": 13,
    "start_time": "2022-02-10T09:00:56.971Z"
   },
   {
    "duration": 621,
    "start_time": "2022-02-10T09:00:56.988Z"
   },
   {
    "duration": 6,
    "start_time": "2022-02-10T09:00:57.612Z"
   },
   {
    "duration": 13,
    "start_time": "2022-02-10T09:00:57.621Z"
   },
   {
    "duration": 17,
    "start_time": "2022-02-10T09:00:57.637Z"
   },
   {
    "duration": 10,
    "start_time": "2022-02-10T09:00:57.656Z"
   },
   {
    "duration": 23,
    "start_time": "2022-02-10T09:00:57.668Z"
   },
   {
    "duration": 27,
    "start_time": "2022-02-10T09:00:57.694Z"
   },
   {
    "duration": 5,
    "start_time": "2022-02-10T09:00:57.723Z"
   },
   {
    "duration": 7,
    "start_time": "2022-02-10T09:00:57.731Z"
   },
   {
    "duration": 623,
    "start_time": "2022-02-10T09:00:57.741Z"
   },
   {
    "duration": 375,
    "start_time": "2022-02-10T09:00:58.366Z"
   },
   {
    "duration": 404,
    "start_time": "2022-02-10T09:00:58.743Z"
   },
   {
    "duration": 4,
    "start_time": "2022-02-10T09:00:59.149Z"
   },
   {
    "duration": 17,
    "start_time": "2022-02-10T09:00:59.155Z"
   },
   {
    "duration": 659,
    "start_time": "2022-02-10T09:00:59.176Z"
   },
   {
    "duration": 833,
    "start_time": "2022-02-10T09:00:59.838Z"
   },
   {
    "duration": 4,
    "start_time": "2022-02-10T09:01:00.673Z"
   },
   {
    "duration": 57,
    "start_time": "2022-02-10T09:01:00.679Z"
   },
   {
    "duration": 29,
    "start_time": "2022-02-10T09:01:00.738Z"
   },
   {
    "duration": 568,
    "start_time": "2022-02-10T09:01:00.769Z"
   },
   {
    "duration": 21,
    "start_time": "2022-02-10T09:01:01.340Z"
   },
   {
    "duration": 32,
    "start_time": "2022-02-10T09:01:01.364Z"
   },
   {
    "duration": 97,
    "start_time": "2022-02-10T09:01:01.409Z"
   },
   {
    "duration": 51,
    "start_time": "2022-02-10T09:01:01.508Z"
   },
   {
    "duration": 40,
    "start_time": "2022-02-10T09:01:01.561Z"
   },
   {
    "duration": 45,
    "start_time": "2022-02-10T09:01:01.603Z"
   },
   {
    "duration": 104,
    "start_time": "2022-02-10T09:01:01.651Z"
   },
   {
    "duration": 35,
    "start_time": "2022-02-10T09:01:01.757Z"
   },
   {
    "duration": 54,
    "start_time": "2022-02-10T09:01:01.794Z"
   },
   {
    "duration": 7,
    "start_time": "2022-02-10T09:01:01.850Z"
   },
   {
    "duration": 21,
    "start_time": "2022-02-10T09:01:01.859Z"
   },
   {
    "duration": 22,
    "start_time": "2022-02-10T09:01:01.882Z"
   },
   {
    "duration": 18,
    "start_time": "2022-02-10T09:01:01.906Z"
   },
   {
    "duration": 18,
    "start_time": "2022-02-10T09:01:01.927Z"
   },
   {
    "duration": 15,
    "start_time": "2022-02-10T09:01:01.948Z"
   },
   {
    "duration": 17,
    "start_time": "2022-02-10T09:01:01.966Z"
   },
   {
    "duration": 20,
    "start_time": "2022-02-10T09:01:01.987Z"
   },
   {
    "duration": 12,
    "start_time": "2022-02-10T09:01:02.010Z"
   },
   {
    "duration": 6,
    "start_time": "2022-02-10T09:11:50.077Z"
   },
   {
    "duration": 6,
    "start_time": "2022-02-10T09:11:56.549Z"
   },
   {
    "duration": 1351,
    "start_time": "2022-02-10T09:12:09.952Z"
   },
   {
    "duration": 814,
    "start_time": "2022-02-10T09:12:11.305Z"
   },
   {
    "duration": 25,
    "start_time": "2022-02-10T09:12:12.122Z"
   },
   {
    "duration": 26,
    "start_time": "2022-02-10T09:12:12.149Z"
   },
   {
    "duration": 47,
    "start_time": "2022-02-10T09:12:12.177Z"
   },
   {
    "duration": 284,
    "start_time": "2022-02-10T09:12:12.226Z"
   },
   {
    "duration": 10,
    "start_time": "2022-02-10T09:12:12.512Z"
   },
   {
    "duration": 38,
    "start_time": "2022-02-10T09:12:12.526Z"
   },
   {
    "duration": 417,
    "start_time": "2022-02-10T09:12:12.566Z"
   },
   {
    "duration": 4,
    "start_time": "2022-02-10T09:12:12.985Z"
   },
   {
    "duration": 37,
    "start_time": "2022-02-10T09:12:12.991Z"
   },
   {
    "duration": 38,
    "start_time": "2022-02-10T09:12:13.030Z"
   },
   {
    "duration": 15,
    "start_time": "2022-02-10T09:12:13.070Z"
   },
   {
    "duration": 16,
    "start_time": "2022-02-10T09:12:13.087Z"
   },
   {
    "duration": 34,
    "start_time": "2022-02-10T09:12:13.105Z"
   },
   {
    "duration": 12,
    "start_time": "2022-02-10T09:12:13.142Z"
   },
   {
    "duration": 17,
    "start_time": "2022-02-10T09:12:13.157Z"
   },
   {
    "duration": 448,
    "start_time": "2022-02-10T09:12:13.176Z"
   },
   {
    "duration": 367,
    "start_time": "2022-02-10T09:12:13.626Z"
   },
   {
    "duration": 392,
    "start_time": "2022-02-10T09:12:13.995Z"
   },
   {
    "duration": 5,
    "start_time": "2022-02-10T09:12:14.388Z"
   },
   {
    "duration": 22,
    "start_time": "2022-02-10T09:12:14.394Z"
   },
   {
    "duration": 649,
    "start_time": "2022-02-10T09:12:14.421Z"
   },
   {
    "duration": 743,
    "start_time": "2022-02-10T09:12:15.072Z"
   },
   {
    "duration": 5,
    "start_time": "2022-02-10T09:12:15.818Z"
   },
   {
    "duration": 35,
    "start_time": "2022-02-10T09:12:15.825Z"
   },
   {
    "duration": 30,
    "start_time": "2022-02-10T09:12:15.861Z"
   },
   {
    "duration": 384,
    "start_time": "2022-02-10T09:12:15.893Z"
   },
   {
    "duration": 30,
    "start_time": "2022-02-10T09:12:16.279Z"
   },
   {
    "duration": 26,
    "start_time": "2022-02-10T09:12:16.312Z"
   },
   {
    "duration": 6,
    "start_time": "2022-02-10T09:12:16.340Z"
   },
   {
    "duration": 45,
    "start_time": "2022-02-10T09:12:16.348Z"
   },
   {
    "duration": 5,
    "start_time": "2022-02-10T09:12:16.395Z"
   },
   {
    "duration": 20,
    "start_time": "2022-02-10T09:12:16.401Z"
   },
   {
    "duration": 28,
    "start_time": "2022-02-10T09:12:16.423Z"
   },
   {
    "duration": 42,
    "start_time": "2022-02-10T09:12:16.453Z"
   },
   {
    "duration": 60,
    "start_time": "2022-02-10T09:12:16.496Z"
   },
   {
    "duration": 6,
    "start_time": "2022-02-10T09:12:16.558Z"
   },
   {
    "duration": 5,
    "start_time": "2022-02-10T09:20:31.963Z"
   },
   {
    "duration": 6,
    "start_time": "2022-02-10T09:20:45.518Z"
   },
   {
    "duration": 6,
    "start_time": "2022-02-10T09:20:53.919Z"
   },
   {
    "duration": 5,
    "start_time": "2022-02-10T09:21:00.336Z"
   },
   {
    "duration": 1163,
    "start_time": "2022-02-10T09:27:12.332Z"
   },
   {
    "duration": 769,
    "start_time": "2022-02-10T09:27:13.497Z"
   },
   {
    "duration": 20,
    "start_time": "2022-02-10T09:27:14.269Z"
   },
   {
    "duration": 41,
    "start_time": "2022-02-10T09:27:14.291Z"
   },
   {
    "duration": 5,
    "start_time": "2022-02-10T09:27:14.334Z"
   },
   {
    "duration": 276,
    "start_time": "2022-02-10T09:27:14.341Z"
   },
   {
    "duration": 9,
    "start_time": "2022-02-10T09:27:14.620Z"
   },
   {
    "duration": 5,
    "start_time": "2022-02-10T09:27:14.633Z"
   },
   {
    "duration": 380,
    "start_time": "2022-02-10T09:27:14.641Z"
   },
   {
    "duration": 7,
    "start_time": "2022-02-10T09:27:15.023Z"
   },
   {
    "duration": 12,
    "start_time": "2022-02-10T09:27:15.032Z"
   },
   {
    "duration": 14,
    "start_time": "2022-02-10T09:27:15.046Z"
   },
   {
    "duration": 8,
    "start_time": "2022-02-10T09:27:15.063Z"
   },
   {
    "duration": 34,
    "start_time": "2022-02-10T09:27:15.074Z"
   },
   {
    "duration": 16,
    "start_time": "2022-02-10T09:27:15.110Z"
   },
   {
    "duration": 4,
    "start_time": "2022-02-10T09:27:15.128Z"
   },
   {
    "duration": 14,
    "start_time": "2022-02-10T09:27:15.134Z"
   },
   {
    "duration": 378,
    "start_time": "2022-02-10T09:27:15.150Z"
   },
   {
    "duration": 361,
    "start_time": "2022-02-10T09:27:15.530Z"
   },
   {
    "duration": 389,
    "start_time": "2022-02-10T09:27:15.893Z"
   },
   {
    "duration": 4,
    "start_time": "2022-02-10T09:27:16.284Z"
   },
   {
    "duration": 19,
    "start_time": "2022-02-10T09:27:16.290Z"
   },
   {
    "duration": 598,
    "start_time": "2022-02-10T09:27:16.312Z"
   },
   {
    "duration": 731,
    "start_time": "2022-02-10T09:27:16.913Z"
   },
   {
    "duration": 6,
    "start_time": "2022-02-10T09:27:17.646Z"
   },
   {
    "duration": 17,
    "start_time": "2022-02-10T09:27:17.654Z"
   },
   {
    "duration": 43,
    "start_time": "2022-02-10T09:27:17.673Z"
   },
   {
    "duration": 363,
    "start_time": "2022-02-10T09:27:17.718Z"
   },
   {
    "duration": 38,
    "start_time": "2022-02-10T09:27:18.083Z"
   },
   {
    "duration": 20,
    "start_time": "2022-02-10T09:27:18.122Z"
   },
   {
    "duration": 6,
    "start_time": "2022-02-10T09:27:18.144Z"
   },
   {
    "duration": 29,
    "start_time": "2022-02-10T09:27:18.151Z"
   },
   {
    "duration": 3,
    "start_time": "2022-02-10T09:27:18.182Z"
   },
   {
    "duration": 22,
    "start_time": "2022-02-10T09:27:18.187Z"
   },
   {
    "duration": 13,
    "start_time": "2022-02-10T09:27:18.211Z"
   },
   {
    "duration": 23,
    "start_time": "2022-02-10T09:27:18.225Z"
   },
   {
    "duration": 53,
    "start_time": "2022-02-10T09:27:18.250Z"
   },
   {
    "duration": 6,
    "start_time": "2022-02-10T09:27:18.305Z"
   },
   {
    "duration": 1438,
    "start_time": "2022-02-10T09:35:47.231Z"
   },
   {
    "duration": 740,
    "start_time": "2022-02-10T09:35:48.671Z"
   },
   {
    "duration": 21,
    "start_time": "2022-02-10T09:35:49.416Z"
   },
   {
    "duration": 25,
    "start_time": "2022-02-10T09:35:49.439Z"
   },
   {
    "duration": 3,
    "start_time": "2022-02-10T09:35:49.466Z"
   },
   {
    "duration": 274,
    "start_time": "2022-02-10T09:35:49.471Z"
   },
   {
    "duration": 9,
    "start_time": "2022-02-10T09:35:49.747Z"
   },
   {
    "duration": 5,
    "start_time": "2022-02-10T09:35:49.759Z"
   },
   {
    "duration": 393,
    "start_time": "2022-02-10T09:35:49.766Z"
   },
   {
    "duration": 6,
    "start_time": "2022-02-10T09:35:50.161Z"
   },
   {
    "duration": 8,
    "start_time": "2022-02-10T09:35:50.169Z"
   },
   {
    "duration": 32,
    "start_time": "2022-02-10T09:35:50.179Z"
   },
   {
    "duration": 21,
    "start_time": "2022-02-10T09:35:50.214Z"
   },
   {
    "duration": 10,
    "start_time": "2022-02-10T09:35:50.237Z"
   },
   {
    "duration": 16,
    "start_time": "2022-02-10T09:35:50.249Z"
   },
   {
    "duration": 4,
    "start_time": "2022-02-10T09:35:50.267Z"
   },
   {
    "duration": 10,
    "start_time": "2022-02-10T09:35:50.273Z"
   },
   {
    "duration": 401,
    "start_time": "2022-02-10T09:35:50.285Z"
   },
   {
    "duration": 378,
    "start_time": "2022-02-10T09:35:50.688Z"
   },
   {
    "duration": 397,
    "start_time": "2022-02-10T09:35:51.068Z"
   },
   {
    "duration": 7,
    "start_time": "2022-02-10T09:35:51.468Z"
   },
   {
    "duration": 15,
    "start_time": "2022-02-10T09:35:51.477Z"
   },
   {
    "duration": 637,
    "start_time": "2022-02-10T09:35:51.496Z"
   },
   {
    "duration": 737,
    "start_time": "2022-02-10T09:35:52.136Z"
   },
   {
    "duration": 5,
    "start_time": "2022-02-10T09:35:52.874Z"
   },
   {
    "duration": 41,
    "start_time": "2022-02-10T09:35:52.881Z"
   },
   {
    "duration": 36,
    "start_time": "2022-02-10T09:35:52.924Z"
   },
   {
    "duration": 400,
    "start_time": "2022-02-10T09:35:52.962Z"
   },
   {
    "duration": 26,
    "start_time": "2022-02-10T09:35:53.365Z"
   },
   {
    "duration": 36,
    "start_time": "2022-02-10T09:35:53.393Z"
   },
   {
    "duration": 18,
    "start_time": "2022-02-10T09:35:53.431Z"
   },
   {
    "duration": 39,
    "start_time": "2022-02-10T09:35:53.451Z"
   },
   {
    "duration": 4,
    "start_time": "2022-02-10T09:35:53.492Z"
   },
   {
    "duration": 21,
    "start_time": "2022-02-10T09:35:53.499Z"
   },
   {
    "duration": 37,
    "start_time": "2022-02-10T09:35:53.522Z"
   },
   {
    "duration": 41,
    "start_time": "2022-02-10T09:35:53.562Z"
   },
   {
    "duration": 45,
    "start_time": "2022-02-10T09:35:53.605Z"
   },
   {
    "duration": 6,
    "start_time": "2022-02-10T09:35:53.652Z"
   },
   {
    "duration": 353,
    "start_time": "2022-02-10T09:35:53.660Z"
   },
   {
    "duration": 4,
    "start_time": "2022-02-10T09:36:19.979Z"
   },
   {
    "duration": 3,
    "start_time": "2022-02-10T09:36:58.092Z"
   },
   {
    "duration": 1285,
    "start_time": "2022-02-10T09:38:32.525Z"
   },
   {
    "duration": 789,
    "start_time": "2022-02-10T09:38:33.813Z"
   },
   {
    "duration": 25,
    "start_time": "2022-02-10T09:38:34.612Z"
   },
   {
    "duration": 57,
    "start_time": "2022-02-10T09:38:34.639Z"
   },
   {
    "duration": 46,
    "start_time": "2022-02-10T09:38:34.698Z"
   },
   {
    "duration": 329,
    "start_time": "2022-02-10T09:38:34.746Z"
   },
   {
    "duration": 9,
    "start_time": "2022-02-10T09:38:35.078Z"
   },
   {
    "duration": 32,
    "start_time": "2022-02-10T09:38:35.089Z"
   },
   {
    "duration": 440,
    "start_time": "2022-02-10T09:38:35.124Z"
   },
   {
    "duration": 6,
    "start_time": "2022-02-10T09:38:35.567Z"
   },
   {
    "duration": 40,
    "start_time": "2022-02-10T09:38:35.575Z"
   },
   {
    "duration": 31,
    "start_time": "2022-02-10T09:38:35.617Z"
   },
   {
    "duration": 36,
    "start_time": "2022-02-10T09:38:35.650Z"
   },
   {
    "duration": 45,
    "start_time": "2022-02-10T09:38:35.687Z"
   },
   {
    "duration": 52,
    "start_time": "2022-02-10T09:38:35.734Z"
   },
   {
    "duration": 27,
    "start_time": "2022-02-10T09:38:35.788Z"
   },
   {
    "duration": 28,
    "start_time": "2022-02-10T09:38:35.817Z"
   },
   {
    "duration": 429,
    "start_time": "2022-02-10T09:38:35.848Z"
   },
   {
    "duration": 381,
    "start_time": "2022-02-10T09:38:36.278Z"
   },
   {
    "duration": 393,
    "start_time": "2022-02-10T09:38:36.661Z"
   },
   {
    "duration": 5,
    "start_time": "2022-02-10T09:38:37.057Z"
   },
   {
    "duration": 15,
    "start_time": "2022-02-10T09:38:37.067Z"
   },
   {
    "duration": 674,
    "start_time": "2022-02-10T09:38:37.085Z"
   },
   {
    "duration": 754,
    "start_time": "2022-02-10T09:38:37.761Z"
   },
   {
    "duration": 5,
    "start_time": "2022-02-10T09:38:38.516Z"
   },
   {
    "duration": 60,
    "start_time": "2022-02-10T09:38:38.524Z"
   },
   {
    "duration": 39,
    "start_time": "2022-02-10T09:38:38.586Z"
   },
   {
    "duration": 584,
    "start_time": "2022-02-10T09:38:38.627Z"
   },
   {
    "duration": 24,
    "start_time": "2022-02-10T09:38:39.213Z"
   },
   {
    "duration": 50,
    "start_time": "2022-02-10T09:38:39.239Z"
   },
   {
    "duration": 12,
    "start_time": "2022-02-10T09:38:39.291Z"
   },
   {
    "duration": 51,
    "start_time": "2022-02-10T09:38:39.305Z"
   },
   {
    "duration": 17,
    "start_time": "2022-02-10T09:38:39.358Z"
   },
   {
    "duration": 44,
    "start_time": "2022-02-10T09:38:39.377Z"
   },
   {
    "duration": 47,
    "start_time": "2022-02-10T09:38:39.423Z"
   },
   {
    "duration": 34,
    "start_time": "2022-02-10T09:38:39.472Z"
   },
   {
    "duration": 68,
    "start_time": "2022-02-10T09:38:39.508Z"
   },
   {
    "duration": 10,
    "start_time": "2022-02-10T09:38:39.578Z"
   },
   {
    "duration": 38,
    "start_time": "2022-02-10T09:38:39.590Z"
   },
   {
    "duration": 1763,
    "start_time": "2022-02-10T09:52:53.492Z"
   },
   {
    "duration": -5787,
    "start_time": "2022-02-10T09:53:01.048Z"
   },
   {
    "duration": -5801,
    "start_time": "2022-02-10T09:53:01.063Z"
   },
   {
    "duration": -5828,
    "start_time": "2022-02-10T09:53:01.091Z"
   },
   {
    "duration": -5843,
    "start_time": "2022-02-10T09:53:01.108Z"
   },
   {
    "duration": -5859,
    "start_time": "2022-02-10T09:53:01.124Z"
   },
   {
    "duration": -5865,
    "start_time": "2022-02-10T09:53:01.132Z"
   },
   {
    "duration": -5868,
    "start_time": "2022-02-10T09:53:01.136Z"
   },
   {
    "duration": -5872,
    "start_time": "2022-02-10T09:53:01.141Z"
   },
   {
    "duration": -5876,
    "start_time": "2022-02-10T09:53:01.146Z"
   },
   {
    "duration": -5881,
    "start_time": "2022-02-10T09:53:01.151Z"
   },
   {
    "duration": -5884,
    "start_time": "2022-02-10T09:53:01.155Z"
   },
   {
    "duration": -5888,
    "start_time": "2022-02-10T09:53:01.160Z"
   },
   {
    "duration": -5892,
    "start_time": "2022-02-10T09:53:01.165Z"
   },
   {
    "duration": -5896,
    "start_time": "2022-02-10T09:53:01.170Z"
   },
   {
    "duration": -5900,
    "start_time": "2022-02-10T09:53:01.175Z"
   },
   {
    "duration": -5905,
    "start_time": "2022-02-10T09:53:01.181Z"
   },
   {
    "duration": -5908,
    "start_time": "2022-02-10T09:53:01.185Z"
   },
   {
    "duration": -5912,
    "start_time": "2022-02-10T09:53:01.190Z"
   },
   {
    "duration": -5917,
    "start_time": "2022-02-10T09:53:01.196Z"
   },
   {
    "duration": -5921,
    "start_time": "2022-02-10T09:53:01.201Z"
   },
   {
    "duration": -5924,
    "start_time": "2022-02-10T09:53:01.205Z"
   },
   {
    "duration": -5928,
    "start_time": "2022-02-10T09:53:01.210Z"
   },
   {
    "duration": -5931,
    "start_time": "2022-02-10T09:53:01.214Z"
   },
   {
    "duration": -5935,
    "start_time": "2022-02-10T09:53:01.219Z"
   },
   {
    "duration": -5949,
    "start_time": "2022-02-10T09:53:01.234Z"
   },
   {
    "duration": -5954,
    "start_time": "2022-02-10T09:53:01.241Z"
   },
   {
    "duration": -5957,
    "start_time": "2022-02-10T09:53:01.245Z"
   },
   {
    "duration": -5961,
    "start_time": "2022-02-10T09:53:01.251Z"
   },
   {
    "duration": -5965,
    "start_time": "2022-02-10T09:53:01.256Z"
   },
   {
    "duration": -5968,
    "start_time": "2022-02-10T09:53:01.261Z"
   },
   {
    "duration": -5971,
    "start_time": "2022-02-10T09:53:01.265Z"
   },
   {
    "duration": -5975,
    "start_time": "2022-02-10T09:53:01.270Z"
   },
   {
    "duration": -5978,
    "start_time": "2022-02-10T09:53:01.274Z"
   },
   {
    "duration": -5982,
    "start_time": "2022-02-10T09:53:01.279Z"
   },
   {
    "duration": -5985,
    "start_time": "2022-02-10T09:53:01.283Z"
   },
   {
    "duration": -5982,
    "start_time": "2022-02-10T09:53:01.288Z"
   },
   {
    "duration": -5985,
    "start_time": "2022-02-10T09:53:01.293Z"
   },
   {
    "duration": -5988,
    "start_time": "2022-02-10T09:53:01.298Z"
   },
   {
    "duration": 248,
    "start_time": "2022-02-10T09:53:34.562Z"
   },
   {
    "duration": 4,
    "start_time": "2022-02-10T09:53:45.538Z"
   },
   {
    "duration": 1501,
    "start_time": "2022-02-10T09:53:51.428Z"
   },
   {
    "duration": 860,
    "start_time": "2022-02-10T09:53:52.932Z"
   },
   {
    "duration": 24,
    "start_time": "2022-02-10T09:53:53.794Z"
   },
   {
    "duration": 25,
    "start_time": "2022-02-10T09:53:53.821Z"
   },
   {
    "duration": 10,
    "start_time": "2022-02-10T09:53:53.849Z"
   },
   {
    "duration": 311,
    "start_time": "2022-02-10T09:53:53.861Z"
   },
   {
    "duration": 10,
    "start_time": "2022-02-10T09:53:54.174Z"
   },
   {
    "duration": 21,
    "start_time": "2022-02-10T09:53:54.188Z"
   },
   {
    "duration": 459,
    "start_time": "2022-02-10T09:53:54.212Z"
   },
   {
    "duration": 6,
    "start_time": "2022-02-10T09:53:54.675Z"
   },
   {
    "duration": 41,
    "start_time": "2022-02-10T09:53:54.683Z"
   },
   {
    "duration": 23,
    "start_time": "2022-02-10T09:53:54.726Z"
   },
   {
    "duration": 17,
    "start_time": "2022-02-10T09:53:54.752Z"
   },
   {
    "duration": 18,
    "start_time": "2022-02-10T09:53:54.771Z"
   },
   {
    "duration": 51,
    "start_time": "2022-02-10T09:53:54.791Z"
   },
   {
    "duration": 19,
    "start_time": "2022-02-10T09:53:54.845Z"
   },
   {
    "duration": 20,
    "start_time": "2022-02-10T09:53:54.866Z"
   },
   {
    "duration": 467,
    "start_time": "2022-02-10T09:53:54.888Z"
   },
   {
    "duration": 483,
    "start_time": "2022-02-10T09:53:55.358Z"
   },
   {
    "duration": 498,
    "start_time": "2022-02-10T09:53:55.843Z"
   },
   {
    "duration": 5,
    "start_time": "2022-02-10T09:53:56.344Z"
   },
   {
    "duration": 130,
    "start_time": "2022-02-10T09:53:56.351Z"
   },
   {
    "duration": 1125,
    "start_time": "2022-02-10T09:53:56.486Z"
   },
   {
    "duration": 739,
    "start_time": "2022-02-10T09:53:57.614Z"
   },
   {
    "duration": 6,
    "start_time": "2022-02-10T09:53:58.355Z"
   },
   {
    "duration": 21,
    "start_time": "2022-02-10T09:53:58.364Z"
   },
   {
    "duration": 40,
    "start_time": "2022-02-10T09:53:58.387Z"
   },
   {
    "duration": 435,
    "start_time": "2022-02-10T09:53:58.429Z"
   },
   {
    "duration": 40,
    "start_time": "2022-02-10T09:53:58.867Z"
   },
   {
    "duration": 25,
    "start_time": "2022-02-10T09:53:58.910Z"
   },
   {
    "duration": 4,
    "start_time": "2022-02-10T09:53:58.938Z"
   },
   {
    "duration": 42,
    "start_time": "2022-02-10T09:53:58.944Z"
   },
   {
    "duration": 10,
    "start_time": "2022-02-10T09:53:58.988Z"
   },
   {
    "duration": 20,
    "start_time": "2022-02-10T09:53:59.000Z"
   },
   {
    "duration": 30,
    "start_time": "2022-02-10T09:53:59.022Z"
   },
   {
    "duration": 29,
    "start_time": "2022-02-10T09:53:59.054Z"
   },
   {
    "duration": 58,
    "start_time": "2022-02-10T09:53:59.085Z"
   },
   {
    "duration": 5,
    "start_time": "2022-02-10T09:53:59.145Z"
   },
   {
    "duration": 29,
    "start_time": "2022-02-10T09:53:59.152Z"
   },
   {
    "duration": 1631,
    "start_time": "2022-02-10T12:48:11.043Z"
   },
   {
    "duration": 843,
    "start_time": "2022-02-10T12:48:12.677Z"
   },
   {
    "duration": 27,
    "start_time": "2022-02-10T12:48:13.523Z"
   },
   {
    "duration": 47,
    "start_time": "2022-02-10T12:48:13.553Z"
   },
   {
    "duration": 13,
    "start_time": "2022-02-10T12:48:13.603Z"
   },
   {
    "duration": 413,
    "start_time": "2022-02-10T12:48:13.619Z"
   },
   {
    "duration": 10,
    "start_time": "2022-02-10T12:48:14.035Z"
   },
   {
    "duration": 28,
    "start_time": "2022-02-10T12:48:14.049Z"
   },
   {
    "duration": 622,
    "start_time": "2022-02-10T12:48:14.081Z"
   },
   {
    "duration": 8,
    "start_time": "2022-02-10T12:48:14.706Z"
   },
   {
    "duration": 19,
    "start_time": "2022-02-10T12:48:14.717Z"
   },
   {
    "duration": 35,
    "start_time": "2022-02-10T12:48:14.739Z"
   },
   {
    "duration": 16,
    "start_time": "2022-02-10T12:48:14.777Z"
   },
   {
    "duration": 17,
    "start_time": "2022-02-10T12:48:14.795Z"
   },
   {
    "duration": 45,
    "start_time": "2022-02-10T12:48:14.815Z"
   },
   {
    "duration": 9,
    "start_time": "2022-02-10T12:48:14.863Z"
   },
   {
    "duration": 29,
    "start_time": "2022-02-10T12:48:14.875Z"
   },
   {
    "duration": 548,
    "start_time": "2022-02-10T12:48:14.907Z"
   },
   {
    "duration": 547,
    "start_time": "2022-02-10T12:48:15.457Z"
   },
   {
    "duration": 538,
    "start_time": "2022-02-10T12:48:16.007Z"
   },
   {
    "duration": 6,
    "start_time": "2022-02-10T12:48:16.548Z"
   },
   {
    "duration": 28,
    "start_time": "2022-02-10T12:48:16.556Z"
   },
   {
    "duration": 1022,
    "start_time": "2022-02-10T12:48:16.589Z"
   },
   {
    "duration": 987,
    "start_time": "2022-02-10T12:48:17.614Z"
   },
   {
    "duration": 5,
    "start_time": "2022-02-10T12:48:18.604Z"
   },
   {
    "duration": 14,
    "start_time": "2022-02-10T12:48:18.611Z"
   },
   {
    "duration": 55,
    "start_time": "2022-02-10T12:48:18.628Z"
   },
   {
    "duration": 551,
    "start_time": "2022-02-10T12:48:18.685Z"
   },
   {
    "duration": 45,
    "start_time": "2022-02-10T12:48:19.238Z"
   },
   {
    "duration": 27,
    "start_time": "2022-02-10T12:48:19.285Z"
   },
   {
    "duration": 4,
    "start_time": "2022-02-10T12:48:19.314Z"
   },
   {
    "duration": 52,
    "start_time": "2022-02-10T12:48:19.320Z"
   },
   {
    "duration": 5,
    "start_time": "2022-02-10T12:48:19.374Z"
   },
   {
    "duration": 23,
    "start_time": "2022-02-10T12:48:19.381Z"
   },
   {
    "duration": 31,
    "start_time": "2022-02-10T12:48:19.407Z"
   },
   {
    "duration": 35,
    "start_time": "2022-02-10T12:48:19.441Z"
   },
   {
    "duration": 47,
    "start_time": "2022-02-10T12:48:19.478Z"
   },
   {
    "duration": 9,
    "start_time": "2022-02-10T12:48:19.527Z"
   },
   {
    "duration": 30,
    "start_time": "2022-02-10T12:48:19.539Z"
   },
   {
    "duration": 4,
    "start_time": "2022-02-10T12:54:38.770Z"
   },
   {
    "duration": 5,
    "start_time": "2022-02-10T13:09:23.700Z"
   },
   {
    "duration": 110,
    "start_time": "2022-02-10T13:15:52.793Z"
   },
   {
    "duration": 1866,
    "start_time": "2022-02-10T13:32:56.894Z"
   },
   {
    "duration": 1140,
    "start_time": "2022-02-10T13:32:58.764Z"
   },
   {
    "duration": 26,
    "start_time": "2022-02-10T13:32:59.907Z"
   },
   {
    "duration": 55,
    "start_time": "2022-02-10T13:32:59.936Z"
   },
   {
    "duration": 5,
    "start_time": "2022-02-10T13:32:59.994Z"
   },
   {
    "duration": 413,
    "start_time": "2022-02-10T13:33:00.002Z"
   },
   {
    "duration": 11,
    "start_time": "2022-02-10T13:33:00.417Z"
   },
   {
    "duration": 12,
    "start_time": "2022-02-10T13:33:00.432Z"
   },
   {
    "duration": 614,
    "start_time": "2022-02-10T13:33:00.447Z"
   },
   {
    "duration": 10,
    "start_time": "2022-02-10T13:33:01.063Z"
   },
   {
    "duration": 14,
    "start_time": "2022-02-10T13:33:01.076Z"
   },
   {
    "duration": 34,
    "start_time": "2022-02-10T13:33:01.093Z"
   },
   {
    "duration": 22,
    "start_time": "2022-02-10T13:33:01.130Z"
   },
   {
    "duration": 20,
    "start_time": "2022-02-10T13:33:01.154Z"
   },
   {
    "duration": 27,
    "start_time": "2022-02-10T13:33:01.176Z"
   },
   {
    "duration": 7,
    "start_time": "2022-02-10T13:33:01.206Z"
   },
   {
    "duration": 7,
    "start_time": "2022-02-10T13:33:01.216Z"
   },
   {
    "duration": 853,
    "start_time": "2022-02-10T13:33:01.227Z"
   },
   {
    "duration": 565,
    "start_time": "2022-02-10T13:33:02.083Z"
   },
   {
    "duration": 586,
    "start_time": "2022-02-10T13:33:02.651Z"
   },
   {
    "duration": 7,
    "start_time": "2022-02-10T13:33:03.240Z"
   },
   {
    "duration": 22,
    "start_time": "2022-02-10T13:33:03.249Z"
   },
   {
    "duration": 1042,
    "start_time": "2022-02-10T13:33:03.277Z"
   },
   {
    "duration": 1042,
    "start_time": "2022-02-10T13:33:04.322Z"
   },
   {
    "duration": 6,
    "start_time": "2022-02-10T13:33:05.367Z"
   },
   {
    "duration": 28,
    "start_time": "2022-02-10T13:33:05.375Z"
   },
   {
    "duration": 31,
    "start_time": "2022-02-10T13:33:05.405Z"
   },
   {
    "duration": 606,
    "start_time": "2022-02-10T13:33:05.438Z"
   },
   {
    "duration": 44,
    "start_time": "2022-02-10T13:33:06.046Z"
   },
   {
    "duration": 28,
    "start_time": "2022-02-10T13:33:06.092Z"
   },
   {
    "duration": 6,
    "start_time": "2022-02-10T13:33:06.122Z"
   },
   {
    "duration": 57,
    "start_time": "2022-02-10T13:33:06.130Z"
   },
   {
    "duration": 5,
    "start_time": "2022-02-10T13:33:06.189Z"
   },
   {
    "duration": 10,
    "start_time": "2022-02-10T13:33:06.196Z"
   },
   {
    "duration": 8,
    "start_time": "2022-02-10T13:33:06.209Z"
   },
   {
    "duration": 20,
    "start_time": "2022-02-10T13:33:06.219Z"
   },
   {
    "duration": 68,
    "start_time": "2022-02-10T13:33:06.241Z"
   },
   {
    "duration": 9,
    "start_time": "2022-02-10T13:33:06.311Z"
   },
   {
    "duration": 8,
    "start_time": "2022-02-10T13:33:06.322Z"
   },
   {
    "duration": 9,
    "start_time": "2022-02-10T13:33:06.333Z"
   },
   {
    "duration": 146,
    "start_time": "2022-02-10T13:33:06.345Z"
   },
   {
    "duration": -6377,
    "start_time": "2022-02-10T13:33:12.870Z"
   },
   {
    "duration": -6379,
    "start_time": "2022-02-10T13:33:12.874Z"
   },
   {
    "duration": 4,
    "start_time": "2022-02-10T13:33:29.373Z"
   },
   {
    "duration": 2119038,
    "start_time": "2022-02-10T13:33:31.443Z"
   },
   {
    "duration": 1600,
    "start_time": "2022-02-10T14:18:17.751Z"
   },
   {
    "duration": 842,
    "start_time": "2022-02-10T14:18:19.353Z"
   },
   {
    "duration": 26,
    "start_time": "2022-02-10T14:18:20.197Z"
   },
   {
    "duration": 57,
    "start_time": "2022-02-10T14:18:20.225Z"
   },
   {
    "duration": 5,
    "start_time": "2022-02-10T14:18:20.285Z"
   },
   {
    "duration": 400,
    "start_time": "2022-02-10T14:18:20.292Z"
   },
   {
    "duration": 12,
    "start_time": "2022-02-10T14:18:20.695Z"
   },
   {
    "duration": 4,
    "start_time": "2022-02-10T14:18:20.713Z"
   },
   {
    "duration": 591,
    "start_time": "2022-02-10T14:18:20.722Z"
   },
   {
    "duration": 6,
    "start_time": "2022-02-10T14:18:21.315Z"
   },
   {
    "duration": 13,
    "start_time": "2022-02-10T14:18:21.324Z"
   },
   {
    "duration": 33,
    "start_time": "2022-02-10T14:18:21.339Z"
   },
   {
    "duration": 7,
    "start_time": "2022-02-10T14:18:21.375Z"
   },
   {
    "duration": 8,
    "start_time": "2022-02-10T14:18:21.385Z"
   },
   {
    "duration": 18,
    "start_time": "2022-02-10T14:18:21.395Z"
   },
   {
    "duration": 5,
    "start_time": "2022-02-10T14:18:21.416Z"
   },
   {
    "duration": 7,
    "start_time": "2022-02-10T14:18:21.424Z"
   },
   {
    "duration": 571,
    "start_time": "2022-02-10T14:18:21.470Z"
   },
   {
    "duration": 543,
    "start_time": "2022-02-10T14:18:22.044Z"
   },
   {
    "duration": 582,
    "start_time": "2022-02-10T14:18:22.589Z"
   },
   {
    "duration": 7,
    "start_time": "2022-02-10T14:18:23.173Z"
   },
   {
    "duration": 7,
    "start_time": "2022-02-10T14:18:23.183Z"
   },
   {
    "duration": 1027,
    "start_time": "2022-02-10T14:18:23.195Z"
   },
   {
    "duration": 1016,
    "start_time": "2022-02-10T14:18:24.225Z"
   },
   {
    "duration": 5,
    "start_time": "2022-02-10T14:18:25.244Z"
   },
   {
    "duration": 28,
    "start_time": "2022-02-10T14:18:25.251Z"
   },
   {
    "duration": 30,
    "start_time": "2022-02-10T14:18:25.281Z"
   },
   {
    "duration": 588,
    "start_time": "2022-02-10T14:18:25.313Z"
   },
   {
    "duration": 30,
    "start_time": "2022-02-10T14:18:25.904Z"
   },
   {
    "duration": 54,
    "start_time": "2022-02-10T14:18:25.937Z"
   },
   {
    "duration": 6,
    "start_time": "2022-02-10T14:18:25.994Z"
   },
   {
    "duration": 28,
    "start_time": "2022-02-10T14:18:26.004Z"
   },
   {
    "duration": 34,
    "start_time": "2022-02-10T14:18:26.035Z"
   },
   {
    "duration": 7,
    "start_time": "2022-02-10T14:18:26.073Z"
   },
   {
    "duration": 6,
    "start_time": "2022-02-10T14:18:26.083Z"
   },
   {
    "duration": 23,
    "start_time": "2022-02-10T14:18:26.092Z"
   },
   {
    "duration": 90,
    "start_time": "2022-02-10T14:18:26.118Z"
   },
   {
    "duration": 9,
    "start_time": "2022-02-10T14:18:26.211Z"
   },
   {
    "duration": 8,
    "start_time": "2022-02-10T14:18:26.223Z"
   },
   {
    "duration": 11,
    "start_time": "2022-02-10T14:18:26.234Z"
   },
   {
    "duration": 5,
    "start_time": "2022-02-10T14:18:26.270Z"
   },
   {
    "duration": 1967792,
    "start_time": "2022-02-10T14:18:26.278Z"
   },
   {
    "duration": 3,
    "start_time": "2022-02-10T14:51:14.072Z"
   },
   {
    "duration": 1683,
    "start_time": "2022-02-10T14:57:20.369Z"
   },
   {
    "duration": 893,
    "start_time": "2022-02-10T14:57:22.055Z"
   },
   {
    "duration": 36,
    "start_time": "2022-02-10T14:57:22.951Z"
   },
   {
    "duration": 36,
    "start_time": "2022-02-10T14:57:22.990Z"
   },
   {
    "duration": 9,
    "start_time": "2022-02-10T14:57:23.029Z"
   },
   {
    "duration": 424,
    "start_time": "2022-02-10T14:57:23.040Z"
   },
   {
    "duration": 10,
    "start_time": "2022-02-10T14:57:23.470Z"
   },
   {
    "duration": 15,
    "start_time": "2022-02-10T14:57:23.484Z"
   },
   {
    "duration": 1130,
    "start_time": "2022-02-10T14:57:23.503Z"
   },
   {
    "duration": 6,
    "start_time": "2022-02-10T14:57:24.636Z"
   },
   {
    "duration": 26,
    "start_time": "2022-02-10T14:57:24.644Z"
   },
   {
    "duration": 19,
    "start_time": "2022-02-10T14:57:24.673Z"
   },
   {
    "duration": 8,
    "start_time": "2022-02-10T14:57:24.694Z"
   },
   {
    "duration": 9,
    "start_time": "2022-02-10T14:57:24.704Z"
   },
   {
    "duration": 61,
    "start_time": "2022-02-10T14:57:24.715Z"
   },
   {
    "duration": 5,
    "start_time": "2022-02-10T14:57:24.778Z"
   },
   {
    "duration": 11,
    "start_time": "2022-02-10T14:57:24.786Z"
   },
   {
    "duration": 586,
    "start_time": "2022-02-10T14:57:24.800Z"
   },
   {
    "duration": 594,
    "start_time": "2022-02-10T14:57:25.388Z"
   },
   {
    "duration": 677,
    "start_time": "2022-02-10T14:57:25.984Z"
   },
   {
    "duration": 7,
    "start_time": "2022-02-10T14:57:26.668Z"
   },
   {
    "duration": 8,
    "start_time": "2022-02-10T14:57:26.678Z"
   },
   {
    "duration": 1046,
    "start_time": "2022-02-10T14:57:26.694Z"
   },
   {
    "duration": 1014,
    "start_time": "2022-02-10T14:57:27.743Z"
   },
   {
    "duration": 14,
    "start_time": "2022-02-10T14:57:28.759Z"
   },
   {
    "duration": 42,
    "start_time": "2022-02-10T14:57:28.775Z"
   },
   {
    "duration": 51,
    "start_time": "2022-02-10T14:57:28.819Z"
   },
   {
    "duration": 609,
    "start_time": "2022-02-10T14:57:28.873Z"
   },
   {
    "duration": 40,
    "start_time": "2022-02-10T14:57:29.485Z"
   },
   {
    "duration": 65,
    "start_time": "2022-02-10T14:57:29.528Z"
   },
   {
    "duration": 6,
    "start_time": "2022-02-10T14:57:29.596Z"
   },
   {
    "duration": 44,
    "start_time": "2022-02-10T14:57:29.604Z"
   },
   {
    "duration": 31,
    "start_time": "2022-02-10T14:57:29.651Z"
   },
   {
    "duration": 31,
    "start_time": "2022-02-10T14:57:29.684Z"
   },
   {
    "duration": 45,
    "start_time": "2022-02-10T14:57:29.719Z"
   },
   {
    "duration": 32,
    "start_time": "2022-02-10T14:57:29.767Z"
   },
   {
    "duration": 51,
    "start_time": "2022-02-10T14:57:29.802Z"
   },
   {
    "duration": 7,
    "start_time": "2022-02-10T14:57:29.856Z"
   },
   {
    "duration": 17,
    "start_time": "2022-02-10T14:57:29.865Z"
   },
   {
    "duration": 13,
    "start_time": "2022-02-10T14:57:29.885Z"
   },
   {
    "duration": 32,
    "start_time": "2022-02-10T14:57:29.900Z"
   },
   {
    "duration": 296950,
    "start_time": "2022-02-10T14:57:29.934Z"
   },
   {
    "duration": 3,
    "start_time": "2022-02-10T15:02:26.887Z"
   },
   {
    "duration": 1606,
    "start_time": "2022-02-10T15:09:19.586Z"
   },
   {
    "duration": 989,
    "start_time": "2022-02-10T15:09:21.196Z"
   },
   {
    "duration": 27,
    "start_time": "2022-02-10T15:09:22.188Z"
   },
   {
    "duration": 56,
    "start_time": "2022-02-10T15:09:22.218Z"
   },
   {
    "duration": 16,
    "start_time": "2022-02-10T15:09:22.277Z"
   },
   {
    "duration": 417,
    "start_time": "2022-02-10T15:09:22.296Z"
   },
   {
    "duration": 11,
    "start_time": "2022-02-10T15:09:22.716Z"
   },
   {
    "duration": 5,
    "start_time": "2022-02-10T15:09:22.733Z"
   },
   {
    "duration": 613,
    "start_time": "2022-02-10T15:09:22.743Z"
   },
   {
    "duration": 15,
    "start_time": "2022-02-10T15:09:23.360Z"
   },
   {
    "duration": 10,
    "start_time": "2022-02-10T15:09:23.378Z"
   },
   {
    "duration": 13,
    "start_time": "2022-02-10T15:09:23.390Z"
   },
   {
    "duration": 8,
    "start_time": "2022-02-10T15:09:23.406Z"
   },
   {
    "duration": 13,
    "start_time": "2022-02-10T15:09:23.417Z"
   },
   {
    "duration": 20,
    "start_time": "2022-02-10T15:09:23.470Z"
   },
   {
    "duration": 6,
    "start_time": "2022-02-10T15:09:23.492Z"
   },
   {
    "duration": 9,
    "start_time": "2022-02-10T15:09:23.501Z"
   },
   {
    "duration": 669,
    "start_time": "2022-02-10T15:09:23.512Z"
   },
   {
    "duration": 552,
    "start_time": "2022-02-10T15:09:24.184Z"
   },
   {
    "duration": 581,
    "start_time": "2022-02-10T15:09:24.738Z"
   },
   {
    "duration": 7,
    "start_time": "2022-02-10T15:09:25.322Z"
   },
   {
    "duration": 7,
    "start_time": "2022-02-10T15:09:25.333Z"
   },
   {
    "duration": 1013,
    "start_time": "2022-02-10T15:09:25.369Z"
   },
   {
    "duration": 1001,
    "start_time": "2022-02-10T15:09:26.385Z"
   },
   {
    "duration": 6,
    "start_time": "2022-02-10T15:09:27.388Z"
   },
   {
    "duration": 25,
    "start_time": "2022-02-10T15:09:27.396Z"
   },
   {
    "duration": 47,
    "start_time": "2022-02-10T15:09:27.424Z"
   },
   {
    "duration": 564,
    "start_time": "2022-02-10T15:09:27.474Z"
   },
   {
    "duration": 41,
    "start_time": "2022-02-10T15:09:28.040Z"
   },
   {
    "duration": 26,
    "start_time": "2022-02-10T15:09:28.084Z"
   },
   {
    "duration": 5,
    "start_time": "2022-02-10T15:09:28.112Z"
   },
   {
    "duration": 61,
    "start_time": "2022-02-10T15:09:28.119Z"
   },
   {
    "duration": 5,
    "start_time": "2022-02-10T15:09:28.183Z"
   },
   {
    "duration": 6,
    "start_time": "2022-02-10T15:09:28.191Z"
   },
   {
    "duration": 10,
    "start_time": "2022-02-10T15:09:28.200Z"
   },
   {
    "duration": 23,
    "start_time": "2022-02-10T15:09:28.213Z"
   },
   {
    "duration": 45,
    "start_time": "2022-02-10T15:09:28.270Z"
   },
   {
    "duration": 9,
    "start_time": "2022-02-10T15:09:28.318Z"
   },
   {
    "duration": 17,
    "start_time": "2022-02-10T15:09:28.329Z"
   },
   {
    "duration": 21,
    "start_time": "2022-02-10T15:09:28.349Z"
   },
   {
    "duration": 11,
    "start_time": "2022-02-10T15:09:28.373Z"
   },
   {
    "duration": 98,
    "start_time": "2022-02-10T15:09:28.388Z"
   },
   {
    "duration": -6263,
    "start_time": "2022-02-10T15:09:34.752Z"
   },
   {
    "duration": 252599,
    "start_time": "2022-02-10T15:09:37.247Z"
   },
   {
    "duration": 1527,
    "start_time": "2022-02-10T15:19:26.125Z"
   },
   {
    "duration": 894,
    "start_time": "2022-02-10T15:19:27.655Z"
   },
   {
    "duration": 42,
    "start_time": "2022-02-10T15:19:28.552Z"
   },
   {
    "duration": 37,
    "start_time": "2022-02-10T15:19:28.597Z"
   },
   {
    "duration": 6,
    "start_time": "2022-02-10T15:19:28.636Z"
   },
   {
    "duration": 425,
    "start_time": "2022-02-10T15:19:28.644Z"
   },
   {
    "duration": 10,
    "start_time": "2022-02-10T15:19:29.071Z"
   },
   {
    "duration": 13,
    "start_time": "2022-02-10T15:19:29.086Z"
   },
   {
    "duration": 641,
    "start_time": "2022-02-10T15:19:29.101Z"
   },
   {
    "duration": 6,
    "start_time": "2022-02-10T15:19:29.745Z"
   },
   {
    "duration": 24,
    "start_time": "2022-02-10T15:19:29.753Z"
   },
   {
    "duration": 13,
    "start_time": "2022-02-10T15:19:29.779Z"
   },
   {
    "duration": 7,
    "start_time": "2022-02-10T15:19:29.795Z"
   },
   {
    "duration": 7,
    "start_time": "2022-02-10T15:19:29.805Z"
   },
   {
    "duration": 62,
    "start_time": "2022-02-10T15:19:29.814Z"
   },
   {
    "duration": 6,
    "start_time": "2022-02-10T15:19:29.879Z"
   },
   {
    "duration": 6,
    "start_time": "2022-02-10T15:19:29.887Z"
   },
   {
    "duration": 573,
    "start_time": "2022-02-10T15:19:29.896Z"
   },
   {
    "duration": 537,
    "start_time": "2022-02-10T15:19:30.471Z"
   },
   {
    "duration": 578,
    "start_time": "2022-02-10T15:19:31.010Z"
   },
   {
    "duration": 6,
    "start_time": "2022-02-10T15:19:31.591Z"
   },
   {
    "duration": 12,
    "start_time": "2022-02-10T15:19:31.599Z"
   },
   {
    "duration": 1052,
    "start_time": "2022-02-10T15:19:31.617Z"
   },
   {
    "duration": 1001,
    "start_time": "2022-02-10T15:19:32.672Z"
   },
   {
    "duration": 6,
    "start_time": "2022-02-10T15:19:33.676Z"
   },
   {
    "duration": 18,
    "start_time": "2022-02-10T15:19:33.685Z"
   },
   {
    "duration": 32,
    "start_time": "2022-02-10T15:19:33.706Z"
   },
   {
    "duration": 559,
    "start_time": "2022-02-10T15:19:33.769Z"
   },
   {
    "duration": 40,
    "start_time": "2022-02-10T15:19:34.331Z"
   },
   {
    "duration": 26,
    "start_time": "2022-02-10T15:19:34.374Z"
   },
   {
    "duration": 4,
    "start_time": "2022-02-10T15:19:34.403Z"
   },
   {
    "duration": 60,
    "start_time": "2022-02-10T15:19:34.409Z"
   },
   {
    "duration": 6,
    "start_time": "2022-02-10T15:19:34.471Z"
   },
   {
    "duration": 7,
    "start_time": "2022-02-10T15:19:34.479Z"
   },
   {
    "duration": 6,
    "start_time": "2022-02-10T15:19:34.488Z"
   },
   {
    "duration": 21,
    "start_time": "2022-02-10T15:19:34.497Z"
   },
   {
    "duration": 77,
    "start_time": "2022-02-10T15:19:34.520Z"
   },
   {
    "duration": 9,
    "start_time": "2022-02-10T15:19:34.600Z"
   },
   {
    "duration": 5,
    "start_time": "2022-02-10T15:19:34.611Z"
   },
   {
    "duration": 6,
    "start_time": "2022-02-10T15:19:34.619Z"
   },
   {
    "duration": 43,
    "start_time": "2022-02-10T15:19:34.627Z"
   },
   {
    "duration": 141004,
    "start_time": "2022-02-10T15:19:34.672Z"
   },
   {
    "duration": 3,
    "start_time": "2022-02-10T15:21:55.678Z"
   },
   {
    "duration": 1573,
    "start_time": "2022-02-10T15:22:49.682Z"
   },
   {
    "duration": 878,
    "start_time": "2022-02-10T15:22:51.258Z"
   },
   {
    "duration": 30,
    "start_time": "2022-02-10T15:22:52.139Z"
   },
   {
    "duration": 33,
    "start_time": "2022-02-10T15:22:52.172Z"
   },
   {
    "duration": 6,
    "start_time": "2022-02-10T15:22:52.207Z"
   },
   {
    "duration": 423,
    "start_time": "2022-02-10T15:22:52.215Z"
   },
   {
    "duration": 10,
    "start_time": "2022-02-10T15:22:52.641Z"
   },
   {
    "duration": 4,
    "start_time": "2022-02-10T15:22:52.670Z"
   },
   {
    "duration": 592,
    "start_time": "2022-02-10T15:22:52.677Z"
   },
   {
    "duration": 6,
    "start_time": "2022-02-10T15:22:53.271Z"
   },
   {
    "duration": 9,
    "start_time": "2022-02-10T15:22:53.280Z"
   },
   {
    "duration": 12,
    "start_time": "2022-02-10T15:22:53.292Z"
   },
   {
    "duration": 7,
    "start_time": "2022-02-10T15:22:53.307Z"
   },
   {
    "duration": 7,
    "start_time": "2022-02-10T15:22:53.316Z"
   },
   {
    "duration": 16,
    "start_time": "2022-02-10T15:22:53.370Z"
   },
   {
    "duration": 5,
    "start_time": "2022-02-10T15:22:53.389Z"
   },
   {
    "duration": 9,
    "start_time": "2022-02-10T15:22:53.397Z"
   },
   {
    "duration": 572,
    "start_time": "2022-02-10T15:22:53.409Z"
   },
   {
    "duration": 541,
    "start_time": "2022-02-10T15:22:53.984Z"
   },
   {
    "duration": 567,
    "start_time": "2022-02-10T15:22:54.528Z"
   },
   {
    "duration": 6,
    "start_time": "2022-02-10T15:22:55.098Z"
   },
   {
    "duration": 8,
    "start_time": "2022-02-10T15:22:55.107Z"
   },
   {
    "duration": 1028,
    "start_time": "2022-02-10T15:22:55.120Z"
   },
   {
    "duration": 969,
    "start_time": "2022-02-10T15:22:56.151Z"
   },
   {
    "duration": 7,
    "start_time": "2022-02-10T15:22:57.124Z"
   },
   {
    "duration": 36,
    "start_time": "2022-02-10T15:22:57.134Z"
   },
   {
    "duration": 32,
    "start_time": "2022-02-10T15:22:57.173Z"
   },
   {
    "duration": 578,
    "start_time": "2022-02-10T15:22:57.208Z"
   },
   {
    "duration": 31,
    "start_time": "2022-02-10T15:22:57.789Z"
   },
   {
    "duration": 61,
    "start_time": "2022-02-10T15:22:57.823Z"
   },
   {
    "duration": 4,
    "start_time": "2022-02-10T15:22:57.886Z"
   },
   {
    "duration": 27,
    "start_time": "2022-02-10T15:22:57.893Z"
   },
   {
    "duration": 4,
    "start_time": "2022-02-10T15:22:57.923Z"
   },
   {
    "duration": 10,
    "start_time": "2022-02-10T15:22:57.929Z"
   },
   {
    "duration": 31,
    "start_time": "2022-02-10T15:22:57.941Z"
   },
   {
    "duration": 21,
    "start_time": "2022-02-10T15:22:57.974Z"
   },
   {
    "duration": 72,
    "start_time": "2022-02-10T15:22:57.997Z"
   },
   {
    "duration": 7,
    "start_time": "2022-02-10T15:22:58.072Z"
   },
   {
    "duration": 5,
    "start_time": "2022-02-10T15:22:58.082Z"
   },
   {
    "duration": 10,
    "start_time": "2022-02-10T15:22:58.089Z"
   },
   {
    "duration": 16,
    "start_time": "2022-02-10T15:22:58.101Z"
   },
   {
    "duration": 78674,
    "start_time": "2022-02-10T15:22:58.120Z"
   },
   {
    "duration": 3,
    "start_time": "2022-02-10T15:24:16.796Z"
   },
   {
    "duration": 1594,
    "start_time": "2022-02-10T15:25:45.960Z"
   },
   {
    "duration": 901,
    "start_time": "2022-02-10T15:25:47.559Z"
   },
   {
    "duration": 27,
    "start_time": "2022-02-10T15:25:48.463Z"
   },
   {
    "duration": 33,
    "start_time": "2022-02-10T15:25:48.493Z"
   },
   {
    "duration": 7,
    "start_time": "2022-02-10T15:25:48.528Z"
   },
   {
    "duration": 398,
    "start_time": "2022-02-10T15:25:48.570Z"
   },
   {
    "duration": 13,
    "start_time": "2022-02-10T15:25:48.971Z"
   },
   {
    "duration": 14,
    "start_time": "2022-02-10T15:25:48.987Z"
   },
   {
    "duration": 600,
    "start_time": "2022-02-10T15:25:49.004Z"
   },
   {
    "duration": 8,
    "start_time": "2022-02-10T15:25:49.607Z"
   },
   {
    "duration": 11,
    "start_time": "2022-02-10T15:25:49.618Z"
   },
   {
    "duration": 42,
    "start_time": "2022-02-10T15:25:49.631Z"
   },
   {
    "duration": 8,
    "start_time": "2022-02-10T15:25:49.676Z"
   },
   {
    "duration": 7,
    "start_time": "2022-02-10T15:25:49.687Z"
   },
   {
    "duration": 22,
    "start_time": "2022-02-10T15:25:49.696Z"
   },
   {
    "duration": 5,
    "start_time": "2022-02-10T15:25:49.720Z"
   },
   {
    "duration": 42,
    "start_time": "2022-02-10T15:25:49.727Z"
   },
   {
    "duration": 548,
    "start_time": "2022-02-10T15:25:49.772Z"
   },
   {
    "duration": 534,
    "start_time": "2022-02-10T15:25:50.323Z"
   },
   {
    "duration": 579,
    "start_time": "2022-02-10T15:25:50.859Z"
   },
   {
    "duration": 7,
    "start_time": "2022-02-10T15:25:51.440Z"
   },
   {
    "duration": 19,
    "start_time": "2022-02-10T15:25:51.450Z"
   },
   {
    "duration": 1109,
    "start_time": "2022-02-10T15:25:51.472Z"
   },
   {
    "duration": 1020,
    "start_time": "2022-02-10T15:25:52.583Z"
   },
   {
    "duration": 5,
    "start_time": "2022-02-10T15:25:53.606Z"
   },
   {
    "duration": 14,
    "start_time": "2022-02-10T15:25:53.619Z"
   },
   {
    "duration": 57,
    "start_time": "2022-02-10T15:25:53.637Z"
   },
   {
    "duration": 573,
    "start_time": "2022-02-10T15:25:53.697Z"
   },
   {
    "duration": 30,
    "start_time": "2022-02-10T15:25:54.273Z"
   },
   {
    "duration": 28,
    "start_time": "2022-02-10T15:25:54.305Z"
   },
   {
    "duration": 35,
    "start_time": "2022-02-10T15:25:54.336Z"
   },
   {
    "duration": 26,
    "start_time": "2022-02-10T15:25:54.374Z"
   },
   {
    "duration": 6,
    "start_time": "2022-02-10T15:25:54.402Z"
   },
   {
    "duration": 5,
    "start_time": "2022-02-10T15:25:54.410Z"
   },
   {
    "duration": 6,
    "start_time": "2022-02-10T15:25:54.417Z"
   },
   {
    "duration": 60,
    "start_time": "2022-02-10T15:25:54.426Z"
   },
   {
    "duration": 46,
    "start_time": "2022-02-10T15:25:54.489Z"
   },
   {
    "duration": 33,
    "start_time": "2022-02-10T15:25:54.537Z"
   },
   {
    "duration": 3,
    "start_time": "2022-02-10T15:25:54.573Z"
   },
   {
    "duration": 8,
    "start_time": "2022-02-10T15:25:54.579Z"
   },
   {
    "duration": 6,
    "start_time": "2022-02-10T15:25:54.589Z"
   },
   {
    "duration": 1896211,
    "start_time": "2022-02-10T15:25:54.598Z"
   },
   {
    "duration": 3,
    "start_time": "2022-02-10T15:57:30.811Z"
   },
   {
    "duration": 2236,
    "start_time": "2022-02-10T16:53:12.939Z"
   },
   {
    "duration": 959,
    "start_time": "2022-02-10T16:53:15.181Z"
   },
   {
    "duration": 36,
    "start_time": "2022-02-10T16:53:16.143Z"
   },
   {
    "duration": 35,
    "start_time": "2022-02-10T16:53:16.182Z"
   },
   {
    "duration": 6,
    "start_time": "2022-02-10T16:53:16.220Z"
   },
   {
    "duration": 487,
    "start_time": "2022-02-10T16:53:16.228Z"
   },
   {
    "duration": 14,
    "start_time": "2022-02-10T16:53:16.721Z"
   },
   {
    "duration": 31,
    "start_time": "2022-02-10T16:53:16.739Z"
   },
   {
    "duration": 1053,
    "start_time": "2022-02-10T16:53:16.773Z"
   },
   {
    "duration": 8,
    "start_time": "2022-02-10T16:53:17.830Z"
   },
   {
    "duration": 29,
    "start_time": "2022-02-10T16:53:17.842Z"
   },
   {
    "duration": 18,
    "start_time": "2022-02-10T16:53:17.874Z"
   },
   {
    "duration": 7,
    "start_time": "2022-02-10T16:53:17.895Z"
   },
   {
    "duration": 15,
    "start_time": "2022-02-10T16:53:17.905Z"
   },
   {
    "duration": 51,
    "start_time": "2022-02-10T16:53:17.923Z"
   },
   {
    "duration": 5,
    "start_time": "2022-02-10T16:53:17.977Z"
   },
   {
    "duration": 8,
    "start_time": "2022-02-10T16:53:17.985Z"
   },
   {
    "duration": 627,
    "start_time": "2022-02-10T16:53:17.996Z"
   },
   {
    "duration": 611,
    "start_time": "2022-02-10T16:53:18.626Z"
   },
   {
    "duration": 595,
    "start_time": "2022-02-10T16:53:19.239Z"
   },
   {
    "duration": 6,
    "start_time": "2022-02-10T16:53:19.837Z"
   },
   {
    "duration": 24,
    "start_time": "2022-02-10T16:53:19.851Z"
   },
   {
    "duration": 1070,
    "start_time": "2022-02-10T16:53:19.878Z"
   },
   {
    "duration": 1058,
    "start_time": "2022-02-10T16:53:20.951Z"
   },
   {
    "duration": 6,
    "start_time": "2022-02-10T16:53:22.013Z"
   },
   {
    "duration": 20,
    "start_time": "2022-02-10T16:53:22.022Z"
   },
   {
    "duration": 54,
    "start_time": "2022-02-10T16:53:22.044Z"
   },
   {
    "duration": 779,
    "start_time": "2022-02-10T16:53:22.102Z"
   },
   {
    "duration": 39,
    "start_time": "2022-02-10T16:53:22.885Z"
   },
   {
    "duration": 49,
    "start_time": "2022-02-10T16:53:22.928Z"
   },
   {
    "duration": 6,
    "start_time": "2022-02-10T16:53:22.979Z"
   },
   {
    "duration": 28,
    "start_time": "2022-02-10T16:53:22.987Z"
   },
   {
    "duration": 6,
    "start_time": "2022-02-10T16:53:23.017Z"
   },
   {
    "duration": 45,
    "start_time": "2022-02-10T16:53:23.025Z"
   },
   {
    "duration": 7,
    "start_time": "2022-02-10T16:53:23.072Z"
   },
   {
    "duration": 23,
    "start_time": "2022-02-10T16:53:23.081Z"
   },
   {
    "duration": 87,
    "start_time": "2022-02-10T16:53:23.107Z"
   },
   {
    "duration": 8,
    "start_time": "2022-02-10T16:53:23.197Z"
   },
   {
    "duration": 24,
    "start_time": "2022-02-10T16:53:23.208Z"
   },
   {
    "duration": 9,
    "start_time": "2022-02-10T16:53:23.235Z"
   },
   {
    "duration": 12,
    "start_time": "2022-02-10T16:53:23.247Z"
   },
   {
    "duration": 91125,
    "start_time": "2022-02-10T16:53:23.261Z"
   },
   {
    "duration": 4,
    "start_time": "2022-02-10T16:54:54.389Z"
   },
   {
    "duration": 1611,
    "start_time": "2022-02-10T16:56:50.840Z"
   },
   {
    "duration": 965,
    "start_time": "2022-02-10T16:56:52.454Z"
   },
   {
    "duration": 29,
    "start_time": "2022-02-10T16:56:53.422Z"
   },
   {
    "duration": 50,
    "start_time": "2022-02-10T16:56:53.453Z"
   },
   {
    "duration": 6,
    "start_time": "2022-02-10T16:56:53.506Z"
   },
   {
    "duration": 424,
    "start_time": "2022-02-10T16:56:53.514Z"
   },
   {
    "duration": 10,
    "start_time": "2022-02-10T16:56:53.940Z"
   },
   {
    "duration": 17,
    "start_time": "2022-02-10T16:56:53.954Z"
   },
   {
    "duration": 588,
    "start_time": "2022-02-10T16:56:53.975Z"
   },
   {
    "duration": 7,
    "start_time": "2022-02-10T16:56:54.565Z"
   },
   {
    "duration": 11,
    "start_time": "2022-02-10T16:56:54.575Z"
   },
   {
    "duration": 12,
    "start_time": "2022-02-10T16:56:54.589Z"
   },
   {
    "duration": 7,
    "start_time": "2022-02-10T16:56:54.604Z"
   },
   {
    "duration": 6,
    "start_time": "2022-02-10T16:56:54.614Z"
   },
   {
    "duration": 63,
    "start_time": "2022-02-10T16:56:54.622Z"
   },
   {
    "duration": 5,
    "start_time": "2022-02-10T16:56:54.688Z"
   },
   {
    "duration": 6,
    "start_time": "2022-02-10T16:56:54.695Z"
   },
   {
    "duration": 594,
    "start_time": "2022-02-10T16:56:54.703Z"
   },
   {
    "duration": 559,
    "start_time": "2022-02-10T16:56:55.301Z"
   },
   {
    "duration": 628,
    "start_time": "2022-02-10T16:56:55.863Z"
   },
   {
    "duration": 6,
    "start_time": "2022-02-10T16:56:56.494Z"
   },
   {
    "duration": 6,
    "start_time": "2022-02-10T16:56:56.502Z"
   },
   {
    "duration": 1034,
    "start_time": "2022-02-10T16:56:56.513Z"
   },
   {
    "duration": 986,
    "start_time": "2022-02-10T16:56:57.549Z"
   },
   {
    "duration": 5,
    "start_time": "2022-02-10T16:56:58.538Z"
   },
   {
    "duration": 30,
    "start_time": "2022-02-10T16:56:58.546Z"
   },
   {
    "duration": 31,
    "start_time": "2022-02-10T16:56:58.578Z"
   },
   {
    "duration": 604,
    "start_time": "2022-02-10T16:56:58.612Z"
   },
   {
    "duration": 32,
    "start_time": "2022-02-10T16:56:59.218Z"
   },
   {
    "duration": 40,
    "start_time": "2022-02-10T16:56:59.253Z"
   },
   {
    "duration": 4,
    "start_time": "2022-02-10T16:56:59.296Z"
   },
   {
    "duration": 24,
    "start_time": "2022-02-10T16:56:59.303Z"
   },
   {
    "duration": 41,
    "start_time": "2022-02-10T16:56:59.330Z"
   },
   {
    "duration": 5,
    "start_time": "2022-02-10T16:56:59.373Z"
   },
   {
    "duration": 16,
    "start_time": "2022-02-10T16:56:59.381Z"
   },
   {
    "duration": 29,
    "start_time": "2022-02-10T16:56:59.399Z"
   },
   {
    "duration": 70,
    "start_time": "2022-02-10T16:56:59.432Z"
   },
   {
    "duration": 9,
    "start_time": "2022-02-10T16:56:59.505Z"
   },
   {
    "duration": 15,
    "start_time": "2022-02-10T16:56:59.517Z"
   },
   {
    "duration": 8,
    "start_time": "2022-02-10T16:56:59.535Z"
   },
   {
    "duration": 26,
    "start_time": "2022-02-10T16:56:59.545Z"
   },
   {
    "duration": 34631,
    "start_time": "2022-02-10T16:56:59.574Z"
   },
   {
    "duration": 3,
    "start_time": "2022-02-10T16:57:34.208Z"
   },
   {
    "duration": 1704,
    "start_time": "2022-02-10T17:13:37.258Z"
   },
   {
    "duration": 910,
    "start_time": "2022-02-10T17:13:38.965Z"
   },
   {
    "duration": 26,
    "start_time": "2022-02-10T17:13:39.879Z"
   },
   {
    "duration": 36,
    "start_time": "2022-02-10T17:13:39.908Z"
   },
   {
    "duration": 6,
    "start_time": "2022-02-10T17:13:39.948Z"
   },
   {
    "duration": 636,
    "start_time": "2022-02-10T17:13:39.956Z"
   },
   {
    "duration": 11,
    "start_time": "2022-02-10T17:13:40.594Z"
   },
   {
    "duration": 5,
    "start_time": "2022-02-10T17:13:40.608Z"
   },
   {
    "duration": 696,
    "start_time": "2022-02-10T17:13:40.617Z"
   },
   {
    "duration": 6,
    "start_time": "2022-02-10T17:13:41.315Z"
   },
   {
    "duration": 24,
    "start_time": "2022-02-10T17:13:41.324Z"
   },
   {
    "duration": 46,
    "start_time": "2022-02-10T17:13:41.350Z"
   },
   {
    "duration": 24,
    "start_time": "2022-02-10T17:13:41.398Z"
   },
   {
    "duration": 26,
    "start_time": "2022-02-10T17:13:41.424Z"
   },
   {
    "duration": 37,
    "start_time": "2022-02-10T17:13:41.453Z"
   },
   {
    "duration": 6,
    "start_time": "2022-02-10T17:13:41.493Z"
   },
   {
    "duration": 21,
    "start_time": "2022-02-10T17:13:41.501Z"
   },
   {
    "duration": 821,
    "start_time": "2022-02-10T17:13:41.525Z"
   },
   {
    "duration": 794,
    "start_time": "2022-02-10T17:13:42.349Z"
   },
   {
    "duration": 850,
    "start_time": "2022-02-10T17:13:43.146Z"
   },
   {
    "duration": 7,
    "start_time": "2022-02-10T17:13:43.999Z"
   },
   {
    "duration": 6,
    "start_time": "2022-02-10T17:13:44.008Z"
   },
   {
    "duration": 1242,
    "start_time": "2022-02-10T17:13:44.019Z"
   },
   {
    "duration": 1238,
    "start_time": "2022-02-10T17:13:45.264Z"
   },
   {
    "duration": 7,
    "start_time": "2022-02-10T17:13:46.505Z"
   },
   {
    "duration": 24,
    "start_time": "2022-02-10T17:13:46.515Z"
   },
   {
    "duration": 67,
    "start_time": "2022-02-10T17:13:46.542Z"
   },
   {
    "duration": 825,
    "start_time": "2022-02-10T17:13:46.613Z"
   },
   {
    "duration": 45,
    "start_time": "2022-02-10T17:13:47.441Z"
   },
   {
    "duration": 27,
    "start_time": "2022-02-10T17:13:47.489Z"
   },
   {
    "duration": 6,
    "start_time": "2022-02-10T17:13:47.519Z"
   },
   {
    "duration": 62,
    "start_time": "2022-02-10T17:13:47.527Z"
   },
   {
    "duration": 6,
    "start_time": "2022-02-10T17:13:47.592Z"
   },
   {
    "duration": 5,
    "start_time": "2022-02-10T17:13:47.600Z"
   },
   {
    "duration": 10,
    "start_time": "2022-02-10T17:13:47.607Z"
   },
   {
    "duration": 20,
    "start_time": "2022-02-10T17:13:47.619Z"
   },
   {
    "duration": 70,
    "start_time": "2022-02-10T17:13:47.642Z"
   },
   {
    "duration": 7,
    "start_time": "2022-02-10T17:13:47.715Z"
   },
   {
    "duration": 6,
    "start_time": "2022-02-10T17:13:47.725Z"
   },
   {
    "duration": 36,
    "start_time": "2022-02-10T17:13:47.734Z"
   },
   {
    "duration": 399,
    "start_time": "2022-02-10T17:13:47.773Z"
   },
   {
    "duration": 5,
    "start_time": "2022-02-10T17:13:48.176Z"
   },
   {
    "duration": 35025,
    "start_time": "2022-02-10T17:13:48.184Z"
   },
   {
    "duration": 4,
    "start_time": "2022-02-10T17:14:23.213Z"
   },
   {
    "duration": 1655,
    "start_time": "2022-02-10T17:17:00.608Z"
   },
   {
    "duration": 895,
    "start_time": "2022-02-10T17:17:02.266Z"
   },
   {
    "duration": 26,
    "start_time": "2022-02-10T17:17:03.164Z"
   },
   {
    "duration": 52,
    "start_time": "2022-02-10T17:17:03.195Z"
   },
   {
    "duration": 7,
    "start_time": "2022-02-10T17:17:03.271Z"
   },
   {
    "duration": 494,
    "start_time": "2022-02-10T17:17:03.281Z"
   },
   {
    "duration": 10,
    "start_time": "2022-02-10T17:17:03.778Z"
   },
   {
    "duration": 23,
    "start_time": "2022-02-10T17:17:03.792Z"
   },
   {
    "duration": 585,
    "start_time": "2022-02-10T17:17:03.818Z"
   },
   {
    "duration": 7,
    "start_time": "2022-02-10T17:17:04.406Z"
   },
   {
    "duration": 16,
    "start_time": "2022-02-10T17:17:04.416Z"
   },
   {
    "duration": 41,
    "start_time": "2022-02-10T17:17:04.435Z"
   },
   {
    "duration": 15,
    "start_time": "2022-02-10T17:17:04.478Z"
   },
   {
    "duration": 22,
    "start_time": "2022-02-10T17:17:04.495Z"
   },
   {
    "duration": 36,
    "start_time": "2022-02-10T17:17:04.520Z"
   },
   {
    "duration": 16,
    "start_time": "2022-02-10T17:17:04.559Z"
   },
   {
    "duration": 25,
    "start_time": "2022-02-10T17:17:04.577Z"
   },
   {
    "duration": 576,
    "start_time": "2022-02-10T17:17:04.605Z"
   },
   {
    "duration": 550,
    "start_time": "2022-02-10T17:17:05.185Z"
   },
   {
    "duration": 614,
    "start_time": "2022-02-10T17:17:05.738Z"
   },
   {
    "duration": 15,
    "start_time": "2022-02-10T17:17:06.356Z"
   },
   {
    "duration": 10,
    "start_time": "2022-02-10T17:17:06.373Z"
   },
   {
    "duration": 1108,
    "start_time": "2022-02-10T17:17:06.388Z"
   },
   {
    "duration": 998,
    "start_time": "2022-02-10T17:17:07.499Z"
   },
   {
    "duration": 5,
    "start_time": "2022-02-10T17:17:08.499Z"
   },
   {
    "duration": 28,
    "start_time": "2022-02-10T17:17:08.506Z"
   },
   {
    "duration": 42,
    "start_time": "2022-02-10T17:17:08.536Z"
   },
   {
    "duration": 569,
    "start_time": "2022-02-10T17:17:08.581Z"
   },
   {
    "duration": 39,
    "start_time": "2022-02-10T17:17:09.154Z"
   },
   {
    "duration": 30,
    "start_time": "2022-02-10T17:17:09.196Z"
   },
   {
    "duration": 40,
    "start_time": "2022-02-10T17:17:09.229Z"
   },
   {
    "duration": 36,
    "start_time": "2022-02-10T17:17:09.272Z"
   },
   {
    "duration": 5,
    "start_time": "2022-02-10T17:17:09.310Z"
   },
   {
    "duration": 18,
    "start_time": "2022-02-10T17:17:09.317Z"
   },
   {
    "duration": 12,
    "start_time": "2022-02-10T17:17:09.337Z"
   },
   {
    "duration": 36,
    "start_time": "2022-02-10T17:17:09.352Z"
   },
   {
    "duration": 45,
    "start_time": "2022-02-10T17:17:09.390Z"
   },
   {
    "duration": 8,
    "start_time": "2022-02-10T17:17:09.438Z"
   },
   {
    "duration": 23,
    "start_time": "2022-02-10T17:17:09.448Z"
   },
   {
    "duration": 20,
    "start_time": "2022-02-10T17:17:09.473Z"
   },
   {
    "duration": 442,
    "start_time": "2022-02-10T17:17:09.496Z"
   },
   {
    "duration": -6116,
    "start_time": "2022-02-10T17:17:16.056Z"
   },
   {
    "duration": -6120,
    "start_time": "2022-02-10T17:17:16.062Z"
   },
   {
    "duration": -6124,
    "start_time": "2022-02-10T17:17:16.067Z"
   },
   {
    "duration": 308,
    "start_time": "2022-02-10T17:18:16.351Z"
   },
   {
    "duration": 601,
    "start_time": "2022-02-10T17:25:06.782Z"
   },
   {
    "duration": 2052,
    "start_time": "2022-02-10T17:25:25.553Z"
   },
   {
    "duration": -6126,
    "start_time": "2022-02-10T17:25:33.735Z"
   },
   {
    "duration": -6132,
    "start_time": "2022-02-10T17:25:33.743Z"
   },
   {
    "duration": -6140,
    "start_time": "2022-02-10T17:25:33.752Z"
   },
   {
    "duration": -6144,
    "start_time": "2022-02-10T17:25:33.757Z"
   },
   {
    "duration": -6148,
    "start_time": "2022-02-10T17:25:33.762Z"
   },
   {
    "duration": -6151,
    "start_time": "2022-02-10T17:25:33.767Z"
   },
   {
    "duration": -6157,
    "start_time": "2022-02-10T17:25:33.774Z"
   },
   {
    "duration": -6161,
    "start_time": "2022-02-10T17:25:33.779Z"
   },
   {
    "duration": -6166,
    "start_time": "2022-02-10T17:25:33.785Z"
   },
   {
    "duration": -6170,
    "start_time": "2022-02-10T17:25:33.791Z"
   },
   {
    "duration": -6174,
    "start_time": "2022-02-10T17:25:33.796Z"
   },
   {
    "duration": -6178,
    "start_time": "2022-02-10T17:25:33.801Z"
   },
   {
    "duration": -6183,
    "start_time": "2022-02-10T17:25:33.807Z"
   },
   {
    "duration": -6186,
    "start_time": "2022-02-10T17:25:33.812Z"
   },
   {
    "duration": -6190,
    "start_time": "2022-02-10T17:25:33.817Z"
   },
   {
    "duration": -6194,
    "start_time": "2022-02-10T17:25:33.822Z"
   },
   {
    "duration": -6199,
    "start_time": "2022-02-10T17:25:33.828Z"
   },
   {
    "duration": -6211,
    "start_time": "2022-02-10T17:25:33.842Z"
   },
   {
    "duration": -6216,
    "start_time": "2022-02-10T17:25:33.848Z"
   },
   {
    "duration": -6220,
    "start_time": "2022-02-10T17:25:33.853Z"
   },
   {
    "duration": -6224,
    "start_time": "2022-02-10T17:25:33.859Z"
   },
   {
    "duration": -6228,
    "start_time": "2022-02-10T17:25:33.864Z"
   },
   {
    "duration": -6233,
    "start_time": "2022-02-10T17:25:33.870Z"
   },
   {
    "duration": -6237,
    "start_time": "2022-02-10T17:25:33.875Z"
   },
   {
    "duration": -6241,
    "start_time": "2022-02-10T17:25:33.881Z"
   },
   {
    "duration": -6243,
    "start_time": "2022-02-10T17:25:33.886Z"
   },
   {
    "duration": -6248,
    "start_time": "2022-02-10T17:25:33.892Z"
   },
   {
    "duration": -6250,
    "start_time": "2022-02-10T17:25:33.896Z"
   },
   {
    "duration": -6256,
    "start_time": "2022-02-10T17:25:33.903Z"
   },
   {
    "duration": -6238,
    "start_time": "2022-02-10T17:25:33.907Z"
   },
   {
    "duration": -6242,
    "start_time": "2022-02-10T17:25:33.913Z"
   },
   {
    "duration": -6246,
    "start_time": "2022-02-10T17:25:33.918Z"
   },
   {
    "duration": -6249,
    "start_time": "2022-02-10T17:25:33.923Z"
   },
   {
    "duration": -6253,
    "start_time": "2022-02-10T17:25:33.928Z"
   },
   {
    "duration": -6256,
    "start_time": "2022-02-10T17:25:33.933Z"
   },
   {
    "duration": -6260,
    "start_time": "2022-02-10T17:25:33.938Z"
   },
   {
    "duration": -6272,
    "start_time": "2022-02-10T17:25:33.952Z"
   },
   {
    "duration": -6276,
    "start_time": "2022-02-10T17:25:33.957Z"
   },
   {
    "duration": -6280,
    "start_time": "2022-02-10T17:25:33.963Z"
   },
   {
    "duration": -6283,
    "start_time": "2022-02-10T17:25:33.968Z"
   },
   {
    "duration": -6287,
    "start_time": "2022-02-10T17:25:33.973Z"
   },
   {
    "duration": -6290,
    "start_time": "2022-02-10T17:25:33.978Z"
   },
   {
    "duration": -6294,
    "start_time": "2022-02-10T17:25:33.983Z"
   },
   {
    "duration": 52,
    "start_time": "2022-02-10T17:26:35.589Z"
   },
   {
    "duration": 1566,
    "start_time": "2022-02-10T17:26:42.080Z"
   },
   {
    "duration": 952,
    "start_time": "2022-02-10T17:26:43.649Z"
   },
   {
    "duration": 28,
    "start_time": "2022-02-10T17:26:44.604Z"
   },
   {
    "duration": 52,
    "start_time": "2022-02-10T17:26:44.635Z"
   },
   {
    "duration": 7,
    "start_time": "2022-02-10T17:26:44.691Z"
   },
   {
    "duration": 432,
    "start_time": "2022-02-10T17:26:44.700Z"
   },
   {
    "duration": 10,
    "start_time": "2022-02-10T17:26:45.135Z"
   },
   {
    "duration": 22,
    "start_time": "2022-02-10T17:26:45.149Z"
   },
   {
    "duration": 588,
    "start_time": "2022-02-10T17:26:45.173Z"
   },
   {
    "duration": 10,
    "start_time": "2022-02-10T17:26:45.763Z"
   },
   {
    "duration": 15,
    "start_time": "2022-02-10T17:26:45.776Z"
   },
   {
    "duration": 15,
    "start_time": "2022-02-10T17:26:45.794Z"
   },
   {
    "duration": 6,
    "start_time": "2022-02-10T17:26:45.812Z"
   },
   {
    "duration": 6,
    "start_time": "2022-02-10T17:26:45.822Z"
   },
   {
    "duration": 21,
    "start_time": "2022-02-10T17:26:45.870Z"
   },
   {
    "duration": 6,
    "start_time": "2022-02-10T17:26:45.894Z"
   },
   {
    "duration": 8,
    "start_time": "2022-02-10T17:26:45.903Z"
   },
   {
    "duration": 603,
    "start_time": "2022-02-10T17:26:45.914Z"
   },
   {
    "duration": 550,
    "start_time": "2022-02-10T17:26:46.519Z"
   },
   {
    "duration": 569,
    "start_time": "2022-02-10T17:26:47.072Z"
   },
   {
    "duration": 7,
    "start_time": "2022-02-10T17:26:47.643Z"
   },
   {
    "duration": 19,
    "start_time": "2022-02-10T17:26:47.652Z"
   },
   {
    "duration": 996,
    "start_time": "2022-02-10T17:26:47.676Z"
   },
   {
    "duration": 985,
    "start_time": "2022-02-10T17:26:48.675Z"
   },
   {
    "duration": 12,
    "start_time": "2022-02-10T17:26:49.663Z"
   },
   {
    "duration": 15,
    "start_time": "2022-02-10T17:26:49.677Z"
   },
   {
    "duration": 29,
    "start_time": "2022-02-10T17:26:49.695Z"
   },
   {
    "duration": 593,
    "start_time": "2022-02-10T17:26:49.726Z"
   },
   {
    "duration": 29,
    "start_time": "2022-02-10T17:26:50.322Z"
   },
   {
    "duration": 39,
    "start_time": "2022-02-10T17:26:50.353Z"
   },
   {
    "duration": 5,
    "start_time": "2022-02-10T17:26:50.395Z"
   },
   {
    "duration": 27,
    "start_time": "2022-02-10T17:26:50.402Z"
   },
   {
    "duration": 39,
    "start_time": "2022-02-10T17:26:50.431Z"
   },
   {
    "duration": 7,
    "start_time": "2022-02-10T17:26:50.473Z"
   },
   {
    "duration": 8,
    "start_time": "2022-02-10T17:26:50.483Z"
   },
   {
    "duration": 28,
    "start_time": "2022-02-10T17:26:50.494Z"
   },
   {
    "duration": 71,
    "start_time": "2022-02-10T17:26:50.525Z"
   },
   {
    "duration": 7,
    "start_time": "2022-02-10T17:26:50.599Z"
   },
   {
    "duration": 5,
    "start_time": "2022-02-10T17:26:50.608Z"
   },
   {
    "duration": 10,
    "start_time": "2022-02-10T17:26:50.615Z"
   },
   {
    "duration": 2087,
    "start_time": "2022-02-10T17:26:50.627Z"
   },
   {
    "duration": -6096,
    "start_time": "2022-02-10T17:26:58.813Z"
   },
   {
    "duration": -6103,
    "start_time": "2022-02-10T17:26:58.821Z"
   },
   {
    "duration": -6119,
    "start_time": "2022-02-10T17:26:58.838Z"
   },
   {
    "duration": 1823,
    "start_time": "2022-02-10T17:27:08.246Z"
   },
   {
    "duration": 1616,
    "start_time": "2022-02-10T17:30:02.639Z"
   },
   {
    "duration": 947,
    "start_time": "2022-02-10T17:30:04.257Z"
   },
   {
    "duration": 28,
    "start_time": "2022-02-10T17:30:05.208Z"
   },
   {
    "duration": 50,
    "start_time": "2022-02-10T17:30:05.240Z"
   },
   {
    "duration": 6,
    "start_time": "2022-02-10T17:30:05.293Z"
   },
   {
    "duration": 476,
    "start_time": "2022-02-10T17:30:05.302Z"
   },
   {
    "duration": 10,
    "start_time": "2022-02-10T17:30:05.781Z"
   },
   {
    "duration": 8,
    "start_time": "2022-02-10T17:30:05.795Z"
   },
   {
    "duration": 597,
    "start_time": "2022-02-10T17:30:05.806Z"
   },
   {
    "duration": 6,
    "start_time": "2022-02-10T17:30:06.405Z"
   },
   {
    "duration": 19,
    "start_time": "2022-02-10T17:30:06.414Z"
   },
   {
    "duration": 33,
    "start_time": "2022-02-10T17:30:06.436Z"
   },
   {
    "duration": 9,
    "start_time": "2022-02-10T17:30:06.472Z"
   },
   {
    "duration": 15,
    "start_time": "2022-02-10T17:30:06.483Z"
   },
   {
    "duration": 25,
    "start_time": "2022-02-10T17:30:06.501Z"
   },
   {
    "duration": 5,
    "start_time": "2022-02-10T17:30:06.529Z"
   },
   {
    "duration": 32,
    "start_time": "2022-02-10T17:30:06.537Z"
   },
   {
    "duration": 559,
    "start_time": "2022-02-10T17:30:06.572Z"
   },
   {
    "duration": 553,
    "start_time": "2022-02-10T17:30:07.134Z"
   },
   {
    "duration": 580,
    "start_time": "2022-02-10T17:30:07.689Z"
   },
   {
    "duration": 7,
    "start_time": "2022-02-10T17:30:08.271Z"
   },
   {
    "duration": 12,
    "start_time": "2022-02-10T17:30:08.281Z"
   },
   {
    "duration": 1158,
    "start_time": "2022-02-10T17:30:08.298Z"
   },
   {
    "duration": 1132,
    "start_time": "2022-02-10T17:30:09.459Z"
   },
   {
    "duration": 5,
    "start_time": "2022-02-10T17:30:10.594Z"
   },
   {
    "duration": 24,
    "start_time": "2022-02-10T17:30:10.602Z"
   },
   {
    "duration": 55,
    "start_time": "2022-02-10T17:30:10.628Z"
   },
   {
    "duration": 614,
    "start_time": "2022-02-10T17:30:10.685Z"
   },
   {
    "duration": 31,
    "start_time": "2022-02-10T17:30:11.301Z"
   },
   {
    "duration": 55,
    "start_time": "2022-02-10T17:30:11.335Z"
   },
   {
    "duration": 5,
    "start_time": "2022-02-10T17:30:11.392Z"
   },
   {
    "duration": 28,
    "start_time": "2022-02-10T17:30:11.400Z"
   },
   {
    "duration": 6,
    "start_time": "2022-02-10T17:30:11.430Z"
   },
   {
    "duration": 10,
    "start_time": "2022-02-10T17:30:11.469Z"
   },
   {
    "duration": 8,
    "start_time": "2022-02-10T17:30:11.481Z"
   },
   {
    "duration": 23,
    "start_time": "2022-02-10T17:30:11.492Z"
   },
   {
    "duration": 74,
    "start_time": "2022-02-10T17:30:11.518Z"
   },
   {
    "duration": 8,
    "start_time": "2022-02-10T17:30:11.594Z"
   },
   {
    "duration": 3,
    "start_time": "2022-02-10T17:30:11.604Z"
   },
   {
    "duration": 9,
    "start_time": "2022-02-10T17:30:11.609Z"
   },
   {
    "duration": 1751,
    "start_time": "2022-02-10T17:30:11.620Z"
   },
   {
    "duration": 3,
    "start_time": "2022-02-10T17:30:13.374Z"
   },
   {
    "duration": 35901,
    "start_time": "2022-02-10T17:30:13.380Z"
   },
   {
    "duration": 3,
    "start_time": "2022-02-10T17:30:49.283Z"
   },
   {
    "duration": 1740,
    "start_time": "2022-02-10T17:33:37.979Z"
   },
   {
    "duration": 1117,
    "start_time": "2022-02-10T17:33:39.722Z"
   },
   {
    "duration": 37,
    "start_time": "2022-02-10T17:33:40.842Z"
   },
   {
    "duration": 35,
    "start_time": "2022-02-10T17:33:40.882Z"
   },
   {
    "duration": 6,
    "start_time": "2022-02-10T17:33:40.920Z"
   },
   {
    "duration": 428,
    "start_time": "2022-02-10T17:33:40.929Z"
   },
   {
    "duration": 14,
    "start_time": "2022-02-10T17:33:41.360Z"
   },
   {
    "duration": 5,
    "start_time": "2022-02-10T17:33:41.378Z"
   },
   {
    "duration": 601,
    "start_time": "2022-02-10T17:33:41.386Z"
   },
   {
    "duration": 6,
    "start_time": "2022-02-10T17:33:41.989Z"
   },
   {
    "duration": 7,
    "start_time": "2022-02-10T17:33:41.997Z"
   },
   {
    "duration": 13,
    "start_time": "2022-02-10T17:33:42.007Z"
   },
   {
    "duration": 46,
    "start_time": "2022-02-10T17:33:42.023Z"
   },
   {
    "duration": 5,
    "start_time": "2022-02-10T17:33:42.071Z"
   },
   {
    "duration": 20,
    "start_time": "2022-02-10T17:33:42.078Z"
   },
   {
    "duration": 6,
    "start_time": "2022-02-10T17:33:42.100Z"
   },
   {
    "duration": 6,
    "start_time": "2022-02-10T17:33:42.108Z"
   },
   {
    "duration": 596,
    "start_time": "2022-02-10T17:33:42.117Z"
   },
   {
    "duration": 548,
    "start_time": "2022-02-10T17:33:42.715Z"
   },
   {
    "duration": 584,
    "start_time": "2022-02-10T17:33:43.265Z"
   },
   {
    "duration": 17,
    "start_time": "2022-02-10T17:33:43.852Z"
   },
   {
    "duration": 4,
    "start_time": "2022-02-10T17:33:43.871Z"
   },
   {
    "duration": 1061,
    "start_time": "2022-02-10T17:33:43.881Z"
   },
   {
    "duration": 998,
    "start_time": "2022-02-10T17:33:44.945Z"
   },
   {
    "duration": 5,
    "start_time": "2022-02-10T17:33:45.946Z"
   },
   {
    "duration": 14,
    "start_time": "2022-02-10T17:33:45.969Z"
   },
   {
    "duration": 33,
    "start_time": "2022-02-10T17:33:45.985Z"
   },
   {
    "duration": 606,
    "start_time": "2022-02-10T17:33:46.021Z"
   },
   {
    "duration": 41,
    "start_time": "2022-02-10T17:33:46.629Z"
   },
   {
    "duration": 29,
    "start_time": "2022-02-10T17:33:46.673Z"
   },
   {
    "duration": 6,
    "start_time": "2022-02-10T17:33:46.705Z"
   },
   {
    "duration": 64,
    "start_time": "2022-02-10T17:33:46.714Z"
   },
   {
    "duration": 5,
    "start_time": "2022-02-10T17:33:46.780Z"
   },
   {
    "duration": 5,
    "start_time": "2022-02-10T17:33:46.788Z"
   },
   {
    "duration": 6,
    "start_time": "2022-02-10T17:33:46.796Z"
   },
   {
    "duration": 20,
    "start_time": "2022-02-10T17:33:46.805Z"
   },
   {
    "duration": 70,
    "start_time": "2022-02-10T17:33:46.828Z"
   },
   {
    "duration": 8,
    "start_time": "2022-02-10T17:33:46.900Z"
   },
   {
    "duration": 4,
    "start_time": "2022-02-10T17:33:46.910Z"
   },
   {
    "duration": 6,
    "start_time": "2022-02-10T17:33:46.916Z"
   },
   {
    "duration": 1548,
    "start_time": "2022-02-10T17:33:46.924Z"
   },
   {
    "duration": 1303,
    "start_time": "2022-02-10T17:33:48.475Z"
   },
   {
    "duration": 5,
    "start_time": "2022-02-10T17:33:49.871Z"
   },
   {
    "duration": 40033,
    "start_time": "2022-02-10T17:33:49.879Z"
   },
   {
    "duration": 4,
    "start_time": "2022-02-10T17:34:29.915Z"
   },
   {
    "duration": 1810,
    "start_time": "2022-02-10T17:37:31.483Z"
   },
   {
    "duration": 945,
    "start_time": "2022-02-10T17:37:33.296Z"
   },
   {
    "duration": 40,
    "start_time": "2022-02-10T17:37:34.244Z"
   },
   {
    "duration": 39,
    "start_time": "2022-02-10T17:37:34.287Z"
   },
   {
    "duration": 7,
    "start_time": "2022-02-10T17:37:34.329Z"
   },
   {
    "duration": 441,
    "start_time": "2022-02-10T17:37:34.339Z"
   },
   {
    "duration": 10,
    "start_time": "2022-02-10T17:37:34.782Z"
   },
   {
    "duration": 15,
    "start_time": "2022-02-10T17:37:34.797Z"
   },
   {
    "duration": 711,
    "start_time": "2022-02-10T17:37:34.815Z"
   },
   {
    "duration": 7,
    "start_time": "2022-02-10T17:37:35.529Z"
   },
   {
    "duration": 34,
    "start_time": "2022-02-10T17:37:35.539Z"
   },
   {
    "duration": 15,
    "start_time": "2022-02-10T17:37:35.576Z"
   },
   {
    "duration": 10,
    "start_time": "2022-02-10T17:37:35.604Z"
   },
   {
    "duration": 8,
    "start_time": "2022-02-10T17:37:35.617Z"
   },
   {
    "duration": 51,
    "start_time": "2022-02-10T17:37:35.628Z"
   },
   {
    "duration": 6,
    "start_time": "2022-02-10T17:37:35.681Z"
   },
   {
    "duration": 8,
    "start_time": "2022-02-10T17:37:35.690Z"
   },
   {
    "duration": 596,
    "start_time": "2022-02-10T17:37:35.701Z"
   },
   {
    "duration": 558,
    "start_time": "2022-02-10T17:37:36.300Z"
   },
   {
    "duration": 566,
    "start_time": "2022-02-10T17:37:36.861Z"
   },
   {
    "duration": 6,
    "start_time": "2022-02-10T17:37:37.429Z"
   },
   {
    "duration": 24,
    "start_time": "2022-02-10T17:37:37.438Z"
   },
   {
    "duration": 1207,
    "start_time": "2022-02-10T17:37:37.473Z"
   },
   {
    "duration": 1700,
    "start_time": "2022-02-10T17:37:38.684Z"
   },
   {
    "duration": 7,
    "start_time": "2022-02-10T17:37:40.388Z"
   },
   {
    "duration": 21,
    "start_time": "2022-02-10T17:37:40.398Z"
   },
   {
    "duration": 76,
    "start_time": "2022-02-10T17:37:40.422Z"
   },
   {
    "duration": 602,
    "start_time": "2022-02-10T17:37:40.501Z"
   },
   {
    "duration": 31,
    "start_time": "2022-02-10T17:37:41.106Z"
   },
   {
    "duration": 51,
    "start_time": "2022-02-10T17:37:41.140Z"
   },
   {
    "duration": 6,
    "start_time": "2022-02-10T17:37:41.194Z"
   },
   {
    "duration": 28,
    "start_time": "2022-02-10T17:37:41.203Z"
   },
   {
    "duration": 36,
    "start_time": "2022-02-10T17:37:41.234Z"
   },
   {
    "duration": 7,
    "start_time": "2022-02-10T17:37:41.273Z"
   },
   {
    "duration": 10,
    "start_time": "2022-02-10T17:37:41.282Z"
   },
   {
    "duration": 21,
    "start_time": "2022-02-10T17:37:41.294Z"
   },
   {
    "duration": 76,
    "start_time": "2022-02-10T17:37:41.318Z"
   },
   {
    "duration": 8,
    "start_time": "2022-02-10T17:37:41.396Z"
   },
   {
    "duration": 4,
    "start_time": "2022-02-10T17:37:41.406Z"
   },
   {
    "duration": 7,
    "start_time": "2022-02-10T17:37:41.413Z"
   },
   {
    "duration": 1951,
    "start_time": "2022-02-10T17:37:41.423Z"
   },
   {
    "duration": 1698,
    "start_time": "2022-02-10T17:37:43.376Z"
   },
   {
    "duration": 93,
    "start_time": "2022-02-10T17:37:45.077Z"
   },
   {
    "duration": 34939,
    "start_time": "2022-02-10T17:37:45.172Z"
   },
   {
    "duration": 35050,
    "start_time": "2022-02-10T17:38:20.114Z"
   },
   {
    "duration": 3,
    "start_time": "2022-02-10T17:38:55.170Z"
   },
   {
    "duration": 1601,
    "start_time": "2022-02-10T17:41:52.433Z"
   },
   {
    "duration": 903,
    "start_time": "2022-02-10T17:41:54.037Z"
   },
   {
    "duration": 42,
    "start_time": "2022-02-10T17:41:54.943Z"
   },
   {
    "duration": 38,
    "start_time": "2022-02-10T17:41:54.988Z"
   },
   {
    "duration": 7,
    "start_time": "2022-02-10T17:41:55.029Z"
   },
   {
    "duration": 421,
    "start_time": "2022-02-10T17:41:55.039Z"
   },
   {
    "duration": 15,
    "start_time": "2022-02-10T17:41:55.463Z"
   },
   {
    "duration": 11,
    "start_time": "2022-02-10T17:41:55.484Z"
   },
   {
    "duration": 593,
    "start_time": "2022-02-10T17:41:55.499Z"
   },
   {
    "duration": 6,
    "start_time": "2022-02-10T17:41:56.094Z"
   },
   {
    "duration": 9,
    "start_time": "2022-02-10T17:41:56.102Z"
   },
   {
    "duration": 15,
    "start_time": "2022-02-10T17:41:56.113Z"
   },
   {
    "duration": 44,
    "start_time": "2022-02-10T17:41:56.130Z"
   },
   {
    "duration": 7,
    "start_time": "2022-02-10T17:41:56.176Z"
   },
   {
    "duration": 20,
    "start_time": "2022-02-10T17:41:56.185Z"
   },
   {
    "duration": 5,
    "start_time": "2022-02-10T17:41:56.208Z"
   },
   {
    "duration": 9,
    "start_time": "2022-02-10T17:41:56.215Z"
   },
   {
    "duration": 580,
    "start_time": "2022-02-10T17:41:56.226Z"
   },
   {
    "duration": 549,
    "start_time": "2022-02-10T17:41:56.809Z"
   },
   {
    "duration": 577,
    "start_time": "2022-02-10T17:41:57.360Z"
   },
   {
    "duration": 6,
    "start_time": "2022-02-10T17:41:57.940Z"
   },
   {
    "duration": 20,
    "start_time": "2022-02-10T17:41:57.949Z"
   },
   {
    "duration": 1018,
    "start_time": "2022-02-10T17:41:57.975Z"
   },
   {
    "duration": 1019,
    "start_time": "2022-02-10T17:41:58.995Z"
   },
   {
    "duration": 5,
    "start_time": "2022-02-10T17:42:00.017Z"
   },
   {
    "duration": 18,
    "start_time": "2022-02-10T17:42:00.024Z"
   },
   {
    "duration": 50,
    "start_time": "2022-02-10T17:42:00.045Z"
   },
   {
    "duration": 564,
    "start_time": "2022-02-10T17:42:00.098Z"
   },
   {
    "duration": 29,
    "start_time": "2022-02-10T17:42:00.665Z"
   },
   {
    "duration": 28,
    "start_time": "2022-02-10T17:42:00.697Z"
   },
   {
    "duration": 5,
    "start_time": "2022-02-10T17:42:00.728Z"
   },
   {
    "duration": 26,
    "start_time": "2022-02-10T17:42:00.771Z"
   },
   {
    "duration": 5,
    "start_time": "2022-02-10T17:42:00.800Z"
   },
   {
    "duration": 6,
    "start_time": "2022-02-10T17:42:00.807Z"
   },
   {
    "duration": 9,
    "start_time": "2022-02-10T17:42:00.815Z"
   },
   {
    "duration": 54,
    "start_time": "2022-02-10T17:42:00.827Z"
   },
   {
    "duration": 46,
    "start_time": "2022-02-10T17:42:00.883Z"
   },
   {
    "duration": 9,
    "start_time": "2022-02-10T17:42:00.932Z"
   },
   {
    "duration": 28,
    "start_time": "2022-02-10T17:42:00.945Z"
   },
   {
    "duration": 11,
    "start_time": "2022-02-10T17:42:00.976Z"
   },
   {
    "duration": 1585,
    "start_time": "2022-02-10T17:42:00.990Z"
   },
   {
    "duration": 2090,
    "start_time": "2022-02-10T17:42:02.579Z"
   },
   {
    "duration": 4,
    "start_time": "2022-02-10T17:42:04.673Z"
   },
   {
    "duration": 35329,
    "start_time": "2022-02-10T17:42:04.680Z"
   },
   {
    "duration": 34757,
    "start_time": "2022-02-10T17:42:40.012Z"
   },
   {
    "duration": 451,
    "start_time": "2022-02-10T18:31:06.632Z"
   },
   {
    "duration": 1614,
    "start_time": "2022-02-10T18:49:26.557Z"
   },
   {
    "duration": 906,
    "start_time": "2022-02-10T18:49:28.174Z"
   },
   {
    "duration": 27,
    "start_time": "2022-02-10T18:49:29.083Z"
   },
   {
    "duration": 60,
    "start_time": "2022-02-10T18:49:29.112Z"
   },
   {
    "duration": 7,
    "start_time": "2022-02-10T18:49:29.174Z"
   },
   {
    "duration": 530,
    "start_time": "2022-02-10T18:49:29.183Z"
   },
   {
    "duration": 17,
    "start_time": "2022-02-10T18:49:29.716Z"
   },
   {
    "duration": 6,
    "start_time": "2022-02-10T18:49:29.739Z"
   },
   {
    "duration": 597,
    "start_time": "2022-02-10T18:49:29.769Z"
   },
   {
    "duration": 8,
    "start_time": "2022-02-10T18:49:30.369Z"
   },
   {
    "duration": 35,
    "start_time": "2022-02-10T18:49:30.379Z"
   },
   {
    "duration": 13,
    "start_time": "2022-02-10T18:49:30.416Z"
   },
   {
    "duration": 13,
    "start_time": "2022-02-10T18:49:30.431Z"
   },
   {
    "duration": 25,
    "start_time": "2022-02-10T18:49:30.447Z"
   },
   {
    "duration": 30,
    "start_time": "2022-02-10T18:49:30.474Z"
   },
   {
    "duration": 5,
    "start_time": "2022-02-10T18:49:30.506Z"
   },
   {
    "duration": 8,
    "start_time": "2022-02-10T18:49:30.513Z"
   },
   {
    "duration": 589,
    "start_time": "2022-02-10T18:49:30.523Z"
   },
   {
    "duration": 605,
    "start_time": "2022-02-10T18:49:31.115Z"
   },
   {
    "duration": 580,
    "start_time": "2022-02-10T18:49:31.723Z"
   },
   {
    "duration": 6,
    "start_time": "2022-02-10T18:49:32.305Z"
   },
   {
    "duration": 11,
    "start_time": "2022-02-10T18:49:32.314Z"
   },
   {
    "duration": 1053,
    "start_time": "2022-02-10T18:49:32.331Z"
   },
   {
    "duration": 1447,
    "start_time": "2022-02-10T18:49:33.388Z"
   },
   {
    "duration": 7,
    "start_time": "2022-02-10T18:49:34.838Z"
   },
   {
    "duration": 31,
    "start_time": "2022-02-10T18:49:34.848Z"
   },
   {
    "duration": 47,
    "start_time": "2022-02-10T18:49:34.883Z"
   },
   {
    "duration": 582,
    "start_time": "2022-02-10T18:49:34.933Z"
   },
   {
    "duration": 31,
    "start_time": "2022-02-10T18:49:35.518Z"
   },
   {
    "duration": 30,
    "start_time": "2022-02-10T18:49:35.571Z"
   },
   {
    "duration": 6,
    "start_time": "2022-02-10T18:49:35.604Z"
   },
   {
    "duration": 69,
    "start_time": "2022-02-10T18:49:35.613Z"
   },
   {
    "duration": 6,
    "start_time": "2022-02-10T18:49:35.686Z"
   },
   {
    "duration": 13,
    "start_time": "2022-02-10T18:49:35.695Z"
   },
   {
    "duration": 14,
    "start_time": "2022-02-10T18:49:35.710Z"
   },
   {
    "duration": 20,
    "start_time": "2022-02-10T18:49:35.727Z"
   },
   {
    "duration": 47,
    "start_time": "2022-02-10T18:49:35.769Z"
   },
   {
    "duration": 7,
    "start_time": "2022-02-10T18:49:35.819Z"
   },
   {
    "duration": 6,
    "start_time": "2022-02-10T18:49:35.828Z"
   },
   {
    "duration": 32,
    "start_time": "2022-02-10T18:49:35.837Z"
   },
   {
    "duration": 1504,
    "start_time": "2022-02-10T18:49:35.872Z"
   },
   {
    "duration": 92,
    "start_time": "2022-02-10T18:49:37.379Z"
   },
   {
    "duration": 35984,
    "start_time": "2022-02-10T18:49:37.475Z"
   },
   {
    "duration": 1909,
    "start_time": "2022-02-10T18:50:13.461Z"
   },
   {
    "duration": 35205,
    "start_time": "2022-02-10T18:50:15.372Z"
   },
   {
    "duration": 1575,
    "start_time": "2022-02-10T18:50:50.580Z"
   },
   {
    "duration": 2026,
    "start_time": "2022-02-10T18:50:52.158Z"
   },
   {
    "duration": 1578,
    "start_time": "2022-02-10T18:57:38.979Z"
   },
   {
    "duration": 901,
    "start_time": "2022-02-10T18:57:40.560Z"
   },
   {
    "duration": 27,
    "start_time": "2022-02-10T18:57:41.470Z"
   },
   {
    "duration": 35,
    "start_time": "2022-02-10T18:57:41.499Z"
   },
   {
    "duration": 37,
    "start_time": "2022-02-10T18:57:41.536Z"
   },
   {
    "duration": 408,
    "start_time": "2022-02-10T18:57:41.575Z"
   },
   {
    "duration": 11,
    "start_time": "2022-02-10T18:57:41.987Z"
   },
   {
    "duration": 13,
    "start_time": "2022-02-10T18:57:42.001Z"
   },
   {
    "duration": 603,
    "start_time": "2022-02-10T18:57:42.016Z"
   },
   {
    "duration": 6,
    "start_time": "2022-02-10T18:57:42.622Z"
   },
   {
    "duration": 7,
    "start_time": "2022-02-10T18:57:42.630Z"
   },
   {
    "duration": 38,
    "start_time": "2022-02-10T18:57:42.640Z"
   },
   {
    "duration": 9,
    "start_time": "2022-02-10T18:57:42.681Z"
   },
   {
    "duration": 7,
    "start_time": "2022-02-10T18:57:42.693Z"
   },
   {
    "duration": 19,
    "start_time": "2022-02-10T18:57:42.702Z"
   },
   {
    "duration": 5,
    "start_time": "2022-02-10T18:57:42.724Z"
   },
   {
    "duration": 6,
    "start_time": "2022-02-10T18:57:42.770Z"
   },
   {
    "duration": 558,
    "start_time": "2022-02-10T18:57:42.778Z"
   },
   {
    "duration": 778,
    "start_time": "2022-02-10T18:57:43.339Z"
   },
   {
    "duration": 819,
    "start_time": "2022-02-10T18:57:44.119Z"
   },
   {
    "duration": 7,
    "start_time": "2022-02-10T18:57:44.941Z"
   },
   {
    "duration": 5,
    "start_time": "2022-02-10T18:57:44.970Z"
   },
   {
    "duration": 1142,
    "start_time": "2022-02-10T18:57:44.979Z"
   },
   {
    "duration": 1038,
    "start_time": "2022-02-10T18:57:46.124Z"
   },
   {
    "duration": 5,
    "start_time": "2022-02-10T18:57:47.165Z"
   },
   {
    "duration": 19,
    "start_time": "2022-02-10T18:57:47.173Z"
   },
   {
    "duration": 41,
    "start_time": "2022-02-10T18:57:47.194Z"
   },
   {
    "duration": 831,
    "start_time": "2022-02-10T18:57:47.238Z"
   },
   {
    "duration": 39,
    "start_time": "2022-02-10T18:57:48.073Z"
   },
   {
    "duration": 61,
    "start_time": "2022-02-10T18:57:48.115Z"
   },
   {
    "duration": 5,
    "start_time": "2022-02-10T18:57:48.179Z"
   },
   {
    "duration": 35,
    "start_time": "2022-02-10T18:57:48.187Z"
   },
   {
    "duration": 5,
    "start_time": "2022-02-10T18:57:48.224Z"
   },
   {
    "duration": 38,
    "start_time": "2022-02-10T18:57:48.231Z"
   },
   {
    "duration": 4,
    "start_time": "2022-02-10T18:57:48.271Z"
   },
   {
    "duration": 32,
    "start_time": "2022-02-10T18:57:48.278Z"
   },
   {
    "duration": 64,
    "start_time": "2022-02-10T18:57:48.313Z"
   },
   {
    "duration": 7,
    "start_time": "2022-02-10T18:57:48.379Z"
   },
   {
    "duration": 22,
    "start_time": "2022-02-10T18:57:48.388Z"
   },
   {
    "duration": 10,
    "start_time": "2022-02-10T18:57:48.413Z"
   },
   {
    "duration": 2155,
    "start_time": "2022-02-10T18:57:48.425Z"
   },
   {
    "duration": 85,
    "start_time": "2022-02-10T18:57:50.584Z"
   },
   {
    "duration": 43453,
    "start_time": "2022-02-10T18:57:50.672Z"
   },
   {
    "duration": 1440,
    "start_time": "2022-02-10T18:58:34.128Z"
   },
   {
    "duration": 34389,
    "start_time": "2022-02-10T18:58:35.572Z"
   },
   {
    "duration": 1501,
    "start_time": "2022-02-10T18:59:09.970Z"
   },
   {
    "duration": 1933,
    "start_time": "2022-02-10T18:59:11.473Z"
   },
   {
    "duration": 1748,
    "start_time": "2022-02-10T19:02:30.916Z"
   },
   {
    "duration": 917,
    "start_time": "2022-02-10T19:02:32.666Z"
   },
   {
    "duration": 28,
    "start_time": "2022-02-10T19:02:33.586Z"
   },
   {
    "duration": 56,
    "start_time": "2022-02-10T19:02:33.617Z"
   },
   {
    "duration": 8,
    "start_time": "2022-02-10T19:02:33.676Z"
   },
   {
    "duration": 412,
    "start_time": "2022-02-10T19:02:33.686Z"
   },
   {
    "duration": 10,
    "start_time": "2022-02-10T19:02:34.101Z"
   },
   {
    "duration": 18,
    "start_time": "2022-02-10T19:02:34.116Z"
   },
   {
    "duration": 594,
    "start_time": "2022-02-10T19:02:34.137Z"
   },
   {
    "duration": 6,
    "start_time": "2022-02-10T19:02:34.734Z"
   },
   {
    "duration": 36,
    "start_time": "2022-02-10T19:02:34.742Z"
   },
   {
    "duration": 14,
    "start_time": "2022-02-10T19:02:34.781Z"
   },
   {
    "duration": 9,
    "start_time": "2022-02-10T19:02:34.797Z"
   },
   {
    "duration": 8,
    "start_time": "2022-02-10T19:02:34.810Z"
   },
   {
    "duration": 58,
    "start_time": "2022-02-10T19:02:34.821Z"
   },
   {
    "duration": 5,
    "start_time": "2022-02-10T19:02:34.882Z"
   },
   {
    "duration": 9,
    "start_time": "2022-02-10T19:02:34.889Z"
   },
   {
    "duration": 572,
    "start_time": "2022-02-10T19:02:34.901Z"
   },
   {
    "duration": 549,
    "start_time": "2022-02-10T19:02:35.475Z"
   },
   {
    "duration": 880,
    "start_time": "2022-02-10T19:02:36.026Z"
   },
   {
    "duration": 6,
    "start_time": "2022-02-10T19:02:36.908Z"
   },
   {
    "duration": 9,
    "start_time": "2022-02-10T19:02:36.917Z"
   },
   {
    "duration": 1054,
    "start_time": "2022-02-10T19:02:36.932Z"
   },
   {
    "duration": 1001,
    "start_time": "2022-02-10T19:02:37.991Z"
   },
   {
    "duration": 5,
    "start_time": "2022-02-10T19:02:38.994Z"
   },
   {
    "duration": 21,
    "start_time": "2022-02-10T19:02:39.002Z"
   },
   {
    "duration": 56,
    "start_time": "2022-02-10T19:02:39.025Z"
   },
   {
    "duration": 702,
    "start_time": "2022-02-10T19:02:39.084Z"
   },
   {
    "duration": 33,
    "start_time": "2022-02-10T19:02:39.788Z"
   },
   {
    "duration": 57,
    "start_time": "2022-02-10T19:02:39.824Z"
   },
   {
    "duration": 6,
    "start_time": "2022-02-10T19:02:39.884Z"
   },
   {
    "duration": 52,
    "start_time": "2022-02-10T19:02:39.893Z"
   },
   {
    "duration": 14,
    "start_time": "2022-02-10T19:02:39.949Z"
   },
   {
    "duration": 35,
    "start_time": "2022-02-10T19:02:39.966Z"
   },
   {
    "duration": 23,
    "start_time": "2022-02-10T19:02:40.003Z"
   },
   {
    "duration": 30,
    "start_time": "2022-02-10T19:02:40.028Z"
   },
   {
    "duration": 49,
    "start_time": "2022-02-10T19:02:40.060Z"
   },
   {
    "duration": 14,
    "start_time": "2022-02-10T19:02:40.112Z"
   },
   {
    "duration": 9,
    "start_time": "2022-02-10T19:02:40.129Z"
   },
   {
    "duration": 17,
    "start_time": "2022-02-10T19:02:40.141Z"
   },
   {
    "duration": 1912,
    "start_time": "2022-02-10T19:02:40.171Z"
   },
   {
    "duration": 6,
    "start_time": "2022-02-10T19:02:42.171Z"
   },
   {
    "duration": 35562,
    "start_time": "2022-02-10T19:02:42.180Z"
   },
   {
    "duration": 1629,
    "start_time": "2022-02-10T19:03:17.745Z"
   },
   {
    "duration": 35376,
    "start_time": "2022-02-10T19:03:19.376Z"
   },
   {
    "duration": 1629,
    "start_time": "2022-02-10T19:03:54.754Z"
   },
   {
    "duration": 2084,
    "start_time": "2022-02-10T19:03:56.385Z"
   },
   {
    "duration": 7,
    "start_time": "2022-02-10T19:03:58.473Z"
   },
   {
    "duration": 96,
    "start_time": "2022-02-10T19:04:58.389Z"
   },
   {
    "duration": 5,
    "start_time": "2022-02-10T19:05:06.973Z"
   },
   {
    "duration": 1550,
    "start_time": "2022-02-10T19:05:31.094Z"
   },
   {
    "duration": 927,
    "start_time": "2022-02-10T19:05:32.648Z"
   },
   {
    "duration": 26,
    "start_time": "2022-02-10T19:05:33.579Z"
   },
   {
    "duration": 36,
    "start_time": "2022-02-10T19:05:33.608Z"
   },
   {
    "duration": 6,
    "start_time": "2022-02-10T19:05:33.670Z"
   },
   {
    "duration": 413,
    "start_time": "2022-02-10T19:05:33.678Z"
   },
   {
    "duration": 12,
    "start_time": "2022-02-10T19:05:34.093Z"
   },
   {
    "duration": 10,
    "start_time": "2022-02-10T19:05:34.111Z"
   },
   {
    "duration": 635,
    "start_time": "2022-02-10T19:05:34.125Z"
   },
   {
    "duration": 7,
    "start_time": "2022-02-10T19:05:34.770Z"
   },
   {
    "duration": 19,
    "start_time": "2022-02-10T19:05:34.779Z"
   },
   {
    "duration": 24,
    "start_time": "2022-02-10T19:05:34.801Z"
   },
   {
    "duration": 30,
    "start_time": "2022-02-10T19:05:34.828Z"
   },
   {
    "duration": 14,
    "start_time": "2022-02-10T19:05:34.861Z"
   },
   {
    "duration": 28,
    "start_time": "2022-02-10T19:05:34.878Z"
   },
   {
    "duration": 6,
    "start_time": "2022-02-10T19:05:34.908Z"
   },
   {
    "duration": 14,
    "start_time": "2022-02-10T19:05:34.916Z"
   },
   {
    "duration": 597,
    "start_time": "2022-02-10T19:05:34.932Z"
   },
   {
    "duration": 596,
    "start_time": "2022-02-10T19:05:35.532Z"
   },
   {
    "duration": 740,
    "start_time": "2022-02-10T19:05:36.130Z"
   },
   {
    "duration": 6,
    "start_time": "2022-02-10T19:05:36.873Z"
   },
   {
    "duration": 6,
    "start_time": "2022-02-10T19:05:36.882Z"
   },
   {
    "duration": 1068,
    "start_time": "2022-02-10T19:05:36.894Z"
   },
   {
    "duration": 1010,
    "start_time": "2022-02-10T19:05:37.965Z"
   },
   {
    "duration": 7,
    "start_time": "2022-02-10T19:05:38.978Z"
   },
   {
    "duration": 19,
    "start_time": "2022-02-10T19:05:38.988Z"
   },
   {
    "duration": 74,
    "start_time": "2022-02-10T19:05:39.011Z"
   },
   {
    "duration": 666,
    "start_time": "2022-02-10T19:05:39.088Z"
   },
   {
    "duration": 32,
    "start_time": "2022-02-10T19:05:39.757Z"
   },
   {
    "duration": 27,
    "start_time": "2022-02-10T19:05:39.792Z"
   },
   {
    "duration": 5,
    "start_time": "2022-02-10T19:05:39.822Z"
   },
   {
    "duration": 26,
    "start_time": "2022-02-10T19:05:39.830Z"
   },
   {
    "duration": 13,
    "start_time": "2022-02-10T19:05:39.858Z"
   },
   {
    "duration": 5,
    "start_time": "2022-02-10T19:05:39.874Z"
   },
   {
    "duration": 7,
    "start_time": "2022-02-10T19:05:39.881Z"
   },
   {
    "duration": 21,
    "start_time": "2022-02-10T19:05:39.890Z"
   },
   {
    "duration": 58,
    "start_time": "2022-02-10T19:05:39.914Z"
   },
   {
    "duration": 8,
    "start_time": "2022-02-10T19:05:39.975Z"
   },
   {
    "duration": 8,
    "start_time": "2022-02-10T19:05:39.985Z"
   },
   {
    "duration": 7,
    "start_time": "2022-02-10T19:05:39.995Z"
   },
   {
    "duration": 1770,
    "start_time": "2022-02-10T19:05:40.004Z"
   },
   {
    "duration": 4,
    "start_time": "2022-02-10T19:05:41.776Z"
   },
   {
    "duration": 35951,
    "start_time": "2022-02-10T19:05:41.782Z"
   },
   {
    "duration": 1635,
    "start_time": "2022-02-10T19:06:17.736Z"
   },
   {
    "duration": 34881,
    "start_time": "2022-02-10T19:06:19.374Z"
   },
   {
    "duration": 1641,
    "start_time": "2022-02-10T19:06:54.257Z"
   },
   {
    "duration": 1957,
    "start_time": "2022-02-10T19:06:55.900Z"
   },
   {
    "duration": 10,
    "start_time": "2022-02-10T19:06:57.859Z"
   },
   {
    "duration": 1631,
    "start_time": "2022-02-10T19:10:00.767Z"
   },
   {
    "duration": 923,
    "start_time": "2022-02-10T19:10:02.401Z"
   },
   {
    "duration": 28,
    "start_time": "2022-02-10T19:10:03.327Z"
   },
   {
    "duration": 46,
    "start_time": "2022-02-10T19:10:03.357Z"
   },
   {
    "duration": 6,
    "start_time": "2022-02-10T19:10:03.405Z"
   },
   {
    "duration": 432,
    "start_time": "2022-02-10T19:10:03.413Z"
   },
   {
    "duration": 10,
    "start_time": "2022-02-10T19:10:03.848Z"
   },
   {
    "duration": 9,
    "start_time": "2022-02-10T19:10:03.862Z"
   },
   {
    "duration": 683,
    "start_time": "2022-02-10T19:10:03.874Z"
   },
   {
    "duration": 10,
    "start_time": "2022-02-10T19:10:04.559Z"
   },
   {
    "duration": 7,
    "start_time": "2022-02-10T19:10:04.572Z"
   },
   {
    "duration": 22,
    "start_time": "2022-02-10T19:10:04.581Z"
   },
   {
    "duration": 10,
    "start_time": "2022-02-10T19:10:04.606Z"
   },
   {
    "duration": 7,
    "start_time": "2022-02-10T19:10:04.618Z"
   },
   {
    "duration": 58,
    "start_time": "2022-02-10T19:10:04.628Z"
   },
   {
    "duration": 5,
    "start_time": "2022-02-10T19:10:04.689Z"
   },
   {
    "duration": 7,
    "start_time": "2022-02-10T19:10:04.696Z"
   },
   {
    "duration": 570,
    "start_time": "2022-02-10T19:10:04.705Z"
   },
   {
    "duration": 537,
    "start_time": "2022-02-10T19:10:05.278Z"
   },
   {
    "duration": 705,
    "start_time": "2022-02-10T19:10:05.817Z"
   },
   {
    "duration": 5,
    "start_time": "2022-02-10T19:10:06.525Z"
   },
   {
    "duration": 10,
    "start_time": "2022-02-10T19:10:06.532Z"
   },
   {
    "duration": 1000,
    "start_time": "2022-02-10T19:10:06.568Z"
   },
   {
    "duration": 984,
    "start_time": "2022-02-10T19:10:07.571Z"
   },
   {
    "duration": 14,
    "start_time": "2022-02-10T19:10:08.559Z"
   },
   {
    "duration": 28,
    "start_time": "2022-02-10T19:10:08.575Z"
   },
   {
    "duration": 30,
    "start_time": "2022-02-10T19:10:08.606Z"
   },
   {
    "duration": 605,
    "start_time": "2022-02-10T19:10:08.638Z"
   },
   {
    "duration": 36,
    "start_time": "2022-02-10T19:10:09.246Z"
   },
   {
    "duration": 29,
    "start_time": "2022-02-10T19:10:09.284Z"
   },
   {
    "duration": 6,
    "start_time": "2022-02-10T19:10:09.316Z"
   },
   {
    "duration": 66,
    "start_time": "2022-02-10T19:10:09.325Z"
   },
   {
    "duration": 6,
    "start_time": "2022-02-10T19:10:09.394Z"
   },
   {
    "duration": 6,
    "start_time": "2022-02-10T19:10:09.403Z"
   },
   {
    "duration": 6,
    "start_time": "2022-02-10T19:10:09.412Z"
   },
   {
    "duration": 60,
    "start_time": "2022-02-10T19:10:09.421Z"
   },
   {
    "duration": 46,
    "start_time": "2022-02-10T19:10:09.484Z"
   },
   {
    "duration": 9,
    "start_time": "2022-02-10T19:10:09.532Z"
   },
   {
    "duration": 31,
    "start_time": "2022-02-10T19:10:09.544Z"
   },
   {
    "duration": 7,
    "start_time": "2022-02-10T19:10:09.577Z"
   },
   {
    "duration": 2294,
    "start_time": "2022-02-10T19:10:09.586Z"
   },
   {
    "duration": 86,
    "start_time": "2022-02-10T19:10:11.884Z"
   },
   {
    "duration": 34152,
    "start_time": "2022-02-10T19:10:11.973Z"
   },
   {
    "duration": 1655,
    "start_time": "2022-02-10T19:10:46.128Z"
   },
   {
    "duration": 35431,
    "start_time": "2022-02-10T19:10:47.785Z"
   },
   {
    "duration": 1514,
    "start_time": "2022-02-10T19:11:23.218Z"
   },
   {
    "duration": 2078,
    "start_time": "2022-02-10T19:11:24.734Z"
   },
   {
    "duration": 5,
    "start_time": "2022-02-10T19:11:26.814Z"
   },
   {
    "duration": 3,
    "start_time": "2022-02-10T19:14:37.597Z"
   },
   {
    "duration": 1596,
    "start_time": "2022-02-10T19:17:27.992Z"
   },
   {
    "duration": 936,
    "start_time": "2022-02-10T19:17:29.591Z"
   },
   {
    "duration": 41,
    "start_time": "2022-02-10T19:17:30.532Z"
   },
   {
    "duration": 35,
    "start_time": "2022-02-10T19:17:30.575Z"
   },
   {
    "duration": 6,
    "start_time": "2022-02-10T19:17:30.613Z"
   },
   {
    "duration": 435,
    "start_time": "2022-02-10T19:17:30.621Z"
   },
   {
    "duration": 18,
    "start_time": "2022-02-10T19:17:31.062Z"
   },
   {
    "duration": 8,
    "start_time": "2022-02-10T19:17:31.084Z"
   },
   {
    "duration": 609,
    "start_time": "2022-02-10T19:17:31.094Z"
   },
   {
    "duration": 6,
    "start_time": "2022-02-10T19:17:31.705Z"
   },
   {
    "duration": 24,
    "start_time": "2022-02-10T19:17:31.713Z"
   },
   {
    "duration": 40,
    "start_time": "2022-02-10T19:17:31.740Z"
   },
   {
    "duration": 28,
    "start_time": "2022-02-10T19:17:31.783Z"
   },
   {
    "duration": 30,
    "start_time": "2022-02-10T19:17:31.814Z"
   },
   {
    "duration": 45,
    "start_time": "2022-02-10T19:17:31.847Z"
   },
   {
    "duration": 32,
    "start_time": "2022-02-10T19:17:31.894Z"
   },
   {
    "duration": 18,
    "start_time": "2022-02-10T19:17:31.929Z"
   },
   {
    "duration": 566,
    "start_time": "2022-02-10T19:17:31.949Z"
   },
   {
    "duration": 544,
    "start_time": "2022-02-10T19:17:32.518Z"
   },
   {
    "duration": 561,
    "start_time": "2022-02-10T19:17:33.066Z"
   },
   {
    "duration": 7,
    "start_time": "2022-02-10T19:17:33.630Z"
   },
   {
    "duration": 27,
    "start_time": "2022-02-10T19:17:33.642Z"
   },
   {
    "duration": 1005,
    "start_time": "2022-02-10T19:17:33.672Z"
   },
   {
    "duration": 1013,
    "start_time": "2022-02-10T19:17:34.680Z"
   },
   {
    "duration": 7,
    "start_time": "2022-02-10T19:17:35.697Z"
   },
   {
    "duration": 17,
    "start_time": "2022-02-10T19:17:35.707Z"
   },
   {
    "duration": 61,
    "start_time": "2022-02-10T19:17:35.727Z"
   },
   {
    "duration": 685,
    "start_time": "2022-02-10T19:17:35.792Z"
   },
   {
    "duration": 29,
    "start_time": "2022-02-10T19:17:36.479Z"
   },
   {
    "duration": 26,
    "start_time": "2022-02-10T19:17:36.510Z"
   },
   {
    "duration": 33,
    "start_time": "2022-02-10T19:17:36.539Z"
   },
   {
    "duration": 30,
    "start_time": "2022-02-10T19:17:36.574Z"
   },
   {
    "duration": 5,
    "start_time": "2022-02-10T19:17:36.607Z"
   },
   {
    "duration": 7,
    "start_time": "2022-02-10T19:17:36.614Z"
   },
   {
    "duration": 4,
    "start_time": "2022-02-10T19:17:36.624Z"
   },
   {
    "duration": 51,
    "start_time": "2022-02-10T19:17:36.631Z"
   },
   {
    "duration": 44,
    "start_time": "2022-02-10T19:17:36.684Z"
   },
   {
    "duration": 7,
    "start_time": "2022-02-10T19:17:36.730Z"
   },
   {
    "duration": 31,
    "start_time": "2022-02-10T19:17:36.739Z"
   },
   {
    "duration": 5,
    "start_time": "2022-02-10T19:17:36.773Z"
   },
   {
    "duration": 1391,
    "start_time": "2022-02-10T19:17:36.781Z"
   },
   {
    "duration": 4,
    "start_time": "2022-02-10T19:17:38.175Z"
   },
   {
    "duration": 35922,
    "start_time": "2022-02-10T19:17:38.183Z"
   },
   {
    "duration": 1664,
    "start_time": "2022-02-10T19:18:14.107Z"
   },
   {
    "duration": 35162,
    "start_time": "2022-02-10T19:18:15.775Z"
   },
   {
    "duration": 1524,
    "start_time": "2022-02-10T19:18:50.940Z"
   },
   {
    "duration": 1974,
    "start_time": "2022-02-10T19:18:52.469Z"
   },
   {
    "duration": 4,
    "start_time": "2022-02-10T19:18:54.445Z"
   },
   {
    "duration": 1587,
    "start_time": "2022-02-11T06:29:39.855Z"
   },
   {
    "duration": 885,
    "start_time": "2022-02-11T06:29:41.445Z"
   },
   {
    "duration": 36,
    "start_time": "2022-02-11T06:29:42.333Z"
   },
   {
    "duration": 50,
    "start_time": "2022-02-11T06:29:42.373Z"
   },
   {
    "duration": 8,
    "start_time": "2022-02-11T06:29:42.426Z"
   },
   {
    "duration": 549,
    "start_time": "2022-02-11T06:29:42.437Z"
   },
   {
    "duration": 14,
    "start_time": "2022-02-11T06:29:42.989Z"
   },
   {
    "duration": 7,
    "start_time": "2022-02-11T06:29:43.009Z"
   },
   {
    "duration": 615,
    "start_time": "2022-02-11T06:29:43.020Z"
   },
   {
    "duration": 5,
    "start_time": "2022-02-11T06:29:43.638Z"
   },
   {
    "duration": 25,
    "start_time": "2022-02-11T06:29:43.646Z"
   },
   {
    "duration": 12,
    "start_time": "2022-02-11T06:29:43.673Z"
   },
   {
    "duration": 6,
    "start_time": "2022-02-11T06:29:43.688Z"
   },
   {
    "duration": 10,
    "start_time": "2022-02-11T06:29:43.696Z"
   },
   {
    "duration": 70,
    "start_time": "2022-02-11T06:29:43.709Z"
   },
   {
    "duration": 8,
    "start_time": "2022-02-11T06:29:43.782Z"
   },
   {
    "duration": 8,
    "start_time": "2022-02-11T06:29:43.793Z"
   },
   {
    "duration": 568,
    "start_time": "2022-02-11T06:29:43.804Z"
   },
   {
    "duration": 607,
    "start_time": "2022-02-11T06:29:44.375Z"
   },
   {
    "duration": 596,
    "start_time": "2022-02-11T06:29:44.984Z"
   },
   {
    "duration": 7,
    "start_time": "2022-02-11T06:29:45.584Z"
   },
   {
    "duration": 7,
    "start_time": "2022-02-11T06:29:45.594Z"
   },
   {
    "duration": 1063,
    "start_time": "2022-02-11T06:29:45.607Z"
   },
   {
    "duration": 1142,
    "start_time": "2022-02-11T06:29:46.674Z"
   },
   {
    "duration": 6,
    "start_time": "2022-02-11T06:29:47.819Z"
   },
   {
    "duration": 23,
    "start_time": "2022-02-11T06:29:47.827Z"
   },
   {
    "duration": 34,
    "start_time": "2022-02-11T06:29:47.868Z"
   },
   {
    "duration": 586,
    "start_time": "2022-02-11T06:29:47.905Z"
   },
   {
    "duration": 28,
    "start_time": "2022-02-11T06:29:48.494Z"
   },
   {
    "duration": 48,
    "start_time": "2022-02-11T06:29:48.524Z"
   },
   {
    "duration": 5,
    "start_time": "2022-02-11T06:29:48.574Z"
   },
   {
    "duration": 26,
    "start_time": "2022-02-11T06:29:48.581Z"
   },
   {
    "duration": 5,
    "start_time": "2022-02-11T06:29:48.609Z"
   },
   {
    "duration": 7,
    "start_time": "2022-02-11T06:29:48.616Z"
   },
   {
    "duration": 45,
    "start_time": "2022-02-11T06:29:48.625Z"
   },
   {
    "duration": 23,
    "start_time": "2022-02-11T06:29:48.673Z"
   },
   {
    "duration": 45,
    "start_time": "2022-02-11T06:29:48.699Z"
   },
   {
    "duration": 30,
    "start_time": "2022-02-11T06:29:48.747Z"
   },
   {
    "duration": 13,
    "start_time": "2022-02-11T06:29:48.780Z"
   },
   {
    "duration": 13,
    "start_time": "2022-02-11T06:29:48.795Z"
   },
   {
    "duration": 1677,
    "start_time": "2022-02-11T06:29:48.811Z"
   },
   {
    "duration": 4,
    "start_time": "2022-02-11T06:29:50.574Z"
   },
   {
    "duration": 35590,
    "start_time": "2022-02-11T06:29:50.581Z"
   },
   {
    "duration": 1600,
    "start_time": "2022-02-11T06:30:26.174Z"
   },
   {
    "duration": 36549,
    "start_time": "2022-02-11T06:30:27.779Z"
   },
   {
    "duration": 1603,
    "start_time": "2022-02-11T06:31:04.330Z"
   },
   {
    "duration": 2003,
    "start_time": "2022-02-11T06:31:05.935Z"
   },
   {
    "duration": 4,
    "start_time": "2022-02-11T06:31:07.941Z"
   },
   {
    "duration": 1609,
    "start_time": "2022-02-11T07:03:03.733Z"
   },
   {
    "duration": 883,
    "start_time": "2022-02-11T07:03:05.345Z"
   },
   {
    "duration": 26,
    "start_time": "2022-02-11T07:03:06.231Z"
   },
   {
    "duration": 34,
    "start_time": "2022-02-11T07:03:06.270Z"
   },
   {
    "duration": 23,
    "start_time": "2022-02-11T07:03:06.307Z"
   },
   {
    "duration": 392,
    "start_time": "2022-02-11T07:03:06.332Z"
   },
   {
    "duration": 10,
    "start_time": "2022-02-11T07:03:06.727Z"
   },
   {
    "duration": 28,
    "start_time": "2022-02-11T07:03:06.741Z"
   },
   {
    "duration": 573,
    "start_time": "2022-02-11T07:03:06.772Z"
   },
   {
    "duration": 6,
    "start_time": "2022-02-11T07:03:07.347Z"
   },
   {
    "duration": 12,
    "start_time": "2022-02-11T07:03:07.370Z"
   },
   {
    "duration": 26,
    "start_time": "2022-02-11T07:03:07.384Z"
   },
   {
    "duration": 25,
    "start_time": "2022-02-11T07:03:07.412Z"
   },
   {
    "duration": 15,
    "start_time": "2022-02-11T07:03:07.439Z"
   },
   {
    "duration": 34,
    "start_time": "2022-02-11T07:03:07.456Z"
   },
   {
    "duration": 16,
    "start_time": "2022-02-11T07:03:07.492Z"
   },
   {
    "duration": 11,
    "start_time": "2022-02-11T07:03:07.511Z"
   },
   {
    "duration": 548,
    "start_time": "2022-02-11T07:03:07.524Z"
   },
   {
    "duration": 527,
    "start_time": "2022-02-11T07:03:08.074Z"
   },
   {
    "duration": 561,
    "start_time": "2022-02-11T07:03:08.604Z"
   },
   {
    "duration": 6,
    "start_time": "2022-02-11T07:03:09.167Z"
   },
   {
    "duration": 16,
    "start_time": "2022-02-11T07:03:09.175Z"
   },
   {
    "duration": 989,
    "start_time": "2022-02-11T07:03:09.197Z"
   },
   {
    "duration": 993,
    "start_time": "2022-02-11T07:03:10.190Z"
   },
   {
    "duration": 8,
    "start_time": "2022-02-11T07:03:11.185Z"
   },
   {
    "duration": 28,
    "start_time": "2022-02-11T07:03:11.196Z"
   },
   {
    "duration": 49,
    "start_time": "2022-02-11T07:03:11.226Z"
   },
   {
    "duration": 650,
    "start_time": "2022-02-11T07:03:11.278Z"
   },
   {
    "duration": 40,
    "start_time": "2022-02-11T07:03:11.931Z"
   },
   {
    "duration": 27,
    "start_time": "2022-02-11T07:03:11.973Z"
   },
   {
    "duration": 5,
    "start_time": "2022-02-11T07:03:12.002Z"
   },
   {
    "duration": 27,
    "start_time": "2022-02-11T07:03:12.009Z"
   },
   {
    "duration": 33,
    "start_time": "2022-02-11T07:03:12.038Z"
   },
   {
    "duration": 5,
    "start_time": "2022-02-11T07:03:12.073Z"
   },
   {
    "duration": 6,
    "start_time": "2022-02-11T07:03:12.080Z"
   },
   {
    "duration": 19,
    "start_time": "2022-02-11T07:03:12.089Z"
   },
   {
    "duration": 80,
    "start_time": "2022-02-11T07:03:12.111Z"
   },
   {
    "duration": 7,
    "start_time": "2022-02-11T07:03:12.194Z"
   },
   {
    "duration": 7,
    "start_time": "2022-02-11T07:03:12.203Z"
   },
   {
    "duration": 6,
    "start_time": "2022-02-11T07:03:12.212Z"
   },
   {
    "duration": 1557,
    "start_time": "2022-02-11T07:03:12.220Z"
   },
   {
    "duration": 4,
    "start_time": "2022-02-11T07:03:13.869Z"
   },
   {
    "duration": 35185,
    "start_time": "2022-02-11T07:03:13.875Z"
   },
   {
    "duration": 1500,
    "start_time": "2022-02-11T07:03:49.069Z"
   },
   {
    "duration": 33648,
    "start_time": "2022-02-11T07:03:50.572Z"
   },
   {
    "duration": 1494,
    "start_time": "2022-02-11T07:04:24.222Z"
   },
   {
    "duration": 2016,
    "start_time": "2022-02-11T07:04:25.718Z"
   },
   {
    "duration": 5,
    "start_time": "2022-02-11T07:04:27.736Z"
   },
   {
    "duration": 1973,
    "start_time": "2022-02-11T07:05:15.153Z"
   },
   {
    "duration": 868,
    "start_time": "2022-02-11T07:05:17.129Z"
   },
   {
    "duration": 27,
    "start_time": "2022-02-11T07:05:18.004Z"
   },
   {
    "duration": 57,
    "start_time": "2022-02-11T07:05:18.034Z"
   },
   {
    "duration": 7,
    "start_time": "2022-02-11T07:05:18.093Z"
   },
   {
    "duration": 485,
    "start_time": "2022-02-11T07:05:18.102Z"
   },
   {
    "duration": 10,
    "start_time": "2022-02-11T07:05:18.591Z"
   },
   {
    "duration": 9,
    "start_time": "2022-02-11T07:05:18.604Z"
   },
   {
    "duration": 570,
    "start_time": "2022-02-11T07:05:18.616Z"
   },
   {
    "duration": 6,
    "start_time": "2022-02-11T07:05:19.188Z"
   },
   {
    "duration": 12,
    "start_time": "2022-02-11T07:05:19.196Z"
   },
   {
    "duration": 13,
    "start_time": "2022-02-11T07:05:19.210Z"
   },
   {
    "duration": 44,
    "start_time": "2022-02-11T07:05:19.225Z"
   },
   {
    "duration": 13,
    "start_time": "2022-02-11T07:05:19.271Z"
   },
   {
    "duration": 18,
    "start_time": "2022-02-11T07:05:19.287Z"
   },
   {
    "duration": 4,
    "start_time": "2022-02-11T07:05:19.308Z"
   },
   {
    "duration": 10,
    "start_time": "2022-02-11T07:05:19.314Z"
   },
   {
    "duration": 667,
    "start_time": "2022-02-11T07:05:19.326Z"
   },
   {
    "duration": 537,
    "start_time": "2022-02-11T07:05:19.997Z"
   },
   {
    "duration": 638,
    "start_time": "2022-02-11T07:05:20.536Z"
   },
   {
    "duration": 6,
    "start_time": "2022-02-11T07:05:21.176Z"
   },
   {
    "duration": 5,
    "start_time": "2022-02-11T07:05:21.188Z"
   },
   {
    "duration": 1135,
    "start_time": "2022-02-11T07:05:21.196Z"
   },
   {
    "duration": 990,
    "start_time": "2022-02-11T07:05:22.333Z"
   },
   {
    "duration": 5,
    "start_time": "2022-02-11T07:05:23.326Z"
   },
   {
    "duration": 35,
    "start_time": "2022-02-11T07:05:23.334Z"
   },
   {
    "duration": 32,
    "start_time": "2022-02-11T07:05:23.372Z"
   },
   {
    "duration": 587,
    "start_time": "2022-02-11T07:05:23.407Z"
   },
   {
    "duration": 30,
    "start_time": "2022-02-11T07:05:23.997Z"
   },
   {
    "duration": 59,
    "start_time": "2022-02-11T07:05:24.030Z"
   },
   {
    "duration": 6,
    "start_time": "2022-02-11T07:05:24.092Z"
   },
   {
    "duration": 27,
    "start_time": "2022-02-11T07:05:24.101Z"
   },
   {
    "duration": 6,
    "start_time": "2022-02-11T07:05:24.131Z"
   },
   {
    "duration": 7,
    "start_time": "2022-02-11T07:05:24.170Z"
   },
   {
    "duration": 6,
    "start_time": "2022-02-11T07:05:24.179Z"
   },
   {
    "duration": 22,
    "start_time": "2022-02-11T07:05:24.188Z"
   },
   {
    "duration": 75,
    "start_time": "2022-02-11T07:05:24.212Z"
   },
   {
    "duration": 8,
    "start_time": "2022-02-11T07:05:24.289Z"
   },
   {
    "duration": 16,
    "start_time": "2022-02-11T07:05:24.300Z"
   },
   {
    "duration": 21,
    "start_time": "2022-02-11T07:05:24.319Z"
   },
   {
    "duration": 1429,
    "start_time": "2022-02-11T07:05:24.343Z"
   },
   {
    "duration": 94,
    "start_time": "2022-02-11T07:05:25.776Z"
   },
   {
    "duration": 33572,
    "start_time": "2022-02-11T07:05:25.872Z"
   },
   {
    "duration": 1530,
    "start_time": "2022-02-11T07:05:59.446Z"
   },
   {
    "duration": 33550,
    "start_time": "2022-02-11T07:06:00.980Z"
   },
   {
    "duration": 1476,
    "start_time": "2022-02-11T07:06:34.532Z"
   },
   {
    "duration": 1900,
    "start_time": "2022-02-11T07:06:36.010Z"
   },
   {
    "duration": 4,
    "start_time": "2022-02-11T07:06:37.912Z"
   },
   {
    "duration": 96,
    "start_time": "2022-02-11T07:17:57.072Z"
   },
   {
    "duration": 4,
    "start_time": "2022-02-11T07:18:26.477Z"
   },
   {
    "duration": 1901,
    "start_time": "2022-02-11T07:18:59.252Z"
   },
   {
    "duration": 1470,
    "start_time": "2022-02-11T07:19:37.158Z"
   },
   {
    "duration": 34756,
    "start_time": "2022-02-11T07:20:15.499Z"
   },
   {
    "duration": 33077,
    "start_time": "2022-02-11T07:21:50.458Z"
   },
   {
    "duration": 1598,
    "start_time": "2022-02-11T07:24:17.237Z"
   },
   {
    "duration": 919,
    "start_time": "2022-02-11T07:24:18.838Z"
   },
   {
    "duration": 33,
    "start_time": "2022-02-11T07:24:19.761Z"
   },
   {
    "duration": 37,
    "start_time": "2022-02-11T07:24:19.796Z"
   },
   {
    "duration": 34,
    "start_time": "2022-02-11T07:24:19.836Z"
   },
   {
    "duration": 399,
    "start_time": "2022-02-11T07:24:19.874Z"
   },
   {
    "duration": 10,
    "start_time": "2022-02-11T07:24:20.276Z"
   },
   {
    "duration": 21,
    "start_time": "2022-02-11T07:24:20.289Z"
   },
   {
    "duration": 584,
    "start_time": "2022-02-11T07:24:20.313Z"
   },
   {
    "duration": 7,
    "start_time": "2022-02-11T07:24:20.899Z"
   },
   {
    "duration": 9,
    "start_time": "2022-02-11T07:24:20.908Z"
   },
   {
    "duration": 13,
    "start_time": "2022-02-11T07:24:20.919Z"
   },
   {
    "duration": 36,
    "start_time": "2022-02-11T07:24:20.934Z"
   },
   {
    "duration": 10,
    "start_time": "2022-02-11T07:24:20.973Z"
   },
   {
    "duration": 28,
    "start_time": "2022-02-11T07:24:20.985Z"
   },
   {
    "duration": 5,
    "start_time": "2022-02-11T07:24:21.015Z"
   },
   {
    "duration": 11,
    "start_time": "2022-02-11T07:24:21.022Z"
   },
   {
    "duration": 570,
    "start_time": "2022-02-11T07:24:21.038Z"
   },
   {
    "duration": 531,
    "start_time": "2022-02-11T07:24:21.611Z"
   },
   {
    "duration": 652,
    "start_time": "2022-02-11T07:24:22.145Z"
   },
   {
    "duration": 6,
    "start_time": "2022-02-11T07:24:22.799Z"
   },
   {
    "duration": 7,
    "start_time": "2022-02-11T07:24:22.808Z"
   },
   {
    "duration": 994,
    "start_time": "2022-02-11T07:24:22.818Z"
   },
   {
    "duration": 964,
    "start_time": "2022-02-11T07:24:23.814Z"
   },
   {
    "duration": 5,
    "start_time": "2022-02-11T07:24:24.781Z"
   },
   {
    "duration": 17,
    "start_time": "2022-02-11T07:24:24.789Z"
   },
   {
    "duration": 31,
    "start_time": "2022-02-11T07:24:24.808Z"
   },
   {
    "duration": 586,
    "start_time": "2022-02-11T07:24:24.841Z"
   },
   {
    "duration": 44,
    "start_time": "2022-02-11T07:24:25.429Z"
   },
   {
    "duration": 27,
    "start_time": "2022-02-11T07:24:25.476Z"
   },
   {
    "duration": 5,
    "start_time": "2022-02-11T07:24:25.506Z"
   },
   {
    "duration": 56,
    "start_time": "2022-02-11T07:24:25.514Z"
   },
   {
    "duration": 4,
    "start_time": "2022-02-11T07:24:25.573Z"
   },
   {
    "duration": 15,
    "start_time": "2022-02-11T07:24:25.579Z"
   },
   {
    "duration": 6,
    "start_time": "2022-02-11T07:24:25.597Z"
   },
   {
    "duration": 23,
    "start_time": "2022-02-11T07:24:25.605Z"
   },
   {
    "duration": 66,
    "start_time": "2022-02-11T07:24:25.631Z"
   },
   {
    "duration": 7,
    "start_time": "2022-02-11T07:24:25.700Z"
   },
   {
    "duration": 4,
    "start_time": "2022-02-11T07:24:25.710Z"
   },
   {
    "duration": 12,
    "start_time": "2022-02-11T07:24:25.717Z"
   },
   {
    "duration": 1343,
    "start_time": "2022-02-11T07:24:25.731Z"
   },
   {
    "duration": 93,
    "start_time": "2022-02-11T07:24:27.079Z"
   },
   {
    "duration": 33567,
    "start_time": "2022-02-11T07:24:27.174Z"
   },
   {
    "duration": 139,
    "start_time": "2022-02-11T07:25:00.743Z"
   },
   {
    "duration": -7336,
    "start_time": "2022-02-11T07:25:08.221Z"
   },
   {
    "duration": -7341,
    "start_time": "2022-02-11T07:25:08.227Z"
   },
   {
    "duration": -7345,
    "start_time": "2022-02-11T07:25:08.232Z"
   },
   {
    "duration": -7351,
    "start_time": "2022-02-11T07:25:08.239Z"
   },
   {
    "duration": 1580,
    "start_time": "2022-02-11T07:25:16.796Z"
   },
   {
    "duration": 1577,
    "start_time": "2022-02-11T07:25:27.459Z"
   },
   {
    "duration": 904,
    "start_time": "2022-02-11T07:25:29.038Z"
   },
   {
    "duration": 35,
    "start_time": "2022-02-11T07:25:29.945Z"
   },
   {
    "duration": 35,
    "start_time": "2022-02-11T07:25:29.983Z"
   },
   {
    "duration": 11,
    "start_time": "2022-02-11T07:25:30.020Z"
   },
   {
    "duration": 430,
    "start_time": "2022-02-11T07:25:30.033Z"
   },
   {
    "duration": 12,
    "start_time": "2022-02-11T07:25:30.466Z"
   },
   {
    "duration": 14,
    "start_time": "2022-02-11T07:25:30.484Z"
   },
   {
    "duration": 599,
    "start_time": "2022-02-11T07:25:30.502Z"
   },
   {
    "duration": 8,
    "start_time": "2022-02-11T07:25:31.104Z"
   },
   {
    "duration": 11,
    "start_time": "2022-02-11T07:25:31.115Z"
   },
   {
    "duration": 47,
    "start_time": "2022-02-11T07:25:31.129Z"
   },
   {
    "duration": 4,
    "start_time": "2022-02-11T07:25:31.179Z"
   },
   {
    "duration": 16,
    "start_time": "2022-02-11T07:25:31.186Z"
   },
   {
    "duration": 30,
    "start_time": "2022-02-11T07:25:31.204Z"
   },
   {
    "duration": 5,
    "start_time": "2022-02-11T07:25:31.236Z"
   },
   {
    "duration": 28,
    "start_time": "2022-02-11T07:25:31.243Z"
   },
   {
    "duration": 554,
    "start_time": "2022-02-11T07:25:31.273Z"
   },
   {
    "duration": 533,
    "start_time": "2022-02-11T07:25:31.829Z"
   },
   {
    "duration": 556,
    "start_time": "2022-02-11T07:25:32.364Z"
   },
   {
    "duration": 6,
    "start_time": "2022-02-11T07:25:32.923Z"
   },
   {
    "duration": 13,
    "start_time": "2022-02-11T07:25:32.932Z"
   },
   {
    "duration": 997,
    "start_time": "2022-02-11T07:25:32.950Z"
   },
   {
    "duration": 951,
    "start_time": "2022-02-11T07:25:33.950Z"
   },
   {
    "duration": 5,
    "start_time": "2022-02-11T07:25:34.903Z"
   },
   {
    "duration": 19,
    "start_time": "2022-02-11T07:25:34.910Z"
   },
   {
    "duration": 52,
    "start_time": "2022-02-11T07:25:34.931Z"
   },
   {
    "duration": 656,
    "start_time": "2022-02-11T07:25:34.985Z"
   },
   {
    "duration": 41,
    "start_time": "2022-02-11T07:25:35.643Z"
   },
   {
    "duration": 27,
    "start_time": "2022-02-11T07:25:35.687Z"
   },
   {
    "duration": 8,
    "start_time": "2022-02-11T07:25:35.716Z"
   },
   {
    "duration": 53,
    "start_time": "2022-02-11T07:25:35.726Z"
   },
   {
    "duration": 5,
    "start_time": "2022-02-11T07:25:35.781Z"
   },
   {
    "duration": 13,
    "start_time": "2022-02-11T07:25:35.789Z"
   },
   {
    "duration": 28,
    "start_time": "2022-02-11T07:25:35.804Z"
   },
   {
    "duration": 43,
    "start_time": "2022-02-11T07:25:35.834Z"
   },
   {
    "duration": 44,
    "start_time": "2022-02-11T07:25:35.880Z"
   },
   {
    "duration": 13,
    "start_time": "2022-02-11T07:25:35.926Z"
   },
   {
    "duration": 28,
    "start_time": "2022-02-11T07:25:35.942Z"
   },
   {
    "duration": 28,
    "start_time": "2022-02-11T07:25:35.972Z"
   },
   {
    "duration": 1468,
    "start_time": "2022-02-11T07:25:36.003Z"
   },
   {
    "duration": 5,
    "start_time": "2022-02-11T07:25:37.474Z"
   },
   {
    "duration": 34312,
    "start_time": "2022-02-11T07:25:37.570Z"
   },
   {
    "duration": 1391,
    "start_time": "2022-02-11T07:26:11.884Z"
   },
   {
    "duration": 33900,
    "start_time": "2022-02-11T07:26:13.278Z"
   },
   {
    "duration": 1503,
    "start_time": "2022-02-11T07:26:47.180Z"
   },
   {
    "duration": 2011,
    "start_time": "2022-02-11T07:26:48.685Z"
   },
   {
    "duration": 5,
    "start_time": "2022-02-11T07:26:50.698Z"
   },
   {
    "duration": 1547,
    "start_time": "2022-02-11T07:30:25.176Z"
   },
   {
    "duration": 881,
    "start_time": "2022-02-11T07:30:26.725Z"
   },
   {
    "duration": 28,
    "start_time": "2022-02-11T07:30:27.609Z"
   },
   {
    "duration": 49,
    "start_time": "2022-02-11T07:30:27.639Z"
   },
   {
    "duration": 5,
    "start_time": "2022-02-11T07:30:27.691Z"
   },
   {
    "duration": 417,
    "start_time": "2022-02-11T07:30:27.699Z"
   },
   {
    "duration": 11,
    "start_time": "2022-02-11T07:30:28.118Z"
   },
   {
    "duration": 12,
    "start_time": "2022-02-11T07:30:28.133Z"
   },
   {
    "duration": 600,
    "start_time": "2022-02-11T07:30:28.148Z"
   },
   {
    "duration": 6,
    "start_time": "2022-02-11T07:30:28.751Z"
   },
   {
    "duration": 15,
    "start_time": "2022-02-11T07:30:28.759Z"
   },
   {
    "duration": 13,
    "start_time": "2022-02-11T07:30:28.776Z"
   },
   {
    "duration": 7,
    "start_time": "2022-02-11T07:30:28.792Z"
   },
   {
    "duration": 8,
    "start_time": "2022-02-11T07:30:28.801Z"
   },
   {
    "duration": 61,
    "start_time": "2022-02-11T07:30:28.812Z"
   },
   {
    "duration": 5,
    "start_time": "2022-02-11T07:30:28.875Z"
   },
   {
    "duration": 6,
    "start_time": "2022-02-11T07:30:28.882Z"
   },
   {
    "duration": 559,
    "start_time": "2022-02-11T07:30:28.890Z"
   },
   {
    "duration": 536,
    "start_time": "2022-02-11T07:30:29.452Z"
   },
   {
    "duration": 567,
    "start_time": "2022-02-11T07:30:29.990Z"
   },
   {
    "duration": 13,
    "start_time": "2022-02-11T07:30:30.559Z"
   },
   {
    "duration": 10,
    "start_time": "2022-02-11T07:30:30.575Z"
   },
   {
    "duration": 1006,
    "start_time": "2022-02-11T07:30:30.591Z"
   },
   {
    "duration": 956,
    "start_time": "2022-02-11T07:30:31.601Z"
   },
   {
    "duration": 6,
    "start_time": "2022-02-11T07:30:32.568Z"
   },
   {
    "duration": 36,
    "start_time": "2022-02-11T07:30:32.576Z"
   },
   {
    "duration": 41,
    "start_time": "2022-02-11T07:30:32.615Z"
   },
   {
    "duration": 541,
    "start_time": "2022-02-11T07:30:32.658Z"
   },
   {
    "duration": 28,
    "start_time": "2022-02-11T07:30:33.202Z"
   },
   {
    "duration": 46,
    "start_time": "2022-02-11T07:30:33.232Z"
   },
   {
    "duration": 5,
    "start_time": "2022-02-11T07:30:33.280Z"
   },
   {
    "duration": 28,
    "start_time": "2022-02-11T07:30:33.287Z"
   },
   {
    "duration": 5,
    "start_time": "2022-02-11T07:30:33.317Z"
   },
   {
    "duration": 7,
    "start_time": "2022-02-11T07:30:33.324Z"
   },
   {
    "duration": 35,
    "start_time": "2022-02-11T07:30:33.334Z"
   },
   {
    "duration": 22,
    "start_time": "2022-02-11T07:30:33.371Z"
   },
   {
    "duration": 43,
    "start_time": "2022-02-11T07:30:33.395Z"
   },
   {
    "duration": 30,
    "start_time": "2022-02-11T07:30:33.441Z"
   },
   {
    "duration": 4,
    "start_time": "2022-02-11T07:30:33.473Z"
   },
   {
    "duration": 5,
    "start_time": "2022-02-11T07:30:33.479Z"
   },
   {
    "duration": 1188,
    "start_time": "2022-02-11T07:30:33.486Z"
   },
   {
    "duration": 91,
    "start_time": "2022-02-11T07:30:34.679Z"
   },
   {
    "duration": 35075,
    "start_time": "2022-02-11T07:30:34.773Z"
   },
   {
    "duration": 1428,
    "start_time": "2022-02-11T07:31:09.850Z"
   },
   {
    "duration": 33665,
    "start_time": "2022-02-11T07:31:11.371Z"
   },
   {
    "duration": 1555,
    "start_time": "2022-02-11T07:31:45.040Z"
   },
   {
    "duration": 1953,
    "start_time": "2022-02-11T07:31:46.598Z"
   },
   {
    "duration": 17,
    "start_time": "2022-02-11T07:31:48.554Z"
   },
   {
    "duration": 6,
    "start_time": "2022-02-11T07:34:09.707Z"
   },
   {
    "duration": 1730,
    "start_time": "2022-02-11T07:34:44.569Z"
   },
   {
    "duration": 908,
    "start_time": "2022-02-11T07:34:46.302Z"
   },
   {
    "duration": 27,
    "start_time": "2022-02-11T07:34:47.213Z"
   },
   {
    "duration": 51,
    "start_time": "2022-02-11T07:34:47.243Z"
   },
   {
    "duration": 12,
    "start_time": "2022-02-11T07:34:47.297Z"
   },
   {
    "duration": 406,
    "start_time": "2022-02-11T07:34:47.311Z"
   },
   {
    "duration": 11,
    "start_time": "2022-02-11T07:34:47.719Z"
   },
   {
    "duration": 26,
    "start_time": "2022-02-11T07:34:47.734Z"
   },
   {
    "duration": 553,
    "start_time": "2022-02-11T07:34:47.764Z"
   },
   {
    "duration": 7,
    "start_time": "2022-02-11T07:34:48.320Z"
   },
   {
    "duration": 18,
    "start_time": "2022-02-11T07:34:48.330Z"
   },
   {
    "duration": 27,
    "start_time": "2022-02-11T07:34:48.351Z"
   },
   {
    "duration": 21,
    "start_time": "2022-02-11T07:34:48.381Z"
   },
   {
    "duration": 25,
    "start_time": "2022-02-11T07:34:48.405Z"
   },
   {
    "duration": 35,
    "start_time": "2022-02-11T07:34:48.433Z"
   },
   {
    "duration": 5,
    "start_time": "2022-02-11T07:34:48.471Z"
   },
   {
    "duration": 18,
    "start_time": "2022-02-11T07:34:48.478Z"
   },
   {
    "duration": 533,
    "start_time": "2022-02-11T07:34:48.499Z"
   },
   {
    "duration": 526,
    "start_time": "2022-02-11T07:34:49.034Z"
   },
   {
    "duration": 548,
    "start_time": "2022-02-11T07:34:49.570Z"
   },
   {
    "duration": 6,
    "start_time": "2022-02-11T07:34:50.120Z"
   },
   {
    "duration": 12,
    "start_time": "2022-02-11T07:34:50.128Z"
   },
   {
    "duration": 1088,
    "start_time": "2022-02-11T07:34:50.145Z"
   },
   {
    "duration": 1001,
    "start_time": "2022-02-11T07:34:51.237Z"
   },
   {
    "duration": 6,
    "start_time": "2022-02-11T07:34:52.240Z"
   },
   {
    "duration": 46,
    "start_time": "2022-02-11T07:34:52.248Z"
   },
   {
    "duration": 50,
    "start_time": "2022-02-11T07:34:52.296Z"
   },
   {
    "duration": 545,
    "start_time": "2022-02-11T07:34:52.348Z"
   },
   {
    "duration": 28,
    "start_time": "2022-02-11T07:34:52.896Z"
   },
   {
    "duration": 50,
    "start_time": "2022-02-11T07:34:52.926Z"
   },
   {
    "duration": 12,
    "start_time": "2022-02-11T07:34:52.979Z"
   },
   {
    "duration": 43,
    "start_time": "2022-02-11T07:34:52.994Z"
   },
   {
    "duration": 5,
    "start_time": "2022-02-11T07:34:53.039Z"
   },
   {
    "duration": 8,
    "start_time": "2022-02-11T07:34:53.046Z"
   },
   {
    "duration": 17,
    "start_time": "2022-02-11T07:34:53.056Z"
   },
   {
    "duration": 23,
    "start_time": "2022-02-11T07:34:53.076Z"
   },
   {
    "duration": 46,
    "start_time": "2022-02-11T07:34:53.102Z"
   },
   {
    "duration": 22,
    "start_time": "2022-02-11T07:34:53.151Z"
   },
   {
    "duration": 21,
    "start_time": "2022-02-11T07:34:53.175Z"
   },
   {
    "duration": 21,
    "start_time": "2022-02-11T07:34:53.198Z"
   },
   {
    "duration": 1653,
    "start_time": "2022-02-11T07:34:53.221Z"
   },
   {
    "duration": 5,
    "start_time": "2022-02-11T07:34:54.877Z"
   },
   {
    "duration": 36012,
    "start_time": "2022-02-11T07:34:54.886Z"
   },
   {
    "duration": 1670,
    "start_time": "2022-02-11T07:35:30.902Z"
   },
   {
    "duration": 34068,
    "start_time": "2022-02-11T07:35:32.576Z"
   },
   {
    "duration": 1481,
    "start_time": "2022-02-11T07:36:06.647Z"
   },
   {
    "duration": 1869,
    "start_time": "2022-02-11T07:36:08.131Z"
   },
   {
    "duration": 6,
    "start_time": "2022-02-11T07:36:10.003Z"
   },
   {
    "duration": 448,
    "start_time": "2022-02-11T07:36:31.957Z"
   },
   {
    "duration": 314,
    "start_time": "2022-02-11T07:36:36.124Z"
   },
   {
    "duration": 7,
    "start_time": "2022-02-11T07:36:43.961Z"
   },
   {
    "duration": 6,
    "start_time": "2022-02-11T07:37:08.241Z"
   },
   {
    "duration": 8,
    "start_time": "2022-02-11T07:37:13.262Z"
   },
   {
    "duration": 1596,
    "start_time": "2022-02-11T07:37:25.838Z"
   },
   {
    "duration": 1004,
    "start_time": "2022-02-11T07:37:27.436Z"
   },
   {
    "duration": 31,
    "start_time": "2022-02-11T07:37:28.443Z"
   },
   {
    "duration": 35,
    "start_time": "2022-02-11T07:37:28.476Z"
   },
   {
    "duration": 6,
    "start_time": "2022-02-11T07:37:28.513Z"
   },
   {
    "duration": 420,
    "start_time": "2022-02-11T07:37:28.521Z"
   },
   {
    "duration": 11,
    "start_time": "2022-02-11T07:37:28.944Z"
   },
   {
    "duration": 4,
    "start_time": "2022-02-11T07:37:28.970Z"
   },
   {
    "duration": 576,
    "start_time": "2022-02-11T07:37:28.978Z"
   },
   {
    "duration": 16,
    "start_time": "2022-02-11T07:37:29.556Z"
   },
   {
    "duration": 7,
    "start_time": "2022-02-11T07:37:29.575Z"
   },
   {
    "duration": 12,
    "start_time": "2022-02-11T07:37:29.585Z"
   },
   {
    "duration": 6,
    "start_time": "2022-02-11T07:37:29.600Z"
   },
   {
    "duration": 7,
    "start_time": "2022-02-11T07:37:29.608Z"
   },
   {
    "duration": 63,
    "start_time": "2022-02-11T07:37:29.617Z"
   },
   {
    "duration": 4,
    "start_time": "2022-02-11T07:37:29.683Z"
   },
   {
    "duration": 6,
    "start_time": "2022-02-11T07:37:29.690Z"
   },
   {
    "duration": 574,
    "start_time": "2022-02-11T07:37:29.698Z"
   },
   {
    "duration": 539,
    "start_time": "2022-02-11T07:37:30.274Z"
   },
   {
    "duration": 577,
    "start_time": "2022-02-11T07:37:30.815Z"
   },
   {
    "duration": 6,
    "start_time": "2022-02-11T07:37:31.395Z"
   },
   {
    "duration": 11,
    "start_time": "2022-02-11T07:37:31.403Z"
   },
   {
    "duration": 1015,
    "start_time": "2022-02-11T07:37:31.420Z"
   },
   {
    "duration": 1069,
    "start_time": "2022-02-11T07:37:32.438Z"
   },
   {
    "duration": 6,
    "start_time": "2022-02-11T07:37:33.509Z"
   },
   {
    "duration": 17,
    "start_time": "2022-02-11T07:37:33.518Z"
   },
   {
    "duration": 54,
    "start_time": "2022-02-11T07:37:33.538Z"
   },
   {
    "duration": 565,
    "start_time": "2022-02-11T07:37:33.594Z"
   },
   {
    "duration": 29,
    "start_time": "2022-02-11T07:37:34.169Z"
   },
   {
    "duration": 26,
    "start_time": "2022-02-11T07:37:34.200Z"
   },
   {
    "duration": 4,
    "start_time": "2022-02-11T07:37:34.229Z"
   },
   {
    "duration": 58,
    "start_time": "2022-02-11T07:37:34.235Z"
   },
   {
    "duration": 4,
    "start_time": "2022-02-11T07:37:34.296Z"
   },
   {
    "duration": 6,
    "start_time": "2022-02-11T07:37:34.302Z"
   },
   {
    "duration": 6,
    "start_time": "2022-02-11T07:37:34.310Z"
   },
   {
    "duration": 56,
    "start_time": "2022-02-11T07:37:34.318Z"
   },
   {
    "duration": 45,
    "start_time": "2022-02-11T07:37:34.376Z"
   },
   {
    "duration": 7,
    "start_time": "2022-02-11T07:37:34.423Z"
   },
   {
    "duration": 7,
    "start_time": "2022-02-11T07:37:34.432Z"
   },
   {
    "duration": 30,
    "start_time": "2022-02-11T07:37:34.441Z"
   },
   {
    "duration": 1703,
    "start_time": "2022-02-11T07:37:34.473Z"
   },
   {
    "duration": 4,
    "start_time": "2022-02-11T07:37:36.269Z"
   },
   {
    "duration": 33635,
    "start_time": "2022-02-11T07:37:36.275Z"
   },
   {
    "duration": 1560,
    "start_time": "2022-02-11T07:38:09.912Z"
   },
   {
    "duration": 34083,
    "start_time": "2022-02-11T07:38:11.475Z"
   },
   {
    "duration": 1523,
    "start_time": "2022-02-11T07:38:45.560Z"
   },
   {
    "duration": 2872,
    "start_time": "2022-02-11T07:38:47.086Z"
   },
   {
    "duration": 10,
    "start_time": "2022-02-11T07:38:49.961Z"
   },
   {
    "duration": 1598,
    "start_time": "2022-02-11T08:17:57.427Z"
   },
   {
    "duration": 984,
    "start_time": "2022-02-11T08:17:59.028Z"
   },
   {
    "duration": 26,
    "start_time": "2022-02-11T08:18:00.016Z"
   },
   {
    "duration": 53,
    "start_time": "2022-02-11T08:18:00.045Z"
   },
   {
    "duration": 5,
    "start_time": "2022-02-11T08:18:00.101Z"
   },
   {
    "duration": 409,
    "start_time": "2022-02-11T08:18:00.109Z"
   },
   {
    "duration": 11,
    "start_time": "2022-02-11T08:18:00.520Z"
   },
   {
    "duration": 14,
    "start_time": "2022-02-11T08:18:00.535Z"
   },
   {
    "duration": 587,
    "start_time": "2022-02-11T08:18:00.552Z"
   },
   {
    "duration": 29,
    "start_time": "2022-02-11T08:18:01.142Z"
   },
   {
    "duration": 22,
    "start_time": "2022-02-11T08:18:01.174Z"
   },
   {
    "duration": 15,
    "start_time": "2022-02-11T08:18:01.199Z"
   },
   {
    "duration": 19,
    "start_time": "2022-02-11T08:18:01.217Z"
   },
   {
    "duration": 29,
    "start_time": "2022-02-11T08:18:01.239Z"
   },
   {
    "duration": 31,
    "start_time": "2022-02-11T08:18:01.270Z"
   },
   {
    "duration": 5,
    "start_time": "2022-02-11T08:18:01.303Z"
   },
   {
    "duration": 8,
    "start_time": "2022-02-11T08:18:01.311Z"
   },
   {
    "duration": 553,
    "start_time": "2022-02-11T08:18:01.322Z"
   },
   {
    "duration": 536,
    "start_time": "2022-02-11T08:18:01.878Z"
   },
   {
    "duration": 553,
    "start_time": "2022-02-11T08:18:02.416Z"
   },
   {
    "duration": 7,
    "start_time": "2022-02-11T08:18:02.971Z"
   },
   {
    "duration": 11,
    "start_time": "2022-02-11T08:18:02.981Z"
   },
   {
    "duration": 1238,
    "start_time": "2022-02-11T08:18:02.998Z"
   },
   {
    "duration": 996,
    "start_time": "2022-02-11T08:18:04.239Z"
   },
   {
    "duration": 5,
    "start_time": "2022-02-11T08:18:05.238Z"
   },
   {
    "duration": 40,
    "start_time": "2022-02-11T08:18:05.246Z"
   },
   {
    "duration": 37,
    "start_time": "2022-02-11T08:18:05.289Z"
   },
   {
    "duration": 702,
    "start_time": "2022-02-11T08:18:05.328Z"
   },
   {
    "duration": 51,
    "start_time": "2022-02-11T08:18:06.033Z"
   },
   {
    "duration": 28,
    "start_time": "2022-02-11T08:18:06.086Z"
   },
   {
    "duration": 4,
    "start_time": "2022-02-11T08:18:06.117Z"
   },
   {
    "duration": 55,
    "start_time": "2022-02-11T08:18:06.124Z"
   },
   {
    "duration": 5,
    "start_time": "2022-02-11T08:18:06.182Z"
   },
   {
    "duration": 7,
    "start_time": "2022-02-11T08:18:06.189Z"
   },
   {
    "duration": 7,
    "start_time": "2022-02-11T08:18:06.198Z"
   },
   {
    "duration": 21,
    "start_time": "2022-02-11T08:18:06.207Z"
   },
   {
    "duration": 77,
    "start_time": "2022-02-11T08:18:06.231Z"
   },
   {
    "duration": 9,
    "start_time": "2022-02-11T08:18:06.310Z"
   },
   {
    "duration": 7,
    "start_time": "2022-02-11T08:18:06.322Z"
   },
   {
    "duration": 7,
    "start_time": "2022-02-11T08:18:06.332Z"
   },
   {
    "duration": 1933,
    "start_time": "2022-02-11T08:18:06.342Z"
   },
   {
    "duration": 6,
    "start_time": "2022-02-11T08:18:08.278Z"
   },
   {
    "duration": 35988,
    "start_time": "2022-02-11T08:18:08.287Z"
   },
   {
    "duration": 1392,
    "start_time": "2022-02-11T08:18:44.277Z"
   },
   {
    "duration": 34752,
    "start_time": "2022-02-11T08:18:45.673Z"
   },
   {
    "duration": 1506,
    "start_time": "2022-02-11T08:19:20.428Z"
   },
   {
    "duration": 1914,
    "start_time": "2022-02-11T08:19:21.937Z"
   },
   {
    "duration": 4,
    "start_time": "2022-02-11T08:19:23.854Z"
   },
   {
    "duration": 1367,
    "start_time": "2022-02-11T14:57:50.115Z"
   },
   {
    "duration": 2276,
    "start_time": "2022-02-11T14:57:51.484Z"
   },
   {
    "duration": 20,
    "start_time": "2022-02-11T14:57:53.763Z"
   },
   {
    "duration": 41,
    "start_time": "2022-02-11T14:57:53.785Z"
   },
   {
    "duration": 10,
    "start_time": "2022-02-11T14:57:53.829Z"
   },
   {
    "duration": 281,
    "start_time": "2022-02-11T14:57:53.841Z"
   },
   {
    "duration": 9,
    "start_time": "2022-02-11T14:57:54.124Z"
   },
   {
    "duration": 8,
    "start_time": "2022-02-11T14:57:54.135Z"
   },
   {
    "duration": 404,
    "start_time": "2022-02-11T14:57:54.146Z"
   },
   {
    "duration": 5,
    "start_time": "2022-02-11T14:57:54.552Z"
   },
   {
    "duration": 9,
    "start_time": "2022-02-11T14:57:54.559Z"
   },
   {
    "duration": 15,
    "start_time": "2022-02-11T14:57:54.570Z"
   },
   {
    "duration": 23,
    "start_time": "2022-02-11T14:57:54.587Z"
   },
   {
    "duration": 20,
    "start_time": "2022-02-11T14:57:54.613Z"
   },
   {
    "duration": 18,
    "start_time": "2022-02-11T14:57:54.635Z"
   },
   {
    "duration": 5,
    "start_time": "2022-02-11T14:57:54.655Z"
   },
   {
    "duration": 6,
    "start_time": "2022-02-11T14:57:54.662Z"
   },
   {
    "duration": 461,
    "start_time": "2022-02-11T14:57:54.670Z"
   },
   {
    "duration": 405,
    "start_time": "2022-02-11T14:57:55.133Z"
   },
   {
    "duration": 435,
    "start_time": "2022-02-11T14:57:55.541Z"
   },
   {
    "duration": 5,
    "start_time": "2022-02-11T14:57:55.978Z"
   },
   {
    "duration": 24,
    "start_time": "2022-02-11T14:57:55.985Z"
   },
   {
    "duration": 745,
    "start_time": "2022-02-11T14:57:56.012Z"
   },
   {
    "duration": 723,
    "start_time": "2022-02-11T14:57:56.760Z"
   },
   {
    "duration": 4,
    "start_time": "2022-02-11T14:57:57.485Z"
   },
   {
    "duration": 38,
    "start_time": "2022-02-11T14:57:57.492Z"
   },
   {
    "duration": 36,
    "start_time": "2022-02-11T14:57:57.534Z"
   },
   {
    "duration": 406,
    "start_time": "2022-02-11T14:57:57.573Z"
   },
   {
    "duration": 33,
    "start_time": "2022-02-11T14:57:57.981Z"
   },
   {
    "duration": 23,
    "start_time": "2022-02-11T14:57:58.017Z"
   },
   {
    "duration": 10,
    "start_time": "2022-02-11T14:57:58.042Z"
   },
   {
    "duration": 31,
    "start_time": "2022-02-11T14:57:58.054Z"
   },
   {
    "duration": 4,
    "start_time": "2022-02-11T14:57:58.087Z"
   },
   {
    "duration": 6,
    "start_time": "2022-02-11T14:57:58.109Z"
   },
   {
    "duration": 19,
    "start_time": "2022-02-11T14:57:58.118Z"
   },
   {
    "duration": 27,
    "start_time": "2022-02-11T14:57:58.139Z"
   },
   {
    "duration": 49,
    "start_time": "2022-02-11T14:57:58.168Z"
   },
   {
    "duration": 7,
    "start_time": "2022-02-11T14:57:58.220Z"
   },
   {
    "duration": 10,
    "start_time": "2022-02-11T14:57:58.229Z"
   },
   {
    "duration": 23,
    "start_time": "2022-02-11T14:57:58.241Z"
   },
   {
    "duration": 1750,
    "start_time": "2022-02-11T14:57:58.266Z"
   },
   {
    "duration": 4,
    "start_time": "2022-02-11T14:58:00.020Z"
   },
   {
    "duration": 30754,
    "start_time": "2022-02-11T14:58:00.028Z"
   },
   {
    "duration": 1631,
    "start_time": "2022-02-11T14:58:30.784Z"
   },
   {
    "duration": 31250,
    "start_time": "2022-02-11T14:58:32.418Z"
   },
   {
    "duration": 1378,
    "start_time": "2022-02-11T14:59:03.671Z"
   },
   {
    "duration": 1752,
    "start_time": "2022-02-11T14:59:05.051Z"
   },
   {
    "duration": 4,
    "start_time": "2022-02-11T14:59:06.805Z"
   },
   {
    "duration": 363,
    "start_time": "2022-02-11T17:13:18.515Z"
   },
   {
    "duration": 273,
    "start_time": "2022-03-07T18:05:19.378Z"
   },
   {
    "duration": 1028,
    "start_time": "2022-03-07T18:05:25.675Z"
   },
   {
    "duration": 690,
    "start_time": "2022-03-07T18:05:27.816Z"
   },
   {
    "duration": 202,
    "start_time": "2022-03-07T18:05:32.713Z"
   },
   {
    "duration": 14,
    "start_time": "2022-03-07T18:05:42.386Z"
   },
   {
    "duration": 136,
    "start_time": "2022-03-07T18:06:10.288Z"
   },
   {
    "duration": 14,
    "start_time": "2022-03-07T18:06:16.910Z"
   },
   {
    "duration": 6,
    "start_time": "2022-03-07T18:09:53.813Z"
   },
   {
    "duration": 6,
    "start_time": "2022-03-07T18:09:58.478Z"
   },
   {
    "duration": 8,
    "start_time": "2022-03-07T18:10:30.706Z"
   },
   {
    "duration": 8,
    "start_time": "2022-03-07T18:10:38.554Z"
   },
   {
    "duration": 6,
    "start_time": "2022-03-07T18:10:43.903Z"
   },
   {
    "duration": 14,
    "start_time": "2022-03-07T18:10:58.064Z"
   },
   {
    "duration": 14,
    "start_time": "2022-03-07T18:11:04.211Z"
   },
   {
    "duration": 6,
    "start_time": "2022-03-07T18:12:09.457Z"
   },
   {
    "duration": 14,
    "start_time": "2022-03-07T18:13:28.645Z"
   },
   {
    "duration": 13,
    "start_time": "2022-03-07T18:13:35.953Z"
   },
   {
    "duration": 139,
    "start_time": "2022-03-07T18:13:47.934Z"
   },
   {
    "duration": 14,
    "start_time": "2022-03-07T18:13:56.791Z"
   },
   {
    "duration": 1139,
    "start_time": "2022-03-07T18:16:32.932Z"
   },
   {
    "duration": 650,
    "start_time": "2022-03-07T18:16:34.072Z"
   },
   {
    "duration": 19,
    "start_time": "2022-03-07T18:16:34.724Z"
   },
   {
    "duration": 21,
    "start_time": "2022-03-07T18:16:34.745Z"
   },
   {
    "duration": 4,
    "start_time": "2022-03-07T18:16:34.768Z"
   },
   {
    "duration": 229,
    "start_time": "2022-03-07T18:16:34.773Z"
   },
   {
    "duration": 8,
    "start_time": "2022-03-07T18:16:35.004Z"
   },
   {
    "duration": 7,
    "start_time": "2022-03-07T18:16:35.014Z"
   },
   {
    "duration": 319,
    "start_time": "2022-03-07T18:16:35.033Z"
   },
   {
    "duration": 4,
    "start_time": "2022-03-07T18:16:35.354Z"
   },
   {
    "duration": 6,
    "start_time": "2022-03-07T18:16:35.360Z"
   },
   {
    "duration": 8,
    "start_time": "2022-03-07T18:16:35.368Z"
   },
   {
    "duration": 7,
    "start_time": "2022-03-07T18:16:35.377Z"
   },
   {
    "duration": 11,
    "start_time": "2022-03-07T18:16:35.385Z"
   },
   {
    "duration": 35,
    "start_time": "2022-03-07T18:16:35.398Z"
   },
   {
    "duration": 4,
    "start_time": "2022-03-07T18:16:35.434Z"
   },
   {
    "duration": 6,
    "start_time": "2022-03-07T18:16:35.440Z"
   },
   {
    "duration": 328,
    "start_time": "2022-03-07T18:16:35.447Z"
   },
   {
    "duration": 309,
    "start_time": "2022-03-07T18:16:35.777Z"
   },
   {
    "duration": 326,
    "start_time": "2022-03-07T18:16:36.089Z"
   },
   {
    "duration": 14,
    "start_time": "2022-03-07T18:16:36.418Z"
   },
   {
    "duration": 6,
    "start_time": "2022-03-07T18:16:36.435Z"
   },
   {
    "duration": 1119,
    "start_time": "2022-03-07T18:16:36.447Z"
   },
   {
    "duration": 1104,
    "start_time": "2022-03-07T18:16:37.570Z"
   },
   {
    "duration": 6,
    "start_time": "2022-03-07T18:16:38.677Z"
   },
   {
    "duration": 16,
    "start_time": "2022-03-07T18:16:38.686Z"
   },
   {
    "duration": 37,
    "start_time": "2022-03-07T18:16:38.703Z"
   },
   {
    "duration": 345,
    "start_time": "2022-03-07T18:16:38.741Z"
   },
   {
    "duration": 19,
    "start_time": "2022-03-07T18:16:39.088Z"
   },
   {
    "duration": 39,
    "start_time": "2022-03-07T18:16:39.110Z"
   },
   {
    "duration": 4,
    "start_time": "2022-03-07T18:16:39.151Z"
   },
   {
    "duration": 19,
    "start_time": "2022-03-07T18:16:39.157Z"
   },
   {
    "duration": 4,
    "start_time": "2022-03-07T18:16:39.178Z"
   },
   {
    "duration": 10,
    "start_time": "2022-03-07T18:16:39.184Z"
   },
   {
    "duration": 6,
    "start_time": "2022-03-07T18:16:39.195Z"
   },
   {
    "duration": 44,
    "start_time": "2022-03-07T18:16:39.202Z"
   },
   {
    "duration": 33,
    "start_time": "2022-03-07T18:16:39.248Z"
   },
   {
    "duration": 5,
    "start_time": "2022-03-07T18:16:39.282Z"
   },
   {
    "duration": 4,
    "start_time": "2022-03-07T18:16:39.289Z"
   },
   {
    "duration": 5,
    "start_time": "2022-03-07T18:16:39.294Z"
   },
   {
    "duration": 1336,
    "start_time": "2022-03-07T18:16:39.301Z"
   },
   {
    "duration": 92,
    "start_time": "2022-03-07T18:16:40.641Z"
   },
   {
    "duration": 25986,
    "start_time": "2022-03-07T18:16:40.735Z"
   },
   {
    "duration": 1315,
    "start_time": "2022-03-07T18:17:06.722Z"
   },
   {
    "duration": 25503,
    "start_time": "2022-03-07T18:17:08.040Z"
   },
   {
    "duration": 1481,
    "start_time": "2022-03-07T18:17:33.546Z"
   },
   {
    "duration": 1895,
    "start_time": "2022-03-07T18:17:35.034Z"
   },
   {
    "duration": 3,
    "start_time": "2022-03-07T18:17:36.933Z"
   },
   {
    "duration": 1096,
    "start_time": "2022-03-07T18:19:17.395Z"
   },
   {
    "duration": 660,
    "start_time": "2022-03-07T18:19:18.493Z"
   },
   {
    "duration": 17,
    "start_time": "2022-03-07T18:19:19.154Z"
   },
   {
    "duration": 20,
    "start_time": "2022-03-07T18:19:19.173Z"
   },
   {
    "duration": 4,
    "start_time": "2022-03-07T18:19:19.194Z"
   },
   {
    "duration": 242,
    "start_time": "2022-03-07T18:19:19.200Z"
   },
   {
    "duration": 7,
    "start_time": "2022-03-07T18:19:19.443Z"
   },
   {
    "duration": 5,
    "start_time": "2022-03-07T18:19:19.452Z"
   },
   {
    "duration": 335,
    "start_time": "2022-03-07T18:19:19.459Z"
   },
   {
    "duration": 4,
    "start_time": "2022-03-07T18:19:19.796Z"
   },
   {
    "duration": 6,
    "start_time": "2022-03-07T18:19:19.802Z"
   },
   {
    "duration": 25,
    "start_time": "2022-03-07T18:19:19.809Z"
   },
   {
    "duration": 5,
    "start_time": "2022-03-07T18:19:19.836Z"
   },
   {
    "duration": 8,
    "start_time": "2022-03-07T18:19:19.842Z"
   },
   {
    "duration": 15,
    "start_time": "2022-03-07T18:19:19.851Z"
   },
   {
    "duration": 3,
    "start_time": "2022-03-07T18:19:19.868Z"
   },
   {
    "duration": 5,
    "start_time": "2022-03-07T18:19:19.873Z"
   },
   {
    "duration": 345,
    "start_time": "2022-03-07T18:19:19.880Z"
   },
   {
    "duration": 307,
    "start_time": "2022-03-07T18:19:20.226Z"
   },
   {
    "duration": 325,
    "start_time": "2022-03-07T18:19:20.534Z"
   },
   {
    "duration": 4,
    "start_time": "2022-03-07T18:19:20.861Z"
   },
   {
    "duration": 10,
    "start_time": "2022-03-07T18:19:20.867Z"
   },
   {
    "duration": 609,
    "start_time": "2022-03-07T18:19:20.880Z"
   },
   {
    "duration": 563,
    "start_time": "2022-03-07T18:19:21.491Z"
   },
   {
    "duration": 4,
    "start_time": "2022-03-07T18:19:22.055Z"
   },
   {
    "duration": 16,
    "start_time": "2022-03-07T18:19:22.060Z"
   },
   {
    "duration": 20,
    "start_time": "2022-03-07T18:19:22.077Z"
   },
   {
    "duration": 337,
    "start_time": "2022-03-07T18:19:22.098Z"
   },
   {
    "duration": 18,
    "start_time": "2022-03-07T18:19:22.436Z"
   },
   {
    "duration": 16,
    "start_time": "2022-03-07T18:19:22.456Z"
   },
   {
    "duration": 4,
    "start_time": "2022-03-07T18:19:22.473Z"
   },
   {
    "duration": 18,
    "start_time": "2022-03-07T18:19:22.478Z"
   },
   {
    "duration": 3,
    "start_time": "2022-03-07T18:19:22.498Z"
   },
   {
    "duration": 4,
    "start_time": "2022-03-07T18:19:22.532Z"
   },
   {
    "duration": 5,
    "start_time": "2022-03-07T18:19:22.537Z"
   },
   {
    "duration": 17,
    "start_time": "2022-03-07T18:19:22.543Z"
   },
   {
    "duration": 31,
    "start_time": "2022-03-07T18:19:22.562Z"
   },
   {
    "duration": 5,
    "start_time": "2022-03-07T18:19:22.595Z"
   },
   {
    "duration": 8,
    "start_time": "2022-03-07T18:19:22.602Z"
   },
   {
    "duration": 6,
    "start_time": "2022-03-07T18:19:22.633Z"
   },
   {
    "duration": 1293,
    "start_time": "2022-03-07T18:19:22.641Z"
   },
   {
    "duration": 91,
    "start_time": "2022-03-07T18:19:23.942Z"
   },
   {
    "duration": 25352,
    "start_time": "2022-03-07T18:19:24.035Z"
   },
   {
    "duration": 1349,
    "start_time": "2022-03-07T18:19:49.388Z"
   },
   {
    "duration": 26917,
    "start_time": "2022-03-07T18:19:50.740Z"
   },
   {
    "duration": 1211,
    "start_time": "2022-03-07T18:20:17.659Z"
   },
   {
    "duration": 1555,
    "start_time": "2022-03-07T18:20:18.872Z"
   },
   {
    "duration": 3,
    "start_time": "2022-03-07T18:20:20.432Z"
   }
  ],
  "kernelspec": {
   "display_name": "Python 3",
   "language": "python",
   "name": "python3"
  },
  "language_info": {
   "codemirror_mode": {
    "name": "ipython",
    "version": 3
   },
   "file_extension": ".py",
   "mimetype": "text/x-python",
   "name": "python",
   "nbconvert_exporter": "python",
   "pygments_lexer": "ipython3",
   "version": "3.10.2"
  },
  "toc": {
   "base_numbering": 1,
   "nav_menu": {},
   "number_sections": true,
   "sideBar": true,
   "skip_h1_title": true,
   "title_cell": "Содержание",
   "title_sidebar": "Contents",
   "toc_cell": true,
   "toc_position": {
    "height": "calc(100% - 180px)",
    "left": "10px",
    "top": "150px",
    "width": "165px"
   },
   "toc_section_display": true,
   "toc_window_display": true
  }
 },
 "nbformat": 4,
 "nbformat_minor": 2
}
