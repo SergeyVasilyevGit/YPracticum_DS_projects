{
 "cells": [
  {
   "cell_type": "markdown",
   "metadata": {
    "toc": true
   },
   "source": [
    "<h1>Содержание<span class=\"tocSkip\"></span></h1>\n",
    "<div class=\"toc\"><ul class=\"toc-item\"><li><span><a href=\"#Подготовка\" data-toc-modified-id=\"Подготовка-1\"><span class=\"toc-item-num\">1&nbsp;&nbsp;</span>Подготовка</a></span></li><li><span><a href=\"#Обучение\" data-toc-modified-id=\"Обучение-2\"><span class=\"toc-item-num\">2&nbsp;&nbsp;</span>Обучение</a></span></li><li><span><a href=\"#Выводы\" data-toc-modified-id=\"Выводы-3\"><span class=\"toc-item-num\">3&nbsp;&nbsp;</span>Выводы</a></span></li></ul></div>"
   ]
  },
  {
   "cell_type": "markdown",
   "metadata": {},
   "source": [
    "# Проект для «Викишоп»"
   ]
  },
  {
   "cell_type": "markdown",
   "metadata": {},
   "source": [
    "Интернет-магазин «Викишоп» запускает новый сервис. Теперь пользователи могут редактировать и дополнять описания товаров, как в вики-сообществах. То есть клиенты предлагают свои правки и комментируют изменения других. Магазину нужен инструмент, который будет искать токсичные комментарии и отправлять их на модерацию. \n",
    "\n",
    "Необходимо обучить модель классифицировать комментарии на позитивные и негативные.\n",
    "\n",
    "Значение метрики качества *F1* должно быть не меньше 0.75. "
   ]
  },
  {
   "cell_type": "markdown",
   "metadata": {},
   "source": [
    "**Цель**  \n",
    "\n",
    "Построить модель для классификации комментариев на позитивные и негативные. \n",
    "\n",
    "**Структура исследования**  \n",
    "\n",
    "1. Подготовка данных\n",
    "2. Обучение моделей\n",
    "3. Выводы\n",
    "\n",
    "**Использование дополнительных модулей**  \n",
    "\n",
    "- `pandas` – редактор баз данных  \n",
    "- `numpy` – работа с многомерными массивами  \n",
    "- `re` – регулярные выражения  \n",
    "- `nltk` – обработка естественного языка  \n",
    "- `sklearn`, `lightgbm` – машинное обучение  "
   ]
  },
  {
   "cell_type": "markdown",
   "metadata": {},
   "source": [
    "## Подготовка"
   ]
  },
  {
   "cell_type": "code",
   "execution_count": 1,
   "metadata": {},
   "outputs": [],
   "source": [
    "import pandas as pd\n",
    "import numpy as np\n",
    "import re\n",
    "\n",
    "from nltk.corpus import stopwords\n",
    "from nltk.tokenize import word_tokenize\n",
    "from nltk.stem import WordNetLemmatizer\n",
    "\n",
    "from sklearn.model_selection import train_test_split, GridSearchCV\n",
    "from sklearn.feature_extraction.text import TfidfVectorizer\n",
    "from sklearn.linear_model import LogisticRegression, SGDClassifier\n",
    "from sklearn.metrics import f1_score\n",
    "from sklearn.pipeline import Pipeline\n",
    "\n",
    "from lightgbm import LGBMClassifier\n",
    "\n",
    "import warnings\n",
    "warnings.filterwarnings(\"ignore\")"
   ]
  },
  {
   "cell_type": "code",
   "execution_count": 2,
   "metadata": {},
   "outputs": [
    {
     "data": {
      "text/plain": [
       "<bound method NDFrame.head of                                                      text  toxic\n",
       "0       Explanation\\nWhy the edits made under my usern...      0\n",
       "1       D'aww! He matches this background colour I'm s...      0\n",
       "2       Hey man, I'm really not trying to edit war. It...      0\n",
       "3       \"\\nMore\\nI can't make any real suggestions on ...      0\n",
       "4       You, sir, are my hero. Any chance you remember...      0\n",
       "...                                                   ...    ...\n",
       "159566  \":::::And for the second time of asking, when ...      0\n",
       "159567  You should be ashamed of yourself \\n\\nThat is ...      0\n",
       "159568  Spitzer \\n\\nUmm, theres no actual article for ...      0\n",
       "159569  And it looks like it was actually you who put ...      0\n",
       "159570  \"\\nAnd ... I really don't think you understand...      0\n",
       "\n",
       "[159571 rows x 2 columns]>"
      ]
     },
     "execution_count": 2,
     "metadata": {},
     "output_type": "execute_result"
    }
   ],
   "source": [
    "# Загрузка данных из файла\n",
    "df = pd.read_csv('toxic_comments.csv')\n",
    "df.head"
   ]
  },
  {
   "cell_type": "code",
   "execution_count": 3,
   "metadata": {
    "scrolled": true
   },
   "outputs": [
    {
     "name": "stdout",
     "output_type": "stream",
     "text": [
      "<class 'pandas.core.frame.DataFrame'>\n",
      "RangeIndex: 159571 entries, 0 to 159570\n",
      "Data columns (total 2 columns):\n",
      " #   Column  Non-Null Count   Dtype \n",
      "---  ------  --------------   ----- \n",
      " 0   text    159571 non-null  object\n",
      " 1   toxic   159571 non-null  int64 \n",
      "dtypes: int64(1), object(1)\n",
      "memory usage: 2.4+ MB\n"
     ]
    }
   ],
   "source": [
    "# Общая информация о датафрейме\n",
    "df.info()"
   ]
  },
  {
   "cell_type": "code",
   "execution_count": 4,
   "metadata": {},
   "outputs": [
    {
     "data": {
      "text/plain": [
       "0    0.898321\n",
       "1    0.101679\n",
       "Name: toxic, dtype: float64"
      ]
     },
     "execution_count": 4,
     "metadata": {},
     "output_type": "execute_result"
    }
   ],
   "source": [
    "# Процентное соотношение положительных или нейтральных (0) и токсичных (1) комментариев\n",
    "df['toxic'].value_counts(normalize=True)"
   ]
  },
  {
   "cell_type": "code",
   "execution_count": 5,
   "metadata": {
    "scrolled": false
   },
   "outputs": [
    {
     "data": {
      "image/png": "[encoded data removed]",
      "text/plain": [
       "<Figure size 432x288 with 1 Axes>"
      ]
     },
     "metadata": {
      "needs_background": "light"
     },
     "output_type": "display_data"
    }
   ],
   "source": [
    "# Визуализация процентного соотношения комментариев\n",
    "df['toxic'].value_counts(normalize=True).plot(kind='bar');"
   ]
  },
  {
   "cell_type": "markdown",
   "metadata": {},
   "source": [
    "Приблизительно каждый 10-й комментарий в отзывах токсичен."
   ]
  },
  {
   "cell_type": "code",
   "execution_count": 6,
   "metadata": {
    "scrolled": true
   },
   "outputs": [
    {
     "data": {
      "text/html": [
       "<div>\n",
       "<style scoped>\n",
       "    .dataframe tbody tr th:only-of-type {\n",
       "        vertical-align: middle;\n",
       "    }\n",
       "\n",
       "    .dataframe tbody tr th {\n",
       "        vertical-align: top;\n",
       "    }\n",
       "\n",
       "    .dataframe thead th {\n",
       "        text-align: right;\n",
       "    }\n",
       "</style>\n",
       "<table border=\"1\" class=\"dataframe\">\n",
       "  <thead>\n",
       "    <tr style=\"text-align: right;\">\n",
       "      <th></th>\n",
       "      <th>text</th>\n",
       "      <th>toxic</th>\n",
       "      <th>clear_text</th>\n",
       "    </tr>\n",
       "  </thead>\n",
       "  <tbody>\n",
       "    <tr>\n",
       "      <th>0</th>\n",
       "      <td>Explanation\\nWhy the edits made under my usern...</td>\n",
       "      <td>0</td>\n",
       "      <td>explanation why the edits made under my userna...</td>\n",
       "    </tr>\n",
       "    <tr>\n",
       "      <th>1</th>\n",
       "      <td>D'aww! He matches this background colour I'm s...</td>\n",
       "      <td>0</td>\n",
       "      <td>d aww he matches this background colour i m se...</td>\n",
       "    </tr>\n",
       "    <tr>\n",
       "      <th>2</th>\n",
       "      <td>Hey man, I'm really not trying to edit war. It...</td>\n",
       "      <td>0</td>\n",
       "      <td>hey man i m really not trying to edit war it s...</td>\n",
       "    </tr>\n",
       "    <tr>\n",
       "      <th>3</th>\n",
       "      <td>\"\\nMore\\nI can't make any real suggestions on ...</td>\n",
       "      <td>0</td>\n",
       "      <td>more i can t make any real suggestions on impr...</td>\n",
       "    </tr>\n",
       "    <tr>\n",
       "      <th>4</th>\n",
       "      <td>You, sir, are my hero. Any chance you remember...</td>\n",
       "      <td>0</td>\n",
       "      <td>you sir are my hero any chance you remember wh...</td>\n",
       "    </tr>\n",
       "  </tbody>\n",
       "</table>\n",
       "</div>"
      ],
      "text/plain": [
       "                                                text  toxic  \\\n",
       "0  Explanation\\nWhy the edits made under my usern...      0   \n",
       "1  D'aww! He matches this background colour I'm s...      0   \n",
       "2  Hey man, I'm really not trying to edit war. It...      0   \n",
       "3  \"\\nMore\\nI can't make any real suggestions on ...      0   \n",
       "4  You, sir, are my hero. Any chance you remember...      0   \n",
       "\n",
       "                                          clear_text  \n",
       "0  explanation why the edits made under my userna...  \n",
       "1  d aww he matches this background colour i m se...  \n",
       "2  hey man i m really not trying to edit war it s...  \n",
       "3  more i can t make any real suggestions on impr...  \n",
       "4  you sir are my hero any chance you remember wh...  "
      ]
     },
     "execution_count": 6,
     "metadata": {},
     "output_type": "execute_result"
    }
   ],
   "source": [
    "# Очистка исходного текста\n",
    "def clear_text(text):\n",
    "    '''\n",
    "    В исходном тексте функция удаляет все значки кроме строчных и прописных букв,\n",
    "    а также преобразует полученный текст к нижнему регистру\n",
    "    '''\n",
    "    clear_text = re.sub(r'[^a-zA-Z]', ' ', text)\n",
    "    clear_text = \" \".join(clear_text.lower().split())\n",
    "    return clear_text\n",
    "\n",
    "\n",
    "df['clear_text'] = df['text'].apply(lambda x: clear_text(x))\n",
    "df.head()"
   ]
  },
  {
   "cell_type": "code",
   "execution_count": 7,
   "metadata": {},
   "outputs": [
    {
     "data": {
      "text/plain": [
       "0    [explanation, why, the, edits, made, under, my...\n",
       "1    [d, aww, he, matches, this, background, colour...\n",
       "2    [hey, man, i, m, really, not, trying, to, edit...\n",
       "3    [more, i, can, t, make, any, real, suggestions...\n",
       "4    [you, sir, are, my, hero, any, chance, you, re...\n",
       "Name: token_text, dtype: object"
      ]
     },
     "execution_count": 7,
     "metadata": {},
     "output_type": "execute_result"
    }
   ],
   "source": [
    "# Лексемизация очищенного текста\n",
    "def token_text(text):\n",
    "    '''\n",
    "    Функция разбивает текст на отдельные слова (или токены)\n",
    "    '''\n",
    "    token_text = word_tokenize(text)\n",
    "    return token_text\n",
    "\n",
    "\n",
    "df['token_text'] = df['clear_text'].apply(lambda x: token_text(x))\n",
    "df['token_text'].head()"
   ]
  },
  {
   "cell_type": "code",
   "execution_count": 8,
   "metadata": {},
   "outputs": [
    {
     "data": {
      "text/plain": [
       "0    explanation why the edits made under my userna...\n",
       "1    d aww he match this background colour i m seem...\n",
       "2    hey man i m really not trying to edit war it s...\n",
       "3    more i can t make any real suggestion on impro...\n",
       "4    you sir are my hero any chance you remember wh...\n",
       "Name: lemm_text, dtype: object"
      ]
     },
     "execution_count": 8,
     "metadata": {},
     "output_type": "execute_result"
    }
   ],
   "source": [
    "# Лемматизация слов\n",
    "def lemmatizer(tokenized_words):\n",
    "    '''\n",
    "    Приведение слов к нормальной (словарной) форме\n",
    "    '''\n",
    "    lemmatizer = WordNetLemmatizer()\n",
    "    lemm_list = [lemmatizer.lemmatize(word) for word in tokenized_words]\n",
    "    lemm_text = \" \".join(lemm_list)\n",
    "    return lemm_text\n",
    "\n",
    "\n",
    "df['lemm_text'] = df['token_text'].apply(lambda x: lemmatizer(x))\n",
    "df['lemm_text'].head()"
   ]
  },
  {
   "cell_type": "code",
   "execution_count": 9,
   "metadata": {
    "scrolled": true
   },
   "outputs": [
    {
     "data": {
      "text/html": [
       "<div>\n",
       "<style scoped>\n",
       "    .dataframe tbody tr th:only-of-type {\n",
       "        vertical-align: middle;\n",
       "    }\n",
       "\n",
       "    .dataframe tbody tr th {\n",
       "        vertical-align: top;\n",
       "    }\n",
       "\n",
       "    .dataframe thead th {\n",
       "        text-align: right;\n",
       "    }\n",
       "</style>\n",
       "<table border=\"1\" class=\"dataframe\">\n",
       "  <thead>\n",
       "    <tr style=\"text-align: right;\">\n",
       "      <th></th>\n",
       "      <th>clear_text</th>\n",
       "      <th>lemm_text</th>\n",
       "    </tr>\n",
       "  </thead>\n",
       "  <tbody>\n",
       "    <tr>\n",
       "      <th>1</th>\n",
       "      <td>d aww he matches this background colour i m se...</td>\n",
       "      <td>d aww he match this background colour i m seem...</td>\n",
       "    </tr>\n",
       "  </tbody>\n",
       "</table>\n",
       "</div>"
      ],
      "text/plain": [
       "                                          clear_text  \\\n",
       "1  d aww he matches this background colour i m se...   \n",
       "\n",
       "                                           lemm_text  \n",
       "1  d aww he match this background colour i m seem...  "
      ]
     },
     "execution_count": 9,
     "metadata": {},
     "output_type": "execute_result"
    }
   ],
   "source": [
    "# На примере изменения форм глагола 'match' можно наблюдать результат работы функции лемматизации\n",
    "df.loc[1:1, ['clear_text', 'lemm_text']]"
   ]
  },
  {
   "cell_type": "markdown",
   "metadata": {},
   "source": [
    "## Обучение"
   ]
  },
  {
   "cell_type": "code",
   "execution_count": 10,
   "metadata": {},
   "outputs": [],
   "source": [
    "# Выделение столбцов с признаками и метками\n",
    "X = df['lemm_text'].astype('U')\n",
    "y = df['toxic']\n",
    "\n",
    "# Разделение на обучающую и тестовую выборки\n",
    "X_train, X_test, y_train, y_test = train_test_split(X, y, test_size=0.3, random_state=12345)"
   ]
  },
  {
   "cell_type": "code",
   "execution_count": 11,
   "metadata": {},
   "outputs": [],
   "source": [
    "# Создаем счетчик с указанием стоп-слов\n",
    "stopwords = set(stopwords.words('english'))\n",
    "\n",
    "# Создать матрицу признаков на основе меры tf-idf\n",
    "tfidf = TfidfVectorizer(stop_words=stopwords)\n",
    "\n",
    "# Создание матрицы признаков (для обучающей и тестовой выборки) на основе меры tf-idf\n",
    "X_train_matrix = tfidf.fit_transform(X_train) \n",
    "X_test_matrix = tfidf.transform(X_test)"
   ]
  },
  {
   "cell_type": "code",
   "execution_count": 12,
   "metadata": {},
   "outputs": [],
   "source": [
    "# Создаем функцию для оценки метрики 'F1' для моделей машинного обучения\n",
    "def model_check(model):\n",
    "    \"\"\"\n",
    "    Функция принимает на вход модель для машинного обучения\n",
    "    возвращает: F1 (или F-мера)\n",
    "    \"\"\"\n",
    "    model.fit(X_train_matrix, y_train)\n",
    "    predictions = model.predict(X_test_matrix)\n",
    "\n",
    "    f1 = f1_score(y_test, predictions)\n",
    "    return round(f1, 3)"
   ]
  },
  {
   "cell_type": "code",
   "execution_count": 13,
   "metadata": {
    "scrolled": true
   },
   "outputs": [
    {
     "data": {
      "text/html": [
       "<div>\n",
       "<style scoped>\n",
       "    .dataframe tbody tr th:only-of-type {\n",
       "        vertical-align: middle;\n",
       "    }\n",
       "\n",
       "    .dataframe tbody tr th {\n",
       "        vertical-align: top;\n",
       "    }\n",
       "\n",
       "    .dataframe thead th {\n",
       "        text-align: right;\n",
       "    }\n",
       "</style>\n",
       "<table border=\"1\" class=\"dataframe\">\n",
       "  <thead>\n",
       "    <tr style=\"text-align: right;\">\n",
       "      <th></th>\n",
       "      <th>F-мера</th>\n",
       "    </tr>\n",
       "  </thead>\n",
       "  <tbody>\n",
       "    <tr>\n",
       "      <th>LGBMClassifier</th>\n",
       "      <td>0.727</td>\n",
       "    </tr>\n",
       "    <tr>\n",
       "      <th>SGDClassifier</th>\n",
       "      <td>0.739</td>\n",
       "    </tr>\n",
       "    <tr>\n",
       "      <th>LogisticRegression</th>\n",
       "      <td>0.751</td>\n",
       "    </tr>\n",
       "  </tbody>\n",
       "</table>\n",
       "</div>"
      ],
      "text/plain": [
       "                    F-мера\n",
       "LGBMClassifier       0.727\n",
       "SGDClassifier        0.739\n",
       "LogisticRegression   0.751"
      ]
     },
     "execution_count": 13,
     "metadata": {},
     "output_type": "execute_result"
    }
   ],
   "source": [
    "# Выбор моделей для обучения\n",
    "\n",
    "# LogisticRegression\n",
    "f1_lr = model_check(LogisticRegression(random_state=12345, class_weight='balanced'))\n",
    "\n",
    "# SGDClassifier\n",
    "f1_sgd = model_check(SGDClassifier(random_state=12345, class_weight='balanced'))\n",
    "\n",
    "# LGBMClassifier\n",
    "f1_lgbm = model_check(LGBMClassifier(random_state=12345, class_weight='balanced'))\n",
    "\n",
    "# Собираем результаты в сводную таблицу\n",
    "pivot_table = pd.DataFrame(data=[f1_lr, f1_sgd, f1_lgbm], columns=['F-мера'], index=['LogisticRegression',\n",
    "                                                                                     'SGDClassifier',\n",
    "                                                                                     'LGBMClassifier'])\n",
    "pivot_table.sort_values('F-мера')"
   ]
  },
  {
   "cell_type": "code",
   "execution_count": 14,
   "metadata": {},
   "outputs": [
    {
     "name": "stdout",
     "output_type": "stream",
     "text": [
      "F-мера: 0.763\n",
      "Лучший параметр C: 7.0\n"
     ]
    }
   ],
   "source": [
    "# Подбор гиперпараметра для лучшей модели\n",
    "pipe_lr = Pipeline([('vec', TfidfVectorizer(stop_words=stopwords)), ('clf', LogisticRegression(random_state=12345, class_weight='balanced'))])\n",
    "\n",
    "C = np.linspace(7, 8, 5)\n",
    "\n",
    "hyperparameters_lr = dict(clf__C=C)\n",
    "    \n",
    "gridsearch = GridSearchCV(pipe_lr, hyperparameters_lr, scoring='f1', verbose=0, n_jobs=-1)\n",
    "\n",
    "best_model = gridsearch.fit(X_train, y_train)\n",
    "\n",
    "predict_best = best_model.predict(X_test)\n",
    "\n",
    "f1_best = f1_score(y_test, predict_best)\n",
    "\n",
    "print('F-мера:', round(f1_best, 3))\n",
    "print('Лучший параметр C:', best_model.best_estimator_.get_params()['clf__C'])"
   ]
  },
  {
   "cell_type": "markdown",
   "metadata": {},
   "source": [
    "## Выводы"
   ]
  },
  {
   "cell_type": "markdown",
   "metadata": {},
   "source": [
    "Модель логистической регрессии показала наилучший результат. Показатель контрольной метрики `f1` составляет `0.751` (гиперпараметр `class_weight='balanced`), что превосходит контрольное значение в соответствии с условиями учебного задания.  \n",
    "\n",
    "Подбор дополнительного гиперпараметра для лучшей модели позволил повысить значение метрики качества до `0.763`."
   ]
  }
 ],
 "metadata": {
  "ExecuteTimeLog": [
   {
    "duration": 357,
    "start_time": "2022-04-01T12:56:40.294Z"
   },
   {
    "duration": 3423,
    "start_time": "2022-04-01T12:57:58.886Z"
   },
   {
    "duration": 7,
    "start_time": "2022-04-01T13:25:42.238Z"
   },
   {
    "duration": 32,
    "start_time": "2022-04-01T13:25:47.018Z"
   },
   {
    "duration": 62,
    "start_time": "2022-04-01T13:30:58.181Z"
   },
   {
    "duration": 6,
    "start_time": "2022-04-01T13:31:04.029Z"
   },
   {
    "duration": 10,
    "start_time": "2022-04-01T13:31:14.156Z"
   },
   {
    "duration": 6,
    "start_time": "2022-04-01T13:32:10.298Z"
   },
   {
    "duration": 7,
    "start_time": "2022-04-01T13:32:47.271Z"
   },
   {
    "duration": 514,
    "start_time": "2022-04-01T13:32:59.283Z"
   },
   {
    "duration": 76,
    "start_time": "2022-04-01T13:33:09.827Z"
   },
   {
    "duration": 81,
    "start_time": "2022-04-01T13:33:34.869Z"
   },
   {
    "duration": 7,
    "start_time": "2022-04-01T13:34:28.565Z"
   },
   {
    "duration": 368,
    "start_time": "2022-04-01T13:34:41.489Z"
   },
   {
    "duration": 758,
    "start_time": "2022-04-01T13:34:41.858Z"
   },
   {
    "duration": 24,
    "start_time": "2022-04-01T13:34:42.618Z"
   },
   {
    "duration": 19,
    "start_time": "2022-04-01T13:34:42.644Z"
   },
   {
    "duration": 323,
    "start_time": "2022-04-01T13:34:42.665Z"
   },
   {
    "duration": 1284,
    "start_time": "2022-04-01T14:07:01.802Z"
   },
   {
    "duration": 743,
    "start_time": "2022-04-01T14:07:03.088Z"
   },
   {
    "duration": 35,
    "start_time": "2022-04-01T14:07:03.833Z"
   },
   {
    "duration": 7,
    "start_time": "2022-04-01T14:07:03.869Z"
   },
   {
    "duration": 293,
    "start_time": "2022-04-01T14:07:03.877Z"
   },
   {
    "duration": 3752,
    "start_time": "2022-04-01T14:07:04.172Z"
   },
   {
    "duration": 718,
    "start_time": "2022-04-01T14:07:46.611Z"
   },
   {
    "duration": 3529,
    "start_time": "2022-04-01T14:08:16.395Z"
   },
   {
    "duration": 3819,
    "start_time": "2022-04-01T14:10:27.271Z"
   },
   {
    "duration": 3,
    "start_time": "2022-04-01T14:12:12.556Z"
   },
   {
    "duration": 1425,
    "start_time": "2022-04-01T14:12:19.331Z"
   },
   {
    "duration": 775,
    "start_time": "2022-04-01T14:12:20.759Z"
   },
   {
    "duration": 34,
    "start_time": "2022-04-01T14:12:21.536Z"
   },
   {
    "duration": 7,
    "start_time": "2022-04-01T14:12:21.572Z"
   },
   {
    "duration": 290,
    "start_time": "2022-04-01T14:12:21.580Z"
   },
   {
    "duration": 3516,
    "start_time": "2022-04-01T14:12:21.871Z"
   },
   {
    "duration": 2290,
    "start_time": "2022-04-01T14:17:10.196Z"
   },
   {
    "duration": 27472,
    "start_time": "2022-04-01T14:17:42.643Z"
   },
   {
    "duration": 1287,
    "start_time": "2022-04-01T14:18:39.186Z"
   },
   {
    "duration": 797,
    "start_time": "2022-04-01T14:18:40.475Z"
   },
   {
    "duration": 33,
    "start_time": "2022-04-01T14:18:41.274Z"
   },
   {
    "duration": 9,
    "start_time": "2022-04-01T14:18:41.310Z"
   },
   {
    "duration": 310,
    "start_time": "2022-04-01T14:18:41.320Z"
   },
   {
    "duration": 3528,
    "start_time": "2022-04-01T14:18:41.631Z"
   },
   {
    "duration": 41648,
    "start_time": "2022-04-01T14:18:45.163Z"
   },
   {
    "duration": 11800,
    "start_time": "2022-04-01T14:23:06.609Z"
   },
   {
    "duration": 1261,
    "start_time": "2022-04-01T14:23:23.706Z"
   },
   {
    "duration": 765,
    "start_time": "2022-04-01T14:23:24.969Z"
   },
   {
    "duration": 33,
    "start_time": "2022-04-01T14:23:25.736Z"
   },
   {
    "duration": 7,
    "start_time": "2022-04-01T14:23:25.771Z"
   },
   {
    "duration": 291,
    "start_time": "2022-04-01T14:23:25.779Z"
   },
   {
    "duration": 3505,
    "start_time": "2022-04-01T14:23:26.071Z"
   },
   {
    "duration": 43273,
    "start_time": "2022-04-01T14:23:29.578Z"
   },
   {
    "duration": 11,
    "start_time": "2022-04-01T14:24:12.853Z"
   },
   {
    "duration": 1498,
    "start_time": "2022-04-01T14:25:11.451Z"
   },
   {
    "duration": 766,
    "start_time": "2022-04-01T14:25:12.951Z"
   },
   {
    "duration": 26,
    "start_time": "2022-04-01T14:25:13.718Z"
   },
   {
    "duration": 22,
    "start_time": "2022-04-01T14:25:13.746Z"
   },
   {
    "duration": 273,
    "start_time": "2022-04-01T14:25:13.769Z"
   },
   {
    "duration": 3553,
    "start_time": "2022-04-01T14:25:14.044Z"
   },
   {
    "duration": 42567,
    "start_time": "2022-04-01T14:25:17.599Z"
   },
   {
    "duration": 3,
    "start_time": "2022-04-01T14:26:00.168Z"
   },
   {
    "duration": 36023,
    "start_time": "2022-04-01T16:51:26.662Z"
   },
   {
    "duration": 1491,
    "start_time": "2022-04-01T16:52:49.942Z"
   },
   {
    "duration": 789,
    "start_time": "2022-04-01T16:52:51.435Z"
   },
   {
    "duration": 45,
    "start_time": "2022-04-01T16:52:52.225Z"
   },
   {
    "duration": 12,
    "start_time": "2022-04-01T16:52:52.272Z"
   },
   {
    "duration": 305,
    "start_time": "2022-04-01T16:52:52.286Z"
   },
   {
    "duration": 3862,
    "start_time": "2022-04-01T16:52:52.593Z"
   },
   {
    "duration": 43462,
    "start_time": "2022-04-01T16:52:56.462Z"
   },
   {
    "duration": 33472,
    "start_time": "2022-04-01T16:53:39.925Z"
   },
   {
    "duration": 1427,
    "start_time": "2022-04-01T16:54:34.887Z"
   },
   {
    "duration": 784,
    "start_time": "2022-04-01T16:54:36.316Z"
   },
   {
    "duration": 29,
    "start_time": "2022-04-01T16:54:37.101Z"
   },
   {
    "duration": 9,
    "start_time": "2022-04-01T16:54:37.132Z"
   },
   {
    "duration": 312,
    "start_time": "2022-04-01T16:54:37.142Z"
   },
   {
    "duration": 3677,
    "start_time": "2022-04-01T16:54:37.456Z"
   },
   {
    "duration": 43131,
    "start_time": "2022-04-01T16:54:41.135Z"
   },
   {
    "duration": 28838,
    "start_time": "2022-04-01T16:55:24.267Z"
   },
   {
    "duration": 1445,
    "start_time": "2022-04-01T17:04:29.677Z"
   },
   {
    "duration": 877,
    "start_time": "2022-04-01T17:04:31.124Z"
   },
   {
    "duration": 38,
    "start_time": "2022-04-01T17:04:32.003Z"
   },
   {
    "duration": 28,
    "start_time": "2022-04-01T17:04:32.043Z"
   },
   {
    "duration": 328,
    "start_time": "2022-04-01T17:04:32.073Z"
   },
   {
    "duration": 3763,
    "start_time": "2022-04-01T17:04:32.403Z"
   },
   {
    "duration": 41896,
    "start_time": "2022-04-01T17:04:36.168Z"
   },
   {
    "duration": 26919,
    "start_time": "2022-04-01T17:05:18.066Z"
   },
   {
    "duration": 18439,
    "start_time": "2022-04-01T17:05:44.987Z"
   },
   {
    "duration": 16,
    "start_time": "2022-04-01T17:17:55.004Z"
   },
   {
    "duration": 11,
    "start_time": "2022-04-01T17:34:06.264Z"
   },
   {
    "duration": 15,
    "start_time": "2022-04-01T17:34:12.012Z"
   },
   {
    "duration": 307633,
    "start_time": "2022-04-03T07:25:07.926Z"
   },
   {
    "duration": 0,
    "start_time": "2022-04-03T07:30:15.561Z"
   },
   {
    "duration": 0,
    "start_time": "2022-04-03T07:30:15.563Z"
   },
   {
    "duration": 0,
    "start_time": "2022-04-03T07:30:15.564Z"
   },
   {
    "duration": 0,
    "start_time": "2022-04-03T07:30:15.565Z"
   },
   {
    "duration": 0,
    "start_time": "2022-04-03T07:30:15.566Z"
   },
   {
    "duration": 0,
    "start_time": "2022-04-03T07:30:15.567Z"
   },
   {
    "duration": 0,
    "start_time": "2022-04-03T07:30:15.568Z"
   },
   {
    "duration": 0,
    "start_time": "2022-04-03T07:30:15.569Z"
   },
   {
    "duration": 0,
    "start_time": "2022-04-03T07:30:15.570Z"
   },
   {
    "duration": 1624662,
    "start_time": "2022-04-03T07:30:30.527Z"
   },
   {
    "duration": 0,
    "start_time": "2022-04-03T07:57:35.191Z"
   },
   {
    "duration": 0,
    "start_time": "2022-04-03T07:57:35.193Z"
   },
   {
    "duration": 0,
    "start_time": "2022-04-03T07:57:35.194Z"
   },
   {
    "duration": 0,
    "start_time": "2022-04-03T07:57:35.195Z"
   },
   {
    "duration": 0,
    "start_time": "2022-04-03T07:57:35.196Z"
   },
   {
    "duration": 0,
    "start_time": "2022-04-03T07:57:35.197Z"
   },
   {
    "duration": 0,
    "start_time": "2022-04-03T07:57:35.198Z"
   },
   {
    "duration": 0,
    "start_time": "2022-04-03T07:57:35.199Z"
   },
   {
    "duration": 0,
    "start_time": "2022-04-03T07:57:35.200Z"
   },
   {
    "duration": 4610327,
    "start_time": "2022-04-03T11:41:09.602Z"
   },
   {
    "duration": 0,
    "start_time": "2022-04-03T17:55:36.674Z"
   },
   {
    "duration": 13429,
    "start_time": "2022-04-04T04:50:14.105Z"
   },
   {
    "duration": 2,
    "start_time": "2022-04-04T04:50:32.135Z"
   },
   {
    "duration": 1081,
    "start_time": "2022-04-04T04:50:35.210Z"
   },
   {
    "duration": 32516,
    "start_time": "2022-04-04T04:51:19.370Z"
   },
   {
    "duration": 107467,
    "start_time": "2022-04-04T04:51:59.500Z"
   },
   {
    "duration": 2,
    "start_time": "2022-04-04T04:53:50.960Z"
   },
   {
    "duration": 173098,
    "start_time": "2022-04-04T04:54:01.518Z"
   },
   {
    "duration": 3,
    "start_time": "2022-04-04T04:57:02.951Z"
   },
   {
    "duration": 105,
    "start_time": "2022-04-04T04:57:42.915Z"
   },
   {
    "duration": 1382,
    "start_time": "2022-04-04T07:42:44.074Z"
   },
   {
    "duration": 829,
    "start_time": "2022-04-04T07:42:48.074Z"
   },
   {
    "duration": 32,
    "start_time": "2022-04-04T07:42:51.659Z"
   },
   {
    "duration": 8,
    "start_time": "2022-04-04T07:42:55.422Z"
   },
   {
    "duration": 382,
    "start_time": "2022-04-04T07:42:56.578Z"
   },
   {
    "duration": 3662,
    "start_time": "2022-04-04T07:43:13.627Z"
   },
   {
    "duration": 2800,
    "start_time": "2022-04-04T07:44:07.136Z"
   },
   {
    "duration": 8,
    "start_time": "2022-04-04T07:44:26.078Z"
   },
   {
    "duration": 51,
    "start_time": "2022-04-04T07:44:36.913Z"
   },
   {
    "duration": 6321,
    "start_time": "2022-04-04T07:44:56.201Z"
   },
   {
    "duration": 3,
    "start_time": "2022-04-04T07:45:28.687Z"
   },
   {
    "duration": 228062,
    "start_time": "2022-04-04T07:45:58.437Z"
   },
   {
    "duration": 3,
    "start_time": "2022-04-04T08:41:13.488Z"
   },
   {
    "duration": 1397,
    "start_time": "2022-04-04T08:44:07.996Z"
   },
   {
    "duration": 856,
    "start_time": "2022-04-04T08:44:09.396Z"
   },
   {
    "duration": 33,
    "start_time": "2022-04-04T08:44:10.254Z"
   },
   {
    "duration": 13,
    "start_time": "2022-04-04T08:44:10.289Z"
   },
   {
    "duration": 234,
    "start_time": "2022-04-04T08:44:10.304Z"
   },
   {
    "duration": 3638,
    "start_time": "2022-04-04T08:44:10.539Z"
   },
   {
    "duration": 43925,
    "start_time": "2022-04-04T08:44:14.178Z"
   },
   {
    "duration": 30546,
    "start_time": "2022-04-04T08:44:58.105Z"
   },
   {
    "duration": 80,
    "start_time": "2022-04-04T08:45:28.653Z"
   },
   {
    "duration": 148,
    "start_time": "2022-04-04T08:47:39.176Z"
   },
   {
    "duration": 19,
    "start_time": "2022-04-04T08:47:56.100Z"
   },
   {
    "duration": 6,
    "start_time": "2022-04-04T08:48:09.271Z"
   },
   {
    "duration": 99,
    "start_time": "2022-04-04T08:48:14.595Z"
   },
   {
    "duration": 11,
    "start_time": "2022-04-04T08:48:18.230Z"
   },
   {
    "duration": 72,
    "start_time": "2022-04-04T08:50:35.617Z"
   },
   {
    "duration": 35,
    "start_time": "2022-04-04T08:50:46.182Z"
   },
   {
    "duration": 82,
    "start_time": "2022-04-04T08:50:51.983Z"
   },
   {
    "duration": 18,
    "start_time": "2022-04-04T08:53:32.523Z"
   },
   {
    "duration": 8,
    "start_time": "2022-04-04T08:53:39.786Z"
   },
   {
    "duration": 6,
    "start_time": "2022-04-04T08:53:45.781Z"
   },
   {
    "duration": 7,
    "start_time": "2022-04-04T08:53:55.388Z"
   },
   {
    "duration": 11,
    "start_time": "2022-04-04T08:54:21.720Z"
   },
   {
    "duration": 10,
    "start_time": "2022-04-04T08:54:39.370Z"
   },
   {
    "duration": 1342,
    "start_time": "2022-04-04T08:55:27.760Z"
   },
   {
    "duration": 840,
    "start_time": "2022-04-04T08:55:29.104Z"
   },
   {
    "duration": 32,
    "start_time": "2022-04-04T08:55:29.946Z"
   },
   {
    "duration": 8,
    "start_time": "2022-04-04T08:55:29.980Z"
   },
   {
    "duration": 245,
    "start_time": "2022-04-04T08:55:29.989Z"
   },
   {
    "duration": 3605,
    "start_time": "2022-04-04T08:55:30.236Z"
   },
   {
    "duration": 43179,
    "start_time": "2022-04-04T08:55:33.843Z"
   },
   {
    "duration": 30218,
    "start_time": "2022-04-04T08:56:17.024Z"
   },
   {
    "duration": 10,
    "start_time": "2022-04-04T08:56:47.243Z"
   },
   {
    "duration": 47,
    "start_time": "2022-04-04T08:56:47.255Z"
   },
   {
    "duration": 6351,
    "start_time": "2022-04-04T08:56:47.304Z"
   },
   {
    "duration": 4,
    "start_time": "2022-04-04T08:56:53.657Z"
   },
   {
    "duration": 218615,
    "start_time": "2022-04-04T08:56:53.662Z"
   },
   {
    "duration": 224888,
    "start_time": "2022-04-04T09:03:53.903Z"
   },
   {
    "duration": 120,
    "start_time": "2022-04-04T09:09:55.493Z"
   },
   {
    "duration": 3,
    "start_time": "2022-04-04T09:10:15.334Z"
   },
   {
    "duration": 13,
    "start_time": "2022-04-04T09:10:22.104Z"
   },
   {
    "duration": 3,
    "start_time": "2022-04-04T09:10:40.766Z"
   },
   {
    "duration": 7417522,
    "start_time": "2022-04-04T09:10:45.279Z"
   },
   {
    "duration": 1974577,
    "start_time": "2022-04-04T11:14:29.873Z"
   },
   {
    "duration": 4,
    "start_time": "2022-04-04T11:52:26.552Z"
   },
   {
    "duration": 10,
    "start_time": "2022-04-04T11:52:47.445Z"
   },
   {
    "duration": 6,
    "start_time": "2022-04-04T11:53:09.847Z"
   },
   {
    "duration": 2433461,
    "start_time": "2022-04-04T11:59:45.081Z"
   },
   {
    "duration": 4,
    "start_time": "2022-04-04T12:40:57.190Z"
   },
   {
    "duration": 4,
    "start_time": "2022-04-04T12:41:05.047Z"
   },
   {
    "duration": 2444993,
    "start_time": "2022-04-04T12:42:04.949Z"
   },
   {
    "duration": 4,
    "start_time": "2022-04-04T13:23:26.501Z"
   },
   {
    "duration": 6,
    "start_time": "2022-04-04T13:23:33.301Z"
   },
   {
    "duration": 4,
    "start_time": "2022-04-04T13:25:38.633Z"
   },
   {
    "duration": 18,
    "start_time": "2022-04-04T13:25:46.453Z"
   },
   {
    "duration": 2526309,
    "start_time": "2022-04-04T13:26:26.834Z"
   },
   {
    "duration": 4,
    "start_time": "2022-04-04T14:12:44.472Z"
   },
   {
    "duration": 5,
    "start_time": "2022-04-04T14:12:47.334Z"
   },
   {
    "duration": 146507,
    "start_time": "2022-04-04T14:13:56.635Z"
   },
   {
    "duration": 12,
    "start_time": "2022-04-04T14:18:52.750Z"
   },
   {
    "duration": 1274783,
    "start_time": "2022-04-04T14:19:02.967Z"
   },
   {
    "duration": 3,
    "start_time": "2022-04-04T14:41:53.467Z"
   },
   {
    "duration": 6,
    "start_time": "2022-04-04T14:42:01.819Z"
   },
   {
    "duration": 1275949,
    "start_time": "2022-04-04T14:42:20.592Z"
   },
   {
    "duration": 4,
    "start_time": "2022-04-04T15:08:28.453Z"
   },
   {
    "duration": 5,
    "start_time": "2022-04-04T15:08:36.277Z"
   },
   {
    "duration": 229165,
    "start_time": "2022-04-04T15:09:32.798Z"
   },
   {
    "duration": 1297375,
    "start_time": "2022-04-04T15:13:49.971Z"
   },
   {
    "duration": 5,
    "start_time": "2022-04-04T16:00:16.880Z"
   },
   {
    "duration": 5,
    "start_time": "2022-04-04T16:00:19.680Z"
   },
   {
    "duration": 12559,
    "start_time": "2022-04-04T16:03:06.886Z"
   },
   {
    "duration": 1276017,
    "start_time": "2022-04-04T16:03:32.520Z"
   },
   {
    "duration": 4,
    "start_time": "2022-04-04T16:29:19.219Z"
   },
   {
    "duration": 5,
    "start_time": "2022-04-04T16:29:23.797Z"
   },
   {
    "duration": 5,
    "start_time": "2022-04-04T16:29:50.706Z"
   },
   {
    "duration": 1292223,
    "start_time": "2022-04-04T16:31:11.620Z"
   },
   {
    "duration": 4,
    "start_time": "2022-04-04T16:54:33.976Z"
   },
   {
    "duration": 5,
    "start_time": "2022-04-04T16:54:38.052Z"
   },
   {
    "duration": 3,
    "start_time": "2022-04-04T16:54:59.900Z"
   },
   {
    "duration": 5,
    "start_time": "2022-04-04T16:55:01.139Z"
   },
   {
    "duration": 6,
    "start_time": "2022-04-04T16:55:10.797Z"
   },
   {
    "duration": 1298287,
    "start_time": "2022-04-04T16:58:09.859Z"
   },
   {
    "duration": 4,
    "start_time": "2022-04-04T17:27:56.471Z"
   },
   {
    "duration": 6,
    "start_time": "2022-04-04T17:27:59.518Z"
   },
   {
    "duration": 4,
    "start_time": "2022-04-04T17:28:22.459Z"
   },
   {
    "duration": 5,
    "start_time": "2022-04-04T17:28:23.332Z"
   },
   {
    "duration": 1706,
    "start_time": "2022-04-04T17:30:09.882Z"
   },
   {
    "duration": 1653,
    "start_time": "2022-04-04T17:30:11.590Z"
   },
   {
    "duration": 42,
    "start_time": "2022-04-04T17:30:13.245Z"
   },
   {
    "duration": 11,
    "start_time": "2022-04-04T17:30:13.290Z"
   },
   {
    "duration": 382,
    "start_time": "2022-04-04T17:30:13.303Z"
   },
   {
    "duration": 6072,
    "start_time": "2022-04-04T17:30:13.687Z"
   },
   {
    "duration": 61079,
    "start_time": "2022-04-04T17:30:19.761Z"
   },
   {
    "duration": 32504,
    "start_time": "2022-04-04T17:31:20.842Z"
   },
   {
    "duration": 9,
    "start_time": "2022-04-04T17:31:53.347Z"
   },
   {
    "duration": 50,
    "start_time": "2022-04-04T17:31:53.358Z"
   },
   {
    "duration": 6777,
    "start_time": "2022-04-04T17:31:53.409Z"
   },
   {
    "duration": 4,
    "start_time": "2022-04-04T17:32:00.188Z"
   },
   {
    "duration": 229855,
    "start_time": "2022-04-04T17:32:00.194Z"
   },
   {
    "duration": 123,
    "start_time": "2022-04-04T17:35:50.050Z"
   },
   {
    "duration": 0,
    "start_time": "2022-04-04T17:35:50.175Z"
   },
   {
    "duration": 0,
    "start_time": "2022-04-04T17:35:50.176Z"
   },
   {
    "duration": 10402485,
    "start_time": "2022-04-04T17:36:16.565Z"
   },
   {
    "duration": 1397,
    "start_time": "2022-04-05T05:18:47.197Z"
   },
   {
    "duration": 1034,
    "start_time": "2022-04-05T05:18:48.596Z"
   },
   {
    "duration": 33,
    "start_time": "2022-04-05T05:18:49.632Z"
   },
   {
    "duration": 8,
    "start_time": "2022-04-05T05:18:49.668Z"
   },
   {
    "duration": 420,
    "start_time": "2022-04-05T05:18:49.678Z"
   },
   {
    "duration": 3635,
    "start_time": "2022-04-05T05:18:50.101Z"
   },
   {
    "duration": 43149,
    "start_time": "2022-04-05T05:18:53.738Z"
   },
   {
    "duration": 30310,
    "start_time": "2022-04-05T05:19:36.889Z"
   },
   {
    "duration": 9,
    "start_time": "2022-04-05T05:20:07.201Z"
   },
   {
    "duration": 54,
    "start_time": "2022-04-05T05:20:07.232Z"
   },
   {
    "duration": 6531,
    "start_time": "2022-04-05T05:20:07.288Z"
   },
   {
    "duration": 4,
    "start_time": "2022-04-05T05:20:13.821Z"
   },
   {
    "duration": 217253,
    "start_time": "2022-04-05T05:20:13.826Z"
   },
   {
    "duration": 18754977,
    "start_time": "2022-04-05T05:23:51.081Z"
   },
   {
    "duration": 0,
    "start_time": "2022-04-05T10:36:26.060Z"
   },
   {
    "duration": 0,
    "start_time": "2022-04-05T10:36:26.061Z"
   },
   {
    "duration": 7841411,
    "start_time": "2022-04-05T10:36:43.434Z"
   },
   {
    "duration": 927575,
    "start_time": "2022-04-05T12:47:34.491Z"
   },
   {
    "duration": 134,
    "start_time": "2022-04-05T13:05:21.859Z"
   },
   {
    "duration": 1928305,
    "start_time": "2022-04-05T13:05:30.039Z"
   },
   {
    "duration": 14181,
    "start_time": "2022-04-05T13:37:59.566Z"
   },
   {
    "duration": 1426,
    "start_time": "2022-04-05T13:38:21.005Z"
   },
   {
    "duration": 851,
    "start_time": "2022-04-05T13:38:22.433Z"
   },
   {
    "duration": 33,
    "start_time": "2022-04-05T13:38:23.286Z"
   },
   {
    "duration": 8,
    "start_time": "2022-04-05T13:38:23.335Z"
   },
   {
    "duration": 228,
    "start_time": "2022-04-05T13:38:23.345Z"
   },
   {
    "duration": 3779,
    "start_time": "2022-04-05T13:38:23.575Z"
   },
   {
    "duration": 43117,
    "start_time": "2022-04-05T13:38:27.355Z"
   },
   {
    "duration": 29976,
    "start_time": "2022-04-05T13:39:10.474Z"
   },
   {
    "duration": 8,
    "start_time": "2022-04-05T13:39:40.451Z"
   },
   {
    "duration": 51,
    "start_time": "2022-04-05T13:39:40.461Z"
   },
   {
    "duration": 6268,
    "start_time": "2022-04-05T13:39:40.514Z"
   },
   {
    "duration": 3,
    "start_time": "2022-04-05T13:39:46.784Z"
   },
   {
    "duration": 227914,
    "start_time": "2022-04-05T13:39:46.789Z"
   },
   {
    "duration": 139657,
    "start_time": "2022-04-05T13:43:34.704Z"
   },
   {
    "duration": 0,
    "start_time": "2022-04-05T13:45:54.363Z"
   },
   {
    "duration": 0,
    "start_time": "2022-04-05T13:45:54.364Z"
   },
   {
    "duration": 688175,
    "start_time": "2022-04-05T13:46:00.376Z"
   },
   {
    "duration": 5,
    "start_time": "2022-04-05T14:02:04.346Z"
   },
   {
    "duration": 1111666,
    "start_time": "2022-04-05T14:03:11.775Z"
   },
   {
    "duration": 3,
    "start_time": "2022-04-05T14:22:51.957Z"
   },
   {
    "duration": 5,
    "start_time": "2022-04-05T14:22:52.976Z"
   },
   {
    "duration": 1555729,
    "start_time": "2022-04-05T14:23:05.716Z"
   },
   {
    "duration": 3,
    "start_time": "2022-04-05T14:49:46.721Z"
   },
   {
    "duration": 5,
    "start_time": "2022-04-05T14:49:47.560Z"
   },
   {
    "duration": 1141718,
    "start_time": "2022-04-05T14:50:52.921Z"
   },
   {
    "duration": 5,
    "start_time": "2022-04-05T15:10:29.314Z"
   },
   {
    "duration": 23324,
    "start_time": "2022-04-05T15:10:48.430Z"
   },
   {
    "duration": 2179956,
    "start_time": "2022-04-05T15:11:53.589Z"
   },
   {
    "duration": 3,
    "start_time": "2022-04-05T16:30:29.218Z"
   },
   {
    "duration": 4,
    "start_time": "2022-04-05T16:30:30.978Z"
   },
   {
    "duration": 2192761,
    "start_time": "2022-04-05T16:30:53.078Z"
   },
   {
    "duration": 3,
    "start_time": "2022-04-05T17:11:36.350Z"
   },
   {
    "duration": 5,
    "start_time": "2022-04-05T17:11:37.022Z"
   },
   {
    "duration": 5,
    "start_time": "2022-04-05T17:12:01.899Z"
   },
   {
    "duration": 7915,
    "start_time": "2022-04-05T17:18:31.229Z"
   },
   {
    "duration": 253619,
    "start_time": "2022-04-05T17:22:51.545Z"
   },
   {
    "duration": 1333,
    "start_time": "2022-04-05T17:27:24.482Z"
   },
   {
    "duration": 841,
    "start_time": "2022-04-05T17:27:25.817Z"
   },
   {
    "duration": 33,
    "start_time": "2022-04-05T17:27:26.659Z"
   },
   {
    "duration": 8,
    "start_time": "2022-04-05T17:27:26.694Z"
   },
   {
    "duration": 245,
    "start_time": "2022-04-05T17:27:26.704Z"
   },
   {
    "duration": 3662,
    "start_time": "2022-04-05T17:27:26.950Z"
   },
   {
    "duration": 43579,
    "start_time": "2022-04-05T17:27:30.614Z"
   },
   {
    "duration": 30475,
    "start_time": "2022-04-05T17:28:14.195Z"
   },
   {
    "duration": 7,
    "start_time": "2022-04-05T17:28:44.672Z"
   },
   {
    "duration": 64,
    "start_time": "2022-04-05T17:28:44.682Z"
   },
   {
    "duration": 6309,
    "start_time": "2022-04-05T17:28:44.748Z"
   },
   {
    "duration": 3,
    "start_time": "2022-04-05T17:28:51.059Z"
   },
   {
    "duration": 247499,
    "start_time": "2022-04-05T17:28:51.064Z"
   },
   {
    "duration": 1141175,
    "start_time": "2022-04-05T17:32:58.565Z"
   },
   {
    "duration": 1014,
    "start_time": "2022-04-06T07:12:16.885Z"
   },
   {
    "duration": 1367,
    "start_time": "2022-04-06T07:31:05.256Z"
   },
   {
    "duration": 847,
    "start_time": "2022-04-06T07:31:06.625Z"
   },
   {
    "duration": 40,
    "start_time": "2022-04-06T07:31:07.473Z"
   },
   {
    "duration": 8,
    "start_time": "2022-04-06T07:31:07.516Z"
   },
   {
    "duration": 424,
    "start_time": "2022-04-06T07:31:07.526Z"
   },
   {
    "duration": 3870,
    "start_time": "2022-04-06T07:31:07.952Z"
   },
   {
    "duration": 45576,
    "start_time": "2022-04-06T07:31:11.823Z"
   },
   {
    "duration": 32168,
    "start_time": "2022-04-06T07:31:57.401Z"
   },
   {
    "duration": 8,
    "start_time": "2022-04-06T07:32:29.571Z"
   },
   {
    "duration": 57,
    "start_time": "2022-04-06T07:32:29.581Z"
   },
   {
    "duration": 6397,
    "start_time": "2022-04-06T07:32:29.640Z"
   },
   {
    "duration": 3,
    "start_time": "2022-04-06T07:32:36.039Z"
   },
   {
    "duration": 228711,
    "start_time": "2022-04-06T07:32:36.044Z"
   },
   {
    "duration": 3,
    "start_time": "2022-04-06T07:36:24.756Z"
   },
   {
    "duration": 295,
    "start_time": "2022-04-06T07:36:24.760Z"
   },
   {
    "duration": 4,
    "start_time": "2022-04-06T07:37:36.703Z"
   },
   {
    "duration": 138,
    "start_time": "2022-04-06T07:37:47.815Z"
   },
   {
    "duration": 333,
    "start_time": "2022-04-06T07:39:09.433Z"
   },
   {
    "duration": 15,
    "start_time": "2022-04-06T07:41:06.714Z"
   },
   {
    "duration": 15,
    "start_time": "2022-04-06T07:41:27.676Z"
   },
   {
    "duration": 12,
    "start_time": "2022-04-06T07:43:40.903Z"
   },
   {
    "duration": 13,
    "start_time": "2022-04-06T07:43:58.159Z"
   },
   {
    "duration": 37,
    "start_time": "2022-04-06T07:46:24.352Z"
   },
   {
    "duration": 38,
    "start_time": "2022-04-06T07:50:00.827Z"
   },
   {
    "duration": 37,
    "start_time": "2022-04-06T07:50:29.382Z"
   },
   {
    "duration": 41,
    "start_time": "2022-04-06T07:55:14.342Z"
   },
   {
    "duration": 47,
    "start_time": "2022-04-06T07:55:59.167Z"
   },
   {
    "duration": 35,
    "start_time": "2022-04-06T08:00:51.138Z"
   },
   {
    "duration": 38,
    "start_time": "2022-04-06T08:01:21.502Z"
   },
   {
    "duration": 13,
    "start_time": "2022-04-06T08:06:56.435Z"
   },
   {
    "duration": 27624,
    "start_time": "2022-04-06T08:07:35.601Z"
   },
   {
    "duration": 985932,
    "start_time": "2022-04-06T08:08:21.015Z"
   },
   {
    "duration": 1240674,
    "start_time": "2022-04-06T08:25:55.942Z"
   },
   {
    "duration": 5,
    "start_time": "2022-04-06T08:50:04.312Z"
   },
   {
    "duration": 122723,
    "start_time": "2022-04-06T08:53:13.720Z"
   },
   {
    "duration": 0,
    "start_time": "2022-04-06T08:55:16.446Z"
   },
   {
    "duration": 1156502,
    "start_time": "2022-04-06T08:55:29.731Z"
   },
   {
    "duration": 1244294,
    "start_time": "2022-04-06T09:14:46.234Z"
   }
  ],
  "kernelspec": {
   "display_name": "Python 3 (ipykernel)",
   "language": "python",
   "name": "python3"
  },
  "language_info": {
   "codemirror_mode": {
    "name": "ipython",
    "version": 3
   },
   "file_extension": ".py",
   "mimetype": "text/x-python",
   "name": "python",
   "nbconvert_exporter": "python",
   "pygments_lexer": "ipython3",
   "version": "3.10.4"
  },
  "toc": {
   "base_numbering": 1,
   "nav_menu": {},
   "number_sections": true,
   "sideBar": true,
   "skip_h1_title": true,
   "title_cell": "Содержание",
   "title_sidebar": "Contents",
   "toc_cell": true,
   "toc_position": {
    "height": "calc(100% - 180px)",
    "left": "10px",
    "top": "150px",
    "width": "302.391px"
   },
   "toc_section_display": true,
   "toc_window_display": false
  }
 },
 "nbformat": 4,
 "nbformat_minor": 2
}
