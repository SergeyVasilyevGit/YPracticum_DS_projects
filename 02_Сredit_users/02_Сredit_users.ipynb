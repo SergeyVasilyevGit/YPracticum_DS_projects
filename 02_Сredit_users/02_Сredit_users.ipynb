{
 "cells": [
  {
   "cell_type": "markdown",
   "metadata": {
    "toc": true
   },
   "source": [
    "<h1>Содержание<span class=\"tocSkip\"></span></h1>\n",
    "<div class=\"toc\"><ul class=\"toc-item\"><li><span><a href=\"#Загрузка-файла-и-изучение-общей-информации\" data-toc-modified-id=\"Загрузка-файла-и-изучение-общей-информации-1\"><span class=\"toc-item-num\">1&nbsp;&nbsp;</span>Загрузка файла и изучение общей информации</a></span></li><li><span><a href=\"#Предобработка-данных\" data-toc-modified-id=\"Предобработка-данных-2\"><span class=\"toc-item-num\">2&nbsp;&nbsp;</span>Предобработка данных</a></span><ul class=\"toc-item\"><li><span><a href=\"#Обработка-пропусков\" data-toc-modified-id=\"Обработка-пропусков-2.1\"><span class=\"toc-item-num\">2.1&nbsp;&nbsp;</span>Обработка пропусков</a></span></li><li><span><a href=\"#Замена-типа-данных\" data-toc-modified-id=\"Замена-типа-данных-2.2\"><span class=\"toc-item-num\">2.2&nbsp;&nbsp;</span>Замена типа данных</a></span></li><li><span><a href=\"#Обработка-дубликатов\" data-toc-modified-id=\"Обработка-дубликатов-2.3\"><span class=\"toc-item-num\">2.3&nbsp;&nbsp;</span>Обработка дубликатов</a></span></li><li><span><a href=\"#Лемматизация\" data-toc-modified-id=\"Лемматизация-2.4\"><span class=\"toc-item-num\">2.4&nbsp;&nbsp;</span>Лемматизация</a></span></li><li><span><a href=\"#Категоризация-данных\" data-toc-modified-id=\"Категоризация-данных-2.5\"><span class=\"toc-item-num\">2.5&nbsp;&nbsp;</span>Категоризация данных</a></span></li></ul></li><li><span><a href=\"#Ответы-на-вопросы\" data-toc-modified-id=\"Ответы-на-вопросы-3\"><span class=\"toc-item-num\">3&nbsp;&nbsp;</span>Ответы на вопросы</a></span></li><li><span><a href=\"#Общий-вывод\" data-toc-modified-id=\"Общий-вывод-4\"><span class=\"toc-item-num\">4&nbsp;&nbsp;</span>Общий вывод</a></span></li></ul></div>"
   ]
  },
  {
   "cell_type": "markdown",
   "metadata": {},
   "source": [
    "# Исследование надёжности заёмщиков\n",
    "\n",
    "Заказчик — кредитный отдел банка. Нужно разобраться, влияет ли семейное положение и количество детей клиента на факт погашения кредита в срок. Входные данные от банка — статистика о платёжеспособности клиентов.\n",
    "\n",
    "Результаты исследования будут учтены при построении модели **кредитного скоринга** — специальной системы, которая оценивает способность потенциального заёмщика вернуть кредит банку."
   ]
  },
  {
   "cell_type": "markdown",
   "metadata": {},
   "source": [
    "## Загрузка файла и изучение общей информации"
   ]
  },
  {
   "cell_type": "code",
   "execution_count": 1,
   "metadata": {},
   "outputs": [],
   "source": [
    "# импорт табличного редактора Pandas и чтение данных\n",
    "import pandas as pd\n",
    "\n",
    "df = pd.read_csv('data.csv')"
   ]
  },
  {
   "cell_type": "markdown",
   "metadata": {},
   "source": [
    "Описание данных:\n",
    "* `children` — количество детей в семье  \n",
    "* `days_employed` — общий трудовой стаж в днях  \n",
    "* `dob_years` — возраст клиента в годах  \n",
    "* `education` — уровень образования клиента  \n",
    "* `education_id` — идентификатор уровня образования  \n",
    "* `family_status` — семейное положение  \n",
    "* `family_status_id` — идентификатор семейного положения  \n",
    "* `gender` — пол клиента  \n",
    "* `income_type` — тип занятости  \n",
    "* `debt` — имел ли задолженность по возврату кредитов  \n",
    "* `total_income` — ежемесячный доход  \n",
    "* `purpose` — цель получения кредита  "
   ]
  },
  {
   "cell_type": "code",
   "execution_count": 2,
   "metadata": {
    "scrolled": true
   },
   "outputs": [
    {
     "data": {
      "text/html": [
       "<div>\n",
       "<style scoped>\n",
       "    .dataframe tbody tr th:only-of-type {\n",
       "        vertical-align: middle;\n",
       "    }\n",
       "\n",
       "    .dataframe tbody tr th {\n",
       "        vertical-align: top;\n",
       "    }\n",
       "\n",
       "    .dataframe thead th {\n",
       "        text-align: right;\n",
       "    }\n",
       "</style>\n",
       "<table border=\"1\" class=\"dataframe\">\n",
       "  <thead>\n",
       "    <tr style=\"text-align: right;\">\n",
       "      <th></th>\n",
       "      <th>children</th>\n",
       "      <th>days_employed</th>\n",
       "      <th>dob_years</th>\n",
       "      <th>education</th>\n",
       "      <th>education_id</th>\n",
       "      <th>family_status</th>\n",
       "      <th>family_status_id</th>\n",
       "      <th>gender</th>\n",
       "      <th>income_type</th>\n",
       "      <th>debt</th>\n",
       "      <th>total_income</th>\n",
       "      <th>purpose</th>\n",
       "    </tr>\n",
       "  </thead>\n",
       "  <tbody>\n",
       "    <tr>\n",
       "      <td>0</td>\n",
       "      <td>1</td>\n",
       "      <td>-8437.673028</td>\n",
       "      <td>42</td>\n",
       "      <td>высшее</td>\n",
       "      <td>0</td>\n",
       "      <td>женат / замужем</td>\n",
       "      <td>0</td>\n",
       "      <td>F</td>\n",
       "      <td>сотрудник</td>\n",
       "      <td>0</td>\n",
       "      <td>253875.639453</td>\n",
       "      <td>покупка жилья</td>\n",
       "    </tr>\n",
       "    <tr>\n",
       "      <td>1</td>\n",
       "      <td>1</td>\n",
       "      <td>-4024.803754</td>\n",
       "      <td>36</td>\n",
       "      <td>среднее</td>\n",
       "      <td>1</td>\n",
       "      <td>женат / замужем</td>\n",
       "      <td>0</td>\n",
       "      <td>F</td>\n",
       "      <td>сотрудник</td>\n",
       "      <td>0</td>\n",
       "      <td>112080.014102</td>\n",
       "      <td>приобретение автомобиля</td>\n",
       "    </tr>\n",
       "    <tr>\n",
       "      <td>2</td>\n",
       "      <td>0</td>\n",
       "      <td>-5623.422610</td>\n",
       "      <td>33</td>\n",
       "      <td>Среднее</td>\n",
       "      <td>1</td>\n",
       "      <td>женат / замужем</td>\n",
       "      <td>0</td>\n",
       "      <td>M</td>\n",
       "      <td>сотрудник</td>\n",
       "      <td>0</td>\n",
       "      <td>145885.952297</td>\n",
       "      <td>покупка жилья</td>\n",
       "    </tr>\n",
       "    <tr>\n",
       "      <td>3</td>\n",
       "      <td>3</td>\n",
       "      <td>-4124.747207</td>\n",
       "      <td>32</td>\n",
       "      <td>среднее</td>\n",
       "      <td>1</td>\n",
       "      <td>женат / замужем</td>\n",
       "      <td>0</td>\n",
       "      <td>M</td>\n",
       "      <td>сотрудник</td>\n",
       "      <td>0</td>\n",
       "      <td>267628.550329</td>\n",
       "      <td>дополнительное образование</td>\n",
       "    </tr>\n",
       "    <tr>\n",
       "      <td>4</td>\n",
       "      <td>0</td>\n",
       "      <td>340266.072047</td>\n",
       "      <td>53</td>\n",
       "      <td>среднее</td>\n",
       "      <td>1</td>\n",
       "      <td>гражданский брак</td>\n",
       "      <td>1</td>\n",
       "      <td>F</td>\n",
       "      <td>пенсионер</td>\n",
       "      <td>0</td>\n",
       "      <td>158616.077870</td>\n",
       "      <td>сыграть свадьбу</td>\n",
       "    </tr>\n",
       "  </tbody>\n",
       "</table>\n",
       "</div>"
      ],
      "text/plain": [
       "   children  days_employed  dob_years education  education_id  \\\n",
       "0         1   -8437.673028         42    высшее             0   \n",
       "1         1   -4024.803754         36   среднее             1   \n",
       "2         0   -5623.422610         33   Среднее             1   \n",
       "3         3   -4124.747207         32   среднее             1   \n",
       "4         0  340266.072047         53   среднее             1   \n",
       "\n",
       "      family_status  family_status_id gender income_type  debt   total_income  \\\n",
       "0   женат / замужем                 0      F   сотрудник     0  253875.639453   \n",
       "1   женат / замужем                 0      F   сотрудник     0  112080.014102   \n",
       "2   женат / замужем                 0      M   сотрудник     0  145885.952297   \n",
       "3   женат / замужем                 0      M   сотрудник     0  267628.550329   \n",
       "4  гражданский брак                 1      F   пенсионер     0  158616.077870   \n",
       "\n",
       "                      purpose  \n",
       "0               покупка жилья  \n",
       "1     приобретение автомобиля  \n",
       "2               покупка жилья  \n",
       "3  дополнительное образование  \n",
       "4             сыграть свадьбу  "
      ]
     },
     "execution_count": 2,
     "metadata": {},
     "output_type": "execute_result"
    }
   ],
   "source": [
    "# предварительный просмотр данных\n",
    "df.head()"
   ]
  },
  {
   "cell_type": "code",
   "execution_count": 3,
   "metadata": {},
   "outputs": [
    {
     "data": {
      "text/plain": [
       "Index(['children', 'days_employed', 'dob_years', 'education', 'education_id',\n",
       "       'family_status', 'family_status_id', 'gender', 'income_type', 'debt',\n",
       "       'total_income', 'purpose'],\n",
       "      dtype='object')"
      ]
     },
     "execution_count": 3,
     "metadata": {},
     "output_type": "execute_result"
    }
   ],
   "source": [
    "# проверка корректности записи наименований столбцов таблицы\n",
    "# (латиница и строчные буквы / отсутствие пробелов / разделение слов нижним подчеркиванием)\n",
    "\n",
    "df.columns # требования соблюдены"
   ]
  },
  {
   "cell_type": "code",
   "execution_count": 4,
   "metadata": {},
   "outputs": [
    {
     "name": "stdout",
     "output_type": "stream",
     "text": [
      "<class 'pandas.core.frame.DataFrame'>\n",
      "RangeIndex: 21525 entries, 0 to 21524\n",
      "Data columns (total 12 columns):\n",
      "children            21525 non-null int64\n",
      "days_employed       19351 non-null float64\n",
      "dob_years           21525 non-null int64\n",
      "education           21525 non-null object\n",
      "education_id        21525 non-null int64\n",
      "family_status       21525 non-null object\n",
      "family_status_id    21525 non-null int64\n",
      "gender              21525 non-null object\n",
      "income_type         21525 non-null object\n",
      "debt                21525 non-null int64\n",
      "total_income        19351 non-null float64\n",
      "purpose             21525 non-null object\n",
      "dtypes: float64(2), int64(5), object(5)\n",
      "memory usage: 2.0+ MB\n"
     ]
    }
   ],
   "source": [
    "# общая информация о данных\n",
    "df.info()"
   ]
  },
  {
   "cell_type": "markdown",
   "metadata": {},
   "source": [
    "В представленной таблице содержатся различные типы данных (целые и вещественные числа / строки). Для некоторых столбцов (например, `days_employed`) количество строк меньше их общего числа в таблице – что говорит о наличии пропусков данных."
   ]
  },
  {
   "cell_type": "code",
   "execution_count": 5,
   "metadata": {
    "scrolled": true
   },
   "outputs": [
    {
     "data": {
      "text/html": [
       "<div>\n",
       "<style scoped>\n",
       "    .dataframe tbody tr th:only-of-type {\n",
       "        vertical-align: middle;\n",
       "    }\n",
       "\n",
       "    .dataframe tbody tr th {\n",
       "        vertical-align: top;\n",
       "    }\n",
       "\n",
       "    .dataframe thead th {\n",
       "        text-align: right;\n",
       "    }\n",
       "</style>\n",
       "<table border=\"1\" class=\"dataframe\">\n",
       "  <thead>\n",
       "    <tr style=\"text-align: right;\">\n",
       "      <th></th>\n",
       "      <th>children</th>\n",
       "      <th>days_employed</th>\n",
       "      <th>dob_years</th>\n",
       "      <th>education_id</th>\n",
       "      <th>family_status_id</th>\n",
       "      <th>debt</th>\n",
       "      <th>total_income</th>\n",
       "    </tr>\n",
       "  </thead>\n",
       "  <tbody>\n",
       "    <tr>\n",
       "      <td>count</td>\n",
       "      <td>21525.000000</td>\n",
       "      <td>19351.000000</td>\n",
       "      <td>21525.000000</td>\n",
       "      <td>21525.000000</td>\n",
       "      <td>21525.000000</td>\n",
       "      <td>21525.000000</td>\n",
       "      <td>1.935100e+04</td>\n",
       "    </tr>\n",
       "    <tr>\n",
       "      <td>mean</td>\n",
       "      <td>0.538908</td>\n",
       "      <td>63046.497661</td>\n",
       "      <td>43.293380</td>\n",
       "      <td>0.817236</td>\n",
       "      <td>0.972544</td>\n",
       "      <td>0.080883</td>\n",
       "      <td>1.674223e+05</td>\n",
       "    </tr>\n",
       "    <tr>\n",
       "      <td>std</td>\n",
       "      <td>1.381587</td>\n",
       "      <td>140827.311974</td>\n",
       "      <td>12.574584</td>\n",
       "      <td>0.548138</td>\n",
       "      <td>1.420324</td>\n",
       "      <td>0.272661</td>\n",
       "      <td>1.029716e+05</td>\n",
       "    </tr>\n",
       "    <tr>\n",
       "      <td>min</td>\n",
       "      <td>-1.000000</td>\n",
       "      <td>-18388.949901</td>\n",
       "      <td>0.000000</td>\n",
       "      <td>0.000000</td>\n",
       "      <td>0.000000</td>\n",
       "      <td>0.000000</td>\n",
       "      <td>2.066726e+04</td>\n",
       "    </tr>\n",
       "    <tr>\n",
       "      <td>25%</td>\n",
       "      <td>0.000000</td>\n",
       "      <td>-2747.423625</td>\n",
       "      <td>33.000000</td>\n",
       "      <td>1.000000</td>\n",
       "      <td>0.000000</td>\n",
       "      <td>0.000000</td>\n",
       "      <td>1.030532e+05</td>\n",
       "    </tr>\n",
       "    <tr>\n",
       "      <td>50%</td>\n",
       "      <td>0.000000</td>\n",
       "      <td>-1203.369529</td>\n",
       "      <td>42.000000</td>\n",
       "      <td>1.000000</td>\n",
       "      <td>0.000000</td>\n",
       "      <td>0.000000</td>\n",
       "      <td>1.450179e+05</td>\n",
       "    </tr>\n",
       "    <tr>\n",
       "      <td>75%</td>\n",
       "      <td>1.000000</td>\n",
       "      <td>-291.095954</td>\n",
       "      <td>53.000000</td>\n",
       "      <td>1.000000</td>\n",
       "      <td>1.000000</td>\n",
       "      <td>0.000000</td>\n",
       "      <td>2.034351e+05</td>\n",
       "    </tr>\n",
       "    <tr>\n",
       "      <td>max</td>\n",
       "      <td>20.000000</td>\n",
       "      <td>401755.400475</td>\n",
       "      <td>75.000000</td>\n",
       "      <td>4.000000</td>\n",
       "      <td>4.000000</td>\n",
       "      <td>1.000000</td>\n",
       "      <td>2.265604e+06</td>\n",
       "    </tr>\n",
       "  </tbody>\n",
       "</table>\n",
       "</div>"
      ],
      "text/plain": [
       "           children  days_employed     dob_years  education_id  \\\n",
       "count  21525.000000   19351.000000  21525.000000  21525.000000   \n",
       "mean       0.538908   63046.497661     43.293380      0.817236   \n",
       "std        1.381587  140827.311974     12.574584      0.548138   \n",
       "min       -1.000000  -18388.949901      0.000000      0.000000   \n",
       "25%        0.000000   -2747.423625     33.000000      1.000000   \n",
       "50%        0.000000   -1203.369529     42.000000      1.000000   \n",
       "75%        1.000000    -291.095954     53.000000      1.000000   \n",
       "max       20.000000  401755.400475     75.000000      4.000000   \n",
       "\n",
       "       family_status_id          debt  total_income  \n",
       "count      21525.000000  21525.000000  1.935100e+04  \n",
       "mean           0.972544      0.080883  1.674223e+05  \n",
       "std            1.420324      0.272661  1.029716e+05  \n",
       "min            0.000000      0.000000  2.066726e+04  \n",
       "25%            0.000000      0.000000  1.030532e+05  \n",
       "50%            0.000000      0.000000  1.450179e+05  \n",
       "75%            1.000000      0.000000  2.034351e+05  \n",
       "max            4.000000      1.000000  2.265604e+06  "
      ]
     },
     "execution_count": 5,
     "metadata": {},
     "output_type": "execute_result"
    }
   ],
   "source": [
    "# количественные характеристики числовых столбцов (int64 и float64)\n",
    "df.describe()"
   ]
  },
  {
   "cell_type": "markdown",
   "metadata": {},
   "source": [
    "На примере столбца `days_employed` (т.е. общий трудовой стаж в днях) можно увидеть, что присутствуют отрицательные числа, а также чрезмерно большие числа ($401755\\div250\\approx1607$ лет стажа, где 250 – количество рабочих дней в году). "
   ]
  },
  {
   "cell_type": "markdown",
   "metadata": {},
   "source": [
    "**Вывод**"
   ]
  },
  {
   "cell_type": "markdown",
   "metadata": {},
   "source": [
    "Для реализации цели исследования (см. ниже), ввиду выявленных проблем в данных (см. выше), требуется выполнить предобработку данных. Исходные данные предоставлены в «сыром» виде.\n",
    "\n",
    "Цель исследования состоит в том, чтобы ответить на представленные ниже вопросы:\n",
    "* есть ли зависимость между наличием детей и возвратом кредита в срок?  \n",
    "* есть ли зависимость между семейным положением и возвратом кредита в срок?  \n",
    "* есть ли зависимость между уровнем дохода и возвратом кредита в срок?  \n",
    "* как разные цели кредита влияют на его возврат в срок?"
   ]
  },
  {
   "cell_type": "markdown",
   "metadata": {},
   "source": [
    "## Предобработка данных"
   ]
  },
  {
   "cell_type": "markdown",
   "metadata": {},
   "source": [
    "### Обработка пропусков"
   ]
  },
  {
   "cell_type": "code",
   "execution_count": 6,
   "metadata": {
    "scrolled": true
   },
   "outputs": [
    {
     "data": {
      "text/plain": [
       "children               0\n",
       "days_employed       2174\n",
       "dob_years              0\n",
       "education              0\n",
       "education_id           0\n",
       "family_status          0\n",
       "family_status_id       0\n",
       "gender                 0\n",
       "income_type            0\n",
       "debt                   0\n",
       "total_income        2174\n",
       "purpose                0\n",
       "dtype: int64"
      ]
     },
     "execution_count": 6,
     "metadata": {},
     "output_type": "execute_result"
    }
   ],
   "source": [
    "# проверка столбцов на наличие пропусков данных\n",
    "df.isnull().sum()"
   ]
  },
  {
   "cell_type": "markdown",
   "metadata": {},
   "source": [
    "Пропуски выявлены в столбцах `days_employed` и `total_income`. Поскольку столбец `days_employed` среди своих значений содержит отрицательные и чрезмерно большие значения, требуется дополнительная обработка."
   ]
  },
  {
   "cell_type": "code",
   "execution_count": 7,
   "metadata": {},
   "outputs": [],
   "source": [
    "# для столбцов 'days_employed' и 'total_income' необходимо откорректировать отрицательные и чрезмерно большие значения\n",
    "\n",
    "# корректировка отрицательных значений – замена на положительные\n",
    "df['children'] = df['children'].apply(abs) # результат можно проверить командой df.describe()\n",
    "df['days_employed'] = df['days_employed'].apply(abs)"
   ]
  },
  {
   "cell_type": "code",
   "execution_count": 8,
   "metadata": {},
   "outputs": [],
   "source": [
    "# корректировка чрезмерно больших значений\n",
    "# для колонки 'children' примем максимальное число детей за приятное и допустимое исключение\n",
    "\n",
    "# для колонки days_employed откорректируем чрезмерно большие значения до ближайшего наибольшего (в учебных целях)\n",
    "# мужчины – 42 года или приблизительно 10500 дней, женщины – 37 лет или приблизительно 9250 дней, для остальных 'XNA' – 38 лет или приблизительно 9500 дней.\n",
    "# группа XNA выявлена при помощи df['gender'].value_counts()\n",
    "\n",
    "def work_years(row):\n",
    "    \"\"\"\n",
    "    Возвращает откорректированный рабочий стаж в днях для чрезмерно больших значений используя правила:\n",
    "    - мужчина \"М\", табличное значение превышает 10500 дней\n",
    "    - женщина \"F\", табличное значение превышает 9250 дней\n",
    "    - неустановленная категория \"XNA\", табличное значение превышает 9500 дней\n",
    "    \"\"\"\n",
    "\n",
    "    total_days = row['days_employed']\n",
    "    gender_status = row['gender']\n",
    "    \n",
    "    if (gender_status == 'M') & (total_days > 10500):\n",
    "        return 10500\n",
    "    elif (gender_status == 'F') & (total_days > 9250):\n",
    "        return 9250\n",
    "    elif (gender_status == 'XNA') & (total_days > 9500):\n",
    "        return 9500\n",
    "    else:\n",
    "        return total_days\n",
    "        \n",
    "\n",
    "df['days_employed'] = df.apply(work_years, axis=1)"
   ]
  },
  {
   "cell_type": "code",
   "execution_count": 9,
   "metadata": {},
   "outputs": [],
   "source": [
    "# возвращаемся к заполнению пропусков\n",
    "# для столбца 'days_employed' – укажем срднее\n",
    "df['days_employed'].fillna(df['days_employed'].mean(), inplace=True)"
   ]
  },
  {
   "cell_type": "code",
   "execution_count": 10,
   "metadata": {},
   "outputs": [
    {
     "data": {
      "text/plain": [
       "сотрудник          0.508280\n",
       "компаньон          0.233671\n",
       "пенсионер          0.189972\n",
       "госслужащий        0.067617\n",
       "предприниматель    0.000460\n",
       "Name: income_type, dtype: float64"
      ]
     },
     "execution_count": 10,
     "metadata": {},
     "output_type": "execute_result"
    }
   ],
   "source": [
    "# столбец 'total_income'\n",
    "# распределение 'income_type' при пропусках в 'total_income'\n",
    "df[df['total_income'].isnull()]['income_type'].value_counts(normalize=True)"
   ]
  },
  {
   "cell_type": "code",
   "execution_count": 11,
   "metadata": {
    "scrolled": true
   },
   "outputs": [
    {
     "data": {
      "text/plain": [
       "сотрудник          0.517493\n",
       "компаньон          0.236525\n",
       "пенсионер          0.177924\n",
       "госслужащий        0.067800\n",
       "безработный        0.000103\n",
       "предприниматель    0.000052\n",
       "студент            0.000052\n",
       "в декрете          0.000052\n",
       "Name: income_type, dtype: float64"
      ]
     },
     "execution_count": 11,
     "metadata": {},
     "output_type": "execute_result"
    }
   ],
   "source": [
    "# распределение 'income_type' при исключении пропусков из 'total_income'\n",
    "df[~df['total_income'].isnull()]['income_type'].value_counts(normalize=True)"
   ]
  },
  {
   "cell_type": "markdown",
   "metadata": {},
   "source": [
    "Первые три значимые категории (т.е. доля исчисляется десятками процентов – `сотрудник`, `компаньон` и `пенсионер`) практически повторяют друг друга. Это дает основания предположить, что некоторая связь между типом занятости `income_type` и наличием пропусков в столбце с уровнем дохода `total_income` существует."
   ]
  },
  {
   "cell_type": "code",
   "execution_count": 12,
   "metadata": {
    "scrolled": true
   },
   "outputs": [
    {
     "data": {
      "text/plain": [
       "{'безработный': 131339.7516762103,\n",
       " 'в декрете': 53829.13072905995,\n",
       " 'госслужащий': 150447.9352830068,\n",
       " 'компаньон': 172357.95096577113,\n",
       " 'пенсионер': 118514.48641164352,\n",
       " 'предприниматель': 499163.1449470857,\n",
       " 'сотрудник': 142594.39684740017,\n",
       " 'студент': 98201.62531401133}"
      ]
     },
     "execution_count": 12,
     "metadata": {},
     "output_type": "execute_result"
    }
   ],
   "source": [
    "# создадим словарь из медианных значений для каждой группы\n",
    "df.groupby('income_type')['total_income'].median().to_dict()"
   ]
  },
  {
   "cell_type": "code",
   "execution_count": 13,
   "metadata": {},
   "outputs": [],
   "source": [
    "# для столбца 'days_employed' применим следующий подход по корректировки пропусков\n",
    "def total_income_imputation(row):\n",
    "    \"\"\"\n",
    "    Функция заполняет пропуски (отсутствующие данные) используя правила:\n",
    "    - если в ячейке столбца 'total_income' фиксируется пропуск, то его заполняет медиана взятая с учетом категории 'income_type'\n",
    "    - перечень категорий и соответствующие медианы отражены ниже в словаре 'median_dict_by_group'\n",
    "    \"\"\"\n",
    "\n",
    "    income_type = row['income_type']\n",
    "    total_income = row['total_income']\n",
    "   \n",
    "    median_dict_by_group = {\n",
    "         'безработный': 131339,\n",
    "         'в декрете': 53829,\n",
    "         'госслужащий': 150447,\n",
    "         'компаньон': 172357,\n",
    "         'пенсионер': 118514,\n",
    "         'предприниматель': 499163,\n",
    "         'сотрудник': 142594,\n",
    "         'студент': 98201\n",
    "    }\n",
    "    \n",
    " \n",
    "    if total_income != total_income: # проверка, является ли значение в ячейке 'NaN'\n",
    "        return median_dict_by_group[income_type] # если это 'NaN', заполняем пропуск медианой по соответствующей группе\n",
    "    else:\n",
    "        return total_income\n",
    "        \n",
    "\n",
    "df['total_income'] = df.apply(total_income_imputation, axis=1)"
   ]
  },
  {
   "cell_type": "code",
   "execution_count": 14,
   "metadata": {
    "scrolled": true
   },
   "outputs": [
    {
     "data": {
      "text/plain": [
       "children            0\n",
       "days_employed       0\n",
       "dob_years           0\n",
       "education           0\n",
       "education_id        0\n",
       "family_status       0\n",
       "family_status_id    0\n",
       "gender              0\n",
       "income_type         0\n",
       "debt                0\n",
       "total_income        0\n",
       "purpose             0\n",
       "dtype: int64"
      ]
     },
     "execution_count": 14,
     "metadata": {},
     "output_type": "execute_result"
    }
   ],
   "source": [
    "# проведем повторную проверку на наличие пропусков\n",
    "df.isnull().sum()"
   ]
  },
  {
   "cell_type": "code",
   "execution_count": 15,
   "metadata": {
    "scrolled": true
   },
   "outputs": [
    {
     "data": {
      "text/plain": [
       "0     101\n",
       "19     14\n",
       "20     51\n",
       "21    111\n",
       "22    183\n",
       "Name: dob_years, dtype: int64"
      ]
     },
     "execution_count": 15,
     "metadata": {},
     "output_type": "execute_result"
    }
   ],
   "source": [
    "# проверка столбца 'dob_years'\n",
    "df['dob_years'].value_counts().sort_index().head(5)"
   ]
  },
  {
   "cell_type": "markdown",
   "metadata": {},
   "source": [
    "Выявлено, что для заёмщиков в количестве 101 человека указан возраст 0 лет."
   ]
  },
  {
   "cell_type": "code",
   "execution_count": 16,
   "metadata": {},
   "outputs": [],
   "source": [
    "# заменим возраст 0 лет на медианное значение по столбцу\n",
    "df['dob_years']=df['dob_years'].replace(0, df['dob_years'].median())"
   ]
  },
  {
   "cell_type": "code",
   "execution_count": 17,
   "metadata": {
    "scrolled": true
   },
   "outputs": [
    {
     "data": {
      "text/plain": [
       "19     14\n",
       "20     51\n",
       "21    111\n",
       "22    183\n",
       "23    254\n",
       "Name: dob_years, dtype: int64"
      ]
     },
     "execution_count": 17,
     "metadata": {},
     "output_type": "execute_result"
    }
   ],
   "source": [
    "# повторная проверка столбца 'dob_years'\n",
    "df['dob_years'].value_counts().sort_index().head(5)"
   ]
  },
  {
   "cell_type": "code",
   "execution_count": 18,
   "metadata": {
    "scrolled": true
   },
   "outputs": [
    {
     "data": {
      "text/plain": [
       "F      14236\n",
       "M       7288\n",
       "XNA        1\n",
       "Name: gender, dtype: int64"
      ]
     },
     "execution_count": 18,
     "metadata": {},
     "output_type": "execute_result"
    }
   ],
   "source": [
    "# проверка столбца 'gender'\n",
    "df['gender'].value_counts()"
   ]
  },
  {
   "cell_type": "code",
   "execution_count": 19,
   "metadata": {},
   "outputs": [],
   "source": [
    "# удаляем строку, которая содержит пол 'XNA'\n",
    "df = df[df['gender'] !='XNA']"
   ]
  },
  {
   "cell_type": "code",
   "execution_count": 20,
   "metadata": {},
   "outputs": [
    {
     "data": {
      "text/plain": [
       "F    14236\n",
       "M     7288\n",
       "Name: gender, dtype: int64"
      ]
     },
     "execution_count": 20,
     "metadata": {},
     "output_type": "execute_result"
    }
   ],
   "source": [
    "# повторная проверка столбца 'gender'\n",
    "df['gender'].value_counts()"
   ]
  },
  {
   "cell_type": "markdown",
   "metadata": {},
   "source": [
    "**Вывод**"
   ]
  },
  {
   "cell_type": "markdown",
   "metadata": {},
   "source": [
    "В ходе выполнения предобработки было выявлено отсутствие данных в некоторых колонках, а также их несоответствие приемлемым величинам. Были предприняты действия, которые позволили заменить отсутствующие значения и усреднить (медианой и средним) чрезмерно большие величины. Из таблицы была полностью удалена одна строка (пол 'XNA'), т.к. её отсутствие вряд ли повлияет на конечный результат."
   ]
  },
  {
   "cell_type": "markdown",
   "metadata": {},
   "source": [
    "### Замена типа данных"
   ]
  },
  {
   "cell_type": "code",
   "execution_count": 21,
   "metadata": {
    "scrolled": true
   },
   "outputs": [
    {
     "name": "stdout",
     "output_type": "stream",
     "text": [
      "<class 'pandas.core.frame.DataFrame'>\n",
      "Int64Index: 21524 entries, 0 to 21524\n",
      "Data columns (total 12 columns):\n",
      "children            21524 non-null int64\n",
      "days_employed       21524 non-null float64\n",
      "dob_years           21524 non-null int64\n",
      "education           21524 non-null object\n",
      "education_id        21524 non-null int64\n",
      "family_status       21524 non-null object\n",
      "family_status_id    21524 non-null int64\n",
      "gender              21524 non-null object\n",
      "income_type         21524 non-null object\n",
      "debt                21524 non-null int64\n",
      "total_income        21524 non-null float64\n",
      "purpose             21524 non-null object\n",
      "dtypes: float64(2), int64(5), object(5)\n",
      "memory usage: 2.1+ MB\n"
     ]
    }
   ],
   "source": [
    "# заменим тип данных в колонках 'days_employed' и 'total_income' с вещественного (float64) на целочисленный (int64) в учебных целях\n",
    "df.info()"
   ]
  },
  {
   "cell_type": "code",
   "execution_count": 22,
   "metadata": {},
   "outputs": [],
   "source": [
    "df['days_employed'] = df['days_employed'].astype('int64')\n",
    "df['total_income'] = df['total_income'].astype('int64')"
   ]
  },
  {
   "cell_type": "code",
   "execution_count": 23,
   "metadata": {},
   "outputs": [
    {
     "name": "stdout",
     "output_type": "stream",
     "text": [
      "<class 'pandas.core.frame.DataFrame'>\n",
      "Int64Index: 21524 entries, 0 to 21524\n",
      "Data columns (total 12 columns):\n",
      "children            21524 non-null int64\n",
      "days_employed       21524 non-null int64\n",
      "dob_years           21524 non-null int64\n",
      "education           21524 non-null object\n",
      "education_id        21524 non-null int64\n",
      "family_status       21524 non-null object\n",
      "family_status_id    21524 non-null int64\n",
      "gender              21524 non-null object\n",
      "income_type         21524 non-null object\n",
      "debt                21524 non-null int64\n",
      "total_income        21524 non-null int64\n",
      "purpose             21524 non-null object\n",
      "dtypes: int64(7), object(5)\n",
      "memory usage: 2.1+ MB\n"
     ]
    }
   ],
   "source": [
    "# проверка перевода данных 'days_employed' и 'total_income' в нужный тип - целочисленный (int64)\n",
    "df.info()"
   ]
  },
  {
   "cell_type": "markdown",
   "metadata": {},
   "source": [
    "**Вывод**"
   ]
  },
  {
   "cell_type": "markdown",
   "metadata": {},
   "source": [
    "С данными в столбцах `days_employed` и `total_income` можно оперировать как с целочисленными значениями."
   ]
  },
  {
   "cell_type": "markdown",
   "metadata": {},
   "source": [
    "### Обработка дубликатов"
   ]
  },
  {
   "cell_type": "code",
   "execution_count": 24,
   "metadata": {
    "scrolled": false
   },
   "outputs": [
    {
     "data": {
      "text/plain": [
       "среднее                13750\n",
       "высшее                  4718\n",
       "СРЕДНЕЕ                  772\n",
       "Среднее                  711\n",
       "неоконченное высшее      667\n",
       "ВЫСШЕЕ                   274\n",
       "Высшее                   268\n",
       "начальное                250\n",
       "Неоконченное высшее       47\n",
       "НЕОКОНЧЕННОЕ ВЫСШЕЕ       29\n",
       "НАЧАЛЬНОЕ                 17\n",
       "Начальное                 15\n",
       "ученая степень             4\n",
       "Ученая степень             1\n",
       "УЧЕНАЯ СТЕПЕНЬ             1\n",
       "Name: education, dtype: int64"
      ]
     },
     "execution_count": 24,
     "metadata": {},
     "output_type": "execute_result"
    }
   ],
   "source": [
    "# разное написание одинаковых слов фиксируется в колонке 'education'\n",
    "df['education'].value_counts()"
   ]
  },
  {
   "cell_type": "code",
   "execution_count": 25,
   "metadata": {},
   "outputs": [],
   "source": [
    "# приводим написание к нижнему регистру\n",
    "df['education'] = df['education'].str.lower()\n",
    "df['family_status'] = df['family_status'].str.lower() # в столбце дубликаты отсутствуют, но некоторые слова написаны с заглавной буквы"
   ]
  },
  {
   "cell_type": "code",
   "execution_count": 26,
   "metadata": {
    "scrolled": true
   },
   "outputs": [
    {
     "data": {
      "text/plain": [
       "среднее                15233\n",
       "высшее                  5260\n",
       "неоконченное высшее      743\n",
       "начальное                282\n",
       "ученая степень             6\n",
       "Name: education, dtype: int64"
      ]
     },
     "execution_count": 26,
     "metadata": {},
     "output_type": "execute_result"
    }
   ],
   "source": [
    "# повторы отсутствуют\n",
    "df['education'].value_counts()"
   ]
  },
  {
   "cell_type": "code",
   "execution_count": 27,
   "metadata": {},
   "outputs": [
    {
     "data": {
      "text/plain": [
       "72"
      ]
     },
     "execution_count": 27,
     "metadata": {},
     "output_type": "execute_result"
    }
   ],
   "source": [
    "# проверяем общее количество дубликатов во всей таблице\n",
    "df.duplicated().sum()"
   ]
  },
  {
   "cell_type": "code",
   "execution_count": 28,
   "metadata": {},
   "outputs": [],
   "source": [
    "# удаляем выявленные дубликаты\n",
    "df = df.drop_duplicates().reset_index(drop=True)"
   ]
  },
  {
   "cell_type": "code",
   "execution_count": 29,
   "metadata": {},
   "outputs": [
    {
     "data": {
      "text/plain": [
       "0"
      ]
     },
     "execution_count": 29,
     "metadata": {},
     "output_type": "execute_result"
    }
   ],
   "source": [
    "# повторно проверяем общее количество дубликатов во всей таблице\n",
    "df.duplicated().sum()"
   ]
  },
  {
   "cell_type": "markdown",
   "metadata": {},
   "source": [
    "**Вывод**"
   ]
  },
  {
   "cell_type": "markdown",
   "metadata": {},
   "source": [
    "Дубликаты были выявлены и удалены."
   ]
  },
  {
   "cell_type": "markdown",
   "metadata": {},
   "source": [
    "### Лемматизация"
   ]
  },
  {
   "cell_type": "code",
   "execution_count": 30,
   "metadata": {
    "scrolled": false
   },
   "outputs": [
    {
     "data": {
      "text/plain": [
       "свадьба                                  791\n",
       "на проведение свадьбы                    767\n",
       "сыграть свадьбу                          765\n",
       "операции с недвижимостью                 675\n",
       "покупка коммерческой недвижимости        661\n",
       "операции с жильем                        652\n",
       "покупка жилья для сдачи                  651\n",
       "операции с коммерческой недвижимостью    650\n",
       "покупка жилья                            646\n",
       "жилье                                    646\n",
       "Name: purpose, dtype: int64"
      ]
     },
     "execution_count": 30,
     "metadata": {},
     "output_type": "execute_result"
    }
   ],
   "source": [
    "# цели заема совпадают по смыслу, но несколько различаются по описанию – например, «операции с недвижимостью» и «операции с жильем»\n",
    "df['purpose'].value_counts().head(10)"
   ]
  },
  {
   "cell_type": "code",
   "execution_count": 31,
   "metadata": {},
   "outputs": [],
   "source": [
    "# импортируем библиотеку для лемматизации, т.е. для приведения слова к его словарной форме (лемме).\n",
    "from pymystem3 import Mystem\n",
    "m = Mystem()"
   ]
  },
  {
   "cell_type": "code",
   "execution_count": 32,
   "metadata": {},
   "outputs": [],
   "source": [
    "def lemmas_extractor(row):\n",
    "    \"\"\"\n",
    "    Возвращает базовое слово используя правила:\n",
    "    - если в ячейке 'purpose' содержится слово 'жилье' (из списка 'possible_options'), возвращается базовое слово 'недвижимость'\n",
    "    - если содержится любое другое слово, возвращается это слово в базовой форме\n",
    "    \"\"\"\n",
    "    possible_options = ['жилье', 'недвижимость', 'автомобиль', 'образование', 'свадьба'] # базовые слова, которые присутствуют во всех целевых тратах\n",
    "    lemmas = m.lemmatize(row)\n",
    "    \n",
    "    if possible_options[0] in lemmas:\n",
    "        return 'недвижимость' # сводим 'жилье' в категорию – 'недвижимость'\n",
    "    else:\n",
    "        return set(possible_options[1:]).intersection(set(lemmas)).pop() # извлекаем оставшиеся базовые слова через пересечение словарей\n",
    "\n",
    "\n",
    "df['purpose_clean'] = df['purpose'].apply(lemmas_extractor)"
   ]
  },
  {
   "cell_type": "code",
   "execution_count": 33,
   "metadata": {},
   "outputs": [
    {
     "data": {
      "text/html": [
       "<div>\n",
       "<style scoped>\n",
       "    .dataframe tbody tr th:only-of-type {\n",
       "        vertical-align: middle;\n",
       "    }\n",
       "\n",
       "    .dataframe tbody tr th {\n",
       "        vertical-align: top;\n",
       "    }\n",
       "\n",
       "    .dataframe thead th {\n",
       "        text-align: right;\n",
       "    }\n",
       "</style>\n",
       "<table border=\"1\" class=\"dataframe\">\n",
       "  <thead>\n",
       "    <tr style=\"text-align: right;\">\n",
       "      <th></th>\n",
       "      <th>children</th>\n",
       "      <th>days_employed</th>\n",
       "      <th>dob_years</th>\n",
       "      <th>education</th>\n",
       "      <th>education_id</th>\n",
       "      <th>family_status</th>\n",
       "      <th>family_status_id</th>\n",
       "      <th>gender</th>\n",
       "      <th>income_type</th>\n",
       "      <th>debt</th>\n",
       "      <th>total_income</th>\n",
       "      <th>purpose</th>\n",
       "      <th>purpose_clean</th>\n",
       "    </tr>\n",
       "  </thead>\n",
       "  <tbody>\n",
       "    <tr>\n",
       "      <td>0</td>\n",
       "      <td>1</td>\n",
       "      <td>8437</td>\n",
       "      <td>42</td>\n",
       "      <td>высшее</td>\n",
       "      <td>0</td>\n",
       "      <td>женат / замужем</td>\n",
       "      <td>0</td>\n",
       "      <td>F</td>\n",
       "      <td>сотрудник</td>\n",
       "      <td>0</td>\n",
       "      <td>253875</td>\n",
       "      <td>покупка жилья</td>\n",
       "      <td>недвижимость</td>\n",
       "    </tr>\n",
       "    <tr>\n",
       "      <td>1</td>\n",
       "      <td>1</td>\n",
       "      <td>4024</td>\n",
       "      <td>36</td>\n",
       "      <td>среднее</td>\n",
       "      <td>1</td>\n",
       "      <td>женат / замужем</td>\n",
       "      <td>0</td>\n",
       "      <td>F</td>\n",
       "      <td>сотрудник</td>\n",
       "      <td>0</td>\n",
       "      <td>112080</td>\n",
       "      <td>приобретение автомобиля</td>\n",
       "      <td>автомобиль</td>\n",
       "    </tr>\n",
       "    <tr>\n",
       "      <td>2</td>\n",
       "      <td>0</td>\n",
       "      <td>5623</td>\n",
       "      <td>33</td>\n",
       "      <td>среднее</td>\n",
       "      <td>1</td>\n",
       "      <td>женат / замужем</td>\n",
       "      <td>0</td>\n",
       "      <td>M</td>\n",
       "      <td>сотрудник</td>\n",
       "      <td>0</td>\n",
       "      <td>145885</td>\n",
       "      <td>покупка жилья</td>\n",
       "      <td>недвижимость</td>\n",
       "    </tr>\n",
       "    <tr>\n",
       "      <td>3</td>\n",
       "      <td>3</td>\n",
       "      <td>4124</td>\n",
       "      <td>32</td>\n",
       "      <td>среднее</td>\n",
       "      <td>1</td>\n",
       "      <td>женат / замужем</td>\n",
       "      <td>0</td>\n",
       "      <td>M</td>\n",
       "      <td>сотрудник</td>\n",
       "      <td>0</td>\n",
       "      <td>267628</td>\n",
       "      <td>дополнительное образование</td>\n",
       "      <td>образование</td>\n",
       "    </tr>\n",
       "    <tr>\n",
       "      <td>4</td>\n",
       "      <td>0</td>\n",
       "      <td>9250</td>\n",
       "      <td>53</td>\n",
       "      <td>среднее</td>\n",
       "      <td>1</td>\n",
       "      <td>гражданский брак</td>\n",
       "      <td>1</td>\n",
       "      <td>F</td>\n",
       "      <td>пенсионер</td>\n",
       "      <td>0</td>\n",
       "      <td>158616</td>\n",
       "      <td>сыграть свадьбу</td>\n",
       "      <td>свадьба</td>\n",
       "    </tr>\n",
       "  </tbody>\n",
       "</table>\n",
       "</div>"
      ],
      "text/plain": [
       "   children  days_employed  dob_years education  education_id  \\\n",
       "0         1           8437         42    высшее             0   \n",
       "1         1           4024         36   среднее             1   \n",
       "2         0           5623         33   среднее             1   \n",
       "3         3           4124         32   среднее             1   \n",
       "4         0           9250         53   среднее             1   \n",
       "\n",
       "      family_status  family_status_id gender income_type  debt  total_income  \\\n",
       "0   женат / замужем                 0      F   сотрудник     0        253875   \n",
       "1   женат / замужем                 0      F   сотрудник     0        112080   \n",
       "2   женат / замужем                 0      M   сотрудник     0        145885   \n",
       "3   женат / замужем                 0      M   сотрудник     0        267628   \n",
       "4  гражданский брак                 1      F   пенсионер     0        158616   \n",
       "\n",
       "                      purpose purpose_clean  \n",
       "0               покупка жилья  недвижимость  \n",
       "1     приобретение автомобиля    автомобиль  \n",
       "2               покупка жилья  недвижимость  \n",
       "3  дополнительное образование   образование  \n",
       "4             сыграть свадьбу       свадьба  "
      ]
     },
     "execution_count": 33,
     "metadata": {},
     "output_type": "execute_result"
    }
   ],
   "source": [
    "# в дополнительно созданной колонке 'purpose_clean' теперь присутствуют только базовые слова\n",
    "df.head()"
   ]
  },
  {
   "cell_type": "markdown",
   "metadata": {},
   "source": [
    "**Вывод**"
   ]
  },
  {
   "cell_type": "markdown",
   "metadata": {},
   "source": [
    "Лемматизация позволила выделить базовые слова из общего описания, что в свою очередь помогло сузить и конретизировать цели для получения кредита."
   ]
  },
  {
   "cell_type": "markdown",
   "metadata": {},
   "source": [
    "### Категоризация данных"
   ]
  },
  {
   "cell_type": "code",
   "execution_count": 34,
   "metadata": {
    "scrolled": true
   },
   "outputs": [
    {
     "name": "stdout",
     "output_type": "stream",
     "text": [
      "<class 'pandas.core.frame.DataFrame'>\n",
      "RangeIndex: 21452 entries, 0 to 21451\n",
      "Data columns (total 13 columns):\n",
      "children            21452 non-null int64\n",
      "days_employed       21452 non-null int64\n",
      "dob_years           21452 non-null int64\n",
      "education           21452 non-null object\n",
      "education_id        21452 non-null int64\n",
      "family_status       21452 non-null object\n",
      "family_status_id    21452 non-null int64\n",
      "gender              21452 non-null object\n",
      "income_type         21452 non-null object\n",
      "debt                21452 non-null int64\n",
      "total_income        21452 non-null int64\n",
      "purpose             21452 non-null object\n",
      "purpose_clean       21452 non-null object\n",
      "dtypes: int64(7), object(6)\n",
      "memory usage: 2.1+ MB\n"
     ]
    }
   ],
   "source": [
    "# определим столбцы, для которых можно выполнить категоризацию\n",
    "# это столбцы с типом данных 'object' и дублирующим столбцом '_id', т.е. 'education', 'family_status'\n",
    "# также в учебных целях выполним классификацию по возрастным группам – столбец 'total_income'\n",
    "df.info()"
   ]
  },
  {
   "cell_type": "code",
   "execution_count": 35,
   "metadata": {
    "scrolled": true
   },
   "outputs": [
    {
     "data": {
      "text/html": [
       "<div>\n",
       "<style scoped>\n",
       "    .dataframe tbody tr th:only-of-type {\n",
       "        vertical-align: middle;\n",
       "    }\n",
       "\n",
       "    .dataframe tbody tr th {\n",
       "        vertical-align: top;\n",
       "    }\n",
       "\n",
       "    .dataframe thead th {\n",
       "        text-align: right;\n",
       "    }\n",
       "</style>\n",
       "<table border=\"1\" class=\"dataframe\">\n",
       "  <thead>\n",
       "    <tr style=\"text-align: right;\">\n",
       "      <th></th>\n",
       "      <th>education_id</th>\n",
       "      <th>education</th>\n",
       "    </tr>\n",
       "  </thead>\n",
       "  <tbody>\n",
       "    <tr>\n",
       "      <td>0</td>\n",
       "      <td>0</td>\n",
       "      <td>высшее</td>\n",
       "    </tr>\n",
       "    <tr>\n",
       "      <td>1</td>\n",
       "      <td>1</td>\n",
       "      <td>среднее</td>\n",
       "    </tr>\n",
       "    <tr>\n",
       "      <td>2</td>\n",
       "      <td>1</td>\n",
       "      <td>среднее</td>\n",
       "    </tr>\n",
       "    <tr>\n",
       "      <td>3</td>\n",
       "      <td>1</td>\n",
       "      <td>среднее</td>\n",
       "    </tr>\n",
       "    <tr>\n",
       "      <td>4</td>\n",
       "      <td>1</td>\n",
       "      <td>среднее</td>\n",
       "    </tr>\n",
       "  </tbody>\n",
       "</table>\n",
       "</div>"
      ],
      "text/plain": [
       "   education_id education\n",
       "0             0    высшее\n",
       "1             1   среднее\n",
       "2             1   среднее\n",
       "3             1   среднее\n",
       "4             1   среднее"
      ]
     },
     "execution_count": 35,
     "metadata": {},
     "output_type": "execute_result"
    }
   ],
   "source": [
    "# обработка столбца 'education'\n",
    "# создаем «словарь» из ключа и значения\n",
    "rest_dict_education = df[['education_id', 'education']]\n",
    "rest_dict_education.head() # фиксируются повторы"
   ]
  },
  {
   "cell_type": "code",
   "execution_count": 36,
   "metadata": {
    "scrolled": true
   },
   "outputs": [
    {
     "data": {
      "text/html": [
       "<div>\n",
       "<style scoped>\n",
       "    .dataframe tbody tr th:only-of-type {\n",
       "        vertical-align: middle;\n",
       "    }\n",
       "\n",
       "    .dataframe tbody tr th {\n",
       "        vertical-align: top;\n",
       "    }\n",
       "\n",
       "    .dataframe thead th {\n",
       "        text-align: right;\n",
       "    }\n",
       "</style>\n",
       "<table border=\"1\" class=\"dataframe\">\n",
       "  <thead>\n",
       "    <tr style=\"text-align: right;\">\n",
       "      <th></th>\n",
       "      <th>education_id</th>\n",
       "      <th>education</th>\n",
       "    </tr>\n",
       "  </thead>\n",
       "  <tbody>\n",
       "    <tr>\n",
       "      <td>0</td>\n",
       "      <td>0</td>\n",
       "      <td>высшее</td>\n",
       "    </tr>\n",
       "    <tr>\n",
       "      <td>1</td>\n",
       "      <td>1</td>\n",
       "      <td>среднее</td>\n",
       "    </tr>\n",
       "    <tr>\n",
       "      <td>2</td>\n",
       "      <td>2</td>\n",
       "      <td>неоконченное высшее</td>\n",
       "    </tr>\n",
       "    <tr>\n",
       "      <td>3</td>\n",
       "      <td>3</td>\n",
       "      <td>начальное</td>\n",
       "    </tr>\n",
       "    <tr>\n",
       "      <td>4</td>\n",
       "      <td>4</td>\n",
       "      <td>ученая степень</td>\n",
       "    </tr>\n",
       "  </tbody>\n",
       "</table>\n",
       "</div>"
      ],
      "text/plain": [
       "   education_id            education\n",
       "0             0               высшее\n",
       "1             1              среднее\n",
       "2             2  неоконченное высшее\n",
       "3             3            начальное\n",
       "4             4       ученая степень"
      ]
     },
     "execution_count": 36,
     "metadata": {},
     "output_type": "execute_result"
    }
   ],
   "source": [
    "# удаляем повторы и обновляем индексы\n",
    "rest_dict_education = rest_dict_education.drop_duplicates().reset_index(drop=True)\n",
    "rest_dict_education.head() # повторы удалены"
   ]
  },
  {
   "cell_type": "code",
   "execution_count": 37,
   "metadata": {
    "scrolled": true
   },
   "outputs": [
    {
     "data": {
      "text/html": [
       "<div>\n",
       "<style scoped>\n",
       "    .dataframe tbody tr th:only-of-type {\n",
       "        vertical-align: middle;\n",
       "    }\n",
       "\n",
       "    .dataframe tbody tr th {\n",
       "        vertical-align: top;\n",
       "    }\n",
       "\n",
       "    .dataframe thead th {\n",
       "        text-align: right;\n",
       "    }\n",
       "</style>\n",
       "<table border=\"1\" class=\"dataframe\">\n",
       "  <thead>\n",
       "    <tr style=\"text-align: right;\">\n",
       "      <th></th>\n",
       "      <th>family_status_id</th>\n",
       "      <th>family_status</th>\n",
       "    </tr>\n",
       "  </thead>\n",
       "  <tbody>\n",
       "    <tr>\n",
       "      <td>0</td>\n",
       "      <td>0</td>\n",
       "      <td>женат / замужем</td>\n",
       "    </tr>\n",
       "    <tr>\n",
       "      <td>1</td>\n",
       "      <td>1</td>\n",
       "      <td>гражданский брак</td>\n",
       "    </tr>\n",
       "    <tr>\n",
       "      <td>2</td>\n",
       "      <td>2</td>\n",
       "      <td>вдовец / вдова</td>\n",
       "    </tr>\n",
       "    <tr>\n",
       "      <td>3</td>\n",
       "      <td>3</td>\n",
       "      <td>в разводе</td>\n",
       "    </tr>\n",
       "    <tr>\n",
       "      <td>4</td>\n",
       "      <td>4</td>\n",
       "      <td>не женат / не замужем</td>\n",
       "    </tr>\n",
       "  </tbody>\n",
       "</table>\n",
       "</div>"
      ],
      "text/plain": [
       "   family_status_id          family_status\n",
       "0                 0        женат / замужем\n",
       "1                 1       гражданский брак\n",
       "2                 2         вдовец / вдова\n",
       "3                 3              в разводе\n",
       "4                 4  не женат / не замужем"
      ]
     },
     "execution_count": 37,
     "metadata": {},
     "output_type": "execute_result"
    }
   ],
   "source": [
    "# обработка столбца 'family_status' по аналогии с указанным выше подходом\n",
    "rest_dict_family_status = df[['family_status_id', 'family_status']]\n",
    "rest_dict_family_status = rest_dict_family_status.drop_duplicates().reset_index(drop=True)\n",
    "rest_dict_family_status.head()"
   ]
  },
  {
   "cell_type": "code",
   "execution_count": 38,
   "metadata": {},
   "outputs": [
    {
     "data": {
      "text/plain": [
       "ниже среднего    5479\n",
       "высокий          5363\n",
       "низкий           5363\n",
       "выше среднего    5247\n",
       "Name: total_income_group, dtype: int64"
      ]
     },
     "execution_count": 38,
     "metadata": {},
     "output_type": "execute_result"
    }
   ],
   "source": [
    "# обработка столбца 'total_income'\n",
    "# разделим уровень дохода на четыре (4) последовательные приблизительно равные по количеству условные группы – 'низкий', 'ниже среднего', 'выше среднего' и 'высокий'\n",
    "\n",
    "labels = ['низкий', 'ниже среднего', 'выше среднего', 'высокий']\n",
    "\n",
    "df['total_income_group'] = pd.qcut(df['total_income'], 4, labels=labels)\n",
    "\n",
    "df['total_income_group'].value_counts()"
   ]
  },
  {
   "cell_type": "markdown",
   "metadata": {},
   "source": [
    "**Вывод**"
   ]
  },
  {
   "cell_type": "markdown",
   "metadata": {},
   "source": [
    "Применение категоризации позволяет получать из большого массива данных, представленных как в строковом, так и в числовом виде, компактное представление информации. Такой подход упрощает восприятие данных и делает их дальнейшую обработку менее ресурсозатратной."
   ]
  },
  {
   "cell_type": "markdown",
   "metadata": {},
   "source": [
    "## Ответы на вопросы"
   ]
  },
  {
   "cell_type": "markdown",
   "metadata": {},
   "source": [
    "- Есть ли зависимость между наличием детей и возвратом кредита в срок?"
   ]
  },
  {
   "cell_type": "code",
   "execution_count": 39,
   "metadata": {
    "scrolled": true
   },
   "outputs": [
    {
     "data": {
      "text/html": [
       "<div>\n",
       "<style scoped>\n",
       "    .dataframe tbody tr th:only-of-type {\n",
       "        vertical-align: middle;\n",
       "    }\n",
       "\n",
       "    .dataframe tbody tr th {\n",
       "        vertical-align: top;\n",
       "    }\n",
       "\n",
       "    .dataframe thead th {\n",
       "        text-align: right;\n",
       "    }\n",
       "</style>\n",
       "<table border=\"1\" class=\"dataframe\">\n",
       "  <thead>\n",
       "    <tr style=\"text-align: right;\">\n",
       "      <th>debt</th>\n",
       "      <th>0</th>\n",
       "      <th>1</th>\n",
       "      <th>0 %</th>\n",
       "      <th>1 %</th>\n",
       "    </tr>\n",
       "    <tr>\n",
       "      <th>children</th>\n",
       "      <th></th>\n",
       "      <th></th>\n",
       "      <th></th>\n",
       "      <th></th>\n",
       "    </tr>\n",
       "  </thead>\n",
       "  <tbody>\n",
       "    <tr>\n",
       "      <td>0</td>\n",
       "      <td>13026.0</td>\n",
       "      <td>1063.0</td>\n",
       "      <td>92.5%</td>\n",
       "      <td>7.5%</td>\n",
       "    </tr>\n",
       "    <tr>\n",
       "      <td>1</td>\n",
       "      <td>4410.0</td>\n",
       "      <td>445.0</td>\n",
       "      <td>90.8%</td>\n",
       "      <td>9.2%</td>\n",
       "    </tr>\n",
       "    <tr>\n",
       "      <td>2</td>\n",
       "      <td>1858.0</td>\n",
       "      <td>194.0</td>\n",
       "      <td>90.5%</td>\n",
       "      <td>9.5%</td>\n",
       "    </tr>\n",
       "    <tr>\n",
       "      <td>3</td>\n",
       "      <td>303.0</td>\n",
       "      <td>27.0</td>\n",
       "      <td>91.8%</td>\n",
       "      <td>8.2%</td>\n",
       "    </tr>\n",
       "    <tr>\n",
       "      <td>4</td>\n",
       "      <td>37.0</td>\n",
       "      <td>4.0</td>\n",
       "      <td>90.2%</td>\n",
       "      <td>9.8%</td>\n",
       "    </tr>\n",
       "    <tr>\n",
       "      <td>5</td>\n",
       "      <td>9.0</td>\n",
       "      <td>NaN</td>\n",
       "      <td>100.0%</td>\n",
       "      <td>nan%</td>\n",
       "    </tr>\n",
       "    <tr>\n",
       "      <td>20</td>\n",
       "      <td>68.0</td>\n",
       "      <td>8.0</td>\n",
       "      <td>89.5%</td>\n",
       "      <td>10.5%</td>\n",
       "    </tr>\n",
       "  </tbody>\n",
       "</table>\n",
       "</div>"
      ],
      "text/plain": [
       "debt            0       1     0 %    1 %\n",
       "children                                \n",
       "0         13026.0  1063.0   92.5%   7.5%\n",
       "1          4410.0   445.0   90.8%   9.2%\n",
       "2          1858.0   194.0   90.5%   9.5%\n",
       "3           303.0    27.0   91.8%   8.2%\n",
       "4            37.0     4.0   90.2%   9.8%\n",
       "5             9.0     NaN  100.0%   nan%\n",
       "20           68.0     8.0   89.5%  10.5%"
      ]
     },
     "execution_count": 39,
     "metadata": {},
     "output_type": "execute_result"
    }
   ],
   "source": [
    "# построим сводную таблицу\n",
    "data_pivot_debt = df.pivot_table(index=[df['children']],\n",
    "                                 columns='debt',\n",
    "                                 values='children',\n",
    "                                 aggfunc='count')\n",
    "\n",
    "\n",
    "# вывод данных в процентах, %\n",
    "data_pivot_debt_percent = data_pivot_debt.div(data_pivot_debt.sum(axis=1),\n",
    "                                              axis=0).applymap(lambda x: \"{0:.1f}%\".format(100*x))\n",
    "\n",
    "# объединим обе таблицы\n",
    "data_pivot_debt.merge(data_pivot_debt_percent, left_on='children', right_on='children', suffixes=('', ' %'))"
   ]
  },
  {
   "cell_type": "markdown",
   "metadata": {},
   "source": [
    "**Вывод**"
   ]
  },
  {
   "cell_type": "markdown",
   "metadata": {},
   "source": [
    "Установлена зависимость между наличием детей и возвратом кредита в срок. Заемщиков без детей или с детьми и с непогашенным кредитом (1) кратно (приблизительно в 12 раз) меньше тех, кто не имеет обязательств перед банком (0). Преобладающее большинство заемщиков соблюдают финансовую дисциплину.  \n",
    "**Примечание:** заемщик(-и) с количеством детей 5 и непогашенным кредитом (1) в исходных данных отсутствует."
   ]
  },
  {
   "cell_type": "markdown",
   "metadata": {},
   "source": [
    "- Есть ли зависимость между семейным положением и возвратом кредита в срок?"
   ]
  },
  {
   "cell_type": "code",
   "execution_count": 40,
   "metadata": {},
   "outputs": [
    {
     "data": {
      "text/html": [
       "<div>\n",
       "<style scoped>\n",
       "    .dataframe tbody tr th:only-of-type {\n",
       "        vertical-align: middle;\n",
       "    }\n",
       "\n",
       "    .dataframe tbody tr th {\n",
       "        vertical-align: top;\n",
       "    }\n",
       "\n",
       "    .dataframe thead th {\n",
       "        text-align: right;\n",
       "    }\n",
       "</style>\n",
       "<table border=\"1\" class=\"dataframe\">\n",
       "  <thead>\n",
       "    <tr style=\"text-align: right;\">\n",
       "      <th>debt</th>\n",
       "      <th>0</th>\n",
       "      <th>1</th>\n",
       "      <th>0 %</th>\n",
       "      <th>1 %</th>\n",
       "    </tr>\n",
       "    <tr>\n",
       "      <th>family_status</th>\n",
       "      <th></th>\n",
       "      <th></th>\n",
       "      <th></th>\n",
       "      <th></th>\n",
       "    </tr>\n",
       "  </thead>\n",
       "  <tbody>\n",
       "    <tr>\n",
       "      <td>в разводе</td>\n",
       "      <td>1110</td>\n",
       "      <td>85</td>\n",
       "      <td>92.9%</td>\n",
       "      <td>7.1%</td>\n",
       "    </tr>\n",
       "    <tr>\n",
       "      <td>вдовец / вдова</td>\n",
       "      <td>896</td>\n",
       "      <td>63</td>\n",
       "      <td>93.4%</td>\n",
       "      <td>6.6%</td>\n",
       "    </tr>\n",
       "    <tr>\n",
       "      <td>гражданский брак</td>\n",
       "      <td>3761</td>\n",
       "      <td>388</td>\n",
       "      <td>90.6%</td>\n",
       "      <td>9.4%</td>\n",
       "    </tr>\n",
       "    <tr>\n",
       "      <td>женат / замужем</td>\n",
       "      <td>11408</td>\n",
       "      <td>931</td>\n",
       "      <td>92.5%</td>\n",
       "      <td>7.5%</td>\n",
       "    </tr>\n",
       "    <tr>\n",
       "      <td>не женат / не замужем</td>\n",
       "      <td>2536</td>\n",
       "      <td>274</td>\n",
       "      <td>90.2%</td>\n",
       "      <td>9.8%</td>\n",
       "    </tr>\n",
       "  </tbody>\n",
       "</table>\n",
       "</div>"
      ],
      "text/plain": [
       "debt                       0    1    0 %   1 %\n",
       "family_status                                 \n",
       "в разводе               1110   85  92.9%  7.1%\n",
       "вдовец / вдова           896   63  93.4%  6.6%\n",
       "гражданский брак        3761  388  90.6%  9.4%\n",
       "женат / замужем        11408  931  92.5%  7.5%\n",
       "не женат / не замужем   2536  274  90.2%  9.8%"
      ]
     },
     "execution_count": 40,
     "metadata": {},
     "output_type": "execute_result"
    }
   ],
   "source": [
    "# построим сводную таблицу\n",
    "data_pivot_family_status = df.pivot_table(index=[df['family_status']],\n",
    "                                 columns='debt',\n",
    "                                 values='family_status',\n",
    "                                 aggfunc='count')\n",
    "\n",
    "# вывод данных в процентах, %\n",
    "data_pivot_family_status_percent = data_pivot_family_status.div(data_pivot_family_status.sum(axis=1), \n",
    "                                                                axis=0).applymap(lambda x: \"{0:.1f}%\".format(100*x))\n",
    "\n",
    "# объединим обе таблицы\n",
    "data_pivot_family_status.merge(data_pivot_family_status_percent,\n",
    "                               left_on='family_status',\n",
    "                               right_on='family_status',\n",
    "                               suffixes=('', ' %'))"
   ]
  },
  {
   "cell_type": "markdown",
   "metadata": {},
   "source": [
    "**Вывод**"
   ]
  },
  {
   "cell_type": "markdown",
   "metadata": {},
   "source": [
    "Во всех категориях значительно преобладают люди без финансовых обязательств (0) перед банком."
   ]
  },
  {
   "cell_type": "markdown",
   "metadata": {},
   "source": [
    "- Есть ли зависимость между уровнем дохода и возвратом кредита в срок?"
   ]
  },
  {
   "cell_type": "code",
   "execution_count": 41,
   "metadata": {},
   "outputs": [
    {
     "data": {
      "text/html": [
       "<div>\n",
       "<style scoped>\n",
       "    .dataframe tbody tr th:only-of-type {\n",
       "        vertical-align: middle;\n",
       "    }\n",
       "\n",
       "    .dataframe tbody tr th {\n",
       "        vertical-align: top;\n",
       "    }\n",
       "\n",
       "    .dataframe thead th {\n",
       "        text-align: right;\n",
       "    }\n",
       "</style>\n",
       "<table border=\"1\" class=\"dataframe\">\n",
       "  <thead>\n",
       "    <tr style=\"text-align: right;\">\n",
       "      <th>debt</th>\n",
       "      <th>0</th>\n",
       "      <th>1</th>\n",
       "      <th>0 %</th>\n",
       "      <th>1 %</th>\n",
       "    </tr>\n",
       "    <tr>\n",
       "      <th>total_income_group</th>\n",
       "      <th></th>\n",
       "      <th></th>\n",
       "      <th></th>\n",
       "      <th></th>\n",
       "    </tr>\n",
       "  </thead>\n",
       "  <tbody>\n",
       "    <tr>\n",
       "      <td>низкий</td>\n",
       "      <td>4936</td>\n",
       "      <td>427</td>\n",
       "      <td>92.0%</td>\n",
       "      <td>8.0%</td>\n",
       "    </tr>\n",
       "    <tr>\n",
       "      <td>ниже среднего</td>\n",
       "      <td>4996</td>\n",
       "      <td>483</td>\n",
       "      <td>91.2%</td>\n",
       "      <td>8.8%</td>\n",
       "    </tr>\n",
       "    <tr>\n",
       "      <td>выше среднего</td>\n",
       "      <td>4799</td>\n",
       "      <td>448</td>\n",
       "      <td>91.5%</td>\n",
       "      <td>8.5%</td>\n",
       "    </tr>\n",
       "    <tr>\n",
       "      <td>высокий</td>\n",
       "      <td>4980</td>\n",
       "      <td>383</td>\n",
       "      <td>92.9%</td>\n",
       "      <td>7.1%</td>\n",
       "    </tr>\n",
       "  </tbody>\n",
       "</table>\n",
       "</div>"
      ],
      "text/plain": [
       "debt                   0    1    0 %   1 %\n",
       "total_income_group                        \n",
       "низкий              4936  427  92.0%  8.0%\n",
       "ниже среднего       4996  483  91.2%  8.8%\n",
       "выше среднего       4799  448  91.5%  8.5%\n",
       "высокий             4980  383  92.9%  7.1%"
      ]
     },
     "execution_count": 41,
     "metadata": {},
     "output_type": "execute_result"
    }
   ],
   "source": [
    "# построим сводную таблицу\n",
    "data_pivot_total_income_group = df.pivot_table(index=[df['total_income_group']],\n",
    "                                 columns='debt',\n",
    "                                 values='total_income_group',\n",
    "                                 aggfunc='count')\n",
    "\n",
    "# вывод данных в процентах, %\n",
    "data_pivot_total_income_group_percent = data_pivot_total_income_group.div(data_pivot_total_income_group.sum(axis=1),\n",
    "                                                                          axis=0).applymap(lambda x: \"{0:.1f}%\".format(100*x))\n",
    "\n",
    "# объединим обе таблицы\n",
    "data_pivot_total_income_group.merge(data_pivot_total_income_group_percent,\n",
    "                                    left_on='total_income_group',\n",
    "                                    right_on='total_income_group',\n",
    "                                    suffixes=('', ' %'))"
   ]
  },
  {
   "cell_type": "markdown",
   "metadata": {},
   "source": [
    "**Вывод**"
   ]
  },
  {
   "cell_type": "markdown",
   "metadata": {},
   "source": [
    "Заемщики распределены равномерно по уровням достатка. При этом большая их часть старается возвращать кредиты вовремя."
   ]
  },
  {
   "cell_type": "markdown",
   "metadata": {},
   "source": [
    "- Как разные цели кредита влияют на его возврат в срок?"
   ]
  },
  {
   "cell_type": "code",
   "execution_count": 42,
   "metadata": {},
   "outputs": [
    {
     "data": {
      "text/html": [
       "<div>\n",
       "<style scoped>\n",
       "    .dataframe tbody tr th:only-of-type {\n",
       "        vertical-align: middle;\n",
       "    }\n",
       "\n",
       "    .dataframe tbody tr th {\n",
       "        vertical-align: top;\n",
       "    }\n",
       "\n",
       "    .dataframe thead th {\n",
       "        text-align: right;\n",
       "    }\n",
       "</style>\n",
       "<table border=\"1\" class=\"dataframe\">\n",
       "  <thead>\n",
       "    <tr style=\"text-align: right;\">\n",
       "      <th>debt</th>\n",
       "      <th>0</th>\n",
       "      <th>1</th>\n",
       "      <th>0 %</th>\n",
       "      <th>1 %</th>\n",
       "    </tr>\n",
       "    <tr>\n",
       "      <th>purpose_clean</th>\n",
       "      <th></th>\n",
       "      <th></th>\n",
       "      <th></th>\n",
       "      <th></th>\n",
       "    </tr>\n",
       "  </thead>\n",
       "  <tbody>\n",
       "    <tr>\n",
       "      <td>автомобиль</td>\n",
       "      <td>3903</td>\n",
       "      <td>403</td>\n",
       "      <td>90.6%</td>\n",
       "      <td>9.4%</td>\n",
       "    </tr>\n",
       "    <tr>\n",
       "      <td>недвижимость</td>\n",
       "      <td>10028</td>\n",
       "      <td>782</td>\n",
       "      <td>92.8%</td>\n",
       "      <td>7.2%</td>\n",
       "    </tr>\n",
       "    <tr>\n",
       "      <td>образование</td>\n",
       "      <td>3643</td>\n",
       "      <td>370</td>\n",
       "      <td>90.8%</td>\n",
       "      <td>9.2%</td>\n",
       "    </tr>\n",
       "    <tr>\n",
       "      <td>свадьба</td>\n",
       "      <td>2137</td>\n",
       "      <td>186</td>\n",
       "      <td>92.0%</td>\n",
       "      <td>8.0%</td>\n",
       "    </tr>\n",
       "  </tbody>\n",
       "</table>\n",
       "</div>"
      ],
      "text/plain": [
       "debt               0    1    0 %   1 %\n",
       "purpose_clean                         \n",
       "автомобиль      3903  403  90.6%  9.4%\n",
       "недвижимость   10028  782  92.8%  7.2%\n",
       "образование     3643  370  90.8%  9.2%\n",
       "свадьба         2137  186  92.0%  8.0%"
      ]
     },
     "execution_count": 42,
     "metadata": {},
     "output_type": "execute_result"
    }
   ],
   "source": [
    "# построим сводную таблицу\n",
    "data_pivot_purpose_clean = df.pivot_table(index=[df['purpose_clean']],\n",
    "                                 columns='debt',\n",
    "                                 values='purpose_clean',\n",
    "                                 aggfunc='count')\n",
    "\n",
    "# вывод данных в процентах, %\n",
    "data_pivot_purpose_clean_percent = data_pivot_purpose_clean.div(data_pivot_purpose_clean.sum(axis=1),\n",
    "                                                                axis=0).applymap(lambda x: \"{0:.1f}%\".format(100*x))\n",
    "\n",
    "# объединим обе таблицы\n",
    "data_pivot_purpose_clean.merge(data_pivot_purpose_clean_percent,\n",
    "                               left_on='purpose_clean',\n",
    "                               right_on='purpose_clean',\n",
    "                               suffixes=('', ' %'))"
   ]
  },
  {
   "cell_type": "markdown",
   "metadata": {},
   "source": [
    "**Вывод**"
   ]
  },
  {
   "cell_type": "markdown",
   "metadata": {},
   "source": [
    "Лидирующее место занимают кредиты на покупку недвижимости. Второе и третье место делят кредиты на приобретение автомобиля и получения образования соответственно. Во всех случаях количество заёмщиков с обязательствами перед банком (1) в меньшинстве."
   ]
  },
  {
   "cell_type": "markdown",
   "metadata": {},
   "source": [
    "## Общий вывод"
   ]
  },
  {
   "cell_type": "markdown",
   "metadata": {},
   "source": [
    "В ходе выполненного анализа входных данных от банка со статистикой о платёжеспособности клиентов, была выявлена взаимосвязь между различными категориями клиентов и фактом возврата кредита заёмщиком.\n",
    "\n",
    "С увеличением числа детей в семье, количество желающих взять кредит в банке резко сокращается. Охотнее всего пользуются кредитом люди без детей. Среди них наблюдается наибольший процент возврата 92.5% заема.\n",
    "\n",
    "Меньше всего нарушителей финансовой дисциплины в категории вдовец / вдова, а именно 6.6%.\n",
    "\n",
    "Наблюдается востребованность в заемных средствах всеми категориям.\n",
    "\n",
    "Среди приоритетных целей кредита ожидаемо на первом месте стоит приобретением недвижимости.\n",
    "\n",
    "В целом можно констатировать, что для всех рассмотренных случаев нарушители финансовой дисциплины составляют меньшинство – до 10.5%. По рассматриваемым категориям:\n",
    "* заемщики без детей: количество лиц, вернувший кредит, превышает приблизительно в 12 раз нарушителей финансовой дисциплины (13026 / 1063)  \n",
    "* семейные люди: количество лиц, вернувший кредит, превышает приблизительно в 12 раз нарушителей финансовой дисциплины  \n",
    "* заемщики с низким уровнем дохода: количество лиц, вернувший кредит, превышает приблизительно в 11 раз нарушителей финансовой дисциплины  \n",
    "* заемщики, взявшие кредит на приобретение недвижимости: количество лиц, вернувший кредит, превышает приблизительно в 13 раз нарушителей финансовой дисциплины  "
   ]
  }
 ],
 "metadata": {
  "ExecuteTimeLog": [
   {
    "duration": 746,
    "start_time": "2021-10-28T08:17:07.504Z"
   },
   {
    "duration": 895,
    "start_time": "2021-10-28T08:20:25.205Z"
   },
   {
    "duration": 31,
    "start_time": "2021-10-28T08:21:50.871Z"
   },
   {
    "duration": 22,
    "start_time": "2021-10-28T08:22:00.020Z"
   },
   {
    "duration": 18,
    "start_time": "2021-10-28T08:22:58.642Z"
   },
   {
    "duration": 17,
    "start_time": "2021-10-28T08:23:29.823Z"
   },
   {
    "duration": 17,
    "start_time": "2021-10-28T08:23:34.208Z"
   },
   {
    "duration": 23,
    "start_time": "2021-10-28T08:24:01.972Z"
   },
   {
    "duration": 24,
    "start_time": "2021-10-28T08:24:19.265Z"
   },
   {
    "duration": 31,
    "start_time": "2021-10-28T08:24:29.586Z"
   },
   {
    "duration": 23,
    "start_time": "2021-10-28T08:25:04.622Z"
   },
   {
    "duration": 23,
    "start_time": "2021-10-28T08:25:57.291Z"
   },
   {
    "duration": 54,
    "start_time": "2021-10-28T08:28:47.333Z"
   },
   {
    "duration": 14,
    "start_time": "2021-10-28T08:29:49.433Z"
   },
   {
    "duration": 6,
    "start_time": "2021-10-28T08:42:05.054Z"
   },
   {
    "duration": 5,
    "start_time": "2021-10-28T08:42:23.049Z"
   },
   {
    "duration": 7,
    "start_time": "2021-10-28T08:42:31.561Z"
   },
   {
    "duration": 8,
    "start_time": "2021-10-28T08:45:14.989Z"
   },
   {
    "duration": 362,
    "start_time": "2021-10-28T08:45:54.430Z"
   },
   {
    "duration": 6,
    "start_time": "2021-10-28T08:46:13.487Z"
   },
   {
    "duration": 5,
    "start_time": "2021-10-28T08:48:28.786Z"
   },
   {
    "duration": 5,
    "start_time": "2021-10-28T08:50:37.034Z"
   },
   {
    "duration": 6,
    "start_time": "2021-10-28T08:50:49.517Z"
   },
   {
    "duration": 6,
    "start_time": "2021-10-28T08:54:17.345Z"
   },
   {
    "duration": 6,
    "start_time": "2021-10-28T08:54:23.561Z"
   },
   {
    "duration": 19,
    "start_time": "2021-10-28T08:55:39.854Z"
   },
   {
    "duration": 18,
    "start_time": "2021-10-28T08:55:53.943Z"
   },
   {
    "duration": 19,
    "start_time": "2021-10-28T08:55:58.215Z"
   },
   {
    "duration": 63,
    "start_time": "2021-10-28T09:41:01.016Z"
   },
   {
    "duration": 7,
    "start_time": "2021-10-28T10:55:24.534Z"
   },
   {
    "duration": 6,
    "start_time": "2021-10-28T10:57:36.564Z"
   },
   {
    "duration": 15,
    "start_time": "2021-10-28T11:01:17.226Z"
   },
   {
    "duration": 22,
    "start_time": "2021-10-28T11:01:57.817Z"
   },
   {
    "duration": 16,
    "start_time": "2021-10-28T11:02:26.960Z"
   },
   {
    "duration": 15,
    "start_time": "2021-10-28T11:03:47.381Z"
   },
   {
    "duration": 54,
    "start_time": "2021-10-28T11:04:05.914Z"
   },
   {
    "duration": 13,
    "start_time": "2021-10-28T11:04:18.692Z"
   },
   {
    "duration": 62,
    "start_time": "2021-10-28T11:04:35.515Z"
   },
   {
    "duration": 5,
    "start_time": "2021-10-28T11:04:47.100Z"
   },
   {
    "duration": 5,
    "start_time": "2021-10-28T11:04:51.645Z"
   },
   {
    "duration": 288,
    "start_time": "2021-10-28T11:04:55.975Z"
   },
   {
    "duration": 5,
    "start_time": "2021-10-28T11:05:07.812Z"
   },
   {
    "duration": 12,
    "start_time": "2021-10-28T11:10:55.317Z"
   },
   {
    "duration": 49,
    "start_time": "2021-10-28T11:11:12.564Z"
   },
   {
    "duration": 10,
    "start_time": "2021-10-28T11:12:12.046Z"
   },
   {
    "duration": 46,
    "start_time": "2021-10-28T11:12:39.602Z"
   },
   {
    "duration": 3,
    "start_time": "2021-10-28T11:13:46.183Z"
   },
   {
    "duration": 65,
    "start_time": "2021-10-28T11:14:20.775Z"
   },
   {
    "duration": 18,
    "start_time": "2021-10-28T11:16:24.494Z"
   },
   {
    "duration": 4,
    "start_time": "2021-10-28T11:21:08.054Z"
   },
   {
    "duration": 9,
    "start_time": "2021-10-28T11:28:41.746Z"
   },
   {
    "duration": 150,
    "start_time": "2021-10-28T11:38:52.888Z"
   },
   {
    "duration": 599,
    "start_time": "2021-10-28T11:39:00.744Z"
   },
   {
    "duration": 48,
    "start_time": "2021-10-28T11:39:24.696Z"
   },
   {
    "duration": 613,
    "start_time": "2021-10-28T11:53:37.043Z"
   },
   {
    "duration": 47,
    "start_time": "2021-10-28T11:53:39.250Z"
   },
   {
    "duration": 3825,
    "start_time": "2021-10-28T11:54:41.085Z"
   },
   {
    "duration": 64,
    "start_time": "2021-10-28T11:54:48.973Z"
   },
   {
    "duration": 50,
    "start_time": "2021-10-28T11:54:54.855Z"
   },
   {
    "duration": 18,
    "start_time": "2021-10-28T11:55:00.344Z"
   },
   {
    "duration": 4299,
    "start_time": "2021-10-28T11:55:07.353Z"
   },
   {
    "duration": -9151,
    "start_time": "2021-10-28T11:55:20.807Z"
   },
   {
    "duration": 967,
    "start_time": "2021-10-28T11:55:41.014Z"
   },
   {
    "duration": 48,
    "start_time": "2021-10-28T11:55:43.893Z"
   },
   {
    "duration": 17,
    "start_time": "2021-10-28T11:56:36.442Z"
   },
   {
    "duration": 66,
    "start_time": "2021-10-28T11:59:25.600Z"
   },
   {
    "duration": 17,
    "start_time": "2021-10-28T11:59:36.628Z"
   },
   {
    "duration": 601,
    "start_time": "2021-10-28T11:59:40.317Z"
   },
   {
    "duration": 47,
    "start_time": "2021-10-28T11:59:45.134Z"
   },
   {
    "duration": 19,
    "start_time": "2021-10-28T11:59:54.221Z"
   },
   {
    "duration": 83,
    "start_time": "2021-10-28T12:00:49.910Z"
   },
   {
    "duration": 26,
    "start_time": "2021-10-28T12:00:58.566Z"
   },
   {
    "duration": 959,
    "start_time": "2021-10-28T12:01:02.671Z"
   },
   {
    "duration": 64,
    "start_time": "2021-10-28T12:01:04.534Z"
   },
   {
    "duration": 949,
    "start_time": "2021-10-28T12:04:02.389Z"
   },
   {
    "duration": 6,
    "start_time": "2021-10-28T12:15:10.147Z"
   },
   {
    "duration": 13,
    "start_time": "2021-10-28T12:18:52.502Z"
   },
   {
    "duration": 7,
    "start_time": "2021-10-28T12:36:56.117Z"
   },
   {
    "duration": 19,
    "start_time": "2021-10-28T12:37:13.545Z"
   },
   {
    "duration": 7,
    "start_time": "2021-10-28T12:40:04.420Z"
   },
   {
    "duration": 15,
    "start_time": "2021-10-28T12:40:05.495Z"
   },
   {
    "duration": 17,
    "start_time": "2021-10-28T12:40:39.697Z"
   },
   {
    "duration": 8,
    "start_time": "2021-10-28T12:40:43.540Z"
   },
   {
    "duration": 15,
    "start_time": "2021-10-28T12:40:45.580Z"
   },
   {
    "duration": 13,
    "start_time": "2021-10-28T12:41:27.122Z"
   },
   {
    "duration": 9,
    "start_time": "2021-10-28T12:47:57.548Z"
   },
   {
    "duration": 12,
    "start_time": "2021-10-28T12:48:12.139Z"
   },
   {
    "duration": 12,
    "start_time": "2021-10-28T12:48:38.057Z"
   },
   {
    "duration": 13,
    "start_time": "2021-10-28T12:49:14.741Z"
   },
   {
    "duration": 14,
    "start_time": "2021-10-28T12:50:14.014Z"
   },
   {
    "duration": 14,
    "start_time": "2021-10-28T12:51:17.596Z"
   },
   {
    "duration": 121,
    "start_time": "2021-10-28T12:51:48.801Z"
   },
   {
    "duration": 11,
    "start_time": "2021-10-28T12:51:52.081Z"
   },
   {
    "duration": 11,
    "start_time": "2021-10-28T12:52:38.656Z"
   },
   {
    "duration": 1390,
    "start_time": "2021-10-28T12:58:19.011Z"
   },
   {
    "duration": 516,
    "start_time": "2021-10-28T13:04:41.568Z"
   },
   {
    "duration": 1984,
    "start_time": "2021-10-28T13:07:13.126Z"
   },
   {
    "duration": 634,
    "start_time": "2021-10-28T13:11:50.282Z"
   },
   {
    "duration": 483,
    "start_time": "2021-10-28T13:13:40.160Z"
   },
   {
    "duration": 1381,
    "start_time": "2021-10-28T13:13:47.711Z"
   },
   {
    "duration": 7,
    "start_time": "2021-10-28T13:15:31.935Z"
   },
   {
    "duration": 9,
    "start_time": "2021-10-28T13:15:34.126Z"
   },
   {
    "duration": 9,
    "start_time": "2021-10-28T13:16:51.371Z"
   },
   {
    "duration": 6,
    "start_time": "2021-10-28T13:17:24.391Z"
   },
   {
    "duration": 11,
    "start_time": "2021-10-28T13:20:38.530Z"
   },
   {
    "duration": 10,
    "start_time": "2021-10-28T13:23:35.755Z"
   },
   {
    "duration": 10,
    "start_time": "2021-10-28T13:23:43.818Z"
   },
   {
    "duration": 15,
    "start_time": "2021-10-28T13:33:37.380Z"
   },
   {
    "duration": 284,
    "start_time": "2021-10-28T13:43:42.696Z"
   },
   {
    "duration": 5,
    "start_time": "2021-10-28T13:44:01.680Z"
   },
   {
    "duration": 19,
    "start_time": "2021-10-28T13:44:14.419Z"
   },
   {
    "duration": 17,
    "start_time": "2021-10-28T13:44:17.091Z"
   },
   {
    "duration": 14,
    "start_time": "2021-10-28T13:55:06.318Z"
   },
   {
    "duration": 8,
    "start_time": "2021-10-28T16:14:30.639Z"
   },
   {
    "duration": 10,
    "start_time": "2021-10-28T16:14:44.291Z"
   },
   {
    "duration": 11,
    "start_time": "2021-10-28T16:20:37.080Z"
   },
   {
    "duration": 9,
    "start_time": "2021-10-28T16:20:59.953Z"
   },
   {
    "duration": 11,
    "start_time": "2021-10-28T16:23:04.982Z"
   },
   {
    "duration": 16,
    "start_time": "2021-10-28T16:24:05.051Z"
   },
   {
    "duration": 12,
    "start_time": "2021-10-28T16:24:15.478Z"
   },
   {
    "duration": 280,
    "start_time": "2021-10-28T16:25:00.299Z"
   },
   {
    "duration": 25,
    "start_time": "2021-10-28T16:29:10.573Z"
   },
   {
    "duration": 22,
    "start_time": "2021-10-28T16:30:02.945Z"
   },
   {
    "duration": 50,
    "start_time": "2021-10-28T16:30:56.522Z"
   },
   {
    "duration": 23,
    "start_time": "2021-10-28T16:31:34.490Z"
   },
   {
    "duration": 27,
    "start_time": "2021-10-28T16:31:53.506Z"
   },
   {
    "duration": 23,
    "start_time": "2021-10-28T16:32:02.052Z"
   },
   {
    "duration": 21,
    "start_time": "2021-10-28T16:32:11.197Z"
   },
   {
    "duration": 8,
    "start_time": "2021-10-28T16:37:29.628Z"
   },
   {
    "duration": 11,
    "start_time": "2021-10-28T16:37:40.424Z"
   },
   {
    "duration": 11,
    "start_time": "2021-10-28T16:40:19.103Z"
   },
   {
    "duration": 10,
    "start_time": "2021-10-28T16:40:33.454Z"
   },
   {
    "duration": 10,
    "start_time": "2021-10-28T16:43:17.160Z"
   },
   {
    "duration": 10,
    "start_time": "2021-10-28T16:43:22.318Z"
   },
   {
    "duration": 11,
    "start_time": "2021-10-28T16:45:39.020Z"
   },
   {
    "duration": 9,
    "start_time": "2021-10-28T16:47:48.119Z"
   },
   {
    "duration": 292,
    "start_time": "2021-10-28T16:48:34.741Z"
   },
   {
    "duration": 2188,
    "start_time": "2021-10-28T17:01:17.754Z"
   },
   {
    "duration": 12458,
    "start_time": "2021-10-28T17:02:03.663Z"
   },
   {
    "duration": 11,
    "start_time": "2021-10-28T17:02:31.251Z"
   },
   {
    "duration": 28,
    "start_time": "2021-10-28T17:02:35.831Z"
   },
   {
    "duration": 12948,
    "start_time": "2021-10-28T17:02:38.434Z"
   },
   {
    "duration": 1242,
    "start_time": "2021-10-28T17:19:25.632Z"
   },
   {
    "duration": 89,
    "start_time": "2021-10-28T17:20:14.525Z"
   },
   {
    "duration": 101,
    "start_time": "2021-10-28T17:20:32.101Z"
   },
   {
    "duration": 92,
    "start_time": "2021-10-28T17:20:40.539Z"
   },
   {
    "duration": 135,
    "start_time": "2021-10-28T17:20:45.601Z"
   },
   {
    "duration": 4,
    "start_time": "2021-10-28T17:20:51.482Z"
   },
   {
    "duration": 3765,
    "start_time": "2021-10-28T17:21:00.545Z"
   },
   {
    "duration": 12,
    "start_time": "2021-10-28T17:21:16.885Z"
   },
   {
    "duration": 12,
    "start_time": "2021-10-28T17:21:23.495Z"
   },
   {
    "duration": 3693,
    "start_time": "2021-10-28T17:22:26.107Z"
   },
   {
    "duration": 20,
    "start_time": "2021-10-28T17:22:35.911Z"
   },
   {
    "duration": 20,
    "start_time": "2021-10-28T17:23:15.409Z"
   },
   {
    "duration": 3940,
    "start_time": "2021-10-28T17:24:05.643Z"
   },
   {
    "duration": 22,
    "start_time": "2021-10-28T17:24:09.586Z"
   },
   {
    "duration": 92,
    "start_time": "2021-10-28T17:24:30.599Z"
   },
   {
    "duration": 358,
    "start_time": "2021-10-28T17:24:42.425Z"
   },
   {
    "duration": 3747,
    "start_time": "2021-10-28T17:24:54.880Z"
   },
   {
    "duration": 1246,
    "start_time": "2021-10-28T17:25:03.237Z"
   },
   {
    "duration": 4271,
    "start_time": "2021-10-28T17:25:14.997Z"
   },
   {
    "duration": 25,
    "start_time": "2021-10-28T17:25:20.526Z"
   },
   {
    "duration": 1342,
    "start_time": "2021-10-28T17:26:41.995Z"
   },
   {
    "duration": 3806,
    "start_time": "2021-10-28T17:26:47.708Z"
   },
   {
    "duration": 20,
    "start_time": "2021-10-28T17:26:53.707Z"
   },
   {
    "duration": 3716,
    "start_time": "2021-10-28T17:27:10.835Z"
   },
   {
    "duration": 29,
    "start_time": "2021-10-28T17:27:14.554Z"
   },
   {
    "duration": 3794,
    "start_time": "2021-10-28T17:27:49.880Z"
   },
   {
    "duration": 20,
    "start_time": "2021-10-28T17:27:54.901Z"
   },
   {
    "duration": 3783,
    "start_time": "2021-10-28T17:28:10.796Z"
   },
   {
    "duration": 21,
    "start_time": "2021-10-28T17:28:16.101Z"
   },
   {
    "duration": 35,
    "start_time": "2021-10-28T17:32:50.353Z"
   },
   {
    "duration": 4002,
    "start_time": "2021-10-28T17:37:15.191Z"
   },
   {
    "duration": 32,
    "start_time": "2021-10-28T17:37:19.196Z"
   },
   {
    "duration": 4335,
    "start_time": "2021-10-28T17:38:56.411Z"
   },
   {
    "duration": 45,
    "start_time": "2021-10-28T17:39:00.749Z"
   },
   {
    "duration": 20,
    "start_time": "2021-10-28T17:39:19.496Z"
   },
   {
    "duration": 829,
    "start_time": "2021-10-28T17:43:59.692Z"
   },
   {
    "duration": 31,
    "start_time": "2021-10-28T17:44:04.230Z"
   },
   {
    "duration": 6,
    "start_time": "2021-10-28T17:44:07.071Z"
   },
   {
    "duration": 23,
    "start_time": "2021-10-28T17:44:09.096Z"
   },
   {
    "duration": 50,
    "start_time": "2021-10-28T17:44:12.295Z"
   },
   {
    "duration": 16,
    "start_time": "2021-10-28T17:44:16.831Z"
   },
   {
    "duration": 18,
    "start_time": "2021-10-28T17:44:19.906Z"
   },
   {
    "duration": 615,
    "start_time": "2021-10-28T17:44:27.945Z"
   },
   {
    "duration": 8,
    "start_time": "2021-10-28T17:44:33.465Z"
   },
   {
    "duration": 13,
    "start_time": "2021-10-28T17:44:36.146Z"
   },
   {
    "duration": 10,
    "start_time": "2021-10-28T17:44:39.603Z"
   },
   {
    "duration": 7,
    "start_time": "2021-10-28T17:44:42.754Z"
   },
   {
    "duration": 9,
    "start_time": "2021-10-28T17:44:45.858Z"
   },
   {
    "duration": 10,
    "start_time": "2021-10-28T17:44:48.036Z"
   },
   {
    "duration": 8,
    "start_time": "2021-10-28T17:44:51.012Z"
   },
   {
    "duration": 9,
    "start_time": "2021-10-28T17:44:53.412Z"
   },
   {
    "duration": 15,
    "start_time": "2021-10-28T17:44:57.302Z"
   },
   {
    "duration": 7,
    "start_time": "2021-10-28T17:45:00.116Z"
   },
   {
    "duration": 17,
    "start_time": "2021-10-28T17:45:02.261Z"
   },
   {
    "duration": 10,
    "start_time": "2021-10-28T17:45:07.775Z"
   },
   {
    "duration": 16,
    "start_time": "2021-10-28T17:45:11.642Z"
   },
   {
    "duration": 12,
    "start_time": "2021-10-28T17:45:12.850Z"
   },
   {
    "duration": 26,
    "start_time": "2021-10-28T17:45:14.017Z"
   },
   {
    "duration": 25,
    "start_time": "2021-10-28T17:45:16.198Z"
   },
   {
    "duration": 22,
    "start_time": "2021-10-28T17:45:17.170Z"
   },
   {
    "duration": 11,
    "start_time": "2021-10-28T17:45:21.327Z"
   },
   {
    "duration": 9,
    "start_time": "2021-10-28T17:45:25.837Z"
   },
   {
    "duration": 4650,
    "start_time": "2021-10-28T17:45:39.030Z"
   },
   {
    "duration": 19,
    "start_time": "2021-10-28T17:45:46.535Z"
   },
   {
    "duration": 27,
    "start_time": "2021-10-28T17:47:25.842Z"
   },
   {
    "duration": 26,
    "start_time": "2021-10-28T17:51:30.930Z"
   },
   {
    "duration": 12,
    "start_time": "2021-10-28T17:51:51.803Z"
   },
   {
    "duration": 15,
    "start_time": "2021-10-28T17:52:06.835Z"
   },
   {
    "duration": 14,
    "start_time": "2021-10-28T17:52:20.767Z"
   },
   {
    "duration": 10,
    "start_time": "2021-10-28T17:52:31.351Z"
   },
   {
    "duration": 11,
    "start_time": "2021-10-28T17:52:39.639Z"
   },
   {
    "duration": 11,
    "start_time": "2021-10-28T17:52:50.361Z"
   },
   {
    "duration": 9,
    "start_time": "2021-10-28T17:52:56.876Z"
   },
   {
    "duration": 6,
    "start_time": "2021-10-28T17:53:06.971Z"
   },
   {
    "duration": 6,
    "start_time": "2021-10-28T17:53:14.645Z"
   },
   {
    "duration": 434,
    "start_time": "2021-10-28T17:53:32.721Z"
   },
   {
    "duration": 618,
    "start_time": "2021-10-28T17:53:52.897Z"
   },
   {
    "duration": 89,
    "start_time": "2021-10-28T17:53:59.673Z"
   },
   {
    "duration": 601,
    "start_time": "2021-10-28T17:54:13.286Z"
   },
   {
    "duration": 93,
    "start_time": "2021-10-28T17:54:18.951Z"
   },
   {
    "duration": 605,
    "start_time": "2021-10-28T17:54:23.439Z"
   },
   {
    "duration": 87,
    "start_time": "2021-10-28T17:54:38.250Z"
   },
   {
    "duration": 1863,
    "start_time": "2021-10-28T17:54:42.858Z"
   },
   {
    "duration": 20,
    "start_time": "2021-10-28T17:55:20.167Z"
   },
   {
    "duration": 1821,
    "start_time": "2021-10-28T18:00:09.297Z"
   },
   {
    "duration": 62,
    "start_time": "2021-10-28T18:00:22.813Z"
   },
   {
    "duration": 3750,
    "start_time": "2021-10-28T18:00:31.021Z"
   },
   {
    "duration": 19,
    "start_time": "2021-10-28T18:00:34.774Z"
   },
   {
    "duration": 489,
    "start_time": "2021-10-29T06:35:24.639Z"
   },
   {
    "duration": 871,
    "start_time": "2021-10-29T06:35:42.895Z"
   },
   {
    "duration": 2246,
    "start_time": "2021-10-29T06:35:53.897Z"
   },
   {
    "duration": 9,
    "start_time": "2021-10-29T06:36:14.731Z"
   },
   {
    "duration": 4563,
    "start_time": "2021-10-29T06:36:18.737Z"
   },
   {
    "duration": 582,
    "start_time": "2021-10-29T08:16:46.428Z"
   },
   {
    "duration": 12,
    "start_time": "2021-10-29T08:16:54.925Z"
   },
   {
    "duration": 333,
    "start_time": "2021-10-29T08:16:57.799Z"
   },
   {
    "duration": 5,
    "start_time": "2021-10-29T08:17:00.438Z"
   },
   {
    "duration": 14,
    "start_time": "2021-10-29T08:17:01.157Z"
   },
   {
    "duration": 8,
    "start_time": "2021-10-29T08:17:05.093Z"
   },
   {
    "duration": 5,
    "start_time": "2021-10-29T08:17:08.495Z"
   },
   {
    "duration": 6,
    "start_time": "2021-10-29T08:17:10.175Z"
   },
   {
    "duration": 7,
    "start_time": "2021-10-29T08:17:12.751Z"
   },
   {
    "duration": 7,
    "start_time": "2021-10-29T08:17:14.967Z"
   },
   {
    "duration": 7,
    "start_time": "2021-10-29T08:17:16.015Z"
   },
   {
    "duration": 4,
    "start_time": "2021-10-29T08:17:21.192Z"
   },
   {
    "duration": 8,
    "start_time": "2021-10-29T08:17:24.393Z"
   },
   {
    "duration": 11,
    "start_time": "2021-10-29T08:17:27.705Z"
   },
   {
    "duration": 10,
    "start_time": "2021-10-29T08:17:30.378Z"
   },
   {
    "duration": 17,
    "start_time": "2021-10-29T08:17:33.097Z"
   },
   {
    "duration": 19,
    "start_time": "2021-10-29T08:17:35.634Z"
   },
   {
    "duration": 16,
    "start_time": "2021-10-29T08:17:37.730Z"
   },
   {
    "duration": 7,
    "start_time": "2021-10-29T08:17:40.826Z"
   },
   {
    "duration": 5,
    "start_time": "2021-10-29T08:17:43.083Z"
   },
   {
    "duration": 3318,
    "start_time": "2021-10-29T08:17:45.756Z"
   },
   {
    "duration": 25,
    "start_time": "2021-10-29T08:17:49.076Z"
   },
   {
    "duration": 12,
    "start_time": "2021-10-29T08:23:15.920Z"
   },
   {
    "duration": 12,
    "start_time": "2021-10-29T08:27:27.606Z"
   },
   {
    "duration": 16,
    "start_time": "2021-10-29T08:27:30.023Z"
   },
   {
    "duration": 12,
    "start_time": "2021-10-29T08:27:40.982Z"
   },
   {
    "duration": 11,
    "start_time": "2021-10-29T08:30:01.842Z"
   },
   {
    "duration": 243,
    "start_time": "2021-10-29T08:36:50.093Z"
   },
   {
    "duration": 7,
    "start_time": "2021-10-29T08:36:59.702Z"
   },
   {
    "duration": 9,
    "start_time": "2021-10-29T08:38:11.233Z"
   },
   {
    "duration": 4,
    "start_time": "2021-10-29T08:42:36.779Z"
   },
   {
    "duration": 7,
    "start_time": "2021-10-29T08:42:58.471Z"
   },
   {
    "duration": 6,
    "start_time": "2021-10-29T08:43:07.209Z"
   },
   {
    "duration": 7,
    "start_time": "2021-10-29T08:44:04.776Z"
   },
   {
    "duration": 6,
    "start_time": "2021-10-29T08:44:08.913Z"
   },
   {
    "duration": 12,
    "start_time": "2021-10-29T08:45:16.386Z"
   },
   {
    "duration": 7,
    "start_time": "2021-10-29T08:45:23.634Z"
   },
   {
    "duration": 7,
    "start_time": "2021-10-29T08:45:27.266Z"
   },
   {
    "duration": 10,
    "start_time": "2021-10-29T08:48:35.422Z"
   },
   {
    "duration": 11,
    "start_time": "2021-10-29T08:49:22.500Z"
   },
   {
    "duration": 7,
    "start_time": "2021-10-29T08:55:19.177Z"
   },
   {
    "duration": 14,
    "start_time": "2021-10-29T09:01:12.499Z"
   },
   {
    "duration": 22,
    "start_time": "2021-10-29T09:01:28.891Z"
   },
   {
    "duration": 7,
    "start_time": "2021-10-29T09:04:13.847Z"
   },
   {
    "duration": 232,
    "start_time": "2021-10-29T09:17:25.739Z"
   },
   {
    "duration": 180,
    "start_time": "2021-10-29T09:17:59.884Z"
   },
   {
    "duration": 167,
    "start_time": "2021-10-29T09:18:44.641Z"
   },
   {
    "duration": 201,
    "start_time": "2021-10-29T09:18:47.938Z"
   },
   {
    "duration": 16,
    "start_time": "2021-10-29T09:19:35.295Z"
   },
   {
    "duration": 7,
    "start_time": "2021-10-29T09:20:18.875Z"
   },
   {
    "duration": 10,
    "start_time": "2021-10-29T09:21:19.894Z"
   },
   {
    "duration": 10,
    "start_time": "2021-10-29T09:25:28.852Z"
   },
   {
    "duration": 13,
    "start_time": "2021-10-29T09:26:23.603Z"
   },
   {
    "duration": 11,
    "start_time": "2021-10-29T09:29:52.397Z"
   },
   {
    "duration": 48,
    "start_time": "2021-10-29T09:33:30.841Z"
   },
   {
    "duration": 11,
    "start_time": "2021-10-29T09:33:33.888Z"
   },
   {
    "duration": 559,
    "start_time": "2021-10-29T09:56:47.443Z"
   },
   {
    "duration": 17,
    "start_time": "2021-10-29T09:56:48.004Z"
   },
   {
    "duration": 7,
    "start_time": "2021-10-29T09:56:48.023Z"
   },
   {
    "duration": 11,
    "start_time": "2021-10-29T09:56:48.032Z"
   },
   {
    "duration": 50,
    "start_time": "2021-10-29T09:56:48.045Z"
   },
   {
    "duration": 8,
    "start_time": "2021-10-29T09:56:48.097Z"
   },
   {
    "duration": 12,
    "start_time": "2021-10-29T09:56:48.106Z"
   },
   {
    "duration": 351,
    "start_time": "2021-10-29T09:56:48.120Z"
   },
   {
    "duration": 5,
    "start_time": "2021-10-29T09:56:48.473Z"
   },
   {
    "duration": 17,
    "start_time": "2021-10-29T09:56:48.479Z"
   },
   {
    "duration": 5,
    "start_time": "2021-10-29T09:56:48.498Z"
   },
   {
    "duration": 6,
    "start_time": "2021-10-29T09:56:48.504Z"
   },
   {
    "duration": 6,
    "start_time": "2021-10-29T09:56:48.512Z"
   },
   {
    "duration": 7,
    "start_time": "2021-10-29T09:56:48.519Z"
   },
   {
    "duration": 8,
    "start_time": "2021-10-29T09:56:48.527Z"
   },
   {
    "duration": 11,
    "start_time": "2021-10-29T09:56:48.536Z"
   },
   {
    "duration": 12,
    "start_time": "2021-10-29T09:56:48.548Z"
   },
   {
    "duration": 29,
    "start_time": "2021-10-29T09:56:48.562Z"
   },
   {
    "duration": 11,
    "start_time": "2021-10-29T09:56:48.593Z"
   },
   {
    "duration": 6,
    "start_time": "2021-10-29T09:56:48.606Z"
   },
   {
    "duration": 12,
    "start_time": "2021-10-29T09:56:48.614Z"
   },
   {
    "duration": 8,
    "start_time": "2021-10-29T09:56:48.628Z"
   },
   {
    "duration": 15,
    "start_time": "2021-10-29T09:56:48.639Z"
   },
   {
    "duration": 48,
    "start_time": "2021-10-29T09:56:48.656Z"
   },
   {
    "duration": 13,
    "start_time": "2021-10-29T09:56:48.706Z"
   },
   {
    "duration": 7,
    "start_time": "2021-10-29T09:56:48.720Z"
   },
   {
    "duration": 7,
    "start_time": "2021-10-29T09:56:48.729Z"
   },
   {
    "duration": 3287,
    "start_time": "2021-10-29T09:56:48.738Z"
   },
   {
    "duration": 11,
    "start_time": "2021-10-29T09:56:52.027Z"
   },
   {
    "duration": 16,
    "start_time": "2021-10-29T09:56:52.040Z"
   },
   {
    "duration": 6,
    "start_time": "2021-10-29T09:56:52.057Z"
   },
   {
    "duration": 31,
    "start_time": "2021-10-29T09:56:52.065Z"
   },
   {
    "duration": 9,
    "start_time": "2021-10-29T09:56:52.097Z"
   },
   {
    "duration": 10,
    "start_time": "2021-10-29T09:56:52.107Z"
   },
   {
    "duration": 17,
    "start_time": "2021-10-29T10:01:11.249Z"
   },
   {
    "duration": 255,
    "start_time": "2021-10-29T10:02:57.156Z"
   },
   {
    "duration": 182,
    "start_time": "2021-10-29T10:05:17.799Z"
   },
   {
    "duration": 17,
    "start_time": "2021-10-29T10:08:13.833Z"
   },
   {
    "duration": 5,
    "start_time": "2021-10-29T10:09:01.518Z"
   },
   {
    "duration": 16,
    "start_time": "2021-10-29T10:10:16.697Z"
   },
   {
    "duration": 181,
    "start_time": "2021-10-29T10:10:58.238Z"
   },
   {
    "duration": 180,
    "start_time": "2021-10-29T10:11:17.735Z"
   },
   {
    "duration": 174,
    "start_time": "2021-10-29T10:46:31.751Z"
   },
   {
    "duration": 24,
    "start_time": "2021-10-29T10:46:41.182Z"
   },
   {
    "duration": 23,
    "start_time": "2021-10-29T10:47:11.216Z"
   },
   {
    "duration": 545,
    "start_time": "2021-10-29T10:47:51.147Z"
   },
   {
    "duration": 18,
    "start_time": "2021-10-29T10:47:51.693Z"
   },
   {
    "duration": 3,
    "start_time": "2021-10-29T10:47:51.713Z"
   },
   {
    "duration": 11,
    "start_time": "2021-10-29T10:47:51.718Z"
   },
   {
    "duration": 32,
    "start_time": "2021-10-29T10:47:51.730Z"
   },
   {
    "duration": 33,
    "start_time": "2021-10-29T10:47:51.763Z"
   },
   {
    "duration": 11,
    "start_time": "2021-10-29T10:47:51.798Z"
   },
   {
    "duration": 342,
    "start_time": "2021-10-29T10:47:51.811Z"
   },
   {
    "duration": 5,
    "start_time": "2021-10-29T10:47:52.155Z"
   },
   {
    "duration": 12,
    "start_time": "2021-10-29T10:47:52.162Z"
   },
   {
    "duration": 17,
    "start_time": "2021-10-29T10:47:52.175Z"
   },
   {
    "duration": 5,
    "start_time": "2021-10-29T10:47:52.194Z"
   },
   {
    "duration": 6,
    "start_time": "2021-10-29T10:47:52.200Z"
   },
   {
    "duration": 8,
    "start_time": "2021-10-29T10:47:52.207Z"
   },
   {
    "duration": 8,
    "start_time": "2021-10-29T10:47:52.216Z"
   },
   {
    "duration": 16,
    "start_time": "2021-10-29T10:47:52.225Z"
   },
   {
    "duration": 13,
    "start_time": "2021-10-29T10:47:52.242Z"
   },
   {
    "duration": 9,
    "start_time": "2021-10-29T10:47:52.257Z"
   },
   {
    "duration": 31,
    "start_time": "2021-10-29T10:47:52.268Z"
   },
   {
    "duration": 7,
    "start_time": "2021-10-29T10:47:52.300Z"
   },
   {
    "duration": 12,
    "start_time": "2021-10-29T10:47:52.308Z"
   },
   {
    "duration": 10,
    "start_time": "2021-10-29T10:47:52.321Z"
   },
   {
    "duration": 19,
    "start_time": "2021-10-29T10:47:52.334Z"
   },
   {
    "duration": 45,
    "start_time": "2021-10-29T10:47:52.355Z"
   },
   {
    "duration": 16,
    "start_time": "2021-10-29T10:47:52.402Z"
   },
   {
    "duration": 7,
    "start_time": "2021-10-29T10:47:52.420Z"
   },
   {
    "duration": 6,
    "start_time": "2021-10-29T10:47:52.429Z"
   },
   {
    "duration": 3202,
    "start_time": "2021-10-29T10:47:52.437Z"
   },
   {
    "duration": 12,
    "start_time": "2021-10-29T10:47:55.641Z"
   },
   {
    "duration": 17,
    "start_time": "2021-10-29T10:47:55.654Z"
   },
   {
    "duration": 20,
    "start_time": "2021-10-29T10:47:55.673Z"
   },
   {
    "duration": 8,
    "start_time": "2021-10-29T10:47:55.695Z"
   },
   {
    "duration": 9,
    "start_time": "2021-10-29T10:47:55.705Z"
   },
   {
    "duration": 10,
    "start_time": "2021-10-29T10:47:55.715Z"
   },
   {
    "duration": 247,
    "start_time": "2021-10-29T10:47:55.727Z"
   },
   {
    "duration": -9584,
    "start_time": "2021-10-29T10:48:05.560Z"
   },
   {
    "duration": -9589,
    "start_time": "2021-10-29T10:48:05.566Z"
   },
   {
    "duration": 25,
    "start_time": "2021-10-29T10:48:26.292Z"
   },
   {
    "duration": 169,
    "start_time": "2021-10-29T10:49:35.989Z"
   },
   {
    "duration": 17,
    "start_time": "2021-10-29T10:49:52.386Z"
   },
   {
    "duration": 22,
    "start_time": "2021-10-29T10:50:37.553Z"
   },
   {
    "duration": 6,
    "start_time": "2021-10-29T10:51:28.500Z"
   },
   {
    "duration": 16,
    "start_time": "2021-10-29T10:53:58.846Z"
   },
   {
    "duration": 52,
    "start_time": "2021-10-29T10:54:06.633Z"
   },
   {
    "duration": 16,
    "start_time": "2021-10-29T10:54:12.474Z"
   },
   {
    "duration": 177,
    "start_time": "2021-10-29T10:57:21.297Z"
   },
   {
    "duration": 4,
    "start_time": "2021-10-29T10:57:27.029Z"
   },
   {
    "duration": 158,
    "start_time": "2021-10-29T10:58:26.286Z"
   },
   {
    "duration": 3298,
    "start_time": "2021-10-29T10:59:12.923Z"
   },
   {
    "duration": 15,
    "start_time": "2021-10-29T11:00:15.813Z"
   },
   {
    "duration": 190,
    "start_time": "2021-10-29T11:14:25.685Z"
   },
   {
    "duration": 20,
    "start_time": "2021-10-29T11:14:32.596Z"
   },
   {
    "duration": 11,
    "start_time": "2021-10-29T11:14:42.361Z"
   },
   {
    "duration": 9,
    "start_time": "2021-10-29T11:14:51.433Z"
   },
   {
    "duration": 8,
    "start_time": "2021-10-29T11:14:58.832Z"
   },
   {
    "duration": 18,
    "start_time": "2021-10-29T11:19:06.093Z"
   },
   {
    "duration": 24,
    "start_time": "2021-10-29T11:22:10.631Z"
   },
   {
    "duration": 18,
    "start_time": "2021-10-29T11:26:39.374Z"
   },
   {
    "duration": 24,
    "start_time": "2021-10-29T11:27:21.683Z"
   },
   {
    "duration": 594,
    "start_time": "2021-10-29T11:28:05.162Z"
   },
   {
    "duration": 17,
    "start_time": "2021-10-29T11:28:05.757Z"
   },
   {
    "duration": 7,
    "start_time": "2021-10-29T11:28:05.776Z"
   },
   {
    "duration": 14,
    "start_time": "2021-10-29T11:28:05.784Z"
   },
   {
    "duration": 33,
    "start_time": "2021-10-29T11:28:05.800Z"
   },
   {
    "duration": 8,
    "start_time": "2021-10-29T11:28:05.834Z"
   },
   {
    "duration": 18,
    "start_time": "2021-10-29T11:28:05.843Z"
   },
   {
    "duration": 340,
    "start_time": "2021-10-29T11:28:05.863Z"
   },
   {
    "duration": 5,
    "start_time": "2021-10-29T11:28:06.205Z"
   },
   {
    "duration": 28,
    "start_time": "2021-10-29T11:28:06.212Z"
   },
   {
    "duration": 9,
    "start_time": "2021-10-29T11:28:06.242Z"
   },
   {
    "duration": 11,
    "start_time": "2021-10-29T11:28:06.252Z"
   },
   {
    "duration": 16,
    "start_time": "2021-10-29T11:28:06.264Z"
   },
   {
    "duration": 7,
    "start_time": "2021-10-29T11:28:06.282Z"
   },
   {
    "duration": 14,
    "start_time": "2021-10-29T11:28:06.290Z"
   },
   {
    "duration": 12,
    "start_time": "2021-10-29T11:28:06.305Z"
   },
   {
    "duration": 14,
    "start_time": "2021-10-29T11:28:06.318Z"
   },
   {
    "duration": 6,
    "start_time": "2021-10-29T11:28:06.334Z"
   },
   {
    "duration": 16,
    "start_time": "2021-10-29T11:28:06.341Z"
   },
   {
    "duration": 6,
    "start_time": "2021-10-29T11:28:06.359Z"
   },
   {
    "duration": 17,
    "start_time": "2021-10-29T11:28:06.366Z"
   },
   {
    "duration": 14,
    "start_time": "2021-10-29T11:28:06.384Z"
   },
   {
    "duration": 23,
    "start_time": "2021-10-29T11:28:06.401Z"
   },
   {
    "duration": 16,
    "start_time": "2021-10-29T11:28:06.425Z"
   },
   {
    "duration": 14,
    "start_time": "2021-10-29T11:28:06.442Z"
   },
   {
    "duration": 6,
    "start_time": "2021-10-29T11:28:06.457Z"
   },
   {
    "duration": 6,
    "start_time": "2021-10-29T11:28:06.465Z"
   },
   {
    "duration": 3326,
    "start_time": "2021-10-29T11:28:06.491Z"
   },
   {
    "duration": 12,
    "start_time": "2021-10-29T11:28:09.819Z"
   },
   {
    "duration": 18,
    "start_time": "2021-10-29T11:28:09.833Z"
   },
   {
    "duration": 7,
    "start_time": "2021-10-29T11:28:09.853Z"
   },
   {
    "duration": 30,
    "start_time": "2021-10-29T11:28:09.862Z"
   },
   {
    "duration": 10,
    "start_time": "2021-10-29T11:28:09.893Z"
   },
   {
    "duration": 9,
    "start_time": "2021-10-29T11:28:09.904Z"
   },
   {
    "duration": 12,
    "start_time": "2021-10-29T11:28:09.915Z"
   },
   {
    "duration": 17,
    "start_time": "2021-10-29T11:28:09.928Z"
   },
   {
    "duration": 50,
    "start_time": "2021-10-29T11:28:09.947Z"
   },
   {
    "duration": 21,
    "start_time": "2021-10-29T11:33:54.115Z"
   },
   {
    "duration": 19,
    "start_time": "2021-10-29T11:49:22.944Z"
   },
   {
    "duration": 21,
    "start_time": "2021-10-29T11:54:42.639Z"
   },
   {
    "duration": 21,
    "start_time": "2021-10-29T11:55:51.923Z"
   },
   {
    "duration": 20,
    "start_time": "2021-10-29T11:56:03.443Z"
   },
   {
    "duration": 34,
    "start_time": "2021-10-29T12:01:19.368Z"
   },
   {
    "duration": 241,
    "start_time": "2021-10-29T12:02:09.234Z"
   },
   {
    "duration": 45,
    "start_time": "2021-10-29T12:03:17.883Z"
   },
   {
    "duration": 34,
    "start_time": "2021-10-29T12:03:31.546Z"
   },
   {
    "duration": 33,
    "start_time": "2021-10-29T12:03:38.571Z"
   },
   {
    "duration": 411,
    "start_time": "2021-10-29T12:07:32.912Z"
   },
   {
    "duration": 37,
    "start_time": "2021-10-29T12:07:55.485Z"
   },
   {
    "duration": 37,
    "start_time": "2021-10-29T12:11:47.089Z"
   },
   {
    "duration": 572,
    "start_time": "2021-10-29T12:12:02.527Z"
   },
   {
    "duration": 17,
    "start_time": "2021-10-29T12:12:03.101Z"
   },
   {
    "duration": 15,
    "start_time": "2021-10-29T12:12:03.120Z"
   },
   {
    "duration": 19,
    "start_time": "2021-10-29T12:12:03.137Z"
   },
   {
    "duration": 42,
    "start_time": "2021-10-29T12:12:03.158Z"
   },
   {
    "duration": 9,
    "start_time": "2021-10-29T12:12:03.202Z"
   },
   {
    "duration": 18,
    "start_time": "2021-10-29T12:12:03.212Z"
   },
   {
    "duration": 354,
    "start_time": "2021-10-29T12:12:03.232Z"
   },
   {
    "duration": 6,
    "start_time": "2021-10-29T12:12:03.588Z"
   },
   {
    "duration": 12,
    "start_time": "2021-10-29T12:12:03.595Z"
   },
   {
    "duration": 9,
    "start_time": "2021-10-29T12:12:03.609Z"
   },
   {
    "duration": 7,
    "start_time": "2021-10-29T12:12:03.619Z"
   },
   {
    "duration": 8,
    "start_time": "2021-10-29T12:12:03.628Z"
   },
   {
    "duration": 6,
    "start_time": "2021-10-29T12:12:03.638Z"
   },
   {
    "duration": 7,
    "start_time": "2021-10-29T12:12:03.646Z"
   },
   {
    "duration": 37,
    "start_time": "2021-10-29T12:12:03.655Z"
   },
   {
    "duration": 14,
    "start_time": "2021-10-29T12:12:03.694Z"
   },
   {
    "duration": 8,
    "start_time": "2021-10-29T12:12:03.710Z"
   },
   {
    "duration": 20,
    "start_time": "2021-10-29T12:12:03.719Z"
   },
   {
    "duration": 9,
    "start_time": "2021-10-29T12:12:03.740Z"
   },
   {
    "duration": 40,
    "start_time": "2021-10-29T12:12:03.751Z"
   },
   {
    "duration": 8,
    "start_time": "2021-10-29T12:12:03.793Z"
   },
   {
    "duration": 20,
    "start_time": "2021-10-29T12:12:03.804Z"
   },
   {
    "duration": 18,
    "start_time": "2021-10-29T12:12:03.826Z"
   },
   {
    "duration": 14,
    "start_time": "2021-10-29T12:12:03.845Z"
   },
   {
    "duration": 35,
    "start_time": "2021-10-29T12:12:03.861Z"
   },
   {
    "duration": 5,
    "start_time": "2021-10-29T12:12:03.898Z"
   },
   {
    "duration": 3835,
    "start_time": "2021-10-29T12:12:03.904Z"
   },
   {
    "duration": 12,
    "start_time": "2021-10-29T12:12:07.741Z"
   },
   {
    "duration": 23,
    "start_time": "2021-10-29T12:12:07.755Z"
   },
   {
    "duration": 17,
    "start_time": "2021-10-29T12:12:07.780Z"
   },
   {
    "duration": 14,
    "start_time": "2021-10-29T12:12:07.799Z"
   },
   {
    "duration": 14,
    "start_time": "2021-10-29T12:12:07.816Z"
   },
   {
    "duration": 15,
    "start_time": "2021-10-29T12:12:07.832Z"
   },
   {
    "duration": 80,
    "start_time": "2021-10-29T12:12:07.849Z"
   },
   {
    "duration": 90,
    "start_time": "2021-10-29T12:12:07.931Z"
   },
   {
    "duration": 82,
    "start_time": "2021-10-29T12:12:08.023Z"
   },
   {
    "duration": 21,
    "start_time": "2021-10-29T12:12:08.107Z"
   },
   {
    "duration": 65,
    "start_time": "2021-10-29T12:14:31.105Z"
   },
   {
    "duration": 42,
    "start_time": "2021-10-29T12:14:51.584Z"
   },
   {
    "duration": 39,
    "start_time": "2021-10-29T12:17:03.750Z"
   },
   {
    "duration": 39,
    "start_time": "2021-10-29T12:17:39.517Z"
   },
   {
    "duration": 558,
    "start_time": "2021-10-29T12:18:02.439Z"
   },
   {
    "duration": 18,
    "start_time": "2021-10-29T12:18:02.999Z"
   },
   {
    "duration": 13,
    "start_time": "2021-10-29T12:18:03.019Z"
   },
   {
    "duration": 20,
    "start_time": "2021-10-29T12:18:03.033Z"
   },
   {
    "duration": 38,
    "start_time": "2021-10-29T12:18:03.054Z"
   },
   {
    "duration": 8,
    "start_time": "2021-10-29T12:18:03.093Z"
   },
   {
    "duration": 13,
    "start_time": "2021-10-29T12:18:03.103Z"
   },
   {
    "duration": 342,
    "start_time": "2021-10-29T12:18:03.119Z"
   },
   {
    "duration": 5,
    "start_time": "2021-10-29T12:18:03.463Z"
   },
   {
    "duration": 22,
    "start_time": "2021-10-29T12:18:03.469Z"
   },
   {
    "duration": 6,
    "start_time": "2021-10-29T12:18:03.493Z"
   },
   {
    "duration": 5,
    "start_time": "2021-10-29T12:18:03.500Z"
   },
   {
    "duration": 8,
    "start_time": "2021-10-29T12:18:03.506Z"
   },
   {
    "duration": 6,
    "start_time": "2021-10-29T12:18:03.516Z"
   },
   {
    "duration": 8,
    "start_time": "2021-10-29T12:18:03.523Z"
   },
   {
    "duration": 15,
    "start_time": "2021-10-29T12:18:03.532Z"
   },
   {
    "duration": 21,
    "start_time": "2021-10-29T12:18:03.549Z"
   },
   {
    "duration": 20,
    "start_time": "2021-10-29T12:18:03.572Z"
   },
   {
    "duration": 11,
    "start_time": "2021-10-29T12:18:03.593Z"
   },
   {
    "duration": 8,
    "start_time": "2021-10-29T12:18:03.605Z"
   },
   {
    "duration": 24,
    "start_time": "2021-10-29T12:18:03.615Z"
   },
   {
    "duration": 8,
    "start_time": "2021-10-29T12:18:03.640Z"
   },
   {
    "duration": 41,
    "start_time": "2021-10-29T12:18:03.651Z"
   },
   {
    "duration": 18,
    "start_time": "2021-10-29T12:18:03.694Z"
   },
   {
    "duration": 15,
    "start_time": "2021-10-29T12:18:03.714Z"
   },
   {
    "duration": 6,
    "start_time": "2021-10-29T12:18:03.731Z"
   },
   {
    "duration": 8,
    "start_time": "2021-10-29T12:18:03.739Z"
   },
   {
    "duration": 3419,
    "start_time": "2021-10-29T12:18:03.749Z"
   },
   {
    "duration": 23,
    "start_time": "2021-10-29T12:18:07.170Z"
   },
   {
    "duration": 22,
    "start_time": "2021-10-29T12:18:07.195Z"
   },
   {
    "duration": 8,
    "start_time": "2021-10-29T12:18:07.219Z"
   },
   {
    "duration": 29,
    "start_time": "2021-10-29T12:18:07.228Z"
   },
   {
    "duration": 27,
    "start_time": "2021-10-29T12:18:07.258Z"
   },
   {
    "duration": 17,
    "start_time": "2021-10-29T12:18:07.286Z"
   },
   {
    "duration": 37,
    "start_time": "2021-10-29T12:18:07.304Z"
   },
   {
    "duration": 36,
    "start_time": "2021-10-29T12:18:07.342Z"
   },
   {
    "duration": 40,
    "start_time": "2021-10-29T12:18:07.379Z"
   },
   {
    "duration": 35,
    "start_time": "2021-10-29T12:18:07.420Z"
   },
   {
    "duration": 1504,
    "start_time": "2021-10-29T13:29:32.764Z"
   },
   {
    "duration": 8,
    "start_time": "2021-10-29T13:30:07.087Z"
   },
   {
    "duration": 8,
    "start_time": "2021-10-29T13:31:23.925Z"
   },
   {
    "duration": 8,
    "start_time": "2021-10-29T13:31:34.635Z"
   },
   {
    "duration": 698,
    "start_time": "2021-10-31T07:29:34.670Z"
   },
   {
    "duration": 18,
    "start_time": "2021-10-31T07:29:35.370Z"
   },
   {
    "duration": 4,
    "start_time": "2021-10-31T07:29:35.390Z"
   },
   {
    "duration": 12,
    "start_time": "2021-10-31T07:29:35.395Z"
   },
   {
    "duration": 31,
    "start_time": "2021-10-31T07:29:35.408Z"
   },
   {
    "duration": 9,
    "start_time": "2021-10-31T07:29:35.441Z"
   },
   {
    "duration": 34,
    "start_time": "2021-10-31T07:29:35.452Z"
   },
   {
    "duration": 362,
    "start_time": "2021-10-31T07:29:35.489Z"
   },
   {
    "duration": 6,
    "start_time": "2021-10-31T07:29:35.853Z"
   },
   {
    "duration": 20,
    "start_time": "2021-10-31T07:29:35.860Z"
   },
   {
    "duration": 6,
    "start_time": "2021-10-31T07:29:35.882Z"
   },
   {
    "duration": 6,
    "start_time": "2021-10-31T07:29:35.889Z"
   },
   {
    "duration": 7,
    "start_time": "2021-10-31T07:29:35.896Z"
   },
   {
    "duration": 7,
    "start_time": "2021-10-31T07:29:35.905Z"
   },
   {
    "duration": 8,
    "start_time": "2021-10-31T07:29:35.913Z"
   },
   {
    "duration": 7,
    "start_time": "2021-10-31T07:29:35.923Z"
   },
   {
    "duration": 49,
    "start_time": "2021-10-31T07:29:35.931Z"
   },
   {
    "duration": 6,
    "start_time": "2021-10-31T07:29:35.982Z"
   },
   {
    "duration": 16,
    "start_time": "2021-10-31T07:29:35.989Z"
   },
   {
    "duration": 7,
    "start_time": "2021-10-31T07:29:36.007Z"
   },
   {
    "duration": 22,
    "start_time": "2021-10-31T07:29:36.015Z"
   },
   {
    "duration": 8,
    "start_time": "2021-10-31T07:29:36.039Z"
   },
   {
    "duration": 45,
    "start_time": "2021-10-31T07:29:36.050Z"
   },
   {
    "duration": 18,
    "start_time": "2021-10-31T07:29:36.097Z"
   },
   {
    "duration": 16,
    "start_time": "2021-10-31T07:29:36.117Z"
   },
   {
    "duration": 8,
    "start_time": "2021-10-31T07:29:36.134Z"
   },
   {
    "duration": 44,
    "start_time": "2021-10-31T07:29:36.143Z"
   },
   {
    "duration": 3656,
    "start_time": "2021-10-31T07:29:36.189Z"
   },
   {
    "duration": 13,
    "start_time": "2021-10-31T07:29:39.848Z"
   },
   {
    "duration": 26,
    "start_time": "2021-10-31T07:29:39.863Z"
   },
   {
    "duration": 9,
    "start_time": "2021-10-31T07:29:39.891Z"
   },
   {
    "duration": 13,
    "start_time": "2021-10-31T07:29:39.902Z"
   },
   {
    "duration": 12,
    "start_time": "2021-10-31T07:29:39.917Z"
   },
   {
    "duration": 10,
    "start_time": "2021-10-31T07:29:39.930Z"
   },
   {
    "duration": 42,
    "start_time": "2021-10-31T07:29:39.977Z"
   },
   {
    "duration": 41,
    "start_time": "2021-10-31T07:29:40.020Z"
   },
   {
    "duration": 58,
    "start_time": "2021-10-31T07:29:40.063Z"
   },
   {
    "duration": 57,
    "start_time": "2021-10-31T07:29:40.123Z"
   },
   {
    "duration": 14,
    "start_time": "2021-10-31T07:45:04.821Z"
   },
   {
    "duration": 1630,
    "start_time": "2021-10-31T07:45:47.451Z"
   },
   {
    "duration": 5,
    "start_time": "2021-10-31T07:46:39.087Z"
   },
   {
    "duration": 8,
    "start_time": "2021-10-31T07:49:40.353Z"
   },
   {
    "duration": 8,
    "start_time": "2021-10-31T07:50:10.261Z"
   },
   {
    "duration": 13,
    "start_time": "2021-10-31T07:52:04.558Z"
   },
   {
    "duration": 887,
    "start_time": "2021-10-31T21:11:01.061Z"
   },
   {
    "duration": 35,
    "start_time": "2021-10-31T21:11:01.951Z"
   },
   {
    "duration": 9,
    "start_time": "2021-10-31T21:11:01.989Z"
   },
   {
    "duration": 28,
    "start_time": "2021-10-31T21:11:02.001Z"
   },
   {
    "duration": 48,
    "start_time": "2021-10-31T21:11:02.031Z"
   },
   {
    "duration": 42,
    "start_time": "2021-10-31T21:11:02.081Z"
   },
   {
    "duration": 17,
    "start_time": "2021-10-31T21:11:02.125Z"
   },
   {
    "duration": 664,
    "start_time": "2021-10-31T21:11:02.148Z"
   },
   {
    "duration": 12,
    "start_time": "2021-10-31T21:11:02.815Z"
   },
   {
    "duration": 29,
    "start_time": "2021-10-31T21:11:02.830Z"
   },
   {
    "duration": 10,
    "start_time": "2021-10-31T21:11:02.863Z"
   },
   {
    "duration": 21,
    "start_time": "2021-10-31T21:11:02.876Z"
   },
   {
    "duration": 24,
    "start_time": "2021-10-31T21:11:02.900Z"
   },
   {
    "duration": 14,
    "start_time": "2021-10-31T21:11:02.927Z"
   },
   {
    "duration": 22,
    "start_time": "2021-10-31T21:11:02.944Z"
   },
   {
    "duration": 13,
    "start_time": "2021-10-31T21:11:02.969Z"
   },
   {
    "duration": 47,
    "start_time": "2021-10-31T21:11:02.985Z"
   },
   {
    "duration": 8,
    "start_time": "2021-10-31T21:11:03.036Z"
   },
   {
    "duration": 27,
    "start_time": "2021-10-31T21:11:03.047Z"
   },
   {
    "duration": 18,
    "start_time": "2021-10-31T21:11:03.077Z"
   },
   {
    "duration": 38,
    "start_time": "2021-10-31T21:11:03.123Z"
   },
   {
    "duration": 50,
    "start_time": "2021-10-31T21:11:03.163Z"
   },
   {
    "duration": 43,
    "start_time": "2021-10-31T21:11:03.218Z"
   },
   {
    "duration": 25,
    "start_time": "2021-10-31T21:11:03.264Z"
   },
   {
    "duration": 30,
    "start_time": "2021-10-31T21:11:03.292Z"
   },
   {
    "duration": 18,
    "start_time": "2021-10-31T21:11:03.325Z"
   },
   {
    "duration": 44,
    "start_time": "2021-10-31T21:11:03.346Z"
   },
   {
    "duration": 4596,
    "start_time": "2021-10-31T21:11:03.393Z"
   },
   {
    "duration": 33,
    "start_time": "2021-10-31T21:11:07.991Z"
   },
   {
    "duration": 29,
    "start_time": "2021-10-31T21:11:08.026Z"
   },
   {
    "duration": 13,
    "start_time": "2021-10-31T21:11:08.058Z"
   },
   {
    "duration": 20,
    "start_time": "2021-10-31T21:11:08.074Z"
   },
   {
    "duration": 19,
    "start_time": "2021-10-31T21:11:08.123Z"
   },
   {
    "duration": 17,
    "start_time": "2021-10-31T21:11:08.145Z"
   },
   {
    "duration": 100,
    "start_time": "2021-10-31T21:11:08.165Z"
   },
   {
    "duration": 66,
    "start_time": "2021-10-31T21:11:08.268Z"
   },
   {
    "duration": 87,
    "start_time": "2021-10-31T21:11:08.337Z"
   },
   {
    "duration": 61,
    "start_time": "2021-10-31T21:11:08.427Z"
   },
   {
    "duration": 184,
    "start_time": "2021-11-01T10:47:25.652Z"
   },
   {
    "duration": 340,
    "start_time": "2021-11-01T10:52:01.761Z"
   },
   {
    "duration": 847,
    "start_time": "2021-11-01T10:52:09.580Z"
   },
   {
    "duration": 18,
    "start_time": "2021-11-01T10:52:20.518Z"
   },
   {
    "duration": 598,
    "start_time": "2021-11-01T10:52:24.766Z"
   },
   {
    "duration": 22,
    "start_time": "2021-11-01T10:52:30.096Z"
   },
   {
    "duration": 10,
    "start_time": "2021-11-01T11:13:17.971Z"
   },
   {
    "duration": 25,
    "start_time": "2021-11-01T11:14:44.374Z"
   },
   {
    "duration": 383,
    "start_time": "2021-11-01T11:16:02.826Z"
   },
   {
    "duration": 11,
    "start_time": "2021-11-01T11:16:06.538Z"
   },
   {
    "duration": 270,
    "start_time": "2021-11-01T11:18:40.394Z"
   },
   {
    "duration": 285,
    "start_time": "2021-11-01T11:18:47.170Z"
   },
   {
    "duration": 10,
    "start_time": "2021-11-01T11:18:58.106Z"
   },
   {
    "duration": 114,
    "start_time": "2021-11-01T11:19:03.714Z"
   },
   {
    "duration": 287,
    "start_time": "2021-11-01T11:19:45.303Z"
   },
   {
    "duration": 10,
    "start_time": "2021-11-01T11:19:51.547Z"
   },
   {
    "duration": 11,
    "start_time": "2021-11-01T11:21:34.594Z"
   },
   {
    "duration": 620,
    "start_time": "2021-11-01T11:21:45.615Z"
   },
   {
    "duration": 275,
    "start_time": "2021-11-01T11:23:34.178Z"
   },
   {
    "duration": 13,
    "start_time": "2021-11-01T11:23:38.473Z"
   },
   {
    "duration": 6406,
    "start_time": "2021-11-01T11:24:55.037Z"
   },
   {
    "duration": 291,
    "start_time": "2021-11-01T11:25:14.458Z"
   },
   {
    "duration": 13,
    "start_time": "2021-11-01T11:26:48.699Z"
   },
   {
    "duration": 8,
    "start_time": "2021-11-01T11:27:11.769Z"
   },
   {
    "duration": 13,
    "start_time": "2021-11-01T11:31:13.847Z"
   },
   {
    "duration": 343,
    "start_time": "2021-11-01T11:32:51.585Z"
   },
   {
    "duration": 947,
    "start_time": "2021-11-01T11:33:02.642Z"
   },
   {
    "duration": 344,
    "start_time": "2021-11-01T11:33:50.472Z"
   },
   {
    "duration": 312,
    "start_time": "2021-11-01T11:34:13.090Z"
   },
   {
    "duration": 1019,
    "start_time": "2021-11-01T11:34:20.635Z"
   },
   {
    "duration": 8,
    "start_time": "2021-11-01T11:34:31.449Z"
   },
   {
    "duration": 16,
    "start_time": "2021-11-01T11:34:57.053Z"
   },
   {
    "duration": 8,
    "start_time": "2021-11-01T11:35:08.878Z"
   },
   {
    "duration": 8,
    "start_time": "2021-11-01T11:35:14.785Z"
   },
   {
    "duration": 7,
    "start_time": "2021-11-01T11:35:24.542Z"
   },
   {
    "duration": 10,
    "start_time": "2021-11-01T11:35:39.508Z"
   },
   {
    "duration": 11,
    "start_time": "2021-11-01T11:36:02.220Z"
   },
   {
    "duration": 62,
    "start_time": "2021-11-01T11:43:55.740Z"
   },
   {
    "duration": 102,
    "start_time": "2021-11-01T11:44:48.398Z"
   },
   {
    "duration": 3000,
    "start_time": "2021-11-01T11:44:52.384Z"
   },
   {
    "duration": 8,
    "start_time": "2021-11-01T11:45:19.834Z"
   },
   {
    "duration": 7,
    "start_time": "2021-11-01T11:45:34.774Z"
   },
   {
    "duration": 6,
    "start_time": "2021-11-01T11:45:58.468Z"
   },
   {
    "duration": 7,
    "start_time": "2021-11-01T11:46:08.872Z"
   },
   {
    "duration": 10,
    "start_time": "2021-11-01T11:46:44.613Z"
   },
   {
    "duration": 289,
    "start_time": "2021-11-01T11:46:59.278Z"
   },
   {
    "duration": 10,
    "start_time": "2021-11-01T11:47:08.150Z"
   },
   {
    "duration": 35,
    "start_time": "2021-11-01T11:47:31.914Z"
   },
   {
    "duration": 10,
    "start_time": "2021-11-01T11:49:38.228Z"
   },
   {
    "duration": 10,
    "start_time": "2021-11-01T11:50:00.984Z"
   },
   {
    "duration": 14,
    "start_time": "2021-11-01T11:51:35.107Z"
   },
   {
    "duration": 18,
    "start_time": "2021-11-01T11:52:28.092Z"
   },
   {
    "duration": 15,
    "start_time": "2021-11-01T11:52:40.038Z"
   },
   {
    "duration": 6,
    "start_time": "2021-11-01T12:03:14.373Z"
   },
   {
    "duration": 8,
    "start_time": "2021-11-01T12:35:03.248Z"
   },
   {
    "duration": 7,
    "start_time": "2021-11-01T12:47:48.645Z"
   },
   {
    "duration": 287,
    "start_time": "2021-11-01T12:47:57.669Z"
   },
   {
    "duration": 11,
    "start_time": "2021-11-01T12:48:01.554Z"
   },
   {
    "duration": 10,
    "start_time": "2021-11-01T12:48:14.352Z"
   },
   {
    "duration": 12,
    "start_time": "2021-11-01T12:49:49.775Z"
   },
   {
    "duration": 14,
    "start_time": "2021-11-01T12:50:01.346Z"
   },
   {
    "duration": 10,
    "start_time": "2021-11-01T12:50:07.946Z"
   },
   {
    "duration": 11,
    "start_time": "2021-11-01T12:50:13.610Z"
   },
   {
    "duration": 11,
    "start_time": "2021-11-01T12:51:26.765Z"
   },
   {
    "duration": 99,
    "start_time": "2021-11-01T12:57:55.371Z"
   },
   {
    "duration": 95,
    "start_time": "2021-11-01T12:58:09.765Z"
   },
   {
    "duration": 114,
    "start_time": "2021-11-01T12:58:26.564Z"
   },
   {
    "duration": 95,
    "start_time": "2021-11-01T12:59:50.813Z"
   },
   {
    "duration": 513,
    "start_time": "2021-11-01T13:00:06.124Z"
   },
   {
    "duration": 572,
    "start_time": "2021-11-01T13:00:18.756Z"
   },
   {
    "duration": 12,
    "start_time": "2021-11-01T13:10:37.742Z"
   },
   {
    "duration": 13,
    "start_time": "2021-11-01T13:11:02.681Z"
   },
   {
    "duration": 12,
    "start_time": "2021-11-01T13:11:10.058Z"
   },
   {
    "duration": 11,
    "start_time": "2021-11-01T13:11:30.899Z"
   },
   {
    "duration": 11,
    "start_time": "2021-11-01T13:12:40.760Z"
   },
   {
    "duration": 391,
    "start_time": "2021-11-01T13:16:51.522Z"
   },
   {
    "duration": 396,
    "start_time": "2021-11-01T13:17:26.857Z"
   },
   {
    "duration": 378,
    "start_time": "2021-11-01T13:17:38.989Z"
   },
   {
    "duration": 363,
    "start_time": "2021-11-01T13:17:45.221Z"
   },
   {
    "duration": 611,
    "start_time": "2021-11-01T13:18:20.102Z"
   },
   {
    "duration": 607,
    "start_time": "2021-11-01T13:22:34.042Z"
   },
   {
    "duration": 12,
    "start_time": "2021-11-01T13:25:38.723Z"
   },
   {
    "duration": 616,
    "start_time": "2021-11-01T13:25:49.334Z"
   },
   {
    "duration": 593,
    "start_time": "2021-11-01T13:27:47.578Z"
   },
   {
    "duration": 12,
    "start_time": "2021-11-01T13:27:49.890Z"
   },
   {
    "duration": 613,
    "start_time": "2021-11-01T13:29:18.669Z"
   },
   {
    "duration": 12,
    "start_time": "2021-11-01T13:29:19.696Z"
   },
   {
    "duration": 612,
    "start_time": "2021-11-01T13:29:41.496Z"
   },
   {
    "duration": 12,
    "start_time": "2021-11-01T13:29:42.755Z"
   },
   {
    "duration": 796,
    "start_time": "2021-11-01T13:30:57.850Z"
   },
   {
    "duration": 23,
    "start_time": "2021-11-01T13:31:10.481Z"
   },
   {
    "duration": 710,
    "start_time": "2021-11-01T13:31:13.596Z"
   },
   {
    "duration": 14,
    "start_time": "2021-11-01T13:31:16.368Z"
   },
   {
    "duration": 571,
    "start_time": "2021-11-01T13:35:50.022Z"
   },
   {
    "duration": 13,
    "start_time": "2021-11-01T13:35:50.936Z"
   },
   {
    "duration": 842,
    "start_time": "2021-11-01T13:36:14.275Z"
   },
   {
    "duration": 5382,
    "start_time": "2021-11-01T13:37:28.342Z"
   },
   {
    "duration": 97,
    "start_time": "2021-11-01T13:37:51.328Z"
   },
   {
    "duration": 100,
    "start_time": "2021-11-01T13:38:00.277Z"
   },
   {
    "duration": 5339,
    "start_time": "2021-11-01T13:38:21.391Z"
   },
   {
    "duration": 5338,
    "start_time": "2021-11-01T13:38:31.638Z"
   },
   {
    "duration": 10464,
    "start_time": "2021-11-01T13:39:54.312Z"
   },
   {
    "duration": 5508,
    "start_time": "2021-11-01T13:40:32.581Z"
   },
   {
    "duration": 5651,
    "start_time": "2021-11-01T13:45:00.422Z"
   },
   {
    "duration": 611,
    "start_time": "2021-11-01T13:45:33.778Z"
   },
   {
    "duration": 15,
    "start_time": "2021-11-01T13:45:35.094Z"
   },
   {
    "duration": 480,
    "start_time": "2021-11-01T13:45:47.934Z"
   },
   {
    "duration": 789,
    "start_time": "2021-11-01T13:46:04.993Z"
   },
   {
    "duration": 13,
    "start_time": "2021-11-01T13:46:06.296Z"
   },
   {
    "duration": 690,
    "start_time": "2021-11-01T13:46:21.549Z"
   },
   {
    "duration": 13,
    "start_time": "2021-11-01T13:46:22.379Z"
   },
   {
    "duration": 483,
    "start_time": "2021-11-01T13:46:34.269Z"
   },
   {
    "duration": 5236,
    "start_time": "2021-11-01T13:47:38.641Z"
   },
   {
    "duration": 622,
    "start_time": "2021-11-01T13:47:48.460Z"
   },
   {
    "duration": 13,
    "start_time": "2021-11-01T13:47:49.794Z"
   },
   {
    "duration": 5213,
    "start_time": "2021-11-01T13:51:38.365Z"
   },
   {
    "duration": 826,
    "start_time": "2021-11-01T13:54:18.892Z"
   },
   {
    "duration": 18,
    "start_time": "2021-11-01T13:54:31.351Z"
   },
   {
    "duration": 10142,
    "start_time": "2021-11-01T13:55:09.035Z"
   },
   {
    "duration": 7028,
    "start_time": "2021-11-01T13:55:38.257Z"
   },
   {
    "duration": 6065,
    "start_time": "2021-11-01T13:55:51.769Z"
   },
   {
    "duration": 17,
    "start_time": "2021-11-01T13:56:14.029Z"
   },
   {
    "duration": 15,
    "start_time": "2021-11-01T13:56:21.911Z"
   },
   {
    "duration": 17,
    "start_time": "2021-11-01T13:56:33.533Z"
   },
   {
    "duration": 11,
    "start_time": "2021-11-01T13:56:59.114Z"
   },
   {
    "duration": 5653,
    "start_time": "2021-11-01T13:57:01.570Z"
   },
   {
    "duration": 14,
    "start_time": "2021-11-01T13:57:07.226Z"
   },
   {
    "duration": 17,
    "start_time": "2021-11-01T13:57:24.743Z"
   },
   {
    "duration": 17,
    "start_time": "2021-11-01T13:58:22.037Z"
   },
   {
    "duration": 820,
    "start_time": "2021-11-01T13:58:51.208Z"
   },
   {
    "duration": 27,
    "start_time": "2021-11-01T13:59:13.362Z"
   },
   {
    "duration": 17,
    "start_time": "2021-11-01T13:59:25.043Z"
   },
   {
    "duration": 15,
    "start_time": "2021-11-01T13:59:35.163Z"
   },
   {
    "duration": 16,
    "start_time": "2021-11-01T13:59:42.578Z"
   },
   {
    "duration": 17,
    "start_time": "2021-11-01T13:59:46.132Z"
   },
   {
    "duration": 10,
    "start_time": "2021-11-01T14:00:01.615Z"
   },
   {
    "duration": 5382,
    "start_time": "2021-11-01T14:00:03.280Z"
   },
   {
    "duration": 12,
    "start_time": "2021-11-01T14:00:08.664Z"
   },
   {
    "duration": 16,
    "start_time": "2021-11-01T14:00:25.868Z"
   },
   {
    "duration": 15,
    "start_time": "2021-11-01T14:03:03.033Z"
   },
   {
    "duration": 850,
    "start_time": "2021-11-01T14:20:20.404Z"
   },
   {
    "duration": 27,
    "start_time": "2021-11-01T14:20:21.257Z"
   },
   {
    "duration": 8,
    "start_time": "2021-11-01T14:20:21.287Z"
   },
   {
    "duration": 37,
    "start_time": "2021-11-01T14:20:21.297Z"
   },
   {
    "duration": 46,
    "start_time": "2021-11-01T14:20:21.336Z"
   },
   {
    "duration": 12,
    "start_time": "2021-11-01T14:20:21.385Z"
   },
   {
    "duration": 17,
    "start_time": "2021-11-01T14:20:21.423Z"
   },
   {
    "duration": 606,
    "start_time": "2021-11-01T14:20:21.444Z"
   },
   {
    "duration": 3,
    "start_time": "2021-11-01T14:20:22.053Z"
   },
   {
    "duration": 17,
    "start_time": "2021-11-01T14:20:22.059Z"
   },
   {
    "duration": 28,
    "start_time": "2021-11-01T14:20:22.079Z"
   },
   {
    "duration": 17,
    "start_time": "2021-11-01T14:20:22.110Z"
   },
   {
    "duration": 14,
    "start_time": "2021-11-01T14:20:22.130Z"
   },
   {
    "duration": 609,
    "start_time": "2021-11-01T14:20:22.147Z"
   },
   {
    "duration": 12,
    "start_time": "2021-11-01T14:20:22.758Z"
   },
   {
    "duration": 20,
    "start_time": "2021-11-01T14:20:22.773Z"
   },
   {
    "duration": 27,
    "start_time": "2021-11-01T14:20:22.795Z"
   },
   {
    "duration": 8,
    "start_time": "2021-11-01T14:20:22.825Z"
   },
   {
    "duration": 28,
    "start_time": "2021-11-01T14:20:22.836Z"
   },
   {
    "duration": 20,
    "start_time": "2021-11-01T14:20:22.867Z"
   },
   {
    "duration": 15,
    "start_time": "2021-11-01T14:20:22.889Z"
   },
   {
    "duration": 25,
    "start_time": "2021-11-01T14:20:22.907Z"
   },
   {
    "duration": 7,
    "start_time": "2021-11-01T14:20:22.937Z"
   },
   {
    "duration": 20,
    "start_time": "2021-11-01T14:20:22.946Z"
   },
   {
    "duration": 14,
    "start_time": "2021-11-01T14:20:22.968Z"
   },
   {
    "duration": 53,
    "start_time": "2021-11-01T14:20:22.984Z"
   },
   {
    "duration": 11,
    "start_time": "2021-11-01T14:20:23.040Z"
   },
   {
    "duration": 37,
    "start_time": "2021-11-01T14:20:23.053Z"
   },
   {
    "duration": 42,
    "start_time": "2021-11-01T14:20:23.092Z"
   },
   {
    "duration": 21,
    "start_time": "2021-11-01T14:20:23.137Z"
   },
   {
    "duration": 12,
    "start_time": "2021-11-01T14:20:23.161Z"
   },
   {
    "duration": 24,
    "start_time": "2021-11-01T14:20:23.176Z"
   },
   {
    "duration": 4728,
    "start_time": "2021-11-01T14:20:23.202Z"
   },
   {
    "duration": 20,
    "start_time": "2021-11-01T14:20:27.933Z"
   },
   {
    "duration": 24,
    "start_time": "2021-11-01T14:20:27.956Z"
   },
   {
    "duration": 40,
    "start_time": "2021-11-01T14:20:27.982Z"
   },
   {
    "duration": 16,
    "start_time": "2021-11-01T14:20:28.025Z"
   },
   {
    "duration": 17,
    "start_time": "2021-11-01T14:20:28.044Z"
   },
   {
    "duration": 15,
    "start_time": "2021-11-01T14:20:28.064Z"
   },
   {
    "duration": 95,
    "start_time": "2021-11-01T14:20:28.082Z"
   },
   {
    "duration": 91,
    "start_time": "2021-11-01T14:20:28.180Z"
   },
   {
    "duration": 80,
    "start_time": "2021-11-01T14:20:28.273Z"
   },
   {
    "duration": 72,
    "start_time": "2021-11-01T14:20:28.355Z"
   },
   {
    "duration": 811,
    "start_time": "2021-11-01T16:37:15.543Z"
   },
   {
    "duration": 26,
    "start_time": "2021-11-01T16:37:16.357Z"
   },
   {
    "duration": 29,
    "start_time": "2021-11-01T16:37:16.386Z"
   },
   {
    "duration": 21,
    "start_time": "2021-11-01T16:37:16.418Z"
   },
   {
    "duration": 48,
    "start_time": "2021-11-01T16:37:16.442Z"
   },
   {
    "duration": 12,
    "start_time": "2021-11-01T16:37:16.494Z"
   },
   {
    "duration": 17,
    "start_time": "2021-11-01T16:37:16.523Z"
   },
   {
    "duration": 638,
    "start_time": "2021-11-01T16:37:16.544Z"
   },
   {
    "duration": 3,
    "start_time": "2021-11-01T16:37:17.185Z"
   },
   {
    "duration": 12,
    "start_time": "2021-11-01T16:37:17.190Z"
   },
   {
    "duration": 30,
    "start_time": "2021-11-01T16:37:17.205Z"
   },
   {
    "duration": 15,
    "start_time": "2021-11-01T16:37:17.238Z"
   },
   {
    "duration": 10,
    "start_time": "2021-11-01T16:37:17.255Z"
   },
   {
    "duration": 757,
    "start_time": "2021-11-01T16:37:17.267Z"
   },
   {
    "duration": 13,
    "start_time": "2021-11-01T16:37:18.027Z"
   },
   {
    "duration": 8,
    "start_time": "2021-11-01T16:37:18.043Z"
   },
   {
    "duration": 8,
    "start_time": "2021-11-01T16:37:18.054Z"
   },
   {
    "duration": 11,
    "start_time": "2021-11-01T16:37:18.064Z"
   },
   {
    "duration": 16,
    "start_time": "2021-11-01T16:37:18.121Z"
   },
   {
    "duration": 21,
    "start_time": "2021-11-01T16:37:18.140Z"
   },
   {
    "duration": 11,
    "start_time": "2021-11-01T16:37:18.163Z"
   },
   {
    "duration": 45,
    "start_time": "2021-11-01T16:37:18.177Z"
   },
   {
    "duration": 5,
    "start_time": "2021-11-01T16:37:18.227Z"
   },
   {
    "duration": 22,
    "start_time": "2021-11-01T16:37:18.235Z"
   },
   {
    "duration": 9,
    "start_time": "2021-11-01T16:37:18.259Z"
   },
   {
    "duration": 53,
    "start_time": "2021-11-01T16:37:18.270Z"
   },
   {
    "duration": 12,
    "start_time": "2021-11-01T16:37:18.325Z"
   },
   {
    "duration": 29,
    "start_time": "2021-11-01T16:37:18.339Z"
   },
   {
    "duration": 54,
    "start_time": "2021-11-01T16:37:18.371Z"
   },
   {
    "duration": 22,
    "start_time": "2021-11-01T16:37:18.427Z"
   },
   {
    "duration": 9,
    "start_time": "2021-11-01T16:37:18.451Z"
   },
   {
    "duration": 16,
    "start_time": "2021-11-01T16:37:18.462Z"
   },
   {
    "duration": 4497,
    "start_time": "2021-11-01T16:37:18.480Z"
   },
   {
    "duration": 19,
    "start_time": "2021-11-01T16:37:22.980Z"
   },
   {
    "duration": 40,
    "start_time": "2021-11-01T16:37:23.002Z"
   },
   {
    "duration": 12,
    "start_time": "2021-11-01T16:37:23.044Z"
   },
   {
    "duration": 23,
    "start_time": "2021-11-01T16:37:23.059Z"
   },
   {
    "duration": 46,
    "start_time": "2021-11-01T16:37:23.084Z"
   },
   {
    "duration": 15,
    "start_time": "2021-11-01T16:37:23.133Z"
   },
   {
    "duration": 81,
    "start_time": "2021-11-01T16:37:23.151Z"
   },
   {
    "duration": 63,
    "start_time": "2021-11-01T16:37:23.234Z"
   },
   {
    "duration": 91,
    "start_time": "2021-11-01T16:37:23.299Z"
   },
   {
    "duration": 77,
    "start_time": "2021-11-01T16:37:23.392Z"
   },
   {
    "duration": 377,
    "start_time": "2021-11-01T16:45:24.724Z"
   },
   {
    "duration": 14,
    "start_time": "2021-11-01T16:45:52.128Z"
   },
   {
    "duration": 16,
    "start_time": "2021-11-01T16:46:06.056Z"
   },
   {
    "duration": 288,
    "start_time": "2021-11-01T16:46:09.883Z"
   },
   {
    "duration": 279,
    "start_time": "2021-11-01T16:46:17.519Z"
   },
   {
    "duration": 14,
    "start_time": "2021-11-01T16:46:51.441Z"
   },
   {
    "duration": 15,
    "start_time": "2021-11-01T16:47:49.522Z"
   },
   {
    "duration": 810,
    "start_time": "2021-11-01T16:59:47.623Z"
   },
   {
    "duration": 29,
    "start_time": "2021-11-01T16:59:48.436Z"
   },
   {
    "duration": 6,
    "start_time": "2021-11-01T16:59:48.469Z"
   },
   {
    "duration": 16,
    "start_time": "2021-11-01T16:59:48.478Z"
   },
   {
    "duration": 47,
    "start_time": "2021-11-01T16:59:48.523Z"
   },
   {
    "duration": 12,
    "start_time": "2021-11-01T16:59:48.572Z"
   },
   {
    "duration": 49,
    "start_time": "2021-11-01T16:59:48.586Z"
   },
   {
    "duration": 619,
    "start_time": "2021-11-01T16:59:48.640Z"
   },
   {
    "duration": 3,
    "start_time": "2021-11-01T16:59:49.263Z"
   },
   {
    "duration": 14,
    "start_time": "2021-11-01T16:59:49.269Z"
   },
   {
    "duration": 25,
    "start_time": "2021-11-01T16:59:49.286Z"
   },
   {
    "duration": 14,
    "start_time": "2021-11-01T16:59:49.322Z"
   },
   {
    "duration": 9,
    "start_time": "2021-11-01T16:59:49.338Z"
   },
   {
    "duration": 661,
    "start_time": "2021-11-01T16:59:49.349Z"
   },
   {
    "duration": 16,
    "start_time": "2021-11-01T16:59:50.013Z"
   },
   {
    "duration": 9,
    "start_time": "2021-11-01T16:59:50.031Z"
   },
   {
    "duration": 10,
    "start_time": "2021-11-01T16:59:50.042Z"
   },
   {
    "duration": 8,
    "start_time": "2021-11-01T16:59:50.054Z"
   },
   {
    "duration": 18,
    "start_time": "2021-11-01T16:59:50.064Z"
   },
   {
    "duration": 45,
    "start_time": "2021-11-01T16:59:50.084Z"
   },
   {
    "duration": 10,
    "start_time": "2021-11-01T16:59:50.131Z"
   },
   {
    "duration": 14,
    "start_time": "2021-11-01T16:59:50.143Z"
   },
   {
    "duration": 6,
    "start_time": "2021-11-01T16:59:50.162Z"
   },
   {
    "duration": 53,
    "start_time": "2021-11-01T16:59:50.171Z"
   },
   {
    "duration": 12,
    "start_time": "2021-11-01T16:59:50.226Z"
   },
   {
    "duration": 30,
    "start_time": "2021-11-01T16:59:50.241Z"
   },
   {
    "duration": 11,
    "start_time": "2021-11-01T16:59:50.273Z"
   },
   {
    "duration": 59,
    "start_time": "2021-11-01T16:59:50.286Z"
   },
   {
    "duration": 25,
    "start_time": "2021-11-01T16:59:50.347Z"
   },
   {
    "duration": 21,
    "start_time": "2021-11-01T16:59:50.374Z"
   },
   {
    "duration": 11,
    "start_time": "2021-11-01T16:59:50.422Z"
   },
   {
    "duration": 43,
    "start_time": "2021-11-01T16:59:50.435Z"
   },
   {
    "duration": 4522,
    "start_time": "2021-11-01T16:59:50.480Z"
   },
   {
    "duration": 37,
    "start_time": "2021-11-01T16:59:55.004Z"
   },
   {
    "duration": 27,
    "start_time": "2021-11-01T16:59:55.044Z"
   },
   {
    "duration": 12,
    "start_time": "2021-11-01T16:59:55.074Z"
   },
   {
    "duration": 45,
    "start_time": "2021-11-01T16:59:55.088Z"
   },
   {
    "duration": 17,
    "start_time": "2021-11-01T16:59:55.135Z"
   },
   {
    "duration": 17,
    "start_time": "2021-11-01T16:59:55.154Z"
   },
   {
    "duration": 58,
    "start_time": "2021-11-01T16:59:55.175Z"
   },
   {
    "duration": 55,
    "start_time": "2021-11-01T16:59:55.235Z"
   },
   {
    "duration": 81,
    "start_time": "2021-11-01T16:59:55.293Z"
   },
   {
    "duration": 78,
    "start_time": "2021-11-01T16:59:55.376Z"
   },
   {
    "duration": 70,
    "start_time": "2021-11-01T16:59:55.457Z"
   },
   {
    "duration": 794,
    "start_time": "2021-11-01T17:01:18.517Z"
   },
   {
    "duration": 28,
    "start_time": "2021-11-01T17:01:19.314Z"
   },
   {
    "duration": 6,
    "start_time": "2021-11-01T17:01:19.345Z"
   },
   {
    "duration": 20,
    "start_time": "2021-11-01T17:01:19.354Z"
   },
   {
    "duration": 70,
    "start_time": "2021-11-01T17:01:19.376Z"
   },
   {
    "duration": 11,
    "start_time": "2021-11-01T17:01:19.449Z"
   },
   {
    "duration": 17,
    "start_time": "2021-11-01T17:01:19.463Z"
   },
   {
    "duration": 730,
    "start_time": "2021-11-01T17:01:19.483Z"
   },
   {
    "duration": 7,
    "start_time": "2021-11-01T17:01:20.216Z"
   },
   {
    "duration": 11,
    "start_time": "2021-11-01T17:01:20.226Z"
   },
   {
    "duration": 18,
    "start_time": "2021-11-01T17:01:20.240Z"
   },
   {
    "duration": 13,
    "start_time": "2021-11-01T17:01:20.260Z"
   },
   {
    "duration": 9,
    "start_time": "2021-11-01T17:01:20.275Z"
   },
   {
    "duration": 718,
    "start_time": "2021-11-01T17:01:20.286Z"
   },
   {
    "duration": 17,
    "start_time": "2021-11-01T17:01:21.006Z"
   },
   {
    "duration": 15,
    "start_time": "2021-11-01T17:01:21.026Z"
   },
   {
    "duration": 11,
    "start_time": "2021-11-01T17:01:21.043Z"
   },
   {
    "duration": 8,
    "start_time": "2021-11-01T17:01:21.057Z"
   },
   {
    "duration": 19,
    "start_time": "2021-11-01T17:01:21.068Z"
   },
   {
    "duration": 37,
    "start_time": "2021-11-01T17:01:21.089Z"
   },
   {
    "duration": 9,
    "start_time": "2021-11-01T17:01:21.128Z"
   },
   {
    "duration": 18,
    "start_time": "2021-11-01T17:01:21.139Z"
   },
   {
    "duration": 6,
    "start_time": "2021-11-01T17:01:21.162Z"
   },
   {
    "duration": 51,
    "start_time": "2021-11-01T17:01:21.171Z"
   },
   {
    "duration": 10,
    "start_time": "2021-11-01T17:01:21.224Z"
   },
   {
    "duration": 32,
    "start_time": "2021-11-01T17:01:21.236Z"
   },
   {
    "duration": 11,
    "start_time": "2021-11-01T17:01:21.270Z"
   },
   {
    "duration": 56,
    "start_time": "2021-11-01T17:01:21.284Z"
   },
   {
    "duration": 25,
    "start_time": "2021-11-01T17:01:21.342Z"
   },
   {
    "duration": 22,
    "start_time": "2021-11-01T17:01:21.369Z"
   },
   {
    "duration": 36,
    "start_time": "2021-11-01T17:01:21.393Z"
   },
   {
    "duration": 16,
    "start_time": "2021-11-01T17:01:21.431Z"
   },
   {
    "duration": 4537,
    "start_time": "2021-11-01T17:01:21.450Z"
   },
   {
    "duration": 34,
    "start_time": "2021-11-01T17:01:25.990Z"
   },
   {
    "duration": 29,
    "start_time": "2021-11-01T17:01:26.027Z"
   },
   {
    "duration": 12,
    "start_time": "2021-11-01T17:01:26.059Z"
   },
   {
    "duration": 52,
    "start_time": "2021-11-01T17:01:26.073Z"
   },
   {
    "duration": 16,
    "start_time": "2021-11-01T17:01:26.127Z"
   },
   {
    "duration": 16,
    "start_time": "2021-11-01T17:01:26.146Z"
   },
   {
    "duration": 58,
    "start_time": "2021-11-01T17:01:26.166Z"
   },
   {
    "duration": 55,
    "start_time": "2021-11-01T17:01:26.227Z"
   },
   {
    "duration": 83,
    "start_time": "2021-11-01T17:01:26.284Z"
   },
   {
    "duration": 77,
    "start_time": "2021-11-01T17:01:26.369Z"
   },
   {
    "duration": 74,
    "start_time": "2021-11-01T17:01:26.448Z"
   },
   {
    "duration": 10,
    "start_time": "2021-11-01T17:03:42.149Z"
   },
   {
    "duration": 10,
    "start_time": "2021-11-01T17:03:53.840Z"
   },
   {
    "duration": 951,
    "start_time": "2021-11-01T17:05:03.006Z"
   },
   {
    "duration": 31,
    "start_time": "2021-11-01T17:05:03.960Z"
   },
   {
    "duration": 6,
    "start_time": "2021-11-01T17:05:03.994Z"
   },
   {
    "duration": 19,
    "start_time": "2021-11-01T17:05:04.023Z"
   },
   {
    "duration": 85,
    "start_time": "2021-11-01T17:05:04.044Z"
   },
   {
    "duration": 13,
    "start_time": "2021-11-01T17:05:04.132Z"
   },
   {
    "duration": 18,
    "start_time": "2021-11-01T17:05:04.148Z"
   },
   {
    "duration": 790,
    "start_time": "2021-11-01T17:05:04.170Z"
   },
   {
    "duration": 3,
    "start_time": "2021-11-01T17:05:04.964Z"
   },
   {
    "duration": 14,
    "start_time": "2021-11-01T17:05:04.970Z"
   },
   {
    "duration": 20,
    "start_time": "2021-11-01T17:05:04.987Z"
   },
   {
    "duration": 14,
    "start_time": "2021-11-01T17:05:05.024Z"
   },
   {
    "duration": 9,
    "start_time": "2021-11-01T17:05:05.040Z"
   },
   {
    "duration": 660,
    "start_time": "2021-11-01T17:05:05.052Z"
   },
   {
    "duration": 15,
    "start_time": "2021-11-01T17:05:05.714Z"
   },
   {
    "duration": 17,
    "start_time": "2021-11-01T17:05:05.731Z"
   },
   {
    "duration": 21,
    "start_time": "2021-11-01T17:05:05.750Z"
   },
   {
    "duration": 20,
    "start_time": "2021-11-01T17:05:05.774Z"
   },
   {
    "duration": 29,
    "start_time": "2021-11-01T17:05:05.798Z"
   },
   {
    "duration": 15,
    "start_time": "2021-11-01T17:05:05.830Z"
   },
   {
    "duration": 15,
    "start_time": "2021-11-01T17:05:05.848Z"
   },
   {
    "duration": 18,
    "start_time": "2021-11-01T17:05:05.865Z"
   },
   {
    "duration": 40,
    "start_time": "2021-11-01T17:05:05.888Z"
   },
   {
    "duration": 17,
    "start_time": "2021-11-01T17:05:05.932Z"
   },
   {
    "duration": 12,
    "start_time": "2021-11-01T17:05:05.952Z"
   },
   {
    "duration": 71,
    "start_time": "2021-11-01T17:05:05.966Z"
   },
   {
    "duration": 11,
    "start_time": "2021-11-01T17:05:06.039Z"
   },
   {
    "duration": 29,
    "start_time": "2021-11-01T17:05:06.052Z"
   },
   {
    "duration": 53,
    "start_time": "2021-11-01T17:05:06.085Z"
   },
   {
    "duration": 22,
    "start_time": "2021-11-01T17:05:06.140Z"
   },
   {
    "duration": 11,
    "start_time": "2021-11-01T17:05:06.165Z"
   },
   {
    "duration": 43,
    "start_time": "2021-11-01T17:05:06.179Z"
   },
   {
    "duration": 4597,
    "start_time": "2021-11-01T17:05:06.225Z"
   },
   {
    "duration": 20,
    "start_time": "2021-11-01T17:05:10.825Z"
   },
   {
    "duration": 25,
    "start_time": "2021-11-01T17:05:10.847Z"
   },
   {
    "duration": 12,
    "start_time": "2021-11-01T17:05:10.875Z"
   },
   {
    "duration": 46,
    "start_time": "2021-11-01T17:05:10.889Z"
   },
   {
    "duration": 21,
    "start_time": "2021-11-01T17:05:10.938Z"
   },
   {
    "duration": 16,
    "start_time": "2021-11-01T17:05:10.962Z"
   },
   {
    "duration": 53,
    "start_time": "2021-11-01T17:05:10.980Z"
   },
   {
    "duration": 60,
    "start_time": "2021-11-01T17:05:11.036Z"
   },
   {
    "duration": 82,
    "start_time": "2021-11-01T17:05:11.098Z"
   },
   {
    "duration": 91,
    "start_time": "2021-11-01T17:05:11.182Z"
   },
   {
    "duration": 76,
    "start_time": "2021-11-01T17:05:11.276Z"
   },
   {
    "duration": 3,
    "start_time": "2021-11-01T17:07:57.835Z"
   },
   {
    "duration": 871,
    "start_time": "2021-11-01T17:08:09.170Z"
   },
   {
    "duration": 28,
    "start_time": "2021-11-01T17:08:10.044Z"
   },
   {
    "duration": 5,
    "start_time": "2021-11-01T17:08:10.075Z"
   },
   {
    "duration": 45,
    "start_time": "2021-11-01T17:08:10.083Z"
   },
   {
    "duration": 48,
    "start_time": "2021-11-01T17:08:10.131Z"
   },
   {
    "duration": 42,
    "start_time": "2021-11-01T17:08:10.182Z"
   },
   {
    "duration": 19,
    "start_time": "2021-11-01T17:08:10.227Z"
   },
   {
    "duration": 621,
    "start_time": "2021-11-01T17:08:10.252Z"
   },
   {
    "duration": 3,
    "start_time": "2021-11-01T17:08:10.877Z"
   },
   {
    "duration": 11,
    "start_time": "2021-11-01T17:08:10.883Z"
   },
   {
    "duration": 39,
    "start_time": "2021-11-01T17:08:10.896Z"
   },
   {
    "duration": 15,
    "start_time": "2021-11-01T17:08:10.938Z"
   },
   {
    "duration": 10,
    "start_time": "2021-11-01T17:08:10.956Z"
   },
   {
    "duration": 652,
    "start_time": "2021-11-01T17:08:10.970Z"
   },
   {
    "duration": 13,
    "start_time": "2021-11-01T17:08:11.625Z"
   },
   {
    "duration": 12,
    "start_time": "2021-11-01T17:08:11.640Z"
   },
   {
    "duration": 8,
    "start_time": "2021-11-01T17:08:11.654Z"
   },
   {
    "duration": 11,
    "start_time": "2021-11-01T17:08:11.665Z"
   },
   {
    "duration": 10,
    "start_time": "2021-11-01T17:08:11.723Z"
   },
   {
    "duration": 12,
    "start_time": "2021-11-01T17:08:11.736Z"
   },
   {
    "duration": 12,
    "start_time": "2021-11-01T17:08:11.751Z"
   },
   {
    "duration": 57,
    "start_time": "2021-11-01T17:08:11.766Z"
   },
   {
    "duration": 6,
    "start_time": "2021-11-01T17:08:11.831Z"
   },
   {
    "duration": 22,
    "start_time": "2021-11-01T17:08:11.841Z"
   },
   {
    "duration": 10,
    "start_time": "2021-11-01T17:08:11.865Z"
   },
   {
    "duration": 65,
    "start_time": "2021-11-01T17:08:11.878Z"
   },
   {
    "duration": 11,
    "start_time": "2021-11-01T17:08:11.946Z"
   },
   {
    "duration": 29,
    "start_time": "2021-11-01T17:08:11.960Z"
   },
   {
    "duration": 51,
    "start_time": "2021-11-01T17:08:11.993Z"
   },
   {
    "duration": 24,
    "start_time": "2021-11-01T17:08:12.046Z"
   },
   {
    "duration": 12,
    "start_time": "2021-11-01T17:08:12.072Z"
   },
   {
    "duration": 37,
    "start_time": "2021-11-01T17:08:12.086Z"
   },
   {
    "duration": 4564,
    "start_time": "2021-11-01T17:08:12.126Z"
   },
   {
    "duration": 31,
    "start_time": "2021-11-01T17:08:16.693Z"
   },
   {
    "duration": 28,
    "start_time": "2021-11-01T17:08:16.727Z"
   },
   {
    "duration": 12,
    "start_time": "2021-11-01T17:08:16.757Z"
   },
   {
    "duration": 19,
    "start_time": "2021-11-01T17:08:16.772Z"
   },
   {
    "duration": 45,
    "start_time": "2021-11-01T17:08:16.793Z"
   },
   {
    "duration": 3,
    "start_time": "2021-11-01T17:08:16.841Z"
   },
   {
    "duration": 21,
    "start_time": "2021-11-01T17:08:16.846Z"
   },
   {
    "duration": 96,
    "start_time": "2021-11-01T17:08:16.869Z"
   },
   {
    "duration": 73,
    "start_time": "2021-11-01T17:08:16.967Z"
   },
   {
    "duration": 86,
    "start_time": "2021-11-01T17:08:17.042Z"
   },
   {
    "duration": 60,
    "start_time": "2021-11-01T17:08:17.131Z"
   },
   {
    "duration": 916,
    "start_time": "2021-11-01T17:09:52.147Z"
   },
   {
    "duration": 31,
    "start_time": "2021-11-01T17:09:53.066Z"
   },
   {
    "duration": 24,
    "start_time": "2021-11-01T17:09:53.100Z"
   },
   {
    "duration": 16,
    "start_time": "2021-11-01T17:09:53.127Z"
   },
   {
    "duration": 78,
    "start_time": "2021-11-01T17:09:53.146Z"
   },
   {
    "duration": 12,
    "start_time": "2021-11-01T17:09:53.227Z"
   },
   {
    "duration": 22,
    "start_time": "2021-11-01T17:09:53.242Z"
   },
   {
    "duration": 693,
    "start_time": "2021-11-01T17:09:53.269Z"
   },
   {
    "duration": 3,
    "start_time": "2021-11-01T17:09:53.965Z"
   },
   {
    "duration": 10,
    "start_time": "2021-11-01T17:09:53.971Z"
   },
   {
    "duration": 33,
    "start_time": "2021-11-01T17:09:53.983Z"
   },
   {
    "duration": 13,
    "start_time": "2021-11-01T17:09:54.019Z"
   },
   {
    "duration": 9,
    "start_time": "2021-11-01T17:09:54.035Z"
   },
   {
    "duration": 650,
    "start_time": "2021-11-01T17:09:54.046Z"
   },
   {
    "duration": 11,
    "start_time": "2021-11-01T17:09:54.699Z"
   },
   {
    "duration": 9,
    "start_time": "2021-11-01T17:09:54.723Z"
   },
   {
    "duration": 8,
    "start_time": "2021-11-01T17:09:54.735Z"
   },
   {
    "duration": 11,
    "start_time": "2021-11-01T17:09:54.745Z"
   },
   {
    "duration": 12,
    "start_time": "2021-11-01T17:09:54.759Z"
   },
   {
    "duration": 52,
    "start_time": "2021-11-01T17:09:54.773Z"
   },
   {
    "duration": 13,
    "start_time": "2021-11-01T17:09:54.827Z"
   },
   {
    "duration": 15,
    "start_time": "2021-11-01T17:09:54.842Z"
   },
   {
    "duration": 7,
    "start_time": "2021-11-01T17:09:54.862Z"
   },
   {
    "duration": 53,
    "start_time": "2021-11-01T17:09:54.872Z"
   },
   {
    "duration": 9,
    "start_time": "2021-11-01T17:09:54.928Z"
   },
   {
    "duration": 30,
    "start_time": "2021-11-01T17:09:54.940Z"
   },
   {
    "duration": 11,
    "start_time": "2021-11-01T17:09:54.973Z"
   },
   {
    "duration": 61,
    "start_time": "2021-11-01T17:09:54.986Z"
   },
   {
    "duration": 25,
    "start_time": "2021-11-01T17:09:55.050Z"
   },
   {
    "duration": 47,
    "start_time": "2021-11-01T17:09:55.078Z"
   },
   {
    "duration": 11,
    "start_time": "2021-11-01T17:09:55.128Z"
   },
   {
    "duration": 16,
    "start_time": "2021-11-01T17:09:55.141Z"
   },
   {
    "duration": 4620,
    "start_time": "2021-11-01T17:09:55.160Z"
   },
   {
    "duration": 19,
    "start_time": "2021-11-01T17:09:59.783Z"
   },
   {
    "duration": 26,
    "start_time": "2021-11-01T17:09:59.823Z"
   },
   {
    "duration": 14,
    "start_time": "2021-11-01T17:09:59.852Z"
   },
   {
    "duration": 15,
    "start_time": "2021-11-01T17:09:59.869Z"
   },
   {
    "duration": 51,
    "start_time": "2021-11-01T17:09:59.886Z"
   },
   {
    "duration": 4,
    "start_time": "2021-11-01T17:09:59.940Z"
   },
   {
    "duration": 20,
    "start_time": "2021-11-01T17:09:59.947Z"
   },
   {
    "duration": 93,
    "start_time": "2021-11-01T17:09:59.970Z"
   },
   {
    "duration": 83,
    "start_time": "2021-11-01T17:10:00.066Z"
   },
   {
    "duration": 74,
    "start_time": "2021-11-01T17:10:00.152Z"
   },
   {
    "duration": 75,
    "start_time": "2021-11-01T17:10:00.229Z"
   },
   {
    "duration": 385,
    "start_time": "2021-11-01T17:14:50.024Z"
   },
   {
    "duration": 274,
    "start_time": "2021-11-01T17:15:16.871Z"
   },
   {
    "duration": 12,
    "start_time": "2021-11-01T17:19:36.682Z"
   },
   {
    "duration": 289,
    "start_time": "2021-11-01T17:20:16.617Z"
   },
   {
    "duration": 9,
    "start_time": "2021-11-01T17:23:01.040Z"
   },
   {
    "duration": 288,
    "start_time": "2021-11-01T17:24:16.222Z"
   },
   {
    "duration": 11,
    "start_time": "2021-11-01T17:24:24.359Z"
   },
   {
    "duration": 27,
    "start_time": "2021-11-01T17:25:17.159Z"
   },
   {
    "duration": 95,
    "start_time": "2021-11-01T17:26:50.630Z"
   },
   {
    "duration": 13,
    "start_time": "2021-11-01T17:26:55.893Z"
   },
   {
    "duration": 9,
    "start_time": "2021-11-01T17:29:08.238Z"
   },
   {
    "duration": 10,
    "start_time": "2021-11-01T17:29:13.325Z"
   },
   {
    "duration": 332,
    "start_time": "2021-11-01T17:32:33.829Z"
   },
   {
    "duration": 12,
    "start_time": "2021-11-01T17:33:15.233Z"
   },
   {
    "duration": 25,
    "start_time": "2021-11-01T17:39:31.863Z"
   },
   {
    "duration": 30,
    "start_time": "2021-11-01T17:39:41.443Z"
   },
   {
    "duration": 37,
    "start_time": "2021-11-01T17:40:54.506Z"
   },
   {
    "duration": 33,
    "start_time": "2021-11-01T17:41:06.039Z"
   },
   {
    "duration": 33,
    "start_time": "2021-11-01T17:41:35.467Z"
   },
   {
    "duration": 50,
    "start_time": "2021-11-01T17:43:32.643Z"
   },
   {
    "duration": 33,
    "start_time": "2021-11-01T17:44:58.584Z"
   },
   {
    "duration": 32,
    "start_time": "2021-11-01T17:45:24.013Z"
   },
   {
    "duration": 6,
    "start_time": "2021-11-01T17:45:41.894Z"
   },
   {
    "duration": 6,
    "start_time": "2021-11-01T17:46:19.540Z"
   },
   {
    "duration": 7,
    "start_time": "2021-11-01T17:46:43.802Z"
   },
   {
    "duration": 300,
    "start_time": "2021-11-01T17:47:44.824Z"
   },
   {
    "duration": 339,
    "start_time": "2021-11-01T17:48:25.172Z"
   },
   {
    "duration": 419,
    "start_time": "2021-11-01T17:48:38.175Z"
   },
   {
    "duration": 18,
    "start_time": "2021-11-01T17:48:43.812Z"
   },
   {
    "duration": 7,
    "start_time": "2021-11-01T17:49:08.704Z"
   },
   {
    "duration": 32,
    "start_time": "2021-11-01T17:49:48.498Z"
   },
   {
    "duration": 30,
    "start_time": "2021-11-01T17:50:02.745Z"
   },
   {
    "duration": 90,
    "start_time": "2021-11-01T17:51:08.643Z"
   },
   {
    "duration": 342,
    "start_time": "2021-11-01T17:51:33.478Z"
   },
   {
    "duration": 28,
    "start_time": "2021-11-01T17:52:39.312Z"
   },
   {
    "duration": 300,
    "start_time": "2021-11-01T17:52:46.168Z"
   },
   {
    "duration": 316,
    "start_time": "2021-11-01T17:53:00.013Z"
   },
   {
    "duration": 322,
    "start_time": "2021-11-01T17:53:07.340Z"
   },
   {
    "duration": 21,
    "start_time": "2021-11-01T17:54:28.019Z"
   },
   {
    "duration": 10,
    "start_time": "2021-11-01T17:54:35.633Z"
   },
   {
    "duration": 7,
    "start_time": "2021-11-01T17:54:51.514Z"
   },
   {
    "duration": 10,
    "start_time": "2021-11-01T17:55:00.066Z"
   },
   {
    "duration": 6,
    "start_time": "2021-11-01T17:56:02.041Z"
   },
   {
    "duration": 19,
    "start_time": "2021-11-01T17:56:09.754Z"
   },
   {
    "duration": 26,
    "start_time": "2021-11-01T17:56:33.093Z"
   },
   {
    "duration": 15,
    "start_time": "2021-11-01T17:56:35.073Z"
   },
   {
    "duration": 14,
    "start_time": "2021-11-01T17:58:56.867Z"
   },
   {
    "duration": 9,
    "start_time": "2021-11-01T17:59:13.677Z"
   },
   {
    "duration": 8,
    "start_time": "2021-11-01T18:01:30.433Z"
   },
   {
    "duration": 8,
    "start_time": "2021-11-01T18:01:47.323Z"
   },
   {
    "duration": 8,
    "start_time": "2021-11-01T18:01:54.717Z"
   },
   {
    "duration": 8,
    "start_time": "2021-11-01T18:02:00.479Z"
   },
   {
    "duration": 7,
    "start_time": "2021-11-01T18:02:06.232Z"
   },
   {
    "duration": 277,
    "start_time": "2021-11-01T18:02:16.294Z"
   },
   {
    "duration": 285,
    "start_time": "2021-11-01T18:02:21.799Z"
   },
   {
    "duration": 5,
    "start_time": "2021-11-01T18:02:53.262Z"
   },
   {
    "duration": 13,
    "start_time": "2021-11-01T18:02:59.866Z"
   },
   {
    "duration": 23,
    "start_time": "2021-11-01T18:03:03.754Z"
   },
   {
    "duration": 22,
    "start_time": "2021-11-01T18:03:05.491Z"
   },
   {
    "duration": 15,
    "start_time": "2021-11-01T18:03:07.402Z"
   },
   {
    "duration": 6883,
    "start_time": "2021-11-01T18:03:54.392Z"
   },
   {
    "duration": 13,
    "start_time": "2021-11-01T18:04:06.949Z"
   },
   {
    "duration": 22,
    "start_time": "2021-11-01T18:04:16.076Z"
   },
   {
    "duration": 13,
    "start_time": "2021-11-01T18:04:18.303Z"
   },
   {
    "duration": 18,
    "start_time": "2021-11-01T18:04:48.098Z"
   },
   {
    "duration": 20,
    "start_time": "2021-11-01T18:04:54.930Z"
   },
   {
    "duration": 5657,
    "start_time": "2021-11-01T18:04:55.666Z"
   },
   {
    "duration": 21,
    "start_time": "2021-11-01T18:05:48.291Z"
   },
   {
    "duration": 6,
    "start_time": "2021-11-01T18:05:54.900Z"
   },
   {
    "duration": 434,
    "start_time": "2021-11-01T18:06:36.350Z"
   },
   {
    "duration": 22,
    "start_time": "2021-11-01T18:07:02.436Z"
   },
   {
    "duration": 20,
    "start_time": "2021-11-01T18:08:11.379Z"
   },
   {
    "duration": 27,
    "start_time": "2021-11-01T18:08:20.648Z"
   },
   {
    "duration": 23,
    "start_time": "2021-11-01T18:08:29.190Z"
   },
   {
    "duration": 51,
    "start_time": "2021-11-01T18:09:06.041Z"
   },
   {
    "duration": 27,
    "start_time": "2021-11-01T18:09:45.894Z"
   },
   {
    "duration": 28,
    "start_time": "2021-11-01T18:12:56.577Z"
   },
   {
    "duration": 24,
    "start_time": "2021-11-01T18:13:20.821Z"
   },
   {
    "duration": 35,
    "start_time": "2021-11-01T18:13:34.482Z"
   },
   {
    "duration": 25,
    "start_time": "2021-11-01T18:13:58.183Z"
   },
   {
    "duration": 6063,
    "start_time": "2021-11-01T18:18:49.988Z"
   },
   {
    "duration": 2017,
    "start_time": "2021-11-01T18:21:17.343Z"
   },
   {
    "duration": 2241,
    "start_time": "2021-11-01T18:22:16.889Z"
   },
   {
    "duration": 38,
    "start_time": "2021-11-01T18:22:26.962Z"
   },
   {
    "duration": 36,
    "start_time": "2021-11-01T18:22:34.956Z"
   },
   {
    "duration": 38,
    "start_time": "2021-11-01T18:22:49.157Z"
   },
   {
    "duration": 29,
    "start_time": "2021-11-01T18:23:09.248Z"
   },
   {
    "duration": 2599,
    "start_time": "2021-11-01T18:25:54.646Z"
   },
   {
    "duration": 36,
    "start_time": "2021-11-01T18:26:51.535Z"
   },
   {
    "duration": 31,
    "start_time": "2021-11-01T18:26:59.269Z"
   },
   {
    "duration": 38,
    "start_time": "2021-11-01T18:27:32.111Z"
   },
   {
    "duration": 2391,
    "start_time": "2021-11-01T18:27:46.191Z"
   },
   {
    "duration": 32,
    "start_time": "2021-11-01T18:27:56.468Z"
   },
   {
    "duration": 34,
    "start_time": "2021-11-01T18:28:08.771Z"
   },
   {
    "duration": 31,
    "start_time": "2021-11-01T18:28:17.997Z"
   },
   {
    "duration": 32,
    "start_time": "2021-11-01T18:28:48.188Z"
   },
   {
    "duration": 2924,
    "start_time": "2021-11-01T18:28:55.056Z"
   },
   {
    "duration": 33,
    "start_time": "2021-11-01T18:29:04.810Z"
   },
   {
    "duration": 34,
    "start_time": "2021-11-01T18:29:11.201Z"
   },
   {
    "duration": 31,
    "start_time": "2021-11-01T18:29:55.773Z"
   },
   {
    "duration": 2827,
    "start_time": "2021-11-01T18:30:02.781Z"
   },
   {
    "duration": 31,
    "start_time": "2021-11-01T18:30:13.198Z"
   },
   {
    "duration": 25,
    "start_time": "2021-11-01T18:30:15.189Z"
   },
   {
    "duration": 31,
    "start_time": "2021-11-01T18:30:21.894Z"
   },
   {
    "duration": 1965,
    "start_time": "2021-11-01T18:31:45.782Z"
   },
   {
    "duration": 33,
    "start_time": "2021-11-01T18:33:17.256Z"
   },
   {
    "duration": 31,
    "start_time": "2021-11-01T18:34:02.982Z"
   },
   {
    "duration": 32,
    "start_time": "2021-11-01T18:34:33.293Z"
   },
   {
    "duration": 34,
    "start_time": "2021-11-01T18:34:44.026Z"
   },
   {
    "duration": 560,
    "start_time": "2021-11-01T18:35:04.501Z"
   },
   {
    "duration": 501,
    "start_time": "2021-11-01T18:35:11.585Z"
   },
   {
    "duration": 34,
    "start_time": "2021-11-01T18:37:27.626Z"
   },
   {
    "duration": 42,
    "start_time": "2021-11-01T18:37:41.680Z"
   },
   {
    "duration": 33,
    "start_time": "2021-11-01T18:37:46.868Z"
   },
   {
    "duration": 37,
    "start_time": "2021-11-01T18:37:57.822Z"
   },
   {
    "duration": 33,
    "start_time": "2021-11-01T18:38:14.072Z"
   },
   {
    "duration": 24,
    "start_time": "2021-11-01T18:38:46.182Z"
   },
   {
    "duration": 296,
    "start_time": "2021-11-01T18:38:53.367Z"
   },
   {
    "duration": 31,
    "start_time": "2021-11-01T18:39:29.788Z"
   },
   {
    "duration": 104,
    "start_time": "2021-11-01T18:45:52.383Z"
   },
   {
    "duration": 45,
    "start_time": "2021-11-01T18:46:57.786Z"
   },
   {
    "duration": 733,
    "start_time": "2021-11-01T18:47:03.416Z"
   },
   {
    "duration": 300,
    "start_time": "2021-11-01T18:47:51.084Z"
   },
   {
    "duration": 31,
    "start_time": "2021-11-01T18:48:05.339Z"
   },
   {
    "duration": 319,
    "start_time": "2021-11-01T18:49:08.380Z"
   },
   {
    "duration": 319,
    "start_time": "2021-11-01T18:49:19.753Z"
   },
   {
    "duration": 33,
    "start_time": "2021-11-01T18:49:25.313Z"
   },
   {
    "duration": 41,
    "start_time": "2021-11-01T18:49:34.769Z"
   },
   {
    "duration": 36,
    "start_time": "2021-11-01T18:49:48.125Z"
   },
   {
    "duration": 29,
    "start_time": "2021-11-01T18:50:33.853Z"
   },
   {
    "duration": 3,
    "start_time": "2021-11-01T18:55:16.990Z"
   },
   {
    "duration": 37,
    "start_time": "2021-11-01T18:59:53.277Z"
   },
   {
    "duration": 30,
    "start_time": "2021-11-01T19:00:19.768Z"
   },
   {
    "duration": 38,
    "start_time": "2021-11-01T19:01:49.835Z"
   },
   {
    "duration": 31,
    "start_time": "2021-11-01T19:02:13.406Z"
   },
   {
    "duration": 3,
    "start_time": "2021-11-01T19:03:06.095Z"
   },
   {
    "duration": 3,
    "start_time": "2021-11-01T19:04:20.492Z"
   },
   {
    "duration": 4,
    "start_time": "2021-11-01T19:04:54.561Z"
   },
   {
    "duration": 37,
    "start_time": "2021-11-01T19:05:01.472Z"
   },
   {
    "duration": 38,
    "start_time": "2021-11-01T19:05:40.578Z"
   },
   {
    "duration": 3,
    "start_time": "2021-11-01T19:06:42.676Z"
   },
   {
    "duration": 34,
    "start_time": "2021-11-01T19:07:05.333Z"
   },
   {
    "duration": 58,
    "start_time": "2021-11-01T19:07:39.042Z"
   },
   {
    "duration": 4,
    "start_time": "2021-11-01T19:09:21.679Z"
   },
   {
    "duration": 840,
    "start_time": "2021-11-01T19:09:45.206Z"
   },
   {
    "duration": 28,
    "start_time": "2021-11-01T19:09:46.049Z"
   },
   {
    "duration": 8,
    "start_time": "2021-11-01T19:09:46.081Z"
   },
   {
    "duration": 42,
    "start_time": "2021-11-01T19:09:46.092Z"
   },
   {
    "duration": 50,
    "start_time": "2021-11-01T19:09:46.137Z"
   },
   {
    "duration": 39,
    "start_time": "2021-11-01T19:09:46.190Z"
   },
   {
    "duration": 19,
    "start_time": "2021-11-01T19:09:46.233Z"
   },
   {
    "duration": 626,
    "start_time": "2021-11-01T19:09:46.257Z"
   },
   {
    "duration": 3,
    "start_time": "2021-11-01T19:09:46.886Z"
   },
   {
    "duration": 10,
    "start_time": "2021-11-01T19:09:46.892Z"
   },
   {
    "duration": 35,
    "start_time": "2021-11-01T19:09:46.904Z"
   },
   {
    "duration": 15,
    "start_time": "2021-11-01T19:09:46.941Z"
   },
   {
    "duration": 9,
    "start_time": "2021-11-01T19:09:46.959Z"
   },
   {
    "duration": 641,
    "start_time": "2021-11-01T19:09:46.971Z"
   },
   {
    "duration": 12,
    "start_time": "2021-11-01T19:09:47.615Z"
   },
   {
    "duration": 12,
    "start_time": "2021-11-01T19:09:47.629Z"
   },
   {
    "duration": 20,
    "start_time": "2021-11-01T19:09:47.644Z"
   },
   {
    "duration": 13,
    "start_time": "2021-11-01T19:09:47.666Z"
   },
   {
    "duration": 46,
    "start_time": "2021-11-01T19:09:47.682Z"
   },
   {
    "duration": 20,
    "start_time": "2021-11-01T19:09:47.731Z"
   },
   {
    "duration": 16,
    "start_time": "2021-11-01T19:09:47.754Z"
   },
   {
    "duration": 23,
    "start_time": "2021-11-01T19:09:47.773Z"
   },
   {
    "duration": 22,
    "start_time": "2021-11-01T19:09:47.802Z"
   },
   {
    "duration": 24,
    "start_time": "2021-11-01T19:09:47.827Z"
   },
   {
    "duration": 10,
    "start_time": "2021-11-01T19:09:47.853Z"
   },
   {
    "duration": 59,
    "start_time": "2021-11-01T19:09:47.865Z"
   },
   {
    "duration": 12,
    "start_time": "2021-11-01T19:09:47.926Z"
   },
   {
    "duration": 35,
    "start_time": "2021-11-01T19:09:47.941Z"
   },
   {
    "duration": 45,
    "start_time": "2021-11-01T19:09:47.978Z"
   },
   {
    "duration": 23,
    "start_time": "2021-11-01T19:09:48.026Z"
   },
   {
    "duration": 9,
    "start_time": "2021-11-01T19:09:48.052Z"
   },
   {
    "duration": 17,
    "start_time": "2021-11-01T19:09:48.063Z"
   },
   {
    "duration": 4748,
    "start_time": "2021-11-01T19:09:48.082Z"
   },
   {
    "duration": 20,
    "start_time": "2021-11-01T19:09:52.833Z"
   },
   {
    "duration": 25,
    "start_time": "2021-11-01T19:09:52.855Z"
   },
   {
    "duration": 42,
    "start_time": "2021-11-01T19:09:52.882Z"
   },
   {
    "duration": 14,
    "start_time": "2021-11-01T19:09:52.926Z"
   },
   {
    "duration": 16,
    "start_time": "2021-11-01T19:09:52.943Z"
   },
   {
    "duration": 3,
    "start_time": "2021-11-01T19:09:52.961Z"
   },
   {
    "duration": 59,
    "start_time": "2021-11-01T19:09:52.966Z"
   },
   {
    "duration": 3,
    "start_time": "2021-11-01T19:09:53.027Z"
   },
   {
    "duration": 37,
    "start_time": "2021-11-01T19:09:53.033Z"
   },
   {
    "duration": 3,
    "start_time": "2021-11-01T19:09:53.072Z"
   },
   {
    "duration": 66,
    "start_time": "2021-11-01T19:09:53.077Z"
   },
   {
    "duration": 3,
    "start_time": "2021-11-01T19:09:53.146Z"
   },
   {
    "duration": 43,
    "start_time": "2021-11-01T19:09:53.152Z"
   },
   {
    "duration": 3,
    "start_time": "2021-11-01T19:09:53.222Z"
   },
   {
    "duration": 48,
    "start_time": "2021-11-01T19:09:53.228Z"
   },
   {
    "duration": 52,
    "start_time": "2021-11-01T19:13:24.968Z"
   },
   {
    "duration": 51,
    "start_time": "2021-11-01T19:15:28.692Z"
   },
   {
    "duration": 407,
    "start_time": "2021-11-01T19:16:35.988Z"
   },
   {
    "duration": 42,
    "start_time": "2021-11-01T19:17:31.136Z"
   },
   {
    "duration": 339,
    "start_time": "2021-11-01T19:23:01.149Z"
   },
   {
    "duration": 1507,
    "start_time": "2021-11-01T19:23:44.304Z"
   },
   {
    "duration": 40,
    "start_time": "2021-11-01T19:24:48.308Z"
   },
   {
    "duration": 45,
    "start_time": "2021-11-01T19:25:32.722Z"
   },
   {
    "duration": 330,
    "start_time": "2021-11-01T19:27:56.676Z"
   },
   {
    "duration": 40,
    "start_time": "2021-11-01T19:28:06.557Z"
   },
   {
    "duration": 798,
    "start_time": "2021-11-01T19:32:22.157Z"
   },
   {
    "duration": 27,
    "start_time": "2021-11-01T19:32:22.958Z"
   },
   {
    "duration": 15,
    "start_time": "2021-11-01T19:32:22.988Z"
   },
   {
    "duration": 15,
    "start_time": "2021-11-01T19:32:23.022Z"
   },
   {
    "duration": 51,
    "start_time": "2021-11-01T19:32:23.040Z"
   },
   {
    "duration": 33,
    "start_time": "2021-11-01T19:32:23.094Z"
   },
   {
    "duration": 17,
    "start_time": "2021-11-01T19:32:23.130Z"
   },
   {
    "duration": 609,
    "start_time": "2021-11-01T19:32:23.151Z"
   },
   {
    "duration": 4,
    "start_time": "2021-11-01T19:32:23.770Z"
   },
   {
    "duration": 15,
    "start_time": "2021-11-01T19:32:23.776Z"
   },
   {
    "duration": 31,
    "start_time": "2021-11-01T19:32:23.793Z"
   },
   {
    "duration": 19,
    "start_time": "2021-11-01T19:32:23.826Z"
   },
   {
    "duration": 18,
    "start_time": "2021-11-01T19:32:23.848Z"
   },
   {
    "duration": 716,
    "start_time": "2021-11-01T19:32:23.868Z"
   },
   {
    "duration": 12,
    "start_time": "2021-11-01T19:32:24.587Z"
   },
   {
    "duration": 21,
    "start_time": "2021-11-01T19:32:24.604Z"
   },
   {
    "duration": 20,
    "start_time": "2021-11-01T19:32:24.627Z"
   },
   {
    "duration": 20,
    "start_time": "2021-11-01T19:32:24.649Z"
   },
   {
    "duration": 22,
    "start_time": "2021-11-01T19:32:24.672Z"
   },
   {
    "duration": 29,
    "start_time": "2021-11-01T19:32:24.697Z"
   },
   {
    "duration": 18,
    "start_time": "2021-11-01T19:32:24.728Z"
   },
   {
    "duration": 30,
    "start_time": "2021-11-01T19:32:24.748Z"
   },
   {
    "duration": 22,
    "start_time": "2021-11-01T19:32:24.784Z"
   },
   {
    "duration": 32,
    "start_time": "2021-11-01T19:32:24.808Z"
   },
   {
    "duration": 9,
    "start_time": "2021-11-01T19:32:24.842Z"
   },
   {
    "duration": 44,
    "start_time": "2021-11-01T19:32:24.853Z"
   },
   {
    "duration": 11,
    "start_time": "2021-11-01T19:32:24.899Z"
   },
   {
    "duration": 40,
    "start_time": "2021-11-01T19:32:24.912Z"
   },
   {
    "duration": 25,
    "start_time": "2021-11-01T19:32:24.954Z"
   },
   {
    "duration": 45,
    "start_time": "2021-11-01T19:32:24.981Z"
   },
   {
    "duration": 10,
    "start_time": "2021-11-01T19:32:25.029Z"
   },
   {
    "duration": 35,
    "start_time": "2021-11-01T19:32:25.042Z"
   },
   {
    "duration": 4661,
    "start_time": "2021-11-01T19:32:25.079Z"
   },
   {
    "duration": 19,
    "start_time": "2021-11-01T19:32:29.742Z"
   },
   {
    "duration": 51,
    "start_time": "2021-11-01T19:32:29.763Z"
   },
   {
    "duration": 13,
    "start_time": "2021-11-01T19:32:29.816Z"
   },
   {
    "duration": 29,
    "start_time": "2021-11-01T19:32:29.832Z"
   },
   {
    "duration": 19,
    "start_time": "2021-11-01T19:32:29.864Z"
   },
   {
    "duration": 12,
    "start_time": "2021-11-01T19:32:29.886Z"
   },
   {
    "duration": 35,
    "start_time": "2021-11-01T19:32:29.901Z"
   },
   {
    "duration": 9,
    "start_time": "2021-11-01T19:32:29.939Z"
   },
   {
    "duration": 65,
    "start_time": "2021-11-01T19:32:29.950Z"
   },
   {
    "duration": 5,
    "start_time": "2021-11-01T19:32:30.017Z"
   },
   {
    "duration": 65,
    "start_time": "2021-11-01T19:32:30.024Z"
   },
   {
    "duration": 3,
    "start_time": "2021-11-01T19:32:30.092Z"
   },
   {
    "duration": 87,
    "start_time": "2021-11-01T19:32:30.098Z"
   },
   {
    "duration": 3,
    "start_time": "2021-11-01T19:32:30.187Z"
   },
   {
    "duration": 72,
    "start_time": "2021-11-01T19:32:30.192Z"
   },
   {
    "duration": 790,
    "start_time": "2021-11-01T19:53:04.035Z"
   },
   {
    "duration": 27,
    "start_time": "2021-11-01T19:53:04.828Z"
   },
   {
    "duration": 11,
    "start_time": "2021-11-01T19:53:04.858Z"
   },
   {
    "duration": 25,
    "start_time": "2021-11-01T19:53:04.871Z"
   },
   {
    "duration": 58,
    "start_time": "2021-11-01T19:53:04.898Z"
   },
   {
    "duration": 13,
    "start_time": "2021-11-01T19:53:04.958Z"
   },
   {
    "duration": 48,
    "start_time": "2021-11-01T19:53:04.974Z"
   },
   {
    "duration": 595,
    "start_time": "2021-11-01T19:53:05.028Z"
   },
   {
    "duration": 3,
    "start_time": "2021-11-01T19:53:05.627Z"
   },
   {
    "duration": 11,
    "start_time": "2021-11-01T19:53:05.633Z"
   },
   {
    "duration": 23,
    "start_time": "2021-11-01T19:53:05.646Z"
   },
   {
    "duration": 16,
    "start_time": "2021-11-01T19:53:05.672Z"
   },
   {
    "duration": 12,
    "start_time": "2021-11-01T19:53:05.721Z"
   },
   {
    "duration": 590,
    "start_time": "2021-11-01T19:53:05.735Z"
   },
   {
    "duration": 12,
    "start_time": "2021-11-01T19:53:06.327Z"
   },
   {
    "duration": 22,
    "start_time": "2021-11-01T19:53:06.341Z"
   },
   {
    "duration": 27,
    "start_time": "2021-11-01T19:53:06.366Z"
   },
   {
    "duration": 23,
    "start_time": "2021-11-01T19:53:06.396Z"
   },
   {
    "duration": 17,
    "start_time": "2021-11-01T19:53:06.422Z"
   },
   {
    "duration": 10,
    "start_time": "2021-11-01T19:53:06.441Z"
   },
   {
    "duration": 9,
    "start_time": "2021-11-01T19:53:06.453Z"
   },
   {
    "duration": 15,
    "start_time": "2021-11-01T19:53:06.464Z"
   },
   {
    "duration": 37,
    "start_time": "2021-11-01T19:53:06.485Z"
   },
   {
    "duration": 19,
    "start_time": "2021-11-01T19:53:06.526Z"
   },
   {
    "duration": 12,
    "start_time": "2021-11-01T19:53:06.547Z"
   },
   {
    "duration": 63,
    "start_time": "2021-11-01T19:53:06.562Z"
   },
   {
    "duration": 14,
    "start_time": "2021-11-01T19:53:06.628Z"
   },
   {
    "duration": 29,
    "start_time": "2021-11-01T19:53:06.644Z"
   },
   {
    "duration": 50,
    "start_time": "2021-11-01T19:53:06.675Z"
   },
   {
    "duration": 23,
    "start_time": "2021-11-01T19:53:06.727Z"
   },
   {
    "duration": 9,
    "start_time": "2021-11-01T19:53:06.753Z"
   },
   {
    "duration": 19,
    "start_time": "2021-11-01T19:53:06.765Z"
   },
   {
    "duration": 4801,
    "start_time": "2021-11-01T19:53:06.787Z"
   },
   {
    "duration": 32,
    "start_time": "2021-11-01T19:53:11.591Z"
   },
   {
    "duration": 22,
    "start_time": "2021-11-01T19:53:11.626Z"
   },
   {
    "duration": 12,
    "start_time": "2021-11-01T19:53:11.650Z"
   },
   {
    "duration": 20,
    "start_time": "2021-11-01T19:53:11.664Z"
   },
   {
    "duration": 52,
    "start_time": "2021-11-01T19:53:11.686Z"
   },
   {
    "duration": 4,
    "start_time": "2021-11-01T19:53:11.740Z"
   },
   {
    "duration": 19,
    "start_time": "2021-11-01T19:53:11.746Z"
   },
   {
    "duration": 4,
    "start_time": "2021-11-01T19:53:11.767Z"
   },
   {
    "duration": 78,
    "start_time": "2021-11-01T19:53:11.773Z"
   },
   {
    "duration": 3,
    "start_time": "2021-11-01T19:53:11.853Z"
   },
   {
    "duration": 46,
    "start_time": "2021-11-01T19:53:11.859Z"
   },
   {
    "duration": 3,
    "start_time": "2021-11-01T19:53:11.922Z"
   },
   {
    "duration": 54,
    "start_time": "2021-11-01T19:53:11.928Z"
   },
   {
    "duration": 3,
    "start_time": "2021-11-01T19:53:11.984Z"
   },
   {
    "duration": 66,
    "start_time": "2021-11-01T19:53:11.990Z"
   },
   {
    "duration": 844,
    "start_time": "2021-11-01T20:00:32.442Z"
   },
   {
    "duration": 28,
    "start_time": "2021-11-01T20:00:33.289Z"
   },
   {
    "duration": 11,
    "start_time": "2021-11-01T20:00:33.320Z"
   },
   {
    "duration": 35,
    "start_time": "2021-11-01T20:00:33.334Z"
   },
   {
    "duration": 71,
    "start_time": "2021-11-01T20:00:33.372Z"
   },
   {
    "duration": 15,
    "start_time": "2021-11-01T20:00:33.446Z"
   },
   {
    "duration": 32,
    "start_time": "2021-11-01T20:00:33.464Z"
   },
   {
    "duration": 601,
    "start_time": "2021-11-01T20:00:33.501Z"
   },
   {
    "duration": 3,
    "start_time": "2021-11-01T20:00:34.105Z"
   },
   {
    "duration": 5,
    "start_time": "2021-11-01T20:00:34.123Z"
   },
   {
    "duration": 23,
    "start_time": "2021-11-01T20:00:34.130Z"
   },
   {
    "duration": 13,
    "start_time": "2021-11-01T20:00:34.156Z"
   },
   {
    "duration": 13,
    "start_time": "2021-11-01T20:00:34.172Z"
   },
   {
    "duration": 604,
    "start_time": "2021-11-01T20:00:34.187Z"
   },
   {
    "duration": 12,
    "start_time": "2021-11-01T20:00:34.793Z"
   },
   {
    "duration": 8,
    "start_time": "2021-11-01T20:00:34.823Z"
   },
   {
    "duration": 8,
    "start_time": "2021-11-01T20:00:34.834Z"
   },
   {
    "duration": 9,
    "start_time": "2021-11-01T20:00:34.844Z"
   },
   {
    "duration": 11,
    "start_time": "2021-11-01T20:00:34.856Z"
   },
   {
    "duration": 13,
    "start_time": "2021-11-01T20:00:34.869Z"
   },
   {
    "duration": 40,
    "start_time": "2021-11-01T20:00:34.885Z"
   },
   {
    "duration": 20,
    "start_time": "2021-11-01T20:00:34.927Z"
   },
   {
    "duration": 7,
    "start_time": "2021-11-01T20:00:34.955Z"
   },
   {
    "duration": 18,
    "start_time": "2021-11-01T20:00:34.966Z"
   },
   {
    "duration": 42,
    "start_time": "2021-11-01T20:00:34.986Z"
   },
   {
    "duration": 42,
    "start_time": "2021-11-01T20:00:35.030Z"
   },
   {
    "duration": 12,
    "start_time": "2021-11-01T20:00:35.075Z"
   },
   {
    "duration": 46,
    "start_time": "2021-11-01T20:00:35.089Z"
   },
   {
    "duration": 25,
    "start_time": "2021-11-01T20:00:35.137Z"
   },
   {
    "duration": 23,
    "start_time": "2021-11-01T20:00:35.164Z"
   },
   {
    "duration": 38,
    "start_time": "2021-11-01T20:00:35.189Z"
   },
   {
    "duration": 18,
    "start_time": "2021-11-01T20:00:35.229Z"
   },
   {
    "duration": 4400,
    "start_time": "2021-11-01T20:00:35.250Z"
   },
   {
    "duration": 26,
    "start_time": "2021-11-01T20:00:39.653Z"
   },
   {
    "duration": 42,
    "start_time": "2021-11-01T20:00:39.682Z"
   },
   {
    "duration": 12,
    "start_time": "2021-11-01T20:00:39.726Z"
   },
   {
    "duration": 15,
    "start_time": "2021-11-01T20:00:39.741Z"
   },
   {
    "duration": 17,
    "start_time": "2021-11-01T20:00:39.758Z"
   },
   {
    "duration": 4,
    "start_time": "2021-11-01T20:00:39.823Z"
   },
   {
    "duration": 23,
    "start_time": "2021-11-01T20:00:39.829Z"
   },
   {
    "duration": 4,
    "start_time": "2021-11-01T20:00:39.855Z"
   },
   {
    "duration": 72,
    "start_time": "2021-11-01T20:00:39.862Z"
   },
   {
    "duration": 3,
    "start_time": "2021-11-01T20:00:39.937Z"
   },
   {
    "duration": 49,
    "start_time": "2021-11-01T20:00:39.942Z"
   },
   {
    "duration": 3,
    "start_time": "2021-11-01T20:00:39.994Z"
   },
   {
    "duration": 48,
    "start_time": "2021-11-01T20:00:40.023Z"
   },
   {
    "duration": 4,
    "start_time": "2021-11-01T20:00:40.074Z"
   },
   {
    "duration": 68,
    "start_time": "2021-11-01T20:00:40.080Z"
   },
   {
    "duration": 553,
    "start_time": "2021-11-02T10:59:38.928Z"
   },
   {
    "duration": 16,
    "start_time": "2021-11-02T10:59:39.483Z"
   },
   {
    "duration": 5,
    "start_time": "2021-11-02T10:59:39.501Z"
   },
   {
    "duration": 10,
    "start_time": "2021-11-02T10:59:39.508Z"
   },
   {
    "duration": 31,
    "start_time": "2021-11-02T10:59:39.520Z"
   },
   {
    "duration": 8,
    "start_time": "2021-11-02T10:59:39.552Z"
   },
   {
    "duration": 32,
    "start_time": "2021-11-02T10:59:39.562Z"
   },
   {
    "duration": 329,
    "start_time": "2021-11-02T10:59:39.595Z"
   },
   {
    "duration": 2,
    "start_time": "2021-11-02T10:59:39.926Z"
   },
   {
    "duration": 10,
    "start_time": "2021-11-02T10:59:39.930Z"
   },
   {
    "duration": 15,
    "start_time": "2021-11-02T10:59:39.941Z"
   },
   {
    "duration": 8,
    "start_time": "2021-11-02T10:59:39.957Z"
   },
   {
    "duration": 9,
    "start_time": "2021-11-02T10:59:39.967Z"
   },
   {
    "duration": 329,
    "start_time": "2021-11-02T10:59:39.991Z"
   },
   {
    "duration": 8,
    "start_time": "2021-11-02T10:59:40.321Z"
   },
   {
    "duration": 8,
    "start_time": "2021-11-02T10:59:40.331Z"
   },
   {
    "duration": 5,
    "start_time": "2021-11-02T10:59:40.340Z"
   },
   {
    "duration": 9,
    "start_time": "2021-11-02T10:59:40.347Z"
   },
   {
    "duration": 18,
    "start_time": "2021-11-02T10:59:40.357Z"
   },
   {
    "duration": 17,
    "start_time": "2021-11-02T10:59:40.376Z"
   },
   {
    "duration": 6,
    "start_time": "2021-11-02T10:59:40.394Z"
   },
   {
    "duration": 13,
    "start_time": "2021-11-02T10:59:40.401Z"
   },
   {
    "duration": 4,
    "start_time": "2021-11-02T10:59:40.415Z"
   },
   {
    "duration": 10,
    "start_time": "2021-11-02T10:59:40.421Z"
   },
   {
    "duration": 6,
    "start_time": "2021-11-02T10:59:40.432Z"
   },
   {
    "duration": 24,
    "start_time": "2021-11-02T10:59:40.440Z"
   },
   {
    "duration": 27,
    "start_time": "2021-11-02T10:59:40.467Z"
   },
   {
    "duration": 18,
    "start_time": "2021-11-02T10:59:40.496Z"
   },
   {
    "duration": 16,
    "start_time": "2021-11-02T10:59:40.515Z"
   },
   {
    "duration": 13,
    "start_time": "2021-11-02T10:59:40.533Z"
   },
   {
    "duration": 6,
    "start_time": "2021-11-02T10:59:40.547Z"
   },
   {
    "duration": 7,
    "start_time": "2021-11-02T10:59:40.555Z"
   },
   {
    "duration": 3283,
    "start_time": "2021-11-02T10:59:40.564Z"
   },
   {
    "duration": 12,
    "start_time": "2021-11-02T10:59:43.849Z"
   },
   {
    "duration": 33,
    "start_time": "2021-11-02T10:59:43.863Z"
   },
   {
    "duration": 9,
    "start_time": "2021-11-02T10:59:43.898Z"
   },
   {
    "duration": 14,
    "start_time": "2021-11-02T10:59:43.909Z"
   },
   {
    "duration": 11,
    "start_time": "2021-11-02T10:59:43.925Z"
   },
   {
    "duration": 3,
    "start_time": "2021-11-02T10:59:43.937Z"
   },
   {
    "duration": 13,
    "start_time": "2021-11-02T10:59:43.941Z"
   },
   {
    "duration": 2,
    "start_time": "2021-11-02T10:59:43.955Z"
   },
   {
    "duration": 52,
    "start_time": "2021-11-02T10:59:43.959Z"
   },
   {
    "duration": 2,
    "start_time": "2021-11-02T10:59:44.013Z"
   },
   {
    "duration": 29,
    "start_time": "2021-11-02T10:59:44.016Z"
   },
   {
    "duration": 2,
    "start_time": "2021-11-02T10:59:44.046Z"
   },
   {
    "duration": 52,
    "start_time": "2021-11-02T10:59:44.050Z"
   },
   {
    "duration": 3,
    "start_time": "2021-11-02T10:59:44.104Z"
   },
   {
    "duration": 37,
    "start_time": "2021-11-02T10:59:44.108Z"
   },
   {
    "duration": 835,
    "start_time": "2022-03-07T07:59:41.775Z"
   },
   {
    "duration": 29,
    "start_time": "2022-03-07T07:59:42.613Z"
   },
   {
    "duration": 6,
    "start_time": "2022-03-07T07:59:42.646Z"
   },
   {
    "duration": 25,
    "start_time": "2022-03-07T07:59:42.656Z"
   },
   {
    "duration": 71,
    "start_time": "2022-03-07T07:59:42.684Z"
   },
   {
    "duration": 14,
    "start_time": "2022-03-07T07:59:42.758Z"
   },
   {
    "duration": 20,
    "start_time": "2022-03-07T07:59:42.774Z"
   },
   {
    "duration": 629,
    "start_time": "2022-03-07T07:59:42.797Z"
   },
   {
    "duration": 3,
    "start_time": "2022-03-07T07:59:43.433Z"
   },
   {
    "duration": 18,
    "start_time": "2022-03-07T07:59:43.438Z"
   },
   {
    "duration": 16,
    "start_time": "2022-03-07T07:59:43.459Z"
   },
   {
    "duration": 15,
    "start_time": "2022-03-07T07:59:43.477Z"
   },
   {
    "duration": 15,
    "start_time": "2022-03-07T07:59:43.494Z"
   },
   {
    "duration": 729,
    "start_time": "2022-03-07T07:59:43.531Z"
   },
   {
    "duration": 12,
    "start_time": "2022-03-07T07:59:44.263Z"
   },
   {
    "duration": 10,
    "start_time": "2022-03-07T07:59:44.278Z"
   },
   {
    "duration": 8,
    "start_time": "2022-03-07T07:59:44.291Z"
   },
   {
    "duration": 39,
    "start_time": "2022-03-07T07:59:44.302Z"
   },
   {
    "duration": 18,
    "start_time": "2022-03-07T07:59:44.344Z"
   },
   {
    "duration": 10,
    "start_time": "2022-03-07T07:59:44.365Z"
   },
   {
    "duration": 12,
    "start_time": "2022-03-07T07:59:44.378Z"
   },
   {
    "duration": 52,
    "start_time": "2022-03-07T07:59:44.393Z"
   },
   {
    "duration": 5,
    "start_time": "2022-03-07T07:59:44.450Z"
   },
   {
    "duration": 16,
    "start_time": "2022-03-07T07:59:44.458Z"
   },
   {
    "duration": 9,
    "start_time": "2022-03-07T07:59:44.476Z"
   },
   {
    "duration": 66,
    "start_time": "2022-03-07T07:59:44.487Z"
   },
   {
    "duration": 16,
    "start_time": "2022-03-07T07:59:44.556Z"
   },
   {
    "duration": 32,
    "start_time": "2022-03-07T07:59:44.575Z"
   },
   {
    "duration": 48,
    "start_time": "2022-03-07T07:59:44.610Z"
   },
   {
    "duration": 26,
    "start_time": "2022-03-07T07:59:44.661Z"
   },
   {
    "duration": 12,
    "start_time": "2022-03-07T07:59:44.690Z"
   },
   {
    "duration": 48,
    "start_time": "2022-03-07T07:59:44.704Z"
   },
   {
    "duration": 4923,
    "start_time": "2022-03-07T07:59:44.755Z"
   },
   {
    "duration": 19,
    "start_time": "2022-03-07T07:59:49.681Z"
   },
   {
    "duration": 40,
    "start_time": "2022-03-07T07:59:49.702Z"
   },
   {
    "duration": 11,
    "start_time": "2022-03-07T07:59:49.745Z"
   },
   {
    "duration": 25,
    "start_time": "2022-03-07T07:59:49.758Z"
   },
   {
    "duration": 16,
    "start_time": "2022-03-07T07:59:49.785Z"
   },
   {
    "duration": 30,
    "start_time": "2022-03-07T07:59:49.804Z"
   },
   {
    "duration": 24,
    "start_time": "2022-03-07T07:59:49.837Z"
   },
   {
    "duration": 3,
    "start_time": "2022-03-07T07:59:49.864Z"
   },
   {
    "duration": 63,
    "start_time": "2022-03-07T07:59:49.870Z"
   },
   {
    "duration": 2,
    "start_time": "2022-03-07T07:59:49.936Z"
   },
   {
    "duration": 51,
    "start_time": "2022-03-07T07:59:49.940Z"
   },
   {
    "duration": 3,
    "start_time": "2022-03-07T07:59:49.993Z"
   },
   {
    "duration": 64,
    "start_time": "2022-03-07T07:59:49.998Z"
   },
   {
    "duration": 3,
    "start_time": "2022-03-07T07:59:50.064Z"
   },
   {
    "duration": 46,
    "start_time": "2022-03-07T07:59:50.069Z"
   },
   {
    "duration": 849,
    "start_time": "2022-03-07T08:00:06.898Z"
   },
   {
    "duration": 28,
    "start_time": "2022-03-07T08:00:07.750Z"
   },
   {
    "duration": 5,
    "start_time": "2022-03-07T08:00:07.784Z"
   },
   {
    "duration": 48,
    "start_time": "2022-03-07T08:00:07.791Z"
   },
   {
    "duration": 47,
    "start_time": "2022-03-07T08:00:07.841Z"
   },
   {
    "duration": 12,
    "start_time": "2022-03-07T08:00:07.890Z"
   },
   {
    "duration": 43,
    "start_time": "2022-03-07T08:00:07.905Z"
   },
   {
    "duration": 734,
    "start_time": "2022-03-07T08:00:07.952Z"
   },
   {
    "duration": 3,
    "start_time": "2022-03-07T08:00:08.689Z"
   },
   {
    "duration": 11,
    "start_time": "2022-03-07T08:00:08.694Z"
   },
   {
    "duration": 32,
    "start_time": "2022-03-07T08:00:08.708Z"
   },
   {
    "duration": 13,
    "start_time": "2022-03-07T08:00:08.743Z"
   },
   {
    "duration": 12,
    "start_time": "2022-03-07T08:00:08.758Z"
   },
   {
    "duration": 672,
    "start_time": "2022-03-07T08:00:08.773Z"
   },
   {
    "duration": 15,
    "start_time": "2022-03-07T08:00:09.447Z"
   },
   {
    "duration": 9,
    "start_time": "2022-03-07T08:00:09.465Z"
   },
   {
    "duration": 6,
    "start_time": "2022-03-07T08:00:09.476Z"
   },
   {
    "duration": 48,
    "start_time": "2022-03-07T08:00:09.484Z"
   },
   {
    "duration": 11,
    "start_time": "2022-03-07T08:00:09.535Z"
   },
   {
    "duration": 9,
    "start_time": "2022-03-07T08:00:09.548Z"
   },
   {
    "duration": 9,
    "start_time": "2022-03-07T08:00:09.559Z"
   },
   {
    "duration": 13,
    "start_time": "2022-03-07T08:00:09.573Z"
   },
   {
    "duration": 43,
    "start_time": "2022-03-07T08:00:09.589Z"
   },
   {
    "duration": 16,
    "start_time": "2022-03-07T08:00:09.635Z"
   },
   {
    "duration": 10,
    "start_time": "2022-03-07T08:00:09.654Z"
   },
   {
    "duration": 31,
    "start_time": "2022-03-07T08:00:09.666Z"
   },
   {
    "duration": 11,
    "start_time": "2022-03-07T08:00:09.733Z"
   },
   {
    "duration": 28,
    "start_time": "2022-03-07T08:00:09.746Z"
   },
   {
    "duration": 24,
    "start_time": "2022-03-07T08:00:09.777Z"
   },
   {
    "duration": 47,
    "start_time": "2022-03-07T08:00:09.804Z"
   },
   {
    "duration": 11,
    "start_time": "2022-03-07T08:00:09.853Z"
   },
   {
    "duration": 15,
    "start_time": "2022-03-07T08:00:09.866Z"
   },
   {
    "duration": 5056,
    "start_time": "2022-03-07T08:00:09.884Z"
   },
   {
    "duration": 19,
    "start_time": "2022-03-07T08:00:14.943Z"
   },
   {
    "duration": 32,
    "start_time": "2022-03-07T08:00:14.964Z"
   },
   {
    "duration": 35,
    "start_time": "2022-03-07T08:00:14.999Z"
   },
   {
    "duration": 17,
    "start_time": "2022-03-07T08:00:15.037Z"
   },
   {
    "duration": 18,
    "start_time": "2022-03-07T08:00:15.057Z"
   },
   {
    "duration": 4,
    "start_time": "2022-03-07T08:00:15.078Z"
   },
   {
    "duration": 59,
    "start_time": "2022-03-07T08:00:15.084Z"
   },
   {
    "duration": 9,
    "start_time": "2022-03-07T08:00:15.146Z"
   },
   {
    "duration": 45,
    "start_time": "2022-03-07T08:00:15.157Z"
   },
   {
    "duration": 3,
    "start_time": "2022-03-07T08:00:15.205Z"
   },
   {
    "duration": 50,
    "start_time": "2022-03-07T08:00:15.232Z"
   },
   {
    "duration": 3,
    "start_time": "2022-03-07T08:00:15.284Z"
   },
   {
    "duration": 68,
    "start_time": "2022-03-07T08:00:15.289Z"
   },
   {
    "duration": 4,
    "start_time": "2022-03-07T08:00:15.359Z"
   },
   {
    "duration": 42,
    "start_time": "2022-03-07T08:00:15.366Z"
   },
   {
    "duration": 761,
    "start_time": "2022-03-07T08:22:12.674Z"
   },
   {
    "duration": 27,
    "start_time": "2022-03-07T08:22:13.438Z"
   },
   {
    "duration": 6,
    "start_time": "2022-03-07T08:22:13.468Z"
   },
   {
    "duration": 16,
    "start_time": "2022-03-07T08:22:13.476Z"
   },
   {
    "duration": 83,
    "start_time": "2022-03-07T08:22:13.495Z"
   },
   {
    "duration": 14,
    "start_time": "2022-03-07T08:22:13.581Z"
   },
   {
    "duration": 43,
    "start_time": "2022-03-07T08:22:13.598Z"
   },
   {
    "duration": 614,
    "start_time": "2022-03-07T08:22:13.646Z"
   },
   {
    "duration": 6,
    "start_time": "2022-03-07T08:22:14.263Z"
   },
   {
    "duration": 18,
    "start_time": "2022-03-07T08:22:14.271Z"
   },
   {
    "duration": 13,
    "start_time": "2022-03-07T08:22:14.291Z"
   },
   {
    "duration": 9,
    "start_time": "2022-03-07T08:22:14.333Z"
   },
   {
    "duration": 614,
    "start_time": "2022-03-07T08:22:14.345Z"
   },
   {
    "duration": 12,
    "start_time": "2022-03-07T08:22:14.962Z"
   },
   {
    "duration": 9,
    "start_time": "2022-03-07T08:22:14.977Z"
   },
   {
    "duration": 5,
    "start_time": "2022-03-07T08:22:14.990Z"
   },
   {
    "duration": 41,
    "start_time": "2022-03-07T08:22:14.998Z"
   },
   {
    "duration": 13,
    "start_time": "2022-03-07T08:22:15.041Z"
   },
   {
    "duration": 11,
    "start_time": "2022-03-07T08:22:15.056Z"
   },
   {
    "duration": 9,
    "start_time": "2022-03-07T08:22:15.069Z"
   },
   {
    "duration": 53,
    "start_time": "2022-03-07T08:22:15.080Z"
   },
   {
    "duration": 6,
    "start_time": "2022-03-07T08:22:15.135Z"
   },
   {
    "duration": 14,
    "start_time": "2022-03-07T08:22:15.146Z"
   },
   {
    "duration": 9,
    "start_time": "2022-03-07T08:22:15.163Z"
   },
   {
    "duration": 64,
    "start_time": "2022-03-07T08:22:15.174Z"
   },
   {
    "duration": 11,
    "start_time": "2022-03-07T08:22:15.241Z"
   },
   {
    "duration": 29,
    "start_time": "2022-03-07T08:22:15.255Z"
   },
   {
    "duration": 52,
    "start_time": "2022-03-07T08:22:15.287Z"
   },
   {
    "duration": 23,
    "start_time": "2022-03-07T08:22:15.341Z"
   },
   {
    "duration": 10,
    "start_time": "2022-03-07T08:22:15.366Z"
   },
   {
    "duration": 14,
    "start_time": "2022-03-07T08:22:15.378Z"
   },
   {
    "duration": 5146,
    "start_time": "2022-03-07T08:22:15.394Z"
   },
   {
    "duration": 20,
    "start_time": "2022-03-07T08:22:20.543Z"
   },
   {
    "duration": 24,
    "start_time": "2022-03-07T08:22:20.566Z"
   },
   {
    "duration": 42,
    "start_time": "2022-03-07T08:22:20.593Z"
   },
   {
    "duration": 17,
    "start_time": "2022-03-07T08:22:20.637Z"
   },
   {
    "duration": 16,
    "start_time": "2022-03-07T08:22:20.656Z"
   },
   {
    "duration": 17,
    "start_time": "2022-03-07T08:22:20.675Z"
   },
   {
    "duration": 42,
    "start_time": "2022-03-07T08:22:20.733Z"
   },
   {
    "duration": 61,
    "start_time": "2022-03-07T08:22:20.777Z"
   },
   {
    "duration": 44,
    "start_time": "2022-03-07T08:22:20.841Z"
   },
   {
    "duration": 70,
    "start_time": "2022-03-07T08:22:20.887Z"
   },
   {
    "duration": 832,
    "start_time": "2022-03-07T08:27:13.229Z"
   },
   {
    "duration": 27,
    "start_time": "2022-03-07T08:27:14.063Z"
   },
   {
    "duration": 7,
    "start_time": "2022-03-07T08:27:14.092Z"
   },
   {
    "duration": 33,
    "start_time": "2022-03-07T08:27:14.101Z"
   },
   {
    "duration": 44,
    "start_time": "2022-03-07T08:27:14.136Z"
   },
   {
    "duration": 11,
    "start_time": "2022-03-07T08:27:14.182Z"
   },
   {
    "duration": 41,
    "start_time": "2022-03-07T08:27:14.196Z"
   },
   {
    "duration": 610,
    "start_time": "2022-03-07T08:27:14.241Z"
   },
   {
    "duration": 5,
    "start_time": "2022-03-07T08:27:14.855Z"
   },
   {
    "duration": 18,
    "start_time": "2022-03-07T08:27:14.863Z"
   },
   {
    "duration": 13,
    "start_time": "2022-03-07T08:27:14.883Z"
   },
   {
    "duration": 37,
    "start_time": "2022-03-07T08:27:14.898Z"
   },
   {
    "duration": 654,
    "start_time": "2022-03-07T08:27:14.938Z"
   },
   {
    "duration": 12,
    "start_time": "2022-03-07T08:27:15.594Z"
   },
   {
    "duration": 9,
    "start_time": "2022-03-07T08:27:15.609Z"
   },
   {
    "duration": 12,
    "start_time": "2022-03-07T08:27:15.620Z"
   },
   {
    "duration": 10,
    "start_time": "2022-03-07T08:27:15.634Z"
   },
   {
    "duration": 8,
    "start_time": "2022-03-07T08:27:15.647Z"
   },
   {
    "duration": 10,
    "start_time": "2022-03-07T08:27:15.657Z"
   },
   {
    "duration": 10,
    "start_time": "2022-03-07T08:27:15.670Z"
   },
   {
    "duration": 15,
    "start_time": "2022-03-07T08:27:15.682Z"
   },
   {
    "duration": 5,
    "start_time": "2022-03-07T08:27:15.700Z"
   },
   {
    "duration": 26,
    "start_time": "2022-03-07T08:27:15.710Z"
   },
   {
    "duration": 9,
    "start_time": "2022-03-07T08:27:15.739Z"
   },
   {
    "duration": 28,
    "start_time": "2022-03-07T08:27:15.750Z"
   },
   {
    "duration": 13,
    "start_time": "2022-03-07T08:27:15.781Z"
   },
   {
    "duration": 27,
    "start_time": "2022-03-07T08:27:15.796Z"
   },
   {
    "duration": 25,
    "start_time": "2022-03-07T08:27:15.832Z"
   },
   {
    "duration": 21,
    "start_time": "2022-03-07T08:27:15.859Z"
   },
   {
    "duration": 10,
    "start_time": "2022-03-07T08:27:15.882Z"
   },
   {
    "duration": 23,
    "start_time": "2022-03-07T08:27:15.894Z"
   },
   {
    "duration": 5715,
    "start_time": "2022-03-07T08:27:15.919Z"
   },
   {
    "duration": 20,
    "start_time": "2022-03-07T08:27:21.637Z"
   },
   {
    "duration": 42,
    "start_time": "2022-03-07T08:27:21.659Z"
   },
   {
    "duration": 35,
    "start_time": "2022-03-07T08:27:21.704Z"
   },
   {
    "duration": 21,
    "start_time": "2022-03-07T08:27:21.742Z"
   },
   {
    "duration": 23,
    "start_time": "2022-03-07T08:27:21.766Z"
   },
   {
    "duration": 56,
    "start_time": "2022-03-07T08:27:21.792Z"
   },
   {
    "duration": 41,
    "start_time": "2022-03-07T08:27:21.852Z"
   },
   {
    "duration": 72,
    "start_time": "2022-03-07T08:27:21.896Z"
   },
   {
    "duration": 69,
    "start_time": "2022-03-07T08:27:21.971Z"
   },
   {
    "duration": 39,
    "start_time": "2022-03-07T08:27:22.042Z"
   },
   {
    "duration": 10554,
    "start_time": "2022-03-07T08:32:05.638Z"
   },
   {
    "duration": 11672,
    "start_time": "2022-03-07T08:33:12.060Z"
   },
   {
    "duration": 17475,
    "start_time": "2022-03-07T08:33:57.366Z"
   },
   {
    "duration": 4207,
    "start_time": "2022-03-07T08:35:03.364Z"
   },
   {
    "duration": 855,
    "start_time": "2022-03-07T08:43:50.524Z"
   },
   {
    "duration": 26,
    "start_time": "2022-03-07T08:43:51.382Z"
   },
   {
    "duration": 7,
    "start_time": "2022-03-07T08:43:51.411Z"
   },
   {
    "duration": 16,
    "start_time": "2022-03-07T08:43:51.434Z"
   },
   {
    "duration": 48,
    "start_time": "2022-03-07T08:43:51.452Z"
   },
   {
    "duration": 13,
    "start_time": "2022-03-07T08:43:51.533Z"
   },
   {
    "duration": 17,
    "start_time": "2022-03-07T08:43:51.548Z"
   },
   {
    "duration": 637,
    "start_time": "2022-03-07T08:43:51.568Z"
   },
   {
    "duration": 5,
    "start_time": "2022-03-07T08:43:52.208Z"
   },
   {
    "duration": 28,
    "start_time": "2022-03-07T08:43:52.215Z"
   },
   {
    "duration": 14,
    "start_time": "2022-03-07T08:43:52.245Z"
   },
   {
    "duration": 9,
    "start_time": "2022-03-07T08:43:52.261Z"
   },
   {
    "duration": 630,
    "start_time": "2022-03-07T08:43:52.272Z"
   },
   {
    "duration": 12,
    "start_time": "2022-03-07T08:43:52.904Z"
   },
   {
    "duration": 23,
    "start_time": "2022-03-07T08:43:52.918Z"
   },
   {
    "duration": 7,
    "start_time": "2022-03-07T08:43:52.943Z"
   },
   {
    "duration": 11,
    "start_time": "2022-03-07T08:43:52.953Z"
   },
   {
    "duration": 9,
    "start_time": "2022-03-07T08:43:52.966Z"
   },
   {
    "duration": 56,
    "start_time": "2022-03-07T08:43:52.978Z"
   },
   {
    "duration": 14,
    "start_time": "2022-03-07T08:43:53.037Z"
   },
   {
    "duration": 20,
    "start_time": "2022-03-07T08:43:53.054Z"
   },
   {
    "duration": 7,
    "start_time": "2022-03-07T08:43:53.077Z"
   },
   {
    "duration": 58,
    "start_time": "2022-03-07T08:43:53.092Z"
   },
   {
    "duration": 14,
    "start_time": "2022-03-07T08:43:53.154Z"
   },
   {
    "duration": 62,
    "start_time": "2022-03-07T08:43:53.170Z"
   },
   {
    "duration": 11,
    "start_time": "2022-03-07T08:43:53.235Z"
   },
   {
    "duration": 27,
    "start_time": "2022-03-07T08:43:53.249Z"
   },
   {
    "duration": 57,
    "start_time": "2022-03-07T08:43:53.279Z"
   },
   {
    "duration": 22,
    "start_time": "2022-03-07T08:43:53.339Z"
   },
   {
    "duration": 9,
    "start_time": "2022-03-07T08:43:53.364Z"
   },
   {
    "duration": 13,
    "start_time": "2022-03-07T08:43:53.375Z"
   },
   {
    "duration": 5390,
    "start_time": "2022-03-07T08:43:53.390Z"
   },
   {
    "duration": 19,
    "start_time": "2022-03-07T08:43:58.782Z"
   },
   {
    "duration": 43,
    "start_time": "2022-03-07T08:43:58.803Z"
   },
   {
    "duration": 12,
    "start_time": "2022-03-07T08:43:58.848Z"
   },
   {
    "duration": 14,
    "start_time": "2022-03-07T08:43:58.862Z"
   },
   {
    "duration": 57,
    "start_time": "2022-03-07T08:43:58.878Z"
   },
   {
    "duration": 17,
    "start_time": "2022-03-07T08:43:58.937Z"
   },
   {
    "duration": 41,
    "start_time": "2022-03-07T08:43:58.956Z"
   },
   {
    "duration": 73,
    "start_time": "2022-03-07T08:43:58.999Z"
   },
   {
    "duration": 74,
    "start_time": "2022-03-07T08:43:59.074Z"
   },
   {
    "duration": 39,
    "start_time": "2022-03-07T08:43:59.150Z"
   }
  ],
  "kernelspec": {
   "display_name": "Python 3",
   "language": "python",
   "name": "python3"
  },
  "language_info": {
   "codemirror_mode": {
    "name": "ipython",
    "version": 3
   },
   "file_extension": ".py",
   "mimetype": "text/x-python",
   "name": "python",
   "nbconvert_exporter": "python",
   "pygments_lexer": "ipython3",
   "version": "3.10.2"
  },
  "toc": {
   "base_numbering": 1,
   "nav_menu": {
    "height": "139px",
    "width": "160px"
   },
   "number_sections": true,
   "sideBar": true,
   "skip_h1_title": true,
   "title_cell": "Содержание",
   "title_sidebar": "Contents",
   "toc_cell": true,
   "toc_position": {},
   "toc_section_display": true,
   "toc_window_display": true
  }
 },
 "nbformat": 4,
 "nbformat_minor": 2
}
